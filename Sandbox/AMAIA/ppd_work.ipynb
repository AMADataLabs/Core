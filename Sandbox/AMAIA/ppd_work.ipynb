{
 "cells": [
  {
   "cell_type": "code",
   "execution_count": 53,
   "metadata": {},
   "outputs": [],
   "source": [
    "#Import dependencies\n",
    "\n",
    "import pandas as pd\n",
    "import os\n",
    "import statistics\n",
    "import numpy as np\n",
    "import pgeocode"
   ]
  },
  {
   "cell_type": "code",
   "execution_count": 56,
   "metadata": {},
   "outputs": [],
   "source": [
    "#Define path to PPD\n",
    "\n",
    "path = \"..\\PhysicianProfessionalDataFile_20190826_105342714\""
   ]
  },
  {
   "cell_type": "code",
   "execution_count": 58,
   "metadata": {},
   "outputs": [],
   "source": [
    "#Name columns\n",
    "\n",
    "cols = [\n",
    "        'ME',\n",
    "        'RECORD_ID',\n",
    "        'UPDATE_TYPE',\n",
    "        'ADDRESS_TYPE',\n",
    "        'MAILING_NAME',\n",
    "        'LAST_NAME',\n",
    "        'FIRST_NAME',\n",
    "        'MIDDLE_NAME',\n",
    "        'SUFFIX',\n",
    "        'MAILING_LINE_1',\n",
    "        'MAILING_LINE_2',\n",
    "        'CITY',\n",
    "        'STATE',\n",
    "        'ZIP',\n",
    "        'SECTOR',\n",
    "        'CARRIER_ROUTE',\n",
    "        'ADDRESS_UNDELIVERABLE_FLAG',\n",
    "        'FIPS_COUNTY',\n",
    "        'FIPS_STATE',\n",
    "        'PRINTER_CONTROL_CODE',\n",
    "        'PC_ZIP',\n",
    "        'PC_SECTOR',\n",
    "        'DELIVERY_POINT_CODE',\n",
    "        'CHECK_DIGIT',\n",
    "        'PRINTER_CONTROL_CODE_2',\n",
    "        'REGION',\n",
    "        'DIVISION',\n",
    "        'GROUP',\n",
    "        'TRACT',\n",
    "        'SUFFIX_CENSUS',\n",
    "        'BLOCK_GROUP',\n",
    "        'MSA_POPULATION_SIZE',\n",
    "        'MICRO_METRO_IND',\n",
    "        'CBSA',\n",
    "        'CBSA_DIV_IND',\n",
    "        'MD_DO_CODE',\n",
    "        'BIRTH_YEAR',\n",
    "        'BIRTH_CITY',\n",
    "        'BIRTH_STATE',\n",
    "        'BIRTH_COUNTRY',\n",
    "        'GENDER',\n",
    "        'TELEPHONE_NUMBER',\n",
    "        'PRESUMED_DEAD_FLAG',\n",
    "        'FAX_NUMBER',\n",
    "        'TOP_CD',\n",
    "        'PE_CD',\n",
    "        'PRIM_SPEC_CD',\n",
    "        'SEC_SPEC_CD',\n",
    "        'MPA_CD',\n",
    "        'PRA_RECIPIENT',\n",
    "        'PRA_EXP_DT',\n",
    "        'GME_CONF_FLG',\n",
    "        'FROM_DT',\n",
    "        'TO_DT',\n",
    "        'YEAR_IN_PROGRAM',\n",
    "        'POST_GRADUATE_YEAR',\n",
    "        'GME_SPEC_1',\n",
    "        'GME_SPEC_2',\n",
    "        'TRAINING_TYPE',\n",
    "        'GME_INST_STATE',\n",
    "        'GME_INST_ID',\n",
    "        'MEDSCHOOL_STATE',\n",
    "        'MEDSCHOOL_ID',\n",
    "        'MEDSCHOOL_GRAD_YEAR',\n",
    "        'NO_CONTACT_IND',\n",
    "        'NO_WEB_FLAG',\n",
    "        'PDRP_FLAG',\n",
    "        'PDRP_START_DT',\n",
    "        'POLO_MAILING_LINE_1',\n",
    "        'POLO_MAILING_LINE_2',\n",
    "        'POLO_CITY',\n",
    "        'POLO_STATE',\n",
    "        'POLO_ZIP',\n",
    "        'POLO_SECTOR',\n",
    "        'POLO_CARRIER_ROUTE',\n",
    "        'MOST_RECENT_FORMER_LAST_NAME',\n",
    "        'MOST_RECENT_FORMER_MIDDLE_NAME',\n",
    "        'MOST_RECENT_FORMER_FIRST_NAME',\n",
    "        'NEXT_MOST_RECENT_FORMER_LAST',\n",
    "        'NEXT_MOST_RECENT_FORMER_MIDDLE',\n",
    "        'NEXT_MOST_RECENT_FORMER_FIRST'\n",
    "    ]"
   ]
  },
  {
   "cell_type": "code",
   "execution_count": 59,
   "metadata": {},
   "outputs": [],
   "source": [
    "#Read ppd into dataframe\n",
    "\n",
    "ppd = pd.read_csv(path, names=cols, sep='|', encoding='IBM437', index_col=False, dtype=object)"
   ]
  },
  {
   "cell_type": "code",
   "execution_count": 126,
   "metadata": {},
   "outputs": [],
   "source": [
    "#Read insurance address updates into dataframe\n",
    "\n",
    "insurance = pd.read_csv(\"address_updates_2019_dates.csv\")"
   ]
  },
  {
   "cell_type": "code",
   "execution_count": 134,
   "metadata": {},
   "outputs": [],
   "source": [
    "#Merge ppd and insurance data\n",
    "\n",
    "giant_merged = pd.merge(insurance.astype('str'), ppd, on='ME', suffixes=(\"_insurance\", \"ppd\"))"
   ]
  },
  {
   "cell_type": "code",
   "execution_count": 138,
   "metadata": {},
   "outputs": [],
   "source": [
    "#Write dict from line of dataframe:\n",
    "def make_new_line(row):\n",
    "    new_dict = {}\n",
    "    new_dict['ME']=row.ME\n",
    "    new_dict['ADDR']=row.ADDR_1\n",
    "    new_dict['CITY']=row.CITY_insurance.replace(\"  \", \"\")\n",
    "    new_dict['STATE']=row.STATE_CD\n",
    "    new_dict['ZIP']=row.ZIP_insurance\n",
    "                            \n",
    "    new_dict['ADDR_office']=row.MAILING_LINE_2\n",
    "    new_dict['CITY_office']=row.CITYppd.replace(\"  \", \"\")\n",
    "    new_dict['STATE_office']=row.STATE\n",
    "    new_dict['ZIP_office']=row.ZIPppd\n",
    "                            \n",
    "    new_dict['ADDR_mailing']=row.POLO_MAILING_LINE_2\n",
    "    new_dict['CITY_mailing']=row.POLO_CITY.replace(\"  \", \"\")\n",
    "    new_dict['STATE_mailing']=row.POLO_STATE\n",
    "    new_dict['ZIP_mailing']=row.POLO_ZIP\n",
    "    new_dict['NAME']=str(row.FIRST_NAME) + \" \" + str(row.LAST_NAME)\n",
    "\n",
    "    return(new_dict)"
   ]
  },
  {
   "cell_type": "code",
   "execution_count": 178,
   "metadata": {},
   "outputs": [],
   "source": [
    "#Count all the address differences and write results to dataframes:\n",
    "def get_differences_summary(df):\n",
    "    \n",
    "    office_add = 0\n",
    "    mailing_add = 0\n",
    "    both_add = 0\n",
    "    office_zip = 0\n",
    "    mailing_zip = 0\n",
    "    both_zip = 0\n",
    "    office_city = 0\n",
    "    mailing_city = 0\n",
    "    both_city = 0\n",
    "    office_state = 0\n",
    "    mailing_state = 0\n",
    "    both_state = 0\n",
    "    \n",
    "    total=df.shape[0]\n",
    "    \n",
    "    dict_list = []\n",
    "    \n",
    "    for row in df.itertuples():\n",
    "        ma = oa = mz = oz = oc = mc = os = ms = False\n",
    "        if str(row.ADDR_1).lower() != str(row.MAILING_LINE_2).lower():\n",
    "            mailing_add += 1\n",
    "            ma=True\n",
    "        if str(row.ADDR_1).lower() != str(row.POLO_MAILING_LINE_2).lower():\n",
    "            office_add += 1\n",
    "            oa=True\n",
    "        if ma and oa == True:\n",
    "            both_add += 1\n",
    "        if row.ZIP_insurance!= row.ZIPppd:\n",
    "            mailing_zip += 1\n",
    "            mz = True\n",
    "        if row.ZIP_insurance!= row.POLO_ZIP:\n",
    "            office_zip += 1\n",
    "            oz = True\n",
    "        if mz and oz == True:\n",
    "            both_zip += 1\n",
    "        if str(row.CITY_insurance).lower().replace(\"  \", \"\") != str(row.CITYppd).lower().replace(\"  \", \"\"):\n",
    "            mailing_city += 1\n",
    "            mc = True\n",
    "        if str(row.CITY_insurance).lower().replace(\"  \", \"\") != str(row.POLO_CITY).lower().replace(\"  \", \"\"):\n",
    "            office_city += 1\n",
    "            oc = True\n",
    "        if mc and oc == True:\n",
    "            both_city += 1\n",
    "        if row.STATE_CD != row.STATE:\n",
    "            mailing_state += 1\n",
    "            ms = True\n",
    "        if row.STATE_CD != row.POLO_STATE:\n",
    "            office_state += 1  \n",
    "            os = True\n",
    "        if ms and os == True:\n",
    "            both_state += 1\n",
    "        if ma and oa and mz and oz and oc and mc and os and ms == True:\n",
    "            new_dict = make_new_line(row)\n",
    "            dict_list.append(new_dict)\n",
    "    summary_dictionary = [\n",
    "        {\n",
    "         \"Mailing\": mailing_add, \n",
    "         \"Office\": office_add,\n",
    "         \"Both\": both_add},\n",
    "        {\n",
    "        \"Mailing\": mailing_zip,\n",
    "        \"Office\": office_zip,\n",
    "        \"Both\": both_zip},\n",
    "        {\n",
    "        \"Mailing\": mailing_city,\n",
    "        \"Office\": office_city,\n",
    "        \"Both\": both_city},\n",
    "        {\n",
    "         \"Mailing\": mailing_state,\n",
    "        \"Office\": office_state,\n",
    "        \"Both\": both_state}\n",
    "    ]\n",
    "    summary=pd.DataFrame(summary_dictionary, index =[\"Address\", \"Zipcode\", \"City\", \"State\"])\n",
    "    differences = pd.DataFrame(dict_list)\n",
    "    return(differences, summary, total)"
   ]
  },
  {
   "cell_type": "code",
   "execution_count": 179,
   "metadata": {},
   "outputs": [],
   "source": [
    "#Run function on merged dataframe\n",
    "MISMATCHES, summary_df, total = get_differences_summary(giant_merged)"
   ]
  },
  {
   "cell_type": "code",
   "execution_count": 180,
   "metadata": {},
   "outputs": [
    {
     "data": {
      "text/html": [
       "<div>\n",
       "<style scoped>\n",
       "    .dataframe tbody tr th:only-of-type {\n",
       "        vertical-align: middle;\n",
       "    }\n",
       "\n",
       "    .dataframe tbody tr th {\n",
       "        vertical-align: top;\n",
       "    }\n",
       "\n",
       "    .dataframe thead th {\n",
       "        text-align: right;\n",
       "    }\n",
       "</style>\n",
       "<table border=\"1\" class=\"dataframe\">\n",
       "  <thead>\n",
       "    <tr style=\"text-align: right;\">\n",
       "      <th></th>\n",
       "      <th>Both</th>\n",
       "      <th>Mailing</th>\n",
       "      <th>Office</th>\n",
       "    </tr>\n",
       "  </thead>\n",
       "  <tbody>\n",
       "    <tr>\n",
       "      <th>Address</th>\n",
       "      <td>64.682161</td>\n",
       "      <td>79.437458</td>\n",
       "      <td>75.846657</td>\n",
       "    </tr>\n",
       "    <tr>\n",
       "      <th>Zipcode</th>\n",
       "      <td>50.615566</td>\n",
       "      <td>66.857973</td>\n",
       "      <td>64.416025</td>\n",
       "    </tr>\n",
       "    <tr>\n",
       "      <th>City</th>\n",
       "      <td>56.046970</td>\n",
       "      <td>66.259675</td>\n",
       "      <td>66.177397</td>\n",
       "    </tr>\n",
       "    <tr>\n",
       "      <th>State</th>\n",
       "      <td>20.692562</td>\n",
       "      <td>22.582939</td>\n",
       "      <td>33.802288</td>\n",
       "    </tr>\n",
       "  </tbody>\n",
       "</table>\n",
       "</div>"
      ],
      "text/plain": [
       "              Both    Mailing     Office\n",
       "Address  64.682161  79.437458  75.846657\n",
       "Zipcode  50.615566  66.857973  64.416025\n",
       "City     56.046970  66.259675  66.177397\n",
       "State    20.692562  22.582939  33.802288"
      ]
     },
     "execution_count": 180,
     "metadata": {},
     "output_type": "execute_result"
    }
   ],
   "source": [
    "#Get percentages\n",
    "summary_df.apply(lambda x: x/total*100)"
   ]
  },
  {
   "cell_type": "code",
   "execution_count": 108,
   "metadata": {},
   "outputs": [],
   "source": [
    "#Define function to get distances between zipcodes in dataframe\n",
    "def get_zip_distances(df, zip_type):    \n",
    "    distances = []\n",
    "    TOTAL = df.shape[0]\n",
    "    print(TOTAL)\n",
    "    count =0\n",
    "    DIST=pgeocode.GeoDistance('US')\n",
    "    dict_list = []\n",
    "    num_list =[]\n",
    "    for row in df.itertuples():\n",
    "        new_dict={}\n",
    "        new_dict[\"ME\"]=row.ME\n",
    "        count += 1\n",
    "        if int(count/TOTAL*100) in [10,20,30,40,50,60,70,80,90] and int(count/TOTAL*100) not in num_list:\n",
    "            num_list.append(int(count/TOTAL*100))\n",
    "            print (f'{int(count/TOTAL*100)}% done!')\n",
    "        try:\n",
    "            if zip_type == 'ppma':\n",
    "            elif zip_type == 'polo'\n",
    "            elif zip_type=='office':\n",
    "                mf = int(row.ZIP_mailing)\n",
    "            else:\n",
    "                mf = int(row.ZIP_office)\n",
    "            ins = int(row.ZIP)\n",
    "        except:\n",
    "            mf='nan'\n",
    "            ins='nan'\n",
    "    #     print(f'{mf} {ins}')\n",
    "        try:\n",
    "            ZIP_distance = DIST.query_postal_code(mf, ins)*0.621371\n",
    "    #         print(ZIP_distance)\n",
    "            if np.isnan(ZIP_distance)==False:\n",
    "                distances.append(ZIP_distance)\n",
    "        except:\n",
    "            ZIP_distance = 'nan'\n",
    "        new_dict['ZIP_distance']=ZIP_distance\n",
    "        dict_list.append(new_dict)\n",
    "    # print(distances2)\n",
    "    avg = sum(distances)/len(distances)\n",
    "    print(f'Average distance between insurance and {zip_type} addressses is {avg} miles.')\n",
    "    return(dict_list, distances)"
   ]
  },
  {
   "cell_type": "code",
   "execution_count": 109,
   "metadata": {},
   "outputs": [
    {
     "name": "stdout",
     "output_type": "stream",
     "text": [
      "5\n",
      "20% done!\n",
      "40% done!\n",
      "60% done!\n",
      "80% done!\n",
      "Average distance between insurance and mailing addressses is 522.391564460491 miles.\n"
     ]
    },
    {
     "data": {
      "text/plain": [
       "([{'ME': 56601860185, 'ZIP_distance': 991.7332892788583},\n",
       "  {'ME': 40921080028, 'ZIP_distance': 421.0830430632709},\n",
       "  {'ME': 70402120086, 'ZIP_distance': 507.7425881957216},\n",
       "  {'ME': 42201136452, 'ZIP_distance': 178.27651522089172},\n",
       "  {'ME': 60501060367, 'ZIP_distance': 513.1223865437134}],\n",
       " [991.7332892788583,\n",
       "  421.0830430632709,\n",
       "  507.7425881957216,\n",
       "  178.27651522089172,\n",
       "  513.1223865437134])"
      ]
     },
     "execution_count": 109,
     "metadata": {},
     "output_type": "execute_result"
    }
   ],
   "source": [
    "#Get distances for mailing addresses\n",
    "get_zip_distances(MISMATCHES, \"mailing\")"
   ]
  },
  {
   "cell_type": "code",
   "execution_count": 22,
   "metadata": {},
   "outputs": [
    {
     "data": {
      "text/plain": [
       "898.0105076280563"
      ]
     },
     "execution_count": 22,
     "metadata": {},
     "output_type": "execute_result"
    }
   ],
   "source": [
    "#Print mailing average distance\n",
    "avg1"
   ]
  },
  {
   "cell_type": "code",
   "execution_count": 23,
   "metadata": {},
   "outputs": [
    {
     "data": {
      "text/plain": [
       "880.4454576399766"
      ]
     },
     "execution_count": 23,
     "metadata": {},
     "output_type": "execute_result"
    }
   ],
   "source": [
    "#Print office average distance\n",
    "avg2"
   ]
  },
  {
   "cell_type": "code",
   "execution_count": 30,
   "metadata": {},
   "outputs": [
    {
     "data": {
      "text/plain": [
       "715.6965555238103"
      ]
     },
     "execution_count": 30,
     "metadata": {},
     "output_type": "execute_result"
    }
   ],
   "source": [
    "#Print office median\n",
    "statistics.median(distances1)"
   ]
  },
  {
   "cell_type": "code",
   "execution_count": 36,
   "metadata": {},
   "outputs": [],
   "source": [
    "#Merge office and mailing zip distance dataframes\n",
    "office = pd.DataFrame(dict_list1)\n",
    "mailing = pd.DataFrame(dict_list2)\n",
    "zip_distances = pd.merge(office, mailing, on='ME', suffixes=('_office', \"_mailing\"))"
   ]
  },
  {
   "cell_type": "code",
   "execution_count": 38,
   "metadata": {},
   "outputs": [],
   "source": [
    "#Put distances in mismatch dataframe\n",
    "MISMATCH_DISTANCES = pd.merge(MISMATCHES, zip_distances, on='ME')"
   ]
  },
  {
   "cell_type": "code",
   "execution_count": 43,
   "metadata": {},
   "outputs": [
    {
     "data": {
      "text/plain": [
       "ME              4.964208e+10\n",
       "ZIP_distance    6.885383e+02\n",
       "dtype: float64"
      ]
     },
     "execution_count": 43,
     "metadata": {},
     "output_type": "execute_result"
    }
   ],
   "source": [
    "#Print mailing median\n",
    "mailing.median(skipna=True)"
   ]
  },
  {
   "cell_type": "code",
   "execution_count": 203,
   "metadata": {},
   "outputs": [],
   "source": [
    "#Define function to bucket distances:\n",
    "def bucket_zip_distances(df, column_name):\n",
    "    bins=[0,50,100,150,200,250,300,350,400,450,500,550,600,10000]\n",
    "    labels = [\"<50\", \"50-100\", \"100-150\", \"150-200\",\"200-250\",\"250-300\",\"300-350\",\"350-400\",\"400-450\",\"450-500\", \"500-550\",\"550-600\", \">600\"]\n",
    "    new_column_name = column_name + \"_bins\"\n",
    "    df[new_column_name]=pd.cut(df[column_name], bins=bins, labels=labels)\n",
    "    buckets = df[[new_column_name, column_name]].groupby(new_column_name).count()\n",
    "    return(buckets)"
   ]
  },
  {
   "cell_type": "code",
   "execution_count": 193,
   "metadata": {},
   "outputs": [],
   "source": [
    "#Leave only rows where zip distance is greater than 200 miles\n",
    "far_places = MISMATCH_DISTANCES[MISMATCH_DISTANCES.ZIP_distance_mailing>200]\n",
    "far_places = far_places[far_places.ZIP_distance_office>200]"
   ]
  },
  {
   "cell_type": "code",
   "execution_count": 197,
   "metadata": {},
   "outputs": [
    {
     "data": {
      "text/plain": [
       "9.731223208662618"
      ]
     },
     "execution_count": 197,
     "metadata": {},
     "output_type": "execute_result"
    }
   ],
   "source": [
    "#Get percentage of total\n",
    "far_places.shape[0]/giant_merged.shape[0]*100"
   ]
  }
 ],
 "metadata": {
  "kernelspec": {
   "display_name": "Python 3",
   "language": "python",
   "name": "python3"
  },
  "language_info": {
   "codemirror_mode": {
    "name": "ipython",
    "version": 3
   },
   "file_extension": ".py",
   "mimetype": "text/x-python",
   "name": "python",
   "nbconvert_exporter": "python",
   "pygments_lexer": "ipython3",
   "version": "3.7.4"
  }
 },
 "nbformat": 4,
 "nbformat_minor": 2
}
