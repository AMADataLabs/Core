{
 "cells": [
  {
   "cell_type": "markdown",
   "metadata": {},
   "source": [
    "Import packages required"
   ]
  },
  {
   "cell_type": "code",
   "execution_count": 1,
   "metadata": {},
   "outputs": [],
   "source": [
    "%load_ext autoreload\n",
    "%autoreload 2"
   ]
  },
  {
   "cell_type": "code",
   "execution_count": 2,
   "metadata": {},
   "outputs": [],
   "source": [
    "import numpy as np\n",
    "import pandas as pd\n",
    "import math\n",
    "import matplotlib.pyplot as plt\n",
    "import pylab as pl\n",
    "import datetime\n",
    "from sklearn.model_selection import train_test_split\n",
    "from shutil import copyfile\n"
   ]
  },
  {
   "cell_type": "code",
   "execution_count": 3,
   "metadata": {},
   "outputs": [],
   "source": [
    "import os\n",
    "import sys\n",
    "import tkinter as tk\n",
    "from tkinter import filedialog\n",
    "\n",
    "import settings\n",
    "from process_model_data import convert_data_types, create_new_phone_vars, clean_model_data, create_explore_plots\n",
    "from create_phone_model_input_data import create_model_initial_data\n",
    "\n"
   ]
  },
  {
   "cell_type": "code",
   "execution_count": 4,
   "metadata": {},
   "outputs": [],
   "source": [
    "from get_input_date_range import get_input_date_range\n",
    "import datalabs.curate.dataframe as df\n"
   ]
  },
  {
   "cell_type": "markdown",
   "metadata": {},
   "source": [
    "Suppress warnings that do not affect execution"
   ]
  },
  {
   "cell_type": "code",
   "execution_count": 5,
   "metadata": {},
   "outputs": [],
   "source": [
    "import warnings, sklearn.exceptions\n",
    "warnings.filterwarnings(\"ignore\")\n",
    "\n",
    "pd.options.mode.chained_assignment = None\n"
   ]
  },
  {
   "cell_type": "markdown",
   "metadata": {},
   "source": [
    "# ------------------------------ Define Common Functions ---------------------------------------"
   ]
  },
  {
   "cell_type": "code",
   "execution_count": 6,
   "metadata": {},
   "outputs": [],
   "source": [
    "def get_target_dist(data_df, target_var_name):\n",
    "    num_target_0 = sum(data_df.disconnect == 0)\n",
    "    num_target_1 = sum(data_df.disconnect == 1)\n",
    "    perc_target_0 = num_target_0/(num_target_0 + num_target_1)\n",
    "    perc_target_1 = num_target_1/(num_target_0 + num_target_1)\n",
    "\n",
    "    print('Number of {} 0: {}'.format(target_var_name, num_target_0))\n",
    "    print('Number of {} 1: {}'.format(target_var_name, num_target_1))\n",
    "    print('Percent of {} with value 0: {}'.format(target_var_name, perc_target_0))\n",
    "    print('Percent of {} with value 1: {}'.format(target_var_name, perc_target_1))"
   ]
  },
  {
   "cell_type": "markdown",
   "metadata": {},
   "source": [
    "# ------------------------------ Assign Common Variables ----------------------------------------"
   ]
  },
  {
   "cell_type": "markdown",
   "metadata": {},
   "source": [
    "Get paths required"
   ]
  },
  {
   "cell_type": "code",
   "execution_count": 7,
   "metadata": {},
   "outputs": [],
   "source": [
    "# Get files needed\n",
    "ddb_info_file = filedialog.askopenfilename(initialdir = \"C:\\\\\",\n",
    "                                         title = \"Choose txt file with database login information...\")\n",
    "\n",
    "init_wslive_dir = 'U:\\\\Source Files\\\\Data Analytics\\\\Data-Science\\\\Data\\\\WSLive\\\\'\n",
    "wslive_results_file = filedialog.askopenfilename(initialdir = init_wslive_dir,\n",
    "                                         title = \"Choose wslive file with results encoded...\")\n",
    "\n",
    "init_ppd_dir = 'U:\\\\Source Files\\\\Data Analytics\\\\Data-Science\\\\Data\\\\PPD\\\\'\n",
    "ppd_file = filedialog.askopenfilename(initialdir = init_ppd_dir,\n",
    "                                         title = \"Choose PPD file used for the wslive file chosen...\")\n",
    "\n",
    "init_save_path = 'U:\\\\Source Files\\\\Data Analytics\\\\Data-Science\\\\Data\\\\Phone_Disconnect_Model\\\\'\n",
    "base_save_path = filedialog.askdirectory(initialdir = init_save_path,\n",
    "                                         title = \"Choose base save directory...\")\n",
    "base_save_path = base_save_path.replace(\"/\", \"\\\\\")\n",
    "base_save_path += \"\\\\\"\n"
   ]
  },
  {
   "cell_type": "markdown",
   "metadata": {},
   "source": [
    "Define variables needed throughout code"
   ]
  },
  {
   "cell_type": "code",
   "execution_count": 106,
   "metadata": {},
   "outputs": [],
   "source": [
    "model_vars = ['disconnect', 'lic_state_match', 'pcp', 'ent_comm_src_cat_code', 'phone_age_yrs', 'yop_yrs', \n",
    "             'doctor_age_yrs','ppd_address_type', 'ppd_region', 'ppd_division', 'ppd_group', \n",
    "             'ppd_msa_population_size', 'ppd_md_do_code', 'ppd_micro_metro_ind', 'ppd_gender', 'ppd_top_cd',  \n",
    "             'ppd_pe_cd', 'ppd_prim_spec_cd', 'ppd_polo_state', 'num_oldphones']\n",
    "\n",
    "info_vars = ['ppd_me', 'ppd_first_name', 'ppd_middle_name', 'ppd_last_name', 'ppd_suffix', \n",
    "             'ppd_polo_mailing_line_1', 'ppd_polo_mailing_line_2', 'ppd_polo_city', 'ppd_polo_state', 'ppd_polo_zip',\n",
    "             'ppd_telephone_number', 'ppd_prim_spec_cd', 'ppd_pe_cd', 'ppd_fax_number', \n",
    "             'PHONE_STATUS', 'COMMENTS']\n",
    "\n",
    "target_name = 'disconnect'\n",
    "file_base_name = 'PhoneDisconnectModel'\n",
    "\n",
    "\n",
    "rand_state = 45\n",
    "testing_size = 0.2\n"
   ]
  },
  {
   "cell_type": "markdown",
   "metadata": {},
   "source": [
    "Get current time and create string"
   ]
  },
  {
   "cell_type": "code",
   "execution_count": 9,
   "metadata": {},
   "outputs": [],
   "source": [
    "current_time = datetime.datetime.now()\n",
    "start_time_str = current_time.strftime(\"%Y-%m-%d\")"
   ]
  },
  {
   "cell_type": "markdown",
   "metadata": {},
   "source": [
    "Create model output directory based on date"
   ]
  },
  {
   "cell_type": "code",
   "execution_count": 10,
   "metadata": {},
   "outputs": [],
   "source": [
    "data_path = base_save_path + 'Data\\\\'\n",
    "\n",
    "if not os.path.exists(data_path):\n",
    "    os.mkdir(data_path)\n",
    "    \n",
    "data_save_path = data_path + start_time_str + '_Model_Data\\\\'\n",
    "\n",
    "if not os.path.exists(data_save_path):\n",
    "    os.mkdir(data_save_path)\n"
   ]
  },
  {
   "cell_type": "markdown",
   "metadata": {},
   "source": [
    "Create exploratory output directory based on date"
   ]
  },
  {
   "cell_type": "code",
   "execution_count": 11,
   "metadata": {},
   "outputs": [],
   "source": [
    "explore_path = data_save_path + 'Exploratory\\\\'\n",
    "\n",
    "if not os.path.exists(explore_path):\n",
    "    os.mkdir(explore_path)\n"
   ]
  },
  {
   "cell_type": "markdown",
   "metadata": {},
   "source": [
    "# ------------------------------- Import Data ------------------------------------------"
   ]
  },
  {
   "cell_type": "markdown",
   "metadata": {},
   "source": [
    "Get time frame of WSLive data to use"
   ]
  },
  {
   "cell_type": "code",
   "execution_count": 12,
   "metadata": {},
   "outputs": [
    {
     "name": "stdout",
     "output_type": "stream",
     "text": [
      "Enter starting year (4 digit format): 2019\n",
      "Enter starting month (numeric value, Jan = 1): 6\n",
      "Enter starting day (default = 1): \n",
      "Enter ending year (4 digit format): 2019\n",
      "Enter ending month (numeric value, Jan = 1): 7\n",
      "Enter ending day (default = last day of month): 25\n"
     ]
    }
   ],
   "source": [
    "start_date, end_date, date_range_str = get_input_date_range()"
   ]
  },
  {
   "cell_type": "markdown",
   "metadata": {},
   "source": [
    "Get WSLive data for time frame indicated"
   ]
  },
  {
   "cell_type": "code",
   "execution_count": 13,
   "metadata": {},
   "outputs": [],
   "source": [
    "# Read in wslive data\n",
    "wslive_results_df = pd.read_csv(wslive_results_file, delimiter = \",\", index_col = None, header = 0, dtype = str)\n",
    "wslive_results_df = df.rename_in_upper_case(wslive_results_df)\n"
   ]
  },
  {
   "cell_type": "code",
   "execution_count": 14,
   "metadata": {},
   "outputs": [],
   "source": [
    "# Get data for date range specified\n",
    "wslive_results_df['WSLIVE_FILE_DT'] = pd.to_datetime(wslive_results_df['WSLIVE_FILE_DT'])\n",
    "wslive_date_df = wslive_results_df[(wslive_results_df['WSLIVE_FILE_DT'] >= start_date) & \\\n",
    "                                  (wslive_results_df['WSLIVE_FILE_DT'] <= end_date)]\n"
   ]
  },
  {
   "cell_type": "code",
   "execution_count": 15,
   "metadata": {},
   "outputs": [],
   "source": [
    "# If source type for MF is a list so need to treat differently\n",
    "source_code = ['C', 'Z']\n",
    "wslive_source_df = wslive_date_df[wslive_date_df['SOURCE'].isin(source_code)]\n"
   ]
  },
  {
   "cell_type": "code",
   "execution_count": 16,
   "metadata": {},
   "outputs": [],
   "source": [
    "wslive_uniq_me_df = wslive_source_df.sort_values('WSLIVE_FILE_DT', \n",
    "                        ascending = False).groupby('PHYSICIAN_ME_NUMBER').first().reset_index()\n"
   ]
  },
  {
   "cell_type": "code",
   "execution_count": 17,
   "metadata": {},
   "outputs": [
    {
     "data": {
      "text/plain": [
       "(1978, 37)"
      ]
     },
     "execution_count": 17,
     "metadata": {},
     "output_type": "execute_result"
    }
   ],
   "source": [
    "wslive_discnx_df = wslive_uniq_me_df[wslive_uniq_me_df['COMMENTS'] == 'NOT IN SERVICE']\n",
    "wslive_discnx_df.shape"
   ]
  },
  {
   "cell_type": "code",
   "execution_count": 18,
   "metadata": {},
   "outputs": [
    {
     "data": {
      "text/plain": [
       "(56274, 37)"
      ]
     },
     "execution_count": 18,
     "metadata": {},
     "output_type": "execute_result"
    }
   ],
   "source": [
    "wslive_uniq_me_df.shape"
   ]
  },
  {
   "cell_type": "code",
   "execution_count": 19,
   "metadata": {},
   "outputs": [
    {
     "data": {
      "text/plain": [
       "(56983, 37)"
      ]
     },
     "execution_count": 19,
     "metadata": {},
     "output_type": "execute_result"
    }
   ],
   "source": [
    "wslive_source_df.shape"
   ]
  },
  {
   "cell_type": "markdown",
   "metadata": {},
   "source": [
    "Read in ppd data"
   ]
  },
  {
   "cell_type": "code",
   "execution_count": 20,
   "metadata": {},
   "outputs": [],
   "source": [
    "ppd_df = pd.read_csv(ppd_file, delimiter = \",\", index_col = None, header = 0, dtype = str)\n"
   ]
  },
  {
   "cell_type": "markdown",
   "metadata": {},
   "source": [
    "Get database login information"
   ]
  },
  {
   "cell_type": "markdown",
   "metadata": {},
   "source": [
    "Call function to pull required information from databases"
   ]
  },
  {
   "cell_type": "code",
   "execution_count": 63,
   "metadata": {},
   "outputs": [],
   "source": [
    "orig_db_data = create_model_initial_data(wslive_uniq_me_df, ppd_df, \n",
    "                                                         ddb_login_dict['AIMS']['username'], \n",
    "                                                         ddb_login_dict['AIMS']['password'])\n"
   ]
  },
  {
   "cell_type": "code",
   "execution_count": 64,
   "metadata": {},
   "outputs": [
    {
     "data": {
      "text/plain": [
       "(53379, 115)"
      ]
     },
     "execution_count": 64,
     "metadata": {},
     "output_type": "execute_result"
    }
   ],
   "source": [
    "orig_db_data.shape"
   ]
  },
  {
   "cell_type": "code",
   "execution_count": 65,
   "metadata": {},
   "outputs": [],
   "source": [
    "orig_unclean_data = orig_db_data[(orig_db_data['PHONE_STATUS'] == 'Confirmed') | (orig_db_data['PHONE_STATUS'] == 'Updated') | \\\n",
    "                        (orig_db_data['PHONE_STATUS'] == 'Known Bad')]"
   ]
  },
  {
   "cell_type": "code",
   "execution_count": 66,
   "metadata": {},
   "outputs": [
    {
     "data": {
      "text/plain": [
       "(27578, 115)"
      ]
     },
     "execution_count": 66,
     "metadata": {},
     "output_type": "execute_result"
    }
   ],
   "source": [
    "orig_unclean_data.shape"
   ]
  },
  {
   "cell_type": "code",
   "execution_count": 67,
   "metadata": {},
   "outputs": [
    {
     "data": {
      "text/plain": [
       "(1875, 115)"
      ]
     },
     "execution_count": 67,
     "metadata": {},
     "output_type": "execute_result"
    }
   ],
   "source": [
    "orig_discnx_df = orig_unclean_data[orig_unclean_data['COMMENTS'] == 'NOT IN SERVICE']\n",
    "orig_discnx_df.shape"
   ]
  },
  {
   "cell_type": "markdown",
   "metadata": {},
   "source": [
    "Set Jupyter so that all output is displayed (not abbreviated with ...)"
   ]
  },
  {
   "cell_type": "code",
   "execution_count": 68,
   "metadata": {},
   "outputs": [],
   "source": [
    "num_rows = orig_unclean_data.shape[0] + 1\n",
    "num_cols = orig_unclean_data.shape[1] + 1\n",
    "pd.set_option('max_rows', num_rows)\n",
    "pd.set_option('max_columns', num_cols)\n",
    "np.set_printoptions(threshold=np.inf)"
   ]
  },
  {
   "cell_type": "markdown",
   "metadata": {},
   "source": [
    "Display size of original dataset"
   ]
  },
  {
   "cell_type": "code",
   "execution_count": 69,
   "metadata": {},
   "outputs": [
    {
     "data": {
      "text/plain": [
       "(27578, 115)"
      ]
     },
     "execution_count": 69,
     "metadata": {},
     "output_type": "execute_result"
    }
   ],
   "source": [
    "orig_unclean_data.shape"
   ]
  },
  {
   "cell_type": "markdown",
   "metadata": {},
   "source": [
    "# ------------------------------- Convert Data ------------------------------------------"
   ]
  },
  {
   "cell_type": "markdown",
   "metadata": {},
   "source": [
    "Convert dataframe data types to correct ones"
   ]
  },
  {
   "cell_type": "code",
   "execution_count": 70,
   "metadata": {},
   "outputs": [],
   "source": [
    "orig_data = convert_data_types(orig_unclean_data)"
   ]
  },
  {
   "cell_type": "markdown",
   "metadata": {},
   "source": [
    "# ----------------------------- Create New Model Variables ---------------------------------------"
   ]
  },
  {
   "cell_type": "markdown",
   "metadata": {},
   "source": [
    "Create new training variables"
   ]
  },
  {
   "cell_type": "code",
   "execution_count": 71,
   "metadata": {},
   "outputs": [],
   "source": [
    "orig_data = create_new_phone_vars(orig_data)"
   ]
  },
  {
   "cell_type": "markdown",
   "metadata": {},
   "source": [
    "Create new target variable with 1 if phone number was confirmed and 0 if it was updated or known bad"
   ]
  },
  {
   "cell_type": "code",
   "execution_count": 72,
   "metadata": {},
   "outputs": [],
   "source": [
    "disconnect = np.zeros((orig_data.shape[0], 1))\n",
    "disconnect_ndx = orig_data['COMMENTS'] == 'NOT IN SERVICE'\n",
    "disconnect[disconnect_ndx] = 1\n",
    "orig_data[target_name] = disconnect\n"
   ]
  },
  {
   "cell_type": "markdown",
   "metadata": {},
   "source": [
    "# ---------------------------- Create and Clean Model Data --------------------------------------"
   ]
  },
  {
   "cell_type": "code",
   "execution_count": 107,
   "metadata": {},
   "outputs": [],
   "source": [
    "model_data = orig_data.loc[:, model_vars]"
   ]
  },
  {
   "cell_type": "code",
   "execution_count": 108,
   "metadata": {},
   "outputs": [
    {
     "data": {
      "text/plain": [
       "(22950, 20)"
      ]
     },
     "execution_count": 108,
     "metadata": {},
     "output_type": "execute_result"
    }
   ],
   "source": [
    "model_data.shape"
   ]
  },
  {
   "cell_type": "markdown",
   "metadata": {},
   "source": [
    "Clean model data to remove NaN values"
   ]
  },
  {
   "cell_type": "code",
   "execution_count": 109,
   "metadata": {},
   "outputs": [],
   "source": [
    "model_data, orig_data = clean_model_data(model_data, orig_data)"
   ]
  },
  {
   "cell_type": "code",
   "execution_count": 110,
   "metadata": {},
   "outputs": [
    {
     "data": {
      "text/plain": [
       "(22950, 20)"
      ]
     },
     "execution_count": 110,
     "metadata": {},
     "output_type": "execute_result"
    }
   ],
   "source": [
    "model_data.shape"
   ]
  },
  {
   "cell_type": "markdown",
   "metadata": {},
   "source": [
    "Verify NaN values were removed (should be none in the dataset)"
   ]
  },
  {
   "cell_type": "code",
   "execution_count": 111,
   "metadata": {},
   "outputs": [
    {
     "name": "stdout",
     "output_type": "stream",
     "text": [
      "Series([], dtype: int64)\n",
      "[]\n"
     ]
    }
   ],
   "source": [
    "na_cnt = model_data.isna().sum()\n",
    "na_ndx = na_cnt > 0\n",
    "na_cnt_df = na_cnt[na_ndx]\n",
    "print(na_cnt_df)\n",
    "print(na_cnt_df.index.values)"
   ]
  },
  {
   "cell_type": "markdown",
   "metadata": {},
   "source": [
    "Display descriptive statistics for model dataset"
   ]
  },
  {
   "cell_type": "code",
   "execution_count": 112,
   "metadata": {},
   "outputs": [
    {
     "data": {
      "text/html": [
       "<div>\n",
       "<style scoped>\n",
       "    .dataframe tbody tr th:only-of-type {\n",
       "        vertical-align: middle;\n",
       "    }\n",
       "\n",
       "    .dataframe tbody tr th {\n",
       "        vertical-align: top;\n",
       "    }\n",
       "\n",
       "    .dataframe thead th {\n",
       "        text-align: right;\n",
       "    }\n",
       "</style>\n",
       "<table border=\"1\" class=\"dataframe\">\n",
       "  <thead>\n",
       "    <tr style=\"text-align: right;\">\n",
       "      <th></th>\n",
       "      <th>count</th>\n",
       "      <th>unique</th>\n",
       "      <th>top</th>\n",
       "      <th>freq</th>\n",
       "      <th>mean</th>\n",
       "      <th>std</th>\n",
       "      <th>min</th>\n",
       "      <th>25%</th>\n",
       "      <th>50%</th>\n",
       "      <th>75%</th>\n",
       "      <th>max</th>\n",
       "    </tr>\n",
       "  </thead>\n",
       "  <tbody>\n",
       "    <tr>\n",
       "      <th>disconnect</th>\n",
       "      <td>22950</td>\n",
       "      <td>NaN</td>\n",
       "      <td>NaN</td>\n",
       "      <td>NaN</td>\n",
       "      <td>0.0687146</td>\n",
       "      <td>0.252974</td>\n",
       "      <td>0</td>\n",
       "      <td>0</td>\n",
       "      <td>0</td>\n",
       "      <td>0</td>\n",
       "      <td>1</td>\n",
       "    </tr>\n",
       "    <tr>\n",
       "      <th>lic_state_match</th>\n",
       "      <td>22950</td>\n",
       "      <td>NaN</td>\n",
       "      <td>NaN</td>\n",
       "      <td>NaN</td>\n",
       "      <td>0.969891</td>\n",
       "      <td>0.170891</td>\n",
       "      <td>0</td>\n",
       "      <td>1</td>\n",
       "      <td>1</td>\n",
       "      <td>1</td>\n",
       "      <td>1</td>\n",
       "    </tr>\n",
       "    <tr>\n",
       "      <th>pcp</th>\n",
       "      <td>22950</td>\n",
       "      <td>NaN</td>\n",
       "      <td>NaN</td>\n",
       "      <td>NaN</td>\n",
       "      <td>0.358344</td>\n",
       "      <td>0.479524</td>\n",
       "      <td>0</td>\n",
       "      <td>0</td>\n",
       "      <td>0</td>\n",
       "      <td>1</td>\n",
       "      <td>1</td>\n",
       "    </tr>\n",
       "    <tr>\n",
       "      <th>ent_comm_src_cat_code</th>\n",
       "      <td>22950</td>\n",
       "      <td>32</td>\n",
       "      <td>PHNSURV</td>\n",
       "      <td>5367</td>\n",
       "      <td>NaN</td>\n",
       "      <td>NaN</td>\n",
       "      <td>NaN</td>\n",
       "      <td>NaN</td>\n",
       "      <td>NaN</td>\n",
       "      <td>NaN</td>\n",
       "      <td>NaN</td>\n",
       "    </tr>\n",
       "    <tr>\n",
       "      <th>phone_age_yrs</th>\n",
       "      <td>22950</td>\n",
       "      <td>NaN</td>\n",
       "      <td>NaN</td>\n",
       "      <td>NaN</td>\n",
       "      <td>7.0647</td>\n",
       "      <td>6.89084</td>\n",
       "      <td>0.0109589</td>\n",
       "      <td>1.11233</td>\n",
       "      <td>4.8</td>\n",
       "      <td>11.9349</td>\n",
       "      <td>29.063</td>\n",
       "    </tr>\n",
       "    <tr>\n",
       "      <th>yop_yrs</th>\n",
       "      <td>22950</td>\n",
       "      <td>NaN</td>\n",
       "      <td>NaN</td>\n",
       "      <td>NaN</td>\n",
       "      <td>27.7377</td>\n",
       "      <td>10.9648</td>\n",
       "      <td>4.69863</td>\n",
       "      <td>18.7068</td>\n",
       "      <td>27.7151</td>\n",
       "      <td>35.7205</td>\n",
       "      <td>72.7452</td>\n",
       "    </tr>\n",
       "    <tr>\n",
       "      <th>doctor_age_yrs</th>\n",
       "      <td>22950</td>\n",
       "      <td>NaN</td>\n",
       "      <td>NaN</td>\n",
       "      <td>NaN</td>\n",
       "      <td>55.0887</td>\n",
       "      <td>10.727</td>\n",
       "      <td>29.7151</td>\n",
       "      <td>46.726</td>\n",
       "      <td>54.7315</td>\n",
       "      <td>62.737</td>\n",
       "      <td>119.775</td>\n",
       "    </tr>\n",
       "    <tr>\n",
       "      <th>ppd_address_type</th>\n",
       "      <td>22950</td>\n",
       "      <td>3</td>\n",
       "      <td>1</td>\n",
       "      <td>11534</td>\n",
       "      <td>NaN</td>\n",
       "      <td>NaN</td>\n",
       "      <td>NaN</td>\n",
       "      <td>NaN</td>\n",
       "      <td>NaN</td>\n",
       "      <td>NaN</td>\n",
       "      <td>NaN</td>\n",
       "    </tr>\n",
       "    <tr>\n",
       "      <th>ppd_region</th>\n",
       "      <td>22950</td>\n",
       "      <td>5</td>\n",
       "      <td>3</td>\n",
       "      <td>8105</td>\n",
       "      <td>NaN</td>\n",
       "      <td>NaN</td>\n",
       "      <td>NaN</td>\n",
       "      <td>NaN</td>\n",
       "      <td>NaN</td>\n",
       "      <td>NaN</td>\n",
       "      <td>NaN</td>\n",
       "    </tr>\n",
       "    <tr>\n",
       "      <th>ppd_division</th>\n",
       "      <td>22950</td>\n",
       "      <td>10</td>\n",
       "      <td>5</td>\n",
       "      <td>4339</td>\n",
       "      <td>NaN</td>\n",
       "      <td>NaN</td>\n",
       "      <td>NaN</td>\n",
       "      <td>NaN</td>\n",
       "      <td>NaN</td>\n",
       "      <td>NaN</td>\n",
       "      <td>NaN</td>\n",
       "    </tr>\n",
       "    <tr>\n",
       "      <th>ppd_group</th>\n",
       "      <td>22950</td>\n",
       "      <td>6</td>\n",
       "      <td>6</td>\n",
       "      <td>17624</td>\n",
       "      <td>NaN</td>\n",
       "      <td>NaN</td>\n",
       "      <td>NaN</td>\n",
       "      <td>NaN</td>\n",
       "      <td>NaN</td>\n",
       "      <td>NaN</td>\n",
       "      <td>NaN</td>\n",
       "    </tr>\n",
       "    <tr>\n",
       "      <th>ppd_msa_population_size</th>\n",
       "      <td>22950</td>\n",
       "      <td>4</td>\n",
       "      <td>A</td>\n",
       "      <td>16291</td>\n",
       "      <td>NaN</td>\n",
       "      <td>NaN</td>\n",
       "      <td>NaN</td>\n",
       "      <td>NaN</td>\n",
       "      <td>NaN</td>\n",
       "      <td>NaN</td>\n",
       "      <td>NaN</td>\n",
       "    </tr>\n",
       "    <tr>\n",
       "      <th>ppd_md_do_code</th>\n",
       "      <td>22950</td>\n",
       "      <td>2</td>\n",
       "      <td>1</td>\n",
       "      <td>21219</td>\n",
       "      <td>NaN</td>\n",
       "      <td>NaN</td>\n",
       "      <td>NaN</td>\n",
       "      <td>NaN</td>\n",
       "      <td>NaN</td>\n",
       "      <td>NaN</td>\n",
       "      <td>NaN</td>\n",
       "    </tr>\n",
       "    <tr>\n",
       "      <th>ppd_micro_metro_ind</th>\n",
       "      <td>22950</td>\n",
       "      <td>2</td>\n",
       "      <td>1</td>\n",
       "      <td>22836</td>\n",
       "      <td>NaN</td>\n",
       "      <td>NaN</td>\n",
       "      <td>NaN</td>\n",
       "      <td>NaN</td>\n",
       "      <td>NaN</td>\n",
       "      <td>NaN</td>\n",
       "      <td>NaN</td>\n",
       "    </tr>\n",
       "    <tr>\n",
       "      <th>ppd_gender</th>\n",
       "      <td>22950</td>\n",
       "      <td>2</td>\n",
       "      <td>1</td>\n",
       "      <td>15487</td>\n",
       "      <td>NaN</td>\n",
       "      <td>NaN</td>\n",
       "      <td>NaN</td>\n",
       "      <td>NaN</td>\n",
       "      <td>NaN</td>\n",
       "      <td>NaN</td>\n",
       "      <td>NaN</td>\n",
       "    </tr>\n",
       "    <tr>\n",
       "      <th>ppd_top_cd</th>\n",
       "      <td>22950</td>\n",
       "      <td>1</td>\n",
       "      <td>020</td>\n",
       "      <td>22950</td>\n",
       "      <td>NaN</td>\n",
       "      <td>NaN</td>\n",
       "      <td>NaN</td>\n",
       "      <td>NaN</td>\n",
       "      <td>NaN</td>\n",
       "      <td>NaN</td>\n",
       "      <td>NaN</td>\n",
       "    </tr>\n",
       "    <tr>\n",
       "      <th>ppd_pe_cd</th>\n",
       "      <td>22950</td>\n",
       "      <td>17</td>\n",
       "      <td>030</td>\n",
       "      <td>11778</td>\n",
       "      <td>NaN</td>\n",
       "      <td>NaN</td>\n",
       "      <td>NaN</td>\n",
       "      <td>NaN</td>\n",
       "      <td>NaN</td>\n",
       "      <td>NaN</td>\n",
       "      <td>NaN</td>\n",
       "    </tr>\n",
       "    <tr>\n",
       "      <th>ppd_prim_spec_cd</th>\n",
       "      <td>22950</td>\n",
       "      <td>198</td>\n",
       "      <td>IM</td>\n",
       "      <td>2687</td>\n",
       "      <td>NaN</td>\n",
       "      <td>NaN</td>\n",
       "      <td>NaN</td>\n",
       "      <td>NaN</td>\n",
       "      <td>NaN</td>\n",
       "      <td>NaN</td>\n",
       "      <td>NaN</td>\n",
       "    </tr>\n",
       "    <tr>\n",
       "      <th>ppd_polo_state</th>\n",
       "      <td>22950</td>\n",
       "      <td>53</td>\n",
       "      <td>CA</td>\n",
       "      <td>2704</td>\n",
       "      <td>NaN</td>\n",
       "      <td>NaN</td>\n",
       "      <td>NaN</td>\n",
       "      <td>NaN</td>\n",
       "      <td>NaN</td>\n",
       "      <td>NaN</td>\n",
       "      <td>NaN</td>\n",
       "    </tr>\n",
       "    <tr>\n",
       "      <th>num_oldphones</th>\n",
       "      <td>22950</td>\n",
       "      <td>NaN</td>\n",
       "      <td>NaN</td>\n",
       "      <td>NaN</td>\n",
       "      <td>2.44471</td>\n",
       "      <td>1.38613</td>\n",
       "      <td>1</td>\n",
       "      <td>1</td>\n",
       "      <td>2</td>\n",
       "      <td>3</td>\n",
       "      <td>13</td>\n",
       "    </tr>\n",
       "  </tbody>\n",
       "</table>\n",
       "</div>"
      ],
      "text/plain": [
       "                         count unique      top   freq       mean       std  \\\n",
       "disconnect               22950    NaN      NaN    NaN  0.0687146  0.252974   \n",
       "lic_state_match          22950    NaN      NaN    NaN   0.969891  0.170891   \n",
       "pcp                      22950    NaN      NaN    NaN   0.358344  0.479524   \n",
       "ent_comm_src_cat_code    22950     32  PHNSURV   5367        NaN       NaN   \n",
       "phone_age_yrs            22950    NaN      NaN    NaN     7.0647   6.89084   \n",
       "yop_yrs                  22950    NaN      NaN    NaN    27.7377   10.9648   \n",
       "doctor_age_yrs           22950    NaN      NaN    NaN    55.0887    10.727   \n",
       "ppd_address_type         22950      3        1  11534        NaN       NaN   \n",
       "ppd_region               22950      5        3   8105        NaN       NaN   \n",
       "ppd_division             22950     10        5   4339        NaN       NaN   \n",
       "ppd_group                22950      6        6  17624        NaN       NaN   \n",
       "ppd_msa_population_size  22950      4        A  16291        NaN       NaN   \n",
       "ppd_md_do_code           22950      2        1  21219        NaN       NaN   \n",
       "ppd_micro_metro_ind      22950      2        1  22836        NaN       NaN   \n",
       "ppd_gender               22950      2        1  15487        NaN       NaN   \n",
       "ppd_top_cd               22950      1      020  22950        NaN       NaN   \n",
       "ppd_pe_cd                22950     17      030  11778        NaN       NaN   \n",
       "ppd_prim_spec_cd         22950    198       IM   2687        NaN       NaN   \n",
       "ppd_polo_state           22950     53       CA   2704        NaN       NaN   \n",
       "num_oldphones            22950    NaN      NaN    NaN    2.44471   1.38613   \n",
       "\n",
       "                               min      25%      50%      75%      max  \n",
       "disconnect                       0        0        0        0        1  \n",
       "lic_state_match                  0        1        1        1        1  \n",
       "pcp                              0        0        0        1        1  \n",
       "ent_comm_src_cat_code          NaN      NaN      NaN      NaN      NaN  \n",
       "phone_age_yrs            0.0109589  1.11233      4.8  11.9349   29.063  \n",
       "yop_yrs                    4.69863  18.7068  27.7151  35.7205  72.7452  \n",
       "doctor_age_yrs             29.7151   46.726  54.7315   62.737  119.775  \n",
       "ppd_address_type               NaN      NaN      NaN      NaN      NaN  \n",
       "ppd_region                     NaN      NaN      NaN      NaN      NaN  \n",
       "ppd_division                   NaN      NaN      NaN      NaN      NaN  \n",
       "ppd_group                      NaN      NaN      NaN      NaN      NaN  \n",
       "ppd_msa_population_size        NaN      NaN      NaN      NaN      NaN  \n",
       "ppd_md_do_code                 NaN      NaN      NaN      NaN      NaN  \n",
       "ppd_micro_metro_ind            NaN      NaN      NaN      NaN      NaN  \n",
       "ppd_gender                     NaN      NaN      NaN      NaN      NaN  \n",
       "ppd_top_cd                     NaN      NaN      NaN      NaN      NaN  \n",
       "ppd_pe_cd                      NaN      NaN      NaN      NaN      NaN  \n",
       "ppd_prim_spec_cd               NaN      NaN      NaN      NaN      NaN  \n",
       "ppd_polo_state                 NaN      NaN      NaN      NaN      NaN  \n",
       "num_oldphones                    1        1        2        3       13  "
      ]
     },
     "execution_count": 112,
     "metadata": {},
     "output_type": "execute_result"
    }
   ],
   "source": [
    "model_data.describe(include = \"all\").T"
   ]
  },
  {
   "cell_type": "markdown",
   "metadata": {},
   "source": [
    "Print number of 0 and 1 valus of target variable"
   ]
  },
  {
   "cell_type": "code",
   "execution_count": 113,
   "metadata": {},
   "outputs": [
    {
     "name": "stdout",
     "output_type": "stream",
     "text": [
      "Number of disconnect 0: 21373\n",
      "Number of disconnect 1: 1577\n",
      "Percent of disconnect with value 0: 0.931285403050109\n",
      "Percent of disconnect with value 1: 0.06871459694989107\n"
     ]
    }
   ],
   "source": [
    "get_target_dist(model_data, target_name)\n"
   ]
  },
  {
   "cell_type": "markdown",
   "metadata": {},
   "source": [
    "# ---------------------------- Perform Exploratory Analysis --------------------------------------"
   ]
  },
  {
   "cell_type": "markdown",
   "metadata": {},
   "source": [
    "Generate figures of the distributions of each variable and save off for further analysis"
   ]
  },
  {
   "cell_type": "code",
   "execution_count": 114,
   "metadata": {},
   "outputs": [],
   "source": [
    "create_explore_plots(model_data, explore_path)\n"
   ]
  },
  {
   "cell_type": "markdown",
   "metadata": {},
   "source": [
    "Generate plots of independent variables and the target correctness (crosstab and scatter plots)"
   ]
  },
  {
   "cell_type": "code",
   "execution_count": 115,
   "metadata": {},
   "outputs": [],
   "source": [
    "model_columns = model_data.columns.values\n",
    "\n",
    "for i in range(len(model_columns)):\n",
    "    if str(model_data[model_columns[i]].dtypes) == 'category' or str(model_data[model_columns[i]].dtypes) == 'object':\n",
    "        obs_race_cross = pd.crosstab(model_data[model_columns[i]], model_data[target_name])\n",
    "        obs_race_cross.plot(kind=\"bar\")\n",
    "        x_lab = model_columns[i] + ' by ' + target_name\n",
    "        plt.xlabel(x_lab)\n",
    "        plt.ylabel('Count')\n",
    "        title = 'Crosstab of ' + model_columns[i] + ' by ' + target_name\n",
    "        plt.title(title)\n",
    "        plt.legend(bbox_to_anchor=(1.05, 1), loc=2, borderaxespad=0.)\n",
    "    else:\n",
    "        temp_ndx = model_data[model_columns[i]].isnull()\n",
    "        temp_var = model_data[model_columns[i]][~temp_ndx]\n",
    "        temp_correct = model_data[target_name][~temp_ndx]\n",
    "        \n",
    "        plt.scatter(x=temp_correct, y=temp_var)\n",
    "        x_title = target_name + ' value'\n",
    "        plt.xlabel(x_title)\n",
    "        plt.ylabel(model_columns[i])\n",
    "        title = model_columns[i] + ' by ' + target_name\n",
    "        plt.title(title)    \n",
    "\n",
    "    fig_path = explore_path + model_columns[i] + '_by_' + target_name + '.png'\n",
    "    plt.savefig(fig_path)\n",
    "    plt.close()"
   ]
  },
  {
   "cell_type": "markdown",
   "metadata": {},
   "source": [
    "# ---------------------------- Create Dummy Variables --------------------------------------"
   ]
  },
  {
   "cell_type": "markdown",
   "metadata": {},
   "source": [
    "Save off data before dummy variable creation"
   ]
  },
  {
   "cell_type": "code",
   "execution_count": 116,
   "metadata": {},
   "outputs": [],
   "source": [
    "model_info_df = model_data[:]\n",
    "model_info_df[info_vars] = orig_data[info_vars]\n"
   ]
  },
  {
   "cell_type": "code",
   "execution_count": 117,
   "metadata": {},
   "outputs": [],
   "source": [
    "model_info_name = data_save_path + start_time_str + '_' + file_base_name + '_BeforeDummy.csv'\n",
    "model_info_df.to_csv(model_info_name, sep = ',', header = True, index = True)\n"
   ]
  },
  {
   "cell_type": "markdown",
   "metadata": {},
   "source": [
    "Create dummy variables for all categorical/object columns"
   ]
  },
  {
   "cell_type": "code",
   "execution_count": 118,
   "metadata": {},
   "outputs": [
    {
     "data": {
      "text/plain": [
       "(22950, 342)"
      ]
     },
     "execution_count": 118,
     "metadata": {},
     "output_type": "execute_result"
    }
   ],
   "source": [
    "model_data_all = pd.get_dummies(model_data)\n",
    "model_data_all.shape"
   ]
  },
  {
   "cell_type": "markdown",
   "metadata": {},
   "source": [
    "Create and save pearson correlation matrix of all variables"
   ]
  },
  {
   "cell_type": "code",
   "execution_count": 119,
   "metadata": {
    "scrolled": true
   },
   "outputs": [],
   "source": [
    "all_var_corr = model_data_all.corr(method = \"pearson\")\n",
    "\n",
    "corr_file = explore_path + 'All_Variable_Correlation.csv'\n",
    "all_var_corr.to_csv(corr_file, sep=\",\")\n"
   ]
  },
  {
   "cell_type": "markdown",
   "metadata": {},
   "source": [
    "# ------------------------------ Create Test and Train Data ----------------------------------------"
   ]
  },
  {
   "cell_type": "markdown",
   "metadata": {},
   "source": [
    "Create target dataset"
   ]
  },
  {
   "cell_type": "code",
   "execution_count": 120,
   "metadata": {},
   "outputs": [
    {
     "data": {
      "text/plain": [
       "(22950,)"
      ]
     },
     "execution_count": 120,
     "metadata": {},
     "output_type": "execute_result"
    }
   ],
   "source": [
    "target_df = model_data_all[target_name]\n",
    "target_df.shape"
   ]
  },
  {
   "cell_type": "markdown",
   "metadata": {},
   "source": [
    "Create training dataset"
   ]
  },
  {
   "cell_type": "code",
   "execution_count": 121,
   "metadata": {},
   "outputs": [
    {
     "data": {
      "text/plain": [
       "(22950, 341)"
      ]
     },
     "execution_count": 121,
     "metadata": {},
     "output_type": "execute_result"
    }
   ],
   "source": [
    "train_df = model_data_all[:]\n",
    "train_df = train_df.drop(target_name, axis = 1) \n",
    "train_df.shape"
   ]
  },
  {
   "cell_type": "markdown",
   "metadata": {},
   "source": [
    "Add informational columns back into data so they will be split accordingly"
   ]
  },
  {
   "cell_type": "code",
   "execution_count": 122,
   "metadata": {},
   "outputs": [
    {
     "data": {
      "text/plain": [
       "(22950, 357)"
      ]
     },
     "execution_count": 122,
     "metadata": {},
     "output_type": "execute_result"
    }
   ],
   "source": [
    "train_df_all = train_df[:]\n",
    "train_df_all[info_vars] = orig_data[info_vars]\n",
    "train_df_all.shape"
   ]
  },
  {
   "cell_type": "markdown",
   "metadata": {},
   "source": [
    "Create random test/train split with testing set size given by variable at the top"
   ]
  },
  {
   "cell_type": "code",
   "execution_count": 123,
   "metadata": {},
   "outputs": [],
   "source": [
    "# If testing_size is > 0, split data into testing/training sets\n",
    "train_columns = list(train_df_all.columns.values)\n",
    "\n",
    "if testing_size > 0:\n",
    "    data_train, data_test, target_train, target_test = train_test_split(train_df_all, target_df, test_size = testing_size, \n",
    "                                                                        random_state = rand_state, stratify = target_df)\n",
    "# Else use entire dataset for both testing and training\n",
    "else:\n",
    "    data_train = train_df\n",
    "    data_test = train_df\n",
    "    target_train = target_df\n",
    "    target_test = target_df\n",
    "    "
   ]
  },
  {
   "cell_type": "markdown",
   "metadata": {},
   "source": [
    "Convert numpy outputs back into dataframes for saving"
   ]
  },
  {
   "cell_type": "code",
   "execution_count": 124,
   "metadata": {},
   "outputs": [],
   "source": [
    "data_train_df = pd.DataFrame(data_train, columns = train_columns)\n",
    "train_indices = data_train_df.index.values\n",
    "target_train_df = pd.DataFrame(target_train, index = train_indices, columns = [target_name])\n",
    "\n",
    "data_test_df = pd.DataFrame(data_test, columns = train_columns)\n",
    "test_indices = data_test_df.index.values\n",
    "target_test_df = pd.DataFrame(target_test, index = test_indices, columns = [target_name])\n"
   ]
  },
  {
   "cell_type": "code",
   "execution_count": 125,
   "metadata": {},
   "outputs": [
    {
     "data": {
      "text/plain": [
       "(18360, 357)"
      ]
     },
     "execution_count": 125,
     "metadata": {},
     "output_type": "execute_result"
    }
   ],
   "source": [
    "data_train_df.shape"
   ]
  },
  {
   "cell_type": "code",
   "execution_count": 126,
   "metadata": {},
   "outputs": [
    {
     "data": {
      "text/plain": [
       "(4590, 357)"
      ]
     },
     "execution_count": 126,
     "metadata": {},
     "output_type": "execute_result"
    }
   ],
   "source": [
    "data_test_df.shape"
   ]
  },
  {
   "cell_type": "markdown",
   "metadata": {},
   "source": [
    "Extract informational columns from training and testing datasets"
   ]
  },
  {
   "cell_type": "code",
   "execution_count": 127,
   "metadata": {},
   "outputs": [],
   "source": [
    "data_train_info_df = data_train_df.loc[:, info_vars]\n",
    "data_train_df = data_train_df.drop(info_vars, axis = 1)\n",
    "\n",
    "data_test_info_df = data_test_df.loc[:, info_vars]\n",
    "data_test_df = data_test_df.drop(info_vars, axis = 1)\n"
   ]
  },
  {
   "cell_type": "code",
   "execution_count": 128,
   "metadata": {},
   "outputs": [
    {
     "data": {
      "text/plain": [
       "(18360, 341)"
      ]
     },
     "execution_count": 128,
     "metadata": {},
     "output_type": "execute_result"
    }
   ],
   "source": [
    "data_train_df.shape"
   ]
  },
  {
   "cell_type": "code",
   "execution_count": 129,
   "metadata": {},
   "outputs": [
    {
     "data": {
      "text/plain": [
       "(4590, 341)"
      ]
     },
     "execution_count": 129,
     "metadata": {},
     "output_type": "execute_result"
    }
   ],
   "source": [
    "data_test_df.shape"
   ]
  },
  {
   "cell_type": "markdown",
   "metadata": {},
   "source": [
    "Print number of 0s and 1s in training dataset target variable"
   ]
  },
  {
   "cell_type": "code",
   "execution_count": 130,
   "metadata": {},
   "outputs": [
    {
     "name": "stdout",
     "output_type": "stream",
     "text": [
      "Number of disconnect 0: 17098\n",
      "Number of disconnect 1: 1262\n",
      "Percent of disconnect with value 0: 0.9312636165577342\n",
      "Percent of disconnect with value 1: 0.06873638344226579\n"
     ]
    }
   ],
   "source": [
    "get_target_dist(target_train_df, target_name)\n"
   ]
  },
  {
   "cell_type": "markdown",
   "metadata": {},
   "source": [
    "Print number of 0s and 1s in testing dataset target variable"
   ]
  },
  {
   "cell_type": "code",
   "execution_count": 131,
   "metadata": {},
   "outputs": [
    {
     "name": "stdout",
     "output_type": "stream",
     "text": [
      "Number of disconnect 0: 4275\n",
      "Number of disconnect 1: 315\n",
      "Percent of disconnect with value 0: 0.9313725490196079\n",
      "Percent of disconnect with value 1: 0.06862745098039216\n"
     ]
    }
   ],
   "source": [
    "get_target_dist(target_test_df, target_name)\n"
   ]
  },
  {
   "cell_type": "markdown",
   "metadata": {},
   "source": [
    "# -------------------------- Save Testing and Training Data -------------------------------------"
   ]
  },
  {
   "cell_type": "markdown",
   "metadata": {},
   "source": [
    "Save training data and target to csv files"
   ]
  },
  {
   "cell_type": "code",
   "execution_count": 132,
   "metadata": {},
   "outputs": [],
   "source": [
    "train_data_name = data_save_path + start_time_str + '_' + file_base_name + '_TrainData.csv'\n",
    "data_train_df.to_csv(train_data_name, sep = ',', header = True, index = True)\n",
    "train_target_name = data_save_path + start_time_str + '_' + file_base_name + '_TrainTarget.csv'\n",
    "target_train_df.to_csv(train_target_name, sep = ',', header = True, index = True)\n"
   ]
  },
  {
   "cell_type": "markdown",
   "metadata": {},
   "source": [
    "Save testing data and target to csv files"
   ]
  },
  {
   "cell_type": "code",
   "execution_count": 133,
   "metadata": {},
   "outputs": [],
   "source": [
    "\n",
    "test_data_name = data_save_path + start_time_str + '_' + file_base_name + '_TestData.csv'\n",
    "data_test_df.to_csv(test_data_name, sep = ',', header = True, index = True)\n",
    "test_target_name = data_save_path + start_time_str + '_' + file_base_name + '_TestTarget.csv'\n",
    "target_test_df.to_csv(test_target_name, sep = ',', header = True, index = True)\n"
   ]
  },
  {
   "cell_type": "markdown",
   "metadata": {},
   "source": [
    "Save information dataframes"
   ]
  },
  {
   "cell_type": "code",
   "execution_count": 134,
   "metadata": {},
   "outputs": [],
   "source": [
    "train_data_info_name = data_save_path + start_time_str + '_' + file_base_name + '_TrainData_Info.csv'\n",
    "data_train_info_df.to_csv(train_data_info_name, sep = ',', header = True, index = True)\n",
    "\n",
    "test_data_info_name = data_save_path + start_time_str + '_' + file_base_name + '_TestData_Info.csv'\n",
    "data_test_info_df.to_csv(test_data_info_name, sep = ',', header = True, index = True)\n"
   ]
  },
  {
   "cell_type": "markdown",
   "metadata": {},
   "source": [
    "Save unsplit data to csv files (to use to duplicate previous modeling)"
   ]
  },
  {
   "cell_type": "code",
   "execution_count": 135,
   "metadata": {},
   "outputs": [],
   "source": [
    "unsplit_test_data_name = data_save_path + start_time_str + '_' + file_base_name + '_UnsplitData.csv'\n",
    "train_df.to_csv(unsplit_test_data_name, sep = ',', header = True, index = True)\n",
    "unsplit_test_target_name = data_save_path + start_time_str + '_' + file_base_name + '_UnsplitTarget.csv'\n",
    "target_df.to_csv(unsplit_test_target_name, sep = ',', header = True, index = True)\n"
   ]
  },
  {
   "cell_type": "markdown",
   "metadata": {},
   "source": [
    "Save unsplit data information dataframes"
   ]
  },
  {
   "cell_type": "code",
   "execution_count": 136,
   "metadata": {},
   "outputs": [],
   "source": [
    "unsplit_test_data_info_name = data_save_path + start_time_str + '_' + file_base_name + '_UnsplitData_Info.csv'\n",
    "orig_data[info_vars].to_csv(unsplit_test_data_info_name, sep = ',', header = True, index = True)"
   ]
  },
  {
   "cell_type": "markdown",
   "metadata": {},
   "source": [
    "Save results"
   ]
  },
  {
   "cell_type": "code",
   "execution_count": 137,
   "metadata": {},
   "outputs": [
    {
     "name": "stdout",
     "output_type": "stream",
     "text": [
      "Elapsed time (sec): 1:38:32.131017\n",
      "Elapsed time (min): 0:01:38.535517\n",
      "Elapsed time (hrs): 0:00:01.642259\n"
     ]
    }
   ],
   "source": [
    "end_time = datetime.datetime.now()\n",
    "elapsed_time = end_time - current_time\n",
    "print('Elapsed time (sec): {}'.format(elapsed_time))\n",
    "print('Elapsed time (min): {}'.format((elapsed_time / 60)))\n",
    "print('Elapsed time (hrs): {}'.format(((elapsed_time / 60) / 60)))"
   ]
  }
 ],
 "metadata": {
  "kernelspec": {
   "display_name": "Python 3",
   "language": "python",
   "name": "python3"
  },
  "language_info": {
   "codemirror_mode": {
    "name": "ipython",
    "version": 3
   },
   "file_extension": ".py",
   "mimetype": "text/x-python",
   "name": "python",
   "nbconvert_exporter": "python",
   "pygments_lexer": "ipython3",
   "version": "3.7.6"
  }
 },
 "nbformat": 4,
 "nbformat_minor": 2
}
