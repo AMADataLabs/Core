{
 "cells": [
  {
   "cell_type": "code",
   "execution_count": 1,
   "metadata": {},
   "outputs": [],
   "source": [
    "import pandas as pd"
   ]
  },
  {
   "cell_type": "code",
   "execution_count": 57,
   "metadata": {},
   "outputs": [],
   "source": [
    "hist_total = pd.read_csv('historical_total_records.csv')\n",
    "hist_correct = pd.read_csv('historical_averaged_correctness.csv')"
   ]
  },
  {
   "cell_type": "code",
   "execution_count": 61,
   "metadata": {},
   "outputs": [],
   "source": [
    "# this_month = hist_total.iloc[:,-1]\n",
    "# last_month = hist_total.iloc[:,-2]\n",
    "# hist_total['Month Over Month (MoM) Change'] =  this_month - last_month\n",
    "# hist_total['Cumulative Change from JAN18-current'] = hist_total['Jan-18'] - this_month\n",
    "\n",
    "# this_month_2 = hist_correct.iloc[:,-1]\n",
    "# last_month_2 = hist_correct.iloc[:,-2]\n",
    "# hist_correct['Month Over Month (MoM) Change'] =  this_month_2 - last_month_2\n",
    "hist_correct['Cumulative Change from JAN18-current'] = hist_correct['18-Jan'] - this_month_2\n",
    "MoM_2 = hist_correct['Month Over Month (MoM) Change']\n",
    "Cum_Change_2 = hist_correct['Cumulative Change from JAN18-current']"
   ]
  },
  {
   "cell_type": "code",
   "execution_count": 19,
   "metadata": {},
   "outputs": [],
   "source": [
    "MoM = hist_total['Month Over Month (MoM) Change']"
   ]
  },
  {
   "cell_type": "code",
   "execution_count": 25,
   "metadata": {},
   "outputs": [],
   "source": [
    "Cum_Change = hist_total['Cumulative Change from JAN18-current']"
   ]
  },
  {
   "cell_type": "code",
   "execution_count": 24,
   "metadata": {},
   "outputs": [
    {
     "data": {
      "text/plain": [
       "0   -0.001510\n",
       "1    0.016940\n",
       "2   -0.253276\n",
       "3         NaN\n",
       "4   -0.166829\n",
       "5    0.008214\n",
       "6    0.000119\n",
       "7    0.005207\n",
       "8   -0.083408\n",
       "Name: Cumulative Change from JAN18-current, dtype: float64"
      ]
     },
     "execution_count": 24,
     "metadata": {},
     "output_type": "execute_result"
    }
   ],
   "source": [
    "hist_total['Cumulative Change from JAN18-current']"
   ]
  },
  {
   "cell_type": "code",
   "execution_count": 31,
   "metadata": {},
   "outputs": [],
   "source": [
    "dirty_wslive = pd.read_excel('y-WSLive-Results-20191111v2.xlsm', sheet_name='Summary Percentage', header=3)"
   ]
  },
  {
   "cell_type": "code",
   "execution_count": 33,
   "metadata": {},
   "outputs": [
    {
     "data": {
      "text/plain": [
       "0     0.839205\n",
       "1     0.160795\n",
       "2            1\n",
       "3          NaN\n",
       "4          NaN\n",
       "        ...   \n",
       "58         NaN\n",
       "59         NaN\n",
       "60         NaN\n",
       "61         NaN\n",
       "62         NaN\n",
       "Name: 2019-10-18 00:00:00, Length: 63, dtype: object"
      ]
     },
     "execution_count": 33,
     "metadata": {},
     "output_type": "execute_result"
    }
   ],
   "source": [
    "dirty_wslive.iloc[:,-1]"
   ]
  },
  {
   "cell_type": "code",
   "execution_count": 43,
   "metadata": {},
   "outputs": [],
   "source": [
    "polo_correct = dirty_wslive[dirty_wslive['POLO Address Status']=='Confirmed'].iloc[:,-1][0]\n",
    "PE_correct = dirty_wslive[dirty_wslive['POLO Address Status']=='Confirmed'].iloc[:,-1][6]\n",
    "phone_correct = dirty_wslive[dirty_wslive['POLO Address Status']=='Confirmed'].iloc[:,-1][12]\n",
    "no_contact_correct = dirty_wslive[dirty_wslive['POLO Address Status']=='Confirmed'].iloc[:,-1][20]\n",
    "fax_correct = dirty_wslive[dirty_wslive['POLO Address Status']=='Confirmed'].iloc[:,-1][32]"
   ]
  },
  {
   "cell_type": "code",
   "execution_count": 59,
   "metadata": {},
   "outputs": [
    {
     "data": {
      "text/plain": [
       "Core Existing Data                object\n",
       "18-Jun                           float64\n",
       "18-Jul                           float64\n",
       "18-Aug                           float64\n",
       "18-Sep                           float64\n",
       "18-Oct                           float64\n",
       "18-Nov                           float64\n",
       "18-Dec                           float64\n",
       "18-Jan                           float64\n",
       "18-Feb                           float64\n",
       "18-Mar                           float64\n",
       "18-Apr                           float64\n",
       "18-May                           float64\n",
       "18-Jun.1                         float64\n",
       "18-Jul.1                         float64\n",
       "18-Aug.1                         float64\n",
       "18-Sep.1                         float64\n",
       "18-Oct.1                         float64\n",
       "18-Nov.1                         float64\n",
       "18-Dec.1                         float64\n",
       "19-Jan                           float64\n",
       "19-Feb                           float64\n",
       "19-Mar                           float64\n",
       "19-Apr                           float64\n",
       "19-May                           float64\n",
       "19-Jun                           float64\n",
       "19-Jul                           float64\n",
       "19-Aug                           float64\n",
       "19-Sep                           float64\n",
       "19-Oct                           float64\n",
       "Month Over Month (MoM) Change    float64\n",
       "dtype: object"
      ]
     },
     "execution_count": 59,
     "metadata": {},
     "output_type": "execute_result"
    }
   ],
   "source": [
    "hist_correct.dtypes"
   ]
  },
  {
   "cell_type": "code",
   "execution_count": 3,
   "metadata": {},
   "outputs": [],
   "source": [
    "import pandas as pd\n",
    "ppd = pd.read_csv('ppd_data_20191116.csv')"
   ]
  },
  {
   "cell_type": "code",
   "execution_count": 4,
   "metadata": {},
   "outputs": [
    {
     "data": {
      "text/plain": [
       "Index(['ME', 'RECORD_ID', 'UPDATE_TYPE', 'ADDRESS_TYPE', 'MAILING_NAME',\n",
       "       'LAST_NAME', 'FIRST_NAME', 'MIDDLE_NAME', 'SUFFIX', 'MAILING_LINE_1',\n",
       "       'MAILING_LINE_2', 'CITY', 'STATE', 'ZIP', 'SECTOR', 'CARRIER_ROUTE',\n",
       "       'ADDRESS_UNDELIVERABLE_FLAG', 'FIPS_COUNTY', 'FIPS_STATE',\n",
       "       'PRINTER_CONTROL_CODE', 'PC_ZIP', 'PC_SECTOR', 'DELIVERY_POINT_CODE',\n",
       "       'CHECK_DIGIT', 'PRINTER_CONTROL_CODE_2', 'REGION', 'DIVISION', 'GROUP',\n",
       "       'TRACT', 'SUFFIX_CENSUS', 'BLOCK_GROUP', 'MSA_POPULATION_SIZE',\n",
       "       'MICRO_METRO_IND', 'CBSA', 'CBSA_DIV_IND', 'MD_DO_CODE', 'BIRTH_YEAR',\n",
       "       'BIRTH_CITY', 'BIRTH_STATE', 'BIRTH_COUNTRY', 'GENDER',\n",
       "       'TELEPHONE_NUMBER', 'PRESUMED_DEAD_FLAG', 'FAX_NUMBER', 'TOP_CD',\n",
       "       'PE_CD', 'PRIM_SPEC_CD', 'SEC_SPEC_CD', 'MPA_CD', 'PRA_RECIPIENT',\n",
       "       'PRA_EXP_DT', 'GME_CONF_FLG', 'FROM_DT', 'TO_DT', 'YEAR_IN_PROGRAM',\n",
       "       'POST_GRADUATE_YEAR', 'GME_SPEC_1', 'GME_SPEC_2', 'TRAINING_TYPE',\n",
       "       'GME_INST_STATE', 'GME_INST_ID', 'MEDSCHOOL_STATE', 'MEDSCHOOL_ID',\n",
       "       'MEDSCHOOL_GRAD_YEAR', 'NO_CONTACT_IND', 'NO_WEB_FLAG', 'PDRP_FLAG',\n",
       "       'PDRP_START_DT', 'POLO_MAILING_LINE_1', 'POLO_MAILING_LINE_2',\n",
       "       'POLO_CITY', 'POLO_STATE', 'POLO_ZIP', 'POLO_SECTOR',\n",
       "       'POLO_CARRIER_ROUTE', 'MOST_RECENT_FORMER_LAST_NAME',\n",
       "       'MOST_RECENT_FORMER_MIDDLE_NAME', 'MOST_RECENT_FORMER_FIRST_NAME',\n",
       "       'NEXT_MOST_RECENT_FORMER_LAST', 'NEXT_MOST_RECENT_FORMER_MIDDLE',\n",
       "       'NEXT_MOST_RECENT_FORMER_FIRST'],\n",
       "      dtype='object')"
      ]
     },
     "execution_count": 4,
     "metadata": {},
     "output_type": "execute_result"
    }
   ],
   "source": [
    "ppd.columns"
   ]
  },
  {
   "cell_type": "code",
   "execution_count": null,
   "metadata": {},
   "outputs": [],
   "source": []
  }
 ],
 "metadata": {
  "kernelspec": {
   "display_name": "Python 3",
   "language": "python",
   "name": "python3"
  },
  "language_info": {
   "codemirror_mode": {
    "name": "ipython",
    "version": 3
   },
   "file_extension": ".py",
   "mimetype": "text/x-python",
   "name": "python",
   "nbconvert_exporter": "python",
   "pygments_lexer": "ipython3",
   "version": "3.7.4"
  }
 },
 "nbformat": 4,
 "nbformat_minor": 2
}
