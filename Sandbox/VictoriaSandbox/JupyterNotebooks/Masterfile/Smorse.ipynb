{
 "cells": [
  {
   "cell_type": "code",
   "execution_count": 5,
   "metadata": {},
   "outputs": [],
   "source": [
    "import pandas as pd"
   ]
  },
  {
   "cell_type": "code",
   "execution_count": 6,
   "metadata": {},
   "outputs": [],
   "source": [
    "morse_dict = {'a':\".-\",\n",
    " 'b':\"-...\",\n",
    " 'c' :\"-.-.\",\n",
    " 'd' : \"-..\",\n",
    " 'e' : \".\",\n",
    " 'f' : \"..-.\",\n",
    " 'g' : \"--.\",\n",
    " 'h' : \"....\",\n",
    "'i' : \"..\",\n",
    "'j' : \".---\",\n",
    "'k' : \"-.-\",\n",
    "'l' : \".-..\",\n",
    "'m' : \"--\",\n",
    "'n' : \"-.\",\n",
    "'o' : \"---\",\n",
    "'p' : \".--.\",\n",
    "'q' : \"--.-\",\n",
    "'r' : \".-.\",\n",
    "'s' : \"...\",\n",
    "'t' : \"-\",\n",
    "'u' : \"..-\",\n",
    "'v' : \"...-\", \n",
    "'w' : \".--\",\n",
    "'x' : \"-..-\",\n",
    "'y' : \"-.--\",\n",
    "'z' : \"--..\"\n",
    "}"
   ]
  },
  {
   "cell_type": "code",
   "execution_count": 8,
   "metadata": {},
   "outputs": [],
   "source": [
    "letters = list(morse_dict.keys())\n",
    "\n",
    "codes = list(morse_dict.values())"
   ]
  },
  {
   "cell_type": "code",
   "execution_count": 3,
   "metadata": {},
   "outputs": [],
   "source": [
    "def smorse(tidbit):\n",
    "    tidbit=tidbit.lower().replace(' ','')\n",
    "    morse_out = \"\"\n",
    "    for letter in tidbit:\n",
    "        morse_out = morse_out + morse_dict[letter]\n",
    "    return(morse_out)"
   ]
  },
  {
   "cell_type": "code",
   "execution_count": 11,
   "metadata": {},
   "outputs": [
    {
     "data": {
      "text/plain": [
       "'-...-...-..-.--'"
      ]
     },
     "execution_count": 11,
     "metadata": {},
     "output_type": "execute_result"
    }
   ],
   "source": [
    "def desmorse(smorse_output):\n",
    "    length = len(smorse_output)\n",
    "    if length ==1:\n",
    "        desmorsed=codes[letters.index(smorse_output)]\n",
    "        break\n",
    "    if length == 2:\n",
    "        try:\n",
    "            codes[letters.index(smorse_output[0])]\n",
    "        except:\n",
    "            \n",
    "    if length <= 4:\n",
    "        \n",
    "    smore_output[0:4]\n",
    "        "
   ]
  },
  {
   "cell_type": "code",
   "execution_count": 14,
   "metadata": {},
   "outputs": [],
   "source": [
    "def desmorse_one(code):\n",
    "    desmorsed=letters[codes.index(code)]\n",
    "    return(desmorsed)"
   ]
  },
  {
   "cell_type": "code",
   "execution_count": 19,
   "metadata": {},
   "outputs": [],
   "source": [
    "def desmorse_two(code):\n",
    "    try:\n",
    "        desmorsed = desmorse_one(code)\n",
    "    except:\n",
    "        desmorsed = desmorse_one(code[0])+desmorse_one(code[1])\n",
    "    return(desmorsed)"
   ]
  },
  {
   "cell_type": "code",
   "execution_count": 22,
   "metadata": {},
   "outputs": [
    {
     "data": {
      "text/plain": [
       "'i'"
      ]
     },
     "execution_count": 22,
     "metadata": {},
     "output_type": "execute_result"
    }
   ],
   "source": [
    "desmorse_two(\"..\")"
   ]
  },
  {
   "cell_type": "code",
   "execution_count": null,
   "metadata": {},
   "outputs": [],
   "source": []
  }
 ],
 "metadata": {
  "kernelspec": {
   "display_name": "Python 3",
   "language": "python",
   "name": "python3"
  },
  "language_info": {
   "codemirror_mode": {
    "name": "ipython",
    "version": 3
   },
   "file_extension": ".py",
   "mimetype": "text/x-python",
   "name": "python",
   "nbconvert_exporter": "python",
   "pygments_lexer": "ipython3",
   "version": "3.7.4"
  }
 },
 "nbformat": 4,
 "nbformat_minor": 2
}
