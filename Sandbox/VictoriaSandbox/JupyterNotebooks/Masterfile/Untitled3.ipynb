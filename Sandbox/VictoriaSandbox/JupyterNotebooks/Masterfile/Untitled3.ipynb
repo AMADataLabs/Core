{
 "cells": [
  {
   "cell_type": "code",
   "execution_count": 55,
   "metadata": {},
   "outputs": [],
   "source": [
    "import pandas as pd\n",
    "import openpyxl"
   ]
  },
  {
   "cell_type": "code",
   "execution_count": 23,
   "metadata": {},
   "outputs": [],
   "source": [
    "wslive_table = pd.read_excel('y-WSLive-Results-20200106.xlsm', sheet_name = 'Summary Percentage', header=3).dropna()"
   ]
  },
  {
   "cell_type": "code",
   "execution_count": 41,
   "metadata": {},
   "outputs": [],
   "source": [
    "values = list(wslive_table[wslive_table['POLO Address Status']=='Confirmed'].iloc[:,-1])\n",
    "values.remove(1)"
   ]
  },
  {
   "cell_type": "code",
   "execution_count": 31,
   "metadata": {},
   "outputs": [],
   "source": [
    "col_list = ['polo_correct',\n",
    "'telephone_correct',\n",
    "'telephone_2_correct',\n",
    "'fax_correct',\n",
    "'employment_correct']"
   ]
  },
  {
   "cell_type": "code",
   "execution_count": 43,
   "metadata": {},
   "outputs": [
    {
     "data": {
      "text/html": [
       "<div>\n",
       "<style scoped>\n",
       "    .dataframe tbody tr th:only-of-type {\n",
       "        vertical-align: middle;\n",
       "    }\n",
       "\n",
       "    .dataframe tbody tr th {\n",
       "        vertical-align: top;\n",
       "    }\n",
       "\n",
       "    .dataframe thead th {\n",
       "        text-align: right;\n",
       "    }\n",
       "</style>\n",
       "<table border=\"1\" class=\"dataframe\">\n",
       "  <thead>\n",
       "    <tr style=\"text-align: right;\">\n",
       "      <th></th>\n",
       "      <th>1</th>\n",
       "      <th>2</th>\n",
       "    </tr>\n",
       "  </thead>\n",
       "  <tbody>\n",
       "    <tr>\n",
       "      <td>0</td>\n",
       "      <td>polo_correct</td>\n",
       "      <td>0.858639</td>\n",
       "    </tr>\n",
       "    <tr>\n",
       "      <td>1</td>\n",
       "      <td>telephone_correct</td>\n",
       "      <td>0.762337</td>\n",
       "    </tr>\n",
       "    <tr>\n",
       "      <td>2</td>\n",
       "      <td>telephone_2_correct</td>\n",
       "      <td>0.534500</td>\n",
       "    </tr>\n",
       "    <tr>\n",
       "      <td>3</td>\n",
       "      <td>fax_correct</td>\n",
       "      <td>0.697326</td>\n",
       "    </tr>\n",
       "    <tr>\n",
       "      <td>4</td>\n",
       "      <td>employment_correct</td>\n",
       "      <td>0.771412</td>\n",
       "    </tr>\n",
       "  </tbody>\n",
       "</table>\n",
       "</div>"
      ],
      "text/plain": [
       "                     1         2\n",
       "0         polo_correct  0.858639\n",
       "1    telephone_correct  0.762337\n",
       "2  telephone_2_correct  0.534500\n",
       "3          fax_correct  0.697326\n",
       "4   employment_correct  0.771412"
      ]
     },
     "execution_count": 43,
     "metadata": {},
     "output_type": "execute_result"
    }
   ],
   "source": [
    "pd.DataFrame({'1':col_list,'2':values})"
   ]
  },
  {
   "cell_type": "code",
   "execution_count": 48,
   "metadata": {},
   "outputs": [],
   "source": [
    "history = pd.read_excel('v-Masterfile-Scorecard-Prototype.xlsx', sheet_name = 'Notes_2')"
   ]
  },
  {
   "cell_type": "code",
   "execution_count": 67,
   "metadata": {},
   "outputs": [],
   "source": [
    "TEST = history.iloc[:,[-3,-2,-1]]"
   ]
  },
  {
   "cell_type": "code",
   "execution_count": 57,
   "metadata": {},
   "outputs": [
    {
     "name": "stdout",
     "output_type": "stream",
     "text": [
      "['Table of Contents', 'Current Scorecard Overview', 'Historic View - Completeness', 'Historic View - Correctness', 'Progress', 'Notes', 'Notes_2']\n"
     ]
    },
    {
     "name": "stderr",
     "output_type": "stream",
     "text": [
      "C:\\Users\\vigrose\\AppData\\Local\\Continuum\\anaconda3\\lib\\site-packages\\openpyxl\\worksheet\\_reader.py:296: UserWarning: Conditional Formatting extension is not supported and will be removed\n",
      "  warn(msg)\n"
     ]
    }
   ],
   "source": [
    "from openpyxl import load_workbook\n",
    "wb2 = load_workbook('v-Masterfile-Scorecard-Prototype.xlsx')\n",
    "print (wb2.sheetnames)"
   ]
  },
  {
   "cell_type": "code",
   "execution_count": 59,
   "metadata": {},
   "outputs": [],
   "source": [
    "ws = wb2['Notes_2']"
   ]
  },
  {
   "cell_type": "code",
   "execution_count": 60,
   "metadata": {},
   "outputs": [
    {
     "data": {
      "text/plain": [
       "<Worksheet \"Notes_2\">"
      ]
     },
     "execution_count": 60,
     "metadata": {},
     "output_type": "execute_result"
    }
   ],
   "source": [
    "# Data can be assigned directly to cells\n",
    "ws['A1'] = 42\n",
    "\n",
    "# Rows can also be appended\n",
    "ws.append([1, 2, 3])\n",
    "\n",
    "# Python types will automatically be converted\n",
    "import datetime\n",
    "ws['A2'] = datetime.datetime.now()\n",
    "\n",
    "# Save the file\n",
    "wb.save(\"sample.xlsx\")"
   ]
  },
  {
   "cell_type": "code",
   "execution_count": 65,
   "metadata": {},
   "outputs": [],
   "source": [
    "cell_range = ws['A2':'D20']"
   ]
  },
  {
   "cell_type": "code",
   "execution_count": 76,
   "metadata": {},
   "outputs": [],
   "source": [
    "ws['B2'] = 'mailing_completness'"
   ]
  },
  {
   "cell_type": "code",
   "execution_count": 99,
   "metadata": {},
   "outputs": [],
   "source": [
    "wb2.save('test.xlsx')"
   ]
  },
  {
   "cell_type": "code",
   "execution_count": 84,
   "metadata": {},
   "outputs": [],
   "source": [
    "history_list =[]\n",
    "for row in ws.iter_rows(min_row=1, min_col = 3, max_col=5, max_row=20, values_only=True):\n",
    "    history_list.append(row)"
   ]
  },
  {
   "cell_type": "code",
   "execution_count": 71,
   "metadata": {},
   "outputs": [
    {
     "data": {
      "text/html": [
       "<div>\n",
       "<style scoped>\n",
       "    .dataframe tbody tr th:only-of-type {\n",
       "        vertical-align: middle;\n",
       "    }\n",
       "\n",
       "    .dataframe tbody tr th {\n",
       "        vertical-align: top;\n",
       "    }\n",
       "\n",
       "    .dataframe thead th {\n",
       "        text-align: right;\n",
       "    }\n",
       "</style>\n",
       "<table border=\"1\" class=\"dataframe\">\n",
       "  <thead>\n",
       "    <tr style=\"text-align: right;\">\n",
       "      <th></th>\n",
       "      <th>Sep 2019</th>\n",
       "      <th>Oct 2019</th>\n",
       "      <th>Nov 2019</th>\n",
       "    </tr>\n",
       "  </thead>\n",
       "  <tbody>\n",
       "    <tr>\n",
       "      <td>0</td>\n",
       "      <td>0.982352</td>\n",
       "      <td>0.982187</td>\n",
       "      <td>0.982034</td>\n",
       "    </tr>\n",
       "    <tr>\n",
       "      <td>1</td>\n",
       "      <td>0.903230</td>\n",
       "      <td>0.901495</td>\n",
       "      <td>0.898615</td>\n",
       "    </tr>\n",
       "    <tr>\n",
       "      <td>2</td>\n",
       "      <td>0.775815</td>\n",
       "      <td>0.793667</td>\n",
       "      <td>0.823065</td>\n",
       "    </tr>\n",
       "    <tr>\n",
       "      <td>3</td>\n",
       "      <td>0.680405</td>\n",
       "      <td>0.680875</td>\n",
       "      <td>0.682371</td>\n",
       "    </tr>\n",
       "    <tr>\n",
       "      <td>4</td>\n",
       "      <td>0.931061</td>\n",
       "      <td>0.932325</td>\n",
       "      <td>0.932790</td>\n",
       "    </tr>\n",
       "    <tr>\n",
       "      <td>5</td>\n",
       "      <td>0.752497</td>\n",
       "      <td>0.755493</td>\n",
       "      <td>0.757966</td>\n",
       "    </tr>\n",
       "    <tr>\n",
       "      <td>6</td>\n",
       "      <td>0.949606</td>\n",
       "      <td>0.962950</td>\n",
       "      <td>0.963438</td>\n",
       "    </tr>\n",
       "    <tr>\n",
       "      <td>7</td>\n",
       "      <td>0.644407</td>\n",
       "      <td>0.665835</td>\n",
       "      <td>0.667582</td>\n",
       "    </tr>\n",
       "    <tr>\n",
       "      <td>8</td>\n",
       "      <td>841570.098729</td>\n",
       "      <td>838015.841584</td>\n",
       "      <td>833260.130081</td>\n",
       "    </tr>\n",
       "    <tr>\n",
       "      <td>9</td>\n",
       "      <td>365132.113428</td>\n",
       "      <td>387740.982143</td>\n",
       "      <td>405210.445216</td>\n",
       "    </tr>\n",
       "    <tr>\n",
       "      <td>10</td>\n",
       "      <td>492495.422668</td>\n",
       "      <td>482215.092264</td>\n",
       "      <td>472065.416147</td>\n",
       "    </tr>\n",
       "    <tr>\n",
       "      <td>11</td>\n",
       "      <td>667342.000000</td>\n",
       "      <td>691456.164000</td>\n",
       "      <td>693561.607500</td>\n",
       "    </tr>\n",
       "    <tr>\n",
       "      <td>12</td>\n",
       "      <td>0.761962</td>\n",
       "      <td>0.758684</td>\n",
       "      <td>0.754122</td>\n",
       "    </tr>\n",
       "    <tr>\n",
       "      <td>13</td>\n",
       "      <td>0.382383</td>\n",
       "      <td>0.407463</td>\n",
       "      <td>0.428059</td>\n",
       "    </tr>\n",
       "    <tr>\n",
       "      <td>14</td>\n",
       "      <td>0.524186</td>\n",
       "      <td>0.513262</td>\n",
       "      <td>0.502613</td>\n",
       "    </tr>\n",
       "    <tr>\n",
       "      <td>15</td>\n",
       "      <td>0.488707</td>\n",
       "      <td>0.500932</td>\n",
       "      <td>0.564706</td>\n",
       "    </tr>\n",
       "    <tr>\n",
       "      <td>16</td>\n",
       "      <td>0.530740</td>\n",
       "      <td>0.549979</td>\n",
       "      <td>0.551757</td>\n",
       "    </tr>\n",
       "    <tr>\n",
       "      <td>17</td>\n",
       "      <td>0.448018</td>\n",
       "      <td>0.449122</td>\n",
       "      <td>0.451848</td>\n",
       "    </tr>\n",
       "    <tr>\n",
       "      <td>18</td>\n",
       "      <td>0.842663</td>\n",
       "      <td>0.843375</td>\n",
       "      <td>0.844577</td>\n",
       "    </tr>\n",
       "  </tbody>\n",
       "</table>\n",
       "</div>"
      ],
      "text/plain": [
       "         Sep 2019       Oct 2019       Nov 2019\n",
       "0        0.982352       0.982187       0.982034\n",
       "1        0.903230       0.901495       0.898615\n",
       "2        0.775815       0.793667       0.823065\n",
       "3        0.680405       0.680875       0.682371\n",
       "4        0.931061       0.932325       0.932790\n",
       "5        0.752497       0.755493       0.757966\n",
       "6        0.949606       0.962950       0.963438\n",
       "7        0.644407       0.665835       0.667582\n",
       "8   841570.098729  838015.841584  833260.130081\n",
       "9   365132.113428  387740.982143  405210.445216\n",
       "10  492495.422668  482215.092264  472065.416147\n",
       "11  667342.000000  691456.164000  693561.607500\n",
       "12       0.761962       0.758684       0.754122\n",
       "13       0.382383       0.407463       0.428059\n",
       "14       0.524186       0.513262       0.502613\n",
       "15       0.488707       0.500932       0.564706\n",
       "16       0.530740       0.549979       0.551757\n",
       "17       0.448018       0.449122       0.451848\n",
       "18       0.842663       0.843375       0.844577"
      ]
     },
     "execution_count": 71,
     "metadata": {},
     "output_type": "execute_result"
    }
   ],
   "source": [
    "['B','C','D']\n",
    "['1','2','3','4','5','6','7','8','9','10','11','12','13','14','15','16','17','18','19','20']"
   ]
  },
  {
   "cell_type": "code",
   "execution_count": 97,
   "metadata": {},
   "outputs": [],
   "source": [
    "row_num=1\n",
    "for row in history_list:\n",
    "    ws['B'+str(row_num)]=row[0]\n",
    "    ws['C'+str(row_num)]=row[1]\n",
    "    ws['D'+str(row_num)]=row[2]\n",
    "    row_num+=1"
   ]
  },
  {
   "cell_type": "code",
   "execution_count": 88,
   "metadata": {},
   "outputs": [
    {
     "data": {
      "text/plain": [
       "'B0'"
      ]
     },
     "execution_count": 88,
     "metadata": {},
     "output_type": "execute_result"
    }
   ],
   "source": [
    "'B'+str(row_num)"
   ]
  },
  {
   "cell_type": "code",
   "execution_count": 94,
   "metadata": {},
   "outputs": [
    {
     "data": {
      "text/plain": [
       "'Sep 2019'"
      ]
     },
     "execution_count": 94,
     "metadata": {},
     "output_type": "execute_result"
    }
   ],
   "source": [
    "history_list[0][0]"
   ]
  },
  {
   "cell_type": "code",
   "execution_count": 98,
   "metadata": {},
   "outputs": [
    {
     "name": "stdout",
     "output_type": "stream",
     "text": [
      "('Core Existing Data', 'Sep 2019', 'Oct 2019', 'Nov 2019', 'Nov 2019')\n",
      "('mailing_completness', 0.9823521926545674, 0.9821871719003532, 0.9820342941879354, 0.9820342941879354)\n",
      "('polo_completeness', 0.9032298331236569, 0.9014950109182065, 0.898614843152257, 0.898614843152257)\n",
      "('phone_completeness', 0.7758146786565696, 0.7936667058351204, 0.823064728385616, 0.823064728385616)\n",
      "('fax_completeness', 0.6804053690223856, 0.6808750232562694, 0.6823712318286151, 0.6823712318286151)\n",
      "('practice_compelteness', 0.9310614134151967, 0.9323247749037574, 0.93279029694369, 0.93279029694369)\n",
      "('employment_completeness', 0.7524972561993988, 0.7554929846330056, 0.757966151315109, 0.757966151315109)\n",
      "('spec_completeness', 0.9496063242615598, 0.9629497947885846, 0.9634377242431619, 0.9634377242431619)\n",
      "('email_completeness', 0.64440662329606, 0.6658346855015749, 0.6675823345314184, 0.6675823345314184)\n",
      "('polo_correct', 841570.0987292278, 838015.8415841584, 833260.1300813007, 833260.1300813007)\n",
      "('phone_correct', 365132.11342828075, 387740.9821428571, 405210.44521566684, 405210.44521566684)\n",
      "('fax_correct', 492495.42266750155, 482215.0922639209, 472065.4161472247, 472065.4161472247)\n",
      "('email_corect', 667341.9999999999, 691456.164, 693561.6075, 693561.6075)\n",
      "('polo_combo', 0.7619622150398006, 0.7586839200796787, 0.7541221222117857, 0.7541221222117857)\n",
      "('phone_combo', 0.3823827180153692, 0.407462817727852, 0.42805894897199365, 0.42805894897199365)\n",
      "('fax_combo', 0.5241862277315018, 0.5132622448716817, 0.5026133012118458, 0.5026133012118458)\n",
      "('employment_combo', 0.4887069949205655, 0.5009324843237948, 0.5647061560703246, 0.5647061560703246)\n",
      "('email_combo', 0.5307401103882675, 0.5499794502243008, 0.5517567994902173, 0.5517567994902173)\n",
      "('do_student', 0.4480176667471792, 0.44912183844587833, 0.4518477623270419, 0.4518477623270419)\n",
      "('do_physician', 0.8426626463678574, 0.843374831202945, 0.8445772211842616, 0.8445772211842616)\n"
     ]
    }
   ],
   "source": [
    "for row in ws.iter_rows(min_row=1, min_col = 0, max_col=5, max_row=20, values_only=True):\n",
    "    print(row)"
   ]
  },
  {
   "cell_type": "code",
   "execution_count": 96,
   "metadata": {},
   "outputs": [
    {
     "data": {
      "text/plain": [
       "0.8426626463678574"
      ]
     },
     "execution_count": 96,
     "metadata": {},
     "output_type": "execute_result"
    }
   ],
   "source": [
    "ws['B1'].value"
   ]
  },
  {
   "cell_type": "code",
   "execution_count": null,
   "metadata": {},
   "outputs": [],
   "source": []
  }
 ],
 "metadata": {
  "kernelspec": {
   "display_name": "Python 3",
   "language": "python",
   "name": "python3"
  },
  "language_info": {
   "codemirror_mode": {
    "name": "ipython",
    "version": 3
   },
   "file_extension": ".py",
   "mimetype": "text/x-python",
   "name": "python",
   "nbconvert_exporter": "python",
   "pygments_lexer": "ipython3",
   "version": "3.7.4"
  }
 },
 "nbformat": 4,
 "nbformat_minor": 2
}
