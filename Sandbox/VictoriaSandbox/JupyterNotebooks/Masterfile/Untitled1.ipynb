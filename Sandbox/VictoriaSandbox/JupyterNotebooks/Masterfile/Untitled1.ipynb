{
 "cells": [
  {
   "cell_type": "code",
   "execution_count": 1,
   "metadata": {},
   "outputs": [],
   "source": [
    "months = ['January',\n",
    "         'February',\n",
    "         'March',\n",
    "         'April',\n",
    "         'May',\n",
    "         'June', \n",
    "         'July',\n",
    "         'August',\n",
    "         'September',\n",
    "         'October',\n",
    "         'November',\n",
    "         'December']"
   ]
  },
  {
   "cell_type": "code",
   "execution_count": 7,
   "metadata": {},
   "outputs": [],
   "source": [
    "def monthsInterval(date_1,date_2):\n",
    "    month_1 = date_1.split(',')[0].split(' ')[0]\n",
    "    month_2 = date_2.split(',')[0].split(' ')[0]\n",
    "    month1_index = months.index(month_1)\n",
    "    month2_index = months.index(month_2)\n",
    "    if month1_index < month2_index:\n",
    "        month_list = months[month1_index:month2_index+1]\n",
    "    else:\n",
    "        month_list = months[month2_index:month1_index+1]\n",
    "    return(month_list)"
   ]
  },
  {
   "cell_type": "code",
   "execution_count": 10,
   "metadata": {},
   "outputs": [
    {
     "data": {
      "text/plain": [
       "['January',\n",
       " 'February',\n",
       " 'March',\n",
       " 'April',\n",
       " 'May',\n",
       " 'June',\n",
       " 'July',\n",
       " 'August',\n",
       " 'September',\n",
       " 'October',\n",
       " 'November',\n",
       " 'December']"
      ]
     },
     "execution_count": 10,
     "metadata": {},
     "output_type": "execute_result"
    }
   ],
   "source": [
    "date1 = 'December 12, 2019'\n",
    "date2 = 'January 4, 2019'\n",
    "monthsInterval(date1,date2)"
   ]
  },
  {
   "cell_type": "code",
   "execution_count": null,
   "metadata": {},
   "outputs": [],
   "source": []
  }
 ],
 "metadata": {
  "kernelspec": {
   "display_name": "Python 3",
   "language": "python",
   "name": "python3"
  },
  "language_info": {
   "codemirror_mode": {
    "name": "ipython",
    "version": 3
   },
   "file_extension": ".py",
   "mimetype": "text/x-python",
   "name": "python",
   "nbconvert_exporter": "python",
   "pygments_lexer": "ipython3",
   "version": "3.7.4"
  }
 },
 "nbformat": 4,
 "nbformat_minor": 2
}
