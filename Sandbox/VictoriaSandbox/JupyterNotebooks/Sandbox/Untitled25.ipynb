{
 "cells": [
  {
   "cell_type": "code",
   "execution_count": 16,
   "metadata": {},
   "outputs": [],
   "source": [
    "import os\n",
    "from datetime import datetime\n",
    "import pandas as pd\n",
    "from dateutil.relativedelta import relativedelta\n",
    "\n",
    "def get_ppd_date():\n",
    "    today = datetime.today()\n",
    "    last_month = (today - relativedelta(months=1))\n",
    "    last_day = (last_month + relativedelta(day=31))\n",
    "    last_day.weekday()\n",
    "    if last_day.weekday()==5:\n",
    "        ppd_date = last_day\n",
    "    else:\n",
    "        ppd_date = (last_day + relativedelta(days=7))\n",
    "        possibilities = pd.date_range(last_day, today)\n",
    "        for day in possibilities:\n",
    "            if day.weekday()==5:\n",
    "                ppd_date = day\n",
    "                break\n",
    "    ppd_date = ppd_date.strftime(\"%Y%m%d\")\n",
    "    return ppd_date"
   ]
  },
  {
   "cell_type": "code",
   "execution_count": 17,
   "metadata": {},
   "outputs": [
    {
     "data": {
      "text/plain": [
       "'20220604'"
      ]
     },
     "execution_count": 17,
     "metadata": {},
     "output_type": "execute_result"
    }
   ],
   "source": [
    "get_ppd_date()"
   ]
  },
  {
   "cell_type": "code",
   "execution_count": 4,
   "metadata": {},
   "outputs": [
    {
     "name": "stdout",
     "output_type": "stream",
     "text": [
      "2022-06-13 09:49:44.030984\n",
      "2022-05-13 09:49:44.030984\n",
      "2022-05-31 09:49:44.030984\n"
     ]
    }
   ],
   "source": [
    "today = datetime.today()\n",
    "print(today)\n",
    "last_month = (today - relativedelta(months=1))\n",
    "print(last_month)\n",
    "last_day = (last_month + relativedelta(day=31))\n",
    "print(last_day)"
   ]
  },
  {
   "cell_type": "code",
   "execution_count": 6,
   "metadata": {},
   "outputs": [
    {
     "data": {
      "text/plain": [
       "False"
      ]
     },
     "execution_count": 6,
     "metadata": {},
     "output_type": "execute_result"
    }
   ],
   "source": [
    "last_day.weekday()\n",
    "last_day.weekday()==5"
   ]
  },
  {
   "cell_type": "code",
   "execution_count": 8,
   "metadata": {},
   "outputs": [
    {
     "data": {
      "text/plain": [
       "datetime.datetime(2022, 6, 7, 9, 49, 44, 30984)"
      ]
     },
     "execution_count": 8,
     "metadata": {},
     "output_type": "execute_result"
    }
   ],
   "source": [
    "last_day + relativedelta(days=7)"
   ]
  },
  {
   "cell_type": "code",
   "execution_count": null,
   "metadata": {},
   "outputs": [],
   "source": [
    "def get_first_friday(possibilites):\n",
    "    "
   ]
  },
  {
   "cell_type": "code",
   "execution_count": 13,
   "metadata": {},
   "outputs": [
    {
     "data": {
      "text/plain": [
       "DatetimeIndex(['2022-05-31 09:49:44.030984', '2022-06-01 09:49:44.030984',\n",
       "               '2022-06-02 09:49:44.030984', '2022-06-03 09:49:44.030984',\n",
       "               '2022-06-04 09:49:44.030984', '2022-06-05 09:49:44.030984',\n",
       "               '2022-06-06 09:49:44.030984', '2022-06-07 09:49:44.030984',\n",
       "               '2022-06-08 09:49:44.030984', '2022-06-09 09:49:44.030984',\n",
       "               '2022-06-10 09:49:44.030984', '2022-06-11 09:49:44.030984',\n",
       "               '2022-06-12 09:49:44.030984', '2022-06-13 09:49:44.030984'],\n",
       "              dtype='datetime64[ns]', freq='D')"
      ]
     },
     "execution_count": 13,
     "metadata": {},
     "output_type": "execute_result"
    }
   ],
   "source": []
  },
  {
   "cell_type": "code",
   "execution_count": null,
   "metadata": {},
   "outputs": [],
   "source": []
  }
 ],
 "metadata": {
  "kernelspec": {
   "display_name": "Python 3",
   "language": "python",
   "name": "python3"
  },
  "language_info": {
   "codemirror_mode": {
    "name": "ipython",
    "version": 3
   },
   "file_extension": ".py",
   "mimetype": "text/x-python",
   "name": "python",
   "nbconvert_exporter": "python",
   "pygments_lexer": "ipython3",
   "version": "3.7.4"
  }
 },
 "nbformat": 4,
 "nbformat_minor": 2
}
