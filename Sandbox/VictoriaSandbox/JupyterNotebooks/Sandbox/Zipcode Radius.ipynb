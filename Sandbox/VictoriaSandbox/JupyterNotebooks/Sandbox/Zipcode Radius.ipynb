{
 "cells": [
  {
   "cell_type": "code",
   "execution_count": null,
   "metadata": {},
   "outputs": [],
   "source": [
    "import pgeocode"
   ]
  },
  {
   "cell_type": "code",
   "execution_count": 3,
   "metadata": {},
   "outputs": [],
   "source": [
    "from pyzipcode import ZipCodeDatabase"
   ]
  },
  {
   "cell_type": "code",
   "execution_count": 4,
   "metadata": {},
   "outputs": [],
   "source": [
    "from pyzipcode import ZipCodeDatabase\n",
    "zcdb = ZipCodeDatabase()\n",
    "in_radius = [z.zip for z in zcdb.get_zipcodes_around_radius('60608', 8)] # ('ZIP', radius in miles)"
   ]
  },
  {
   "cell_type": "code",
   "execution_count": 5,
   "metadata": {},
   "outputs": [
    {
     "data": {
      "text/plain": [
       "['60006',\n",
       " '60009',\n",
       " '60026',\n",
       " '60065',\n",
       " '60078',\n",
       " '60094',\n",
       " '60095',\n",
       " '60159',\n",
       " '60161',\n",
       " '60168',\n",
       " '60204',\n",
       " '60303',\n",
       " '60412',\n",
       " '60415',\n",
       " '60453',\n",
       " '60454',\n",
       " '60456',\n",
       " '60459',\n",
       " '60499',\n",
       " '60601',\n",
       " '60602',\n",
       " '60603',\n",
       " '60604',\n",
       " '60605',\n",
       " '60606',\n",
       " '60607',\n",
       " '60608',\n",
       " '60609',\n",
       " '60610',\n",
       " '60611',\n",
       " '60612',\n",
       " '60613',\n",
       " '60614',\n",
       " '60615',\n",
       " '60616',\n",
       " '60617',\n",
       " '60618',\n",
       " '60619',\n",
       " '60620',\n",
       " '60621',\n",
       " '60622',\n",
       " '60623',\n",
       " '60624',\n",
       " '60625',\n",
       " '60626',\n",
       " '60628',\n",
       " '60629',\n",
       " '60630',\n",
       " '60632',\n",
       " '60636',\n",
       " '60637',\n",
       " '60638',\n",
       " '60639',\n",
       " '60640',\n",
       " '60641',\n",
       " '60643',\n",
       " '60644',\n",
       " '60645',\n",
       " '60646',\n",
       " '60647',\n",
       " '60649',\n",
       " '60650',\n",
       " '60651',\n",
       " '60652',\n",
       " '60653',\n",
       " '60654',\n",
       " '60655',\n",
       " '60657',\n",
       " '60659',\n",
       " '60660',\n",
       " '60661',\n",
       " '60663',\n",
       " '60664',\n",
       " '60665',\n",
       " '60667',\n",
       " '60668',\n",
       " '60669',\n",
       " '60670',\n",
       " '60671',\n",
       " '60672',\n",
       " '60673',\n",
       " '60674',\n",
       " '60675',\n",
       " '60677',\n",
       " '60678',\n",
       " '60679',\n",
       " '60680',\n",
       " '60681',\n",
       " '60683',\n",
       " '60684',\n",
       " '60685',\n",
       " '60687',\n",
       " '60690',\n",
       " '60691',\n",
       " '60692',\n",
       " '60694',\n",
       " '60697',\n",
       " '60699',\n",
       " '60701',\n",
       " '60712',\n",
       " '60804',\n",
       " '60805']"
      ]
     },
     "execution_count": 5,
     "metadata": {},
     "output_type": "execute_result"
    }
   ],
   "source": [
    "in_radius"
   ]
  },
  {
   "cell_type": "code",
   "execution_count": null,
   "metadata": {},
   "outputs": [],
   "source": []
  }
 ],
 "metadata": {
  "kernelspec": {
   "display_name": "Python 3",
   "language": "python",
   "name": "python3"
  },
  "language_info": {
   "codemirror_mode": {
    "name": "ipython",
    "version": 3
   },
   "file_extension": ".py",
   "mimetype": "text/x-python",
   "name": "python",
   "nbconvert_exporter": "python",
   "pygments_lexer": "ipython3",
   "version": "3.7.4"
  }
 },
 "nbformat": 4,
 "nbformat_minor": 2
}
