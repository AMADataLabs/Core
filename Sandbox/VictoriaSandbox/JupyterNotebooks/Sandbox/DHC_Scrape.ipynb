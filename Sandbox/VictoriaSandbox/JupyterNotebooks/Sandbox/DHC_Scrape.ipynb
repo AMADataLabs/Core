{
 "cells": [
  {
   "cell_type": "code",
   "execution_count": 1,
   "metadata": {},
   "outputs": [],
   "source": [
    "from selenium import webdriver\n",
    "import pandas as pd\n",
    "import time\n",
    "from selenium.webdriver.support.ui import WebDriverWait\n",
    "from selenium.webdriver.support.expected_conditions import presence_of_element_located\n",
    "from selenium.webdriver.common.by import By\n",
    "from datetime import datetime\n",
    "from selenium.webdriver.support.ui import Select\n",
    "from selenium.webdriver.common.action_chains import ActionChains"
   ]
  },
  {
   "cell_type": "code",
   "execution_count": 2,
   "metadata": {},
   "outputs": [],
   "source": [
    "email = \"victoria.grose@ama-assn.org\"\n",
    "password = 'StMungos10946'"
   ]
  },
  {
   "cell_type": "code",
   "execution_count": 3,
   "metadata": {},
   "outputs": [],
   "source": [
    "def wait(browser):\n",
    "    '''Define wait'''\n",
    "    return WebDriverWait(browser, 30)"
   ]
  },
  {
   "cell_type": "code",
   "execution_count": 23,
   "metadata": {},
   "outputs": [],
   "source": [
    "url = 'https://www.defhc.com/physicians/PhysicianSearch'"
   ]
  },
  {
   "cell_type": "code",
   "execution_count": 10,
   "metadata": {},
   "outputs": [],
   "source": [
    "driver_path = 'C:/Users/vigrose/Jupyter Notebooks/chromedriver.exe'\n",
    "driver = webdriver.Chrome(executable_path=driver_path)"
   ]
  },
  {
   "cell_type": "code",
   "execution_count": 24,
   "metadata": {},
   "outputs": [],
   "source": [
    "time.sleep(1)\n",
    "driver.get(url)"
   ]
  },
  {
   "cell_type": "code",
   "execution_count": 13,
   "metadata": {},
   "outputs": [],
   "source": [
    "email_input = wait(driver).until(presence_of_element_located((By.CLASS_NAME,\"form-control\")))\n",
    "email_input.send_keys(email)\n",
    "login_button = driver.find_element_by_class_name(\"btn\")\n",
    "login_button.click()\n",
    "password_input = wait(driver).until(presence_of_element_located((By.ID,\"Password\")))\n",
    "password_input.send_keys(password)\n",
    "login_button = driver.find_element_by_class_name(\"btn\")\n",
    "login_button.click()"
   ]
  },
  {
   "cell_type": "code",
   "execution_count": null,
   "metadata": {},
   "outputs": [],
   "source": [
    "state_dropdown = wait(driver).until(presence_of_element_located((By.ID, \"MainContent_MainContent_ProductPageContent_hq_state\")))\n",
    "state_select = Select(state_dropdown)\n",
    "state_options = state_select.options\n",
    "state_select.deselect_all()"
   ]
  },
  {
   "cell_type": "code",
   "execution_count": 14,
   "metadata": {},
   "outputs": [],
   "source": [
    "def get_state_report(state_dict, driver):\n",
    "    state_dropdown = wait(driver).until(presence_of_element_located((By.ID, \"MainContent_MainContent_ProductPageContent_hq_state\")))\n",
    "    state_select = Select(state_dropdown)\n",
    "    state_options = state_select.options\n",
    "    state_select.deselect_all()\n",
    "    for state_option in state_options:\n",
    "        if state_option.text in state_dict['LIST']:\n",
    "            state_select.select_by_visible_text(state_option.text)\n",
    "    submit_button = driver.find_element_by_xpath('//*[@id=\"MainContent_MainContent_ProductPageContent__search\"]')\n",
    "    submit_button.click()\n",
    "    \n",
    "    get_report = wait(driver).until(presence_of_element_located((By.XPATH,'//*[@id=\"ui-id-3\"]/span')))\n",
    "    get_report.click()\n",
    "    time.sleep(3)\n",
    "    get_templates = wait(driver).until(presence_of_element_located((By.XPATH,'//*[@id=\"dhc-rb-rhs-top\"]/div[4]/span/span/span[2]/span')))\n",
    "    get_templates.click()\n",
    "    time.sleep(3)\n",
    "    GAH = wait(driver).until(presence_of_element_located((By.XPATH,'//*[@id=\"reportTemplatesId_listbox\"]/li[2]')))\n",
    "    GAH.click()\n",
    "    template_name_input = wait(driver).until(presence_of_element_located((By.ID, 'reportNameTxt')))\n",
    "    template_name_input.send_keys(state_dict['NAME'])\n",
    "    export_button = driver.find_element_by_xpath('//*[@id=\"dhc-rb-rhs-top\"]/div[2]/div[2]/button[1]')\n",
    "    export_button.click()\n",
    "    time.sleep(60)\n",
    "    try:\n",
    "        driver.execute_script(\"window.history.go(-1)\")\n",
    "    except:\n",
    "        obj = driver.switch_to.alert\n",
    "        time.sleep(2)\n",
    "        obj.accept()\n",
    "        driver.close\n",
    "    driver.execute_script(\"window.history.go(-1)\")\n",
    "    return(driver)"
   ]
  },
  {
   "cell_type": "code",
   "execution_count": 17,
   "metadata": {},
   "outputs": [],
   "source": [
    "state_info_list = [\n",
    "                  {'LIST': ['PA','PR','RI','SC','SD','TN','TX'],\n",
    "                   'NAME': '_PA-TX'},\n",
    "                  {'LIST': ['UT','VA','VI','VT','WA','WI', 'WV','WY'],\n",
    "                   'NAME': '_UT-WY'}]"
   ]
  },
  {
   "cell_type": "code",
   "execution_count": 15,
   "metadata": {},
   "outputs": [],
   "source": [
    "state_info_list = [{'LIST': ['AK', 'AL','AR', 'AS','AZ'],\n",
    "                   'NAME': '_AK-AZ'},\n",
    "                  {'LIST': ['CA', 'CO', 'CT','DC','DE'],\n",
    "                   'NAME': '_CA-DE'},\n",
    "                  {'LIST': ['FL', 'GA', 'GU', 'HI', 'IA','ID', 'IL', 'IN', 'KS' 'KY'],\n",
    "                   'NAME': '_FL-KY'},\n",
    "                  {'LIST': ['LA', 'MA', 'MD', 'ME', 'MI', 'MN', 'MO', 'MP', 'MS', 'MT', 'NC', 'ND' , 'NE','NH'],\n",
    "                   'NAME': '_LA-NH'},\n",
    "                  {'LIST': ['NJ', 'NM', 'NV', 'NY', 'OH', 'OK', 'OR'],\n",
    "                   'NAME': '_NJ-OR'},\n",
    "                  {'LIST': ['PA','PR','RI','SC','SD','TN','TX'],\n",
    "                   'NAME': '_PA-TX'},\n",
    "                  {'LIST': ['UT','VA','VI','VT','WA','WI', 'WV','WY'],\n",
    "                   'NAME': '_UT-WY'}]"
   ]
  },
  {
   "cell_type": "code",
   "execution_count": 16,
   "metadata": {},
   "outputs": [
    {
     "ename": "TimeoutException",
     "evalue": "Message: \n",
     "output_type": "error",
     "traceback": [
      "\u001b[1;31m---------------------------------------------------------------------------\u001b[0m",
      "\u001b[1;31mTimeoutException\u001b[0m                          Traceback (most recent call last)",
      "\u001b[1;32m<ipython-input-16-21de71981c29>\u001b[0m in \u001b[0;36m<module>\u001b[1;34m\u001b[0m\n\u001b[0;32m      1\u001b[0m \u001b[1;32mfor\u001b[0m \u001b[0mstate_info\u001b[0m \u001b[1;32min\u001b[0m \u001b[0mstate_info_list\u001b[0m\u001b[1;33m:\u001b[0m\u001b[1;33m\u001b[0m\u001b[1;33m\u001b[0m\u001b[0m\n\u001b[1;32m----> 2\u001b[1;33m     \u001b[0mdriver\u001b[0m \u001b[1;33m=\u001b[0m \u001b[0mget_state_report\u001b[0m\u001b[1;33m(\u001b[0m\u001b[0mstate_info\u001b[0m\u001b[1;33m,\u001b[0m \u001b[0mdriver\u001b[0m\u001b[1;33m)\u001b[0m\u001b[1;33m\u001b[0m\u001b[1;33m\u001b[0m\u001b[0m\n\u001b[0m",
      "\u001b[1;32m<ipython-input-14-cda151c63123>\u001b[0m in \u001b[0;36mget_state_report\u001b[1;34m(state_dict, driver)\u001b[0m\n\u001b[0;32m      1\u001b[0m \u001b[1;32mdef\u001b[0m \u001b[0mget_state_report\u001b[0m\u001b[1;33m(\u001b[0m\u001b[0mstate_dict\u001b[0m\u001b[1;33m,\u001b[0m \u001b[0mdriver\u001b[0m\u001b[1;33m)\u001b[0m\u001b[1;33m:\u001b[0m\u001b[1;33m\u001b[0m\u001b[1;33m\u001b[0m\u001b[0m\n\u001b[1;32m----> 2\u001b[1;33m     \u001b[0mstate_dropdown\u001b[0m \u001b[1;33m=\u001b[0m \u001b[0mwait\u001b[0m\u001b[1;33m(\u001b[0m\u001b[0mdriver\u001b[0m\u001b[1;33m)\u001b[0m\u001b[1;33m.\u001b[0m\u001b[0muntil\u001b[0m\u001b[1;33m(\u001b[0m\u001b[0mpresence_of_element_located\u001b[0m\u001b[1;33m(\u001b[0m\u001b[1;33m(\u001b[0m\u001b[0mBy\u001b[0m\u001b[1;33m.\u001b[0m\u001b[0mID\u001b[0m\u001b[1;33m,\u001b[0m \u001b[1;34m\"MainContent_MainContent_ProductPageContent_hq_state\"\u001b[0m\u001b[1;33m)\u001b[0m\u001b[1;33m)\u001b[0m\u001b[1;33m)\u001b[0m\u001b[1;33m\u001b[0m\u001b[1;33m\u001b[0m\u001b[0m\n\u001b[0m\u001b[0;32m      3\u001b[0m     \u001b[0mstate_select\u001b[0m \u001b[1;33m=\u001b[0m \u001b[0mSelect\u001b[0m\u001b[1;33m(\u001b[0m\u001b[0mstate_dropdown\u001b[0m\u001b[1;33m)\u001b[0m\u001b[1;33m\u001b[0m\u001b[1;33m\u001b[0m\u001b[0m\n\u001b[0;32m      4\u001b[0m     \u001b[0mstate_options\u001b[0m \u001b[1;33m=\u001b[0m \u001b[0mstate_select\u001b[0m\u001b[1;33m.\u001b[0m\u001b[0moptions\u001b[0m\u001b[1;33m\u001b[0m\u001b[1;33m\u001b[0m\u001b[0m\n\u001b[0;32m      5\u001b[0m     \u001b[0mstate_select\u001b[0m\u001b[1;33m.\u001b[0m\u001b[0mdeselect_all\u001b[0m\u001b[1;33m(\u001b[0m\u001b[1;33m)\u001b[0m\u001b[1;33m\u001b[0m\u001b[1;33m\u001b[0m\u001b[0m\n",
      "\u001b[1;32m~\\AppData\\Local\\Continuum\\anaconda3\\lib\\site-packages\\selenium\\webdriver\\support\\wait.py\u001b[0m in \u001b[0;36muntil\u001b[1;34m(self, method, message)\u001b[0m\n\u001b[0;32m     78\u001b[0m             \u001b[1;32mif\u001b[0m \u001b[0mtime\u001b[0m\u001b[1;33m.\u001b[0m\u001b[0mtime\u001b[0m\u001b[1;33m(\u001b[0m\u001b[1;33m)\u001b[0m \u001b[1;33m>\u001b[0m \u001b[0mend_time\u001b[0m\u001b[1;33m:\u001b[0m\u001b[1;33m\u001b[0m\u001b[1;33m\u001b[0m\u001b[0m\n\u001b[0;32m     79\u001b[0m                 \u001b[1;32mbreak\u001b[0m\u001b[1;33m\u001b[0m\u001b[1;33m\u001b[0m\u001b[0m\n\u001b[1;32m---> 80\u001b[1;33m         \u001b[1;32mraise\u001b[0m \u001b[0mTimeoutException\u001b[0m\u001b[1;33m(\u001b[0m\u001b[0mmessage\u001b[0m\u001b[1;33m,\u001b[0m \u001b[0mscreen\u001b[0m\u001b[1;33m,\u001b[0m \u001b[0mstacktrace\u001b[0m\u001b[1;33m)\u001b[0m\u001b[1;33m\u001b[0m\u001b[1;33m\u001b[0m\u001b[0m\n\u001b[0m\u001b[0;32m     81\u001b[0m \u001b[1;33m\u001b[0m\u001b[0m\n\u001b[0;32m     82\u001b[0m     \u001b[1;32mdef\u001b[0m \u001b[0muntil_not\u001b[0m\u001b[1;33m(\u001b[0m\u001b[0mself\u001b[0m\u001b[1;33m,\u001b[0m \u001b[0mmethod\u001b[0m\u001b[1;33m,\u001b[0m \u001b[0mmessage\u001b[0m\u001b[1;33m=\u001b[0m\u001b[1;34m''\u001b[0m\u001b[1;33m)\u001b[0m\u001b[1;33m:\u001b[0m\u001b[1;33m\u001b[0m\u001b[1;33m\u001b[0m\u001b[0m\n",
      "\u001b[1;31mTimeoutException\u001b[0m: Message: \n"
     ]
    }
   ],
   "source": [
    "for state_info in state_info_list:\n",
    "    driver = get_state_report(state_info, driver)"
   ]
  },
  {
   "cell_type": "code",
   "execution_count": 94,
   "metadata": {},
   "outputs": [],
   "source": [
    "driver.execute_script(\"window.history.go(-2)\")"
   ]
  },
  {
   "cell_type": "code",
   "execution_count": 20,
   "metadata": {},
   "outputs": [],
   "source": [
    "driver.quit()"
   ]
  },
  {
   "cell_type": "code",
   "execution_count": null,
   "metadata": {},
   "outputs": [],
   "source": [
    "AK-AZ\n",
    "CA\n",
    "CO-DE\n",
    "FL-HI\n",
    "IA-KS\n",
    "KY-ME\n",
    "MI-MT\n",
    "NC-NV\n",
    "NY\n",
    "OH-OR\n",
    "PA-TN\n",
    "TX-VA\n",
    "VI-WY"
   ]
  }
 ],
 "metadata": {
  "kernelspec": {
   "display_name": "Python 3",
   "language": "python",
   "name": "python3"
  },
  "language_info": {
   "codemirror_mode": {
    "name": "ipython",
    "version": 3
   },
   "file_extension": ".py",
   "mimetype": "text/x-python",
   "name": "python",
   "nbconvert_exporter": "python",
   "pygments_lexer": "ipython3",
   "version": "3.7.4"
  }
 },
 "nbformat": 4,
 "nbformat_minor": 2
}
