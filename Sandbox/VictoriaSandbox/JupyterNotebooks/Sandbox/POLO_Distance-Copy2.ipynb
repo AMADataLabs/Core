{
 "cells": [
  {
   "cell_type": "code",
   "execution_count": 3,
   "metadata": {},
   "outputs": [],
   "source": [
    "import pandas as pd\n",
    "import pyodbc\n",
    "import pgeocode\n",
    "import useful_functions as use"
   ]
  },
  {
   "cell_type": "code",
   "execution_count": 3,
   "metadata": {},
   "outputs": [],
   "source": [
    "username = 'vigrose'\n",
    "password_edw = 'Ravenclaw~10946'\n",
    "w = \"DSN=PRDDW; UID={}; PWD={}\".format(username, password_edw)\n",
    "AMAEDW = pyodbc.connect(w)"
   ]
  },
  {
   "cell_type": "code",
   "execution_count": 4,
   "metadata": {},
   "outputs": [
    {
     "name": "stdout",
     "output_type": "stream",
     "text": [
      "C:/Users/vigrose/Data/PPD\\ppd_data_20210731.csv\n"
     ]
    },
    {
     "name": "stderr",
     "output_type": "stream",
     "text": [
      "C:\\Users\\vigrose\\AppData\\Local\\Continuum\\anaconda3\\lib\\site-packages\\IPython\\core\\interactiveshell.py:3249: DtypeWarning: Columns (13,14,20,21,49,56,57,72) have mixed types. Specify dtype option on import or set low_memory=False.\n",
      "  if (await self.run_code(code, result,  async_=asy)):\n"
     ]
    },
    {
     "data": {
      "text/plain": [
       "Index(['ME', 'RECORD_ID', 'UPDATE_TYPE', 'ADDRESS_TYPE', 'MAILING_NAME',\n",
       "       'LAST_NAME', 'FIRST_NAME', 'MIDDLE_NAME', 'SUFFIX', 'MAILING_LINE_1',\n",
       "       'MAILING_LINE_2', 'CITY', 'STATE', 'ZIP', 'SECTOR', 'CARRIER_ROUTE',\n",
       "       'ADDRESS_UNDELIVERABLE_FLAG', 'FIPS_COUNTY', 'FIPS_STATE',\n",
       "       'PRINTER_CONTROL_CODE', 'PC_ZIP', 'PC_SECTOR', 'DELIVERY_POINT_CODE',\n",
       "       'CHECK_DIGIT', 'PRINTER_CONTROL_CODE_2', 'REGION', 'DIVISION', 'GROUP',\n",
       "       'TRACT', 'SUFFIX_CENSUS', 'BLOCK_GROUP', 'MSA_POPULATION_SIZE',\n",
       "       'MICRO_METRO_IND', 'CBSA', 'CBSA_DIV_IND', 'MD_DO_CODE', 'BIRTH_YEAR',\n",
       "       'BIRTH_CITY', 'BIRTH_STATE', 'BIRTH_COUNTRY', 'GENDER',\n",
       "       'TELEPHONE_NUMBER', 'PRESUMED_DEAD_FLAG', 'FAX_NUMBER', 'TOP_CD',\n",
       "       'PE_CD', 'PRIM_SPEC_CD', 'SEC_SPEC_CD', 'MPA_CD', 'PRA_RECIPIENT',\n",
       "       'PRA_EXP_DT', 'GME_CONF_FLG', 'FROM_DT', 'TO_DT', 'YEAR_IN_PROGRAM',\n",
       "       'POST_GRADUATE_YEAR', 'GME_SPEC_1', 'GME_SPEC_2', 'TRAINING_TYPE',\n",
       "       'GME_INST_STATE', 'GME_INST_ID', 'MEDSCHOOL_STATE', 'MEDSCHOOL_ID',\n",
       "       'MEDSCHOOL_GRAD_YEAR', 'NO_CONTACT_IND', 'NO_WEB_FLAG', 'PDRP_FLAG',\n",
       "       'PDRP_START_DT', 'POLO_MAILING_LINE_1', 'POLO_MAILING_LINE_2',\n",
       "       'POLO_CITY', 'POLO_STATE', 'POLO_ZIP', 'POLO_SECTOR',\n",
       "       'POLO_CARRIER_ROUTE', 'MOST_RECENT_FORMER_LAST_NAME',\n",
       "       'MOST_RECENT_FORMER_MIDDLE_NAME', 'MOST_RECENT_FORMER_FIRST_NAME',\n",
       "       'NEXT_MOST_RECENT_FORMER_LAST', 'NEXT_MOST_RECENT_FORMER_MIDDLE',\n",
       "       'NEXT_MOST_RECENT_FORMER_FIRST'],\n",
       "      dtype='object')"
      ]
     },
     "execution_count": 4,
     "metadata": {},
     "output_type": "execute_result"
    }
   ],
   "source": [
    "ppd = use.get_ppd()\n",
    "ppd.columns"
   ]
  },
  {
   "cell_type": "code",
   "execution_count": 8,
   "metadata": {},
   "outputs": [
    {
     "data": {
      "text/html": [
       "<div>\n",
       "<style scoped>\n",
       "    .dataframe tbody tr th:only-of-type {\n",
       "        vertical-align: middle;\n",
       "    }\n",
       "\n",
       "    .dataframe tbody tr th {\n",
       "        vertical-align: top;\n",
       "    }\n",
       "\n",
       "    .dataframe thead th {\n",
       "        text-align: right;\n",
       "    }\n",
       "</style>\n",
       "<table border=\"1\" class=\"dataframe\">\n",
       "  <thead>\n",
       "    <tr style=\"text-align: right;\">\n",
       "      <th></th>\n",
       "      <th>ME</th>\n",
       "      <th>RECORD_ID</th>\n",
       "      <th>UPDATE_TYPE</th>\n",
       "      <th>ADDRESS_TYPE</th>\n",
       "      <th>MAILING_NAME</th>\n",
       "      <th>LAST_NAME</th>\n",
       "      <th>FIRST_NAME</th>\n",
       "      <th>MIDDLE_NAME</th>\n",
       "      <th>SUFFIX</th>\n",
       "      <th>MAILING_LINE_1</th>\n",
       "      <th>...</th>\n",
       "      <th>POLO_STATE</th>\n",
       "      <th>POLO_ZIP</th>\n",
       "      <th>POLO_SECTOR</th>\n",
       "      <th>POLO_CARRIER_ROUTE</th>\n",
       "      <th>MOST_RECENT_FORMER_LAST_NAME</th>\n",
       "      <th>MOST_RECENT_FORMER_MIDDLE_NAME</th>\n",
       "      <th>MOST_RECENT_FORMER_FIRST_NAME</th>\n",
       "      <th>NEXT_MOST_RECENT_FORMER_LAST</th>\n",
       "      <th>NEXT_MOST_RECENT_FORMER_MIDDLE</th>\n",
       "      <th>NEXT_MOST_RECENT_FORMER_FIRST</th>\n",
       "    </tr>\n",
       "    <tr>\n",
       "      <th>SUFFIX_CENSUS</th>\n",
       "      <th></th>\n",
       "      <th></th>\n",
       "      <th></th>\n",
       "      <th></th>\n",
       "      <th></th>\n",
       "      <th></th>\n",
       "      <th></th>\n",
       "      <th></th>\n",
       "      <th></th>\n",
       "      <th></th>\n",
       "      <th></th>\n",
       "      <th></th>\n",
       "      <th></th>\n",
       "      <th></th>\n",
       "      <th></th>\n",
       "      <th></th>\n",
       "      <th></th>\n",
       "      <th></th>\n",
       "      <th></th>\n",
       "      <th></th>\n",
       "      <th></th>\n",
       "    </tr>\n",
       "  </thead>\n",
       "  <tbody>\n",
       "    <tr>\n",
       "      <td>0.0</td>\n",
       "      <td>604382</td>\n",
       "      <td>604382</td>\n",
       "      <td>604382</td>\n",
       "      <td>595903</td>\n",
       "      <td>604382</td>\n",
       "      <td>604371</td>\n",
       "      <td>604374</td>\n",
       "      <td>483943</td>\n",
       "      <td>18099</td>\n",
       "      <td>132405</td>\n",
       "      <td>...</td>\n",
       "      <td>462036</td>\n",
       "      <td>462041</td>\n",
       "      <td>456555</td>\n",
       "      <td>458415</td>\n",
       "      <td>132464</td>\n",
       "      <td>111165</td>\n",
       "      <td>132464</td>\n",
       "      <td>14823</td>\n",
       "      <td>11850</td>\n",
       "      <td>14824</td>\n",
       "    </tr>\n",
       "    <tr>\n",
       "      <td>1.0</td>\n",
       "      <td>157377</td>\n",
       "      <td>157377</td>\n",
       "      <td>157377</td>\n",
       "      <td>155590</td>\n",
       "      <td>157377</td>\n",
       "      <td>157374</td>\n",
       "      <td>157374</td>\n",
       "      <td>126839</td>\n",
       "      <td>4979</td>\n",
       "      <td>27269</td>\n",
       "      <td>...</td>\n",
       "      <td>119157</td>\n",
       "      <td>119157</td>\n",
       "      <td>117930</td>\n",
       "      <td>118326</td>\n",
       "      <td>36672</td>\n",
       "      <td>30800</td>\n",
       "      <td>36673</td>\n",
       "      <td>4270</td>\n",
       "      <td>3443</td>\n",
       "      <td>4270</td>\n",
       "    </tr>\n",
       "    <tr>\n",
       "      <td>2.0</td>\n",
       "      <td>146939</td>\n",
       "      <td>146939</td>\n",
       "      <td>146939</td>\n",
       "      <td>145437</td>\n",
       "      <td>146939</td>\n",
       "      <td>146935</td>\n",
       "      <td>146936</td>\n",
       "      <td>118320</td>\n",
       "      <td>4398</td>\n",
       "      <td>22537</td>\n",
       "      <td>...</td>\n",
       "      <td>110290</td>\n",
       "      <td>110290</td>\n",
       "      <td>109034</td>\n",
       "      <td>109356</td>\n",
       "      <td>34186</td>\n",
       "      <td>28669</td>\n",
       "      <td>34185</td>\n",
       "      <td>3916</td>\n",
       "      <td>3101</td>\n",
       "      <td>3916</td>\n",
       "    </tr>\n",
       "    <tr>\n",
       "      <td>3.0</td>\n",
       "      <td>59973</td>\n",
       "      <td>59973</td>\n",
       "      <td>59973</td>\n",
       "      <td>59324</td>\n",
       "      <td>59973</td>\n",
       "      <td>59973</td>\n",
       "      <td>59973</td>\n",
       "      <td>48411</td>\n",
       "      <td>1865</td>\n",
       "      <td>6551</td>\n",
       "      <td>...</td>\n",
       "      <td>44177</td>\n",
       "      <td>44175</td>\n",
       "      <td>43667</td>\n",
       "      <td>43811</td>\n",
       "      <td>14499</td>\n",
       "      <td>12097</td>\n",
       "      <td>14499</td>\n",
       "      <td>1680</td>\n",
       "      <td>1309</td>\n",
       "      <td>1680</td>\n",
       "    </tr>\n",
       "    <tr>\n",
       "      <td>4.0</td>\n",
       "      <td>47851</td>\n",
       "      <td>47851</td>\n",
       "      <td>47851</td>\n",
       "      <td>47560</td>\n",
       "      <td>47851</td>\n",
       "      <td>47848</td>\n",
       "      <td>47850</td>\n",
       "      <td>38644</td>\n",
       "      <td>1424</td>\n",
       "      <td>4350</td>\n",
       "      <td>...</td>\n",
       "      <td>35159</td>\n",
       "      <td>35160</td>\n",
       "      <td>34768</td>\n",
       "      <td>34911</td>\n",
       "      <td>11717</td>\n",
       "      <td>9858</td>\n",
       "      <td>11717</td>\n",
       "      <td>1381</td>\n",
       "      <td>1108</td>\n",
       "      <td>1381</td>\n",
       "    </tr>\n",
       "    <tr>\n",
       "      <td>...</td>\n",
       "      <td>...</td>\n",
       "      <td>...</td>\n",
       "      <td>...</td>\n",
       "      <td>...</td>\n",
       "      <td>...</td>\n",
       "      <td>...</td>\n",
       "      <td>...</td>\n",
       "      <td>...</td>\n",
       "      <td>...</td>\n",
       "      <td>...</td>\n",
       "      <td>...</td>\n",
       "      <td>...</td>\n",
       "      <td>...</td>\n",
       "      <td>...</td>\n",
       "      <td>...</td>\n",
       "      <td>...</td>\n",
       "      <td>...</td>\n",
       "      <td>...</td>\n",
       "      <td>...</td>\n",
       "      <td>...</td>\n",
       "      <td>...</td>\n",
       "    </tr>\n",
       "    <tr>\n",
       "      <td>95.0</td>\n",
       "      <td>88</td>\n",
       "      <td>88</td>\n",
       "      <td>88</td>\n",
       "      <td>88</td>\n",
       "      <td>88</td>\n",
       "      <td>88</td>\n",
       "      <td>88</td>\n",
       "      <td>65</td>\n",
       "      <td>1</td>\n",
       "      <td>4</td>\n",
       "      <td>...</td>\n",
       "      <td>74</td>\n",
       "      <td>74</td>\n",
       "      <td>73</td>\n",
       "      <td>73</td>\n",
       "      <td>12</td>\n",
       "      <td>10</td>\n",
       "      <td>12</td>\n",
       "      <td>2</td>\n",
       "      <td>2</td>\n",
       "      <td>2</td>\n",
       "    </tr>\n",
       "    <tr>\n",
       "      <td>96.0</td>\n",
       "      <td>74</td>\n",
       "      <td>74</td>\n",
       "      <td>74</td>\n",
       "      <td>73</td>\n",
       "      <td>74</td>\n",
       "      <td>74</td>\n",
       "      <td>74</td>\n",
       "      <td>58</td>\n",
       "      <td>0</td>\n",
       "      <td>1</td>\n",
       "      <td>...</td>\n",
       "      <td>44</td>\n",
       "      <td>44</td>\n",
       "      <td>43</td>\n",
       "      <td>44</td>\n",
       "      <td>11</td>\n",
       "      <td>9</td>\n",
       "      <td>11</td>\n",
       "      <td>1</td>\n",
       "      <td>1</td>\n",
       "      <td>1</td>\n",
       "    </tr>\n",
       "    <tr>\n",
       "      <td>97.0</td>\n",
       "      <td>69</td>\n",
       "      <td>69</td>\n",
       "      <td>69</td>\n",
       "      <td>68</td>\n",
       "      <td>69</td>\n",
       "      <td>69</td>\n",
       "      <td>69</td>\n",
       "      <td>61</td>\n",
       "      <td>3</td>\n",
       "      <td>1</td>\n",
       "      <td>...</td>\n",
       "      <td>48</td>\n",
       "      <td>48</td>\n",
       "      <td>48</td>\n",
       "      <td>48</td>\n",
       "      <td>14</td>\n",
       "      <td>13</td>\n",
       "      <td>14</td>\n",
       "      <td>2</td>\n",
       "      <td>2</td>\n",
       "      <td>2</td>\n",
       "    </tr>\n",
       "    <tr>\n",
       "      <td>98.0</td>\n",
       "      <td>172</td>\n",
       "      <td>172</td>\n",
       "      <td>172</td>\n",
       "      <td>171</td>\n",
       "      <td>172</td>\n",
       "      <td>172</td>\n",
       "      <td>172</td>\n",
       "      <td>137</td>\n",
       "      <td>6</td>\n",
       "      <td>7</td>\n",
       "      <td>...</td>\n",
       "      <td>115</td>\n",
       "      <td>115</td>\n",
       "      <td>106</td>\n",
       "      <td>110</td>\n",
       "      <td>36</td>\n",
       "      <td>30</td>\n",
       "      <td>36</td>\n",
       "      <td>8</td>\n",
       "      <td>7</td>\n",
       "      <td>8</td>\n",
       "    </tr>\n",
       "    <tr>\n",
       "      <td>99.0</td>\n",
       "      <td>37</td>\n",
       "      <td>37</td>\n",
       "      <td>37</td>\n",
       "      <td>37</td>\n",
       "      <td>37</td>\n",
       "      <td>37</td>\n",
       "      <td>37</td>\n",
       "      <td>26</td>\n",
       "      <td>1</td>\n",
       "      <td>1</td>\n",
       "      <td>...</td>\n",
       "      <td>22</td>\n",
       "      <td>22</td>\n",
       "      <td>22</td>\n",
       "      <td>22</td>\n",
       "      <td>8</td>\n",
       "      <td>7</td>\n",
       "      <td>8</td>\n",
       "      <td>0</td>\n",
       "      <td>0</td>\n",
       "      <td>0</td>\n",
       "    </tr>\n",
       "  </tbody>\n",
       "</table>\n",
       "<p>100 rows × 80 columns</p>\n",
       "</div>"
      ],
      "text/plain": [
       "                   ME  RECORD_ID  UPDATE_TYPE  ADDRESS_TYPE  MAILING_NAME  \\\n",
       "SUFFIX_CENSUS                                                               \n",
       "0.0            604382     604382       604382        595903        604382   \n",
       "1.0            157377     157377       157377        155590        157377   \n",
       "2.0            146939     146939       146939        145437        146939   \n",
       "3.0             59973      59973        59973         59324         59973   \n",
       "4.0             47851      47851        47851         47560         47851   \n",
       "...               ...        ...          ...           ...           ...   \n",
       "95.0               88         88           88            88            88   \n",
       "96.0               74         74           74            73            74   \n",
       "97.0               69         69           69            68            69   \n",
       "98.0              172        172          172           171           172   \n",
       "99.0               37         37           37            37            37   \n",
       "\n",
       "               LAST_NAME  FIRST_NAME  MIDDLE_NAME  SUFFIX  MAILING_LINE_1  \\\n",
       "SUFFIX_CENSUS                                                               \n",
       "0.0               604371      604374       483943   18099          132405   \n",
       "1.0               157374      157374       126839    4979           27269   \n",
       "2.0               146935      146936       118320    4398           22537   \n",
       "3.0                59973       59973        48411    1865            6551   \n",
       "4.0                47848       47850        38644    1424            4350   \n",
       "...                  ...         ...          ...     ...             ...   \n",
       "95.0                  88          88           65       1               4   \n",
       "96.0                  74          74           58       0               1   \n",
       "97.0                  69          69           61       3               1   \n",
       "98.0                 172         172          137       6               7   \n",
       "99.0                  37          37           26       1               1   \n",
       "\n",
       "               ...  POLO_STATE  POLO_ZIP  POLO_SECTOR  POLO_CARRIER_ROUTE  \\\n",
       "SUFFIX_CENSUS  ...                                                          \n",
       "0.0            ...      462036    462041       456555              458415   \n",
       "1.0            ...      119157    119157       117930              118326   \n",
       "2.0            ...      110290    110290       109034              109356   \n",
       "3.0            ...       44177     44175        43667               43811   \n",
       "4.0            ...       35159     35160        34768               34911   \n",
       "...            ...         ...       ...          ...                 ...   \n",
       "95.0           ...          74        74           73                  73   \n",
       "96.0           ...          44        44           43                  44   \n",
       "97.0           ...          48        48           48                  48   \n",
       "98.0           ...         115       115          106                 110   \n",
       "99.0           ...          22        22           22                  22   \n",
       "\n",
       "               MOST_RECENT_FORMER_LAST_NAME  MOST_RECENT_FORMER_MIDDLE_NAME  \\\n",
       "SUFFIX_CENSUS                                                                 \n",
       "0.0                                  132464                          111165   \n",
       "1.0                                   36672                           30800   \n",
       "2.0                                   34186                           28669   \n",
       "3.0                                   14499                           12097   \n",
       "4.0                                   11717                            9858   \n",
       "...                                     ...                             ...   \n",
       "95.0                                     12                              10   \n",
       "96.0                                     11                               9   \n",
       "97.0                                     14                              13   \n",
       "98.0                                     36                              30   \n",
       "99.0                                      8                               7   \n",
       "\n",
       "               MOST_RECENT_FORMER_FIRST_NAME  NEXT_MOST_RECENT_FORMER_LAST  \\\n",
       "SUFFIX_CENSUS                                                                \n",
       "0.0                                   132464                         14823   \n",
       "1.0                                    36673                          4270   \n",
       "2.0                                    34185                          3916   \n",
       "3.0                                    14499                          1680   \n",
       "4.0                                    11717                          1381   \n",
       "...                                      ...                           ...   \n",
       "95.0                                      12                             2   \n",
       "96.0                                      11                             1   \n",
       "97.0                                      14                             2   \n",
       "98.0                                      36                             8   \n",
       "99.0                                       8                             0   \n",
       "\n",
       "               NEXT_MOST_RECENT_FORMER_MIDDLE  NEXT_MOST_RECENT_FORMER_FIRST  \n",
       "SUFFIX_CENSUS                                                                 \n",
       "0.0                                     11850                          14824  \n",
       "1.0                                      3443                           4270  \n",
       "2.0                                      3101                           3916  \n",
       "3.0                                      1309                           1680  \n",
       "4.0                                      1108                           1381  \n",
       "...                                       ...                            ...  \n",
       "95.0                                        2                              2  \n",
       "96.0                                        1                              1  \n",
       "97.0                                        2                              2  \n",
       "98.0                                        7                              8  \n",
       "99.0                                        0                              0  \n",
       "\n",
       "[100 rows x 80 columns]"
      ]
     },
     "execution_count": 8,
     "metadata": {},
     "output_type": "execute_result"
    }
   ],
   "source": [
    "ppd.groupby('SUFFIX_CENSUS').count()"
   ]
  },
  {
   "cell_type": "code",
   "execution_count": null,
   "metadata": {},
   "outputs": [],
   "source": [
    "#Get ppd\n",
    "# ppd = use.get_ppd()\n",
    "# ppd['ME'] = fix_me(ppd.ME)\n",
    "ppd[ppd.ME=='01606631029'][['TOP_CD','MAILING_LINE_2','CITY','STATE','']]"
   ]
  },
  {
   "cell_type": "code",
   "execution_count": null,
   "metadata": {},
   "outputs": [],
   "source": [
    "Joel G. Sacks, MD ME # 01606631029 "
   ]
  },
  {
   "cell_type": "code",
   "execution_count": null,
   "metadata": {},
   "outputs": [],
   "source": [
    "#Get party ids\n",
    "ME_QUERY = \\\n",
    "    \"\"\"\n",
    "    SELECT DISTINCT\n",
    "    P.PARTY_ID,\n",
    "    P.KEY_VAL AS ME\n",
    "    FROM\n",
    "    AMAEDW.PARTY_KEY P\n",
    "    WHERE\n",
    "    P.KEY_TYPE_ID = 18\n",
    "    AND\n",
    "    P.ACTIVE_IND = 'Y'\n",
    "    AND\n",
    "    P.KEY_VAL = '01606631029'\n",
    "    \"\"\"\n",
    "party_ids = pd.read_sql(con=AMAEDW, sql=ME_QUERY)"
   ]
  },
  {
   "cell_type": "code",
   "execution_count": null,
   "metadata": {},
   "outputs": [],
   "source": [
    "party_ids"
   ]
  },
  {
   "cell_type": "code",
   "execution_count": 10,
   "metadata": {},
   "outputs": [
    {
     "data": {
      "text/html": [
       "<div>\n",
       "<style scoped>\n",
       "    .dataframe tbody tr th:only-of-type {\n",
       "        vertical-align: middle;\n",
       "    }\n",
       "\n",
       "    .dataframe tbody tr th {\n",
       "        vertical-align: top;\n",
       "    }\n",
       "\n",
       "    .dataframe thead th {\n",
       "        text-align: right;\n",
       "    }\n",
       "</style>\n",
       "<table border=\"1\" class=\"dataframe\">\n",
       "  <thead>\n",
       "    <tr style=\"text-align: right;\">\n",
       "      <th></th>\n",
       "      <th>PARTY_ID</th>\n",
       "      <th>POST_CD_ID</th>\n",
       "    </tr>\n",
       "  </thead>\n",
       "  <tbody>\n",
       "    <tr>\n",
       "      <td>0</td>\n",
       "      <td>1816025</td>\n",
       "      <td>9128232</td>\n",
       "    </tr>\n",
       "    <tr>\n",
       "      <td>1</td>\n",
       "      <td>2171199</td>\n",
       "      <td>9128232</td>\n",
       "    </tr>\n",
       "    <tr>\n",
       "      <td>2</td>\n",
       "      <td>2390541</td>\n",
       "      <td>9128232</td>\n",
       "    </tr>\n",
       "    <tr>\n",
       "      <td>3</td>\n",
       "      <td>2450538</td>\n",
       "      <td>9128232</td>\n",
       "    </tr>\n",
       "    <tr>\n",
       "      <td>4</td>\n",
       "      <td>2450602</td>\n",
       "      <td>9128232</td>\n",
       "    </tr>\n",
       "    <tr>\n",
       "      <td>...</td>\n",
       "      <td>...</td>\n",
       "      <td>...</td>\n",
       "    </tr>\n",
       "    <tr>\n",
       "      <td>1160641</td>\n",
       "      <td>3559749</td>\n",
       "      <td>32419498</td>\n",
       "    </tr>\n",
       "    <tr>\n",
       "      <td>1160642</td>\n",
       "      <td>6077003</td>\n",
       "      <td>32419499</td>\n",
       "    </tr>\n",
       "    <tr>\n",
       "      <td>1160643</td>\n",
       "      <td>3499718</td>\n",
       "      <td>32421325</td>\n",
       "    </tr>\n",
       "    <tr>\n",
       "      <td>1160644</td>\n",
       "      <td>2050705</td>\n",
       "      <td>32421343</td>\n",
       "    </tr>\n",
       "    <tr>\n",
       "      <td>1160645</td>\n",
       "      <td>2295959</td>\n",
       "      <td>32421380</td>\n",
       "    </tr>\n",
       "  </tbody>\n",
       "</table>\n",
       "<p>1160646 rows × 2 columns</p>\n",
       "</div>"
      ],
      "text/plain": [
       "         PARTY_ID  POST_CD_ID\n",
       "0         1816025     9128232\n",
       "1         2171199     9128232\n",
       "2         2390541     9128232\n",
       "3         2450538     9128232\n",
       "4         2450602     9128232\n",
       "...           ...         ...\n",
       "1160641   3559749    32419498\n",
       "1160642   6077003    32419499\n",
       "1160643   3499718    32421325\n",
       "1160644   2050705    32421343\n",
       "1160645   2295959    32421380\n",
       "\n",
       "[1160646 rows x 2 columns]"
      ]
     },
     "execution_count": 10,
     "metadata": {},
     "output_type": "execute_result"
    }
   ],
   "source": [
    "#Get polos\n",
    "sql_query_polo = \\\n",
    "    '''\n",
    "    SELECT DISTINCT\n",
    "    A.PARTY_ID,\n",
    "    A.POST_CD_ID\n",
    "    FROM\n",
    "    AMAEDW.POST_CD P, AMAEDW.STATE S , AMAEDW.PARTY_ADDR A, AMAEDW.CONT_PURPOSE_TYPE C\n",
    "    WHERE\n",
    "    A.PURPOSE_TYPE_ID=C.PURPOSE_TYPE_ID\n",
    "    AND\n",
    "    C.PURPOSE_CAT_CD='A'\n",
    "    AND\n",
    "    C.PURPOSE_USG_CD='PO'\n",
    "    AND\n",
    "    A.POST_CD_ID = P.POST_CD_ID\n",
    "    AND\n",
    "    P.STATE_ID = S.STATE_ID\n",
    "    AND\n",
    "    A.THRU_DT IS NULL;\n",
    "    '''\n",
    "POLOS = pd.read_sql(con=AMAEDW, sql=sql_query_polo)\n",
    "POLOS"
   ]
  },
  {
   "cell_type": "code",
   "execution_count": null,
   "metadata": {},
   "outputs": [],
   "source": [
    "#Get polos\n",
    "sql_query_polo_2 = \\\n",
    "    '''\n",
    "    SELECT DISTINCT\n",
    "    A.PARTY_ID,\n",
    "    A.POST_CD_ID,\n",
    "    A.CAT_CD_ID,\n",
    "    P.ADDR_1,\n",
    "    P.ADDR_2,\n",
    "    P.ADDR_3,\n",
    "    P.CITY,\n",
    "    S.SRC_STATE_CD AS STATE,\n",
    "    P.POST_CD AS ZIP,\n",
    "    A.FROM_DT,\n",
    "    P.SRC_POST_KEY AS COMM_ID\n",
    "    FROM\n",
    "    AMAEDW.POST_CD P, AMAEDW.STATE S , AMAEDW.PARTY_ADDR A, AMAEDW.CONT_PURPOSE_TYPE C\n",
    "    WHERE\n",
    "    A.PURPOSE_TYPE_ID=C.PURPOSE_TYPE_ID\n",
    "    AND\n",
    "    C.PURPOSE_CAT_CD='A'\n",
    "    AND\n",
    "    C.PURPOSE_USG_CD='PO'\n",
    "    AND\n",
    "    A.POST_CD_ID = P.POST_CD_ID\n",
    "    AND\n",
    "    P.STATE_ID = S.STATE_ID\n",
    "    AND\n",
    "    A.THRU_DT IS NULL;\n",
    "    '''\n",
    "POLOS_2 = pd.read_sql(con=AMAEDW, sql=sql_query_polo_2)"
   ]
  },
  {
   "cell_type": "code",
   "execution_count": null,
   "metadata": {},
   "outputs": [],
   "source": [
    "#Get polos\n",
    "other_polo = \\\n",
    "    '''\n",
    "    SELECT DISTINCT\n",
    "    A.PARTY_ID,\n",
    "    A.POST_CD_ID,\n",
    "    P.ADDR_1,\n",
    "    P.ADDR_2,\n",
    "    P.ADDR_3,\n",
    "    P.CITY,\n",
    "    S.SRC_STATE_CD AS STATE,\n",
    "    P.POST_CD AS ZIP,\n",
    "    A.FROM_DT,\n",
    "    P.SRC_POST_KEY AS POST_KEY,\n",
    "    CC.DESC,\n",
    "    CC.CATEGORY_CODE\n",
    "    FROM\n",
    "    AMAEDW.POST_CD P, AMAEDW.STATE S , AMAEDW.PARTY_ADDR A, AMAEDW.CONT_PURPOSE_TYPE C, AMAEDW.CAT_CD CC\n",
    "    WHERE\n",
    "    A.PURPOSE_TYPE_ID=C.PURPOSE_TYPE_ID\n",
    "    AND\n",
    "    C.PURPOSE_CAT_CD='A'\n",
    "    AND\n",
    "    C.PURPOSE_USG_CD='PO'\n",
    "    AND\n",
    "    A.POST_CD_ID = P.POST_CD_ID\n",
    "    AND\n",
    "    P.STATE_ID = S.STATE_ID\n",
    "    AND\n",
    "    A.THRU_DT IS NULL\n",
    "    AND\n",
    "    CC.CAT_CD_ID = A.CAT_CD_ID;\n",
    "    '''\n",
    "OTHER_POLOS = pd.read_sql(con=AMAEDW, sql=other_polo)"
   ]
  },
  {
   "cell_type": "code",
   "execution_count": null,
   "metadata": {},
   "outputs": [],
   "source": [
    "#Get ppmas\n",
    "sql_query_ppma = \\\n",
    "    '''\n",
    "    SELECT DISTINCT\n",
    "    A.PARTY_ID,\n",
    "    A.POST_CD_ID,\n",
    "    P.ADDR_1,\n",
    "    P.ADDR_2,\n",
    "    P.ADDR_3,\n",
    "    P.CITY,\n",
    "    S.SRC_STATE_CD AS STATE_CD,\n",
    "    P.POST_CD AS ZIP,\n",
    "    A.FROM_DT,\n",
    "    A.THRU_DT\n",
    "    FROM\n",
    "    AMAEDW.POST_CD P, AMAEDW.STATE S , AMAEDW.PARTY_ADDR A, AMAEDW.CONT_PURPOSE_TYPE C\n",
    "    WHERE\n",
    "    A.PURPOSE_TYPE_ID=C.PURPOSE_TYPE_ID\n",
    "    AND\n",
    "    C.PURPOSE_CAT_CD='A'\n",
    "    AND\n",
    "    C.PURPOSE_USG_CD='PP'\n",
    "    AND\n",
    "    A.POST_CD_ID = P.POST_CD_ID\n",
    "    AND\n",
    "    P.STATE_ID = S.STATE_ID\n",
    "    AND\n",
    "    A.PARTY_ID = '1939823'\n",
    "\n",
    "        '''\n",
    "PPMAS = pd.read_sql(con=AMAEDW, sql=sql_query_ppma)"
   ]
  },
  {
   "cell_type": "code",
   "execution_count": null,
   "metadata": {},
   "outputs": [],
   "source": [
    "PPMAS"
   ]
  },
  {
   "cell_type": "code",
   "execution_count": null,
   "metadata": {},
   "outputs": [],
   "source": [
    "#Merge ppma, polo\n",
    "addresses = pd.merge(POLOS, PPMAS, on='PARTY_ID', suffixes = ['_POLO','_PPMA'])"
   ]
  },
  {
   "cell_type": "code",
   "execution_count": null,
   "metadata": {},
   "outputs": [],
   "source": [
    "addresses.head()"
   ]
  },
  {
   "cell_type": "code",
   "execution_count": null,
   "metadata": {},
   "outputs": [],
   "source": [
    "#Add party ids and identify missing POLOs\n",
    "PPD = pd.merge(ppd, party_ids, on = 'ME')\n",
    "PPD = PPD.fillna('None')\n",
    "no_polo = PPD[(PPD.POLO_MAILING_LINE_1=='None')&(PPD.POLO_MAILING_LINE_2=='None')]\n",
    "print(len(no_polo))"
   ]
  },
  {
   "cell_type": "code",
   "execution_count": null,
   "metadata": {},
   "outputs": [],
   "source": [
    "#Find filtered\n",
    "filtered_polos = pd.merge(no_polo, addresses, on='PARTY_ID')\n",
    "print(len(filtered_polos))"
   ]
  },
  {
   "cell_type": "code",
   "execution_count": null,
   "metadata": {},
   "outputs": [],
   "source": [
    "filtered_dpc = filtered_polos[filtered_polos.TOP_CD == 20]"
   ]
  },
  {
   "cell_type": "code",
   "execution_count": null,
   "metadata": {},
   "outputs": [],
   "source": [
    "newers = []\n",
    "for row in filtered_dpc.itertuples():\n",
    "    newer = False\n",
    "    if row.FROM_DT_POLO > row.FROM_DT_PPMA:\n",
    "        newer = True\n",
    "    newers.append(newer)"
   ]
  },
  {
   "cell_type": "code",
   "execution_count": null,
   "metadata": {},
   "outputs": [],
   "source": [
    "filtered_dpc = filtered_dpc.rename(columns ={'STATE_CD':'STATE_PPMA','STATE_x':'STATE','STATE_y':'STATE_POLO'})\n",
    "filtered_dpc['POLO_NEWER'] = newers\n",
    "newer = filtered_dpc[filtered_dpc.POLO_NEWER == True]"
   ]
  },
  {
   "cell_type": "code",
   "execution_count": null,
   "metadata": {},
   "outputs": [],
   "source": [
    "len(newer)"
   ]
  },
  {
   "cell_type": "markdown",
   "metadata": {},
   "source": [
    "### How many POLO addresses are being filtered out at present?\n",
    "#### 85,287\n",
    "### How many of those belong to DPC physicians?\n",
    "#### 59,321\n",
    "### For the DPC physicians, how many of the POLO addresses are newer than their PPMA addresses?\n",
    "#### 36,127"
   ]
  },
  {
   "cell_type": "code",
   "execution_count": null,
   "metadata": {},
   "outputs": [],
   "source": [
    "newer[['FROM_DT_PPMA','FROM_DT_POLO','POLO_STATE','STATE_POLO','STATE', 'STATE_PPMA']]"
   ]
  },
  {
   "cell_type": "code",
   "execution_count": null,
   "metadata": {},
   "outputs": [],
   "source": [
    "filtered_dpc[filtered_dpc.POLO_NEWER == True]"
   ]
  },
  {
   "cell_type": "code",
   "execution_count": null,
   "metadata": {},
   "outputs": [],
   "source": [
    "len(ppd)"
   ]
  },
  {
   "cell_type": "code",
   "execution_count": null,
   "metadata": {},
   "outputs": [],
   "source": [
    "no_polo[no_polo.TOP_CD == 20]"
   ]
  },
  {
   "cell_type": "code",
   "execution_count": null,
   "metadata": {},
   "outputs": [],
   "source": [
    "ppd[ppd.TOP_CD == 20]"
   ]
  },
  {
   "cell_type": "code",
   "execution_count": null,
   "metadata": {},
   "outputs": [],
   "source": [
    "newer"
   ]
  },
  {
   "cell_type": "code",
   "execution_count": 6,
   "metadata": {},
   "outputs": [],
   "source": [
    "# import pandas as pd\n",
    "#Sourcing\n",
    "sql_query = \\\n",
    "        f'''\n",
    "        SELECT DISTINCT\n",
    "        A.PARTY_ID,\n",
    "        A.POST_CD_ID,\n",
    "        CC.DESC,\n",
    "        CC.CATEGORY_CODE\n",
    "        FROM\n",
    "        AMAEDW.POST_CD P, AMAEDW.PARTY_ADDR A, AMAEDW.CAT_CD CC, AMAEDW.CONT_PURPOSE_TYPE C\n",
    "        WHERE\n",
    "        CC.CAT_CD_ID = A.CAT_CD_ID\n",
    "        AND\n",
    "        A.PURPOSE_TYPE_ID=C.PURPOSE_TYPE_ID\n",
    "        AND\n",
    "        C.PURPOSE_CAT_CD='A'\n",
    "        AND\n",
    "        C.PURPOSE_USG_CD='PO'\n",
    "        AND\n",
    "        A.THRU_DT IS NULL\n",
    "        '''\n",
    "sourcing = pd.read_sql(con=AMAEDW, sql=sql_query)"
   ]
  },
  {
   "cell_type": "code",
   "execution_count": 8,
   "metadata": {},
   "outputs": [
    {
     "data": {
      "text/html": [
       "<div>\n",
       "<style scoped>\n",
       "    .dataframe tbody tr th:only-of-type {\n",
       "        vertical-align: middle;\n",
       "    }\n",
       "\n",
       "    .dataframe tbody tr th {\n",
       "        vertical-align: top;\n",
       "    }\n",
       "\n",
       "    .dataframe thead th {\n",
       "        text-align: right;\n",
       "    }\n",
       "</style>\n",
       "<table border=\"1\" class=\"dataframe\">\n",
       "  <thead>\n",
       "    <tr style=\"text-align: right;\">\n",
       "      <th></th>\n",
       "      <th>PARTY_ID</th>\n",
       "      <th>POST_CD_ID</th>\n",
       "      <th>DESC</th>\n",
       "    </tr>\n",
       "    <tr>\n",
       "      <th>CATEGORY_CODE</th>\n",
       "      <th></th>\n",
       "      <th></th>\n",
       "      <th></th>\n",
       "    </tr>\n",
       "  </thead>\n",
       "  <tbody>\n",
       "    <tr>\n",
       "      <td>ACS</td>\n",
       "      <td>9474</td>\n",
       "      <td>9474</td>\n",
       "      <td>9474</td>\n",
       "    </tr>\n",
       "    <tr>\n",
       "      <td>ACSIMB-MMX</td>\n",
       "      <td>1774</td>\n",
       "      <td>1774</td>\n",
       "      <td>1774</td>\n",
       "    </tr>\n",
       "    <tr>\n",
       "      <td>ACXIOM-DSF</td>\n",
       "      <td>6386</td>\n",
       "      <td>6386</td>\n",
       "      <td>6386</td>\n",
       "    </tr>\n",
       "    <tr>\n",
       "      <td>ACXIOMLODE</td>\n",
       "      <td>2</td>\n",
       "      <td>2</td>\n",
       "      <td>2</td>\n",
       "    </tr>\n",
       "    <tr>\n",
       "      <td>ACXIOMNCOA</td>\n",
       "      <td>2943</td>\n",
       "      <td>2943</td>\n",
       "      <td>2943</td>\n",
       "    </tr>\n",
       "    <tr>\n",
       "      <td>ADDR-VER</td>\n",
       "      <td>2</td>\n",
       "      <td>2</td>\n",
       "      <td>2</td>\n",
       "    </tr>\n",
       "    <tr>\n",
       "      <td>ADMIT-HOS</td>\n",
       "      <td>1601</td>\n",
       "      <td>1601</td>\n",
       "      <td>1601</td>\n",
       "    </tr>\n",
       "    <tr>\n",
       "      <td>AMC</td>\n",
       "      <td>2298</td>\n",
       "      <td>2298</td>\n",
       "      <td>2298</td>\n",
       "    </tr>\n",
       "    <tr>\n",
       "      <td>CGMT-EXC</td>\n",
       "      <td>1</td>\n",
       "      <td>1</td>\n",
       "      <td>1</td>\n",
       "    </tr>\n",
       "    <tr>\n",
       "      <td>CME-REG</td>\n",
       "      <td>1</td>\n",
       "      <td>1</td>\n",
       "      <td>1</td>\n",
       "    </tr>\n",
       "    <tr>\n",
       "      <td>DEA</td>\n",
       "      <td>124599</td>\n",
       "      <td>124599</td>\n",
       "      <td>124599</td>\n",
       "    </tr>\n",
       "    <tr>\n",
       "      <td>DO-PORTAL</td>\n",
       "      <td>131</td>\n",
       "      <td>131</td>\n",
       "      <td>131</td>\n",
       "    </tr>\n",
       "    <tr>\n",
       "      <td>E-MAIL</td>\n",
       "      <td>545</td>\n",
       "      <td>545</td>\n",
       "      <td>545</td>\n",
       "    </tr>\n",
       "    <tr>\n",
       "      <td>ECF-CNVRSN</td>\n",
       "      <td>3197</td>\n",
       "      <td>3197</td>\n",
       "      <td>3197</td>\n",
       "    </tr>\n",
       "    <tr>\n",
       "      <td>FEDERATION</td>\n",
       "      <td>3</td>\n",
       "      <td>3</td>\n",
       "      <td>3</td>\n",
       "    </tr>\n",
       "    <tr>\n",
       "      <td>GME</td>\n",
       "      <td>217</td>\n",
       "      <td>217</td>\n",
       "      <td>217</td>\n",
       "    </tr>\n",
       "    <tr>\n",
       "      <td>GROUP</td>\n",
       "      <td>159</td>\n",
       "      <td>159</td>\n",
       "      <td>159</td>\n",
       "    </tr>\n",
       "    <tr>\n",
       "      <td>INTERACT</td>\n",
       "      <td>3</td>\n",
       "      <td>3</td>\n",
       "      <td>3</td>\n",
       "    </tr>\n",
       "    <tr>\n",
       "      <td>JOIN-RENEW</td>\n",
       "      <td>7</td>\n",
       "      <td>7</td>\n",
       "      <td>7</td>\n",
       "    </tr>\n",
       "    <tr>\n",
       "      <td>LICENSURE</td>\n",
       "      <td>5087</td>\n",
       "      <td>5087</td>\n",
       "      <td>5087</td>\n",
       "    </tr>\n",
       "    <tr>\n",
       "      <td>LIST-HOUSE</td>\n",
       "      <td>2</td>\n",
       "      <td>2</td>\n",
       "      <td>2</td>\n",
       "    </tr>\n",
       "    <tr>\n",
       "      <td>MBSHP-IPM</td>\n",
       "      <td>47</td>\n",
       "      <td>47</td>\n",
       "      <td>47</td>\n",
       "    </tr>\n",
       "    <tr>\n",
       "      <td>MBSHP-MAIL</td>\n",
       "      <td>503</td>\n",
       "      <td>503</td>\n",
       "      <td>503</td>\n",
       "    </tr>\n",
       "    <tr>\n",
       "      <td>MBSHP-OTHR</td>\n",
       "      <td>304</td>\n",
       "      <td>304</td>\n",
       "      <td>304</td>\n",
       "    </tr>\n",
       "    <tr>\n",
       "      <td>MBSHP-PHON</td>\n",
       "      <td>1</td>\n",
       "      <td>1</td>\n",
       "      <td>1</td>\n",
       "    </tr>\n",
       "    <tr>\n",
       "      <td>MBSHP-PURL</td>\n",
       "      <td>102</td>\n",
       "      <td>102</td>\n",
       "      <td>102</td>\n",
       "    </tr>\n",
       "    <tr>\n",
       "      <td>MBSHP-WEB</td>\n",
       "      <td>71</td>\n",
       "      <td>71</td>\n",
       "      <td>71</td>\n",
       "    </tr>\n",
       "    <tr>\n",
       "      <td>MDM_CRED</td>\n",
       "      <td>28684</td>\n",
       "      <td>28684</td>\n",
       "      <td>28684</td>\n",
       "    </tr>\n",
       "    <tr>\n",
       "      <td>MFLOAD</td>\n",
       "      <td>3</td>\n",
       "      <td>3</td>\n",
       "      <td>3</td>\n",
       "    </tr>\n",
       "    <tr>\n",
       "      <td>MSOP</td>\n",
       "      <td>1</td>\n",
       "      <td>1</td>\n",
       "      <td>1</td>\n",
       "    </tr>\n",
       "    <tr>\n",
       "      <td>NCOA</td>\n",
       "      <td>1</td>\n",
       "      <td>1</td>\n",
       "      <td>1</td>\n",
       "    </tr>\n",
       "    <tr>\n",
       "      <td>NPI</td>\n",
       "      <td>111539</td>\n",
       "      <td>111539</td>\n",
       "      <td>111539</td>\n",
       "    </tr>\n",
       "    <tr>\n",
       "      <td>OLDCC</td>\n",
       "      <td>1064</td>\n",
       "      <td>1064</td>\n",
       "      <td>1064</td>\n",
       "    </tr>\n",
       "    <tr>\n",
       "      <td>OTHER</td>\n",
       "      <td>5593</td>\n",
       "      <td>5593</td>\n",
       "      <td>5593</td>\n",
       "    </tr>\n",
       "    <tr>\n",
       "      <td>OUTREACH</td>\n",
       "      <td>23</td>\n",
       "      <td>23</td>\n",
       "      <td>23</td>\n",
       "    </tr>\n",
       "    <tr>\n",
       "      <td>PHNSURV</td>\n",
       "      <td>147426</td>\n",
       "      <td>147426</td>\n",
       "      <td>147426</td>\n",
       "    </tr>\n",
       "    <tr>\n",
       "      <td>PHONE-CALL</td>\n",
       "      <td>16127</td>\n",
       "      <td>16127</td>\n",
       "      <td>16127</td>\n",
       "    </tr>\n",
       "    <tr>\n",
       "      <td>POLO-PPD</td>\n",
       "      <td>25</td>\n",
       "      <td>25</td>\n",
       "      <td>25</td>\n",
       "    </tr>\n",
       "    <tr>\n",
       "      <td>PPA</td>\n",
       "      <td>192</td>\n",
       "      <td>192</td>\n",
       "      <td>192</td>\n",
       "    </tr>\n",
       "    <tr>\n",
       "      <td>PPMA</td>\n",
       "      <td>2</td>\n",
       "      <td>2</td>\n",
       "      <td>2</td>\n",
       "    </tr>\n",
       "    <tr>\n",
       "      <td>PRFSOL</td>\n",
       "      <td>3</td>\n",
       "      <td>3</td>\n",
       "      <td>3</td>\n",
       "    </tr>\n",
       "    <tr>\n",
       "      <td>PUBS</td>\n",
       "      <td>281</td>\n",
       "      <td>281</td>\n",
       "      <td>281</td>\n",
       "    </tr>\n",
       "    <tr>\n",
       "      <td>REQ-CARDS</td>\n",
       "      <td>1</td>\n",
       "      <td>1</td>\n",
       "      <td>1</td>\n",
       "    </tr>\n",
       "    <tr>\n",
       "      <td>RETURNED</td>\n",
       "      <td>612</td>\n",
       "      <td>612</td>\n",
       "      <td>612</td>\n",
       "    </tr>\n",
       "    <tr>\n",
       "      <td>ROSTER</td>\n",
       "      <td>3</td>\n",
       "      <td>3</td>\n",
       "      <td>3</td>\n",
       "    </tr>\n",
       "    <tr>\n",
       "      <td>SCHL-HOSP</td>\n",
       "      <td>20038</td>\n",
       "      <td>20038</td>\n",
       "      <td>20038</td>\n",
       "    </tr>\n",
       "    <tr>\n",
       "      <td>SSO</td>\n",
       "      <td>5</td>\n",
       "      <td>5</td>\n",
       "      <td>5</td>\n",
       "    </tr>\n",
       "    <tr>\n",
       "      <td>STU-MATRIC</td>\n",
       "      <td>201</td>\n",
       "      <td>201</td>\n",
       "      <td>201</td>\n",
       "    </tr>\n",
       "    <tr>\n",
       "      <td>UNKNOWN</td>\n",
       "      <td>89</td>\n",
       "      <td>89</td>\n",
       "      <td>89</td>\n",
       "    </tr>\n",
       "    <tr>\n",
       "      <td>USC-OUTBND</td>\n",
       "      <td>138</td>\n",
       "      <td>138</td>\n",
       "      <td>138</td>\n",
       "    </tr>\n",
       "    <tr>\n",
       "      <td>WEB</td>\n",
       "      <td>1256</td>\n",
       "      <td>1256</td>\n",
       "      <td>1256</td>\n",
       "    </tr>\n",
       "    <tr>\n",
       "      <td>WEBPHYC</td>\n",
       "      <td>1781</td>\n",
       "      <td>1781</td>\n",
       "      <td>1781</td>\n",
       "    </tr>\n",
       "    <tr>\n",
       "      <td>WEBPRR</td>\n",
       "      <td>177</td>\n",
       "      <td>177</td>\n",
       "      <td>177</td>\n",
       "    </tr>\n",
       "    <tr>\n",
       "      <td>WEBSRCH</td>\n",
       "      <td>66</td>\n",
       "      <td>66</td>\n",
       "      <td>66</td>\n",
       "    </tr>\n",
       "    <tr>\n",
       "      <td>WEBSURV</td>\n",
       "      <td>3</td>\n",
       "      <td>3</td>\n",
       "      <td>3</td>\n",
       "    </tr>\n",
       "    <tr>\n",
       "      <td>WHITE-MAIL</td>\n",
       "      <td>1475</td>\n",
       "      <td>1475</td>\n",
       "      <td>1475</td>\n",
       "    </tr>\n",
       "  </tbody>\n",
       "</table>\n",
       "</div>"
      ],
      "text/plain": [
       "               PARTY_ID  POST_CD_ID    DESC\n",
       "CATEGORY_CODE                              \n",
       "ACS                9474        9474    9474\n",
       "ACSIMB-MMX         1774        1774    1774\n",
       "ACXIOM-DSF         6386        6386    6386\n",
       "ACXIOMLODE            2           2       2\n",
       "ACXIOMNCOA         2943        2943    2943\n",
       "ADDR-VER              2           2       2\n",
       "ADMIT-HOS          1601        1601    1601\n",
       "AMC                2298        2298    2298\n",
       "CGMT-EXC              1           1       1\n",
       "CME-REG               1           1       1\n",
       "DEA              124599      124599  124599\n",
       "DO-PORTAL           131         131     131\n",
       "E-MAIL              545         545     545\n",
       "ECF-CNVRSN         3197        3197    3197\n",
       "FEDERATION            3           3       3\n",
       "GME                 217         217     217\n",
       "GROUP               159         159     159\n",
       "INTERACT              3           3       3\n",
       "JOIN-RENEW            7           7       7\n",
       "LICENSURE          5087        5087    5087\n",
       "LIST-HOUSE            2           2       2\n",
       "MBSHP-IPM            47          47      47\n",
       "MBSHP-MAIL          503         503     503\n",
       "MBSHP-OTHR          304         304     304\n",
       "MBSHP-PHON            1           1       1\n",
       "MBSHP-PURL          102         102     102\n",
       "MBSHP-WEB            71          71      71\n",
       "MDM_CRED          28684       28684   28684\n",
       "MFLOAD                3           3       3\n",
       "MSOP                  1           1       1\n",
       "NCOA                  1           1       1\n",
       "NPI              111539      111539  111539\n",
       "OLDCC              1064        1064    1064\n",
       "OTHER              5593        5593    5593\n",
       "OUTREACH             23          23      23\n",
       "PHNSURV          147426      147426  147426\n",
       "PHONE-CALL        16127       16127   16127\n",
       "POLO-PPD             25          25      25\n",
       "PPA                 192         192     192\n",
       "PPMA                  2           2       2\n",
       "PRFSOL                3           3       3\n",
       "PUBS                281         281     281\n",
       "REQ-CARDS             1           1       1\n",
       "RETURNED            612         612     612\n",
       "ROSTER                3           3       3\n",
       "SCHL-HOSP         20038       20038   20038\n",
       "SSO                   5           5       5\n",
       "STU-MATRIC          201         201     201\n",
       "UNKNOWN              89          89      89\n",
       "USC-OUTBND          138         138     138\n",
       "WEB                1256        1256    1256\n",
       "WEBPHYC            1781        1781    1781\n",
       "WEBPRR              177         177     177\n",
       "WEBSRCH              66          66      66\n",
       "WEBSURV               3           3       3\n",
       "WHITE-MAIL         1475        1475    1475"
      ]
     },
     "execution_count": 8,
     "metadata": {},
     "output_type": "execute_result"
    }
   ],
   "source": [
    "sourcing.groupby('CATEGORY_CODE').count()"
   ]
  },
  {
   "cell_type": "code",
   "execution_count": null,
   "metadata": {},
   "outputs": [],
   "source": [
    "pd.merge(sourcing, PPMAS, on='POST_CD_ID')"
   ]
  },
  {
   "cell_type": "code",
   "execution_count": null,
   "metadata": {},
   "outputs": [],
   "source": [
    "pd.merge(sourcing, newer, on='PARTY_ID')"
   ]
  },
  {
   "cell_type": "code",
   "execution_count": null,
   "metadata": {},
   "outputs": [],
   "source": [
    "len(newer)"
   ]
  },
  {
   "cell_type": "code",
   "execution_count": null,
   "metadata": {},
   "outputs": [],
   "source": [
    "newer.drop_duplicates('ME')"
   ]
  },
  {
   "cell_type": "code",
   "execution_count": null,
   "metadata": {},
   "outputs": [],
   "source": [
    "len(parties)"
   ]
  },
  {
   "cell_type": "code",
   "execution_count": null,
   "metadata": {},
   "outputs": [],
   "source": [
    "OTHER_POLOS"
   ]
  },
  {
   "cell_type": "code",
   "execution_count": null,
   "metadata": {},
   "outputs": [],
   "source": [
    "POLOS_2"
   ]
  },
  {
   "cell_type": "code",
   "execution_count": null,
   "metadata": {},
   "outputs": [],
   "source": [
    "len(ppd)-len(no_polo)"
   ]
  },
  {
   "cell_type": "code",
   "execution_count": null,
   "metadata": {},
   "outputs": [],
   "source": [
    "480542/1157774"
   ]
  },
  {
   "cell_type": "code",
   "execution_count": null,
   "metadata": {},
   "outputs": [],
   "source": [
    "entity_ids = \\\n",
    "    \"\"\"\n",
    "    SELECT DISTINCT\n",
    "    P.PARTY_ID,\n",
    "    P.KEY_VAL AS ENTITY_ID\n",
    "    FROM\n",
    "    AMAEDW.PARTY_KEY P\n",
    "    WHERE\n",
    "    P.KEY_TYPE_ID = '9'\n",
    "    \"\"\"\n",
    "ENTITY_ID = pd.read_sql(con=AMAEDW, sql=entity_ids)"
   ]
  },
  {
   "cell_type": "code",
   "execution_count": null,
   "metadata": {},
   "outputs": [],
   "source": [
    "ENTITY_ID"
   ]
  },
  {
   "cell_type": "code",
   "execution_count": null,
   "metadata": {},
   "outputs": [],
   "source": [
    "newer = pd.merge(ENTITY_ID, newer, on='PARTY_ID')\n",
    "entity_list = tuple(newer.ENTITY_ID)"
   ]
  },
  {
   "cell_type": "code",
   "execution_count": null,
   "metadata": {},
   "outputs": [],
   "source": [
    "password_aims = 'DQA8K@T7pXEqEt'\n",
    "s = \"DSN=aims_prod; UID={}; PWD={}\".format(username, password_aims)\n",
    "informix = pyodbc.connect(s)"
   ]
  },
  {
   "cell_type": "code",
   "execution_count": null,
   "metadata": {},
   "outputs": [],
   "source": [
    "query_3 = \\\n",
    "    f'''\n",
    "    SELECT DISTINCT\n",
    "    U.ENTITY_ID,\n",
    "    U.COMM_ID,\n",
    "    U.SRC_CAT_CODE\n",
    "    FROM\n",
    "    informix.ENTITY_COMM_USG_AT U\n",
    "    WHERE\n",
    "    U.COMM_USAGE = 'PO'\n",
    "    AND\n",
    "    U.ENTITY_ID in {entity_list}\n",
    "    AND\n",
    "    U.END_DT IS NULL\n",
    "    ;\n",
    "    '''\n",
    "aims_check = pd.read_sql(con=informix, sql=query_3)\n",
    "aims_check.head()"
   ]
  },
  {
   "cell_type": "code",
   "execution_count": null,
   "metadata": {},
   "outputs": [],
   "source": [
    "newer = pd.merge(aims_check, newer, on='ENTITY_ID')"
   ]
  },
  {
   "cell_type": "code",
   "execution_count": null,
   "metadata": {},
   "outputs": [],
   "source": [
    "newer.dtypes"
   ]
  },
  {
   "cell_type": "code",
   "execution_count": null,
   "metadata": {},
   "outputs": [],
   "source": [
    "aims_check['ENTITY_ID'] = aims_check.entity_id.astype(str)"
   ]
  },
  {
   "cell_type": "code",
   "execution_count": null,
   "metadata": {},
   "outputs": [],
   "source": [
    "pd.merge(newer, sourcing, on='PARTY_ID', how='left').groupby(['src_cat_code','DESC']).count()"
   ]
  },
  {
   "cell_type": "code",
   "execution_count": null,
   "metadata": {},
   "outputs": [],
   "source": [
    "pd.merge(newer, sourcing, on='PARTY_ID', how='left').groupby('DESC').count()"
   ]
  },
  {
   "cell_type": "code",
   "execution_count": null,
   "metadata": {},
   "outputs": [],
   "source": [
    "diffs = []\n",
    "for row in newer.itertuples():\n",
    "    diff = row.FROM_DT_POLO - row.FROM_DT_PPMA\n",
    "    diffs.append(diff)"
   ]
  },
  {
   "cell_type": "code",
   "execution_count": null,
   "metadata": {},
   "outputs": [],
   "source": [
    "[x.year for x in newer.FROM_DT_POLO]"
   ]
  },
  {
   "cell_type": "code",
   "execution_count": null,
   "metadata": {},
   "outputs": [],
   "source": [
    "newer = newer.fillna('None')"
   ]
  },
  {
   "cell_type": "code",
   "execution_count": null,
   "metadata": {},
   "outputs": [],
   "source": [
    "newer = pd.merge(newer, sourcing, on='PARTY_ID', how='left')"
   ]
  },
  {
   "cell_type": "code",
   "execution_count": null,
   "metadata": {},
   "outputs": [],
   "source": [
    "SOURCES  = []\n",
    "for row in newer.itertuples():\n",
    "    if row.DESC == 'None':\n",
    "        source = row.src_cat_code\n",
    "    else:\n",
    "        source = row.DESC\n",
    "    SOURCES.append(source)"
   ]
  },
  {
   "cell_type": "code",
   "execution_count": null,
   "metadata": {},
   "outputs": [],
   "source": [
    "newer['SOURCE']=SOURCES"
   ]
  },
  {
   "cell_type": "code",
   "execution_count": null,
   "metadata": {},
   "outputs": [],
   "source": [
    "newer.groupby('src_cat_code').count()['entity_id'].to_csv('../../Data/PPD/POLO_Sources.csv')"
   ]
  },
  {
   "cell_type": "code",
   "execution_count": null,
   "metadata": {},
   "outputs": [],
   "source": [
    "newer.groupby('src_cat_code').count()[['entity_id']].plot.pie(y='entity_id', figsize=(10, 10))"
   ]
  },
  {
   "cell_type": "code",
   "execution_count": null,
   "metadata": {},
   "outputs": [],
   "source": [
    "def get_zip_distance(zip1, zip2, dist):\n",
    "    '''Get distances between zipcodes'''\n",
    "    zip1 = clean_zipcode(zip1)\n",
    "    zip2 = clean_zipcode(zip2)\n",
    "    distance = dist.query_postal_code(zip1, zip2)*0.621371\n",
    "    return distance\n",
    "\n",
    "def clean_zipcode(zipcode):\n",
    "    '''Format zipcode'''\n",
    "    zipcode = str(zipcode)\n",
    "    zipcode = zipcode.replace(\" \", \"\")\n",
    "    zipcode = zipcode.replace(\".0\", \"\")\n",
    "    if len(zipcode) == 3:\n",
    "        zipcode = \"00\"+zipcode\n",
    "    if len(zipcode) == 4:\n",
    "        zipcode = \"0\"+zipcode\n",
    "    else:\n",
    "        zipcode = zipcode[0:5]\n",
    "    return zipcode\n",
    "\n",
    "def get_zip_distances(df):\n",
    "    '''Get all zip distances'''\n",
    "    dists = []\n",
    "    print(\"Removing significantly close addresses...\")\n",
    "    dist = pgeocode.GeoDistance('US')\n",
    "    for row in df.itertuples():\n",
    "        dists.append(get_zip_distance(row.ZIP_POLO, row.ZIP_PPMA, dist))\n",
    "    df['POLO_DISTANCE'] = dists\n",
    "    return df"
   ]
  },
  {
   "cell_type": "code",
   "execution_count": null,
   "metadata": {},
   "outputs": [],
   "source": [
    "filtered_polos[['ZIP_POLO','ZIP_PPMA']]"
   ]
  },
  {
   "cell_type": "code",
   "execution_count": null,
   "metadata": {},
   "outputs": [],
   "source": [
    "filtered_polos = get_zip_distances(filtered_polos)"
   ]
  },
  {
   "cell_type": "code",
   "execution_count": null,
   "metadata": {},
   "outputs": [],
   "source": [
    "filtered_polos.sort_values('POLO_DISTANCE')"
   ]
  },
  {
   "cell_type": "code",
   "execution_count": null,
   "metadata": {},
   "outputs": [],
   "source": [
    "filtered_polos.hist(bins=3, column='POLO_DISTANCE')"
   ]
  },
  {
   "cell_type": "code",
   "execution_count": null,
   "metadata": {},
   "outputs": [],
   "source": [
    "filtered_polos.dropna(subset=['POLO_DISTANCE']).hist(bins=20, column='POLO_DISTANCE', color='indigo')"
   ]
  },
  {
   "cell_type": "code",
   "execution_count": null,
   "metadata": {},
   "outputs": [],
   "source": [
    "filtered_polos.dropna(subset=['POLO_DISTANCE']).POLO_DISTANCE.median()"
   ]
  },
  {
   "cell_type": "code",
   "execution_count": null,
   "metadata": {},
   "outputs": [],
   "source": [
    "PPD[PPD.TOP_CD == 20]"
   ]
  },
  {
   "cell_type": "code",
   "execution_count": null,
   "metadata": {},
   "outputs": [],
   "source": [
    "(819579-98272)/819579"
   ]
  },
  {
   "cell_type": "code",
   "execution_count": null,
   "metadata": {},
   "outputs": [],
   "source": [
    "(819579-98272+20994)/819579"
   ]
  },
  {
   "cell_type": "code",
   "execution_count": null,
   "metadata": {},
   "outputs": [],
   "source": [
    "0.9057101267846053*0.7706"
   ]
  },
  {
   "cell_type": "code",
   "execution_count": null,
   "metadata": {},
   "outputs": [],
   "source": [
    "(819579-98272)*0.7677"
   ]
  },
  {
   "cell_type": "code",
   "execution_count": null,
   "metadata": {},
   "outputs": [],
   "source": [
    "553747.3839+20994"
   ]
  },
  {
   "cell_type": "code",
   "execution_count": null,
   "metadata": {},
   "outputs": [],
   "source": [
    "(574741.3839)/819579"
   ]
  },
  {
   "cell_type": "code",
   "execution_count": null,
   "metadata": {},
   "outputs": [],
   "source": [
    "591966/819579"
   ]
  },
  {
   "cell_type": "code",
   "execution_count": null,
   "metadata": {},
   "outputs": [],
   "source": [
    "(819579-98272+36127)/819579"
   ]
  },
  {
   "cell_type": "code",
   "execution_count": null,
   "metadata": {},
   "outputs": [],
   "source": [
    "0.9241744847049522*0.7706"
   ]
  },
  {
   "cell_type": "code",
   "execution_count": null,
   "metadata": {},
   "outputs": [],
   "source": [
    "newer.columns"
   ]
  },
  {
   "cell_type": "code",
   "execution_count": null,
   "metadata": {},
   "outputs": [],
   "source": [
    "(sum([x.days for x in diffs])/len(diffs))/365.25"
   ]
  },
  {
   "cell_type": "code",
   "execution_count": null,
   "metadata": {},
   "outputs": [],
   "source": [
    "import datetime\n",
    "\n",
    "today = datetime.datetime.today()"
   ]
  },
  {
   "cell_type": "code",
   "execution_count": null,
   "metadata": {},
   "outputs": [],
   "source": [
    "today"
   ]
  },
  {
   "cell_type": "code",
   "execution_count": null,
   "metadata": {},
   "outputs": [],
   "source": [
    "polo_ages = []\n",
    "ppma_ages = []\n",
    "for row in newer.itertuples():\n",
    "    polo_age = today - row.FROM_DT_POLO\n",
    "    ppma_age = today - row.FROM_DT_PPMA\n",
    "    polo_ages.append(polo_age)\n",
    "    ppma_ages.append(ppma_age)"
   ]
  },
  {
   "cell_type": "code",
   "execution_count": null,
   "metadata": {},
   "outputs": [],
   "source": [
    "(sum([x.days for x in polo_ages])/len(polo_ages))/365.25"
   ]
  },
  {
   "cell_type": "code",
   "execution_count": null,
   "metadata": {},
   "outputs": [],
   "source": [
    "(sum([x.days for x in ppma_ages])/len(ppma_ages))/365.25"
   ]
  },
  {
   "cell_type": "code",
   "execution_count": null,
   "metadata": {},
   "outputs": [],
   "source": [
    "newer['PPMA_AGE'] = [(x.days)/365.25 for x in ppma_ages]\n",
    "newer['POLO_AGE'] = [(x.days)/365.25 for x in polo_ages]\n",
    "newer['AGE_DIFFERENCE'] = [(x.days)/365.25 for x in diffs]"
   ]
  },
  {
   "cell_type": "code",
   "execution_count": null,
   "metadata": {},
   "outputs": [],
   "source": [
    "newer.hist(bins=10, column='PPMA_AGE', color='indigo')"
   ]
  },
  {
   "cell_type": "code",
   "execution_count": null,
   "metadata": {},
   "outputs": [],
   "source": [
    "humach = pd.read_csv('../../Data/Humach/humach_updated_since_2018.csv')"
   ]
  },
  {
   "cell_type": "code",
   "execution_count": null,
   "metadata": {},
   "outputs": [],
   "source": [
    "humach['ME']=fix_me(humach.PHYSICIAN_ME_NUMBER)"
   ]
  },
  {
   "cell_type": "code",
   "execution_count": null,
   "metadata": {},
   "outputs": [],
   "source": [
    "MERGE = pd.merge(newer, humach, right_on = ['ME','OFFICE_ADDRESS_STATE'], left_on=['ME','STATE_POLO'])"
   ]
  },
  {
   "cell_type": "code",
   "execution_count": null,
   "metadata": {},
   "outputs": [],
   "source": [
    "MERGE[['ZIP_POLO','OFFICE_ADDRESS_ZIP']]"
   ]
  },
  {
   "cell_type": "code",
   "execution_count": null,
   "metadata": {},
   "outputs": [],
   "source": [
    "newer['OFFICE_ADDRESS_LINE_2'] = [x.upper().replace('.','') for x in newer.ADDR_1_POLO]"
   ]
  },
  {
   "cell_type": "code",
   "execution_count": null,
   "metadata": {},
   "outputs": [],
   "source": [
    "true_merge.drop_duplicates('ME').groupby('src_cat_code').count()"
   ]
  },
  {
   "cell_type": "code",
   "execution_count": null,
   "metadata": {},
   "outputs": [],
   "source": [
    "2+5+150+1+17+1+227+1+2+34+1+9+2"
   ]
  },
  {
   "cell_type": "code",
   "execution_count": null,
   "metadata": {},
   "outputs": [],
   "source": [
    "from fuzzywuzzy import fuzz"
   ]
  },
  {
   "cell_type": "code",
   "execution_count": null,
   "metadata": {},
   "outputs": [],
   "source": [
    "    elif fuzz.ratio(thing_1, thing_2) > 70:\n",
    "        return 1"
   ]
  },
  {
   "cell_type": "code",
   "execution_count": null,
   "metadata": {},
   "outputs": [],
   "source": [
    "def check_match(thing_1, thing_2):\n",
    "    '''match check'''\n",
    "    if thing_1 == thing_2:\n",
    "        return 1\n",
    "    elif thing_1 in thing_2 or thing_2 in thing_1:\n",
    "        return 1\n",
    "    elif fuzz.ratio(thing_1, thing_2) > 60:\n",
    "        return 1\n",
    "    else:\n",
    "        return 0"
   ]
  },
  {
   "cell_type": "code",
   "execution_count": null,
   "metadata": {},
   "outputs": [],
   "source": [
    "MERGE = MERGE.fillna('None')"
   ]
  },
  {
   "cell_type": "code",
   "execution_count": null,
   "metadata": {},
   "outputs": [],
   "source": [
    "corrects =[]\n",
    "for row in MERGE.itertuples():\n",
    "    correct = True\n",
    "    one = row.OFFICE_ADDRESS_LINE_2_x\n",
    "    two = row.OFFICE_ADDRESS_LINE_2_y\n",
    "    if check_match(one,two) == 0:\n",
    "        print(f'{one} is not {two}')\n",
    "        print(fuzz.ratio(one, two))\n",
    "        print('')\n",
    "        correct = False\n",
    "    corrects.append(correct)"
   ]
  },
  {
   "cell_type": "code",
   "execution_count": null,
   "metadata": {},
   "outputs": [],
   "source": [
    "MERGE['VALIDATED']=corrects"
   ]
  },
  {
   "cell_type": "code",
   "execution_count": null,
   "metadata": {},
   "outputs": [],
   "source": [
    "true_merge = MERGE[MERGE.VALIDATED==True]"
   ]
  },
  {
   "cell_type": "code",
   "execution_count": null,
   "metadata": {},
   "outputs": [],
   "source": [
    "ppd[ppd.FIRST_NAME==\"DE'ANDRE\"].POLO_MAILING_LINE_2"
   ]
  },
  {
   "cell_type": "code",
   "execution_count": null,
   "metadata": {},
   "outputs": [],
   "source": [
    "ppd.groupby('TOP_CD').count()"
   ]
  },
  {
   "cell_type": "code",
   "execution_count": null,
   "metadata": {},
   "outputs": [],
   "source": [
    "for col in true_merge.columns:\n",
    "    print(col)"
   ]
  },
  {
   "cell_type": "code",
   "execution_count": null,
   "metadata": {},
   "outputs": [],
   "source": [
    "true_merge.sort_values('WSLIVE_FILE_DT')"
   ]
  },
  {
   "cell_type": "code",
   "execution_count": null,
   "metadata": {},
   "outputs": [],
   "source": [
    "true_merge['FILE_DATE'] = pd.to_datetime(true_merge.WSLIVE_FILE_DT)"
   ]
  },
  {
   "cell_type": "code",
   "execution_count": null,
   "metadata": {},
   "outputs": [],
   "source": [
    "goop = true_merge.sort_values('FILE_DATE').drop_duplicates('ME', keep='last')"
   ]
  },
  {
   "cell_type": "code",
   "execution_count": null,
   "metadata": {},
   "outputs": [],
   "source": [
    "goop['FILE_YEAR'] = [x.year for x in goop.FILE_DATE]"
   ]
  },
  {
   "cell_type": "code",
   "execution_count": null,
   "metadata": {},
   "outputs": [],
   "source": [
    "goop.groupby('FILE_YEAR').count()[['entity_id']].plot(kind='bar', legend=False, color='indigo', xlabel='Year', ylabel='Count', title = 'Most Recent Verified Date')"
   ]
  },
  {
   "cell_type": "code",
   "execution_count": null,
   "metadata": {},
   "outputs": [],
   "source": [
    "goop"
   ]
  },
  {
   "cell_type": "code",
   "execution_count": null,
   "metadata": {},
   "outputs": [],
   "source": [
    "MERGE"
   ]
  },
  {
   "cell_type": "code",
   "execution_count": null,
   "metadata": {},
   "outputs": [],
   "source": [
    "filtered_dpc[filtered_dpc.POLO_NEWER == False].to_csv('../../Data/POLO_Filter/Filtered_POLOs_Older.csv', index=False)"
   ]
  },
  {
   "cell_type": "code",
   "execution_count": null,
   "metadata": {},
   "outputs": [],
   "source": []
  }
 ],
 "metadata": {
  "kernelspec": {
   "display_name": "Python 3",
   "language": "python",
   "name": "python3"
  },
  "language_info": {
   "codemirror_mode": {
    "name": "ipython",
    "version": 3
   },
   "file_extension": ".py",
   "mimetype": "text/x-python",
   "name": "python",
   "nbconvert_exporter": "python",
   "pygments_lexer": "ipython3",
   "version": "3.7.4"
  }
 },
 "nbformat": 4,
 "nbformat_minor": 2
}
