{
 "cells": [
  {
   "cell_type": "code",
   "execution_count": 1,
   "metadata": {},
   "outputs": [],
   "source": [
    "import time\n",
    "import os\n",
    "from datetime import date\n",
    "from selenium import webdriver\n",
    "from selenium.webdriver.support.ui import WebDriverWait\n",
    "from selenium.webdriver.support.expected_conditions import presence_of_element_located\n",
    "from selenium.webdriver.common.by import By\n",
    "from selenium.webdriver.support.ui import Select\n",
    "import pandas as pd\n",
    "import json"
   ]
  },
  {
   "cell_type": "code",
   "execution_count": 2,
   "metadata": {},
   "outputs": [],
   "source": [
    "def wait(browser):\n",
    "    '''Define wait'''\n",
    "    return WebDriverWait(browser, 30)"
   ]
  },
  {
   "cell_type": "code",
   "execution_count": 3,
   "metadata": {},
   "outputs": [],
   "source": [
    "driver = webdriver.Chrome()"
   ]
  },
  {
   "cell_type": "code",
   "execution_count": 4,
   "metadata": {},
   "outputs": [],
   "source": [
    "driver.get(\"http://google.com\")"
   ]
  },
  {
   "cell_type": "code",
   "execution_count": 6,
   "metadata": {},
   "outputs": [],
   "source": [
    "search_input = wait(driver).until(presence_of_element_located((By.XPATH, \"/html/body/div[1]/div[3]/form/div[2]/div[1]/div[1]/div/div[2]/input\")))\n",
    "search_input.send_keys('675 N MAIN ST STE 304 North Carolina')"
   ]
  },
  {
   "cell_type": "code",
   "execution_count": 7,
   "metadata": {},
   "outputs": [],
   "source": [
    "driver.close()"
   ]
  },
  {
   "cell_type": "code",
   "execution_count": 8,
   "metadata": {},
   "outputs": [
    {
     "ename": "UnboundLocalError",
     "evalue": "local variable 'driver' referenced before assignment",
     "output_type": "error",
     "traceback": [
      "\u001b[1;31m---------------------------------------------------------------------------\u001b[0m",
      "\u001b[1;31mUnboundLocalError\u001b[0m                         Traceback (most recent call last)",
      "\u001b[1;32m<ipython-input-8-961b2debb1e4>\u001b[0m in \u001b[0;36m<module>\u001b[1;34m\u001b[0m\n\u001b[0;32m     88\u001b[0m \u001b[1;33m\u001b[0m\u001b[0m\n\u001b[0;32m     89\u001b[0m \u001b[1;32mif\u001b[0m \u001b[0m__name__\u001b[0m \u001b[1;33m==\u001b[0m \u001b[1;34m\"__main__\"\u001b[0m\u001b[1;33m:\u001b[0m\u001b[1;33m\u001b[0m\u001b[1;33m\u001b[0m\u001b[0m\n\u001b[1;32m---> 90\u001b[1;33m     \u001b[0mscrape_srs\u001b[0m\u001b[1;33m(\u001b[0m\u001b[1;33m)\u001b[0m\u001b[1;33m\u001b[0m\u001b[1;33m\u001b[0m\u001b[0m\n\u001b[0m",
      "\u001b[1;32m<ipython-input-8-961b2debb1e4>\u001b[0m in \u001b[0;36mscrape_srs\u001b[1;34m()\u001b[0m\n\u001b[0;32m     78\u001b[0m     \u001b[0mdownload_folder\u001b[0m \u001b[1;33m=\u001b[0m \u001b[0mos\u001b[0m\u001b[1;33m.\u001b[0m\u001b[0menviron\u001b[0m\u001b[1;33m.\u001b[0m\u001b[0mget\u001b[0m\u001b[1;33m(\u001b[0m\u001b[1;34m'DOWNLOAD_FOLDER'\u001b[0m\u001b[1;33m)\u001b[0m\u001b[1;33m\u001b[0m\u001b[1;33m\u001b[0m\u001b[0m\n\u001b[0;32m     79\u001b[0m \u001b[1;33m\u001b[0m\u001b[0m\n\u001b[1;32m---> 80\u001b[1;33m     \u001b[0mdriver\u001b[0m \u001b[1;33m=\u001b[0m \u001b[0mlog_in\u001b[0m\u001b[1;33m(\u001b[0m\u001b[0mdriver\u001b[0m\u001b[1;33m,\u001b[0m \u001b[0muser_login\u001b[0m\u001b[1;33m,\u001b[0m \u001b[0muser_password\u001b[0m\u001b[1;33m)\u001b[0m\u001b[1;33m\u001b[0m\u001b[1;33m\u001b[0m\u001b[0m\n\u001b[0m\u001b[0;32m     81\u001b[0m     \u001b[0mdriver\u001b[0m \u001b[1;33m=\u001b[0m \u001b[0mgo_to_reports\u001b[0m\u001b[1;33m(\u001b[0m\u001b[0mdriver\u001b[0m\u001b[1;33m)\u001b[0m\u001b[1;33m\u001b[0m\u001b[1;33m\u001b[0m\u001b[0m\n\u001b[0;32m     82\u001b[0m     \u001b[0mdriver\u001b[0m \u001b[1;33m=\u001b[0m \u001b[0mset_preferences\u001b[0m\u001b[1;33m(\u001b[0m\u001b[0mdriver\u001b[0m\u001b[1;33m)\u001b[0m\u001b[1;33m\u001b[0m\u001b[1;33m\u001b[0m\u001b[0m\n",
      "\u001b[1;31mUnboundLocalError\u001b[0m: local variable 'driver' referenced before assignment"
     ]
    }
   ],
   "source": [
    "'''Scrape change of status reports from student portal'''\n",
    "def get_newest(path, text):\n",
    "    '''Get newest filename'''\n",
    "    files = os.listdir(path)\n",
    "    paths = [os.path.join(path, basename) for basename in files if text in basename]\n",
    "    return max(paths, key=os.path.getctime)\n",
    "\n",
    "def log_in(driver, login, password):\n",
    "    '''Login to portal'''\n",
    "    login_input = wait(driver).until(presence_of_element_located((By.ID, \"mat-input-2\")))\n",
    "    login_input.send_keys(login)\n",
    "    password_input = driver.find_element_by_id(\"password-field\")\n",
    "    password_input.send_keys(password)\n",
    "    login_button = driver.find_element_by_id(\"login-btn\")\n",
    "    login_button.click()\n",
    "    return driver\n",
    "\n",
    "def go_to_reports(driver):\n",
    "    '''Go to report page'''\n",
    "    report_xpath = \"/html/body/table[2]/tbody/tr[3]/td/table/tbody/tr/td[14]/a\"\n",
    "    custom_xpath = \"/html/body/table[3]/tbody/tr[1]/td/table/tbody/tr/td[5]/a\"\n",
    "    get_reports = wait(driver).until(presence_of_element_located((By.XPATH, report_xpath)))\n",
    "    get_reports.click()\n",
    "    get_custom_reports = wait(driver).until(presence_of_element_located((By.XPATH, custom_xpath)))\n",
    "    get_custom_reports.click()\n",
    "    return driver\n",
    "\n",
    "def set_preferences(driver):\n",
    "    '''Check all report preferences'''\n",
    "    select_class_level = Select(driver.find_element_by_name('class_level_cd'))\n",
    "    select_class_level.select_by_visible_text('All Class Levels')\n",
    "    for checkbox in driver.find_elements_by_name(\"displayBioInfo\"):\n",
    "        checkbox.click()\n",
    "    for checkbox in driver.find_elements_by_name(\"displayPreviousStatuses\"):\n",
    "        checkbox.click()\n",
    "    for checkbox in driver.find_elements_by_name(\"displayCurrentStatuses\"):\n",
    "        checkbox.click()\n",
    "    return driver\n",
    "\n",
    "def iterate_schools(driver):\n",
    "    '''Download report for each available school'''\n",
    "    school_dropdown = wait(driver).until(presence_of_element_located((By.NAME, 'med_sch_cd')))\n",
    "    school_select = Select(school_dropdown)\n",
    "    options = school_select.options\n",
    "    schools = []\n",
    "    for option in options[1:]:\n",
    "        schools.append(option.text)\n",
    "        school_select.select_by_visible_text(option.text)\n",
    "        text_xpath = \"/html/body/form/table/tbody/tr[8]/td/table/tbody/tr[1]/td[2]/input[3]\"\n",
    "        to_text = driver.find_element_by_xpath(text_xpath)\n",
    "        to_text.click()\n",
    "        submit = driver.find_element_by_name('submitBtn')\n",
    "        submit.click()\n",
    "        time.sleep(5)\n",
    "    driver.quit()\n",
    "    return schools\n",
    "\n",
    "def concat_school_reports(schools, download_folder):\n",
    "    '''Find all downloads and merge'''\n",
    "    all_schools = pd.DataFrame()\n",
    "    for school in schools:\n",
    "        school_num = school.split(' ')[-1]\n",
    "        school_name = school.replace(f' {school_num}', '')\n",
    "        print(school_name)\n",
    "        filepath = get_newest(download_folder, school_name)\n",
    "        school_info = pd.read_csv(filepath, sep=\"|\", encoding='unicode_escape')\n",
    "        school_info['SCHOOL'] = school_name\n",
    "        all_schools = pd.concat([all_schools, school_info])\n",
    "    return all_schools\n",
    "\n",
    "def scrape_srs():\n",
    "    '''Download all schools SRS reports from portal and create file'''\n",
    "    today = str(date.today())\n",
    "    out = os.environ.get('OUT_DIR')\n",
    "    url = os.environ.get('URL')\n",
    "    user_login = os.environ.get('LOGIN')\n",
    "    user_password = os.environ.get('PASSWORD')\n",
    "    download_folder = os.environ.get('DOWNLOAD_FOLDER')\n",
    "    \n",
    "    driver = log_in(driver, user_login, user_password)\n",
    "    driver = go_to_reports(driver)\n",
    "    driver = set_preferences(driver)\n",
    "    school_list = iterate_schools(driver)\n",
    "    with open(f'{out}School_List_{today}.txt', 'w') as outfile:\n",
    "        json.dump(school_list, outfile)\n",
    "    all_schools = concat_school_reports(school_list, download_folder)\n",
    "    all_schools.to_csv(f'{out}/SRS_Scrape_{today}.csv', index=False)\n",
    "\n",
    "if __name__ == \"__main__\":\n",
    "    scrape_srs()"
   ]
  },
  {
   "cell_type": "code",
   "execution_count": null,
   "metadata": {},
   "outputs": [],
   "source": []
  }
 ],
 "metadata": {
  "kernelspec": {
   "display_name": "Python 3",
   "language": "python",
   "name": "python3"
  },
  "language_info": {
   "codemirror_mode": {
    "name": "ipython",
    "version": 3
   },
   "file_extension": ".py",
   "mimetype": "text/x-python",
   "name": "python",
   "nbconvert_exporter": "python",
   "pygments_lexer": "ipython3",
   "version": "3.7.4"
  }
 },
 "nbformat": 4,
 "nbformat_minor": 2
}
