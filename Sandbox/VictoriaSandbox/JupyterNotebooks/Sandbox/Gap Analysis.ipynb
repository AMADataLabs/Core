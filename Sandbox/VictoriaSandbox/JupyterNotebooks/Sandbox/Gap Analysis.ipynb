{
 "cells": [
  {
   "cell_type": "code",
   "execution_count": 1,
   "metadata": {},
   "outputs": [
    {
     "name": "stderr",
     "output_type": "stream",
     "text": [
      "C:\\Users\\vigrose\\AppData\\Local\\Continuum\\anaconda3\\lib\\site-packages\\fuzzywuzzy\\fuzz.py:11: UserWarning: Using slow pure-python SequenceMatcher. Install python-Levenshtein to remove this warning\n",
      "  warnings.warn('Using slow pure-python SequenceMatcher. Install python-Levenshtein to remove this warning')\n"
     ]
    }
   ],
   "source": [
    "import pandas as pd\n",
    "import usaddress\n",
    "import pyodbc\n",
    "from fuzzywuzzy import fuzz\n",
    "import useful_functions as use\n",
    "from functools import reduce"
   ]
  },
  {
   "cell_type": "code",
   "execution_count": 2,
   "metadata": {},
   "outputs": [],
   "source": [
    "#ppd\n",
    "ppd = pd.read_csv('../../Data/Scorecard/ppd_data_20210606.csv', low_memory=False)\n",
    "ppd['ME'] = use.fix_me(ppd.ME)\n",
    "ppd['IQVIA_ME'] = [x[0:10] for x in ppd.ME]"
   ]
  },
  {
   "cell_type": "code",
   "execution_count": 3,
   "metadata": {},
   "outputs": [],
   "source": [
    "dpc = ppd[ppd.TOP_CD==20]"
   ]
  },
  {
   "cell_type": "code",
   "execution_count": 4,
   "metadata": {},
   "outputs": [],
   "source": [
    "#dhc\n",
    "dhc = pd.read_csv('../../Data/DHC/DHC_2021-04.csv', low_memory=False)\n",
    "dhc = dhc.rename(columns={\n",
    "    'Zip Code':'ZIP_DHC',\n",
    "    'State':'STATE_DHC',\n",
    "    'City':'CITY_DHC',\n",
    "    'Address': 'ADDRESS_1_DHC',\n",
    "    'Address1': 'ADDRESS_2_DHC'\n",
    "})\n",
    "dhc = dhc.fillna('None')\n",
    "dhc['DHC_PHONE'] = [x.replace('.','').strip() for x in dhc['Phone Number']]\n",
    "dhc['ME']=use.fix_me(dhc.ME)"
   ]
  },
  {
   "cell_type": "code",
   "execution_count": 5,
   "metadata": {},
   "outputs": [],
   "source": [
    "#data.gov\n",
    "gov = pd.read_csv('../../Data/DataGov/me_gov.csv',low_memory=False)\n",
    "gov = gov.fillna('None')\n",
    "gov['GOV_PHONE'] = [str(int(x)) if x !='None' else x for x in gov[' phn_numbr']]\n",
    "gov = gov.rename(columns={\n",
    "    ' zip':'ZIP_GOV',\n",
    "    ' st':'STATE_GOV',\n",
    "    ' cty':'CITY_GOV',\n",
    "    ' adr_ln_2': 'ADDRESS_2_GOV',\n",
    "    ' adr_ln_1': 'ADDRESS_1_GOV'\n",
    "})\n",
    "gov['ME']=use.fix_me(gov.ME)"
   ]
  },
  {
   "cell_type": "code",
   "execution_count": 6,
   "metadata": {},
   "outputs": [],
   "source": [
    "#iqvia\n",
    "username = 'vigrose'\n",
    "password = 'Ravenclaw~10946'\n",
    "q = \"DSN=eprdods; UID={}; PWD={}\".format(username, password)\n",
    "ODS = pyodbc.connect(q)\n",
    "iqvia_query = \\\n",
    "        \"\"\"\n",
    "        SELECT DISTINCT \n",
    "        B.PHONE,\n",
    "        B.PHYSICAL_ADDR_1,\n",
    "        B.PHYSICAL_ADDR_2,\n",
    "        B.PHYSICAL_CITY,\n",
    "        B.PHYSICAL_STATE,\n",
    "        B.PHYSICAL_ZIP,\n",
    "        P.ME,\n",
    "        T.AFFIL_TYPE_DESC,\n",
    "        A.AFFIL_IND,\n",
    "        A.AFFIL_RANK\n",
    "        FROM \n",
    "        ODS.ODS_IMS_BUSINESS B, ODS.SAS_ODS_IMS_PROVIDER_AFFIL A, ODS.ODS_IMS_PROFESSIONAL P, ODS.ODS_IMS_AFFILIATION_TYPE T\n",
    "        WHERE  \n",
    "        B.IMS_ORG_ID = A.IMS_ORG_ID\n",
    "        AND\n",
    "        A.PROFESSIONAL_ID = P.PROFESSIONAL_ID\n",
    "        AND\n",
    "        A.AFFIL_TYPE_ID = T.AFFIL_TYPE_ID\n",
    "        AND\n",
    "        P.CURRENT_BATCH_FLAG='Y'\n",
    "        AND\n",
    "        A.CURRENT_BATCH_FLAG='Y'\n",
    "        AND\n",
    "        B.CURRENT_BATCH_FLAG='Y'\n",
    "        \"\"\"\n",
    "iqvia = pd.read_sql(con=ODS, sql=iqvia_query)\n",
    "iqvia.head()\n",
    "iqvia =iqvia.fillna('None')\n",
    "iqvia['IQVIA_PHONE'] = [str(int(x)) if x !='None' else x for x in iqvia['PHONE']]\n",
    "iqvia = iqvia.rename(columns={\n",
    "    'PHYSICAL_ZIP':'ZIP_IQVIA',\n",
    "    'PHYSICAL_STATE':'STATE_IQVIA',\n",
    "    'PHYSICAL_CITY':'CITY_IQVIA',\n",
    "    'PHYSICAL_ADDR_1': 'ADDRESS_1_IQVIA',\n",
    "    'PHYSICAL_ADDR_2': 'ADDRESS_2_IQVIA'\n",
    "})"
   ]
  },
  {
   "cell_type": "code",
   "execution_count": 7,
   "metadata": {},
   "outputs": [],
   "source": [
    "#symphony\n",
    "sym_query = \\\n",
    "        \"\"\"\n",
    "        SELECT\n",
    "        d.ADDR_LINE_2_TXT AS MAILING_LINE_1,\n",
    "        d.ADDR_LINE_1_TXT AS MAILING_LINE_2,\n",
    "        d.ADDR_CITY_NAM AS CITY,\n",
    "        d.ADDR_ST_CDE AS STATE,\n",
    "        d.ADDR_ZIP_CDE AS ZIP,\n",
    "        d.ADDR_FRST_TLPHN_NBR AS TELEPHONE,\n",
    "        l.OTHER_ID AS SYM_ME\n",
    "        FROM\n",
    "        ODS.PRACTITIONER_DEMOGRAPHIC_LAYOUT d, ODS.PRACTITIONER_ADDL_IDS_LAYOUT l\n",
    "        WHERE\n",
    "        d.DS_PRCTR_ID = l.DS_PRCTR_ID\n",
    "        and\n",
    "        l.ID_QLFR_TYP_CDE = 38\n",
    "        \"\"\"  \n",
    "symphony = pd.read_sql(con=ODS, sql=sym_query)\n",
    "symphony.head()\n",
    "symphony =symphony.fillna('None')\n",
    "symphony['SYM_PHONE'] = [x.strip().replace('-','').replace(' ','').replace(')','').replace('(','') for x in symphony['TELEPHONE']]\n",
    "symphony = symphony.rename(columns={\n",
    "    'ZIP':'ZIP_SYMPHONY',\n",
    "    'STATE':'STATE_SYMPHONY',\n",
    "    'CITY':'CITY_SYMPHONY',\n",
    "    'MAILING_LINE_1': 'ADDRESS_2_SYMPHONY',\n",
    "    'MAILING_LINE_2': 'ADDRESS_1_SYMPHONY'\n",
    "})"
   ]
  },
  {
   "cell_type": "code",
   "execution_count": null,
   "metadata": {},
   "outputs": [],
   "source": [
    "#Credentialing\n"
   ]
  },
  {
   "cell_type": "code",
   "execution_count": null,
   "metadata": {},
   "outputs": [],
   "source": [
    "ppd.columns"
   ]
  },
  {
   "cell_type": "code",
   "execution_count": null,
   "metadata": {},
   "outputs": [],
   "source": [
    "THIS = ppd[['ME','IQVIA_ME','TELEPHONE_NUMBER']]\n",
    "THIS = pd.merge(THIS, symphony, left_on='IQVIA_ME', right_on='SYM_ME', how='left')\n",
    "THIS = pd.merge(THIS, iqvia, left_on='IQVIA_ME', right_on='ME', how='left', suffixes = ['','_iqvia'])\n",
    "THIS = pd.merge(THIS, dhc, on='ME', how='left')\n",
    "THIS = pd.merge(THIS, gov, on='ME', how='left')[['ME','IQVIA_ME', 'TELEPHONE_NUMBER','SYM_PHONE','IQVIA_PHONE', 'DHC_PHONE', 'GOV_PHONE']].drop_duplicates()\n",
    "THIS['TELEPHONE_NUMBER'] = [use.fix_phone(x) for x in THIS.TELEPHONE_NUMBER]\n",
    "THIS = THIS.fillna('None')"
   ]
  },
  {
   "cell_type": "code",
   "execution_count": null,
   "metadata": {},
   "outputs": [],
   "source": [
    "zip_matches.mean()"
   ]
  },
  {
   "cell_type": "code",
   "execution_count": null,
   "metadata": {},
   "outputs": [],
   "source": [
    "dict_list = []\n",
    "for row in THIS.itertuples():\n",
    "    count = 0\n",
    "    MATCHES = ''\n",
    "    phone = row.TELEPHONE_NUMBER\n",
    "    symph_phone = row.SYM_PHONE\n",
    "    dhc_phone = row.DHC_PHONE\n",
    "    iqvia_phone = row.IQVIA_PHONE\n",
    "    data_phone = row.GOV_PHONE\n",
    "    if phone.isnumeric():\n",
    "        if symph_phone == phone:\n",
    "            count += 1\n",
    "            MATCHES += 'Symphony, '\n",
    "        if dhc_phone == phone:\n",
    "            count += 1\n",
    "            MATCHES += 'DHC, '\n",
    "        if iqvia_phone == phone:\n",
    "            count += 1\n",
    "            MATCHES += 'IQVia, '\n",
    "        if data_phone == phone:\n",
    "            count += 1\n",
    "            MATCHES += 'DataGov, '\n",
    "        dicto = {\n",
    "            'ME': row.ME,\n",
    "            'IQVIA_ME': row.IQVIA_ME,\n",
    "            'PHONE_PPD': row.TELEPHONE_NUMBER,\n",
    "            'MATCHED': count,\n",
    "            'MATCHES': MATCHES[:-2]\n",
    "        }\n",
    "        dict_list.append(dicto)"
   ]
  },
  {
   "cell_type": "code",
   "execution_count": null,
   "metadata": {},
   "outputs": [],
   "source": [
    "phone_matches = pd.DataFrame(dict_list)"
   ]
  },
  {
   "cell_type": "code",
   "execution_count": null,
   "metadata": {},
   "outputs": [],
   "source": [
    "phone_matches = phone_matches.sort_values('MATCHED', ascending=False).drop_duplicates('ME')"
   ]
  },
  {
   "cell_type": "code",
   "execution_count": null,
   "metadata": {},
   "outputs": [],
   "source": [
    "phone_matches.groupby('MATCHED').count()[['ME']]"
   ]
  },
  {
   "cell_type": "code",
   "execution_count": 11,
   "metadata": {},
   "outputs": [
    {
     "data": {
      "text/plain": [
       "Index(['ME', 'RECORD_ID', 'UPDATE_TYPE', 'ADDRESS_TYPE', 'MAILING_NAME',\n",
       "       'LAST_NAME', 'FIRST_NAME', 'MIDDLE_NAME', 'SUFFIX', 'MAILING_LINE_1',\n",
       "       'MAILING_LINE_2', 'CITY', 'STATE', 'ZIP', 'SECTOR', 'CARRIER_ROUTE',\n",
       "       'ADDRESS_UNDELIVERABLE_FLAG', 'FIPS_COUNTY', 'FIPS_STATE',\n",
       "       'PRINTER_CONTROL_CODE', 'PC_ZIP', 'PC_SECTOR', 'DELIVERY_POINT_CODE',\n",
       "       'CHECK_DIGIT', 'PRINTER_CONTROL_CODE_2', 'REGION', 'DIVISION', 'GROUP',\n",
       "       'TRACT', 'SUFFIX_CENSUS', 'BLOCK_GROUP', 'MSA_POPULATION_SIZE',\n",
       "       'MICRO_METRO_IND', 'CBSA', 'CBSA_DIV_IND', 'MD_DO_CODE', 'BIRTH_YEAR',\n",
       "       'BIRTH_CITY', 'BIRTH_STATE', 'BIRTH_COUNTRY', 'GENDER',\n",
       "       'TELEPHONE_NUMBER', 'PRESUMED_DEAD_FLAG', 'FAX_NUMBER', 'TOP_CD',\n",
       "       'PE_CD', 'PRIM_SPEC_CD', 'SEC_SPEC_CD', 'MPA_CD', 'PRA_RECIPIENT',\n",
       "       'PRA_EXP_DT', 'GME_CONF_FLG', 'FROM_DT', 'TO_DT', 'YEAR_IN_PROGRAM',\n",
       "       'POST_GRADUATE_YEAR', 'GME_SPEC_1', 'GME_SPEC_2', 'TRAINING_TYPE',\n",
       "       'GME_INST_STATE', 'GME_INST_ID', 'MEDSCHOOL_STATE', 'MEDSCHOOL_ID',\n",
       "       'MEDSCHOOL_GRAD_YEAR', 'NO_CONTACT_IND', 'NO_WEB_FLAG', 'PDRP_FLAG',\n",
       "       'PDRP_START_DT', 'POLO_MAILING_LINE_1', 'POLO_MAILING_LINE_2',\n",
       "       'POLO_CITY', 'POLO_STATE', 'POLO_ZIP', 'POLO_SECTOR',\n",
       "       'POLO_CARRIER_ROUTE', 'MOST_RECENT_FORMER_LAST_NAME',\n",
       "       'MOST_RECENT_FORMER_MIDDLE_NAME', 'MOST_RECENT_FORMER_FIRST_NAME',\n",
       "       'NEXT_MOST_RECENT_FORMER_LAST', 'NEXT_MOST_RECENT_FORMER_MIDDLE',\n",
       "       'NEXT_MOST_RECENT_FORMER_FIRST', 'IQVIA_ME'],\n",
       "      dtype='object')"
      ]
     },
     "execution_count": 11,
     "metadata": {},
     "output_type": "execute_result"
    }
   ],
   "source": [
    "ppd.columns"
   ]
  },
  {
   "cell_type": "code",
   "execution_count": 25,
   "metadata": {},
   "outputs": [],
   "source": [
    "THIS = dpc[['ME','IQVIA_ME','POLO_MAILING_LINE_2']]\n",
    "THIS = pd.merge(THIS, symphony, left_on='IQVIA_ME', right_on='SYM_ME', how='left')\n",
    "THIS = pd.merge(THIS, iqvia, left_on='IQVIA_ME', right_on='ME', how='left', suffixes = ['','_iqvia'])\n",
    "THIS = pd.merge(THIS, dhc, on='ME', how='left')\n",
    "THIS = pd.merge(THIS, gov, on='ME', how='left')[['ME','IQVIA_ME', 'POLO_MAILING_LINE_2','ADDRESS_1_SYMPHONY','ADDRESS_1_IQVIA', 'ADDRESS_1_DHC', 'ADDRESS_1_GOV']].drop_duplicates()"
   ]
  },
  {
   "cell_type": "code",
   "execution_count": 10,
   "metadata": {},
   "outputs": [],
   "source": [
    "county = []\n",
    "for row in THIS.itertuples():\n",
    "    county.append(row.count('None'))"
   ]
  },
  {
   "cell_type": "code",
   "execution_count": 26,
   "metadata": {},
   "outputs": [],
   "source": [
    "THIS['COUNT'] = county"
   ]
  },
  {
   "cell_type": "code",
   "execution_count": 27,
   "metadata": {},
   "outputs": [],
   "source": [
    "yah = THIS.sort_values('COUNT').drop_duplicates('ME', keep='first')"
   ]
  },
  {
   "cell_type": "code",
   "execution_count": 19,
   "metadata": {},
   "outputs": [],
   "source": [
    "ppd = ppd.fillna('None')"
   ]
  },
  {
   "cell_type": "code",
   "execution_count": 20,
   "metadata": {},
   "outputs": [],
   "source": [
    "ppd = ppd[(ppd.POLO_MAILING_LINE_2=='None')&(ppd.POLO_MAILING_LINE_1=='None')&(ppd.TOP_CD==20)]"
   ]
  },
  {
   "cell_type": "code",
   "execution_count": 28,
   "metadata": {},
   "outputs": [],
   "source": [
    "xx = pd.merge(ppd[['PRIM_SPEC_CD','PE_CD','ME']],yah)"
   ]
  },
  {
   "cell_type": "code",
   "execution_count": 32,
   "metadata": {},
   "outputs": [
    {
     "data": {
      "text/html": [
       "<div>\n",
       "<style scoped>\n",
       "    .dataframe tbody tr th:only-of-type {\n",
       "        vertical-align: middle;\n",
       "    }\n",
       "\n",
       "    .dataframe tbody tr th {\n",
       "        vertical-align: top;\n",
       "    }\n",
       "\n",
       "    .dataframe thead th {\n",
       "        text-align: right;\n",
       "    }\n",
       "</style>\n",
       "<table border=\"1\" class=\"dataframe\">\n",
       "  <thead>\n",
       "    <tr style=\"text-align: right;\">\n",
       "      <th></th>\n",
       "      <th>PE_CD</th>\n",
       "      <th>ME</th>\n",
       "      <th>IQVIA_ME</th>\n",
       "      <th>POLO_MAILING_LINE_2</th>\n",
       "      <th>ADDRESS_1_SYMPHONY</th>\n",
       "      <th>ADDRESS_1_IQVIA</th>\n",
       "      <th>ADDRESS_1_DHC</th>\n",
       "      <th>ADDRESS_1_GOV</th>\n",
       "      <th>COUNT</th>\n",
       "    </tr>\n",
       "    <tr>\n",
       "      <th>PRIM_SPEC_CD</th>\n",
       "      <th></th>\n",
       "      <th></th>\n",
       "      <th></th>\n",
       "      <th></th>\n",
       "      <th></th>\n",
       "      <th></th>\n",
       "      <th></th>\n",
       "      <th></th>\n",
       "      <th></th>\n",
       "    </tr>\n",
       "  </thead>\n",
       "  <tbody>\n",
       "    <tr>\n",
       "      <td>IM</td>\n",
       "      <td>12323</td>\n",
       "      <td>12323</td>\n",
       "      <td>12323</td>\n",
       "      <td>0</td>\n",
       "      <td>11618</td>\n",
       "      <td>8205</td>\n",
       "      <td>8016</td>\n",
       "      <td>6180</td>\n",
       "      <td>12323</td>\n",
       "    </tr>\n",
       "    <tr>\n",
       "      <td>FM</td>\n",
       "      <td>11386</td>\n",
       "      <td>11386</td>\n",
       "      <td>11386</td>\n",
       "      <td>0</td>\n",
       "      <td>10968</td>\n",
       "      <td>6368</td>\n",
       "      <td>7578</td>\n",
       "      <td>5485</td>\n",
       "      <td>11386</td>\n",
       "    </tr>\n",
       "    <tr>\n",
       "      <td>EM</td>\n",
       "      <td>6706</td>\n",
       "      <td>6706</td>\n",
       "      <td>6706</td>\n",
       "      <td>0</td>\n",
       "      <td>6567</td>\n",
       "      <td>5215</td>\n",
       "      <td>4862</td>\n",
       "      <td>3522</td>\n",
       "      <td>6706</td>\n",
       "    </tr>\n",
       "    <tr>\n",
       "      <td>PD</td>\n",
       "      <td>5522</td>\n",
       "      <td>5522</td>\n",
       "      <td>5522</td>\n",
       "      <td>0</td>\n",
       "      <td>5046</td>\n",
       "      <td>3071</td>\n",
       "      <td>3023</td>\n",
       "      <td>201</td>\n",
       "      <td>5522</td>\n",
       "    </tr>\n",
       "    <tr>\n",
       "      <td>AN</td>\n",
       "      <td>5052</td>\n",
       "      <td>5052</td>\n",
       "      <td>5052</td>\n",
       "      <td>0</td>\n",
       "      <td>4870</td>\n",
       "      <td>3296</td>\n",
       "      <td>3577</td>\n",
       "      <td>2895</td>\n",
       "      <td>5052</td>\n",
       "    </tr>\n",
       "    <tr>\n",
       "      <td>P</td>\n",
       "      <td>4089</td>\n",
       "      <td>4089</td>\n",
       "      <td>4089</td>\n",
       "      <td>0</td>\n",
       "      <td>3926</td>\n",
       "      <td>1645</td>\n",
       "      <td>2592</td>\n",
       "      <td>1214</td>\n",
       "      <td>4089</td>\n",
       "    </tr>\n",
       "    <tr>\n",
       "      <td>OBG</td>\n",
       "      <td>3827</td>\n",
       "      <td>3827</td>\n",
       "      <td>3827</td>\n",
       "      <td>0</td>\n",
       "      <td>3701</td>\n",
       "      <td>2470</td>\n",
       "      <td>2612</td>\n",
       "      <td>1724</td>\n",
       "      <td>3827</td>\n",
       "    </tr>\n",
       "    <tr>\n",
       "      <td>US</td>\n",
       "      <td>3508</td>\n",
       "      <td>3508</td>\n",
       "      <td>3508</td>\n",
       "      <td>0</td>\n",
       "      <td>2773</td>\n",
       "      <td>1652</td>\n",
       "      <td>1585</td>\n",
       "      <td>1211</td>\n",
       "      <td>3508</td>\n",
       "    </tr>\n",
       "    <tr>\n",
       "      <td>DR</td>\n",
       "      <td>2768</td>\n",
       "      <td>2768</td>\n",
       "      <td>2768</td>\n",
       "      <td>0</td>\n",
       "      <td>2602</td>\n",
       "      <td>1679</td>\n",
       "      <td>1972</td>\n",
       "      <td>1651</td>\n",
       "      <td>2768</td>\n",
       "    </tr>\n",
       "    <tr>\n",
       "      <td>GS</td>\n",
       "      <td>2489</td>\n",
       "      <td>2489</td>\n",
       "      <td>2489</td>\n",
       "      <td>0</td>\n",
       "      <td>2335</td>\n",
       "      <td>1431</td>\n",
       "      <td>1647</td>\n",
       "      <td>1261</td>\n",
       "      <td>2489</td>\n",
       "    </tr>\n",
       "    <tr>\n",
       "      <td>CD</td>\n",
       "      <td>1576</td>\n",
       "      <td>1576</td>\n",
       "      <td>1576</td>\n",
       "      <td>0</td>\n",
       "      <td>1516</td>\n",
       "      <td>1058</td>\n",
       "      <td>1153</td>\n",
       "      <td>953</td>\n",
       "      <td>1576</td>\n",
       "    </tr>\n",
       "    <tr>\n",
       "      <td>OPH</td>\n",
       "      <td>1406</td>\n",
       "      <td>1406</td>\n",
       "      <td>1406</td>\n",
       "      <td>0</td>\n",
       "      <td>1275</td>\n",
       "      <td>589</td>\n",
       "      <td>954</td>\n",
       "      <td>770</td>\n",
       "      <td>1406</td>\n",
       "    </tr>\n",
       "    <tr>\n",
       "      <td>ORS</td>\n",
       "      <td>1337</td>\n",
       "      <td>1337</td>\n",
       "      <td>1337</td>\n",
       "      <td>0</td>\n",
       "      <td>1293</td>\n",
       "      <td>808</td>\n",
       "      <td>993</td>\n",
       "      <td>729</td>\n",
       "      <td>1337</td>\n",
       "    </tr>\n",
       "    <tr>\n",
       "      <td>PTH</td>\n",
       "      <td>1275</td>\n",
       "      <td>1275</td>\n",
       "      <td>1275</td>\n",
       "      <td>0</td>\n",
       "      <td>963</td>\n",
       "      <td>547</td>\n",
       "      <td>600</td>\n",
       "      <td>401</td>\n",
       "      <td>1275</td>\n",
       "    </tr>\n",
       "    <tr>\n",
       "      <td>N</td>\n",
       "      <td>1188</td>\n",
       "      <td>1188</td>\n",
       "      <td>1188</td>\n",
       "      <td>0</td>\n",
       "      <td>1118</td>\n",
       "      <td>588</td>\n",
       "      <td>779</td>\n",
       "      <td>605</td>\n",
       "      <td>1188</td>\n",
       "    </tr>\n",
       "    <tr>\n",
       "      <td>CHP</td>\n",
       "      <td>1103</td>\n",
       "      <td>1103</td>\n",
       "      <td>1103</td>\n",
       "      <td>0</td>\n",
       "      <td>1067</td>\n",
       "      <td>454</td>\n",
       "      <td>731</td>\n",
       "      <td>266</td>\n",
       "      <td>1103</td>\n",
       "    </tr>\n",
       "    <tr>\n",
       "      <td>GP</td>\n",
       "      <td>1078</td>\n",
       "      <td>1078</td>\n",
       "      <td>1078</td>\n",
       "      <td>0</td>\n",
       "      <td>998</td>\n",
       "      <td>314</td>\n",
       "      <td>419</td>\n",
       "      <td>209</td>\n",
       "      <td>1078</td>\n",
       "    </tr>\n",
       "    <tr>\n",
       "      <td>D</td>\n",
       "      <td>1064</td>\n",
       "      <td>1064</td>\n",
       "      <td>1064</td>\n",
       "      <td>0</td>\n",
       "      <td>1008</td>\n",
       "      <td>358</td>\n",
       "      <td>754</td>\n",
       "      <td>622</td>\n",
       "      <td>1064</td>\n",
       "    </tr>\n",
       "    <tr>\n",
       "      <td>GE</td>\n",
       "      <td>1063</td>\n",
       "      <td>1063</td>\n",
       "      <td>1063</td>\n",
       "      <td>0</td>\n",
       "      <td>1033</td>\n",
       "      <td>683</td>\n",
       "      <td>809</td>\n",
       "      <td>711</td>\n",
       "      <td>1063</td>\n",
       "    </tr>\n",
       "    <tr>\n",
       "      <td>PM</td>\n",
       "      <td>932</td>\n",
       "      <td>932</td>\n",
       "      <td>932</td>\n",
       "      <td>0</td>\n",
       "      <td>894</td>\n",
       "      <td>498</td>\n",
       "      <td>624</td>\n",
       "      <td>433</td>\n",
       "      <td>932</td>\n",
       "    </tr>\n",
       "  </tbody>\n",
       "</table>\n",
       "</div>"
      ],
      "text/plain": [
       "              PE_CD     ME  IQVIA_ME  POLO_MAILING_LINE_2  ADDRESS_1_SYMPHONY  \\\n",
       "PRIM_SPEC_CD                                                                    \n",
       "IM            12323  12323     12323                    0               11618   \n",
       "FM            11386  11386     11386                    0               10968   \n",
       "EM             6706   6706      6706                    0                6567   \n",
       "PD             5522   5522      5522                    0                5046   \n",
       "AN             5052   5052      5052                    0                4870   \n",
       "P              4089   4089      4089                    0                3926   \n",
       "OBG            3827   3827      3827                    0                3701   \n",
       "US             3508   3508      3508                    0                2773   \n",
       "DR             2768   2768      2768                    0                2602   \n",
       "GS             2489   2489      2489                    0                2335   \n",
       "CD             1576   1576      1576                    0                1516   \n",
       "OPH            1406   1406      1406                    0                1275   \n",
       "ORS            1337   1337      1337                    0                1293   \n",
       "PTH            1275   1275      1275                    0                 963   \n",
       "N              1188   1188      1188                    0                1118   \n",
       "CHP            1103   1103      1103                    0                1067   \n",
       "GP             1078   1078      1078                    0                 998   \n",
       "D              1064   1064      1064                    0                1008   \n",
       "GE             1063   1063      1063                    0                1033   \n",
       "PM              932    932       932                    0                 894   \n",
       "\n",
       "              ADDRESS_1_IQVIA  ADDRESS_1_DHC  ADDRESS_1_GOV  COUNT  \n",
       "PRIM_SPEC_CD                                                        \n",
       "IM                       8205           8016           6180  12323  \n",
       "FM                       6368           7578           5485  11386  \n",
       "EM                       5215           4862           3522   6706  \n",
       "PD                       3071           3023            201   5522  \n",
       "AN                       3296           3577           2895   5052  \n",
       "P                        1645           2592           1214   4089  \n",
       "OBG                      2470           2612           1724   3827  \n",
       "US                       1652           1585           1211   3508  \n",
       "DR                       1679           1972           1651   2768  \n",
       "GS                       1431           1647           1261   2489  \n",
       "CD                       1058           1153            953   1576  \n",
       "OPH                       589            954            770   1406  \n",
       "ORS                       808            993            729   1337  \n",
       "PTH                       547            600            401   1275  \n",
       "N                         588            779            605   1188  \n",
       "CHP                       454            731            266   1103  \n",
       "GP                        314            419            209   1078  \n",
       "D                         358            754            622   1064  \n",
       "GE                        683            809            711   1063  \n",
       "PM                        498            624            433    932  "
      ]
     },
     "execution_count": 32,
     "metadata": {},
     "output_type": "execute_result"
    }
   ],
   "source": [
    "xx.groupby('PRIM_SPEC_CD').count().sort_values('PE_CD', ascending=False)[0:20]"
   ]
  },
  {
   "cell_type": "code",
   "execution_count": 15,
   "metadata": {},
   "outputs": [],
   "source": [
    "def is_a_match(thing_1, thing_2):\n",
    "    thing_1 = thing_1.strip().upper()\n",
    "    thing_2 = thing_2.strip().upper()\n",
    "    if thing_1 == thing_2:\n",
    "        match = True\n",
    "    elif thing_1 in thing_2:\n",
    "        match = True\n",
    "    elif thing_2 in thing_1:\n",
    "        match = True\n",
    "    elif fuzz.ratio(thing_1, thing_2)>80:\n",
    "        match = True\n",
    "    else:\n",
    "        match = False\n",
    "    return(match)"
   ]
  },
  {
   "cell_type": "code",
   "execution_count": 18,
   "metadata": {},
   "outputs": [],
   "source": [
    "dict_list = []\n",
    "for row in THIS.itertuples():\n",
    "    count = 0\n",
    "    total = 4 - row.count('None')\n",
    "    MATCHES = ''\n",
    "    phone = row.POLO_MAILING_LINE_2\n",
    "    symph_phone = row.ADDRESS_1_SYMPHONY\n",
    "    dhc_phone =row.ADDRESS_1_DHC\n",
    "    iqvia_phone = row.ADDRESS_1_IQVIA\n",
    "    data_phone = row.ADDRESS_1_GOV\n",
    "    if phone!='None':\n",
    "        if is_a_match(symph_phone,phone):  \n",
    "            count += 1\n",
    "            MATCHES += 'Symphony, '\n",
    "        if is_a_match(dhc_phone,phone):\n",
    "            count += 1\n",
    "            MATCHES += 'DHC, '\n",
    "        if is_a_match(iqvia_phone,phone):\n",
    "            count += 1\n",
    "            MATCHES += 'IQVia, '\n",
    "        if is_a_match(data_phone,phone):\n",
    "            count += 1\n",
    "            MATCHES += 'DataGov, '\n",
    "        dicto = {\n",
    "            'ME': row.ME,\n",
    "            'IQVIA_ME': row.IQVIA_ME,\n",
    "            'ADDRESS_PPD': phone,\n",
    "            'MATCHED': count,\n",
    "            'MATCHES': MATCHES[:-2],\n",
    "            'COVERAGE': total\n",
    "        }\n",
    "        dict_list.append(dicto)"
   ]
  },
  {
   "cell_type": "code",
   "execution_count": 19,
   "metadata": {},
   "outputs": [],
   "source": [
    "polo_matches = pd.DataFrame(dict_list).sort_values('MATCHED', ascending=False).drop_duplicates('ME')"
   ]
  },
  {
   "cell_type": "code",
   "execution_count": 20,
   "metadata": {},
   "outputs": [
    {
     "data": {
      "text/html": [
       "<div>\n",
       "<style scoped>\n",
       "    .dataframe tbody tr th:only-of-type {\n",
       "        vertical-align: middle;\n",
       "    }\n",
       "\n",
       "    .dataframe tbody tr th {\n",
       "        vertical-align: top;\n",
       "    }\n",
       "\n",
       "    .dataframe thead th {\n",
       "        text-align: right;\n",
       "    }\n",
       "</style>\n",
       "<table border=\"1\" class=\"dataframe\">\n",
       "  <thead>\n",
       "    <tr style=\"text-align: right;\">\n",
       "      <th></th>\n",
       "      <th>ME</th>\n",
       "      <th>IQVIA_ME</th>\n",
       "      <th>ADDRESS_PPD</th>\n",
       "      <th>MATCHED</th>\n",
       "      <th>MATCHES</th>\n",
       "      <th>COVERAGE</th>\n",
       "    </tr>\n",
       "  </thead>\n",
       "  <tbody>\n",
       "    <tr>\n",
       "      <td>1140089</td>\n",
       "      <td>03608010245</td>\n",
       "      <td>0360801024</td>\n",
       "      <td>7777 FOREST LN STE A337</td>\n",
       "      <td>4</td>\n",
       "      <td>Symphony, DHC, IQVia, DataGov</td>\n",
       "      <td>4</td>\n",
       "    </tr>\n",
       "    <tr>\n",
       "      <td>751664</td>\n",
       "      <td>02604862933</td>\n",
       "      <td>0260486293</td>\n",
       "      <td>1200 6TH AVE N</td>\n",
       "      <td>4</td>\n",
       "      <td>Symphony, DHC, IQVia, DataGov</td>\n",
       "      <td>4</td>\n",
       "    </tr>\n",
       "    <tr>\n",
       "      <td>752409</td>\n",
       "      <td>02604873161</td>\n",
       "      <td>0260487316</td>\n",
       "      <td>701 PARK AVE</td>\n",
       "      <td>4</td>\n",
       "      <td>Symphony, DHC, IQVia, DataGov</td>\n",
       "      <td>4</td>\n",
       "    </tr>\n",
       "    <tr>\n",
       "      <td>752406</td>\n",
       "      <td>02604873129</td>\n",
       "      <td>0260487312</td>\n",
       "      <td>725 AMERICAN AVE</td>\n",
       "      <td>4</td>\n",
       "      <td>Symphony, DHC, IQVia, DataGov</td>\n",
       "      <td>4</td>\n",
       "    </tr>\n",
       "    <tr>\n",
       "      <td>752217</td>\n",
       "      <td>02604871959</td>\n",
       "      <td>0260487195</td>\n",
       "      <td>701 PARK AVE</td>\n",
       "      <td>4</td>\n",
       "      <td>Symphony, DHC, IQVia, DataGov</td>\n",
       "      <td>4</td>\n",
       "    </tr>\n",
       "    <tr>\n",
       "      <td>...</td>\n",
       "      <td>...</td>\n",
       "      <td>...</td>\n",
       "      <td>...</td>\n",
       "      <td>...</td>\n",
       "      <td>...</td>\n",
       "      <td>...</td>\n",
       "    </tr>\n",
       "    <tr>\n",
       "      <td>339981</td>\n",
       "      <td>01611101968</td>\n",
       "      <td>0161110196</td>\n",
       "      <td>210 SAINT JOSEPH DR FL 3</td>\n",
       "      <td>0</td>\n",
       "      <td></td>\n",
       "      <td>4</td>\n",
       "    </tr>\n",
       "    <tr>\n",
       "      <td>339980</td>\n",
       "      <td>01611101950</td>\n",
       "      <td>0161110195</td>\n",
       "      <td>2822 E 83RD ST</td>\n",
       "      <td>0</td>\n",
       "      <td></td>\n",
       "      <td>2</td>\n",
       "    </tr>\n",
       "    <tr>\n",
       "      <td>339979</td>\n",
       "      <td>01611101933</td>\n",
       "      <td>0161110193</td>\n",
       "      <td>675 W KIRCHHOFF RD</td>\n",
       "      <td>0</td>\n",
       "      <td></td>\n",
       "      <td>4</td>\n",
       "    </tr>\n",
       "    <tr>\n",
       "      <td>339971</td>\n",
       "      <td>01611101861</td>\n",
       "      <td>0161110186</td>\n",
       "      <td>55 LAKE AVE N</td>\n",
       "      <td>0</td>\n",
       "      <td></td>\n",
       "      <td>3</td>\n",
       "    </tr>\n",
       "    <tr>\n",
       "      <td>858583</td>\n",
       "      <td>03005090490</td>\n",
       "      <td>0300509049</td>\n",
       "      <td>1 AKRON GENERAL AVE</td>\n",
       "      <td>0</td>\n",
       "      <td></td>\n",
       "      <td>4</td>\n",
       "    </tr>\n",
       "  </tbody>\n",
       "</table>\n",
       "<p>721162 rows × 6 columns</p>\n",
       "</div>"
      ],
      "text/plain": [
       "                  ME    IQVIA_ME               ADDRESS_PPD  MATCHED  \\\n",
       "1140089  03608010245  0360801024   7777 FOREST LN STE A337        4   \n",
       "751664   02604862933  0260486293            1200 6TH AVE N        4   \n",
       "752409   02604873161  0260487316              701 PARK AVE        4   \n",
       "752406   02604873129  0260487312          725 AMERICAN AVE        4   \n",
       "752217   02604871959  0260487195              701 PARK AVE        4   \n",
       "...              ...         ...                       ...      ...   \n",
       "339981   01611101968  0161110196  210 SAINT JOSEPH DR FL 3        0   \n",
       "339980   01611101950  0161110195            2822 E 83RD ST        0   \n",
       "339979   01611101933  0161110193        675 W KIRCHHOFF RD        0   \n",
       "339971   01611101861  0161110186             55 LAKE AVE N        0   \n",
       "858583   03005090490  0300509049       1 AKRON GENERAL AVE        0   \n",
       "\n",
       "                               MATCHES  COVERAGE  \n",
       "1140089  Symphony, DHC, IQVia, DataGov         4  \n",
       "751664   Symphony, DHC, IQVia, DataGov         4  \n",
       "752409   Symphony, DHC, IQVia, DataGov         4  \n",
       "752406   Symphony, DHC, IQVia, DataGov         4  \n",
       "752217   Symphony, DHC, IQVia, DataGov         4  \n",
       "...                                ...       ...  \n",
       "339981                                         4  \n",
       "339980                                         2  \n",
       "339979                                         4  \n",
       "339971                                         3  \n",
       "858583                                         4  \n",
       "\n",
       "[721162 rows x 6 columns]"
      ]
     },
     "execution_count": 20,
     "metadata": {},
     "output_type": "execute_result"
    }
   ],
   "source": [
    "polo_matches"
   ]
  },
  {
   "cell_type": "code",
   "execution_count": null,
   "metadata": {},
   "outputs": [],
   "source": [
    "dict_list = []\n",
    "sym_count = 0\n",
    "dhc_count = 0\n",
    "iqvia_count = 0\n",
    "data_count = 0\n",
    "for row in THIS.itertuples():\n",
    "    count = 0\n",
    "    total = 4 - row.count('None')\n",
    "    MATCHES = ''\n",
    "    phone = use.fix_zipcode(row.POLO_ZIP)\n",
    "    symph_phone = use.fix_zipcode(row.ZIP_SYMPHONY)\n",
    "    dhc_phone =use.fix_zipcode(row.ZIP_DHC)\n",
    "    iqvia_phone = use.fix_zipcode(row.ZIP_IQVIA)\n",
    "    data_phone = use.fix_zipcode(row.ZIP_GOV)\n",
    "    if phone.isnumeric():\n",
    "        if symph_phone == phone:\n",
    "            sym_count+=1\n",
    "            count += 1\n",
    "            MATCHES += 'Symphony, '\n",
    "        if dhc_phone == phone:\n",
    "            dhc_count+=1\n",
    "            count += 1\n",
    "            MATCHES += 'DHC, '\n",
    "        if iqvia_phone == phone:\n",
    "            iqvia_count+=1\n",
    "            count += 1\n",
    "            MATCHES += 'IQVia, '\n",
    "        if data_phone == phone:\n",
    "            data_count+=1\n",
    "            count += 1\n",
    "            MATCHES += 'DataGov, '\n",
    "        dicto = {\n",
    "            'ME': row.ME,\n",
    "            'IQVIA_ME': row.IQVIA_ME,\n",
    "            'ZIP_PPD': row.POLO_ZIP,\n",
    "            'MATCHED': count,\n",
    "            'MATCHES': MATCHES[:-2],\n",
    "            'COVERAGE': total\n",
    "        }\n",
    "        dict_list.append(dicto)"
   ]
  },
  {
   "cell_type": "code",
   "execution_count": null,
   "metadata": {},
   "outputs": [],
   "source": [
    "zip_matches = pd.DataFrame(dict_list).sort_values('MATCHED', ascending=False).drop_duplicates('ME')"
   ]
  },
  {
   "cell_type": "code",
   "execution_count": null,
   "metadata": {},
   "outputs": [],
   "source": []
  },
  {
   "cell_type": "code",
   "execution_count": 24,
   "metadata": {},
   "outputs": [
    {
     "data": {
      "text/html": [
       "<div>\n",
       "<style scoped>\n",
       "    .dataframe tbody tr th:only-of-type {\n",
       "        vertical-align: middle;\n",
       "    }\n",
       "\n",
       "    .dataframe tbody tr th {\n",
       "        vertical-align: top;\n",
       "    }\n",
       "\n",
       "    .dataframe thead th {\n",
       "        text-align: right;\n",
       "    }\n",
       "</style>\n",
       "<table border=\"1\" class=\"dataframe\">\n",
       "  <thead>\n",
       "    <tr style=\"text-align: right;\">\n",
       "      <th></th>\n",
       "      <th>ME</th>\n",
       "    </tr>\n",
       "    <tr>\n",
       "      <th>PERCENT</th>\n",
       "      <th></th>\n",
       "    </tr>\n",
       "  </thead>\n",
       "  <tbody>\n",
       "    <tr>\n",
       "      <td>0.000000</td>\n",
       "      <td>143122</td>\n",
       "    </tr>\n",
       "    <tr>\n",
       "      <td>0.250000</td>\n",
       "      <td>56182</td>\n",
       "    </tr>\n",
       "    <tr>\n",
       "      <td>0.333333</td>\n",
       "      <td>57825</td>\n",
       "    </tr>\n",
       "    <tr>\n",
       "      <td>0.500000</td>\n",
       "      <td>112046</td>\n",
       "    </tr>\n",
       "    <tr>\n",
       "      <td>0.666667</td>\n",
       "      <td>80550</td>\n",
       "    </tr>\n",
       "    <tr>\n",
       "      <td>0.750000</td>\n",
       "      <td>114872</td>\n",
       "    </tr>\n",
       "    <tr>\n",
       "      <td>1.000000</td>\n",
       "      <td>155276</td>\n",
       "    </tr>\n",
       "    <tr>\n",
       "      <td>2.000000</td>\n",
       "      <td>1</td>\n",
       "    </tr>\n",
       "    <tr>\n",
       "      <td>3.000000</td>\n",
       "      <td>3</td>\n",
       "    </tr>\n",
       "  </tbody>\n",
       "</table>\n",
       "</div>"
      ],
      "text/plain": [
       "              ME\n",
       "PERCENT         \n",
       "0.000000  143122\n",
       "0.250000   56182\n",
       "0.333333   57825\n",
       "0.500000  112046\n",
       "0.666667   80550\n",
       "0.750000  114872\n",
       "1.000000  155276\n",
       "2.000000       1\n",
       "3.000000       3"
      ]
     },
     "execution_count": 24,
     "metadata": {},
     "output_type": "execute_result"
    }
   ],
   "source": [
    "polo_matches.groupby('PERCENT').count()[['ME']]"
   ]
  },
  {
   "cell_type": "code",
   "execution_count": 23,
   "metadata": {},
   "outputs": [],
   "source": [
    "polo_matches['PERCENT'] = polo_matches[\"MATCHED\"] / polo_matches[\"COVERAGE\"]"
   ]
  },
  {
   "cell_type": "code",
   "execution_count": null,
   "metadata": {},
   "outputs": [],
   "source": [
    "zip_matches.groupby('PERCENT').count()[['ME']]"
   ]
  },
  {
   "cell_type": "code",
   "execution_count": null,
   "metadata": {},
   "outputs": [],
   "source": [
    "print(f'''\n",
    "{sym_count}\n",
    "{dhc_count}\n",
    "{iqvia_count}\n",
    "{data_count}\n",
    "''')"
   ]
  },
  {
   "cell_type": "code",
   "execution_count": null,
   "metadata": {
    "scrolled": true
   },
   "outputs": [],
   "source": [
    "THIS[(THIS.POLO_ZIP=='None')].drop_duplicates('ME')"
   ]
  },
  {
   "cell_type": "code",
   "execution_count": 25,
   "metadata": {},
   "outputs": [],
   "source": [
    "XX = dpc[['ME','PE_CD','PRIM_SPEC_CD']]"
   ]
  },
  {
   "cell_type": "code",
   "execution_count": 26,
   "metadata": {},
   "outputs": [],
   "source": [
    "pd.merge(polo_matches, XX, on='ME').groupby('PE_CD').mean().to_csv('../../Data/Gap_Analysis/PE_CD_POLO_MATCH.csv')"
   ]
  },
  {
   "cell_type": "code",
   "execution_count": 28,
   "metadata": {},
   "outputs": [],
   "source": [
    "SPEC = pd.read_csv('../../Data/PPD/speciality_id.csv')\n",
    "prim_spec = pd.merge(polo_matches, XX, on='ME').groupby('PRIM_SPEC_CD').mean()\n",
    "pd.merge(prim_spec, SPEC, left_on='PRIM_SPEC_CD',right_on='SPEC_CD', how='left').to_csv('../../Data/Gap_Analysis/SPEC_POLO_MATCH.csv')"
   ]
  },
  {
   "cell_type": "code",
   "execution_count": null,
   "metadata": {},
   "outputs": [],
   "source": [
    "len(dpc)"
   ]
  },
  {
   "cell_type": "code",
   "execution_count": null,
   "metadata": {},
   "outputs": [],
   "source": [
    "dict_list = []\n",
    "for row in THIS.itertuples():\n",
    "    count = 0\n",
    "    phone_num = 'None'\n",
    "    symph_phone = row.SYM_PHONE\n",
    "    dhc_phone = row.DHC_PHONE\n",
    "    iqvia_phone = row.IQVIA_PHONE\n",
    "    data_phone = row.GOV_PHONE\n",
    "    print(iqvia_phone)\n",
    "    if symph_phone == dhc_phone and symph_phone != 'None':\n",
    "        MATCHES = 'Symphony, DHC'\n",
    "        phone_num = symph_phone\n",
    "        if dhc_phone == iqvia_phone:\n",
    "            count = 2\n",
    "            MATCHES = 'Symphony, DHC, IQVia'\n",
    "            if dhc_phone == data_phone:\n",
    "                count = 3\n",
    "                MATCHES = 'Symphony, DHC, IQVia, DataGov'\n",
    "        elif dhc_phone == data_phone:\n",
    "            count = 2\n",
    "            MATCHES = 'Symphony, DHC, DataGov'\n",
    "        else:\n",
    "            count = 1       \n",
    "    elif symph_phone == iqvia_phone and symph_phone != 'None':\n",
    "        phone_num = symph_phone\n",
    "        MATCHES = 'Symphony, IQVia'\n",
    "        count = 1\n",
    "        if symph_phone == data_phone:\n",
    "            count = 2\n",
    "            MATCHES = 'Symphony, IQVia, DataGov'\n",
    "    elif symph_phone == data_phone and symph_phone != 'None':\n",
    "        phone_num = symph_phone\n",
    "        MATCHES = 'Symphony, DataGov'\n",
    "        count = 1\n",
    "        \n",
    "    elif dhc_phone == iqvia_phone and dhc_phone != 'None':\n",
    "        phone_num = dhc_phone\n",
    "        MATCHES = 'DHC, IQVia'\n",
    "        count = 1\n",
    "        if dhc_phone == data_phone:\n",
    "            MATCHES = 'DHC, IQVia, DataGov'\n",
    "            count = 2\n",
    "    elif dhc_phone == data_phone and dhc_phone != 'None':\n",
    "        phone_num = dhc_phone\n",
    "        MATCHES = 'DHC, DataGov'\n",
    "        count = 1\n",
    "        \n",
    "    if phone_num!='None':\n",
    "        dicto = {\n",
    "        'ME': row.ME,\n",
    "        'IQVIA_ME': row.IQVIA_ME,\n",
    "        'PHONE': phone_num,\n",
    "        'MATCHED': count,\n",
    "        'MATCHES': MATCHES\n",
    "    }\n",
    "        dict_list.append(dicto)"
   ]
  },
  {
   "cell_type": "code",
   "execution_count": null,
   "metadata": {},
   "outputs": [],
   "source": [
    "phone_matches = pd.DataFrame(dict_list)"
   ]
  },
  {
   "cell_type": "code",
   "execution_count": null,
   "metadata": {},
   "outputs": [],
   "source": [
    "best = phone_matches[phone_matches.MATCHED==3]"
   ]
  },
  {
   "cell_type": "code",
   "execution_count": null,
   "metadata": {},
   "outputs": [],
   "source": [
    "phone_matches.drop_duplicates('ME')"
   ]
  },
  {
   "cell_type": "code",
   "execution_count": null,
   "metadata": {},
   "outputs": [],
   "source": [
    "def clean_address_two(add_1):\n",
    "    add_1 = add_1.strip()\n",
    "    if add_1 == 'None':\n",
    "        addr_1 = ' '\n",
    "    elif add_1 == 'NAN':\n",
    "        addr_1 = ' '\n",
    "    else:\n",
    "        addr_1 = ',' + add_1\n",
    "    return(addr_1)\n",
    "\n",
    "def is_a_match(thing_1, thing_2):\n",
    "    if thing_1 == thing_2:\n",
    "        match = True\n",
    "    elif thing_1 in thing_2:\n",
    "        match = True\n",
    "    elif thing_2 in thing_1:\n",
    "        match = True\n",
    "    elif fuzz.ratio(thing_1, thing_2)>70:\n",
    "        match = True\n",
    "    else:\n",
    "        match = False\n",
    "    return(match)\n",
    "\n",
    "def is_match(thing_1, thing_2):\n",
    "    if thing_1 == thing_2:\n",
    "        match = True\n",
    "    elif thing_1 in thing_2:\n",
    "        match = True\n",
    "    elif thing_2 in thing_1:\n",
    "        match = True\n",
    "    else:\n",
    "        match = False\n",
    "    return(match)\n",
    "\n",
    "def error_handle(parsed_string):\n",
    "    new_dict = {}\n",
    "    for thing in parsed_string:\n",
    "        if thing[1] in new_dict.keys():\n",
    "            a_list = [new_dict[thing[1]], thing[0]]\n",
    "            new_dict[thing[1]] = max(a_list, key=len)\n",
    "        else:\n",
    "            new_dict[thing[1]] = thing[0]\n",
    "    return(new_dict)\n",
    "\n",
    "# def get_all_keys(moar):\n",
    "#     all_keys =[]\n",
    "#     for row in moar.itertuples():\n",
    "#         addr_2 = clean_address_two(row.ADDRESS_2)\n",
    "#         address = f'{row.ADDRESS_1}{addr_2}, {row.CITY}, {row.STATE}'\n",
    "#         try:\n",
    "#             new_dict = usaddress.tag(address)[0]\n",
    "#         except usaddress.RepeatedLabelError as e:\n",
    "#             print(e.original_string)\n",
    "#             new_dict = error_handle(e.parsed_string)\n",
    "#             print('')\n",
    "#         le_keys = list(new_dict.keys())\n",
    "#         for key in le_keys:\n",
    "#             if key not in all_keys:\n",
    "#                 all_keys.append(key)\n",
    "#         return (all_keys)\n",
    "    \n",
    "# def parse_address(moar):\n",
    "#     dict_list = []\n",
    "#     for row in moar.itertuples():\n",
    "#         new_dict = {}\n",
    "#         new_dict['ME'] = row.ME\n",
    "#         new_dict['IQVIA_ME'] = row.IQVIA_ME\n",
    "#         new_dict['PHONE'] = row.PHONE\n",
    "#         new_dict['ZIP'] = row.ZIP\n",
    "#         addr_2 = clean_address_two(row.ADDRESS_2)\n",
    "#         address = f'{row.ADDRESS_1}{addr_2}, {row.CITY}, {row.STATE}'\n",
    "#         try:\n",
    "#             address_dict = usaddress.tag(address)[0]\n",
    "#         except usaddress.RepeatedLabelError as e:\n",
    "#             print(e.original_string)\n",
    "#             address_dict = error_handle(e.parsed_string)\n",
    "#             print('')\n",
    "#         dict_list.append(new_dict)\n",
    "#     return (dict_list)\n",
    "\n",
    "# LE_KEYS = get_all_keys(all_file)\n",
    "# new_list = parse_address(all_file, LE_KEYS)"
   ]
  },
  {
   "cell_type": "code",
   "execution_count": null,
   "metadata": {},
   "outputs": [],
   "source": [
    "def count_matches(THIS):\n",
    "    dict_list = []\n",
    "    for row in THIS.itertuples():\n",
    "        count = 0\n",
    "        phone_num = 'None'\n",
    "        symph_phone = row.ADDRESS_1_SYMPHONY.upper().strip()\n",
    "        dhc_phone = row.ADDRESS_1_DHC.upper().strip()\n",
    "        iqvia_phone = row.ADDRESS_1_IQVIA.upper().strip()\n",
    "        data_phone = row.ADDRESS_1_GOV.upper().strip()\n",
    "        print(iqvia_phone)\n",
    "        if symph_phone == dhc_phone and symph_phone != 'NONE':\n",
    "            MATCHES = 'Symphony, DHC'\n",
    "            phone_num = symph_phone\n",
    "            if dhc_phone == iqvia_phone:\n",
    "                count = 2\n",
    "                MATCHES = 'Symphony, DHC, IQVia'\n",
    "                if dhc_phone == data_phone:\n",
    "                    count = 3\n",
    "                    MATCHES = 'Symphony, DHC, IQVia, DataGov'\n",
    "            elif dhc_phone == data_phone:\n",
    "                count = 2\n",
    "                MATCHES = 'Symphony, DHC, DataGov'\n",
    "            else:\n",
    "                count = 1       \n",
    "        elif symph_phone == iqvia_phone and symph_phone != 'NONE':\n",
    "            phone_num = symph_phone\n",
    "            MATCHES = 'Symphony, IQVia'\n",
    "            count = 1\n",
    "            if symph_phone == data_phone:\n",
    "                count = 2\n",
    "                MATCHES = 'Symphony, IQVia, DataGov'\n",
    "        elif symph_phone == data_phone and symph_phone != 'NONE':\n",
    "            phone_num = symph_phone\n",
    "            MATCHES = 'Symphony, DataGov'\n",
    "            count = 1\n",
    "\n",
    "        elif dhc_phone == iqvia_phone and dhc_phone != 'NONE':\n",
    "            phone_num = dhc_phone\n",
    "            MATCHES = 'DHC, IQVia'\n",
    "            count = 1\n",
    "            if dhc_phone == data_phone:\n",
    "                MATCHES = 'DHC, IQVia, DataGov'\n",
    "                count = 2\n",
    "        elif dhc_phone == data_phone and dhc_phone != 'NONE':\n",
    "            phone_num = dhc_phone\n",
    "            MATCHES = 'DHC, DataGov'\n",
    "            count = 1\n",
    "\n",
    "        if phone_num!='None':\n",
    "            dicto = {\n",
    "            'ME': row.ME,\n",
    "            'IQVIA_ME': row.IQVIA_ME,\n",
    "            'ADDRESS': phone_num,\n",
    "            'MATCHED': count,\n",
    "            'ADDRESS_MATCHES': MATCHES\n",
    "        }\n",
    "            dict_list.append(dicto)\n",
    "    return dict_list"
   ]
  },
  {
   "cell_type": "code",
   "execution_count": null,
   "metadata": {},
   "outputs": [],
   "source": [
    "this = older_polos[['ME','IQVIA_ME']]\n",
    "this = pd.merge(this, symphony, left_on='IQVIA_ME', right_on='SYM_ME', how='left')\n",
    "this = pd.merge(this, iqvia, left_on='IQVIA_ME', right_on='ME', how='left', suffixes = ['','_iqvia'])\n",
    "this = pd.merge(this, dhc, on='ME', how='left')\n",
    "this = pd.merge(this, gov, on='ME', how='left').drop_duplicates()"
   ]
  },
  {
   "cell_type": "code",
   "execution_count": null,
   "metadata": {},
   "outputs": [],
   "source": [
    "this = this.fillna('None')\n",
    "ADD_LIST = count_matches(this)"
   ]
  },
  {
   "cell_type": "code",
   "execution_count": null,
   "metadata": {},
   "outputs": [],
   "source": [
    "ADDRESSES = pd.DataFrame(ADD_LIST).drop_duplicates(['ME','ADDRESS'])"
   ]
  },
  {
   "cell_type": "code",
   "execution_count": null,
   "metadata": {},
   "outputs": [],
   "source": [
    "alls = pd.merge(ADDRESSES, phone_matches, on=['ME','IQVIA_ME'], how='outer', suffixes=['_ADDRESS','_PHONE']).drop_duplicates()"
   ]
  },
  {
   "cell_type": "code",
   "execution_count": null,
   "metadata": {},
   "outputs": [],
   "source": [
    "this"
   ]
  },
  {
   "cell_type": "code",
   "execution_count": null,
   "metadata": {},
   "outputs": [],
   "source": [
    "alls.sort_values('MATCHED_PHONE', ascending=False)"
   ]
  },
  {
   "cell_type": "code",
   "execution_count": null,
   "metadata": {},
   "outputs": [],
   "source": [
    "TEES = pd.merge(alls, THIS, on=['ME','IQVIA_ME']).sort_values('MATCHED_PHONE', ascending=False)"
   ]
  },
  {
   "cell_type": "code",
   "execution_count": null,
   "metadata": {},
   "outputs": [],
   "source": [
    "XX = pd.merge(TEES, this, on=['ME','IQVIA_ME']).sort_values('MATCHED_PHONE', ascending=False)"
   ]
  },
  {
   "cell_type": "code",
   "execution_count": null,
   "metadata": {},
   "outputs": [],
   "source": [
    "fuzzed_xx = pd.merge(fuzzed_cont, this, on=['ME','IQVIA_ME'])"
   ]
  },
  {
   "cell_type": "code",
   "execution_count": null,
   "metadata": {},
   "outputs": [],
   "source": [
    "this[['ME', 'IQVIA_ME', 'ADDRESS_2_SYMPHONY', 'ZIP_SYMPHONY',  'ADDRESS_1_IQVIA', \n",
    "       'ZIP_IQVIA', 'ZIP_DHC', 'ADDRESS_1_DHC', 'First Name', 'Physician Name',\n",
    "       'Middle Name', 'Primary Specialty', 'Primary Hospital Affiliation',\n",
    "       'Last Name', 'ADDRESS_2_DHC', 'DHC_PHONE', 'NPI_y', ' Ind_PAC_ID',\n",
    "       ' Ind_enrl_ID', ' lst_nm', ' frst_nm', ' mid_nm', ' suff', ' gndr',\n",
    "       ' Cred', ' Med_sch', ' Grd_yr', ' pri_spec', ' sec_spec_1',\n",
    "       ' sec_spec_2', ' sec_spec_3', ' sec_spec_4', ' sec_spec_all', ' org_nm',\n",
    "       ' org_pac_id', ' num_org_mem', 'ADDRESS_1_GOV', 'ADDRESS_2_GOV',\n",
    "       ' ln_2_sprs', 'CITY_GOV', 'STATE_GOV', 'ZIP_GOV', ' phn_numbr',\n",
    "       ' hosp_afl_1', ' hosp_afl_lbn_1', ' hosp_afl_2', ' hosp_afl_lbn_2',\n",
    "       ' hosp_afl_3', ' hosp_afl_lbn_3', ' hosp_afl_4', ' hosp_afl_lbn_4',\n",
    "       ' hosp_afl_5', ' hosp_afl_lbn_5', ' ind_assgn', ' grp_assgn',\n",
    "       ' adrs_id', 'PARTY_ID', 'GOV_PHONE']]"
   ]
  },
  {
   "cell_type": "code",
   "execution_count": null,
   "metadata": {},
   "outputs": [],
   "source": [
    "iqvia[iqvia.ME.isin(TEES.IQVIA_ME)==False].drop_duplicates('ME')"
   ]
  },
  {
   "cell_type": "code",
   "execution_count": null,
   "metadata": {},
   "outputs": [],
   "source": [
    "TEES.drop_duplicates('ME')"
   ]
  },
  {
   "cell_type": "code",
   "execution_count": null,
   "metadata": {},
   "outputs": [],
   "source": [
    "phone_matches.drop_duplicates('ME')"
   ]
  },
  {
   "cell_type": "code",
   "execution_count": null,
   "metadata": {},
   "outputs": [],
   "source": [
    "8161+5294"
   ]
  },
  {
   "cell_type": "code",
   "execution_count": null,
   "metadata": {},
   "outputs": [],
   "source": [
    "pd.merge(testt, older_polos, on=['ME','IQVIA_ME'])[['ADDRESS','STATE_DHC','STATE_IQVIA','STATE_SYMPHONY','STATE_GOV','STATE_POLO','STATE_PPMA','ADDRESS_MATCHES']].drop_duplicates()"
   ]
  },
  {
   "cell_type": "code",
   "execution_count": null,
   "metadata": {},
   "outputs": [],
   "source": [
    "older_polos.columns"
   ]
  },
  {
   "cell_type": "code",
   "execution_count": null,
   "metadata": {},
   "outputs": [],
   "source": [
    "len(older_polos)"
   ]
  },
  {
   "cell_type": "code",
   "execution_count": null,
   "metadata": {},
   "outputs": [],
   "source": [
    "testt = XX[['ME', 'IQVIA_ME', 'ADDRESS', 'MATCHED_ADDRESS', 'ADDRESS_MATCHES',\n",
    "       'PHONE_x', 'MATCHED_PHONE', 'MATCHES', 'STATE_SYMPHONY', 'STATE_IQVIA', 'STATE_DHC',\n",
    "       'STATE_GOV']].drop_duplicates()"
   ]
  },
  {
   "cell_type": "code",
   "execution_count": null,
   "metadata": {},
   "outputs": [],
   "source": [
    "testt"
   ]
  },
  {
   "cell_type": "code",
   "execution_count": null,
   "metadata": {},
   "outputs": [],
   "source": [
    "XX.columns"
   ]
  },
  {
   "cell_type": "code",
   "execution_count": null,
   "metadata": {},
   "outputs": [],
   "source": [
    "XX = XX.fillna('None')"
   ]
  },
  {
   "cell_type": "code",
   "execution_count": null,
   "metadata": {},
   "outputs": [],
   "source": [
    "XX.drop_duplicates()"
   ]
  },
  {
   "cell_type": "code",
   "execution_count": null,
   "metadata": {},
   "outputs": [],
   "source": [
    "dictss = []\n",
    "mes = []\n",
    "for row in XX.itertuples():\n",
    "    if row.ADDRESS_MATCHES == 'None':\n",
    "        print('Addres mismatch')\n",
    "        continue\n",
    "    if row.ME in mes:\n",
    "        print('already found')\n",
    "        continue\n",
    "    sources = row.ADDRESS_MATCHES\n",
    "    address = row.ADDRESS.upper().strip()\n",
    "    phone = row.PHONE_x\n",
    "    phone_source = 'Multiple'\n",
    "    address_source = sources\n",
    "    if \"IQVia\" in sources and row.ADDRESS_1_IQVIA.upper().strip() == address:\n",
    "        state = row.STATE_IQVIA\n",
    "        zipcode = row.ZIP_IQVIA\n",
    "        city = row.CITY_IQVIA\n",
    "        address_2 = row.ADDRESS_2_SYMPHONY\n",
    "        if phone == 'None':\n",
    "            phone = row.IQVIA_PHONE_x\n",
    "            phone_source = 'IQVia'\n",
    "        address_source = 'IQVia'\n",
    "    elif \"Symphony\" in sources and row.ADDRESS_1_SYMPHONY.upper().strip() == address:\n",
    "        state = row.STATE_SYMPHONY\n",
    "        zipcode = row.ZIP_SYMPHONY\n",
    "        city = row.CITY_SYMPHONY\n",
    "        address_2 = row.ADDRESS_2_SYMPHONY\n",
    "        if phone == 'None':\n",
    "            phone = row.SYM_PHONE_x\n",
    "            phone_source = 'Symphony'\n",
    "        address_source = 'Symphony'\n",
    "    elif \"DataGov\" in sources and row.ADDRESS_1_GOV.upper().strip() == address:\n",
    "        state = row.STATE_GOV\n",
    "        zipcode = row.ZIP_GOV\n",
    "        city = row.CITY_GOV\n",
    "        address_2 = row.ADDRESS_2_GOV\n",
    "        if phone == 'None':\n",
    "            phone = row.GOV_PHONE_x\n",
    "            phone_source = 'DataGov'\n",
    "        address_source = 'DataGov'\n",
    "    NEW_DICT = {\n",
    "        'ME': row.ME,\n",
    "        'ME_IQVIA': row.IQVIA_ME,\n",
    "        'ADDRESS_MATCHES': row.ADDRESS_MATCHES,\n",
    "        'PHONE_MATCHES': row.MATCHES,\n",
    "        'ADDRESS_1': address,\n",
    "        'ADDRESS_2': address_2,\n",
    "        'CITY': city,\n",
    "        'STATE': state,\n",
    "        'ZIPCODE': zipcode,\n",
    "        'PHONE': phone,\n",
    "        'PHONE_SOURCE': phone_source,\n",
    "        'ADDRESS_SOURCE': address_source\n",
    "    }\n",
    "    dictss.append(NEW_DICT)\n",
    "    if phone!='None':\n",
    "        mes.append(row.ME)"
   ]
  },
  {
   "cell_type": "code",
   "execution_count": null,
   "metadata": {},
   "outputs": [],
   "source": [
    "sample = pd.DataFrame(dictss).drop_duplicates(['ME','ADDRESS_1'])"
   ]
  },
  {
   "cell_type": "code",
   "execution_count": null,
   "metadata": {},
   "outputs": [],
   "source": [
    "sample"
   ]
  },
  {
   "cell_type": "code",
   "execution_count": null,
   "metadata": {},
   "outputs": [],
   "source": [
    "XX[XX.ADDRESS_MATCHES == 'None'][['ME','MATCHES',  'ADDRESS_1_SYMPHONY', 'CITY_SYMPHONY', 'STATE_SYMPHONY', 'ADDRESS_1_IQVIA',\n",
    "       'CITY_IQVIA', 'STATE_IQVIA', 'STATE_DHC',\n",
    "       'CITY_DHC', 'ADDRESS_1_DHC', 'ADDRESS_1_GOV', 'CITY_GOV', 'STATE_GOV']]"
   ]
  },
  {
   "cell_type": "code",
   "execution_count": null,
   "metadata": {},
   "outputs": [],
   "source": [
    "no_address = XX[XX.ADDRESS_MATCHES == 'None']"
   ]
  },
  {
   "cell_type": "code",
   "execution_count": null,
   "metadata": {},
   "outputs": [],
   "source": [
    "def count_fuzzy_matches(THIS):\n",
    "    dict_list = []\n",
    "    for row in THIS.itertuples():\n",
    "        count = 0\n",
    "        phone_num = 'None'\n",
    "        symph_phone = row.ADDRESS_1_SYMPHONY.upper().strip()\n",
    "        dhc_phone = row.ADDRESS_1_DHC.upper().strip()\n",
    "        iqvia_phone = row.ADDRESS_1_IQVIA.upper().strip()\n",
    "        data_phone = row.ADDRESS_1_GOV.upper().strip()\n",
    "        print(iqvia_phone)\n",
    "        if is_a_match(symph_phone,dhc_phone) and symph_phone != 'NONE':\n",
    "            MATCHES = 'Symphony, DHC'\n",
    "            phone_num = symph_phone\n",
    "            if is_a_match(dhc_phone,iqvia_phone):\n",
    "                count = 2\n",
    "                MATCHES = 'Symphony, DHC, IQVia'\n",
    "                if is_a_match(dhc_phone,data_phone):\n",
    "                    count = 3\n",
    "                    MATCHES = 'Symphony, DHC, IQVia, DataGov'\n",
    "            elif is_a_match(dhc_phone,data_phone):\n",
    "                count = 2\n",
    "                MATCHES = 'Symphony, DHC, DataGov'\n",
    "            else:\n",
    "                count = 1       \n",
    "        elif is_a_match(symph_phone,iqvia_phone) and symph_phone != 'NONE':\n",
    "            phone_num = symph_phone\n",
    "            MATCHES = 'Symphony, IQVia'\n",
    "            count = 1\n",
    "            if is_a_match(symph_phone,data_phone):\n",
    "                count = 2\n",
    "                MATCHES = 'Symphony, IQVia, DataGov'\n",
    "        elif is_a_match(symph_phone,data_phone) and symph_phone != 'NONE':\n",
    "            phone_num = symph_phone\n",
    "            MATCHES = 'Symphony, DataGov'\n",
    "            count = 1\n",
    "\n",
    "        elif is_a_match(dhc_phone,iqvia_phone) and dhc_phone != 'NONE':\n",
    "            phone_num = iqvia_phone\n",
    "            MATCHES = 'DHC, IQVia'\n",
    "            count = 1\n",
    "            if is_a_match(iqvia_phone,data_phone):\n",
    "                MATCHES = 'DHC, IQVia, DataGov'\n",
    "                count = 2\n",
    "        elif is_a_match(dhc_phone,data_phone) and dhc_phone != 'NONE':\n",
    "            phone_num = data_phone\n",
    "            MATCHES = 'DHC, DataGov'\n",
    "            count = 1\n",
    "\n",
    "        if phone_num!='None':\n",
    "            dicto = {\n",
    "            'ME': row.ME,\n",
    "            'IQVIA_ME': row.IQVIA_ME,\n",
    "            'ADDRESS': phone_num,\n",
    "            'DHC_ADDRESS': dhc_phone,\n",
    "            'SYM_ADDRESS': symph_phone,\n",
    "            'IQV_ADDRESS': iqvia_phone,\n",
    "            'GOV_ADDRESS': data_phone,\n",
    "            'MATCHED': count,\n",
    "            'ADDRESS_MATCHES': MATCHES\n",
    "        }\n",
    "            dict_list.append(dicto)\n",
    "    return dict_list"
   ]
  },
  {
   "cell_type": "code",
   "execution_count": null,
   "metadata": {},
   "outputs": [],
   "source": [
    "boom = count_fuzzy_matches(no_address)"
   ]
  },
  {
   "cell_type": "code",
   "execution_count": null,
   "metadata": {},
   "outputs": [],
   "source": [
    "pd.DataFrame(boom).sort_values('MATCHED').drop_duplicates('ME', keep='last').to_csv(\"../../Data/POLO_Filter/Match_Test.csv\", index=False)"
   ]
  },
  {
   "cell_type": "code",
   "execution_count": null,
   "metadata": {},
   "outputs": [],
   "source": [
    "FUZZED = pd.DataFrame(boom).sort_values('MATCHED').drop_duplicates('ME', keep='last')"
   ]
  },
  {
   "cell_type": "code",
   "execution_count": null,
   "metadata": {},
   "outputs": [],
   "source": [
    "THIS"
   ]
  },
  {
   "cell_type": "code",
   "execution_count": null,
   "metadata": {},
   "outputs": [],
   "source": [
    "fuzzed_cont = pd.merge(FUZZED, phone_matches, on=['ME','IQVIA_ME'], suffixes=['_ADDRESSES','_PHONES']).drop_duplicates()"
   ]
  },
  {
   "cell_type": "code",
   "execution_count": null,
   "metadata": {},
   "outputs": [],
   "source": [
    "#no phones?\n",
    "#still no phones\n",
    "#phones match but addresses do not\n",
    "#100 mile check\n",
    "#license check"
   ]
  },
  {
   "cell_type": "code",
   "execution_count": null,
   "metadata": {},
   "outputs": [],
   "source": [
    "dicts_2 = []\n",
    "mes_2 = []\n",
    "for row in fuzzed_xx.itertuples():\n",
    "    if row.ADDRESS_MATCHES == 'None':\n",
    "        print('Addres mismatch')\n",
    "        continue\n",
    "    if row.ME in mes:\n",
    "        print('already found')\n",
    "        continue\n",
    "    sources = row.ADDRESS_MATCHES\n",
    "    address = row.ADDRESS.upper().strip()\n",
    "    phone = row.PHONE_x\n",
    "    phone_source = 'Multiple'\n",
    "    address_source = sources\n",
    "    if \"IQVia\" in sources and row.ADDRESS_1_IQVIA.upper().strip() == address:\n",
    "        state = row.STATE_IQVIA\n",
    "        zipcode = row.ZIP_IQVIA\n",
    "        city = row.CITY_IQVIA\n",
    "        address_2 = row.ADDRESS_2_SYMPHONY\n",
    "        if phone == 'None':\n",
    "            phone = row.IQVIA_PHONE_x\n",
    "            phone_source = 'IQVia'\n",
    "        address_source = 'IQVia'\n",
    "    elif \"Symphony\" in sources and row.ADDRESS_1_SYMPHONY.upper().strip() == address:\n",
    "        state = row.STATE_SYMPHONY\n",
    "        zipcode = row.ZIP_SYMPHONY\n",
    "        city = row.CITY_SYMPHONY\n",
    "        address_2 = row.ADDRESS_2_SYMPHONY\n",
    "        if phone == 'None':\n",
    "            phone = row.SYM_PHONE_x\n",
    "            phone_source = 'Symphony'\n",
    "        address_source = 'Symphony'\n",
    "    elif \"DataGov\" in sources and row.ADDRESS_1_GOV.upper().strip() == address:\n",
    "        state = row.STATE_GOV\n",
    "        zipcode = row.ZIP_GOV\n",
    "        city = row.CITY_GOV\n",
    "        address_2 = row.ADDRESS_2_GOV\n",
    "        if phone == 'None':\n",
    "            phone = row.GOV_PHONE_x\n",
    "            phone_source = 'DataGov'\n",
    "        address_source = 'DataGov'\n",
    "    NEW_DICT = {\n",
    "        'ME': row.ME,\n",
    "        'ME_IQVIA': row.IQVIA_ME,\n",
    "        'ADDRESS_MATCHES': row.ADDRESS_MATCHES,\n",
    "        'PHONE_MATCHES': row.MATCHES,\n",
    "        'ADDRESS_1': address,\n",
    "        'ADDRESS_2': address_2,\n",
    "        'CITY': city,\n",
    "        'STATE': state,\n",
    "        'ZIPCODE': zipcode,\n",
    "        'PHONE': phone,\n",
    "        'PHONE_SOURCE': phone_source,\n",
    "        'ADDRESS_SOURCE': address_source\n",
    "    }\n",
    "    dicts_2.append(NEW_DICT)\n",
    "    if phone!='None':\n",
    "        mes_2.append(row.ME)"
   ]
  },
  {
   "cell_type": "code",
   "execution_count": null,
   "metadata": {},
   "outputs": [],
   "source": [
    "pd.DataFrame(dicts_2).drop_duplicates()"
   ]
  },
  {
   "cell_type": "code",
   "execution_count": null,
   "metadata": {},
   "outputs": [],
   "source": [
    "dhc"
   ]
  },
  {
   "cell_type": "code",
   "execution_count": null,
   "metadata": {},
   "outputs": [],
   "source": [
    "dfs = [dhc, gov, older_polos]\n",
    "df_final = reduce(lambda left,right: pd.merge(left,right,on='ME'), dfs)"
   ]
  },
  {
   "cell_type": "code",
   "execution_count": null,
   "metadata": {},
   "outputs": [],
   "source": [
    "df1.merge(df2,on='name').merge(df3,on='name')\n",
    "\n",
    "df_final"
   ]
  },
  {
   "cell_type": "code",
   "execution_count": null,
   "metadata": {},
   "outputs": [],
   "source": [
    "THIS = older_polos[['ME','IQVIA_ME']]\n",
    "THIS = pd.merge(THIS, symphony, left_on='IQVIA_ME', right_on='SYM_ME', how='left')\n",
    "THIS = pd.merge(THIS, iqvia, left_on='IQVIA_ME', right_on='ME', how='left', suffixes = ['','_iqvia'])\n",
    "THIS = pd.merge(THIS, dhc, on='ME', how='left')\n",
    "THIS = pd.merge(THIS, gov, on='ME', how='left')[['ME','IQVIA_ME', 'SYM_PHONE','IQVIA_PHONE', 'DHC_PHONE', 'GOV_PHONE']].drop_duplicates()"
   ]
  },
  {
   "cell_type": "code",
   "execution_count": null,
   "metadata": {},
   "outputs": [],
   "source": [
    "dhc.columns"
   ]
  },
  {
   "cell_type": "code",
   "execution_count": null,
   "metadata": {},
   "outputs": [],
   "source": [
    "def universalize_columns(df, source):\n",
    "    df['ADDRESS_1'] = df[f'ADDRESS_1_{source}']\n",
    "    df['ADDRESS_2'] = df[f'ADDRESS_2_{source}']\n",
    "    df['CITY'] = df[f'CITY_{source}']\n",
    "    df['STATE'] = df[f'STATE_{source}']\n",
    "    df['ZIPCODE'] = df[f'ZIP_{source}']\n",
    "    df['PHONE'] = df[f'{source}_PHONE']\n",
    "    numb_list = list(range(0,len(df)))\n",
    "    df['KEY'] = [str(s) + source for s in numb_list]"
   ]
  },
  {
   "cell_type": "code",
   "execution_count": null,
   "metadata": {},
   "outputs": [],
   "source": [
    "source_list = [\n",
    "    {'SOURCE':'DHC',\n",
    "    'DATA':dhc},\n",
    "    {'SOURCE':'IQVIA',\n",
    "    'DATA':iqvia},\n",
    "    {'SOURCE':'SYMPHONY',\n",
    "    'DATA':symphony},\n",
    "    {'SOURCE':'GOV',\n",
    "    'DATA':gov}\n",
    "]"
   ]
  },
  {
   "cell_type": "code",
   "execution_count": null,
   "metadata": {},
   "outputs": [],
   "source": [
    "symphony['SYMPHONY_PHONE']=symphony.SYM_PHONE\n",
    "symphony['IQVIA_ME'] = symphony.SYM_ME\n",
    "iqvia['IQVIA_ME'] = iqvia.ME\n",
    "dhc['IQVIA_ME'] = [x[0:10] for x in fix_me(dhc.ME)]\n",
    "gov['IQVIA_ME'] = [x[0:10] for x in fix_me(gov.ME)]"
   ]
  },
  {
   "cell_type": "code",
   "execution_count": null,
   "metadata": {},
   "outputs": [],
   "source": [
    "for source_dict in source_list:\n",
    "    universalize_columns(source_dict['DATA'], source_dict['SOURCE'])"
   ]
  },
  {
   "cell_type": "code",
   "execution_count": null,
   "metadata": {},
   "outputs": [],
   "source": [
    "def fix(component):\n",
    "    component = component.strip().upper()\n",
    "    return component"
   ]
  },
  {
   "cell_type": "code",
   "execution_count": null,
   "metadata": {},
   "outputs": [],
   "source": [
    "def fix_zipcode(num):\n",
    "    num = str(num).strip().replace('.0', '')\n",
    "    num = ''.join(filter(str.isdigit, num))\n",
    "    if len(num) > 5:\n",
    "        num = num[:-4]\n",
    "    if len(num) == 4:\n",
    "        num = '0' + num\n",
    "    elif len(num) == 3:\n",
    "        num = '00' + num\n",
    "    elif len(num) == 2:\n",
    "        num = '000' + num\n",
    "    return num"
   ]
  },
  {
   "cell_type": "code",
   "execution_count": null,
   "metadata": {},
   "outputs": [],
   "source": [
    "def parse_address(moar, source):\n",
    "    dict_list = []\n",
    "    mes = []\n",
    "    for row in moar.itertuples():\n",
    "        addr_2 = clean_address_two(row.ADDRESS_2)\n",
    "        address = f'{fix(row.ADDRESS_1)}{addr_2}, {fix(row.CITY)}, {fix(row.STATE)}'\n",
    "        try:\n",
    "            address_dict = usaddress.tag(address)[0]\n",
    "        except usaddress.RepeatedLabelError as e:\n",
    "            print(e.original_string)\n",
    "            address_dict = error_handle(e.parsed_string)\n",
    "            print('')\n",
    "        address_dict['KEY'] = row.KEY\n",
    "        address_dict['PHONE'] = row.PHONE\n",
    "        address_dict['ZIPCODE'] = row.ZIPCODE\n",
    "        address_dict['ZIP'] = fix_zipcode(row.ZIPCODE)\n",
    "        dict_list.append(address_dict)\n",
    "        mes.append(row.IQVIA_ME)\n",
    "    parsed_df = pd.DataFrame(dict_list)\n",
    "    parsed_df.dropna(how='all', axis=1, inplace=True)\n",
    "    parsed_df.columns = [f'{c}_{source}' for c in parsed_df.columns.values]\n",
    "    parsed_df['IQVIA_ME'] = mes\n",
    "    return (parsed_df)"
   ]
  },
  {
   "cell_type": "code",
   "execution_count": null,
   "metadata": {},
   "outputs": [],
   "source": [
    "for source_dict in source_list:\n",
    "    source_dict['PARSED_DATA'] = parse_address(source_dict['DATA'], source_dict['SOURCE'])"
   ]
  },
  {
   "cell_type": "code",
   "execution_count": null,
   "metadata": {},
   "outputs": [],
   "source": [
    "all_the_data = source_list[0]['PARSED_DATA'].merge(source_list[1]['PARSED_DATA'],on='IQVIA_ME',how='outer').merge(source_list[2]['PARSED_DATA'],on='IQVIA_ME',how='outer').merge(source_list[3]['PARSED_DATA'],on='IQVIA_ME',how='outer')"
   ]
  },
  {
   "cell_type": "code",
   "execution_count": null,
   "metadata": {},
   "outputs": [],
   "source": [
    "all_the_data.columns"
   ]
  },
  {
   "cell_type": "code",
   "execution_count": null,
   "metadata": {},
   "outputs": [],
   "source": [
    "all_the_data['ROW_KEY'] = list(range(0,len(all_the_data)))"
   ]
  },
  {
   "cell_type": "code",
   "execution_count": null,
   "metadata": {},
   "outputs": [],
   "source": [
    "all_the_data = all_the_data.fillna('None')"
   ]
  },
  {
   "cell_type": "code",
   "execution_count": null,
   "metadata": {},
   "outputs": [],
   "source": [
    "dict_list = []\n",
    "for row in all_the_data.itertuples():\n",
    "    count = 0\n",
    "    phone_num = 'None'\n",
    "    symph_phone = row.PHONE_SYMPHONY\n",
    "    dhc_phone = row.PHONE_DHC\n",
    "    iqvia_phone = row.PHONE_IQVIA\n",
    "    data_phone = row.PHONE_GOV\n",
    "    if symph_phone == dhc_phone and symph_phone != 'None':\n",
    "        MATCHES = 'Symphony, DHC'\n",
    "        phone_num = symph_phone\n",
    "        if dhc_phone == iqvia_phone:\n",
    "            count = 2\n",
    "            MATCHES = 'Symphony, DHC, IQVia'\n",
    "            if dhc_phone == data_phone:\n",
    "                count = 3\n",
    "                MATCHES = 'Symphony, DHC, IQVia, DataGov'\n",
    "        elif dhc_phone == data_phone:\n",
    "            count = 2\n",
    "            MATCHES = 'Symphony, DHC, DataGov'\n",
    "        else:\n",
    "            count = 1       \n",
    "    elif symph_phone == iqvia_phone and symph_phone != 'None':\n",
    "        phone_num = symph_phone\n",
    "        MATCHES = 'Symphony, IQVia'\n",
    "        count = 1\n",
    "        if symph_phone == data_phone:\n",
    "            count = 2\n",
    "            MATCHES = 'Symphony, IQVia, DataGov'\n",
    "    elif symph_phone == data_phone and symph_phone != 'None':\n",
    "        phone_num = symph_phone\n",
    "        MATCHES = 'Symphony, DataGov'\n",
    "        count = 1\n",
    "        \n",
    "    elif dhc_phone == iqvia_phone and dhc_phone != 'None':\n",
    "        phone_num = dhc_phone\n",
    "        MATCHES = 'DHC, IQVia'\n",
    "        count = 1\n",
    "        if dhc_phone == data_phone:\n",
    "            MATCHES = 'DHC, IQVia, DataGov'\n",
    "            count = 2\n",
    "    elif dhc_phone == data_phone and dhc_phone != 'None':\n",
    "        phone_num = dhc_phone\n",
    "        MATCHES = 'DHC, DataGov'\n",
    "        count = 1\n",
    "    elif iqvia_phone == data_phone and iqvia_phone != 'None':\n",
    "            phone_num = iqvia_phone\n",
    "            MATCHES = 'IQVia, DataGov'\n",
    "            count = 1\n",
    "    if phone_num!='None':\n",
    "        dicto = {\n",
    "        'ROW_KEY': row.ROW_KEY,\n",
    "        'IQVIA_ME': row.IQVIA_ME,\n",
    "        'PHONE': phone_num,\n",
    "        'MATCHED': count,\n",
    "        'MATCHES': MATCHES\n",
    "    }\n",
    "        dict_list.append(dicto)"
   ]
  },
  {
   "cell_type": "code",
   "execution_count": null,
   "metadata": {},
   "outputs": [],
   "source": [
    "phone_matches = pd.DataFrame(dict_list)"
   ]
  },
  {
   "cell_type": "code",
   "execution_count": null,
   "metadata": {},
   "outputs": [],
   "source": [
    "phone_matches"
   ]
  },
  {
   "cell_type": "code",
   "execution_count": null,
   "metadata": {},
   "outputs": [],
   "source": [
    "all_the_data"
   ]
  },
  {
   "cell_type": "code",
   "execution_count": null,
   "metadata": {},
   "outputs": [],
   "source": [
    "for row in all_the_data[0:2].itertuples():\n",
    "    print(row.LandmarkName_GOV + row.ZipCode_GOV)"
   ]
  },
  {
   "cell_type": "code",
   "execution_count": null,
   "metadata": {},
   "outputs": [],
   "source": [
    "def count_matches(THIS):\n",
    "    dict_list = []\n",
    "    for row in THIS.itertuples():\n",
    "        count = 0\n",
    "        phone_num = 'None'\n",
    "        symph_phone = row.AddressNumber_SYMPHONY + row.StreetName_SYMPHONY\n",
    "        dhc_phone = row.AddressNumber_DHC + row.StreetName_DHC\n",
    "        iqvia_phone = row.AddressNumber_IQVIA + row.StreetName_IQVIA\n",
    "        data_phone = row.AddressNumber_GOV + row.StreetName_GOV\n",
    "        if symph_phone == dhc_phone and symph_phone != 'NoneNone':\n",
    "            MATCHES = 'Symphony, DHC'\n",
    "            phone_num = symph_phone\n",
    "            if dhc_phone == iqvia_phone:\n",
    "                count = 2\n",
    "                MATCHES = 'Symphony, DHC, IQVia'\n",
    "                if dhc_phone == data_phone:\n",
    "                    count = 3\n",
    "                    MATCHES = 'Symphony, DHC, IQVia, DataGov'\n",
    "            elif dhc_phone == data_phone:\n",
    "                count = 2\n",
    "                MATCHES = 'Symphony, DHC, DataGov'\n",
    "            else:\n",
    "                count = 1       \n",
    "        elif symph_phone == iqvia_phone and symph_phone != 'NoneNone':\n",
    "            phone_num = symph_phone\n",
    "            MATCHES = 'Symphony, IQVia'\n",
    "            count = 1\n",
    "            if symph_phone == data_phone:\n",
    "                count = 2\n",
    "                MATCHES = 'Symphony, IQVia, DataGov'\n",
    "        elif symph_phone == data_phone and symph_phone != 'NoneNone':\n",
    "            phone_num = symph_phone\n",
    "            MATCHES = 'Symphony, DataGov'\n",
    "            count = 1\n",
    "\n",
    "        elif dhc_phone == iqvia_phone and dhc_phone != 'NoneNone':\n",
    "            phone_num = dhc_phone\n",
    "            MATCHES = 'DHC, IQVia'\n",
    "            count = 1\n",
    "            if dhc_phone == data_phone:\n",
    "                MATCHES = 'DHC, IQVia, DataGov'\n",
    "                count = 2\n",
    "        elif dhc_phone == data_phone and dhc_phone != 'NoneNone':\n",
    "            phone_num = dhc_phone\n",
    "            MATCHES = 'DHC, DataGov'\n",
    "            count = 1\n",
    "        elif iqvia_phone == data_phone and iqvia_phone != 'NoneNone':\n",
    "            phone_num = iqvia_phone\n",
    "            MATCHES = 'IQVia, DataGov'\n",
    "            count = 1\n",
    "        if phone_num!='None':\n",
    "            dicto = {\n",
    "            'ROW_KEY': row.ROW_KEY,\n",
    "            'IQVIA_ME': row.IQVIA_ME,\n",
    "            'ADDRESS': phone_num,\n",
    "            'MATCHED': count,\n",
    "            'ADDRESS_MATCHES': MATCHES\n",
    "        }\n",
    "            dict_list.append(dicto)\n",
    "    return dict_list"
   ]
  },
  {
   "cell_type": "code",
   "execution_count": null,
   "metadata": {},
   "outputs": [],
   "source": [
    "gah = count_matches(all_the_data)"
   ]
  },
  {
   "cell_type": "code",
   "execution_count": null,
   "metadata": {},
   "outputs": [],
   "source": [
    "gah_match = pd.DataFrame(gah)"
   ]
  },
  {
   "cell_type": "code",
   "execution_count": null,
   "metadata": {},
   "outputs": [],
   "source": [
    "gah_match"
   ]
  },
  {
   "cell_type": "code",
   "execution_count": null,
   "metadata": {},
   "outputs": [],
   "source": [
    "fuzz.ratio('10820DRAKE', '10818DRAKE')"
   ]
  },
  {
   "cell_type": "code",
   "execution_count": null,
   "metadata": {},
   "outputs": [],
   "source": [
    "def is_a_match(thing_1, thing_2):\n",
    "    if thing_1 == thing_2:\n",
    "        match = True\n",
    "    elif thing_1 in thing_2:\n",
    "        match = True\n",
    "    elif thing_2 in thing_1:\n",
    "        match = True\n",
    "    elif fuzz.ratio(thing_1, thing_2)>90:\n",
    "        match = True\n",
    "    else:\n",
    "        match = False\n",
    "    return(match)\n",
    "\n",
    "def count_fuzzy_matches(THIS):\n",
    "    dict_list = []\n",
    "    for row in THIS.itertuples():\n",
    "        count = 0\n",
    "        phone_num = 'None'\n",
    "        symph_phone = row.AddressNumber_SYMPHONY + row.StreetName_SYMPHONY\n",
    "        dhc_phone = row.AddressNumber_DHC + row.StreetName_DHC\n",
    "        iqvia_phone = row.AddressNumber_IQVIA + row.StreetName_IQVIA\n",
    "        data_phone = row.AddressNumber_GOV + row.StreetName_GOV\n",
    "        if is_a_match(symph_phone,dhc_phone) and symph_phone != 'NoneNone':\n",
    "            MATCHES = 'Symphony, DHC'\n",
    "            phone_num = symph_phone\n",
    "            if is_a_match(dhc_phone,iqvia_phone):\n",
    "                count = 2\n",
    "                MATCHES = 'Symphony, DHC, IQVia'\n",
    "                if is_a_match(dhc_phone,data_phone):\n",
    "                    count = 3\n",
    "                    MATCHES = 'Symphony, DHC, IQVia, DataGov'\n",
    "            elif is_a_match(dhc_phone,data_phone):\n",
    "                count = 2\n",
    "                MATCHES = 'Symphony, DHC, DataGov'\n",
    "            else:\n",
    "                count = 1       \n",
    "        elif is_a_match(symph_phone,iqvia_phone) and symph_phone != 'NoneNone':\n",
    "            phone_num = symph_phone\n",
    "            MATCHES = 'Symphony, IQVia'\n",
    "            count = 1\n",
    "            if is_a_match(symph_phone,data_phone):\n",
    "                count = 2\n",
    "                MATCHES = 'Symphony, IQVia, DataGov'\n",
    "        elif is_a_match(symph_phone,data_phone) and symph_phone != 'NoneNone':\n",
    "            phone_num = symph_phone\n",
    "            MATCHES = 'Symphony, DataGov'\n",
    "            count = 1\n",
    "\n",
    "        elif is_a_match(dhc_phone,iqvia_phone) and dhc_phone != 'NoneNone':\n",
    "            phone_num = iqvia_phone\n",
    "            MATCHES = 'DHC, IQVia'\n",
    "            count = 1\n",
    "            if is_a_match(iqvia_phone,data_phone):\n",
    "                MATCHES = 'DHC, IQVia, DataGov'\n",
    "                count = 2\n",
    "        elif is_a_match(dhc_phone,data_phone) and dhc_phone != 'NoneNone':\n",
    "            phone_num = data_phone\n",
    "            MATCHES = 'DHC, DataGov'\n",
    "            count = 1\n",
    "        elif is_a_match(iqvia_phone,data_phone) and iqvia_phone != 'NoneNone':\n",
    "            phone_num = iqvia_phone\n",
    "            MATCHES = 'IQVia, DataGov'\n",
    "            count = 1\n",
    "        if phone_num!='None':\n",
    "            dicto = {\n",
    "            'ROW_KEY': row.ROW_KEY,\n",
    "            'IQVIA_ME': row.IQVIA_ME,\n",
    "            'ADDRESS': phone_num,\n",
    "            'MATCHED': count,\n",
    "            'ADDRESS_MATCHES': MATCHES\n",
    "        }\n",
    "            dict_list.append(dicto)\n",
    "    return dict_list"
   ]
  },
  {
   "cell_type": "code",
   "execution_count": null,
   "metadata": {},
   "outputs": [],
   "source": [
    "bah = count_fuzzy_matches(all_the_data)"
   ]
  },
  {
   "cell_type": "code",
   "execution_count": null,
   "metadata": {},
   "outputs": [],
   "source": [
    "add_match = pd.DataFrame(bah)"
   ]
  },
  {
   "cell_type": "code",
   "execution_count": null,
   "metadata": {},
   "outputs": [],
   "source": [
    "bopbopbop = pd.merge(phone_matches, add_match, on=['ROW_KEY','IQVIA_ME'],suffixes=['_PHONE','_ADDRESS'], how='outer')"
   ]
  },
  {
   "cell_type": "code",
   "execution_count": null,
   "metadata": {},
   "outputs": [],
   "source": [
    "iqvia[iqvia.IQVIA_ME.isin(bopbopbop.IQVIA_ME)==False].drop_duplicates('ME')"
   ]
  },
  {
   "cell_type": "code",
   "execution_count": null,
   "metadata": {},
   "outputs": [],
   "source": [
    "len(bopbopbop)"
   ]
  },
  {
   "cell_type": "code",
   "execution_count": null,
   "metadata": {},
   "outputs": [],
   "source": [
    "15750+3514"
   ]
  },
  {
   "cell_type": "code",
   "execution_count": null,
   "metadata": {},
   "outputs": [],
   "source": [
    "REAL_DEAL = pd.merge(bopbopbop, all_the_data, on=['ROW_KEY', 'IQVIA_ME']).drop_duplicates(['IQVIA_ME','PHONE','ADDRESS'])"
   ]
  },
  {
   "cell_type": "code",
   "execution_count": null,
   "metadata": {},
   "outputs": [],
   "source": [
    "all_the_data[all_the_data.ROW_KEY==0].iloc[0]"
   ]
  },
  {
   "cell_type": "code",
   "execution_count": null,
   "metadata": {},
   "outputs": [],
   "source": [
    "KEY"
   ]
  },
  {
   "cell_type": "code",
   "execution_count": null,
   "metadata": {},
   "outputs": [],
   "source": [
    "iqvia[iqvia.KEY=='23190IQVIA']['CITY'].values[0]"
   ]
  },
  {
   "cell_type": "code",
   "execution_count": null,
   "metadata": {},
   "outputs": [],
   "source": [
    "count =0\n",
    "for row in bopbopbop.itertuples():\n",
    "    if row.MATCHES != row.ADDRESS_MATCHES:\n",
    "        count+=1"
   ]
  },
  {
   "cell_type": "code",
   "execution_count": null,
   "metadata": {},
   "outputs": [],
   "source": [
    "count"
   ]
  },
  {
   "cell_type": "code",
   "execution_count": null,
   "metadata": {},
   "outputs": [],
   "source": [
    "for col in REAL_DEAL.columns:\n",
    "    print(col)"
   ]
  },
  {
   "cell_type": "code",
   "execution_count": null,
   "metadata": {},
   "outputs": [],
   "source": [
    "REAL_DEAL = REAL_DEAL.fillna('None')"
   ]
  },
  {
   "cell_type": "code",
   "execution_count": null,
   "metadata": {},
   "outputs": [],
   "source": [
    "dictss = []\n",
    "for row in REAL_DEAL.itertuples():\n",
    "    if row.ADDRESS_MATCHES == 'None':\n",
    "        print('Address mismatch')\n",
    "        continue\n",
    "    sources = row.ADDRESS_MATCHES\n",
    "    address = row.ADDRESS\n",
    "    phone = row.PHONE\n",
    "    phone_source = 'Multiple'\n",
    "    address_source = sources\n",
    "    if \"IQVia\" in sources and row.StreetName_IQVIA in address:\n",
    "        KEY = row.KEY_IQVIA\n",
    "        state = row.StateName_IQVIA\n",
    "        long_zipcode = row.ZIPCODE_IQVIA\n",
    "        zipcode = row.ZIP_IQVIA\n",
    "        city = iqvia[iqvia.KEY==KEY]['CITY'].values[0]\n",
    "        address_1 = iqvia[iqvia.KEY==KEY]['ADDRESS_1'].values[0]\n",
    "        address_2 = iqvia[iqvia.KEY==KEY]['ADDRESS_2'].values[0]\n",
    "        if phone == 'None':\n",
    "            phone = row.PHONE_IQVIA\n",
    "            phone_source = 'IQVia'\n",
    "        address_source = 'IQVia'\n",
    "    elif \"DataGov\" in sources and row.StreetName_GOV in address:\n",
    "        KEY = row.KEY_GOV\n",
    "        state = row.StateName_GOV\n",
    "        long_zipcode = row.ZIPCODE_GOV\n",
    "        zipcode = row.ZIP_GOV\n",
    "        city = gov[gov.KEY==KEY]['CITY'].values[0]\n",
    "        address_1 = gov[gov.KEY==KEY]['ADDRESS_1'].values[0]\n",
    "        address_2 = gov[gov.KEY==KEY]['ADDRESS_2'].values[0]\n",
    "        if phone == 'None':\n",
    "            phone = row.PHONE_GOV\n",
    "            phone_source = 'DataGov'\n",
    "        address_source = 'DataGov'\n",
    "    elif \"Symphony\" in sources and row.StreetName_SYMPHONY in address:\n",
    "        KEY = row.KEY_SYMPHONY\n",
    "        state = row.StateName_SYMPHONY\n",
    "        long_zipcode = row.ZIPCODE_SYMPHONY\n",
    "        zipcode = row.ZIP_SYMPHONY\n",
    "        city = symphony[symphony.KEY==KEY]['CITY'].values[0]\n",
    "        address_1 = symphony[symphony.KEY==KEY]['ADDRESS_1'].values[0]\n",
    "        address_2 = symphony[symphony.KEY==KEY]['ADDRESS_2'].values[0]\n",
    "        if phone == 'None':\n",
    "            phone = row.PHONE_SYMPHONY\n",
    "            phone_source = 'Symphony'\n",
    "        address_source = 'Symphony'\n",
    "    NEW_DICT = {\n",
    "        'ROW_KEY': row.ROW_KEY,\n",
    "        'ME_IQVIA': row.IQVIA_ME,\n",
    "        'ADDRESS_MATCHES': row.ADDRESS_MATCHES,\n",
    "        'PHONE_MATCHES': row.MATCHES,\n",
    "        'ADDRESS_1': address_1,\n",
    "        'ADDRESS_2': address_2,\n",
    "        'CITY': city,\n",
    "        'STATE': state,\n",
    "        'ZIPCODE_FULL': long_zipcode,\n",
    "        'ZIPCODE': zipcode,\n",
    "        'PHONE': phone,\n",
    "        'PHONE_SOURCE': phone_source,\n",
    "        'ADDRESS_SOURCE': address_source,\n",
    "        'ADDRESS_KEY': address,\n",
    "        'DATA_KEY': KEY\n",
    "    }\n",
    "    dictss.append(NEW_DICT)"
   ]
  },
  {
   "cell_type": "code",
   "execution_count": null,
   "metadata": {},
   "outputs": [],
   "source": [
    "REAL_DEAL"
   ]
  },
  {
   "cell_type": "code",
   "execution_count": null,
   "metadata": {},
   "outputs": [],
   "source": [
    "good_data = pd.DataFrame(dictss)"
   ]
  },
  {
   "cell_type": "code",
   "execution_count": null,
   "metadata": {},
   "outputs": [],
   "source": [
    "extra_good_data = good_data[good_data.PHONE!='None']"
   ]
  },
  {
   "cell_type": "code",
   "execution_count": null,
   "metadata": {},
   "outputs": [],
   "source": [
    "no_adds = REAL_DEAL[REAL_DEAL.IQVIA_ME.isin(good_data.ME_IQVIA)==False]"
   ]
  },
  {
   "cell_type": "code",
   "execution_count": null,
   "metadata": {},
   "outputs": [],
   "source": [
    "no_adds"
   ]
  },
  {
   "cell_type": "code",
   "execution_count": null,
   "metadata": {},
   "outputs": [],
   "source": [
    "phone_dictss = []\n",
    "for row in no_adds.itertuples():\n",
    "    sources = row.MATCHES\n",
    "    phone = row.PHONE\n",
    "    phone_source = 'Multiple'\n",
    "    if \"IQVia\" in sources:\n",
    "        KEY = row.KEY_IQVIA\n",
    "        state = row.StateName_IQVIA\n",
    "        long_zipcode = row.ZIPCODE_IQVIA\n",
    "        zipcode = row.ZIP_IQVIA\n",
    "        city = iqvia[iqvia.KEY==KEY]['CITY'].values[0]\n",
    "        address_1 = iqvia[iqvia.KEY==KEY]['ADDRESS_1'].values[0]\n",
    "        address_2 = iqvia[iqvia.KEY==KEY]['ADDRESS_2'].values[0]\n",
    "        address_source = 'IQVia'\n",
    "        address = row.AddressNumber_IQVIA+row.StreetName_IQVIA\n",
    "    elif \"DataGov\" in sources:\n",
    "        KEY = row.KEY_GOV\n",
    "        state = row.StateName_GOV\n",
    "        long_zipcode = row.ZIPCODE_GOV\n",
    "        zipcode = row.ZIP_GOV\n",
    "        city = gov[gov.KEY==KEY]['CITY'].values[0]\n",
    "        address_1 = gov[gov.KEY==KEY]['ADDRESS_1'].values[0]\n",
    "        address_2 = gov[gov.KEY==KEY]['ADDRESS_2'].values[0]\n",
    "        address_source = 'DataGov'\n",
    "        address = row.AddressNumber_GOV+row.StreetName_GOV\n",
    "    elif \"Symphony\" in sources:\n",
    "        KEY = row.KEY_SYMPHONY\n",
    "        state = row.StateName_SYMPHONY\n",
    "        long_zipcode = row.ZIPCODE_SYMPHONY\n",
    "        zipcode = row.ZIP_SYMPHONY\n",
    "        city = symphony[symphony.KEY==KEY]['CITY'].values[0]\n",
    "        address_1 = symphony[symphony.KEY==KEY]['ADDRESS_1'].values[0]\n",
    "        address_2 = symphony[symphony.KEY==KEY]['ADDRESS_2'].values[0]\n",
    "        address_source = 'Symphony'\n",
    "        address = row.AddressNumber_SYMPHONY+row.StreetName_SYMPHONY\n",
    "    NEW_DICT = {\n",
    "        'ROW_KEY': row.ROW_KEY,\n",
    "        'ME_IQVIA': row.IQVIA_ME,\n",
    "        'ADDRESS_MATCHES': row.ADDRESS_MATCHES,\n",
    "        'PHONE_MATCHES': row.MATCHES,\n",
    "        'ADDRESS_1': address_1,\n",
    "        'ADDRESS_2': address_2,\n",
    "        'CITY': city,\n",
    "        'STATE': state,\n",
    "        'ZIPCODE_FULL': long_zipcode,\n",
    "        'ZIPCODE': zipcode,\n",
    "        'PHONE': phone,\n",
    "        'PHONE_SOURCE': phone_source,\n",
    "        'ADDRESS_SOURCE': address_source,\n",
    "        'ADDRESS_KEY': address,\n",
    "        'DATA_KEY': KEY\n",
    "    }\n",
    "    phone_dictss.append(NEW_DICT)"
   ]
  },
  {
   "cell_type": "code",
   "execution_count": null,
   "metadata": {},
   "outputs": [],
   "source": [
    "more_good_data = pd.concat([good_data, pd.DataFrame(phone_dictss)])"
   ]
  },
  {
   "cell_type": "code",
   "execution_count": null,
   "metadata": {},
   "outputs": [],
   "source": [
    "more_good_data.drop_duplicates('ME_IQVIA').groupby('PHONE_MATCHES').count()[['ROW_KEY']]"
   ]
  },
  {
   "cell_type": "code",
   "execution_count": null,
   "metadata": {},
   "outputs": [],
   "source": [
    "more_good_data.columns"
   ]
  },
  {
   "cell_type": "code",
   "execution_count": null,
   "metadata": {},
   "outputs": [],
   "source": [
    "necessary_iqvia = iqvia[(iqvia.IQVIA_ME.isin(more_good_data.ME_IQVIA)==False)&(iqvia.PHONE!='None')].sort_values('AFFIL_RANK', ascending=False).drop_duplicates('ME', keep='first')"
   ]
  },
  {
   "cell_type": "code",
   "execution_count": null,
   "metadata": {},
   "outputs": [],
   "source": [
    "['ROW_KEY', 'ME_IQVIA', 'ADDRESS_MATCHES', 'PHONE_MATCHES', 'ADDRESS_1',\n",
    "       'ADDRESS_2', 'CITY', 'STATE', 'ZIPCODE_FULL', 'ZIPCODE', 'PHONE',\n",
    "       'PHONE_SOURCE', 'ADDRESS_SOURCE', 'ADDRESS_KEY', 'DATA_KEY']\n",
    "necessary_iqvia.columns\n",
    "necessary_iqvia['ROW_KEY']='None'\n"
   ]
  },
  {
   "cell_type": "code",
   "execution_count": null,
   "metadata": {},
   "outputs": [],
   "source": [
    "necessary_iqvia = pd.merge(necessary_iqvia, all_the_data, left_on='KEY',right_on='KEY_IQVIA').drop_duplicates('ME')"
   ]
  },
  {
   "cell_type": "code",
   "execution_count": null,
   "metadata": {},
   "outputs": [],
   "source": [
    "necessary_iqvia['ADDRESS_MATCHES']='None'\n",
    "necessary_iqvia['PHONE_MATCHES']='None'\n",
    "necessary_iqvia['ZIPCODE_FULL']='None'\n",
    "necessary_iqvia['ZIPCODE']='None'\n",
    "necessary_iqvia['PHONE_SOURCE']='None'\n",
    "necessary_iqvia['ADDRESS_SOURCE']='None'\n",
    "necessary_iqvia['ADDRESS_KEY']='None'"
   ]
  },
  {
   "cell_type": "code",
   "execution_count": null,
   "metadata": {},
   "outputs": [],
   "source": [
    "len(older_polos)"
   ]
  },
  {
   "cell_type": "code",
   "execution_count": null,
   "metadata": {},
   "outputs": [],
   "source": [
    "len(iqvia.drop_duplicates('ME'))"
   ]
  }
 ],
 "metadata": {
  "kernelspec": {
   "display_name": "Python 3",
   "language": "python",
   "name": "python3"
  },
  "language_info": {
   "codemirror_mode": {
    "name": "ipython",
    "version": 3
   },
   "file_extension": ".py",
   "mimetype": "text/x-python",
   "name": "python",
   "nbconvert_exporter": "python",
   "pygments_lexer": "ipython3",
   "version": "3.7.4"
  }
 },
 "nbformat": 4,
 "nbformat_minor": 2
}
