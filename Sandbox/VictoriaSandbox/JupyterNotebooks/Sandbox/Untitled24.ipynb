{
 "cells": [
  {
   "cell_type": "code",
   "execution_count": 10,
   "metadata": {},
   "outputs": [],
   "source": [
    "import pandas as pd\n",
    "import os\n",
    "from datetime import datetime, date\n",
    "from dateutil.relativedelta import relativedelta"
   ]
  },
  {
   "cell_type": "code",
   "execution_count": 15,
   "metadata": {},
   "outputs": [],
   "source": [
    "files = os.listdir('../../Data/PPD/')\n",
    "path = [os.path.join('../../Data/PPD/', basename) for basename in files if 'PhysicianProfessionalDataFile' in basename][0]"
   ]
  },
  {
   "cell_type": "code",
   "execution_count": 16,
   "metadata": {},
   "outputs": [
    {
     "data": {
      "text/plain": [
       "['../../Data/PPD/PhysicianProfessionalDataFile_20200905',\n",
       " '../../Data/PPD/PhysicianProfessionalDataFile_20220423_132138030',\n",
       " '../../Data/PPD/PhysicianProfessionalDataFile_20220430_133834137',\n",
       " '../../Data/PPD/PhysicianProfessionalDataFile_20220507_132016699']"
      ]
     },
     "execution_count": 16,
     "metadata": {},
     "output_type": "execute_result"
    }
   ],
   "source": [
    "paths"
   ]
  },
  {
   "cell_type": "code",
   "execution_count": null,
   "metadata": {},
   "outputs": [],
   "source": [
    "files = os.listdir('../../Data/PPD/')\n",
    "paths = [os.path.join(path, basename) for basename in files if text in basename]\n",
    "max(paths, key=os.path.getctime)"
   ]
  },
  {
   "cell_type": "code",
   "execution_count": 22,
   "metadata": {},
   "outputs": [
    {
     "data": {
      "text/plain": [
       "5"
      ]
     },
     "execution_count": 22,
     "metadata": {},
     "output_type": "execute_result"
    }
   ],
   "source": [
    "def get_ppd_date():\n",
    "    today = datetime.today()\n",
    "    current_year = today.year\n",
    "    last_month = (today - relativedelta(months=1))\n",
    "    last_day = (last_month + relativedelta(day=31))\n",
    "    last_day.weekday()\n",
    "    if last_day.weekday()==5:\n",
    "        ppd_date = last_day\n",
    "    else:\n",
    "        ppd_date = (last_month + relativedelta(days=7))\n",
    "    ppd_date.strftime(\"%Y%m%d\")\n",
    "    return ppd_date\n",
    "\n",
    "def create_ppd_csv():\n",
    "    ppd_folder = os.environ.get('PPD_FOLDER')\n",
    "    scorecard_folder = os.environ.get('LOCAL')\n",
    "    ppd_date = get_ppd_date()\n",
    "    ppd_filename = f'PhysicianProfessionalDataFile_{ppd_date}'\n",
    "    ppd_path = [os.path.join(ppd_folder, basename) for basename in files if ppd_filename in basename][0]\n",
    "    cols = get_columns()\n",
    "    ppd = pd.read_csv(ppd_path, names=cols, sep='|', encoding='IBM437', index_col=False, dtype=object)\n",
    "    scorecard_ppd_file =  f'{scorecard_folder}/ppd_data_{ppd_date}.csv'\n",
    "    ppd.to_csv(scorecard_ppd_file, header=True, index=False)\n",
    "    return scorecard_ppd_file"
   ]
  },
  {
   "cell_type": "code",
   "execution_count": 38,
   "metadata": {},
   "outputs": [
    {
     "data": {
      "text/plain": [
       "'20220430'"
      ]
     },
     "execution_count": 38,
     "metadata": {},
     "output_type": "execute_result"
    }
   ],
   "source": []
  },
  {
   "cell_type": "code",
   "execution_count": 28,
   "metadata": {},
   "outputs": [
    {
     "data": {
      "text/plain": [
       "datetime.datetime(2022, 5, 7, 9, 51, 39, 841906)"
      ]
     },
     "execution_count": 28,
     "metadata": {},
     "output_type": "execute_result"
    }
   ],
   "source": [
    "(last_day + relativedelta(days=7))"
   ]
  },
  {
   "cell_type": "code",
   "execution_count": 26,
   "metadata": {},
   "outputs": [
    {
     "data": {
      "text/plain": [
       "datetime.datetime(2022, 4, 30, 9, 51, 39, 841906)"
      ]
     },
     "execution_count": 26,
     "metadata": {},
     "output_type": "execute_result"
    }
   ],
   "source": [
    "last_day"
   ]
  },
  {
   "cell_type": "code",
   "execution_count": 30,
   "metadata": {},
   "outputs": [],
   "source": [
    "import math\n",
    "def coin_reward(minutes):\n",
    "    x = 4+ 0.2*minutes + 5*(minutes-30)/30\n",
    "    return math.floor(x)"
   ]
  },
  {
   "cell_type": "code",
   "execution_count": 37,
   "metadata": {},
   "outputs": [
    {
     "data": {
      "text/plain": [
       "315"
      ]
     },
     "execution_count": 37,
     "metadata": {},
     "output_type": "execute_result"
    }
   ],
   "source": [
    "coin_reward(60)*15"
   ]
  },
  {
   "cell_type": "code",
   "execution_count": 35,
   "metadata": {},
   "outputs": [
    {
     "data": {
      "text/plain": [
       "14.8"
      ]
     },
     "execution_count": 35,
     "metadata": {},
     "output_type": "execute_result"
    }
   ],
   "source": [
    "888/60"
   ]
  },
  {
   "cell_type": "code",
   "execution_count": null,
   "metadata": {},
   "outputs": [],
   "source": []
  }
 ],
 "metadata": {
  "kernelspec": {
   "display_name": "Python 3",
   "language": "python",
   "name": "python3"
  },
  "language_info": {
   "codemirror_mode": {
    "name": "ipython",
    "version": 3
   },
   "file_extension": ".py",
   "mimetype": "text/x-python",
   "name": "python",
   "nbconvert_exporter": "python",
   "pygments_lexer": "ipython3",
   "version": "3.7.4"
  }
 },
 "nbformat": 4,
 "nbformat_minor": 2
}
