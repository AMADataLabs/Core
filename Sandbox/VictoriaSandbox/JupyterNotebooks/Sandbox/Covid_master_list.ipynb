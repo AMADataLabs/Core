{
 "cells": [
  {
   "cell_type": "code",
   "execution_count": null,
   "metadata": {},
   "outputs": [],
   "source": [
    "import pandas as pd\n",
    "med = pd.read_excel('../../Data/Medscape/2020-08-27/Memorium_USA_Physicians_2020-08-27.xlsx')\n",
    "twi = pd.read_excel('../../Data/Medscape/2020-08-27/Twitter_Physicians_2020-08-27.xlsx')\n",
    "her = pd.read_excel('../../Data/Medscape/2020-08-27/Heroes_Physicians_2020-08-27.xlsx')"
   ]
  },
  {
   "cell_type": "code",
   "execution_count": null,
   "metadata": {},
   "outputs": [],
   "source": [
    "med.columns"
   ]
  },
  {
   "cell_type": "code",
   "execution_count": null,
   "metadata": {},
   "outputs": [],
   "source": [
    "twi.columns"
   ]
  },
  {
   "cell_type": "code",
   "execution_count": null,
   "metadata": {},
   "outputs": [],
   "source": [
    "her.columns"
   ]
  },
  {
   "cell_type": "code",
   "execution_count": null,
   "metadata": {},
   "outputs": [],
   "source": [
    "her_ = her[['NAME', 'FIRST_NAME', 'LAST_NAME', 'MIDDLE_NAME', 'SUFFIX', 'NICKNAME',\n",
    "       'TITLE', 'AGE', 'STATE', 'LINK', 'ME']]\n",
    "her_['SOURCE']='HelpTheHeroes'\n",
    "med_ = med[['NAME', 'FIRST_NAME', 'LAST_NAME', 'MIDDLE_NAME', 'SUFFIX', 'NICKNAME',\n",
    "       'TITLE', 'AGE', 'STATE', 'LINK', 'ME']]\n",
    "med_['SOURCE']='Medscape'\n",
    "tiw_ = twi[['NAME', 'FIRST_NAME', 'LAST_NAME', 'MIDDLE_NAME', 'SUFFIX', 'NICKNAME',\n",
    "       'TITLE', 'AGE', 'STATE', 'LINK', 'ME']]\n",
    "tiw_['SOURCE']='Twitter'\n",
    "all_docs = pd.concat([med_, tiw_,her_]).drop_duplicates('ME', keep='first')"
   ]
  },
  {
   "cell_type": "code",
   "execution_count": 1,
   "metadata": {},
   "outputs": [],
   "source": [
    "import pyodbc\n",
    "import pandas as pd\n",
    "username = 'vigrose'\n",
    "password = 'Ravenclaw~10946'\n",
    "s = \"DSN=PRDDW; UID={}; PWD={}\".format(username, password)\n",
    "AMAEDW = pyodbc.connect(s)"
   ]
  },
  {
   "cell_type": "code",
   "execution_count": 6,
   "metadata": {},
   "outputs": [
    {
     "data": {
      "text/html": [
       "<div>\n",
       "<style scoped>\n",
       "    .dataframe tbody tr th:only-of-type {\n",
       "        vertical-align: middle;\n",
       "    }\n",
       "\n",
       "    .dataframe tbody tr th {\n",
       "        vertical-align: top;\n",
       "    }\n",
       "\n",
       "    .dataframe thead th {\n",
       "        text-align: right;\n",
       "    }\n",
       "</style>\n",
       "<table border=\"1\" class=\"dataframe\">\n",
       "  <thead>\n",
       "    <tr style=\"text-align: right;\">\n",
       "      <th></th>\n",
       "      <th>PARTY_ID</th>\n",
       "      <th>STS_TYPE_ID</th>\n",
       "      <th>MEMBERSHIP_STATUS</th>\n",
       "      <th>MBRSHP_YR</th>\n",
       "    </tr>\n",
       "  </thead>\n",
       "  <tbody>\n",
       "    <tr>\n",
       "      <td>0</td>\n",
       "      <td>1798828</td>\n",
       "      <td>5</td>\n",
       "      <td>Non-Member</td>\n",
       "      <td>2021</td>\n",
       "    </tr>\n",
       "    <tr>\n",
       "      <td>1</td>\n",
       "      <td>1798000</td>\n",
       "      <td>5</td>\n",
       "      <td>Non-Member</td>\n",
       "      <td>2021</td>\n",
       "    </tr>\n",
       "    <tr>\n",
       "      <td>2</td>\n",
       "      <td>1798001</td>\n",
       "      <td>5</td>\n",
       "      <td>Non-Member</td>\n",
       "      <td>2021</td>\n",
       "    </tr>\n",
       "    <tr>\n",
       "      <td>3</td>\n",
       "      <td>1798003</td>\n",
       "      <td>5</td>\n",
       "      <td>Non-Member</td>\n",
       "      <td>2021</td>\n",
       "    </tr>\n",
       "    <tr>\n",
       "      <td>4</td>\n",
       "      <td>1798004</td>\n",
       "      <td>5</td>\n",
       "      <td>Non-Member</td>\n",
       "      <td>2021</td>\n",
       "    </tr>\n",
       "  </tbody>\n",
       "</table>\n",
       "</div>"
      ],
      "text/plain": [
       "   PARTY_ID  STS_TYPE_ID MEMBERSHIP_STATUS  MBRSHP_YR\n",
       "0   1798828            5        Non-Member       2021\n",
       "1   1798000            5        Non-Member       2021\n",
       "2   1798001            5        Non-Member       2021\n",
       "3   1798003            5        Non-Member       2021\n",
       "4   1798004            5        Non-Member       2021"
      ]
     },
     "execution_count": 6,
     "metadata": {},
     "output_type": "execute_result"
    }
   ],
   "source": [
    "query = \\\n",
    "    \"\"\"\n",
    "    SELECT\n",
    "    P.PARTY_ID_FROM as PARTY_ID,\n",
    "    P.STS_TYPE_ID,\n",
    "    S.DESC as MEMBERSHIP_STATUS\n",
    "    FROM\n",
    "    AMAEDW.PARTY_RLSHIP P, AMAEDW.STS_TYPE S\n",
    "    WHERE\n",
    "    P.MBRSHP_YR=2021\n",
    "    AND\n",
    "    P.THRU_DT is null\n",
    "    AND\n",
    "    P.STS_TYPE_ID=S.STS_TYPE_ID;\n",
    "    \"\"\"\n",
    "MEMBERS = pd.read_sql(con=AMAEDW, sql=query)\n",
    "MEMBERS.head()"
   ]
  },
  {
   "cell_type": "code",
   "execution_count": 9,
   "metadata": {},
   "outputs": [
    {
     "data": {
      "text/html": [
       "<div>\n",
       "<style scoped>\n",
       "    .dataframe tbody tr th:only-of-type {\n",
       "        vertical-align: middle;\n",
       "    }\n",
       "\n",
       "    .dataframe tbody tr th {\n",
       "        vertical-align: top;\n",
       "    }\n",
       "\n",
       "    .dataframe thead th {\n",
       "        text-align: right;\n",
       "    }\n",
       "</style>\n",
       "<table border=\"1\" class=\"dataframe\">\n",
       "  <thead>\n",
       "    <tr style=\"text-align: right;\">\n",
       "      <th></th>\n",
       "      <th>PARTY_ID</th>\n",
       "      <th>STS_TYPE_ID</th>\n",
       "      <th>MEMBERSHIP_STATUS</th>\n",
       "      <th>MBRSHP_YR</th>\n",
       "    </tr>\n",
       "  </thead>\n",
       "  <tbody>\n",
       "    <tr>\n",
       "      <td>1457046</td>\n",
       "      <td>16397943</td>\n",
       "      <td>5</td>\n",
       "      <td>Non-Member</td>\n",
       "      <td>2021</td>\n",
       "    </tr>\n",
       "    <tr>\n",
       "      <td>2907023</td>\n",
       "      <td>16397943</td>\n",
       "      <td>1</td>\n",
       "      <td>Active</td>\n",
       "      <td>2022</td>\n",
       "    </tr>\n",
       "    <tr>\n",
       "      <td>2940741</td>\n",
       "      <td>16397943</td>\n",
       "      <td>1</td>\n",
       "      <td>Active</td>\n",
       "      <td>2023</td>\n",
       "    </tr>\n",
       "    <tr>\n",
       "      <td>2952559</td>\n",
       "      <td>16397943</td>\n",
       "      <td>1</td>\n",
       "      <td>Active</td>\n",
       "      <td>2024</td>\n",
       "    </tr>\n",
       "    <tr>\n",
       "      <td>2955996</td>\n",
       "      <td>16397943</td>\n",
       "      <td>1</td>\n",
       "      <td>Active</td>\n",
       "      <td>2025</td>\n",
       "    </tr>\n",
       "  </tbody>\n",
       "</table>\n",
       "</div>"
      ],
      "text/plain": [
       "         PARTY_ID  STS_TYPE_ID MEMBERSHIP_STATUS  MBRSHP_YR\n",
       "1457046  16397943            5        Non-Member       2021\n",
       "2907023  16397943            1            Active       2022\n",
       "2940741  16397943            1            Active       2023\n",
       "2952559  16397943            1            Active       2024\n",
       "2955996  16397943            1            Active       2025"
      ]
     },
     "execution_count": 9,
     "metadata": {},
     "output_type": "execute_result"
    }
   ],
   "source": [
    "MEMBERS[MEMBERS.PARTY_ID==16397943]"
   ]
  },
  {
   "cell_type": "code",
   "execution_count": null,
   "metadata": {},
   "outputs": [],
   "source": [
    "MEMBERS.groupby(['STS_TYPE_ID','MEMBERSHIP_STATUS']).count()"
   ]
  },
  {
   "cell_type": "code",
   "execution_count": null,
   "metadata": {},
   "outputs": [],
   "source": [
    "import pyodbc\n",
    "username = 'vigrose'\n",
    "password = 'Gryffindor~10946'\n",
    "s = \"DSN=PRDDW; UID={}; PWD={}\".format(username, password)\n",
    "AMAEDW = pyodbc.connect(s)\n",
    "query = \\\n",
    "    \"\"\"\n",
    "    SELECT\n",
    "    S.DESC as MEMBERSHIP_STATUS,\n",
    "    M.ME\n",
    "    FROM\n",
    "    AMAEDW.PARTY_RLSHIP P, AMAEDW.PARTY_ID_TO_ME_VW M, AMAEDW.STS_TYPE S\n",
    "    WHERE\n",
    "    P.MBRSHP_YR=2021 \n",
    "    AND\n",
    "    P.THRU_DT is null\n",
    "    AND\n",
    "    P.PARTY_ID_FROM=M.PARTY_ID\n",
    "    AND\n",
    "    P.STS_TYPE_ID=S.STS_TYPE_ID\n",
    "    AND\n",
    "    S.DESC in ('Active', 'Renewal');\n",
    "    \"\"\"\n",
    "MEMBERS = pd.read_sql(con=AMAEDW, sql=query)\n",
    "MEMBERS.head()"
   ]
  },
  {
   "cell_type": "code",
   "execution_count": null,
   "metadata": {},
   "outputs": [],
   "source": [
    "MEMBERS.groupby('MEMBERSHIP_STATUS').count()"
   ]
  },
  {
   "cell_type": "code",
   "execution_count": null,
   "metadata": {},
   "outputs": [],
   "source": [
    "MEMBERS[MEMBERS.PARTY_ID!='None']"
   ]
  },
  {
   "cell_type": "code",
   "execution_count": null,
   "metadata": {},
   "outputs": [],
   "source": [
    "len(MEMBERS)"
   ]
  },
  {
   "cell_type": "code",
   "execution_count": null,
   "metadata": {},
   "outputs": [],
   "source": [
    "MEMBERS.DESC='ACTIVE'"
   ]
  },
  {
   "cell_type": "code",
   "execution_count": null,
   "metadata": {},
   "outputs": [],
   "source": [
    "pd.merge(MEMBERS, all_docs, how='right').to_excel(\"../../Data/Medscape/AMA_Members_COVID.xlsx\", index=False)"
   ]
  },
  {
   "cell_type": "code",
   "execution_count": null,
   "metadata": {},
   "outputs": [],
   "source": [
    "all_docs.ME"
   ]
  },
  {
   "cell_type": "code",
   "execution_count": null,
   "metadata": {},
   "outputs": [],
   "source": [
    "def fix_me(me_list):\n",
    "    nums = []\n",
    "    for num in me_list:\n",
    "        num = str(num)\n",
    "        num = num.replace('.0', '')\n",
    "        if len(num) == 10:\n",
    "            num = '0' + num\n",
    "        elif len(num) == 9:\n",
    "            num = '00' + num\n",
    "        elif len(num) == 8:\n",
    "            num = '000' + num\n",
    "        nums.append(num)\n",
    "    return nums\n",
    "all_docs['ME']=fix_me(all_docs.ME)"
   ]
  },
  {
   "cell_type": "code",
   "execution_count": null,
   "metadata": {},
   "outputs": [],
   "source": [
    "query = \\\n",
    "    \"\"\"\n",
    "    SELECT *\n",
    "    FROM\n",
    "    AMAEDW.PARTY_ID_TO_ME_VW;\n",
    "    \"\"\"\n",
    "party_key = pd.read_sql(con=AMAEDW, sql=query)\n",
    "party_key.head()"
   ]
  },
  {
   "cell_type": "code",
   "execution_count": null,
   "metadata": {},
   "outputs": [],
   "source": [
    "party_key.to_csv('../../Data/Triangulation/Party_ME.csv', index=False)"
   ]
  },
  {
   "cell_type": "code",
   "execution_count": null,
   "metadata": {},
   "outputs": [],
   "source": []
  }
 ],
 "metadata": {
  "kernelspec": {
   "display_name": "Python 3",
   "language": "python",
   "name": "python3"
  },
  "language_info": {
   "codemirror_mode": {
    "name": "ipython",
    "version": 3
   },
   "file_extension": ".py",
   "mimetype": "text/x-python",
   "name": "python",
   "nbconvert_exporter": "python",
   "pygments_lexer": "ipython3",
   "version": "3.7.4"
  }
 },
 "nbformat": 4,
 "nbformat_minor": 2
}
