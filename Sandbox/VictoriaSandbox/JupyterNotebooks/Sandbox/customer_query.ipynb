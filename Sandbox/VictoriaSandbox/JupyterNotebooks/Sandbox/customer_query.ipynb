{
 "cells": [
  {
   "cell_type": "code",
   "execution_count": 1,
   "metadata": {},
   "outputs": [],
   "source": [
    "import pandas as pd\n",
    "import pyodbc\n",
    "import os\n",
    "\n",
    "#connect to db\n",
    "def datamart_connect():\n",
    "    username = 'vigrose'\n",
    "    password = 'Hufflepuff10946'\n",
    "    s = \"DSN=PRDDM; UID={}; PWD={}\".format(username, password)\n",
    "    AMADM = pyodbc.connect(s)\n",
    "    return AMADM\n",
    "\n",
    "#define customer query\n",
    "def get_customer_query():\n",
    "    query = \\\n",
    "    \"\"\"\n",
    "    SELECT DISTINCT\n",
    "    C.CUSTOMER_KEY, \n",
    "    C.CUSTOMER_NBR,\n",
    "    C.CUSTOMER_ISELL_LOGIN,\n",
    "    C.CUSTOMER_NAME,\n",
    "    C.CUSTOMER_TYPE_DESC,\n",
    "    C.CUSTOMER_TYPE,\n",
    "    C.CUSTOMER_CATEGORY_DESC\n",
    "    FROM \n",
    "    AMADM.dim_customer c  \n",
    "    \"\"\"\n",
    "    return query"
   ]
  },
  {
   "cell_type": "code",
   "execution_count": 2,
   "metadata": {},
   "outputs": [],
   "source": [
    "AMADM = datamart_connect()\n",
    "customer_query = get_customer_query()\n",
    "customers = pd.read_sql(con=AMADM, sql=customer_query)\n",
    "customers.CUSTOMER_KEY = customers.CUSTOMER_KEY.astype(str)\n",
    "customers = customers.fillna('None')"
   ]
  },
  {
   "cell_type": "code",
   "execution_count": 5,
   "metadata": {},
   "outputs": [],
   "source": [
    "customers[customers['CUSTOMER_CATEGORY_DESC']!='None'].to_csv('../../Data/Credentialling/Customers.csv', index=False)"
   ]
  },
  {
   "cell_type": "code",
   "execution_count": null,
   "metadata": {},
   "outputs": [],
   "source": []
  }
 ],
 "metadata": {
  "kernelspec": {
   "display_name": "Python 3",
   "language": "python",
   "name": "python3"
  },
  "language_info": {
   "codemirror_mode": {
    "name": "ipython",
    "version": 3
   },
   "file_extension": ".py",
   "mimetype": "text/x-python",
   "name": "python",
   "nbconvert_exporter": "python",
   "pygments_lexer": "ipython3",
   "version": "3.7.4"
  }
 },
 "nbformat": 4,
 "nbformat_minor": 2
}
