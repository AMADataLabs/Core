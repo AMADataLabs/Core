{
 "cells": [
  {
   "cell_type": "code",
   "execution_count": null,
   "metadata": {},
   "outputs": [],
   "source": [
    "import os\n",
    "import pandas as pd\n",
    "import requests\n",
    "import xmltodict\n",
    "\n",
    "API_KEY = 'WS77-PWJ1-MKS5'"
   ]
  },
  {
   "cell_type": "code",
   "execution_count": null,
   "metadata": {},
   "outputs": [],
   "source": [
    "#Reverse lookup a single phone number:\n",
    "def reverse_lookup(phone_number, column_name, apikey):\n",
    "\n",
    "    #Create an empty dictionary:\n",
    "    info_dict = {}\n",
    "\n",
    "    #Call api with given parameters and save xml as dictionary:\n",
    "    base_url = \"https://ws.serviceobjects.com/gppl2/api.svc/GetPhoneInfo?\"\n",
    "    parameters = {'PhoneNumber': phone_number, 'LicenseKey': apikey}\n",
    "    response = requests.get(base_url, params=parameters)\n",
    "    results = xmltodict.parse(response.content)\n",
    "\n",
    "    #Select phone info section of resulting dictionary:\n",
    "    phone_results = results[\"PhoneInfoResponse\"][\"PhoneInfo\"]\n",
    "\n",
    "    #Save phone number:\n",
    "    info_dict[column_name] = phone_number\n",
    "\n",
    "    #Save relevant values in results in smaller dictionary. Save null value if errors:\n",
    "    try:\n",
    "        info_dict[\"Name\"] = phone_results[\"Contacts\"]['Contact'][\"Name\"]\n",
    "    except:\n",
    "        info_dict[\"Name\"] = 'N/A'\n",
    "    try:\n",
    "        info_dict[\"Address\"] = phone_results[\"Contacts\"]['Contact'][\"Address\"]\n",
    "    except:\n",
    "        info_dict[\"Address\"] = 'None'\n",
    "    try:\n",
    "        info_dict[\"City\"] = phone_results[\"Contacts\"]['Contact'][\"City\"]\n",
    "    except:\n",
    "        info_dict[\"City\"] = 'N/A'\n",
    "    try:\n",
    "        info_dict[\"State\"] = phone_results[\"Contacts\"]['Contact'][\"State\"]\n",
    "    except:\n",
    "        info_dict[\"State\"] = 'N/A'\n",
    "    try:\n",
    "        info_dict[\"PhoneType\"] = phone_results[\"Contacts\"]['Contact'][\"PhoneType\"]\n",
    "    except:\n",
    "        info_dict[\"PhoneType\"] = 'N/A'\n",
    "    try:\n",
    "        info_dict[\"QualityScore\"] = phone_results[\"Contacts\"]['Contact'][\"QualityScore\"]\n",
    "    except:\n",
    "        info_dict[\"QualityScore\"] = 'N/A'\n",
    "    try:\n",
    "        info_dict[\"Date\"] = phone_results[\"DateOfPorting\"]\n",
    "    except:\n",
    "        info_dict[\"Date\"] = 'none'\n",
    "    try:\n",
    "        info_dict[\"Notes\"] = phone_results[\"NoteDescriptions\"]\n",
    "    except:\n",
    "        info_dict[\"Notes\"] = 'None'\n",
    "    try:\n",
    "        info_dict[\"Provider\"] = phone_results['Provider']['Name']\n",
    "    except:\n",
    "        info_dict[\"Provider\"] = 'N/A'\n",
    "\n",
    "    #Return resulting dictionary and full dictionary:\n",
    "    return(info_dict, results)\n",
    "\n",
    "\n",
    "#Test all number in a dataframe:\n",
    "def test_numbers(dataframe, column_name, apikey):\n",
    "\n",
    "    #Create two empty lists:\n",
    "    results_dict_list = []\n",
    "    fun_massive_list = []\n",
    "\n",
    "    #Iterate through dataframe and call reverse_lookup on each number:\n",
    "    for row in dataframe.itertuples():\n",
    "        new_dict = {}\n",
    "        phone = row.TELEPHONE_NUMBER\n",
    "        try:\n",
    "            new_dict, phone_results = reverse_lookup(phone, column_name, apikey)\n",
    "            results_dict_list.append(new_dict)\n",
    "            fun_massive_list.append(phone_results)\n",
    "        except:\n",
    "            pass\n",
    "        print(phone_results)\n",
    "\n",
    "    #Save lists of dictionaries as dataframes:\n",
    "    new_df = pd.DataFrame(results_dict_list)\n",
    "    final_df = pd.merge(new_df, dataframe, on=column_name)\n",
    "\n",
    "    #Return dataframes:\n",
    "    return(fun_massive_list, final_df)"
   ]
  },
  {
   "cell_type": "code",
   "execution_count": null,
   "metadata": {},
   "outputs": [],
   "source": [
    "sample = pd.read_excel('../../Data/Triangulation/2020-12-23_VT_Verification_Sample.xlsx')\n",
    "sample.head()"
   ]
  },
  {
   "cell_type": "code",
   "execution_count": null,
   "metadata": {},
   "outputs": [],
   "source": [
    "fun_massive_list, final_df = test_numbers(phone_df, column_header, key)"
   ]
  },
  {
   "cell_type": "code",
   "execution_count": null,
   "metadata": {},
   "outputs": [],
   "source": [
    "INFO, RESULTS = reverse_lookup(sample.TELEPHONE_NUMBER[1], 'TELEPHONE_NUMBER', API_KEY)"
   ]
  },
  {
   "cell_type": "code",
   "execution_count": null,
   "metadata": {},
   "outputs": [],
   "source": [
    "base_url = \"https://ws.serviceobjects.com/gppl2/api.svc/GetPhoneInfo?\"\n",
    "parameters = {'PhoneNumber': sample.TELEPHONE_NUMBER[0], 'LicenseKey': API_KEY}\n",
    "response = requests.get(base_url, params=parameters)\n",
    "results = xmltodict.parse(response.content)\n",
    "# phone_results = results[\"PhoneInfoResponse\"][\"PhoneInfo\"]"
   ]
  },
  {
   "cell_type": "code",
   "execution_count": null,
   "metadata": {},
   "outputs": [],
   "source": [
    "xmltodict.parse(response.content)"
   ]
  },
  {
   "cell_type": "code",
   "execution_count": null,
   "metadata": {},
   "outputs": [],
   "source": [
    "INFO"
   ]
  },
  {
   "cell_type": "code",
   "execution_count": null,
   "metadata": {},
   "outputs": [],
   "source": [
    "RESULTS['PhoneInfo']"
   ]
  },
  {
   "cell_type": "code",
   "execution_count": null,
   "metadata": {},
   "outputs": [],
   "source": [
    "phone_df = sample[2:500]"
   ]
  },
  {
   "cell_type": "code",
   "execution_count": null,
   "metadata": {},
   "outputs": [],
   "source": [
    "fun_massive_list_2, final_df_2 = test_numbers(new_phone_df, 'TELEPHONE_NUMBER', API_KEY)"
   ]
  },
  {
   "cell_type": "code",
   "execution_count": null,
   "metadata": {},
   "outputs": [],
   "source": [
    "final_df_2.to_csv('../../Data/Triangulation/GetPhone_VT_2021_01_11.csv', index=False)"
   ]
  },
  {
   "cell_type": "code",
   "execution_count": null,
   "metadata": {},
   "outputs": [],
   "source": [
    "with open(f'../../Data/Triangulation/GetPhone_VT_RAW_2021_01_11.txt', 'w') as outfile:\n",
    "        json.dump(fun_massive_list_2, outfile)"
   ]
  },
  {
   "cell_type": "code",
   "execution_count": null,
   "metadata": {},
   "outputs": [],
   "source": [
    "import json"
   ]
  },
  {
   "cell_type": "code",
   "execution_count": null,
   "metadata": {},
   "outputs": [],
   "source": [
    "sample"
   ]
  },
  {
   "cell_type": "code",
   "execution_count": null,
   "metadata": {},
   "outputs": [],
   "source": [
    "completed_phone_numbers = list(phone_df.drop_duplicates('TELEPHONE_NUMBER')['TELEPHONE_NUMBER'])"
   ]
  },
  {
   "cell_type": "code",
   "execution_count": null,
   "metadata": {},
   "outputs": [],
   "source": [
    "new_phone_df = sample[sample.TELEPHONE_NUMBER.isin(completed_phone_numbers)==False].drop_duplicates('TELEPHONE_NUMBER')"
   ]
  },
  {
   "cell_type": "code",
   "execution_count": null,
   "metadata": {},
   "outputs": [],
   "source": [
    "len(sample)"
   ]
  },
  {
   "cell_type": "code",
   "execution_count": null,
   "metadata": {},
   "outputs": [],
   "source": [
    "len(new_phone_df)"
   ]
  },
  {
   "cell_type": "code",
   "execution_count": null,
   "metadata": {},
   "outputs": [],
   "source": [
    "completed_phones = list(set(sample.TELEPHONE_NUMBER))"
   ]
  },
  {
   "cell_type": "code",
   "execution_count": null,
   "metadata": {},
   "outputs": [],
   "source": [
    "roster_phones = pd.read_csv('../../Data/Triangulation/Roster_Phones.csv')"
   ]
  },
  {
   "cell_type": "code",
   "execution_count": null,
   "metadata": {},
   "outputs": [],
   "source": [
    "fun_massive_list_3, final_df_3 = test_numbers(roster_phones, 'TELEPHONE_NUMBER', API_KEY)"
   ]
  },
  {
   "cell_type": "code",
   "execution_count": null,
   "metadata": {},
   "outputs": [],
   "source": [
    "final_df_3.to_csv('../../Data/Triangulation/GetPhone_Rosters_2021_01_13.csv', index=False)\n",
    "with open(f'../../Data/Triangulation/GetPhone_Rosters_RAW_2021_01_13.txt', 'w') as outfile:\n",
    "        json.dump(fun_massive_list_3, outfile)"
   ]
  },
  {
   "cell_type": "code",
   "execution_count": null,
   "metadata": {},
   "outputs": [],
   "source": [
    "len(final_df_3)"
   ]
  },
  {
   "cell_type": "code",
   "execution_count": null,
   "metadata": {},
   "outputs": [],
   "source": [
    "roster_phones_2 = pd.read_csv('../../Data/Triangulation/Updated_Roster_Phones.csv')"
   ]
  },
  {
   "cell_type": "code",
   "execution_count": null,
   "metadata": {},
   "outputs": [],
   "source": [
    "roster_2 = roster_phones_2[roster_phones_2['TELEPHONE_NUMBER'].isin(roster_phones.TELEPHONE_NUMBER)==False].dropna()"
   ]
  },
  {
   "cell_type": "code",
   "execution_count": null,
   "metadata": {},
   "outputs": [],
   "source": [
    "fun_massive_list_4, final_df_4 = test_numbers(roster_2[680:], 'TELEPHONE_NUMBER', API_KEY)"
   ]
  },
  {
   "cell_type": "code",
   "execution_count": null,
   "metadata": {},
   "outputs": [],
   "source": [
    "roster_2[680:]"
   ]
  },
  {
   "cell_type": "code",
   "execution_count": null,
   "metadata": {},
   "outputs": [],
   "source": [
    "fun_massive_list_5, final_df_5 = test_numbers(roster_2[680:], 'TELEPHONE_NUMBER', API_KEY)"
   ]
  },
  {
   "cell_type": "code",
   "execution_count": null,
   "metadata": {},
   "outputs": [],
   "source": [
    "import json\n",
    "final_df_5.to_csv('../../Data/Triangulation/GetPhone_Rosters_2_2021_01_13.csv', index=False)\n",
    "with open(f'../../Data/Triangulation/GetPhone_Rosters_RAW_2_2021_01_13.txt', 'w') as outfile:\n",
    "        json.dump(fun_massive_list_5, outfile)"
   ]
  },
  {
   "cell_type": "code",
   "execution_count": null,
   "metadata": {},
   "outputs": [],
   "source": [
    "len(roster_phones_2)"
   ]
  },
  {
   "cell_type": "code",
   "execution_count": null,
   "metadata": {},
   "outputs": [],
   "source": [
    "48420 - (len(sample.drop_duplicates('TELEPHONE_NUMBER'))+len(roster_phones_2))"
   ]
  },
  {
   "cell_type": "code",
   "execution_count": null,
   "metadata": {},
   "outputs": [],
   "source": [
    "ppd = pd.read_csv('../../Data/PPD/ppd_data_20210109.csv')"
   ]
  },
  {
   "cell_type": "code",
   "execution_count": null,
   "metadata": {},
   "outputs": [],
   "source": [
    "ppd_sample = ppd.drop_duplicates('TELEPHONE_NUMBER').sample(8000)"
   ]
  },
  {
   "cell_type": "code",
   "execution_count": null,
   "metadata": {},
   "outputs": [],
   "source": [
    "ppd_sample_2 = ppd[ppd.TELEPHONE_NUMBER.isin(ppd_sample.TELEPHONE_NUMBER)==False].drop_duplicates('TELEPHONE_NUMBER').sample(521)"
   ]
  },
  {
   "cell_type": "code",
   "execution_count": null,
   "metadata": {},
   "outputs": [],
   "source": [
    "fun_massive_list_6, final_df_6 = test_numbers(ppd_sample, 'TELEPHONE_NUMBER', API_KEY)"
   ]
  },
  {
   "cell_type": "code",
   "execution_count": null,
   "metadata": {},
   "outputs": [],
   "source": [
    "ppd_sample_2.to_csv('../../Data/ppd_sample_2.csv', index=False)\n",
    "fun_massive_list_7, final_df_7 = test_numbers(ppd_sample_2, 'TELEPHONE_NUMBER', API_KEY)"
   ]
  },
  {
   "cell_type": "code",
   "execution_count": null,
   "metadata": {},
   "outputs": [],
   "source": [
    "final_df_7.to_csv('../../Data/Triangulation/GetPhone_PPD_3_2021_01_14.csv', index=False)\n",
    "with open(f'../../Data/Triangulation/GetPhone_PPD_RAW_3_2021_01_14.txt', 'w') as outfile:\n",
    "        json.dump(fun_massive_list_7, outfile)"
   ]
  },
  {
   "cell_type": "code",
   "execution_count": null,
   "metadata": {},
   "outputs": [],
   "source": [
    "ppd_sample.to_csv('../../Data/ppd_sampl.csv', index=False)"
   ]
  },
  {
   "cell_type": "code",
   "execution_count": null,
   "metadata": {},
   "outputs": [],
   "source": [
    "len(final_df_6)"
   ]
  },
  {
   "cell_type": "code",
   "execution_count": null,
   "metadata": {},
   "outputs": [],
   "source": [
    "len(fun_massive_list_6)"
   ]
  },
  {
   "cell_type": "code",
   "execution_count": null,
   "metadata": {},
   "outputs": [],
   "source": [
    "final_df_6.to_csv('../../Data/Triangulation/GetPhone_PPD_2_2021_01_13.csv', index=False)\n",
    "with open(f'../../Data/Triangulation/GetPhone_PPD_RAW_2_2021_01_13.txt', 'w') as outfile:\n",
    "        json.dump(fun_massive_list_6, outfile)"
   ]
  },
  {
   "cell_type": "code",
   "execution_count": null,
   "metadata": {},
   "outputs": [],
   "source": [
    "ppd[ppd.ADDRESS_TYPE.isin([2.0,3.0])][['MAILING_NAME','MAILING_LINE_1','MAILING_LINE_2','CITY','STATE','ADDRESS_TYPE']].head(20)"
   ]
  },
  {
   "cell_type": "code",
   "execution_count": null,
   "metadata": {},
   "outputs": [],
   "source": [
    "ppd.columns"
   ]
  },
  {
   "cell_type": "code",
   "execution_count": null,
   "metadata": {},
   "outputs": [],
   "source": []
  }
 ],
 "metadata": {
  "kernelspec": {
   "display_name": "Python 3",
   "language": "python",
   "name": "python3"
  },
  "language_info": {
   "codemirror_mode": {
    "name": "ipython",
    "version": 3
   },
   "file_extension": ".py",
   "mimetype": "text/x-python",
   "name": "python",
   "nbconvert_exporter": "python",
   "pygments_lexer": "ipython3",
   "version": "3.7.4"
  }
 },
 "nbformat": 4,
 "nbformat_minor": 2
}
