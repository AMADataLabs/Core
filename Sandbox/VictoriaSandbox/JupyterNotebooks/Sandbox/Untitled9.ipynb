{
 "cells": [
  {
   "cell_type": "code",
   "execution_count": 1,
   "metadata": {},
   "outputs": [],
   "source": [
    "import pandas as pd\n",
    "import useful_functions as use"
   ]
  },
  {
   "cell_type": "code",
   "execution_count": 5,
   "metadata": {},
   "outputs": [],
   "source": [
    "old = pd.read_csv('../../Data/MasterfileCore/PhysicianRaceEthnicity_2021-12-08.psv', sep='|')"
   ]
  },
  {
   "cell_type": "code",
   "execution_count": 6,
   "metadata": {},
   "outputs": [],
   "source": [
    "new = pd.read_csv('../../Data/MasterfileCore/PhysicianRaceEthnicity_2022-02-01.psv', sep='|')"
   ]
  },
  {
   "cell_type": "code",
   "execution_count": 7,
   "metadata": {},
   "outputs": [
    {
     "data": {
      "text/plain": [
       "1043"
      ]
     },
     "execution_count": 7,
     "metadata": {},
     "output_type": "execute_result"
    }
   ],
   "source": [
    "len(new)-len(old)"
   ]
  },
  {
   "cell_type": "code",
   "execution_count": 8,
   "metadata": {},
   "outputs": [
    {
     "data": {
      "text/html": [
       "<div>\n",
       "<style scoped>\n",
       "    .dataframe tbody tr th:only-of-type {\n",
       "        vertical-align: middle;\n",
       "    }\n",
       "\n",
       "    .dataframe tbody tr th {\n",
       "        vertical-align: top;\n",
       "    }\n",
       "\n",
       "    .dataframe thead th {\n",
       "        text-align: right;\n",
       "    }\n",
       "</style>\n",
       "<table border=\"1\" class=\"dataframe\">\n",
       "  <thead>\n",
       "    <tr style=\"text-align: right;\">\n",
       "      <th></th>\n",
       "      <th>medical_education_number</th>\n",
       "      <th>race_ethnicity</th>\n",
       "    </tr>\n",
       "  </thead>\n",
       "  <tbody>\n",
       "    <tr>\n",
       "      <td>1314813</td>\n",
       "      <td>4775171567</td>\n",
       "      <td>Unknown</td>\n",
       "    </tr>\n",
       "    <tr>\n",
       "      <td>1314822</td>\n",
       "      <td>4775171460</td>\n",
       "      <td>Unknown</td>\n",
       "    </tr>\n",
       "    <tr>\n",
       "      <td>1315009</td>\n",
       "      <td>4775171630</td>\n",
       "      <td>Unknown</td>\n",
       "    </tr>\n",
       "    <tr>\n",
       "      <td>1316030</td>\n",
       "      <td>4775171397</td>\n",
       "      <td>Unknown</td>\n",
       "    </tr>\n",
       "    <tr>\n",
       "      <td>1316545</td>\n",
       "      <td>4775010016</td>\n",
       "      <td>Unknown</td>\n",
       "    </tr>\n",
       "    <tr>\n",
       "      <td>...</td>\n",
       "      <td>...</td>\n",
       "      <td>...</td>\n",
       "    </tr>\n",
       "    <tr>\n",
       "      <td>1632403</td>\n",
       "      <td>5176210488</td>\n",
       "      <td>Hispanic, Latino, or Spanish Origin</td>\n",
       "    </tr>\n",
       "    <tr>\n",
       "      <td>1632408</td>\n",
       "      <td>577210543</td>\n",
       "      <td>Hispanic, Latino, or Spanish Origin</td>\n",
       "    </tr>\n",
       "    <tr>\n",
       "      <td>1632409</td>\n",
       "      <td>3375211211</td>\n",
       "      <td>Hispanic, Latino, or Spanish Origin</td>\n",
       "    </tr>\n",
       "    <tr>\n",
       "      <td>1632411</td>\n",
       "      <td>2775211043</td>\n",
       "      <td>Hispanic, Latino, or Spanish Origin</td>\n",
       "    </tr>\n",
       "    <tr>\n",
       "      <td>1632413</td>\n",
       "      <td>3675211344</td>\n",
       "      <td>Hispanic, Latino, or Spanish Origin</td>\n",
       "    </tr>\n",
       "  </tbody>\n",
       "</table>\n",
       "<p>1043 rows × 2 columns</p>\n",
       "</div>"
      ],
      "text/plain": [
       "         medical_education_number                       race_ethnicity\n",
       "1314813                4775171567                              Unknown\n",
       "1314822                4775171460                              Unknown\n",
       "1315009                4775171630                              Unknown\n",
       "1316030                4775171397                              Unknown\n",
       "1316545                4775010016                              Unknown\n",
       "...                           ...                                  ...\n",
       "1632403                5176210488  Hispanic, Latino, or Spanish Origin\n",
       "1632408                 577210543  Hispanic, Latino, or Spanish Origin\n",
       "1632409                3375211211  Hispanic, Latino, or Spanish Origin\n",
       "1632411                2775211043  Hispanic, Latino, or Spanish Origin\n",
       "1632413                3675211344  Hispanic, Latino, or Spanish Origin\n",
       "\n",
       "[1043 rows x 2 columns]"
      ]
     },
     "execution_count": 8,
     "metadata": {},
     "output_type": "execute_result"
    }
   ],
   "source": [
    "new[~new.medical_education_number.isin(old.medical_education_number)]"
   ]
  },
  {
   "cell_type": "code",
   "execution_count": 16,
   "metadata": {},
   "outputs": [
    {
     "data": {
      "text/html": [
       "<div>\n",
       "<style scoped>\n",
       "    .dataframe tbody tr th:only-of-type {\n",
       "        vertical-align: middle;\n",
       "    }\n",
       "\n",
       "    .dataframe tbody tr th {\n",
       "        vertical-align: top;\n",
       "    }\n",
       "\n",
       "    .dataframe thead th {\n",
       "        text-align: right;\n",
       "    }\n",
       "</style>\n",
       "<table border=\"1\" class=\"dataframe\">\n",
       "  <thead>\n",
       "    <tr style=\"text-align: right;\">\n",
       "      <th></th>\n",
       "      <th>medical_education_number</th>\n",
       "    </tr>\n",
       "    <tr>\n",
       "      <th>race_ethnicity</th>\n",
       "      <th></th>\n",
       "    </tr>\n",
       "  </thead>\n",
       "  <tbody>\n",
       "    <tr>\n",
       "      <td>Hispanic, Latino, or Spanish Origin</td>\n",
       "      <td>162</td>\n",
       "    </tr>\n",
       "    <tr>\n",
       "      <td>Unknown</td>\n",
       "      <td>1077</td>\n",
       "    </tr>\n",
       "  </tbody>\n",
       "</table>\n",
       "</div>"
      ],
      "text/plain": [
       "                                     medical_education_number\n",
       "race_ethnicity                                               \n",
       "Hispanic, Latino, or Spanish Origin                       162\n",
       "Unknown                                                  1077"
      ]
     },
     "execution_count": 16,
     "metadata": {},
     "output_type": "execute_result"
    }
   ],
   "source": [
    "pd.concat([new,old]).drop_duplicates(keep=False).groupby('race_ethnicity').count()"
   ]
  },
  {
   "cell_type": "code",
   "execution_count": 20,
   "metadata": {},
   "outputs": [],
   "source": [
    "test = pd.merge(new, old, on='medical_education_number', suffixes = ['_new','_old'])"
   ]
  },
  {
   "cell_type": "code",
   "execution_count": 22,
   "metadata": {},
   "outputs": [],
   "source": [
    "count = 0\n",
    "for row in test.itertuples():\n",
    "    if row.race_ethnicity_old != row.race_ethnicity_new:\n",
    "        count +=1"
   ]
  },
  {
   "cell_type": "code",
   "execution_count": 24,
   "metadata": {},
   "outputs": [
    {
     "data": {
      "text/plain": [
       "1141"
      ]
     },
     "execution_count": 24,
     "metadata": {},
     "output_type": "execute_result"
    }
   ],
   "source": [
    "1043+98"
   ]
  },
  {
   "cell_type": "code",
   "execution_count": null,
   "metadata": {},
   "outputs": [],
   "source": [
    "1043 rows longer with 98"
   ]
  }
 ],
 "metadata": {
  "kernelspec": {
   "display_name": "Python 3",
   "language": "python",
   "name": "python3"
  },
  "language_info": {
   "codemirror_mode": {
    "name": "ipython",
    "version": 3
   },
   "file_extension": ".py",
   "mimetype": "text/x-python",
   "name": "python",
   "nbconvert_exporter": "python",
   "pygments_lexer": "ipython3",
   "version": "3.7.4"
  }
 },
 "nbformat": 4,
 "nbformat_minor": 2
}
