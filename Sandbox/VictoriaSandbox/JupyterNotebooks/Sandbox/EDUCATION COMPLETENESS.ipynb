{
 "cells": [
  {
   "cell_type": "code",
   "execution_count": 1,
   "metadata": {},
   "outputs": [],
   "source": [
    "import pandas as pd\n",
    "import useful_functions as use\n",
    "import psycopg2\n",
    "import pyodbc\n",
    "import datetime"
   ]
  },
  {
   "cell_type": "code",
   "execution_count": 2,
   "metadata": {},
   "outputs": [],
   "source": [
    "conn = psycopg2.connect(\n",
    "    host='oneview-prd-content-aurora-cluster.cluster-cxgp9osuwqi3.us-east-1.rds.amazonaws.com',\n",
    "    database='oneview_content',\n",
    "    user='oneviewadmin',\n",
    "    password='VFauC8cRXqKapC8A')"
   ]
  },
  {
   "cell_type": "code",
   "execution_count": 3,
   "metadata": {},
   "outputs": [],
   "source": [
    "username = 'vigrose'\n",
    "password_edw = 'Hufflepuff~10946'\n",
    "w = \"DSN=PRDDW; UID={}; PWD={}\".format(username, password_edw)\n",
    "AMAEDW = pyodbc.connect(w)"
   ]
  },
  {
   "cell_type": "code",
   "execution_count": 4,
   "metadata": {},
   "outputs": [],
   "source": [
    "ov_me_sql = '''\n",
    "    SELECT medical_education_number,type, medical_school, medical_school_state FROM ONEVIEW.physician\n",
    "    '''\n",
    "ov_me = pd.read_sql_query(ov_me_sql, conn)"
   ]
  },
  {
   "cell_type": "code",
   "execution_count": 5,
   "metadata": {},
   "outputs": [],
   "source": [
    "ME_QUERY = \\\n",
    "    \"\"\"\n",
    "    SELECT\n",
    "    P.PARTY_ID,\n",
    "    P.KEY_VAL AS ME\n",
    "    FROM\n",
    "    AMAEDW.PARTY_KEY P\n",
    "    WHERE\n",
    "    P.KEY_TYPE_ID = 18\n",
    "    AND\n",
    "    P.ACTIVE_IND = 'Y'\n",
    "    \"\"\"\n",
    "party_ids = pd.read_sql(con=AMAEDW, sql=ME_QUERY)"
   ]
  },
  {
   "cell_type": "code",
   "execution_count": 6,
   "metadata": {},
   "outputs": [],
   "source": [
    "MORE_SCHOOL_QUERY = \\\n",
    "    \"\"\"\n",
    "    SELECT\n",
    "    PARTY_ID AS PARTY_ID_SCHOOL,\n",
    "    KEY_VAL AS SCHOOL_ID\n",
    "    FROM\n",
    "    AMAEDW.PARTY_KEY\n",
    "    WHERE\n",
    "    KEY_TYPE_ID = 23\n",
    "    \"\"\"\n",
    "more_school_ids = pd.read_sql(con=AMAEDW, sql=MORE_SCHOOL_QUERY)"
   ]
  },
  {
   "cell_type": "code",
   "execution_count": 7,
   "metadata": {},
   "outputs": [],
   "source": [
    "SCHOOL_QUERY = \\\n",
    "    \"\"\"\n",
    "    SELECT\n",
    "    P.PARTY_ID AS PARTY_ID_SCHOOL,\n",
    "    P.KEY_VAL AS SCHOOL_ID,\n",
    "    C.STATE_ID,\n",
    "    C.COUNTRY_ID\n",
    "    FROM\n",
    "    AMAEDW.PARTY_KEY P, AMAEDW.POST_CD C, AMAEDW.PARTY_ADDR A\n",
    "    WHERE\n",
    "    P.KEY_TYPE_ID = 23\n",
    "    AND\n",
    "    P.PARTY_ID = A.PARTY_ID\n",
    "    AND \n",
    "    A.POST_CD_ID = C.POST_CD_ID\n",
    "    \"\"\"\n",
    "school_ids = pd.read_sql(con=AMAEDW, sql=SCHOOL_QUERY)"
   ]
  },
  {
   "cell_type": "code",
   "execution_count": 8,
   "metadata": {},
   "outputs": [],
   "source": [
    "MED_SCHOOL_QUERY = \\\n",
    "    \"\"\"\n",
    "    SELECT\n",
    "    SCH_PARTY_ID,\n",
    "    STU_PARTY_ID AS PARTY_ID,\n",
    "    GRAD_DT,\n",
    "    STS_TYPE_ID,\n",
    "    DEGREE_CD,\n",
    "    GRAD_CONF_IND\n",
    "    FROM\n",
    "    AMAEDW.SCHOOL_ATT\n",
    "    WHERE\n",
    "    THRU_DT is null\n",
    "    \"\"\"\n",
    "med_school = pd.read_sql(con=AMAEDW, sql=MED_SCHOOL_QUERY)"
   ]
  },
  {
   "cell_type": "code",
   "execution_count": 9,
   "metadata": {},
   "outputs": [],
   "source": [
    "GME_QUERY = \\\n",
    "    \"\"\"\n",
    "    SELECT\n",
    "    G.PARTY_HOSPITAL_ID,\n",
    "    G.PERSON_PARTY_ID AS PARTY_ID,\n",
    "    G.BEGIN_DT,\n",
    "    G.END_DT,\n",
    "    G.PRIM_SPEC_ID,\n",
    "    G.SEC_SPEC_ID,\n",
    "    G.TRAIN_TYPE,\n",
    "    G.CONF_STS_ID,\n",
    "    G.GME_STS_TYPE_CD,\n",
    "    C.STATE_ID,\n",
    "    C.COUNTRY_ID\n",
    "    FROM\n",
    "    AMAEDW.EDW_GME G, AMAEDW.POST_CD C, AMAEDW.PARTY_ADDR A\n",
    "    WHERE\n",
    "    G.THRU_DT is null\n",
    "    AND\n",
    "    G.PARTY_HOSPITAL_ID = A.PARTY_ID\n",
    "    AND \n",
    "    A.POST_CD_ID = C.POST_CD_ID\n",
    "    \"\"\"\n",
    "gme = pd.read_sql(con=AMAEDW, sql=GME_QUERY)"
   ]
  },
  {
   "cell_type": "code",
   "execution_count": 10,
   "metadata": {},
   "outputs": [],
   "source": [
    "YEAR_QUERY = \\\n",
    "    \"\"\"\n",
    "    SELECT\n",
    "    PARTY_ID, \n",
    "    PROG_YEAR,\n",
    "    PROG_GRAD_YR\n",
    "    FROM\n",
    "    AMAEDW.MED_PROF\n",
    "    WHERE\n",
    "    THRU_DT is null\n",
    "    \"\"\"\n",
    "gme_year = pd.read_sql(con=AMAEDW, sql=YEAR_QUERY)"
   ]
  },
  {
   "cell_type": "code",
   "execution_count": 11,
   "metadata": {},
   "outputs": [],
   "source": [
    "ORG_QUERY = \\\n",
    "    \"\"\"\n",
    "    SELECT\n",
    "    PARTY_ID AS PARTY_HOSPITAL_ID,\n",
    "    ORG_NM, \n",
    "    THRU_DT\n",
    "    FROM\n",
    "    AMAEDW.ORG_NM\n",
    "    \"\"\"\n",
    "org_names = pd.read_sql(con=AMAEDW, sql=ORG_QUERY)"
   ]
  },
  {
   "cell_type": "code",
   "execution_count": 12,
   "metadata": {},
   "outputs": [],
   "source": [
    "org_names.THRU_DT = pd.to_datetime(org_names.THRU_DT)"
   ]
  },
  {
   "cell_type": "code",
   "execution_count": 13,
   "metadata": {},
   "outputs": [],
   "source": [
    "org_names = org_names.sort_values('THRU_DT').drop_duplicates('PARTY_HOSPITAL_ID', keep='last')"
   ]
  },
  {
   "cell_type": "code",
   "execution_count": 14,
   "metadata": {},
   "outputs": [],
   "source": [
    "school_ids = school_ids.drop_duplicates()"
   ]
  },
  {
   "cell_type": "code",
   "execution_count": 15,
   "metadata": {},
   "outputs": [],
   "source": [
    "gme_singular = gme.drop_duplicates('PARTY_ID')"
   ]
  },
  {
   "cell_type": "code",
   "execution_count": 16,
   "metadata": {},
   "outputs": [
    {
     "name": "stderr",
     "output_type": "stream",
     "text": [
      "C:\\Users\\vigrose\\AppData\\Local\\Continuum\\anaconda3\\lib\\site-packages\\ipykernel_launcher.py:2: FutureWarning: Sorting because non-concatenation axis is not aligned. A future version\n",
      "of pandas will change to not sort by default.\n",
      "\n",
      "To accept the future behavior, pass 'sort=False'.\n",
      "\n",
      "To retain the current behavior and silence the warning, pass 'sort=True'.\n",
      "\n",
      "  \n"
     ]
    }
   ],
   "source": [
    "extra = more_school_ids[~more_school_ids.SCHOOL_ID.isin(school_ids.SCHOOL_ID)]\n",
    "school_ids = pd.concat([school_ids, extra])"
   ]
  },
  {
   "cell_type": "code",
   "execution_count": 17,
   "metadata": {},
   "outputs": [],
   "source": [
    "test = pd.merge(party_ids, ov_me[['medical_education_number', 'type']], left_on='ME', right_on='medical_education_number')\n",
    "school_info = pd.merge(school_ids, org_names, left_on='PARTY_ID_SCHOOL', right_on='PARTY_HOSPITAL_ID', how='left').drop_duplicates()\n",
    "med_with_info = pd.merge(med_school, school_info, left_on='SCH_PARTY_ID', right_on='PARTY_ID_SCHOOL', how='left').drop_duplicates()\n",
    "gme_with_info = pd.merge(gme_singular, org_names, on='PARTY_HOSPITAL_ID', how='left').drop_duplicates()"
   ]
  },
  {
   "cell_type": "code",
   "execution_count": 18,
   "metadata": {},
   "outputs": [],
   "source": [
    "date_list = []\n",
    "for row in med_with_info.itertuples():\n",
    "    try:\n",
    "        new_date = datetime.datetime.strptime(str(row.GRAD_DT), '%Y-%m-%d')\n",
    "    except:\n",
    "        new_date = None\n",
    "    date_list.append(new_date)\n",
    "med_with_info['GRAD_DATE'] = date_list\n",
    "med_with_info = med_with_info.sort_values('GRAD_DATE')"
   ]
  },
  {
   "cell_type": "code",
   "execution_count": 19,
   "metadata": {},
   "outputs": [],
   "source": [
    "countries = []\n",
    "statuses = []\n",
    "for row in med_with_info.itertuples():\n",
    "    country = 0\n",
    "    status = 0\n",
    "    if row.COUNTRY_ID == 6705:\n",
    "        country = 1\n",
    "    if row.STS_TYPE_ID == 9:\n",
    "        status = 2\n",
    "    if row.STS_TYPE_ID == 54:\n",
    "        status = 1\n",
    "    countries.append(country)\n",
    "    statuses.append(status)\n",
    "med_with_info['COUNTRY'] = countries\n",
    "med_with_info['STATUS'] = statuses\n",
    "med_with_info = med_with_info.sort_values(['STATUS','COUNTRY','GRAD_DATE'])"
   ]
  },
  {
   "cell_type": "code",
   "execution_count": 20,
   "metadata": {},
   "outputs": [],
   "source": [
    "cc = med_with_info.drop_duplicates('PARTY_ID', keep=False)\n",
    "DUPES = med_with_info[med_with_info.duplicated('PARTY_ID', keep=False)]\n",
    "plz = DUPES.drop_duplicates('PARTY_ID', keep='last')\n",
    "med_with_info_2 = pd.concat([plz, cc])"
   ]
  },
  {
   "cell_type": "code",
   "execution_count": 21,
   "metadata": {},
   "outputs": [],
   "source": [
    "ALL = pd.merge(test, gme_year, on='PARTY_ID', how='left')\n",
    "ALL = pd.merge(ALL, med_with_info_2, on='PARTY_ID',how='left')\n",
    "ALL = pd.merge(ALL, gme_with_info, on='PARTY_ID', how='left', suffixes = ['_SCH', '_GME'])"
   ]
  },
  {
   "cell_type": "code",
   "execution_count": 22,
   "metadata": {},
   "outputs": [
    {
     "name": "stderr",
     "output_type": "stream",
     "text": [
      "C:\\Users\\vigrose\\AppData\\Local\\Continuum\\anaconda3\\lib\\site-packages\\numpy\\lib\\arraysetops.py:569: FutureWarning: elementwise comparison failed; returning scalar instead, but in the future will perform elementwise comparison\n",
      "  mask |= (ar1 == a)\n"
     ]
    }
   ],
   "source": [
    "today = datetime.date.today()\n",
    "types = ['Physician','Student','Resident']\n",
    "all_mes = list(ALL.ME)\n",
    "us_schools = list(ALL[(ALL.COUNTRY_ID_SCH==6705)].ME)\n",
    "us_gmes = list(ALL[(ALL.COUNTRY_ID_GME==6705)].ME)\n",
    "elements = [\n",
    "    {'data_element': 'Medical School Name',\n",
    "     'element':'ORG_NM_SCH',\n",
    "    'null': [''],\n",
    "    'universe': all_mes},\n",
    "    {'data_element': 'Medical School State',\n",
    "     'element':'STATE_ID_SCH',\n",
    "    'null': ['',-1],\n",
    "    'universe': us_schools},\n",
    "    {'data_element': 'Medical School Country',\n",
    "     'element':'COUNTRY_ID_SCH',\n",
    "    'null': ['',-1],\n",
    "    'universe': all_mes},\n",
    "    {'data_element': 'Medical School Grad Date',\n",
    "     'element':'GRAD_DT',\n",
    "    'null': ['',-1, datetime.date(1900, 1, 30)],\n",
    "    'universe': all_mes},\n",
    "    {'data_element': 'Education Status',\n",
    "     'element':'STS_TYPE_ID',\n",
    "    'null': ['',-1,61,43],\n",
    "    'universe': all_mes},\n",
    "    {'data_element': 'Medical Degree',\n",
    "     'element':'DEGREE_CD',\n",
    "    'null': [''],\n",
    "    'universe': all_mes},\n",
    "    {'data_element': 'GME Institution',\n",
    "     'element':'ORG_NM_GME',\n",
    "    'null': [''],\n",
    "    'universe': all_mes},\n",
    "    {'data_element': 'GME Institution State',\n",
    "     'element':'STATE_ID_GME',\n",
    "    'null': ['',-1],\n",
    "    'universe': us_gmes},\n",
    "    {'data_element': 'GME Begin Date',\n",
    "     'element':'BEGIN_DT',\n",
    "    'null': ['',-1],\n",
    "    'universe': all_mes},\n",
    "    {'data_element': 'GME End Date',\n",
    "     'element':'END_DT',\n",
    "    'null': ['',-1],\n",
    "    'universe': all_mes},\n",
    "    {'data_element': 'GME Primary Specialty',\n",
    "     'element':'PRIM_SPEC_ID',\n",
    "    'null': ['',-1,1883],\n",
    "    'universe':all_mes},\n",
    "    {'data_element': 'GME Secondary Specialty',\n",
    "     'element':'SEC_SPEC_ID',\n",
    "    'null': ['',-1,1883],\n",
    "    'universe': all_mes},\n",
    "    {'data_element': 'GME Training Type',\n",
    "     'element':'TRAIN_TYPE',\n",
    "    'null': ['',-1],\n",
    "    'universe': all_mes},\n",
    "    {'data_element': 'GME Confirmation Status',\n",
    "     'element':'CONF_STS_ID',\n",
    "    'null': ['',-1],\n",
    "    'universe': all_mes},\n",
    "    {'data_element': 'GME Status Type',\n",
    "     'element':'GME_STS_TYPE_CD',\n",
    "    'null': ['',-1],\n",
    "    'universe':all_mes},\n",
    "    {'data_element': 'GME Year in Program',\n",
    "     'element':'PROG_YEAR',\n",
    "    'null': ['',-1],\n",
    "    'universe':all_mes},\n",
    "    {'data_element': 'GME Post Grad Year',\n",
    "     'element':'PROG_GRAD_YR',\n",
    "    'null': ['',-1],\n",
    "    'universe':all_mes}\n",
    "]\n",
    "dict_list = []\n",
    "for typo in types:\n",
    "    total = len(ALL[ALL.type==typo])\n",
    "    for element in elements:\n",
    "        universe = len(ALL[(ALL.type==typo)&(ALL.ME.isin(element['universe']))])\n",
    "        complete = len(ALL[(ALL.type==typo)&~(ALL[element['element']].isna())&(ALL.ME.isin(element['universe']))])\n",
    "        true_complete = len(ALL[(ALL.type==typo)&~(ALL[element['element']].isin(element['null']))&~(ALL[element['element']].isna())&(ALL.ME.isin(element['universe']))])\n",
    "        new_dict = {\n",
    "            'Universe': typo,\n",
    "            'Data Element': element['data_element'],\n",
    "            'Complete': complete,\n",
    "            'Complete and Known': true_complete,\n",
    "            'Universe Total': universe,\n",
    "            'Date': today,\n",
    "            'Measure':'Completeness'\n",
    "        }\n",
    "        dict_list.append(new_dict)"
   ]
  },
  {
   "cell_type": "code",
   "execution_count": 24,
   "metadata": {},
   "outputs": [],
   "source": [
    "pd.DataFrame(dict_list).to_csv(f'../../Data/Measurement/Education_Completeness_{str(datetime.date.today())}.csv', index=False)"
   ]
  },
  {
   "cell_type": "code",
   "execution_count": null,
   "metadata": {},
   "outputs": [],
   "source": [
    "datetime.datetime.strptime(today, '%Y-%m-%d')"
   ]
  },
  {
   "cell_type": "code",
   "execution_count": 25,
   "metadata": {},
   "outputs": [],
   "source": [
    "import math\n",
    "def coin_reward(minutes):\n",
    "    x = 4+ 0.2*minutes + 5*(minutes-30)/30\n",
    "    return math.floor(x)"
   ]
  },
  {
   "cell_type": "code",
   "execution_count": null,
   "metadata": {},
   "outputs": [],
   "source": []
  }
 ],
 "metadata": {
  "kernelspec": {
   "display_name": "Python 3",
   "language": "python",
   "name": "python3"
  },
  "language_info": {
   "codemirror_mode": {
    "name": "ipython",
    "version": 3
   },
   "file_extension": ".py",
   "mimetype": "text/x-python",
   "name": "python",
   "nbconvert_exporter": "python",
   "pygments_lexer": "ipython3",
   "version": "3.7.4"
  }
 },
 "nbformat": 4,
 "nbformat_minor": 2
}
