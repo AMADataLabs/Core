{
 "cells": [
  {
   "cell_type": "code",
   "execution_count": 1,
   "metadata": {},
   "outputs": [],
   "source": [
    "import pandas as pd\n",
    "import numpy as np"
   ]
  },
  {
   "cell_type": "code",
   "execution_count": 12,
   "metadata": {},
   "outputs": [],
   "source": [
    "from tqdm.notebook import tqdm\n",
    "tqdm.pandas()"
   ]
  },
  {
   "cell_type": "code",
   "execution_count": 3,
   "metadata": {},
   "outputs": [
    {
     "name": "stderr",
     "output_type": "stream",
     "text": [
      "C:\\Users\\vigrose\\AppData\\Local\\Continuum\\anaconda3\\lib\\site-packages\\ipykernel_launcher.py:5: SettingWithCopyWarning: \n",
      "A value is trying to be set on a copy of a slice from a DataFrame.\n",
      "Try using .loc[row_indexer,col_indexer] = value instead\n",
      "\n",
      "See the caveats in the documentation: http://pandas.pydata.org/pandas-docs/stable/user_guide/indexing.html#returning-a-view-versus-a-copy\n",
      "  \"\"\"\n",
      "C:\\Users\\vigrose\\AppData\\Local\\Continuum\\anaconda3\\lib\\site-packages\\ipykernel_launcher.py:6: SettingWithCopyWarning: \n",
      "A value is trying to be set on a copy of a slice from a DataFrame.\n",
      "Try using .loc[row_indexer,col_indexer] = value instead\n",
      "\n",
      "See the caveats in the documentation: http://pandas.pydata.org/pandas-docs/stable/user_guide/indexing.html#returning-a-view-versus-a-copy\n",
      "  \n"
     ]
    }
   ],
   "source": [
    "contacts = pd.read_csv('../../Data/Martketing/SFMC_DataLabs_VALID_FlatFile_20220408.csv',dtype = 'str', low_memory=False)\n",
    "\n",
    "duplicated = contacts[contacts.duplicated('BEST_EMAIL') | contacts.duplicated('BEST_EMAIL', keep='last')]\n",
    "\n",
    "duplicated['NAME'] = duplicated['NAME'].fillna('')\n",
    "duplicated['ALL_OPEN_RATE'] = duplicated['ALL_OPEN_RATE'].replace('0', np.nan, regex=True)\n",
    "duplicated_sorted = duplicated.sort_values(by=['BEST_EMAIL'])"
   ]
  },
  {
   "cell_type": "code",
   "execution_count": 4,
   "metadata": {},
   "outputs": [],
   "source": [
    "sample = duplicated_sorted[:2000]"
   ]
  },
  {
   "cell_type": "code",
   "execution_count": 13,
   "metadata": {},
   "outputs": [
    {
     "data": {
      "application/vnd.jupyter.widget-view+json": {
       "model_id": "d93d14daf1c5467b8493f05f72b415b2",
       "version_major": 2,
       "version_minor": 0
      },
      "text/plain": [
       "HBox(children=(IntProgress(value=1, bar_style='info', max=1), HTML(value='')))"
      ]
     },
     "metadata": {},
     "output_type": "display_data"
    },
    {
     "name": "stderr",
     "output_type": "stream",
     "text": [
      "C:\\Users\\vigrose\\AppData\\Local\\Continuum\\anaconda3\\lib\\site-packages\\ipykernel_launcher.py:21: SettingWithCopyWarning: \n",
      "A value is trying to be set on a copy of a slice from a DataFrame.\n",
      "Try using .loc[row_indexer,col_indexer] = value instead\n",
      "\n",
      "See the caveats in the documentation: http://pandas.pydata.org/pandas-docs/stable/user_guide/indexing.html#returning-a-view-versus-a-copy\n",
      "C:\\Users\\vigrose\\AppData\\Local\\Continuum\\anaconda3\\lib\\site-packages\\ipykernel_launcher.py:22: SettingWithCopyWarning: \n",
      "A value is trying to be set on a copy of a slice from a DataFrame\n",
      "\n",
      "See the caveats in the documentation: http://pandas.pydata.org/pandas-docs/stable/user_guide/indexing.html#returning-a-view-versus-a-copy\n",
      "C:\\Users\\vigrose\\AppData\\Local\\Continuum\\anaconda3\\lib\\site-packages\\ipykernel_launcher.py:15: SettingWithCopyWarning: \n",
      "A value is trying to be set on a copy of a slice from a DataFrame\n",
      "\n",
      "See the caveats in the documentation: http://pandas.pydata.org/pandas-docs/stable/user_guide/indexing.html#returning-a-view-versus-a-copy\n",
      "  from ipykernel import kernelapp as app\n",
      "C:\\Users\\vigrose\\AppData\\Local\\Continuum\\anaconda3\\lib\\site-packages\\ipykernel_launcher.py:18: SettingWithCopyWarning: \n",
      "A value is trying to be set on a copy of a slice from a DataFrame\n",
      "\n",
      "See the caveats in the documentation: http://pandas.pydata.org/pandas-docs/stable/user_guide/indexing.html#returning-a-view-versus-a-copy\n"
     ]
    },
    {
     "name": "stdout",
     "output_type": "stream",
     "text": [
      "\n"
     ]
    }
   ],
   "source": [
    "columns = duplicated.columns\n",
    "new_df = pd.DataFrame(columns = columns)\n",
    "\n",
    "count= 0\n",
    "name_sort = 0\n",
    "date_sort = 0\n",
    "rate_sort = 0\n",
    "\n",
    "for index, row in tqdm(sample.iterrows()):\n",
    "    count+=1\n",
    "    if ~(new_df['BEST_EMAIL'].str.contains(row['BEST_EMAIL']).any()):\n",
    "        row_data = duplicated_sorted[duplicated_sorted['BEST_EMAIL'] == row['BEST_EMAIL']]\n",
    "        if row_data['ALL_LASTODATE'].isnull().all():            \n",
    "            if row_data['ALL_OPEN_RATE'].isnull().all():\n",
    "                row_data.sort_values('NAME', ascending=False, inplace=True)\n",
    "                name_sort+=1\n",
    "            elif ~row_data['ALL_OPEN_RATE'].isnull().all():\n",
    "                row_data.sort_values('ALL_OPEN_RATE', ascending=False, inplace=True)\n",
    "                rate_sort+=1\n",
    "        elif ~row_data['ALL_LASTODATE'].isnull().all():\n",
    "            row_data['ALL_LASTODATE'] = pd.to_datetime(row_data['ALL_LASTODATE'])\n",
    "            row_data.sort_values('ALL_LASTODATE', ascending=False, inplace=True)\n",
    "            date_sort+=1\n",
    "        new_df.loc[len(new_df.index)] = row "
   ]
  },
  {
   "cell_type": "code",
   "execution_count": 14,
   "metadata": {},
   "outputs": [
    {
     "name": "stderr",
     "output_type": "stream",
     "text": [
      "C:\\Users\\vigrose\\AppData\\Local\\Continuum\\anaconda3\\lib\\site-packages\\ipykernel_launcher.py:2: SettingWithCopyWarning: \n",
      "A value is trying to be set on a copy of a slice from a DataFrame.\n",
      "Try using .loc[row_indexer,col_indexer] = value instead\n",
      "\n",
      "See the caveats in the documentation: http://pandas.pydata.org/pandas-docs/stable/user_guide/indexing.html#returning-a-view-versus-a-copy\n",
      "  \n"
     ]
    }
   ],
   "source": [
    "duplicated_sorted['ALL_LASTODATE'] = pd.to_datetime(duplicated_sorted['ALL_LASTODATE'])\n",
    "sample['ALL_LASTODATE'] = pd.to_datetime(sample['ALL_LASTODATE'])"
   ]
  },
  {
   "cell_type": "code",
   "execution_count": 15,
   "metadata": {},
   "outputs": [
    {
     "data": {
      "application/vnd.jupyter.widget-view+json": {
       "model_id": "fa37b3490113470c86011080f13955c1",
       "version_major": 2,
       "version_minor": 0
      },
      "text/plain": [
       "HBox(children=(IntProgress(value=1, bar_style='info', max=1), HTML(value='')))"
      ]
     },
     "metadata": {},
     "output_type": "display_data"
    },
    {
     "name": "stderr",
     "output_type": "stream",
     "text": [
      "C:\\Users\\vigrose\\AppData\\Local\\Continuum\\anaconda3\\lib\\site-packages\\ipykernel_launcher.py:32: SettingWithCopyWarning: \n",
      "A value is trying to be set on a copy of a slice from a DataFrame\n",
      "\n",
      "See the caveats in the documentation: http://pandas.pydata.org/pandas-docs/stable/user_guide/indexing.html#returning-a-view-versus-a-copy\n",
      "C:\\Users\\vigrose\\AppData\\Local\\Continuum\\anaconda3\\lib\\site-packages\\ipykernel_launcher.py:20: SettingWithCopyWarning: \n",
      "A value is trying to be set on a copy of a slice from a DataFrame\n",
      "\n",
      "See the caveats in the documentation: http://pandas.pydata.org/pandas-docs/stable/user_guide/indexing.html#returning-a-view-versus-a-copy\n",
      "C:\\Users\\vigrose\\AppData\\Local\\Continuum\\anaconda3\\lib\\site-packages\\ipykernel_launcher.py:26: SettingWithCopyWarning: \n",
      "A value is trying to be set on a copy of a slice from a DataFrame\n",
      "\n",
      "See the caveats in the documentation: http://pandas.pydata.org/pandas-docs/stable/user_guide/indexing.html#returning-a-view-versus-a-copy\n"
     ]
    },
    {
     "name": "stdout",
     "output_type": "stream",
     "text": [
      "\n"
     ]
    }
   ],
   "source": [
    "columns = duplicated.columns\n",
    "new_df = pd.DataFrame(columns = columns)\n",
    "#empty dataframe\n",
    "count= 0\n",
    "name_sort = 0\n",
    "date_sort = 0\n",
    "rate_sort = 0\n",
    "\n",
    "for index, row in tqdm(sample.iterrows()):\n",
    "    #iterate through duplicated\n",
    "    count+=1\n",
    "    if ~(new_df['BEST_EMAIL'].str.contains(row['BEST_EMAIL']).any()):\n",
    "        #if the best email has not been added to the new df yet\n",
    "        row_data = duplicated_sorted[duplicated_sorted['BEST_EMAIL'] == row['BEST_EMAIL']]\n",
    "        #get all of the rows where best is email is this email\n",
    "        if row_data['ALL_LASTODATE'].isnull().all(): \n",
    "            #if all rows have null LASTTODATEs\n",
    "            if row_data['ALL_OPEN_RATE'].isnull().all():\n",
    "            #if all rows have null ALL_OPEN_RATE\n",
    "                row_data.sort_values('NAME', ascending=False, inplace=True)\n",
    "                #sort by name\n",
    "                name_sort+=1\n",
    "                #count name sort\n",
    "            else:\n",
    "            #else if ALL_OPEN_RATE not all null\n",
    "                row_data.sort_values('ALL_OPEN_RATE', ascending=False, inplace=True)\n",
    "                #sort by rate\n",
    "                rate_sort+=1\n",
    "                #count rate sort\n",
    "        else:\n",
    "            #else if ALL_LASTTODATE is not all null\n",
    "            row_data.sort_values('ALL_LASTODATE', ascending=False, inplace=True)\n",
    "            #sort by ALL_LASTTODATE\n",
    "            date_sort+=1\n",
    "            #count date sort\n",
    "        new_df.loc[len(new_df.index)] = row \n",
    "        #add row to new_df"
   ]
  },
  {
   "cell_type": "code",
   "execution_count": 16,
   "metadata": {},
   "outputs": [
    {
     "data": {
      "application/vnd.jupyter.widget-view+json": {
       "model_id": "b860c4b779984586bca25c2f94decf39",
       "version_major": 2,
       "version_minor": 0
      },
      "text/plain": [
       "HBox(children=(IntProgress(value=1, bar_style='info', max=1), HTML(value='')))"
      ]
     },
     "metadata": {},
     "output_type": "display_data"
    },
    {
     "name": "stderr",
     "output_type": "stream",
     "text": [
      "C:\\Users\\vigrose\\AppData\\Local\\Continuum\\anaconda3\\lib\\site-packages\\ipykernel_launcher.py:30: SettingWithCopyWarning: \n",
      "A value is trying to be set on a copy of a slice from a DataFrame\n",
      "\n",
      "See the caveats in the documentation: http://pandas.pydata.org/pandas-docs/stable/user_guide/indexing.html#returning-a-view-versus-a-copy\n",
      "C:\\Users\\vigrose\\AppData\\Local\\Continuum\\anaconda3\\lib\\site-packages\\ipykernel_launcher.py:18: SettingWithCopyWarning: \n",
      "A value is trying to be set on a copy of a slice from a DataFrame\n",
      "\n",
      "See the caveats in the documentation: http://pandas.pydata.org/pandas-docs/stable/user_guide/indexing.html#returning-a-view-versus-a-copy\n",
      "C:\\Users\\vigrose\\AppData\\Local\\Continuum\\anaconda3\\lib\\site-packages\\ipykernel_launcher.py:24: SettingWithCopyWarning: \n",
      "A value is trying to be set on a copy of a slice from a DataFrame\n",
      "\n",
      "See the caveats in the documentation: http://pandas.pydata.org/pandas-docs/stable/user_guide/indexing.html#returning-a-view-versus-a-copy\n"
     ]
    },
    {
     "name": "stdout",
     "output_type": "stream",
     "text": [
      "\n"
     ]
    }
   ],
   "source": [
    "count= 0\n",
    "name_sort = 0\n",
    "date_sort = 0\n",
    "rate_sort = 0\n",
    "best_emails = []\n",
    "tuple_list = []\n",
    "for row in tqdm(sample.itertuples()):\n",
    "    #iterate through duplicated\n",
    "    count+=1\n",
    "    if ~(row.BEST_EMAIL in best_emails):\n",
    "        #if the best email has not been added to the new df yet\n",
    "        row_data = duplicated_sorted[duplicated_sorted['BEST_EMAIL'] == row.BEST_EMAIL]\n",
    "        #get all of the rows where best is email is this email\n",
    "        if row_data['ALL_LASTODATE'].isnull().all(): \n",
    "            #if all rows have null LASTTODATEs\n",
    "            if row_data['ALL_OPEN_RATE'].isnull().all():\n",
    "            #if all rows have null ALL_OPEN_RATE\n",
    "                row_data.sort_values('NAME', ascending=False, inplace=True)\n",
    "                #sort by name\n",
    "                name_sort+=1\n",
    "                #count name sort\n",
    "            else:\n",
    "            #else if ALL_OPEN_RATE not all null\n",
    "                row_data.sort_values('ALL_OPEN_RATE', ascending=False, inplace=True)\n",
    "                #sort by rate\n",
    "                rate_sort+=1\n",
    "                #count rate sort\n",
    "        else:\n",
    "            #else if ALL_LASTTODATE is not all null\n",
    "            row_data.sort_values('ALL_LASTODATE', ascending=False, inplace=True)\n",
    "            #sort by ALL_LASTTODATE\n",
    "            date_sort+=1\n",
    "            #count date sort\n",
    "        tuple_list.append(row) \n",
    "        best_emails.append(row.BEST_EMAIL)\n",
    "        #add row to df"
   ]
  },
  {
   "cell_type": "code",
   "execution_count": 17,
   "metadata": {},
   "outputs": [],
   "source": [
    "duplicated_dict = duplicated_sorted.to_dict('records')"
   ]
  },
  {
   "cell_type": "code",
   "execution_count": 21,
   "metadata": {},
   "outputs": [
    {
     "data": {
      "application/vnd.jupyter.widget-view+json": {
       "model_id": "f066cd0b1a284670b18f270e8b5fc084",
       "version_major": 2,
       "version_minor": 0
      },
      "text/plain": [
       "HBox(children=(IntProgress(value=0, max=2000), HTML(value='')))"
      ]
     },
     "metadata": {},
     "output_type": "display_data"
    },
    {
     "name": "stderr",
     "output_type": "stream",
     "text": [
      "C:\\Users\\vigrose\\AppData\\Local\\Continuum\\anaconda3\\lib\\site-packages\\ipykernel_launcher.py:30: SettingWithCopyWarning: \n",
      "A value is trying to be set on a copy of a slice from a DataFrame\n",
      "\n",
      "See the caveats in the documentation: http://pandas.pydata.org/pandas-docs/stable/user_guide/indexing.html#returning-a-view-versus-a-copy\n",
      "C:\\Users\\vigrose\\AppData\\Local\\Continuum\\anaconda3\\lib\\site-packages\\ipykernel_launcher.py:18: SettingWithCopyWarning: \n",
      "A value is trying to be set on a copy of a slice from a DataFrame\n",
      "\n",
      "See the caveats in the documentation: http://pandas.pydata.org/pandas-docs/stable/user_guide/indexing.html#returning-a-view-versus-a-copy\n",
      "C:\\Users\\vigrose\\AppData\\Local\\Continuum\\anaconda3\\lib\\site-packages\\ipykernel_launcher.py:24: SettingWithCopyWarning: \n",
      "A value is trying to be set on a copy of a slice from a DataFrame\n",
      "\n",
      "See the caveats in the documentation: http://pandas.pydata.org/pandas-docs/stable/user_guide/indexing.html#returning-a-view-versus-a-copy\n"
     ]
    },
    {
     "name": "stdout",
     "output_type": "stream",
     "text": [
      "\n"
     ]
    }
   ],
   "source": [
    "count= 0\n",
    "name_sort = 0\n",
    "date_sort = 0\n",
    "rate_sort = 0\n",
    "best_emails = []\n",
    "dict_list = []\n",
    "for row in tqdm(duplicated_dict):\n",
    "    #iterate through duplicated\n",
    "    count+=1\n",
    "    if ~(row['BEST_EMAIL'] in best_emails):\n",
    "        #if the best email has not been added to the new df yet\n",
    "        row_data = duplicated_sorted[duplicated_sorted['BEST_EMAIL'] == row['BEST_EMAIL']]\n",
    "        #get all of the rows where best is email is this email\n",
    "        if row_data['ALL_LASTODATE'].isnull().all(): \n",
    "            #if all rows have null LASTTODATEs\n",
    "            if row_data['ALL_OPEN_RATE'].isnull().all():\n",
    "            #if all rows have null ALL_OPEN_RATE\n",
    "                row_data.sort_values('NAME', ascending=False, inplace=True)\n",
    "                #sort by name\n",
    "                name_sort+=1\n",
    "                #count name sort\n",
    "            else:\n",
    "            #else if ALL_OPEN_RATE not all null\n",
    "                row_data.sort_values('ALL_OPEN_RATE', ascending=False, inplace=True)\n",
    "                #sort by rate\n",
    "                rate_sort+=1\n",
    "                #count rate sort\n",
    "        else:\n",
    "            #else if ALL_LASTTODATE is not all null\n",
    "            row_data.sort_values('ALL_LASTODATE', ascending=False, inplace=True)\n",
    "            #sort by ALL_LASTTODATE\n",
    "            date_sort+=1\n",
    "            #count date sort\n",
    "        dict_list.append(row) \n",
    "        best_emails.append(row['BEST_EMAIL'])\n",
    "        #add row to df"
   ]
  },
  {
   "cell_type": "code",
   "execution_count": 20,
   "metadata": {},
   "outputs": [
    {
     "data": {
      "application/vnd.jupyter.widget-view+json": {
       "model_id": "9ac9d9f9319a444ca30aa917d02baa69",
       "version_major": 2,
       "version_minor": 0
      },
      "text/plain": [
       "HBox(children=(IntProgress(value=0, max=2000), HTML(value='')))"
      ]
     },
     "metadata": {},
     "output_type": "display_data"
    },
    {
     "name": "stdout",
     "output_type": "stream",
     "text": [
      "\n"
     ]
    }
   ],
   "source": [
    "count= 0\n",
    "name_sort = 0\n",
    "date_sort = 0\n",
    "rate_sort = 0\n",
    "best_emails = []\n",
    "dict_list = []\n",
    "for row in tqdm(duplicated_dict):\n",
    "    #iterate through duplicated\n",
    "    count+=1\n",
    "    if ~(row['BEST_EMAIL'] in best_emails):\n",
    "        #if the best email has not been added to the new df yet\n",
    "        row_data = duplicated_sorted[duplicated_sorted['BEST_EMAIL'] == row['BEST_EMAIL']].copy()\n",
    "        #get all of the rows where best is email is this email\n",
    "        if row_data['ALL_LASTODATE'].isnull().all(): \n",
    "            #if all rows have null LASTTODATEs\n",
    "            if row_data['ALL_OPEN_RATE'].isnull().all():\n",
    "            #if all rows have null ALL_OPEN_RATE\n",
    "                row_data.sort_values('NAME', ascending=False, inplace=True)\n",
    "                #sort by name\n",
    "                name_sort+=1\n",
    "                #count name sort\n",
    "            else:\n",
    "            #else if ALL_OPEN_RATE not all null\n",
    "                row_data.sort_values('ALL_OPEN_RATE', ascending=False, inplace=True)\n",
    "                #sort by rate\n",
    "                rate_sort+=1\n",
    "                #count rate sort\n",
    "        else:\n",
    "            #else if ALL_LASTTODATE is not all null\n",
    "            row_data.sort_values('ALL_LASTODATE', ascending=False, inplace=True)\n",
    "            #sort by ALL_LASTTODATE\n",
    "            date_sort+=1\n",
    "            #count date sort\n",
    "        dict_list.append(row) \n",
    "        best_emails.append(row['BEST_EMAIL'])\n",
    "        #add row to df"
   ]
  },
  {
   "cell_type": "code",
   "execution_count": 25,
   "metadata": {},
   "outputs": [
    {
     "data": {
      "application/vnd.jupyter.widget-view+json": {
       "model_id": "2185bebd247e4d6bbe561b30e125df98",
       "version_major": 2,
       "version_minor": 0
      },
      "text/plain": [
       "HBox(children=(IntProgress(value=0, max=2000), HTML(value='')))"
      ]
     },
     "metadata": {},
     "output_type": "display_data"
    },
    {
     "name": "stdout",
     "output_type": "stream",
     "text": [
      "\n"
     ]
    }
   ],
   "source": [
    "count= 0\n",
    "name_sort = 0\n",
    "date_sort = 0\n",
    "rate_sort = 0\n",
    "best_emails = []\n",
    "dict_list = []\n",
    "for row in tqdm(duplicated_dict):\n",
    "    #iterate through duplicated\n",
    "    count+=1\n",
    "    if row['BEST_EMAIL'] not in best_emails:\n",
    "        #if the best email has not been added to the new df yet\n",
    "        row_data = duplicated_sorted[duplicated_sorted['BEST_EMAIL'] == row['BEST_EMAIL']].copy()\n",
    "        #get all of the rows where best is email is this email\n",
    "        if row_data['ALL_LASTODATE'].isnull().all(): \n",
    "            #if all rows have null LASTTODATEs\n",
    "            if row_data['ALL_OPEN_RATE'].isnull().all():\n",
    "            #if all rows have null ALL_OPEN_RATE\n",
    "                row_data.sort_values('NAME', ascending=False, inplace=True)\n",
    "                #sort by name\n",
    "                name_sort+=1\n",
    "                #count name sort\n",
    "            else:\n",
    "            #else if ALL_OPEN_RATE not all null\n",
    "                row_data.sort_values('ALL_OPEN_RATE', ascending=False, inplace=True)\n",
    "                #sort by rate\n",
    "                rate_sort+=1\n",
    "                #count rate sort\n",
    "        else:\n",
    "            #else if ALL_LASTTODATE is not all null\n",
    "            row_data.sort_values('ALL_LASTODATE', ascending=False, inplace=True)\n",
    "            #sort by ALL_LASTTODATE\n",
    "            date_sort+=1\n",
    "            #count date sort\n",
    "        dict_list.append(row) \n",
    "        best_emails.append(row['BEST_EMAIL'])\n",
    "        #add row to df"
   ]
  },
  {
   "cell_type": "code",
   "execution_count": 26,
   "metadata": {},
   "outputs": [],
   "source": [
    "duplicated_dict_2 = duplicated_sorted.to_dict('records')"
   ]
  },
  {
   "cell_type": "code",
   "execution_count": 27,
   "metadata": {},
   "outputs": [
    {
     "data": {
      "application/vnd.jupyter.widget-view+json": {
       "model_id": "abf15d74e5094b17b289b760039b317d",
       "version_major": 2,
       "version_minor": 0
      },
      "text/plain": [
       "HBox(children=(IntProgress(value=0, max=200067), HTML(value='')))"
      ]
     },
     "metadata": {},
     "output_type": "display_data"
    },
    {
     "name": "stdout",
     "output_type": "stream",
     "text": [
      "\n"
     ]
    }
   ],
   "source": [
    "duplicated_dict_2 = duplicated_sorted.to_dict('records')\n",
    "\n",
    "count= 0\n",
    "name_sort = 0\n",
    "date_sort = 0\n",
    "rate_sort = 0\n",
    "best_emails = []\n",
    "dict_list = []\n",
    "for row in duplicated_dict_2:\n",
    "    count+=1\n",
    "    if row['BEST_EMAIL'] not in best_emails:\n",
    "        row_data = duplicated_sorted[duplicated_sorted['BEST_EMAIL'] == row['BEST_EMAIL']].copy()\n",
    "        if row_data['ALL_LASTODATE'].isnull().all(): \n",
    "            if row_data['ALL_OPEN_RATE'].isnull().all():\n",
    "                row_data.sort_values('NAME', ascending=False, inplace=True)\n",
    "                name_sort+=1\n",
    "            else:\n",
    "                row_data.sort_values('ALL_OPEN_RATE', ascending=False, inplace=True)\n",
    "                rate_sort+=1\n",
    "        else:\n",
    "            row_data.sort_values('ALL_LASTODATE', ascending=False, inplace=True)\n",
    "            date_sort+=1\n",
    "        dict_list.append(row_data[0]) \n",
    "        best_emails.append(row['BEST_EMAIL'])"
   ]
  },
  {
   "cell_type": "code",
   "execution_count": 34,
   "metadata": {},
   "outputs": [],
   "source": [
    "duplicated_dict = duplicated_sorted.to_dict('records')\n",
    "\n",
    "count= 0\n",
    "name_sort = 0\n",
    "date_sort = 0\n",
    "rate_sort = 0\n",
    "best_emails = []\n",
    "dict_list = []\n",
    "\n",
    "for row in duplicated_dict:\n",
    "    count+=1\n",
    "    if row['BEST_EMAIL'] not in best_emails:\n",
    "        row_data = duplicated_sorted[duplicated_sorted['BEST_EMAIL'] == row['BEST_EMAIL']].copy()\n",
    "        if row_data['ALL_LASTODATE'].isnull().all(): \n",
    "            if row_data['ALL_OPEN_RATE'].isnull().all():\n",
    "                row_data.sort_values('NAME', ascending=False, inplace=True)\n",
    "                name_sort+=1\n",
    "            else:\n",
    "                row_data.sort_values('ALL_OPEN_RATE', ascending=False, inplace=True)\n",
    "                rate_sort+=1\n",
    "        else:\n",
    "            row_data.sort_values('ALL_LASTODATE', ascending=False, inplace=True)\n",
    "            date_sort+=1\n",
    "        dict_list.append(row_data.iloc[0]) \n",
    "        best_emails.append(row['BEST_EMAIL'])\n",
    "new_df = pd.DataFrame(dict_list)"
   ]
  },
  {
   "cell_type": "code",
   "execution_count": 35,
   "metadata": {},
   "outputs": [
    {
     "data": {
      "text/plain": [
       "[RECSEQ                0000242459\n",
       " HSContact_ID     vTMInkSicSyVqkI\n",
       " EMPPID                0004567304\n",
       " BUSPID                0000125067\n",
       " NAME                STEVEN EAGLE\n",
       "                       ...       \n",
       " EM_ORIGODATE                 NaN\n",
       " ALL_PROD1                   COD#\n",
       " ALL_PROD2                   CPT#\n",
       " ALL_ORG_PROD1             Coding\n",
       " ALL_ORG_PROD2                CPT\n",
       " Name: 141914, Length: 156, dtype: object,\n",
       " RECSEQ                      0000481865\n",
       " HSContact_ID           aL3q4KowAXpkx5d\n",
       " EMPPID                      0009130167\n",
       " BUSPID                      0000094759\n",
       " NAME                     ALISON BOLTON\n",
       "                          ...          \n",
       " EM_ORIGODATE                       NaN\n",
       " ALL_PROD1                         COD#\n",
       " ALL_PROD2        ICD10#CPT#HCPCS#ICD9#\n",
       " ALL_ORG_PROD1                   Coding\n",
       " ALL_ORG_PROD2                    ICD 9\n",
       " Name: 288548, Length: 156, dtype: object,\n",
       " RECSEQ                0000409980\n",
       " HSContact_ID     BgBx9Fu96kYM2tw\n",
       " EMPPID                0006478761\n",
       " BUSPID                0000173700\n",
       " NAME                   SARA BEHM\n",
       "                       ...       \n",
       " EM_ORIGODATE                 NaN\n",
       " ALL_PROD1                   COD#\n",
       " ALL_PROD2                  ICD9#\n",
       " ALL_ORG_PROD1             Coding\n",
       " ALL_ORG_PROD2              ICD 9\n",
       " Name: 226332, Length: 156, dtype: object]"
      ]
     },
     "execution_count": 35,
     "metadata": {},
     "output_type": "execute_result"
    }
   ],
   "source": [
    "dict_list_2"
   ]
  },
  {
   "cell_type": "code",
   "execution_count": null,
   "metadata": {},
   "outputs": [],
   "source": []
  }
 ],
 "metadata": {
  "kernelspec": {
   "display_name": "Python 3",
   "language": "python",
   "name": "python3"
  },
  "language_info": {
   "codemirror_mode": {
    "name": "ipython",
    "version": 3
   },
   "file_extension": ".py",
   "mimetype": "text/x-python",
   "name": "python",
   "nbconvert_exporter": "python",
   "pygments_lexer": "ipython3",
   "version": "3.7.4"
  }
 },
 "nbformat": 4,
 "nbformat_minor": 2
}
