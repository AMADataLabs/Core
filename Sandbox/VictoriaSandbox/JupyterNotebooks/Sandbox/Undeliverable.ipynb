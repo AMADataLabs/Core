{
 "cells": [
  {
   "cell_type": "code",
   "execution_count": 1,
   "metadata": {},
   "outputs": [],
   "source": [
    "import pandas as pd\n",
    "import pyodbc\n",
    "import pgeocode\n",
    "import useful_functions as use"
   ]
  },
  {
   "cell_type": "code",
   "execution_count": 2,
   "metadata": {},
   "outputs": [],
   "source": [
    "username = 'vigrose'\n",
    "password_edw = 'Hufflepuff~10946'\n",
    "w = \"DSN=PRDDW; UID={}; PWD={}\".format(username, password_edw)\n",
    "AMAEDW = pyodbc.connect(w)\n",
    "password_aims = 'DQA8K@T7pXEqEt'\n",
    "s = \"DSN=aims_prod; UID={}; PWD={}\".format(username, password_aims)\n",
    "informix = pyodbc.connect(s)"
   ]
  },
  {
   "cell_type": "code",
   "execution_count": 3,
   "metadata": {},
   "outputs": [
    {
     "name": "stderr",
     "output_type": "stream",
     "text": [
      "C:\\Users\\vigrose\\AppData\\Local\\Continuum\\anaconda3\\lib\\site-packages\\IPython\\core\\interactiveshell.py:3058: DtypeWarning: Columns (17,18,24,25,57,64,65,82) have mixed types. Specify dtype option on import or set low_memory=False.\n",
      "  interactivity=interactivity, compiler=compiler, result=result)\n"
     ]
    }
   ],
   "source": [
    "ppd = pd.read_csv('../../Data/PPD/ppd_analysis_file.csv')"
   ]
  },
  {
   "cell_type": "code",
   "execution_count": 21,
   "metadata": {},
   "outputs": [],
   "source": [
    "ppd['ME'] = use.fix_me(ppd.ME)\n",
    "ppd['IQVIA_ME'] = [x[0:10] for x in use.fix_me(ppd.ME)]"
   ]
  },
  {
   "cell_type": "code",
   "execution_count": 4,
   "metadata": {},
   "outputs": [],
   "source": [
    "#address undeliverable\n",
    "#AIMS.ENTITY_COMM_EXC_CT\n",
    "UNDELIVERABLE_QUERY = \\\n",
    "    f'''\n",
    "    SELECT\n",
    "    ENTITY_ID,\n",
    "    COMM_ID,\n",
    "    COMM_EXC_CAT_CODE\n",
    "    FROM\n",
    "    informix.ENTITY_COMM_EXC_CT\n",
    "    WHERE\n",
    "    END_DT IS NULL\n",
    "    ;\n",
    "    '''\n",
    "undeliverable = pd.read_sql(con=informix, sql=UNDELIVERABLE_QUERY)"
   ]
  },
  {
   "cell_type": "code",
   "execution_count": 5,
   "metadata": {},
   "outputs": [
    {
     "data": {
      "text/html": [
       "<div>\n",
       "<style scoped>\n",
       "    .dataframe tbody tr th:only-of-type {\n",
       "        vertical-align: middle;\n",
       "    }\n",
       "\n",
       "    .dataframe tbody tr th {\n",
       "        vertical-align: top;\n",
       "    }\n",
       "\n",
       "    .dataframe thead th {\n",
       "        text-align: right;\n",
       "    }\n",
       "</style>\n",
       "<table border=\"1\" class=\"dataframe\">\n",
       "  <thead>\n",
       "    <tr style=\"text-align: right;\">\n",
       "      <th></th>\n",
       "      <th>entity_id</th>\n",
       "      <th>comm_id</th>\n",
       "      <th>comm_exc_cat_code</th>\n",
       "    </tr>\n",
       "  </thead>\n",
       "  <tbody>\n",
       "    <tr>\n",
       "      <td>0</td>\n",
       "      <td>1241457</td>\n",
       "      <td>713984</td>\n",
       "      <td>UNDELIVER</td>\n",
       "    </tr>\n",
       "    <tr>\n",
       "      <td>1</td>\n",
       "      <td>1262400</td>\n",
       "      <td>720902</td>\n",
       "      <td>UNDELIVER</td>\n",
       "    </tr>\n",
       "    <tr>\n",
       "      <td>2</td>\n",
       "      <td>1342532</td>\n",
       "      <td>751866</td>\n",
       "      <td>UNDELIVER</td>\n",
       "    </tr>\n",
       "    <tr>\n",
       "      <td>3</td>\n",
       "      <td>1344430</td>\n",
       "      <td>752642</td>\n",
       "      <td>UNDELIVER</td>\n",
       "    </tr>\n",
       "    <tr>\n",
       "      <td>4</td>\n",
       "      <td>1346250</td>\n",
       "      <td>753452</td>\n",
       "      <td>UNDELIVER</td>\n",
       "    </tr>\n",
       "    <tr>\n",
       "      <td>...</td>\n",
       "      <td>...</td>\n",
       "      <td>...</td>\n",
       "      <td>...</td>\n",
       "    </tr>\n",
       "    <tr>\n",
       "      <td>266191</td>\n",
       "      <td>45543273</td>\n",
       "      <td>28541296</td>\n",
       "      <td>NO-AMA-SMS</td>\n",
       "    </tr>\n",
       "    <tr>\n",
       "      <td>266192</td>\n",
       "      <td>62977785</td>\n",
       "      <td>28541313</td>\n",
       "      <td>NO-AMA-SMS</td>\n",
       "    </tr>\n",
       "    <tr>\n",
       "      <td>266193</td>\n",
       "      <td>71300879</td>\n",
       "      <td>28541355</td>\n",
       "      <td>USRESEMAIL</td>\n",
       "    </tr>\n",
       "    <tr>\n",
       "      <td>266194</td>\n",
       "      <td>57324914</td>\n",
       "      <td>28532504</td>\n",
       "      <td>UNDELIVER</td>\n",
       "    </tr>\n",
       "    <tr>\n",
       "      <td>266195</td>\n",
       "      <td>68693846</td>\n",
       "      <td>26455412</td>\n",
       "      <td>USRESEMAIL</td>\n",
       "    </tr>\n",
       "  </tbody>\n",
       "</table>\n",
       "<p>266196 rows × 3 columns</p>\n",
       "</div>"
      ],
      "text/plain": [
       "        entity_id   comm_id comm_exc_cat_code\n",
       "0         1241457    713984        UNDELIVER \n",
       "1         1262400    720902        UNDELIVER \n",
       "2         1342532    751866        UNDELIVER \n",
       "3         1344430    752642        UNDELIVER \n",
       "4         1346250    753452        UNDELIVER \n",
       "...           ...       ...               ...\n",
       "266191   45543273  28541296        NO-AMA-SMS\n",
       "266192   62977785  28541313        NO-AMA-SMS\n",
       "266193   71300879  28541355        USRESEMAIL\n",
       "266194   57324914  28532504        UNDELIVER \n",
       "266195   68693846  26455412        USRESEMAIL\n",
       "\n",
       "[266196 rows x 3 columns]"
      ]
     },
     "execution_count": 5,
     "metadata": {},
     "output_type": "execute_result"
    }
   ],
   "source": [
    "undeliverable"
   ]
  },
  {
   "cell_type": "code",
   "execution_count": 43,
   "metadata": {},
   "outputs": [],
   "source": [
    "bad_polos = pd.merge(ppd[['TOP_CD','ENTITY_ID','POLO_COMM_ID', 'IQVIA_ME','MAILING_NAME','POLO_MAILING_LINE_1', 'POLO_MAILING_LINE_2', 'POLO_CITY', 'POLO_STATE',\n",
    "       'POLO_ZIP']], undeliverable, left_on=['ENTITY_ID','POLO_COMM_ID'], right_on=['entity_id','comm_id'])"
   ]
  },
  {
   "cell_type": "code",
   "execution_count": 36,
   "metadata": {},
   "outputs": [],
   "source": [
    "bad_polos.to_excel('../../Data/Undeliverable_POLOs_220509.xlsx', index=False)"
   ]
  },
  {
   "cell_type": "code",
   "execution_count": 19,
   "metadata": {},
   "outputs": [
    {
     "data": {
      "text/html": [
       "<div>\n",
       "<style scoped>\n",
       "    .dataframe tbody tr th:only-of-type {\n",
       "        vertical-align: middle;\n",
       "    }\n",
       "\n",
       "    .dataframe tbody tr th {\n",
       "        vertical-align: top;\n",
       "    }\n",
       "\n",
       "    .dataframe thead th {\n",
       "        text-align: right;\n",
       "    }\n",
       "</style>\n",
       "<table border=\"1\" class=\"dataframe\">\n",
       "  <thead>\n",
       "    <tr style=\"text-align: right;\">\n",
       "      <th></th>\n",
       "      <th>PHYSICAL_ADDR_1</th>\n",
       "      <th>PHYSICAL_ADDR_2</th>\n",
       "      <th>PHYSICAL_CITY</th>\n",
       "      <th>PHYSICAL_STATE</th>\n",
       "      <th>PHYSICAL_ZIP</th>\n",
       "      <th>ME</th>\n",
       "      <th>AFFIL_IND</th>\n",
       "      <th>AFFIL_RANK</th>\n",
       "    </tr>\n",
       "  </thead>\n",
       "  <tbody>\n",
       "    <tr>\n",
       "      <td>0</td>\n",
       "      <td>201 14TH ST SW</td>\n",
       "      <td>None</td>\n",
       "      <td>LARGO</td>\n",
       "      <td>FL</td>\n",
       "      <td>33770-3133</td>\n",
       "      <td>0010200001</td>\n",
       "      <td>A</td>\n",
       "      <td>6</td>\n",
       "    </tr>\n",
       "    <tr>\n",
       "      <td>1</td>\n",
       "      <td>315 W HICKORY ST</td>\n",
       "      <td>None</td>\n",
       "      <td>SYLACAUGA</td>\n",
       "      <td>AL</td>\n",
       "      <td>35150-2913</td>\n",
       "      <td>0010200001</td>\n",
       "      <td>P</td>\n",
       "      <td>9</td>\n",
       "    </tr>\n",
       "    <tr>\n",
       "      <td>2</td>\n",
       "      <td>1613 N MCKENZIE ST</td>\n",
       "      <td>None</td>\n",
       "      <td>FOLEY</td>\n",
       "      <td>AL</td>\n",
       "      <td>36535-2247</td>\n",
       "      <td>0010200001</td>\n",
       "      <td>A</td>\n",
       "      <td>6</td>\n",
       "    </tr>\n",
       "    <tr>\n",
       "      <td>3</td>\n",
       "      <td>171 ASHLEY AVE</td>\n",
       "      <td>None</td>\n",
       "      <td>CHARLESTON</td>\n",
       "      <td>SC</td>\n",
       "      <td>29425-8908</td>\n",
       "      <td>0010200002</td>\n",
       "      <td>A</td>\n",
       "      <td>7</td>\n",
       "    </tr>\n",
       "    <tr>\n",
       "      <td>4</td>\n",
       "      <td>428 BILTMORE AVE</td>\n",
       "      <td>None</td>\n",
       "      <td>ASHEVILLE</td>\n",
       "      <td>NC</td>\n",
       "      <td>28801-4502</td>\n",
       "      <td>0010200003</td>\n",
       "      <td>A</td>\n",
       "      <td>6</td>\n",
       "    </tr>\n",
       "  </tbody>\n",
       "</table>\n",
       "</div>"
      ],
      "text/plain": [
       "      PHYSICAL_ADDR_1 PHYSICAL_ADDR_2 PHYSICAL_CITY PHYSICAL_STATE  \\\n",
       "0      201 14TH ST SW            None         LARGO             FL   \n",
       "1    315 W HICKORY ST            None     SYLACAUGA             AL   \n",
       "2  1613 N MCKENZIE ST            None         FOLEY             AL   \n",
       "3      171 ASHLEY AVE            None    CHARLESTON             SC   \n",
       "4    428 BILTMORE AVE            None     ASHEVILLE             NC   \n",
       "\n",
       "      PHYSICAL_ZIP          ME AFFIL_IND  AFFIL_RANK  \n",
       "0  33770-3133       0010200001         A           6  \n",
       "1  35150-2913       0010200001         P           9  \n",
       "2  36535-2247       0010200001         A           6  \n",
       "3  29425-8908       0010200002         A           7  \n",
       "4  28801-4502       0010200003         A           6  "
      ]
     },
     "execution_count": 19,
     "metadata": {},
     "output_type": "execute_result"
    }
   ],
   "source": [
    "#iqvia\n",
    "username = 'vigrose'\n",
    "password = 'Hufflepuff~10946'\n",
    "q = \"DSN=eprdods; UID={}; PWD={}\".format(username, password)\n",
    "ODS = pyodbc.connect(q)\n",
    "iqvia_query = \\\n",
    "        \"\"\"\n",
    "        SELECT DISTINCT \n",
    "        B.PHYSICAL_ADDR_1,\n",
    "        B.PHYSICAL_ADDR_2,\n",
    "        B.PHYSICAL_CITY,\n",
    "        B.PHYSICAL_STATE,\n",
    "        B.PHYSICAL_ZIP,\n",
    "        P.ME,\n",
    "        A.AFFIL_IND,\n",
    "        A.AFFIL_RANK\n",
    "        FROM \n",
    "        ODS.ODS_IMS_BUSINESS B, ODS.SAS_ODS_IMS_PROVIDER_AFFIL A, ODS.ODS_IMS_PROFESSIONAL P\n",
    "        WHERE  \n",
    "        B.IMS_ORG_ID = A.IMS_ORG_ID\n",
    "        AND\n",
    "        A.PROFESSIONAL_ID = P.PROFESSIONAL_ID\n",
    "        AND\n",
    "        P.CURRENT_BATCH_FLAG='Y'\n",
    "        AND\n",
    "        A.CURRENT_BATCH_FLAG='Y'\n",
    "        AND\n",
    "        B.CURRENT_BATCH_FLAG='Y'\n",
    "        \"\"\"\n",
    "iqvia = pd.read_sql(con=ODS, sql=iqvia_query)\n",
    "iqvia.head()"
   ]
  },
  {
   "cell_type": "code",
   "execution_count": 30,
   "metadata": {},
   "outputs": [],
   "source": [
    "bad_polos = bad_polos[~bad_polos.POLO_ZIP.isna()]"
   ]
  },
  {
   "cell_type": "code",
   "execution_count": 37,
   "metadata": {},
   "outputs": [],
   "source": [
    "with_iqvia = pd.merge(bad_polos, iqvia, left_on='IQVIA_ME', right_on='ME')[['ME','POLO_MAILING_LINE_2','PHYSICAL_ADDR_1','AFFIL_RANK','AFFIL_IND','comm_exc_cat_code']]"
   ]
  },
  {
   "cell_type": "code",
   "execution_count": 39,
   "metadata": {},
   "outputs": [],
   "source": [
    "with_iqvia.to_excel('../../Data/with_iqvia.xlsx', index=False)"
   ]
  },
  {
   "cell_type": "code",
   "execution_count": 48,
   "metadata": {},
   "outputs": [
    {
     "data": {
      "text/html": [
       "<div>\n",
       "<style scoped>\n",
       "    .dataframe tbody tr th:only-of-type {\n",
       "        vertical-align: middle;\n",
       "    }\n",
       "\n",
       "    .dataframe tbody tr th {\n",
       "        vertical-align: top;\n",
       "    }\n",
       "\n",
       "    .dataframe thead th {\n",
       "        text-align: right;\n",
       "    }\n",
       "</style>\n",
       "<table border=\"1\" class=\"dataframe\">\n",
       "  <thead>\n",
       "    <tr style=\"text-align: right;\">\n",
       "      <th></th>\n",
       "      <th>ENTITY_ID</th>\n",
       "    </tr>\n",
       "    <tr>\n",
       "      <th>TOP_CD</th>\n",
       "      <th></th>\n",
       "    </tr>\n",
       "  </thead>\n",
       "  <tbody>\n",
       "    <tr>\n",
       "      <td>12</td>\n",
       "      <td>1469</td>\n",
       "    </tr>\n",
       "    <tr>\n",
       "      <td>20</td>\n",
       "      <td>12566</td>\n",
       "    </tr>\n",
       "    <tr>\n",
       "      <td>30</td>\n",
       "      <td>280</td>\n",
       "    </tr>\n",
       "    <tr>\n",
       "      <td>40</td>\n",
       "      <td>227</td>\n",
       "    </tr>\n",
       "    <tr>\n",
       "      <td>50</td>\n",
       "      <td>327</td>\n",
       "    </tr>\n",
       "    <tr>\n",
       "      <td>62</td>\n",
       "      <td>79</td>\n",
       "    </tr>\n",
       "    <tr>\n",
       "      <td>71</td>\n",
       "      <td>7402</td>\n",
       "    </tr>\n",
       "    <tr>\n",
       "      <td>72</td>\n",
       "      <td>363</td>\n",
       "    </tr>\n",
       "    <tr>\n",
       "      <td>74</td>\n",
       "      <td>79</td>\n",
       "    </tr>\n",
       "    <tr>\n",
       "      <td>75</td>\n",
       "      <td>874</td>\n",
       "    </tr>\n",
       "    <tr>\n",
       "      <td>100</td>\n",
       "      <td>2667</td>\n",
       "    </tr>\n",
       "  </tbody>\n",
       "</table>\n",
       "</div>"
      ],
      "text/plain": [
       "        ENTITY_ID\n",
       "TOP_CD           \n",
       "12           1469\n",
       "20          12566\n",
       "30            280\n",
       "40            227\n",
       "50            327\n",
       "62             79\n",
       "71           7402\n",
       "72            363\n",
       "74             79\n",
       "75            874\n",
       "100          2667"
      ]
     },
     "execution_count": 48,
     "metadata": {},
     "output_type": "execute_result"
    }
   ],
   "source": [
    "bad_polos[bad_polos.comm_exc_cat_code=='UNDELIVER '].groupby('TOP_CD').count()[['ENTITY_ID']]"
   ]
  },
  {
   "cell_type": "code",
   "execution_count": 47,
   "metadata": {},
   "outputs": [
    {
     "data": {
      "text/plain": [
       "array(['UNDELIVER ', 'MAYB_UNDLV', 'NO-AMA-MAL', 'NO-CONTACT'],\n",
       "      dtype=object)"
      ]
     },
     "execution_count": 47,
     "metadata": {},
     "output_type": "execute_result"
    }
   ],
   "source": [
    "bad_polos.comm_exc_cat_code.unique()"
   ]
  },
  {
   "cell_type": "code",
   "execution_count": null,
   "metadata": {},
   "outputs": [],
   "source": []
  }
 ],
 "metadata": {
  "kernelspec": {
   "display_name": "Python 3",
   "language": "python",
   "name": "python3"
  },
  "language_info": {
   "codemirror_mode": {
    "name": "ipython",
    "version": 3
   },
   "file_extension": ".py",
   "mimetype": "text/x-python",
   "name": "python",
   "nbconvert_exporter": "python",
   "pygments_lexer": "ipython3",
   "version": "3.7.4"
  }
 },
 "nbformat": 4,
 "nbformat_minor": 2
}
