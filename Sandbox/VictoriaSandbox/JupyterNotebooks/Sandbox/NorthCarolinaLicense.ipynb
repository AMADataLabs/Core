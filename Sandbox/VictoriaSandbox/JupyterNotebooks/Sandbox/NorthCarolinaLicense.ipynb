{
 "cells": [
  {
   "cell_type": "code",
   "execution_count": 34,
   "metadata": {},
   "outputs": [],
   "source": [
    "from selenium import webdriver\n",
    "import pandas as pd\n",
    "import time\n",
    "from selenium.webdriver.support.ui import WebDriverWait\n",
    "from selenium.webdriver.support.expected_conditions import presence_of_element_located\n",
    "from selenium.webdriver.common.by import By\n",
    "from datetime import datetime"
   ]
  },
  {
   "cell_type": "code",
   "execution_count": 35,
   "metadata": {},
   "outputs": [],
   "source": [
    "nc_lic = pd.read_excel('../../Data/License/NC_FULL_FILE_NUM_ONLY_110520.xlsx')"
   ]
  },
  {
   "cell_type": "code",
   "execution_count": 16,
   "metadata": {},
   "outputs": [
    {
     "data": {
      "text/plain": [
       "68826"
      ]
     },
     "execution_count": 16,
     "metadata": {},
     "output_type": "execute_result"
    }
   ],
   "source": [
    "nc_lic = nc_lic.dropna(subset=['LIC_NBR'])\n",
    "nc_lic = nc_lic.drop_duplicates('LIC_NBR')\n",
    "len(nc_lic)"
   ]
  },
  {
   "cell_type": "code",
   "execution_count": 23,
   "metadata": {},
   "outputs": [],
   "source": [
    "license_list = list(nc_lic['License_Number'])"
   ]
  },
  {
   "cell_type": "code",
   "execution_count": 4,
   "metadata": {},
   "outputs": [],
   "source": [
    "def wait(browser):\n",
    "    '''Define wait'''\n",
    "    return WebDriverWait(browser, 30)"
   ]
  },
  {
   "cell_type": "code",
   "execution_count": 2,
   "metadata": {},
   "outputs": [],
   "source": [
    "license_number = '2007-01286'"
   ]
  },
  {
   "cell_type": "code",
   "execution_count": 31,
   "metadata": {},
   "outputs": [],
   "source": [
    "def get_license_info(license_number, driver):\n",
    "    license_input = wait(driver).until(presence_of_element_located((By.ID, \"txtLicNum\")))\n",
    "    license_input.clear()\n",
    "    license_input.send_keys(license_number)\n",
    "    submit = driver.find_element_by_id(\"btnSubmit\")\n",
    "    submit.click()\n",
    "    table =  wait(driver).until(presence_of_element_located((By.TAG_NAME,'tbody')))\n",
    "    info_link = table.find_elements_by_tag_name('a')\n",
    "    if info_link:\n",
    "        info_link[0].click()\n",
    "        license_statuses = driver.find_elements_by_xpath('//*[@id=\"pnlVerificationBody\"]/div[1]/div[1]')\n",
    "        if license_statuses:\n",
    "            license_type = license_statuses[0].text\n",
    "        else:\n",
    "            license_type = 'None'\n",
    "    else:\n",
    "        license_type = 'Not found'\n",
    "    new_search = wait(driver).until(presence_of_element_located((By.XPATH,'//*[@id=\"content\"]/div/div[2]/div[3]/a[3]')))\n",
    "    new_search.click()\n",
    "    \n",
    "    return(license_type, driver)"
   ]
  },
  {
   "cell_type": "code",
   "execution_count": 17,
   "metadata": {},
   "outputs": [],
   "source": [
    "driver = webdriver.Chrome()\n",
    "driver.get('https://portal.ncmedboard.org/verification/search.aspx')\n",
    "\n"
   ]
  },
  {
   "cell_type": "code",
   "execution_count": 18,
   "metadata": {},
   "outputs": [
    {
     "data": {
      "text/plain": [
       "'MD Full and Unrestricted'"
      ]
     },
     "execution_count": 18,
     "metadata": {},
     "output_type": "execute_result"
    }
   ],
   "source": [
    "license_type"
   ]
  },
  {
   "cell_type": "code",
   "execution_count": 19,
   "metadata": {},
   "outputs": [],
   "source": [
    "license_dict_list = []\n",
    "index=0"
   ]
  },
  {
   "cell_type": "code",
   "execution_count": 33,
   "metadata": {},
   "outputs": [
    {
     "name": "stdout",
     "output_type": "stream",
     "text": [
      "{'License_Number': '2015-00792', 'License_Type': 'Antonia B Ahern - MD Full and Unrestricted'}\n",
      "{'License_Number': '2020-03547', 'License_Type': 'Matthew Todd Ahern - DO Full and Unrestricted'}\n",
      "{'License_Number': 37782, 'License_Type': 'Gerald Thomas Ahigian - MD Full and Unrestricted'}\n",
      "{'License_Number': 200500147, 'License_Type': 'David Joseph Ahlberg - MD Full and Unrestricted'}\n",
      "{'License_Number': '2013-01171', 'License_Type': 'David Andrew Ahlers - MD Full and Unrestricted'}\n"
     ]
    },
    {
     "ename": "NoSuchWindowException",
     "evalue": "Message: no such window: target window already closed\nfrom unknown error: web view not found\n  (Session info: chrome=86.0.4240.111)\n  (Driver info: chromedriver=2.42.591088 (7b2b2dca23cca0862f674758c9a3933e685c27d5),platform=Windows NT 10.0.18362 x86_64)\n",
     "output_type": "error",
     "traceback": [
      "\u001b[1;31m---------------------------------------------------------------------------\u001b[0m",
      "\u001b[1;31mNoSuchWindowException\u001b[0m                     Traceback (most recent call last)",
      "\u001b[1;32m<ipython-input-33-cdb4eb1b60ae>\u001b[0m in \u001b[0;36m<module>\u001b[1;34m\u001b[0m\n\u001b[0;32m      3\u001b[0m \u001b[0mdriver\u001b[0m\u001b[1;33m.\u001b[0m\u001b[0mget\u001b[0m\u001b[1;33m(\u001b[0m\u001b[1;34m'https://portal.ncmedboard.org/verification/search.aspx'\u001b[0m\u001b[1;33m)\u001b[0m\u001b[1;33m\u001b[0m\u001b[1;33m\u001b[0m\u001b[0m\n\u001b[0;32m      4\u001b[0m \u001b[1;32mfor\u001b[0m \u001b[0mlicense\u001b[0m \u001b[1;32min\u001b[0m \u001b[0mlicense_list\u001b[0m\u001b[1;33m[\u001b[0m\u001b[0mindex\u001b[0m\u001b[1;33m:\u001b[0m\u001b[1;33m]\u001b[0m\u001b[1;33m:\u001b[0m\u001b[1;33m\u001b[0m\u001b[1;33m\u001b[0m\u001b[0m\n\u001b[1;32m----> 5\u001b[1;33m     \u001b[0mlicense_type\u001b[0m\u001b[1;33m,\u001b[0m \u001b[0mdriver\u001b[0m \u001b[1;33m=\u001b[0m \u001b[0mget_license_info\u001b[0m\u001b[1;33m(\u001b[0m\u001b[0mlicense\u001b[0m\u001b[1;33m,\u001b[0m \u001b[0mdriver\u001b[0m\u001b[1;33m)\u001b[0m\u001b[1;33m\u001b[0m\u001b[1;33m\u001b[0m\u001b[0m\n\u001b[0m\u001b[0;32m      6\u001b[0m     license_dict = {\n\u001b[0;32m      7\u001b[0m         \u001b[1;34m'License_Number'\u001b[0m\u001b[1;33m:\u001b[0m \u001b[0mlicense\u001b[0m\u001b[1;33m,\u001b[0m\u001b[1;33m\u001b[0m\u001b[1;33m\u001b[0m\u001b[0m\n",
      "\u001b[1;32m<ipython-input-31-b8570ef6457e>\u001b[0m in \u001b[0;36mget_license_info\u001b[1;34m(license_number, driver)\u001b[0m\n\u001b[0;32m      3\u001b[0m     \u001b[0mlicense_input\u001b[0m\u001b[1;33m.\u001b[0m\u001b[0mclear\u001b[0m\u001b[1;33m(\u001b[0m\u001b[1;33m)\u001b[0m\u001b[1;33m\u001b[0m\u001b[1;33m\u001b[0m\u001b[0m\n\u001b[0;32m      4\u001b[0m     \u001b[0mlicense_input\u001b[0m\u001b[1;33m.\u001b[0m\u001b[0msend_keys\u001b[0m\u001b[1;33m(\u001b[0m\u001b[0mlicense_number\u001b[0m\u001b[1;33m)\u001b[0m\u001b[1;33m\u001b[0m\u001b[1;33m\u001b[0m\u001b[0m\n\u001b[1;32m----> 5\u001b[1;33m     \u001b[0msubmit\u001b[0m \u001b[1;33m=\u001b[0m \u001b[0mdriver\u001b[0m\u001b[1;33m.\u001b[0m\u001b[0mfind_element_by_id\u001b[0m\u001b[1;33m(\u001b[0m\u001b[1;34m\"btnSubmit\"\u001b[0m\u001b[1;33m)\u001b[0m\u001b[1;33m\u001b[0m\u001b[1;33m\u001b[0m\u001b[0m\n\u001b[0m\u001b[0;32m      6\u001b[0m     \u001b[0msubmit\u001b[0m\u001b[1;33m.\u001b[0m\u001b[0mclick\u001b[0m\u001b[1;33m(\u001b[0m\u001b[1;33m)\u001b[0m\u001b[1;33m\u001b[0m\u001b[1;33m\u001b[0m\u001b[0m\n\u001b[0;32m      7\u001b[0m     \u001b[0mtable\u001b[0m \u001b[1;33m=\u001b[0m  \u001b[0mwait\u001b[0m\u001b[1;33m(\u001b[0m\u001b[0mdriver\u001b[0m\u001b[1;33m)\u001b[0m\u001b[1;33m.\u001b[0m\u001b[0muntil\u001b[0m\u001b[1;33m(\u001b[0m\u001b[0mpresence_of_element_located\u001b[0m\u001b[1;33m(\u001b[0m\u001b[1;33m(\u001b[0m\u001b[0mBy\u001b[0m\u001b[1;33m.\u001b[0m\u001b[0mTAG_NAME\u001b[0m\u001b[1;33m,\u001b[0m\u001b[1;34m'tbody'\u001b[0m\u001b[1;33m)\u001b[0m\u001b[1;33m)\u001b[0m\u001b[1;33m)\u001b[0m\u001b[1;33m\u001b[0m\u001b[1;33m\u001b[0m\u001b[0m\n",
      "\u001b[1;32m~\\AppData\\Local\\Continuum\\anaconda3\\lib\\site-packages\\selenium\\webdriver\\remote\\webdriver.py\u001b[0m in \u001b[0;36mfind_element_by_id\u001b[1;34m(self, id_)\u001b[0m\n\u001b[0;32m    358\u001b[0m             \u001b[0melement\u001b[0m \u001b[1;33m=\u001b[0m \u001b[0mdriver\u001b[0m\u001b[1;33m.\u001b[0m\u001b[0mfind_element_by_id\u001b[0m\u001b[1;33m(\u001b[0m\u001b[1;34m'foo'\u001b[0m\u001b[1;33m)\u001b[0m\u001b[1;33m\u001b[0m\u001b[1;33m\u001b[0m\u001b[0m\n\u001b[0;32m    359\u001b[0m         \"\"\"\n\u001b[1;32m--> 360\u001b[1;33m         \u001b[1;32mreturn\u001b[0m \u001b[0mself\u001b[0m\u001b[1;33m.\u001b[0m\u001b[0mfind_element\u001b[0m\u001b[1;33m(\u001b[0m\u001b[0mby\u001b[0m\u001b[1;33m=\u001b[0m\u001b[0mBy\u001b[0m\u001b[1;33m.\u001b[0m\u001b[0mID\u001b[0m\u001b[1;33m,\u001b[0m \u001b[0mvalue\u001b[0m\u001b[1;33m=\u001b[0m\u001b[0mid_\u001b[0m\u001b[1;33m)\u001b[0m\u001b[1;33m\u001b[0m\u001b[1;33m\u001b[0m\u001b[0m\n\u001b[0m\u001b[0;32m    361\u001b[0m \u001b[1;33m\u001b[0m\u001b[0m\n\u001b[0;32m    362\u001b[0m     \u001b[1;32mdef\u001b[0m \u001b[0mfind_elements_by_id\u001b[0m\u001b[1;33m(\u001b[0m\u001b[0mself\u001b[0m\u001b[1;33m,\u001b[0m \u001b[0mid_\u001b[0m\u001b[1;33m)\u001b[0m\u001b[1;33m:\u001b[0m\u001b[1;33m\u001b[0m\u001b[1;33m\u001b[0m\u001b[0m\n",
      "\u001b[1;32m~\\AppData\\Local\\Continuum\\anaconda3\\lib\\site-packages\\selenium\\webdriver\\remote\\webdriver.py\u001b[0m in \u001b[0;36mfind_element\u001b[1;34m(self, by, value)\u001b[0m\n\u001b[0;32m    976\u001b[0m         return self.execute(Command.FIND_ELEMENT, {\n\u001b[0;32m    977\u001b[0m             \u001b[1;34m'using'\u001b[0m\u001b[1;33m:\u001b[0m \u001b[0mby\u001b[0m\u001b[1;33m,\u001b[0m\u001b[1;33m\u001b[0m\u001b[1;33m\u001b[0m\u001b[0m\n\u001b[1;32m--> 978\u001b[1;33m             'value': value})['value']\n\u001b[0m\u001b[0;32m    979\u001b[0m \u001b[1;33m\u001b[0m\u001b[0m\n\u001b[0;32m    980\u001b[0m     \u001b[1;32mdef\u001b[0m \u001b[0mfind_elements\u001b[0m\u001b[1;33m(\u001b[0m\u001b[0mself\u001b[0m\u001b[1;33m,\u001b[0m \u001b[0mby\u001b[0m\u001b[1;33m=\u001b[0m\u001b[0mBy\u001b[0m\u001b[1;33m.\u001b[0m\u001b[0mID\u001b[0m\u001b[1;33m,\u001b[0m \u001b[0mvalue\u001b[0m\u001b[1;33m=\u001b[0m\u001b[1;32mNone\u001b[0m\u001b[1;33m)\u001b[0m\u001b[1;33m:\u001b[0m\u001b[1;33m\u001b[0m\u001b[1;33m\u001b[0m\u001b[0m\n",
      "\u001b[1;32m~\\AppData\\Local\\Continuum\\anaconda3\\lib\\site-packages\\selenium\\webdriver\\remote\\webdriver.py\u001b[0m in \u001b[0;36mexecute\u001b[1;34m(self, driver_command, params)\u001b[0m\n\u001b[0;32m    319\u001b[0m         \u001b[0mresponse\u001b[0m \u001b[1;33m=\u001b[0m \u001b[0mself\u001b[0m\u001b[1;33m.\u001b[0m\u001b[0mcommand_executor\u001b[0m\u001b[1;33m.\u001b[0m\u001b[0mexecute\u001b[0m\u001b[1;33m(\u001b[0m\u001b[0mdriver_command\u001b[0m\u001b[1;33m,\u001b[0m \u001b[0mparams\u001b[0m\u001b[1;33m)\u001b[0m\u001b[1;33m\u001b[0m\u001b[1;33m\u001b[0m\u001b[0m\n\u001b[0;32m    320\u001b[0m         \u001b[1;32mif\u001b[0m \u001b[0mresponse\u001b[0m\u001b[1;33m:\u001b[0m\u001b[1;33m\u001b[0m\u001b[1;33m\u001b[0m\u001b[0m\n\u001b[1;32m--> 321\u001b[1;33m             \u001b[0mself\u001b[0m\u001b[1;33m.\u001b[0m\u001b[0merror_handler\u001b[0m\u001b[1;33m.\u001b[0m\u001b[0mcheck_response\u001b[0m\u001b[1;33m(\u001b[0m\u001b[0mresponse\u001b[0m\u001b[1;33m)\u001b[0m\u001b[1;33m\u001b[0m\u001b[1;33m\u001b[0m\u001b[0m\n\u001b[0m\u001b[0;32m    322\u001b[0m             response['value'] = self._unwrap_value(\n\u001b[0;32m    323\u001b[0m                 response.get('value', None))\n",
      "\u001b[1;32m~\\AppData\\Local\\Continuum\\anaconda3\\lib\\site-packages\\selenium\\webdriver\\remote\\errorhandler.py\u001b[0m in \u001b[0;36mcheck_response\u001b[1;34m(self, response)\u001b[0m\n\u001b[0;32m    240\u001b[0m                 \u001b[0malert_text\u001b[0m \u001b[1;33m=\u001b[0m \u001b[0mvalue\u001b[0m\u001b[1;33m[\u001b[0m\u001b[1;34m'alert'\u001b[0m\u001b[1;33m]\u001b[0m\u001b[1;33m.\u001b[0m\u001b[0mget\u001b[0m\u001b[1;33m(\u001b[0m\u001b[1;34m'text'\u001b[0m\u001b[1;33m)\u001b[0m\u001b[1;33m\u001b[0m\u001b[1;33m\u001b[0m\u001b[0m\n\u001b[0;32m    241\u001b[0m             \u001b[1;32mraise\u001b[0m \u001b[0mexception_class\u001b[0m\u001b[1;33m(\u001b[0m\u001b[0mmessage\u001b[0m\u001b[1;33m,\u001b[0m \u001b[0mscreen\u001b[0m\u001b[1;33m,\u001b[0m \u001b[0mstacktrace\u001b[0m\u001b[1;33m,\u001b[0m \u001b[0malert_text\u001b[0m\u001b[1;33m)\u001b[0m\u001b[1;33m\u001b[0m\u001b[1;33m\u001b[0m\u001b[0m\n\u001b[1;32m--> 242\u001b[1;33m         \u001b[1;32mraise\u001b[0m \u001b[0mexception_class\u001b[0m\u001b[1;33m(\u001b[0m\u001b[0mmessage\u001b[0m\u001b[1;33m,\u001b[0m \u001b[0mscreen\u001b[0m\u001b[1;33m,\u001b[0m \u001b[0mstacktrace\u001b[0m\u001b[1;33m)\u001b[0m\u001b[1;33m\u001b[0m\u001b[1;33m\u001b[0m\u001b[0m\n\u001b[0m\u001b[0;32m    243\u001b[0m \u001b[1;33m\u001b[0m\u001b[0m\n\u001b[0;32m    244\u001b[0m     \u001b[1;32mdef\u001b[0m \u001b[0m_value_or_default\u001b[0m\u001b[1;33m(\u001b[0m\u001b[0mself\u001b[0m\u001b[1;33m,\u001b[0m \u001b[0mobj\u001b[0m\u001b[1;33m,\u001b[0m \u001b[0mkey\u001b[0m\u001b[1;33m,\u001b[0m \u001b[0mdefault\u001b[0m\u001b[1;33m)\u001b[0m\u001b[1;33m:\u001b[0m\u001b[1;33m\u001b[0m\u001b[1;33m\u001b[0m\u001b[0m\n",
      "\u001b[1;31mNoSuchWindowException\u001b[0m: Message: no such window: target window already closed\nfrom unknown error: web view not found\n  (Session info: chrome=86.0.4240.111)\n  (Driver info: chromedriver=2.42.591088 (7b2b2dca23cca0862f674758c9a3933e685c27d5),platform=Windows NT 10.0.18362 x86_64)\n"
     ]
    }
   ],
   "source": [
    "driver = webdriver.Chrome()\n",
    "\n",
    "driver.get('https://portal.ncmedboard.org/verification/search.aspx')\n",
    "for license in license_list[index:]:\n",
    "    license_type, driver = get_license_info(license, driver)\n",
    "    license_dict = {\n",
    "        'License_Number': license,\n",
    "        'License_Type': license_type\n",
    "    }\n",
    "    print(license_dict)\n",
    "    license_dict_list.append(license_dict)\n",
    "    index+=1"
   ]
  },
  {
   "cell_type": "code",
   "execution_count": 90,
   "metadata": {},
   "outputs": [],
   "source": [
    "driver.quit()\n",
    "TODAY = str(datetime.today()).replace(':','').replace('.','').replace(' ','_')\n",
    "pd.DataFrame(license_dict_list).to_csv(F'../../Data/License/NC_License_Status_{TODAY}.csv', index=False)"
   ]
  },
  {
   "cell_type": "code",
   "execution_count": 27,
   "metadata": {},
   "outputs": [
    {
     "data": {
      "text/plain": [
       "[{'License_Number': '2007-01286', 'License_Type': 'MD Full and Unrestricted'},\n",
       " {'License_Number': '2018-02560', 'License_Type': 'MD Full and Unrestricted'},\n",
       " {'License_Number': '2013-02286', 'License_Type': 'MD Full and Unrestricted'},\n",
       " {'License_Number': 38886, 'License_Type': 'MD Full and Unrestricted'},\n",
       " {'License_Number': 38647, 'License_Type': 'MD Full and Unrestricted'},\n",
       " {'License_Number': 200100205, 'License_Type': 'MD Full and Unrestricted'},\n",
       " {'License_Number': '2019-01910', 'License_Type': 'MD Full and Unrestricted'},\n",
       " {'License_Number': '2012-00426', 'License_Type': 'MD Full and Unrestricted'},\n",
       " {'License_Number': '2017-02506', 'License_Type': 'MD Full and Unrestricted'},\n",
       " {'License_Number': 9800751, 'License_Type': 'MD Full and Unrestricted'},\n",
       " {'License_Number': '2020-02397', 'License_Type': 'MD Full and Unrestricted'},\n",
       " {'License_Number': '2016-01476', 'License_Type': 'MD Full and Unrestricted'},\n",
       " {'License_Number': '2012-01719', 'License_Type': 'MD Full and Unrestricted'},\n",
       " {'License_Number': '2020-02357', 'License_Type': 'MD Full and Unrestricted'},\n",
       " {'License_Number': 9900400, 'License_Type': 'MD Full and Unrestricted'},\n",
       " {'License_Number': 200300737, 'License_Type': 'MD Full and Unrestricted'},\n",
       " {'License_Number': '2016-01820', 'License_Type': 'MD Full and Unrestricted'},\n",
       " {'License_Number': '2013-02296', 'License_Type': 'MD Full and Unrestricted'},\n",
       " {'License_Number': 200301313, 'License_Type': 'MD Full and Unrestricted'},\n",
       " {'License_Number': '2009-00630', 'License_Type': 'MD Full and Unrestricted'},\n",
       " {'License_Number': '2011-00183', 'License_Type': 'MD Full and Unrestricted'},\n",
       " {'License_Number': '2007-00186', 'License_Type': 'MD Full and Unrestricted'},\n",
       " {'License_Number': '2016-01108', 'License_Type': 'MD Full and Unrestricted'},\n",
       " {'License_Number': 28452, 'License_Type': 'MD Full and Unrestricted'},\n",
       " {'License_Number': '2020-01198', 'License_Type': 'MD Full and Unrestricted'},\n",
       " {'License_Number': '2019-01583', 'License_Type': 'MD Full and Unrestricted'},\n",
       " {'License_Number': '2019-01256', 'License_Type': 'MD Full and Unrestricted'},\n",
       " {'License_Number': '2020-02057', 'License_Type': 'MD Full and Unrestricted'},\n",
       " {'License_Number': '2011-01582', 'License_Type': 'MD Full and Unrestricted'},\n",
       " {'License_Number': '2013-02229', 'License_Type': 'MD Full and Unrestricted'},\n",
       " {'License_Number': '2010-00067', 'License_Type': 'MD Full and Unrestricted'},\n",
       " {'License_Number': '2017-01308', 'License_Type': 'MD Full and Unrestricted'},\n",
       " {'License_Number': 22879, 'License_Type': 'MD Full and Unrestricted'},\n",
       " {'License_Number': '2005-00958', 'License_Type': 'MD Full and Unrestricted'},\n",
       " {'License_Number': 34779, 'License_Type': 'MD Full and Unrestricted'},\n",
       " {'License_Number': '2014-02352', 'License_Type': 'MD Full and Unrestricted'},\n",
       " {'License_Number': '2015-01904', 'License_Type': 'MD Full and Unrestricted'},\n",
       " {'License_Number': 9901497, 'License_Type': 'MD Full and Unrestricted'},\n",
       " {'License_Number': '2018-01863', 'License_Type': 'MD Full and Unrestricted'},\n",
       " {'License_Number': '2005-01824', 'License_Type': 'MD Full and Unrestricted'},\n",
       " {'License_Number': '2020-03490', 'License_Type': 'MD Full and Unrestricted'},\n",
       " {'License_Number': '2011-01678', 'License_Type': 'MD Full and Unrestricted'},\n",
       " {'License_Number': '2020-03348', 'License_Type': 'MD Full and Unrestricted'},\n",
       " {'License_Number': '2020-02890', 'License_Type': 'MD Full and Unrestricted'},\n",
       " {'License_Number': '2006-00309', 'License_Type': 'MD Full and Unrestricted'},\n",
       " {'License_Number': '2020-00091', 'License_Type': 'MD Full and Unrestricted'},\n",
       " {'License_Number': '2020-02597', 'License_Type': 'MD Full and Unrestricted'},\n",
       " {'License_Number': '2020-00670', 'License_Type': 'MD Full and Unrestricted'},\n",
       " {'License_Number': '2009-01526', 'License_Type': 'MD Full and Unrestricted'},\n",
       " {'License_Number': 9901093, 'License_Type': 'MD Full and Unrestricted'},\n",
       " {'License_Number': '2020-03930', 'License_Type': 'MD Full and Unrestricted'},\n",
       " {'License_Number': 200400003, 'License_Type': 'MD Full and Unrestricted'},\n",
       " {'License_Number': '2010-02034', 'License_Type': 'MD Full and Unrestricted'},\n",
       " {'License_Number': '2020-03630', 'License_Type': 'MD Full and Unrestricted'},\n",
       " {'License_Number': '2009-01191', 'License_Type': 'MD Full and Unrestricted'},\n",
       " {'License_Number': '2019-01800', 'License_Type': 'MD Full and Unrestricted'},\n",
       " {'License_Number': '2011-01910', 'License_Type': 'MD Full and Unrestricted'},\n",
       " {'License_Number': 23458, 'License_Type': 'MD Full and Unrestricted'},\n",
       " {'License_Number': '2011-01192', 'License_Type': 'MD Full and Unrestricted'},\n",
       " {'License_Number': '2005-01384', 'License_Type': 'MD Full and Unrestricted'},\n",
       " {'License_Number': '2015-01127', 'License_Type': 'MD Full and Unrestricted'},\n",
       " {'License_Number': '2020-00407', 'License_Type': 'MD Full and Unrestricted'},\n",
       " {'License_Number': '2014-00811', 'License_Type': 'MD Full and Unrestricted'},\n",
       " {'License_Number': '2005-00730', 'License_Type': 'MD Full and Unrestricted'},\n",
       " {'License_Number': 9400690, 'License_Type': 'MD Full and Unrestricted'},\n",
       " {'License_Number': 23100, 'License_Type': 'MD Full and Unrestricted'},\n",
       " {'License_Number': 9500490, 'License_Type': 'MD Full and Unrestricted'},\n",
       " {'License_Number': 9800168, 'License_Type': 'MD Full and Unrestricted'},\n",
       " {'License_Number': '2020-00716', 'License_Type': 'MD Full and Unrestricted'},\n",
       " {'License_Number': 27416, 'License_Type': 'MD Full and Unrestricted'},\n",
       " {'License_Number': 200400792, 'License_Type': 'MD Full and Unrestricted'},\n",
       " {'License_Number': 200401460, 'License_Type': 'MD Full and Unrestricted'},\n",
       " {'License_Number': 24044, 'License_Type': 'MD Full and Unrestricted'},\n",
       " {'License_Number': 20865, 'License_Type': 'MD Full and Unrestricted'},\n",
       " {'License_Number': 27655, 'License_Type': 'MD Full and Unrestricted'},\n",
       " {'License_Number': 200100820, 'License_Type': 'MD Full and Unrestricted'},\n",
       " {'License_Number': '2005-01576', 'License_Type': 'MD Full and Unrestricted'},\n",
       " {'License_Number': '2016-01862', 'License_Type': 'MD Full and Unrestricted'},\n",
       " {'License_Number': '2019-01077', 'License_Type': 'MD Full and Unrestricted'},\n",
       " {'License_Number': '2016-02305', 'License_Type': 'MD Full and Unrestricted'},\n",
       " {'License_Number': 9500003, 'License_Type': 'MD Full and Unrestricted'},\n",
       " {'License_Number': '2020-03922', 'License_Type': 'MD Full and Unrestricted'},\n",
       " {'License_Number': '2005-00737', 'License_Type': 'MD Full and Unrestricted'},\n",
       " {'License_Number': 200201028, 'License_Type': 'MD Full and Unrestricted'},\n",
       " {'License_Number': '2008-01142', 'License_Type': 'MD Full and Unrestricted'},\n",
       " {'License_Number': '2005-01451', 'License_Type': 'MD Full and Unrestricted'},\n",
       " {'License_Number': '2006-00375', 'License_Type': 'MD Full and Unrestricted'},\n",
       " {'License_Number': '2016-01800', 'License_Type': 'MD Full and Unrestricted'},\n",
       " {'License_Number': '2009-02125', 'License_Type': 'MD Full and Unrestricted'},\n",
       " {'License_Number': '2008-01213', 'License_Type': 'MD Full and Unrestricted'},\n",
       " {'License_Number': '2014-01399', 'License_Type': 'MD Full and Unrestricted'},\n",
       " {'License_Number': '2016-00462', 'License_Type': 'MD Full and Unrestricted'},\n",
       " {'License_Number': '2019-00159', 'License_Type': 'MD Full and Unrestricted'},\n",
       " {'License_Number': '2007-00035', 'License_Type': 'MD Full and Unrestricted'},\n",
       " {'License_Number': '2018-00554', 'License_Type': 'MD Full and Unrestricted'},\n",
       " {'License_Number': '2017-00097', 'License_Type': 'MD Full and Unrestricted'},\n",
       " {'License_Number': '2016-00510', 'License_Type': 'MD Full and Unrestricted'},\n",
       " {'License_Number': '2020-01802', 'License_Type': 'MD Full and Unrestricted'},\n",
       " {'License_Number': '2007-01406', 'License_Type': 'MD Full and Unrestricted'},\n",
       " {'License_Number': '2012-01496', 'License_Type': 'MD Full and Unrestricted'},\n",
       " {'License_Number': '2008-00891', 'License_Type': 'MD Full and Unrestricted'},\n",
       " {'License_Number': 200500145, 'License_Type': 'MD Full and Unrestricted'},\n",
       " {'License_Number': 200100821, 'License_Type': 'MD Full and Unrestricted'},\n",
       " {'License_Number': '2018-00393', 'License_Type': 'MD Full and Unrestricted'},\n",
       " {'License_Number': '2018-00988', 'License_Type': 'MD Full and Unrestricted'},\n",
       " {'License_Number': '2020-00669', 'License_Type': 'MD Full and Unrestricted'},\n",
       " {'License_Number': '2017-01816', 'License_Type': 'MD Full and Unrestricted'},\n",
       " {'License_Number': 9700005, 'License_Type': 'MD Full and Unrestricted'},\n",
       " {'License_Number': '2010-01006', 'License_Type': 'MD Full and Unrestricted'},\n",
       " {'License_Number': '2017-01411', 'License_Type': 'MD Full and Unrestricted'},\n",
       " {'License_Number': 200001047, 'License_Type': 'MD Full and Unrestricted'},\n",
       " {'License_Number': '2009-01373', 'License_Type': 'MD Full and Unrestricted'},\n",
       " {'License_Number': 37780, 'License_Type': 'MD Full and Unrestricted'},\n",
       " {'License_Number': '2020-03617', 'License_Type': 'MD Full and Unrestricted'},\n",
       " {'License_Number': '2019-00569', 'License_Type': 'MD Full and Unrestricted'},\n",
       " {'License_Number': 200300434, 'License_Type': 'MD Full and Unrestricted'},\n",
       " {'License_Number': 9901094, 'License_Type': 'MD Full and Unrestricted'},\n",
       " {'License_Number': 200001456, 'License_Type': 'MD Full and Unrestricted'},\n",
       " {'License_Number': '2016-00594', 'License_Type': 'MD Full and Unrestricted'},\n",
       " {'License_Number': '2020-02805', 'License_Type': 'MD Full and Unrestricted'},\n",
       " {'License_Number': 22206, 'License_Type': 'MD Full and Unrestricted'},\n",
       " {'License_Number': 9400401, 'License_Type': 'MD Full and Unrestricted'},\n",
       " {'License_Number': '2008-01164', 'License_Type': 'MD Full and Unrestricted'},\n",
       " {'License_Number': 9701679, 'License_Type': 'MD Full and Unrestricted'},\n",
       " {'License_Number': '2017-02509', 'License_Type': 'MD Full and Unrestricted'},\n",
       " {'License_Number': '2015-00565', 'License_Type': 'MD Full and Unrestricted'},\n",
       " {'License_Number': 35573, 'License_Type': 'MD Full and Unrestricted'},\n",
       " {'License_Number': '2017-01077', 'License_Type': 'MD Full and Unrestricted'},\n",
       " {'License_Number': '2012-02038', 'License_Type': 'MD Full and Unrestricted'},\n",
       " {'License_Number': '2019-00544', 'License_Type': 'MD Full and Unrestricted'},\n",
       " {'License_Number': 9800752, 'License_Type': 'MD Full and Unrestricted'},\n",
       " {'License_Number': '2020-00297', 'License_Type': 'MD Full and Unrestricted'},\n",
       " {'License_Number': '2014-01568', 'License_Type': 'MD Full and Unrestricted'},\n",
       " {'License_Number': '2020-00782', 'License_Type': 'MD Full and Unrestricted'},\n",
       " {'License_Number': '2017-01525', 'License_Type': 'MD Full and Unrestricted'},\n",
       " {'License_Number': '2020-03017', 'License_Type': 'MD Full and Unrestricted'},\n",
       " {'License_Number': '2007-01086', 'License_Type': 'MD Full and Unrestricted'},\n",
       " {'License_Number': '2017-00918', 'License_Type': 'MD Full and Unrestricted'},\n",
       " {'License_Number': '2011-01240', 'License_Type': 'MD Full and Unrestricted'},\n",
       " {'License_Number': 9400691, 'License_Type': 'MD Full and Unrestricted'},\n",
       " {'License_Number': 9400402, 'License_Type': 'MD Full and Unrestricted'},\n",
       " {'License_Number': '2019-01530', 'License_Type': 'MD Full and Unrestricted'},\n",
       " {'License_Number': '2015-00788', 'License_Type': 'MD Full and Unrestricted'},\n",
       " {'License_Number': '2020-02276', 'License_Type': 'MD Full and Unrestricted'},\n",
       " {'License_Number': 9400692, 'License_Type': 'MD Full and Unrestricted'},\n",
       " {'License_Number': '2019-01565', 'License_Type': 'MD Full and Unrestricted'},\n",
       " {'License_Number': '2016-01106', 'License_Type': 'MD Full and Unrestricted'},\n",
       " {'License_Number': '2020-03114', 'License_Type': 'MD Full and Unrestricted'},\n",
       " {'License_Number': '2019-01776', 'License_Type': 'MD Full and Unrestricted'},\n",
       " {'License_Number': '2019-02839', 'License_Type': 'MD Full and Unrestricted'},\n",
       " {'License_Number': '2014-00282', 'License_Type': 'MD Full and Unrestricted'},\n",
       " {'License_Number': 29458, 'License_Type': 'MD Full and Unrestricted'},\n",
       " {'License_Number': 27560, 'License_Type': 'MD Full and Unrestricted'},\n",
       " {'License_Number': 200200481, 'License_Type': 'MD Full and Unrestricted'},\n",
       " {'License_Number': '2020-02666', 'License_Type': 'MD Full and Unrestricted'},\n",
       " {'License_Number': 35077, 'License_Type': 'MD Full and Unrestricted'},\n",
       " {'License_Number': '2006-00915', 'License_Type': 'MD Full and Unrestricted'},\n",
       " {'License_Number': '2020-03921', 'License_Type': 'MD Full and Unrestricted'},\n",
       " {'License_Number': '2020-01462', 'License_Type': 'MD Full and Unrestricted'},\n",
       " {'License_Number': 39156, 'License_Type': 'MD Full and Unrestricted'},\n",
       " {'License_Number': '2007-00915', 'License_Type': 'MD Full and Unrestricted'},\n",
       " {'License_Number': 9600435, 'License_Type': 'MD Full and Unrestricted'},\n",
       " {'License_Number': '2018-01837', 'License_Type': 'MD Full and Unrestricted'},\n",
       " {'License_Number': '2016-01490', 'License_Type': 'MD Full and Unrestricted'},\n",
       " {'License_Number': '2010-01217', 'License_Type': 'MD Full and Unrestricted'},\n",
       " {'License_Number': 9800753, 'License_Type': 'MD Full and Unrestricted'},\n",
       " {'License_Number': '2015-01483', 'License_Type': 'MD Full and Unrestricted'},\n",
       " {'License_Number': 200100500, 'License_Type': 'MD Full and Unrestricted'},\n",
       " {'License_Number': '2014-01435', 'License_Type': 'MD Full and Unrestricted'},\n",
       " {'License_Number': 9400403, 'License_Type': 'MD Full and Unrestricted'},\n",
       " {'License_Number': '2019-00972', 'License_Type': 'MD Full and Unrestricted'},\n",
       " {'License_Number': 25105, 'License_Type': 'MD Full and Unrestricted'},\n",
       " {'License_Number': 9900743, 'License_Type': 'MD Full and Unrestricted'},\n",
       " {'License_Number': '2014-00827', 'License_Type': 'MD Full and Unrestricted'},\n",
       " {'License_Number': 9501165, 'License_Type': 'MD Full and Unrestricted'},\n",
       " {'License_Number': '2008-01390', 'License_Type': 'MD Full and Unrestricted'},\n",
       " {'License_Number': '2017-00502', 'License_Type': 'MD Full and Unrestricted'},\n",
       " {'License_Number': '2018-01995', 'License_Type': 'MD Full and Unrestricted'},\n",
       " {'License_Number': 36136, 'License_Type': 'MD Full and Unrestricted'},\n",
       " {'License_Number': '2009-00509', 'License_Type': 'MD Full and Unrestricted'},\n",
       " {'License_Number': '2015-00311', 'License_Type': 'MD Full and Unrestricted'},\n",
       " {'License_Number': 9700169, 'License_Type': 'MD Full and Unrestricted'},\n",
       " {'License_Number': '2010-00389', 'License_Type': 'MD Full and Unrestricted'},\n",
       " {'License_Number': '2005-01394', 'License_Type': 'MD Full and Unrestricted'},\n",
       " {'License_Number': '2016-02004', 'License_Type': 'MD Full and Unrestricted'},\n",
       " {'License_Number': 9300404, 'License_Type': 'MD Full and Unrestricted'},\n",
       " {'License_Number': 37781, 'License_Type': 'MD Full and Unrestricted'},\n",
       " {'License_Number': 20993, 'License_Type': 'MD Full and Unrestricted'},\n",
       " {'License_Number': 200301437, 'License_Type': 'MD Full and Unrestricted'},\n",
       " {'License_Number': 30583, 'License_Type': 'MD Full and Unrestricted'},\n",
       " {'License_Number': 24887, 'License_Type': 'MD Full and Unrestricted'},\n",
       " {'License_Number': 9400004, 'License_Type': 'MD Full and Unrestricted'},\n",
       " {'License_Number': 9801132, 'License_Type': 'MD Full and Unrestricted'},\n",
       " {'License_Number': 200101418, 'License_Type': 'MD Full and Unrestricted'},\n",
       " {'License_Number': '2015-00705', 'License_Type': 'MD Full and Unrestricted'},\n",
       " {'License_Number': 31091, 'License_Type': 'MD Full and Unrestricted'},\n",
       " {'License_Number': 9300003, 'License_Type': 'MD Full and Unrestricted'},\n",
       " {'License_Number': '2012-01323', 'License_Type': 'MD Full and Unrestricted'},\n",
       " {'License_Number': '2013-01948', 'License_Type': 'MD Full and Unrestricted'},\n",
       " {'License_Number': '2008-00944', 'License_Type': 'MD Full and Unrestricted'},\n",
       " {'License_Number': 28724, 'License_Type': 'MD Full and Unrestricted'},\n",
       " {'License_Number': '2006-00763', 'License_Type': 'MD Full and Unrestricted'},\n",
       " {'License_Number': 9700170, 'License_Type': 'MD Full and Unrestricted'},\n",
       " {'License_Number': 20866, 'License_Type': 'MD Full and Unrestricted'},\n",
       " {'License_Number': 17927, 'License_Type': 'MD Full and Unrestricted'},\n",
       " {'License_Number': '2016-01835', 'License_Type': 'MD Full and Unrestricted'},\n",
       " {'License_Number': '2006-01806', 'License_Type': 'MD Full and Unrestricted'},\n",
       " {'License_Number': 9300004, 'License_Type': 'MD Full and Unrestricted'},\n",
       " {'License_Number': '2010-01444', 'License_Type': 'MD Full and Unrestricted'},\n",
       " {'License_Number': '2019-01413', 'License_Type': 'MD Full and Unrestricted'},\n",
       " {'License_Number': 28613, 'License_Type': 'MD Full and Unrestricted'},\n",
       " {'License_Number': 25679, 'License_Type': 'MD Full and Unrestricted'},\n",
       " {'License_Number': '2007-01359', 'License_Type': 'MD Full and Unrestricted'},\n",
       " {'License_Number': 9401111, 'License_Type': 'MD Full and Unrestricted'},\n",
       " {'License_Number': 9300408, 'License_Type': 'MD Full and Unrestricted'},\n",
       " {'License_Number': '2020-03020', 'License_Type': 'MD Full and Unrestricted'},\n",
       " {'License_Number': '2011-00832', 'License_Type': 'MD Full and Unrestricted'},\n",
       " {'License_Number': '2019-02685', 'License_Type': 'MD Full and Unrestricted'},\n",
       " {'License_Number': 39106, 'License_Type': 'MD Full and Unrestricted'},\n",
       " {'License_Number': '2011-01070', 'License_Type': 'MD Full and Unrestricted'},\n",
       " {'License_Number': '2015-00612', 'License_Type': 'MD Full and Unrestricted'},\n",
       " {'License_Number': 200300545, 'License_Type': 'MD Full and Unrestricted'},\n",
       " {'License_Number': '2010-02058', 'License_Type': 'MD Full and Unrestricted'},\n",
       " {'License_Number': '2020-00599', 'License_Type': 'MD Full and Unrestricted'},\n",
       " {'License_Number': 25767, 'License_Type': 'MD Full and Unrestricted'},\n",
       " {'License_Number': '2020-03395', 'License_Type': 'MD Full and Unrestricted'},\n",
       " {'License_Number': 200300004, 'License_Type': 'MD Full and Unrestricted'},\n",
       " {'License_Number': 200200629, 'License_Type': 'MD Full and Unrestricted'},\n",
       " {'License_Number': '2016-01860', 'License_Type': 'MD Full and Unrestricted'},\n",
       " {'License_Number': 9300005, 'License_Type': 'MD Full and Unrestricted'},\n",
       " {'License_Number': 34229, 'License_Type': 'MD Full and Unrestricted'},\n",
       " {'License_Number': 200000694, 'License_Type': 'MD Full and Unrestricted'},\n",
       " {'License_Number': '2014-01997', 'License_Type': 'MD Full and Unrestricted'},\n",
       " {'License_Number': '2015-00750', 'License_Type': 'MD Full and Unrestricted'},\n",
       " {'License_Number': '2018-01214', 'License_Type': 'MD Full and Unrestricted'},\n",
       " {'License_Number': '2013-01190', 'License_Type': 'MD Full and Unrestricted'},\n",
       " {'License_Number': '2019-01337', 'License_Type': 'MD Full and Unrestricted'},\n",
       " {'License_Number': 200100501, 'License_Type': 'MD Full and Unrestricted'},\n",
       " {'License_Number': 27353, 'License_Type': 'MD Full and Unrestricted'},\n",
       " {'License_Number': '2007-01455', 'License_Type': 'MD Full and Unrestricted'},\n",
       " {'License_Number': 200500003, 'License_Type': 'MD Full and Unrestricted'},\n",
       " {'License_Number': '2009-02083', 'License_Type': 'MD Full and Unrestricted'},\n",
       " {'License_Number': '2019-00328', 'License_Type': 'MD Full and Unrestricted'},\n",
       " {'License_Number': 16312, 'License_Type': 'MD Full and Unrestricted'},\n",
       " {'License_Number': '2017-00992', 'License_Type': 'MD Full and Unrestricted'},\n",
       " {'License_Number': '2006-01112', 'License_Type': 'MD Full and Unrestricted'},\n",
       " {'License_Number': '2006-00447', 'License_Type': 'MD Full and Unrestricted'},\n",
       " {'License_Number': '2020-00432', 'License_Type': 'MD Full and Unrestricted'},\n",
       " {'License_Number': 200200483, 'License_Type': 'MD Full and Unrestricted'},\n",
       " {'License_Number': '2009-00701', 'License_Type': 'MD Full and Unrestricted'},\n",
       " {'License_Number': '2014-02372', 'License_Type': 'MD Full and Unrestricted'},\n",
       " {'License_Number': '2018-01786', 'License_Type': 'MD Full and Unrestricted'},\n",
       " {'License_Number': '2020-03755', 'License_Type': 'MD Full and Unrestricted'},\n",
       " {'License_Number': '2012-00505', 'License_Type': 'MD Full and Unrestricted'},\n",
       " {'License_Number': '2010-00955', 'License_Type': 'MD Full and Unrestricted'},\n",
       " {'License_Number': '2010-01371', 'License_Type': 'MD Full and Unrestricted'},\n",
       " {'License_Number': 9700447, 'License_Type': 'MD Full and Unrestricted'},\n",
       " {'License_Number': 9900744, 'License_Type': 'MD Full and Unrestricted'},\n",
       " {'License_Number': '2019-01397', 'License_Type': 'MD Full and Unrestricted'},\n",
       " {'License_Number': 200001048, 'License_Type': 'MD Full and Unrestricted'},\n",
       " {'License_Number': '2011-00478', 'License_Type': 'MD Full and Unrestricted'},\n",
       " {'License_Number': 200001554, 'License_Type': 'MD Full and Unrestricted'},\n",
       " {'License_Number': '2019-02429', 'License_Type': 'MD Full and Unrestricted'},\n",
       " {'License_Number': '2015-01103', 'License_Type': 'MD Full and Unrestricted'},\n",
       " {'License_Number': 29996, 'License_Type': 'MD Full and Unrestricted'},\n",
       " {'License_Number': '2019-02825', 'License_Type': 'MD Full and Unrestricted'},\n",
       " {'License_Number': '2008-00038', 'License_Type': 'MD Full and Unrestricted'},\n",
       " {'License_Number': '2014-01887', 'License_Type': 'MD Full and Unrestricted'},\n",
       " {'License_Number': '2018-01561', 'License_Type': 'MD Full and Unrestricted'},\n",
       " {'License_Number': 200400005, 'License_Type': 'MD Full and Unrestricted'},\n",
       " {'License_Number': '2014-02269', 'License_Type': 'MD Full and Unrestricted'},\n",
       " {'License_Number': 9701212, 'License_Type': 'MD Full and Unrestricted'},\n",
       " {'License_Number': '2008-01398', 'License_Type': 'MD Full and Unrestricted'},\n",
       " {'License_Number': '2006-01653', 'License_Type': 'MD Full and Unrestricted'},\n",
       " {'License_Number': 200100822, 'License_Type': 'MD Full and Unrestricted'},\n",
       " {'License_Number': '2008-00941', 'License_Type': 'MD Full and Unrestricted'},\n",
       " {'License_Number': 200401610, 'License_Type': 'MD Full and Unrestricted'},\n",
       " {'License_Number': '2007-00699', 'License_Type': 'MD Full and Unrestricted'},\n",
       " {'License_Number': '2018-02258', 'License_Type': 'MD Full and Unrestricted'},\n",
       " {'License_Number': 200401159, 'License_Type': 'MD Full and Unrestricted'},\n",
       " {'License_Number': '2017-01704', 'License_Type': 'MD Full and Unrestricted'},\n",
       " {'License_Number': '2020-00232', 'License_Type': 'MD Full and Unrestricted'},\n",
       " {'License_Number': '2006-00422', 'License_Type': 'MD Full and Unrestricted'},\n",
       " {'License_Number': 9500293, 'License_Type': 'MD Full and Unrestricted'},\n",
       " {'License_Number': '2020-01279', 'License_Type': 'MD Full and Unrestricted'},\n",
       " {'License_Number': 200100581, 'License_Type': 'MD Full and Unrestricted'},\n",
       " {'License_Number': '2011-01098', 'License_Type': 'MD Full and Unrestricted'},\n",
       " {'License_Number': 39517, 'License_Type': 'MD Full and Unrestricted'},\n",
       " {'License_Number': '2009-00443', 'License_Type': 'MD Full and Unrestricted'},\n",
       " {'License_Number': 32975, 'License_Type': 'MD Full and Unrestricted'},\n",
       " {'License_Number': 9401112, 'License_Type': 'MD Full and Unrestricted'},\n",
       " {'License_Number': 200300113, 'License_Type': 'MD Full and Unrestricted'},\n",
       " {'License_Number': '2020-01526', 'License_Type': 'MD Full and Unrestricted'},\n",
       " {'License_Number': 200100207, 'License_Type': 'MD Full and Unrestricted'},\n",
       " {'License_Number': '2020-03966', 'License_Type': 'MD Full and Unrestricted'},\n",
       " {'License_Number': '2006-00968', 'License_Type': 'MD Full and Unrestricted'},\n",
       " {'License_Number': '2006-01103', 'License_Type': 'MD Full and Unrestricted'},\n",
       " {'License_Number': '2010-00178', 'License_Type': 'MD Full and Unrestricted'},\n",
       " {'License_Number': 33338, 'License_Type': 'MD Full and Unrestricted'},\n",
       " {'License_Number': 200201254, 'License_Type': 'MD Full and Unrestricted'},\n",
       " {'License_Number': 17928, 'License_Type': 'MD Full and Unrestricted'},\n",
       " {'License_Number': 28935, 'License_Type': 'MD Full and Unrestricted'},\n",
       " {'License_Number': 9400185, 'License_Type': 'MD Full and Unrestricted'},\n",
       " {'License_Number': 9800755, 'License_Type': 'MD Full and Unrestricted'},\n",
       " {'License_Number': 9800754, 'License_Type': 'MD Full and Unrestricted'},\n",
       " {'License_Number': '2018-01550', 'License_Type': 'MD Full and Unrestricted'},\n",
       " {'License_Number': 9800004, 'License_Type': 'MD Full and Unrestricted'},\n",
       " {'License_Number': '2017-00146', 'License_Type': 'MD Full and Unrestricted'},\n",
       " {'License_Number': 200000344, 'License_Type': 'MD Full and Unrestricted'},\n",
       " {'License_Number': 200000345, 'License_Type': 'MD Full and Unrestricted'},\n",
       " {'License_Number': 200100004, 'License_Type': 'MD Full and Unrestricted'},\n",
       " {'License_Number': '2005-01727', 'License_Type': 'MD Full and Unrestricted'},\n",
       " {'License_Number': '2009-00652', 'License_Type': 'MD Full and Unrestricted'},\n",
       " {'License_Number': '2013-00213', 'License_Type': 'MD Full and Unrestricted'},\n",
       " {'License_Number': '2006-01424', 'License_Type': 'MD Full and Unrestricted'},\n",
       " {'License_Number': '2017-00460', 'License_Type': 'MD Full and Unrestricted'},\n",
       " {'License_Number': '2020-00438', 'License_Type': 'MD Full and Unrestricted'},\n",
       " {'License_Number': '2016-01851', 'License_Type': 'MD Full and Unrestricted'},\n",
       " {'License_Number': '2012-02325', 'License_Type': 'MD Full and Unrestricted'},\n",
       " {'License_Number': '2009-02084', 'License_Type': 'MD Full and Unrestricted'},\n",
       " {'License_Number': '2007-01309', 'License_Type': 'MD Full and Unrestricted'},\n",
       " {'License_Number': '2019-00743', 'License_Type': 'MD Full and Unrestricted'},\n",
       " {'License_Number': '2016-00290', 'License_Type': 'MD Full and Unrestricted'},\n",
       " {'License_Number': '2016-00289', 'License_Type': 'MD Full and Unrestricted'},\n",
       " {'License_Number': 200200311, 'License_Type': 'MD Full and Unrestricted'},\n",
       " {'License_Number': '2007-01687', 'License_Type': 'MD Full and Unrestricted'},\n",
       " {'License_Number': '2020-00437', 'License_Type': 'MD Full and Unrestricted'},\n",
       " {'License_Number': '2005-01671', 'License_Type': 'MD Full and Unrestricted'},\n",
       " {'License_Number': '2018-02090', 'License_Type': 'MD Full and Unrestricted'},\n",
       " {'License_Number': '2019-02914', 'License_Type': 'MD Full and Unrestricted'},\n",
       " {'License_Number': '2015-02084', 'License_Type': 'MD Full and Unrestricted'},\n",
       " {'License_Number': 9500798, 'License_Type': 'MD Full and Unrestricted'},\n",
       " {'License_Number': '2020-03399', 'License_Type': 'MD Full and Unrestricted'},\n",
       " {'License_Number': 200100823, 'License_Type': 'MD Full and Unrestricted'},\n",
       " {'License_Number': '2020-00009', 'License_Type': 'MD Full and Unrestricted'},\n",
       " {'License_Number': 9800441, 'License_Type': 'MD Full and Unrestricted'},\n",
       " {'License_Number': '2008-01570', 'License_Type': 'MD Full and Unrestricted'},\n",
       " {'License_Number': '2020-02602', 'License_Type': 'MD Full and Unrestricted'},\n",
       " {'License_Number': '2013-01403', 'License_Type': 'MD Full and Unrestricted'},\n",
       " {'License_Number': '2011-01836', 'License_Type': 'MD Full and Unrestricted'},\n",
       " {'License_Number': 9800442, 'License_Type': 'MD Full and Unrestricted'},\n",
       " {'License_Number': '2011-01357', 'License_Type': 'MD Full and Unrestricted'},\n",
       " {'License_Number': '2005-01764', 'License_Type': 'MD Full and Unrestricted'},\n",
       " {'License_Number': '2020-02973', 'License_Type': 'MD Full and Unrestricted'},\n",
       " {'License_Number': 200100824, 'License_Type': 'MD Full and Unrestricted'},\n",
       " {'License_Number': '2020-02282', 'License_Type': 'MD Full and Unrestricted'},\n",
       " {'License_Number': '2018-02257', 'License_Type': 'MD Full and Unrestricted'},\n",
       " {'License_Number': '2014-01778', 'License_Type': 'MD Full and Unrestricted'},\n",
       " {'License_Number': '2017-02160', 'License_Type': 'MD Full and Unrestricted'},\n",
       " {'License_Number': '2020-01945', 'License_Type': 'MD Full and Unrestricted'},\n",
       " {'License_Number': '2017-02409', 'License_Type': 'MD Full and Unrestricted'},\n",
       " {'License_Number': '2008-01438', 'License_Type': 'MD Full and Unrestricted'},\n",
       " {'License_Number': '2012-01664', 'License_Type': 'MD Full and Unrestricted'},\n",
       " {'License_Number': '2017-01985', 'License_Type': 'MD Full and Unrestricted'},\n",
       " {'License_Number': 200100114, 'License_Type': 'MD Full and Unrestricted'},\n",
       " {'License_Number': 31421, 'License_Type': 'MD Full and Unrestricted'},\n",
       " {'License_Number': '2009-01832', 'License_Type': 'MD Full and Unrestricted'},\n",
       " {'License_Number': '2009-01999', 'License_Type': 'MD Full and Unrestricted'},\n",
       " {'License_Number': '2012-01549', 'License_Type': 'MD Full and Unrestricted'},\n",
       " {'License_Number': '2009-00546', 'License_Type': 'MD Full and Unrestricted'},\n",
       " {'License_Number': '2012-00979', 'License_Type': 'MD Full and Unrestricted'},\n",
       " {'License_Number': '2019-01182', 'License_Type': 'MD Full and Unrestricted'},\n",
       " {'License_Number': '2019-00999', 'License_Type': 'MD Full and Unrestricted'},\n",
       " {'License_Number': '2006-00313', 'License_Type': 'MD Full and Unrestricted'},\n",
       " {'License_Number': '2020-02780', 'License_Type': 'MD Full and Unrestricted'},\n",
       " {'License_Number': 9500799, 'License_Type': 'MD Full and Unrestricted'},\n",
       " {'License_Number': '2014-00817', 'License_Type': 'MD Full and Unrestricted'},\n",
       " {'License_Number': '2020-00133', 'License_Type': 'MD Full and Unrestricted'},\n",
       " {'License_Number': '2013-01493', 'License_Type': 'MD Full and Unrestricted'},\n",
       " {'License_Number': '2006-01286', 'License_Type': 'MD Full and Unrestricted'},\n",
       " {'License_Number': '2006-01510', 'License_Type': 'MD Full and Unrestricted'},\n",
       " {'License_Number': '2020-01266', 'License_Type': 'MD Full and Unrestricted'},\n",
       " {'License_Number': 9600436, 'License_Type': 'MD Full and Unrestricted'},\n",
       " {'License_Number': 9601206, 'License_Type': 'MD Full and Unrestricted'},\n",
       " {'License_Number': '2016-00679', 'License_Type': 'MD Full and Unrestricted'},\n",
       " {'License_Number': 200300546, 'License_Type': 'MD Full and Unrestricted'},\n",
       " {'License_Number': '2011-01723', 'License_Type': 'MD Full and Unrestricted'},\n",
       " {'License_Number': '2011-00474', 'License_Type': 'MD Full and Unrestricted'},\n",
       " {'License_Number': 9800757, 'License_Type': 'MD Full and Unrestricted'},\n",
       " {'License_Number': 22207, 'License_Type': 'MD Full and Unrestricted'},\n",
       " {'License_Number': '2009-01030', 'License_Type': 'MD Full and Unrestricted'},\n",
       " {'License_Number': '2018-00517', 'License_Type': 'MD Full and Unrestricted'},\n",
       " {'License_Number': 9700834, 'License_Type': 'MD Full and Unrestricted'},\n",
       " {'License_Number': 200001457, 'License_Type': 'MD Full and Unrestricted'},\n",
       " {'License_Number': 200300922, 'License_Type': 'MD Full and Unrestricted'},\n",
       " {'License_Number': '2015-01489', 'License_Type': 'MD Full and Unrestricted'},\n",
       " {'License_Number': '2018-01442', 'License_Type': 'MD Full and Unrestricted'},\n",
       " {'License_Number': '2005-00582', 'License_Type': 'MD Full and Unrestricted'},\n",
       " {'License_Number': 200000167, 'License_Type': 'MD Full and Unrestricted'},\n",
       " {'License_Number': 200000168, 'License_Type': 'MD Full and Unrestricted'},\n",
       " {'License_Number': 200000169, 'License_Type': 'MD Full and Unrestricted'},\n",
       " {'License_Number': 9800758, 'License_Type': 'MD Full and Unrestricted'},\n",
       " {'License_Number': 9600417, 'License_Type': 'MD Full and Unrestricted'},\n",
       " {'License_Number': 200400289, 'License_Type': 'MD Full and Unrestricted'},\n",
       " {'License_Number': '2020-01264', 'License_Type': 'MD Full and Unrestricted'},\n",
       " {'License_Number': '2017-01699', 'License_Type': 'MD Full and Unrestricted'},\n",
       " {'License_Number': '2020-02803', 'License_Type': 'MD Full and Unrestricted'},\n",
       " {'License_Number': '2020-01585', 'License_Type': 'MD Full and Unrestricted'},\n",
       " {'License_Number': 9601144, 'License_Type': 'MD Full and Unrestricted'},\n",
       " {'License_Number': 200100115, 'License_Type': 'MD Full and Unrestricted'},\n",
       " {'License_Number': 9700835, 'License_Type': 'MD Full and Unrestricted'},\n",
       " {'License_Number': '2014-00543', 'License_Type': 'MD Full and Unrestricted'},\n",
       " {'License_Number': '2019-00128', 'License_Type': 'MD Full and Unrestricted'},\n",
       " {'License_Number': '2019-01312', 'License_Type': 'MD Full and Unrestricted'},\n",
       " {'License_Number': '2018-01892', 'License_Type': 'MD Full and Unrestricted'},\n",
       " {'License_Number': 9400694, 'License_Type': 'MD Full and Unrestricted'},\n",
       " {'License_Number': '2010-00505', 'License_Type': 'MD Full and Unrestricted'},\n",
       " {'License_Number': '2020-02278', 'License_Type': 'MD Full and Unrestricted'},\n",
       " {'License_Number': '2011-01204', 'License_Type': 'MD Full and Unrestricted'},\n",
       " {'License_Number': '2011-00720', 'License_Type': 'MD Full and Unrestricted'},\n",
       " {'License_Number': '2006-01193', 'License_Type': 'MD Full and Unrestricted'},\n",
       " {'License_Number': 9600164, 'License_Type': 'MD Full and Unrestricted'},\n",
       " {'License_Number': '2020-01946', 'License_Type': 'MD Full and Unrestricted'},\n",
       " {'License_Number': 200401015, 'License_Type': 'MD Full and Unrestricted'},\n",
       " {'License_Number': 24332, 'License_Type': 'MD Full and Unrestricted'},\n",
       " {'License_Number': '2020-00714', 'License_Type': 'MD Full and Unrestricted'}]"
      ]
     },
     "execution_count": 27,
     "metadata": {},
     "output_type": "execute_result"
    }
   ],
   "source": [
    "license_dict_list"
   ]
  },
  {
   "cell_type": "code",
   "execution_count": 88,
   "metadata": {},
   "outputs": [
    {
     "data": {
      "text/plain": [
       "11954"
      ]
     },
     "execution_count": 88,
     "metadata": {},
     "output_type": "execute_result"
    }
   ],
   "source": [
    "len(license_dict_list)"
   ]
  },
  {
   "cell_type": "code",
   "execution_count": 52,
   "metadata": {},
   "outputs": [],
   "source": [
    "index+=1"
   ]
  },
  {
   "cell_type": "code",
   "execution_count": 66,
   "metadata": {},
   "outputs": [],
   "source": [
    "nc_lic[index:].sort_values('ME').to_csv('../../Data/License/ordered_lic.csv', index=False)"
   ]
  },
  {
   "cell_type": "code",
   "execution_count": 69,
   "metadata": {},
   "outputs": [],
   "source": [
    "LIC_LIST = list(nc_lic[index:].sort_values('ME',ascending = False)['LIC_NBR'])"
   ]
  },
  {
   "cell_type": "code",
   "execution_count": 71,
   "metadata": {},
   "outputs": [
    {
     "data": {
      "text/plain": [
       "0"
      ]
     },
     "execution_count": 71,
     "metadata": {},
     "output_type": "execute_result"
    }
   ],
   "source": [
    "index"
   ]
  },
  {
   "cell_type": "code",
   "execution_count": 91,
   "metadata": {},
   "outputs": [],
   "source": [
    "status_1 = pd.read_csv(\"../../Data/License/NC_License_Status_1.csv\")\n",
    "status_2 = pd.read_csv(\"../../Data/License/NC_License_Status_2.csv\")"
   ]
  },
  {
   "cell_type": "code",
   "execution_count": 94,
   "metadata": {},
   "outputs": [],
   "source": [
    "license_status_df = pd.concat([status_1, status_2]).drop_duplicates()"
   ]
  },
  {
   "cell_type": "code",
   "execution_count": 95,
   "metadata": {},
   "outputs": [
    {
     "data": {
      "text/html": [
       "<div>\n",
       "<style scoped>\n",
       "    .dataframe tbody tr th:only-of-type {\n",
       "        vertical-align: middle;\n",
       "    }\n",
       "\n",
       "    .dataframe tbody tr th {\n",
       "        vertical-align: top;\n",
       "    }\n",
       "\n",
       "    .dataframe thead th {\n",
       "        text-align: right;\n",
       "    }\n",
       "</style>\n",
       "<table border=\"1\" class=\"dataframe\">\n",
       "  <thead>\n",
       "    <tr style=\"text-align: right;\">\n",
       "      <th></th>\n",
       "      <th>ME</th>\n",
       "      <th>FIRST_NAME</th>\n",
       "      <th>LAST_NAME</th>\n",
       "      <th>LIC_NBR</th>\n",
       "    </tr>\n",
       "  </thead>\n",
       "  <tbody>\n",
       "    <tr>\n",
       "      <td>0</td>\n",
       "      <td>102000030</td>\n",
       "      <td>MARK</td>\n",
       "      <td>JACKSON</td>\n",
       "      <td>200201481</td>\n",
       "    </tr>\n",
       "    <tr>\n",
       "      <td>1</td>\n",
       "      <td>102000129</td>\n",
       "      <td>CORY</td>\n",
       "      <td>BEAN</td>\n",
       "      <td>200201219</td>\n",
       "    </tr>\n",
       "    <tr>\n",
       "      <td>2</td>\n",
       "      <td>102000196</td>\n",
       "      <td>REBECCA</td>\n",
       "      <td>SUGG</td>\n",
       "      <td>2007-00835</td>\n",
       "    </tr>\n",
       "    <tr>\n",
       "      <td>3</td>\n",
       "      <td>102000200</td>\n",
       "      <td>CHARLES</td>\n",
       "      <td>BLAKE</td>\n",
       "      <td>2005-01659</td>\n",
       "    </tr>\n",
       "    <tr>\n",
       "      <td>4</td>\n",
       "      <td>102000242</td>\n",
       "      <td>JOSEPH</td>\n",
       "      <td>MOBLEY</td>\n",
       "      <td>2010-01708</td>\n",
       "    </tr>\n",
       "    <tr>\n",
       "      <td>...</td>\n",
       "      <td>...</td>\n",
       "      <td>...</td>\n",
       "      <td>...</td>\n",
       "      <td>...</td>\n",
       "    </tr>\n",
       "    <tr>\n",
       "      <td>74727</td>\n",
       "      <td>96501870037</td>\n",
       "      <td>SYED</td>\n",
       "      <td>HUSSAIN</td>\n",
       "      <td>9601638</td>\n",
       "    </tr>\n",
       "    <tr>\n",
       "      <td>74728</td>\n",
       "      <td>96501880059</td>\n",
       "      <td>NASEEM</td>\n",
       "      <td>ISMAIL</td>\n",
       "      <td>200200552</td>\n",
       "    </tr>\n",
       "    <tr>\n",
       "      <td>74729</td>\n",
       "      <td>96501890038</td>\n",
       "      <td>BETSY</td>\n",
       "      <td>PANICKER</td>\n",
       "      <td>2009-02099</td>\n",
       "    </tr>\n",
       "    <tr>\n",
       "      <td>74730</td>\n",
       "      <td>96501960044</td>\n",
       "      <td>MWIZA</td>\n",
       "      <td>GAUSI</td>\n",
       "      <td>2016-02379</td>\n",
       "    </tr>\n",
       "    <tr>\n",
       "      <td>74731</td>\n",
       "      <td>96501960052</td>\n",
       "      <td>MASIKU</td>\n",
       "      <td>MDALA-GAUSI</td>\n",
       "      <td>2013-01270</td>\n",
       "    </tr>\n",
       "  </tbody>\n",
       "</table>\n",
       "<p>68826 rows × 4 columns</p>\n",
       "</div>"
      ],
      "text/plain": [
       "                ME FIRST_NAME    LAST_NAME     LIC_NBR\n",
       "0        102000030       MARK      JACKSON   200201481\n",
       "1        102000129       CORY         BEAN   200201219\n",
       "2        102000196    REBECCA         SUGG  2007-00835\n",
       "3        102000200    CHARLES        BLAKE  2005-01659\n",
       "4        102000242     JOSEPH       MOBLEY  2010-01708\n",
       "...            ...        ...          ...         ...\n",
       "74727  96501870037       SYED      HUSSAIN     9601638\n",
       "74728  96501880059     NASEEM       ISMAIL   200200552\n",
       "74729  96501890038      BETSY     PANICKER  2009-02099\n",
       "74730  96501960044      MWIZA        GAUSI  2016-02379\n",
       "74731  96501960052     MASIKU  MDALA-GAUSI  2013-01270\n",
       "\n",
       "[68826 rows x 4 columns]"
      ]
     },
     "execution_count": 95,
     "metadata": {},
     "output_type": "execute_result"
    }
   ],
   "source": [
    "nc_lic"
   ]
  },
  {
   "cell_type": "code",
   "execution_count": 103,
   "metadata": {},
   "outputs": [],
   "source": [
    "NC_LIC_STATUS = pd.merge(license_status_df, nc_lic, left_on='License_Number', right_on='LIC_NBR', how='right')"
   ]
  },
  {
   "cell_type": "code",
   "execution_count": 102,
   "metadata": {},
   "outputs": [
    {
     "data": {
      "text/html": [
       "<div>\n",
       "<style scoped>\n",
       "    .dataframe tbody tr th:only-of-type {\n",
       "        vertical-align: middle;\n",
       "    }\n",
       "\n",
       "    .dataframe tbody tr th {\n",
       "        vertical-align: top;\n",
       "    }\n",
       "\n",
       "    .dataframe thead th {\n",
       "        text-align: right;\n",
       "    }\n",
       "</style>\n",
       "<table border=\"1\" class=\"dataframe\">\n",
       "  <thead>\n",
       "    <tr style=\"text-align: right;\">\n",
       "      <th></th>\n",
       "      <th>ME</th>\n",
       "      <th>FIRST_NAME</th>\n",
       "      <th>LAST_NAME</th>\n",
       "      <th>LIC_NBR</th>\n",
       "    </tr>\n",
       "  </thead>\n",
       "  <tbody>\n",
       "    <tr>\n",
       "      <td>7328</td>\n",
       "      <td>1176080732</td>\n",
       "      <td>GABRIEL</td>\n",
       "      <td>JOHNSON</td>\n",
       "      <td>2018-00655</td>\n",
       "    </tr>\n",
       "  </tbody>\n",
       "</table>\n",
       "</div>"
      ],
      "text/plain": [
       "              ME FIRST_NAME LAST_NAME     LIC_NBR\n",
       "7328  1176080732    GABRIEL   JOHNSON  2018-00655"
      ]
     },
     "execution_count": 102,
     "metadata": {},
     "output_type": "execute_result"
    }
   ],
   "source": [
    "nc_lic[nc_lic['LIC_NBR'].isin(NC_LIC_STATUS.LIC_NBR)==False]"
   ]
  },
  {
   "cell_type": "code",
   "execution_count": 105,
   "metadata": {},
   "outputs": [],
   "source": [
    "NC_LIC_STATUS.to_csv('NC_License_Status_2020-08-03.csv', index=False)"
   ]
  },
  {
   "cell_type": "code",
   "execution_count": 3,
   "metadata": {},
   "outputs": [],
   "source": [
    "import pandas as pd\n",
    "og = pd.read_excel(\"../../Data/License/NC_091020.xlsx\")\n",
    "df_1 = pd.read_csv(\"../../Data/License/NC_License_Status_2020-09-11.csv\")\n",
    "df_2 = pd.read_csv(\"../../Data/License/NC_License_Status_2020-09-12.csv\")"
   ]
  },
  {
   "cell_type": "code",
   "execution_count": 4,
   "metadata": {},
   "outputs": [
    {
     "data": {
      "text/plain": [
       "42703"
      ]
     },
     "execution_count": 4,
     "metadata": {},
     "output_type": "execute_result"
    }
   ],
   "source": [
    "len(og)"
   ]
  },
  {
   "cell_type": "code",
   "execution_count": 8,
   "metadata": {},
   "outputs": [],
   "source": [
    "df_all = pd.concat([df_1, df_2])"
   ]
  },
  {
   "cell_type": "code",
   "execution_count": 9,
   "metadata": {},
   "outputs": [
    {
     "data": {
      "text/html": [
       "<div>\n",
       "<style scoped>\n",
       "    .dataframe tbody tr th:only-of-type {\n",
       "        vertical-align: middle;\n",
       "    }\n",
       "\n",
       "    .dataframe tbody tr th {\n",
       "        vertical-align: top;\n",
       "    }\n",
       "\n",
       "    .dataframe thead th {\n",
       "        text-align: right;\n",
       "    }\n",
       "</style>\n",
       "<table border=\"1\" class=\"dataframe\">\n",
       "  <thead>\n",
       "    <tr style=\"text-align: right;\">\n",
       "      <th></th>\n",
       "      <th>License_Number</th>\n",
       "      <th>License_Type</th>\n",
       "    </tr>\n",
       "  </thead>\n",
       "  <tbody>\n",
       "    <tr>\n",
       "      <td>0</td>\n",
       "      <td>2007-01286</td>\n",
       "      <td>Full and Unrestricted</td>\n",
       "    </tr>\n",
       "    <tr>\n",
       "      <td>1</td>\n",
       "      <td>2018-02560</td>\n",
       "      <td>Full and Unrestricted</td>\n",
       "    </tr>\n",
       "    <tr>\n",
       "      <td>2</td>\n",
       "      <td>2013-02286</td>\n",
       "      <td>Full and Unrestricted</td>\n",
       "    </tr>\n",
       "    <tr>\n",
       "      <td>3</td>\n",
       "      <td>2019-01910</td>\n",
       "      <td>Full and Unrestricted</td>\n",
       "    </tr>\n",
       "    <tr>\n",
       "      <td>4</td>\n",
       "      <td>2012-00426</td>\n",
       "      <td>Full and Unrestricted</td>\n",
       "    </tr>\n",
       "    <tr>\n",
       "      <td>...</td>\n",
       "      <td>...</td>\n",
       "      <td>...</td>\n",
       "    </tr>\n",
       "    <tr>\n",
       "      <td>25529</td>\n",
       "      <td>2009-01440</td>\n",
       "      <td>Full and Unrestricted</td>\n",
       "    </tr>\n",
       "    <tr>\n",
       "      <td>25530</td>\n",
       "      <td>2015-00720</td>\n",
       "      <td>Full and Unrestricted</td>\n",
       "    </tr>\n",
       "    <tr>\n",
       "      <td>25531</td>\n",
       "      <td>2015-01273</td>\n",
       "      <td>Full and Unrestricted</td>\n",
       "    </tr>\n",
       "    <tr>\n",
       "      <td>25532</td>\n",
       "      <td>2015-01831</td>\n",
       "      <td>Full and Unrestricted</td>\n",
       "    </tr>\n",
       "    <tr>\n",
       "      <td>25533</td>\n",
       "      <td>2019-01183</td>\n",
       "      <td>Full and Unrestricted</td>\n",
       "    </tr>\n",
       "  </tbody>\n",
       "</table>\n",
       "<p>25534 rows × 2 columns</p>\n",
       "</div>"
      ],
      "text/plain": [
       "      License_Number           License_Type\n",
       "0         2007-01286  Full and Unrestricted\n",
       "1         2018-02560  Full and Unrestricted\n",
       "2         2013-02286  Full and Unrestricted\n",
       "3         2019-01910  Full and Unrestricted\n",
       "4         2012-00426  Full and Unrestricted\n",
       "...              ...                    ...\n",
       "25529     2009-01440  Full and Unrestricted\n",
       "25530     2015-00720  Full and Unrestricted\n",
       "25531     2015-01273  Full and Unrestricted\n",
       "25532     2015-01831  Full and Unrestricted\n",
       "25533     2019-01183  Full and Unrestricted\n",
       "\n",
       "[25534 rows x 2 columns]"
      ]
     },
     "execution_count": 9,
     "metadata": {},
     "output_type": "execute_result"
    }
   ],
   "source": [
    "pd.merge(og, df_all, on = 'License_Number')"
   ]
  },
  {
   "cell_type": "code",
   "execution_count": 12,
   "metadata": {},
   "outputs": [],
   "source": [
    "df_all.drop_duplicates().to_excel('../../Data/NC_License_Status_2020-09-12.xlsx', index=False)"
   ]
  },
  {
   "cell_type": "code",
   "execution_count": 36,
   "metadata": {},
   "outputs": [
    {
     "data": {
      "text/plain": [
       "42968"
      ]
     },
     "execution_count": 36,
     "metadata": {},
     "output_type": "execute_result"
    }
   ],
   "source": [
    "len(nc_lic)"
   ]
  },
  {
   "cell_type": "code",
   "execution_count": 39,
   "metadata": {},
   "outputs": [],
   "source": [
    "df_1 = pd.read_csv('../../Data/License/NC_License_Status_2020-11-11_1.csv')\n",
    "df_2 = pd.read_csv('../../Data/License/NC_License_Status_2020-11-12_1.csv')\n",
    "df_3 = pd.read_csv('../../Data/License/NC_License_Status_2020-11-12_2.csv')\n",
    "df_4 = pd.read_csv('../../Data/License/NC_License_Status_2020-11-13_0.csv')\n",
    "df_5 = pd.read_csv('../../Data/License/NC_License_Status_2020-11-13_1.csv')\n",
    "df_6 = pd.read_csv('../../Data/License/NC_License_Status_2020-11-13_2.csv')\n",
    "df_7 = pd.read_csv('../../Data/License/NC_License_Status_2020-11-13_3.csv')\n",
    "df_8 = pd.read_csv('../../Data/License/NC_License_Status_2020-11-13_4.csv')"
   ]
  },
  {
   "cell_type": "code",
   "execution_count": 41,
   "metadata": {},
   "outputs": [],
   "source": [
    "all_that = pd.concat([df_1,df_2,df_2,df_3,df_4,df_5,df_5,df_6, df_7,df_8])"
   ]
  },
  {
   "cell_type": "code",
   "execution_count": 43,
   "metadata": {},
   "outputs": [],
   "source": [
    "all_that = all_that.drop_duplicates()"
   ]
  },
  {
   "cell_type": "code",
   "execution_count": 46,
   "metadata": {},
   "outputs": [],
   "source": [
    "all_that = pd.merge(all_that, nc_lic, on='License_Number')"
   ]
  },
  {
   "cell_type": "code",
   "execution_count": 45,
   "metadata": {},
   "outputs": [
    {
     "data": {
      "text/plain": [
       "42968"
      ]
     },
     "execution_count": 45,
     "metadata": {},
     "output_type": "execute_result"
    }
   ],
   "source": [
    "len(nc_lic)"
   ]
  },
  {
   "cell_type": "code",
   "execution_count": 51,
   "metadata": {},
   "outputs": [],
   "source": [
    "all_that = all_that.drop_duplicates('License_Number')"
   ]
  },
  {
   "cell_type": "code",
   "execution_count": 50,
   "metadata": {},
   "outputs": [
    {
     "data": {
      "text/html": [
       "<div>\n",
       "<style scoped>\n",
       "    .dataframe tbody tr th:only-of-type {\n",
       "        vertical-align: middle;\n",
       "    }\n",
       "\n",
       "    .dataframe tbody tr th {\n",
       "        vertical-align: top;\n",
       "    }\n",
       "\n",
       "    .dataframe thead th {\n",
       "        text-align: right;\n",
       "    }\n",
       "</style>\n",
       "<table border=\"1\" class=\"dataframe\">\n",
       "  <thead>\n",
       "    <tr style=\"text-align: right;\">\n",
       "      <th></th>\n",
       "      <th>License_Number</th>\n",
       "    </tr>\n",
       "  </thead>\n",
       "  <tbody>\n",
       "    <tr>\n",
       "      <td>39061</td>\n",
       "      <td>9800406</td>\n",
       "    </tr>\n",
       "  </tbody>\n",
       "</table>\n",
       "</div>"
      ],
      "text/plain": [
       "      License_Number\n",
       "39061        9800406"
      ]
     },
     "execution_count": 50,
     "metadata": {},
     "output_type": "execute_result"
    }
   ],
   "source": [
    "nc_lic[nc_lic.License_Number.isin(all_that.License_Number)==False]"
   ]
  },
  {
   "cell_type": "code",
   "execution_count": 52,
   "metadata": {},
   "outputs": [
    {
     "data": {
      "text/plain": [
       "'toria'"
      ]
     },
     "execution_count": 52,
     "metadata": {},
     "output_type": "execute_result"
    }
   ],
   "source": [
    "all_thst"
   ]
  },
  {
   "cell_type": "code",
   "execution_count": 54,
   "metadata": {},
   "outputs": [],
   "source": [
    "all_that.License_Type = [x[3:] for x in all_that.License_Type]"
   ]
  },
  {
   "cell_type": "code",
   "execution_count": 55,
   "metadata": {},
   "outputs": [
    {
     "data": {
      "text/html": [
       "<div>\n",
       "<style scoped>\n",
       "    .dataframe tbody tr th:only-of-type {\n",
       "        vertical-align: middle;\n",
       "    }\n",
       "\n",
       "    .dataframe tbody tr th {\n",
       "        vertical-align: top;\n",
       "    }\n",
       "\n",
       "    .dataframe thead th {\n",
       "        text-align: right;\n",
       "    }\n",
       "</style>\n",
       "<table border=\"1\" class=\"dataframe\">\n",
       "  <thead>\n",
       "    <tr style=\"text-align: right;\">\n",
       "      <th></th>\n",
       "      <th>License_Number</th>\n",
       "      <th>License_Type</th>\n",
       "    </tr>\n",
       "  </thead>\n",
       "  <tbody>\n",
       "    <tr>\n",
       "      <td>0</td>\n",
       "      <td>2007-01286</td>\n",
       "      <td>Full and Unrestricted</td>\n",
       "    </tr>\n",
       "    <tr>\n",
       "      <td>1</td>\n",
       "      <td>2018-02560</td>\n",
       "      <td>Full and Unrestricted</td>\n",
       "    </tr>\n",
       "    <tr>\n",
       "      <td>2</td>\n",
       "      <td>2013-02286</td>\n",
       "      <td>Full and Unrestricted</td>\n",
       "    </tr>\n",
       "    <tr>\n",
       "      <td>3</td>\n",
       "      <td>38886</td>\n",
       "      <td>Full and Unrestricted</td>\n",
       "    </tr>\n",
       "    <tr>\n",
       "      <td>4</td>\n",
       "      <td>38647</td>\n",
       "      <td>Full and Unrestricted</td>\n",
       "    </tr>\n",
       "    <tr>\n",
       "      <td>...</td>\n",
       "      <td>...</td>\n",
       "      <td>...</td>\n",
       "    </tr>\n",
       "    <tr>\n",
       "      <td>42963</td>\n",
       "      <td>9501709</td>\n",
       "      <td>Full and Unrestricted</td>\n",
       "    </tr>\n",
       "    <tr>\n",
       "      <td>42964</td>\n",
       "      <td>24960</td>\n",
       "      <td>Full and Unrestricted</td>\n",
       "    </tr>\n",
       "    <tr>\n",
       "      <td>42965</td>\n",
       "      <td>2015-01273</td>\n",
       "      <td>Full and Unrestricted</td>\n",
       "    </tr>\n",
       "    <tr>\n",
       "      <td>42966</td>\n",
       "      <td>2015-01831</td>\n",
       "      <td>Full and Unrestricted</td>\n",
       "    </tr>\n",
       "    <tr>\n",
       "      <td>42967</td>\n",
       "      <td>2019-01183</td>\n",
       "      <td>Full and Unrestricted</td>\n",
       "    </tr>\n",
       "  </tbody>\n",
       "</table>\n",
       "<p>42967 rows × 2 columns</p>\n",
       "</div>"
      ],
      "text/plain": [
       "      License_Number           License_Type\n",
       "0         2007-01286  Full and Unrestricted\n",
       "1         2018-02560  Full and Unrestricted\n",
       "2         2013-02286  Full and Unrestricted\n",
       "3              38886  Full and Unrestricted\n",
       "4              38647  Full and Unrestricted\n",
       "...              ...                    ...\n",
       "42963        9501709  Full and Unrestricted\n",
       "42964          24960  Full and Unrestricted\n",
       "42965     2015-01273  Full and Unrestricted\n",
       "42966     2015-01831  Full and Unrestricted\n",
       "42967     2019-01183  Full and Unrestricted\n",
       "\n",
       "[42967 rows x 2 columns]"
      ]
     },
     "execution_count": 55,
     "metadata": {},
     "output_type": "execute_result"
    }
   ],
   "source": [
    "all_that"
   ]
  },
  {
   "cell_type": "code",
   "execution_count": 57,
   "metadata": {},
   "outputs": [],
   "source": [
    "df2 = pd.DataFrame([['9800406', 'Full and Unrestricted']], columns=['License_Number','License_Type'])\n",
    "all_that = all_that.append(df2)"
   ]
  },
  {
   "cell_type": "code",
   "execution_count": 58,
   "metadata": {},
   "outputs": [
    {
     "data": {
      "text/html": [
       "<div>\n",
       "<style scoped>\n",
       "    .dataframe tbody tr th:only-of-type {\n",
       "        vertical-align: middle;\n",
       "    }\n",
       "\n",
       "    .dataframe tbody tr th {\n",
       "        vertical-align: top;\n",
       "    }\n",
       "\n",
       "    .dataframe thead th {\n",
       "        text-align: right;\n",
       "    }\n",
       "</style>\n",
       "<table border=\"1\" class=\"dataframe\">\n",
       "  <thead>\n",
       "    <tr style=\"text-align: right;\">\n",
       "      <th></th>\n",
       "      <th>License_Number</th>\n",
       "    </tr>\n",
       "  </thead>\n",
       "  <tbody>\n",
       "    <tr>\n",
       "      <td>0</td>\n",
       "      <td>2007-01286</td>\n",
       "    </tr>\n",
       "    <tr>\n",
       "      <td>1</td>\n",
       "      <td>2018-02560</td>\n",
       "    </tr>\n",
       "    <tr>\n",
       "      <td>2</td>\n",
       "      <td>2013-02286</td>\n",
       "    </tr>\n",
       "    <tr>\n",
       "      <td>3</td>\n",
       "      <td>38886</td>\n",
       "    </tr>\n",
       "    <tr>\n",
       "      <td>4</td>\n",
       "      <td>38647</td>\n",
       "    </tr>\n",
       "    <tr>\n",
       "      <td>...</td>\n",
       "      <td>...</td>\n",
       "    </tr>\n",
       "    <tr>\n",
       "      <td>42963</td>\n",
       "      <td>9501709</td>\n",
       "    </tr>\n",
       "    <tr>\n",
       "      <td>42964</td>\n",
       "      <td>24960</td>\n",
       "    </tr>\n",
       "    <tr>\n",
       "      <td>42965</td>\n",
       "      <td>2015-01273</td>\n",
       "    </tr>\n",
       "    <tr>\n",
       "      <td>42966</td>\n",
       "      <td>2015-01831</td>\n",
       "    </tr>\n",
       "    <tr>\n",
       "      <td>42967</td>\n",
       "      <td>2019-01183</td>\n",
       "    </tr>\n",
       "  </tbody>\n",
       "</table>\n",
       "<p>42968 rows × 1 columns</p>\n",
       "</div>"
      ],
      "text/plain": [
       "      License_Number\n",
       "0         2007-01286\n",
       "1         2018-02560\n",
       "2         2013-02286\n",
       "3              38886\n",
       "4              38647\n",
       "...              ...\n",
       "42963        9501709\n",
       "42964          24960\n",
       "42965     2015-01273\n",
       "42966     2015-01831\n",
       "42967     2019-01183\n",
       "\n",
       "[42968 rows x 1 columns]"
      ]
     },
     "execution_count": 58,
     "metadata": {},
     "output_type": "execute_result"
    }
   ],
   "source": [
    "nc_lic"
   ]
  },
  {
   "cell_type": "code",
   "execution_count": 60,
   "metadata": {},
   "outputs": [],
   "source": [
    "all_that = pd.merge(nc_lic, all_that, on='License_Number')"
   ]
  },
  {
   "cell_type": "code",
   "execution_count": 62,
   "metadata": {},
   "outputs": [
    {
     "data": {
      "text/html": [
       "<div>\n",
       "<style scoped>\n",
       "    .dataframe tbody tr th:only-of-type {\n",
       "        vertical-align: middle;\n",
       "    }\n",
       "\n",
       "    .dataframe tbody tr th {\n",
       "        vertical-align: top;\n",
       "    }\n",
       "\n",
       "    .dataframe thead th {\n",
       "        text-align: right;\n",
       "    }\n",
       "</style>\n",
       "<table border=\"1\" class=\"dataframe\">\n",
       "  <thead>\n",
       "    <tr style=\"text-align: right;\">\n",
       "      <th></th>\n",
       "      <th>License_Number</th>\n",
       "      <th>License_Type</th>\n",
       "    </tr>\n",
       "  </thead>\n",
       "  <tbody>\n",
       "  </tbody>\n",
       "</table>\n",
       "</div>"
      ],
      "text/plain": [
       "Empty DataFrame\n",
       "Columns: [License_Number, License_Type]\n",
       "Index: []"
      ]
     },
     "execution_count": 62,
     "metadata": {},
     "output_type": "execute_result"
    }
   ],
   "source": [
    "all_that[all_that['License_Type']=='Not found']"
   ]
  },
  {
   "cell_type": "code",
   "execution_count": 63,
   "metadata": {},
   "outputs": [],
   "source": [
    "all_that.to_excel('../../Data/License/NC_License_Status_2020-11-13.xlsx', index=False)"
   ]
  },
  {
   "cell_type": "code",
   "execution_count": null,
   "metadata": {},
   "outputs": [],
   "source": []
  }
 ],
 "metadata": {
  "kernelspec": {
   "display_name": "Python 3",
   "language": "python",
   "name": "python3"
  },
  "language_info": {
   "codemirror_mode": {
    "name": "ipython",
    "version": 3
   },
   "file_extension": ".py",
   "mimetype": "text/x-python",
   "name": "python",
   "nbconvert_exporter": "python",
   "pygments_lexer": "ipython3",
   "version": "3.7.4"
  }
 },
 "nbformat": 4,
 "nbformat_minor": 2
}
