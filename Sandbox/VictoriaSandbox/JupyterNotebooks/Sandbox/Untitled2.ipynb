{
 "cells": [
  {
   "cell_type": "code",
   "execution_count": 6,
   "metadata": {},
   "outputs": [],
   "source": [
    "letters = ['l','e','v','n','u','i','j']"
   ]
  },
  {
   "cell_type": "code",
   "execution_count": 7,
   "metadata": {},
   "outputs": [],
   "source": [
    "options = []\n",
    "for letter in letters:\n",
    "    for letter_2 in letters:\n",
    "        options.append(letter + letter_2)"
   ]
  },
  {
   "cell_type": "code",
   "execution_count": 10,
   "metadata": {},
   "outputs": [],
   "source": [
    "actual_options = []\n",
    "for option in options:\n",
    "    actual_options.append('ji'+'n'+option)\n",
    "    actual_options.append('ji'+option[0]+'n'+option[1])\n",
    "    acutal_options.append('ji'+ option + 'n')"
   ]
  },
  {
   "cell_type": "code",
   "execution_count": 12,
   "metadata": {},
   "outputs": [],
   "source": [
    "actual_options.sort()"
   ]
  },
  {
   "cell_type": "code",
   "execution_count": 14,
   "metadata": {},
   "outputs": [],
   "source": [
    "actual_options = list(set(actual_options))"
   ]
  },
  {
   "cell_type": "code",
   "execution_count": 16,
   "metadata": {},
   "outputs": [],
   "source": [
    "actual_options.sort()"
   ]
  },
  {
   "cell_type": "code",
   "execution_count": 17,
   "metadata": {},
   "outputs": [
    {
     "data": {
      "text/plain": [
       "['jiene',\n",
       " 'jieni',\n",
       " 'jienj',\n",
       " 'jienl',\n",
       " 'jienn',\n",
       " 'jienu',\n",
       " 'jienv',\n",
       " 'jiine',\n",
       " 'jiini',\n",
       " 'jiinj',\n",
       " 'jiinl',\n",
       " 'jiinn',\n",
       " 'jiinu',\n",
       " 'jiinv',\n",
       " 'jijne',\n",
       " 'jijni',\n",
       " 'jijnj',\n",
       " 'jijnl',\n",
       " 'jijnn',\n",
       " 'jijnu',\n",
       " 'jijnv',\n",
       " 'jilne',\n",
       " 'jilni',\n",
       " 'jilnj',\n",
       " 'jilnl',\n",
       " 'jilnn',\n",
       " 'jilnu',\n",
       " 'jilnv',\n",
       " 'jinee',\n",
       " 'jinei',\n",
       " 'jinej',\n",
       " 'jinel',\n",
       " 'jinen',\n",
       " 'jineu',\n",
       " 'jinev',\n",
       " 'jinie',\n",
       " 'jinii',\n",
       " 'jinij',\n",
       " 'jinil',\n",
       " 'jinin',\n",
       " 'jiniu',\n",
       " 'jiniv',\n",
       " 'jinje',\n",
       " 'jinji',\n",
       " 'jinjj',\n",
       " 'jinjl',\n",
       " 'jinjn',\n",
       " 'jinju',\n",
       " 'jinjv',\n",
       " 'jinle',\n",
       " 'jinli',\n",
       " 'jinlj',\n",
       " 'jinll',\n",
       " 'jinln',\n",
       " 'jinlu',\n",
       " 'jinlv',\n",
       " 'jinne',\n",
       " 'jinni',\n",
       " 'jinnj',\n",
       " 'jinnl',\n",
       " 'jinnn',\n",
       " 'jinnu',\n",
       " 'jinnv',\n",
       " 'jinue',\n",
       " 'jinui',\n",
       " 'jinuj',\n",
       " 'jinul',\n",
       " 'jinun',\n",
       " 'jinuu',\n",
       " 'jinuv',\n",
       " 'jinve',\n",
       " 'jinvi',\n",
       " 'jinvj',\n",
       " 'jinvl',\n",
       " 'jinvn',\n",
       " 'jinvu',\n",
       " 'jinvv',\n",
       " 'jiune',\n",
       " 'jiuni',\n",
       " 'jiunj',\n",
       " 'jiunl',\n",
       " 'jiunn',\n",
       " 'jiunu',\n",
       " 'jiunv',\n",
       " 'jivne',\n",
       " 'jivni',\n",
       " 'jivnj',\n",
       " 'jivnl',\n",
       " 'jivnn',\n",
       " 'jivnu',\n",
       " 'jivnv']"
      ]
     },
     "execution_count": 17,
     "metadata": {},
     "output_type": "execute_result"
    }
   ],
   "source": [
    "actual_options"
   ]
  },
  {
   "cell_type": "code",
   "execution_count": null,
   "metadata": {},
   "outputs": [],
   "source": []
  }
 ],
 "metadata": {
  "kernelspec": {
   "display_name": "Python 3",
   "language": "python",
   "name": "python3"
  },
  "language_info": {
   "codemirror_mode": {
    "name": "ipython",
    "version": 3
   },
   "file_extension": ".py",
   "mimetype": "text/x-python",
   "name": "python",
   "nbconvert_exporter": "python",
   "pygments_lexer": "ipython3",
   "version": "3.7.4"
  }
 },
 "nbformat": 4,
 "nbformat_minor": 2
}
