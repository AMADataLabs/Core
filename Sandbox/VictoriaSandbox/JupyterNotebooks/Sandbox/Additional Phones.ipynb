{
 "cells": [
  {
   "cell_type": "code",
   "execution_count": null,
   "metadata": {},
   "outputs": [],
   "source": [
    "#Import dependencies\n",
    "import pandas as pd\n",
    "import pyodbc\n",
    "from npi_api import NumberSearch, get_results\n",
    "from datamart import fix_me\n",
    "from npi_me import get_npi_to_me\n",
    "import matplotlib.pyplot"
   ]
  },
  {
   "cell_type": "code",
   "execution_count": null,
   "metadata": {},
   "outputs": [],
   "source": [
    "#Read ppd\n",
    "ppd = pd.read_csv('../../Data/PPD/ppd_data_20210306.csv')\n",
    "ppd['ME']=fix_me(ppd.ME)\n",
    "#Read new file\n",
    "new_file = pd.read_csv('../../Data/DataGov/PhysicianComparePhoneNumberFile.csv')\n",
    "new_file.columns = [c.replace(' ','') for c in new_file.columns.values]\n",
    "new_file['NPI'] = new_file.NPI.astype(str)"
   ]
  },
  {
   "cell_type": "code",
   "execution_count": null,
   "metadata": {},
   "outputs": [],
   "source": [
    "#Append NPI\n",
    "npi_to_me = get_npi_to_me()\n",
    "ppd = pd.merge(ppd, npi_to_me, on='ME')"
   ]
  },
  {
   "cell_type": "code",
   "execution_count": null,
   "metadata": {},
   "outputs": [],
   "source": [
    "new_file.drop_duplicates(['NPI', 'adr_ln_1'])"
   ]
  },
  {
   "cell_type": "code",
   "execution_count": null,
   "metadata": {},
   "outputs": [],
   "source": [
    "new_file[new_file.NPI.isin(ppd.NPI)]"
   ]
  },
  {
   "cell_type": "code",
   "execution_count": null,
   "metadata": {},
   "outputs": [],
   "source": [
    "matched = pd.merge(ppd, new_file, on = 'NPI')"
   ]
  },
  {
   "cell_type": "code",
   "execution_count": null,
   "metadata": {},
   "outputs": [],
   "source": [
    "len(new_file.drop_duplicates('NPI'))"
   ]
  },
  {
   "cell_type": "code",
   "execution_count": null,
   "metadata": {},
   "outputs": [],
   "source": [
    "ppd[(ppd.TOP_CD==20)]"
   ]
  },
  {
   "cell_type": "code",
   "execution_count": null,
   "metadata": {},
   "outputs": [],
   "source": [
    "ppd.groupby('TOP_CD').count()"
   ]
  },
  {
   "cell_type": "code",
   "execution_count": null,
   "metadata": {},
   "outputs": [],
   "source": [
    "new_file[new_file.NPI.isin(ppd.NPI)].groupby('NPI').count().groupby('prvdr_id').count()['adrs_id'].to_csv('../../Data/DataGov/FileDistribution.csv')"
   ]
  },
  {
   "cell_type": "code",
   "execution_count": null,
   "metadata": {},
   "outputs": [],
   "source": [
    "new_file[new_file.NPI.isin(ppd.NPI)].groupby('NPI').count().sort_values('Ind_PAC_ID', ascending=False)"
   ]
  },
  {
   "cell_type": "code",
   "execution_count": null,
   "metadata": {},
   "outputs": [],
   "source": [
    "import json\n",
    "with open(f'../../Data/DataGov/NPI_3.txt', 'w') as outfile:\n",
    "        json.dump(all_results, outfile)"
   ]
  },
  {
   "cell_type": "code",
   "execution_count": null,
   "metadata": {},
   "outputs": [],
   "source": [
    "# all_results = []\n",
    "# count = 59893\n",
    "for number in neeps[count:]:\n",
    "    try:\n",
    "        print(number)\n",
    "        all_results.append(get_results(NumberSearch(number)))\n",
    "        count +=1\n",
    "        print(count)\n",
    "    except:\n",
    "        with open(f'../../Data/DataGov/NPI_2.txt', 'w') as outfile:\n",
    "            json.dump(all_results, outfile)"
   ]
  },
  {
   "cell_type": "code",
   "execution_count": null,
   "metadata": {},
   "outputs": [],
   "source": [
    "new_file.groupby('adrs_id').count().sort_values('Ind_PAC_ID', ascending=False)"
   ]
  },
  {
   "cell_type": "code",
   "execution_count": null,
   "metadata": {},
   "outputs": [],
   "source": [
    "def get_column_totals(dataframe):\n",
    "    dataframe = dataframe.fillna('None')\n",
    "    results = []\n",
    "    total = len(dataframe)\n",
    "    for col in dataframe.columns:\n",
    "        COMPLETE = len(dataframe[dataframe[col]!='None'])\n",
    "        new_dict = {\n",
    "            'COLUMN': col,\n",
    "            'TOTAL_COMPLETE': COMPLETE,\n",
    "            'TOTAL_COMPLETENESS': round((COMPLETE/total), 5)\n",
    "        }\n",
    "        results.append(new_dict)\n",
    "        print(f\"{col} : {new_dict['TOTAL_COMPLETENESS']}\")\n",
    "    return(results)"
   ]
  },
  {
   "cell_type": "code",
   "execution_count": null,
   "metadata": {},
   "outputs": [],
   "source": [
    "column_fill = get_column_totals(new_file)"
   ]
  },
  {
   "cell_type": "code",
   "execution_count": null,
   "metadata": {},
   "outputs": [],
   "source": [
    "len(all_results)"
   ]
  },
  {
   "cell_type": "code",
   "execution_count": null,
   "metadata": {},
   "outputs": [],
   "source": [
    "len(new_file.NPI.unique())"
   ]
  },
  {
   "cell_type": "code",
   "execution_count": null,
   "metadata": {},
   "outputs": [],
   "source": [
    "neeps = list(ppd[ppd.NPI.isin(unfinished)].NPI)"
   ]
  },
  {
   "cell_type": "code",
   "execution_count": null,
   "metadata": {},
   "outputs": [],
   "source": [
    "unfinished = new_file.NPI.unique()[11099:]"
   ]
  },
  {
   "cell_type": "code",
   "execution_count": null,
   "metadata": {},
   "outputs": [],
   "source": [
    "all_results"
   ]
  },
  {
   "cell_type": "code",
   "execution_count": null,
   "metadata": {},
   "outputs": [],
   "source": [
    "len(neeps)"
   ]
  },
  {
   "cell_type": "code",
   "execution_count": null,
   "metadata": {},
   "outputs": [],
   "source": [
    "70992 - 11099"
   ]
  },
  {
   "cell_type": "code",
   "execution_count": null,
   "metadata": {},
   "outputs": [],
   "source": [
    "neeps[59893:]"
   ]
  },
  {
   "cell_type": "code",
   "execution_count": null,
   "metadata": {},
   "outputs": [],
   "source": [
    "neeps.index('1588614572')"
   ]
  },
  {
   "cell_type": "code",
   "execution_count": null,
   "metadata": {},
   "outputs": [],
   "source": [
    "ppd.columns"
   ]
  },
  {
   "cell_type": "code",
   "execution_count": null,
   "metadata": {},
   "outputs": [],
   "source": [
    "pewp = ppd[['ME', 'MAILING_NAME','MAILING_LINE_1',\n",
    "       'MAILING_LINE_2', 'CITY', 'STATE', 'ZIP', \n",
    "       'TELEPHONE_NUMBER', 'FAX_NUMBER',  'POLO_MAILING_LINE_1', 'POLO_MAILING_LINE_2',\n",
    "       'POLO_CITY', 'POLO_STATE', 'POLO_ZIP', 'NPI']]"
   ]
  },
  {
   "cell_type": "code",
   "execution_count": null,
   "metadata": {},
   "outputs": [],
   "source": [
    "len(new_file.Ind_PAC_ID.unique())"
   ]
  },
  {
   "cell_type": "code",
   "execution_count": null,
   "metadata": {},
   "outputs": [],
   "source": [
    "newp = new_file[['NPI', 'lst_nm', 'frst_nm', 'mid_nm',\n",
    "        'adr_ln_1', 'adr_ln_2', 'cty',\n",
    "       'st', 'zip', 'phn_numbr']]"
   ]
  },
  {
   "cell_type": "code",
   "execution_count": null,
   "metadata": {},
   "outputs": [],
   "source": [
    "all_data = pd.merge(newp, pewp, on='NPI')"
   ]
  },
  {
   "cell_type": "code",
   "execution_count": null,
   "metadata": {},
   "outputs": [],
   "source": [
    "all_data[['POLO_MAILING_LINE_1','POLO_MAILING_LINE_2','adr_ln_1','adr_ln_2', 'ln_2_sprs','phn_numbr','TELEPHONE_NUMBER']]"
   ]
  },
  {
   "cell_type": "code",
   "execution_count": null,
   "metadata": {},
   "outputs": [],
   "source": [
    "all_data.phn_numbr.astype(str)"
   ]
  },
  {
   "cell_type": "code",
   "execution_count": null,
   "metadata": {},
   "outputs": [],
   "source": [
    "states =[]\n",
    "cities =[]\n",
    "zips =[]\n",
    "addrs = []\n",
    "phones =[]\n",
    "other_count = 0\n",
    "for row in all_data[other_count:].itertuples():\n",
    "    state = False\n",
    "    city = False\n",
    "    zipc = False\n",
    "    addr = False\n",
    "    phone = False\n",
    "    if row.POLO_STATE==row.st:\n",
    "        state = True\n",
    "    if row.POLO_CITY==row.cty:\n",
    "        city = True\n",
    "    if row.POLO_ZIP!='None':\n",
    "        if type(row.POLO_ZIP) is float:\n",
    "            if str(int(row.POLO_ZIP)) in str(row.zip):\n",
    "                    zipc = True\n",
    "            if str(row.zipcode) == str(int(row.POLO_ZIP)):\n",
    "                    zipc=True\n",
    "        else:\n",
    "            if row.POLO_ZIP == row.zipcode:\n",
    "                zipc=True\n",
    "    if row.adr_ln_1 in row.POLO_MAILING_LINE_2:\n",
    "        addr = True\n",
    "    if row.phn_numbr == row.TELEPHONE_NUMBER and row.phn_numbr != 'None':\n",
    "        phone = True\n",
    "    if row.phn_numbr == 'None':\n",
    "        phone='None'\n",
    "    states.append(state)\n",
    "    cities.append(city)\n",
    "    zips.append(zipc)\n",
    "    addrs.append(addr)\n",
    "    phones.append(phone)\n",
    "    other_count +=1 \n",
    "    "
   ]
  },
  {
   "cell_type": "code",
   "execution_count": null,
   "metadata": {},
   "outputs": [],
   "source": [
    "all_data"
   ]
  },
  {
   "cell_type": "code",
   "execution_count": null,
   "metadata": {},
   "outputs": [],
   "source": [
    "all_data = all_data.fillna('None')"
   ]
  },
  {
   "cell_type": "code",
   "execution_count": null,
   "metadata": {},
   "outputs": [],
   "source": [
    "all_data[(all_data.TELEPHONE_NUMBER=='None')&(all_data.phn_numbr!='None')].drop_duplicates('NPI', keep=False)"
   ]
  },
  {
   "cell_type": "code",
   "execution_count": null,
   "metadata": {},
   "outputs": [],
   "source": [
    "phones"
   ]
  },
  {
   "cell_type": "code",
   "execution_count": null,
   "metadata": {},
   "outputs": [],
   "source": [
    "all_data['STATE_MATCH']=states\n",
    "all_data['CITY_MATCH']=cities\n",
    "all_data['ZIP_MATCH']=zips\n",
    "all_data['PHONE_MATCH']=phones\n",
    "all_data['ADDRESS_MATCH']=addrs"
   ]
  },
  {
   "cell_type": "code",
   "execution_count": null,
   "metadata": {},
   "outputs": [],
   "source": [
    "all_data[all_data.PHONE_MATCH==True].drop_duplicates('NPI')"
   ]
  },
  {
   "cell_type": "code",
   "execution_count": null,
   "metadata": {},
   "outputs": [],
   "source": [
    "all_data[['POLO_ZIP', 'zip','ZIP_MATCH']]"
   ]
  },
  {
   "cell_type": "code",
   "execution_count": null,
   "metadata": {},
   "outputs": [],
   "source": [
    "all_data['zipcode'] = [str(x)[0:5] for x in all_data.zip]"
   ]
  },
  {
   "cell_type": "code",
   "execution_count": null,
   "metadata": {},
   "outputs": [],
   "source": [
    "all_results[0]['results']\n"
   ]
  },
  {
   "cell_type": "code",
   "execution_count": null,
   "metadata": {},
   "outputs": [],
   "source": [
    "new_file.columns"
   ]
  },
  {
   "cell_type": "code",
   "execution_count": null,
   "metadata": {},
   "outputs": [],
   "source": [
    "dict_list = []\n",
    "for result in all_results:\n",
    "#     if 'result_count' in result.keys():\n",
    "    if 'results' in result.keys():\n",
    "        for address in result['results'][0]['addresses']:\n",
    "\n",
    "                npi = result['results'][0]['number']\n",
    "                purpose = address['address_purpose']\n",
    "                add_1 = address['address_1']\n",
    "                add_2 = address['address_2']\n",
    "                city = address['city']\n",
    "                state = address['state']\n",
    "                zipc = address['postal_code']\n",
    "                if 'telephone_number' in address.keys():\n",
    "                    phone = address['telephone_number']\n",
    "                else:\n",
    "                    phone = 'None'\n",
    "                new_dict = {\n",
    "                    'NPI': npi,\n",
    "                    'PURPOSE': purpose,\n",
    "                    'ADD_1': add_1,\n",
    "                    'ADD_2': add_2,\n",
    "                    'CITY': city,\n",
    "                    'STATE': state,\n",
    "                    'ZIPCODE':zipc,\n",
    "                    'PHONE': phone\n",
    "\n",
    "                }\n",
    "                dict_list.append(new_dict)"
   ]
  },
  {
   "cell_type": "code",
   "execution_count": null,
   "metadata": {},
   "outputs": [],
   "source": [
    "pd.DataFrame(dict_list).to_csv('../../Data/DataGov.csv', index=False)"
   ]
  },
  {
   "cell_type": "code",
   "execution_count": null,
   "metadata": {},
   "outputs": [],
   "source": [
    "all_results[0]['results'][0]"
   ]
  },
  {
   "cell_type": "code",
   "execution_count": null,
   "metadata": {},
   "outputs": [],
   "source": [
    "npis = pd.DataFrame(dict_list)"
   ]
  },
  {
   "cell_type": "code",
   "execution_count": null,
   "metadata": {},
   "outputs": [],
   "source": [
    "neepo = npis.drop_duplicates(subset=(['NPI','ADD_1', 'ADD_2', 'PHONE']))"
   ]
  },
  {
   "cell_type": "code",
   "execution_count": null,
   "metadata": {},
   "outputs": [],
   "source": [
    "nops = pd.merge(new_file, neepo, on='NPI')"
   ]
  },
  {
   "cell_type": "code",
   "execution_count": null,
   "metadata": {},
   "outputs": [],
   "source": [
    "neepo['NPI'] = neepo.NPI.astype(str)"
   ]
  },
  {
   "cell_type": "code",
   "execution_count": null,
   "metadata": {},
   "outputs": [],
   "source": [
    "states =[]\n",
    "cities =[]\n",
    "zips =[]\n",
    "addrs = []\n",
    "addrs_2 = []\n",
    "phones =[]\n",
    "other_count = 0\n",
    "for row in NOPS[other_count:].itertuples():\n",
    "    state = False\n",
    "    city = False\n",
    "    zipc = False\n",
    "    addr = False\n",
    "    addr_2 = False\n",
    "    phone = False\n",
    "    if row.STATE==row.st:\n",
    "        state = True\n",
    "    if row.CITY==row.cty:\n",
    "        city = True\n",
    "    if str(row.ZIPCODE) in str(row.zip):\n",
    "        zipc = True\n",
    "    if str(row.zip) == str(row.ZIPCODE):\n",
    "        zipc=True\n",
    "    if row.ZIPCODE == row.zip:\n",
    "        zipc=True\n",
    "    if str(row.zip)[0:5] == str(row.ZIPCODE)[0:5]:\n",
    "        zipc=True\n",
    "    if row.adr_ln_1 in row.ADD_1:\n",
    "        addr = True\n",
    "    if row.adr_ln_2 in row.ADD_2:\n",
    "        addr_2 = True\n",
    "    if row.phn_numbr != 'None':\n",
    "        if row.phn_numbr == row.PHONE:\n",
    "            phone = True\n",
    "            print(row.phn_numbr)\n",
    "    if row.phn_numbr == 'None':\n",
    "        phone='None'\n",
    "    states.append(state)\n",
    "    cities.append(city)\n",
    "    zips.append(zipc)\n",
    "    addrs.append(addr)\n",
    "    addrs_2.append(addr_2)\n",
    "    phones.append(phone)\n",
    "    other_count +=1 "
   ]
  },
  {
   "cell_type": "code",
   "execution_count": null,
   "metadata": {},
   "outputs": [],
   "source": [
    "nops.columns"
   ]
  },
  {
   "cell_type": "code",
   "execution_count": null,
   "metadata": {},
   "outputs": [],
   "source": [
    "NOPS['STATE_MATCH']=states\n",
    "NOPS['CITY_MATCH']=cities\n",
    "NOPS['ZIP_MATCH']=zips\n",
    "NOPS['PHONE_MATCH']=phones\n",
    "NOPS['ADDRESS_MATCH']=addrs\n",
    "NOPS['ADDRESS_2_MATCH']=addrs_2"
   ]
  },
  {
   "cell_type": "code",
   "execution_count": null,
   "metadata": {},
   "outputs": [],
   "source": [
    "NOPS[NOPS.ADDRESS_2_MATCH==True].drop_duplicates('NPI')[['ADD_2','adr_ln_2']]"
   ]
  },
  {
   "cell_type": "code",
   "execution_count": null,
   "metadata": {},
   "outputs": [],
   "source": [
    "NOPS = nops[nops.NPI.isin(ppd.NPI)]"
   ]
  },
  {
   "cell_type": "code",
   "execution_count": null,
   "metadata": {},
   "outputs": [],
   "source": [
    "NOPS.head()[['PHONE','phn_numbr']]"
   ]
  },
  {
   "cell_type": "code",
   "execution_count": null,
   "metadata": {},
   "outputs": [],
   "source": [
    "NOPS['PHONE'] = [x.replace('-','') for x in NOPS.PHONE]"
   ]
  },
  {
   "cell_type": "code",
   "execution_count": null,
   "metadata": {},
   "outputs": [],
   "source": [
    "NOPS.phn_numbr = [str(x).replace('.0','') for x in NOPS.phn_numbr]"
   ]
  },
  {
   "cell_type": "code",
   "execution_count": null,
   "metadata": {},
   "outputs": [],
   "source": [
    "NOPS[NOPS.phn_numbr!='None'].drop_duplicates(subset = ['NPI','phn_numbr'])"
   ]
  },
  {
   "cell_type": "code",
   "execution_count": null,
   "metadata": {},
   "outputs": [],
   "source": [
    "all_data[(all_data.ZIP_MATCH==True)|(all_data.ADDRESS_MATCH==True)].drop_duplicates('NPI').to_csv('../../Data/DataGov/PPD_MATCH_phone.csv', index=False)"
   ]
  },
  {
   "cell_type": "code",
   "execution_count": null,
   "metadata": {},
   "outputs": [],
   "source": [
    "all_data[(all_data.ZIP_MATCH==True)|(all_data.ADDRESS_MATCH==True)].drop_duplicates('NPI')"
   ]
  },
  {
   "cell_type": "code",
   "execution_count": null,
   "metadata": {},
   "outputs": [],
   "source": [
    "pd.DataFrame(column_fill).to_csv('../../Data/DataGov/Column_Completeness_Phone.csv', index=False)"
   ]
  },
  {
   "cell_type": "code",
   "execution_count": null,
   "metadata": {},
   "outputs": [],
   "source": [
    "all_data.drop_duplicates(subset=['NPI', 'st'])"
   ]
  },
  {
   "cell_type": "code",
   "execution_count": null,
   "metadata": {},
   "outputs": [],
   "source": [
    "all_data[(all_data.NPI.isin(TRUTH_2)==False)&(all_data.PHONE_MATCH!=True)].drop_duplicates('NPI')"
   ]
  },
  {
   "cell_type": "code",
   "execution_count": null,
   "metadata": {},
   "outputs": [],
   "source": [
    "TRUTH = all_data[(all_data.ZIP_MATCH==True)|(all_data.ADDRESS_MATCH==True)].NPI"
   ]
  },
  {
   "cell_type": "code",
   "execution_count": null,
   "metadata": {},
   "outputs": [],
   "source": [
    "TRUTH_2 = all_data[all_data.PHONE_MATCH==True].NPI"
   ]
  },
  {
   "cell_type": "code",
   "execution_count": null,
   "metadata": {},
   "outputs": [],
   "source": [
    "GEEP = all_data[(all_data.ZIP_MATCH==True)|(all_data.ADDRESS_MATCH==True)].NPI"
   ]
  },
  {
   "cell_type": "code",
   "execution_count": null,
   "metadata": {},
   "outputs": [],
   "source": [
    "ppd[ppd.NPI.isin(GEEP)].to_csv('../../Data/DataGov/ppd_matches.csv', index=False)"
   ]
  },
  {
   "cell_type": "code",
   "execution_count": null,
   "metadata": {},
   "outputs": [],
   "source": [
    "all_data[all_data.POLO_MAILING_LINE_2=='None'].drop_duplicates('NPI', keep=False)"
   ]
  },
  {
   "cell_type": "code",
   "execution_count": null,
   "metadata": {},
   "outputs": [],
   "source": [
    "114802-63065"
   ]
  },
  {
   "cell_type": "code",
   "execution_count": null,
   "metadata": {},
   "outputs": [],
   "source": [
    "all_data[(all_data.TELEPHONE_NUMBER!='None')&(all_data.PHONE_MATCH==False)].drop_duplicates('NPI', keep=False)"
   ]
  },
  {
   "cell_type": "code",
   "execution_count": null,
   "metadata": {},
   "outputs": [],
   "source": [
    "other_file = pd.read_csv('../../Data/DataGov/DAC_NationalDownloadableFile.csv')"
   ]
  },
  {
   "cell_type": "code",
   "execution_count": null,
   "metadata": {},
   "outputs": [],
   "source": [
    "other_file['NPI'] = other_file.NPI.astype(str)\n",
    "other_file.columns = [c.replace(' ','') for c in other_file.columns.values]"
   ]
  },
  {
   "cell_type": "code",
   "execution_count": null,
   "metadata": {},
   "outputs": [],
   "source": [
    "matched[matched.NPI.isin(other_file.NPI)].drop_duplicates('NPI')"
   ]
  },
  {
   "cell_type": "code",
   "execution_count": null,
   "metadata": {},
   "outputs": [],
   "source": [
    "matched[matched.NPI.isin(other_file.NPI)==False].drop_duplicates('NPI')"
   ]
  },
  {
   "cell_type": "code",
   "execution_count": null,
   "metadata": {},
   "outputs": [],
   "source": [
    "addd = pd.merge(matched, other_file, on=['NPI','adr_ln_1'])"
   ]
  },
  {
   "cell_type": "code",
   "execution_count": null,
   "metadata": {},
   "outputs": [],
   "source": [
    "phoneee = pd.merge(matched, other_file, on=['NPI','phn_numbr'])"
   ]
  },
  {
   "cell_type": "code",
   "execution_count": null,
   "metadata": {},
   "outputs": [],
   "source": [
    "matched[matched.NPI.isin(addd.NPI)==False]"
   ]
  },
  {
   "cell_type": "code",
   "execution_count": null,
   "metadata": {},
   "outputs": [],
   "source": [
    "len(addd)"
   ]
  },
  {
   "cell_type": "code",
   "execution_count": null,
   "metadata": {},
   "outputs": [],
   "source": [
    "len(phoneee)"
   ]
  },
  {
   "cell_type": "code",
   "execution_count": null,
   "metadata": {},
   "outputs": [],
   "source": [
    "all_data[all_data.ADDRESS_MATCH==True].drop_duplicates('NPI')"
   ]
  },
  {
   "cell_type": "code",
   "execution_count": null,
   "metadata": {},
   "outputs": [],
   "source": [
    "203671"
   ]
  }
 ],
 "metadata": {
  "kernelspec": {
   "display_name": "Python 3",
   "language": "python",
   "name": "python3"
  },
  "language_info": {
   "codemirror_mode": {
    "name": "ipython",
    "version": 3
   },
   "file_extension": ".py",
   "mimetype": "text/x-python",
   "name": "python",
   "nbconvert_exporter": "python",
   "pygments_lexer": "ipython3",
   "version": "3.7.4"
  }
 },
 "nbformat": 4,
 "nbformat_minor": 2
}
