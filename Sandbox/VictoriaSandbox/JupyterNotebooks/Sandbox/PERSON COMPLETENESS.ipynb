{
 "cells": [
  {
   "cell_type": "code",
   "execution_count": 2,
   "metadata": {},
   "outputs": [],
   "source": [
    "import pandas as pd\n",
    "import useful_functions as use\n",
    "import psycopg2\n",
    "import pyodbc\n",
    "import datetime"
   ]
  },
  {
   "cell_type": "code",
   "execution_count": 2,
   "metadata": {},
   "outputs": [],
   "source": [
    "conn = psycopg2.connect(\n",
    "    host='oneview-prd-content-aurora-cluster.cluster-cxgp9osuwqi3.us-east-1.rds.amazonaws.com',\n",
    "    database='oneview_content',\n",
    "    user='oneviewadmin',\n",
    "    password='VFauC8cRXqKapC8A')"
   ]
  },
  {
   "cell_type": "code",
   "execution_count": 3,
   "metadata": {},
   "outputs": [],
   "source": [
    "w = \"DSN=PRDDW; UID={}; PWD={}\".format(username, password_edw)\n",
    "AMAEDW = pyodbc.connect(w)"
   ]
  },
  {
   "cell_type": "code",
   "execution_count": 4,
   "metadata": {},
   "outputs": [],
   "source": [
    "ov_me_sql = '''\n",
    "    SELECT medical_education_number,type FROM ONEVIEW.physician\n",
    "    '''\n",
    "ov_me = pd.read_sql_query(ov_me_sql, conn)"
   ]
  },
  {
   "cell_type": "code",
   "execution_count": 5,
   "metadata": {},
   "outputs": [],
   "source": [
    "race = pd.read_csv('C:/Users/vigrose/PhysicianRaceEthnicity_2_2022-03-01.csv')\n",
    "race.medical_education_number = use.fix_me(race.medical_education_number)"
   ]
  },
  {
   "cell_type": "code",
   "execution_count": 6,
   "metadata": {},
   "outputs": [],
   "source": [
    "ME_QUERY = \\\n",
    "    \"\"\"\n",
    "    SELECT\n",
    "    P.PARTY_ID,\n",
    "    P.KEY_VAL AS ME\n",
    "    FROM\n",
    "    AMAEDW.PARTY_KEY P\n",
    "    WHERE\n",
    "    P.KEY_TYPE_ID = 18\n",
    "    AND\n",
    "    P.ACTIVE_IND = 'Y'\n",
    "    \"\"\"\n",
    "party_ids = pd.read_sql(con=AMAEDW, sql=ME_QUERY)"
   ]
  },
  {
   "cell_type": "code",
   "execution_count": 7,
   "metadata": {},
   "outputs": [],
   "source": [
    "ME_QUERY = \\\n",
    "    f\"\"\"\n",
    "    SELECT\n",
    "    P.PARTY_ID,\n",
    "    P.KEY_VAL AS ME,\n",
    "    P.UPDATE_TMSTP,\n",
    "    P.ACTIVE_IND\n",
    "    FROM\n",
    "    AMAEDW.PARTY_KEY P\n",
    "    WHERE\n",
    "    P.KEY_TYPE_ID = 18\n",
    "    \"\"\"\n",
    "party_ids = pd.read_sql(con=AMAEDW, sql=ME_QUERY)"
   ]
  },
  {
   "cell_type": "code",
   "execution_count": 8,
   "metadata": {},
   "outputs": [],
   "source": [
    "ME_QUERY = \\\n",
    "    \"\"\"\n",
    "    SELECT\n",
    "    P.PARTY_ID,\n",
    "    P.KEY_VAL AS ENTITY_ID\n",
    "    FROM\n",
    "    AMAEDW.PARTY_KEY P\n",
    "    WHERE\n",
    "    P.KEY_TYPE_ID = 9\n",
    "    \"\"\"\n",
    "entity_ids = pd.read_sql(con=AMAEDW, sql=ME_QUERY)"
   ]
  },
  {
   "cell_type": "code",
   "execution_count": 9,
   "metadata": {},
   "outputs": [],
   "source": [
    "NAME_QUERY = \\\n",
    "    \"\"\"\n",
    "    SELECT\n",
    "    FIRST_NM, MIDDLE_NM, LAST_NM, SUFFIX, LABEL_NM, NM_TYPE, PARTY_ID\n",
    "    FROM\n",
    "    AMAEDW.PERSON_NM\n",
    "    WHERE\n",
    "    THRU_DT IS NULL\n",
    "    AND\n",
    "    NM_TYPE='LN'\n",
    "    \"\"\"\n",
    "NAMES = pd.read_sql(con=AMAEDW, sql=NAME_QUERY)"
   ]
  },
  {
   "cell_type": "code",
   "execution_count": 10,
   "metadata": {},
   "outputs": [],
   "source": [
    "PERSON_QUERY = \\\n",
    "    \"\"\"\n",
    "    SELECT\n",
    "    BIRTH_DT, BIRTH_CITY_NM, BIRTH_STATE_ID, BIRTH_COUNTRY_ID, GENDER_CD, MORTALITY_STS_CD, DEATH_DT, MED_EDU_NBR, PARTY_ID\n",
    "    FROM\n",
    "    AMAEDW.PERSON\n",
    "    WHERE\n",
    "    ACTIVE_IND = 'Y'\n",
    "    \"\"\"\n",
    "PERSONS = pd.read_sql(con=AMAEDW, sql=PERSON_QUERY)"
   ]
  },
  {
   "cell_type": "code",
   "execution_count": 11,
   "metadata": {},
   "outputs": [],
   "source": [
    "IDS = pd.merge(entity_ids, party_ids, on='PARTY_ID')\n",
    "test = pd.merge(IDS, ov_me, left_on='ME', right_on='medical_education_number', how='right')\n",
    "test_cont = pd.merge(test, NAMES, on='PARTY_ID',how='left').drop_duplicates()\n",
    "test_cont = pd.merge(test_cont, race, on='medical_education_number', how='left')\n",
    "ALL = pd.merge(test_cont, PERSONS, on='PARTY_ID',how='left').drop_duplicates()"
   ]
  },
  {
   "cell_type": "code",
   "execution_count": 12,
   "metadata": {},
   "outputs": [
    {
     "name": "stderr",
     "output_type": "stream",
     "text": [
      "C:\\Users\\vigrose\\AppData\\Local\\Continuum\\anaconda3\\lib\\site-packages\\pandas\\core\\ops\\__init__.py:1115: FutureWarning: elementwise comparison failed; returning scalar instead, but in the future will perform elementwise comparison\n",
      "  result = method(y)\n"
     ]
    }
   ],
   "source": [
    "today = datetime.date.today()\n",
    "types = ['Physician','Student','Resident']\n",
    "dead_mes = list(ALL[(ALL.MORTALITY_STS_CD=='C')].ME)\n",
    "all_mes = list(ALL.ME)\n",
    "us_mes = list(ALL[(ALL.BIRTH_COUNTRY_ID==6705)].ME)\n",
    "elements = [\n",
    "    {'data_element': 'Party ID',\n",
    "     'element':'PARTY_ID',\n",
    "    'null': '',\n",
    "    'universe': all_mes},\n",
    "    {'data_element': 'Entity ID',\n",
    "     'element':'ENTITY_ID',\n",
    "    'null': '',\n",
    "    'universe': all_mes},\n",
    "    {'data_element': 'First Name',\n",
    "     'element':'FIRST_NM',\n",
    "    'null': '',\n",
    "    'universe': all_mes},\n",
    "    {'data_element': 'Middle Name',\n",
    "     'element':'MIDDLE_NM',\n",
    "    'null': '',\n",
    "    'universe': all_mes},\n",
    "    {'data_element': 'Last Name',\n",
    "     'element':'LAST_NM',\n",
    "    'null': '',\n",
    "    'universe': all_mes},\n",
    "    {'data_element': 'Name Suffix',\n",
    "     'element':'SUFFIX',\n",
    "    'null': '',\n",
    "    'universe': all_mes},\n",
    "    {'data_element': 'Label Name',\n",
    "     'element':'LABEL_NM',\n",
    "    'null': '',\n",
    "    'universe': all_mes},\n",
    "    {'data_element': 'Name Type',\n",
    "     'element':'NM_TYPE',\n",
    "    'null': '',\n",
    "    'universe': all_mes},\n",
    "    {'data_element': 'Person Type',\n",
    "     'element':'type',\n",
    "    'null': '',\n",
    "    'universe': all_mes},\n",
    "    {'data_element': 'Race/Ethnicity',\n",
    "     'element':'race_ethnicity',\n",
    "    'null': 'Unknown',\n",
    "    'universe': all_mes},\n",
    "    {'data_element': 'Birth Date',\n",
    "     'element':'BIRTH_DT',\n",
    "    'null': datetime.date(1900, 1, 1),\n",
    "    'universe':all_mes},\n",
    "    {'data_element': 'Birth City',\n",
    "     'element':'BIRTH_CITY_NM',\n",
    "    'null': '',\n",
    "    'universe': all_mes},\n",
    "    {'data_element': 'Birth State',\n",
    "     'element':'BIRTH_STATE_ID',\n",
    "    'null': '',\n",
    "    'universe': us_mes},\n",
    "    {'data_element': 'Birth Country',\n",
    "     'element':'BIRTH_COUNTRY_ID',\n",
    "    'null': '',\n",
    "    'universe': all_mes},\n",
    "    {'data_element': 'Gender',\n",
    "     'element':'GENDER_CD',\n",
    "    'null': '',\n",
    "    'universe':all_mes},\n",
    "    {'data_element': 'Death Date',\n",
    "     'element':'DEATH_DT',\n",
    "    'null': '',\n",
    "    'universe':dead_mes},     \n",
    "]\n",
    "dict_list = []\n",
    "for typo in types:\n",
    "    total = len(ALL[ALL.type==typo])\n",
    "    for element in elements:\n",
    "        universe = len(ALL[(ALL.type==typo)&(ALL.ME.isin(element['universe']))])\n",
    "        complete = len(ALL[(ALL.type==typo)&~(ALL[element['element']].isna())&(ALL.ME.isin(element['universe']))])\n",
    "        true_complete = len(ALL[(ALL.type==typo)&(ALL[element['element']]!=element['null'])&~(ALL[element['element']].isna())&(ALL.ME.isin(element['universe']))])\n",
    "        new_dict = {\n",
    "            'Universe': typo,\n",
    "            'Data Element': element['data_element'],\n",
    "            'Complete': complete,\n",
    "            'Complete and Known': true_complete,\n",
    "            'Universe Total': universe,\n",
    "            'Date': today,\n",
    "            'Measure':'Completeness'\n",
    "        }\n",
    "        dict_list.append(new_dict)"
   ]
  },
  {
   "cell_type": "code",
   "execution_count": 13,
   "metadata": {},
   "outputs": [],
   "source": [
    "pd.DataFrame(dict_list).to_csv(f'../../Data/Measurement/Person_Completeness_{str(datetime.date.today())}.csv', index=False)"
   ]
  },
  {
   "cell_type": "code",
   "execution_count": 1,
   "metadata": {},
   "outputs": [
    {
     "ename": "NameError",
     "evalue": "name 'elements' is not defined",
     "output_type": "error",
     "traceback": [
      "\u001b[1;31m---------------------------------------------------------------------------\u001b[0m",
      "\u001b[1;31mNameError\u001b[0m                                 Traceback (most recent call last)",
      "\u001b[1;32m<ipython-input-1-0dc6aa8a6552>\u001b[0m in \u001b[0;36m<module>\u001b[1;34m\u001b[0m\n\u001b[1;32m----> 1\u001b[1;33m \u001b[0melements\u001b[0m\u001b[1;33m\u001b[0m\u001b[1;33m\u001b[0m\u001b[0m\n\u001b[0m",
      "\u001b[1;31mNameError\u001b[0m: name 'elements' is not defined"
     ]
    }
   ],
   "source": [
    "elements"
   ]
  },
  {
   "cell_type": "code",
   "execution_count": 6,
   "metadata": {},
   "outputs": [],
   "source": [
    "elements = [\n",
    "    {'data_element': 'Party ID',\n",
    "     'element':'PARTY_ID',\n",
    "    'null': ['']},\n",
    "    {'data_element': 'Entity ID',\n",
    "     'element':'ENTITY_ID',\n",
    "    'null': ['']},\n",
    "    {'data_element': 'First Name',\n",
    "     'element':'FIRST_NM',\n",
    "    'null': ['']},\n",
    "    {'data_element': 'Middle Name',\n",
    "     'element':'MIDDLE_NM',\n",
    "    'null': ['']},\n",
    "    {'data_element': 'Race/Ethnicity',\n",
    "     'element':'race_ethnicity',\n",
    "    'null': ['Unknown']},\n",
    "    {'data_element': 'Birth Date',\n",
    "     'element':'BIRTH_DT',\n",
    "    'null': [datetime.date(1900, 1, 1)]} \n",
    "]"
   ]
  },
  {
   "cell_type": "code",
   "execution_count": 8,
   "metadata": {},
   "outputs": [],
   "source": [
    "pd.DataFrame(elements).to_csv('../../Data/Measurement/Test.csv', index=False)"
   ]
  },
  {
   "cell_type": "code",
   "execution_count": 10,
   "metadata": {},
   "outputs": [],
   "source": [
    "country = pd.read_csv('../../Data/Measurement/COUNTRY.csv')"
   ]
  },
  {
   "cell_type": "code",
   "execution_count": 13,
   "metadata": {},
   "outputs": [
    {
     "ename": "NameError",
     "evalue": "name 'ALL' is not defined",
     "output_type": "error",
     "traceback": [
      "\u001b[1;31m---------------------------------------------------------------------------\u001b[0m",
      "\u001b[1;31mNameError\u001b[0m                                 Traceback (most recent call last)",
      "\u001b[1;32m<ipython-input-13-b126e448520e>\u001b[0m in \u001b[0;36m<module>\u001b[1;34m\u001b[0m\n\u001b[1;32m----> 1\u001b[1;33m \u001b[0mcountry\u001b[0m\u001b[1;33m.\u001b[0m\u001b[0mCOUNTRY_ID\u001b[0m\u001b[1;33m.\u001b[0m\u001b[0misin\u001b[0m\u001b[1;33m(\u001b[0m\u001b[0mALL\u001b[0m\u001b[1;33m.\u001b[0m\u001b[0mBIRTH_COUNTRY_ID\u001b[0m\u001b[1;33m)\u001b[0m\u001b[1;33m\u001b[0m\u001b[1;33m\u001b[0m\u001b[0m\n\u001b[0m",
      "\u001b[1;31mNameError\u001b[0m: name 'ALL' is not defined"
     ]
    }
   ],
   "source": [
    "country.COUNTRY_ID.isin(ALL.BIRTH_COUNTRY_ID)"
   ]
  },
  {
   "cell_type": "code",
   "execution_count": 14,
   "metadata": {},
   "outputs": [
    {
     "ename": "NameError",
     "evalue": "name 'ALL' is not defined",
     "output_type": "error",
     "traceback": [
      "\u001b[1;31m---------------------------------------------------------------------------\u001b[0m",
      "\u001b[1;31mNameError\u001b[0m                                 Traceback (most recent call last)",
      "\u001b[1;32m<ipython-input-14-6bc228d9b238>\u001b[0m in \u001b[0;36m<module>\u001b[1;34m\u001b[0m\n\u001b[1;32m----> 1\u001b[1;33m \u001b[0mALL\u001b[0m\u001b[1;33m\u001b[0m\u001b[1;33m\u001b[0m\u001b[0m\n\u001b[0m",
      "\u001b[1;31mNameError\u001b[0m: name 'ALL' is not defined"
     ]
    }
   ],
   "source": [
    "ALL"
   ]
  },
  {
   "cell_type": "code",
   "execution_count": null,
   "metadata": {},
   "outputs": [],
   "source": []
  }
 ],
 "metadata": {
  "kernelspec": {
   "display_name": "Python 3",
   "language": "python",
   "name": "python3"
  },
  "language_info": {
   "codemirror_mode": {
    "name": "ipython",
    "version": 3
   },
   "file_extension": ".py",
   "mimetype": "text/x-python",
   "name": "python",
   "nbconvert_exporter": "python",
   "pygments_lexer": "ipython3",
   "version": "3.7.4"
  }
 },
 "nbformat": 4,
 "nbformat_minor": 2
}
