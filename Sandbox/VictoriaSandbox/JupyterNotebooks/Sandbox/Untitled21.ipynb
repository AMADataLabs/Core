{
 "cells": [
  {
   "cell_type": "code",
   "execution_count": 1,
   "metadata": {},
   "outputs": [],
   "source": [
    "import pandas as pd"
   ]
  },
  {
   "cell_type": "code",
   "execution_count": 3,
   "metadata": {},
   "outputs": [],
   "source": [
    "age_benefits = [\n",
    "    {'Age':62,\n",
    "    'Benefit': 434},\n",
    "    {'Age':63,\n",
    "    'Benefit': 462},\n",
    "    {'Age':64,\n",
    "    'Benefit': 493},\n",
    "    {'Age':65,\n",
    "    'Benefit': 534},\n",
    "    {'Age':66,\n",
    "    'Benefit': 575},\n",
    "    {'Age':67,\n",
    "    'Benefit': 616},\n",
    "    {'Age':68,\n",
    "    'Benefit': 641},\n",
    "    {'Age':69,\n",
    "    'Benefit': 690},\n",
    "    {'Age':70,\n",
    "    'Benefit': 764}\n",
    "]"
   ]
  },
  {
   "cell_type": "code",
   "execution_count": 35,
   "metadata": {},
   "outputs": [
    {
     "name": "stdout",
     "output_type": "stream",
     "text": [
      "If you die at 74, the best age to start is 62 for $62,496\n",
      "If you die at 75, the best age to start is 62 for $67,704\n",
      "If you die at 76, the best age to start is 62 for $72,912\n",
      "If you die at 77, the best age to start is 62 for $78,120\n",
      "If you die at 78, the best age to start is 62 for $83,328\n",
      "If you die at 79, the best age to start is 65 for $89,712\n",
      "If you die at 80, the best age to start is 66 for $96,600\n",
      "If you die at 81, the best age to start is 66 for $103,500\n",
      "If you die at 82, the best age to start is 67 for $110,880\n",
      "If you die at 83, the best age to start is 70 for $119,184\n",
      "If you die at 84, the best age to start is 70 for $128,352\n",
      "If you die at 85, the best age to start is 70 for $137,520\n",
      "If you die at 86, the best age to start is 70 for $146,688\n"
     ]
    }
   ],
   "source": [
    "ages = [74, 75, 76, 77, 78, 79, 80, 81, 82, 83, 84, 85, 86]\n",
    "for age in ages:\n",
    "    highest_payout = 0\n",
    "    for age_dict in age_benefits:\n",
    "        months = (age - age_dict['Age'])*12\n",
    "        total_payout = months*age_dict['Benefit']\n",
    "        if total_payout >highest_payout:\n",
    "              highest_payout = total_payout\n",
    "              best_age = age_dict[\"Age\"]\n",
    "    print(f'If you die at {age}, the best age to start is {best_age} for ${\"{:,}\".format(highest_payout)}')"
   ]
  },
  {
   "cell_type": "code",
   "execution_count": 39,
   "metadata": {},
   "outputs": [
    {
     "name": "stdout",
     "output_type": "stream",
     "text": [
      "62 : $98,952\n",
      "63 : $99,792\n",
      "64 : $100,572\n",
      "65 : $102,528\n",
      "66 : $103,500\n",
      "67 : $103,488\n",
      "68 : $99,996\n",
      "69 : $99,360\n",
      "70 : $100,848\n"
     ]
    }
   ],
   "source": [
    "age = 81\n",
    "for age_dict in age_benefits:\n",
    "    months = (age - age_dict['Age'])*12\n",
    "    total_payout = months*age_dict['Benefit']\n",
    "    print(f'{age_dict[\"Age\"]} : ${\"{:,}\".format(total_payout)}')"
   ]
  },
  {
   "cell_type": "code",
   "execution_count": 30,
   "metadata": {},
   "outputs": [
    {
     "data": {
      "text/plain": [
       "126.25454545454545"
      ]
     },
     "execution_count": 30,
     "metadata": {},
     "output_type": "execute_result"
    }
   ],
   "source": [
    "41664/330"
   ]
  },
  {
   "cell_type": "code",
   "execution_count": 31,
   "metadata": {},
   "outputs": [
    {
     "data": {
      "text/plain": [
       "10.521212121212121"
      ]
     },
     "execution_count": 31,
     "metadata": {},
     "output_type": "execute_result"
    }
   ],
   "source": [
    "126.25454545454545/12"
   ]
  },
  {
   "cell_type": "code",
   "execution_count": null,
   "metadata": {},
   "outputs": [],
   "source": []
  }
 ],
 "metadata": {
  "kernelspec": {
   "display_name": "Python 3",
   "language": "python",
   "name": "python3"
  },
  "language_info": {
   "codemirror_mode": {
    "name": "ipython",
    "version": 3
   },
   "file_extension": ".py",
   "mimetype": "text/x-python",
   "name": "python",
   "nbconvert_exporter": "python",
   "pygments_lexer": "ipython3",
   "version": "3.7.4"
  }
 },
 "nbformat": 4,
 "nbformat_minor": 2
}
