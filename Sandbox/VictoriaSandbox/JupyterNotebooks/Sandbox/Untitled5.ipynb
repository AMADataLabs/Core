{
 "cells": [
  {
   "cell_type": "code",
   "execution_count": 1,
   "metadata": {},
   "outputs": [],
   "source": [
    "import psycopg2\n",
    "import pandas as pd\n",
    "import datacompy\n",
    "import pyodbc\n",
    "import useful_functions as use"
   ]
  },
  {
   "cell_type": "code",
   "execution_count": 2,
   "metadata": {},
   "outputs": [],
   "source": [
    "conn = psycopg2.connect(\n",
    "    host='oneview-dev-content-aurora-cluster.cluster-cwp4vd8mllvz.us-east-1.rds.amazonaws.com',\n",
    "    database='oneview_content',\n",
    "    user='oneviewadmin',\n",
    "    password='m3CUmKz0OEOA0Mej')"
   ]
  },
  {
   "cell_type": "code",
   "execution_count": 4,
   "metadata": {},
   "outputs": [],
   "source": [
    "sql = '''\n",
    "    SELECT DISTINCT \n",
    "    P.MEDICAL_EDUCATION_NUMBER\n",
    "    FROM ONEVIEW.BUSINESS B, ONEVIEW.PROVIDER_AFFILIATION P\n",
    "    WHERE\n",
    "    B.teaching_HOSPITAL='Y'\n",
    "    AND\n",
    "    B.ID=P.BUSINESS\n",
    "    '''\n",
    "ov = pd.read_sql_query(sql, conn)"
   ]
  },
  {
   "cell_type": "code",
   "execution_count": 5,
   "metadata": {},
   "outputs": [
    {
     "data": {
      "text/html": [
       "<div>\n",
       "<style scoped>\n",
       "    .dataframe tbody tr th:only-of-type {\n",
       "        vertical-align: middle;\n",
       "    }\n",
       "\n",
       "    .dataframe tbody tr th {\n",
       "        vertical-align: top;\n",
       "    }\n",
       "\n",
       "    .dataframe thead th {\n",
       "        text-align: right;\n",
       "    }\n",
       "</style>\n",
       "<table border=\"1\" class=\"dataframe\">\n",
       "  <thead>\n",
       "    <tr style=\"text-align: right;\">\n",
       "      <th></th>\n",
       "      <th>medical_education_number</th>\n",
       "    </tr>\n",
       "  </thead>\n",
       "  <tbody>\n",
       "    <tr>\n",
       "      <td>0</td>\n",
       "      <td>00102000013</td>\n",
       "    </tr>\n",
       "    <tr>\n",
       "      <td>1</td>\n",
       "      <td>00102000030</td>\n",
       "    </tr>\n",
       "    <tr>\n",
       "      <td>2</td>\n",
       "      <td>00102000048</td>\n",
       "    </tr>\n",
       "    <tr>\n",
       "      <td>3</td>\n",
       "      <td>00102000056</td>\n",
       "    </tr>\n",
       "    <tr>\n",
       "      <td>4</td>\n",
       "      <td>00102000145</td>\n",
       "    </tr>\n",
       "    <tr>\n",
       "      <td>...</td>\n",
       "      <td>...</td>\n",
       "    </tr>\n",
       "    <tr>\n",
       "      <td>568911</td>\n",
       "      <td>96501950014</td>\n",
       "    </tr>\n",
       "    <tr>\n",
       "      <td>568912</td>\n",
       "      <td>96501960028</td>\n",
       "    </tr>\n",
       "    <tr>\n",
       "      <td>568913</td>\n",
       "      <td>96501960044</td>\n",
       "    </tr>\n",
       "    <tr>\n",
       "      <td>568914</td>\n",
       "      <td>96501960052</td>\n",
       "    </tr>\n",
       "    <tr>\n",
       "      <td>568915</td>\n",
       "      <td>96501980029</td>\n",
       "    </tr>\n",
       "  </tbody>\n",
       "</table>\n",
       "<p>568916 rows × 1 columns</p>\n",
       "</div>"
      ],
      "text/plain": [
       "       medical_education_number\n",
       "0                   00102000013\n",
       "1                   00102000030\n",
       "2                   00102000048\n",
       "3                   00102000056\n",
       "4                   00102000145\n",
       "...                         ...\n",
       "568911              96501950014\n",
       "568912              96501960028\n",
       "568913              96501960044\n",
       "568914              96501960052\n",
       "568915              96501980029\n",
       "\n",
       "[568916 rows x 1 columns]"
      ]
     },
     "execution_count": 5,
     "metadata": {},
     "output_type": "execute_result"
    }
   ],
   "source": [
    "ov.drop_duplicates()"
   ]
  },
  {
   "cell_type": "code",
   "execution_count": null,
   "metadata": {},
   "outputs": [],
   "source": []
  }
 ],
 "metadata": {
  "kernelspec": {
   "display_name": "Python 3",
   "language": "python",
   "name": "python3"
  },
  "language_info": {
   "codemirror_mode": {
    "name": "ipython",
    "version": 3
   },
   "file_extension": ".py",
   "mimetype": "text/x-python",
   "name": "python",
   "nbconvert_exporter": "python",
   "pygments_lexer": "ipython3",
   "version": "3.7.4"
  }
 },
 "nbformat": 4,
 "nbformat_minor": 2
}
