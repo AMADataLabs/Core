{
 "cells": [
  {
   "cell_type": "code",
   "execution_count": 1,
   "metadata": {},
   "outputs": [],
   "source": [
    "from dataclasses import dataclass\n",
    "from dacite import from_dict"
   ]
  },
  {
   "cell_type": "code",
   "execution_count": null,
   "metadata": {},
   "outputs": [],
   "source": []
  },
  {
   "cell_type": "code",
   "execution_count": 3,
   "metadata": {},
   "outputs": [],
   "source": [
    "@dataclass\n",
    "class DataElementMeasure:\n",
    "    name: str\n",
    "    data_type: str\n",
    "    location: str\n",
    "    measure: str\n",
    "    method: str\n",
    "    is_not: bool\n",
    "    condition_indicator: bool\n",
    "    condition_is_not: bool\n",
    "    condition_column: str\n",
    "    condition_value: list\n",
    "    value: list\n",
    "        \n",
    "    @classmethod\n",
    "    def conditional(self, data):\n",
    "        if self.condition_indicator:\n",
    "            if self.condition_is_not():\n",
    "                true_data = data[~(data[self.condition_column].isin[self.condition_value])].copy()\n",
    "            else:\n",
    "                true_data = data[data[self.condition_column].isin[self.condition_value]].copy()\n",
    "        else:\n",
    "            true_data = data.copy()\n",
    "        return true_data\n",
    "    \n",
    "    @classmethod\n",
    "    def fill(self, data):\n",
    "        numerator = len(data[~(data[data[self.name].isin(self.value)])&(~data[data[self.name]].isna())])\n",
    "        return numerator\n",
    "    \n",
    "    @classmethod\n",
    "    def link(self, data):\n",
    "        if self.is_not():\n",
    "            numerator = len(data[(data[data[self.name].isin(self.value)])\n",
    "        else:\n",
    "            numerator = len(data[~(data[data[self.name].isin(self.value)])\n",
    "        return numerator\n",
    "                                  \n",
    "    @classmethod\n",
    "    def length(self, data):\n",
    "        numerator = 0\n",
    "        for row in data.itertuples():\n",
    "            if self.is_not and len(row.self.name) not in self.value:\n",
    "                numerator += 1\n",
    "            elif ~self.is_not and len(row.self.name) not in self.value:\n",
    "                numerator += 1\n",
    "        return numerator\n",
    "                                 \n",
    "    @classmethod\n",
    "    def characters(self, data):\n",
    "        numerator = 0\n",
    "        for row in data.itertuples():\n",
    "            for character in self.value:\n",
    "                if character in row.self.name\n",
    "                    numerator += 1\n",
    "                    break \n",
    "        if self.is_not:\n",
    "            numerator = len(data)-len(numerator)\n",
    "        return numerator\n",
    "                                 \n",
    "    @classmethod\n",
    "    def part_value(self, data):    \n",
    "        for row in data.itertuples()\n",
    "        return numerator"
   ]
  },
  {
   "cell_type": "code",
   "execution_count": 4,
   "metadata": {},
   "outputs": [
    {
     "ename": "TypeError",
     "evalue": "__init__() missing 10 required positional arguments: 'name', 'data_type', 'location', 'measure', 'method', 'is_not', 'condition_indicator', 'condition_column', 'condition_value', and 'value'",
     "output_type": "error",
     "traceback": [
      "\u001b[1;31m---------------------------------------------------------------------------\u001b[0m",
      "\u001b[1;31mTypeError\u001b[0m                                 Traceback (most recent call last)",
      "\u001b[1;32m<ipython-input-4-237cd1cb7939>\u001b[0m in \u001b[0;36m<module>\u001b[1;34m\u001b[0m\n\u001b[1;32m----> 1\u001b[1;33m \u001b[0mx\u001b[0m \u001b[1;33m=\u001b[0m \u001b[0mDataElementMeasure\u001b[0m\u001b[1;33m(\u001b[0m\u001b[1;33m)\u001b[0m\u001b[1;33m\u001b[0m\u001b[1;33m\u001b[0m\u001b[0m\n\u001b[0m\u001b[0;32m      2\u001b[0m \u001b[0mx\u001b[0m\u001b[1;33m\u001b[0m\u001b[1;33m\u001b[0m\u001b[0m\n",
      "\u001b[1;31mTypeError\u001b[0m: __init__() missing 10 required positional arguments: 'name', 'data_type', 'location', 'measure', 'method', 'is_not', 'condition_indicator', 'condition_column', 'condition_value', and 'value'"
     ]
    }
   ],
   "source": [
    "count = 0\n",
    "validity = []\n",
    "for row in tqdm(ALL.itertuples()):\n",
    "    if len(row.LAST_NM) == 1:\n",
    "        if row.LAST_NM not in ['A','I','U','O','Y']:\n",
    "            invalid = True\n",
    "            validity.append(invalid)\n",
    "            continue\n",
    "    invalid = False\n",
    "    for character in test:\n",
    "        if character in row.LAST_NM:\n",
    "            invalid = True\n",
    "            count += 1\n",
    "            break\n",
    "    validity.append(invalid)"
   ]
  },
  {
   "cell_type": "code",
   "execution_count": null,
   "metadata": {},
   "outputs": [],
   "source": [
    "def fill(ALL, element):\n",
    "    null = element['null']\n",
    "    data_element element['element']\n",
    "    if element['condition_indicator']:\n",
    "        element['condition'][0]\n",
    "        element['condition'][1]\n",
    "    len(ALL[(ALL[data_element]!=null)&~(ALL[element['element']].isna())&(ALL.ME.isin(element['universe']))])"
   ]
  },
  {
   "cell_type": "code",
   "execution_count": null,
   "metadata": {},
   "outputs": [],
   "source": [
    "def invalid_character(element)"
   ]
  }
 ],
 "metadata": {
  "kernelspec": {
   "display_name": "Python 3",
   "language": "python",
   "name": "python3"
  },
  "language_info": {
   "codemirror_mode": {
    "name": "ipython",
    "version": 3
   },
   "file_extension": ".py",
   "mimetype": "text/x-python",
   "name": "python",
   "nbconvert_exporter": "python",
   "pygments_lexer": "ipython3",
   "version": "3.7.4"
  }
 },
 "nbformat": 4,
 "nbformat_minor": 2
}
