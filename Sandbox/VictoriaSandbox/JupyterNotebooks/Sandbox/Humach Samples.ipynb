{
 "cells": [
  {
   "cell_type": "code",
   "execution_count": 1,
   "metadata": {},
   "outputs": [],
   "source": [
    "import pandas as pd\n",
    "import pyodbc\n",
    "import useful_functions as use"
   ]
  },
  {
   "cell_type": "code",
   "execution_count": 2,
   "metadata": {},
   "outputs": [],
   "source": [
    "#Read files\n",
    "ppd = pd.read_csv('../../Data/PPD/ppd_analysis_file.csv', low_memory=False)\n",
    "sample_valid = pd.read_excel('../../Data/Humach/2022-04-25_Validation_Sample.xlsx')\n",
    "orginal_valid = len(sample_valid)\n",
    "sample_standard = pd.read_excel('../../Data/Humach/2022-04-25_Masterfile_Random_Sample.xlsx')\n",
    "orginal_standard = len(sample_standard)"
   ]
  },
  {
   "cell_type": "code",
   "execution_count": 3,
   "metadata": {},
   "outputs": [
    {
     "name": "stdout",
     "output_type": "stream",
     "text": [
      "1 entity ids in validation sample no longer in ppd\n",
      "12 entity ids in standard sample no longer in ppd\n"
     ]
    }
   ],
   "source": [
    "#Remove missing records from samples\n",
    "removed = len(sample_valid[~sample_valid.ENTITY_ID.isin(ppd.ENTITY_ID)])\n",
    "print(f'{removed} entity ids in validation sample no longer in ppd')\n",
    "sample_valid = sample_valid[sample_valid.ENTITY_ID.isin(ppd.ENTITY_ID)]\n",
    "removed = len(sample_standard[~sample_standard.ENTITY_ID.isin(ppd.ENTITY_ID)])\n",
    "print(f'{removed} entity ids in standard sample no longer in ppd')\n",
    "sample_standard = sample_standard[sample_standard.ENTITY_ID.isin(ppd.ENTITY_ID)]"
   ]
  },
  {
   "cell_type": "code",
   "execution_count": 4,
   "metadata": {},
   "outputs": [],
   "source": [
    "#3. get the existing no-contact data to filter out entities with phone category restriction. \n",
    "username = 'vigrose'\n",
    "password_edw = 'Hufflepuff~10946'\n",
    "password_aims = 'DQA8K@T7pXEqEt'\n",
    "s = \"DSN=aims_prod; UID={}; PWD={}\".format(username, password_aims)\n",
    "informix = pyodbc.connect(s)\n",
    "\n",
    "sql_no_contacts = \\\n",
    "\"\"\"\n",
    "    SELECT * FROM entity_cat_ct WHERE \n",
    "    end_dt is null AND category_code IN (\"NO_CONTACT\", \"NO-EMAIL\", \"NO-RELEASE\", \"NO-CONTACT\")\n",
    "\"\"\"\n",
    "\n",
    "no_contact_data = pd.read_sql(con=informix, sql=sql_no_contacts)"
   ]
  },
  {
   "cell_type": "code",
   "execution_count": 5,
   "metadata": {},
   "outputs": [
    {
     "name": "stdout",
     "output_type": "stream",
     "text": [
      "0 entity ids in validation sample are now no contact\n",
      "6 entity ids in standard sample are now no contact\n"
     ]
    }
   ],
   "source": [
    "#Remove new no contacts from samples\n",
    "removed = len(sample_valid[sample_valid.ENTITY_ID.isin(no_contact_data.entity_id)])\n",
    "print(f'{removed} entity ids in validation sample are now no contact')\n",
    "sample_valid = sample_valid[~sample_valid.ENTITY_ID.isin(no_contact_data.entity_id)]\n",
    "removed = len(sample_standard[sample_standard.ENTITY_ID.isin(no_contact_data.entity_id)])\n",
    "print(f'{removed} entity ids in standard sample are now no contact')\n",
    "sample_standard = sample_standard[~sample_standard.ENTITY_ID.isin(no_contact_data.entity_id)]"
   ]
  },
  {
   "cell_type": "code",
   "execution_count": 6,
   "metadata": {},
   "outputs": [
    {
     "name": "stdout",
     "output_type": "stream",
     "text": [
      "322 addresses or phones on standard sample have been updated since sample was created\n",
      "31 addresses or phones on valid sample have been updated since sample was created\n"
     ]
    }
   ],
   "source": [
    "#2. for each entity_id in sample, check corresponding phone number and address (via comm_id or comparing raw phone number and address)\n",
    "sample_standard_2 = pd.merge(sample_standard, ppd[['ENTITY_ID', 'POLO_COMM_ID','TELEPHONE_NUMBER']], on=['ENTITY_ID', 'POLO_COMM_ID','TELEPHONE_NUMBER'])\n",
    "sample_standard_updated = sample_standard[~sample_standard.ENTITY_ID.isin(sample_standard_2.ENTITY_ID)]\n",
    "print(f'{len(sample_standard_updated)} addresses or phones on standard sample have been updated since sample was created')\n",
    "sample_valid_2 = pd.merge(sample_valid, ppd[['ENTITY_ID', 'POLO_COMM_ID','TELEPHONE_NUMBER']], on=['ENTITY_ID', 'POLO_COMM_ID','TELEPHONE_NUMBER'])\n",
    "sample_valid_updated = sample_valid[~sample_valid.ENTITY_ID.isin(sample_valid_2.ENTITY_ID)]\n",
    "print(f'{len(sample_valid_updated)} addresses or phones on valid sample have been updated since sample was created')"
   ]
  },
  {
   "cell_type": "code",
   "execution_count": 8,
   "metadata": {},
   "outputs": [
    {
     "name": "stdout",
     "output_type": "stream",
     "text": [
      "Standard Sample: 34660 rows\n",
      "Validation Sample: 2468 rows\n"
     ]
    }
   ],
   "source": [
    "print(f'Standard Sample: {len(sample_standard_2)} rows')\n",
    "print(f'Validation Sample: {len(sample_valid_2)} rows')"
   ]
  },
  {
   "cell_type": "code",
   "execution_count": 10,
   "metadata": {},
   "outputs": [],
   "source": [
    "sample_standard_2.ME = use.fix_me(sample_standard_2.ME)\n",
    "sample_standard_2.to_excel('../../Data/Humach/2022-04-22_Masterfile_Random_Sample.xlsx', index=False)\n",
    "sample_valid_2.ME = use.fix_me(sample_valid_2.ME)\n",
    "sample_valid_2.to_excel('../../Data/Humach/2022-04-22_Validation_Sample.xlsx', index=False)"
   ]
  },
  {
   "cell_type": "code",
   "execution_count": null,
   "metadata": {},
   "outputs": [],
   "source": []
  }
 ],
 "metadata": {
  "kernelspec": {
   "display_name": "Python 3",
   "language": "python",
   "name": "python3"
  },
  "language_info": {
   "codemirror_mode": {
    "name": "ipython",
    "version": 3
   },
   "file_extension": ".py",
   "mimetype": "text/x-python",
   "name": "python",
   "nbconvert_exporter": "python",
   "pygments_lexer": "ipython3",
   "version": "3.7.4"
  }
 },
 "nbformat": 4,
 "nbformat_minor": 2
}
