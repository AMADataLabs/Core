{
 "cells": [
  {
   "cell_type": "code",
   "execution_count": 1,
   "metadata": {},
   "outputs": [],
   "source": [
    "import pandas as pd\n",
    "import pyodbc\n",
    "username = 'vigrose'\n",
    "password = 'Slytherin~10946'\n",
    "q = \"DSN=eprdods; UID={}; PWD={}\".format(username, password)\n",
    "ODS = pyodbc.connect(q)\n",
    "s = \"DSN=PRDDW; UID={}; PWD={}\".format(username, password)\n",
    "AMAEDW = pyodbc.connect(s)"
   ]
  },
  {
   "cell_type": "code",
   "execution_count": null,
   "metadata": {},
   "outputs": [],
   "source": [
    "#symphony\n",
    "sym_query = \\\n",
    "        \"\"\"\n",
    "        SELECT\n",
    "        d.ADDR_LINE_2_TXT AS MAILING_LINE_1,\n",
    "        d.ADDR_LINE_1_TXT AS MAILING_LINE_2,\n",
    "        d.ADDR_CITY_NAM AS CITY,\n",
    "        d.ADDR_ST_CDE AS STATE,\n",
    "        d.ADDR_ZIP_CDE AS ZIP,\n",
    "        l.OTHER_ID AS SYM_ME\n",
    "        FROM\n",
    "        ODS.PRACTITIONER_DEMOGRAPHIC_LAYOUT d, ODS.PRACTITIONER_ADDL_IDS_LAYOUT l\n",
    "        WHERE\n",
    "        d.DS_PRCTR_ID = l.DS_PRCTR_ID\n",
    "        and\n",
    "        l.ID_QLFR_TYP_CDE = 38\n",
    "        \"\"\"  \n",
    "symphony = pd.read_sql(con=ODS, sql=sym_query)\n",
    "symphony.head()"
   ]
  },
  {
   "cell_type": "code",
   "execution_count": 11,
   "metadata": {},
   "outputs": [
    {
     "data": {
      "text/plain": [
       "Index(['DNRML_LOAD_DTE', 'PRC_REL_GID', 'DS_PRCTR_ID', 'OTHER_ID',\n",
       "       'ID_QLFR_TYP_CDE', 'ID_QLFR_TYP_DESC', 'SUB_ID_QLFR_TYP_CDE',\n",
       "       'SUB_ID_QLFR_TYP_DESC', 'ST_CDE', 'ID_TYP_CDE', 'ID_TYP_DESC',\n",
       "       'ID_STUS_DESC', 'BUS_ACTVY_CDE', 'BUS_ACTVY_DESC', 'BUS_ACTVY_SUB_CDE',\n",
       "       'BUS_ACTVY_SUB_DESC', 'DEA_SCHD_DESC', 'DS_ID_QLFR_TYP_CDE',\n",
       "       'OTHER_ID_CKDGT', 'DS_NO_CONTACT_FLAG', 'OPT_OUT_IND', 'OPT_OUT_DTE',\n",
       "       'OPT_OUT_EFF_DTE'],\n",
       "      dtype='object')"
      ]
     },
     "execution_count": 11,
     "metadata": {},
     "output_type": "execute_result"
    }
   ],
   "source": [
    "query = \\\n",
    "    \"\"\"\n",
    "    SELECT * FROM ODS.PRACTITIONER_ADDL_IDS_LAYOUT\n",
    "    LIMIT 1\n",
    "    \"\"\"\n",
    "symphony = pd.read_sql(con=ODS, sql=query)\n",
    "symphony.columns"
   ]
  },
  {
   "cell_type": "code",
   "execution_count": 12,
   "metadata": {},
   "outputs": [],
   "source": [
    "# symph_dict_list = []\n",
    "for col in symphony.columns:\n",
    "    symph_dict_list.append(\n",
    "    {'TABLE':'PRACTITIONER_ADDL_IDS_LAYOUT',\n",
    "    'COLUMN': col})"
   ]
  },
  {
   "cell_type": "code",
   "execution_count": 16,
   "metadata": {},
   "outputs": [],
   "source": [
    "def get_unique_values(column, table):\n",
    "    query = \\\n",
    "    f\"\"\"\n",
    "    SELECT DISTINCT {column}\n",
    "    FROM \n",
    "    ODS.{table}\n",
    "    \"\"\"\n",
    "    print(query)\n",
    "    values = pd.read_sql(con=ODS, sql=query)\n",
    "    return values"
   ]
  },
  {
   "cell_type": "code",
   "execution_count": 14,
   "metadata": {},
   "outputs": [
    {
     "data": {
      "text/plain": [
       "[{'TABLE': 'PRACTITIONER_DEMOGRAPHIC_LAYOUT', 'COLUMN': 'DNRML_LOAD_DTE'},\n",
       " {'TABLE': 'PRACTITIONER_DEMOGRAPHIC_LAYOUT', 'COLUMN': 'PRC_REL_GID'},\n",
       " {'TABLE': 'PRACTITIONER_DEMOGRAPHIC_LAYOUT', 'COLUMN': 'DS_PRCTR_ID'},\n",
       " {'TABLE': 'PRACTITIONER_DEMOGRAPHIC_LAYOUT', 'COLUMN': 'PRCTR_LAST_NAM'},\n",
       " {'TABLE': 'PRACTITIONER_DEMOGRAPHIC_LAYOUT', 'COLUMN': 'PRCTR_FRST_NAM'},\n",
       " {'TABLE': 'PRACTITIONER_DEMOGRAPHIC_LAYOUT', 'COLUMN': 'PRCTR_MDL_NAM'},\n",
       " {'TABLE': 'PRACTITIONER_DEMOGRAPHIC_LAYOUT', 'COLUMN': 'PRCTR_PRFX_NAM'},\n",
       " {'TABLE': 'PRACTITIONER_DEMOGRAPHIC_LAYOUT', 'COLUMN': 'PRCTR_SFX_NAM'},\n",
       " {'TABLE': 'PRACTITIONER_DEMOGRAPHIC_LAYOUT', 'COLUMN': 'PRCTR_CRDRL_CDE'},\n",
       " {'TABLE': 'PRACTITIONER_DEMOGRAPHIC_LAYOUT', 'COLUMN': 'PRCTR_CRDRL_DESC'},\n",
       " {'TABLE': 'PRACTITIONER_DEMOGRAPHIC_LAYOUT', 'COLUMN': 'PRCTR_GNDR_CDE'},\n",
       " {'TABLE': 'PRACTITIONER_DEMOGRAPHIC_LAYOUT', 'COLUMN': 'PRCTR_BRTH_DTE'},\n",
       " {'TABLE': 'PRACTITIONER_DEMOGRAPHIC_LAYOUT', 'COLUMN': 'PRCTR_DEATH_DTE'},\n",
       " {'TABLE': 'PRACTITIONER_DEMOGRAPHIC_LAYOUT', 'COLUMN': 'ADDR_LCTN_TYP_CDE'},\n",
       " {'TABLE': 'PRACTITIONER_DEMOGRAPHIC_LAYOUT', 'COLUMN': 'ADDR_RANK_NBR'},\n",
       " {'TABLE': 'PRACTITIONER_DEMOGRAPHIC_LAYOUT', 'COLUMN': 'ADDR_LINE_1_TXT'},\n",
       " {'TABLE': 'PRACTITIONER_DEMOGRAPHIC_LAYOUT', 'COLUMN': 'ADDR_LINE_2_TXT'},\n",
       " {'TABLE': 'PRACTITIONER_DEMOGRAPHIC_LAYOUT', 'COLUMN': 'ADDR_CITY_NAM'},\n",
       " {'TABLE': 'PRACTITIONER_DEMOGRAPHIC_LAYOUT', 'COLUMN': 'ADDR_ST_CDE'},\n",
       " {'TABLE': 'PRACTITIONER_DEMOGRAPHIC_LAYOUT', 'COLUMN': 'ADDR_ZIP_CDE'},\n",
       " {'TABLE': 'PRACTITIONER_DEMOGRAPHIC_LAYOUT', 'COLUMN': 'ADDR_ZIP_PLUS4_CDE'},\n",
       " {'TABLE': 'PRACTITIONER_DEMOGRAPHIC_LAYOUT', 'COLUMN': 'ADDR_DMA_CDE'},\n",
       " {'TABLE': 'PRACTITIONER_DEMOGRAPHIC_LAYOUT', 'COLUMN': 'ADDR_CBSA_CDE'},\n",
       " {'TABLE': 'PRACTITIONER_DEMOGRAPHIC_LAYOUT', 'COLUMN': 'ADDR_CSA_CDE'},\n",
       " {'TABLE': 'PRACTITIONER_DEMOGRAPHIC_LAYOUT', 'COLUMN': 'ADDR_CNS_DSTRT_CDE'},\n",
       " {'TABLE': 'PRACTITIONER_DEMOGRAPHIC_LAYOUT', 'COLUMN': 'ADDR_CNTY_CDE'},\n",
       " {'TABLE': 'PRACTITIONER_DEMOGRAPHIC_LAYOUT',\n",
       "  'COLUMN': 'ADDR_FRST_TLPHN_TYP_CDE'},\n",
       " {'TABLE': 'PRACTITIONER_DEMOGRAPHIC_LAYOUT', 'COLUMN': 'ADDR_FRST_TLPHN_NBR'},\n",
       " {'TABLE': 'PRACTITIONER_DEMOGRAPHIC_LAYOUT', 'COLUMN': 'ADDR_FRST_FAX_NBR'},\n",
       " {'TABLE': 'PRACTITIONER_DEMOGRAPHIC_LAYOUT',\n",
       "  'COLUMN': 'ADDR_SCND_TLPHN_TYP_CDE'},\n",
       " {'TABLE': 'PRACTITIONER_DEMOGRAPHIC_LAYOUT', 'COLUMN': 'ADDR_SCND_TLPHN_NBR'},\n",
       " {'TABLE': 'PRACTITIONER_DEMOGRAPHIC_LAYOUT', 'COLUMN': 'ADDR_SCND_FAX_NBR'},\n",
       " {'TABLE': 'PRACTITIONER_DEMOGRAPHIC_LAYOUT',\n",
       "  'COLUMN': 'PRCTR_MDCR_PRCPN_IND'},\n",
       " {'TABLE': 'PRACTITIONER_DEMOGRAPHIC_LAYOUT',\n",
       "  'COLUMN': 'PRCTR_DS_PRCTR_TYP_CDE'},\n",
       " {'TABLE': 'PRACTITIONER_DEMOGRAPHIC_LAYOUT',\n",
       "  'COLUMN': 'PRCTR_DS_PRCTR_TYP_DESC'},\n",
       " {'TABLE': 'PRACTITIONER_DEMOGRAPHIC_LAYOUT',\n",
       "  'COLUMN': 'PRCTR_DS_RPTD_PRMRY_SPCLT_CDE'},\n",
       " {'TABLE': 'PRACTITIONER_DEMOGRAPHIC_LAYOUT',\n",
       "  'COLUMN': 'PRCTR_DS_RPTD_PRMRY_SPCLT_DESC'},\n",
       " {'TABLE': 'PRACTITIONER_DEMOGRAPHIC_LAYOUT',\n",
       "  'COLUMN': 'PRCTR_DS_RPTD_SCNRY_SPCLT_CDE'},\n",
       " {'TABLE': 'PRACTITIONER_DEMOGRAPHIC_LAYOUT',\n",
       "  'COLUMN': 'PRCTR_DS_RPTD_SCNRY_SPCLT_DESC'},\n",
       " {'TABLE': 'PRACTITIONER_DEMOGRAPHIC_LAYOUT', 'COLUMN': 'PRCTR_MDCL_SCHL_ID'},\n",
       " {'TABLE': 'PRACTITIONER_DEMOGRAPHIC_LAYOUT', 'COLUMN': 'PRCTR_MDCL_SCHL_NAM'},\n",
       " {'TABLE': 'PRACTITIONER_ADDL_IDS_LAYOUT', 'COLUMN': 'DNRML_LOAD_DTE'},\n",
       " {'TABLE': 'PRACTITIONER_ADDL_IDS_LAYOUT', 'COLUMN': 'PRC_REL_GID'},\n",
       " {'TABLE': 'PRACTITIONER_ADDL_IDS_LAYOUT', 'COLUMN': 'DS_PRCTR_ID'},\n",
       " {'TABLE': 'PRACTITIONER_ADDL_IDS_LAYOUT', 'COLUMN': 'OTHER_ID'},\n",
       " {'TABLE': 'PRACTITIONER_ADDL_IDS_LAYOUT', 'COLUMN': 'ID_QLFR_TYP_CDE'},\n",
       " {'TABLE': 'PRACTITIONER_ADDL_IDS_LAYOUT', 'COLUMN': 'ID_QLFR_TYP_DESC'},\n",
       " {'TABLE': 'PRACTITIONER_ADDL_IDS_LAYOUT', 'COLUMN': 'SUB_ID_QLFR_TYP_CDE'},\n",
       " {'TABLE': 'PRACTITIONER_ADDL_IDS_LAYOUT', 'COLUMN': 'SUB_ID_QLFR_TYP_DESC'},\n",
       " {'TABLE': 'PRACTITIONER_ADDL_IDS_LAYOUT', 'COLUMN': 'ST_CDE'},\n",
       " {'TABLE': 'PRACTITIONER_ADDL_IDS_LAYOUT', 'COLUMN': 'ID_TYP_CDE'},\n",
       " {'TABLE': 'PRACTITIONER_ADDL_IDS_LAYOUT', 'COLUMN': 'ID_TYP_DESC'},\n",
       " {'TABLE': 'PRACTITIONER_ADDL_IDS_LAYOUT', 'COLUMN': 'ID_STUS_DESC'},\n",
       " {'TABLE': 'PRACTITIONER_ADDL_IDS_LAYOUT', 'COLUMN': 'BUS_ACTVY_CDE'},\n",
       " {'TABLE': 'PRACTITIONER_ADDL_IDS_LAYOUT', 'COLUMN': 'BUS_ACTVY_DESC'},\n",
       " {'TABLE': 'PRACTITIONER_ADDL_IDS_LAYOUT', 'COLUMN': 'BUS_ACTVY_SUB_CDE'},\n",
       " {'TABLE': 'PRACTITIONER_ADDL_IDS_LAYOUT', 'COLUMN': 'BUS_ACTVY_SUB_DESC'},\n",
       " {'TABLE': 'PRACTITIONER_ADDL_IDS_LAYOUT', 'COLUMN': 'DEA_SCHD_DESC'},\n",
       " {'TABLE': 'PRACTITIONER_ADDL_IDS_LAYOUT', 'COLUMN': 'DS_ID_QLFR_TYP_CDE'},\n",
       " {'TABLE': 'PRACTITIONER_ADDL_IDS_LAYOUT', 'COLUMN': 'OTHER_ID_CKDGT'},\n",
       " {'TABLE': 'PRACTITIONER_ADDL_IDS_LAYOUT', 'COLUMN': 'DS_NO_CONTACT_FLAG'},\n",
       " {'TABLE': 'PRACTITIONER_ADDL_IDS_LAYOUT', 'COLUMN': 'OPT_OUT_IND'},\n",
       " {'TABLE': 'PRACTITIONER_ADDL_IDS_LAYOUT', 'COLUMN': 'OPT_OUT_DTE'},\n",
       " {'TABLE': 'PRACTITIONER_ADDL_IDS_LAYOUT', 'COLUMN': 'OPT_OUT_EFF_DTE'}]"
      ]
     },
     "execution_count": 14,
     "metadata": {},
     "output_type": "execute_result"
    }
   ],
   "source": [
    "symph_dict_list"
   ]
  },
  {
   "cell_type": "code",
   "execution_count": 17,
   "metadata": {},
   "outputs": [
    {
     "name": "stdout",
     "output_type": "stream",
     "text": [
      "\n",
      "    SELECT DISTINCT DNRML_LOAD_DTE\n",
      "    FROM \n",
      "    ODS.PRACTITIONER_DEMOGRAPHIC_LAYOUT\n",
      "    \n",
      "{'TABLE': 'PRACTITIONER_DEMOGRAPHIC_LAYOUT', 'COLUMN': 'DNRML_LOAD_DTE', 'VALUES': [datetime.date(2022, 4, 30)]}\n",
      "\n",
      "    SELECT DISTINCT PRC_REL_GID\n",
      "    FROM \n",
      "    ODS.PRACTITIONER_DEMOGRAPHIC_LAYOUT\n",
      "    \n"
     ]
    },
    {
     "name": "stderr",
     "output_type": "stream",
     "text": [
      "IOPub data rate exceeded.\n",
      "The notebook server will temporarily stop sending output\n",
      "to the client in order to avoid crashing it.\n",
      "To change this limit, set the config variable\n",
      "`--NotebookApp.iopub_data_rate_limit`.\n",
      "\n",
      "Current values:\n",
      "NotebookApp.iopub_data_rate_limit=1000000.0 (bytes/sec)\n",
      "NotebookApp.rate_limit_window=3.0 (secs)\n",
      "\n"
     ]
    },
    {
     "ename": "KeyboardInterrupt",
     "evalue": "",
     "output_type": "error",
     "traceback": [
      "\u001b[1;31m---------------------------------------------------------------------------\u001b[0m",
      "\u001b[1;31mKeyboardInterrupt\u001b[0m                         Traceback (most recent call last)",
      "\u001b[1;32m<ipython-input-17-ecaee9757cec>\u001b[0m in \u001b[0;36m<module>\u001b[1;34m\u001b[0m\n\u001b[0;32m      1\u001b[0m \u001b[0mNEW_LIST\u001b[0m \u001b[1;33m=\u001b[0m \u001b[1;33m[\u001b[0m\u001b[1;33m]\u001b[0m\u001b[1;33m\u001b[0m\u001b[1;33m\u001b[0m\u001b[0m\n\u001b[0;32m      2\u001b[0m \u001b[1;32mfor\u001b[0m \u001b[0mitem\u001b[0m \u001b[1;32min\u001b[0m \u001b[0msymph_dict_list\u001b[0m\u001b[1;33m:\u001b[0m\u001b[1;33m\u001b[0m\u001b[1;33m\u001b[0m\u001b[0m\n\u001b[1;32m----> 3\u001b[1;33m     \u001b[0munique_df\u001b[0m \u001b[1;33m=\u001b[0m \u001b[0mget_unique_values\u001b[0m\u001b[1;33m(\u001b[0m\u001b[0mitem\u001b[0m\u001b[1;33m[\u001b[0m\u001b[1;34m'COLUMN'\u001b[0m\u001b[1;33m]\u001b[0m\u001b[1;33m,\u001b[0m \u001b[0mitem\u001b[0m\u001b[1;33m[\u001b[0m\u001b[1;34m'TABLE'\u001b[0m\u001b[1;33m]\u001b[0m\u001b[1;33m)\u001b[0m\u001b[1;33m\u001b[0m\u001b[1;33m\u001b[0m\u001b[0m\n\u001b[0m\u001b[0;32m      4\u001b[0m     \u001b[0mitem\u001b[0m\u001b[1;33m[\u001b[0m\u001b[1;34m'VALUES'\u001b[0m\u001b[1;33m]\u001b[0m \u001b[1;33m=\u001b[0m \u001b[0mlist\u001b[0m\u001b[1;33m(\u001b[0m\u001b[0munique_df\u001b[0m\u001b[1;33m[\u001b[0m\u001b[0mitem\u001b[0m\u001b[1;33m[\u001b[0m\u001b[1;34m'COLUMN'\u001b[0m\u001b[1;33m]\u001b[0m\u001b[1;33m]\u001b[0m\u001b[1;33m)\u001b[0m\u001b[1;33m\u001b[0m\u001b[1;33m\u001b[0m\u001b[0m\n\u001b[0;32m      5\u001b[0m     \u001b[0mNEW_LIST\u001b[0m\u001b[1;33m.\u001b[0m\u001b[0mappend\u001b[0m\u001b[1;33m(\u001b[0m\u001b[0mitem\u001b[0m\u001b[1;33m)\u001b[0m\u001b[1;33m\u001b[0m\u001b[1;33m\u001b[0m\u001b[0m\n",
      "\u001b[1;32m<ipython-input-16-be453ada0052>\u001b[0m in \u001b[0;36mget_unique_values\u001b[1;34m(column, table)\u001b[0m\n\u001b[0;32m      7\u001b[0m     \"\"\"\n\u001b[0;32m      8\u001b[0m     \u001b[0mprint\u001b[0m\u001b[1;33m(\u001b[0m\u001b[0mquery\u001b[0m\u001b[1;33m)\u001b[0m\u001b[1;33m\u001b[0m\u001b[1;33m\u001b[0m\u001b[0m\n\u001b[1;32m----> 9\u001b[1;33m     \u001b[0mvalues\u001b[0m \u001b[1;33m=\u001b[0m \u001b[0mpd\u001b[0m\u001b[1;33m.\u001b[0m\u001b[0mread_sql\u001b[0m\u001b[1;33m(\u001b[0m\u001b[0mcon\u001b[0m\u001b[1;33m=\u001b[0m\u001b[0mODS\u001b[0m\u001b[1;33m,\u001b[0m \u001b[0msql\u001b[0m\u001b[1;33m=\u001b[0m\u001b[0mquery\u001b[0m\u001b[1;33m)\u001b[0m\u001b[1;33m\u001b[0m\u001b[1;33m\u001b[0m\u001b[0m\n\u001b[0m\u001b[0;32m     10\u001b[0m     \u001b[1;32mreturn\u001b[0m \u001b[0mvalues\u001b[0m\u001b[1;33m\u001b[0m\u001b[1;33m\u001b[0m\u001b[0m\n",
      "\u001b[1;32m~\\AppData\\Local\\Continuum\\anaconda3\\lib\\site-packages\\pandas\\io\\sql.py\u001b[0m in \u001b[0;36mread_sql\u001b[1;34m(sql, con, index_col, coerce_float, params, parse_dates, columns, chunksize)\u001b[0m\n\u001b[0;32m    408\u001b[0m             \u001b[0mcoerce_float\u001b[0m\u001b[1;33m=\u001b[0m\u001b[0mcoerce_float\u001b[0m\u001b[1;33m,\u001b[0m\u001b[1;33m\u001b[0m\u001b[1;33m\u001b[0m\u001b[0m\n\u001b[0;32m    409\u001b[0m             \u001b[0mparse_dates\u001b[0m\u001b[1;33m=\u001b[0m\u001b[0mparse_dates\u001b[0m\u001b[1;33m,\u001b[0m\u001b[1;33m\u001b[0m\u001b[1;33m\u001b[0m\u001b[0m\n\u001b[1;32m--> 410\u001b[1;33m             \u001b[0mchunksize\u001b[0m\u001b[1;33m=\u001b[0m\u001b[0mchunksize\u001b[0m\u001b[1;33m,\u001b[0m\u001b[1;33m\u001b[0m\u001b[1;33m\u001b[0m\u001b[0m\n\u001b[0m\u001b[0;32m    411\u001b[0m         )\n\u001b[0;32m    412\u001b[0m \u001b[1;33m\u001b[0m\u001b[0m\n",
      "\u001b[1;32m~\\AppData\\Local\\Continuum\\anaconda3\\lib\\site-packages\\pandas\\io\\sql.py\u001b[0m in \u001b[0;36mread_query\u001b[1;34m(self, sql, index_col, coerce_float, params, parse_dates, chunksize)\u001b[0m\n\u001b[0;32m   1643\u001b[0m \u001b[1;33m\u001b[0m\u001b[0m\n\u001b[0;32m   1644\u001b[0m         \u001b[0margs\u001b[0m \u001b[1;33m=\u001b[0m \u001b[0m_convert_params\u001b[0m\u001b[1;33m(\u001b[0m\u001b[0msql\u001b[0m\u001b[1;33m,\u001b[0m \u001b[0mparams\u001b[0m\u001b[1;33m)\u001b[0m\u001b[1;33m\u001b[0m\u001b[1;33m\u001b[0m\u001b[0m\n\u001b[1;32m-> 1645\u001b[1;33m         \u001b[0mcursor\u001b[0m \u001b[1;33m=\u001b[0m \u001b[0mself\u001b[0m\u001b[1;33m.\u001b[0m\u001b[0mexecute\u001b[0m\u001b[1;33m(\u001b[0m\u001b[1;33m*\u001b[0m\u001b[0margs\u001b[0m\u001b[1;33m)\u001b[0m\u001b[1;33m\u001b[0m\u001b[1;33m\u001b[0m\u001b[0m\n\u001b[0m\u001b[0;32m   1646\u001b[0m         \u001b[0mcolumns\u001b[0m \u001b[1;33m=\u001b[0m \u001b[1;33m[\u001b[0m\u001b[0mcol_desc\u001b[0m\u001b[1;33m[\u001b[0m\u001b[1;36m0\u001b[0m\u001b[1;33m]\u001b[0m \u001b[1;32mfor\u001b[0m \u001b[0mcol_desc\u001b[0m \u001b[1;32min\u001b[0m \u001b[0mcursor\u001b[0m\u001b[1;33m.\u001b[0m\u001b[0mdescription\u001b[0m\u001b[1;33m]\u001b[0m\u001b[1;33m\u001b[0m\u001b[1;33m\u001b[0m\u001b[0m\n\u001b[0;32m   1647\u001b[0m \u001b[1;33m\u001b[0m\u001b[0m\n",
      "\u001b[1;32m~\\AppData\\Local\\Continuum\\anaconda3\\lib\\site-packages\\pandas\\io\\sql.py\u001b[0m in \u001b[0;36mexecute\u001b[1;34m(self, *args, **kwargs)\u001b[0m\n\u001b[0;32m   1593\u001b[0m                 \u001b[0mcur\u001b[0m\u001b[1;33m.\u001b[0m\u001b[0mexecute\u001b[0m\u001b[1;33m(\u001b[0m\u001b[1;33m*\u001b[0m\u001b[0margs\u001b[0m\u001b[1;33m,\u001b[0m \u001b[1;33m**\u001b[0m\u001b[0mkwargs\u001b[0m\u001b[1;33m)\u001b[0m\u001b[1;33m\u001b[0m\u001b[1;33m\u001b[0m\u001b[0m\n\u001b[0;32m   1594\u001b[0m             \u001b[1;32melse\u001b[0m\u001b[1;33m:\u001b[0m\u001b[1;33m\u001b[0m\u001b[1;33m\u001b[0m\u001b[0m\n\u001b[1;32m-> 1595\u001b[1;33m                 \u001b[0mcur\u001b[0m\u001b[1;33m.\u001b[0m\u001b[0mexecute\u001b[0m\u001b[1;33m(\u001b[0m\u001b[1;33m*\u001b[0m\u001b[0margs\u001b[0m\u001b[1;33m)\u001b[0m\u001b[1;33m\u001b[0m\u001b[1;33m\u001b[0m\u001b[0m\n\u001b[0m\u001b[0;32m   1596\u001b[0m             \u001b[1;32mreturn\u001b[0m \u001b[0mcur\u001b[0m\u001b[1;33m\u001b[0m\u001b[1;33m\u001b[0m\u001b[0m\n\u001b[0;32m   1597\u001b[0m         \u001b[1;32mexcept\u001b[0m \u001b[0mException\u001b[0m \u001b[1;32mas\u001b[0m \u001b[0mexc\u001b[0m\u001b[1;33m:\u001b[0m\u001b[1;33m\u001b[0m\u001b[1;33m\u001b[0m\u001b[0m\n",
      "\u001b[1;31mKeyboardInterrupt\u001b[0m: "
     ]
    }
   ],
   "source": [
    "NEW_LIST = []\n",
    "for item in symph_dict_list:\n",
    "    unique_df = get_unique_values(item['COLUMN'], item['TABLE'])\n",
    "    item['VALUES'] = list(unique_df[item['COLUMN']])\n",
    "    NEW_LIST.append(item)\n",
    "    print(item)"
   ]
  },
  {
   "cell_type": "code",
   "execution_count": 18,
   "metadata": {},
   "outputs": [],
   "source": [
    "pd.DataFrame(NEW_LIST).to_excel('../../Data/New_Products/Unique_IQVia_Values.xlsx',index=False)"
   ]
  },
  {
   "cell_type": "code",
   "execution_count": 19,
   "metadata": {},
   "outputs": [],
   "source": [
    "x = pd.DataFrame(NEW_LIST)"
   ]
  },
  {
   "cell_type": "code",
   "execution_count": 26,
   "metadata": {},
   "outputs": [
    {
     "name": "stdout",
     "output_type": "stream",
     "text": [
      "yes\n",
      "yes\n",
      "yes\n"
     ]
    }
   ],
   "source": [
    "for column in x.columns:\n",
    "    if x[column].dtype == 'object':\n",
    "        print('yes')"
   ]
  },
  {
   "cell_type": "code",
   "execution_count": 36,
   "metadata": {},
   "outputs": [],
   "source": [
    "x['TEST']= '       test '"
   ]
  },
  {
   "cell_type": "code",
   "execution_count": 43,
   "metadata": {},
   "outputs": [],
   "source": [
    "def remove_whitespaces(dataframe):\n",
    "    for column in dataframe.columns:\n",
    "        print(column)\n",
    "        if dataframe[column].dtype == 'object':\n",
    "            dataframe[column] = [str(z).strip() for z in dataframe[column]]\n",
    "    return dataframe"
   ]
  },
  {
   "cell_type": "code",
   "execution_count": 41,
   "metadata": {},
   "outputs": [
    {
     "data": {
      "text/plain": [
       "['test',\n",
       " 'test',\n",
       " 'test',\n",
       " 'test',\n",
       " 'test',\n",
       " 'test',\n",
       " 'test',\n",
       " 'test',\n",
       " 'test',\n",
       " 'test',\n",
       " 'test']"
      ]
     },
     "execution_count": 41,
     "metadata": {},
     "output_type": "execute_result"
    }
   ],
   "source": [
    "[z.strip() for z in x.TEST]"
   ]
  },
  {
   "cell_type": "code",
   "execution_count": 44,
   "metadata": {},
   "outputs": [
    {
     "name": "stdout",
     "output_type": "stream",
     "text": [
      "TABLE\n",
      "COLUMN\n",
      "VALUES\n",
      "TEST\n"
     ]
    },
    {
     "data": {
      "text/html": [
       "<div>\n",
       "<style scoped>\n",
       "    .dataframe tbody tr th:only-of-type {\n",
       "        vertical-align: middle;\n",
       "    }\n",
       "\n",
       "    .dataframe tbody tr th {\n",
       "        vertical-align: top;\n",
       "    }\n",
       "\n",
       "    .dataframe thead th {\n",
       "        text-align: right;\n",
       "    }\n",
       "</style>\n",
       "<table border=\"1\" class=\"dataframe\">\n",
       "  <thead>\n",
       "    <tr style=\"text-align: right;\">\n",
       "      <th></th>\n",
       "      <th>TABLE</th>\n",
       "      <th>COLUMN</th>\n",
       "      <th>VALUES</th>\n",
       "      <th>TEST</th>\n",
       "    </tr>\n",
       "  </thead>\n",
       "  <tbody>\n",
       "    <tr>\n",
       "      <td>0</td>\n",
       "      <td>ODS_IMS_BUSINESS</td>\n",
       "      <td>COT_CLASSIFICATION</td>\n",
       "      <td>['Academic', 'Buying Organization', 'Corporate...</td>\n",
       "      <td>test</td>\n",
       "    </tr>\n",
       "    <tr>\n",
       "      <td>1</td>\n",
       "      <td>ODS_IMS_BUSINESS</td>\n",
       "      <td>COT_FACILITY_TYPE</td>\n",
       "      <td>['Accountable Care Organization', 'Acute Care ...</td>\n",
       "      <td>test</td>\n",
       "    </tr>\n",
       "    <tr>\n",
       "      <td>2</td>\n",
       "      <td>ODS_IMS_BUSINESS</td>\n",
       "      <td>COT_SPECIALTY</td>\n",
       "      <td>['Addiction Medicine', 'Administrative Office'...</td>\n",
       "      <td>test</td>\n",
       "    </tr>\n",
       "    <tr>\n",
       "      <td>3</td>\n",
       "      <td>ODS_IMS_BUSINESS</td>\n",
       "      <td>RECORD_TYPE</td>\n",
       "      <td>['01', '02', '03', '04', '05', '06', '07']</td>\n",
       "      <td>test</td>\n",
       "    </tr>\n",
       "    <tr>\n",
       "      <td>4</td>\n",
       "      <td>ODS_IMS_PROFESSIONAL</td>\n",
       "      <td>DESIGNATION</td>\n",
       "      <td>[None]</td>\n",
       "      <td>test</td>\n",
       "    </tr>\n",
       "    <tr>\n",
       "      <td>5</td>\n",
       "      <td>ODS_IMS_PROFESSIONAL</td>\n",
       "      <td>PRIMARY_SPEC</td>\n",
       "      <td>['ABDOMINAL RADIOLOGY', 'ABDOMINAL SURGERY', '...</td>\n",
       "      <td>test</td>\n",
       "    </tr>\n",
       "    <tr>\n",
       "      <td>6</td>\n",
       "      <td>ODS_IMS_PROFESSIONAL</td>\n",
       "      <td>SECONDARY_SPEC</td>\n",
       "      <td>['ABDOMINAL RADIOLOGY', 'ABDOMINAL SURGERY', '...</td>\n",
       "      <td>test</td>\n",
       "    </tr>\n",
       "    <tr>\n",
       "      <td>7</td>\n",
       "      <td>ODS_IMS_PROFESSIONAL</td>\n",
       "      <td>TERTIARY_SPEC</td>\n",
       "      <td>['ABDOMINAL RADIOLOGY', 'ABDOMINAL SURGERY', '...</td>\n",
       "      <td>test</td>\n",
       "    </tr>\n",
       "    <tr>\n",
       "      <td>8</td>\n",
       "      <td>ODS_IMS_PROFESSIONAL</td>\n",
       "      <td>PRIMARY_PROF_DESC</td>\n",
       "      <td>['Alternative Medicine', 'Audiologist', 'Chiro...</td>\n",
       "      <td>test</td>\n",
       "    </tr>\n",
       "    <tr>\n",
       "      <td>9</td>\n",
       "      <td>ODS_IMS_AFFILIATION_TYPE</td>\n",
       "      <td>AFFIL_TYPE_DESC</td>\n",
       "      <td>['Admitting', 'Admitting (Inferred)', 'Attendi...</td>\n",
       "      <td>test</td>\n",
       "    </tr>\n",
       "    <tr>\n",
       "      <td>10</td>\n",
       "      <td>ODS_IMS_AFFILIATION_TYPE</td>\n",
       "      <td>AFFIL_GROUP_DESC</td>\n",
       "      <td>['Admitting', 'Attending', 'Long Term Care']</td>\n",
       "      <td>test</td>\n",
       "    </tr>\n",
       "  </tbody>\n",
       "</table>\n",
       "</div>"
      ],
      "text/plain": [
       "                       TABLE              COLUMN  \\\n",
       "0           ODS_IMS_BUSINESS  COT_CLASSIFICATION   \n",
       "1           ODS_IMS_BUSINESS   COT_FACILITY_TYPE   \n",
       "2           ODS_IMS_BUSINESS       COT_SPECIALTY   \n",
       "3           ODS_IMS_BUSINESS         RECORD_TYPE   \n",
       "4       ODS_IMS_PROFESSIONAL         DESIGNATION   \n",
       "5       ODS_IMS_PROFESSIONAL        PRIMARY_SPEC   \n",
       "6       ODS_IMS_PROFESSIONAL      SECONDARY_SPEC   \n",
       "7       ODS_IMS_PROFESSIONAL       TERTIARY_SPEC   \n",
       "8       ODS_IMS_PROFESSIONAL   PRIMARY_PROF_DESC   \n",
       "9   ODS_IMS_AFFILIATION_TYPE     AFFIL_TYPE_DESC   \n",
       "10  ODS_IMS_AFFILIATION_TYPE    AFFIL_GROUP_DESC   \n",
       "\n",
       "                                               VALUES  TEST  \n",
       "0   ['Academic', 'Buying Organization', 'Corporate...  test  \n",
       "1   ['Accountable Care Organization', 'Acute Care ...  test  \n",
       "2   ['Addiction Medicine', 'Administrative Office'...  test  \n",
       "3          ['01', '02', '03', '04', '05', '06', '07']  test  \n",
       "4                                              [None]  test  \n",
       "5   ['ABDOMINAL RADIOLOGY', 'ABDOMINAL SURGERY', '...  test  \n",
       "6   ['ABDOMINAL RADIOLOGY', 'ABDOMINAL SURGERY', '...  test  \n",
       "7   ['ABDOMINAL RADIOLOGY', 'ABDOMINAL SURGERY', '...  test  \n",
       "8   ['Alternative Medicine', 'Audiologist', 'Chiro...  test  \n",
       "9   ['Admitting', 'Admitting (Inferred)', 'Attendi...  test  \n",
       "10       ['Admitting', 'Attending', 'Long Term Care']  test  "
      ]
     },
     "execution_count": 44,
     "metadata": {},
     "output_type": "execute_result"
    }
   ],
   "source": [
    "remove_whitespaces(x)"
   ]
  },
  {
   "cell_type": "code",
   "execution_count": null,
   "metadata": {},
   "outputs": [],
   "source": [
    "unique_df = get_unique_values(item['COLUMN'], item['TABLE'])\n",
    "item['VALUES'] = list(unique_df[item['COLUMN']])"
   ]
  }
 ],
 "metadata": {
  "kernelspec": {
   "display_name": "Python 3",
   "language": "python",
   "name": "python3"
  },
  "language_info": {
   "codemirror_mode": {
    "name": "ipython",
    "version": 3
   },
   "file_extension": ".py",
   "mimetype": "text/x-python",
   "name": "python",
   "nbconvert_exporter": "python",
   "pygments_lexer": "ipython3",
   "version": "3.7.4"
  }
 },
 "nbformat": 4,
 "nbformat_minor": 2
}
