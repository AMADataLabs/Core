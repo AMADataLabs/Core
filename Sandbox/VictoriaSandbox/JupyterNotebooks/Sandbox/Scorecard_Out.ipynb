{
 "cells": [
  {
   "cell_type": "code",
   "execution_count": 1,
   "metadata": {},
   "outputs": [],
   "source": [
    "import pandas as pd\n",
    "import json"
   ]
  },
  {
   "cell_type": "code",
   "execution_count": 6,
   "metadata": {},
   "outputs": [],
   "source": [
    "zz = pd.read_csv('../../Data/Scorecard/notes.csv')"
   ]
  },
  {
   "cell_type": "code",
   "execution_count": 17,
   "metadata": {},
   "outputs": [
    {
     "data": {
      "text/plain": [
       "20    8.262686e-01\n",
       "21    1.277477e+06\n",
       "22    7.393400e+05\n",
       "23    4.955760e+05\n",
       "24    5.907961e-01\n",
       "          ...     \n",
       "80    1.007500e+05\n",
       "81    2.354900e+04\n",
       "82    9.420000e+03\n",
       "83    4.288500e+04\n",
       "84    9.250000e+03\n",
       "Name: value, Length: 65, dtype: float64"
      ]
     },
     "execution_count": 17,
     "metadata": {},
     "output_type": "execute_result"
    }
   ],
   "source": [
    "zz[20:]['value']"
   ]
  },
  {
   "cell_type": "code",
   "execution_count": 18,
   "metadata": {},
   "outputs": [
    {
     "data": {
      "text/plain": [
       "9.57"
      ]
     },
     "execution_count": 18,
     "metadata": {},
     "output_type": "execute_result"
    }
   ],
   "source": [
    "round(9.56666, 2)"
   ]
  },
  {
   "cell_type": "code",
   "execution_count": 23,
   "metadata": {},
   "outputs": [],
   "source": [
    "new_dict = {}\n",
    "for row in zz.itertuples():\n",
    "    if row.value>1:\n",
    "        value = int(row.value)\n",
    "    else:\n",
    "        value = round(row.value,5)\n",
    "    new_dict[row.name] = value"
   ]
  },
  {
   "cell_type": "code",
   "execution_count": 26,
   "metadata": {},
   "outputs": [
    {
     "data": {
      "text/plain": [
       "'{\"total_records\": 1278296, \"mailing_address\": 1251430, \"polo\": 981119, \"telephone\": 754593, \"fax_number\": 643678, \"top\": 1196314, \"pe\": 980166, \"primspec\": 1208863, \"email\": 866493, \"total_records_dpc\": 815124, \"mailing_address_dpc\": 808273, \"polo_dpc\": 724929, \"telephone_dpc\": 649508, \"fax_number_dpc\": 559158, \"top_dpc\": 815124, \"pe_dpc\": 646343, \"primspec_dpc\": 799233, \"polo_correctness\": 0.73026, \"telephone_correctness\": 0.45802, \"telephone_2_correctness\": 0.60331, \"email_correctness\": 0.82627, \"all_mailing\": 1277477, \"deliverable_home_count\": 739340, \"deliverable_office_count\": 495576, \"deliverable_home\": 0.5908, \"deliverable_office\": 0.39601, \"mailing_completeness\": 0.97898, \"polo_completeness\": 0.88935, \"phone_completeness\": 0.79682, \"fax_completeness\": 0.68598, \"practice_compelteness\": 0.93587, \"employment_completeness\": 0.76678, \"spec_completeness\": 0.94568, \"email_completeness\": 0.67785, \"polo_correct_count\": 529384, \"phone_correct_count\": 297487, \"email_correct_count\": 715956, \"polo_combo\": 0.64945, \"phone_combo\": 0.36496, \"email_combo\": 0.56009, \"do_student_count\": 12614, \"do_physician_count\": 92291, \"do_student_total\": 28981, \"do_physician_total\": 108118, \"do_student_completeness\": 0.43525, \"do_physician_completeness\": 0.85361, \"iqvia_polo_correctness\": 0.71342, \"iqvia_phone_correctness\": 0.30414, \"iqvia_phone_2_correctness\": 0.49898, \"iqvia_polo_combo\": 0.6469, \"iqvia_phone_combo\": 0.2746, \"iqvia_phone_2_combo\": 0.4506, \"symphony_polo_correctness\": 0.85444, \"symphony_phone_correctness\": 0.31027, \"symphony_phone_2_correctness\": 0.49542, \"symphony_polo_combo\": 0.8365, \"symphony_phone_combo\": 0.264, \"symphony_phone_2_combo\": 0.4213, \"address_all_added\": 25534, \"address_all_deleted\": 146454, \"address_all_updated\": 123864, \"address_po_added\": 1571, \"address_po_deleted\": 5480, \"address_po_updated\": 17098, \"address_pp_added\": 2782, \"address_pp_deleted\": 22, \"address_pp_updated\": 43179, \"email_all_added\": 133543, \"email_all_deleted\": 140335, \"email_all_updated\": 66731, \"email_pe_added\": 14328, \"email_pe_deleted\": 1170, \"email_pe_updated\": 12725, \"fax_all_added\": 39942, \"fax_all_deleted\": 7822, \"fax_all_updated\": 18237, \"fax_pf_added\": 5148, \"fax_pf_deleted\": 2974, \"fax_pf_updated\": 8701, \"phone_all_added\": 70986, \"phone_all_deleted\": 100750, \"phone_all_updated\": 23549, \"phone_pv_added\": 42885, \"phone_pv_updated\": 9250}'"
      ]
     },
     "execution_count": 26,
     "metadata": {},
     "output_type": "execute_result"
    }
   ],
   "source": [
    "json.dumps(new_dict)"
   ]
  },
  {
   "cell_type": "code",
   "execution_count": 27,
   "metadata": {},
   "outputs": [],
   "source": [
    "with open('../../Data/Scorecard/notes_06.json', 'w') as json_file:\n",
    "    json.dump(new_dict, json_file)"
   ]
  },
  {
   "cell_type": "code",
   "execution_count": null,
   "metadata": {},
   "outputs": [],
   "source": []
  }
 ],
 "metadata": {
  "kernelspec": {
   "display_name": "Python 3",
   "language": "python",
   "name": "python3"
  },
  "language_info": {
   "codemirror_mode": {
    "name": "ipython",
    "version": 3
   },
   "file_extension": ".py",
   "mimetype": "text/x-python",
   "name": "python",
   "nbconvert_exporter": "python",
   "pygments_lexer": "ipython3",
   "version": "3.7.4"
  }
 },
 "nbformat": 4,
 "nbformat_minor": 2
}
