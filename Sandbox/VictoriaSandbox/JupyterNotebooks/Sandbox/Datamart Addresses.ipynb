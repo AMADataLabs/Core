{
 "cells": [
  {
   "cell_type": "code",
   "execution_count": null,
   "metadata": {},
   "outputs": [],
   "source": [
    "import pandas as pd\n",
    "import pyodbc\n",
    "from fuzzywuzzy import fuzz\n",
    "import datetime as dt"
   ]
  },
  {
   "cell_type": "code",
   "execution_count": null,
   "metadata": {},
   "outputs": [],
   "source": [
    "username = 'vigrose'\n",
    "password = 'Hufflepuff10946'"
   ]
  },
  {
   "cell_type": "code",
   "execution_count": null,
   "metadata": {},
   "outputs": [],
   "source": [
    "s = \"DSN=PRDDW; UID={}; PWD={}\".format(username, password)\n",
    "AMAEDW = pyodbc.connect(s)"
   ]
  },
  {
   "cell_type": "code",
   "execution_count": null,
   "metadata": {},
   "outputs": [],
   "source": [
    "sql_query = \\\n",
    "    '''\n",
    "    SELECT DISTINCT \n",
    "    A.PARTY_ID, \n",
    "    A.POST_CD_ID,\n",
    "    P.ADDR_1, \n",
    "    P.ADDR_2, \n",
    "    P.ADDR_3, \n",
    "    P.CITY, \n",
    "    S.SRC_STATE_CD AS STATE_CD, \n",
    "    P.POST_CD AS ZIP,\n",
    "    A.FROM_DT,\n",
    "    P.SRC_POST_KEY AS POST_KEY,\n",
    "    C.PURPOSE_TYPE_DESC,\n",
    "    C.PURPOSE_TYPE_ID,\n",
    "    C.PURPOSE_USG_DESC\n",
    "    FROM \n",
    "    AMAEDW.POST_CD P, AMAEDW.STATE S , AMAEDW.PARTY_ADDR A, AMAEDW.CONT_PURPOSE_TYPE C\n",
    "    WHERE \n",
    "    A.PURPOSE_TYPE_ID=C.PURPOSE_TYPE_ID\n",
    "    AND\n",
    "    C.PURPOSE_CAT_CD='A'\n",
    "    AND\n",
    "    A.POST_CD_ID = P.POST_CD_ID \n",
    "    AND\n",
    "    P.STATE_ID = S.STATE_ID\n",
    "    AND \n",
    "    A.THRU_DT IS NULL\n",
    "    ORDER BY A.FROM_DT DESC\n",
    "    '''"
   ]
  },
  {
   "cell_type": "code",
   "execution_count": null,
   "metadata": {},
   "outputs": [],
   "source": [
    "OTHER = pd.read_sql(con=AMAEDW, sql=sql_query)"
   ]
  },
  {
   "cell_type": "code",
   "execution_count": null,
   "metadata": {},
   "outputs": [],
   "source": [
    "OTHER.head()"
   ]
  },
  {
   "cell_type": "code",
   "execution_count": null,
   "metadata": {},
   "outputs": [],
   "source": [
    "customers = pd.read_excel('../../Data/Credentialling/Customers_pre-2020.xlsx')"
   ]
  },
  {
   "cell_type": "code",
   "execution_count": null,
   "metadata": {},
   "outputs": [],
   "source": [
    "plz = pd.merge(customers, OTHER, on='PARTY_ID')"
   ]
  },
  {
   "cell_type": "code",
   "execution_count": null,
   "metadata": {},
   "outputs": [],
   "source": [
    "plz = plz.fillna('None')"
   ]
  },
  {
   "cell_type": "code",
   "execution_count": null,
   "metadata": {},
   "outputs": [],
   "source": [
    "plz = plz[plz['ORDER_PRODUCT_ID'].isin([4915513,4915521,4915502])]"
   ]
  },
  {
   "cell_type": "code",
   "execution_count": null,
   "metadata": {},
   "outputs": [],
   "source": [
    "len(plz)"
   ]
  },
  {
   "cell_type": "code",
   "execution_count": null,
   "metadata": {},
   "outputs": [],
   "source": [
    "plz.columns"
   ]
  },
  {
   "cell_type": "code",
   "execution_count": null,
   "metadata": {},
   "outputs": [],
   "source": [
    "times =[]\n",
    "for row in plz.itertuples():\n",
    "    match = 0\n",
    "    time_diff = 'None'\n",
    "    if row.CUSTOMER_NAME == row.ADDR_3.upper():\n",
    "        match = 1\n",
    "    elif row.ZIP == row.LOCATION_ZIP or row.ZIP == row.MAIING_ZIP:\n",
    "        match = 1\n",
    "    elif fuzz.ratio(row.LOCATION_ADDRESS_1,row.ADDR_1.upper())>85:\n",
    "        match = 1\n",
    "    elif fuzz.ratio(row.MAILING_ADDRESS_1,row.ADDR_1.upper())>85:\n",
    "        match = 1\n",
    "    if match == 1:\n",
    "        time_diff = row.FROM_DT - row.FULL_DT\n",
    "        print(row.PURPOSE_USG_DESC)\n",
    "        print(f'{row.ADDR_1.upper()} matches {row.MAILING_ADDRESS_1}/{row.LOCATION_ADDRESS_1}')\n",
    "        print('---')\n",
    "    times.append(time_diff)"
   ]
  },
  {
   "cell_type": "code",
   "execution_count": null,
   "metadata": {},
   "outputs": [],
   "source": [
    "name_match"
   ]
  },
  {
   "cell_type": "code",
   "execution_count": null,
   "metadata": {},
   "outputs": [],
   "source": [
    "plz['Time_Difference']=times"
   ]
  },
  {
   "cell_type": "code",
   "execution_count": null,
   "metadata": {},
   "outputs": [],
   "source": [
    "matches = plz[plz['Time_Difference']!='None']"
   ]
  },
  {
   "cell_type": "code",
   "execution_count": null,
   "metadata": {},
   "outputs": [],
   "source": [
    "len(matches)"
   ]
  },
  {
   "cell_type": "code",
   "execution_count": null,
   "metadata": {},
   "outputs": [],
   "source": [
    "matches.groupby('PURPOSE_USG_DESC').count()[['CUSTOMER_NAME']]"
   ]
  },
  {
   "cell_type": "code",
   "execution_count": null,
   "metadata": {},
   "outputs": [],
   "source": [
    "oldest = matches.sort_values('FROM_DT').drop_duplicates(['PARTY_ID','POST_CD_ID'], keep='first')"
   ]
  },
  {
   "cell_type": "code",
   "execution_count": null,
   "metadata": {},
   "outputs": [],
   "source": [
    "dayz = list(oldest[oldest['Day_Difference']>0]['Day_Difference'])"
   ]
  },
  {
   "cell_type": "code",
   "execution_count": null,
   "metadata": {},
   "outputs": [],
   "source": [
    "oldest['Day_Difference'] = [x.days for x in list(oldest['Time_Difference'])]"
   ]
  },
  {
   "cell_type": "code",
   "execution_count": null,
   "metadata": {},
   "outputs": [],
   "source": [
    "import matplotlib.pyplot as plt\n",
    "import numpy as np\n",
    "# An \"interface\" to matplotlib.axes.Axes.hist() method\n",
    "n, bins, patches = plt.hist(x=dayz, bins=15, color='#0504aa',\n",
    "                            alpha=0.7, rwidth=0.85)\n",
    "plt.grid(axis='y', alpha=0.75)\n",
    "plt.xlabel('Days')\n",
    "plt.ylabel('Frequency')\n",
    "plt.title('Amount of Days until Address Appears in Record')\n",
    "plt.text(23, 45, r'$\\mu=15, b=3$')\n",
    "maxfreq = n.max()\n",
    "# Set a clean upper y-axis limit.\n",
    "plt.ylim(ymax=np.ceil(maxfreq / 10) * 10 if maxfreq % 10 else maxfreq + 10)"
   ]
  },
  {
   "cell_type": "code",
   "execution_count": null,
   "metadata": {},
   "outputs": [],
   "source": [
    "len(oldest[(oldest['Day_Difference']>0)&(oldest['Day_Difference']<=365)])"
   ]
  },
  {
   "cell_type": "code",
   "execution_count": null,
   "metadata": {},
   "outputs": [],
   "source": [
    "len(oldest[oldest['Day_Difference']>0])"
   ]
  },
  {
   "cell_type": "code",
   "execution_count": null,
   "metadata": {},
   "outputs": [],
   "source": [
    "oldest[(oldest['Day_Difference']>0)&(oldest['Day_Difference']<=365)].groupby('PURPOSE_TYPE_DESC').count().sort_values('CUSTOMER_NAME', ascending=False)"
   ]
  },
  {
   "cell_type": "code",
   "execution_count": null,
   "metadata": {},
   "outputs": [],
   "source": [
    "plz.drop_duplicates([''])"
   ]
  },
  {
   "cell_type": "code",
   "execution_count": null,
   "metadata": {},
   "outputs": [],
   "source": []
  },
  {
   "cell_type": "code",
   "execution_count": null,
   "metadata": {},
   "outputs": [],
   "source": [
    "oldest[oldest['Day_Difference']>0]['Day_Difference'].median()"
   ]
  },
  {
   "cell_type": "code",
   "execution_count": null,
   "metadata": {},
   "outputs": [],
   "source": [
    "customers['YEAR']=[x.year for x in list(customers['FULL_DT'])]"
   ]
  },
  {
   "cell_type": "code",
   "execution_count": null,
   "metadata": {},
   "outputs": [],
   "source": [
    "customers[customers['ORDER_PRODUCT_ID'].isin([4915513,4915521,4915502])].groupby('YEAR').count()[['CUSTOMER_NAME']]"
   ]
  },
  {
   "cell_type": "code",
   "execution_count": null,
   "metadata": {},
   "outputs": [],
   "source": [
    "oldest[oldest['Day_Difference']<0]"
   ]
  },
  {
   "cell_type": "code",
   "execution_count": null,
   "metadata": {},
   "outputs": [],
   "source": [
    "oldest"
   ]
  },
  {
   "cell_type": "code",
   "execution_count": null,
   "metadata": {},
   "outputs": [],
   "source": [
    "len(OTHER)"
   ]
  },
  {
   "cell_type": "code",
   "execution_count": null,
   "metadata": {},
   "outputs": [],
   "source": [
    "plz.drop_duplicates(['PARTY_ID','CUSTOMER_NAME'])"
   ]
  },
  {
   "cell_type": "code",
   "execution_count": null,
   "metadata": {},
   "outputs": [],
   "source": [
    "plz.columns"
   ]
  },
  {
   "cell_type": "code",
   "execution_count": null,
   "metadata": {},
   "outputs": [],
   "source": [
    "matches.drop_duplicates(['CUSTOMER_NAME','PARTY_ID'])"
   ]
  },
  {
   "cell_type": "code",
   "execution_count": null,
   "metadata": {},
   "outputs": [],
   "source": []
  }
 ],
 "metadata": {
  "kernelspec": {
   "display_name": "Python 3",
   "language": "python",
   "name": "python3"
  },
  "language_info": {
   "codemirror_mode": {
    "name": "ipython",
    "version": 3
   },
   "file_extension": ".py",
   "mimetype": "text/x-python",
   "name": "python",
   "nbconvert_exporter": "python",
   "pygments_lexer": "ipython3",
   "version": "3.7.4"
  }
 },
 "nbformat": 4,
 "nbformat_minor": 2
}
