{
 "cells": [
  {
   "cell_type": "code",
   "execution_count": 1,
   "metadata": {},
   "outputs": [],
   "source": [
    "import pandas as pd\n",
    "import pyodbc\n",
    "username = 'vigrose'\n",
    "password = 'Hufflepuff~10946'\n",
    "q = \"DSN=eprdods; UID={}; PWD={}\".format(username, password)\n",
    "ODS = pyodbc.connect(q)"
   ]
  },
  {
   "cell_type": "code",
   "execution_count": 2,
   "metadata": {},
   "outputs": [],
   "source": [
    "s = \"DSN=PRDDW; UID={}; PWD={}\".format(username, password)\n",
    "AMAEDW = pyodbc.connect(s)"
   ]
  },
  {
   "cell_type": "code",
   "execution_count": 3,
   "metadata": {},
   "outputs": [],
   "source": [
    "iqvia_address = \\\n",
    "    \"\"\"\n",
    "    SELECT 'ADDRESS' AS LABEL,\n",
    "    COUNT(PE.ME_NUMBER) AS TOTAL\n",
    "    FROM\n",
    "    ODS.ODS_PPD_FILE PE, ODS.ODS_IMS_BUSINESS B, ODS.SAS_ODS_IMS_PROVIDER_BEST_AFFIL A, ODS.ODS_IMS_PROFESSIONAL P \n",
    "    WHERE\n",
    "    SUBSTR(PE.ME_NUMBER,1,10)=P.ME\n",
    "    AND\n",
    "    P.PROFESSIONAL_ID=A.PROFESSIONAL_ID\n",
    "    AND\n",
    "    A.IMS_ORG_ID=B.IMS_ORG_ID\n",
    "    AND\n",
    "    PE.TOPCODE='020'\n",
    "    AND\n",
    "    PE.PENDINGDEAD_IND IS NULL\n",
    "    AND\n",
    "    P.CURRENT_BATCH_FLAG='Y'\n",
    "    AND\n",
    "    A.CURRENT_BATCH_FLAG='Y'\n",
    "    AND\n",
    "    B.CURRENT_BATCH_FLAG='Y'\n",
    "    AND\n",
    "    B.POSTAL_ADDR_1 IS NOT NULL\n",
    "    \"\"\"\n",
    "\n",
    "iqvia_phone = \\\n",
    "    \"\"\"\n",
    "    SELECT 'PHONE' AS LABEL,\n",
    "    COUNT(PE.ME_NUMBER) AS TOTAL\n",
    "    FROM\n",
    "    ODS.ODS_PPD_FILE PE, ODS.ODS_IMS_BUSINESS B,\n",
    "    ODS.SAS_ODS_IMS_PROVIDER_BEST_AFFIL A, ODS.ODS_IMS_PROFESSIONAL P \n",
    "    WHERE\n",
    "    SUBSTR(PE.ME_NUMBER,1,10)=P.ME\n",
    "    AND\n",
    "    P.PROFESSIONAL_ID=A.PROFESSIONAL_ID\n",
    "    AND\n",
    "    A.IMS_ORG_ID=B.IMS_ORG_ID\n",
    "    AND\n",
    "    PE.TOPCODE='020'\n",
    "    AND\n",
    "    PE.PENDINGDEAD_IND IS NULL\n",
    "    AND\n",
    "    P.CURRENT_BATCH_FLAG='Y'\n",
    "    AND\n",
    "    A.CURRENT_BATCH_FLAG='Y'\n",
    "    AND\n",
    "    B.CURRENT_BATCH_FLAG='Y'\n",
    "    AND\n",
    "    B.PHONE IS NOT NULL\n",
    "    \"\"\""
   ]
  },
  {
   "cell_type": "code",
   "execution_count": 4,
   "metadata": {},
   "outputs": [
    {
     "data": {
      "text/html": [
       "<div>\n",
       "<style scoped>\n",
       "    .dataframe tbody tr th:only-of-type {\n",
       "        vertical-align: middle;\n",
       "    }\n",
       "\n",
       "    .dataframe tbody tr th {\n",
       "        vertical-align: top;\n",
       "    }\n",
       "\n",
       "    .dataframe thead th {\n",
       "        text-align: right;\n",
       "    }\n",
       "</style>\n",
       "<table border=\"1\" class=\"dataframe\">\n",
       "  <thead>\n",
       "    <tr style=\"text-align: right;\">\n",
       "      <th></th>\n",
       "      <th>LABEL</th>\n",
       "      <th>TOTAL</th>\n",
       "    </tr>\n",
       "  </thead>\n",
       "  <tbody>\n",
       "    <tr>\n",
       "      <td>0</td>\n",
       "      <td>PHONE</td>\n",
       "      <td>744746</td>\n",
       "    </tr>\n",
       "  </tbody>\n",
       "</table>\n",
       "</div>"
      ],
      "text/plain": [
       "   LABEL   TOTAL\n",
       "0  PHONE  744746"
      ]
     },
     "execution_count": 4,
     "metadata": {},
     "output_type": "execute_result"
    }
   ],
   "source": [
    "pd.read_sql(con=ODS, sql=iqvia_phone)"
   ]
  },
  {
   "cell_type": "code",
   "execution_count": 5,
   "metadata": {},
   "outputs": [
    {
     "data": {
      "text/html": [
       "<div>\n",
       "<style scoped>\n",
       "    .dataframe tbody tr th:only-of-type {\n",
       "        vertical-align: middle;\n",
       "    }\n",
       "\n",
       "    .dataframe tbody tr th {\n",
       "        vertical-align: top;\n",
       "    }\n",
       "\n",
       "    .dataframe thead th {\n",
       "        text-align: right;\n",
       "    }\n",
       "</style>\n",
       "<table border=\"1\" class=\"dataframe\">\n",
       "  <thead>\n",
       "    <tr style=\"text-align: right;\">\n",
       "      <th></th>\n",
       "      <th>LABEL</th>\n",
       "      <th>TOTAL</th>\n",
       "    </tr>\n",
       "  </thead>\n",
       "  <tbody>\n",
       "    <tr>\n",
       "      <td>0</td>\n",
       "      <td>ADDRESS</td>\n",
       "      <td>746649</td>\n",
       "    </tr>\n",
       "  </tbody>\n",
       "</table>\n",
       "</div>"
      ],
      "text/plain": [
       "     LABEL   TOTAL\n",
       "0  ADDRESS  746649"
      ]
     },
     "execution_count": 5,
     "metadata": {},
     "output_type": "execute_result"
    }
   ],
   "source": [
    "pd.read_sql(con=ODS, sql=iqvia_address)"
   ]
  },
  {
   "cell_type": "code",
   "execution_count": null,
   "metadata": {},
   "outputs": [],
   "source": [
    "SELECT\n",
    "'PHONE' AS LABEL,\n",
    "COUNT(PE.ME_NUMBER) AS TOTAL\n",
    "FROM\n",
    "ODS_PROD.ODS_PPD_FILE PE, ODS_PROD.PRACTITIONER_DEMOGRAPHIC_LAYOUT D, ODS_PROD.PRACTITIONER_ADDL_IDS_LAYOUT L, EDW_PROD.PARTY_ID_TO_ME_VW M\n",
    "\n",
    "WHERE\n",
    "PE.ME_NUMBER=M.ME\n",
    "AND\n",
    "PE.TOPCODE='020'\n",
    "AND\n",
    "PE.PENDINGDEAD_IND IS NULL\n",
    "AND\n",
    "D.DS_PRCTR_ID=L.DS_PRCTR_ID\n",
    "AND\n",
    "L.ID_QLFR_TYP_CDE=38\n",
    "AND\n",
    "L.OTHER_ID=SUBSTR(M.ME,1,10) \n",
    "AND\n",
    "D.ADDR_FRST_TLPHN_NBR IS NOT NULL\n",
    "\n",
    "SELECT\n",
    "'ADDRESS' AS LABEL,\n",
    "COUNT(PE.ME_NUMBER) AS TOTAL\n",
    "FROM\n",
    "ODS_PROD.ODS_PPD_FILE PE, ODS_PROD.PRACTITIONER_DEMOGRAPHIC_LAYOUT D, ODS_PROD.PRACTITIONER_ADDL_IDS_LAYOUT L, EDW_PROD.PARTY_ID_TO_ME_VW M\n",
    "\n",
    "WHERE\n",
    "PE.ME_NUMBER=M.ME\n",
    "AND\n",
    "PE.TOPCODE='020'\n",
    "AND\n",
    "PE.PENDINGDEAD_IND IS NULL\n",
    "AND\n",
    "D.DS_PRCTR_ID=L.DS_PRCTR_ID\n",
    "AND\n",
    "L.ID_QLFR_TYP_CDE=38\n",
    "AND\n",
    "L.OTHER_ID=SUBSTR(M.ME,1,10) \n",
    "AND\n",
    "D.ADDR_LINE_1_TXT IS NOT NULL\n"
   ]
  },
  {
   "cell_type": "code",
   "execution_count": 6,
   "metadata": {},
   "outputs": [],
   "source": [
    "symphony_phone = \\\n",
    "    \"\"\"\n",
    "    SELECT 'PHONE' AS LABEL,\n",
    "    COUNT_BIG(PE.ME_NUMBER) AS TOTAL\n",
    "    FROM\n",
    "    ODS.ODS_PPD_FILE PE, ODS.PRACTITIONER_DEMOGRAPHIC_LAYOUT D, ODS.PRACTITIONER_ADDL_IDS_LAYOUT L\n",
    "    WHERE\n",
    "    PE.TOPCODE='020'\n",
    "    AND\n",
    "    PE.PENDINGDEAD_IND IS NULL\n",
    "    AND\n",
    "    D.DS_PRCTR_ID=L.DS_PRCTR_ID\n",
    "    AND\n",
    "    L.OTHER_ID=SUBSTR(PE.ME_NUMBER,1,10) \n",
    "    AND\n",
    "    L.ID_QLFR_TYP_CDE=38\n",
    "    AND\n",
    "    D.ADDR_FRST_TLPHN_NBR IS NOT NULL\n",
    "    \"\"\"\n",
    "symphony_address = \\\n",
    "    \"\"\"\n",
    "    SELECT\n",
    "    'ADDRESS' AS LABEL,\n",
    "    COUNT(PE.ME_NUMBER) AS TOTAL\n",
    "    FROM\n",
    "    ODS.ODS_PPD_FILE PE, ODS.PRACTITIONER_DEMOGRAPHIC_LAYOUT D, ODS.PRACTITIONER_ADDL_IDS_LAYOUT L\n",
    "    WHERE\n",
    "    PE.TOPCODE='020'\n",
    "    AND\n",
    "    PE.PENDINGDEAD_IND IS NULL\n",
    "    AND\n",
    "    D.DS_PRCTR_ID=L.DS_PRCTR_ID\n",
    "    AND\n",
    "    L.ID_QLFR_TYP_CDE=38\n",
    "    AND\n",
    "    L.OTHER_ID=SUBSTR(PE.ME_NUMBER,1,10) \n",
    "    AND\n",
    "    D.ADDR_LINE_1_TXT IS NOT NULL\n",
    "    \"\"\""
   ]
  },
  {
   "cell_type": "code",
   "execution_count": 7,
   "metadata": {},
   "outputs": [
    {
     "data": {
      "text/html": [
       "<div>\n",
       "<style scoped>\n",
       "    .dataframe tbody tr th:only-of-type {\n",
       "        vertical-align: middle;\n",
       "    }\n",
       "\n",
       "    .dataframe tbody tr th {\n",
       "        vertical-align: top;\n",
       "    }\n",
       "\n",
       "    .dataframe thead th {\n",
       "        text-align: right;\n",
       "    }\n",
       "</style>\n",
       "<table border=\"1\" class=\"dataframe\">\n",
       "  <thead>\n",
       "    <tr style=\"text-align: right;\">\n",
       "      <th></th>\n",
       "      <th>LABEL</th>\n",
       "      <th>TOTAL</th>\n",
       "    </tr>\n",
       "  </thead>\n",
       "  <tbody>\n",
       "    <tr>\n",
       "      <td>0</td>\n",
       "      <td>PHONE</td>\n",
       "      <td>703017.0</td>\n",
       "    </tr>\n",
       "  </tbody>\n",
       "</table>\n",
       "</div>"
      ],
      "text/plain": [
       "   LABEL     TOTAL\n",
       "0  PHONE  703017.0"
      ]
     },
     "execution_count": 7,
     "metadata": {},
     "output_type": "execute_result"
    }
   ],
   "source": [
    "pd.read_sql(con=ODS, sql=symphony_phone)"
   ]
  },
  {
   "cell_type": "code",
   "execution_count": 8,
   "metadata": {},
   "outputs": [
    {
     "data": {
      "text/html": [
       "<div>\n",
       "<style scoped>\n",
       "    .dataframe tbody tr th:only-of-type {\n",
       "        vertical-align: middle;\n",
       "    }\n",
       "\n",
       "    .dataframe tbody tr th {\n",
       "        vertical-align: top;\n",
       "    }\n",
       "\n",
       "    .dataframe thead th {\n",
       "        text-align: right;\n",
       "    }\n",
       "</style>\n",
       "<table border=\"1\" class=\"dataframe\">\n",
       "  <thead>\n",
       "    <tr style=\"text-align: right;\">\n",
       "      <th></th>\n",
       "      <th>LABEL</th>\n",
       "      <th>TOTAL</th>\n",
       "    </tr>\n",
       "  </thead>\n",
       "  <tbody>\n",
       "    <tr>\n",
       "      <td>0</td>\n",
       "      <td>ADDRESS</td>\n",
       "      <td>806171</td>\n",
       "    </tr>\n",
       "  </tbody>\n",
       "</table>\n",
       "</div>"
      ],
      "text/plain": [
       "     LABEL   TOTAL\n",
       "0  ADDRESS  806171"
      ]
     },
     "execution_count": 8,
     "metadata": {},
     "output_type": "execute_result"
    }
   ],
   "source": [
    "pd.read_sql(con=ODS, sql=symphony_address)"
   ]
  },
  {
   "cell_type": "code",
   "execution_count": null,
   "metadata": {},
   "outputs": [],
   "source": [
    "    EDW_PROD.PARTY_ID_TO_ME_VW M\n",
    "    WHERE\n",
    "    PE.ME_NUMBER=M.ME"
   ]
  }
 ],
 "metadata": {
  "kernelspec": {
   "display_name": "Python 3",
   "language": "python",
   "name": "python3"
  },
  "language_info": {
   "codemirror_mode": {
    "name": "ipython",
    "version": 3
   },
   "file_extension": ".py",
   "mimetype": "text/x-python",
   "name": "python",
   "nbconvert_exporter": "python",
   "pygments_lexer": "ipython3",
   "version": "3.7.4"
  }
 },
 "nbformat": 4,
 "nbformat_minor": 2
}
