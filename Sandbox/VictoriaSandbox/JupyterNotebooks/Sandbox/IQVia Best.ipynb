{
 "cells": [
  {
   "cell_type": "code",
   "execution_count": 19,
   "metadata": {},
   "outputs": [
    {
     "name": "stderr",
     "output_type": "stream",
     "text": [
      "\n",
      "\n",
      "  2%|▏         | 67043/3128626 [01:32<1:59:31, 426.92it/s]"
     ]
    }
   ],
   "source": [
    "import pandas as pd\n",
    "import pyodbc\n",
    "from tqdm.notebook import tqdm"
   ]
  },
  {
   "cell_type": "code",
   "execution_count": 4,
   "metadata": {},
   "outputs": [],
   "source": [
    "username = 'vigrose'\n",
    "password = 'Slytherin~10946'\n",
    "q = \"DSN=eprdods; UID={}; PWD={}\".format(username, password)\n",
    "ODS = pyodbc.connect(q)"
   ]
  },
  {
   "cell_type": "code",
   "execution_count": 5,
   "metadata": {},
   "outputs": [
    {
     "data": {
      "text/html": [
       "<div>\n",
       "<style scoped>\n",
       "    .dataframe tbody tr th:only-of-type {\n",
       "        vertical-align: middle;\n",
       "    }\n",
       "\n",
       "    .dataframe tbody tr th {\n",
       "        vertical-align: top;\n",
       "    }\n",
       "\n",
       "    .dataframe thead th {\n",
       "        text-align: right;\n",
       "    }\n",
       "</style>\n",
       "<table border=\"1\" class=\"dataframe\">\n",
       "  <thead>\n",
       "    <tr style=\"text-align: right;\">\n",
       "      <th></th>\n",
       "      <th>ME</th>\n",
       "      <th>AFFIL_IND</th>\n",
       "      <th>AFFIL_RANK</th>\n",
       "      <th>AFFIL_TYPE_ID</th>\n",
       "      <th>AFFIL</th>\n",
       "      <th>BEST_AFFIL</th>\n",
       "    </tr>\n",
       "  </thead>\n",
       "  <tbody>\n",
       "    <tr>\n",
       "      <td>0</td>\n",
       "      <td>7371002001</td>\n",
       "      <td>P</td>\n",
       "      <td>9</td>\n",
       "      <td>3.0</td>\n",
       "      <td>INS00000839</td>\n",
       "      <td>INS00824338</td>\n",
       "    </tr>\n",
       "    <tr>\n",
       "      <td>1</td>\n",
       "      <td>0200289093</td>\n",
       "      <td>P</td>\n",
       "      <td>10</td>\n",
       "      <td>NaN</td>\n",
       "      <td>INS00134683</td>\n",
       "      <td>INS00134683</td>\n",
       "    </tr>\n",
       "    <tr>\n",
       "      <td>2</td>\n",
       "      <td>6540198087</td>\n",
       "      <td>A</td>\n",
       "      <td>7</td>\n",
       "      <td>3.0</td>\n",
       "      <td>INS00261776</td>\n",
       "      <td>INS00454825</td>\n",
       "    </tr>\n",
       "    <tr>\n",
       "      <td>3</td>\n",
       "      <td>0500211012</td>\n",
       "      <td>A</td>\n",
       "      <td>8</td>\n",
       "      <td>1.0</td>\n",
       "      <td>INS00489748</td>\n",
       "      <td>INS00001621</td>\n",
       "    </tr>\n",
       "    <tr>\n",
       "      <td>4</td>\n",
       "      <td>7591816014</td>\n",
       "      <td>P</td>\n",
       "      <td>9</td>\n",
       "      <td>NaN</td>\n",
       "      <td>INS00478156</td>\n",
       "      <td>INS00478156</td>\n",
       "    </tr>\n",
       "  </tbody>\n",
       "</table>\n",
       "</div>"
      ],
      "text/plain": [
       "           ME AFFIL_IND  AFFIL_RANK  AFFIL_TYPE_ID        AFFIL   BEST_AFFIL\n",
       "0  7371002001         P           9            3.0  INS00000839  INS00824338\n",
       "1  0200289093         P          10            NaN  INS00134683  INS00134683\n",
       "2  6540198087         A           7            3.0  INS00261776  INS00454825\n",
       "3  0500211012         A           8            1.0  INS00489748  INS00001621\n",
       "4  7591816014         P           9            NaN  INS00478156  INS00478156"
      ]
     },
     "execution_count": 5,
     "metadata": {},
     "output_type": "execute_result"
    }
   ],
   "source": [
    "#providers\n",
    "iqvia_query = \\\n",
    "        \"\"\"\n",
    "        SELECT\n",
    "        P.ME,\n",
    "        A.AFFIL_IND,\n",
    "        A.AFFIL_RANK,\n",
    "        A.AFFIL_TYPE_ID,\n",
    "        A.IMS_ORG_ID AS AFFIL,\n",
    "        B.IMS_ORG_ID AS BEST_AFFIL\n",
    "        FROM \n",
    "        ODS.ODS_IMS_PROFESSIONAL P, ODS.SAS_ODS_IMS_PROVIDER_AFFIL A, ODS.SAS_ODS_IMS_PROVIDER_BEST_AFFIL B\n",
    "        WHERE  \n",
    "        A.PROFESSIONAL_ID = P.PROFESSIONAL_ID\n",
    "        AND\n",
    "        P.CURRENT_BATCH_FLAG='Y'\n",
    "        AND\n",
    "        A.CURRENT_BATCH_FLAG='Y'\n",
    "        AND\n",
    "        P.ME IS NOT NULL\n",
    "        AND\n",
    "        B.PROFESSIONAL_ID = A.PROFESSIONAL_ID\n",
    "        \"\"\"\n",
    "test = pd.read_sql(con=ODS, sql=iqvia_query)\n",
    "test.head()"
   ]
  },
  {
   "cell_type": "code",
   "execution_count": 9,
   "metadata": {},
   "outputs": [],
   "source": [
    "test_dict = test.to_dict('records')"
   ]
  },
  {
   "cell_type": "code",
   "execution_count": 20,
   "metadata": {},
   "outputs": [
    {
     "data": {
      "application/vnd.jupyter.widget-view+json": {
       "model_id": "7ccf82bbed364ed08b1091e2fce2d727",
       "version_major": 2,
       "version_minor": 0
      },
      "text/plain": [
       "HBox(children=(IntProgress(value=0, max=3128626), HTML(value='')))"
      ]
     },
     "metadata": {},
     "output_type": "display_data"
    },
    {
     "ename": "KeyboardInterrupt",
     "evalue": "",
     "output_type": "error",
     "traceback": [
      "\u001b[1;31m---------------------------------------------------------------------------\u001b[0m",
      "\u001b[1;31mKeyboardInterrupt\u001b[0m                         Traceback (most recent call last)",
      "\u001b[1;32m<ipython-input-20-88772b2c59fa>\u001b[0m in \u001b[0;36m<module>\u001b[1;34m\u001b[0m\n\u001b[0;32m      4\u001b[0m     \u001b[0mme\u001b[0m \u001b[1;33m=\u001b[0m \u001b[0mrow\u001b[0m\u001b[1;33m[\u001b[0m\u001b[1;34m'ME'\u001b[0m\u001b[1;33m]\u001b[0m\u001b[1;33m\u001b[0m\u001b[1;33m\u001b[0m\u001b[0m\n\u001b[0;32m      5\u001b[0m     \u001b[1;32mif\u001b[0m \u001b[0mme\u001b[0m \u001b[1;32mnot\u001b[0m \u001b[1;32min\u001b[0m \u001b[0mmes\u001b[0m\u001b[1;33m:\u001b[0m\u001b[1;33m\u001b[0m\u001b[1;33m\u001b[0m\u001b[0m\n\u001b[1;32m----> 6\u001b[1;33m         \u001b[0mmes\u001b[0m\u001b[1;33m.\u001b[0m\u001b[0mappend\u001b[0m\u001b[1;33m(\u001b[0m\u001b[0mme\u001b[0m\u001b[1;33m)\u001b[0m\u001b[1;33m\u001b[0m\u001b[1;33m\u001b[0m\u001b[0m\n\u001b[0m\u001b[0;32m      7\u001b[0m         \u001b[0mpredicted_best\u001b[0m\u001b[1;33m[\u001b[0m\u001b[0mme\u001b[0m\u001b[1;33m]\u001b[0m \u001b[1;33m=\u001b[0m \u001b[1;33m{\u001b[0m\u001b[1;33m}\u001b[0m\u001b[1;33m\u001b[0m\u001b[1;33m\u001b[0m\u001b[0m\n\u001b[0;32m      8\u001b[0m         \u001b[0mpredicted_best\u001b[0m\u001b[1;33m[\u001b[0m\u001b[0mme\u001b[0m\u001b[1;33m]\u001b[0m\u001b[1;33m[\u001b[0m\u001b[1;34m'RANK'\u001b[0m\u001b[1;33m]\u001b[0m \u001b[1;33m=\u001b[0m \u001b[0mrow\u001b[0m\u001b[1;33m[\u001b[0m\u001b[1;34m'AFFIL_RANK'\u001b[0m\u001b[1;33m]\u001b[0m\u001b[1;33m\u001b[0m\u001b[1;33m\u001b[0m\u001b[0m\n",
      "\u001b[1;31mKeyboardInterrupt\u001b[0m: "
     ]
    }
   ],
   "source": [
    "predicted_best = {}\n",
    "mes = []\n",
    "for row in tqdm(test_dict):\n",
    "    me = row['ME']\n",
    "    if me not in mes:\n",
    "        mes.append(me)\n",
    "        predicted_best[me] = {}\n",
    "        predicted_best[me]['RANK'] = row['AFFIL_RANK']\n",
    "        predicted_best[me]['ORG'] = row['AFFIL']\n",
    "    elif predicted_best[me]['RANK'] < row['AFFIL_RANK']:\n",
    "        predicted_best[me]['RANK'] = row['AFFIL_RANK']\n",
    "        predicted_best[me]['ORG'] = row['AFFIL']\n",
    "    elif predicted_best[me]['RANK'] == row['AFFIL_RANK']:\n",
    "        if row['AFFIL_IND'] == 'P':\n",
    "            predicted_best[me]['RANK'] = row['AFFIL_RANK']\n",
    "            predicted_best[me]['ORG'] = row['AFFIL']"
   ]
  },
  {
   "cell_type": "code",
   "execution_count": 21,
   "metadata": {},
   "outputs": [],
   "source": [
    "test = test.sort_values(['AFFIL_RANK','AFFIL_IND'])"
   ]
  },
  {
   "cell_type": "code",
   "execution_count": 24,
   "metadata": {},
   "outputs": [],
   "source": [
    "predicted_best = test.drop_duplicates('ME', keep='last')"
   ]
  },
  {
   "cell_type": "code",
   "execution_count": 26,
   "metadata": {},
   "outputs": [
    {
     "data": {
      "text/html": [
       "<div>\n",
       "<style scoped>\n",
       "    .dataframe tbody tr th:only-of-type {\n",
       "        vertical-align: middle;\n",
       "    }\n",
       "\n",
       "    .dataframe tbody tr th {\n",
       "        vertical-align: top;\n",
       "    }\n",
       "\n",
       "    .dataframe thead th {\n",
       "        text-align: right;\n",
       "    }\n",
       "</style>\n",
       "<table border=\"1\" class=\"dataframe\">\n",
       "  <thead>\n",
       "    <tr style=\"text-align: right;\">\n",
       "      <th></th>\n",
       "      <th>ME</th>\n",
       "      <th>AFFIL_IND</th>\n",
       "      <th>AFFIL_RANK</th>\n",
       "      <th>AFFIL_TYPE_ID</th>\n",
       "      <th>AFFIL</th>\n",
       "      <th>BEST_AFFIL</th>\n",
       "    </tr>\n",
       "  </thead>\n",
       "  <tbody>\n",
       "    <tr>\n",
       "      <td>59542</td>\n",
       "      <td>0350193035</td>\n",
       "      <td>A</td>\n",
       "      <td>6</td>\n",
       "      <td>3.0</td>\n",
       "      <td>INS00005104</td>\n",
       "      <td>INS00005087</td>\n",
       "    </tr>\n",
       "    <tr>\n",
       "      <td>60677</td>\n",
       "      <td>0161174045</td>\n",
       "      <td>A</td>\n",
       "      <td>6</td>\n",
       "      <td>3.0</td>\n",
       "      <td>INS00005016</td>\n",
       "      <td>INS00532166</td>\n",
       "    </tr>\n",
       "    <tr>\n",
       "      <td>69334</td>\n",
       "      <td>0172063117</td>\n",
       "      <td>A</td>\n",
       "      <td>6</td>\n",
       "      <td>3.0</td>\n",
       "      <td>INS00103618</td>\n",
       "      <td>INS00003223</td>\n",
       "    </tr>\n",
       "    <tr>\n",
       "      <td>71387</td>\n",
       "      <td>0260877017</td>\n",
       "      <td>A</td>\n",
       "      <td>6</td>\n",
       "      <td>3.0</td>\n",
       "      <td>INS00004876</td>\n",
       "      <td>INS00005619</td>\n",
       "    </tr>\n",
       "    <tr>\n",
       "      <td>73785</td>\n",
       "      <td>0480475228</td>\n",
       "      <td>A</td>\n",
       "      <td>6</td>\n",
       "      <td>2.0</td>\n",
       "      <td>INS00005449</td>\n",
       "      <td>INS00536183</td>\n",
       "    </tr>\n",
       "    <tr>\n",
       "      <td>...</td>\n",
       "      <td>...</td>\n",
       "      <td>...</td>\n",
       "      <td>...</td>\n",
       "      <td>...</td>\n",
       "      <td>...</td>\n",
       "      <td>...</td>\n",
       "    </tr>\n",
       "    <tr>\n",
       "      <td>3128320</td>\n",
       "      <td>0384092246</td>\n",
       "      <td>P</td>\n",
       "      <td>10</td>\n",
       "      <td>NaN</td>\n",
       "      <td>INS01040800</td>\n",
       "      <td>INS01062878</td>\n",
       "    </tr>\n",
       "    <tr>\n",
       "      <td>3128555</td>\n",
       "      <td>0481203106</td>\n",
       "      <td>P</td>\n",
       "      <td>10</td>\n",
       "      <td>3.0</td>\n",
       "      <td>INS00003971</td>\n",
       "      <td>INS01071066</td>\n",
       "    </tr>\n",
       "    <tr>\n",
       "      <td>3128584</td>\n",
       "      <td>0164377056</td>\n",
       "      <td>P</td>\n",
       "      <td>10</td>\n",
       "      <td>1.0</td>\n",
       "      <td>INS00005196</td>\n",
       "      <td>INS00909223</td>\n",
       "    </tr>\n",
       "    <tr>\n",
       "      <td>3128592</td>\n",
       "      <td>0240786150</td>\n",
       "      <td>P</td>\n",
       "      <td>10</td>\n",
       "      <td>NaN</td>\n",
       "      <td>INS00883783</td>\n",
       "      <td>INS00745545</td>\n",
       "    </tr>\n",
       "    <tr>\n",
       "      <td>3128624</td>\n",
       "      <td>0397909011</td>\n",
       "      <td>P</td>\n",
       "      <td>10</td>\n",
       "      <td>NaN</td>\n",
       "      <td>INS00272599</td>\n",
       "      <td>INS00003794</td>\n",
       "    </tr>\n",
       "  </tbody>\n",
       "</table>\n",
       "<p>183681 rows × 6 columns</p>\n",
       "</div>"
      ],
      "text/plain": [
       "                 ME AFFIL_IND  AFFIL_RANK  AFFIL_TYPE_ID        AFFIL  \\\n",
       "59542    0350193035         A           6            3.0  INS00005104   \n",
       "60677    0161174045         A           6            3.0  INS00005016   \n",
       "69334    0172063117         A           6            3.0  INS00103618   \n",
       "71387    0260877017         A           6            3.0  INS00004876   \n",
       "73785    0480475228         A           6            2.0  INS00005449   \n",
       "...             ...       ...         ...            ...          ...   \n",
       "3128320  0384092246         P          10            NaN  INS01040800   \n",
       "3128555  0481203106         P          10            3.0  INS00003971   \n",
       "3128584  0164377056         P          10            1.0  INS00005196   \n",
       "3128592  0240786150         P          10            NaN  INS00883783   \n",
       "3128624  0397909011         P          10            NaN  INS00272599   \n",
       "\n",
       "          BEST_AFFIL  \n",
       "59542    INS00005087  \n",
       "60677    INS00532166  \n",
       "69334    INS00003223  \n",
       "71387    INS00005619  \n",
       "73785    INS00536183  \n",
       "...              ...  \n",
       "3128320  INS01062878  \n",
       "3128555  INS01071066  \n",
       "3128584  INS00909223  \n",
       "3128592  INS00745545  \n",
       "3128624  INS00003794  \n",
       "\n",
       "[183681 rows x 6 columns]"
      ]
     },
     "execution_count": 26,
     "metadata": {},
     "output_type": "execute_result"
    }
   ],
   "source": [
    "predicted_best[predicted_best.AFFIL!=predicted_best.BEST_AFFIL]"
   ]
  },
  {
   "cell_type": "code",
   "execution_count": null,
   "metadata": {},
   "outputs": [],
   "source": [
    "#how often is best not preferred\n",
    "#is best ever not top ranked"
   ]
  }
 ],
 "metadata": {
  "kernelspec": {
   "display_name": "Python 3",
   "language": "python",
   "name": "python3"
  },
  "language_info": {
   "codemirror_mode": {
    "name": "ipython",
    "version": 3
   },
   "file_extension": ".py",
   "mimetype": "text/x-python",
   "name": "python",
   "nbconvert_exporter": "python",
   "pygments_lexer": "ipython3",
   "version": "3.7.4"
  }
 },
 "nbformat": 4,
 "nbformat_minor": 2
}
