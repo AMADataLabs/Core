{
 "cells": [
  {
   "cell_type": "code",
   "execution_count": null,
   "metadata": {},
   "outputs": [],
   "source": [
    "#Import dependencies\n",
    "import pandas as pd\n",
    "import pyodbc\n",
    "from npi_api import NumberSearch, get_results\n",
    "from datamart import fix_me\n",
    "from npi_me import get_npi_to_me\n",
    "import matplotlib.pyplot"
   ]
  },
  {
   "cell_type": "code",
   "execution_count": null,
   "metadata": {},
   "outputs": [],
   "source": [
    "#Read ppd\n",
    "ppd = pd.read_csv('../../Data/PPD/ppd_data_20210410.csv')\n",
    "ppd['ME']=fix_me(ppd.ME)\n",
    "#Read new file\n",
    "new_file = pd.read_csv('../../Data/DataGov/DAC_NationalDownloadableFile_210326.csv')\n",
    "new_file['NPI'] = new_file.NPI.astype(str)\n",
    "new_file.columns = [c.replace(' ','') for c in new_file.columns.values]"
   ]
  },
  {
   "cell_type": "code",
   "execution_count": null,
   "metadata": {},
   "outputs": [],
   "source": [
    "#Append NPI\n",
    "npi_to_me = get_npi_to_me()\n",
    "ppd = pd.merge(ppd, npi_to_me, on='ME')"
   ]
  },
  {
   "cell_type": "code",
   "execution_count": null,
   "metadata": {},
   "outputs": [],
   "source": [
    "new_file.groupby(['NPI','adr_ln_1','phn_numbr']).count()"
   ]
  },
  {
   "cell_type": "code",
   "execution_count": null,
   "metadata": {},
   "outputs": [],
   "source": [
    "all_file = pd.merge(ppd, new_file, on = 'NPI')"
   ]
  },
  {
   "cell_type": "code",
   "execution_count": null,
   "metadata": {},
   "outputs": [],
   "source": [
    "cool = list(new_file.columns)\n",
    "cool.append('ME')"
   ]
  },
  {
   "cell_type": "code",
   "execution_count": null,
   "metadata": {},
   "outputs": [],
   "source": [
    "all_file[cool]"
   ]
  },
  {
   "cell_type": "code",
   "execution_count": null,
   "metadata": {},
   "outputs": [],
   "source": [
    "all_file[cool].to_csv('../../Data/DataGov/downloadable_file_me.csv', index=False)"
   ]
  },
  {
   "cell_type": "code",
   "execution_count": null,
   "metadata": {},
   "outputs": [],
   "source": [
    "all_file.groupby('org_nm').count().sort_values('ME', ascending=False)[100:150]"
   ]
  },
  {
   "cell_type": "code",
   "execution_count": null,
   "metadata": {},
   "outputs": [],
   "source": [
    "ppd[(ppd.NPI.isin(new_file.NPI.unique()))&(ppd.TOP_CD==20)]"
   ]
  },
  {
   "cell_type": "code",
   "execution_count": null,
   "metadata": {},
   "outputs": [],
   "source": [
    "new_file[new_file.NPI.isin(ppd.NPI)].groupby('NPI').count().groupby('Ind_PAC_ID').count()['Ind_enrl_ID'].to_csv('../../Data/DataGov/FileDistribution.csv')"
   ]
  },
  {
   "cell_type": "code",
   "execution_count": null,
   "metadata": {},
   "outputs": [],
   "source": [
    "new_file[new_file.NPI.isin(ppd.NPI)].groupby('NPI').count().sort_values('Ind_PAC_ID', ascending=False)"
   ]
  },
  {
   "cell_type": "code",
   "execution_count": null,
   "metadata": {},
   "outputs": [],
   "source": [
    "new_file.NPI.unique()[0]"
   ]
  },
  {
   "cell_type": "code",
   "execution_count": null,
   "metadata": {},
   "outputs": [],
   "source": [
    "import json\n",
    "with open(f'../../Data/DataGov/NPI_3.txt', 'w') as outfile:\n",
    "        json.dump(all_results, outfile)"
   ]
  },
  {
   "cell_type": "code",
   "execution_count": null,
   "metadata": {},
   "outputs": [],
   "source": [
    "# all_results = []\n",
    "# count = 59893\n",
    "for number in neeps[count:]:\n",
    "    try:\n",
    "        print(number)\n",
    "        all_results.append(get_results(NumberSearch(number)))\n",
    "        count +=1\n",
    "        print(count)\n",
    "    except:\n",
    "        with open(f'../../Data/DataGov/NPI_2.txt', 'w') as outfile:\n",
    "            json.dump(all_results, outfile)"
   ]
  },
  {
   "cell_type": "code",
   "execution_count": null,
   "metadata": {},
   "outputs": [],
   "source": [
    "new_file.columns"
   ]
  },
  {
   "cell_type": "code",
   "execution_count": null,
   "metadata": {},
   "outputs": [],
   "source": [
    "new_file[['adr_ln_1', 'adr_ln_2', 'ln_2_sprs', 'cty',\n",
    "       'st', 'zip', 'phn_numbr', 'adrs_id']].head()"
   ]
  },
  {
   "cell_type": "code",
   "execution_count": null,
   "metadata": {},
   "outputs": [],
   "source": [
    "new_file.groupby('adrs_id').count().sort_values('Ind_PAC_ID', ascending=False)"
   ]
  },
  {
   "cell_type": "code",
   "execution_count": null,
   "metadata": {},
   "outputs": [],
   "source": [
    "def get_column_totals(dataframe):\n",
    "    dataframe = dataframe.fillna('None')\n",
    "    results = []\n",
    "    total = len(dataframe)\n",
    "    for col in dataframe.columns:\n",
    "        COMPLETE = len(dataframe[dataframe[col]!='None'])\n",
    "        new_dict = {\n",
    "            'COLUMN': col,\n",
    "            'TOTAL_COMPLETE': COMPLETE,\n",
    "            'TOTAL_COMPLETENESS': round((COMPLETE/total), 5)\n",
    "        }\n",
    "        results.append(new_dict)\n",
    "        print(f\"{col} : {new_dict['TOTAL_COMPLETENESS']}\")\n",
    "    return(results)"
   ]
  },
  {
   "cell_type": "code",
   "execution_count": null,
   "metadata": {},
   "outputs": [],
   "source": [
    "column_fill = get_column_totals(new_file)"
   ]
  },
  {
   "cell_type": "code",
   "execution_count": null,
   "metadata": {},
   "outputs": [],
   "source": [
    "len(all_results)"
   ]
  },
  {
   "cell_type": "code",
   "execution_count": null,
   "metadata": {},
   "outputs": [],
   "source": [
    "len(new_file.NPI.unique())"
   ]
  },
  {
   "cell_type": "code",
   "execution_count": null,
   "metadata": {},
   "outputs": [],
   "source": [
    "neeps = list(ppd[ppd.NPI.isin(unfinished)].NPI)"
   ]
  },
  {
   "cell_type": "code",
   "execution_count": null,
   "metadata": {},
   "outputs": [],
   "source": [
    "unfinished = new_file.NPI.unique()[11099:]"
   ]
  },
  {
   "cell_type": "code",
   "execution_count": null,
   "metadata": {},
   "outputs": [],
   "source": [
    "all_results"
   ]
  },
  {
   "cell_type": "code",
   "execution_count": null,
   "metadata": {},
   "outputs": [],
   "source": [
    "len(neeps)"
   ]
  },
  {
   "cell_type": "code",
   "execution_count": null,
   "metadata": {},
   "outputs": [],
   "source": [
    "70992 - 11099"
   ]
  },
  {
   "cell_type": "code",
   "execution_count": null,
   "metadata": {},
   "outputs": [],
   "source": [
    "neeps[59893:]"
   ]
  },
  {
   "cell_type": "code",
   "execution_count": null,
   "metadata": {},
   "outputs": [],
   "source": [
    "neeps.index('1588614572')"
   ]
  },
  {
   "cell_type": "code",
   "execution_count": null,
   "metadata": {},
   "outputs": [],
   "source": [
    "ppd.columns"
   ]
  },
  {
   "cell_type": "code",
   "execution_count": null,
   "metadata": {},
   "outputs": [],
   "source": [
    "pewp = ppd[['ME', 'MAILING_NAME','MAILING_LINE_1',\n",
    "       'MAILING_LINE_2', 'CITY', 'STATE', 'ZIP', \n",
    "       'TELEPHONE_NUMBER', 'FAX_NUMBER',  'POLO_MAILING_LINE_1', 'POLO_MAILING_LINE_2',\n",
    "       'POLO_CITY', 'POLO_STATE', 'POLO_ZIP', 'NPI']]"
   ]
  },
  {
   "cell_type": "code",
   "execution_count": null,
   "metadata": {},
   "outputs": [],
   "source": [
    "len(new_file.Ind_PAC_ID.unique())"
   ]
  },
  {
   "cell_type": "code",
   "execution_count": null,
   "metadata": {},
   "outputs": [],
   "source": [
    "newp = new_file[['NPI', 'lst_nm', 'frst_nm', 'mid_nm',\n",
    "        'adr_ln_1', 'adr_ln_2', 'ln_2_sprs', 'cty',\n",
    "       'st', 'zip', 'phn_numbr']]"
   ]
  },
  {
   "cell_type": "code",
   "execution_count": null,
   "metadata": {},
   "outputs": [],
   "source": [
    "all_data = pd.merge(newp, pewp, on='NPI')"
   ]
  },
  {
   "cell_type": "code",
   "execution_count": null,
   "metadata": {},
   "outputs": [],
   "source": [
    "all_data[['POLO_MAILING_LINE_1','POLO_MAILING_LINE_2','adr_ln_1','adr_ln_2', 'ln_2_sprs','phn_numbr','TELEPHONE_NUMBER']]"
   ]
  },
  {
   "cell_type": "code",
   "execution_count": null,
   "metadata": {},
   "outputs": [],
   "source": [
    "all_data.phn_numbr.astype(str)"
   ]
  },
  {
   "cell_type": "code",
   "execution_count": null,
   "metadata": {},
   "outputs": [],
   "source": [
    "states =[]\n",
    "cities =[]\n",
    "zips =[]\n",
    "addrs = []\n",
    "phones =[]\n",
    "other_count = 0\n",
    "for row in all_data[other_count:].itertuples():\n",
    "    state = False\n",
    "    city = False\n",
    "    zipc = False\n",
    "    addr = False\n",
    "    phone = False\n",
    "    if row.POLO_STATE==row.st:\n",
    "        state = True\n",
    "    if row.POLO_CITY==row.cty:\n",
    "        city = True\n",
    "    if row.POLO_ZIP!='None':\n",
    "        if type(row.POLO_ZIP) is float:\n",
    "            if str(int(row.POLO_ZIP)) in str(row.zip):\n",
    "                    zipc = True\n",
    "            if str(row.zipcode) == str(int(row.POLO_ZIP)):\n",
    "                    zipc=True\n",
    "        else:\n",
    "            if row.POLO_ZIP == row.zipcode:\n",
    "                zipc=True\n",
    "    if row.adr_ln_1 in row.POLO_MAILING_LINE_2:\n",
    "        addr = True\n",
    "    if row.phn_numbr == row.TELEPHONE_NUMBER and row.phn_numbr != 'None':\n",
    "        phone = True\n",
    "    if row.phn_numbr == 'None':\n",
    "        phone='None'\n",
    "    states.append(state)\n",
    "    cities.append(city)\n",
    "    zips.append(zipc)\n",
    "    addrs.append(addr)\n",
    "    phones.append(phone)\n",
    "    other_count +=1 \n",
    "    "
   ]
  },
  {
   "cell_type": "code",
   "execution_count": null,
   "metadata": {},
   "outputs": [],
   "source": [
    "all_data = all_data.fillna('None')"
   ]
  },
  {
   "cell_type": "code",
   "execution_count": null,
   "metadata": {},
   "outputs": [],
   "source": [
    "all_data[(all_data.TELEPHONE_NUMBER=='None')&(all_data.phn_numbr!='None')].drop_duplicates('NPI', keep=False)"
   ]
  },
  {
   "cell_type": "code",
   "execution_count": null,
   "metadata": {},
   "outputs": [],
   "source": [
    "phones"
   ]
  },
  {
   "cell_type": "code",
   "execution_count": null,
   "metadata": {},
   "outputs": [],
   "source": [
    "all_data['STATE_MATCH']=states\n",
    "all_data['CITY_MATCH']=cities\n",
    "all_data['ZIP_MATCH']=zips\n",
    "all_data['PHONE_MATCH']=phones\n",
    "all_data['ADDRESS_MATCH']=addrs"
   ]
  },
  {
   "cell_type": "code",
   "execution_count": null,
   "metadata": {},
   "outputs": [],
   "source": [
    "all_data[all_data.PHONE_MATCH==True].drop_duplicates('NPI')"
   ]
  },
  {
   "cell_type": "code",
   "execution_count": null,
   "metadata": {},
   "outputs": [],
   "source": [
    "all_data[['POLO_ZIP', 'zip','ZIP_MATCH']]"
   ]
  },
  {
   "cell_type": "code",
   "execution_count": null,
   "metadata": {},
   "outputs": [],
   "source": [
    "all_data['zipcode'] = [str(x)[0:5] for x in all_data.zip]"
   ]
  },
  {
   "cell_type": "code",
   "execution_count": null,
   "metadata": {},
   "outputs": [],
   "source": [
    "all_results[0]['results']\n"
   ]
  },
  {
   "cell_type": "code",
   "execution_count": null,
   "metadata": {},
   "outputs": [],
   "source": [
    "new_file.columns"
   ]
  },
  {
   "cell_type": "code",
   "execution_count": null,
   "metadata": {},
   "outputs": [],
   "source": [
    "dict_list = []\n",
    "for result in all_results:\n",
    "#     if 'result_count' in result.keys():\n",
    "    if 'results' in result.keys():\n",
    "        for address in result['results'][0]['addresses']:\n",
    "\n",
    "                npi = result['results'][0]['number']\n",
    "                purpose = address['address_purpose']\n",
    "                add_1 = address['address_1']\n",
    "                add_2 = address['address_2']\n",
    "                city = address['city']\n",
    "                state = address['state']\n",
    "                zipc = address['postal_code']\n",
    "                if 'telephone_number' in address.keys():\n",
    "                    phone = address['telephone_number']\n",
    "                else:\n",
    "                    phone = 'None'\n",
    "                new_dict = {\n",
    "                    'NPI': npi,\n",
    "                    'PURPOSE': purpose,\n",
    "                    'ADD_1': add_1,\n",
    "                    'ADD_2': add_2,\n",
    "                    'CITY': city,\n",
    "                    'STATE': state,\n",
    "                    'ZIPCODE':zipc,\n",
    "                    'PHONE': phone\n",
    "\n",
    "                }\n",
    "                dict_list.append(new_dict)"
   ]
  },
  {
   "cell_type": "code",
   "execution_count": null,
   "metadata": {},
   "outputs": [],
   "source": [
    "pd.DataFrame(dict_list).to_csv('../../Data/DataGov.csv', index=False)"
   ]
  },
  {
   "cell_type": "code",
   "execution_count": null,
   "metadata": {},
   "outputs": [],
   "source": [
    "all_results[0]['results'][0]"
   ]
  },
  {
   "cell_type": "code",
   "execution_count": null,
   "metadata": {},
   "outputs": [],
   "source": [
    "npis = pd.DataFrame(dict_list)"
   ]
  },
  {
   "cell_type": "code",
   "execution_count": null,
   "metadata": {},
   "outputs": [],
   "source": [
    "neepo = npis.drop_duplicates(subset=(['NPI','ADD_1', 'ADD_2', 'PHONE']))"
   ]
  },
  {
   "cell_type": "code",
   "execution_count": null,
   "metadata": {},
   "outputs": [],
   "source": [
    "nops = pd.merge(new_file, neepo, on='NPI')"
   ]
  },
  {
   "cell_type": "code",
   "execution_count": null,
   "metadata": {},
   "outputs": [],
   "source": [
    "neepo['NPI'] = neepo.NPI.astype(str)"
   ]
  },
  {
   "cell_type": "code",
   "execution_count": null,
   "metadata": {},
   "outputs": [],
   "source": [
    "states =[]\n",
    "cities =[]\n",
    "zips =[]\n",
    "addrs = []\n",
    "addrs_2 = []\n",
    "phones =[]\n",
    "other_count = 0\n",
    "for row in NOPS[other_count:].itertuples():\n",
    "    state = False\n",
    "    city = False\n",
    "    zipc = False\n",
    "    addr = False\n",
    "    addr_2 = False\n",
    "    phone = False\n",
    "    if row.STATE==row.st:\n",
    "        state = True\n",
    "    if row.CITY==row.cty:\n",
    "        city = True\n",
    "    if str(row.ZIPCODE) in str(row.zip):\n",
    "        zipc = True\n",
    "    if str(row.zip) == str(row.ZIPCODE):\n",
    "        zipc=True\n",
    "    if row.ZIPCODE == row.zip:\n",
    "        zipc=True\n",
    "    if str(row.zip)[0:5] == str(row.ZIPCODE)[0:5]:\n",
    "        zipc=True\n",
    "    if row.adr_ln_1 in row.ADD_1:\n",
    "        addr = True\n",
    "    if row.adr_ln_2 in row.ADD_2:\n",
    "        addr_2 = True\n",
    "    if row.phn_numbr != 'None':\n",
    "        if row.phn_numbr == row.PHONE:\n",
    "            phone = True\n",
    "            print(row.phn_numbr)\n",
    "    if row.phn_numbr == 'None':\n",
    "        phone='None'\n",
    "    states.append(state)\n",
    "    cities.append(city)\n",
    "    zips.append(zipc)\n",
    "    addrs.append(addr)\n",
    "    addrs_2.append(addr_2)\n",
    "    phones.append(phone)\n",
    "    other_count +=1 "
   ]
  },
  {
   "cell_type": "code",
   "execution_count": null,
   "metadata": {},
   "outputs": [],
   "source": [
    "nops.columns"
   ]
  },
  {
   "cell_type": "code",
   "execution_count": null,
   "metadata": {},
   "outputs": [],
   "source": [
    "NOPS['STATE_MATCH']=states\n",
    "NOPS['CITY_MATCH']=cities\n",
    "NOPS['ZIP_MATCH']=zips\n",
    "NOPS['PHONE_MATCH']=phones\n",
    "NOPS['ADDRESS_MATCH']=addrs\n",
    "NOPS['ADDRESS_2_MATCH']=addrs_2"
   ]
  },
  {
   "cell_type": "code",
   "execution_count": null,
   "metadata": {},
   "outputs": [],
   "source": [
    "NOPS[NOPS.ADDRESS_2_MATCH==True].drop_duplicates('NPI')[['ADD_2','adr_ln_2']]"
   ]
  },
  {
   "cell_type": "code",
   "execution_count": null,
   "metadata": {},
   "outputs": [],
   "source": [
    "NOPS = nops[nops.NPI.isin(ppd.NPI)]"
   ]
  },
  {
   "cell_type": "code",
   "execution_count": null,
   "metadata": {},
   "outputs": [],
   "source": [
    "NOPS.head()[['PHONE','phn_numbr']]"
   ]
  },
  {
   "cell_type": "code",
   "execution_count": null,
   "metadata": {},
   "outputs": [],
   "source": [
    "NOPS['PHONE'] = [x.replace('-','') for x in NOPS.PHONE]"
   ]
  },
  {
   "cell_type": "code",
   "execution_count": null,
   "metadata": {},
   "outputs": [],
   "source": [
    "NOPS.phn_numbr = [str(x).replace('.0','') for x in NOPS.phn_numbr]"
   ]
  },
  {
   "cell_type": "code",
   "execution_count": null,
   "metadata": {},
   "outputs": [],
   "source": [
    "NOPS[NOPS.phn_numbr!='None'].drop_duplicates(subset = ['NPI','phn_numbr'])"
   ]
  },
  {
   "cell_type": "code",
   "execution_count": null,
   "metadata": {},
   "outputs": [],
   "source": [
    "all_data[(all_data.ZIP_MATCH==True)|(all_data.ADDRESS_MATCH==True)].to_csv('../../Data/DataGov/PPD_MATCH.csv', index=False)"
   ]
  },
  {
   "cell_type": "code",
   "execution_count": null,
   "metadata": {},
   "outputs": [],
   "source": [
    "column_fill.to_csv('../../Data/DataGov/Column_Completeness.csv')"
   ]
  },
  {
   "cell_type": "code",
   "execution_count": null,
   "metadata": {},
   "outputs": [],
   "source": [
    "pd.DataFrame(column_fill).to_csv('../../Data/DataGov/Column_Completeness.csv', index=False)"
   ]
  },
  {
   "cell_type": "code",
   "execution_count": null,
   "metadata": {},
   "outputs": [],
   "source": [
    "all_data.drop_duplicates(subset=['NPI', 'st'])"
   ]
  },
  {
   "cell_type": "code",
   "execution_count": null,
   "metadata": {},
   "outputs": [],
   "source": [
    "all_data[(all_data.NPI.isin(TRUTH_2)==False)&(all_data.PHONE_MATCH!=True)].drop_duplicates('NPI')"
   ]
  },
  {
   "cell_type": "code",
   "execution_count": null,
   "metadata": {},
   "outputs": [],
   "source": [
    "TRUTH = all_data[(all_data.ZIP_MATCH==True)|(all_data.ADDRESS_MATCH==True)].NPI"
   ]
  },
  {
   "cell_type": "code",
   "execution_count": null,
   "metadata": {},
   "outputs": [],
   "source": [
    "TRUTH_2 = all_data[all_data.PHONE_MATCH==True].NPI"
   ]
  },
  {
   "cell_type": "code",
   "execution_count": null,
   "metadata": {},
   "outputs": [],
   "source": [
    "GEEP = all_data[(all_data.ZIP_MATCH==True)|(all_data.ADDRESS_MATCH==True)].NPI"
   ]
  },
  {
   "cell_type": "code",
   "execution_count": null,
   "metadata": {},
   "outputs": [],
   "source": [
    "ppd[ppd.NPI.isin(GEEP)].to_csv('../../Data/DataGov/ppd_matches.csv', index=False)"
   ]
  },
  {
   "cell_type": "code",
   "execution_count": null,
   "metadata": {},
   "outputs": [],
   "source": [
    "all_data[(all_data.PHONE_MATCH==False)&(all_data.TELEPHONE_NUMBER!='None')].drop_duplicates('NPI')[['phn_numbr','TELEPHONE_NUMBER']]"
   ]
  },
  {
   "cell_type": "code",
   "execution_count": null,
   "metadata": {},
   "outputs": [],
   "source": [
    "all_data[all_data.ADDRESS_MATCH==False].drop_duplicates('NPI')"
   ]
  },
  {
   "cell_type": "code",
   "execution_count": null,
   "metadata": {},
   "outputs": [],
   "source": [
    "bolo = pd.read_excel('../../Data/Humach/top-ranked-address_agree-any.xlsx')"
   ]
  },
  {
   "cell_type": "code",
   "execution_count": null,
   "metadata": {},
   "outputs": [],
   "source": [
    "bolo.columns"
   ]
  },
  {
   "cell_type": "code",
   "execution_count": null,
   "metadata": {},
   "outputs": [],
   "source": [
    "all_file.ME"
   ]
  },
  {
   "cell_type": "code",
   "execution_count": null,
   "metadata": {},
   "outputs": [],
   "source": [
    "bolo['ME'] = fix_me(bolo.ME)"
   ]
  },
  {
   "cell_type": "code",
   "execution_count": null,
   "metadata": {},
   "outputs": [],
   "source": [
    "moar = pd.merge(all_file, bolo, on='ME')"
   ]
  },
  {
   "cell_type": "code",
   "execution_count": null,
   "metadata": {},
   "outputs": [],
   "source": [
    "bolo.drop_duplicates('ME')"
   ]
  },
  {
   "cell_type": "code",
   "execution_count": null,
   "metadata": {},
   "outputs": [],
   "source": [
    "moar[['OFFICE_ADDRESS_LINE_1', 'OFFICE_ADDRESS_LINE_2',\n",
    "       'OFFICE_ADDRESS_CITY', 'OFFICE_ADDRESS_STATE', 'OFFICE_ADDRESS_ZIP', 'adr_ln_1', 'adr_ln_2', 'ln_2_sprs', 'cty',\n",
    "       'st', 'zip']]"
   ]
  },
  {
   "cell_type": "code",
   "execution_count": null,
   "metadata": {},
   "outputs": [],
   "source": [
    "new_file.columns"
   ]
  },
  {
   "cell_type": "code",
   "execution_count": null,
   "metadata": {},
   "outputs": [],
   "source": [
    "import usaddress"
   ]
  },
  {
   "cell_type": "code",
   "execution_count": null,
   "metadata": {},
   "outputs": [],
   "source": [
    "usaddress.tag('Robie House, 5757 South Woodlawn Avenue, Chicago, IL 60637')"
   ]
  },
  {
   "cell_type": "code",
   "execution_count": null,
   "metadata": {},
   "outputs": [],
   "source": [
    "moar.columns = [c.replace(' ','_') for c in moar.columns.values]"
   ]
  },
  {
   "cell_type": "code",
   "execution_count": null,
   "metadata": {},
   "outputs": [],
   "source": [
    "def clean_address_one(add_1):\n",
    "    if add_1 == 'None':\n",
    "        addr_1 = ''\n",
    "    else:\n",
    "        addr_1 = add_1 + ' '\n",
    "    return(addr_1)"
   ]
  },
  {
   "cell_type": "code",
   "execution_count": null,
   "metadata": {},
   "outputs": [],
   "source": [
    "moar = moar.fillna('None')"
   ]
  },
  {
   "cell_type": "code",
   "execution_count": null,
   "metadata": {},
   "outputs": [],
   "source": [
    "def is_a_match(thing_1, thing_2):\n",
    "    if thing_1 == thing_2:\n",
    "        match = True\n",
    "    elif thing_1 in thing_2:\n",
    "        match = True\n",
    "    elif thing_2 in thing_1:\n",
    "        match = True\n",
    "    else:\n",
    "        match = False\n",
    "    return(match)"
   ]
  },
  {
   "cell_type": "code",
   "execution_count": null,
   "metadata": {},
   "outputs": [],
   "source": [
    "def error_handle(parsed_string):\n",
    "    new_dict = {}\n",
    "    for thing in parsed_string:\n",
    "        if thing[1] in new_dict.keys():\n",
    "            a_list = [new_dict[thing[1]], thing[0]]\n",
    "            new_dict[thing[1]] = max(a_list, key=len)\n",
    "        else:\n",
    "            new_dict[thing[1]] = thing[0]\n",
    "    return(new_dict)"
   ]
  },
  {
   "cell_type": "code",
   "execution_count": null,
   "metadata": {},
   "outputs": [],
   "source": [
    "# all_keys =[]\n",
    "dict_list = []\n",
    "for row in moar.itertuples():\n",
    "    new_dict = {}\n",
    "    new_dict['ME'] = row.ME\n",
    "    new_dict['adrs_id'] = row.adrs_id\n",
    "    bolo_addr_1 = clean_address_one(row.OFFICE_ADDRESS_LINE_1)\n",
    "    bolo_address = f'{bolo_addr_1}{row.OFFICE_ADDRESS_LINE_2} {row.OFFICE_ADDRESS_CITY} {row.OFFICE_ADDRESS_STATE} {row.OFFICE_ADDRESS_ZIP}'\n",
    "    try:\n",
    "        bolo_dict = usaddress.tag(bolo_address)[0]\n",
    "    except usaddress.RepeatedLabelError as e:\n",
    "        print(e.original_string)\n",
    "        bolo_dict = error_handle(e.parsed_string)\n",
    "        print('')\n",
    "    nat_addr_1 = clean_address_one(row.adr_ln_2)\n",
    "    nat_address = f'{nat_addr_1}{row.adr_ln_1} {row.cty} {row.st} {row.short_zip}'\n",
    "    try:\n",
    "        nat_dict = usaddress.tag(nat_address)[0]\n",
    "    except usaddress.RepeatedLabelError as e:\n",
    "        print(e.original_string)\n",
    "        nat_dict = error_handle(e.parsed_string)\n",
    "        print('')\n",
    "    for key in all_keys:\n",
    "        new_dict[key] = 'None'\n",
    "#         if key not in all_keys:\n",
    "#             all_keys.append(key)\n",
    "        if key in bolo_dict.keys() and key in nat_dict.keys():\n",
    "            new_dict[key] = is_a_match(nat_dict[key], bolo_dict[key])\n",
    "    dict_list.append(new_dict)"
   ]
  },
  {
   "cell_type": "code",
   "execution_count": null,
   "metadata": {},
   "outputs": [],
   "source": [
    "all_keys"
   ]
  },
  {
   "cell_type": "code",
   "execution_count": null,
   "metadata": {},
   "outputs": [],
   "source": [
    "moar['short_zip'] = [str(z)[0:5] for z in moar.zip]"
   ]
  },
  {
   "cell_type": "code",
   "execution_count": null,
   "metadata": {},
   "outputs": [],
   "source": [
    "[a for i in items if C]\n"
   ]
  },
  {
   "cell_type": "code",
   "execution_count": null,
   "metadata": {},
   "outputs": [],
   "source": [
    "new_file['adrs_id']"
   ]
  },
  {
   "cell_type": "code",
   "execution_count": null,
   "metadata": {},
   "outputs": [],
   "source": [
    "results = pd.DataFrame(dict_list)"
   ]
  },
  {
   "cell_type": "code",
   "execution_count": null,
   "metadata": {},
   "outputs": [],
   "source": [
    "matchy = results[(results.StreetName==True)&(results.AddressNumber==True)]"
   ]
  },
  {
   "cell_type": "code",
   "execution_count": null,
   "metadata": {},
   "outputs": [],
   "source": [
    "boop = pd.merge(matchy, moar, on=['ME','adrs_id'])"
   ]
  },
  {
   "cell_type": "code",
   "execution_count": null,
   "metadata": {},
   "outputs": [],
   "source": [
    "boop['data_phone']=[str(x).replace('.0','') for x in boop.phn_numbr]"
   ]
  },
  {
   "cell_type": "code",
   "execution_count": null,
   "metadata": {},
   "outputs": [],
   "source": [
    "boop['ppd_phone']=[str(x).replace('.0','') for x in boop.TELEPHONE_NUMBER]"
   ]
  },
  {
   "cell_type": "code",
   "execution_count": null,
   "metadata": {},
   "outputs": [],
   "source": [
    "boop[(boop.phn_numbr!='None')&(boop['OFFICE_ADDRESS_VERIFIED/UPDATED']==1)][['ppd_phone','data_phone','OFFICE_TELEPHONE','OFFICE_PHONE_VERIFIED/UPDATED','OFFICE_ADDRESS_VERIFIED/UPDATED','COMMENTS', 'updated_to_polo']]"
   ]
  },
  {
   "cell_type": "code",
   "execution_count": null,
   "metadata": {},
   "outputs": [],
   "source": [
    "for col in boop.columns:\n",
    "    print(col)"
   ]
  },
  {
   "cell_type": "code",
   "execution_count": null,
   "metadata": {},
   "outputs": [],
   "source": [
    "bolo.groupby('updated_to_polo').count()"
   ]
  },
  {
   "cell_type": "code",
   "execution_count": null,
   "metadata": {},
   "outputs": [],
   "source": [
    "offs = []\n",
    "ppds = []\n",
    "for row in boop.itertuples():\n",
    "    off_match = False\n",
    "    ppd_match = False\n",
    "    if row.data_phone == str(row.OFFICE_TELEPHONE):\n",
    "        off_match = True\n",
    "    if row.data_phone == row.ppd_phone:\n",
    "        ppd_match = True\n",
    "    offs.append(off_match)\n",
    "    ppds.append(ppd_match)"
   ]
  },
  {
   "cell_type": "code",
   "execution_count": null,
   "metadata": {},
   "outputs": [],
   "source": [
    "boop['OFFICE_PHONE_MATCH']=offs\n",
    "boop['PPD_PHONE_MATCH']=ppds"
   ]
  },
  {
   "cell_type": "code",
   "execution_count": null,
   "metadata": {},
   "outputs": [],
   "source": [
    "boop[(boop.PPD_PHONE_MATCH==False)&(boop.OFFICE_PHONE_MATCH==False)&(boop.data_phone!='None')&(boop['OFFICE_PHONE_VERIFIED/UPDATED']==2)]"
   ]
  },
  {
   "cell_type": "code",
   "execution_count": null,
   "metadata": {},
   "outputs": [],
   "source": [
    "boop.OFFICE_TELEPHONE.dtypes"
   ]
  },
  {
   "cell_type": "code",
   "execution_count": null,
   "metadata": {},
   "outputs": [],
   "source": [
    "bolo.columns"
   ]
  },
  {
   "cell_type": "code",
   "execution_count": null,
   "metadata": {},
   "outputs": [],
   "source": [
    "bolo.groupby('OFFICE PHONE VERIFIED/UPDATED').count()"
   ]
  },
  {
   "cell_type": "code",
   "execution_count": null,
   "metadata": {},
   "outputs": [],
   "source": [
    "boop[boop.phn_numbr!='None'].drop_duplicates(['ME'])"
   ]
  },
  {
   "cell_type": "code",
   "execution_count": null,
   "metadata": {},
   "outputs": [],
   "source": [
    "boop.drop_duplicates('ME')"
   ]
  },
  {
   "cell_type": "markdown",
   "metadata": {},
   "source": [
    "521 possible phone numbers to append (including 7 cases of multiple phones per physician)\n",
    "514 MEs with appendable phone number\n",
    "580 total address matches to bolos"
   ]
  },
  {
   "cell_type": "code",
   "execution_count": null,
   "metadata": {},
   "outputs": [],
   "source": [
    "len(boop)"
   ]
  },
  {
   "cell_type": "code",
   "execution_count": null,
   "metadata": {},
   "outputs": [],
   "source": [
    "boop"
   ]
  },
  {
   "cell_type": "code",
   "execution_count": null,
   "metadata": {},
   "outputs": [],
   "source": []
  }
 ],
 "metadata": {
  "kernelspec": {
   "display_name": "Python 3",
   "language": "python",
   "name": "python3"
  },
  "language_info": {
   "codemirror_mode": {
    "name": "ipython",
    "version": 3
   },
   "file_extension": ".py",
   "mimetype": "text/x-python",
   "name": "python",
   "nbconvert_exporter": "python",
   "pygments_lexer": "ipython3",
   "version": "3.7.4"
  }
 },
 "nbformat": 4,
 "nbformat_minor": 2
}
