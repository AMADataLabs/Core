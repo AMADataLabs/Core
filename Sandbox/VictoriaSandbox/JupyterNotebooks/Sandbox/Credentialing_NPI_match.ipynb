{
 "cells": [
  {
   "cell_type": "code",
   "execution_count": null,
   "metadata": {},
   "outputs": [],
   "source": [
    "import pandas as pd\n",
    "import requests\n",
    "import xmltodict\n",
    "import json\n",
    "import matplotlib.pyplot as plt\n",
    "from fuzzywuzzy import fuzz\n",
    "from dataclasses import dataclass, asdict"
   ]
  },
  {
   "cell_type": "code",
   "execution_count": null,
   "metadata": {},
   "outputs": [],
   "source": [
    "@dataclass\n",
    "class NumberSearch:\n",
    "    number: int = ''\n",
    "    version: str = '2.1'\n",
    "    enumeration_type: any = 'NPI-2'"
   ]
  },
  {
   "cell_type": "code",
   "execution_count": null,
   "metadata": {},
   "outputs": [],
   "source": [
    "@dataclass\n",
    "class Search:\n",
    "    organization_name: str = ''\n",
    "    state: str = ''\n",
    "    city: str = ''\n",
    "    postal_code: int = ''\n",
    "    taxonomy_desc: str = ''\n",
    "    version: str = '2.1'\n",
    "    enumeration_type: any = 'NPI-2'"
   ]
  },
  {
   "cell_type": "code",
   "execution_count": null,
   "metadata": {},
   "outputs": [],
   "source": [
    "def get_results(search):\n",
    "    url = 'https://npiregistry.cms.hhs.gov/api/?version=2.1'\n",
    "    parameters = asdict(search)\n",
    "    response =  requests.get(url, params=parameters)\n",
    "    results = response.json()\n",
    "    return results"
   ]
  },
  {
   "cell_type": "code",
   "execution_count": null,
   "metadata": {},
   "outputs": [],
   "source": [
    "def parse_results(results, customer_key):\n",
    "    dict_list = []\n",
    "    try:\n",
    "        count = results['result_count']\n",
    "    except KeyError:\n",
    "        return dict_list\n",
    "    if count > 0:\n",
    "        for result in results['results']:\n",
    "            npi = result['number']\n",
    "            name = result['basic']['organization_name']\n",
    "            if result['other_names']:\n",
    "                other_name = result['other_names'][0]['organization_name']\n",
    "            else:\n",
    "                other_name = \"None\"\n",
    "            date = result['basic']['last_updated']\n",
    "            taxonomy = result['taxonomies'][0]['desc']\n",
    "            for address in result['addresses']:\n",
    "                if address['address_purpose']=='MAILING':\n",
    "                    mailing_address = address['address_1']\n",
    "                    mailing_zip = address['postal_code']\n",
    "                    mailing_state = address['state']\n",
    "                    mailing_city = address['city']\n",
    "                if address['address_purpose']=='LOCATION':\n",
    "                    location_address = address['address_1']\n",
    "                    location_zip = address['postal_code']\n",
    "                    location_state = address['state']\n",
    "                    location_city = address['city']\n",
    "            subpart = result['basic']['organizational_subpart']\n",
    "            new_dict = {\n",
    "                'CUSTOMER_KEY':customer_key,\n",
    "                'NAME':name,\n",
    "                'OTHER_NAME': other_name,\n",
    "                'NPI': npi,\n",
    "                'TAXONOMY':taxonomy,\n",
    "                'SUBPART':subpart,\n",
    "                'MAILING_ADDRESS': mailing_address,\n",
    "                'MAILING_ZIP': mailing_zip,\n",
    "                'MAILING_CITY': mailing_city,\n",
    "                'MAILING_STATE': mailing_state,\n",
    "                'LOCATION_ADDRESS': location_address,\n",
    "                'LOCATION_ZIP': location_zip,\n",
    "                'LOCATION_CITY': location_city,\n",
    "                'LOCATION_STATE': location_state,\n",
    "                'UPDATED': date\n",
    "            }\n",
    "            dict_list.append(new_dict)\n",
    "    return dict_list"
   ]
  },
  {
   "cell_type": "code",
   "execution_count": null,
   "metadata": {},
   "outputs": [],
   "source": [
    "def get_npi_info(results, customer_number):\n",
    "    result = results['results'][0]\n",
    "    name = result['basic']['organization_name']\n",
    "    npi = result['number']\n",
    "    if result['other_names']:\n",
    "        other_name = result['other_names'][0]['organization_name']\n",
    "    else:\n",
    "        other_name = \"None\"\n",
    "    dict_list =[]\n",
    "    for address in result['addresses']:\n",
    "        if address['address_purpose']=='MAILING':\n",
    "            mailing_address = address['address_1']\n",
    "            mailing_zip = address['postal_code']\n",
    "            mailing_state = address['state']\n",
    "            mailing_city = address['city']\n",
    "        if address['address_purpose']=='LOCATION':\n",
    "            location_address = address['address_1']\n",
    "            location_zip = address['postal_code']\n",
    "            location_state = address['state']\n",
    "            location_city = address['city']\n",
    "    new_dict = {\n",
    "                'CUSTOMER_NUMBER':customer_number,\n",
    "                'NAME':name,\n",
    "                'OTHER_NAME': other_name,\n",
    "                'NPI': npi,\n",
    "                'MAILING_ADDRESS': mailing_address,\n",
    "                'MAILING_ZIP': mailing_zip,\n",
    "                'MAILING_CITY': mailing_city,\n",
    "                'MAILING_STATE': mailing_state,\n",
    "                'LOCATION_ADDRESS': location_address,\n",
    "                'LOCATION_ZIP': location_zip,\n",
    "                'LOCATION_CITY': location_city,\n",
    "                'LOCATION_STATE': location_state,\n",
    "            }\n",
    "    dict_list.append(new_dict)\n",
    "    return dict_list"
   ]
  },
  {
   "cell_type": "code",
   "execution_count": null,
   "metadata": {},
   "outputs": [],
   "source": [
    "x = NumberSearch(1720182835)\n",
    "get_npi_info(get_results(x), 55)"
   ]
  },
  {
   "cell_type": "code",
   "execution_count": null,
   "metadata": {},
   "outputs": [],
   "source": [
    "import datamart"
   ]
  },
  {
   "cell_type": "code",
   "execution_count": null,
   "metadata": {},
   "outputs": [],
   "source": [
    "customers = datamart.get_datamart_results((6),(2020))"
   ]
  },
  {
   "cell_type": "code",
   "execution_count": null,
   "metadata": {},
   "outputs": [],
   "source": [
    "customer_list = customers.drop_duplicates('CUSTOMER_NAME')"
   ]
  },
  {
   "cell_type": "code",
   "execution_count": null,
   "metadata": {},
   "outputs": [],
   "source": [
    "dict_list =[]\n",
    "for row in customer_list.itertuples():\n",
    "    cus_name = row.CUSTOMER_NAME.replace('+','')+'*'\n",
    "    new_results = get_results(Search(cus_name))\n",
    "    parsed = parse_results(new_results, row.CUSTOMER_KEY)\n",
    "    print(parsed)\n",
    "    if parsed:\n",
    "        dict_list+=parsed   \n",
    "    else:\n",
    "        print(f'No results found')         \n",
    "    print('---')"
   ]
  },
  {
   "cell_type": "code",
   "execution_count": null,
   "metadata": {},
   "outputs": [],
   "source": [
    "index = 0\n",
    "new_list = []"
   ]
  },
  {
   "cell_type": "code",
   "execution_count": null,
   "metadata": {},
   "outputs": [],
   "source": [
    "orgs"
   ]
  },
  {
   "cell_type": "code",
   "execution_count": null,
   "metadata": {},
   "outputs": [],
   "source": [
    "orgs = orgs.fillna('None')"
   ]
  },
  {
   "cell_type": "code",
   "execution_count": null,
   "metadata": {},
   "outputs": [],
   "source": [
    "for row in orgs[index:].itertuples():\n",
    "#     print(int(row.NPI))\n",
    "    print('')\n",
    "    zipcode = row.Zipcode[0:5]\n",
    "    name = row.Company_Name.replace('.','')\n",
    "    new_results = get_results(Search(name, row.State, row.City, zipcode))\n",
    "    parsed = parse_results(new_results, row.Customer_Number)\n",
    "    if not parsed:\n",
    "        print('No results found')\n",
    "        cus_name = name.replace('+','')+'*'\n",
    "        new_results = get_results(Search(cus_name, row.State, row.City))\n",
    "        parsed = parse_results(new_results, row.Customer_Number)\n",
    "        if not parsed:\n",
    "            print('ahh')\n",
    "            new_results = get_results(Search(\"\",row.State, row.City, row.Zipcode))\n",
    "            parsed = parse_results(new_results, row.Customer_Number)\n",
    "    new_list.append(parsed)\n",
    "    if parsed:\n",
    "        print(F'{row.Company_Name} matched to {parsed[0][\"NAME\"]}')\n",
    "    else:\n",
    "        print(F'{row.Company_Name} needs help')\n",
    "    index += 1"
   ]
  },
  {
   "cell_type": "code",
   "execution_count": null,
   "metadata": {},
   "outputs": [],
   "source": [
    "index"
   ]
  },
  {
   "cell_type": "code",
   "execution_count": null,
   "metadata": {},
   "outputs": [],
   "source": [
    "orgs = orgs.fillna('None')"
   ]
  },
  {
   "cell_type": "code",
   "execution_count": null,
   "metadata": {},
   "outputs": [],
   "source": [
    "orgs = pd.read_csv(\"../../Data/Credentialling/Unmatched.csv\")\n",
    "orgs = orgs.rename(columns={'Customer Number': 'Customer_Number','Company Name': 'Company_Name','Zip Code': 'Zipcode'})"
   ]
  },
  {
   "cell_type": "code",
   "execution_count": null,
   "metadata": {},
   "outputs": [],
   "source": [
    "orgs.head()"
   ]
  },
  {
   "cell_type": "code",
   "execution_count": null,
   "metadata": {},
   "outputs": [],
   "source": [
    "get_results(Search('EASTERN NIAGARA HOSPITAL*', 'NY','LOCKPORT','140943201'))"
   ]
  },
  {
   "cell_type": "code",
   "execution_count": null,
   "metadata": {},
   "outputs": [],
   "source": [
    "zz"
   ]
  },
  {
   "cell_type": "code",
   "execution_count": null,
   "metadata": {},
   "outputs": [],
   "source": [
    "better_list = []\n",
    "for thing in new_list:\n",
    "    if thing:\n",
    "        for other_thing in thing:\n",
    "            better_list.append(other_thing)"
   ]
  },
  {
   "cell_type": "code",
   "execution_count": null,
   "metadata": {},
   "outputs": [],
   "source": [
    "matched = pd.DataFrame(better_list)"
   ]
  },
  {
   "cell_type": "code",
   "execution_count": null,
   "metadata": {},
   "outputs": [],
   "source": [
    "len(orgs)"
   ]
  },
  {
   "cell_type": "code",
   "execution_count": null,
   "metadata": {},
   "outputs": [],
   "source": [
    "matched_customers = list(matched['CUSTOMER_KEY'])"
   ]
  },
  {
   "cell_type": "code",
   "execution_count": null,
   "metadata": {},
   "outputs": [],
   "source": [
    "orgs[orgs['Customer_Number'].isin(matched_customers)==False]"
   ]
  },
  {
   "cell_type": "code",
   "execution_count": null,
   "metadata": {},
   "outputs": [],
   "source": [
    "orgs[:9456]"
   ]
  },
  {
   "cell_type": "code",
   "execution_count": null,
   "metadata": {},
   "outputs": [],
   "source": [
    "matched.to_csv('../../Data/Credentialling/NPI_Customer_Address_Match.csv', index=False)"
   ]
  },
  {
   "cell_type": "code",
   "execution_count": null,
   "metadata": {},
   "outputs": [],
   "source": [
    "len(new_list)"
   ]
  },
  {
   "cell_type": "code",
   "execution_count": null,
   "metadata": {},
   "outputs": [],
   "source": [
    "new_list"
   ]
  },
  {
   "cell_type": "code",
   "execution_count": null,
   "metadata": {},
   "outputs": [],
   "source": [
    "other_list = []\n",
    "for thing in new_list:\n",
    "    for thing_2 in thing:\n",
    "        other_list.append(thing_2)"
   ]
  },
  {
   "cell_type": "code",
   "execution_count": null,
   "metadata": {},
   "outputs": [],
   "source": [
    "new_matched = pd.DataFrame(other_list)"
   ]
  },
  {
   "cell_type": "code",
   "execution_count": null,
   "metadata": {},
   "outputs": [],
   "source": [
    "one_more_time = orgs[orgs.Customer_Number.isin(new_matched['CUSTOMER_KEY'])==False]"
   ]
  },
  {
   "cell_type": "code",
   "execution_count": null,
   "metadata": {},
   "outputs": [],
   "source": [
    "one_more_time"
   ]
  },
  {
   "cell_type": "code",
   "execution_count": null,
   "metadata": {},
   "outputs": [],
   "source": [
    "listy =[]"
   ]
  },
  {
   "cell_type": "code",
   "execution_count": null,
   "metadata": {},
   "outputs": [],
   "source": [
    "for row in one_more_time.itertuples():\n",
    "#     print(int(row.NPI))\n",
    "    print('')\n",
    "    zipcode = row.Zipcode[0:5]\n",
    "    name = row.Company_Name.replace('.','')\n",
    "    last_word = name.split(' ')[-1]\n",
    "    name = name.replace(' '+last_word,'')+'*'\n",
    "    new_results = get_results(Search(name, row.State, row.City, zipcode))\n",
    "    parsed = parse_results(new_results, row.Customer_Number)\n",
    "    if not parsed:\n",
    "        print('No results found')\n",
    "    listy+=parsed\n",
    "    if parsed:\n",
    "        print(F'{row.Company_Name} matched to {parsed[0][\"NAME\"]}')\n",
    "    else:\n",
    "        print(F'{row.Company_Name} needs help')"
   ]
  },
  {
   "cell_type": "code",
   "execution_count": null,
   "metadata": {},
   "outputs": [],
   "source": [
    "philly = pd.read_csv('../../Data/Credentialling/Philly_Place.csv')"
   ]
  },
  {
   "cell_type": "code",
   "execution_count": null,
   "metadata": {},
   "outputs": [],
   "source": [
    "x_list = []\n",
    "bopp = []\n",
    "for row in philly[12:].itertuples():\n",
    "    print(' ')\n",
    "    print(' ')\n",
    "    print(row.CUSTOMER_NAME)\n",
    "    x = Search(row.CUSTOMER_NAME+'*', row.State,row.City,row.Short_Zip, 'GENERAL ACUTE*')\n",
    "    x_list.append(x)\n",
    "    bopp+=parse_results(get_results(x), row.CUSTOMER_NAME)"
   ]
  },
  {
   "cell_type": "code",
   "execution_count": null,
   "metadata": {},
   "outputs": [],
   "source": [
    "number = 89\n",
    "x_list[number]"
   ]
  },
  {
   "cell_type": "code",
   "execution_count": null,
   "metadata": {},
   "outputs": [],
   "source": [
    "# x_list[number].organization_name='best impression*'\n",
    "x_list[number].postal_code='08103'\n",
    "x_list[number].taxonomy_desc=''\n",
    "# x_list[number].city='Philadelphia'\n",
    "this = x_list[number]\n",
    "get_results(this)"
   ]
  },
  {
   "cell_type": "code",
   "execution_count": null,
   "metadata": {},
   "outputs": [],
   "source": [
    "len(listy)"
   ]
  },
  {
   "cell_type": "code",
   "execution_count": null,
   "metadata": {},
   "outputs": [],
   "source": [
    "other_list+=listy"
   ]
  },
  {
   "cell_type": "code",
   "execution_count": null,
   "metadata": {},
   "outputs": [],
   "source": [
    "new_matched.drop_duplicates('CUSTOMER_KEY')"
   ]
  },
  {
   "cell_type": "code",
   "execution_count": null,
   "metadata": {},
   "outputs": [],
   "source": [
    "orgs_2 = pd.read_csv(\"../../Data/Credentialling/NPI_Customer_Address_Match.csv\")"
   ]
  },
  {
   "cell_type": "code",
   "execution_count": null,
   "metadata": {},
   "outputs": [],
   "source": [
    "all_things = pd.concat([orgs_2, new_matched])"
   ]
  },
  {
   "cell_type": "code",
   "execution_count": null,
   "metadata": {},
   "outputs": [],
   "source": [
    "solos = all_things.drop_duplicates('CUSTOMER_KEY', keep=False)\n",
    "dupos = all_things[all_things.CUSTOMER_KEY.isin(solos.CUSTOMER_KEY)==False]"
   ]
  },
  {
   "cell_type": "code",
   "execution_count": null,
   "metadata": {},
   "outputs": [],
   "source": [
    "dupos[dupos.CUSTOMER_KEY==2106006]"
   ]
  },
  {
   "cell_type": "code",
   "execution_count": null,
   "metadata": {},
   "outputs": [],
   "source": [
    "org_addresses = pd.read_excel('../../Data/Credentialling/Org_Addresses.xlsx')"
   ]
  },
  {
   "cell_type": "code",
   "execution_count": null,
   "metadata": {},
   "outputs": [],
   "source": [
    "customers = pd.read_csv('../../Data/Credentialling/Customers.csv')"
   ]
  },
  {
   "cell_type": "code",
   "execution_count": null,
   "metadata": {},
   "outputs": [],
   "source": [
    "cust_list"
   ]
  },
  {
   "cell_type": "code",
   "execution_count": null,
   "metadata": {},
   "outputs": [],
   "source": [
    "try_1 = ATTEMPTS[ATTEMPTS.CUSTOMER_NBR==1051645][['CUSTOMER_NAME',\n",
    "       'CUSTOMER_CATEGORY_DESC',\n",
    "       'Street 1ST', 'City', 'State', 'Zip Code',\n",
    "       'NAME',\n",
    "       'OTHER_NAME', 'NPI', 'TAXONOMY', 'SUBPART', 'MAILING_ADDRESS',\n",
    "       'MAILING_ZIP', 'MAILING_CITY', 'MAILING_STATE', 'LOCATION_ADDRESS',\n",
    "       'LOCATION_ZIP', 'LOCATION_CITY', 'LOCATION_STATE', 'UPDATED']]"
   ]
  },
  {
   "cell_type": "code",
   "execution_count": null,
   "metadata": {},
   "outputs": [],
   "source": [
    "CUSTOMER = pd.merge(customers, org_addresses, left_on='CUSTOMER_NBR',right_on='Customer Number')"
   ]
  },
  {
   "cell_type": "code",
   "execution_count": null,
   "metadata": {},
   "outputs": [],
   "source": [
    "ATTEMPTS = pd.merge(CUSTOMER, dupos, left_on='CUSTOMER_NBR', right_on='CUSTOMER_KEY', suffixes = ['','_NBR'])"
   ]
  },
  {
   "cell_type": "code",
   "execution_count": null,
   "metadata": {},
   "outputs": [],
   "source": [
    "cust_list = list(ATTEMPTS.CUSTOMER_NBR.unique())"
   ]
  },
  {
   "cell_type": "code",
   "execution_count": null,
   "metadata": {},
   "outputs": [],
   "source": [
    "ATTEMPTS = ATTEMPTS.sort_values('UPDATED', ascending=False)"
   ]
  },
  {
   "cell_type": "code",
   "execution_count": null,
   "metadata": {},
   "outputs": [],
   "source": [
    "listie = []\n",
    "for number in cust_list:\n",
    "    print('')\n",
    "    new_df = ATTEMPTS[ATTEMPTS.CUSTOMER_NBR==number]\n",
    "    new_df = new_df.drop_duplicates(subset = ['NPI'])\n",
    "    print(len(new_df))\n",
    "    if list(new_df[0:1]['CUSTOMER_CATEGORY_DESC'])[0]=='Hospital':\n",
    "        new_df = new_df[new_df.TAXONOMY=='GENERAL_ACUTE_CARE_HOSPITAL']\n",
    "    print(len(new_df))\n",
    "    if len(new_df)>1:\n",
    "        new_df = new_df[new_df.SUBPART=='NO']\n",
    "    if len(new_df)>0:\n",
    "        new_dict ={\n",
    "            'CUSTOMER_NBR': number,\n",
    "            'NPI': list(new_df[0:1]['NPI'])[0]\n",
    "        }\n",
    "        listie.append(new_dict)"
   ]
  },
  {
   "cell_type": "code",
   "execution_count": null,
   "metadata": {},
   "outputs": [],
   "source": []
  },
  {
   "cell_type": "code",
   "execution_count": null,
   "metadata": {},
   "outputs": [],
   "source": [
    "len(listie)"
   ]
  },
  {
   "cell_type": "code",
   "execution_count": null,
   "metadata": {},
   "outputs": [],
   "source": [
    "zee = pd.DataFrame(listie)"
   ]
  },
  {
   "cell_type": "code",
   "execution_count": null,
   "metadata": {},
   "outputs": [],
   "source": [
    "EZZ = pd.merge(zee, dupos, left_on=['CUSTOMER_NBR','NPI'], right_on=['CUSTOMER_KEY','NPI'])"
   ]
  },
  {
   "cell_type": "code",
   "execution_count": null,
   "metadata": {},
   "outputs": [],
   "source": [
    "hope = pd.concat([solos, EZZ])"
   ]
  },
  {
   "cell_type": "code",
   "execution_count": null,
   "metadata": {},
   "outputs": [],
   "source": [
    "LETSGO = pd.merge(CUSTOMER, hope, left_on='CUSTOMER_NBR', right_on='CUSTOMER_KEY', suffixes = ['','_NBR'])"
   ]
  },
  {
   "cell_type": "code",
   "execution_count": null,
   "metadata": {},
   "outputs": [],
   "source": [
    "LETSGO.to_csv('../../Data/Credentialling/Matched_Customers.csv',index=False)"
   ]
  },
  {
   "cell_type": "code",
   "execution_count": null,
   "metadata": {},
   "outputs": [],
   "source": [
    "pd.DataFrame(bopp)[['CUSTOMER_KEY', 'NAME', 'OTHER_NAME', 'NPI', 'TAXONOMY', 'SUBPART',\n",
    "       'MAILING_ADDRESS',  'LOCATION_ADDRESS', 'MAILING_CITY', 'MAILING_STATE',\n",
    "         'LOCATION_CITY', 'LOCATION_STATE']][134:]"
   ]
  },
  {
   "cell_type": "code",
   "execution_count": null,
   "metadata": {},
   "outputs": [],
   "source": [
    "len(pd.DataFrame(bopp))"
   ]
  },
  {
   "cell_type": "code",
   "execution_count": null,
   "metadata": {},
   "outputs": [],
   "source": [
    "customers = pd.read_csv(\"../../Data/Credentialling/Resident_cust.csv\")"
   ]
  },
  {
   "cell_type": "code",
   "execution_count": null,
   "metadata": {},
   "outputs": [],
   "source": [
    "orgs = customers.rename(columns={'Customer Number': 'Customer_Number','Company Name': 'Company_Name','Zip Code': 'Zipcode'})"
   ]
  },
  {
   "cell_type": "code",
   "execution_count": null,
   "metadata": {},
   "outputs": [],
   "source": [
    "len(orgs)"
   ]
  },
  {
   "cell_type": "code",
   "execution_count": null,
   "metadata": {},
   "outputs": [],
   "source": [
    "index = 0"
   ]
  },
  {
   "cell_type": "code",
   "execution_count": null,
   "metadata": {},
   "outputs": [],
   "source": [
    "new_list =[]"
   ]
  },
  {
   "cell_type": "code",
   "execution_count": null,
   "metadata": {},
   "outputs": [],
   "source": [
    "orgs = orgs.fillna('None')"
   ]
  },
  {
   "cell_type": "code",
   "execution_count": null,
   "metadata": {},
   "outputs": [],
   "source": [
    "for row in orgs[index:].itertuples():\n",
    "#     print(int(row.NPI))\n",
    "    print('')\n",
    "    zipcode = str(row.Zipcode)[0:5]\n",
    "    name = row.Company_Name.replace('.','')\n",
    "    new_results = get_results(Search(name, row.State, row.City, zipcode))\n",
    "    parsed = parse_results(new_results, row.CUSTOMER_NBR)\n",
    "    if not parsed:\n",
    "        print('No results found')\n",
    "        cus_name = name.replace('+','')+'*'\n",
    "        new_results = get_results(Search(cus_name, row.State, row.City))\n",
    "        parsed = parse_results(new_results, row.CUSTOMER_NBR)\n",
    "        if not parsed:\n",
    "            print('ahh')\n",
    "            new_results = get_results(Search(\"\",row.State, row.City, row.Zipcode))\n",
    "            parsed = parse_results(new_results, row.CUSTOMER_NBR)\n",
    "    new_list.append(parsed)\n",
    "    if parsed:\n",
    "        print(F'{row.Company_Name} matched to {parsed[0][\"NAME\"]}')\n",
    "    else:\n",
    "        print(F'{row.Company_Name} needs help')\n",
    "    index += 1"
   ]
  },
  {
   "cell_type": "code",
   "execution_count": null,
   "metadata": {},
   "outputs": [],
   "source": [
    "len(new_list)"
   ]
  },
  {
   "cell_type": "code",
   "execution_count": null,
   "metadata": {},
   "outputs": [],
   "source": [
    "listy=[]\n",
    "for thing in new_list:\n",
    "    listy+=thing"
   ]
  },
  {
   "cell_type": "code",
   "execution_count": null,
   "metadata": {},
   "outputs": [],
   "source": [
    "XYZ = pd.merge(pd.DataFrame(listy), orgs, left_on='CUSTOMER_KEY', right_on='CUSTOMER_NBR')"
   ]
  },
  {
   "cell_type": "code",
   "execution_count": null,
   "metadata": {},
   "outputs": [],
   "source": [
    "XYZ[['MAILING_ADDRESS', 'LOCATION_ADDRESS','Street 1ST', 'Zipcode','LOCATION_ZIP']][0:10]"
   ]
  },
  {
   "cell_type": "code",
   "execution_count": null,
   "metadata": {},
   "outputs": [],
   "source": [
    "def check_match(thing_1, thing_2):\n",
    "    '''match check'''\n",
    "    if thing_1 == thing_2:\n",
    "        return 1\n",
    "    elif thing_1 in thing_2 or thing_2 in thing_1:\n",
    "        return 1\n",
    "    elif fuzz.ratio(thing_1, thing_2) > 70:\n",
    "        return 1\n",
    "    else:\n",
    "        return 0"
   ]
  },
  {
   "cell_type": "code",
   "execution_count": null,
   "metadata": {},
   "outputs": [],
   "source": [
    "Z='VICTO'\n",
    "Z[0:4]"
   ]
  },
  {
   "cell_type": "code",
   "execution_count": null,
   "metadata": {},
   "outputs": [],
   "source": [
    "dict_list = []\n",
    "for row in XYZ.itertuples():\n",
    "    zip_match = 0\n",
    "    if check_match(row.NAME,row.CUSTOMER_NAME.upper()) == 1:\n",
    "        name_match = 1\n",
    "    else:\n",
    "        name_match = check_match(row.OTHER_NAME, row.CUSTOMER_NAME.upper())\n",
    "    if check_match(row.LOCATION_ADDRESS, row.street_1.upper()) == 1:\n",
    "        add_match = 1\n",
    "    else:\n",
    "        add_match = check_match(row.MAILING_ADDRESS, row.street_1.upper())\n",
    "    if row.Zipcode == row.LOCATION_ZIP or str(row.Zipcode)[0:5] == str(row.LOCATION_ZIP)[0:5]:\n",
    "        zip_match = 1\n",
    "    new_dict = {\n",
    "        'NPI':row.NPI,\n",
    "        'CUSTOMER_NBR': row.CUSTOMER_NBR,\n",
    "        'NAME_MATCH': name_match,\n",
    "        'ADD_MATCH': add_match,\n",
    "        'ZIP_MATCH': zip_match\n",
    "    }\n",
    "    dict_list.append(new_dict)"
   ]
  },
  {
   "cell_type": "code",
   "execution_count": null,
   "metadata": {},
   "outputs": [],
   "source": [
    "matches = pd.DataFrame(dict_list)"
   ]
  },
  {
   "cell_type": "code",
   "execution_count": null,
   "metadata": {},
   "outputs": [],
   "source": [
    "tutu = pd.merge(XYZ, matches, on=['CUSTOMER_NBR','NPI'])"
   ]
  },
  {
   "cell_type": "code",
   "execution_count": null,
   "metadata": {},
   "outputs": [],
   "source": [
    "YES = tutu[(tutu.NAME_MATCH==1)&(tutu.ZIP_MATCH==1)|(tutu.NAME_MATCH==1)&(tutu.ADD_MATCH==1)]"
   ]
  },
  {
   "cell_type": "code",
   "execution_count": null,
   "metadata": {},
   "outputs": [],
   "source": [
    "yess = YES.drop_duplicates('CUSTOMER_NBR', keep=False)"
   ]
  },
  {
   "cell_type": "code",
   "execution_count": null,
   "metadata": {},
   "outputs": [],
   "source": [
    "duplicado = YES[YES.CUSTOMER_NBR.isin(yess.CUSTOMER_NBR)==False]"
   ]
  },
  {
   "cell_type": "code",
   "execution_count": null,
   "metadata": {},
   "outputs": [],
   "source": [
    "doubles = duplicado.drop_duplicates('CUSTOMER_NBR')['CUSTOMER_NBR']"
   ]
  },
  {
   "cell_type": "code",
   "execution_count": null,
   "metadata": {},
   "outputs": [],
   "source": [
    "doubles"
   ]
  },
  {
   "cell_type": "code",
   "execution_count": null,
   "metadata": {},
   "outputs": [],
   "source": [
    "NEW_LIST =[]\n",
    "df = pd.DataFrame()\n",
    "for double in doubles:\n",
    "    print('')\n",
    "    print(double)\n",
    "    new_df = duplicado[duplicado.CUSTOMER_NBR == double]\n",
    "    print(len(new_df))\n",
    "    new_df_2 = new_df[new_df.TAXONOMY == 'General Acute Care Hospital']\n",
    "    if len(new_df_2)== 0:\n",
    "        new_df_2 = new_df[(new_df.ADD_MATCH == 1)& (new_df.ZIP_MATCH==1)]\n",
    "        if len(new_df_2)== 0:\n",
    "            new_df_2 = new_df[new_df.SUBPART == 'NO']\n",
    "            if len(new_df_2)==0:\n",
    "                print('wtf')\n",
    "                continue\n",
    "    if len(new_df_2) >1:\n",
    "        new_df_2 = new_df_2[(new_df_2.ADD_MATCH == 1)& (new_df_2.ZIP_MATCH==1)]\n",
    "        if len(new_df_2)> 1:\n",
    "                new_df_2 = new_df_2[new_df_2.SUBPART == 'NO']\n",
    "                if len(new_df_2)>1:\n",
    "                    print('wtf 2')\n",
    "                    print(len(new_df_2))\n",
    "                    df = pd.concat([df, new_df_2])\n",
    "    if len(new_df_2) == 1:\n",
    "        print('MATCH!')\n",
    "        npi = new_df_2.iloc[0]['NPI']\n",
    "        NEW_DICT = {\n",
    "            'NPI': npi,\n",
    "            'CUSTOMER_NBR': double\n",
    "        }\n",
    "        NEW_LIST.append(NEW_DICT)"
   ]
  },
  {
   "cell_type": "code",
   "execution_count": null,
   "metadata": {},
   "outputs": [],
   "source": [
    "len(NEW_LIST)"
   ]
  },
  {
   "cell_type": "code",
   "execution_count": null,
   "metadata": {},
   "outputs": [],
   "source": [
    "len(doubles)"
   ]
  },
  {
   "cell_type": "code",
   "execution_count": null,
   "metadata": {},
   "outputs": [],
   "source": [
    "duplicado[['NAME', 'OTHER_NAME', 'NPI', 'TAXONOMY', 'SUBPART',\n",
    "       'MAILING_ADDRESS', 'MAILING_ZIP', \n",
    "       'LOCATION_ADDRESS', 'LOCATION_ZIP', \n",
    "       'UPDATED', 'CUSTOMER_NAME',\n",
    "       'CUSTOMER_NBR', 'Zipcode', 'street_1', 'NAME_MATCH',\n",
    "       'ADD_MATCH', 'ZIP_MATCH']]"
   ]
  },
  {
   "cell_type": "code",
   "execution_count": null,
   "metadata": {},
   "outputs": [],
   "source": [
    "df"
   ]
  },
  {
   "cell_type": "code",
   "execution_count": null,
   "metadata": {},
   "outputs": [],
   "source": [
    "df_1 = df.sort_values('UPDATED').drop_duplicates('CUSTOMER_NBR', keep='last')"
   ]
  },
  {
   "cell_type": "code",
   "execution_count": null,
   "metadata": {},
   "outputs": [],
   "source": [
    "pd.DataFrame(NEW_LIST)['NPI']"
   ]
  },
  {
   "cell_type": "code",
   "execution_count": null,
   "metadata": {},
   "outputs": [],
   "source": [
    "yess['NPI']"
   ]
  },
  {
   "cell_type": "code",
   "execution_count": null,
   "metadata": {},
   "outputs": [],
   "source": [
    "NEEPS= list(df_1['NPI']) + list(yess['NPI']) + list(pd.DataFrame(NEW_LIST)['NPI'])"
   ]
  },
  {
   "cell_type": "code",
   "execution_count": null,
   "metadata": {},
   "outputs": [],
   "source": [
    "matches"
   ]
  },
  {
   "cell_type": "code",
   "execution_count": null,
   "metadata": {},
   "outputs": [],
   "source": [
    "tutu[tutu.NPI.isin(NEEPS)][['CUSTOMER_KEY', 'NAME', 'OTHER_NAME', 'NPI', 'TAXONOMY',\n",
    "       'LOCATION_ADDRESS', 'LOCATION_ZIP', 'LOCATION_CITY', 'LOCATION_STATE',\n",
    "       'CUSTOMER_CATEGORY_DESC', 'CUSTOMER_NAME',\n",
    "       'CUSTOMER_NBR']].to_csv('../../Data/Credentialling/Resident_places.csv', index=False)"
   ]
  },
  {
   "cell_type": "code",
   "execution_count": null,
   "metadata": {},
   "outputs": [],
   "source": [
    "orgs"
   ]
  },
  {
   "cell_type": "code",
   "execution_count": null,
   "metadata": {},
   "outputs": [],
   "source": []
  }
 ],
 "metadata": {
  "kernelspec": {
   "display_name": "Python 3",
   "language": "python",
   "name": "python3"
  },
  "language_info": {
   "codemirror_mode": {
    "name": "ipython",
    "version": 3
   },
   "file_extension": ".py",
   "mimetype": "text/x-python",
   "name": "python",
   "nbconvert_exporter": "python",
   "pygments_lexer": "ipython3",
   "version": "3.7.4"
  }
 },
 "nbformat": 4,
 "nbformat_minor": 2
}
