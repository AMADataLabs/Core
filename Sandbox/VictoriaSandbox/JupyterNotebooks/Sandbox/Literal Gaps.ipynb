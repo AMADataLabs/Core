{
 "cells": [
  {
   "cell_type": "code",
   "execution_count": 1,
   "metadata": {},
   "outputs": [],
   "source": [
    "import pandas as pd"
   ]
  },
  {
   "cell_type": "code",
   "execution_count": 2,
   "metadata": {},
   "outputs": [
    {
     "name": "stderr",
     "output_type": "stream",
     "text": [
      "C:\\Users\\vigrose\\AppData\\Local\\Continuum\\anaconda3\\lib\\site-packages\\IPython\\core\\interactiveshell.py:3058: DtypeWarning: Columns (13,14,16,20,21,42,49,56,57,65,72) have mixed types. Specify dtype option on import or set low_memory=False.\n",
      "  interactivity=interactivity, compiler=compiler, result=result)\n"
     ]
    }
   ],
   "source": [
    "# april = pd.read_csv('../../Data/Scorecard/ppd_data_20210501.csv')\n",
    "# may = pd.read_csv('../../Data/Scorecard/ppd_data_20210606.csv')\n",
    "june = pd.read_csv('../../Data/Scorecard/ppd_data_20210703.csv')"
   ]
  },
  {
   "cell_type": "code",
   "execution_count": 3,
   "metadata": {},
   "outputs": [],
   "source": [
    "# april = april.fillna('None')\n",
    "# may = may.fillna('None')\n",
    "june = june.fillna('None')"
   ]
  },
  {
   "cell_type": "code",
   "execution_count": 30,
   "metadata": {},
   "outputs": [],
   "source": [
    "missing_data = june[(june.POLO_MAILING_LINE_2=='None')&(june.POLO_MAILING_LINE_1=='None')&(june.TOP_CD==20)]"
   ]
  },
  {
   "cell_type": "code",
   "execution_count": 11,
   "metadata": {},
   "outputs": [],
   "source": [
    "june['MISSING'] = june.POLO_MAILING_LINE_2 + june.POLO_MAILING_LINE_1"
   ]
  },
  {
   "cell_type": "code",
   "execution_count": null,
   "metadata": {},
   "outputs": [],
   "source": [
    ".to_csv('../../Data/Gap_Analysis/Combos.csv')"
   ]
  },
  {
   "cell_type": "code",
   "execution_count": 54,
   "metadata": {},
   "outputs": [],
   "source": [
    "specs = ['IM','FM','EM','PD','AN']\n",
    "missing_groups = missing_data[missing_data.PRIM_SPEC_CD.isin(specs)].groupby(['PRIM_SPEC_CD','PE_CD']).count()"
   ]
  },
  {
   "cell_type": "code",
   "execution_count": 51,
   "metadata": {},
   "outputs": [],
   "source": [
    "june_groups = june[(june.TOP_CD==20)].groupby(['PRIM_SPEC_CD','PE_CD']).count().sort_values('ME', ascending=False)"
   ]
  },
  {
   "cell_type": "code",
   "execution_count": 39,
   "metadata": {},
   "outputs": [],
   "source": [
    "june_groups[['ME']].to_csv('../../Data/Gap_Analysis/Combos.csv')\n",
    "missing_groups[['ME']].to_csv('../../Data/Gap_Analysis/Combos_2.csv')"
   ]
  },
  {
   "cell_type": "code",
   "execution_count": 46,
   "metadata": {},
   "outputs": [],
   "source": [
    "missing_groups.to_csv('../../Data/Gap_Analysis/Combos_3.csv')"
   ]
  },
  {
   "cell_type": "code",
   "execution_count": 45,
   "metadata": {},
   "outputs": [],
   "source": [
    "pd.merge(june_groups[['ME']], missing_groups[['ME']], on =['PE_CD','PRIM_SPEC_CD'], suffixes = ['_all', '_missing']).to_csv('../../Data/Gap_Analysis/Combos_All_dpc.csv')"
   ]
  },
  {
   "cell_type": "code",
   "execution_count": 40,
   "metadata": {},
   "outputs": [],
   "source": [
    "june_groups = pd.read_csv('../../Data/Gap_Analysis/Combos.csv')\n",
    "missing_groups = pd.read_csv('../../Data/Gap_Analysis/Combos_2.csv')"
   ]
  },
  {
   "cell_type": "code",
   "execution_count": 41,
   "metadata": {},
   "outputs": [],
   "source": [
    "pd.merge(june_groups, missing_groups, on =['PE_CD','PRIM_SPEC_CD'], suffixes = ['_all', '_missing']).to_csv('../../Data/Gap_Analysis/Combos_All_dpc.csv')"
   ]
  },
  {
   "cell_type": "code",
   "execution_count": null,
   "metadata": {},
   "outputs": [],
   "source": [
    "june.groupby('MISSING').count()"
   ]
  },
  {
   "cell_type": "code",
   "execution_count": null,
   "metadata": {},
   "outputs": [],
   "source": [
    "no_contact = april[april.NO_CONTACT_IND!='None'].ME\n",
    "new_may = may[(may.NO_CONTACT_IND!='None')&(may.ME.isin(no_contact)==False)].ME\n",
    "june[(june.NO_CONTACT_IND!='None')&(june.ME.isin(no_contact)==False)&(june.ME.isin(new_may)==False)]"
   ]
  },
  {
   "cell_type": "code",
   "execution_count": null,
   "metadata": {},
   "outputs": [],
   "source": [
    "april.columns"
   ]
  },
  {
   "cell_type": "code",
   "execution_count": 56,
   "metadata": {},
   "outputs": [],
   "source": [
    "missing_groups[['ME']].to_csv('../../Data/Gap_Analysis/ugh.csv')"
   ]
  },
  {
   "cell_type": "code",
   "execution_count": null,
   "metadata": {},
   "outputs": [],
   "source": [
    "#43842 DO NOT CONTACT April\n",
    "#191 new DO NOT CONTACT in May\n",
    "#112 new DO NOT CONTACT in June"
   ]
  },
  {
   "cell_type": "code",
   "execution_count": null,
   "metadata": {},
   "outputs": [],
   "source": [
    "len(april_specs)"
   ]
  },
  {
   "cell_type": "code",
   "execution_count": null,
   "metadata": {},
   "outputs": [],
   "source": [
    "specs = april.PRIM_SPEC_CD.unique()\n",
    "specs.sort()\n",
    "specs\n",
    "pd.DataFrame(data={'PRIM_SPEC_CD': specs, 'APRIL': april_specs})"
   ]
  },
  {
   "cell_type": "code",
   "execution_count": null,
   "metadata": {},
   "outputs": [],
   "source": [
    "months = [{'month':'APRIL',\n",
    "           'data': april},\n",
    "          {'month':'MAY',\n",
    "           'data': may}, \n",
    "          {'month':'JUNE',\n",
    "           'data': june}]"
   ]
  },
  {
   "cell_type": "code",
   "execution_count": null,
   "metadata": {},
   "outputs": [],
   "source": [
    "for thing in months:\n",
    "    print(thing['month'])"
   ]
  },
  {
   "cell_type": "code",
   "execution_count": null,
   "metadata": {},
   "outputs": [],
   "source": [
    "def get_it_dpc(grouping):\n",
    "    month_dfs = []\n",
    "    for month in months:\n",
    "        MONTH_NAME = month['month']\n",
    "        TEST = month['data']\n",
    "        specs_all = TEST[TEST.TOP_CD==20].groupby(grouping).count().index.values\n",
    "        counts_all = list(TEST[TEST.TOP_CD==20].groupby(grouping).count()['ME'])\n",
    "        specs = TEST[(TEST.POLO_MAILING_LINE_2=='None')&(TEST.POLO_MAILING_LINE_1=='None')&(TEST.TOP_CD==20)].groupby(grouping).count().index.values\n",
    "        counts = list(TEST[(TEST.POLO_MAILING_LINE_2=='None')&(TEST.POLO_MAILING_LINE_1=='None')&(TEST.TOP_CD==20)].groupby(grouping).count()['ME'])\n",
    "        new_df_all = pd.DataFrame(data = {grouping:specs_all, f\"{MONTH_NAME}_TOTAL\" :counts_all})\n",
    "        new_df = pd.DataFrame(data = {grouping:specs, f\"{MONTH_NAME}_MISSING\":counts})\n",
    "        month_df = pd.merge(new_df_all, new_df, on=grouping, how='left').fillna(0)\n",
    "        month_dfs.append(month_df)\n",
    "    month_df_ultra = pd.merge(month_dfs[0], month_dfs[1], on=grouping, how='outer')\n",
    "    month_df_ultra = pd.merge(month_df_ultra, month_dfs[2], on=grouping, how='outer')\n",
    "    return month_df_ultra"
   ]
  },
  {
   "cell_type": "code",
   "execution_count": null,
   "metadata": {},
   "outputs": [],
   "source": [
    "def get_it(grouping):\n",
    "    month_dfs = []\n",
    "    for month in months:\n",
    "        MONTH_NAME = month['month']\n",
    "        TEST = month['data']\n",
    "        specs_all = TEST.groupby(grouping).count().index.values\n",
    "        counts_all = list(TEST.groupby(grouping).count()['ME'])\n",
    "        specs = TEST[(TEST.POLO_MAILING_LINE_2=='None')&(TEST.POLO_MAILING_LINE_1=='None')].groupby(grouping).count().index.values\n",
    "        counts = list(TEST[(TEST.POLO_MAILING_LINE_2=='None')&(TEST.POLO_MAILING_LINE_1=='None')].groupby(grouping).count()['ME'])\n",
    "        new_df_all = pd.DataFrame(data = {grouping:specs_all, f\"{MONTH_NAME}_TOTAL\" :counts_all})\n",
    "        new_df = pd.DataFrame(data = {grouping:specs, f\"{MONTH_NAME}_MISSING\":counts})\n",
    "        month_df = pd.merge(new_df_all, new_df, on=grouping, how='left').fillna(0)\n",
    "        month_dfs.append(month_df)\n",
    "    month_df_ultra = pd.merge(month_dfs[0], month_dfs[1], on=grouping, how='outer')\n",
    "    month_df_ultra = pd.merge(month_df_ultra, month_dfs[2], on=grouping, how='outer')\n",
    "    return month_df_ultra"
   ]
  },
  {
   "cell_type": "code",
   "execution_count": null,
   "metadata": {},
   "outputs": [],
   "source": [
    "len(months)"
   ]
  },
  {
   "cell_type": "code",
   "execution_count": null,
   "metadata": {},
   "outputs": [],
   "source": [
    "pe_cd"
   ]
  },
  {
   "cell_type": "code",
   "execution_count": null,
   "metadata": {},
   "outputs": [],
   "source": [
    "SPEC = pd.read_csv('../../Data/PPD/speciality_id.csv')\n",
    "pd.merge(prim_spec, SPEC, left_on='PRIM_SPEC_CD',right_on='SPEC_CD', how='left')"
   ]
  },
  {
   "cell_type": "code",
   "execution_count": null,
   "metadata": {},
   "outputs": [],
   "source": [
    "pd.merge(prim_spec, SPEC, left_on='PRIM_SPEC_CD',right_on='SPEC_CD', how='left').to_csv('../../Data/Gap_Analysis/spec.csv',index=False)"
   ]
  },
  {
   "cell_type": "code",
   "execution_count": null,
   "metadata": {},
   "outputs": [],
   "source": [
    "# prim_spec = get_it_dpc('PRIM_SPEC_CD')\n",
    "prim_spec.to_csv('../../Data/Gap_Analysis/spec.csv',index=False)"
   ]
  },
  {
   "cell_type": "code",
   "execution_count": null,
   "metadata": {},
   "outputs": [],
   "source": [
    "with pd.ExcelWriter(f'../../Data/Gap_Analysis/missing.xlsx') as writer:  \n",
    "        prim_spec.to_excel(writer, sheet_name='PRIM_SPEC', index=False)\n",
    "        top_cd.to_excel(writer, sheet_name='TOP_CD', index=False)\n",
    "        pe_cd.to_excel(writer, sheet_name='PE_CD', index=False)"
   ]
  }
 ],
 "metadata": {
  "kernelspec": {
   "display_name": "Python 3",
   "language": "python",
   "name": "python3"
  },
  "language_info": {
   "codemirror_mode": {
    "name": "ipython",
    "version": 3
   },
   "file_extension": ".py",
   "mimetype": "text/x-python",
   "name": "python",
   "nbconvert_exporter": "python",
   "pygments_lexer": "ipython3",
   "version": "3.7.4"
  }
 },
 "nbformat": 4,
 "nbformat_minor": 2
}
