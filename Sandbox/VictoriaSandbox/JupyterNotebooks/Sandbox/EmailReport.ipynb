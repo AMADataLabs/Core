{
 "cells": [
  {
   "cell_type": "code",
   "execution_count": 1,
   "metadata": {},
   "outputs": [],
   "source": [
    "import pandas as pd\n",
    "import pyodbc\n",
    "import datetime as dt\n",
    "username = 'vigrose'\n",
    "password = 'Ravenclaw~10946'"
   ]
  },
  {
   "cell_type": "code",
   "execution_count": 2,
   "metadata": {},
   "outputs": [],
   "source": [
    "s = \"DSN=PRDDM; UID={}; PWD={}\".format(username, password)\n",
    "AMADM = pyodbc.connect(s)"
   ]
  },
  {
   "cell_type": "code",
   "execution_count": 6,
   "metadata": {},
   "outputs": [],
   "source": [
    "current_date = \"2020-12-31\""
   ]
  },
  {
   "cell_type": "code",
   "execution_count": 7,
   "metadata": {},
   "outputs": [],
   "source": [
    "query= \\\n",
    "    f\"\"\" \n",
    "    SELECT\n",
    "    AMADM.DIM_PHYSICIAN.EMAIL_STATUS,\n",
    "    count(all AMADM.FACT_MBRSHP_HIST.PERSON_ID)\n",
    "    FROM\n",
    "    AMADM.DIM_PHYSICIAN,\n",
    "    AMADM.FACT_MBRSHP_HIST\n",
    "    WHERE\n",
    "    AMADM.DIM_PHYSICIAN.PERSON_ID=AMADM.FACT_MBRSHP_HIST.PERSON_ID\n",
    "    AND\n",
    "    AMADM.DIM_PHYSICIAN.CURRENT_IND='Y'\n",
    "    AND\n",
    "    AMADM.DIM_PHYSICIAN.IS_SEED_ACCOUNT='N'\n",
    "    AND  \n",
    "    AMADM.FACT_MBRSHP_HIST.MBRSHP_YR  =  2020\n",
    "    AND\n",
    "    AMADM.FACT_MBRSHP_HIST.EFFECTIVE_BEGIN_DT  <=  '2021-08-31'\n",
    "    AND\n",
    "    AMADM.FACT_MBRSHP_HIST.EFFECTIVE_END_DT  >=  '2021-08-01'\n",
    "    AND\n",
    "    AMADM.DIM_PHYSICIAN.EMAIL_STATUS  Is Not Null  \n",
    "    GROUP BY\n",
    "    AMADM.DIM_PHYSICIAN.EMAIL_STATUS\n",
    "    \"\"\""
   ]
  },
  {
   "cell_type": "code",
   "execution_count": 8,
   "metadata": {},
   "outputs": [
    {
     "data": {
      "text/html": [
       "<div>\n",
       "<style scoped>\n",
       "    .dataframe tbody tr th:only-of-type {\n",
       "        vertical-align: middle;\n",
       "    }\n",
       "\n",
       "    .dataframe tbody tr th {\n",
       "        vertical-align: top;\n",
       "    }\n",
       "\n",
       "    .dataframe thead th {\n",
       "        text-align: right;\n",
       "    }\n",
       "</style>\n",
       "<table border=\"1\" class=\"dataframe\">\n",
       "  <thead>\n",
       "    <tr style=\"text-align: right;\">\n",
       "      <th></th>\n",
       "      <th>EMAIL_STATUS</th>\n",
       "      <th>2</th>\n",
       "    </tr>\n",
       "  </thead>\n",
       "  <tbody>\n",
       "    <tr>\n",
       "      <td>0</td>\n",
       "      <td>TEST</td>\n",
       "      <td>2</td>\n",
       "    </tr>\n",
       "    <tr>\n",
       "      <td>1</td>\n",
       "      <td>invalid</td>\n",
       "      <td>140253</td>\n",
       "    </tr>\n",
       "    <tr>\n",
       "      <td>2</td>\n",
       "      <td>valid</td>\n",
       "      <td>759317</td>\n",
       "    </tr>\n",
       "  </tbody>\n",
       "</table>\n",
       "</div>"
      ],
      "text/plain": [
       "  EMAIL_STATUS       2\n",
       "0         TEST       2\n",
       "1      invalid  140253\n",
       "2        valid  759317"
      ]
     },
     "execution_count": 8,
     "metadata": {},
     "output_type": "execute_result"
    }
   ],
   "source": [
    "email_report = pd.read_sql(con=AMADM, sql=query)\n",
    "email_report"
   ]
  },
  {
   "cell_type": "code",
   "execution_count": 31,
   "metadata": {},
   "outputs": [
    {
     "data": {
      "text/html": [
       "<div>\n",
       "<style scoped>\n",
       "    .dataframe tbody tr th:only-of-type {\n",
       "        vertical-align: middle;\n",
       "    }\n",
       "\n",
       "    .dataframe tbody tr th {\n",
       "        vertical-align: top;\n",
       "    }\n",
       "\n",
       "    .dataframe thead th {\n",
       "        text-align: right;\n",
       "    }\n",
       "</style>\n",
       "<table border=\"1\" class=\"dataframe\">\n",
       "  <thead>\n",
       "    <tr style=\"text-align: right;\">\n",
       "      <th></th>\n",
       "      <th>STS_ID</th>\n",
       "      <th>3</th>\n",
       "    </tr>\n",
       "    <tr>\n",
       "      <th>EMAIL_STATUS</th>\n",
       "      <th></th>\n",
       "      <th></th>\n",
       "    </tr>\n",
       "  </thead>\n",
       "  <tbody>\n",
       "    <tr>\n",
       "      <td>TEST</td>\n",
       "      <td>1</td>\n",
       "      <td>2</td>\n",
       "    </tr>\n",
       "    <tr>\n",
       "      <td>invalid</td>\n",
       "      <td>19</td>\n",
       "      <td>91255</td>\n",
       "    </tr>\n",
       "    <tr>\n",
       "      <td>valid</td>\n",
       "      <td>19</td>\n",
       "      <td>792483</td>\n",
       "    </tr>\n",
       "  </tbody>\n",
       "</table>\n",
       "</div>"
      ],
      "text/plain": [
       "              STS_ID       3\n",
       "EMAIL_STATUS                \n",
       "TEST               1       2\n",
       "invalid           19   91255\n",
       "valid             19  792483"
      ]
     },
     "execution_count": 31,
     "metadata": {},
     "output_type": "execute_result"
    }
   ],
   "source": [
    "email_report.groupby('EMAIL_STATUS').sum()"
   ]
  },
  {
   "cell_type": "code",
   "execution_count": null,
   "metadata": {},
   "outputs": [],
   "source": []
  }
 ],
 "metadata": {
  "kernelspec": {
   "display_name": "Python 3",
   "language": "python",
   "name": "python3"
  },
  "language_info": {
   "codemirror_mode": {
    "name": "ipython",
    "version": 3
   },
   "file_extension": ".py",
   "mimetype": "text/x-python",
   "name": "python",
   "nbconvert_exporter": "python",
   "pygments_lexer": "ipython3",
   "version": "3.7.4"
  }
 },
 "nbformat": 4,
 "nbformat_minor": 2
}
