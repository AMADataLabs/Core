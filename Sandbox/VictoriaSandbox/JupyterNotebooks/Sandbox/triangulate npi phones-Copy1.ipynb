{
 "cells": [
  {
   "cell_type": "code",
   "execution_count": 1,
   "metadata": {},
   "outputs": [],
   "source": [
    "import pandas as pd\n",
    "import pyodbc\n",
    "import useful_functions as use\n",
    "from functools import reduce"
   ]
  },
  {
   "cell_type": "code",
   "execution_count": 3,
   "metadata": {},
   "outputs": [
    {
     "data": {
      "text/html": [
       "<div>\n",
       "<style scoped>\n",
       "    .dataframe tbody tr th:only-of-type {\n",
       "        vertical-align: middle;\n",
       "    }\n",
       "\n",
       "    .dataframe tbody tr th {\n",
       "        vertical-align: top;\n",
       "    }\n",
       "\n",
       "    .dataframe thead th {\n",
       "        text-align: right;\n",
       "    }\n",
       "</style>\n",
       "<table border=\"1\" class=\"dataframe\">\n",
       "  <thead>\n",
       "    <tr style=\"text-align: right;\">\n",
       "      <th></th>\n",
       "      <th>medical_education_number</th>\n",
       "      <th>PHONE</th>\n",
       "      <th>SOURCE</th>\n",
       "      <th>ME</th>\n",
       "      <th>IQVIA_ME</th>\n",
       "      <th>PHONE_NPI</th>\n",
       "    </tr>\n",
       "  </thead>\n",
       "  <tbody>\n",
       "    <tr>\n",
       "      <td>0</td>\n",
       "      <td>102000323</td>\n",
       "      <td>4783014111</td>\n",
       "      <td>B</td>\n",
       "      <td>00102000323</td>\n",
       "      <td>0010200032</td>\n",
       "      <td>4783014111</td>\n",
       "    </tr>\n",
       "    <tr>\n",
       "      <td>1</td>\n",
       "      <td>102000439</td>\n",
       "      <td>2655355972</td>\n",
       "      <td>B</td>\n",
       "      <td>00102000439</td>\n",
       "      <td>0010200043</td>\n",
       "      <td>2655355972</td>\n",
       "    </tr>\n",
       "    <tr>\n",
       "      <td>2</td>\n",
       "      <td>102000510</td>\n",
       "      <td>8038029488</td>\n",
       "      <td>B</td>\n",
       "      <td>00102000510</td>\n",
       "      <td>0010200051</td>\n",
       "      <td>8038029488</td>\n",
       "    </tr>\n",
       "    <tr>\n",
       "      <td>3</td>\n",
       "      <td>102000561</td>\n",
       "      <td>4178310150</td>\n",
       "      <td>B</td>\n",
       "      <td>00102000561</td>\n",
       "      <td>0010200056</td>\n",
       "      <td>4178310150</td>\n",
       "    </tr>\n",
       "    <tr>\n",
       "      <td>4</td>\n",
       "      <td>102000676</td>\n",
       "      <td>3032864560</td>\n",
       "      <td>B</td>\n",
       "      <td>00102000676</td>\n",
       "      <td>0010200067</td>\n",
       "      <td>3032864560</td>\n",
       "    </tr>\n",
       "  </tbody>\n",
       "</table>\n",
       "</div>"
      ],
      "text/plain": [
       "   medical_education_number       PHONE SOURCE           ME    IQVIA_ME  \\\n",
       "0                 102000323  4783014111      B  00102000323  0010200032   \n",
       "1                 102000439  2655355972      B  00102000439  0010200043   \n",
       "2                 102000510  8038029488      B  00102000510  0010200051   \n",
       "3                 102000561  4178310150      B  00102000561  0010200056   \n",
       "4                 102000676  3032864560      B  00102000676  0010200067   \n",
       "\n",
       "    PHONE_NPI  \n",
       "0  4783014111  \n",
       "1  2655355972  \n",
       "2  8038029488  \n",
       "3  4178310150  \n",
       "4  3032864560  "
      ]
     },
     "execution_count": 3,
     "metadata": {},
     "output_type": "execute_result"
    }
   ],
   "source": [
    "npi_phones = pd.read_csv('../../Data/NPI/NPI_PHONES_TO_TRIANGULATE_041922.csv')\n",
    "npi_phones['ME'] = use.fix_me(npi_phones.medical_education_number)\n",
    "npi_phones['IQVIA_ME'] = [x[0:10] for x in npi_phones.ME]\n",
    "npi_phones['PHONE_NPI'] = [use.fix_phone(x) for x in npi_phones.PHONE]\n",
    "npi_phones.head()"
   ]
  },
  {
   "cell_type": "code",
   "execution_count": 5,
   "metadata": {},
   "outputs": [
    {
     "name": "stderr",
     "output_type": "stream",
     "text": [
      "C:\\Users\\vigrose\\AppData\\Local\\Continuum\\anaconda3\\lib\\site-packages\\IPython\\core\\interactiveshell.py:3058: DtypeWarning: Columns (4) have mixed types. Specify dtype option on import or set low_memory=False.\n",
      "  interactivity=interactivity, compiler=compiler, result=result)\n"
     ]
    }
   ],
   "source": [
    "#dhc\n",
    "dhc = pd.read_csv('../../Data/DHC/DHC_2022-04.csv')\n",
    "dhc = dhc[~dhc.ME.isna()] \n",
    "dhc = dhc.fillna('None')\n",
    "dhc['ME'] = use.fix_me(dhc.ME)\n",
    "dhc['DHC_PHONE'] = [use.fix_phone(x) for x in dhc['Phone Number']]\n",
    "dhc = dhc[dhc.DHC_PHONE!='None']"
   ]
  },
  {
   "cell_type": "code",
   "execution_count": 4,
   "metadata": {},
   "outputs": [
    {
     "data": {
      "text/html": [
       "<div>\n",
       "<style scoped>\n",
       "    .dataframe tbody tr th:only-of-type {\n",
       "        vertical-align: middle;\n",
       "    }\n",
       "\n",
       "    .dataframe tbody tr th {\n",
       "        vertical-align: top;\n",
       "    }\n",
       "\n",
       "    .dataframe thead th {\n",
       "        text-align: right;\n",
       "    }\n",
       "</style>\n",
       "<table border=\"1\" class=\"dataframe\">\n",
       "  <thead>\n",
       "    <tr style=\"text-align: right;\">\n",
       "      <th></th>\n",
       "      <th>PHONE</th>\n",
       "      <th>ME</th>\n",
       "      <th>AFFIL_TYPE_DESC</th>\n",
       "      <th>AFFIL_IND</th>\n",
       "      <th>AFFIL_RANK</th>\n",
       "    </tr>\n",
       "  </thead>\n",
       "  <tbody>\n",
       "    <tr>\n",
       "      <td>0</td>\n",
       "      <td>2519493400</td>\n",
       "      <td>0010200001</td>\n",
       "      <td>Admitting</td>\n",
       "      <td>A</td>\n",
       "      <td>6</td>\n",
       "    </tr>\n",
       "    <tr>\n",
       "      <td>1</td>\n",
       "      <td>2564014000</td>\n",
       "      <td>0010200001</td>\n",
       "      <td>Admitting</td>\n",
       "      <td>P</td>\n",
       "      <td>9</td>\n",
       "    </tr>\n",
       "    <tr>\n",
       "      <td>2</td>\n",
       "      <td>7275885200</td>\n",
       "      <td>0010200001</td>\n",
       "      <td>Admitting</td>\n",
       "      <td>A</td>\n",
       "      <td>6</td>\n",
       "    </tr>\n",
       "    <tr>\n",
       "      <td>3</td>\n",
       "      <td>8282131111</td>\n",
       "      <td>0010200003</td>\n",
       "      <td>Admitting</td>\n",
       "      <td>A</td>\n",
       "      <td>6</td>\n",
       "    </tr>\n",
       "    <tr>\n",
       "      <td>4</td>\n",
       "      <td>8282131740</td>\n",
       "      <td>0010200003</td>\n",
       "      <td>Admitting (Inferred)</td>\n",
       "      <td>P</td>\n",
       "      <td>9</td>\n",
       "    </tr>\n",
       "  </tbody>\n",
       "</table>\n",
       "</div>"
      ],
      "text/plain": [
       "            PHONE          ME       AFFIL_TYPE_DESC AFFIL_IND  AFFIL_RANK\n",
       "0  2519493400      0010200001             Admitting         A           6\n",
       "1  2564014000      0010200001             Admitting         P           9\n",
       "2  7275885200      0010200001             Admitting         A           6\n",
       "3  8282131111      0010200003             Admitting         A           6\n",
       "4  8282131740      0010200003  Admitting (Inferred)         P           9"
      ]
     },
     "execution_count": 4,
     "metadata": {},
     "output_type": "execute_result"
    }
   ],
   "source": [
    "#iqvia\n",
    "username = 'vigrose'\n",
    "password = 'Hufflepuff~10946'\n",
    "q = \"DSN=eprdods; UID={}; PWD={}\".format(username, password)\n",
    "ODS = pyodbc.connect(q)\n",
    "iqvia_query = \\\n",
    "        \"\"\"\n",
    "        SELECT DISTINCT \n",
    "        B.PHONE,\n",
    "        P.ME,\n",
    "        T.AFFIL_TYPE_DESC,\n",
    "        A.AFFIL_IND,\n",
    "        A.AFFIL_RANK\n",
    "        FROM \n",
    "        ODS.ODS_IMS_BUSINESS B, ODS.SAS_ODS_IMS_PROVIDER_AFFIL A, ODS.ODS_IMS_PROFESSIONAL P, ODS.ODS_IMS_AFFILIATION_TYPE T\n",
    "        WHERE  \n",
    "        B.IMS_ORG_ID = A.IMS_ORG_ID\n",
    "        AND\n",
    "        A.PROFESSIONAL_ID = P.PROFESSIONAL_ID\n",
    "        AND\n",
    "        A.AFFIL_TYPE_ID = T.AFFIL_TYPE_ID\n",
    "        AND\n",
    "        P.CURRENT_BATCH_FLAG='Y'\n",
    "        AND\n",
    "        A.CURRENT_BATCH_FLAG='Y'\n",
    "        AND\n",
    "        B.CURRENT_BATCH_FLAG='Y'\n",
    "        \"\"\"\n",
    "iqvia = pd.read_sql(con=ODS, sql=iqvia_query)\n",
    "iqvia.head()"
   ]
  },
  {
   "cell_type": "code",
   "execution_count": 7,
   "metadata": {},
   "outputs": [],
   "source": [
    "iqvia =iqvia.fillna('None')\n",
    "iqvia['IQVIA_PHONE'] = [use.fix_phone(x) for x in iqvia['PHONE']]\n",
    "iqvia = iqvia[iqvia.IQVIA_PHONE!='None']"
   ]
  },
  {
   "cell_type": "code",
   "execution_count": 8,
   "metadata": {},
   "outputs": [
    {
     "data": {
      "text/html": [
       "<div>\n",
       "<style scoped>\n",
       "    .dataframe tbody tr th:only-of-type {\n",
       "        vertical-align: middle;\n",
       "    }\n",
       "\n",
       "    .dataframe tbody tr th {\n",
       "        vertical-align: top;\n",
       "    }\n",
       "\n",
       "    .dataframe thead th {\n",
       "        text-align: right;\n",
       "    }\n",
       "</style>\n",
       "<table border=\"1\" class=\"dataframe\">\n",
       "  <thead>\n",
       "    <tr style=\"text-align: right;\">\n",
       "      <th></th>\n",
       "      <th>TELEPHONE</th>\n",
       "      <th>SYM_ME</th>\n",
       "    </tr>\n",
       "  </thead>\n",
       "  <tbody>\n",
       "    <tr>\n",
       "      <td>0</td>\n",
       "      <td>(718) 756-1355</td>\n",
       "      <td>4954964003</td>\n",
       "    </tr>\n",
       "    <tr>\n",
       "      <td>1</td>\n",
       "      <td>(925) 779-5090</td>\n",
       "      <td>4954674001</td>\n",
       "    </tr>\n",
       "    <tr>\n",
       "      <td>2</td>\n",
       "      <td>(618) 235-2511</td>\n",
       "      <td>4954676001</td>\n",
       "    </tr>\n",
       "    <tr>\n",
       "      <td>3</td>\n",
       "      <td>(713) 864-6100</td>\n",
       "      <td>4954677001</td>\n",
       "    </tr>\n",
       "    <tr>\n",
       "      <td>4</td>\n",
       "      <td>(973) 754-2510</td>\n",
       "      <td>4954679001</td>\n",
       "    </tr>\n",
       "  </tbody>\n",
       "</table>\n",
       "</div>"
      ],
      "text/plain": [
       "        TELEPHONE      SYM_ME\n",
       "0  (718) 756-1355  4954964003\n",
       "1  (925) 779-5090  4954674001\n",
       "2  (618) 235-2511  4954676001\n",
       "3  (713) 864-6100  4954677001\n",
       "4  (973) 754-2510  4954679001"
      ]
     },
     "execution_count": 8,
     "metadata": {},
     "output_type": "execute_result"
    }
   ],
   "source": [
    "#symphony\n",
    "sym_query = \\\n",
    "        \"\"\"\n",
    "        SELECT\n",
    "        d.ADDR_FRST_TLPHN_NBR AS TELEPHONE,\n",
    "        l.OTHER_ID AS SYM_ME\n",
    "        FROM\n",
    "        ODS.PRACTITIONER_DEMOGRAPHIC_LAYOUT d, ODS.PRACTITIONER_ADDL_IDS_LAYOUT l\n",
    "        WHERE\n",
    "        d.DS_PRCTR_ID = l.DS_PRCTR_ID\n",
    "        and\n",
    "        l.ID_QLFR_TYP_CDE = 38\n",
    "        \"\"\"  \n",
    "symphony = pd.read_sql(con=ODS, sql=sym_query)\n",
    "symphony.head()"
   ]
  },
  {
   "cell_type": "code",
   "execution_count": 11,
   "metadata": {},
   "outputs": [],
   "source": [
    "symphony =symphony.fillna('None')\n",
    "symphony['SYM_PHONE'] = [use.fix_phone(x) for x in symphony['TELEPHONE']]\n",
    "symphony = symphony[symphony.SYM_PHONE!='None']"
   ]
  },
  {
   "cell_type": "code",
   "execution_count": 12,
   "metadata": {},
   "outputs": [
    {
     "data": {
      "text/html": [
       "<div>\n",
       "<style scoped>\n",
       "    .dataframe tbody tr th:only-of-type {\n",
       "        vertical-align: middle;\n",
       "    }\n",
       "\n",
       "    .dataframe tbody tr th {\n",
       "        vertical-align: top;\n",
       "    }\n",
       "\n",
       "    .dataframe thead th {\n",
       "        text-align: right;\n",
       "    }\n",
       "</style>\n",
       "<table border=\"1\" class=\"dataframe\">\n",
       "  <thead>\n",
       "    <tr style=\"text-align: right;\">\n",
       "      <th></th>\n",
       "      <th>ME</th>\n",
       "      <th>IQVIA_ME</th>\n",
       "      <th>PHONE_NPI</th>\n",
       "      <th>SYM_PHONE</th>\n",
       "      <th>IQVIA_PHONE</th>\n",
       "      <th>DHC_PHONE</th>\n",
       "      <th>SOURCE</th>\n",
       "    </tr>\n",
       "  </thead>\n",
       "  <tbody>\n",
       "    <tr>\n",
       "      <td>0</td>\n",
       "      <td>00102000323</td>\n",
       "      <td>0010200032</td>\n",
       "      <td>4783014111</td>\n",
       "      <td>2033890949</td>\n",
       "      <td>8046755000</td>\n",
       "      <td>None</td>\n",
       "      <td>B</td>\n",
       "    </tr>\n",
       "    <tr>\n",
       "      <td>1</td>\n",
       "      <td>00102000439</td>\n",
       "      <td>0010200043</td>\n",
       "      <td>2655355972</td>\n",
       "      <td>2565355972</td>\n",
       "      <td>2562651000</td>\n",
       "      <td>None</td>\n",
       "      <td>B</td>\n",
       "    </tr>\n",
       "    <tr>\n",
       "      <td>2</td>\n",
       "      <td>00102000510</td>\n",
       "      <td>0010200051</td>\n",
       "      <td>8038029488</td>\n",
       "      <td>8038029488</td>\n",
       "      <td>None</td>\n",
       "      <td>None</td>\n",
       "      <td>B</td>\n",
       "    </tr>\n",
       "    <tr>\n",
       "      <td>3</td>\n",
       "      <td>00102000561</td>\n",
       "      <td>0010200056</td>\n",
       "      <td>4178310150</td>\n",
       "      <td>4178310150</td>\n",
       "      <td>4172696000</td>\n",
       "      <td>4173348300</td>\n",
       "      <td>B</td>\n",
       "    </tr>\n",
       "    <tr>\n",
       "      <td>4</td>\n",
       "      <td>00102000561</td>\n",
       "      <td>0010200056</td>\n",
       "      <td>4178310150</td>\n",
       "      <td>4178310150</td>\n",
       "      <td>4172699800</td>\n",
       "      <td>4173348300</td>\n",
       "      <td>B</td>\n",
       "    </tr>\n",
       "  </tbody>\n",
       "</table>\n",
       "</div>"
      ],
      "text/plain": [
       "            ME    IQVIA_ME   PHONE_NPI   SYM_PHONE IQVIA_PHONE   DHC_PHONE  \\\n",
       "0  00102000323  0010200032  4783014111  2033890949  8046755000        None   \n",
       "1  00102000439  0010200043  2655355972  2565355972  2562651000        None   \n",
       "2  00102000510  0010200051  8038029488  8038029488        None        None   \n",
       "3  00102000561  0010200056  4178310150  4178310150  4172696000  4173348300   \n",
       "4  00102000561  0010200056  4178310150  4178310150  4172699800  4173348300   \n",
       "\n",
       "  SOURCE  \n",
       "0      B  \n",
       "1      B  \n",
       "2      B  \n",
       "3      B  \n",
       "4      B  "
      ]
     },
     "execution_count": 12,
     "metadata": {},
     "output_type": "execute_result"
    }
   ],
   "source": [
    "THIS = pd.merge(npi_phones, symphony, left_on='IQVIA_ME', right_on='SYM_ME', how='left')\n",
    "THIS = pd.merge(THIS, iqvia, left_on='IQVIA_ME', right_on='ME', how='left', suffixes = ['','_iqvia'])\n",
    "THIS = pd.merge(THIS, dhc, on='ME', how='left')[['ME','IQVIA_ME', 'PHONE_NPI', 'SYM_PHONE','IQVIA_PHONE', 'DHC_PHONE', 'SOURCE']].drop_duplicates()\n",
    "THIS = THIS.fillna('None')\n",
    "THIS.head()"
   ]
  },
  {
   "cell_type": "code",
   "execution_count": 22,
   "metadata": {},
   "outputs": [],
   "source": [
    "dict_list = []\n",
    "for row in THIS.itertuples():\n",
    "    count = 0\n",
    "    MATCHES = ''\n",
    "    phone = row.PHONE_NPI\n",
    "    symph_phone = row.SYM_PHONE\n",
    "    dhc_phone = row.DHC_PHONE\n",
    "    iqvia_phone = row.IQVIA_PHONE\n",
    "    if symph_phone == phone:\n",
    "        count += 1\n",
    "        MATCHES += 'Symphony, '\n",
    "    if dhc_phone == phone:\n",
    "        count += 1\n",
    "        MATCHES += 'DHC, '\n",
    "    if iqvia_phone == phone:\n",
    "        count += 1\n",
    "        MATCHES += 'IQVia, '\n",
    "    if phone!='None':\n",
    "        dicto = {\n",
    "        'ME': row.ME,\n",
    "        'IQVIA_ME': row.IQVIA_ME,\n",
    "        'PHONE_NPI': phone,\n",
    "        'MATCHED': count,\n",
    "        'MATCHES': MATCHES[:-2],\n",
    "        'SOURCE':row.SOURCE\n",
    "    }\n",
    "        dict_list.append(dicto)"
   ]
  },
  {
   "cell_type": "code",
   "execution_count": 23,
   "metadata": {},
   "outputs": [],
   "source": [
    "phone_matches = pd.DataFrame(dict_list)"
   ]
  },
  {
   "cell_type": "code",
   "execution_count": 15,
   "metadata": {},
   "outputs": [],
   "source": [
    "phone_matches = phone_matches.sort_values('MATCHED', ascending=False).drop_duplicates(['ME','PHONE_NPI'], keep='first')"
   ]
  },
  {
   "cell_type": "code",
   "execution_count": 28,
   "metadata": {},
   "outputs": [],
   "source": [
    "testing = list(phone_matches[phone_matches.SOURCE!='B'].ME)"
   ]
  },
  {
   "cell_type": "code",
   "execution_count": 34,
   "metadata": {},
   "outputs": [],
   "source": [
    "yup = phone_matches.sort_values('MATCHED', ascending=False).drop_duplicates(['ME','PHONE_NPI'], keep='first')"
   ]
  },
  {
   "cell_type": "code",
   "execution_count": 21,
   "metadata": {},
   "outputs": [
    {
     "data": {
      "text/html": [
       "<div>\n",
       "<style scoped>\n",
       "    .dataframe tbody tr th:only-of-type {\n",
       "        vertical-align: middle;\n",
       "    }\n",
       "\n",
       "    .dataframe tbody tr th {\n",
       "        vertical-align: top;\n",
       "    }\n",
       "\n",
       "    .dataframe thead th {\n",
       "        text-align: right;\n",
       "    }\n",
       "</style>\n",
       "<table border=\"1\" class=\"dataframe\">\n",
       "  <thead>\n",
       "    <tr style=\"text-align: right;\">\n",
       "      <th></th>\n",
       "      <th>ME</th>\n",
       "      <th>IQVIA_ME</th>\n",
       "      <th>PHONE_NPI</th>\n",
       "      <th>MATCHED</th>\n",
       "      <th>MATCHES</th>\n",
       "    </tr>\n",
       "  </thead>\n",
       "  <tbody>\n",
       "    <tr>\n",
       "      <td>77575</td>\n",
       "      <td>04113081169</td>\n",
       "      <td>0411308116</td>\n",
       "      <td>3523761611</td>\n",
       "      <td>3</td>\n",
       "      <td>Symphony, DHC, IQVia</td>\n",
       "    </tr>\n",
       "    <tr>\n",
       "      <td>96579</td>\n",
       "      <td>05107951514</td>\n",
       "      <td>0510795151</td>\n",
       "      <td>5086745600</td>\n",
       "      <td>3</td>\n",
       "      <td>Symphony, DHC, IQVia</td>\n",
       "    </tr>\n",
       "    <tr>\n",
       "      <td>103788</td>\n",
       "      <td>18745010021</td>\n",
       "      <td>1874501002</td>\n",
       "      <td>5207921450</td>\n",
       "      <td>3</td>\n",
       "      <td>Symphony, DHC, IQVia</td>\n",
       "    </tr>\n",
       "    <tr>\n",
       "      <td>49362</td>\n",
       "      <td>02879110257</td>\n",
       "      <td>0287911025</td>\n",
       "      <td>5139483600</td>\n",
       "      <td>3</td>\n",
       "      <td>Symphony, DHC, IQVia</td>\n",
       "    </tr>\n",
       "    <tr>\n",
       "      <td>63223</td>\n",
       "      <td>03575042511</td>\n",
       "      <td>0357504251</td>\n",
       "      <td>5083831000</td>\n",
       "      <td>3</td>\n",
       "      <td>Symphony, DHC, IQVia</td>\n",
       "    </tr>\n",
       "    <tr>\n",
       "      <td>...</td>\n",
       "      <td>...</td>\n",
       "      <td>...</td>\n",
       "      <td>...</td>\n",
       "      <td>...</td>\n",
       "      <td>...</td>\n",
       "    </tr>\n",
       "    <tr>\n",
       "      <td>56852</td>\n",
       "      <td>03508750501</td>\n",
       "      <td>0350875050</td>\n",
       "      <td>5162551600</td>\n",
       "      <td>0</td>\n",
       "      <td></td>\n",
       "    </tr>\n",
       "    <tr>\n",
       "      <td>56849</td>\n",
       "      <td>03508750209</td>\n",
       "      <td>0350875020</td>\n",
       "      <td>8605459487</td>\n",
       "      <td>0</td>\n",
       "      <td></td>\n",
       "    </tr>\n",
       "    <tr>\n",
       "      <td>56848</td>\n",
       "      <td>03508742141</td>\n",
       "      <td>0350874214</td>\n",
       "      <td>5106256262</td>\n",
       "      <td>0</td>\n",
       "      <td></td>\n",
       "    </tr>\n",
       "    <tr>\n",
       "      <td>56845</td>\n",
       "      <td>03508741510</td>\n",
       "      <td>0350874151</td>\n",
       "      <td>9184942200</td>\n",
       "      <td>0</td>\n",
       "      <td></td>\n",
       "    </tr>\n",
       "    <tr>\n",
       "      <td>135731</td>\n",
       "      <td>96501930013</td>\n",
       "      <td>9650193001</td>\n",
       "      <td>7278240780</td>\n",
       "      <td>0</td>\n",
       "      <td></td>\n",
       "    </tr>\n",
       "  </tbody>\n",
       "</table>\n",
       "<p>76856 rows × 5 columns</p>\n",
       "</div>"
      ],
      "text/plain": [
       "                 ME    IQVIA_ME   PHONE_NPI  MATCHED               MATCHES\n",
       "77575   04113081169  0411308116  3523761611        3  Symphony, DHC, IQVia\n",
       "96579   05107951514  0510795151  5086745600        3  Symphony, DHC, IQVia\n",
       "103788  18745010021  1874501002  5207921450        3  Symphony, DHC, IQVia\n",
       "49362   02879110257  0287911025  5139483600        3  Symphony, DHC, IQVia\n",
       "63223   03575042511  0357504251  5083831000        3  Symphony, DHC, IQVia\n",
       "...             ...         ...         ...      ...                   ...\n",
       "56852   03508750501  0350875050  5162551600        0                      \n",
       "56849   03508750209  0350875020  8605459487        0                      \n",
       "56848   03508742141  0350874214  5106256262        0                      \n",
       "56845   03508741510  0350874151  9184942200        0                      \n",
       "135731  96501930013  9650193001  7278240780        0                      \n",
       "\n",
       "[76856 rows x 5 columns]"
      ]
     },
     "execution_count": 21,
     "metadata": {},
     "output_type": "execute_result"
    }
   ],
   "source": [
    "phone_matches.sort_values('MATCHED', ascending=False).drop_duplicates(['ME','PHONE_NPI'], keep='first')"
   ]
  },
  {
   "cell_type": "code",
   "execution_count": 41,
   "metadata": {},
   "outputs": [
    {
     "data": {
      "text/html": [
       "<div>\n",
       "<style scoped>\n",
       "    .dataframe tbody tr th:only-of-type {\n",
       "        vertical-align: middle;\n",
       "    }\n",
       "\n",
       "    .dataframe tbody tr th {\n",
       "        vertical-align: top;\n",
       "    }\n",
       "\n",
       "    .dataframe thead th {\n",
       "        text-align: right;\n",
       "    }\n",
       "</style>\n",
       "<table border=\"1\" class=\"dataframe\">\n",
       "  <thead>\n",
       "    <tr style=\"text-align: right;\">\n",
       "      <th></th>\n",
       "      <th>ME</th>\n",
       "    </tr>\n",
       "    <tr>\n",
       "      <th>MATCHED</th>\n",
       "      <th></th>\n",
       "    </tr>\n",
       "  </thead>\n",
       "  <tbody>\n",
       "    <tr>\n",
       "      <td>0</td>\n",
       "      <td>45754</td>\n",
       "    </tr>\n",
       "    <tr>\n",
       "      <td>1</td>\n",
       "      <td>21317</td>\n",
       "    </tr>\n",
       "    <tr>\n",
       "      <td>2</td>\n",
       "      <td>9340</td>\n",
       "    </tr>\n",
       "    <tr>\n",
       "      <td>3</td>\n",
       "      <td>445</td>\n",
       "    </tr>\n",
       "  </tbody>\n",
       "</table>\n",
       "</div>"
      ],
      "text/plain": [
       "            ME\n",
       "MATCHED       \n",
       "0        45754\n",
       "1        21317\n",
       "2         9340\n",
       "3          445"
      ]
     },
     "execution_count": 41,
     "metadata": {},
     "output_type": "execute_result"
    }
   ],
   "source": [
    "yup.groupby('MATCHED').count()[['ME']]"
   ]
  },
  {
   "cell_type": "code",
   "execution_count": 40,
   "metadata": {},
   "outputs": [
    {
     "data": {
      "text/html": [
       "<div>\n",
       "<style scoped>\n",
       "    .dataframe tbody tr th:only-of-type {\n",
       "        vertical-align: middle;\n",
       "    }\n",
       "\n",
       "    .dataframe tbody tr th {\n",
       "        vertical-align: top;\n",
       "    }\n",
       "\n",
       "    .dataframe thead th {\n",
       "        text-align: right;\n",
       "    }\n",
       "</style>\n",
       "<table border=\"1\" class=\"dataframe\">\n",
       "  <thead>\n",
       "    <tr style=\"text-align: right;\">\n",
       "      <th></th>\n",
       "      <th>ME</th>\n",
       "    </tr>\n",
       "    <tr>\n",
       "      <th>MATCHES</th>\n",
       "      <th></th>\n",
       "    </tr>\n",
       "  </thead>\n",
       "  <tbody>\n",
       "    <tr>\n",
       "      <td></td>\n",
       "      <td>45754</td>\n",
       "    </tr>\n",
       "    <tr>\n",
       "      <td>DHC</td>\n",
       "      <td>7267</td>\n",
       "    </tr>\n",
       "    <tr>\n",
       "      <td>DHC, IQVia</td>\n",
       "      <td>359</td>\n",
       "    </tr>\n",
       "    <tr>\n",
       "      <td>IQVia</td>\n",
       "      <td>1117</td>\n",
       "    </tr>\n",
       "    <tr>\n",
       "      <td>Symphony</td>\n",
       "      <td>12933</td>\n",
       "    </tr>\n",
       "    <tr>\n",
       "      <td>Symphony, DHC</td>\n",
       "      <td>8273</td>\n",
       "    </tr>\n",
       "    <tr>\n",
       "      <td>Symphony, DHC, IQVia</td>\n",
       "      <td>445</td>\n",
       "    </tr>\n",
       "    <tr>\n",
       "      <td>Symphony, IQVia</td>\n",
       "      <td>708</td>\n",
       "    </tr>\n",
       "  </tbody>\n",
       "</table>\n",
       "</div>"
      ],
      "text/plain": [
       "                         ME\n",
       "MATCHES                    \n",
       "                      45754\n",
       "DHC                    7267\n",
       "DHC, IQVia              359\n",
       "IQVia                  1117\n",
       "Symphony              12933\n",
       "Symphony, DHC          8273\n",
       "Symphony, DHC, IQVia    445\n",
       "Symphony, IQVia         708"
      ]
     },
     "execution_count": 40,
     "metadata": {},
     "output_type": "execute_result"
    }
   ],
   "source": [
    "yup.groupby('MATCHES').count()[['ME']]"
   ]
  },
  {
   "cell_type": "code",
   "execution_count": 42,
   "metadata": {},
   "outputs": [],
   "source": [
    "phone_matches[phone_matches.MATCHED!=0].sort_values('MATCHED', ascending=False).drop_duplicates(['ME','PHONE_NPI'], keep='first').to_excel('../../Data/NPI/NPI_Triangulation_Results_042022.xlsx', index=False)"
   ]
  },
  {
   "cell_type": "code",
   "execution_count": 39,
   "metadata": {},
   "outputs": [
    {
     "data": {
      "text/plain": [
       "0.16827573644217758"
      ]
     },
     "execution_count": 39,
     "metadata": {},
     "output_type": "execute_result"
    }
   ],
   "source": [
    "12933/76856"
   ]
  },
  {
   "cell_type": "code",
   "execution_count": 43,
   "metadata": {},
   "outputs": [],
   "source": [
    "symphony_count = 0\n",
    "dhc_count = 0\n",
    "iqvia_count = 0\n",
    "for row in THIS.itertuples():\n",
    "    phone = row.PHONE_NPI\n",
    "    symph_phone = row.SYM_PHONE\n",
    "    dhc_phone = row.DHC_PHONE\n",
    "    iqvia_phone = row.IQVIA_PHONE\n",
    "    if symph_phone == phone:\n",
    "        symphony_count += 1\n",
    "    if dhc_phone == phone:\n",
    "        dhc_count += 1\n",
    "    if iqvia_phone == phone:\n",
    "        iqvia_count += 1"
   ]
  },
  {
   "cell_type": "code",
   "execution_count": 46,
   "metadata": {},
   "outputs": [
    {
     "data": {
      "text/plain": [
       "28645"
      ]
     },
     "execution_count": 46,
     "metadata": {},
     "output_type": "execute_result"
    }
   ],
   "source": [
    "dhc_count"
   ]
  },
  {
   "cell_type": "code",
   "execution_count": 49,
   "metadata": {},
   "outputs": [],
   "source": [
    "sample = phone_matches[phone_matches.MATCHED!=0].sort_values('MATCHED', ascending=False).drop_duplicates(['ME','PHONE_NPI'], keep='first')"
   ]
  },
  {
   "cell_type": "code",
   "execution_count": 52,
   "metadata": {},
   "outputs": [],
   "source": [
    "sample = sample[['ME','PHONE_NPI']]"
   ]
  },
  {
   "cell_type": "code",
   "execution_count": 54,
   "metadata": {},
   "outputs": [],
   "source": [
    "sample = sample.rename(columns={'PHONE_NPI':'phone_number'})"
   ]
  },
  {
   "cell_type": "code",
   "execution_count": 59,
   "metadata": {},
   "outputs": [],
   "source": [
    "sample['FAX']=None"
   ]
  },
  {
   "cell_type": "code",
   "execution_count": 61,
   "metadata": {},
   "outputs": [],
   "source": [
    "sample['SOURCE']='NPI'"
   ]
  },
  {
   "cell_type": "code",
   "execution_count": 62,
   "metadata": {},
   "outputs": [],
   "source": [
    "sample['VERIFIED_DATE']='04/20/2022'"
   ]
  },
  {
   "cell_type": "code",
   "execution_count": 63,
   "metadata": {},
   "outputs": [],
   "source": [
    "sample['LOAD_TYPE']=''"
   ]
  },
  {
   "cell_type": "code",
   "execution_count": 64,
   "metadata": {},
   "outputs": [],
   "source": [
    "sample['FAX']=''"
   ]
  },
  {
   "cell_type": "code",
   "execution_count": 66,
   "metadata": {},
   "outputs": [],
   "source": [
    "sample.to_csv('../../Data/NPI/NPI_VERIFIED_PHONE_LOAD_042022.csv', index=False)"
   ]
  },
  {
   "cell_type": "code",
   "execution_count": null,
   "metadata": {},
   "outputs": [],
   "source": []
  }
 ],
 "metadata": {
  "kernelspec": {
   "display_name": "Python 3",
   "language": "python",
   "name": "python3"
  },
  "language_info": {
   "codemirror_mode": {
    "name": "ipython",
    "version": 3
   },
   "file_extension": ".py",
   "mimetype": "text/x-python",
   "name": "python",
   "nbconvert_exporter": "python",
   "pygments_lexer": "ipython3",
   "version": "3.7.4"
  }
 },
 "nbformat": 4,
 "nbformat_minor": 2
}
