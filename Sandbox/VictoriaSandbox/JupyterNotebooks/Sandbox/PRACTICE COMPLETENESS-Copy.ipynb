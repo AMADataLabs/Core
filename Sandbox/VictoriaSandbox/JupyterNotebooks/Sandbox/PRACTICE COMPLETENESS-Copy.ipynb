{
 "cells": [
  {
   "cell_type": "code",
   "execution_count": 1,
   "metadata": {},
   "outputs": [],
   "source": [
    "#Import Libraries\n",
    "import pandas as pd\n",
    "import useful_functions as use\n",
    "import psycopg2\n",
    "import pyodbc\n",
    "from datetime import datetime, date\n",
    "from tqdm.notebook import tqdm"
   ]
  },
  {
   "cell_type": "code",
   "execution_count": 2,
   "metadata": {},
   "outputs": [],
   "source": [
    "#Connect to OneView\n",
    "conn = psycopg2.connect(\n",
    "    host='oneview-prd-content-aurora-cluster.cluster-cxgp9osuwqi3.us-east-1.rds.amazonaws.com',\n",
    "    database='oneview_content',\n",
    "    user='oneviewadmin',\n",
    "    password='VFauC8cRXqKapC8A')"
   ]
  },
  {
   "cell_type": "code",
   "execution_count": 7,
   "metadata": {},
   "outputs": [],
   "source": [
    "#Connect to EDW\n",
    "username = EDW_USERNAME\n",
    "password_edw = EDW_PASSWORD\n",
    "w = \"DSN=PRDDW; UID={}; PWD={}\".format(username, password_edw)\n",
    "AMAEDW = pyodbc.connect(w)"
   ]
  },
  {
   "cell_type": "code",
   "execution_count": 8,
   "metadata": {},
   "outputs": [],
   "source": [
    "#Get MEs from OneView\n",
    "ov_me_sql = '''\n",
    "    SELECT medical_education_number,type FROM ONEVIEW.physician\n",
    "    '''\n",
    "ov_me = pd.read_sql_query(ov_me_sql, conn)"
   ]
  },
  {
   "cell_type": "code",
   "execution_count": 9,
   "metadata": {},
   "outputs": [],
   "source": [
    "#Get Party IDs from EDW\n",
    "ME_QUERY = \\\n",
    "    f\"\"\"\n",
    "    SELECT\n",
    "    P.PARTY_ID,\n",
    "    P.KEY_VAL AS ME\n",
    "    FROM\n",
    "    AMAEDW.PARTY_KEY P\n",
    "    WHERE\n",
    "    P.KEY_TYPE_ID = 18\n",
    "    AND\n",
    "    P.ACTIVE_IND='Y'\n",
    "    \"\"\"\n",
    "party_ids = pd.read_sql(con=AMAEDW, sql=ME_QUERY)"
   ]
  },
  {
   "cell_type": "code",
   "execution_count": 10,
   "metadata": {},
   "outputs": [],
   "source": [
    "#Get TOP and PE from EDW\n",
    "MED_QUERY = \\\n",
    "    \"\"\"\n",
    "    SELECT\n",
    "    TOP_ID,\n",
    "    EMPLOYER_ID,\n",
    "    PARTY_ID\n",
    "    FROM\n",
    "    AMAEDW.MED_PROF\n",
    "    WHERE\n",
    "    THRU_DT IS NULL\n",
    "    \"\"\"\n",
    "MED_PROF = pd.read_sql(con=AMAEDW, sql=MED_QUERY)"
   ]
  },
  {
   "cell_type": "code",
   "execution_count": 11,
   "metadata": {},
   "outputs": [],
   "source": [
    "#Get MPA codes from EDW\n",
    "MPA_QUERY = \\\n",
    "    \"\"\"\n",
    "    SELECT\n",
    "    MPA_CD,\n",
    "    TOP_ID,\n",
    "    EMPLOYER_ID,\n",
    "    DESC\n",
    "    FROM\n",
    "    AMAEDW.MPA\n",
    "    WHERE\n",
    "    ACTIVE_IND='Y'\n",
    "    \"\"\"\n",
    "MPA = pd.read_sql(con=AMAEDW, sql=MPA_QUERY)"
   ]
  },
  {
   "cell_type": "code",
   "execution_count": 12,
   "metadata": {},
   "outputs": [],
   "source": [
    "#Get specialties from EDW\n",
    "SPEC_QUERY = \\\n",
    "    \"\"\"\n",
    "    SELECT\n",
    "    M.PARTY_ID,\n",
    "    M.SPEC_ID,\n",
    "    M.PREFE_LVL\n",
    "    FROM\n",
    "    AMAEDW.MED_SPEC M\n",
    "    \"\"\"\n",
    "SPEC = pd.read_sql(con=AMAEDW, sql=SPEC_QUERY)"
   ]
  },
  {
   "cell_type": "code",
   "execution_count": 13,
   "metadata": {},
   "outputs": [],
   "source": [
    "#Get award in info from EDW\n",
    "AWARD_QUERY = \\\n",
    "    \"\"\"\n",
    "    SELECT\n",
    "    PARTY_ID,\n",
    "    EXPIRATION_DT\n",
    "    FROM\n",
    "    AMAEDW.PRA_CERTIFICATE\n",
    "    WHERE\n",
    "    PRA_STATUS_DESC='Approved'\n",
    "    \"\"\"\n",
    "AWARD = pd.read_sql(con=AMAEDW, sql=AWARD_QUERY)"
   ]
  },
  {
   "cell_type": "code",
   "execution_count": 14,
   "metadata": {},
   "outputs": [],
   "source": [
    "#Convert expiration date to datetime\n",
    "AWARD.EXPIRATION_DT = pd.to_datetime(AWARD.EXPIRATION_DT)"
   ]
  },
  {
   "cell_type": "code",
   "execution_count": 15,
   "metadata": {},
   "outputs": [],
   "source": [
    "#Merge EDW data to OneView to limit universe\n",
    "ov_universe = pd.merge(party_ids, ov_me, left_on='ME', right_on='medical_education_number')"
   ]
  },
  {
   "cell_type": "code",
   "execution_count": 16,
   "metadata": {},
   "outputs": [],
   "source": [
    "#Get only active awards\n",
    "wards = AWARD[AWARD.EXPIRATION_DT>datetime.today()].sort_values('EXPIRATION_DT').drop_duplicates('PARTY_ID', keep='last')"
   ]
  },
  {
   "cell_type": "code",
   "execution_count": 17,
   "metadata": {},
   "outputs": [],
   "source": [
    "#Merge all data\n",
    "ALL = pd.merge(ov_universe, MED_PROF, on='PARTY_ID', how='left')\n",
    "ALL = pd.merge(ALL, SPEC[SPEC.PREFE_LVL==1], on='PARTY_ID', how='left')\n",
    "ALL = pd.merge(ALL, SPEC[SPEC.PREFE_LVL==2], on='PARTY_ID', suffixes = ['_PRIM','_SEC'], how='left')\n",
    "ALL = pd.merge(ALL, MPA, on=['TOP_ID','EMPLOYER_ID'], how='left')\n",
    "ALL = pd.merge(ALL, wards, on='PARTY_ID', how='left')"
   ]
  },
  {
   "cell_type": "code",
   "execution_count": 19,
   "metadata": {},
   "outputs": [],
   "source": [
    "#Iterate through the dataframe calculating completeness for each datatype\n",
    "today = date.today()\n",
    "types = ['Physician','Student','Resident']\n",
    "elements = [\n",
    "    {'data_element': 'TOP',\n",
    "     'element':'TOP_ID',\n",
    "    'null': 115.0},\n",
    "    {'data_element': 'PE',\n",
    "     'element':'EMPLOYER_ID',\n",
    "    'null': 391.0},\n",
    "    {'data_element': 'MPA',\n",
    "     'element':'MPA_CD',\n",
    "    'null': 'NCL'},\n",
    "    {'data_element': 'Primary Specialty',\n",
    "     'element':'SPEC_ID_PRIM',\n",
    "    'null': 1883},\n",
    "    {'data_element': 'Secondary Specialty',\n",
    "     'element':'SPEC_ID_SEC',\n",
    "    'null': 1883},\n",
    "    {'data_element': 'PRA Award Flag',\n",
    "     'element':'EXPIRATION_DT',\n",
    "    'null': ''}\n",
    "]\n",
    "dict_list = []\n",
    "for typo in types:\n",
    "    total = len(ALL[ALL.type==typo])\n",
    "    for element in elements:\n",
    "        complete = len(ALL[(ALL.type==typo)&~(ALL[element['element']].isna())])\n",
    "        true_complete = len(ALL[(ALL.type==typo)&(ALL[element['element']]!=element['null'])&~(ALL[element['element']].isna())])\n",
    "        new_dict = {\n",
    "            'Universe': typo,\n",
    "            'Data Element': element['data_element'],\n",
    "            'Complete': complete,\n",
    "            'Complete and Known': true_complete,\n",
    "            'Universe Total': total,\n",
    "            'Date': today,\n",
    "            'Measure':'Completeness'\n",
    "        }\n",
    "        dict_list.append(new_dict)"
   ]
  },
  {
   "cell_type": "code",
   "execution_count": 21,
   "metadata": {},
   "outputs": [],
   "source": [
    "#Save\n",
    "pd.DataFrame(dict_list).to_csv(f'../../Data/Measurement/Practice_Completeness_{str(date.today())}.csv', index=False)"
   ]
  },
  {
   "cell_type": "code",
   "execution_count": null,
   "metadata": {},
   "outputs": [],
   "source": []
  }
 ],
 "metadata": {
  "kernelspec": {
   "display_name": "Python 3",
   "language": "python",
   "name": "python3"
  },
  "language_info": {
   "codemirror_mode": {
    "name": "ipython",
    "version": 3
   },
   "file_extension": ".py",
   "mimetype": "text/x-python",
   "name": "python",
   "nbconvert_exporter": "python",
   "pygments_lexer": "ipython3",
   "version": "3.7.4"
  }
 },
 "nbformat": 4,
 "nbformat_minor": 2
}
