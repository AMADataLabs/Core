{
 "cells": [
  {
   "cell_type": "code",
   "execution_count": 1,
   "metadata": {},
   "outputs": [],
   "source": [
    "import pandas as pd\n",
    "import pyodbc\n",
    "username = 'vigrose'\n",
    "password_aims = 'DQA8K@T7pXEqEt'\n",
    "password_edw = 'Hufflepuff10946'"
   ]
  },
  {
   "cell_type": "code",
   "execution_count": 3,
   "metadata": {},
   "outputs": [],
   "source": [
    "scraped_old = pd.read_csv('../../Data/SRS/SRS_Scrape_2021-03-19.csv')\n",
    "# scraped = pd.read_csv('../../Data/SRS/SRS_Scrape_2021-06-03.csv')"
   ]
  },
  {
   "cell_type": "code",
   "execution_count": 6,
   "metadata": {},
   "outputs": [
    {
     "data": {
      "text/plain": [
       "Index(['AAMC ID', 'Birth Country', 'Birth County', 'Birth State',\n",
       "       'Citizen Country', 'Curr Class Level', 'Curr Class Level Eff Date',\n",
       "       'Curr Exp Grad Date', 'Curr Med School Campus', 'Curr Status',\n",
       "       ...\n",
       "       'Unnamed: 41', 'Unnamed: 45', 'Unnamed: 49', 'Unnamed: 53',\n",
       "       'Unnamed: 57', 'Unnamed: 61', 'Unnamed: 65', 'Unnamed: 69',\n",
       "       'Unnamed: 85', 'Visa Desc'],\n",
       "      dtype='object', length=118)"
      ]
     },
     "execution_count": 6,
     "metadata": {},
     "output_type": "execute_result"
    }
   ],
   "source": [
    "scraped_old.columns"
   ]
  },
  {
   "cell_type": "code",
   "execution_count": 8,
   "metadata": {},
   "outputs": [
    {
     "data": {
      "text/html": [
       "<div>\n",
       "<style scoped>\n",
       "    .dataframe tbody tr th:only-of-type {\n",
       "        vertical-align: middle;\n",
       "    }\n",
       "\n",
       "    .dataframe tbody tr th {\n",
       "        vertical-align: top;\n",
       "    }\n",
       "\n",
       "    .dataframe thead th {\n",
       "        text-align: right;\n",
       "    }\n",
       "</style>\n",
       "<table border=\"1\" class=\"dataframe\">\n",
       "  <thead>\n",
       "    <tr style=\"text-align: right;\">\n",
       "      <th></th>\n",
       "      <th>AAMC ID</th>\n",
       "      <th>Birth Country</th>\n",
       "      <th>Birth County</th>\n",
       "      <th>Birth State</th>\n",
       "      <th>Citizen Country</th>\n",
       "      <th>Curr Class Level</th>\n",
       "      <th>Curr Class Level Eff Date</th>\n",
       "      <th>Curr Exp Grad Date</th>\n",
       "      <th>Curr Med School Campus</th>\n",
       "      <th>Curr Status</th>\n",
       "      <th>...</th>\n",
       "      <th>Unnamed: 41</th>\n",
       "      <th>Unnamed: 45</th>\n",
       "      <th>Unnamed: 49</th>\n",
       "      <th>Unnamed: 53</th>\n",
       "      <th>Unnamed: 57</th>\n",
       "      <th>Unnamed: 61</th>\n",
       "      <th>Unnamed: 65</th>\n",
       "      <th>Unnamed: 69</th>\n",
       "      <th>Unnamed: 85</th>\n",
       "      <th>Visa Desc</th>\n",
       "    </tr>\n",
       "  </thead>\n",
       "  <tbody>\n",
       "    <tr>\n",
       "      <td>3117</td>\n",
       "      <td>14855538</td>\n",
       "      <td>United States of America (the)</td>\n",
       "      <td>Marion</td>\n",
       "      <td>Ohio</td>\n",
       "      <td>United States of America (the)</td>\n",
       "      <td>4</td>\n",
       "      <td>07/01/2020</td>\n",
       "      <td>05/01/2021</td>\n",
       "      <td>NaN</td>\n",
       "      <td>Adv-Std From Dental</td>\n",
       "      <td>...</td>\n",
       "      <td>NaN</td>\n",
       "      <td>NaN</td>\n",
       "      <td>NaN</td>\n",
       "      <td>NaN</td>\n",
       "      <td>NaN</td>\n",
       "      <td>NaN</td>\n",
       "      <td>NaN</td>\n",
       "      <td>NaN</td>\n",
       "      <td>NaN</td>\n",
       "      <td>NaN</td>\n",
       "    </tr>\n",
       "    <tr>\n",
       "      <td>3174</td>\n",
       "      <td>15368442</td>\n",
       "      <td>United States of America (the)</td>\n",
       "      <td>Middlesex</td>\n",
       "      <td>Massachusetts</td>\n",
       "      <td>United States of America (the)</td>\n",
       "      <td>2</td>\n",
       "      <td>07/13/2020</td>\n",
       "      <td>05/01/2023</td>\n",
       "      <td>NaN</td>\n",
       "      <td>Adv-Std From Dental</td>\n",
       "      <td>...</td>\n",
       "      <td>NaN</td>\n",
       "      <td>NaN</td>\n",
       "      <td>NaN</td>\n",
       "      <td>NaN</td>\n",
       "      <td>NaN</td>\n",
       "      <td>NaN</td>\n",
       "      <td>NaN</td>\n",
       "      <td>NaN</td>\n",
       "      <td>NaN</td>\n",
       "      <td>NaN</td>\n",
       "    </tr>\n",
       "    <tr>\n",
       "      <td>3225</td>\n",
       "      <td>15068143</td>\n",
       "      <td>United States of America (the)</td>\n",
       "      <td>Orange</td>\n",
       "      <td>California</td>\n",
       "      <td>United States of America (the)</td>\n",
       "      <td>3</td>\n",
       "      <td>07/01/2020</td>\n",
       "      <td>05/01/2022</td>\n",
       "      <td>NaN</td>\n",
       "      <td>Adv-Std From Dental</td>\n",
       "      <td>...</td>\n",
       "      <td>NaN</td>\n",
       "      <td>NaN</td>\n",
       "      <td>NaN</td>\n",
       "      <td>NaN</td>\n",
       "      <td>NaN</td>\n",
       "      <td>NaN</td>\n",
       "      <td>NaN</td>\n",
       "      <td>NaN</td>\n",
       "      <td>NaN</td>\n",
       "      <td>NaN</td>\n",
       "    </tr>\n",
       "    <tr>\n",
       "      <td>3318</td>\n",
       "      <td>15068132</td>\n",
       "      <td>United States of America (the)</td>\n",
       "      <td>Sedgwick</td>\n",
       "      <td>Kansas</td>\n",
       "      <td>United States of America (the)</td>\n",
       "      <td>3</td>\n",
       "      <td>07/01/2020</td>\n",
       "      <td>05/01/2022</td>\n",
       "      <td>NaN</td>\n",
       "      <td>Adv-Std From Dental</td>\n",
       "      <td>...</td>\n",
       "      <td>NaN</td>\n",
       "      <td>NaN</td>\n",
       "      <td>NaN</td>\n",
       "      <td>NaN</td>\n",
       "      <td>NaN</td>\n",
       "      <td>NaN</td>\n",
       "      <td>NaN</td>\n",
       "      <td>NaN</td>\n",
       "      <td>NaN</td>\n",
       "      <td>NaN</td>\n",
       "    </tr>\n",
       "    <tr>\n",
       "      <td>3403</td>\n",
       "      <td>14551645</td>\n",
       "      <td>United States of America (the)</td>\n",
       "      <td>Fairfax City</td>\n",
       "      <td>Virginia</td>\n",
       "      <td>United States of America (the)</td>\n",
       "      <td>2</td>\n",
       "      <td>07/13/2020</td>\n",
       "      <td>05/01/2023</td>\n",
       "      <td>NaN</td>\n",
       "      <td>Adv-Std From Dental</td>\n",
       "      <td>...</td>\n",
       "      <td>NaN</td>\n",
       "      <td>NaN</td>\n",
       "      <td>NaN</td>\n",
       "      <td>NaN</td>\n",
       "      <td>NaN</td>\n",
       "      <td>NaN</td>\n",
       "      <td>NaN</td>\n",
       "      <td>NaN</td>\n",
       "      <td>NaN</td>\n",
       "      <td>NaN</td>\n",
       "    </tr>\n",
       "    <tr>\n",
       "      <td>...</td>\n",
       "      <td>...</td>\n",
       "      <td>...</td>\n",
       "      <td>...</td>\n",
       "      <td>...</td>\n",
       "      <td>...</td>\n",
       "      <td>...</td>\n",
       "      <td>...</td>\n",
       "      <td>...</td>\n",
       "      <td>...</td>\n",
       "      <td>...</td>\n",
       "      <td>...</td>\n",
       "      <td>...</td>\n",
       "      <td>...</td>\n",
       "      <td>...</td>\n",
       "      <td>...</td>\n",
       "      <td>...</td>\n",
       "      <td>...</td>\n",
       "      <td>...</td>\n",
       "      <td>...</td>\n",
       "      <td>...</td>\n",
       "      <td>...</td>\n",
       "    </tr>\n",
       "    <tr>\n",
       "      <td>90575</td>\n",
       "      <td>15290510</td>\n",
       "      <td>China</td>\n",
       "      <td>NaN</td>\n",
       "      <td>Foreign</td>\n",
       "      <td>United States of America (the)</td>\n",
       "      <td>1</td>\n",
       "      <td>08/03/2020</td>\n",
       "      <td>05/31/2024</td>\n",
       "      <td>NaN</td>\n",
       "      <td>Adv-Std From Dental</td>\n",
       "      <td>...</td>\n",
       "      <td>NaN</td>\n",
       "      <td>NaN</td>\n",
       "      <td>NaN</td>\n",
       "      <td>NaN</td>\n",
       "      <td>NaN</td>\n",
       "      <td>NaN</td>\n",
       "      <td>NaN</td>\n",
       "      <td>NaN</td>\n",
       "      <td>NaN</td>\n",
       "      <td>NaN</td>\n",
       "    </tr>\n",
       "    <tr>\n",
       "      <td>90578</td>\n",
       "      <td>13199140</td>\n",
       "      <td>Colombia</td>\n",
       "      <td>NaN</td>\n",
       "      <td>Foreign</td>\n",
       "      <td>United States of America (the)</td>\n",
       "      <td>3</td>\n",
       "      <td>06/09/2020</td>\n",
       "      <td>05/31/2022</td>\n",
       "      <td>NaN</td>\n",
       "      <td>Adv-Std From Dental</td>\n",
       "      <td>...</td>\n",
       "      <td>NaN</td>\n",
       "      <td>NaN</td>\n",
       "      <td>NaN</td>\n",
       "      <td>NaN</td>\n",
       "      <td>NaN</td>\n",
       "      <td>NaN</td>\n",
       "      <td>NaN</td>\n",
       "      <td>NaN</td>\n",
       "      <td>NaN</td>\n",
       "      <td>NaN</td>\n",
       "    </tr>\n",
       "    <tr>\n",
       "      <td>90620</td>\n",
       "      <td>15102475</td>\n",
       "      <td>United States of America (the)</td>\n",
       "      <td>Montgomery</td>\n",
       "      <td>Maryland</td>\n",
       "      <td>United States of America (the)</td>\n",
       "      <td>2</td>\n",
       "      <td>09/02/2020</td>\n",
       "      <td>05/31/2023</td>\n",
       "      <td>NaN</td>\n",
       "      <td>Adv-Std From Dental</td>\n",
       "      <td>...</td>\n",
       "      <td>NaN</td>\n",
       "      <td>NaN</td>\n",
       "      <td>NaN</td>\n",
       "      <td>NaN</td>\n",
       "      <td>NaN</td>\n",
       "      <td>NaN</td>\n",
       "      <td>NaN</td>\n",
       "      <td>NaN</td>\n",
       "      <td>NaN</td>\n",
       "      <td>NaN</td>\n",
       "    </tr>\n",
       "    <tr>\n",
       "      <td>90624</td>\n",
       "      <td>14876454</td>\n",
       "      <td>United States of America (the)</td>\n",
       "      <td>Philadelphia</td>\n",
       "      <td>Pennsylvania</td>\n",
       "      <td>United States of America (the)</td>\n",
       "      <td>3</td>\n",
       "      <td>06/09/2020</td>\n",
       "      <td>05/31/2022</td>\n",
       "      <td>NaN</td>\n",
       "      <td>Adv-Std From Dental</td>\n",
       "      <td>...</td>\n",
       "      <td>NaN</td>\n",
       "      <td>NaN</td>\n",
       "      <td>NaN</td>\n",
       "      <td>NaN</td>\n",
       "      <td>NaN</td>\n",
       "      <td>NaN</td>\n",
       "      <td>NaN</td>\n",
       "      <td>NaN</td>\n",
       "      <td>NaN</td>\n",
       "      <td>NaN</td>\n",
       "    </tr>\n",
       "    <tr>\n",
       "      <td>90690</td>\n",
       "      <td>15102477</td>\n",
       "      <td>United States of America (the)</td>\n",
       "      <td>Nassau</td>\n",
       "      <td>New York</td>\n",
       "      <td>United States of America (the)</td>\n",
       "      <td>2</td>\n",
       "      <td>09/02/2020</td>\n",
       "      <td>05/31/2023</td>\n",
       "      <td>NaN</td>\n",
       "      <td>Adv-Std From Dental</td>\n",
       "      <td>...</td>\n",
       "      <td>NaN</td>\n",
       "      <td>NaN</td>\n",
       "      <td>NaN</td>\n",
       "      <td>NaN</td>\n",
       "      <td>NaN</td>\n",
       "      <td>NaN</td>\n",
       "      <td>NaN</td>\n",
       "      <td>NaN</td>\n",
       "      <td>NaN</td>\n",
       "      <td>NaN</td>\n",
       "    </tr>\n",
       "  </tbody>\n",
       "</table>\n",
       "<p>239 rows × 118 columns</p>\n",
       "</div>"
      ],
      "text/plain": [
       "        AAMC ID                   Birth Country  Birth County    Birth State  \\\n",
       "3117   14855538  United States of America (the)        Marion           Ohio   \n",
       "3174   15368442  United States of America (the)     Middlesex  Massachusetts   \n",
       "3225   15068143  United States of America (the)        Orange     California   \n",
       "3318   15068132  United States of America (the)      Sedgwick         Kansas   \n",
       "3403   14551645  United States of America (the)  Fairfax City       Virginia   \n",
       "...         ...                             ...           ...            ...   \n",
       "90575  15290510                           China           NaN        Foreign   \n",
       "90578  13199140                        Colombia           NaN        Foreign   \n",
       "90620  15102475  United States of America (the)    Montgomery       Maryland   \n",
       "90624  14876454  United States of America (the)  Philadelphia   Pennsylvania   \n",
       "90690  15102477  United States of America (the)        Nassau       New York   \n",
       "\n",
       "                      Citizen Country  Curr Class Level  \\\n",
       "3117   United States of America (the)                 4   \n",
       "3174   United States of America (the)                 2   \n",
       "3225   United States of America (the)                 3   \n",
       "3318   United States of America (the)                 3   \n",
       "3403   United States of America (the)                 2   \n",
       "...                               ...               ...   \n",
       "90575  United States of America (the)                 1   \n",
       "90578  United States of America (the)                 3   \n",
       "90620  United States of America (the)                 2   \n",
       "90624  United States of America (the)                 3   \n",
       "90690  United States of America (the)                 2   \n",
       "\n",
       "      Curr Class Level Eff Date Curr Exp Grad Date Curr Med School Campus  \\\n",
       "3117                 07/01/2020         05/01/2021                    NaN   \n",
       "3174                 07/13/2020         05/01/2023                    NaN   \n",
       "3225                 07/01/2020         05/01/2022                    NaN   \n",
       "3318                 07/01/2020         05/01/2022                    NaN   \n",
       "3403                 07/13/2020         05/01/2023                    NaN   \n",
       "...                         ...                ...                    ...   \n",
       "90575                08/03/2020         05/31/2024                    NaN   \n",
       "90578                06/09/2020         05/31/2022                    NaN   \n",
       "90620                09/02/2020         05/31/2023                    NaN   \n",
       "90624                06/09/2020         05/31/2022                    NaN   \n",
       "90690                09/02/2020         05/31/2023                    NaN   \n",
       "\n",
       "               Curr Status  ...  Unnamed: 41 Unnamed: 45 Unnamed: 49  \\\n",
       "3117   Adv-Std From Dental  ...          NaN         NaN         NaN   \n",
       "3174   Adv-Std From Dental  ...          NaN         NaN         NaN   \n",
       "3225   Adv-Std From Dental  ...          NaN         NaN         NaN   \n",
       "3318   Adv-Std From Dental  ...          NaN         NaN         NaN   \n",
       "3403   Adv-Std From Dental  ...          NaN         NaN         NaN   \n",
       "...                    ...  ...          ...         ...         ...   \n",
       "90575  Adv-Std From Dental  ...          NaN         NaN         NaN   \n",
       "90578  Adv-Std From Dental  ...          NaN         NaN         NaN   \n",
       "90620  Adv-Std From Dental  ...          NaN         NaN         NaN   \n",
       "90624  Adv-Std From Dental  ...          NaN         NaN         NaN   \n",
       "90690  Adv-Std From Dental  ...          NaN         NaN         NaN   \n",
       "\n",
       "      Unnamed: 53 Unnamed: 57  Unnamed: 61 Unnamed: 65 Unnamed: 69  \\\n",
       "3117          NaN         NaN          NaN         NaN         NaN   \n",
       "3174          NaN         NaN          NaN         NaN         NaN   \n",
       "3225          NaN         NaN          NaN         NaN         NaN   \n",
       "3318          NaN         NaN          NaN         NaN         NaN   \n",
       "3403          NaN         NaN          NaN         NaN         NaN   \n",
       "...           ...         ...          ...         ...         ...   \n",
       "90575         NaN         NaN          NaN         NaN         NaN   \n",
       "90578         NaN         NaN          NaN         NaN         NaN   \n",
       "90620         NaN         NaN          NaN         NaN         NaN   \n",
       "90624         NaN         NaN          NaN         NaN         NaN   \n",
       "90690         NaN         NaN          NaN         NaN         NaN   \n",
       "\n",
       "      Unnamed: 85 Visa Desc  \n",
       "3117          NaN       NaN  \n",
       "3174          NaN       NaN  \n",
       "3225          NaN       NaN  \n",
       "3318          NaN       NaN  \n",
       "3403          NaN       NaN  \n",
       "...           ...       ...  \n",
       "90575         NaN       NaN  \n",
       "90578         NaN       NaN  \n",
       "90620         NaN       NaN  \n",
       "90624         NaN       NaN  \n",
       "90690         NaN       NaN  \n",
       "\n",
       "[239 rows x 118 columns]"
      ]
     },
     "execution_count": 8,
     "metadata": {},
     "output_type": "execute_result"
    }
   ],
   "source": [
    "scraped_old[scraped_old['Curr Status']=='Adv-Std From Dental']"
   ]
  },
  {
   "cell_type": "code",
   "execution_count": null,
   "metadata": {},
   "outputs": [],
   "source": [
    "s = \"DSN=aims_prod; UID={}; PWD={}\".format(username, password_aims)\n",
    "informix = pyodbc.connect(s)"
   ]
  },
  {
   "cell_type": "code",
   "execution_count": null,
   "metadata": {},
   "outputs": [],
   "source": [
    "query_5 = \\\n",
    "    f'''\n",
    "    SELECT \n",
    "    E.KEY_TYPE_VAL AS AAMC_ID,\n",
    "    E.ENTITY_ID\n",
    "    FROM informix.ENTITY_KEY_ET E\n",
    "    WHERE\n",
    "    E.KEY_TYPE = 'AMC'\n",
    "    ;\n",
    "    '''\n",
    "active_aamc = pd.read_sql(con=informix, sql=query_5)\n",
    "active_aamc.head()"
   ]
  },
  {
   "cell_type": "code",
   "execution_count": null,
   "metadata": {},
   "outputs": [],
   "source": [
    "no_aamc_id = scraped_old[scraped_old['AAMC ID'].isin(active_aamc.aamc_id)==False].drop_duplicates('AAMC ID')"
   ]
  },
  {
   "cell_type": "code",
   "execution_count": null,
   "metadata": {},
   "outputs": [],
   "source": [
    "query_3 = \\\n",
    "    f'''\n",
    "    SELECT \n",
    "    P.ENTITY_ID,\n",
    "    P.GENDER,\n",
    "    P.BIRTH_DT,\n",
    "    P.BIRTH_STATE_CD,\n",
    "    P.ETHNICITY,\n",
    "    P.BIRTH_CITY_CD,\n",
    "    N.FIRST_NM,\n",
    "    N.MIDDLE_NM,\n",
    "    N.LAST_NM,\n",
    "    S.STUD_ID,\n",
    "    S.SCHOOL_ID,\n",
    "    S.EDU_STS,\n",
    "    S.GRAD_YR,\n",
    "    S.EDU_PREF_CD,\n",
    "    S.DEGREE_CD\n",
    "    FROM\n",
    "    informix.PERSON_NAME_ET N, informix.PERSON_ET P, informix.SCHOOL_ATT_ST S\n",
    "    WHERE\n",
    "    P.ENTITY_ID = N.ENTITY_ID\n",
    "    AND\n",
    "    P.CURR_PERSON_TYPE = 'S'\n",
    "    AND\n",
    "    N.END_DT IS NULL\n",
    "    AND\n",
    "    N.NAME_TYPE='LN'\n",
    "    AND\n",
    "    P.ENTITY_ID = S.STUD_ID\n",
    "    ;\n",
    "    '''\n",
    "all_students = pd.read_sql(con=informix, sql=query_3)\n",
    "all_students.head()"
   ]
  },
  {
   "cell_type": "code",
   "execution_count": null,
   "metadata": {},
   "outputs": [],
   "source": [
    "def clean_missing(missing):\n",
    "    missing = missing.fillna('None')\n",
    "    missing['last_nm'] = [x.split(', ')[0] for x in missing.Name]\n",
    "    missing['first_middle'] = [x.split(', ')[1] for x in missing.Name]\n",
    "    missing['birth_state_cd'] = [us_state_abbrev[x] if x in us_state_abbrev.keys() else x for x in missing['Birth State']]\n",
    "    missing['birth'] = pd.to_datetime(missing['Date of Birth'])\n",
    "    return(missing)"
   ]
  },
  {
   "cell_type": "code",
   "execution_count": null,
   "metadata": {},
   "outputs": [],
   "source": [
    "def get_birth(all_students):\n",
    "    with_birth = all_students[all_students.birth_dt!='None']\n",
    "    with_birth['birth'] = pd.to_datetime([str(x).replace(' ','') for x in with_birth.birth_dt])\n",
    "    return(with_birth)"
   ]
  },
  {
   "cell_type": "code",
   "execution_count": null,
   "metadata": {},
   "outputs": [],
   "source": [
    "all_students.birth_dt"
   ]
  },
  {
   "cell_type": "code",
   "execution_count": null,
   "metadata": {},
   "outputs": [],
   "source": [
    "no_id = clean_missing(no_aamc_id)"
   ]
  },
  {
   "cell_type": "code",
   "execution_count": null,
   "metadata": {},
   "outputs": [],
   "source": [
    "us_state_abbrev = {\n",
    "    'Alabama': 'AL',\n",
    "    'Alaska': 'AK',\n",
    "    'American Samoa': 'AS',\n",
    "    'Arizona': 'AZ',\n",
    "    'Arkansas': 'AR',\n",
    "    'California': 'CA',\n",
    "    'Colorado': 'CO',\n",
    "    'Connecticut': 'CT',\n",
    "    'Delaware': 'DE',\n",
    "    'District of Columbia': 'DC',\n",
    "    'Florida': 'FL',\n",
    "    'Georgia': 'GA',\n",
    "    'Guam': 'GU',\n",
    "    'Hawaii': 'HI',\n",
    "    'Idaho': 'ID',\n",
    "    'Illinois': 'IL',\n",
    "    'Indiana': 'IN',\n",
    "    'Iowa': 'IA',\n",
    "    'Kansas': 'KS',\n",
    "    'Kentucky': 'KY',\n",
    "    'Louisiana': 'LA',\n",
    "    'Maine': 'ME',\n",
    "    'Maryland': 'MD',\n",
    "    'Massachusetts': 'MA',\n",
    "    'Michigan': 'MI',\n",
    "    'Minnesota': 'MN',\n",
    "    'Mississippi': 'MS',\n",
    "    'Missouri': 'MO',\n",
    "    'Montana': 'MT',\n",
    "    'Nebraska': 'NE',\n",
    "    'Nevada': 'NV',\n",
    "    'New Hampshire': 'NH',\n",
    "    'New Jersey': 'NJ',\n",
    "    'New Mexico': 'NM',\n",
    "    'New York': 'NY',\n",
    "    'North Carolina': 'NC',\n",
    "    'North Dakota': 'ND',\n",
    "    'Northern Mariana Islands':'MP',\n",
    "    'Ohio': 'OH',\n",
    "    'Oklahoma': 'OK',\n",
    "    'Oregon': 'OR',\n",
    "    'Pennsylvania': 'PA',\n",
    "    'Puerto Rico': 'PR',\n",
    "    'Rhode Island': 'RI',\n",
    "    'South Carolina': 'SC',\n",
    "    'South Dakota': 'SD',\n",
    "    'Tennessee': 'TN',\n",
    "    'Texas': 'TX',\n",
    "    'Utah': 'UT',\n",
    "    'Vermont': 'VT',\n",
    "    'Virgin Islands': 'VI',\n",
    "    'Virginia': 'VA',\n",
    "    'Washington': 'WA',\n",
    "    'West Virginia': 'WV',\n",
    "    'Wisconsin': 'WI',\n",
    "    'Wyoming': 'WY'\n",
    "}"
   ]
  },
  {
   "cell_type": "code",
   "execution_count": null,
   "metadata": {},
   "outputs": [],
   "source": [
    "query_6 = \\\n",
    "    f'''\n",
    "    SELECT \n",
    "    E.KEY_TYPE_VAL AS ME,\n",
    "    E.ENTITY_ID\n",
    "    FROM informix.ENTITY_KEY_ET E, informix.PERSON_ET P\n",
    "    WHERE\n",
    "    E.KEY_TYPE = 'ME'\n",
    "    AND\n",
    "    P.ENTITY_ID = E.ENTITY_ID\n",
    "    ;\n",
    "    '''\n",
    "me_entity = pd.read_sql(con=informix, sql=query_6)\n",
    "me_entity.head()"
   ]
  },
  {
   "cell_type": "code",
   "execution_count": null,
   "metadata": {},
   "outputs": [],
   "source": [
    "query_7 = \\\n",
    "    f'''\n",
    "    SELECT \n",
    "    E.ENTITY_ID,\n",
    "    E.CATEGORY_CODE,\n",
    "    E.BEGIN_DT,\n",
    "    E.END_DT\n",
    "    FROM informix.ENTITY_CAT_CT E\n",
    "    WHERE\n",
    "    E.CATEGORY_CODE = 'STU-AFFIL'\n",
    "    AND\n",
    "    E.END_DT IS NULL\n",
    "    ;\n",
    "    '''\n",
    "STU_AFFIL = pd.read_sql(con=informix, sql=query_7)\n",
    "STU_AFFIL.head()"
   ]
  },
  {
   "cell_type": "code",
   "execution_count": null,
   "metadata": {},
   "outputs": [],
   "source": [
    "active_aamc['aamc_id'] = active_aamc.aamc_id.astype(int)"
   ]
  },
  {
   "cell_type": "code",
   "execution_count": null,
   "metadata": {},
   "outputs": [],
   "source": [
    "def merge_name(all_students):\n",
    "    first_middles = []\n",
    "    for row in all_students.itertuples():\n",
    "        first = row.first_nm.strip()\n",
    "        if row.middle_nm != 'None':\n",
    "            middle = ' '+ row.middle_nm.strip()\n",
    "        else:\n",
    "            middle = ''\n",
    "        first_middle = first + middle\n",
    "        first_middles.append(first_middle)\n",
    "    all_students['first_middle'] = first_middles\n",
    "    return(all_students)"
   ]
  },
  {
   "cell_type": "code",
   "execution_count": null,
   "metadata": {},
   "outputs": [],
   "source": [
    "all_students['last_nm'] = [x.strip() for x in all_students.last_nm]\n",
    "all_students = merge_name(all_students)"
   ]
  },
  {
   "cell_type": "code",
   "execution_count": null,
   "metadata": {},
   "outputs": [],
   "source": [
    "no_id['birth_dt'] = pd.to_datetime(no_id['Date of Birth'])"
   ]
  },
  {
   "cell_type": "code",
   "execution_count": null,
   "metadata": {},
   "outputs": [],
   "source": [
    "with_birth = all_students[all_students.birth_dt!='None']\n",
    "with_birth['birth_dt'] = pd.to_datetime(with_birth.birth_dt)"
   ]
  },
  {
   "cell_type": "code",
   "execution_count": null,
   "metadata": {},
   "outputs": [],
   "source": [
    "no_id['Name']"
   ]
  },
  {
   "cell_type": "code",
   "execution_count": null,
   "metadata": {},
   "outputs": [],
   "source": [
    "on_last = pd.merge(all_students, no_id, left_on = ['last_nm', 'gender'], right_on = ['last_nm', 'Sex']).drop_duplicates('AAMC ID')\n",
    "on_first = pd.merge(all_students, no_id, left_on = ['first_middle', 'gender'], right_on = ['first_middle', 'Sex']).drop_duplicates('AAMC ID')"
   ]
  },
  {
   "cell_type": "code",
   "execution_count": null,
   "metadata": {},
   "outputs": [],
   "source": [
    "so_far = list(on_last['AAMC ID']) + list(on_first['AAMC ID'])\n",
    "check_12 = no_id[no_id['AAMC ID'].isin(so_far)==False]"
   ]
  },
  {
   "cell_type": "code",
   "execution_count": null,
   "metadata": {},
   "outputs": [],
   "source": [
    "check_12[['Name','birth_dt', 'birth_state_cd']][20:40]"
   ]
  },
  {
   "cell_type": "code",
   "execution_count": null,
   "metadata": {},
   "outputs": [],
   "source": [
    "all_students[all_students.last_nm=='Yepes'][['birth_dt', 'birth_state_cd','first_nm','last_nm']]"
   ]
  },
  {
   "cell_type": "code",
   "execution_count": null,
   "metadata": {},
   "outputs": [],
   "source": [
    "all_students[all_students.first_nm=='Amy'][['birth_dt', 'birth_state_cd','last_nm']]"
   ]
  },
  {
   "cell_type": "code",
   "execution_count": null,
   "metadata": {},
   "outputs": [],
   "source": [
    "all_students['first_nm'] = [x.strip() for x in all_students.first_nm]"
   ]
  },
  {
   "cell_type": "code",
   "execution_count": null,
   "metadata": {},
   "outputs": [],
   "source": [
    "pd.merge(with_birth, no_id, left_on = ['birth_dt','last_nm', 'gender'], right_on = ['birth_dt','last_nm', 'Sex'])"
   ]
  },
  {
   "cell_type": "code",
   "execution_count": null,
   "metadata": {},
   "outputs": [],
   "source": [
    "pd.merge(with_birth, no_id, left_on = ['birth_dt','last_nm', 'first_middle','gender', 'birth_state_cd'], right_on = ['birth_dt','last_nm', 'first_middle','Sex', 'birth_state_cd'])"
   ]
  },
  {
   "cell_type": "code",
   "execution_count": null,
   "metadata": {},
   "outputs": [],
   "source": [
    "boop = bop.drop_duplicates(['entity_id', 'aamc_id'])\n",
    "boop = boop[boop.end_dt=='None']\n",
    "match = boop.drop_duplicates('aamc_id',keep=False).sort_values('grad_yr').drop_duplicates('aamc_id', keep='last')"
   ]
  },
  {
   "cell_type": "code",
   "execution_count": null,
   "metadata": {},
   "outputs": [],
   "source": [
    "still_missing = missing[missing.aamc_id.isin(matched.aamc_id)==False]\n",
    "stateless_match = pd.merge(with_birth, still_missing, left_on = ['birth','last_nm', 'first_middle','gender'], right_on = ['birth','last_nm', 'first_middle','Sex'])"
   ]
  },
  {
   "cell_type": "code",
   "execution_count": null,
   "metadata": {},
   "outputs": [],
   "source": [
    "add_match = pd.merge(person_students_3, still_missing, left_on = ['birth','last_nm', 'gender'], right_on = ['birth','last_nm', 'Sex']).drop_duplicates('aamc_id')\n",
    "boopa = still_missing[still_missing.aamc_id.isin(add_match.aamc_id)==False]\n",
    "no_birth_match = pd.merge(without_birth, boopa, left_on = ['first_middle','last_nm', 'gender'], right_on = ['first_middle','last_nm', 'Sex'])[['Name','first_nm','last_nm','birth_state_cd_x','birth_state_cd_y']]"
   ]
  },
  {
   "cell_type": "code",
   "execution_count": null,
   "metadata": {},
   "outputs": [],
   "source": [
    "foreign = missing[missing['Birth State']=='Foreign']\n",
    "foreign_match = pd.merge(with_birth, foreign, left_on = ['birth','last_nm', 'first_middle','gender'], right_on = ['birth','last_nm', 'first_middle','Sex'])\n",
    "foreign_match = foreign_match[foreign_match.end_dt=='None']"
   ]
  },
  {
   "cell_type": "code",
   "execution_count": null,
   "metadata": {},
   "outputs": [],
   "source": [
    "still_missing = missing[missing.aamc_id.isin(matched.aamc_id)==False]\n",
    "stateless_match = pd.merge(with_birth, still_missing, left_on = ['birth','last_nm', 'first_middle','gender'], right_on = ['birth','last_nm', 'first_middle','Sex'])"
   ]
  },
  {
   "cell_type": "code",
   "execution_count": null,
   "metadata": {},
   "outputs": [],
   "source": [
    "stateless_match = stateless_match[stateless_match.end_dt=='None']"
   ]
  },
  {
   "cell_type": "code",
   "execution_count": null,
   "metadata": {},
   "outputs": [],
   "source": [
    "weird_matches = pd.merge(with_birth, still_missing, left_on = ['first_middle','last_nm', 'gender','birth'], right_on = ['first_middle','last_nm', 'Sex', 'birth']).sort_values(['end_dt', 'grad_yr']).drop_duplicates('aamc_id', keep='last')"
   ]
  },
  {
   "cell_type": "code",
   "execution_count": null,
   "metadata": {},
   "outputs": [],
   "source": [
    "no_first = pd.merge(with_birth, still_missing, left_on = ['birth','last_nm', 'gender'], right_on = ['birth','last_nm', 'Sex'])\n",
    "keeps =[]\n",
    "for row in no_first.itertuples():\n",
    "    keep=False\n",
    "    if row.first_nm.replace(' ','') in row.Name:\n",
    "        keep=True\n",
    "    keeps.append(keep)\n",
    "no_first['KEEP']=keeps\n",
    "no_first = no_first[no_first.KEEP==True].drop(columns=['KEEP'])"
   ]
  },
  {
   "cell_type": "code",
   "execution_count": null,
   "metadata": {},
   "outputs": [],
   "source": [
    "matched = pd.concat([match, foreign_match, stateless_match, weird_matches, no_first])\n",
    "matched = matched.drop_duplicates(['aamc_id','entity_id'])\n",
    "matched = matched.sort_values('grad_yr').drop_duplicates('aamc_id', keep='last')"
   ]
  },
  {
   "cell_type": "code",
   "execution_count": null,
   "metadata": {},
   "outputs": [],
   "source": [
    "# pure = matched.drop_duplicates('aamc_id', keep=False)\n",
    "# duplicates = matched[matched.aamc_id.isin(pure.aamc_id)==False]"
   ]
  },
  {
   "cell_type": "code",
   "execution_count": null,
   "metadata": {},
   "outputs": [],
   "source": [
    "status = pd.read_excel('../../Data/SRS/Status_Crosswalk.xlsx')\n",
    "schools = pd.read_excel(\"../../Data/SRS/US_Schools_Crosswalk_AMA_AAMC.xlsx\")"
   ]
  },
  {
   "cell_type": "code",
   "execution_count": null,
   "metadata": {},
   "outputs": [],
   "source": [
    "founded = found_students[found_students['Curr Exp Grad Date']!='None']\n",
    "unfounded = found_students[found_students['Curr Exp Grad Date']=='None']\n",
    "founded['CURRENT_GRAD_YEAR'] = [x.year for x in pd.to_datetime(founded['Curr Exp Grad Date'])]\n",
    "unfounded['CURRENT_GRAD_YEAR'] = 'None'\n",
    "found_students = pd.concat([founded, unfounded])\n",
    "grad_match = []\n",
    "for row in found_students.itertuples():\n",
    "    if row.CURRENT_GRAD_YEAR != row.grad_yr:\n",
    "        grad_match.append(False)\n",
    "    else:\n",
    "        grad_match.append(True)\n",
    "found_students['grad_match'] = grad_match\n",
    "grad_mismatch = found_students[found_students.grad_match == False]\n",
    "grad_mismatch = pd.merge(grad_mismatch, status, left_on='Curr Status', right_on='STATUS_DESC', how='left')\n",
    "grad_mismatch = pd.merge(grad_mismatch, schools, on='INST_ID', how='left')"
   ]
  },
  {
   "cell_type": "code",
   "execution_count": null,
   "metadata": {},
   "outputs": [],
   "source": [
    "student_status = pd.merge(found_students, status, left_on='Curr Status', right_on='STATUS_DESC', how='left')\n",
    "student_status = student_status.rename(columns={'AMA Status':'ama_status'})"
   ]
  },
  {
   "cell_type": "code",
   "execution_count": null,
   "metadata": {},
   "outputs": [],
   "source": [
    "status_match = []\n",
    "for row in student_status.itertuples():\n",
    "    if row.ama_status != row.edu_sts:\n",
    "        status_match.append(False)\n",
    "    else:\n",
    "        status_match.append(True)\n",
    "student_status['status_match'] = status_match\n",
    "status_mismatch = student_status[student_status.status_match == False]\n",
    "status_mismatch = pd.merge(status_mismatch, schools, on='INST_ID', how='left')\n",
    "status_update = status_mismatch[status_mismatch.aamc_id.isin(grad_year.aamc_id)==False]"
   ]
  },
  {
   "cell_type": "code",
   "execution_count": null,
   "metadata": {},
   "outputs": [],
   "source": [
    "not_found[['aamc_id',\n",
    "'Birth Country',\n",
    "'Birth County',\n",
    "'Birth State',\n",
    "'Citizen Country',\n",
    "'Curr Class Level',\n",
    "'Curr Class Level Eff Date',\n",
    "'Curr Exp Grad Date',\n",
    "'Curr Med School Campus',\n",
    "'Curr Status',\n",
    "'Curr Status AcadYear',\n",
    "'Curr Status Date',\n",
    "'Current Degree Program',\n",
    "'Date of Birth',\n",
    "'Email',\n",
    "'INST_ID',\n",
    "'Legal Country',\n",
    "'Legal County',\n",
    "'Legal State',\n",
    "'Matriculation Degree Program',\n",
    "'Name',\n",
    "'Preferred USMLE ID',\n",
    "'RaceEthnicity',\n",
    "'Sex',\n",
    "'Visa Desc',\n",
    "'stud_id',\n",
    "'school_id',\n",
    "'edu_sts',\n",
    "'grad_yr',\n",
    "'edu_pref_cd',\n",
    "'degree_cd',\n",
    "'CURRENT_GRAD_YEAR',\n",
    "'STATUS_CD',\n",
    "'STATUS_DESC',\n",
    "'STATUS_LBL',\n",
    "'AMA Status',\n",
    "'AMA Status Reason',\n",
    "'AMA Rule',\n",
    "'INST_TYPE',\n",
    "'INST_NAME',\n",
    "'AMA_ID']]"
   ]
  },
  {
   "cell_type": "code",
   "execution_count": null,
   "metadata": {},
   "outputs": [],
   "source": [
    "grad_year = grad_mismatch[['aamc_id',\n",
    "  'stud_id',\n",
    "  'grad_yr',\n",
    "  'CURRENT_GRAD_YEAR',\n",
    "'school_id',\n",
    "'edu_sts',\n",
    "'edu_pref_cd',\n",
    "'degree_cd',\n",
    "'STATUS_CD',\n",
    "'STATUS_DESC',\n",
    "'STATUS_LBL',\n",
    "'AMA Status',\n",
    "'AMA Status Reason',\n",
    "'AMA Rule',\n",
    "'INST_TYPE_CD',\n",
    "'INST_NAME_120',\n",
    "'AMA_ID',\n",
    "'Birth Country',\n",
    "'Birth County',\n",
    "'Birth State',\n",
    "'Citizen Country',\n",
    "'Curr Class Level',\n",
    "'Curr Class Level Eff Date',\n",
    "'Curr Exp Grad Date',\n",
    "'Curr Med School Campus',\n",
    "'Curr Status',\n",
    "'Curr Status AcadYear',\n",
    "'Curr Status Date',\n",
    "'Current Degree Program',\n",
    "'Date of Birth',\n",
    "'Email',\n",
    "'INST_ID',\n",
    "'Legal Country',\n",
    "'Legal County',\n",
    "'Legal State',\n",
    "'Matriculation Degree Program',\n",
    "'Name',\n",
    "'Preferred USMLE ID',\n",
    "'RaceEthnicity',\n",
    "'Sex',\n",
    "'Visa Desc']]\n",
    "#.to_csv('../../Data/SRS/SRS_Graduation_Year_Mismatch_2021-01-13.csv', index=False)"
   ]
  },
  {
   "cell_type": "code",
   "execution_count": null,
   "metadata": {},
   "outputs": [],
   "source": [
    "still_missing = pd.merge(still_missing, schools, on='INST_ID', how='left')"
   ]
  },
  {
   "cell_type": "code",
   "execution_count": null,
   "metadata": {},
   "outputs": [],
   "source": [
    "still_missing = still_missing[['INST_ID',\n",
    "'INST_TYPE_CD',\n",
    "'INST_NAME_120',\n",
    "'AMA_ID','aamc_id',\n",
    "'Birth Country',\n",
    "'Birth County',\n",
    "'Birth State',\n",
    "'Citizen Country',\n",
    "'Curr Class Level',\n",
    "'Curr Class Level Eff Date',\n",
    "'Curr Exp Grad Date',\n",
    "'Curr Med School Campus',\n",
    "'Curr Status',\n",
    "'Curr Status AcadYear',\n",
    "'Curr Status Date',\n",
    "'Current Degree Program',\n",
    "'Date of Birth',\n",
    "'Email',\n",
    "'Legal Country',\n",
    "'Legal County',\n",
    "'Legal State',\n",
    "'Matriculation Degree Program',\n",
    "'Name',\n",
    "'Preferred USMLE ID',\n",
    "'RaceEthnicity',\n",
    "'Sex',\n",
    "'Visa Desc']]\n",
    "# .to_csv('../../Data/SRS/SRS_Missing_2021-01-13.csv', index=False)"
   ]
  },
  {
   "cell_type": "code",
   "execution_count": null,
   "metadata": {},
   "outputs": [],
   "source": [
    "status_update = status_update[['aamc_id',\n",
    "  'stud_id',\n",
    "  'grad_yr',\n",
    "  'CURRENT_GRAD_YEAR',\n",
    "'school_id',\n",
    "'edu_sts',\n",
    "'edu_pref_cd',\n",
    "'degree_cd',\n",
    "'STATUS_CD',\n",
    "'STATUS_DESC',\n",
    "'STATUS_LBL',\n",
    "'ama_status',\n",
    "'AMA Status Reason',\n",
    "'AMA Rule',\n",
    "'INST_TYPE_CD',\n",
    "'INST_NAME_120',\n",
    "'AMA_ID',\n",
    "'Birth Country',\n",
    "'Birth County',\n",
    "'Birth State',\n",
    "'Citizen Country',\n",
    "'Curr Class Level',\n",
    "'Curr Class Level Eff Date',\n",
    "'Curr Exp Grad Date',\n",
    "'Curr Med School Campus',\n",
    "'Curr Status',\n",
    "'Curr Status AcadYear',\n",
    "'Curr Status Date',\n",
    "'Current Degree Program',\n",
    "'Date of Birth',\n",
    "'Email',\n",
    "'INST_ID',\n",
    "'Legal Country',\n",
    "'Legal County',\n",
    "'Legal State',\n",
    "'Matriculation Degree Program',\n",
    "'Name',\n",
    "'Preferred USMLE ID',\n",
    "'RaceEthnicity',\n",
    "'Sex',\n",
    "'Visa Desc']]\n",
    "#.to_csv('../../Data/SRS/SRS_Status_Mismatch_2021-01-13.csv', index=False)"
   ]
  },
  {
   "cell_type": "code",
   "execution_count": null,
   "metadata": {},
   "outputs": [],
   "source": [
    "rulz = pd.read_excel('../../Data/SRS/Processing _Rules.xlsx')"
   ]
  },
  {
   "cell_type": "code",
   "execution_count": null,
   "metadata": {},
   "outputs": [],
   "source": [
    "yall = pd.concat([grad_year, status_update]).drop_duplicates('aamc_id')"
   ]
  },
  {
   "cell_type": "code",
   "execution_count": null,
   "metadata": {},
   "outputs": [],
   "source": [
    "stats = pd.merge(rulz, status_update, left_on = ['Curr Status', 'edu_status'], right_on =['Curr Status', 'edu_sts'])"
   ]
  },
  {
   "cell_type": "code",
   "execution_count": null,
   "metadata": {},
   "outputs": [],
   "source": [
    "manual = stats[(stats['PROCESS?']=='N')&(stats['NEW EDU_STS/ACTION']=='Flag for Manual Review')]"
   ]
  },
  {
   "cell_type": "code",
   "execution_count": null,
   "metadata": {},
   "outputs": [],
   "source": [
    "auto = stats[(stats['PROCESS?']=='Y')][['aamc_id','NEW EDU_STS/ACTION','NEW STS REASON','NEW CATEGORY CODE','Curr Status Date','Curr Exp Grad Date']]"
   ]
  },
  {
   "cell_type": "code",
   "execution_count": null,
   "metadata": {},
   "outputs": [],
   "source": [
    "all_other_sts = status_update[(status_update.aamc_id.isin(auto.aamc_id)==False)&(status_update.aamc_id.isin(manual.aamc_id)==False)]"
   ]
  },
  {
   "cell_type": "code",
   "execution_count": null,
   "metadata": {},
   "outputs": [],
   "source": [
    "other_grad = grad_year[(grad_year.aamc_id.isin(auto.aamc_id)==False)&(grad_year.aamc_id.isin(manual.aamc_id)==False)]"
   ]
  },
  {
   "cell_type": "code",
   "execution_count": null,
   "metadata": {},
   "outputs": [],
   "source": [
    "stats[(stats['PROCESS?']=='N')].groupby('NEW EDU_STS/ACTION').count()"
   ]
  },
  {
   "cell_type": "code",
   "execution_count": null,
   "metadata": {},
   "outputs": [],
   "source": [
    "other_sts = status_update[status_update.aamc_id.isin(stats.aamc_id)==False]"
   ]
  },
  {
   "cell_type": "code",
   "execution_count": null,
   "metadata": {},
   "outputs": [],
   "source": [
    "unprocessed = stats[(stats['PROCESS?']=='N')&(stats['NEW EDU_STS/ACTION']!='Flag for Manual Review')]"
   ]
  },
  {
   "cell_type": "code",
   "execution_count": null,
   "metadata": {},
   "outputs": [],
   "source": [
    "len(status_update)"
   ]
  },
  {
   "cell_type": "code",
   "execution_count": null,
   "metadata": {},
   "outputs": [],
   "source": [
    "manual = pd.concat([manual, other_sts])"
   ]
  },
  {
   "cell_type": "code",
   "execution_count": null,
   "metadata": {},
   "outputs": [],
   "source": [
    "# scraped\n",
    "#found\n",
    "# matched\n",
    "# missing\n",
    "# found_students\n",
    "# stu_affil\n",
    "# grad_year\n",
    "# status_update\n",
    "# manual\n",
    "# auto\n",
    "# new\n",
    "print(\n",
    "f'''\n",
    "{\"{:,}\".format(len(scraped_new))} student records in AAMC-SRS scrape\n",
    "{\"{:,}\".format(len(found_info))} ({round(len(found_info)/len(scraped_new)*100, 2)}%) records matched to AIMS on aamc_id\n",
    "{\"{:,}\".format(len(matched))} ({round(len(matched)/len(scraped_new)*100, 2)}%) records found via matching process \n",
    "{\"{:,}\".format(len(me_matched))} ({round(len(me_matched)/len(scraped_new)*100, 2)}%) MEs appended via matching process\n",
    "{\"{:,}\".format(len(still_missing))} ({round(len(still_missing)/len(scraped_new)*100, 2)}%) scraped records missing from our database\n",
    "\n",
    "----\n",
    "\n",
    "Of the records that matched on aamc_id\n",
    "{\"{:,}\".format(len(stu_affil))} ({round(len(stu_affil)/len(found)*100, 2)}%) records are student affiliates\n",
    "{\"{:,}\".format(len(found_students))} ({round(len(found_students)/len(found)*100, 2)}%) records are not student affiliates\n",
    "    \n",
    "----\n",
    "Of the records that are not student affiliates\n",
    "{\"{:,}\".format(len(grad_year))} ({round(len(grad_year)/len(found_students)*100, 2)}%) records have graduation year discrepancies\n",
    "{\"{:,}\".format(len(status_update))} ({round(len(status_update)/len(found_students)*100, 2)}%) records have status discrepancies, but correct graduation year\n",
    "\n",
    "----\n",
    "\n",
    "{\"{:,}\".format(len(manual))} status discrepancies flagged for manual review\n",
    "{\"{:,}\".format(len(auto))} status discrepancies automatically processed\n",
    "{\"{:,}\".format(len(unprocessed))} status discrepancies not processed\n",
    "{\"{:,}\".format(len(new))} record updates since last scrape\n",
    "'''\n",
    ")"
   ]
  },
  {
   "cell_type": "code",
   "execution_count": null,
   "metadata": {},
   "outputs": [],
   "source": [
    "len(missing)"
   ]
  },
  {
   "cell_type": "code",
   "execution_count": null,
   "metadata": {},
   "outputs": [],
   "source": [
    "93,961 student records in AAMC-SRS scrape\n",
    "91,435 (97.31%) records matched to AIMS on aamc_id\n",
    "1,917 (2.04%) MEs appended via matching process\n",
    "609 (0.65%) scraped records missing from our database\n",
    "\n",
    "----\n",
    "\n",
    "Of the records that matched on aamc_id\n",
    "19,764 (21.62%) records are student affiliates\n",
    "71,684 (78.4%) records are not student affiliates\n",
    "    \n",
    "----\n",
    "Of the records that are not student affiliates\n",
    "4,542 (6.34%) records have graduation year discrepancies\n",
    "4,810 (6.71%) records have status discrepancies, but correct graduation year\n",
    "\n",
    "----\n",
    "\n",
    "4,660 status discrepancies flagged for manual review\n",
    "4,692 records automatically processed\n",
    "1,046 record updates since last scrape"
   ]
  },
  {
   "cell_type": "code",
   "execution_count": null,
   "metadata": {},
   "outputs": [],
   "source": [
    "pd.read_excel('../../Data/SRS/US_Schools_Crosswalk_AMA_AAMC.xlsx')"
   ]
  },
  {
   "cell_type": "code",
   "execution_count": null,
   "metadata": {},
   "outputs": [],
   "source": [
    "scraped['Curr Status Date'] = pd.to_datetime(scraped['Curr Status Date'])\n",
    "scraped_new['Curr Status Date'] = pd.to_datetime(scraped_new['Curr Status Date'])"
   ]
  },
  {
   "cell_type": "code",
   "execution_count": null,
   "metadata": {},
   "outputs": [],
   "source": [
    "scraped.columns"
   ]
  },
  {
   "cell_type": "code",
   "execution_count": null,
   "metadata": {},
   "outputs": [],
   "source": [
    "all_scraped = pd.merge(scraped, scraped_new, on='AAMC ID', suffixes = ['_old', ''], how = 'right')"
   ]
  },
  {
   "cell_type": "code",
   "execution_count": null,
   "metadata": {},
   "outputs": [],
   "source": [
    "all_scraped['Time_Diff'] = all_scraped['Curr Status Date'] - all_scraped['Curr Status Date_old']"
   ]
  },
  {
   "cell_type": "code",
   "execution_count": null,
   "metadata": {},
   "outputs": [],
   "source": [
    "new = all_scraped[all_scraped['Time_Diff']!='0 days'][scraped.columns]"
   ]
  },
  {
   "cell_type": "code",
   "execution_count": null,
   "metadata": {},
   "outputs": [],
   "source": [
    "new"
   ]
  },
  {
   "cell_type": "code",
   "execution_count": null,
   "metadata": {},
   "outputs": [],
   "source": [
    "me_matched = pd.merge(matched, me_entity, on='entity_id')"
   ]
  },
  {
   "cell_type": "code",
   "execution_count": null,
   "metadata": {},
   "outputs": [],
   "source": [
    "me_matched"
   ]
  },
  {
   "cell_type": "code",
   "execution_count": null,
   "metadata": {},
   "outputs": [],
   "source": [
    "for col in matched.columns:\n",
    "    print(col)"
   ]
  },
  {
   "cell_type": "code",
   "execution_count": null,
   "metadata": {},
   "outputs": [],
   "source": [
    "me_matched[['me', 'Date of Birth',\n",
    "'birth_dt',\n",
    "'Name',\n",
    "'first_nm',\n",
    "'middle_nm',\n",
    "'last_nm',\n",
    "'gender',\n",
    "'Sex', 'Birth State', 'birth_state_cd',\n",
    "]]"
   ]
  },
  {
   "cell_type": "code",
   "execution_count": null,
   "metadata": {},
   "outputs": [],
   "source": [
    "matched = matched[['me','aamc_id',\n",
    "'entity_id',\n",
    "'school_id', 'category_code',\n",
    "'stud_id', 'Date of Birth',\n",
    "'birth_dt',\n",
    "'Name',\n",
    "'first_nm',\n",
    "'middle_nm',\n",
    "'last_nm',\n",
    "'gender',\n",
    "'Sex', 'Birth State', 'birth_state_cd',\n",
    "'grad_yr',\n",
    "'degree_cd',\n",
    "'Current Degree Program',\n",
    "'Curr Class Level',\n",
    "'Curr Exp Grad Date',\n",
    "'Curr Med School Campus',\n",
    "'Curr Status',\n",
    "'Curr Status AcadYear',\n",
    "'Curr Status Date'\n",
    "]]"
   ]
  },
  {
   "cell_type": "code",
   "execution_count": null,
   "metadata": {},
   "outputs": [],
   "source": [
    "matched = pd.merge(matched, me_entity, on='entity_id', how='left')"
   ]
  },
  {
   "cell_type": "code",
   "execution_count": null,
   "metadata": {},
   "outputs": [],
   "source": [
    "# scraped\n",
    "#found\n",
    "# matched\n",
    "# missing\n",
    "# found_students\n",
    "# stu_affil\n",
    "# grad_year\n",
    "# status_update\n",
    "# manual\n",
    "# auto\n",
    "# new\n",
    "f'''\n",
    "{\"{:,}\".format(len(scraped))} student records in AAMC-SRS scrape\n",
    "{\"{:,}\".format(len(found))} ({round(len(found)/len(scraped)*100, 2)}%) records matched to AIMS on aamc_id\n",
    "{\"{:,}\".format(len(matched))} ({round(len(matched)/len(scraped)*100, 2)}%) records found via matching process \n",
    "{\"{:,}\".format(len(me_matched))} ({round(len(me_matched)/len(scraped)*100, 2)}%) MEs appended via matching process\n",
    "{\"{:,}\".format(len(still_missing))} ({round(len(still_missing)/len(scraped)*100, 2)}%) scraped records missing from our database\n",
    "\n",
    "----\n",
    "\n",
    "Of the records that matched on aamc_id\n",
    "{\"{:,}\".format(len(stu_affil))} ({round(len(stu_affil)/len(found)*100, 2)}%) records are student affiliates\n",
    "{\"{:,}\".format(len(found_students))} ({round(len(found_students)/len(found)*100, 2)}%) records are not student affiliates\n",
    "    \n",
    "----\n",
    "Of the records that are not student affiliates\n",
    "{\"{:,}\".format(len(grad_year))} ({round(len(grad_year)/len(found_students)*100, 2)}%) records have graduation year discrepancies\n",
    "{\"{:,}\".format(len(status_update))} ({round(len(status_update)/len(found_students)*100, 2)}%) records have status discrepancies, but correct graduation year\n",
    "\n",
    "----\n",
    "\n",
    "{\"{:,}\".format(len(manual) + len(all_other_sts))} status discrepancies flagged for manual review\n",
    "{\"{:,}\".format(len(auto) + len(other_grad))} records automatically processed\n",
    "{\"{:,}\".format(len(new))} record updates since last scrape\n",
    "'''"
   ]
  },
  {
   "cell_type": "code",
   "execution_count": null,
   "metadata": {},
   "outputs": [],
   "source": [
    "me_matched.columns"
   ]
  },
  {
   "cell_type": "code",
   "execution_count": null,
   "metadata": {},
   "outputs": [],
   "source": [
    "matched.columns"
   ]
  },
  {
   "cell_type": "code",
   "execution_count": null,
   "metadata": {},
   "outputs": [],
   "source": [
    "f'''\n",
    "{\"{:,}\".format(len(scraped_new))} student records in AAMC-SRS scrape\n",
    "{\"{:,}\".format(len(found))} ({round(len(found)/len(scraped_new)*100, 2)}%) records matched to AIMS on aamc_id\n",
    "{\"{:,}\".format(len(matched))} ({round(len(matched)/len(scraped_new)*100, 2)}%) records found via matching process \n",
    "{\"{:,}\".format(len(me_matched))} ({round(len(me_matched)/len(scraped_new)*100, 2)}%) MEs appended via matching process\n",
    "{\"{:,}\".format(len(still_missing))} ({round(len(still_missing)/len(scraped_new)*100, 2)}%) scraped records missing from our database\n",
    "\n",
    "----\n",
    "\n",
    "Of the records that matched on aamc_id\n",
    "{\"{:,}\".format(len(stu_affil))} ({round(len(stu_affil)/len(found)*100, 2)}%) records are student affiliates\n",
    "{\"{:,}\".format(len(found_students))} ({round(len(found_students)/len(found)*100, 2)}%) records are not student affiliates\n",
    "    \n",
    "----\n",
    "Of the records that are not student affiliates\n",
    "{\"{:,}\".format(len(grad_year))} ({round(len(grad_year)/len(found_students)*100, 2)}%) records have graduation year discrepancies\n",
    "{\"{:,}\".format(len(status_update))} ({round(len(status_update)/len(found_students)*100, 2)}%) records have status discrepancies, but correct graduation year\n",
    "\n",
    "----\n",
    "\n",
    "{\"{:,}\".format(len(manual) + len(all_other_sts))} status discrepancies flagged for manual review\n",
    "{\"{:,}\".format(len(auto) + len(other_grad))} records automatically processed\n",
    "{\"{:,}\".format(len(new))} record updates since last scrape\n",
    "''')"
   ]
  },
  {
   "cell_type": "code",
   "execution_count": null,
   "metadata": {},
   "outputs": [],
   "source": [
    "matched\n",
    "missing\n",
    "stu_affil\n",
    "grad_year\n",
    "status_discrepancy\n",
    "new\n"
   ]
  },
  {
   "cell_type": "code",
   "execution_count": null,
   "metadata": {},
   "outputs": [],
   "source": [
    "grad_year[grad_year.aamc_id.isin(manual.aamc_id)]"
   ]
  },
  {
   "cell_type": "code",
   "execution_count": null,
   "metadata": {},
   "outputs": [],
   "source": [
    "grad_year"
   ]
  },
  {
   "cell_type": "code",
   "execution_count": null,
   "metadata": {},
   "outputs": [],
   "source": [
    "still_missing"
   ]
  },
  {
   "cell_type": "code",
   "execution_count": null,
   "metadata": {},
   "outputs": [],
   "source": [
    "for col in stu_affil.columns:\n",
    "    print(col)"
   ]
  },
  {
   "cell_type": "code",
   "execution_count": null,
   "metadata": {},
   "outputs": [],
   "source": [
    "stu_affil = stu_affil[['category_code','aamc_id',\n",
    "  'stud_id',\n",
    "  'grad_yr',\n",
    "'school_id',\n",
    "'edu_sts',\n",
    "'edu_pref_cd',\n",
    "'degree_cd',\n",
    "'Birth Country',\n",
    "'Birth County',\n",
    "'Birth State',\n",
    "'Citizen Country',\n",
    "'Curr Class Level',\n",
    "'Curr Class Level Eff Date',\n",
    "'Curr Exp Grad Date',\n",
    "'Curr Med School Campus',\n",
    "'Curr Status',\n",
    "'Curr Status AcadYear',\n",
    "'Curr Status Date',\n",
    "'Current Degree Program',\n",
    "'Date of Birth',\n",
    "'Email',\n",
    "'INST_ID',\n",
    "'Legal Country',\n",
    "'Legal County',\n",
    "'Legal State',\n",
    "'Matriculation Degree Program',\n",
    "'Name',\n",
    "'Preferred USMLE ID',\n",
    "'RaceEthnicity',\n",
    "'Sex',\n",
    "'Visa Desc']]"
   ]
  },
  {
   "cell_type": "code",
   "execution_count": null,
   "metadata": {},
   "outputs": [],
   "source": [
    "unprocessed = unprocessed[['aamc_id',\n",
    "  'stud_id',\n",
    "  'grad_yr',\n",
    "'school_id',\n",
    "'edu_sts',\n",
    "'edu_pref_cd',\n",
    "'degree_cd',\n",
    "'Birth Country',\n",
    "'Birth County',\n",
    "'Birth State',\n",
    "'Citizen Country',\n",
    "'Curr Class Level',\n",
    "'Curr Class Level Eff Date',\n",
    "'Curr Exp Grad Date',\n",
    "'Curr Med School Campus',\n",
    "'Curr Status',\n",
    "'Curr Status AcadYear',\n",
    "'Curr Status Date',\n",
    "'Current Degree Program',\n",
    "'Date of Birth',\n",
    "'Email',\n",
    "'INST_ID',\n",
    "'Legal Country',\n",
    "'Legal County',\n",
    "'Legal State',\n",
    "'Matriculation Degree Program',\n",
    "'Name',\n",
    "'Preferred USMLE ID',\n",
    "'RaceEthnicity',\n",
    "'Sex',\n",
    "'Visa Desc']]"
   ]
  },
  {
   "cell_type": "code",
   "execution_count": null,
   "metadata": {},
   "outputs": [],
   "source": [
    "new = new[['aamc_id',\n",
    "'Birth Country',\n",
    "'Birth County',\n",
    "'Birth State',\n",
    "'Citizen Country',\n",
    "'Curr Class Level',\n",
    "'Curr Class Level Eff Date',\n",
    "'Curr Exp Grad Date',\n",
    "'Curr Med School Campus',\n",
    "'Curr Status',\n",
    "'Curr Status AcadYear',\n",
    "'Curr Status Date',\n",
    "'Current Degree Program',\n",
    "'Date of Birth',\n",
    "'Email',\n",
    "'INST_ID',\n",
    "'Legal Country',\n",
    "'Legal County',\n",
    "'Legal State',\n",
    "'Matriculation Degree Program',\n",
    "'Name',\n",
    "'Preferred USMLE ID',\n",
    "'RaceEthnicity',\n",
    "'Sex',\n",
    "'Visa Desc']]"
   ]
  },
  {
   "cell_type": "code",
   "execution_count": null,
   "metadata": {},
   "outputs": [],
   "source": [
    "new['aamc_id']=new['AAMC ID']"
   ]
  },
  {
   "cell_type": "code",
   "execution_count": null,
   "metadata": {},
   "outputs": [],
   "source": [
    "news = new.aamc_id"
   ]
  },
  {
   "cell_type": "code",
   "execution_count": null,
   "metadata": {},
   "outputs": [],
   "source": [
    "scraped_new['NEW'] = ['Y' if x in list(new.aamc_id) else 'N' for x in scraped_new.aamc_id]"
   ]
  },
  {
   "cell_type": "code",
   "execution_count": null,
   "metadata": {},
   "outputs": [],
   "source": [
    "[x for x in scraped_new.aamc_id]"
   ]
  },
  {
   "cell_type": "code",
   "execution_count": null,
   "metadata": {},
   "outputs": [],
   "source": [
    "scraped_new[scraped_new.NEW=='Y']"
   ]
  },
  {
   "cell_type": "code",
   "execution_count": null,
   "metadata": {},
   "outputs": [],
   "source": [
    "new"
   ]
  },
  {
   "cell_type": "code",
   "execution_count": null,
   "metadata": {},
   "outputs": [],
   "source": [
    "scraped_new[scraped_new.aamc_id.isin(new.aamc_id)]"
   ]
  },
  {
   "cell_type": "code",
   "execution_count": null,
   "metadata": {},
   "outputs": [],
   "source": [
    "newly = scraped[['aamc_id','NEW']]"
   ]
  },
  {
   "cell_type": "code",
   "execution_count": null,
   "metadata": {},
   "outputs": [],
   "source": [
    "pd.merge(matched, newly, on='aamc_id').to_csv('../../Data/SRS/SRS_Matched_2021-03-19.csv', index=False)\n",
    "pd.merge(still_missing, newly, on='aamc_id').to_csv('../../Data/SRS/SRS_Missing_2021-03-19.csv', index=False)\n",
    "pd.merge(grad_year, newly, on='aamc_id').to_csv('../../Data/SRS/SRS_Graduation_Year_Discrepancy_2021-03-19.csv', index=False)\n",
    "pd.merge(status_update, newly, on='aamc_id').to_csv('../../Data/SRS/SRS_Status_Discrepancy_2021-03-19.csv', index=False)\n",
    "pd.merge(stu_affil, newly, on='aamc_id').to_csv('../../Data/SRS/SRS_Student_Affiliates_2021-03-19.csv', index=False)\n",
    "pd.merge(auto, newly, on='aamc_id').to_csv('../../Data/SRS/SRS_Automatic_Updates_2021-03-19.csv', index=False)\n",
    "pd.merge(manual, newly, on='aamc_id').to_csv('../../Data/SRS/SRS_Manual_Updates_2021-03-19.csv', index=False)\n",
    "pd.merge(unprocessed, newly, on='aamc_id').to_csv('../../Data/SRS/SRS_Unprocessed_2021-03-19.csv', index=False)\n",
    "new.to_csv('../../Data/SRS/SRS_New_2021-03-19.csv', index=False)"
   ]
  },
  {
   "cell_type": "code",
   "execution_count": null,
   "metadata": {},
   "outputs": [],
   "source": [
    "all_students.to_csv('../../Data/SRS/all_students.csv', index=False)"
   ]
  },
  {
   "cell_type": "code",
   "execution_count": null,
   "metadata": {},
   "outputs": [],
   "source": [
    "for col in no_id:\n",
    "    print(col)"
   ]
  },
  {
   "cell_type": "code",
   "execution_count": null,
   "metadata": {},
   "outputs": [],
   "source": [
    "no_id[['AAMC ID', 'Sex', 'birth_dt', 'birth_state_cd', 'RaceEthnicity', 'Birth County', 'Name', 'last_nm', 'Current Degree Program', 'Curr Exp Grad Date', 'first_middle']].to_csv('../../Data/SRS/no_ids.csv', index=False)"
   ]
  },
  {
   "cell_type": "code",
   "execution_count": null,
   "metadata": {},
   "outputs": [],
   "source": []
  }
 ],
 "metadata": {
  "kernelspec": {
   "display_name": "Python 3",
   "language": "python",
   "name": "python3"
  },
  "language_info": {
   "codemirror_mode": {
    "name": "ipython",
    "version": 3
   },
   "file_extension": ".py",
   "mimetype": "text/x-python",
   "name": "python",
   "nbconvert_exporter": "python",
   "pygments_lexer": "ipython3",
   "version": "3.7.4"
  }
 },
 "nbformat": 4,
 "nbformat_minor": 2
}
