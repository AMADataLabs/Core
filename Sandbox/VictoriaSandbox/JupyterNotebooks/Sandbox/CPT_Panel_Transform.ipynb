{
 "cells": [
  {
   "cell_type": "code",
   "execution_count": 1,
   "metadata": {},
   "outputs": [],
   "source": [
    "import pandas as pd\n",
    "from nameparser import HumanName\n",
    "import numpy as np"
   ]
  },
  {
   "cell_type": "code",
   "execution_count": 3,
   "metadata": {},
   "outputs": [],
   "source": [
    "new_cpt_data = pd.read_csv(\"../../Data/CPT_Panel/Panel Member Evaluations 2022_raw data.csv\")\n",
    "cpt_data = pd.read_csv(\"../../Data/CPT_Panel/Panel Member Evaluations 2022_raw data.csv\", header = 1)\n",
    "cpt_col = pd.read_csv(\"../../Data/CPT_Panel/Panel Member Evaluations 2022_raw data.csv\").columns"
   ]
  },
  {
   "cell_type": "code",
   "execution_count": 4,
   "metadata": {},
   "outputs": [],
   "source": [
    "dicto ={}\n",
    "index = 0\n",
    "for col in cpt_col:\n",
    "    index += 1\n",
    "    if \"Unnamed\" in col:\n",
    "        new_col = f'Column{index}'\n",
    "        dicto[col] = new_col"
   ]
  },
  {
   "cell_type": "code",
   "execution_count": 5,
   "metadata": {},
   "outputs": [],
   "source": [
    "names = [x for x in cpt_col if \"Unnamed\" not in x]"
   ]
  },
  {
   "cell_type": "code",
   "execution_count": 6,
   "metadata": {},
   "outputs": [],
   "source": [
    "index = 0\n",
    "cols = [0,1,2,3,4,5,6,7]\n",
    "dict_list = []\n",
    "for name in names:\n",
    "    peer = HumanName(name).last\n",
    "    data = cpt_data.iloc[:, cols]\n",
    "    for row in data[2:].itertuples():\n",
    "        row_list = list(row)\n",
    "        reviewer = HumanName(row.Q1).last\n",
    "        question_number = 2\n",
    "        for question_column in cols[1:]:\n",
    "            if row_list[question_number] == \"N/A - I don't know\":\n",
    "                rating = None\n",
    "            elif isinstance(row_list[question_number], float):\n",
    "                rating = row_list[question_number]\n",
    "            elif peer == reviewer:\n",
    "                rating = None\n",
    "            else:\n",
    "                rating = row_list[question_number].split(' -')[0]\n",
    "            new_dict = {\n",
    "            'Peer': peer,\n",
    "            'Reviewer': reviewer,\n",
    "            'Question': f'Q{question_number - 1}',\n",
    "            'Rating': rating\n",
    "        }\n",
    "            question_number+=1\n",
    "            dict_list.append(new_dict)\n",
    "    cols = [(x + 7) if x != 0 else x for x in cols]"
   ]
  },
  {
   "cell_type": "code",
   "execution_count": 7,
   "metadata": {},
   "outputs": [],
   "source": [
    "overall = pd.DataFrame(dict_list)"
   ]
  },
  {
   "cell_type": "code",
   "execution_count": 8,
   "metadata": {},
   "outputs": [],
   "source": [
    "numerical = overall[overall.Question!='Q7'].dropna(subset=['Rating'])\n",
    "numerical['Rating'] = numerical.Rating.astype(float)"
   ]
  },
  {
   "cell_type": "code",
   "execution_count": 9,
   "metadata": {},
   "outputs": [],
   "source": [
    "#Stats\n",
    "standard_dev = numerical.Rating.std()\n",
    "mean = numerical.Rating.mean()\n",
    "mean_plus = mean + standard_dev\n",
    "mean_minus = mean - standard_dev"
   ]
  },
  {
   "cell_type": "code",
   "execution_count": 10,
   "metadata": {},
   "outputs": [
    {
     "data": {
      "text/plain": [
       "0.970731339930765"
      ]
     },
     "execution_count": 10,
     "metadata": {},
     "output_type": "execute_result"
    }
   ],
   "source": [
    "np.std(numerical.Rating)"
   ]
  },
  {
   "cell_type": "code",
   "execution_count": 11,
   "metadata": {},
   "outputs": [
    {
     "data": {
      "text/plain": [
       "0.9711581288456168"
      ]
     },
     "execution_count": 11,
     "metadata": {},
     "output_type": "execute_result"
    }
   ],
   "source": [
    "standard_dev"
   ]
  },
  {
   "cell_type": "code",
   "execution_count": 12,
   "metadata": {},
   "outputs": [
    {
     "data": {
      "text/plain": [
       "4.947432294047726"
      ]
     },
     "execution_count": 12,
     "metadata": {},
     "output_type": "execute_result"
    }
   ],
   "source": [
    "mean_plus"
   ]
  },
  {
   "cell_type": "code",
   "execution_count": 13,
   "metadata": {},
   "outputs": [
    {
     "data": {
      "text/plain": [
       "3.005116036356492"
      ]
     },
     "execution_count": 13,
     "metadata": {},
     "output_type": "execute_result"
    }
   ],
   "source": [
    "mean_minus"
   ]
  },
  {
   "cell_type": "code",
   "execution_count": 27,
   "metadata": {},
   "outputs": [
    {
     "data": {
      "text/plain": [
       "3.976274165202109"
      ]
     },
     "execution_count": 27,
     "metadata": {},
     "output_type": "execute_result"
    }
   ],
   "source": [
    "mean"
   ]
  },
  {
   "cell_type": "code",
   "execution_count": 14,
   "metadata": {},
   "outputs": [],
   "source": [
    "#Average ratings\n",
    "peer_average = numerical.groupby('Peer').mean()"
   ]
  },
  {
   "cell_type": "code",
   "execution_count": 15,
   "metadata": {},
   "outputs": [],
   "source": [
    "#Average per question/peer\n",
    "peer_question_average = numerical.groupby(['Peer', 'Question']).mean()"
   ]
  },
  {
   "cell_type": "code",
   "execution_count": 16,
   "metadata": {},
   "outputs": [],
   "source": [
    "#Comments\n",
    "comments = overall[overall.Question=='Q7'].dropna(subset=['Rating']).drop(columns='Question')"
   ]
  },
  {
   "cell_type": "code",
   "execution_count": 17,
   "metadata": {},
   "outputs": [],
   "source": [
    "#Median per question\n",
    "median = numerical.groupby(['Peer', 'Question']).median()"
   ]
  },
  {
   "cell_type": "code",
   "execution_count": 18,
   "metadata": {},
   "outputs": [
    {
     "name": "stdout",
     "output_type": "stream",
     "text": [
      "0.9631570050744718\n",
      "0.9389353699547404\n",
      "0.9389353699547404\n",
      "1.0292383062855364\n",
      "0.9576385535459412\n",
      "1.0260185620889741\n",
      "0.8783746069379378\n"
     ]
    }
   ],
   "source": [
    "questions = ['Q1','Q2','Q2','Q3','Q4','Q5','Q6']\n",
    "for question in questions:\n",
    "    print(np.std(numerical[numerical.Question==question].Rating))"
   ]
  },
  {
   "cell_type": "code",
   "execution_count": 142,
   "metadata": {},
   "outputs": [
    {
     "name": "stdout",
     "output_type": "stream",
     "text": [
      "4.1103896103896105\n",
      "4.123376623376624\n",
      "4.123376623376624\n",
      "4.046052631578948\n",
      "4.14\n",
      "4.033557046979865\n",
      "4.222222222222222\n"
     ]
    }
   ],
   "source": [
    "for question in questions:\n",
    "    print(np.mean(numerical[numerical.Question==question].Rating))"
   ]
  },
  {
   "cell_type": "code",
   "execution_count": 19,
   "metadata": {},
   "outputs": [],
   "source": [
    "#Average per question\n",
    "qpr_rating = numerical.groupby(['Question']).mean()"
   ]
  },
  {
   "cell_type": "code",
   "execution_count": 20,
   "metadata": {},
   "outputs": [
    {
     "data": {
      "text/html": [
       "<div>\n",
       "<style scoped>\n",
       "    .dataframe tbody tr th:only-of-type {\n",
       "        vertical-align: middle;\n",
       "    }\n",
       "\n",
       "    .dataframe tbody tr th {\n",
       "        vertical-align: top;\n",
       "    }\n",
       "\n",
       "    .dataframe thead th {\n",
       "        text-align: right;\n",
       "    }\n",
       "</style>\n",
       "<table border=\"1\" class=\"dataframe\">\n",
       "  <thead>\n",
       "    <tr style=\"text-align: right;\">\n",
       "      <th></th>\n",
       "      <th>Rating</th>\n",
       "    </tr>\n",
       "    <tr>\n",
       "      <th>Question</th>\n",
       "      <th></th>\n",
       "    </tr>\n",
       "  </thead>\n",
       "  <tbody>\n",
       "    <tr>\n",
       "      <td>Q1</td>\n",
       "      <td>3.972527</td>\n",
       "    </tr>\n",
       "    <tr>\n",
       "      <td>Q2</td>\n",
       "      <td>3.963736</td>\n",
       "    </tr>\n",
       "    <tr>\n",
       "      <td>Q3</td>\n",
       "      <td>3.915185</td>\n",
       "    </tr>\n",
       "    <tr>\n",
       "      <td>Q4</td>\n",
       "      <td>3.987485</td>\n",
       "    </tr>\n",
       "    <tr>\n",
       "      <td>Q5</td>\n",
       "      <td>3.912393</td>\n",
       "    </tr>\n",
       "    <tr>\n",
       "      <td>Q6</td>\n",
       "      <td>4.098024</td>\n",
       "    </tr>\n",
       "  </tbody>\n",
       "</table>\n",
       "</div>"
      ],
      "text/plain": [
       "            Rating\n",
       "Question          \n",
       "Q1        3.972527\n",
       "Q2        3.963736\n",
       "Q3        3.915185\n",
       "Q4        3.987485\n",
       "Q5        3.912393\n",
       "Q6        4.098024"
      ]
     },
     "execution_count": 20,
     "metadata": {},
     "output_type": "execute_result"
    }
   ],
   "source": [
    "peer_question_average.groupby(['Question']).mean()"
   ]
  },
  {
   "cell_type": "code",
   "execution_count": 21,
   "metadata": {},
   "outputs": [
    {
     "data": {
      "text/html": [
       "<div>\n",
       "<style scoped>\n",
       "    .dataframe tbody tr th:only-of-type {\n",
       "        vertical-align: middle;\n",
       "    }\n",
       "\n",
       "    .dataframe tbody tr th {\n",
       "        vertical-align: top;\n",
       "    }\n",
       "\n",
       "    .dataframe thead th {\n",
       "        text-align: right;\n",
       "    }\n",
       "</style>\n",
       "<table border=\"1\" class=\"dataframe\">\n",
       "  <thead>\n",
       "    <tr style=\"text-align: right;\">\n",
       "      <th></th>\n",
       "      <th>Rating</th>\n",
       "    </tr>\n",
       "    <tr>\n",
       "      <th>Question</th>\n",
       "      <th></th>\n",
       "    </tr>\n",
       "  </thead>\n",
       "  <tbody>\n",
       "    <tr>\n",
       "      <td>Q1</td>\n",
       "      <td>0.549462</td>\n",
       "    </tr>\n",
       "    <tr>\n",
       "      <td>Q2</td>\n",
       "      <td>0.393011</td>\n",
       "    </tr>\n",
       "    <tr>\n",
       "      <td>Q3</td>\n",
       "      <td>0.536103</td>\n",
       "    </tr>\n",
       "    <tr>\n",
       "      <td>Q4</td>\n",
       "      <td>0.564166</td>\n",
       "    </tr>\n",
       "    <tr>\n",
       "      <td>Q5</td>\n",
       "      <td>0.580881</td>\n",
       "    </tr>\n",
       "    <tr>\n",
       "      <td>Q6</td>\n",
       "      <td>0.441471</td>\n",
       "    </tr>\n",
       "  </tbody>\n",
       "</table>\n",
       "</div>"
      ],
      "text/plain": [
       "            Rating\n",
       "Question          \n",
       "Q1        0.549462\n",
       "Q2        0.393011\n",
       "Q3        0.536103\n",
       "Q4        0.564166\n",
       "Q5        0.580881\n",
       "Q6        0.441471"
      ]
     },
     "execution_count": 21,
     "metadata": {},
     "output_type": "execute_result"
    }
   ],
   "source": [
    "peer_question_average.groupby(['Question']).std()"
   ]
  },
  {
   "cell_type": "code",
   "execution_count": 22,
   "metadata": {},
   "outputs": [
    {
     "data": {
      "text/plain": [
       "0.9020967339088961"
      ]
     },
     "execution_count": 22,
     "metadata": {},
     "output_type": "execute_result"
    }
   ],
   "source": [
    "#Peer review rating\n",
    "peer_rev_rating = numerical.groupby(['Peer', 'Reviewer']).mean()\n",
    "numerical.groupby(['Peer', 'Reviewer']).mean()['Rating'].mean()\n",
    "numerical.groupby(['Peer', 'Reviewer']).mean()['Rating'].std()"
   ]
  },
  {
   "cell_type": "code",
   "execution_count": 23,
   "metadata": {},
   "outputs": [],
   "source": [
    "#Reviewer question rating\n",
    "rev_q_rating = numerical.groupby(['Reviewer', 'Question']).mean()"
   ]
  },
  {
   "cell_type": "code",
   "execution_count": 24,
   "metadata": {},
   "outputs": [],
   "source": [
    "#Reviewer Average rating\n",
    "review_avg_rating = numerical.groupby(['Reviewer']).mean()"
   ]
  },
  {
   "cell_type": "code",
   "execution_count": 25,
   "metadata": {},
   "outputs": [],
   "source": [
    "with pd.ExcelWriter('../../Data/CPT_Panel/transformed_2022-07-20.xlsx') as writer:  \n",
    "        new_cpt_data.to_excel(writer, sheet_name='Raw', index=False)\n",
    "        overall.to_excel(writer, sheet_name='Overall', index=False)\n",
    "        numerical.to_excel(writer, sheet_name='Rating(2)', index=False)\n",
    "        numerical.to_excel(writer, sheet_name='Rating', index=False)\n",
    "        numerical.to_excel(writer, sheet_name='Original_Rating', index=False)\n",
    "        comments.to_excel(writer, sheet_name='Comments', index=False)\n",
    "        peer_question_average.to_excel(writer, sheet_name='QPRRating')\n",
    "        median.to_excel(writer, sheet_name='Median')\n",
    "        peer_rev_rating.to_excel(writer, sheet_name='PeerRevRating')\n",
    "        rev_q_rating.to_excel(writer, sheet_name='RevQRating')\n",
    "        review_avg_rating.to_excel(writer, sheet_name='ReviewerAvgRating')\n",
    "        peer_average.to_excel(writer, sheet_name='PeerAvgRating')"
   ]
  },
  {
   "cell_type": "code",
   "execution_count": 26,
   "metadata": {},
   "outputs": [
    {
     "data": {
      "text/plain": [
       "['Linda Barney',\n",
       " 'Aaron Bossler',\n",
       " 'Daniel Buffington',\n",
       " 'Chris Jagmin',\n",
       " 'David Kanter',\n",
       " 'Barbara Levy',\n",
       " 'Doug Morrow',\n",
       " 'Dan Nagle',\n",
       " \"Judith O'Connell\",\n",
       " 'Robert Piana',\n",
       " 'Dan Picus',\n",
       " 'Larry Simon',\n",
       " 'Tim Swan',\n",
       " 'Kevin Vorenkamp',\n",
       " 'Gloria Wilder']"
      ]
     },
     "execution_count": 26,
     "metadata": {},
     "output_type": "execute_result"
    }
   ],
   "source": [
    "names"
   ]
  },
  {
   "cell_type": "code",
   "execution_count": null,
   "metadata": {},
   "outputs": [],
   "source": []
  }
 ],
 "metadata": {
  "kernelspec": {
   "display_name": "Python 3",
   "language": "python",
   "name": "python3"
  },
  "language_info": {
   "codemirror_mode": {
    "name": "ipython",
    "version": 3
   },
   "file_extension": ".py",
   "mimetype": "text/x-python",
   "name": "python",
   "nbconvert_exporter": "python",
   "pygments_lexer": "ipython3",
   "version": "3.7.4"
  }
 },
 "nbformat": 4,
 "nbformat_minor": 2
}
