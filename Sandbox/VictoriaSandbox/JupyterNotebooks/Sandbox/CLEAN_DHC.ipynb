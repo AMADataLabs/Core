{
 "cells": [
  {
   "cell_type": "code",
   "execution_count": 1,
   "metadata": {},
   "outputs": [],
   "source": [
    "import pandas as pd\n",
    "from os import listdir\n",
    "from os.path import isfile, join\n",
    "import useful_functions as use"
   ]
  },
  {
   "cell_type": "code",
   "execution_count": 2,
   "metadata": {},
   "outputs": [],
   "source": [
    "my_path = '../../Data/DHC/21-11-09/'"
   ]
  },
  {
   "cell_type": "code",
   "execution_count": 10,
   "metadata": {},
   "outputs": [],
   "source": [
    "files = [f for f in listdir(my_path) if isfile(join(my_path, f))]"
   ]
  },
  {
   "cell_type": "code",
   "execution_count": 11,
   "metadata": {},
   "outputs": [
    {
     "name": "stdout",
     "output_type": "stream",
     "text": [
      "ContactInfo11_AK-AZ.csv\n",
      "ContactInfo11_CA.csv\n",
      "ContactInfo11_CO-DE.csv\n",
      "ContactInfo11_FL-HI.csv\n",
      "ContactInfo11_IA-KS.csv\n",
      "ContactInfo11_KY-ME.csv\n",
      "ContactInfo11_MI-MT.csv\n",
      "ContactInfo11_NC-NV.csv\n",
      "ContactInfo11_NY.csv\n",
      "ContactInfo11_TX-VA.csv\n",
      "ContactInfo_11_VI-WY.csv\n",
      "ContactInfo_OH-OR.csv\n",
      "ContactInfo_PA-TN.csv\n"
     ]
    }
   ],
   "source": [
    "df_list = []\n",
    "for file in files:\n",
    "    print(file)\n",
    "    new_df = pd.read_csv(my_path+file, error_bad_lines=False)\n",
    "    df_list.append(new_df)"
   ]
  },
  {
   "cell_type": "code",
   "execution_count": 12,
   "metadata": {},
   "outputs": [],
   "source": [
    "all_dhc = pd.concat(df_list)"
   ]
  },
  {
   "cell_type": "code",
   "execution_count": 13,
   "metadata": {},
   "outputs": [],
   "source": [
    "npi_me = use.get_npi_to_me()"
   ]
  },
  {
   "cell_type": "code",
   "execution_count": 14,
   "metadata": {},
   "outputs": [],
   "source": [
    "all_dhc['NPI'] = all_dhc.NPI.astype(str)"
   ]
  },
  {
   "cell_type": "code",
   "execution_count": 15,
   "metadata": {},
   "outputs": [],
   "source": [
    "all_dhc.columns = [c.replace(' ','_') for c in all_dhc.columns.values]\n",
    "all_dhc = all_dhc.fillna('None')\n",
    "all_dhc = pd.merge(all_dhc, npi_me, on='NPI', how='left')\n",
    "all_dhc['Phone_Number'] = [use.fix_phone(x) for x in all_dhc.Phone_Number]"
   ]
  },
  {
   "cell_type": "code",
   "execution_count": 16,
   "metadata": {},
   "outputs": [],
   "source": [
    "all_dhc.to_csv('../../Data/DHC_ALL_2021-11.csv', index=False)"
   ]
  },
  {
   "cell_type": "code",
   "execution_count": 17,
   "metadata": {},
   "outputs": [],
   "source": [
    "all_dhc = all_dhc.fillna('None')\n",
    "all_dhc[all_dhc.ME!='None'].to_csv('../../Data/DHC/DHC_2021-11.csv', index=False)"
   ]
  },
  {
   "cell_type": "code",
   "execution_count": 11,
   "metadata": {},
   "outputs": [
    {
     "name": "stderr",
     "output_type": "stream",
     "text": [
      "C:\\Users\\vigrose\\AppData\\Local\\Continuum\\anaconda3\\lib\\site-packages\\IPython\\core\\interactiveshell.py:3058: DtypeWarning: Columns (4) have mixed types. Specify dtype option on import or set low_memory=False.\n",
      "  interactivity=interactivity, compiler=compiler, result=result)\n"
     ]
    }
   ],
   "source": [
    "april = pd.read_csv('../../Data/DHC/DHC_2021-04.csv')\n",
    "july = all_dhc[all_dhc.ME!='None']"
   ]
  },
  {
   "cell_type": "code",
   "execution_count": 14,
   "metadata": {},
   "outputs": [],
   "source": [
    "april = april.fillna('None')\n",
    "april = april[april.ME!='None']"
   ]
  },
  {
   "cell_type": "code",
   "execution_count": 18,
   "metadata": {},
   "outputs": [],
   "source": [
    "april.columns = [c.replace(' ','_') for c in april.columns.values]"
   ]
  },
  {
   "cell_type": "code",
   "execution_count": 25,
   "metadata": {},
   "outputs": [],
   "source": [
    "april['NPI'] = april.NPI.astype(str)"
   ]
  },
  {
   "cell_type": "code",
   "execution_count": 32,
   "metadata": {},
   "outputs": [],
   "source": [
    "april['ME'] = use.fix_me(april.ME)\n",
    "april['Phone_Number'] = [use.fix_phone(x) for x in april.Phone_Number]"
   ]
  },
  {
   "cell_type": "code",
   "execution_count": 33,
   "metadata": {},
   "outputs": [
    {
     "data": {
      "text/html": [
       "<div>\n",
       "<style scoped>\n",
       "    .dataframe tbody tr th:only-of-type {\n",
       "        vertical-align: middle;\n",
       "    }\n",
       "\n",
       "    .dataframe tbody tr th {\n",
       "        vertical-align: top;\n",
       "    }\n",
       "\n",
       "    .dataframe thead th {\n",
       "        text-align: right;\n",
       "    }\n",
       "</style>\n",
       "<table border=\"1\" class=\"dataframe\">\n",
       "  <thead>\n",
       "    <tr style=\"text-align: right;\">\n",
       "      <th></th>\n",
       "      <th>NPI</th>\n",
       "      <th>ME</th>\n",
       "      <th>Additional_Office_Locations</th>\n",
       "      <th>Phone_Number</th>\n",
       "      <th>Zip_Code</th>\n",
       "      <th>State</th>\n",
       "      <th>City</th>\n",
       "      <th>Address</th>\n",
       "      <th>First_Name</th>\n",
       "      <th>Physician_Name</th>\n",
       "      <th>Middle_Name</th>\n",
       "      <th>Primary_Specialty</th>\n",
       "      <th>Primary_Hospital_Affiliation</th>\n",
       "      <th>Last_Name</th>\n",
       "      <th>Address1</th>\n",
       "    </tr>\n",
       "  </thead>\n",
       "  <tbody>\n",
       "    <tr>\n",
       "      <td>0</td>\n",
       "      <td>1447468301</td>\n",
       "      <td>02106050565</td>\n",
       "      <td>Baton Rouge, LA</td>\n",
       "      <td>985345050</td>\n",
       "      <td>70403</td>\n",
       "      <td>LA</td>\n",
       "      <td>Hammond</td>\n",
       "      <td>1615 SW Railroad Ave</td>\n",
       "      <td>Annette</td>\n",
       "      <td>Annette Rhodes</td>\n",
       "      <td>M</td>\n",
       "      <td>Ophthalmology</td>\n",
       "      <td>Cypress Pointe Hospital (Hammond, LA)</td>\n",
       "      <td>Rhodes</td>\n",
       "      <td>1615 SW Railroad Ave</td>\n",
       "    </tr>\n",
       "    <tr>\n",
       "      <td>1</td>\n",
       "      <td>1447468970</td>\n",
       "      <td>04113040195</td>\n",
       "      <td>None</td>\n",
       "      <td>4122624911</td>\n",
       "      <td>15108</td>\n",
       "      <td>PA</td>\n",
       "      <td>Coraopolis</td>\n",
       "      <td>980 Beaver Grade Rd</td>\n",
       "      <td>Susannah</td>\n",
       "      <td>Susannah Berke</td>\n",
       "      <td>None</td>\n",
       "      <td>Dermatology</td>\n",
       "      <td>Heritage Valley Beaver (Beaver, PA)</td>\n",
       "      <td>Berke</td>\n",
       "      <td>None</td>\n",
       "    </tr>\n",
       "    <tr>\n",
       "      <td>2</td>\n",
       "      <td>1447473020</td>\n",
       "      <td>30501043555</td>\n",
       "      <td>None</td>\n",
       "      <td>7032573000</td>\n",
       "      <td>20109</td>\n",
       "      <td>VA</td>\n",
       "      <td>Manassas</td>\n",
       "      <td>10701 Rosemary Dr</td>\n",
       "      <td>Avtar</td>\n",
       "      <td>Avtar Chana</td>\n",
       "      <td>S</td>\n",
       "      <td>Family Practice</td>\n",
       "      <td>None</td>\n",
       "      <td>Chana</td>\n",
       "      <td>Kaiser Permanente Manassas Medical Center</td>\n",
       "    </tr>\n",
       "    <tr>\n",
       "      <td>3</td>\n",
       "      <td>1447479092</td>\n",
       "      <td>04504050411</td>\n",
       "      <td>None</td>\n",
       "      <td>2707451626</td>\n",
       "      <td>42101</td>\n",
       "      <td>KY</td>\n",
       "      <td>Bowling Green</td>\n",
       "      <td>250 Park St</td>\n",
       "      <td>William</td>\n",
       "      <td>William Vachon</td>\n",
       "      <td>Stanley</td>\n",
       "      <td>Emergency Medicine</td>\n",
       "      <td>The Medical Center at Bowling Green (Bowling G...</td>\n",
       "      <td>Vachon</td>\n",
       "      <td>None</td>\n",
       "    </tr>\n",
       "    <tr>\n",
       "      <td>4</td>\n",
       "      <td>1447484803</td>\n",
       "      <td>05501040781</td>\n",
       "      <td>None</td>\n",
       "      <td>3042636753</td>\n",
       "      <td>25404</td>\n",
       "      <td>WV</td>\n",
       "      <td>Martinsburg</td>\n",
       "      <td>1355 Edwin Miller Blvd</td>\n",
       "      <td>Miranda</td>\n",
       "      <td>Miranda Albaugh</td>\n",
       "      <td>L</td>\n",
       "      <td>Family Practice</td>\n",
       "      <td>None</td>\n",
       "      <td>Albaugh</td>\n",
       "      <td>Suite A</td>\n",
       "    </tr>\n",
       "    <tr>\n",
       "      <td>...</td>\n",
       "      <td>...</td>\n",
       "      <td>...</td>\n",
       "      <td>...</td>\n",
       "      <td>...</td>\n",
       "      <td>...</td>\n",
       "      <td>...</td>\n",
       "      <td>...</td>\n",
       "      <td>...</td>\n",
       "      <td>...</td>\n",
       "      <td>...</td>\n",
       "      <td>...</td>\n",
       "      <td>...</td>\n",
       "      <td>...</td>\n",
       "      <td>...</td>\n",
       "      <td>...</td>\n",
       "    </tr>\n",
       "    <tr>\n",
       "      <td>409568</td>\n",
       "      <td>1932595980</td>\n",
       "      <td>05575150910</td>\n",
       "      <td>None</td>\n",
       "      <td></td>\n",
       "      <td>80045</td>\n",
       "      <td>CO</td>\n",
       "      <td>Aurora</td>\n",
       "      <td>13001 E 17th Pl</td>\n",
       "      <td>Andrew</td>\n",
       "      <td>Andrew White</td>\n",
       "      <td>None</td>\n",
       "      <td>Other</td>\n",
       "      <td>VA North Texas Health Care System - Dallas VA ...</td>\n",
       "      <td>White</td>\n",
       "      <td>None</td>\n",
       "    </tr>\n",
       "    <tr>\n",
       "      <td>409569</td>\n",
       "      <td>1104075035</td>\n",
       "      <td>49621000283</td>\n",
       "      <td>None</td>\n",
       "      <td>6182342120</td>\n",
       "      <td>62269</td>\n",
       "      <td>IL</td>\n",
       "      <td>O'Fallon</td>\n",
       "      <td>1 St Elizabeth's Blvd</td>\n",
       "      <td>Yashaswi</td>\n",
       "      <td>Yashaswi Belvadi</td>\n",
       "      <td>S</td>\n",
       "      <td>Critical Care (Intensivists)</td>\n",
       "      <td>HSHS St Elizabeths Hospital (O Fallon, IL)</td>\n",
       "      <td>Belvadi</td>\n",
       "      <td>None</td>\n",
       "    </tr>\n",
       "    <tr>\n",
       "      <td>409570</td>\n",
       "      <td>1003235367</td>\n",
       "      <td>02604170250</td>\n",
       "      <td>None</td>\n",
       "      <td></td>\n",
       "      <td>20010</td>\n",
       "      <td>DC</td>\n",
       "      <td>Washington</td>\n",
       "      <td>111 Michigan Ave Nw</td>\n",
       "      <td>Charles</td>\n",
       "      <td>Charles Billington</td>\n",
       "      <td>John</td>\n",
       "      <td>Pediatric Medicine</td>\n",
       "      <td>M Health Fairview University of Minnesota Medi...</td>\n",
       "      <td>Billington</td>\n",
       "      <td>None</td>\n",
       "    </tr>\n",
       "    <tr>\n",
       "      <td>409571</td>\n",
       "      <td>1922595727</td>\n",
       "      <td>30501157844</td>\n",
       "      <td>None</td>\n",
       "      <td></td>\n",
       "      <td>13501</td>\n",
       "      <td>NY</td>\n",
       "      <td>Utica</td>\n",
       "      <td>120 Hobart St</td>\n",
       "      <td>Johnson</td>\n",
       "      <td>Johnson Uzor</td>\n",
       "      <td>None</td>\n",
       "      <td>Other</td>\n",
       "      <td>St Elizabeth Campus (AKA St Elizabeth Medical ...</td>\n",
       "      <td>Uzor</td>\n",
       "      <td>None</td>\n",
       "    </tr>\n",
       "    <tr>\n",
       "      <td>409572</td>\n",
       "      <td>1346699360</td>\n",
       "      <td>01642161411</td>\n",
       "      <td>None</td>\n",
       "      <td>2037854058</td>\n",
       "      <td>=\"06519\"</td>\n",
       "      <td>CT</td>\n",
       "      <td>New Haven</td>\n",
       "      <td>464 Congress Ave</td>\n",
       "      <td>Thomas</td>\n",
       "      <td>Thomas Yang</td>\n",
       "      <td>Jeong Won</td>\n",
       "      <td>Emergency Medicine</td>\n",
       "      <td>Yale New Haven Hospital (New Haven, CT)</td>\n",
       "      <td>Yang</td>\n",
       "      <td>None</td>\n",
       "    </tr>\n",
       "  </tbody>\n",
       "</table>\n",
       "<p>409573 rows × 15 columns</p>\n",
       "</div>"
      ],
      "text/plain": [
       "               NPI           ME Additional_Office_Locations Phone_Number  \\\n",
       "0       1447468301  02106050565             Baton Rouge, LA    985345050   \n",
       "1       1447468970  04113040195                        None   4122624911   \n",
       "2       1447473020  30501043555                        None   7032573000   \n",
       "3       1447479092  04504050411                        None   2707451626   \n",
       "4       1447484803  05501040781                        None   3042636753   \n",
       "...            ...          ...                         ...          ...   \n",
       "409568  1932595980  05575150910                        None                \n",
       "409569  1104075035  49621000283                        None   6182342120   \n",
       "409570  1003235367  02604170250                        None                \n",
       "409571  1922595727  30501157844                        None                \n",
       "409572  1346699360  01642161411                        None   2037854058   \n",
       "\n",
       "        Zip_Code State           City                 Address First_Name  \\\n",
       "0          70403    LA        Hammond    1615 SW Railroad Ave    Annette   \n",
       "1          15108    PA     Coraopolis     980 Beaver Grade Rd   Susannah   \n",
       "2          20109    VA       Manassas       10701 Rosemary Dr      Avtar   \n",
       "3          42101    KY  Bowling Green             250 Park St    William   \n",
       "4          25404    WV    Martinsburg  1355 Edwin Miller Blvd    Miranda   \n",
       "...          ...   ...            ...                     ...        ...   \n",
       "409568     80045    CO         Aurora         13001 E 17th Pl     Andrew   \n",
       "409569     62269    IL       O'Fallon   1 St Elizabeth's Blvd   Yashaswi   \n",
       "409570     20010    DC     Washington     111 Michigan Ave Nw    Charles   \n",
       "409571     13501    NY          Utica           120 Hobart St    Johnson   \n",
       "409572  =\"06519\"    CT      New Haven        464 Congress Ave     Thomas   \n",
       "\n",
       "            Physician_Name Middle_Name             Primary_Specialty  \\\n",
       "0           Annette Rhodes           M                 Ophthalmology   \n",
       "1           Susannah Berke        None                   Dermatology   \n",
       "2              Avtar Chana           S               Family Practice   \n",
       "3           William Vachon     Stanley            Emergency Medicine   \n",
       "4          Miranda Albaugh           L               Family Practice   \n",
       "...                    ...         ...                           ...   \n",
       "409568        Andrew White        None                         Other   \n",
       "409569    Yashaswi Belvadi           S  Critical Care (Intensivists)   \n",
       "409570  Charles Billington        John            Pediatric Medicine   \n",
       "409571        Johnson Uzor        None                         Other   \n",
       "409572         Thomas Yang   Jeong Won            Emergency Medicine   \n",
       "\n",
       "                             Primary_Hospital_Affiliation   Last_Name  \\\n",
       "0                   Cypress Pointe Hospital (Hammond, LA)      Rhodes   \n",
       "1                     Heritage Valley Beaver (Beaver, PA)       Berke   \n",
       "2                                                    None       Chana   \n",
       "3       The Medical Center at Bowling Green (Bowling G...      Vachon   \n",
       "4                                                    None     Albaugh   \n",
       "...                                                   ...         ...   \n",
       "409568  VA North Texas Health Care System - Dallas VA ...       White   \n",
       "409569         HSHS St Elizabeths Hospital (O Fallon, IL)     Belvadi   \n",
       "409570  M Health Fairview University of Minnesota Medi...  Billington   \n",
       "409571  St Elizabeth Campus (AKA St Elizabeth Medical ...        Uzor   \n",
       "409572            Yale New Haven Hospital (New Haven, CT)        Yang   \n",
       "\n",
       "                                         Address1  \n",
       "0                            1615 SW Railroad Ave  \n",
       "1                                            None  \n",
       "2       Kaiser Permanente Manassas Medical Center  \n",
       "3                                            None  \n",
       "4                                         Suite A  \n",
       "...                                           ...  \n",
       "409568                                       None  \n",
       "409569                                       None  \n",
       "409570                                       None  \n",
       "409571                                       None  \n",
       "409572                                       None  \n",
       "\n",
       "[409573 rows x 15 columns]"
      ]
     },
     "execution_count": 33,
     "metadata": {},
     "output_type": "execute_result"
    }
   ],
   "source": [
    "pd.merge(april, july, on=list(july.columns))"
   ]
  },
  {
   "cell_type": "code",
   "execution_count": 35,
   "metadata": {},
   "outputs": [
    {
     "data": {
      "text/plain": [
       "905407"
      ]
     },
     "execution_count": 35,
     "metadata": {},
     "output_type": "execute_result"
    }
   ],
   "source": [
    "len(july)"
   ]
  },
  {
   "cell_type": "code",
   "execution_count": null,
   "metadata": {},
   "outputs": [],
   "source": []
  }
 ],
 "metadata": {
  "kernelspec": {
   "display_name": "Python 3",
   "language": "python",
   "name": "python3"
  },
  "language_info": {
   "codemirror_mode": {
    "name": "ipython",
    "version": 3
   },
   "file_extension": ".py",
   "mimetype": "text/x-python",
   "name": "python",
   "nbconvert_exporter": "python",
   "pygments_lexer": "ipython3",
   "version": "3.7.4"
  }
 },
 "nbformat": 4,
 "nbformat_minor": 2
}
