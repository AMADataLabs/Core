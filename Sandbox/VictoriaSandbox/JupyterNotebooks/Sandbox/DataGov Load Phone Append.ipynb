{
 "cells": [
  {
   "cell_type": "code",
   "execution_count": 1,
   "metadata": {},
   "outputs": [],
   "source": [
    "import pandas as pd\n",
    "import pyodbc\n",
    "import pgeocode\n",
    "import useful_functions as use"
   ]
  },
  {
   "cell_type": "code",
   "execution_count": 2,
   "metadata": {},
   "outputs": [
    {
     "name": "stderr",
     "output_type": "stream",
     "text": [
      "C:\\Users\\vigrose\\AppData\\Local\\Continuum\\anaconda3\\lib\\site-packages\\IPython\\core\\interactiveshell.py:3058: DtypeWarning: Columns (12) have mixed types. Specify dtype option on import or set low_memory=False.\n",
      "  interactivity=interactivity, compiler=compiler, result=result)\n"
     ]
    }
   ],
   "source": [
    "gov_load = pd.read_csv('../../Data/DataGov/address_load_national_downloadable_2021-11-15.csv')"
   ]
  },
  {
   "cell_type": "code",
   "execution_count": 3,
   "metadata": {},
   "outputs": [
    {
     "name": "stderr",
     "output_type": "stream",
     "text": [
      "C:\\Users\\vigrose\\AppData\\Local\\Continuum\\anaconda3\\lib\\site-packages\\IPython\\core\\interactiveshell.py:3058: DtypeWarning: Columns (16,26,30,32,34) have mixed types. Specify dtype option on import or set low_memory=False.\n",
      "  interactivity=interactivity, compiler=compiler, result=result)\n"
     ]
    }
   ],
   "source": [
    "gov_og = pd.read_csv('../../Data/DataGov/all_data_2021-11-09.csv')"
   ]
  },
  {
   "cell_type": "code",
   "execution_count": 4,
   "metadata": {},
   "outputs": [],
   "source": [
    "gov_og['ME'] = use.fix_me(gov_og.ME)\n",
    "gov_load['ME'] = use.fix_me(gov_load['me#'])"
   ]
  },
  {
   "cell_type": "code",
   "execution_count": 5,
   "metadata": {},
   "outputs": [],
   "source": [
    "gov_og = gov_og.fillna('None')"
   ]
  },
  {
   "cell_type": "code",
   "execution_count": 7,
   "metadata": {},
   "outputs": [],
   "source": [
    "gov_og = gov_og[gov_og.phone!='None']"
   ]
  },
  {
   "cell_type": "code",
   "execution_count": 24,
   "metadata": {},
   "outputs": [],
   "source": [
    "gov_og['addr_zip'] = [use.fix_zipcode(x) for x in gov_og.zip]"
   ]
  },
  {
   "cell_type": "code",
   "execution_count": 27,
   "metadata": {},
   "outputs": [],
   "source": [
    "gov_load['addr_zip'] = [use.fix_zipcode(x) for x in gov_load.addr_zip]"
   ]
  },
  {
   "cell_type": "code",
   "execution_count": 30,
   "metadata": {},
   "outputs": [],
   "source": [
    "all_this = pd.merge(gov_load, gov_og, left_on=['ME','addr_line_1','addr_line_2','addr_city','addr_state','addr_zip'], right_on=['ME','adr_ln_1','adr_ln_2','cty','st', 'addr_zip'])"
   ]
  },
  {
   "cell_type": "code",
   "execution_count": 37,
   "metadata": {},
   "outputs": [
    {
     "data": {
      "text/plain": [
       "Index(['entity_id', 'me#', 'comm_id', 'usage', 'load_type', 'addr_type',\n",
       "       'addr_line_1', 'addr_line_2', 'addr_line_3', 'addr_city', 'addr_state',\n",
       "       'addr_zip', 'addr_plus4', 'addr_country', 'source', 'source_dtm', 'ME'],\n",
       "      dtype='object')"
      ]
     },
     "execution_count": 37,
     "metadata": {},
     "output_type": "execute_result"
    }
   ],
   "source": [
    "gov_load.columns"
   ]
  },
  {
   "cell_type": "code",
   "execution_count": 39,
   "metadata": {},
   "outputs": [],
   "source": [
    "all_this[['me#', 'usage', 'load_type', 'addr_type',\n",
    "       'addr_line_1', 'addr_line_2', 'addr_line_3', 'addr_city', 'addr_state',\n",
    "       'addr_zip', 'addr_plus4', 'addr_country', 'source', 'source_dtm','ME','adrs_id','phone']].drop_duplicates(['ME','adrs_id'], keep=False).to_csv('../../Data/DataGov/Phone_Sample.csv', index=False)"
   ]
  },
  {
   "cell_type": "code",
   "execution_count": 41,
   "metadata": {},
   "outputs": [
    {
     "data": {
      "text/plain": [
       "0                951 NW 13TH ST\n",
       "1                  840 US HWY 1\n",
       "2            7777 HENNESSY BLVD\n",
       "3            7777 HENNESSY BLVD\n",
       "4           980 BEAVER GRADE RD\n",
       "                  ...          \n",
       "472469         751 S BASCOM AVE\n",
       "472470       6798 CROSSWINDS DR\n",
       "472471      2409 N PATTERSON ST\n",
       "472472    4 WESTCHESTER PARK DR\n",
       "472473            110 E 59TH ST\n",
       "Name: adr_ln_1, Length: 472474, dtype: object"
      ]
     },
     "execution_count": 41,
     "metadata": {},
     "output_type": "execute_result"
    }
   ],
   "source": [
    "all_this['adr_ln_1']"
   ]
  },
  {
   "cell_type": "code",
   "execution_count": null,
   "metadata": {},
   "outputs": [],
   "source": [
    "#465731\n",
    "#455455"
   ]
  }
 ],
 "metadata": {
  "kernelspec": {
   "display_name": "Python 3",
   "language": "python",
   "name": "python3"
  },
  "language_info": {
   "codemirror_mode": {
    "name": "ipython",
    "version": 3
   },
   "file_extension": ".py",
   "mimetype": "text/x-python",
   "name": "python",
   "nbconvert_exporter": "python",
   "pygments_lexer": "ipython3",
   "version": "3.7.4"
  }
 },
 "nbformat": 4,
 "nbformat_minor": 2
}
