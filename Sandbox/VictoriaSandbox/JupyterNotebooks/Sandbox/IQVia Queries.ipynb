{
 "cells": [
  {
   "cell_type": "code",
   "execution_count": 1,
   "metadata": {},
   "outputs": [],
   "source": [
    "import pandas as pd\n",
    "import pyodbc\n",
    "username = 'vigrose'\n",
    "password = 'Hufflepuff~10946'\n",
    "q = \"DSN=eprdods; UID={}; PWD={}\".format(username, password)\n",
    "ODS = pyodbc.connect(q)\n",
    "s = \"DSN=PRDDW; UID={}; PWD={}\".format(username, password)\n",
    "AMAEDW = pyodbc.connect(s)"
   ]
  },
  {
   "cell_type": "code",
   "execution_count": null,
   "metadata": {},
   "outputs": [],
   "source": [
    "#symphony\n",
    "sym_query = \\\n",
    "        \"\"\"\n",
    "        SELECT\n",
    "        d.ADDR_LINE_2_TXT AS MAILING_LINE_1,\n",
    "        d.ADDR_LINE_1_TXT AS MAILING_LINE_2,\n",
    "        d.ADDR_CITY_NAM AS CITY,\n",
    "        d.ADDR_ST_CDE AS STATE,\n",
    "        d.ADDR_ZIP_CDE AS ZIP,\n",
    "        l.OTHER_ID AS SYM_ME\n",
    "        FROM\n",
    "        ODS.PRACTITIONER_DEMOGRAPHIC_LAYOUT d, ODS.PRACTITIONER_ADDL_IDS_LAYOUT l\n",
    "        WHERE\n",
    "        d.DS_PRCTR_ID = l.DS_PRCTR_ID\n",
    "        and\n",
    "        l.ID_QLFR_TYP_CDE = 38\n",
    "        \"\"\"  \n",
    "symphony = pd.read_sql(con=ODS, sql=sym_query)\n",
    "symphony.head()"
   ]
  },
  {
   "cell_type": "code",
   "execution_count": 2,
   "metadata": {},
   "outputs": [],
   "source": [
    "def get_unique_values(column, table):\n",
    "    query = \\\n",
    "    f\"\"\"\n",
    "    SELECT DISTINCT {column}\n",
    "    FROM \n",
    "    ODS.{table}\n",
    "    \"\"\"\n",
    "    print(query)\n",
    "#     values = pd.read_sql(con=ODS, sql=query)\n",
    "    return values"
   ]
  },
  {
   "cell_type": "code",
   "execution_count": 3,
   "metadata": {},
   "outputs": [
    {
     "data": {
      "text/html": [
       "<div>\n",
       "<style scoped>\n",
       "    .dataframe tbody tr th:only-of-type {\n",
       "        vertical-align: middle;\n",
       "    }\n",
       "\n",
       "    .dataframe tbody tr th {\n",
       "        vertical-align: top;\n",
       "    }\n",
       "\n",
       "    .dataframe thead th {\n",
       "        text-align: right;\n",
       "    }\n",
       "</style>\n",
       "<table border=\"1\" class=\"dataframe\">\n",
       "  <thead>\n",
       "    <tr style=\"text-align: right;\">\n",
       "      <th></th>\n",
       "      <th>1</th>\n",
       "    </tr>\n",
       "  </thead>\n",
       "  <tbody>\n",
       "    <tr>\n",
       "      <td>0</td>\n",
       "      <td>739584</td>\n",
       "    </tr>\n",
       "  </tbody>\n",
       "</table>\n",
       "</div>"
      ],
      "text/plain": [
       "        1\n",
       "0  739584"
      ]
     },
     "execution_count": 3,
     "metadata": {},
     "output_type": "execute_result"
    }
   ],
   "source": [
    "iqvia_query = \\\n",
    "        \"\"\"\n",
    "        SELECT COUNT(IMS_ORG_ID)\n",
    "        FROM \n",
    "        ODS.ODS_IMS_BUSINESS\n",
    "        WHERE  \n",
    "        CURRENT_BATCH_FLAG='Y'\n",
    "        AND\n",
    "        STATUS_INDICATOR='A'\n",
    "        \"\"\"\n",
    "iqvia = pd.read_sql(con=ODS, sql=iqvia_query)\n",
    "iqvia"
   ]
  },
  {
   "cell_type": "code",
   "execution_count": null,
   "metadata": {},
   "outputs": [],
   "source": [
    "1,073,535\n",
    "739,584"
   ]
  },
  {
   "cell_type": "code",
   "execution_count": 5,
   "metadata": {},
   "outputs": [
    {
     "data": {
      "text/html": [
       "<div>\n",
       "<style scoped>\n",
       "    .dataframe tbody tr th:only-of-type {\n",
       "        vertical-align: middle;\n",
       "    }\n",
       "\n",
       "    .dataframe tbody tr th {\n",
       "        vertical-align: top;\n",
       "    }\n",
       "\n",
       "    .dataframe thead th {\n",
       "        text-align: right;\n",
       "    }\n",
       "</style>\n",
       "<table border=\"1\" class=\"dataframe\">\n",
       "  <thead>\n",
       "    <tr style=\"text-align: right;\">\n",
       "      <th></th>\n",
       "      <th>ROLE</th>\n",
       "      <th>ME</th>\n",
       "    </tr>\n",
       "  </thead>\n",
       "  <tbody>\n",
       "    <tr>\n",
       "      <td>0</td>\n",
       "      <td>C</td>\n",
       "      <td>None</td>\n",
       "    </tr>\n",
       "    <tr>\n",
       "      <td>1</td>\n",
       "      <td>C</td>\n",
       "      <td>None</td>\n",
       "    </tr>\n",
       "    <tr>\n",
       "      <td>2</td>\n",
       "      <td>C</td>\n",
       "      <td>None</td>\n",
       "    </tr>\n",
       "    <tr>\n",
       "      <td>3</td>\n",
       "      <td>C</td>\n",
       "      <td>None</td>\n",
       "    </tr>\n",
       "    <tr>\n",
       "      <td>4</td>\n",
       "      <td>C</td>\n",
       "      <td>None</td>\n",
       "    </tr>\n",
       "  </tbody>\n",
       "</table>\n",
       "</div>"
      ],
      "text/plain": [
       "  ROLE    ME\n",
       "0    C  None\n",
       "1    C  None\n",
       "2    C  None\n",
       "3    C  None\n",
       "4    C  None"
      ]
     },
     "execution_count": 5,
     "metadata": {},
     "output_type": "execute_result"
    }
   ],
   "source": [
    "iqvia_query = \\\n",
    "        \"\"\"\n",
    "        SELECT\n",
    "        ROLE,\n",
    "        ME\n",
    "        FROM \n",
    "        ODS.ODS_IMS_PROFESSIONAL P\n",
    "        WHERE  \n",
    "        P.CURRENT_BATCH_FLAG='Y'\n",
    "        \"\"\"\n",
    "iqvia = pd.read_sql(con=ODS, sql=iqvia_query)\n",
    "iqvia.head()"
   ]
  },
  {
   "cell_type": "code",
   "execution_count": 6,
   "metadata": {},
   "outputs": [
    {
     "data": {
      "text/html": [
       "<div>\n",
       "<style scoped>\n",
       "    .dataframe tbody tr th:only-of-type {\n",
       "        vertical-align: middle;\n",
       "    }\n",
       "\n",
       "    .dataframe tbody tr th {\n",
       "        vertical-align: top;\n",
       "    }\n",
       "\n",
       "    .dataframe thead th {\n",
       "        text-align: right;\n",
       "    }\n",
       "</style>\n",
       "<table border=\"1\" class=\"dataframe\">\n",
       "  <thead>\n",
       "    <tr style=\"text-align: right;\">\n",
       "      <th></th>\n",
       "      <th>ME</th>\n",
       "    </tr>\n",
       "    <tr>\n",
       "      <th>ROLE</th>\n",
       "      <th></th>\n",
       "    </tr>\n",
       "  </thead>\n",
       "  <tbody>\n",
       "    <tr>\n",
       "      <td>B</td>\n",
       "      <td>79739</td>\n",
       "    </tr>\n",
       "    <tr>\n",
       "      <td>C</td>\n",
       "      <td>0</td>\n",
       "    </tr>\n",
       "    <tr>\n",
       "      <td>P</td>\n",
       "      <td>921788</td>\n",
       "    </tr>\n",
       "  </tbody>\n",
       "</table>\n",
       "</div>"
      ],
      "text/plain": [
       "          ME\n",
       "ROLE        \n",
       "B      79739\n",
       "C          0\n",
       "P     921788"
      ]
     },
     "execution_count": 6,
     "metadata": {},
     "output_type": "execute_result"
    }
   ],
   "source": [
    "iqvia[iqvia.ME!='None'].groupby('ROLE').count()"
   ]
  },
  {
   "cell_type": "code",
   "execution_count": null,
   "metadata": {},
   "outputs": [],
   "source": [
    "ODS_IMS_PROFESSIONAL"
   ]
  },
  {
   "cell_type": "code",
   "execution_count": 13,
   "metadata": {},
   "outputs": [],
   "source": [
    "iqvia_list = [\n",
    "    {'TABLE':'ODS_IMS_BUSINESS',\n",
    "    'COLUMN': 'COT_CLASSIFICATION'},\n",
    "    {'TABLE':'ODS_IMS_BUSINESS',\n",
    "    'COLUMN': 'COT_FACILITY_TYPE'},\n",
    "    {'TABLE':'ODS_IMS_BUSINESS',\n",
    "    'COLUMN': 'COT_SPECIALTY'},\n",
    "    {'TABLE':'ODS_IMS_BUSINESS',\n",
    "    'COLUMN': 'RECORD_TYPE'},\n",
    "    {'TABLE':'ODS_IMS_PROFESSIONAL',\n",
    "    'COLUMN': 'DESIGNATION'},\n",
    "    {'TABLE':'ODS_IMS_PROFESSIONAL',\n",
    "    'COLUMN': 'PRIMARY_SPEC'},\n",
    "    {'TABLE':'ODS_IMS_PROFESSIONAL',\n",
    "    'COLUMN': 'SECONDARY_SPEC'},\n",
    "    {'TABLE':'ODS_IMS_PROFESSIONAL',\n",
    "    'COLUMN': 'TERTIARY_SPEC'},\n",
    "    {'TABLE':'ODS_IMS_PROFESSIONAL',\n",
    "    'COLUMN': 'PRIMARY_PROF_DESC'},\n",
    "    {'TABLE':'ODS_IMS_AFFILIATION_TYPE',\n",
    "    'COLUMN': 'AFFIL_TYPE_DESC'},\n",
    "    {'TABLE':'ODS_IMS_AFFILIATION_TYPE',\n",
    "    'COLUMN': 'AFFIL_GROUP_DESC'}\n",
    "]\n"
   ]
  },
  {
   "cell_type": "code",
   "execution_count": 10,
   "metadata": {},
   "outputs": [
    {
     "data": {
      "text/plain": [
       "[{'TABLE': 'ODS_IMS_AFFILIATON_TYPE', 'COLUMN': 'ADDIL_TYPE_DESC'},\n",
       " {'TABLE': 'ODS_IMS_AFFILIATON_TYPE', 'COLUMN': 'ADDIL_GROUP_DESC'}]"
      ]
     },
     "execution_count": 10,
     "metadata": {},
     "output_type": "execute_result"
    }
   ],
   "source": [
    "iqvia_list[9:]"
   ]
  },
  {
   "cell_type": "code",
   "execution_count": 46,
   "metadata": {},
   "outputs": [
    {
     "name": "stdout",
     "output_type": "stream",
     "text": [
      "\n",
      "    SELECT DISTINCT AFFIL_TYPE_DESC\n",
      "    FROM \n",
      "    ODS.ODS_IMS_AFFILIATION_TYPE\n",
      "    \n"
     ]
    },
    {
     "ename": "NameError",
     "evalue": "name 'values' is not defined",
     "output_type": "error",
     "traceback": [
      "\u001b[1;31m---------------------------------------------------------------------------\u001b[0m",
      "\u001b[1;31mNameError\u001b[0m                                 Traceback (most recent call last)",
      "\u001b[1;32m<ipython-input-46-f7e018a3fe5a>\u001b[0m in \u001b[0;36m<module>\u001b[1;34m\u001b[0m\n\u001b[0;32m      1\u001b[0m \u001b[1;31m# NEW_LIST = []\u001b[0m\u001b[1;33m\u001b[0m\u001b[1;33m\u001b[0m\u001b[1;33m\u001b[0m\u001b[0m\n\u001b[0;32m      2\u001b[0m \u001b[1;32mfor\u001b[0m \u001b[0mitem\u001b[0m \u001b[1;32min\u001b[0m \u001b[0miqvia_list\u001b[0m\u001b[1;33m[\u001b[0m\u001b[1;36m9\u001b[0m\u001b[1;33m:\u001b[0m\u001b[1;33m]\u001b[0m\u001b[1;33m:\u001b[0m\u001b[1;33m\u001b[0m\u001b[1;33m\u001b[0m\u001b[0m\n\u001b[1;32m----> 3\u001b[1;33m     \u001b[0munique_df\u001b[0m \u001b[1;33m=\u001b[0m \u001b[0mget_unique_values\u001b[0m\u001b[1;33m(\u001b[0m\u001b[0mitem\u001b[0m\u001b[1;33m[\u001b[0m\u001b[1;34m'COLUMN'\u001b[0m\u001b[1;33m]\u001b[0m\u001b[1;33m,\u001b[0m \u001b[0mitem\u001b[0m\u001b[1;33m[\u001b[0m\u001b[1;34m'TABLE'\u001b[0m\u001b[1;33m]\u001b[0m\u001b[1;33m)\u001b[0m\u001b[1;33m\u001b[0m\u001b[1;33m\u001b[0m\u001b[0m\n\u001b[0m\u001b[0;32m      4\u001b[0m     \u001b[0mitem\u001b[0m\u001b[1;33m[\u001b[0m\u001b[1;34m'VALUES'\u001b[0m\u001b[1;33m]\u001b[0m \u001b[1;33m=\u001b[0m \u001b[0mlist\u001b[0m\u001b[1;33m(\u001b[0m\u001b[0munique_df\u001b[0m\u001b[1;33m[\u001b[0m\u001b[0mitem\u001b[0m\u001b[1;33m[\u001b[0m\u001b[1;34m'COLUMN'\u001b[0m\u001b[1;33m]\u001b[0m\u001b[1;33m]\u001b[0m\u001b[1;33m)\u001b[0m\u001b[1;33m\u001b[0m\u001b[1;33m\u001b[0m\u001b[0m\n\u001b[0;32m      5\u001b[0m     \u001b[0mNEW_LIST\u001b[0m\u001b[1;33m.\u001b[0m\u001b[0mappend\u001b[0m\u001b[1;33m(\u001b[0m\u001b[0mitem\u001b[0m\u001b[1;33m)\u001b[0m\u001b[1;33m\u001b[0m\u001b[1;33m\u001b[0m\u001b[0m\n",
      "\u001b[1;32m<ipython-input-45-770678e55907>\u001b[0m in \u001b[0;36mget_unique_values\u001b[1;34m(column, table)\u001b[0m\n\u001b[0;32m      8\u001b[0m     \u001b[0mprint\u001b[0m\u001b[1;33m(\u001b[0m\u001b[0mquery\u001b[0m\u001b[1;33m)\u001b[0m\u001b[1;33m\u001b[0m\u001b[1;33m\u001b[0m\u001b[0m\n\u001b[0;32m      9\u001b[0m \u001b[1;31m#     values = pd.read_sql(con=ODS, sql=query)\u001b[0m\u001b[1;33m\u001b[0m\u001b[1;33m\u001b[0m\u001b[1;33m\u001b[0m\u001b[0m\n\u001b[1;32m---> 10\u001b[1;33m     \u001b[1;32mreturn\u001b[0m \u001b[0mvalues\u001b[0m\u001b[1;33m\u001b[0m\u001b[1;33m\u001b[0m\u001b[0m\n\u001b[0m",
      "\u001b[1;31mNameError\u001b[0m: name 'values' is not defined"
     ]
    }
   ],
   "source": [
    "# NEW_LIST = []\n",
    "for item in iqvia_list[9:]:\n",
    "    unique_df = get_unique_values(item['COLUMN'], item['TABLE'])\n",
    "    item['VALUES'] = list(unique_df[item['COLUMN']])\n",
    "    NEW_LIST.append(item)\n",
    "    print(item)"
   ]
  },
  {
   "cell_type": "code",
   "execution_count": 18,
   "metadata": {},
   "outputs": [],
   "source": [
    "pd.DataFrame(NEW_LIST).to_excel('../../Data/New_Products/Unique_IQVia_Values.xlsx',index=False)"
   ]
  },
  {
   "cell_type": "code",
   "execution_count": 19,
   "metadata": {},
   "outputs": [],
   "source": [
    "x = pd.DataFrame(NEW_LIST)"
   ]
  },
  {
   "cell_type": "code",
   "execution_count": 26,
   "metadata": {},
   "outputs": [
    {
     "name": "stdout",
     "output_type": "stream",
     "text": [
      "yes\n",
      "yes\n",
      "yes\n"
     ]
    }
   ],
   "source": [
    "for column in x.columns:\n",
    "    if x[column].dtype == 'object':\n",
    "        print('yes')"
   ]
  },
  {
   "cell_type": "code",
   "execution_count": 36,
   "metadata": {},
   "outputs": [],
   "source": [
    "x['TEST']= '       test '"
   ]
  },
  {
   "cell_type": "code",
   "execution_count": 43,
   "metadata": {},
   "outputs": [],
   "source": [
    "def remove_whitespaces(dataframe):\n",
    "    for column in dataframe.columns:\n",
    "        print(column)\n",
    "        if dataframe[column].dtype == 'object':\n",
    "            dataframe[column] = [str(z).strip() for z in dataframe[column]]\n",
    "    return dataframe"
   ]
  },
  {
   "cell_type": "code",
   "execution_count": 41,
   "metadata": {},
   "outputs": [
    {
     "data": {
      "text/plain": [
       "['test',\n",
       " 'test',\n",
       " 'test',\n",
       " 'test',\n",
       " 'test',\n",
       " 'test',\n",
       " 'test',\n",
       " 'test',\n",
       " 'test',\n",
       " 'test',\n",
       " 'test']"
      ]
     },
     "execution_count": 41,
     "metadata": {},
     "output_type": "execute_result"
    }
   ],
   "source": [
    "[z.strip() for z in x.TEST]"
   ]
  },
  {
   "cell_type": "code",
   "execution_count": 44,
   "metadata": {},
   "outputs": [
    {
     "name": "stdout",
     "output_type": "stream",
     "text": [
      "TABLE\n",
      "COLUMN\n",
      "VALUES\n",
      "TEST\n"
     ]
    },
    {
     "data": {
      "text/html": [
       "<div>\n",
       "<style scoped>\n",
       "    .dataframe tbody tr th:only-of-type {\n",
       "        vertical-align: middle;\n",
       "    }\n",
       "\n",
       "    .dataframe tbody tr th {\n",
       "        vertical-align: top;\n",
       "    }\n",
       "\n",
       "    .dataframe thead th {\n",
       "        text-align: right;\n",
       "    }\n",
       "</style>\n",
       "<table border=\"1\" class=\"dataframe\">\n",
       "  <thead>\n",
       "    <tr style=\"text-align: right;\">\n",
       "      <th></th>\n",
       "      <th>TABLE</th>\n",
       "      <th>COLUMN</th>\n",
       "      <th>VALUES</th>\n",
       "      <th>TEST</th>\n",
       "    </tr>\n",
       "  </thead>\n",
       "  <tbody>\n",
       "    <tr>\n",
       "      <td>0</td>\n",
       "      <td>ODS_IMS_BUSINESS</td>\n",
       "      <td>COT_CLASSIFICATION</td>\n",
       "      <td>['Academic', 'Buying Organization', 'Corporate...</td>\n",
       "      <td>test</td>\n",
       "    </tr>\n",
       "    <tr>\n",
       "      <td>1</td>\n",
       "      <td>ODS_IMS_BUSINESS</td>\n",
       "      <td>COT_FACILITY_TYPE</td>\n",
       "      <td>['Accountable Care Organization', 'Acute Care ...</td>\n",
       "      <td>test</td>\n",
       "    </tr>\n",
       "    <tr>\n",
       "      <td>2</td>\n",
       "      <td>ODS_IMS_BUSINESS</td>\n",
       "      <td>COT_SPECIALTY</td>\n",
       "      <td>['Addiction Medicine', 'Administrative Office'...</td>\n",
       "      <td>test</td>\n",
       "    </tr>\n",
       "    <tr>\n",
       "      <td>3</td>\n",
       "      <td>ODS_IMS_BUSINESS</td>\n",
       "      <td>RECORD_TYPE</td>\n",
       "      <td>['01', '02', '03', '04', '05', '06', '07']</td>\n",
       "      <td>test</td>\n",
       "    </tr>\n",
       "    <tr>\n",
       "      <td>4</td>\n",
       "      <td>ODS_IMS_PROFESSIONAL</td>\n",
       "      <td>DESIGNATION</td>\n",
       "      <td>[None]</td>\n",
       "      <td>test</td>\n",
       "    </tr>\n",
       "    <tr>\n",
       "      <td>5</td>\n",
       "      <td>ODS_IMS_PROFESSIONAL</td>\n",
       "      <td>PRIMARY_SPEC</td>\n",
       "      <td>['ABDOMINAL RADIOLOGY', 'ABDOMINAL SURGERY', '...</td>\n",
       "      <td>test</td>\n",
       "    </tr>\n",
       "    <tr>\n",
       "      <td>6</td>\n",
       "      <td>ODS_IMS_PROFESSIONAL</td>\n",
       "      <td>SECONDARY_SPEC</td>\n",
       "      <td>['ABDOMINAL RADIOLOGY', 'ABDOMINAL SURGERY', '...</td>\n",
       "      <td>test</td>\n",
       "    </tr>\n",
       "    <tr>\n",
       "      <td>7</td>\n",
       "      <td>ODS_IMS_PROFESSIONAL</td>\n",
       "      <td>TERTIARY_SPEC</td>\n",
       "      <td>['ABDOMINAL RADIOLOGY', 'ABDOMINAL SURGERY', '...</td>\n",
       "      <td>test</td>\n",
       "    </tr>\n",
       "    <tr>\n",
       "      <td>8</td>\n",
       "      <td>ODS_IMS_PROFESSIONAL</td>\n",
       "      <td>PRIMARY_PROF_DESC</td>\n",
       "      <td>['Alternative Medicine', 'Audiologist', 'Chiro...</td>\n",
       "      <td>test</td>\n",
       "    </tr>\n",
       "    <tr>\n",
       "      <td>9</td>\n",
       "      <td>ODS_IMS_AFFILIATION_TYPE</td>\n",
       "      <td>AFFIL_TYPE_DESC</td>\n",
       "      <td>['Admitting', 'Admitting (Inferred)', 'Attendi...</td>\n",
       "      <td>test</td>\n",
       "    </tr>\n",
       "    <tr>\n",
       "      <td>10</td>\n",
       "      <td>ODS_IMS_AFFILIATION_TYPE</td>\n",
       "      <td>AFFIL_GROUP_DESC</td>\n",
       "      <td>['Admitting', 'Attending', 'Long Term Care']</td>\n",
       "      <td>test</td>\n",
       "    </tr>\n",
       "  </tbody>\n",
       "</table>\n",
       "</div>"
      ],
      "text/plain": [
       "                       TABLE              COLUMN  \\\n",
       "0           ODS_IMS_BUSINESS  COT_CLASSIFICATION   \n",
       "1           ODS_IMS_BUSINESS   COT_FACILITY_TYPE   \n",
       "2           ODS_IMS_BUSINESS       COT_SPECIALTY   \n",
       "3           ODS_IMS_BUSINESS         RECORD_TYPE   \n",
       "4       ODS_IMS_PROFESSIONAL         DESIGNATION   \n",
       "5       ODS_IMS_PROFESSIONAL        PRIMARY_SPEC   \n",
       "6       ODS_IMS_PROFESSIONAL      SECONDARY_SPEC   \n",
       "7       ODS_IMS_PROFESSIONAL       TERTIARY_SPEC   \n",
       "8       ODS_IMS_PROFESSIONAL   PRIMARY_PROF_DESC   \n",
       "9   ODS_IMS_AFFILIATION_TYPE     AFFIL_TYPE_DESC   \n",
       "10  ODS_IMS_AFFILIATION_TYPE    AFFIL_GROUP_DESC   \n",
       "\n",
       "                                               VALUES  TEST  \n",
       "0   ['Academic', 'Buying Organization', 'Corporate...  test  \n",
       "1   ['Accountable Care Organization', 'Acute Care ...  test  \n",
       "2   ['Addiction Medicine', 'Administrative Office'...  test  \n",
       "3          ['01', '02', '03', '04', '05', '06', '07']  test  \n",
       "4                                              [None]  test  \n",
       "5   ['ABDOMINAL RADIOLOGY', 'ABDOMINAL SURGERY', '...  test  \n",
       "6   ['ABDOMINAL RADIOLOGY', 'ABDOMINAL SURGERY', '...  test  \n",
       "7   ['ABDOMINAL RADIOLOGY', 'ABDOMINAL SURGERY', '...  test  \n",
       "8   ['Alternative Medicine', 'Audiologist', 'Chiro...  test  \n",
       "9   ['Admitting', 'Admitting (Inferred)', 'Attendi...  test  \n",
       "10       ['Admitting', 'Attending', 'Long Term Care']  test  "
      ]
     },
     "execution_count": 44,
     "metadata": {},
     "output_type": "execute_result"
    }
   ],
   "source": [
    "remove_whitespaces(x)"
   ]
  },
  {
   "cell_type": "code",
   "execution_count": null,
   "metadata": {},
   "outputs": [],
   "source": [
    "unique_df = get_unique_values(item['COLUMN'], item['TABLE'])\n",
    "item['VALUES'] = list(unique_df[item['COLUMN']])"
   ]
  }
 ],
 "metadata": {
  "kernelspec": {
   "display_name": "Python 3",
   "language": "python",
   "name": "python3"
  },
  "language_info": {
   "codemirror_mode": {
    "name": "ipython",
    "version": 3
   },
   "file_extension": ".py",
   "mimetype": "text/x-python",
   "name": "python",
   "nbconvert_exporter": "python",
   "pygments_lexer": "ipython3",
   "version": "3.7.4"
  }
 },
 "nbformat": 4,
 "nbformat_minor": 2
}
