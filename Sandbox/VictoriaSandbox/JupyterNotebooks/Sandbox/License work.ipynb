{
 "cells": [
  {
   "cell_type": "code",
   "execution_count": 1,
   "metadata": {},
   "outputs": [
    {
     "data": {
      "text/plain": [
       "8"
      ]
     },
     "execution_count": 1,
     "metadata": {},
     "output_type": "execute_result"
    }
   ],
   "source": [
    "\n",
    "today.month"
   ]
  },
  {
   "cell_type": "code",
   "execution_count": 2,
   "metadata": {},
   "outputs": [
    {
     "ename": "NameError",
     "evalue": "name 'DateTime' is not defined",
     "output_type": "error",
     "traceback": [
      "\u001b[1;31m---------------------------------------------------------------------------\u001b[0m",
      "\u001b[1;31mNameError\u001b[0m                                 Traceback (most recent call last)",
      "\u001b[1;32m<ipython-input-2-568904823a3f>\u001b[0m in \u001b[0;36m<module>\u001b[1;34m\u001b[0m\n\u001b[1;32m----> 1\u001b[1;33m \u001b[0mDateTime\u001b[0m\u001b[1;33m.\u001b[0m\u001b[0mNow\u001b[0m\u001b[1;33m.\u001b[0m\u001b[0mToString\u001b[0m\u001b[1;33m(\u001b[0m\u001b[1;34m\"MMMM\"\u001b[0m\u001b[1;33m)\u001b[0m\u001b[1;33m\u001b[0m\u001b[1;33m\u001b[0m\u001b[0m\n\u001b[0m",
      "\u001b[1;31mNameError\u001b[0m: name 'DateTime' is not defined"
     ]
    }
   ],
   "source": [
    "datetime.now.ToString(\"MMMM\")"
   ]
  },
  {
   "cell_type": "code",
   "execution_count": 17,
   "metadata": {},
   "outputs": [
    {
     "data": {
      "text/plain": [
       "'2021-08'"
      ]
     },
     "execution_count": 17,
     "metadata": {},
     "output_type": "execute_result"
    }
   ],
   "source": [
    "date.today().strftime(\"%Y-%m\")"
   ]
  },
  {
   "cell_type": "code",
   "execution_count": 5,
   "metadata": {},
   "outputs": [],
   "source": [
    "LICENSE_DIR = 'U:/Infoverity/Full Source Files - {this_month}/License/North Carolina'"
   ]
  },
  {
   "cell_type": "code",
   "execution_count": 6,
   "metadata": {},
   "outputs": [
    {
     "data": {
      "text/plain": [
       "'U:/Infoverity/Full Source Files - {this_month}/License/North Carolina'"
      ]
     },
     "execution_count": 6,
     "metadata": {},
     "output_type": "execute_result"
    }
   ],
   "source": [
    "f'{LICENSE_DIR}'"
   ]
  },
  {
   "cell_type": "code",
   "execution_count": 10,
   "metadata": {},
   "outputs": [
    {
     "data": {
      "text/plain": [
       "'2021-08-02 09:00:39.894675'"
      ]
     },
     "execution_count": 10,
     "metadata": {},
     "output_type": "execute_result"
    }
   ],
   "source": [
    "str(datetime.today())"
   ]
  },
  {
   "cell_type": "code",
   "execution_count": 12,
   "metadata": {},
   "outputs": [
    {
     "data": {
      "text/plain": [
       "'2021-08-02'"
      ]
     },
     "execution_count": 12,
     "metadata": {},
     "output_type": "execute_result"
    }
   ],
   "source": [
    "from datetime import date\n",
    "str(date.today())"
   ]
  },
  {
   "cell_type": "code",
   "execution_count": 21,
   "metadata": {},
   "outputs": [
    {
     "name": "stdout",
     "output_type": "stream",
     "text": [
      "../../Data/License/NC_License_Status_1.csv\n",
      "../../Data/License/NC_License_Status_2.csv\n",
      "../../Data/License/NC_License_Status_2020-07-28_165406582558.csv\n",
      "../../Data/License/NC_License_Status_2020-07-29_084111710764.csv\n",
      "../../Data/License/NC_License_Status_2020-07-29_112010985463.csv\n",
      "../../Data/License/NC_License_Status_2020-07-29_125032325190.csv\n",
      "../../Data/License/NC_License_Status_2020-07-29_164825394880.csv\n",
      "../../Data/License/NC_License_Status_2020-07-30_090142500240.csv\n",
      "../../Data/License/NC_License_Status_2020-07-30_103214478550.csv\n",
      "../../Data/License/NC_License_Status_2020-07-30_113625349752.csv\n",
      "../../Data/License/NC_License_Status_2020-07-30_151853694804.csv\n",
      "../../Data/License/NC_License_Status_2020-07-30_152517136907.csv\n",
      "../../Data/License/NC_License_Status_2020-07-30_161402421081.csv\n",
      "../../Data/License/NC_License_Status_2020-07-31_110205904430.csv\n",
      "../../Data/License/NC_License_Status_2020-07-31_113149985198.csv\n",
      "../../Data/License/NC_License_Status_2020-08-03.csv\n",
      "../../Data/License/NC_License_Status_2020-09-11.csv\n",
      "../../Data/License/NC_License_Status_2020-09-12.csv\n",
      "../../Data/License/NC_License_Status_2020-10-14.csv\n",
      "../../Data/License/NC_License_Status_2020-10-15_2.csv\n",
      "../../Data/License/NC_License_Status_2020-10-16.xlsx\n",
      "../../Data/License/NC_License_Status_2020-11-11_1.csv\n",
      "../../Data/License/NC_License_Status_2020-11-12_1.csv\n",
      "../../Data/License/NC_License_Status_2020-11-12_2.csv\n",
      "../../Data/License/NC_License_Status_2020-11-13.xlsx\n",
      "../../Data/License/NC_License_Status_2020-11-13_0.csv\n",
      "../../Data/License/NC_License_Status_2020-11-13_1.csv\n",
      "../../Data/License/NC_License_Status_2020-11-13_2.csv\n",
      "../../Data/License/NC_License_Status_2020-11-13_3.csv\n",
      "../../Data/License/NC_License_Status_2020-11-13_4.csv\n",
      "../../Data/License/NC_License_Status_2021-01-07_143838597551.csv\n",
      "../../Data/License/NC_License_Status_2021-01-07_143845678551.csv\n",
      "../../Data/License/NC_License_Status_2021-01-07_144139951359.csv\n",
      "../../Data/License/NC_License_Status_2021-01-07_144141712681.csv\n",
      "../../Data/License/NC_License_Status_2021-01-07_155335134951.csv\n",
      "../../Data/License/NC_License_Status_2021-01-07_155337177455.csv\n",
      "../../Data/License/NC_License_Status_2021-01-09.xlsx\n",
      "../../Data/License/NC_License_Status_2021-01-09_132159658627.csv\n",
      "../../Data/License/NC_License_Status_2021-02-11.csv\n",
      "../../Data/License/NC_License_Status_2021-03-09_01.csv\n",
      "../../Data/License/NC_License_Status_2021-03-09_013211288910.csv\n",
      "../../Data/License/NC_License_Status_2021-03-09_04.csv\n",
      "../../Data/License/NC_License_Status_2021-03-09_043218408827.csv\n",
      "../../Data/License/NC_License_Status_2021-03-10.csv\n",
      "../../Data/License/NC_License_Status_2021-04-15_0.csv\n",
      "../../Data/License/NC_License_Status_2021-04-15_084717642946.csv\n",
      "../../Data/License/NC_License_Status_2021-04-15_2.csv\n",
      "../../Data/License/NC_License_Status_2021-04-15_225627589087.csv\n",
      "../../Data/License/NC_License_Status_2021-04-16_0.csv\n",
      "../../Data/License/NC_License_Status_2021-04-16_043831093261.csv\n",
      "../../Data/License/NC_License_Status_2021-04-16_1.csv\n",
      "../../Data/License/NC_License_Status_2021-04-16_103942246958.csv\n",
      "../../Data/License/NC_License_Status_2021-04-16_185132151204.csv\n",
      "../../Data/License/NC_License_Status_2021-04-16_2.csv\n",
      "../../Data/License/NC_License_Status_2021-04-17.csv\n",
      "../../Data/License/NC_License_Status_2021-04-20.csv\n",
      "../../Data/License/NC_License_Status_2021-05-11.csv\n",
      "../../Data/License/NC_License_Status_2021-05-12.csv\n",
      "../../Data/License/NC_License_Status_2021-06-03_0.csv\n",
      "../../Data/License/NC_License_Status_2021-06-03_022538380457.csv\n",
      "../../Data/License/NC_License_Status_2021-06-03_1.csv\n",
      "../../Data/License/NC_License_Status_2021-06-03_125027630582.csv\n",
      "../../Data/License/NC_License_Status_2021-06-04.csv\n",
      "../../Data/License/NC_License_Status_2021-06-04_0.csv\n",
      "../../Data/License/NC_License_Status_2021-06-04_1.csv\n",
      "../../Data/License/NC_License_Status_2021-07-12.csv\n",
      "../../Data/License/NC_License_Status_2021-07-12_150331371864.csv\n",
      "../../Data/License/NC_License_Status_2021-07-13_085208720297.csv\n",
      "../../Data/License/NC_License_Status_2021-07-13_085208931752.csv\n",
      "../../Data/License/NC_License_Status_2021-07-14.csv\n"
     ]
    }
   ],
   "source": [
    "import os\n",
    "z = \"../../Data/License/\"\n",
    "for file in os.listdir(z):\n",
    "    if file.startswith(\"NC_License_Status\"):\n",
    "        print(f'{z}{file}')"
   ]
  },
  {
   "cell_type": "code",
   "execution_count": 29,
   "metadata": {},
   "outputs": [],
   "source": [
    "# import pandas as pd\n",
    "Z = pd.read_excel('../../Data/License/MD Active.xlsx')"
   ]
  },
  {
   "cell_type": "code",
   "execution_count": 27,
   "metadata": {},
   "outputs": [],
   "source": [
    "test = pd.read_csv('../../Data/License/MD Active Type Fixed.txt', sep='\\t')"
   ]
  },
  {
   "cell_type": "code",
   "execution_count": 28,
   "metadata": {},
   "outputs": [],
   "source": [
    "test.to_excel('../../Data/License/wtf.xlsx')"
   ]
  },
  {
   "cell_type": "code",
   "execution_count": 30,
   "metadata": {},
   "outputs": [],
   "source": [
    "Z.head(10).to_excel('../../Data/MD Active.xlsx', index=False)"
   ]
  },
  {
   "cell_type": "code",
   "execution_count": 2,
   "metadata": {},
   "outputs": [
    {
     "data": {
      "text/html": [
       "<div>\n",
       "<style scoped>\n",
       "    .dataframe tbody tr th:only-of-type {\n",
       "        vertical-align: middle;\n",
       "    }\n",
       "\n",
       "    .dataframe tbody tr th {\n",
       "        vertical-align: top;\n",
       "    }\n",
       "\n",
       "    .dataframe thead th {\n",
       "        text-align: right;\n",
       "    }\n",
       "</style>\n",
       "<table border=\"1\" class=\"dataframe\">\n",
       "  <thead>\n",
       "    <tr style=\"text-align: right;\">\n",
       "      <th></th>\n",
       "      <th>Last_Name</th>\n",
       "      <th>First_Name</th>\n",
       "      <th>MiddleName</th>\n",
       "      <th>Suffix</th>\n",
       "      <th>Lisense_Type</th>\n",
       "      <th>License_Number</th>\n",
       "      <th>LicenseIssueDate</th>\n",
       "      <th>LicenseExpDate</th>\n",
       "      <th>Status</th>\n",
       "      <th>AnnualRenewalDate</th>\n",
       "      <th>...</th>\n",
       "      <th>MedSchool</th>\n",
       "      <th>MedSchoolState</th>\n",
       "      <th>Medical_School_Graduation_Year</th>\n",
       "      <th>SuperLastName</th>\n",
       "      <th>SuperFirtName</th>\n",
       "      <th>SuperMilddleName</th>\n",
       "      <th>SuperSuffix</th>\n",
       "      <th>Limitation</th>\n",
       "      <th>Race</th>\n",
       "      <th>Gender</th>\n",
       "    </tr>\n",
       "  </thead>\n",
       "  <tbody>\n",
       "    <tr>\n",
       "      <td>0</td>\n",
       "      <td>Aachen-Winans</td>\n",
       "      <td>James</td>\n",
       "      <td>Meryl</td>\n",
       "      <td>NaN</td>\n",
       "      <td>MD</td>\n",
       "      <td>2007-01286</td>\n",
       "      <td>07/27/2007</td>\n",
       "      <td>NaN</td>\n",
       "      <td>Active</td>\n",
       "      <td>09/01/2021</td>\n",
       "      <td>...</td>\n",
       "      <td>Keck School of Medicine of the University of S...</td>\n",
       "      <td>CA</td>\n",
       "      <td>1980.0</td>\n",
       "      <td>NaN</td>\n",
       "      <td>NaN</td>\n",
       "      <td>NaN</td>\n",
       "      <td>NaN</td>\n",
       "      <td>NaN</td>\n",
       "      <td>NaN</td>\n",
       "      <td>NaN</td>\n",
       "    </tr>\n",
       "    <tr>\n",
       "      <td>1</td>\n",
       "      <td>Aalto</td>\n",
       "      <td>Meaghan</td>\n",
       "      <td>Margaret</td>\n",
       "      <td>NaN</td>\n",
       "      <td>MD</td>\n",
       "      <td>2018-02560</td>\n",
       "      <td>10/03/2018</td>\n",
       "      <td>NaN</td>\n",
       "      <td>Active</td>\n",
       "      <td>02/13/2022</td>\n",
       "      <td>...</td>\n",
       "      <td>Ross University</td>\n",
       "      <td>NaN</td>\n",
       "      <td>2011.0</td>\n",
       "      <td>NaN</td>\n",
       "      <td>NaN</td>\n",
       "      <td>NaN</td>\n",
       "      <td>NaN</td>\n",
       "      <td>NaN</td>\n",
       "      <td>NaN</td>\n",
       "      <td>NaN</td>\n",
       "    </tr>\n",
       "    <tr>\n",
       "      <td>2</td>\n",
       "      <td>Aaron</td>\n",
       "      <td>Ronee</td>\n",
       "      <td>NaN</td>\n",
       "      <td>NaN</td>\n",
       "      <td>DO</td>\n",
       "      <td>2013-02286</td>\n",
       "      <td>11/18/2013</td>\n",
       "      <td>NaN</td>\n",
       "      <td>Active</td>\n",
       "      <td>05/08/2022</td>\n",
       "      <td>...</td>\n",
       "      <td>Nova Southeastern University College of Medicine</td>\n",
       "      <td>FL</td>\n",
       "      <td>1999.0</td>\n",
       "      <td>NaN</td>\n",
       "      <td>NaN</td>\n",
       "      <td>NaN</td>\n",
       "      <td>NaN</td>\n",
       "      <td>NaN</td>\n",
       "      <td>NaN</td>\n",
       "      <td>NaN</td>\n",
       "    </tr>\n",
       "    <tr>\n",
       "      <td>3</td>\n",
       "      <td>Aarons</td>\n",
       "      <td>Alan</td>\n",
       "      <td>Lawrence</td>\n",
       "      <td>NaN</td>\n",
       "      <td>MD</td>\n",
       "      <td>38886</td>\n",
       "      <td>05/22/1993</td>\n",
       "      <td>NaN</td>\n",
       "      <td>Active</td>\n",
       "      <td>12/08/2021</td>\n",
       "      <td>...</td>\n",
       "      <td>Unc Hospitals</td>\n",
       "      <td>NaN</td>\n",
       "      <td>1989.0</td>\n",
       "      <td>NaN</td>\n",
       "      <td>NaN</td>\n",
       "      <td>NaN</td>\n",
       "      <td>NaN</td>\n",
       "      <td>NaN</td>\n",
       "      <td>NaN</td>\n",
       "      <td>NaN</td>\n",
       "    </tr>\n",
       "    <tr>\n",
       "      <td>4</td>\n",
       "      <td>Aarons</td>\n",
       "      <td>Maureen</td>\n",
       "      <td>Leahy</td>\n",
       "      <td>NaN</td>\n",
       "      <td>MD</td>\n",
       "      <td>38647</td>\n",
       "      <td>01/26/1990</td>\n",
       "      <td>NaN</td>\n",
       "      <td>Active</td>\n",
       "      <td>08/23/2021</td>\n",
       "      <td>...</td>\n",
       "      <td>Nc Memorial</td>\n",
       "      <td>NaN</td>\n",
       "      <td>1989.0</td>\n",
       "      <td>NaN</td>\n",
       "      <td>NaN</td>\n",
       "      <td>NaN</td>\n",
       "      <td>NaN</td>\n",
       "      <td>NaN</td>\n",
       "      <td>NaN</td>\n",
       "      <td>NaN</td>\n",
       "    </tr>\n",
       "    <tr>\n",
       "      <td>...</td>\n",
       "      <td>...</td>\n",
       "      <td>...</td>\n",
       "      <td>...</td>\n",
       "      <td>...</td>\n",
       "      <td>...</td>\n",
       "      <td>...</td>\n",
       "      <td>...</td>\n",
       "      <td>...</td>\n",
       "      <td>...</td>\n",
       "      <td>...</td>\n",
       "      <td>...</td>\n",
       "      <td>...</td>\n",
       "      <td>...</td>\n",
       "      <td>...</td>\n",
       "      <td>...</td>\n",
       "      <td>...</td>\n",
       "      <td>...</td>\n",
       "      <td>...</td>\n",
       "      <td>...</td>\n",
       "      <td>...</td>\n",
       "      <td>...</td>\n",
       "    </tr>\n",
       "    <tr>\n",
       "      <td>43812</td>\n",
       "      <td>Zwirn</td>\n",
       "      <td>Ilene</td>\n",
       "      <td>NaN</td>\n",
       "      <td>NaN</td>\n",
       "      <td>MD</td>\n",
       "      <td>2021-00527</td>\n",
       "      <td>02/19/2021</td>\n",
       "      <td>NaN</td>\n",
       "      <td>Active</td>\n",
       "      <td>NaN</td>\n",
       "      <td>...</td>\n",
       "      <td>Hahnemann University School of Medicine</td>\n",
       "      <td>PA</td>\n",
       "      <td>1989.0</td>\n",
       "      <td>NaN</td>\n",
       "      <td>NaN</td>\n",
       "      <td>NaN</td>\n",
       "      <td>NaN</td>\n",
       "      <td>NaN</td>\n",
       "      <td>NaN</td>\n",
       "      <td>NaN</td>\n",
       "    </tr>\n",
       "    <tr>\n",
       "      <td>43813</td>\n",
       "      <td>Zwischenberger</td>\n",
       "      <td>Brittany</td>\n",
       "      <td>Anne</td>\n",
       "      <td>NaN</td>\n",
       "      <td>MD</td>\n",
       "      <td>2015-01831</td>\n",
       "      <td>08/17/2015</td>\n",
       "      <td>NaN</td>\n",
       "      <td>Active</td>\n",
       "      <td>03/04/2022</td>\n",
       "      <td>...</td>\n",
       "      <td>University of Texas Southwestern Medical Cente...</td>\n",
       "      <td>TX</td>\n",
       "      <td>2010.0</td>\n",
       "      <td>NaN</td>\n",
       "      <td>NaN</td>\n",
       "      <td>NaN</td>\n",
       "      <td>NaN</td>\n",
       "      <td>NaN</td>\n",
       "      <td>NaN</td>\n",
       "      <td>NaN</td>\n",
       "    </tr>\n",
       "    <tr>\n",
       "      <td>43814</td>\n",
       "      <td>Zychowski</td>\n",
       "      <td>Diana</td>\n",
       "      <td>Lynn</td>\n",
       "      <td>NaN</td>\n",
       "      <td>MD</td>\n",
       "      <td>2021-01133</td>\n",
       "      <td>04/05/2021</td>\n",
       "      <td>NaN</td>\n",
       "      <td>Active</td>\n",
       "      <td>01/16/2022</td>\n",
       "      <td>...</td>\n",
       "      <td>Virginia Tech Carilion School of Medicine</td>\n",
       "      <td>VA</td>\n",
       "      <td>2018.0</td>\n",
       "      <td>NaN</td>\n",
       "      <td>NaN</td>\n",
       "      <td>NaN</td>\n",
       "      <td>NaN</td>\n",
       "      <td>NaN</td>\n",
       "      <td>NaN</td>\n",
       "      <td>NaN</td>\n",
       "    </tr>\n",
       "    <tr>\n",
       "      <td>43815</td>\n",
       "      <td>Zygowiec</td>\n",
       "      <td>Jonathan</td>\n",
       "      <td>Peter</td>\n",
       "      <td>NaN</td>\n",
       "      <td>DO</td>\n",
       "      <td>2019-01183</td>\n",
       "      <td>05/02/2019</td>\n",
       "      <td>NaN</td>\n",
       "      <td>Active</td>\n",
       "      <td>07/14/2022</td>\n",
       "      <td>...</td>\n",
       "      <td>Midwestern University</td>\n",
       "      <td>AZ</td>\n",
       "      <td>2015.0</td>\n",
       "      <td>NaN</td>\n",
       "      <td>NaN</td>\n",
       "      <td>NaN</td>\n",
       "      <td>NaN</td>\n",
       "      <td>NaN</td>\n",
       "      <td>NaN</td>\n",
       "      <td>NaN</td>\n",
       "    </tr>\n",
       "    <tr>\n",
       "      <td>43816</td>\n",
       "      <td>de Neef</td>\n",
       "      <td>Dawn</td>\n",
       "      <td>Elissa</td>\n",
       "      <td>NaN</td>\n",
       "      <td>MD</td>\n",
       "      <td>200300606</td>\n",
       "      <td>06/19/2003</td>\n",
       "      <td>NaN</td>\n",
       "      <td>Active</td>\n",
       "      <td>02/06/2022</td>\n",
       "      <td>...</td>\n",
       "      <td>Baylor College of Medicine</td>\n",
       "      <td>TX</td>\n",
       "      <td>1998.0</td>\n",
       "      <td>NaN</td>\n",
       "      <td>NaN</td>\n",
       "      <td>NaN</td>\n",
       "      <td>NaN</td>\n",
       "      <td>NaN</td>\n",
       "      <td>NaN</td>\n",
       "      <td>NaN</td>\n",
       "    </tr>\n",
       "  </tbody>\n",
       "</table>\n",
       "<p>43817 rows × 30 columns</p>\n",
       "</div>"
      ],
      "text/plain": [
       "            Last_Name First_Name MiddleName Suffix Lisense_Type  \\\n",
       "0       Aachen-Winans      James      Meryl    NaN           MD   \n",
       "1               Aalto    Meaghan   Margaret    NaN           MD   \n",
       "2               Aaron      Ronee        NaN    NaN           DO   \n",
       "3              Aarons       Alan   Lawrence    NaN           MD   \n",
       "4              Aarons    Maureen      Leahy    NaN           MD   \n",
       "...               ...        ...        ...    ...          ...   \n",
       "43812           Zwirn      Ilene        NaN    NaN           MD   \n",
       "43813  Zwischenberger   Brittany       Anne    NaN           MD   \n",
       "43814       Zychowski      Diana       Lynn    NaN           MD   \n",
       "43815        Zygowiec   Jonathan      Peter    NaN           DO   \n",
       "43816         de Neef       Dawn     Elissa    NaN           MD   \n",
       "\n",
       "      License_Number LicenseIssueDate  LicenseExpDate  Status  \\\n",
       "0         2007-01286       07/27/2007             NaN  Active   \n",
       "1         2018-02560       10/03/2018             NaN  Active   \n",
       "2         2013-02286       11/18/2013             NaN  Active   \n",
       "3              38886       05/22/1993             NaN  Active   \n",
       "4              38647       01/26/1990             NaN  Active   \n",
       "...              ...              ...             ...     ...   \n",
       "43812     2021-00527       02/19/2021             NaN  Active   \n",
       "43813     2015-01831       08/17/2015             NaN  Active   \n",
       "43814     2021-01133       04/05/2021             NaN  Active   \n",
       "43815     2019-01183       05/02/2019             NaN  Active   \n",
       "43816      200300606       06/19/2003             NaN  Active   \n",
       "\n",
       "      AnnualRenewalDate  ...  \\\n",
       "0            09/01/2021  ...   \n",
       "1            02/13/2022  ...   \n",
       "2            05/08/2022  ...   \n",
       "3            12/08/2021  ...   \n",
       "4            08/23/2021  ...   \n",
       "...                 ...  ...   \n",
       "43812               NaN  ...   \n",
       "43813        03/04/2022  ...   \n",
       "43814        01/16/2022  ...   \n",
       "43815        07/14/2022  ...   \n",
       "43816        02/06/2022  ...   \n",
       "\n",
       "                                               MedSchool MedSchoolState  \\\n",
       "0      Keck School of Medicine of the University of S...             CA   \n",
       "1                                        Ross University            NaN   \n",
       "2       Nova Southeastern University College of Medicine             FL   \n",
       "3                                          Unc Hospitals            NaN   \n",
       "4                                            Nc Memorial            NaN   \n",
       "...                                                  ...            ...   \n",
       "43812            Hahnemann University School of Medicine             PA   \n",
       "43813  University of Texas Southwestern Medical Cente...             TX   \n",
       "43814          Virginia Tech Carilion School of Medicine             VA   \n",
       "43815                              Midwestern University             AZ   \n",
       "43816                         Baylor College of Medicine             TX   \n",
       "\n",
       "      Medical_School_Graduation_Year SuperLastName SuperFirtName  \\\n",
       "0                             1980.0           NaN           NaN   \n",
       "1                             2011.0           NaN           NaN   \n",
       "2                             1999.0           NaN           NaN   \n",
       "3                             1989.0           NaN           NaN   \n",
       "4                             1989.0           NaN           NaN   \n",
       "...                              ...           ...           ...   \n",
       "43812                         1989.0           NaN           NaN   \n",
       "43813                         2010.0           NaN           NaN   \n",
       "43814                         2018.0           NaN           NaN   \n",
       "43815                         2015.0           NaN           NaN   \n",
       "43816                         1998.0           NaN           NaN   \n",
       "\n",
       "      SuperMilddleName SuperSuffix Limitation Race Gender  \n",
       "0                  NaN         NaN        NaN  NaN    NaN  \n",
       "1                  NaN         NaN        NaN  NaN    NaN  \n",
       "2                  NaN         NaN        NaN  NaN    NaN  \n",
       "3                  NaN         NaN        NaN  NaN    NaN  \n",
       "4                  NaN         NaN        NaN  NaN    NaN  \n",
       "...                ...         ...        ...  ...    ...  \n",
       "43812              NaN         NaN        NaN  NaN    NaN  \n",
       "43813              NaN         NaN        NaN  NaN    NaN  \n",
       "43814              NaN         NaN        NaN  NaN    NaN  \n",
       "43815              NaN         NaN        NaN  NaN    NaN  \n",
       "43816              NaN         NaN        NaN  NaN    NaN  \n",
       "\n",
       "[43817 rows x 30 columns]"
      ]
     },
     "execution_count": 2,
     "metadata": {},
     "output_type": "execute_result"
    }
   ],
   "source": [
    "import pandas as pd\n",
    "pd.read_csv('../../Data/License/MD Active Type Fixed.txt', sep='\\t')"
   ]
  },
  {
   "cell_type": "code",
   "execution_count": 20,
   "metadata": {},
   "outputs": [],
   "source": [
    "test = pd.read_csv('../../Data/License/MD Active Type Fixed.txt', sep='\\t')"
   ]
  },
  {
   "cell_type": "code",
   "execution_count": 21,
   "metadata": {},
   "outputs": [
    {
     "data": {
      "text/plain": [
       "2653"
      ]
     },
     "execution_count": 21,
     "metadata": {},
     "output_type": "execute_result"
    }
   ],
   "source": [
    "test.PublicFlag.count()"
   ]
  },
  {
   "cell_type": "code",
   "execution_count": 5,
   "metadata": {},
   "outputs": [
    {
     "data": {
      "text/plain": [
       "43817"
      ]
     },
     "execution_count": 5,
     "metadata": {},
     "output_type": "execute_result"
    }
   ],
   "source": [
    "len(test)"
   ]
  },
  {
   "cell_type": "code",
   "execution_count": 27,
   "metadata": {},
   "outputs": [],
   "source": [
    "import numpy as np"
   ]
  },
  {
   "cell_type": "code",
   "execution_count": 25,
   "metadata": {},
   "outputs": [],
   "source": [
    "def public_flag_update(data):\n",
    "    types = ['DO Faculty Limited/WFU & Affiliated Institutions',\n",
    "            'DO Limited Emergency License',\n",
    "            'DO Retired Limited Volunteer',\n",
    "            'MD Faculty Limited',\n",
    "            'MD Faculty Limited/Duke & Affiliated Institutions',\n",
    "            'MD Faculty Limited/ECU & Affiliated Institutions',\n",
    "            'MD Faculty Limited/UNC & Affiliated Institutions',\n",
    "            'MD Faculty Limited/WFU & Affiliated Institutions',\n",
    "            'MD Limited Emergency License',\n",
    "            'MD Limited License Volunteer',\n",
    "            'MD Retired Limited Volunteer',\n",
    "            'MD Special Permit License',\n",
    "            'MD Special Volunteer',\n",
    "            'MD Volunteer Limited']\n",
    "    data['PublicFlag'] = ['Y' if x in types else np.NaN for x in data.Lisense_Type]\n",
    "    return data\n",
    "\n",
    "def license_update(data):\n",
    "    data['Lisense_Type'] = [x.split(' ')[0] for x in data.License_Type]\n",
    "    return data"
   ]
  },
  {
   "cell_type": "code",
   "execution_count": 28,
   "metadata": {},
   "outputs": [
    {
     "data": {
      "text/plain": [
       "0"
      ]
     },
     "execution_count": 28,
     "metadata": {},
     "output_type": "execute_result"
    }
   ],
   "source": [
    "public_field_update(test).PublicFlag.count()"
   ]
  },
  {
   "cell_type": "code",
   "execution_count": 23,
   "metadata": {},
   "outputs": [
    {
     "data": {
      "text/html": [
       "<div>\n",
       "<style scoped>\n",
       "    .dataframe tbody tr th:only-of-type {\n",
       "        vertical-align: middle;\n",
       "    }\n",
       "\n",
       "    .dataframe tbody tr th {\n",
       "        vertical-align: top;\n",
       "    }\n",
       "\n",
       "    .dataframe thead th {\n",
       "        text-align: right;\n",
       "    }\n",
       "</style>\n",
       "<table border=\"1\" class=\"dataframe\">\n",
       "  <thead>\n",
       "    <tr style=\"text-align: right;\">\n",
       "      <th></th>\n",
       "      <th>Last_Name</th>\n",
       "      <th>First_Name</th>\n",
       "      <th>MiddleName</th>\n",
       "      <th>Suffix</th>\n",
       "      <th>License_Number</th>\n",
       "      <th>LicenseIssueDate</th>\n",
       "      <th>LicenseExpDate</th>\n",
       "      <th>Status</th>\n",
       "      <th>AnnualRenewalDate</th>\n",
       "      <th>PrimaryAreaofPractice</th>\n",
       "      <th>...</th>\n",
       "      <th>MedSchool</th>\n",
       "      <th>MedSchoolState</th>\n",
       "      <th>Medical_School_Graduation_Year</th>\n",
       "      <th>SuperLastName</th>\n",
       "      <th>SuperFirtName</th>\n",
       "      <th>SuperMilddleName</th>\n",
       "      <th>SuperSuffix</th>\n",
       "      <th>Limitation</th>\n",
       "      <th>Race</th>\n",
       "      <th>Gender</th>\n",
       "    </tr>\n",
       "    <tr>\n",
       "      <th>Lisense_Type</th>\n",
       "      <th></th>\n",
       "      <th></th>\n",
       "      <th></th>\n",
       "      <th></th>\n",
       "      <th></th>\n",
       "      <th></th>\n",
       "      <th></th>\n",
       "      <th></th>\n",
       "      <th></th>\n",
       "      <th></th>\n",
       "      <th></th>\n",
       "      <th></th>\n",
       "      <th></th>\n",
       "      <th></th>\n",
       "      <th></th>\n",
       "      <th></th>\n",
       "      <th></th>\n",
       "      <th></th>\n",
       "      <th></th>\n",
       "      <th></th>\n",
       "      <th></th>\n",
       "    </tr>\n",
       "  </thead>\n",
       "  <tbody>\n",
       "    <tr>\n",
       "      <td>DO</td>\n",
       "      <td>3387</td>\n",
       "      <td>3387</td>\n",
       "      <td>3116</td>\n",
       "      <td>143</td>\n",
       "      <td>3387</td>\n",
       "      <td>3387</td>\n",
       "      <td>0</td>\n",
       "      <td>3387</td>\n",
       "      <td>3266</td>\n",
       "      <td>3276</td>\n",
       "      <td>...</td>\n",
       "      <td>3382</td>\n",
       "      <td>2982</td>\n",
       "      <td>3346</td>\n",
       "      <td>0</td>\n",
       "      <td>0</td>\n",
       "      <td>0</td>\n",
       "      <td>0</td>\n",
       "      <td>0</td>\n",
       "      <td>0</td>\n",
       "      <td>0</td>\n",
       "    </tr>\n",
       "    <tr>\n",
       "      <td>MD</td>\n",
       "      <td>40605</td>\n",
       "      <td>40605</td>\n",
       "      <td>35927</td>\n",
       "      <td>2483</td>\n",
       "      <td>40605</td>\n",
       "      <td>40605</td>\n",
       "      <td>0</td>\n",
       "      <td>40605</td>\n",
       "      <td>38776</td>\n",
       "      <td>38719</td>\n",
       "      <td>...</td>\n",
       "      <td>40503</td>\n",
       "      <td>22095</td>\n",
       "      <td>38980</td>\n",
       "      <td>0</td>\n",
       "      <td>0</td>\n",
       "      <td>0</td>\n",
       "      <td>0</td>\n",
       "      <td>0</td>\n",
       "      <td>0</td>\n",
       "      <td>0</td>\n",
       "    </tr>\n",
       "  </tbody>\n",
       "</table>\n",
       "<p>2 rows × 29 columns</p>\n",
       "</div>"
      ],
      "text/plain": [
       "              Last_Name  First_Name  MiddleName  Suffix  License_Number  \\\n",
       "Lisense_Type                                                              \n",
       "DO                 3387        3387        3116     143            3387   \n",
       "MD                40605       40605       35927    2483           40605   \n",
       "\n",
       "              LicenseIssueDate  LicenseExpDate  Status  AnnualRenewalDate  \\\n",
       "Lisense_Type                                                                \n",
       "DO                        3387               0    3387               3266   \n",
       "MD                       40605               0   40605              38776   \n",
       "\n",
       "              PrimaryAreaofPractice  ...  MedSchool  MedSchoolState  \\\n",
       "Lisense_Type                         ...                              \n",
       "DO                             3276  ...       3382            2982   \n",
       "MD                            38719  ...      40503           22095   \n",
       "\n",
       "              Medical_School_Graduation_Year  SuperLastName  SuperFirtName  \\\n",
       "Lisense_Type                                                                 \n",
       "DO                                      3346              0              0   \n",
       "MD                                     38980              0              0   \n",
       "\n",
       "              SuperMilddleName  SuperSuffix  Limitation  Race  Gender  \n",
       "Lisense_Type                                                           \n",
       "DO                           0            0           0     0       0  \n",
       "MD                           0            0           0     0       0  \n",
       "\n",
       "[2 rows x 29 columns]"
      ]
     },
     "execution_count": 23,
     "metadata": {},
     "output_type": "execute_result"
    }
   ],
   "source": [
    "test.groupby('Lisense_Type').count()"
   ]
  },
  {
   "cell_type": "code",
   "execution_count": 24,
   "metadata": {},
   "outputs": [
    {
     "data": {
      "text/html": [
       "<div>\n",
       "<style scoped>\n",
       "    .dataframe tbody tr th:only-of-type {\n",
       "        vertical-align: middle;\n",
       "    }\n",
       "\n",
       "    .dataframe tbody tr th {\n",
       "        vertical-align: top;\n",
       "    }\n",
       "\n",
       "    .dataframe thead th {\n",
       "        text-align: right;\n",
       "    }\n",
       "</style>\n",
       "<table border=\"1\" class=\"dataframe\">\n",
       "  <thead>\n",
       "    <tr style=\"text-align: right;\">\n",
       "      <th></th>\n",
       "      <th>Last_Name</th>\n",
       "      <th>First_Name</th>\n",
       "      <th>MiddleName</th>\n",
       "      <th>Suffix</th>\n",
       "      <th>Lisense_Type</th>\n",
       "      <th>License_Number</th>\n",
       "      <th>LicenseIssueDate</th>\n",
       "      <th>LicenseExpDate</th>\n",
       "      <th>Status</th>\n",
       "      <th>AnnualRenewalDate</th>\n",
       "      <th>...</th>\n",
       "      <th>Zip_Code_Public</th>\n",
       "      <th>MedSchool</th>\n",
       "      <th>MedSchoolState</th>\n",
       "      <th>Medical_School_Graduation_Year</th>\n",
       "      <th>SuperLastName</th>\n",
       "      <th>SuperFirtName</th>\n",
       "      <th>SuperMilddleName</th>\n",
       "      <th>SuperSuffix</th>\n",
       "      <th>Race</th>\n",
       "      <th>Gender</th>\n",
       "    </tr>\n",
       "    <tr>\n",
       "      <th>Limitation</th>\n",
       "      <th></th>\n",
       "      <th></th>\n",
       "      <th></th>\n",
       "      <th></th>\n",
       "      <th></th>\n",
       "      <th></th>\n",
       "      <th></th>\n",
       "      <th></th>\n",
       "      <th></th>\n",
       "      <th></th>\n",
       "      <th></th>\n",
       "      <th></th>\n",
       "      <th></th>\n",
       "      <th></th>\n",
       "      <th></th>\n",
       "      <th></th>\n",
       "      <th></th>\n",
       "      <th></th>\n",
       "      <th></th>\n",
       "      <th></th>\n",
       "      <th></th>\n",
       "    </tr>\n",
       "  </thead>\n",
       "  <tbody>\n",
       "  </tbody>\n",
       "</table>\n",
       "<p>0 rows × 29 columns</p>\n",
       "</div>"
      ],
      "text/plain": [
       "Empty DataFrame\n",
       "Columns: [Last_Name, First_Name, MiddleName, Suffix, Lisense_Type, License_Number, LicenseIssueDate, LicenseExpDate, Status, AnnualRenewalDate, PrimaryAreaofPractice, AreaofPractice, PublicFlag, ADD1, ADD2, ADD3, City, State, County, Zip_Code_Public, MedSchool, MedSchoolState, Medical_School_Graduation_Year, SuperLastName, SuperFirtName, SuperMilddleName, SuperSuffix, Race, Gender]\n",
       "Index: []\n",
       "\n",
       "[0 rows x 29 columns]"
      ]
     },
     "execution_count": 24,
     "metadata": {},
     "output_type": "execute_result"
    }
   ],
   "source": [
    "test.groupby('Limitation').count()"
   ]
  },
  {
   "cell_type": "code",
   "execution_count": 31,
   "metadata": {},
   "outputs": [
    {
     "data": {
      "text/plain": [
       "False"
      ]
     },
     "execution_count": 31,
     "metadata": {},
     "output_type": "execute_result"
    }
   ],
   "source": [
    "old = 150\n",
    "new = 140\n",
    "diff = abs(old - new) < 0.05*old\n",
    "diff"
   ]
  },
  {
   "cell_type": "code",
   "execution_count": 33,
   "metadata": {},
   "outputs": [
    {
     "data": {
      "text/plain": [
       "10"
      ]
     },
     "execution_count": 33,
     "metadata": {},
     "output_type": "execute_result"
    }
   ],
   "source": [
    "abs(old - new)"
   ]
  },
  {
   "cell_type": "code",
   "execution_count": 41,
   "metadata": {},
   "outputs": [
    {
     "ename": "ValueError",
     "evalue": "cannot convert float NaN to integer",
     "output_type": "error",
     "traceback": [
      "\u001b[1;31m---------------------------------------------------------------------------\u001b[0m",
      "\u001b[1;31mValueError\u001b[0m                                Traceback (most recent call last)",
      "\u001b[1;32m<ipython-input-41-59a69642172a>\u001b[0m in \u001b[0;36m<module>\u001b[1;34m\u001b[0m\n\u001b[1;32m----> 1\u001b[1;33m \u001b[1;33m[\u001b[0m\u001b[0mint\u001b[0m\u001b[1;33m(\u001b[0m\u001b[0mx\u001b[0m\u001b[1;33m)\u001b[0m \u001b[1;32mfor\u001b[0m \u001b[0mx\u001b[0m \u001b[1;32min\u001b[0m \u001b[0mtest\u001b[0m\u001b[1;33m.\u001b[0m\u001b[0mMedical_School_Graduation_Year\u001b[0m\u001b[1;33m]\u001b[0m\u001b[1;33m\u001b[0m\u001b[1;33m\u001b[0m\u001b[0m\n\u001b[0m",
      "\u001b[1;32m<ipython-input-41-59a69642172a>\u001b[0m in \u001b[0;36m<listcomp>\u001b[1;34m(.0)\u001b[0m\n\u001b[1;32m----> 1\u001b[1;33m \u001b[1;33m[\u001b[0m\u001b[0mint\u001b[0m\u001b[1;33m(\u001b[0m\u001b[0mx\u001b[0m\u001b[1;33m)\u001b[0m \u001b[1;32mfor\u001b[0m \u001b[0mx\u001b[0m \u001b[1;32min\u001b[0m \u001b[0mtest\u001b[0m\u001b[1;33m.\u001b[0m\u001b[0mMedical_School_Graduation_Year\u001b[0m\u001b[1;33m]\u001b[0m\u001b[1;33m\u001b[0m\u001b[1;33m\u001b[0m\u001b[0m\n\u001b[0m",
      "\u001b[1;31mValueError\u001b[0m: cannot convert float NaN to integer"
     ]
    }
   ],
   "source": [
    "[int(x) for x in test.Medical_School_Graduation_Year]"
   ]
  },
  {
   "cell_type": "code",
   "execution_count": null,
   "metadata": {},
   "outputs": [],
   "source": [
    "def sanity_check(old, new):\n",
    "    diff = abs(old - new) < 0.05(old)\n",
    "    return diff"
   ]
  }
 ],
 "metadata": {
  "kernelspec": {
   "display_name": "Python 3",
   "language": "python",
   "name": "python3"
  },
  "language_info": {
   "codemirror_mode": {
    "name": "ipython",
    "version": 3
   },
   "file_extension": ".py",
   "mimetype": "text/x-python",
   "name": "python",
   "nbconvert_exporter": "python",
   "pygments_lexer": "ipython3",
   "version": "3.7.4"
  }
 },
 "nbformat": 4,
 "nbformat_minor": 2
}
