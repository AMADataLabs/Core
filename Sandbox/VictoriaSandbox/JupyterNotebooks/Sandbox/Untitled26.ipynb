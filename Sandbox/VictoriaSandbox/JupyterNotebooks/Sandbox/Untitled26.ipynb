{
 "cells": [
  {
   "cell_type": "code",
   "execution_count": 15,
   "metadata": {},
   "outputs": [],
   "source": [
    "import pandas as pd\n",
    "import numpy as np\n",
    "import os\n",
    "import statistics as st"
   ]
  },
  {
   "cell_type": "code",
   "execution_count": 4,
   "metadata": {},
   "outputs": [],
   "source": [
    "file = '../../Data/Scorecard/Scorecard_Data_Since_2018.xlsx'\n",
    "data = pd.read_excel(file)"
   ]
  },
  {
   "cell_type": "code",
   "execution_count": 12,
   "metadata": {},
   "outputs": [],
   "source": [
    "months = list(data.columns[3:])"
   ]
  },
  {
   "cell_type": "code",
   "execution_count": 20,
   "metadata": {},
   "outputs": [],
   "source": [
    "data_dict = data.to_dict('records')"
   ]
  },
  {
   "cell_type": "code",
   "execution_count": 23,
   "metadata": {},
   "outputs": [],
   "source": [
    "avg_dicts = []\n",
    "for row in data_dict:\n",
    "    new_dict = {\n",
    "        'Measure': f\"{row['Measure']}_Average\",\n",
    "    }\n",
    "    for month in months:\n",
    "        number = months.index(month)\n",
    "        three_months = [row[month], row[months[number-1]], row[months[number-2]]]\n",
    "        average = st.mean(three_months)\n",
    "        new_dict[month] = average\n",
    "    avg_dicts.append(new_dict)\n"
   ]
  },
  {
   "cell_type": "code",
   "execution_count": 25,
   "metadata": {},
   "outputs": [],
   "source": [
    "pd.DataFrame(avg_dicts).to_csv('../../Data/Scorecard/Moving_Average.csv', index=False)"
   ]
  },
  {
   "cell_type": "code",
   "execution_count": null,
   "metadata": {},
   "outputs": [],
   "source": []
  }
 ],
 "metadata": {
  "kernelspec": {
   "display_name": "Python 3",
   "language": "python",
   "name": "python3"
  },
  "language_info": {
   "codemirror_mode": {
    "name": "ipython",
    "version": 3
   },
   "file_extension": ".py",
   "mimetype": "text/x-python",
   "name": "python",
   "nbconvert_exporter": "python",
   "pygments_lexer": "ipython3",
   "version": "3.7.4"
  }
 },
 "nbformat": 4,
 "nbformat_minor": 2
}
