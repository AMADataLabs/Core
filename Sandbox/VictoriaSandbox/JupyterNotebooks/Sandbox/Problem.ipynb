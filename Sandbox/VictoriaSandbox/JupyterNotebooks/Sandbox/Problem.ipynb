{
 "cells": [
  {
   "cell_type": "code",
   "execution_count": 129,
   "metadata": {},
   "outputs": [],
   "source": [
    "number_dict = {\n",
    "    '2':['a','b','c'],\n",
    "    '3':['d','e','f'],\n",
    "    '4':['g','h','i'],\n",
    "    '5':['j','k','l'],\n",
    "    '6':['m','n','o'],\n",
    "    '7':['p','q','r'],\n",
    "    '8':['s','t','u'],\n",
    "    '9':['w','x','y','z'],\n",
    "}"
   ]
  },
  {
   "cell_type": "code",
   "execution_count": 130,
   "metadata": {},
   "outputs": [],
   "source": [
    "def add_letter(word, letter_list):\n",
    "    word_list = []\n",
    "    for letter in letter_list:\n",
    "        word_list.append(word + letter)\n",
    "    return word_list"
   ]
  },
  {
   "cell_type": "code",
   "execution_count": 149,
   "metadata": {},
   "outputs": [],
   "source": [
    "def get_words(number):\n",
    "    number = str(number)\n",
    "    if len(number) == 0:\n",
    "        return ''\n",
    "    words = number_dict[number[0]]\n",
    "    for digit in number[1:]:\n",
    "        new_letters = number_dict[digit]\n",
    "        all_new_words = []\n",
    "        for word in words:\n",
    "            all_new_words+=add_letter(word, new_letters)\n",
    "        words = all_new_words\n",
    "    return words"
   ]
  },
  {
   "cell_type": "code",
   "execution_count": null,
   "metadata": {},
   "outputs": [],
   "source": []
  }
 ],
 "metadata": {
  "kernelspec": {
   "display_name": "Python 3",
   "language": "python",
   "name": "python3"
  },
  "language_info": {
   "codemirror_mode": {
    "name": "ipython",
    "version": 3
   },
   "file_extension": ".py",
   "mimetype": "text/x-python",
   "name": "python",
   "nbconvert_exporter": "python",
   "pygments_lexer": "ipython3",
   "version": "3.7.4"
  }
 },
 "nbformat": 4,
 "nbformat_minor": 2
}
