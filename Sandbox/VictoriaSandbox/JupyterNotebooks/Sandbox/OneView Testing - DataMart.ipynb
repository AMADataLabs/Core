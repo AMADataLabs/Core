{
 "cells": [
  {
   "cell_type": "code",
   "execution_count": 1,
   "metadata": {},
   "outputs": [],
   "source": [
    "from datetime import datetime"
   ]
  },
  {
   "cell_type": "code",
   "execution_count": 1,
   "metadata": {},
   "outputs": [],
   "source": [
    "import psycopg2\n",
    "import pandas as pd\n",
    "import datacompy\n",
    "import pyodbc\n",
    "import useful_functions as use"
   ]
  },
  {
   "cell_type": "code",
   "execution_count": 2,
   "metadata": {},
   "outputs": [],
   "source": [
    "conn = psycopg2.connect(\n",
    "    host='oneview-dev-content-aurora-cluster.cluster-cwp4vd8mllvz.us-east-1.rds.amazonaws.com',\n",
    "    database='oneview_content',\n",
    "    user='oneviewadmin',\n",
    "    password='m3CUmKz0OEOA0Mej')"
   ]
  },
  {
   "cell_type": "code",
   "execution_count": 3,
   "metadata": {},
   "outputs": [],
   "source": [
    "username = 'vigrose'\n",
    "password = 'Ravenclaw~10946'\n",
    "s = \"DSN=PRDDM; UID={}; PWD={}\".format(username, password)\n",
    "AMADM = pyodbc.connect(s)"
   ]
  },
  {
   "cell_type": "code",
   "execution_count": 3,
   "metadata": {},
   "outputs": [],
   "source": [
    "#OneView orders query\n",
    "ov_orders_sql = '''\n",
    "    SELECT * FROM ONEVIEW.CREDENTIALING_ORDER\n",
    "    '''\n",
    "ov_orders = pd.read_sql_query(ov_orders_sql, conn)"
   ]
  },
  {
   "cell_type": "code",
   "execution_count": 5,
   "metadata": {},
   "outputs": [
    {
     "name": "stderr",
     "output_type": "stream",
     "text": [
      "INFO:useful_functions:PPD file from Jan 08 2022\n",
      "C:\\Users\\vigrose\\AppData\\Local\\Continuum\\anaconda3\\lib\\site-packages\\IPython\\core\\interactiveshell.py:3249: DtypeWarning: Columns (13,14,20,21,49,56,57,72) have mixed types. Specify dtype option on import or set low_memory=False.\n",
      "  if (await self.run_code(code, result,  async_=asy)):\n"
     ]
    }
   ],
   "source": [
    "ppd = use.get_ppd()"
   ]
  },
  {
   "cell_type": "code",
   "execution_count": 8,
   "metadata": {},
   "outputs": [
    {
     "data": {
      "text/html": [
       "<div>\n",
       "<style scoped>\n",
       "    .dataframe tbody tr th:only-of-type {\n",
       "        vertical-align: middle;\n",
       "    }\n",
       "\n",
       "    .dataframe tbody tr th {\n",
       "        vertical-align: top;\n",
       "    }\n",
       "\n",
       "    .dataframe thead th {\n",
       "        text-align: right;\n",
       "    }\n",
       "</style>\n",
       "<table border=\"1\" class=\"dataframe\">\n",
       "  <thead>\n",
       "    <tr style=\"text-align: right;\">\n",
       "      <th></th>\n",
       "      <th>LAST_NAME</th>\n",
       "      <th>FIRST_NAME</th>\n",
       "      <th>MIDDLE_NAME</th>\n",
       "      <th>SUFFIX</th>\n",
       "      <th>MAILING_LINE_1</th>\n",
       "      <th>MAILING_LINE_2</th>\n",
       "      <th>CITY</th>\n",
       "      <th>STATE</th>\n",
       "      <th>ZIP</th>\n",
       "      <th>MD_DO_CODE</th>\n",
       "      <th>...</th>\n",
       "      <th>BIRTH_COUNTRY</th>\n",
       "      <th>GENDER</th>\n",
       "      <th>TELEPHONE_NUMBER</th>\n",
       "      <th>PRESUMED_DEAD_FLAG</th>\n",
       "      <th>FAX_NUMBER</th>\n",
       "      <th>TOP_CD</th>\n",
       "      <th>PE_CD</th>\n",
       "      <th>PRIM_SPEC_CD</th>\n",
       "      <th>SEC_SPEC_CD</th>\n",
       "      <th>MPA_CD</th>\n",
       "    </tr>\n",
       "  </thead>\n",
       "  <tbody>\n",
       "    <tr>\n",
       "      <td>343438</td>\n",
       "      <td>WRIGHT</td>\n",
       "      <td>ELIZABETH</td>\n",
       "      <td>SUZANNE</td>\n",
       "      <td>NaN</td>\n",
       "      <td>673RD MEDICAL GROUP</td>\n",
       "      <td>5955 ZEAMER AVE</td>\n",
       "      <td>JBER</td>\n",
       "      <td>AK</td>\n",
       "      <td>99506</td>\n",
       "      <td>1</td>\n",
       "      <td>...</td>\n",
       "      <td>US1</td>\n",
       "      <td>2.0</td>\n",
       "      <td>3.178524e+09</td>\n",
       "      <td>NaN</td>\n",
       "      <td>3.178521e+09</td>\n",
       "      <td>20</td>\n",
       "      <td>30</td>\n",
       "      <td>FM</td>\n",
       "      <td>US</td>\n",
       "      <td>OFF</td>\n",
       "    </tr>\n",
       "  </tbody>\n",
       "</table>\n",
       "<p>1 rows × 23 columns</p>\n",
       "</div>"
      ],
      "text/plain": [
       "       LAST_NAME FIRST_NAME MIDDLE_NAME  SUFFIX       MAILING_LINE_1  \\\n",
       "343438    WRIGHT  ELIZABETH     SUZANNE     NaN  673RD MEDICAL GROUP   \n",
       "\n",
       "         MAILING_LINE_2  CITY STATE    ZIP  MD_DO_CODE  ...  BIRTH_COUNTRY  \\\n",
       "343438  5955 ZEAMER AVE  JBER    AK  99506           1  ...            US1   \n",
       "\n",
       "       GENDER TELEPHONE_NUMBER PRESUMED_DEAD_FLAG    FAX_NUMBER  TOP_CD PE_CD  \\\n",
       "343438    2.0     3.178524e+09                NaN  3.178521e+09      20    30   \n",
       "\n",
       "        PRIM_SPEC_CD  SEC_SPEC_CD  MPA_CD  \n",
       "343438            FM           US     OFF  \n",
       "\n",
       "[1 rows x 23 columns]"
      ]
     },
     "execution_count": 8,
     "metadata": {},
     "output_type": "execute_result"
    }
   ],
   "source": [
    "ppd[ppd.ME=='02312071625'][['LAST_NAME', 'FIRST_NAME', 'MIDDLE_NAME', 'SUFFIX', 'MAILING_LINE_1',\n",
    "       'MAILING_LINE_2', 'CITY', 'STATE', 'ZIP', 'MD_DO_CODE', 'BIRTH_YEAR',\n",
    "       'BIRTH_CITY', 'BIRTH_STATE', 'BIRTH_COUNTRY', 'GENDER',\n",
    "       'TELEPHONE_NUMBER', 'PRESUMED_DEAD_FLAG', 'FAX_NUMBER', 'TOP_CD',\n",
    "       'PE_CD', 'PRIM_SPEC_CD', 'SEC_SPEC_CD', 'MPA_CD']]"
   ]
  },
  {
   "cell_type": "code",
   "execution_count": 4,
   "metadata": {},
   "outputs": [
    {
     "data": {
      "text/html": [
       "<div>\n",
       "<style scoped>\n",
       "    .dataframe tbody tr th:only-of-type {\n",
       "        vertical-align: middle;\n",
       "    }\n",
       "\n",
       "    .dataframe tbody tr th {\n",
       "        vertical-align: top;\n",
       "    }\n",
       "\n",
       "    .dataframe thead th {\n",
       "        text-align: right;\n",
       "    }\n",
       "</style>\n",
       "<table border=\"1\" class=\"dataframe\">\n",
       "  <thead>\n",
       "    <tr style=\"text-align: right;\">\n",
       "      <th></th>\n",
       "      <th>id</th>\n",
       "      <th>customer</th>\n",
       "      <th>product</th>\n",
       "      <th>number</th>\n",
       "      <th>medical_education_number</th>\n",
       "      <th>date</th>\n",
       "      <th>quantity</th>\n",
       "      <th>unique_physician_identification_number</th>\n",
       "    </tr>\n",
       "  </thead>\n",
       "  <tbody>\n",
       "    <tr>\n",
       "      <td>0</td>\n",
       "      <td>3214298</td>\n",
       "      <td>146574</td>\n",
       "      <td>4915491</td>\n",
       "      <td>43962242</td>\n",
       "      <td>02312071625</td>\n",
       "      <td>2021-01-01</td>\n",
       "      <td>1</td>\n",
       "      <td>None</td>\n",
       "    </tr>\n",
       "    <tr>\n",
       "      <td>1</td>\n",
       "      <td>3214299</td>\n",
       "      <td>127592</td>\n",
       "      <td>4915513</td>\n",
       "      <td>43962236</td>\n",
       "      <td>01720130579</td>\n",
       "      <td>2021-01-01</td>\n",
       "      <td>1</td>\n",
       "      <td>None</td>\n",
       "    </tr>\n",
       "    <tr>\n",
       "      <td>2</td>\n",
       "      <td>3214300</td>\n",
       "      <td>127592</td>\n",
       "      <td>4915513</td>\n",
       "      <td>43962236</td>\n",
       "      <td>03515920012</td>\n",
       "      <td>2021-01-01</td>\n",
       "      <td>1</td>\n",
       "      <td>G33831</td>\n",
       "    </tr>\n",
       "    <tr>\n",
       "      <td>3</td>\n",
       "      <td>3214301</td>\n",
       "      <td>127592</td>\n",
       "      <td>4915513</td>\n",
       "      <td>43962236</td>\n",
       "      <td>49666020021</td>\n",
       "      <td>2021-01-01</td>\n",
       "      <td>1</td>\n",
       "      <td>None</td>\n",
       "    </tr>\n",
       "    <tr>\n",
       "      <td>4</td>\n",
       "      <td>3214302</td>\n",
       "      <td>127592</td>\n",
       "      <td>4915513</td>\n",
       "      <td>43962236</td>\n",
       "      <td>57502080204</td>\n",
       "      <td>2021-01-01</td>\n",
       "      <td>1</td>\n",
       "      <td>None</td>\n",
       "    </tr>\n",
       "    <tr>\n",
       "      <td>...</td>\n",
       "      <td>...</td>\n",
       "      <td>...</td>\n",
       "      <td>...</td>\n",
       "      <td>...</td>\n",
       "      <td>...</td>\n",
       "      <td>...</td>\n",
       "      <td>...</td>\n",
       "      <td>...</td>\n",
       "    </tr>\n",
       "    <tr>\n",
       "      <td>3638429</td>\n",
       "      <td>3804567</td>\n",
       "      <td>58844</td>\n",
       "      <td>4915514</td>\n",
       "      <td>45065979</td>\n",
       "      <td>01902930201</td>\n",
       "      <td>2022-01-08</td>\n",
       "      <td>1</td>\n",
       "      <td>H25608</td>\n",
       "    </tr>\n",
       "    <tr>\n",
       "      <td>3638430</td>\n",
       "      <td>3804568</td>\n",
       "      <td>52008</td>\n",
       "      <td>4915513</td>\n",
       "      <td>45071288</td>\n",
       "      <td>01001961612</td>\n",
       "      <td>2022-01-10</td>\n",
       "      <td>1</td>\n",
       "      <td>I35196</td>\n",
       "    </tr>\n",
       "    <tr>\n",
       "      <td>3638431</td>\n",
       "      <td>3804569</td>\n",
       "      <td>52008</td>\n",
       "      <td>4915513</td>\n",
       "      <td>45071220</td>\n",
       "      <td>02501041028</td>\n",
       "      <td>2022-01-10</td>\n",
       "      <td>1</td>\n",
       "      <td>None</td>\n",
       "    </tr>\n",
       "    <tr>\n",
       "      <td>3638432</td>\n",
       "      <td>3804570</td>\n",
       "      <td>52008</td>\n",
       "      <td>4915513</td>\n",
       "      <td>45071054</td>\n",
       "      <td>03601871351</td>\n",
       "      <td>2022-01-10</td>\n",
       "      <td>1</td>\n",
       "      <td>E85151</td>\n",
       "    </tr>\n",
       "    <tr>\n",
       "      <td>3638433</td>\n",
       "      <td>3804571</td>\n",
       "      <td>128221</td>\n",
       "      <td>4915513</td>\n",
       "      <td>45071050</td>\n",
       "      <td>03806952833</td>\n",
       "      <td>2022-01-10</td>\n",
       "      <td>1</td>\n",
       "      <td>H74421</td>\n",
       "    </tr>\n",
       "  </tbody>\n",
       "</table>\n",
       "<p>3638434 rows × 8 columns</p>\n",
       "</div>"
      ],
      "text/plain": [
       "              id  customer  product    number medical_education_number  \\\n",
       "0        3214298    146574  4915491  43962242              02312071625   \n",
       "1        3214299    127592  4915513  43962236              01720130579   \n",
       "2        3214300    127592  4915513  43962236              03515920012   \n",
       "3        3214301    127592  4915513  43962236              49666020021   \n",
       "4        3214302    127592  4915513  43962236              57502080204   \n",
       "...          ...       ...      ...       ...                      ...   \n",
       "3638429  3804567     58844  4915514  45065979              01902930201   \n",
       "3638430  3804568     52008  4915513  45071288              01001961612   \n",
       "3638431  3804569     52008  4915513  45071220              02501041028   \n",
       "3638432  3804570     52008  4915513  45071054              03601871351   \n",
       "3638433  3804571    128221  4915513  45071050              03806952833   \n",
       "\n",
       "               date quantity unique_physician_identification_number  \n",
       "0        2021-01-01        1                                   None  \n",
       "1        2021-01-01        1                                   None  \n",
       "2        2021-01-01        1                                 G33831  \n",
       "3        2021-01-01        1                                   None  \n",
       "4        2021-01-01        1                                   None  \n",
       "...             ...      ...                                    ...  \n",
       "3638429  2022-01-08        1                                 H25608  \n",
       "3638430  2022-01-10        1                                 I35196  \n",
       "3638431  2022-01-10        1                                   None  \n",
       "3638432  2022-01-10        1                                 E85151  \n",
       "3638433  2022-01-10        1                                 H74421  \n",
       "\n",
       "[3638434 rows x 8 columns]"
      ]
     },
     "execution_count": 4,
     "metadata": {},
     "output_type": "execute_result"
    }
   ],
   "source": [
    "ov_orders"
   ]
  },
  {
   "cell_type": "code",
   "execution_count": null,
   "metadata": {},
   "outputs": [],
   "source": [
    "#OneView orders query\n",
    "ov_ppd_sql = '''\n",
    "    SELECT * FROM ONEVIEW.PHYSICIAN\n",
    "    '''\n",
    "ov_ppd = pd.read_sql_query(ov_ppd_sql, conn)"
   ]
  },
  {
   "cell_type": "code",
   "execution_count": null,
   "metadata": {},
   "outputs": [],
   "source": [
    "#OneView CUSTOMER query\n",
    "ov_customer_sql = '''\n",
    "    SELECT * FROM ONEVIEW.CREDENTIALING_CUSTOMER\n",
    "    '''\n",
    "ov_customer = pd.read_sql_query(ov_customer_sql, conn)"
   ]
  },
  {
   "cell_type": "code",
   "execution_count": null,
   "metadata": {},
   "outputs": [],
   "source": [
    "f\"\"\"\n",
    "            SELECT DISTINCT\n",
    "            D.FULL_DT,\n",
    "            H.MED_EDU_NBR AS ME,\n",
    "            H.PARTY_ID,\n",
    "            O.ORDER_NBR,\n",
    "            O.ORDER_PRODUCT_ID,\n",
    "            O.ORDER_PHYSICIAN_HIST_KEY,\n",
    "            O.CUSTOMER_KEY\n",
    "            FROM\n",
    "            AMADM.DIM_DATE D, AMADM.FACT_EPROFILE_ORDERS O, AMADM.DIM_PHYSICIAN_HIST H\n",
    "            WHERE\n",
    "            D.DATE_KEY = O.ORDER_DT_KEY\n",
    "            AND\n",
    "            H.PHYSICIAN_HIST_KEY = O.ORDER_PHYSICIAN_HIST_KEY\n",
    "            AND\n",
    "            D.YR in {years}\n",
    "            AND\n",
    "            O.ORDER_PRODUCT_ID IN {products}\n",
    "            \"\"\""
   ]
  },
  {
   "cell_type": "code",
   "execution_count": null,
   "metadata": {},
   "outputs": [],
   "source": [
    "len(dm_orders_2)"
   ]
  },
  {
   "cell_type": "code",
   "execution_count": null,
   "metadata": {},
   "outputs": [],
   "source": [
    "#DataMart orders query\n",
    "dm_orders_sql = '''\n",
    "    SELECT\n",
    "    O.FACT_EPROFILE_KEY AS ID,\n",
    "    O.CUSTOMER_KEY AS CUSTOMER,\n",
    "    O.ORDER_PRODUCT_ID AS PRODUCT, \n",
    "    O.ORDER_NBR AS NUMBER,\n",
    "    H.MED_EDU_NBR AS MEDICAL_EDUCATION_NUMBER,\n",
    "    D.FULL_DT AS DATE,\n",
    "    O.QUANTITY,\n",
    "    H.UPIN_NBR AS UNIQUE_PHYSICIAN_IDENTIFICATION_NUMBER\n",
    "    FROM \n",
    "    AMADM.DIM_DATE D, AMADM.FACT_EPROFILE_ORDERS O, AMADM.DIM_PHYSICIAN_HIST H\n",
    "    WHERE  \n",
    "    D.DATE_KEY = O.ORDER_DT_KEY\n",
    "    AND \n",
    "    H.PHYSICIAN_HIST_KEY = O.ORDER_PHYSICIAN_HIST_KEY\n",
    "    '''\n",
    "dm_orders_2 = pd.read_sql(con=AMADM, sql=dm_orders_sql)"
   ]
  },
  {
   "cell_type": "code",
   "execution_count": 7,
   "metadata": {},
   "outputs": [
    {
     "data": {
      "text/plain": [
       "11"
      ]
     },
     "execution_count": 7,
     "metadata": {},
     "output_type": "execute_result"
    }
   ],
   "source": [
    "datetime.today().month"
   ]
  },
  {
   "cell_type": "code",
   "execution_count": 17,
   "metadata": {},
   "outputs": [],
   "source": [
    "#DataMart orders query\n",
    "dm_orders_sql = f'''\n",
    "    SELECT DISTINCT\n",
    "    O.FACT_EPROFILE_KEY AS ID,\n",
    "    O.CUSTOMER_KEY AS CUSTOMER,\n",
    "    O.ORDER_PRODUCT_ID AS PRODUCT, \n",
    "    O.ORDER_NBR AS NUMBER,\n",
    "    H.MED_EDU_NBR AS MEDICAL_EDUCATION_NUMBER,\n",
    "    D.FULL_DT AS DATE,\n",
    "    O.QUANTITY,\n",
    "    H.UPIN_NBR AS UNIQUE_PHYSICIAN_IDENTIFICATION_NUMBER\n",
    "    FROM \n",
    "    AMADM.DIM_DATE D, AMADM.FACT_EPROFILE_ORDERS O, AMADM.DIM_PHYSICIAN_HIST H\n",
    "    WHERE  \n",
    "    D.DATE_KEY = O.ORDER_DT_KEY\n",
    "    AND \n",
    "    H.PHYSICIAN_HIST_KEY = O.ORDER_PHYSICIAN_HIST_KEY\n",
    "    AND \n",
    "    D.MONTH_NBR = {datetime.today().month}\n",
    "    ORDER BY FACT_EPROFILE_KEY\n",
    "    '''\n",
    "dm_orders_3 = pd.read_sql(con=AMADM, sql=dm_orders_sql)"
   ]
  },
  {
   "cell_type": "code",
   "execution_count": 16,
   "metadata": {},
   "outputs": [
    {
     "data": {
      "text/html": [
       "<div>\n",
       "<style scoped>\n",
       "    .dataframe tbody tr th:only-of-type {\n",
       "        vertical-align: middle;\n",
       "    }\n",
       "\n",
       "    .dataframe tbody tr th {\n",
       "        vertical-align: top;\n",
       "    }\n",
       "\n",
       "    .dataframe thead th {\n",
       "        text-align: right;\n",
       "    }\n",
       "</style>\n",
       "<table border=\"1\" class=\"dataframe\">\n",
       "  <thead>\n",
       "    <tr style=\"text-align: right;\">\n",
       "      <th></th>\n",
       "      <th>ID</th>\n",
       "      <th>CUSTOMER</th>\n",
       "      <th>PRODUCT</th>\n",
       "      <th>NUMBER</th>\n",
       "      <th>MEDICAL_EDUCATION_NUMBER</th>\n",
       "      <th>DATE</th>\n",
       "      <th>QUANTITY</th>\n",
       "      <th>UNIQUE_PHYSICIAN_IDENTIFICATION_NUMBER</th>\n",
       "    </tr>\n",
       "  </thead>\n",
       "  <tbody>\n",
       "    <tr>\n",
       "      <td>0</td>\n",
       "      <td>3390355</td>\n",
       "      <td>53389</td>\n",
       "      <td>4922511</td>\n",
       "      <td>44293730</td>\n",
       "      <td>04113031714</td>\n",
       "      <td>2021-04-17</td>\n",
       "      <td>1</td>\n",
       "      <td>None</td>\n",
       "    </tr>\n",
       "    <tr>\n",
       "      <td>1</td>\n",
       "      <td>3609621</td>\n",
       "      <td>53389</td>\n",
       "      <td>4915503</td>\n",
       "      <td>44715117</td>\n",
       "      <td>-1</td>\n",
       "      <td>2021-08-24</td>\n",
       "      <td>1</td>\n",
       "      <td>None</td>\n",
       "    </tr>\n",
       "    <tr>\n",
       "      <td>2</td>\n",
       "      <td>3609622</td>\n",
       "      <td>53389</td>\n",
       "      <td>4915503</td>\n",
       "      <td>44715117</td>\n",
       "      <td>-1</td>\n",
       "      <td>2021-08-24</td>\n",
       "      <td>1</td>\n",
       "      <td>None</td>\n",
       "    </tr>\n",
       "    <tr>\n",
       "      <td>3</td>\n",
       "      <td>3609623</td>\n",
       "      <td>53389</td>\n",
       "      <td>4915503</td>\n",
       "      <td>44715117</td>\n",
       "      <td>-1</td>\n",
       "      <td>2021-08-24</td>\n",
       "      <td>1</td>\n",
       "      <td>None</td>\n",
       "    </tr>\n",
       "    <tr>\n",
       "      <td>4</td>\n",
       "      <td>3609624</td>\n",
       "      <td>53389</td>\n",
       "      <td>4915503</td>\n",
       "      <td>44715117</td>\n",
       "      <td>-1</td>\n",
       "      <td>2021-08-24</td>\n",
       "      <td>1</td>\n",
       "      <td>None</td>\n",
       "    </tr>\n",
       "    <tr>\n",
       "      <td>...</td>\n",
       "      <td>...</td>\n",
       "      <td>...</td>\n",
       "      <td>...</td>\n",
       "      <td>...</td>\n",
       "      <td>...</td>\n",
       "      <td>...</td>\n",
       "      <td>...</td>\n",
       "      <td>...</td>\n",
       "    </tr>\n",
       "    <tr>\n",
       "      <td>520855</td>\n",
       "      <td>3735252</td>\n",
       "      <td>154113</td>\n",
       "      <td>4915514</td>\n",
       "      <td>44913825</td>\n",
       "      <td>01720001493</td>\n",
       "      <td>2021-11-15</td>\n",
       "      <td>1</td>\n",
       "      <td>I07719</td>\n",
       "    </tr>\n",
       "    <tr>\n",
       "      <td>520856</td>\n",
       "      <td>3735253</td>\n",
       "      <td>154113</td>\n",
       "      <td>4915514</td>\n",
       "      <td>44912926</td>\n",
       "      <td>67202120111</td>\n",
       "      <td>2021-11-15</td>\n",
       "      <td>1</td>\n",
       "      <td>None</td>\n",
       "    </tr>\n",
       "    <tr>\n",
       "      <td>520857</td>\n",
       "      <td>3735254</td>\n",
       "      <td>52666</td>\n",
       "      <td>4915513</td>\n",
       "      <td>44913591</td>\n",
       "      <td>04813190597</td>\n",
       "      <td>2021-11-15</td>\n",
       "      <td>1</td>\n",
       "      <td>None</td>\n",
       "    </tr>\n",
       "    <tr>\n",
       "      <td>520858</td>\n",
       "      <td>3735255</td>\n",
       "      <td>59786</td>\n",
       "      <td>4915513</td>\n",
       "      <td>44912733</td>\n",
       "      <td>70402020596</td>\n",
       "      <td>2021-11-15</td>\n",
       "      <td>1</td>\n",
       "      <td>None</td>\n",
       "    </tr>\n",
       "    <tr>\n",
       "      <td>520859</td>\n",
       "      <td>3735256</td>\n",
       "      <td>52312</td>\n",
       "      <td>4915513</td>\n",
       "      <td>44913362</td>\n",
       "      <td>30807822477</td>\n",
       "      <td>2021-11-15</td>\n",
       "      <td>1</td>\n",
       "      <td>F39017</td>\n",
       "    </tr>\n",
       "  </tbody>\n",
       "</table>\n",
       "<p>520860 rows × 8 columns</p>\n",
       "</div>"
      ],
      "text/plain": [
       "             ID CUSTOMER  PRODUCT    NUMBER MEDICAL_EDUCATION_NUMBER  \\\n",
       "0       3390355    53389  4922511  44293730              04113031714   \n",
       "1       3609621    53389  4915503  44715117                       -1   \n",
       "2       3609622    53389  4915503  44715117                       -1   \n",
       "3       3609623    53389  4915503  44715117                       -1   \n",
       "4       3609624    53389  4915503  44715117                       -1   \n",
       "...         ...      ...      ...       ...                      ...   \n",
       "520855  3735252   154113  4915514  44913825              01720001493   \n",
       "520856  3735253   154113  4915514  44912926              67202120111   \n",
       "520857  3735254    52666  4915513  44913591              04813190597   \n",
       "520858  3735255    59786  4915513  44912733              70402020596   \n",
       "520859  3735256    52312  4915513  44913362              30807822477   \n",
       "\n",
       "              DATE  QUANTITY UNIQUE_PHYSICIAN_IDENTIFICATION_NUMBER  \n",
       "0       2021-04-17         1                                   None  \n",
       "1       2021-08-24         1                                   None  \n",
       "2       2021-08-24         1                                   None  \n",
       "3       2021-08-24         1                                   None  \n",
       "4       2021-08-24         1                                   None  \n",
       "...            ...       ...                                    ...  \n",
       "520855  2021-11-15         1                                 I07719  \n",
       "520856  2021-11-15         1                                   None  \n",
       "520857  2021-11-15         1                                   None  \n",
       "520858  2021-11-15         1                                   None  \n",
       "520859  2021-11-15         1                                 F39017  \n",
       "\n",
       "[520860 rows x 8 columns]"
      ]
     },
     "execution_count": 16,
     "metadata": {},
     "output_type": "execute_result"
    }
   ],
   "source": [
    "dm_orders_3"
   ]
  },
  {
   "cell_type": "code",
   "execution_count": null,
   "metadata": {},
   "outputs": [],
   "source": [
    "#DataMart orders query\n",
    "dm_orders_sql = '''\n",
    "    SELECT \n",
    "    O.FACT_EPROFILE_KEY AS ID,\n",
    "    O.CUSTOMER_KEY AS CUSTOMER,\n",
    "    O.ORDER_PRODUCT_ID AS PRODUCT, \n",
    "    O.ORDER_NBR AS NUMBER,\n",
    "    H.MED_EDU_NBR AS MEDICAL_EDUCATION_NUMBER,\n",
    "    D.FULL_DT AS DATE,\n",
    "    O.QUANTITY,\n",
    "    H.UPIN_NBR AS UNIQUE_PHYSICIAN_IDENTIFICATION_NUMBER\n",
    "    FROM \n",
    "    AMADM.DIM_DATE D, AMADM.FACT_EPROFILE_ORDERS O, AMADM.DIM_PHYSICIAN_HIST H\n",
    "    WHERE  \n",
    "    D.DATE_KEY = O.ORDER_DT_KEY\n",
    "    AND \n",
    "    H.PHYSICIAN_HIST_KEY = O.ORDER_PHYSICIAN_HIST_KEY\n",
    "    AND \n",
    "    D.FULL_DT>'2021-11-11'\n",
    "    '''\n",
    "dm_orders_3 = pd.read_sql(con=AMADM, sql=dm_orders_sql)"
   ]
  },
  {
   "cell_type": "code",
   "execution_count": null,
   "metadata": {},
   "outputs": [],
   "source": [
    "dm_orders_1.drop_duplicates('ID')"
   ]
  },
  {
   "cell_type": "code",
   "execution_count": null,
   "metadata": {},
   "outputs": [],
   "source": [
    "dm_orders_1.columns = [c.lower() for c in dm_orders_1.columns.values]"
   ]
  },
  {
   "cell_type": "code",
   "execution_count": null,
   "metadata": {},
   "outputs": [],
   "source": [
    "dm_orders = dm_orders_1[dm_orders_1.medical_education_number.isin(ov_ppd.medical_education_number)]"
   ]
  },
  {
   "cell_type": "code",
   "execution_count": null,
   "metadata": {},
   "outputs": [],
   "source": [
    "ov_orders['unique_physician_identification_number'] = ['None' if x=='(null)' else x for x in ov_orders.unique_physician_identification_number]"
   ]
  },
  {
   "cell_type": "code",
   "execution_count": null,
   "metadata": {},
   "outputs": [],
   "source": [
    "ov_orders['date']=pd.to_datetime(ov_orders.date)"
   ]
  },
  {
   "cell_type": "code",
   "execution_count": null,
   "metadata": {},
   "outputs": [],
   "source": [
    "dm_orders['date']=pd.to_datetime(dm_orders.date)"
   ]
  },
  {
   "cell_type": "code",
   "execution_count": null,
   "metadata": {},
   "outputs": [],
   "source": [
    "order_compare = datacompy.Compare(ov_orders, dm_orders, join_columns='id', df1_name = 'oneview', df2_name = 'datamart')"
   ]
  },
  {
   "cell_type": "code",
   "execution_count": null,
   "metadata": {},
   "outputs": [],
   "source": [
    "print(order_compare)"
   ]
  },
  {
   "cell_type": "code",
   "execution_count": null,
   "metadata": {},
   "outputs": [],
   "source": [
    "dm_orders['customer']=dm_orders.customer.astype(int)"
   ]
  },
  {
   "cell_type": "code",
   "execution_count": null,
   "metadata": {},
   "outputs": [],
   "source": [
    "test_2 = dm_orders[dm_orders.customer.isin(ov_customer.id)]"
   ]
  },
  {
   "cell_type": "code",
   "execution_count": null,
   "metadata": {},
   "outputs": [],
   "source": [
    "test_2[test_2.medical_education_number.isin(ov_ppd.medical_education_number)]"
   ]
  },
  {
   "cell_type": "code",
   "execution_count": null,
   "metadata": {},
   "outputs": [],
   "source": [
    "test_2[test_2.duplicated(subset='medical_education_number', keep=False)]"
   ]
  },
  {
   "cell_type": "code",
   "execution_count": null,
   "metadata": {},
   "outputs": [],
   "source": [
    "len(test_2)"
   ]
  },
  {
   "cell_type": "code",
   "execution_count": null,
   "metadata": {},
   "outputs": [],
   "source": [
    "#1,650,509\n",
    "#1,651,281"
   ]
  },
  {
   "cell_type": "code",
   "execution_count": null,
   "metadata": {},
   "outputs": [],
   "source": [
    "1901349/3552630"
   ]
  },
  {
   "cell_type": "code",
   "execution_count": null,
   "metadata": {},
   "outputs": [],
   "source": [
    "print(order_compare.report())"
   ]
  },
  {
   "cell_type": "code",
   "execution_count": null,
   "metadata": {},
   "outputs": [],
   "source": [
    "order_test = order_compare.df2_unq_rows"
   ]
  },
  {
   "cell_type": "code",
   "execution_count": null,
   "metadata": {},
   "outputs": [],
   "source": [
    "order_test"
   ]
  },
  {
   "cell_type": "code",
   "execution_count": null,
   "metadata": {},
   "outputs": [],
   "source": [
    "order_compare.df2_unq_rows.sample(100).to_csv('../../Data/OneView_Testing/Missing_CredentialingOrder_Rows_211102.csv', index=False)"
   ]
  },
  {
   "cell_type": "code",
   "execution_count": null,
   "metadata": {},
   "outputs": [],
   "source": [
    "ov_orders[ov_orders.customer.isin(ov_customer.id)]"
   ]
  },
  {
   "cell_type": "code",
   "execution_count": null,
   "metadata": {},
   "outputs": [],
   "source": [
    "len(ov_customer)"
   ]
  },
  {
   "cell_type": "code",
   "execution_count": null,
   "metadata": {},
   "outputs": [],
   "source": [
    "#OneView Product query\n",
    "ov_product_sql = '''\n",
    "    SELECT * FROM ONEVIEW.CREDENTIALING_PRODUCT\n",
    "    '''\n",
    "ov_product = pd.read_sql_query(ov_product_sql, conn)"
   ]
  },
  {
   "cell_type": "code",
   "execution_count": null,
   "metadata": {},
   "outputs": [],
   "source": [
    "len(ov_product)"
   ]
  },
  {
   "cell_type": "code",
   "execution_count": null,
   "metadata": {},
   "outputs": [],
   "source": [
    "#DataMart Product query\n",
    "dm_product_sql = '''\n",
    "    SELECT\n",
    "    PRODUCT_ID AS ID,\n",
    "    PRODUCT_DESC AS DESCRIPTION\n",
    "    FROM \n",
    "    AMADM.DIM_PRODUCT\n",
    "    '''\n",
    "dm_product = pd.read_sql(con=AMADM, sql=dm_product_sql)"
   ]
  },
  {
   "cell_type": "code",
   "execution_count": null,
   "metadata": {},
   "outputs": [],
   "source": [
    "product_4 = pd.read_csv('../../Data/MasterfileCore/credentialing_product_new.csv')"
   ]
  },
  {
   "cell_type": "code",
   "execution_count": null,
   "metadata": {},
   "outputs": [],
   "source": [
    "product_4 = product_4.rename(columns={'product_id':'id','product_desc':'description'})"
   ]
  },
  {
   "cell_type": "code",
   "execution_count": null,
   "metadata": {},
   "outputs": [],
   "source": [
    "product_4.columns"
   ]
  },
  {
   "cell_type": "code",
   "execution_count": null,
   "metadata": {},
   "outputs": [],
   "source": [
    "product_compare = datacompy.Compare(dm_product, ov_product, join_columns='id', df1_name = 'datamart', df2_name = 'udrive')"
   ]
  },
  {
   "cell_type": "code",
   "execution_count": null,
   "metadata": {},
   "outputs": [],
   "source": [
    "print(product_compare.report())"
   ]
  },
  {
   "cell_type": "code",
   "execution_count": null,
   "metadata": {},
   "outputs": [],
   "source": [
    "product_compare.sample_mismatch(column=\"description\", sample_count=315).dropna().rename(columns={'description_df1':'description_oneview','description_df2':'description_datamart'})"
   ]
  },
  {
   "cell_type": "code",
   "execution_count": null,
   "metadata": {},
   "outputs": [],
   "source": [
    "product_compare.df2_unq_rows.sample(100).to_csv('../../Data/OneView_Testing/Missing_CredentialingProduct_Rows.csv', index=False)"
   ]
  },
  {
   "cell_type": "code",
   "execution_count": null,
   "metadata": {},
   "outputs": [],
   "source": [
    "pd.read"
   ]
  },
  {
   "cell_type": "code",
   "execution_count": null,
   "metadata": {},
   "outputs": [],
   "source": [
    "#DataMart Product query\n",
    "dm_customer_sql = '''\n",
    "    SELECT DISTINCT\n",
    "    CUSTOMER_KEY AS id,\n",
    "    CUSTOMER_NBR AS number,\n",
    "    CUSTOMER_NAME as name,\n",
    "    CUSTOMER_TYPE as type,\n",
    "    CUSTOMER_TYPE_DESC as type_description,\n",
    "    CUSTOMER_CATEGORY as category,\n",
    "    CUSTOMER_CATEGORY_DESC as category_description,\n",
    "    CURRENT_IND as current_indicator,\n",
    "    DW_UPDATED_TS\n",
    "    FROM \n",
    "    AMADM.DIM_CUSTOMER\n",
    "    '''\n",
    "dm_customer = pd.read_sql(con=AMADM, sql=dm_customer_sql)"
   ]
  },
  {
   "cell_type": "code",
   "execution_count": null,
   "metadata": {},
   "outputs": [],
   "source": [
    "dm_customer"
   ]
  },
  {
   "cell_type": "code",
   "execution_count": null,
   "metadata": {},
   "outputs": [],
   "source": [
    "org_addresses = pd.read_excel('../../Data/MasterfileCore/Org_Addresses.xlsx')"
   ]
  },
  {
   "cell_type": "code",
   "execution_count": null,
   "metadata": {},
   "outputs": [],
   "source": [
    "org_addresses = org_addresses.rename(columns={'street_one':'address_1','street_two':'address_2','street_three':'address_3'})"
   ]
  },
  {
   "cell_type": "code",
   "execution_count": null,
   "metadata": {},
   "outputs": [],
   "source": [
    "dm_customer.columns = [c.lower() for c in dm_customer.columns.values]"
   ]
  },
  {
   "cell_type": "code",
   "execution_count": null,
   "metadata": {},
   "outputs": [],
   "source": [
    "dm_customer['number'] = [str(int(x)) for x in dm_customer.number]\n",
    "org_addresses['number'] = [str(x) for x in org_addresses.number]"
   ]
  },
  {
   "cell_type": "code",
   "execution_count": null,
   "metadata": {},
   "outputs": [],
   "source": [
    "dm_customer_2 = pd.merge(org_addresses, dm_customer, on='number', how='right')"
   ]
  },
  {
   "cell_type": "code",
   "execution_count": null,
   "metadata": {},
   "outputs": [],
   "source": [
    "dm_customer['customer_id']=dm_customer.number.astype('int64')"
   ]
  },
  {
   "cell_type": "code",
   "execution_count": null,
   "metadata": {},
   "outputs": [],
   "source": [
    "dm_customer[dm_customer.customer_id.isin(ov_orders.customer)]"
   ]
  },
  {
   "cell_type": "code",
   "execution_count": null,
   "metadata": {},
   "outputs": [],
   "source": [
    "customer_compare = datacompy.Compare(ov_customer, dm_customer_2, join_columns='id', df1_name = 'oneview', df2_name = 'datamart')"
   ]
  },
  {
   "cell_type": "code",
   "execution_count": null,
   "metadata": {},
   "outputs": [],
   "source": [
    "print(customer_compare.report())"
   ]
  },
  {
   "cell_type": "code",
   "execution_count": null,
   "metadata": {},
   "outputs": [],
   "source": [
    "customer_compare.df2_unq_rows.to_csv('../../Data/OneView_Testing/Missing_CredentialingCustomer_Rows_211102.csv', index=False)"
   ]
  },
  {
   "cell_type": "code",
   "execution_count": null,
   "metadata": {},
   "outputs": [],
   "source": [
    "customer_compare.df2_unq_rows.sample(100).to_csv('../../Data/OneView_Testing/Missing_CredentialingCustomer_Rows.csv', index=False)"
   ]
  },
  {
   "cell_type": "code",
   "execution_count": null,
   "metadata": {},
   "outputs": [],
   "source": [
    "cust = customer_compare.df2_unq_rows"
   ]
  },
  {
   "cell_type": "code",
   "execution_count": null,
   "metadata": {},
   "outputs": [],
   "source": [
    "dm_customer_2['updated'] = pd.to_datetime(dm_customer_2.dw_updated_ts)"
   ]
  },
  {
   "cell_type": "code",
   "execution_count": null,
   "metadata": {},
   "outputs": [],
   "source": [
    "dm_customer_2[(dm_customer_2.updated>datetime(2021,10,13))&(dm_customer_2.id.isin(misindicator.id))]"
   ]
  },
  {
   "cell_type": "code",
   "execution_count": null,
   "metadata": {},
   "outputs": [],
   "source": [
    "cust[cust.updated<datetime(2021,10,13)]"
   ]
  },
  {
   "cell_type": "code",
   "execution_count": null,
   "metadata": {},
   "outputs": [],
   "source": [
    "name_test = customer_compare.sample_mismatch(column=\"name\", sample_count=683)"
   ]
  },
  {
   "cell_type": "code",
   "execution_count": null,
   "metadata": {},
   "outputs": [],
   "source": [
    "dm_customer[dm_customer.id==158351]"
   ]
  },
  {
   "cell_type": "code",
   "execution_count": null,
   "metadata": {},
   "outputs": [],
   "source": [
    "misindicator = customer_compare.sample_mismatch(column=\"current_indicator\", sample_count=73)"
   ]
  },
  {
   "cell_type": "code",
   "execution_count": null,
   "metadata": {},
   "outputs": [],
   "source": [
    "customer_compare.sample_mismatch(column=\"current_indicator\", sample_count=73).to_csv('../../Data/OneView_Testing/CredentialingCustomer_Current_Indicator_mismatches_update.csv', index=False)"
   ]
  },
  {
   "cell_type": "code",
   "execution_count": null,
   "metadata": {},
   "outputs": [],
   "source": [
    "ov_customer.columns"
   ]
  },
  {
   "cell_type": "code",
   "execution_count": null,
   "metadata": {},
   "outputs": [],
   "source": [
    "dm_customer.columns"
   ]
  },
  {
   "cell_type": "code",
   "execution_count": null,
   "metadata": {},
   "outputs": [],
   "source": [
    "name_test.dropna(subset=['name_df2'])"
   ]
  },
  {
   "cell_type": "code",
   "execution_count": null,
   "metadata": {},
   "outputs": [],
   "source": [
    "duplicates = pd.read_csv('../../Data/MasterfileCore/duplicates.csv')"
   ]
  },
  {
   "cell_type": "code",
   "execution_count": null,
   "metadata": {},
   "outputs": [],
   "source": [
    "duplicates = duplicates[dm_orders.columns]"
   ]
  },
  {
   "cell_type": "code",
   "execution_count": null,
   "metadata": {},
   "outputs": [],
   "source": [
    "dm_orders.sort_values('id')"
   ]
  },
  {
   "cell_type": "code",
   "execution_count": null,
   "metadata": {},
   "outputs": [],
   "source": [
    "duplicates[~duplicates.id.isin(dm_orders.id)]"
   ]
  },
  {
   "cell_type": "code",
   "execution_count": null,
   "metadata": {},
   "outputs": [],
   "source": [
    "#NOT THIS ONE\n",
    "#DataMart orders query\n",
    "dm_orders_sql = '''\n",
    "    SELECT\n",
    "    O.FACT_EPROFILE_KEY AS ID,\n",
    "    O.CUSTOMER_KEY AS CUSTOMER,\n",
    "    O.ORDER_PRODUCT_ID AS PRODUCT, \n",
    "    O.ORDER_NBR AS NUMBER,\n",
    "    H.MED_EDU_NBR AS MEDICAL_EDUCATION_NUMBER,\n",
    "    D.FULL_DT AS DATE,\n",
    "    O.QUANTITY,\n",
    "    H.UPIN_NBR AS UNIQUE_PHYSICIAN_IDENTIFICATION_NUMBER\n",
    "    FROM \n",
    "    AMADM.DIM_DATE D, AMADM.FACT_EPROFILE_ORDERS O, AMADM.DIM_PHYSICIAN_HIST H\n",
    "    WHERE  \n",
    "    D.DATE_KEY = O.ORDER_DT_KEY\n",
    "    AND \n",
    "    H.PHYSICIAN_HIST_KEY = O.ORDER_PHYSICIAN_HIST_KEY\n",
    "    '''\n",
    "dm_orders_1 = pd.read_sql(con=AMADM, sql=dm_orders_sql)"
   ]
  },
  {
   "cell_type": "code",
   "execution_count": null,
   "metadata": {},
   "outputs": [],
   "source": [
    "ov_ppd[ov_ppd.first_name==\"DE'ANDRE\"]"
   ]
  },
  {
   "cell_type": "code",
   "execution_count": 1,
   "metadata": {},
   "outputs": [
    {
     "ename": "NameError",
     "evalue": "name 'ov_ppd' is not defined",
     "output_type": "error",
     "traceback": [
      "\u001b[1;31m---------------------------------------------------------------------------\u001b[0m",
      "\u001b[1;31mNameError\u001b[0m                                 Traceback (most recent call last)",
      "\u001b[1;32m<ipython-input-1-2a4e5a70575f>\u001b[0m in \u001b[0;36m<module>\u001b[1;34m\u001b[0m\n\u001b[1;32m----> 1\u001b[1;33m \u001b[0mov_ppd\u001b[0m\u001b[1;33m\u001b[0m\u001b[1;33m\u001b[0m\u001b[0m\n\u001b[0m",
      "\u001b[1;31mNameError\u001b[0m: name 'ov_ppd' is not defined"
     ]
    }
   ],
   "source": [
    "ov_ppd"
   ]
  },
  {
   "cell_type": "code",
   "execution_count": null,
   "metadata": {},
   "outputs": [],
   "source": []
  }
 ],
 "metadata": {
  "kernelspec": {
   "display_name": "Python 3",
   "language": "python",
   "name": "python3"
  },
  "language_info": {
   "codemirror_mode": {
    "name": "ipython",
    "version": 3
   },
   "file_extension": ".py",
   "mimetype": "text/x-python",
   "name": "python",
   "nbconvert_exporter": "python",
   "pygments_lexer": "ipython3",
   "version": "3.7.4"
  }
 },
 "nbformat": 4,
 "nbformat_minor": 2
}
