{
 "cells": [
  {
   "cell_type": "code",
   "execution_count": 1,
   "metadata": {},
   "outputs": [],
   "source": [
    "import psycopg2\n",
    "import pandas as pd\n",
    "import datacompy\n",
    "import pyodbc\n",
    "import useful_functions as use"
   ]
  },
  {
   "cell_type": "code",
   "execution_count": 20,
   "metadata": {},
   "outputs": [],
   "source": [
    "conn = psycopg2.connect(\n",
    "    host='oneview-dev-content-aurora-cluster.cluster-cwp4vd8mllvz.us-east-1.rds.amazonaws.com',\n",
    "    database='oneview_content',\n",
    "    user='oneviewadmin',\n",
    "    password='m3CUmKz0OEOA0Mej')"
   ]
  },
  {
   "cell_type": "code",
   "execution_count": 12,
   "metadata": {},
   "outputs": [],
   "source": [
    "test = pd.read_csv('../../Data/MasterfileCore/PhysicianRaceEthnicity_2021-12-08.psv', sep='|')"
   ]
  },
  {
   "cell_type": "code",
   "execution_count": 13,
   "metadata": {},
   "outputs": [
    {
     "data": {
      "text/plain": [
       "1723895"
      ]
     },
     "execution_count": 13,
     "metadata": {},
     "output_type": "execute_result"
    }
   ],
   "source": [
    "len(test)"
   ]
  },
  {
   "cell_type": "code",
   "execution_count": 21,
   "metadata": {},
   "outputs": [],
   "source": [
    "ov_physician_sql = '''\n",
    "    SELECT MEDICAL_EDUCATION_NUMBER, RACE_ETHNICITY FROM ONEVIEW.physician\n",
    "    '''\n",
    "physician = pd.read_sql_query(ov_physician_sql, conn)"
   ]
  },
  {
   "cell_type": "code",
   "execution_count": 16,
   "metadata": {},
   "outputs": [],
   "source": [
    "test.medical_education_number = use.fix_me(test.medical_education_number)"
   ]
  },
  {
   "cell_type": "code",
   "execution_count": 22,
   "metadata": {},
   "outputs": [],
   "source": [
    "test_compare = datacompy.Compare(physician, test, join_columns='medical_education_number', df1_name = 'oneview', df2_name = 'udrive')"
   ]
  },
  {
   "cell_type": "code",
   "execution_count": 19,
   "metadata": {},
   "outputs": [
    {
     "data": {
      "text/html": [
       "<div>\n",
       "<style scoped>\n",
       "    .dataframe tbody tr th:only-of-type {\n",
       "        vertical-align: middle;\n",
       "    }\n",
       "\n",
       "    .dataframe tbody tr th {\n",
       "        vertical-align: top;\n",
       "    }\n",
       "\n",
       "    .dataframe thead th {\n",
       "        text-align: right;\n",
       "    }\n",
       "</style>\n",
       "<table border=\"1\" class=\"dataframe\">\n",
       "  <thead>\n",
       "    <tr style=\"text-align: right;\">\n",
       "      <th></th>\n",
       "      <th>medical_education_number</th>\n",
       "      <th>race_ethnicity</th>\n",
       "    </tr>\n",
       "  </thead>\n",
       "  <tbody>\n",
       "    <tr>\n",
       "      <td>0</td>\n",
       "      <td>00102000013</td>\n",
       "      <td>White</td>\n",
       "    </tr>\n",
       "    <tr>\n",
       "      <td>1</td>\n",
       "      <td>00102000021</td>\n",
       "      <td>White</td>\n",
       "    </tr>\n",
       "    <tr>\n",
       "      <td>2</td>\n",
       "      <td>00102000030</td>\n",
       "      <td>White</td>\n",
       "    </tr>\n",
       "    <tr>\n",
       "      <td>3</td>\n",
       "      <td>00102000048</td>\n",
       "      <td>Asian</td>\n",
       "    </tr>\n",
       "    <tr>\n",
       "      <td>4</td>\n",
       "      <td>00102000056</td>\n",
       "      <td>Asian</td>\n",
       "    </tr>\n",
       "    <tr>\n",
       "      <td>...</td>\n",
       "      <td>...</td>\n",
       "      <td>...</td>\n",
       "    </tr>\n",
       "    <tr>\n",
       "      <td>1386206</td>\n",
       "      <td>03845190371</td>\n",
       "      <td>White</td>\n",
       "    </tr>\n",
       "    <tr>\n",
       "      <td>1386207</td>\n",
       "      <td>03845190380</td>\n",
       "      <td>Other</td>\n",
       "    </tr>\n",
       "    <tr>\n",
       "      <td>1386208</td>\n",
       "      <td>03845190398</td>\n",
       "      <td>White</td>\n",
       "    </tr>\n",
       "    <tr>\n",
       "      <td>1386209</td>\n",
       "      <td>03845190401</td>\n",
       "      <td>White</td>\n",
       "    </tr>\n",
       "    <tr>\n",
       "      <td>1386210</td>\n",
       "      <td>03845190410</td>\n",
       "      <td>White</td>\n",
       "    </tr>\n",
       "  </tbody>\n",
       "</table>\n",
       "<p>1386211 rows × 2 columns</p>\n",
       "</div>"
      ],
      "text/plain": [
       "        medical_education_number race_ethnicity\n",
       "0                    00102000013          White\n",
       "1                    00102000021          White\n",
       "2                    00102000030          White\n",
       "3                    00102000048          Asian\n",
       "4                    00102000056          Asian\n",
       "...                          ...            ...\n",
       "1386206              03845190371          White\n",
       "1386207              03845190380          Other\n",
       "1386208              03845190398          White\n",
       "1386209              03845190401          White\n",
       "1386210              03845190410          White\n",
       "\n",
       "[1386211 rows x 2 columns]"
      ]
     },
     "execution_count": 19,
     "metadata": {},
     "output_type": "execute_result"
    }
   ],
   "source": [
    "physician"
   ]
  },
  {
   "cell_type": "code",
   "execution_count": 23,
   "metadata": {},
   "outputs": [
    {
     "name": "stdout",
     "output_type": "stream",
     "text": [
      "DataComPy Comparison\n",
      "--------------------\n",
      "\n",
      "DataFrame Summary\n",
      "-----------------\n",
      "\n",
      "  DataFrame  Columns     Rows\n",
      "0   oneview        2  1386211\n",
      "1    udrive        2  1723895\n",
      "\n",
      "Column Summary\n",
      "--------------\n",
      "\n",
      "Number of columns in common: 2\n",
      "Number of columns in oneview but not in udrive: 0\n",
      "Number of columns in udrive but not in oneview: 0\n",
      "\n",
      "Row Summary\n",
      "-----------\n",
      "\n",
      "Matched on: medical_education_number\n",
      "Any duplicates on match values: No\n",
      "Absolute Tolerance: 0\n",
      "Relative Tolerance: 0\n",
      "Number of rows in common: 1,371,563\n",
      "Number of rows in oneview but not in udrive: 14,648\n",
      "Number of rows in udrive but not in oneview: 352,332\n",
      "\n",
      "Number of rows with some compared columns unequal: 75,511\n",
      "Number of rows with all compared columns equal: 1,296,052\n",
      "\n",
      "Column Comparison\n",
      "-----------------\n",
      "\n",
      "Number of columns compared with some values unequal: 1\n",
      "Number of columns compared with all values equal: 1\n",
      "Total number of values which compare unequal: 75,511\n",
      "\n",
      "Columns with Unequal Values or Types\n",
      "------------------------------------\n",
      "\n",
      "           Column oneview dtype udrive dtype  # Unequal  Max Diff  # Null Diff\n",
      "0  race_ethnicity        object       object      75511         0        75511\n",
      "\n",
      "Sample Rows with Unequal Values\n",
      "-------------------------------\n",
      "\n",
      "        medical_education_number race_ethnicity (oneview)    race_ethnicity (udrive)\n",
      "1204951              04177200099                     None                    Unknown\n",
      "1149453              00802220740                     None  Black or African American\n",
      "1142583              00506231647                     None                      Asian\n",
      "1145864              00521230657                     None                      White\n",
      "1163693              01902232075                     None                      White\n",
      "1189112              03519231033                     None  Black or African American\n",
      "1168028              02312230049                     None                      White\n",
      "1159356              01642221333                     None                      White\n",
      "1200708              04101232307                     None                    Unknown\n",
      "1193797              03607220734                     None                      White\n",
      "\n",
      "Sample Rows Only in oneview (First 10 Columns)\n",
      "----------------------------------------------\n",
      "\n",
      "        medical_education_number race_ethnicity\n",
      "1180662              02879211177           None\n",
      "890451               24321870143           None\n",
      "1179624              02878213354           None\n",
      "1179735              02878220300           None\n",
      "1219298              05475200677           None\n",
      "1219221              05475191228           None\n",
      "1179985              02878222906           None\n",
      "1194533              03675210941           None\n",
      "991265               49601960213           None\n",
      "1174099              02576210968           None\n",
      "\n",
      "Sample Rows Only in udrive (First 10 Columns)\n",
      "---------------------------------------------\n",
      "\n",
      "        medical_education_number race_ethnicity\n",
      "1493807              04705430719          White\n",
      "1705771              01875131768        Unknown\n",
      "1659970              91504700092        Unknown\n",
      "1574939              01002710567        Unknown\n",
      "1634567              35204550032        Unknown\n",
      "1684291              74808610772        Unknown\n",
      "1496168              04901720636          White\n",
      "1579683              03519350792        Unknown\n",
      "1493140              47301240020          White\n",
      "1460478              04109290128          White\n",
      "\n",
      "\n"
     ]
    }
   ],
   "source": [
    "print(test_compare.report())"
   ]
  },
  {
   "cell_type": "code",
   "execution_count": 5,
   "metadata": {},
   "outputs": [
    {
     "data": {
      "text/html": [
       "<div>\n",
       "<style scoped>\n",
       "    .dataframe tbody tr th:only-of-type {\n",
       "        vertical-align: middle;\n",
       "    }\n",
       "\n",
       "    .dataframe tbody tr th {\n",
       "        vertical-align: top;\n",
       "    }\n",
       "\n",
       "    .dataframe thead th {\n",
       "        text-align: right;\n",
       "    }\n",
       "</style>\n",
       "<table border=\"1\" class=\"dataframe\">\n",
       "  <thead>\n",
       "    <tr style=\"text-align: right;\">\n",
       "      <th></th>\n",
       "      <th>medical_education_number</th>\n",
       "    </tr>\n",
       "    <tr>\n",
       "      <th>race_ethnicity</th>\n",
       "      <th></th>\n",
       "    </tr>\n",
       "  </thead>\n",
       "  <tbody>\n",
       "    <tr>\n",
       "      <td>American Indian or Alaskan Native</td>\n",
       "      <td>2255</td>\n",
       "    </tr>\n",
       "    <tr>\n",
       "      <td>Asian</td>\n",
       "      <td>140565</td>\n",
       "    </tr>\n",
       "    <tr>\n",
       "      <td>Black or African American</td>\n",
       "      <td>39973</td>\n",
       "    </tr>\n",
       "    <tr>\n",
       "      <td>Hispanic, Latino, or Spanish Origin</td>\n",
       "      <td>53648</td>\n",
       "    </tr>\n",
       "    <tr>\n",
       "      <td>Mixed Race/Ethnicity</td>\n",
       "      <td>224409</td>\n",
       "    </tr>\n",
       "    <tr>\n",
       "      <td>Native Hawaiian or Other Pacific Islander</td>\n",
       "      <td>506</td>\n",
       "    </tr>\n",
       "    <tr>\n",
       "      <td>Other</td>\n",
       "      <td>23629</td>\n",
       "    </tr>\n",
       "    <tr>\n",
       "      <td>Tribal Affiliation</td>\n",
       "      <td>18</td>\n",
       "    </tr>\n",
       "    <tr>\n",
       "      <td>Unknown</td>\n",
       "      <td>249871</td>\n",
       "    </tr>\n",
       "    <tr>\n",
       "      <td>White</td>\n",
       "      <td>561178</td>\n",
       "    </tr>\n",
       "  </tbody>\n",
       "</table>\n",
       "</div>"
      ],
      "text/plain": [
       "                                           medical_education_number\n",
       "race_ethnicity                                                     \n",
       "American Indian or Alaskan Native                              2255\n",
       "Asian                                                        140565\n",
       "Black or African American                                     39973\n",
       "Hispanic, Latino, or Spanish Origin                           53648\n",
       "Mixed Race/Ethnicity                                         224409\n",
       "Native Hawaiian or Other Pacific Islander                       506\n",
       "Other                                                         23629\n",
       "Tribal Affiliation                                               18\n",
       "Unknown                                                      249871\n",
       "White                                                        561178"
      ]
     },
     "execution_count": 5,
     "metadata": {},
     "output_type": "execute_result"
    }
   ],
   "source": [
    "physician.groupby('race_ethnicity').count()"
   ]
  },
  {
   "cell_type": "code",
   "execution_count": null,
   "metadata": {},
   "outputs": [],
   "source": [
    "ov_program_sql = '''\n",
    "    SELECT * FROM ONEVIEW.RESIDENCY_PROGRAM\n",
    "    '''\n",
    "ov_program = pd.read_sql_query(ov_program_sql, conn)"
   ]
  },
  {
   "cell_type": "code",
   "execution_count": null,
   "metadata": {},
   "outputs": [],
   "source": [
    "ov_personnel_sql = '''\n",
    "    SELECT * FROM ONEVIEW.residency_program_personnel_member\n",
    "    '''\n",
    "ov_personnel = pd.read_sql_query(ov_personnel_sql, conn)"
   ]
  },
  {
   "cell_type": "code",
   "execution_count": null,
   "metadata": {},
   "outputs": [],
   "source": [
    "ov_physician_sql = '''\n",
    "    SELECT * FROM ONEVIEW.residency_program_physician\n",
    "    '''\n",
    "ov_physician = pd.read_sql_query(ov_physician_sql, conn)"
   ]
  },
  {
   "cell_type": "code",
   "execution_count": null,
   "metadata": {},
   "outputs": [],
   "source": [
    "ov_institution_sql = '''\n",
    "    SELECT * FROM ONEVIEW.residency_program_institution\n",
    "    '''\n",
    "ov_institution = pd.read_sql_query(ov_institution_sql, conn)"
   ]
  },
  {
   "cell_type": "code",
   "execution_count": null,
   "metadata": {},
   "outputs": [],
   "source": [
    "program = pd.read_csv('../../Data/MasterfileCore/ProgramInformation.txt', sep='|', error_bad_lines=False, encoding='latin')\n",
    "program = program[program.pgm_activity_code==0]"
   ]
  },
  {
   "cell_type": "code",
   "execution_count": null,
   "metadata": {},
   "outputs": [],
   "source": [
    "ov_personnel"
   ]
  },
  {
   "cell_type": "code",
   "execution_count": null,
   "metadata": {},
   "outputs": [],
   "source": [
    "program_columns = {\n",
    "    'pgm_id':'id',\n",
    "    'pgm_spec':'specialty',\n",
    "    'pgm_inst_control_type':'institution_control',\n",
    "    'pgm_sequence_number':'sequence_number',\n",
    "    'pgm_federal_code':'federal_code',\n",
    "    'pgm_region_code':'region_code',    \n",
    "    'prm_acgme_accred_ind':'acgme_accredited',\n",
    "    'pgm_name':'name',\n",
    "    'pgm_web_address':'web_address',\n",
    "    'pgm_contact_dir_ind':'contact_director',\n",
    "    'pgm_accred_status':'accreditation_status',\n",
    "    'pgm_accred_eff_dt':'accreditation_effective_date',\n",
    "    'pgm_init_accred_dt':'initial_accreditation_date', \n",
    "    'pgm_accred_length':'accreditation_length',\n",
    "    'pgm_yrs_offered':'duration',\n",
    "    'pgm_gov_affil_ind':'govenrmnet_affiliated',\n",
    "    'pgm_gme_eq_yr':'graduate_medical_education_equivalent_years',\n",
    "    'pgm_prelim_yrs_req_ind':'preliminary_years_required',\n",
    "    'pgm_prelim_pos_offered':'preliminary_positions_offered',\n",
    "    'pgm_type':'type',\n",
    "    'pgm_chg_size':'max_residents_accepted_increase',\n",
    "    'pgm_%@_prim_site':'percent_at_primary_site',\n",
    "    'pgm_prim_site':'primary_site',\n",
    "    'pgm_core_pgm_id':'core_program',\n",
    "    'official_addr_ind':'official_address',\n",
    "    'pgm_sf_match':'uses_sf_match',\n",
    "    'pgm_oth_match_ind':'other_match_indicator',\n",
    "    'pgm_oth_match':'other_match',\n",
    "    'pgm_addit_educ_accred_length':'additional_education_accreditation_length',\n",
    "    'last_upd_dt':'last_update_date',\n",
    "    'last_upd_type':'last_update_type',\n",
    "    'AOA_Ind':'american_osteopathic_association_indicator', \n",
    "    'AOA_Program_ID':'american_osteopathic_association_indicator_program_id',\n",
    "    'Osteopathic_principles':'osteopathic_principles'\n",
    "    \n",
    "}"
   ]
  },
  {
   "cell_type": "code",
   "execution_count": null,
   "metadata": {},
   "outputs": [],
   "source": [
    "program = program.rename(columns=program_columns)"
   ]
  },
  {
   "cell_type": "code",
   "execution_count": null,
   "metadata": {},
   "outputs": [],
   "source": [
    "ov_institution"
   ]
  },
  {
   "cell_type": "code",
   "execution_count": null,
   "metadata": {},
   "outputs": [],
   "source": [
    "ov_program"
   ]
  },
  {
   "cell_type": "code",
   "execution_count": null,
   "metadata": {},
   "outputs": [],
   "source": [
    "program_compare = datacompy.Compare(ov_program, yes, join_columns='id', df1_name = 'oneview', df2_name = 'meri')"
   ]
  },
  {
   "cell_type": "code",
   "execution_count": null,
   "metadata": {},
   "outputs": [],
   "source": [
    "print(program_compare.report())"
   ]
  },
  {
   "cell_type": "code",
   "execution_count": null,
   "metadata": {},
   "outputs": [],
   "source": [
    "inst = pd.read_csv('../../Data/MasterfileCore/ProgramInstitution.txt', sep='|', encoding='latin')\n",
    "insti = inst[inst.affiliation_type=='S']"
   ]
  },
  {
   "cell_type": "code",
   "execution_count": null,
   "metadata": {},
   "outputs": [],
   "source": [
    "program = pd.merge(program, insti, left_on='id', right_on='pgm_id')"
   ]
  },
  {
   "cell_type": "code",
   "execution_count": null,
   "metadata": {},
   "outputs": [],
   "source": [
    "yes = program[program.ins_id.isin(ov_institution.id)]"
   ]
  },
  {
   "cell_type": "code",
   "execution_count": null,
   "metadata": {},
   "outputs": [],
   "source": [
    "institution = pd.read_csv('../../Data/MasterfileCore/InstitutionInformation.txt', sep='|', error_bad_lines=False)"
   ]
  },
  {
   "cell_type": "code",
   "execution_count": null,
   "metadata": {},
   "outputs": [],
   "source": [
    "addresses = pd.read_csv('../../Data/MasterfileCore/ProgramAddress.txt', sep='|', error_bad_lines=False, encoding='latin')"
   ]
  },
  {
   "cell_type": "code",
   "execution_count": null,
   "metadata": {},
   "outputs": [],
   "source": [
    "personnel = pd.read_csv('../../Data/MasterfileCore/ProgramPersonnel.txt', sep='|', encoding='latin', error_bad_lines=False)"
   ]
  },
  {
   "cell_type": "code",
   "execution_count": null,
   "metadata": {},
   "outputs": [],
   "source": [
    "personnel = personnel.rename(columns={'pers_name_sfx':'suffix_name', 'pers_name_last':'last_name',\n",
    "       'pers_name_first':'first_name', 'pers_name_mid':'middle_name', 'pers_deg1':'degree_1', 'pers_deg2':'degree_2',\n",
    "       'pers_deg3':'degree_3', 'last_upd_dt':'last_update_date'})"
   ]
  },
  {
   "cell_type": "code",
   "execution_count": null,
   "metadata": {},
   "outputs": [],
   "source": [
    "personnel['program']=personnel.pgm_id"
   ]
  },
  {
   "cell_type": "code",
   "execution_count": null,
   "metadata": {},
   "outputs": [],
   "source": [
    "personnel = personnel[personnel.pers_type=='D']"
   ]
  },
  {
   "cell_type": "code",
   "execution_count": null,
   "metadata": {},
   "outputs": [],
   "source": [
    "personnel['id'] = personnel['pgm_id'].astype(str) + personnel['aamc_id'].astype(str)"
   ]
  },
  {
   "cell_type": "code",
   "execution_count": null,
   "metadata": {},
   "outputs": [],
   "source": [
    "def fix_id(num):\n",
    "    num = str(num).strip().replace('.0', '')\n",
    "    num = ''.join(filter(str.isdigit, num))\n",
    "    if len(num) == 9:\n",
    "        num = '0' + num\n",
    "    return num\n",
    "insti['pgm_id']=[fix_id(x) for x in insti.pgm_id]"
   ]
  },
  {
   "cell_type": "code",
   "execution_count": null,
   "metadata": {},
   "outputs": [],
   "source": [
    "def fix_aamc_id(num):\n",
    "    num = str(num).strip().replace('.0', '')\n",
    "    num = ''.join(filter(str.isdigit, num))\n",
    "    while len(num) < 8:\n",
    "        num = '0' + num\n",
    "    return num\n",
    "personnel['aamc_id']=[fix_aamc_id(x) for x in personnel.aamc_id]"
   ]
  },
  {
   "cell_type": "code",
   "execution_count": null,
   "metadata": {},
   "outputs": [],
   "source": [
    "test = personnel[personnel.program.isin(program.id)]"
   ]
  },
  {
   "cell_type": "code",
   "execution_count": null,
   "metadata": {},
   "outputs": [],
   "source": [
    "personnel_compare = datacompy.Compare(ov_personnel, test, join_columns='id', df1_name = 'oneview', df2_name = 'meri')"
   ]
  },
  {
   "cell_type": "code",
   "execution_count": null,
   "metadata": {},
   "outputs": [],
   "source": [
    "print(personnel_compare.report())"
   ]
  },
  {
   "cell_type": "code",
   "execution_count": null,
   "metadata": {},
   "outputs": [],
   "source": [
    "ov_personnel.id"
   ]
  },
  {
   "cell_type": "code",
   "execution_count": null,
   "metadata": {},
   "outputs": [],
   "source": [
    "def fix_personnel_id(num):\n",
    "    num = str(num).strip().replace('.0', '')\n",
    "    num = ''.join(filter(str.isdigit, num))\n",
    "    while len(num) < 18:\n",
    "        num =  num + '0'\n",
    "    return num\n",
    "ov_personnel['id'] = [fix_personnel_id(x) for x in ov_personnel.id]"
   ]
  },
  {
   "cell_type": "code",
   "execution_count": null,
   "metadata": {},
   "outputs": [],
   "source": [
    "resident_link = pd.read_csv('../../Data/MasterfileCore/RESIDENT_LINK.csv')"
   ]
  },
  {
   "cell_type": "code",
   "execution_count": null,
   "metadata": {},
   "outputs": [],
   "source": [
    "resident_link['program']=[fix_id(x) for x in resident_link.program]"
   ]
  },
  {
   "cell_type": "code",
   "execution_count": null,
   "metadata": {},
   "outputs": [],
   "source": [
    "resident_link['medical_education_number'] = use.fix_me(resident_link.medical_education_number)"
   ]
  },
  {
   "cell_type": "code",
   "execution_count": null,
   "metadata": {},
   "outputs": [],
   "source": [
    "pd.merge(resident_link, ov_physician, on = list(resident_link.columns), how='left')"
   ]
  },
  {
   "cell_type": "code",
   "execution_count": null,
   "metadata": {},
   "outputs": [],
   "source": [
    "institution"
   ]
  },
  {
   "cell_type": "code",
   "execution_count": null,
   "metadata": {},
   "outputs": [],
   "source": [
    "def fix_id_2(num):\n",
    "    num = str(num).strip().replace('.0', '')\n",
    "    num = ''.join(filter(str.isdigit, num))\n",
    "    if len(num) == 5:\n",
    "        num = '0' + num\n",
    "    return num\n",
    "insti['id'] = [fix_id_2(x) for x in insti.ins_id]\n",
    "institution['id'] = [fix_id_2(x) for x in institution.ins_id]\n",
    "meri_institution = pd.merge(insti, institution, on='id')"
   ]
  },
  {
   "cell_type": "code",
   "execution_count": null,
   "metadata": {},
   "outputs": [],
   "source": [
    "meri_institution = meri_institution.rename(columns={'affiliation_type':'affiliation','ins_name':'name','last_upd_dt_y':'last_update_date'})"
   ]
  },
  {
   "cell_type": "code",
   "execution_count": null,
   "metadata": {},
   "outputs": [],
   "source": [
    "meri_institution"
   ]
  },
  {
   "cell_type": "code",
   "execution_count": null,
   "metadata": {},
   "outputs": [],
   "source": [
    "inst_compare = datacompy.Compare(ov_institution, institution[institution.ins_affiliation_type=='S'], join_columns='id', df1_name = 'oneview', df2_name = 'meri')"
   ]
  },
  {
   "cell_type": "code",
   "execution_count": null,
   "metadata": {},
   "outputs": [],
   "source": [
    "print(inst_compare.report())"
   ]
  },
  {
   "cell_type": "code",
   "execution_count": null,
   "metadata": {},
   "outputs": [],
   "source": [
    "inst_compare.df1_unq_rows"
   ]
  },
  {
   "cell_type": "code",
   "execution_count": null,
   "metadata": {},
   "outputs": [],
   "source": [
    "meri_institution[meri_institution.name=='North Alabama Medical Center']"
   ]
  },
  {
   "cell_type": "code",
   "execution_count": null,
   "metadata": {},
   "outputs": [],
   "source": [
    "institution['affiliation']=institution.ins_affiliation_type\n",
    "institution['last_update_date']=institution.last_upd_dt"
   ]
  },
  {
   "cell_type": "code",
   "execution_count": null,
   "metadata": {},
   "outputs": [],
   "source": [
    "ov_institution.groupby('affiliation').count()"
   ]
  },
  {
   "cell_type": "code",
   "execution_count": null,
   "metadata": {},
   "outputs": [],
   "source": [
    "institution['name'] = institution.ins_name"
   ]
  },
  {
   "cell_type": "code",
   "execution_count": null,
   "metadata": {},
   "outputs": [],
   "source": [
    "institution[institution.ins_affiliation_type=='S']"
   ]
  },
  {
   "cell_type": "code",
   "execution_count": null,
   "metadata": {},
   "outputs": [],
   "source": [
    "ov_institution"
   ]
  },
  {
   "cell_type": "code",
   "execution_count": null,
   "metadata": {},
   "outputs": [],
   "source": [
    "ov_program"
   ]
  },
  {
   "cell_type": "code",
   "execution_count": null,
   "metadata": {},
   "outputs": [],
   "source": [
    "inst"
   ]
  },
  {
   "cell_type": "code",
   "execution_count": null,
   "metadata": {},
   "outputs": [],
   "source": []
  },
  {
   "cell_type": "code",
   "execution_count": null,
   "metadata": {},
   "outputs": [],
   "source": [
    "addresses['pgm_id']=[fix_id(x) for x in addresses.pgm_id]\n",
    "address = addresses[addresses.addr_type=='D']"
   ]
  },
  {
   "cell_type": "code",
   "execution_count": null,
   "metadata": {},
   "outputs": [],
   "source": [
    "program = pd.merge(address, program, left_on='pgm_id', right_on='id')"
   ]
  },
  {
   "cell_type": "code",
   "execution_count": null,
   "metadata": {},
   "outputs": [],
   "source": [
    "ov_program.columns"
   ]
  },
  {
   "cell_type": "code",
   "execution_count": null,
   "metadata": {},
   "outputs": [],
   "source": [
    "inst['ins_id'] = [fix_id_2(x) for x in inst.ins_id]"
   ]
  },
  {
   "cell_type": "code",
   "execution_count": null,
   "metadata": {},
   "outputs": [],
   "source": [
    "insti['ins_id'] = [fix_id_2(x) for x in insti.ins_id]"
   ]
  },
  {
   "cell_type": "code",
   "execution_count": null,
   "metadata": {},
   "outputs": [],
   "source": [
    "institution[institution.ins_affiliation_type=='S']"
   ]
  },
  {
   "cell_type": "code",
   "execution_count": null,
   "metadata": {},
   "outputs": [],
   "source": [
    "ov_program"
   ]
  },
  {
   "cell_type": "code",
   "execution_count": null,
   "metadata": {},
   "outputs": [],
   "source": [
    "program.columns"
   ]
  },
  {
   "cell_type": "code",
   "execution_count": null,
   "metadata": {},
   "outputs": [],
   "source": [
    "ov_program"
   ]
  },
  {
   "cell_type": "code",
   "execution_count": null,
   "metadata": {},
   "outputs": [],
   "source": [
    "program_2 = pd.merge(program, insti[insti.ins_id.isin(institution.ins_id)], left_on='id', right_on='program')"
   ]
  },
  {
   "cell_type": "code",
   "execution_count": null,
   "metadata": {},
   "outputs": [],
   "source": [
    "insti['program']=[fix_id(x) for x in insti.pgm_id]"
   ]
  },
  {
   "cell_type": "code",
   "execution_count": null,
   "metadata": {},
   "outputs": [],
   "source": [
    "fix_id(200121109)"
   ]
  },
  {
   "cell_type": "code",
   "execution_count": null,
   "metadata": {},
   "outputs": [],
   "source": [
    "program_compare = datacompy.Compare(ov_program, program_2, join_columns='id', df1_name = 'oneview', df2_name = 'meri')"
   ]
  },
  {
   "cell_type": "code",
   "execution_count": null,
   "metadata": {},
   "outputs": [],
   "source": [
    "program_2 = program_2.rename(columns = {'id_x':'id'})"
   ]
  },
  {
   "cell_type": "code",
   "execution_count": null,
   "metadata": {},
   "outputs": [],
   "source": [
    "print(program_compare.report())"
   ]
  },
  {
   "cell_type": "code",
   "execution_count": null,
   "metadata": {},
   "outputs": [],
   "source": [
    "program[program.pgm_id=='1201611099']"
   ]
  },
  {
   "cell_type": "code",
   "execution_count": null,
   "metadata": {},
   "outputs": [],
   "source": [
    "program"
   ]
  },
  {
   "cell_type": "code",
   "execution_count": null,
   "metadata": {},
   "outputs": [],
   "source": [
    "ov_personnel"
   ]
  },
  {
   "cell_type": "code",
   "execution_count": null,
   "metadata": {},
   "outputs": [],
   "source": [
    "personnel[personnel.pgm_id.isin(ov_program.id)]"
   ]
  },
  {
   "cell_type": "code",
   "execution_count": null,
   "metadata": {},
   "outputs": [],
   "source": [
    "personnel_compare_2 = datacompy.Compare(ov_personnel, personnel, join_columns='id', df1_name = 'oneview', df2_name = 'meri')"
   ]
  },
  {
   "cell_type": "code",
   "execution_count": null,
   "metadata": {},
   "outputs": [],
   "source": [
    "print(personnel_compare_2.report())"
   ]
  },
  {
   "cell_type": "code",
   "execution_count": null,
   "metadata": {},
   "outputs": [],
   "source": [
    "personnel_compare_2.df1_unq_rows.to_csv('../../Data/OneView_Testing/Personnel_ID_Examples.csv', index=False)"
   ]
  },
  {
   "cell_type": "code",
   "execution_count": null,
   "metadata": {},
   "outputs": [],
   "source": [
    "print(program_compare.report())"
   ]
  },
  {
   "cell_type": "code",
   "execution_count": null,
   "metadata": {},
   "outputs": [],
   "source": [
    "inst_compare.df1_unq_rows.sample().to_csv('../../Data/OneView_Testing/Institution_Weird_Row.csv', index=False)"
   ]
  },
  {
   "cell_type": "code",
   "execution_count": null,
   "metadata": {},
   "outputs": [],
   "source": [
    "program_compare.df2_unq_rows[ov_program.columns].to_csv('../../Data/OneView_Testing/Residency_Program_Missing_Rows.csv', index=False)"
   ]
  },
  {
   "cell_type": "code",
   "execution_count": null,
   "metadata": {},
   "outputs": [],
   "source": [
    "program_2 = program_2.rename(columns={'govenrmnet_affiliated':'government_affiliated','id_y':'institution', 'uses_sf_match':'uses_sfmatch','pri_clinical_loc_ind':'primary_clinical_location','addr1':'address_1','addr2':'address_2','addr3':'address_3','american_osteopathic_association_indicator_program':'american_osteopathic_association_program', 'zip+4':'zipcode'})"
   ]
  },
  {
   "cell_type": "code",
   "execution_count": null,
   "metadata": {},
   "outputs": [],
   "source": [
    "['government_affiliated', 'institution', 'uses_sfmatch', 'primary_clinical_location', 'address_3', 'american_osteopathic_association_program', 'address_2', 'address_1', 'zipcode']"
   ]
  },
  {
   "cell_type": "code",
   "execution_count": null,
   "metadata": {},
   "outputs": [],
   "source": [
    "program_2.columns"
   ]
  },
  {
   "cell_type": "code",
   "execution_count": null,
   "metadata": {},
   "outputs": [],
   "source": [
    "program_compare.sample_mismatch(column=\"american_osteopathic_association_program\").dropna()"
   ]
  },
  {
   "cell_type": "code",
   "execution_count": null,
   "metadata": {},
   "outputs": [],
   "source": []
  }
 ],
 "metadata": {
  "kernelspec": {
   "display_name": "Python 3",
   "language": "python",
   "name": "python3"
  },
  "language_info": {
   "codemirror_mode": {
    "name": "ipython",
    "version": 3
   },
   "file_extension": ".py",
   "mimetype": "text/x-python",
   "name": "python",
   "nbconvert_exporter": "python",
   "pygments_lexer": "ipython3",
   "version": "3.7.4"
  }
 },
 "nbformat": 4,
 "nbformat_minor": 2
}
