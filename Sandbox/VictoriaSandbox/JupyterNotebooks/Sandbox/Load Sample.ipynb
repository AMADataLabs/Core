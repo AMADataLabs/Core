{
 "cells": [
  {
   "cell_type": "code",
   "execution_count": 1,
   "metadata": {},
   "outputs": [],
   "source": [
    "import pandas as pd\n",
    "import useful_functions as use"
   ]
  },
  {
   "cell_type": "code",
   "execution_count": 24,
   "metadata": {},
   "outputs": [],
   "source": [
    "# GOV = pd.read_csv('../../Data/DataGov/Load_With_Phones')\n",
    "CRED = pd.read_csv('../../Data/Credentialling/Load_With_Phones.csv')\n",
    "# PPD = use.get_ppd()"
   ]
  },
  {
   "cell_type": "code",
   "execution_count": 30,
   "metadata": {},
   "outputs": [],
   "source": [
    "PPD = PPD[['ME', 'LAST_NAME', 'FIRST_NAME', 'MIDDLE_NAME', 'SUFFIX', 'FAX_NUMBER', 'PE_CD', 'PRIM_SPEC_CD']]"
   ]
  },
  {
   "cell_type": "code",
   "execution_count": 25,
   "metadata": {},
   "outputs": [],
   "source": [
    "GOV_COLUMNS = {'comm_id':'POLO_COMM_ID', \n",
    "               'src_cat_code':'SRC_CAT_CODE', \n",
    "               'addr_line2':'POLO_MAILING_LINE_2', \n",
    "               'addr_line1':'POLO_MAILING_LINE_1',\n",
    "               'city_cd':'POLO_CITY', \n",
    "               'state_cd':'POLO_STATE', \n",
    "               'zip_x':'POLO_ZIP', \n",
    "               'phone_number':'TELEPHONE_NUMBER'}\n",
    "CRED_COLUMNS = {'comm_id':'POLO_COMM_ID', \n",
    "               'src_cat_code':'SRC_CAT_CODE', \n",
    "               'addr_line2':'POLO_MAILING_LINE_2', \n",
    "               'addr_line1':'POLO_MAILING_LINE_1',\n",
    "               'city_cd':'POLO_CITY', \n",
    "               'state_cd':'POLO_STATE', \n",
    "               'zip':'POLO_ZIP', \n",
    "               'PHONE':'TELEPHONE_NUMBER'}\n",
    "# GOV = GOV.rename(columns = GOV_COLUMNS)\n",
    "CRED = CRED.rename(columns = CRED_COLUMNS)"
   ]
  },
  {
   "cell_type": "code",
   "execution_count": 21,
   "metadata": {},
   "outputs": [],
   "source": [
    "good_cols =['SRC_CAT_CODE',\n",
    "        'ME',\n",
    "        'ENTITY_ID',\n",
    "        'POLO_COMM_ID',\n",
    "        'TELEPHONE_NUMBER',\n",
    "'POLO_MAILING_LINE_2',\n",
    "'POLO_MAILING_LINE_1',\n",
    "'POLO_CITY',\n",
    "'POLO_STATE',\n",
    "'POLO_ZIP'\n",
    "    ]"
   ]
  },
  {
   "cell_type": "code",
   "execution_count": 29,
   "metadata": {},
   "outputs": [],
   "source": [
    "YAH_BB = pd.concat([CRED[good_cols],GOV[good_cols]])"
   ]
  },
  {
   "cell_type": "code",
   "execution_count": 31,
   "metadata": {},
   "outputs": [],
   "source": [
    "YAH_BB['ME'] = use.fix_me(YAH_BB.ME)\n",
    "YAH_BB['POLO_ZIP'] = [use.fix_zipcode(x) for x in YAH_BB.POLO_ZIP]"
   ]
  },
  {
   "cell_type": "code",
   "execution_count": 34,
   "metadata": {},
   "outputs": [],
   "source": [
    "MAYBE_BABY = pd.merge(YAH_BB, PPD, on='ME').drop_duplicates()"
   ]
  },
  {
   "cell_type": "code",
   "execution_count": 39,
   "metadata": {},
   "outputs": [],
   "source": [
    "def get_present_employment():\n",
    "    present_employment_key = {\n",
    "        11: 'Self-Employed Solo Practice',\n",
    "        13: 'Two Physician Practice-Full Or Part Owner',\n",
    "        21: 'Other-Patient Care',\n",
    "        22: 'Locum Tenens',\n",
    "        30: 'Group Practice',\n",
    "        35: 'HMO',\n",
    "        40: 'Medical School',\n",
    "        50: 'Non-Government Hospital',\n",
    "        63: 'City/County/State Government-Hospital',\n",
    "        64: 'City/County/State Government-Other Than Hospital',\n",
    "        81: 'Federal Government-Hospital/Army',\n",
    "        82: 'Federal Government-Hospital/Navy',\n",
    "        83: 'Federal Government-Hospital/Air Force',\n",
    "        84: 'Federal Government-Hospital/Usphs',\n",
    "        85: 'Federal Government-Hospital/Vet Admin',\n",
    "        86: 'Federal Government-Hospital/Other Agency',\n",
    "        101: 'Other/Non-Patient Care',\n",
    "        110: 'No Classification'\n",
    "    }\n",
    "    return present_employment_key\n",
    "\n",
    "def humach_samplify(data):\n",
    "    present_employment_key = get_present_employment()\n",
    "    data['DESCRIPTION'] = [present_employment_key[x] for x in data.PE_CD]\n",
    "    humach_columns = [\n",
    "        'SRC_CAT_CODE',\n",
    "        'ME',\n",
    "        'ENTITY_ID',\n",
    "        'FIRST_NAME',\n",
    "        'MIDDLE_NAME',\n",
    "        'LAST_NAME',\n",
    "        'SUFFIX',\n",
    "        'POLO_COMM_ID',\n",
    "        'POLO_MAILING_LINE_1',\n",
    "        'POLO_MAILING_LINE_2',\n",
    "        'POLO_CITY',\n",
    "        'POLO_STATE',\n",
    "        'POLO_ZIP',\n",
    "        'TELEPHONE_NUMBER',\n",
    "        'PRIM_SPEC_CD',\n",
    "        'DESCRIPTION',\n",
    "        'PE_CD',\n",
    "        'FAX_NUMBER'\n",
    "    ]\n",
    "    humach_data = data[humach_columns]\n",
    "    return humach_data"
   ]
  },
  {
   "cell_type": "code",
   "execution_count": 42,
   "metadata": {},
   "outputs": [],
   "source": [
    "humach_samplify(MAYBE_BABY).sort_values('SRC_CAT_CODE').to_csv('../../Data/PhoneAppend/2021-12-17_Credentialing_and_National_Downloadable_Sample.csv', index=False)\n",
    "humach_samplify(MAYBE_BABY).sort_values('SRC_CAT_CODE').to_excel('../../Data/PhoneAppend/2021-12-17_Credentialing_and_National_Downloadable_Sample.xlsx', index=False)"
   ]
  },
  {
   "cell_type": "code",
   "execution_count": null,
   "metadata": {},
   "outputs": [],
   "source": []
  }
 ],
 "metadata": {
  "kernelspec": {
   "display_name": "Python 3",
   "language": "python",
   "name": "python3"
  },
  "language_info": {
   "codemirror_mode": {
    "name": "ipython",
    "version": 3
   },
   "file_extension": ".py",
   "mimetype": "text/x-python",
   "name": "python",
   "nbconvert_exporter": "python",
   "pygments_lexer": "ipython3",
   "version": "3.7.4"
  }
 },
 "nbformat": 4,
 "nbformat_minor": 2
}
