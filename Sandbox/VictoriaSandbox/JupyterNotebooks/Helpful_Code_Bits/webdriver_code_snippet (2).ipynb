{
 "cells": [
  {
   "cell_type": "code",
   "execution_count": 1,
   "metadata": {},
   "outputs": [],
   "source": [
    "from selenium import webdriver\n",
    "import pandas as pd"
   ]
  },
  {
   "cell_type": "code",
   "execution_count": 27,
   "metadata": {},
   "outputs": [],
   "source": [
    "driver = webdriver.Chrome()"
   ]
  },
  {
   "cell_type": "code",
   "execution_count": 28,
   "metadata": {},
   "outputs": [],
   "source": [
    "driver.get('https://reportcards.ncqa.org/#/health-plans/list')"
   ]
  },
  {
   "cell_type": "code",
   "execution_count": 29,
   "metadata": {},
   "outputs": [],
   "source": [
    "element = driver.find_element_by_class_name('modal__button')"
   ]
  },
  {
   "cell_type": "code",
   "execution_count": 30,
   "metadata": {},
   "outputs": [],
   "source": [
    "element.click()"
   ]
  },
  {
   "cell_type": "code",
   "execution_count": 9,
   "metadata": {},
   "outputs": [
    {
     "data": {
      "text/plain": [
       "[<selenium.webdriver.remote.webelement.WebElement (session=\"5813d11ee3a39a88227c1a6374a14396\", element=\"0.9943726525752352-3\")>,\n",
       " <selenium.webdriver.remote.webelement.WebElement (session=\"5813d11ee3a39a88227c1a6374a14396\", element=\"0.9943726525752352-4\")>,\n",
       " <selenium.webdriver.remote.webelement.WebElement (session=\"5813d11ee3a39a88227c1a6374a14396\", element=\"0.9943726525752352-5\")>,\n",
       " <selenium.webdriver.remote.webelement.WebElement (session=\"5813d11ee3a39a88227c1a6374a14396\", element=\"0.9943726525752352-6\")>,\n",
       " <selenium.webdriver.remote.webelement.WebElement (session=\"5813d11ee3a39a88227c1a6374a14396\", element=\"0.9943726525752352-7\")>,\n",
       " <selenium.webdriver.remote.webelement.WebElement (session=\"5813d11ee3a39a88227c1a6374a14396\", element=\"0.9943726525752352-8\")>,\n",
       " <selenium.webdriver.remote.webelement.WebElement (session=\"5813d11ee3a39a88227c1a6374a14396\", element=\"0.9943726525752352-9\")>,\n",
       " <selenium.webdriver.remote.webelement.WebElement (session=\"5813d11ee3a39a88227c1a6374a14396\", element=\"0.9943726525752352-10\")>,\n",
       " <selenium.webdriver.remote.webelement.WebElement (session=\"5813d11ee3a39a88227c1a6374a14396\", element=\"0.9943726525752352-11\")>,\n",
       " <selenium.webdriver.remote.webelement.WebElement (session=\"5813d11ee3a39a88227c1a6374a14396\", element=\"0.9943726525752352-12\")>,\n",
       " <selenium.webdriver.remote.webelement.WebElement (session=\"5813d11ee3a39a88227c1a6374a14396\", element=\"0.9943726525752352-13\")>]"
      ]
     },
     "execution_count": 9,
     "metadata": {},
     "output_type": "execute_result"
    }
   ],
   "source": [
    "first = driver.find_elements_by_class_name('name')\n",
    "first"
   ]
  },
  {
   "cell_type": "code",
   "execution_count": 11,
   "metadata": {},
   "outputs": [
    {
     "name": "stdout",
     "output_type": "stream",
     "text": [
      "HEALTH PLAN NAME\n",
      "▲\n",
      "▼\n",
      "AMERICA'S 1ST CHOICE OF SOUTH CAROLINA, INC.\n",
      "AMERIGROUP District of Columbia\n",
      "AMERIGROUP Maryland, Inc.\n",
      "AMERIGROUP Tennessee, Inc\n",
      "AMERIGROUP Texas, Inc.\n",
      "AMERIGROUP Washington, Inc.\n",
      "AMGP Georgia Managed Care Company, Inc. d/b/a Amerigroup Community Care\n",
      "Absolute Total Care, Inc.\n",
      "Aetna Better Health Inc., a Pennsylvania Corporation\n",
      "Aetna Better Health of California\n"
     ]
    }
   ],
   "source": [
    "for thing in first:\n",
    "    print(thing.text)"
   ]
  },
  {
   "cell_type": "code",
   "execution_count": 37,
   "metadata": {},
   "outputs": [],
   "source": [
    "links = driver.find_elements_by_class_name('ng-binding')"
   ]
  },
  {
   "cell_type": "code",
   "execution_count": 16,
   "metadata": {},
   "outputs": [
    {
     "name": "stdout",
     "output_type": "stream",
     "text": [
      "Last updated: 03/16/20\n",
      "AMERICA'S 1ST CHOICE OF SOUTH CAROLINA, INC.\n",
      "\n",
      "Y Accredited\n",
      "SC\n",
      "Medicare\n",
      "HMO\n",
      "AMERIGROUP District of Columbia\n",
      "\n",
      "Y Accredited\n",
      "DC\n",
      "Medicaid\n",
      "HMO\n",
      "AMERIGROUP Maryland, Inc.\n",
      "\n",
      "Y Commendable\n",
      "MD\n",
      "Medicaid\n",
      "HMO\n",
      "AMERIGROUP Tennessee, Inc\n",
      "\n",
      "Y Commendable\n",
      "TN\n",
      "Medicaid\n",
      "HMO\n",
      "AMERIGROUP Texas, Inc.\n",
      "\n",
      "Y Commendable\n",
      "TX\n",
      "Medicaid\n",
      "HMO\n",
      "AMERIGROUP Washington, Inc.\n",
      "\n",
      "Y Accredited\n",
      "WA\n",
      "Medicaid\n",
      "HMO\n",
      "AMGP Georgia Managed Care Company, Inc. d/b/a Amerigroup Community Care\n",
      "\n",
      "Y Commendable\n",
      "GA\n",
      "Medicaid\n",
      "HMO\n",
      "Absolute Total Care, Inc.\n",
      "\n",
      "Y Commendable\n",
      "SC\n",
      "Medicaid\n",
      "HMO\n",
      "Aetna Better Health Inc., a Pennsylvania Corporation\n",
      "\n",
      "Y Accredited\n",
      "PA\n",
      "Medicaid\n",
      "HMO\n",
      "Aetna Better Health of California\n",
      "\n",
      "Y Interim\n",
      "CA\n",
      "Medicaid\n",
      "HMO\n",
      "<<\n",
      "<\n",
      "1\n",
      "2\n",
      "3\n",
      "4\n",
      "5\n",
      "6\n",
      "7\n",
      "...\n",
      "120\n",
      "121\n",
      ">\n",
      ">>\n",
      "\n",
      "\n",
      "\n",
      "\n",
      "\n",
      "\n",
      "\n",
      "\n",
      "\n",
      "\n",
      "\n",
      "\n",
      "\n",
      "\n",
      "\n",
      "\n",
      "\n",
      "\n",
      "\n",
      "\n",
      "\n",
      "\n",
      "\n",
      "\n",
      "\n",
      "\n",
      "\n",
      "\n",
      "\n",
      "\n",
      "\n",
      "\n",
      "\n",
      "\n",
      "\n",
      "\n",
      "\n",
      "\n",
      "\n",
      "\n",
      "\n",
      "\n",
      "\n",
      "\n",
      "\n",
      "\n",
      "\n",
      "\n",
      "\n",
      "\n",
      "\n",
      "\n",
      "\n",
      "\n",
      "\n",
      "\n",
      "\n",
      "\n",
      "\n",
      "\n",
      "\n",
      "\n",
      "\n",
      "\n",
      "\n",
      "\n",
      "\n",
      "\n",
      "\n",
      "\n",
      "\n",
      "\n",
      "\n",
      "\n",
      "\n",
      "\n",
      "\n",
      "\n",
      "\n",
      "\n",
      "\n",
      "\n",
      "\n"
     ]
    }
   ],
   "source": [
    "for link in links:\n",
    "    print(link.text)"
   ]
  },
  {
   "cell_type": "code",
   "execution_count": 32,
   "metadata": {},
   "outputs": [],
   "source": [
    "links[1].click()"
   ]
  },
  {
   "cell_type": "code",
   "execution_count": 38,
   "metadata": {},
   "outputs": [],
   "source": [
    "links[7].click()"
   ]
  },
  {
   "cell_type": "code",
   "execution_count": 33,
   "metadata": {},
   "outputs": [],
   "source": [
    "driver.execute_script(\"window.history.go(-1)\")"
   ]
  },
  {
   "cell_type": "code",
   "execution_count": 26,
   "metadata": {},
   "outputs": [],
   "source": [
    "driver.close()"
   ]
  },
  {
   "cell_type": "code",
   "execution_count": null,
   "metadata": {},
   "outputs": [],
   "source": []
  }
 ],
 "metadata": {
  "kernelspec": {
   "display_name": "Python 3",
   "language": "python",
   "name": "python3"
  },
  "language_info": {
   "codemirror_mode": {
    "name": "ipython",
    "version": 3
   },
   "file_extension": ".py",
   "mimetype": "text/x-python",
   "name": "python",
   "nbconvert_exporter": "python",
   "pygments_lexer": "ipython3",
   "version": "3.7.4"
  }
 },
 "nbformat": 4,
 "nbformat_minor": 2
}
