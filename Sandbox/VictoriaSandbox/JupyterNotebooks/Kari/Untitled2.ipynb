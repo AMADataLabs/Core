{
 "cells": [
  {
   "cell_type": "code",
   "execution_count": 1,
   "metadata": {},
   "outputs": [],
   "source": [
    "import pandas as pd\n",
    "import datetime as dt"
   ]
  },
  {
   "cell_type": "code",
   "execution_count": 2,
   "metadata": {},
   "outputs": [
    {
     "name": "stderr",
     "output_type": "stream",
     "text": [
      "C:\\Users\\vigrose\\AppData\\Local\\Continuum\\anaconda3\\lib\\site-packages\\IPython\\core\\interactiveshell.py:3058: DtypeWarning: Columns (9,10,11,12,13,14,15,16) have mixed types. Specify dtype option on import or set low_memory=False.\n",
      "  interactivity=interactivity, compiler=compiler, result=result)\n",
      "C:\\Users\\vigrose\\AppData\\Local\\Continuum\\anaconda3\\lib\\site-packages\\IPython\\core\\interactiveshell.py:3058: DtypeWarning: Columns (2,3,4,5) have mixed types. Specify dtype option on import or set low_memory=False.\n",
      "  interactivity=interactivity, compiler=compiler, result=result)\n",
      "C:\\Users\\vigrose\\AppData\\Local\\Continuum\\anaconda3\\lib\\site-packages\\IPython\\core\\interactiveshell.py:3058: DtypeWarning: Columns (0) have mixed types. Specify dtype option on import or set low_memory=False.\n",
      "  interactivity=interactivity, compiler=compiler, result=result)\n",
      "C:\\Users\\vigrose\\AppData\\Local\\Continuum\\anaconda3\\lib\\site-packages\\IPython\\core\\interactiveshell.py:3058: DtypeWarning: Columns (10,11,12,13,14) have mixed types. Specify dtype option on import or set low_memory=False.\n",
      "  interactivity=interactivity, compiler=compiler, result=result)\n"
     ]
    }
   ],
   "source": [
    "ent_comm = pd.read_csv('2019-12-18_Entity_Comm_AT.csv')\n",
    "phone_at = pd.read_csv('2019-12-18_Phone_AT.csv')\n",
    "fone_zr = pd.read_csv('2019-12-18_EDW_Fone_ZR.csv')\n",
    "ent_key= pd.read_csv('2019-12-18_Entity_Key_ET.csv')\n",
    "ent_usg = pd.read_csv('2019-12-18_Entity_Comm_USG_AT.csv')"
   ]
  },
  {
   "cell_type": "code",
   "execution_count": 3,
   "metadata": {},
   "outputs": [
    {
     "data": {
      "text/plain": [
       "entity_id             int64\n",
       "comm_type            object\n",
       "comm_cat             object\n",
       "seq_nbr               int64\n",
       "begin_dt             object\n",
       "comm_id             float64\n",
       "approval_id         float64\n",
       "end_dt               object\n",
       "seasonal_add_ind     object\n",
       "chg_rsn_category     object\n",
       "chg_rsn_cat_code     object\n",
       "src_category         object\n",
       "src_cat_code         object\n",
       "search_city_cd       object\n",
       "state_cd             object\n",
       "zip                  object\n",
       "plus4                object\n",
       "update_user_id       object\n",
       "update_dtm           object\n",
       "opt_lock              int64\n",
       "current_ind          object\n",
       "dtype: object"
      ]
     },
     "execution_count": 3,
     "metadata": {},
     "output_type": "execute_result"
    }
   ],
   "source": [
    "ent_comm.dtypes"
   ]
  },
  {
   "cell_type": "code",
   "execution_count": 5,
   "metadata": {},
   "outputs": [
    {
     "data": {
      "text/html": [
       "<div>\n",
       "<style scoped>\n",
       "    .dataframe tbody tr th:only-of-type {\n",
       "        vertical-align: middle;\n",
       "    }\n",
       "\n",
       "    .dataframe tbody tr th {\n",
       "        vertical-align: top;\n",
       "    }\n",
       "\n",
       "    .dataframe thead th {\n",
       "        text-align: right;\n",
       "    }\n",
       "</style>\n",
       "<table border=\"1\" class=\"dataframe\">\n",
       "  <thead>\n",
       "    <tr style=\"text-align: right;\">\n",
       "      <th></th>\n",
       "      <th>entity_id</th>\n",
       "      <th>comm_type</th>\n",
       "      <th>comm_cat</th>\n",
       "      <th>seq_nbr</th>\n",
       "      <th>begin_dt</th>\n",
       "      <th>comm_id</th>\n",
       "      <th>approval_id</th>\n",
       "      <th>end_dt</th>\n",
       "      <th>seasonal_add_ind</th>\n",
       "      <th>chg_rsn_category</th>\n",
       "      <th>...</th>\n",
       "      <th>src_category</th>\n",
       "      <th>src_cat_code</th>\n",
       "      <th>search_city_cd</th>\n",
       "      <th>state_cd</th>\n",
       "      <th>zip</th>\n",
       "      <th>plus4</th>\n",
       "      <th>update_user_id</th>\n",
       "      <th>update_dtm</th>\n",
       "      <th>opt_lock</th>\n",
       "      <th>current_ind</th>\n",
       "    </tr>\n",
       "  </thead>\n",
       "  <tbody>\n",
       "  </tbody>\n",
       "</table>\n",
       "<p>0 rows × 21 columns</p>\n",
       "</div>"
      ],
      "text/plain": [
       "Empty DataFrame\n",
       "Columns: [entity_id, comm_type, comm_cat, seq_nbr, begin_dt, comm_id, approval_id, end_dt, seasonal_add_ind, chg_rsn_category, chg_rsn_cat_code, src_category, src_cat_code, search_city_cd, state_cd, zip, plus4, update_user_id, update_dtm, opt_lock, current_ind]\n",
       "Index: []\n",
       "\n",
       "[0 rows x 21 columns]"
      ]
     },
     "execution_count": 5,
     "metadata": {},
     "output_type": "execute_result"
    }
   ],
   "source": [
    "ent_comm[ent_comm['end_dt']=='.']"
   ]
  },
  {
   "cell_type": "code",
   "execution_count": 6,
   "metadata": {},
   "outputs": [
    {
     "data": {
      "text/plain": [
       "0           04JAN1999\n",
       "1           22SEP2004\n",
       "2           13JUN2000\n",
       "3           08AUG2001\n",
       "4                 NaN\n",
       "              ...    \n",
       "41965869          NaN\n",
       "41965870          NaN\n",
       "41965871          NaN\n",
       "41965872          NaN\n",
       "41965873          NaN\n",
       "Name: end_dt, Length: 41965874, dtype: object"
      ]
     },
     "execution_count": 6,
     "metadata": {},
     "output_type": "execute_result"
    }
   ],
   "source": [
    "ent_comm['end_dt']"
   ]
  },
  {
   "cell_type": "code",
   "execution_count": null,
   "metadata": {},
   "outputs": [],
   "source": []
  }
 ],
 "metadata": {
  "kernelspec": {
   "display_name": "Python 3",
   "language": "python",
   "name": "python3"
  },
  "language_info": {
   "codemirror_mode": {
    "name": "ipython",
    "version": 3
   },
   "file_extension": ".py",
   "mimetype": "text/x-python",
   "name": "python",
   "nbconvert_exporter": "python",
   "pygments_lexer": "ipython3",
   "version": "3.7.4"
  }
 },
 "nbformat": 4,
 "nbformat_minor": 2
}
