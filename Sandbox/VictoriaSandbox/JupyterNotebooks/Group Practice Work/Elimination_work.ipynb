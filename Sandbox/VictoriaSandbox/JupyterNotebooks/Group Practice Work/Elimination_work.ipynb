{
 "cells": [
  {
   "cell_type": "code",
   "execution_count": 1,
   "metadata": {},
   "outputs": [],
   "source": [
    "import pandas as pd"
   ]
  },
  {
   "cell_type": "code",
   "execution_count": 18,
   "metadata": {},
   "outputs": [],
   "source": [
    "df = pd.read_csv('Ye_Gads.csv')\n",
    "# from fuzzywuzzy import fuzz\n",
    "# from fuzzywuzzy import process"
   ]
  },
  {
   "cell_type": "code",
   "execution_count": 34,
   "metadata": {},
   "outputs": [
    {
     "name": "stdout",
     "output_type": "stream",
     "text": [
      "SUMMITRIDGE CENTER- PSYCHIATRY & ADDICTIVE MED   AMERICAN TRANSITIONAL HOSPITALS LLC  EUGENE B. GABIANELLI, MD & ASSOC. LLC\n",
      "EMORY UNIVERSITY HOSPITAL MIDTOWN   AMERICAN TRANSITIONAL HOSPITALS LLC  EUGENE B. GABIANELLI, MD & ASSOC. LLC\n",
      "GLENDALE ADVENTIST MEDICAL CENTER - WILSON TERRACE   GLENDALE ADVENTIST MEDICAL CENTER  ROBIN Y. KIM, M.D., A MEDICAL CORPORATION\n",
      "SUMMITRIDGE CENTER- PSYCHIATRY & ADDICTIVE MED   CRAWFORD LONG HOSPITAL  EUGENE B. GABIANELLI, MD & ASSOC. LLC\n",
      "EMORY UNIVERSITY HOSPITAL MIDTOWN   CRAWFORD LONG HOSPITAL  EUGENE B. GABIANELLI, MD & ASSOC. LLC\n",
      "CASA COLINA HOSPITAL FOR REHAB MEDICINE   CASA COLINA HOSPITAL AND CENTERS FOR HEALTHCARE  SCOTT C. LEDERHAUS, MD, LEW B. DISNEY, MD, JOSE L. RODRIGUEZ, MD\n",
      "ANTELOPE VALLEY HOSPITAL   ANTELOPE VALLEY HEALTH CARE DISTRICT  RAJIV BUDDEN M.D. INC.\n",
      "SAWTOOTH BEHAVIORAL HEALTH   MAGIC VALLEY REGIONAL MEDICAL CENTER  CLISTO BEATY, MD, PC\n",
      "TEXAS CHILDREN'S HOSPITAL   BAYLOR COLLEGE OF MEDICINE  BRIAN H KAPLAN MD PA\n"
     ]
    }
   ],
   "source": [
    "DICT_LIST = []\n",
    "bad_npis = []\n",
    "for row in df.itertuples():\n",
    "    if row.NAME_GOV =='None':\n",
    "        new_df=df[(df.LOCATION_CITY==row.LOCATION_CITY)&(df.LOCATION_STATE==row.LOCATION_STATE)]\n",
    "        for line in new_df.itertuples():\n",
    "            if line.NAME_GOV != 'None':\n",
    "                if fuzz.ratio(row.LOCATION_ADDRESS_1, line.LOCATION_ADDRESS_1)>90:\n",
    "                    if ' MD' in line.NAME_NPI or 'M.D.' in line.NAME_NPI:\n",
    "                        bad_npis.append(line.NPI)\n",
    "                        NEW_DICT={\n",
    "                            'ID':line.ID,\n",
    "                            'NPI':row.NPI\n",
    "                        }\n",
    "                        \n",
    "                        print(F'{line.NAME_GOV}   {row.NAME_NPI}  {line.NAME_NPI}')\n",
    "                        DICT_LIST.append(NEW_DICT)\n",
    "                    else:\n",
    "                        bad_npis.append(row.NPI)\n",
    "#                         print(f'{row.NAME_NPI} matched to {line.NAME_NPI}')\n",
    "                        break"
   ]
  },
  {
   "cell_type": "code",
   "execution_count": 35,
   "metadata": {},
   "outputs": [
    {
     "data": {
      "text/plain": [
       "760"
      ]
     },
     "execution_count": 35,
     "metadata": {},
     "output_type": "execute_result"
    }
   ],
   "source": [
    "len(bad_npis)"
   ]
  },
  {
   "cell_type": "code",
   "execution_count": 32,
   "metadata": {},
   "outputs": [
    {
     "data": {
      "text/plain": [
       "[{'ID': 88330046.0, 'NPI': 1952307811},\n",
       " {'ID': 86130308.0, 'NPI': 1952307811},\n",
       " {'ID': 14691206.0, 'NPI': 1831188275},\n",
       " {'ID': 88330046.0, 'NPI': 1144203563},\n",
       " {'ID': 86130308.0, 'NPI': 1144203563},\n",
       " {'ID': 5391767.0, 'NPI': 1821075870},\n",
       " {'ID': 1993534.0, 'NPI': 1366419517},\n",
       " {'ID': 5783301.0, 'NPI': 1447208947},\n",
       " {'ID': 25877030.0, 'NPI': 1588671630}]"
      ]
     },
     "execution_count": 32,
     "metadata": {},
     "output_type": "execute_result"
    }
   ],
   "source": [
    "DICT_LIST"
   ]
  },
  {
   "cell_type": "code",
   "execution_count": 22,
   "metadata": {},
   "outputs": [],
   "source": [
    "df = df.fillna('None')"
   ]
  },
  {
   "cell_type": "code",
   "execution_count": 29,
   "metadata": {},
   "outputs": [
    {
     "name": "stdout",
     "output_type": "stream",
     "text": [
      "FORT WALTON BEACH MEDICAL CENTER   96TH MDG EGLIN AFB\n",
      "METHODIST HOSPITAL-SOUTHLAKE   ABRAR U KHAN MD\n",
      "KINGSBORO PSYCHIATRIC CENTER   ARNOLD LICHT MD PC\n",
      "CEDAR PARK REGIONAL MEDICAL CENTER   AUBREY CHAD HARTMANN, MD, PA\n",
      "FAXTON-ST. LUKE'S HEALTHCARE - FAXTON CAMPUS   BRIAN BOYLE, MD PC\n",
      "TEXAS CHILDREN'S HOSPITAL   BRIAN H KAPLAN MD PA\n",
      "OJAI VALLEY COMMUNITY HOSPITAL   CARL A. CONSTANTINE, M.D., A PROFESSIONAL CORPORATION\n",
      "OJAI MANOR CONVALESCENT HOSPITAL   CARL A. CONSTANTINE, M.D., A PROFESSIONAL CORPORATION\n",
      "HOSPITAL FOR SURGICAL EXCELLENCE OF OAKBEND MEDICAL CENTER   CHRIS XIAOGUANG CHEN MD PA\n",
      "NORTHRIDGE HOSPITAL MEDICAL CENTER   CHRISTOJOHN SAMUEL MD INC\n",
      "SAWTOOTH BEHAVIORAL HEALTH   CLISTO BEATY, MD, PC\n",
      "WK PIERREMONT HEALTH CENTER   DALE P MCGINTY, MD AND WILLIS-KNIGHTON MEDICAL CENTER\n",
      "WEST SUBURBAN MEDICAL CENTER   DAVID R SCHATZ MD SC\n",
      "MEMORIAL HOSPITAL OF MARTINSVILLE AND HENRY COUNTY   DAVID W ROYCROFT MD INC\n",
      "ST CHRISTOPHERS HOSPITAL FOR CHILDREN   DR. USHA B. DESAI, MD, PC\n",
      "PAM SPECIALTY HOSPITAL OF CORPUS CHRISTI SOUTH   E TODD ROGOFF MD PA\n",
      "ST. ROSE DOMINICAN HOSPITALS - SAN MARTIN CAMPUS   EDWARD OUTLAW, MD, PC\n",
      "HEART OF THE ROCKIES REGIONAL MEDICAL CENTER   EDWIN J. LOEFFEL JR., MD, PC\n",
      "SUMMITRIDGE CENTER- PSYCHIATRY & ADDICTIVE MED   EUGENE B. GABIANELLI, MD & ASSOC. LLC\n",
      "EMORY UNIVERSITY HOSPITAL MIDTOWN   EUGENE B. GABIANELLI, MD & ASSOC. LLC\n",
      "OLYMPIA MEDICAL CENTER   EUGENE RAPAPORT MD INC\n",
      "KINDRED HOSPITAL - LAS VEGAS (SAHARA CAMPUS)   FIROOZ MASHHOOD MD A PROFESSIONAL CORPORATION\n",
      "METHODIST LE BONHEUR GERMANTOWN HOSPITAL   FRANCIS J. FENAUGHTY MD, P.C.\n",
      "HEALTHSOUTH REHABILITATION HOSPITAL OF ROUND ROCK   GODINEZ MD PA\n",
      "DESERT WILLOW TREATMENT CENTER   GUADALUPE MEDICAL CENTER/OKAMOTO MD PC\n",
      "RESTPADD PSYCHIATRIC HEALTH FACILITY   GUY CORKILL, M.D. INC.\n",
      "ST. JOSEPH'S MEDICAL CENTER OF STOCKTON   HENRY Y T WONG, MD INC\n",
      "HOUSTON METHODIST HOSPTIAL   HUY B. VINH, M.D., P.A.\n",
      "HEALTHSOUTH REHABILITATION HOSPITAL OF CYPRESS   IGANZIO G. LA CHINA, M.D., P.A.\n",
      "DR P PHILLIPS HOSPITAL   IGNACIO J R SALZMAN MD P A\n",
      "SAN GABRIEL VALLEY MEDICAL CENTER   IVOR GREEN M.D. A PROFESSIONAL CORPORATION\n",
      "THE CORPUS CHRISTI MEDICAL CENTER - NORTHWEST   J J CARR MD PA\n",
      "SHRINERS HOSPITAL FOR  CHILDREN   JAMES K NAKAMURA MD INC\n",
      "JACKSON SOUTH COMMUNITY HOSPITAL   JAVIER RICARDO MD PA\n",
      "ALTA BATES SUMMIT MED CTR-HERRICK CAMPUS   JEFFREY L. STERN, M.D., APC\n",
      "ST. ROSE DOMINICAN HOSPITALS - ROSE DE LIMA CAMPUS   JOHN T GOODSELL DO PC GREGORY LINDERER MD LTD\n",
      "SELECT SPECIALTY HOSPITAL MT. CARMEL   KENNETH W R BAKER, M.D.\n",
      "OHIO STATE UNIVERSITY HOSPITAL EAST   KENNETH W R BAKER, M.D.\n",
      "TEXAS HEALTH HUGULEY HOSPITAL   LYLE FREEDMAN MD HUGULEY OPTICAL\n",
      "INCLINE VILLAGE HEALTH CENTER   MICHAEL B MACQUARRIE MD INC\n",
      "CENTENNIAL HILLS HOSPITAL MEDICAL CENTER   MICHAEL C. TENBY, M.D., LTD\n",
      "MERCY REHABILITATION SERVICES   MICHAEL MANKARIOUS MD PC\n",
      "SCRIPPS MERCY HOSPITAL - CHULA VISTA   MICHAEL Q. DINH, M.D., PROF. CORP.\n",
      "ANTELOPE VALLEY HOSPITAL   RAJIV BUDDEN M.D. INC.\n",
      "KAISER PERMANENTE PANORAMA CITY   RAYMOND LAM,M.D., INC.\n",
      "BAPTIST MEDICAL CENTER JACKSONVILLE   ROBERT D LEE MD PA\n",
      "GLENDALE ADVENTIST MEDICAL CENTER - WILSON TERRACE   ROBIN Y. KIM, M.D., A MEDICAL CORPORATION\n",
      "KINDRED HOSPITAL - SAN DIEGO   SAMUEL J. CLARK, M.D., INC.\n",
      "CASA COLINA HOSPITAL FOR REHAB MEDICINE   SCOTT C. LEDERHAUS, MD, LEW B. DISNEY, MD, JOSE L. RODRIGUEZ, MD\n",
      "SOUTHERN CALIFORNIA HOSPITAL AT CULVER CITY   STEVEN H. BERLIN, M.D. INC.\n",
      "REDLANDS COMMUNITY HOSPITAL   STEVEN M BEUTLER MD INC\n",
      "SEVEN HILLS BEHAVIORAL INSTITUTE   SUNIL KALLA, M.D., INC. PC\n",
      "MIDWESTERN REGION MED CENTER   SYLVIA XI-MOY, M.D., S.C.\n",
      "BAPTIST MEDICAL CENTER - NASSAU   TAE Y RHO MD PA\n",
      "CHANDLER REGIONAL MEDICAL CENTER   TERRY M. CLAYTON, M.D., P.C.\n",
      "NEW HANOVER REGIONAL MEDICAL CENTER ORTHOPEDIC HOSPITAL   THOMAS G POTTLE MD PC\n",
      "COLORADO PLAINS MEDICAL CENTER   TIMOTHY A FERRUGIA MD PC\n",
      "MEDSTAR GOOD SAMARITAN HOSPITAL   DARIOUSH NASSERI MD PA\n",
      "HOLLY HILL HOSPITAL   DAVID GACENGECI MD, PA\n",
      "DEGRAFF MEMORIAL HOSPITAL   DAVID M. WALBORN MD PC\n",
      "CHI HEALTH CREIGHTON UNIVERSITY MEDICAL - BERGAN MERCY   GARY E LIEBSCH MD PC\n",
      "CHI HEALTH CREIGHTON UNIVERSITY MEDICAL - BERGAN MERCY   GRIFFITH EVANS MD PC\n",
      "EARL AND LORRAINE MILLER CHILDRENS HOSPITAL   JOHN JORDAN, M.D., INC.\n",
      "CHI HEALTH CREIGHTON UNIVERSITY MEDICAL - BERGAN MERCY   MICHAEL S PETTIS MD PC\n",
      "CARTHAGE AREA HOSPITAL   MIRZA M ASHRAF, M.D., P.C.\n",
      "WOLFSON CHILDREN'S HOSPITAL - JACKSONVILLE   ROBERT D LEE MD PA\n",
      "EARL AND LORRAINE MILLER CHILDRENS HOSPITAL   ROBERT LEE WILSON, M.D., MEDICAL CORPORATION\n",
      "CHI HEALTH CREIGHTON UNIVERSITY MEDICAL - BERGAN MERCY   THOMAS G BUGLEWICZ MD PC\n"
     ]
    }
   ],
   "source": [
    "for row in df.itertuples():\n",
    "    if row.NAME_GOV !='None':\n",
    "        if ' MD' in row.NAME_NPI or 'M.D.' in row.NAME_NPI:\n",
    "            print(F'{row.NAME_GOV}   {row.NAME_NPI}')"
   ]
  },
  {
   "cell_type": "code",
   "execution_count": 26,
   "metadata": {},
   "outputs": [],
   "source": [
    "bad_words = ['MD','M.D.']"
   ]
  },
  {
   "cell_type": "code",
   "execution_count": 41,
   "metadata": {},
   "outputs": [],
   "source": [
    "df[df['NPI'].isin(bad_npis)==False].drop_duplicates('NPI', keep='last').sort_values('NPI').to_csv('Curated_Hospital_Dataset_20-02-06.csv',index=False)"
   ]
  },
  {
   "cell_type": "code",
   "execution_count": null,
   "metadata": {},
   "outputs": [],
   "source": []
  }
 ],
 "metadata": {
  "kernelspec": {
   "display_name": "Python 3",
   "language": "python",
   "name": "python3"
  },
  "language_info": {
   "codemirror_mode": {
    "name": "ipython",
    "version": 3
   },
   "file_extension": ".py",
   "mimetype": "text/x-python",
   "name": "python",
   "nbconvert_exporter": "python",
   "pygments_lexer": "ipython3",
   "version": "3.7.4"
  }
 },
 "nbformat": 4,
 "nbformat_minor": 2
}
