{
 "cells": [
  {
   "cell_type": "code",
   "execution_count": 1,
   "metadata": {},
   "outputs": [],
   "source": [
    "from bs4 import BeautifulSoup\n",
    "import requests\n",
    "import pandas as pd"
   ]
  },
  {
   "cell_type": "code",
   "execution_count": 5,
   "metadata": {},
   "outputs": [],
   "source": [
    "base_url = 'https://www.pennmedicine.org/providers?name=a&searchby=name&fadf=PennMedicine'\n",
    "response = requests.get(base_url)\n",
    "soup = BeautifulSoup(response.content, 'html.parser')"
   ]
  },
  {
   "cell_type": "code",
   "execution_count": 9,
   "metadata": {},
   "outputs": [],
   "source": [
    "doctors = soup.find_all(class_='fad-listing__list-item')"
   ]
  },
  {
   "cell_type": "code",
   "execution_count": 14,
   "metadata": {},
   "outputs": [],
   "source": [
    "link = doctors[0].find('a')['href']"
   ]
  },
  {
   "cell_type": "code",
   "execution_count": 16,
   "metadata": {},
   "outputs": [],
   "source": [
    "name = doctors[0].find('img')['alt']"
   ]
  },
  {
   "cell_type": "code",
   "execution_count": 21,
   "metadata": {},
   "outputs": [],
   "source": [
    "title = doctors[0].find(class_=\"fad-listing__list-item-title-secondary\").text.replace('\\n','')"
   ]
  },
  {
   "cell_type": "code",
   "execution_count": 39,
   "metadata": {},
   "outputs": [],
   "source": [
    "for thing in doctors[0].find_all(class_='fad-listing__list-item-ul'):\n",
    "    if 'Specialty' in thing.text:\n",
    "        specialty = thing.text.replace('\\n','').replace('Specialty: ','')\n",
    "    if 'Programs' in thing.text:\n",
    "        programs = thing.text.replace('\\n','').replace('Programs: ','')"
   ]
  },
  {
   "cell_type": "code",
   "execution_count": 32,
   "metadata": {},
   "outputs": [],
   "source": [
    "phone = doctors[0].find(class_='fad-provider-bio__btn')['href'].replace('tel:','')"
   ]
  },
  {
   "cell_type": "code",
   "execution_count": 38,
   "metadata": {},
   "outputs": [],
   "source": [
    "location = doctors[0].find(class_ = 'fad-listing__list-item-ul--sm').text.replace('\\n','')"
   ]
  },
  {
   "cell_type": "code",
   "execution_count": 51,
   "metadata": {},
   "outputs": [],
   "source": [
    "dict_list = []\n",
    "for doctor in doctors:\n",
    "    link = doctor.find('a')['href']\n",
    "    name = doctor.find_all('a')[1].text\n",
    "    title = doctor.find(class_=\"fad-listing__list-item-title-secondary\").text.replace('\\n','').replace('  ','').replace('\\r','')\n",
    "    for thing in doctor.find_all(class_='fad-listing__list-item-ul'):\n",
    "        if 'Specialty' in thing.text:\n",
    "            specialty = thing.text.replace('\\n','').replace('Specialty: ','')\n",
    "        if 'Programs' in thing.text:\n",
    "            programs = thing.text.replace('\\n','').replace('Programs: ','')\n",
    "    try:\n",
    "        phone = doctor.find(class_='fad-provider-bio__btn')['href'].replace('tel:','')\n",
    "    except:\n",
    "        phone = 'None'\n",
    "    try:\n",
    "        location = doctor.find(class_ = 'fad-listing__list-item-ul--sm').text.replace('\\n','')\n",
    "    except:\n",
    "        location = 'None'\n",
    "    new_dict = {\n",
    "        'Link': link,\n",
    "        'Name': name,\n",
    "        'title': title,\n",
    "        'Specialty': specialty,\n",
    "        'Programs': programs,\n",
    "        'Phone': phone,\n",
    "        'Location': location\n",
    "    }\n",
    "    dict_list.append(new_dict)"
   ]
  },
  {
   "cell_type": "code",
   "execution_count": 57,
   "metadata": {},
   "outputs": [],
   "source": [
    "names_list =[]\n",
    "for entry in dict_list:\n",
    "    names_list.append(entry['Name'])"
   ]
  },
  {
   "cell_type": "code",
   "execution_count": 58,
   "metadata": {},
   "outputs": [
    {
     "data": {
      "text/plain": [
       "['Nadine Al-Naamani, MD, MS',\n",
       " 'Sara Attalla, MD',\n",
       " 'Valerianna K. Amorosa, MD',\n",
       " 'Nicole Aqui, MD',\n",
       " 'Michael A. Acker, MD',\n",
       " 'Rizwan S. Akhtar, MD, PhD',\n",
       " 'Neha Agarwal, MD',\n",
       " 'Manuj Agarwal, MD',\n",
       " 'Zarina S. Ali, MD',\n",
       " 'Ravi K. Amaravadi, MD',\n",
       " 'Vincent Arlet, MD',\n",
       " 'Anastassia Amaro, MD',\n",
       " 'Lori A. Atkinson, MD',\n",
       " 'Hamdee Attallah, MD',\n",
       " 'Ashraf A. Abou-Elella, MD',\n",
       " 'Marietta Ambrose, MD, MPH, FACC',\n",
       " 'Maria Antoniou, MD, DABSM',\n",
       " 'Ron C. Anafi, MD, PhD',\n",
       " 'John G. Augoustides, MD',\n",
       " 'Michelle Alonso-Basanta, MD, PhD',\n",
       " 'Geoffrey Aguirre, MD, PhD',\n",
       " 'Olufolakemi A. Akinkunmi, MD',\n",
       " 'Diana Ayubcha, DO, MS',\n",
       " 'Pavan Atluri, MD',\n",
       " 'Prathima Neerukonda Atluri, MD',\n",
       " 'Soo Kim Abboud, MD',\n",
       " 'Lily A Arya, MD, MS',\n",
       " 'Peter L. Abt, MD',\n",
       " 'Zoltan Pierre Arany, MD, PhD',\n",
       " 'David L. Arluck, MD, FACC',\n",
       " 'Uduak U. Andy, MD',\n",
       " 'Cary B. Aarons, MD',\n",
       " 'William M. Armstead, BA, MS, PhD',\n",
       " 'Faten N. Aberra, MD, MSCE',\n",
       " 'Bahareh Assadi, MD',\n",
       " 'Renee T. Anderson, DO',\n",
       " 'Charles S. Abrams, MD',\n",
       " 'Faizan Alawi, DDS',\n",
       " 'Lourdes F. S. Al Ghofaily, MD',\n",
       " 'Alexander F. Au, MD',\n",
       " 'Victoria Marie Addis, MD',\n",
       " 'Paul H. Axelsen, MD',\n",
       " 'Vivek Ahya, MD, MBA',\n",
       " 'R. Aimee Ando, DO',\n",
       " 'Sheela Y. Ahmed, MD',\n",
       " 'Saif Anwaruddin, MD',\n",
       " 'Raza Ahmad, MD',\n",
       " 'Tawia Apenteng, MD',\n",
       " 'Shafinaz Akhter, MD',\n",
       " 'David A. Asch, MD, MBA',\n",
       " 'Nitin Ahuja, MD, MS',\n",
       " 'Abass Alavi, MD, MD(Hon), PHD(Hon), DSc(Hon)',\n",
       " 'DaCarla M. Albright, MD',\n",
       " 'Daniel Abraham, MD',\n",
       " 'Jaimo Ahn, MD, PhD',\n",
       " 'Roy Arjoon, MD',\n",
       " 'David N. Anderson, MD',\n",
       " 'Jeffrey S. Arkles, MD',\n",
       " 'Jaya Aysola, MD, DTMH, MPH',\n",
       " 'Michael E. Abboud, MD',\n",
       " 'Subha Airan-Javia, MD',\n",
       " 'Erin O. Aakhus, MD',\n",
       " 'George L. Anesi, MD, MSCE, MBE',\n",
       " 'Benjamin S. Abella, MD, MPhil',\n",
       " 'Alan D. Askenase, MD',\n",
       " 'Jason T. Ackrivo, MD, MSCE',\n",
       " 'Olayiwola Amoran, MD',\n",
       " 'Nithin D. Adappa, MD',\n",
       " 'Srinath Adusumalli, MD, MSc, FACC',\n",
       " 'Charu Aggarwal, MD, MPH',\n",
       " 'Stephanie B. Abbuhl, MD, FACEP',\n",
       " 'Judith Anesi, MD',\n",
       " 'Adeel H Azam, MD',\n",
       " 'Mona Al Mukaddam, MD, MS',\n",
       " 'Joshua Atkins, MD',\n",
       " 'Steven M. Albelda, MD',\n",
       " 'Michael Alan Ashburn, MD, MPH, MBA',\n",
       " 'Tomas S. Aleman, MD',\n",
       " 'Benjamin Abramoff, MD, MS',\n",
       " 'Brian J. Anderson, MD, MSCE',\n",
       " 'Nuzhat Ahmad, MD',\n",
       " 'Karen Albright, CRNP',\n",
       " 'Maria Alesi-Hannold, CRNP, MSN',\n",
       " 'Sarah E. Anderson, MHS, PA-C',\n",
       " 'Kelly Costello Allison, PhD',\n",
       " 'Darcy Alimenti, MSN, CRNP',\n",
       " 'Ann J. Aharon, MSN, CRNP',\n",
       " 'Alisha Amendt, CRNP, MSN',\n",
       " 'Raoul J. Aponte, PA-C',\n",
       " 'Alicia Marie Andaloro, PA-C, MS',\n",
       " 'Ayisha Arshad, CRNP, MSN',\n",
       " 'Elizabeth Attig, CRNP, MSN, AGNP-BC',\n",
       " 'Brenda A. Appolo, PA',\n",
       " 'Christine Archer-Chicko, CRNP, MSN',\n",
       " 'Kelly P. Agnew, PA-C',\n",
       " 'Pam Anger, AuD',\n",
       " 'Naomi A. Amudala, CRNP, MSN',\n",
       " 'Taylor Apostolico, MS, LCGC',\n",
       " 'Natalie A. Angeloni, MSN, CRNP',\n",
       " 'Farrah L. Altuve, PA-C, RN',\n",
       " 'Patricia Kathleen Abbott, MHS, PA-C',\n",
       " 'Rebecca Abeyawardene, CRNP',\n",
       " 'Anne Ades, MD',\n",
       " 'William Anninger, MD',\n",
       " 'Nicholas Abend, MD',\n",
       " 'Lindsey G. Albenberg, DO',\n",
       " 'Savvas Andronikou, MD, PhD',\n",
       " 'Sudha Ayyala Anupindi, MD',\n",
       " 'Soraya Abbasi, MD',\n",
       " 'Michael Acord, MD',\n",
       " 'Robert Avery, DO, MSCE',\n",
       " 'Cristan M. Arena, MD',\n",
       " 'Andrew Ascher, MD',\n",
       " 'Donald H. Andersen, MD',\n",
       " 'Stephanie K. Ardell, MD',\n",
       " 'Amy B. Akins, MD',\n",
       " 'Halette L. Anderson, MD',\n",
       " 'Jennifer B. Akins, MD',\n",
       " 'William R. Atkins, MD',\n",
       " 'Milad Azadi, DMD',\n",
       " 'Kenan Aksu, DO',\n",
       " 'Brian K. Abaluck, MD',\n",
       " 'Alan M. Askinas, MD',\n",
       " 'Douglas L. Atlas, MD',\n",
       " 'Carol B. Andersen, MD',\n",
       " 'Pooneh Alborzi, MD',\n",
       " 'Sharon J. Anghel, DPM',\n",
       " 'Caitlin M. Arnone, PA']"
      ]
     },
     "execution_count": 58,
     "metadata": {},
     "output_type": "execute_result"
    }
   ],
   "source": [
    "names_list"
   ]
  },
  {
   "cell_type": "code",
   "execution_count": 56,
   "metadata": {},
   "outputs": [],
   "source": [
    "abcs = 'b c d e f g h i j k l m n o p q r s t u v w x y z'\n",
    "abc_list = abcs.split(' ')"
   ]
  },
  {
   "cell_type": "code",
   "execution_count": 59,
   "metadata": {},
   "outputs": [
    {
     "name": "stdout",
     "output_type": "stream",
     "text": [
      "b\n",
      "c\n",
      "d\n",
      "e\n",
      "f\n",
      "g\n",
      "h\n",
      "i\n",
      "j\n",
      "k\n",
      "l\n",
      "m\n",
      "n\n",
      "o\n",
      "p\n",
      "q\n",
      "r\n",
      "s\n",
      "t\n",
      "u\n",
      "v\n",
      "w\n",
      "x\n",
      "y\n",
      "z\n"
     ]
    }
   ],
   "source": [
    "for letter in abc_list:\n",
    "    print(letter)\n",
    "    base_url = f'https://www.pennmedicine.org/providers?name={letter}&searchby=name&fadf=PennMedicine'\n",
    "    response = requests.get(base_url)\n",
    "    soup = BeautifulSoup(response.content, 'html.parser')\n",
    "    doctors = soup.find_all(class_='fad-listing__list-item')\n",
    "    for doctor in doctors:\n",
    "        name = doctor.find_all('a')[1].text\n",
    "        if name not in names_list:\n",
    "            names_list.append(name)\n",
    "            link = doctor.find('a')['href']\n",
    "            title = doctor.find(class_=\"fad-listing__list-item-title-secondary\").text.replace('\\n','').replace('  ','').replace('\\r','')\n",
    "            for thing in doctor.find_all(class_='fad-listing__list-item-ul'):\n",
    "                if 'Specialty' in thing.text:\n",
    "                    specialty = thing.text.replace('\\n','').replace('Specialty: ','')\n",
    "                if 'Programs' in thing.text:\n",
    "                    programs = thing.text.replace('\\n','').replace('Programs: ','')\n",
    "            try:\n",
    "                phone = doctor.find(class_='fad-provider-bio__btn')['href'].replace('tel:','')\n",
    "            except:\n",
    "                phone = 'None'\n",
    "            try:\n",
    "                location = doctor.find(class_ = 'fad-listing__list-item-ul--sm').text.replace('\\n','')\n",
    "            except:\n",
    "                location = 'None'\n",
    "            new_dict = {\n",
    "                'Link': link,\n",
    "                'Name': name,\n",
    "                'title': title,\n",
    "                'Specialty': specialty,\n",
    "                'Programs': programs,\n",
    "                'Phone': phone,\n",
    "                'Location': location\n",
    "            }\n",
    "            dict_list.append(new_dict)"
   ]
  },
  {
   "cell_type": "code",
   "execution_count": 63,
   "metadata": {},
   "outputs": [],
   "source": [
    "pd.DataFrame(dict_list).to_csv('Penn_Medicine_Roster.csv')"
   ]
  },
  {
   "cell_type": "code",
   "execution_count": null,
   "metadata": {},
   "outputs": [],
   "source": []
  }
 ],
 "metadata": {
  "kernelspec": {
   "display_name": "Python 3",
   "language": "python",
   "name": "python3"
  },
  "language_info": {
   "codemirror_mode": {
    "name": "ipython",
    "version": 3
   },
   "file_extension": ".py",
   "mimetype": "text/x-python",
   "name": "python",
   "nbconvert_exporter": "python",
   "pygments_lexer": "ipython3",
   "version": "3.7.4"
  }
 },
 "nbformat": 4,
 "nbformat_minor": 2
}
