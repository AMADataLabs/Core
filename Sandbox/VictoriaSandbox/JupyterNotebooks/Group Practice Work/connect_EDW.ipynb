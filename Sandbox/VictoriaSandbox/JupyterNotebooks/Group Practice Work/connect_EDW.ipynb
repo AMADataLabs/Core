{
 "cells": [
  {
   "cell_type": "code",
   "execution_count": 2,
   "metadata": {},
   "outputs": [],
   "source": [
    "import pandas as pd\n",
    "import pyodbc"
   ]
  },
  {
   "cell_type": "code",
   "execution_count": 4,
   "metadata": {},
   "outputs": [
    {
     "data": {
      "text/plain": [
       "<pyodbc.Cursor at 0x20dd11fc830>"
      ]
     },
     "execution_count": 4,
     "metadata": {},
     "output_type": "execute_result"
    }
   ],
   "source": [
    "v = 'DSN=aims_prod; UID={}; PWD={}'.format('vigrose', 'DQA8K@T7pXEqEt')\n",
    "AIMS_conn = pyodbc.connect(v)\n",
    "AIMS_conn.execute('SET ISOLATION TO DIRTY READ;')\n",
    "\n",
    "# #for edw\n",
    "# s = \"DSN=PRDDW; UID={}; PWD={}\".format(username, password_edw)\n",
    "# AMAEDW = pyodbc.connect(s)\n",
    "\n",
    "\n",
    "# #for ods test\n",
    "# w = \"DSN=etstods; UID={}; PWD={}\".format(username, password_edw)\n",
    "# ODS = pyodbc.connect(w)"
   ]
  },
  {
   "cell_type": "code",
   "execution_count": null,
   "metadata": {},
   "outputs": [],
   "source": [
    "\n",
    "#for edw\n",
    "s = \"DSN=PRDDW; UID={}; PWD={}\".format('vigrose', 'slytherin10946')\n",
    "AMAEDW = pyodbc.connect(s)\n",
    "\n",
    "#example query\n",
    "sql_query_1 = \\\n",
    "    \"\"\" \n",
    "    SELECT * \n",
    "    FROM \n",
    "    AMAEDW.LIC \n",
    "    ;\n",
    "\n",
    "    \"\"\"\n",
    "ME = pd.read_sql(con=AMAEDW, sql=sql_query_1)"
   ]
  },
  {
   "cell_type": "code",
   "execution_count": null,
   "metadata": {},
   "outputs": [],
   "source": [
    "ME"
   ]
  },
  {
   "cell_type": "code",
   "execution_count": null,
   "metadata": {},
   "outputs": [],
   "source": [
    "sql_query_1 = \\\n",
    "    \"\"\" \n",
    "    SELECT * FROM AMAEDW.LIC;\n",
    "\n",
    "    \"\"\"\n",
    "ME = pd.read_sql(con=AMAEDW, sql=sql_query_1)"
   ]
  }
 ],
 "metadata": {
  "kernelspec": {
   "display_name": "Python 3",
   "language": "python",
   "name": "python3"
  },
  "language_info": {
   "codemirror_mode": {
    "name": "ipython",
    "version": 3
   },
   "file_extension": ".py",
   "mimetype": "text/x-python",
   "name": "python",
   "nbconvert_exporter": "python",
   "pygments_lexer": "ipython3",
   "version": "3.7.4"
  }
 },
 "nbformat": 4,
 "nbformat_minor": 2
}
