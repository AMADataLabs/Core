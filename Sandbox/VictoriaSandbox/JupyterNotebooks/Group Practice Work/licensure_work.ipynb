{
 "cells": [
  {
   "cell_type": "code",
   "execution_count": 1,
   "metadata": {},
   "outputs": [],
   "source": [
    "import pandas as pd\n",
    "import requests\n",
    "from bs4 import BeautifulSoup"
   ]
  },
  {
   "cell_type": "code",
   "execution_count": 2,
   "metadata": {},
   "outputs": [],
   "source": [
    "url = 'https://medicushcs.com/physician-licensure-application-fees-and-timelines-by-state/'\n",
    "response = requests.get(url)\n",
    "soup = BeautifulSoup(response.content, 'html.parser')"
   ]
  },
  {
   "cell_type": "code",
   "execution_count": 4,
   "metadata": {},
   "outputs": [],
   "source": [
    "paragraphs = soup.find_all('p')"
   ]
  },
  {
   "cell_type": "code",
   "execution_count": 23,
   "metadata": {},
   "outputs": [
    {
     "data": {
      "text/plain": [
       "['<p>Medical License Commission of Alabama',\n",
       " 'P.O. Box 887',\n",
       " 'Montgomery, AL 36101-0087',\n",
       " 'Phone: (334) 242-4153',\n",
       " 'Fax: (334) 242-415',\n",
       " '<strong>Application Packet:</strong>\\xa0$20',\n",
       " '<strong>Criminal Background Check\\xa0Fee:</strong>\\xa0$65',\n",
       " '<strong>Initial License\\xa0Fee:</strong>\\xa0$175',\n",
       " '<strong>FCVS accepted</strong>',\n",
       " '<strong>Average time for obtaining license:\\xa0</strong>6 to 8 weeks, but could take up to 6 months</p>']"
      ]
     },
     "execution_count": 23,
     "metadata": {},
     "output_type": "execute_result"
    }
   ],
   "source": [
    "split_p = str(paragraphs[3]).split('<br/> ')\n",
    "split_p"
   ]
  },
  {
   "cell_type": "code",
   "execution_count": 56,
   "metadata": {},
   "outputs": [],
   "source": [
    "dict_list =[]\n",
    "for paragraph in paragraphs[3:]:\n",
    "    name = 'none'\n",
    "    address_1 = 'none'\n",
    "    address_2 = 'none'\n",
    "    phone = 'none'\n",
    "    fax = 'none'\n",
    "    application = 'none'\n",
    "    temp = 'none'\n",
    "    fcvs = 'none'\n",
    "    average = 'none'\n",
    "    email = 'none'\n",
    "    criminal = 'none'\n",
    "    initial = 'none'\n",
    "    split_address = str(paragraph).split('Phone')[0].split('<br/> ')\n",
    "    if '' in split_address:\n",
    "        split_address.remove('')\n",
    "    address_2 = split_address[-1]\n",
    "    try:\n",
    "        address_1 = split_address[-2]\n",
    "    except:\n",
    "        address_1 = 'none'\n",
    "    split_p = str(paragraph).split('<br/> ')\n",
    "    for p in split_p:\n",
    "        if '<p>' in p:\n",
    "            name = p.replace('<p>','')\n",
    "        if 'Phone' in p:\n",
    "            phone = p.replace('Phone: ','')\n",
    "        if 'Fax' in p:\n",
    "            fax = p.replace('Fax: ','')\n",
    "        if 'Application' in p:\n",
    "            application = p.replace('<strong>Application Packet:</strong>\\xa0','')\n",
    "            application = application.replace('<strong>Application Fee:</strong>\\xa0','')\n",
    "        if 'Criminal' in p:\n",
    "            criminal = p.replace('<strong>Criminal Background Check\\xa0Fee:</strong>\\xa0','')\n",
    "        if 'Initial' in p:\n",
    "            initial = p.replace('<strong>Initial License\\xa0Fee:</strong>\\xa0','')\n",
    "        if 'FCVS' in p:\n",
    "            fcvs = p.replace('<strong>','').replace('</strong>','')\n",
    "        if 'Average time' in p:\n",
    "            average = p.replace('<strong>Average time for obtaining license:\\xa0</strong>','').replace('</p>','')\n",
    "        if 'Email' in p:\n",
    "            email = p\n",
    "    new_dict = {\n",
    "        'Name': name,\n",
    "        'Address_1': address_1,\n",
    "        'Address_2': address_2,\n",
    "        'Phone': phone,\n",
    "        'Fax': fax,\n",
    "        'Application Fee': application,\n",
    "        'Temporary License': temp,\n",
    "        'FCVS': fcvs,\n",
    "        'Average Time': average,\n",
    "        'Email': email,\n",
    "        'Criminal Background Check': criminal,\n",
    "        'Initial License Fee': initial,\n",
    "    }\n",
    "    dict_list.append(new_dict)"
   ]
  },
  {
   "cell_type": "code",
   "execution_count": 61,
   "metadata": {},
   "outputs": [],
   "source": [
    "pd.DataFrame(dict_list).to_csv('Physician_Licensure.csv')"
   ]
  },
  {
   "cell_type": "code",
   "execution_count": 42,
   "metadata": {},
   "outputs": [],
   "source": [
    "xx = str(paragraphs[4]).split('Phone')[0].split('<br/> ')\n",
    "xx.remove('')\n",
    "xx[-]"
   ]
  },
  {
   "cell_type": "code",
   "execution_count": 43,
   "metadata": {},
   "outputs": [],
   "source": []
  },
  {
   "cell_type": "code",
   "execution_count": 48,
   "metadata": {},
   "outputs": [],
   "source": [
    "address_2 = xx[-1]"
   ]
  },
  {
   "cell_type": "code",
   "execution_count": 46,
   "metadata": {},
   "outputs": [
    {
     "data": {
      "text/plain": [
       "'P.O. Box 110806'"
      ]
     },
     "execution_count": 46,
     "metadata": {},
     "output_type": "execute_result"
    }
   ],
   "source": [
    "address_1 = xx[-2]"
   ]
  },
  {
   "cell_type": "code",
   "execution_count": 49,
   "metadata": {},
   "outputs": [],
   "source": [
    "xx.remove(address_2)"
   ]
  },
  {
   "cell_type": "code",
   "execution_count": 50,
   "metadata": {},
   "outputs": [
    {
     "data": {
      "text/plain": [
       "['<p>Alaska State Medical Board', 'Licensing Examiners', 'P.O. Box 110806']"
      ]
     },
     "execution_count": 50,
     "metadata": {},
     "output_type": "execute_result"
    }
   ],
   "source": [
    "xx"
   ]
  },
  {
   "cell_type": "code",
   "execution_count": 63,
   "metadata": {},
   "outputs": [
    {
     "data": {
      "text/plain": [
       "'Arkansas State Medical Board Licensure Department 1401 W. Capitol Ave. #340 Little Rock, AR 72201 Phone: (501) 296-1802 Fax: (501) 296-1972 License Fee:\\xa0$500 ($400 application fee plus $100 Centralized Credentials Verification Service [CCVS] Assessment) Request for Temporary Permit:\\xa0$50 plus application fee FCVS\\xa0not accepted Average time for obtaining license:\\xa0Depends on individual’s application file. Usually a minimum of 6 weeks for a resident and 3 to 4 months if the physician has been in practice for many years or if the applicant is an international medical graduate.'"
      ]
     },
     "execution_count": 63,
     "metadata": {},
     "output_type": "execute_result"
    }
   ],
   "source": [
    "paragraphs[6].text"
   ]
  },
  {
   "cell_type": "code",
   "execution_count": null,
   "metadata": {},
   "outputs": [],
   "source": []
  }
 ],
 "metadata": {
  "kernelspec": {
   "display_name": "Python 3",
   "language": "python",
   "name": "python3"
  },
  "language_info": {
   "codemirror_mode": {
    "name": "ipython",
    "version": 3
   },
   "file_extension": ".py",
   "mimetype": "text/x-python",
   "name": "python",
   "nbconvert_exporter": "python",
   "pygments_lexer": "ipython3",
   "version": "3.7.4"
  }
 },
 "nbformat": 4,
 "nbformat_minor": 2
}
