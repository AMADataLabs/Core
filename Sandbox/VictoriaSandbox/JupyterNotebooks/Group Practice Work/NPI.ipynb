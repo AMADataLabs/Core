{
 "cells": [
  {
   "cell_type": "code",
   "execution_count": null,
   "metadata": {},
   "outputs": [],
   "source": [
    "import pandas as pd"
   ]
  },
  {
   "cell_type": "code",
   "execution_count": null,
   "metadata": {},
   "outputs": [],
   "source": [
    "NPI = pd.read_csv('NPI_DATA.csv', engine='python',encoding='utf-8', error_bad_lines=False)"
   ]
  },
  {
   "cell_type": "code",
   "execution_count": null,
   "metadata": {},
   "outputs": [],
   "source": [
    "taxes = pd.read_csv('tax.csv')"
   ]
  },
  {
   "cell_type": "code",
   "execution_count": null,
   "metadata": {},
   "outputs": [],
   "source": [
    "len(NPI)"
   ]
  },
  {
   "cell_type": "code",
   "execution_count": null,
   "metadata": {},
   "outputs": [],
   "source": [
    "NPI[NPI['Entity_Type_Cd']==2]"
   ]
  },
  {
   "cell_type": "code",
   "execution_count": null,
   "metadata": {},
   "outputs": [],
   "source": [
    "for col in NPI.columns:\n",
    "    print(col)"
   ]
  },
  {
   "cell_type": "code",
   "execution_count": null,
   "metadata": {},
   "outputs": [],
   "source": [
    "cds = NPI[['NPI','Prov_Org_Nm__Legal_Bus_Nm_',\n",
    "    'HC_Prov_Taxonomy_Cd_1',\n",
    "    'HC_Prov_Taxonomy_Cd_2',\n",
    "'HC_Prov_Taxonomy_Cd_3',\n",
    "'HC_Prov_Taxonomy_Cd_4',\n",
    "'HC_Prov_Taxonomy_Cd_5',\n",
    "'HC_Prov_Taxonomy_Cd_6',\n",
    "'HC_Prov_Taxonomy_Cd_7',\n",
    "'HC_Prov_Taxonomy_Cd_8',\n",
    "'HC_Prov_Taxonomy_Cd_9',\n",
    "'HC_Prov_Taxonomy_Cd_10',\n",
    "'HC_Prov_Taxonomy_Cd_11',\n",
    "'HC_Prov_Taxonomy_Cd_12',\n",
    "'HC_Prov_Taxonomy_Cd_13',\n",
    "'HC_Prov_Taxonomy_Cd_14',\n",
    "'HC_Prov_Taxonomy_Cd_15']]"
   ]
  },
  {
   "cell_type": "code",
   "execution_count": null,
   "metadata": {},
   "outputs": [],
   "source": [
    "cds = cds.fillna('None')"
   ]
  },
  {
   "cell_type": "code",
   "execution_count": null,
   "metadata": {},
   "outputs": [],
   "source": [
    "dit_list = []\n",
    "for row in cds.itertuples():\n",
    "    group_list = [row.HC_Prov_Taxonomy_Cd_1,row.HC_Prov_Taxonomy_Cd_2,row.HC_Prov_Taxonomy_Cd_3,row.HC_Prov_Taxonomy_Cd_4,row.HC_Prov_Taxonomy_Cd_5,row.HC_Prov_Taxonomy_Cd_6,row.HC_Prov_Taxonomy_Cd_7, row.HC_Prov_Taxonomy_Cd_8,row.HC_Prov_Taxonomy_Cd_9,row.HC_Prov_Taxonomy_Cd_10,row.HC_Prov_Taxonomy_Cd_11,row.HC_Prov_Taxonomy_Cd_12,row.HC_Prov_Taxonomy_Cd_13,row.HC_Prov_Taxonomy_Cd_14,row.HC_Prov_Taxonomy_Cd_15]\n",
    "    final_code = 'None'\n",
    "    final_code_list = []\n",
    "    for code in group_list:\n",
    "        if code != 'None':\n",
    "            if code != final_code:\n",
    "                final_code = code\n",
    "                final_code_list.append(code)\n",
    "    if final_code != 'None':\n",
    "        dit ={}\n",
    "        dit['NPI']=row.NPI\n",
    "        dit['Prov_Org_Nm__Legal_Bus_Nm_']=row.Prov_Org_Nm__Legal_Bus_Nm_\n",
    "        dit['Taxonomy']=final_code\n",
    "        dit['Other']=final_code_list\n",
    "        dit_list.append(dit)\n",
    "        if len(final_code_list) > 1:\n",
    "            print(final_code_list)"
   ]
  },
  {
   "cell_type": "code",
   "execution_count": null,
   "metadata": {},
   "outputs": [],
   "source": [
    "tax_cds = pd.DataFrame(dit_list)"
   ]
  },
  {
   "cell_type": "code",
   "execution_count": null,
   "metadata": {},
   "outputs": [],
   "source": [
    "tax = tax_cds.fillna(\"None\")"
   ]
  },
  {
   "cell_type": "code",
   "execution_count": null,
   "metadata": {},
   "outputs": [],
   "source": [
    "NPI['HC_Prov_Taxonomy_Cd_1']"
   ]
  },
  {
   "cell_type": "code",
   "execution_count": null,
   "metadata": {},
   "outputs": [],
   "source": [
    "less_data = NPI[['Prov_Org_Nm__Legal_Bus_Nm_',\n",
    "'Prov_Other_Org_Nm',\n",
    "'Prov_1st_Line_Bus_Mail_Addr',\n",
    "'Prov_2nd_Line_Bus_Mail_Addr',\n",
    "'Prov_Bus_Mail_Addr_City_Nm',\n",
    "'Prov_Bus_Mail_Addr_City_Nm',\n",
    "'Prov_Bus_Mail_Addr_State_Nm',\n",
    "'Prov_Bus_Mail_Addr_Postal_Cd',\n",
    "'Prov_Bus_Mail_Addr_Ctry_Cd',\n",
    "'Prov_Bus_Mail_Addr_Phone_Nbr',\n",
    "'Prov_Bus_Mail_Addr_Fax_Nbr',\n",
    "'Prov_1st_Line_Bus_Prac_Loc_Addr',\n",
    "'Prov_2nd_Line_Bus_Prac_Loc_Addr',\n",
    "'Last_Update_Date',\n",
    "'Authorized_Official_Last_Nm',\n",
    "'Authorized_Official_1st_Nm',\n",
    "'Authorized_Official_Middle_Nm',\n",
    "'Authorized_Official_Title_or_Pos',\n",
    "'Authorized_Official_Phone_Nbr']]"
   ]
  },
  {
   "cell_type": "code",
   "execution_count": null,
   "metadata": {},
   "outputs": [],
   "source": [
    "OWNERS_DF = less_data[less_data['Owner']==True]"
   ]
  },
  {
   "cell_type": "code",
   "execution_count": null,
   "metadata": {},
   "outputs": [],
   "source": [
    "len(less_data)"
   ]
  },
  {
   "cell_type": "code",
   "execution_count": null,
   "metadata": {},
   "outputs": [],
   "source": [
    "28057/127378"
   ]
  },
  {
   "cell_type": "code",
   "execution_count": null,
   "metadata": {},
   "outputs": [],
   "source": [
    "less_data"
   ]
  },
  {
   "cell_type": "code",
   "execution_count": null,
   "metadata": {},
   "outputs": [],
   "source": [
    "owners = []\n",
    "for row in less_data.itertuples():\n",
    "    owner = False\n",
    "    if 'OWNER' in row.Authorized_Official_Title_or_Pos:\n",
    "        owner = True\n",
    "    owners.append(owner)"
   ]
  },
  {
   "cell_type": "code",
   "execution_count": null,
   "metadata": {},
   "outputs": [],
   "source": [
    "less_data['Owner']=owners"
   ]
  },
  {
   "cell_type": "code",
   "execution_count": null,
   "metadata": {},
   "outputs": [],
   "source": []
  },
  {
   "cell_type": "code",
   "execution_count": null,
   "metadata": {},
   "outputs": [],
   "source": [
    "less_data.to_csv('npi_groups.csv',index=False)"
   ]
  },
  {
   "cell_type": "code",
   "execution_count": null,
   "metadata": {},
   "outputs": [],
   "source": [
    "less_data.sort_values('Last_Update_Date',ascending=False)"
   ]
  },
  {
   "cell_type": "code",
   "execution_count": null,
   "metadata": {},
   "outputs": [],
   "source": [
    "hospitals = []\n",
    "for row in less_data.itertuples():\n",
    "#     owner = False\n",
    "    if 'HOSPITAL' in row.Prov_Org_Nm__Legal_Bus_Nm_:\n",
    "#         owner = True\n",
    "#     owners.append(owner)\n",
    "        print(row.Prov_Org_Nm__Legal_Bus_Nm_)"
   ]
  },
  {
   "cell_type": "code",
   "execution_count": null,
   "metadata": {},
   "outputs": [],
   "source": [
    "OWNERS_DF.to_csv('owners.csv',index=False)"
   ]
  },
  {
   "cell_type": "code",
   "execution_count": null,
   "metadata": {},
   "outputs": [],
   "source": [
    "ppd = pd.read_csv('ppd.csv')"
   ]
  },
  {
   "cell_type": "code",
   "execution_count": null,
   "metadata": {},
   "outputs": [],
   "source": [
    "len(tax_cds)"
   ]
  },
  {
   "cell_type": "code",
   "execution_count": null,
   "metadata": {},
   "outputs": [],
   "source": [
    "unique_tax_cds = tax_cds.drop_duplicates('Prov_Org_Nm__Legal_Bus_Nm_')"
   ]
  },
  {
   "cell_type": "code",
   "execution_count": null,
   "metadata": {},
   "outputs": [],
   "source": [
    "tax_code_list =[]\n",
    "desc_list =[]\n",
    "for row in taxes.itertuples():\n",
    "#     print(row.PROVIDER_TAXONOMY_DESCRIPTION)\n",
    "    if 'hospital' in row.PROVIDER_TAXONOMY_DESCRIPTION.lower():\n",
    "        if row.PROVIDER_TAXONOMY_CODE not in tax_code_list:\n",
    "            tax_code_list.append(row.PROVIDER_TAXONOMY_CODE)\n",
    "        if row.PROVIDER_TAXONOMY_DESCRIPTION not in desc_list:\n",
    "            desc_list.append(row.PROVIDER_TAXONOMY_DESCRIPTION)"
   ]
  },
  {
   "cell_type": "code",
   "execution_count": null,
   "metadata": {},
   "outputs": [],
   "source": [
    "tax_code_list.remove('208M00000X')"
   ]
  },
  {
   "cell_type": "code",
   "execution_count": null,
   "metadata": {},
   "outputs": [],
   "source": [
    "is_hospital_list = []\n",
    "for row in tax_cds.itertuples():\n",
    "    is_hospital = False\n",
    "    for code in row.Other:\n",
    "        if code in tax_code_list:\n",
    "            is_hospital = True\n",
    "    is_hospital_list.append(is_hospital)"
   ]
  },
  {
   "cell_type": "code",
   "execution_count": null,
   "metadata": {},
   "outputs": [],
   "source": [
    "tax_cds['Hospital']=is_hospital_list"
   ]
  },
  {
   "cell_type": "code",
   "execution_count": null,
   "metadata": {},
   "outputs": [],
   "source": [
    "hospital_tax = tax_cds[tax_cds['Hospital']==True].drop_duplicates('Prov_Org_Nm__Legal_Bus_Nm_')"
   ]
  },
  {
   "cell_type": "code",
   "execution_count": null,
   "metadata": {},
   "outputs": [],
   "source": [
    "# hospitals = pd.read_csv('hospitals.csv')\n",
    "hospitals.dtypes"
   ]
  },
  {
   "cell_type": "code",
   "execution_count": null,
   "metadata": {},
   "outputs": [],
   "source": [
    "pd.merge(hospitals, hospital_tax, left_on = 'NAME', right_on = 'Prov_Org_Nm__Legal_Bus_Nm_')"
   ]
  },
  {
   "cell_type": "code",
   "execution_count": null,
   "metadata": {},
   "outputs": [],
   "source": [
    "pd.merge(hospitals, unique_tax_cds, left_on = 'NAME', right_on = 'Prov_Org_Nm__Legal_Bus_Nm_')"
   ]
  },
  {
   "cell_type": "code",
   "execution_count": null,
   "metadata": {},
   "outputs": [],
   "source": [
    "len(hospitals)"
   ]
  },
  {
   "cell_type": "code",
   "execution_count": null,
   "metadata": {},
   "outputs": [],
   "source": [
    "for col in hospitals.columns:\n",
    "    print(col)"
   ]
  },
  {
   "cell_type": "code",
   "execution_count": null,
   "metadata": {},
   "outputs": [],
   "source": [
    "hospitals[hospitals['STATUS']=='CLOSED']"
   ]
  },
  {
   "cell_type": "code",
   "execution_count": null,
   "metadata": {},
   "outputs": [],
   "source": [
    "NPI['Prov_Other_Org_Nm']"
   ]
  },
  {
   "cell_type": "code",
   "execution_count": null,
   "metadata": {},
   "outputs": [],
   "source": [
    "pd.merge(hospitals, NPI, left_on = 'NAME', right_on = 'Prov_Other_Org_Nm')"
   ]
  },
  {
   "cell_type": "code",
   "execution_count": null,
   "metadata": {},
   "outputs": [],
   "source": [
    "print(len(NPI))\n",
    "print(len(NPI.drop_duplicates('NPI')))\n",
    "print(len(NPI.drop_duplicates('Prov_Org_Nm__Legal_Bus_Nm_')))"
   ]
  },
  {
   "cell_type": "code",
   "execution_count": null,
   "metadata": {},
   "outputs": [],
   "source": [
    "addresses = NPI[['NPI', 'Prov_Org_Nm__Legal_Bus_Nm_','Prov_1st_Line_Bus_Mail_Addr',\n",
    "'Prov_2nd_Line_Bus_Mail_Addr',\n",
    "'Prov_Bus_Mail_Addr_City_Nm',\n",
    "'Prov_Bus_Mail_Addr_State_Nm',\n",
    "'Prov_Bus_Mail_Addr_Postal_Cd',\n",
    "'Prov_Bus_Mail_Addr_Ctry_Cd',\n",
    "'Prov_Bus_Mail_Addr_Phone_Nbr',\n",
    "'Prov_1st_Line_Bus_Prac_Loc_Addr',\n",
    "'Prov_2nd_Line_Bus_Prac_Loc_Addr',\n",
    "'Prov_Bus_Prac_Loc_Addr_City_Nm',\n",
    "'Prov_Bus_Prac_Loc_Addr_State_Nm',\n",
    "'Prov_Bus_Prac_Loc_Addr_Postal_Cd',\n",
    "'Prov_Bus_Prac_Loc_Addr_Ctry_Cd',\n",
    "'Prov_Bus_Prac_Loc_Addr_Phone_Nbr']]"
   ]
  },
  {
   "cell_type": "code",
   "execution_count": null,
   "metadata": {},
   "outputs": [],
   "source": [
    "add_count = len(addresses)\n",
    "same_count = 0\n",
    "diff_count = 0\n",
    "for row in addresses.itertuples():\n",
    "    if row.Prov_2nd_Line_Bus_Mail_Addr == row.Prov_2nd_Line_Bus_Prac_Loc_Addr:\n",
    "        same_count += 1\n",
    "    else:\n",
    "        diff_count +=1\n",
    "print(f'{same_count/add_count *100} addresses are the same')"
   ]
  },
  {
   "cell_type": "code",
   "execution_count": null,
   "metadata": {},
   "outputs": [],
   "source": [
    "unique_adds = addresses.drop_duplicates(['Prov_Org_Nm__Legal_Bus_Nm_', 'Prov_1st_Line_Bus_Mail_Addr'])"
   ]
  },
  {
   "cell_type": "code",
   "execution_count": null,
   "metadata": {},
   "outputs": [],
   "source": [
    "hospital_merge = pd.merge(hospitals, unique_adds, left_on=('ADDRESS','ADDRESS'), right_on=('Prov_1st_Line_Bus_Mail_Addr', 'Prov_1st_Line_Bus_Prac_Loc_Addr'))"
   ]
  },
  {
   "cell_type": "code",
   "execution_count": null,
   "metadata": {},
   "outputs": [],
   "source": [
    "add_count"
   ]
  },
  {
   "cell_type": "code",
   "execution_count": null,
   "metadata": {},
   "outputs": [],
   "source": []
  },
  {
   "cell_type": "code",
   "execution_count": null,
   "metadata": {},
   "outputs": [],
   "source": [
    "pd.merge(hospital_merge, unique_tax_cds, on ='NPI')"
   ]
  },
  {
   "cell_type": "code",
   "execution_count": null,
   "metadata": {},
   "outputs": [],
   "source": [
    "len(NPI)"
   ]
  },
  {
   "cell_type": "code",
   "execution_count": null,
   "metadata": {},
   "outputs": [],
   "source": [
    "len(NPI['Prov_Org_Nm__Legal_Bus_Nm_'].unique())"
   ]
  },
  {
   "cell_type": "code",
   "execution_count": null,
   "metadata": {},
   "outputs": [],
   "source": [
    "len(NPI['Prov_1st_Line_Bus_Mail_Addr'].unique())"
   ]
  },
  {
   "cell_type": "code",
   "execution_count": null,
   "metadata": {},
   "outputs": [],
   "source": [
    "len(NPI['Prov_Bus_Mail_Addr_Phone_Nbr'].unique())"
   ]
  },
  {
   "cell_type": "code",
   "execution_count": null,
   "metadata": {},
   "outputs": [],
   "source": [
    "all_codes =[]\n",
    "for row in tax_cds.itertuples():\n",
    "    for code in row.Other:\n",
    "        if code not in all_codes:\n",
    "            all_codes.append(code)\n",
    "print(all_codes)"
   ]
  },
  {
   "cell_type": "code",
   "execution_count": null,
   "metadata": {},
   "outputs": [],
   "source": [
    "len(all_codes)"
   ]
  },
  {
   "cell_type": "code",
   "execution_count": null,
   "metadata": {},
   "outputs": [],
   "source": [
    "len(taxes)"
   ]
  },
  {
   "cell_type": "code",
   "execution_count": null,
   "metadata": {},
   "outputs": [],
   "source": [
    "# taxes_ = taxes.drop_duplicates('PROVIDER_TAXONOMY_CODE')\n",
    "list(taxes_['PROVIDER_TAXONOMY_CODE'])"
   ]
  },
  {
   "cell_type": "code",
   "execution_count": null,
   "metadata": {},
   "outputs": [],
   "source": [
    "overlap_list =[]\n",
    "for row in tax_cds.itertuples():\n",
    "    overlap = False\n",
    "    for code in row.Other:\n",
    "        if code in list(taxes_['PROVIDER_TAXONOMY_CODE']):\n",
    "            overlap=True\n",
    "    overlap_list.append(overlap)\n",
    "tax_cds['Overlap']=overlap_list"
   ]
  },
  {
   "cell_type": "code",
   "execution_count": null,
   "metadata": {},
   "outputs": [],
   "source": [
    "tax_cds_ = tax_cds[tax_cds['Overlap']==True]"
   ]
  },
  {
   "cell_type": "code",
   "execution_count": null,
   "metadata": {},
   "outputs": [],
   "source": [
    "len(tax_cds_['Prov_1st_Line_Bus_Mail_Addr'].unique())"
   ]
  },
  {
   "cell_type": "code",
   "execution_count": null,
   "metadata": {},
   "outputs": [],
   "source": [
    "tax_cds_"
   ]
  },
  {
   "cell_type": "code",
   "execution_count": null,
   "metadata": {},
   "outputs": [],
   "source": [
    "addresses_ppd = pd.read_csv('all_group_addresses.csv')"
   ]
  },
  {
   "cell_type": "code",
   "execution_count": null,
   "metadata": {},
   "outputs": [],
   "source": [
    "addresses"
   ]
  },
  {
   "cell_type": "code",
   "execution_count": null,
   "metadata": {},
   "outputs": [],
   "source": [
    "mail_address = pd.merge(addresses_ppd, addresses, left_on='POLO_MAILING_LINE_2', right_on='Prov_1st_Line_Bus_Mail_Addr')"
   ]
  },
  {
   "cell_type": "code",
   "execution_count": null,
   "metadata": {},
   "outputs": [],
   "source": [
    "loc_address = pd.merge(addresses_ppd, addresses, left_on='POLO_MAILING_LINE_2', right_on='Prov_1st_Line_Bus_Prac_Loc_Addr')"
   ]
  },
  {
   "cell_type": "code",
   "execution_count": null,
   "metadata": {},
   "outputs": [],
   "source": [
    "ppd_address_list = []\n",
    "ppd_address_dict = {}\n",
    "for row in loc_address.itertuples():\n",
    "    if row.POLO_MAILING_LINE_2 not in ppd_address_list:\n",
    "        ppd_address_list.append(row.POLO_MAILING_LINE_2)\n",
    "        ppd_address_dict[row.POLO_MAILING_LINE_2]=[row.Prov_Org_Nm__Legal_Bus_Nm_]\n",
    "    elif row.Prov_Org_Nm__Legal_Bus_Nm_ not in ppd_address_dict[row.POLO_MAILING_LINE_2]:\n",
    "        ppd_address_dict[row.POLO_MAILING_LINE_2].append(row.Prov_Org_Nm__Legal_Bus_Nm_)"
   ]
  },
  {
   "cell_type": "code",
   "execution_count": null,
   "metadata": {},
   "outputs": [],
   "source": [
    "ppd_address_dict"
   ]
  },
  {
   "cell_type": "code",
   "execution_count": null,
   "metadata": {},
   "outputs": [],
   "source": [
    "for row in mail_address.itertuples():\n",
    "    if row.POLO_MAILING_LINE_2 not in ppd_address_list:\n",
    "        ppd_address_list.append(row.POLO_MAILING_LINE_2)\n",
    "        ppd_address_dict[row.POLO_MAILING_LINE_2]=[row.Prov_Org_Nm__Legal_Bus_Nm_]\n",
    "    elif row.Prov_Org_Nm__Legal_Bus_Nm_ not in ppd_address_dict[row.POLO_MAILING_LINE_2]:\n",
    "        ppd_address_dict[row.POLO_MAILING_LINE_2].append(row.Prov_Org_Nm__Legal_Bus_Nm_)"
   ]
  },
  {
   "cell_type": "code",
   "execution_count": null,
   "metadata": {},
   "outputs": [],
   "source": [
    "len(ppd_address_dict)"
   ]
  },
  {
   "cell_type": "code",
   "execution_count": null,
   "metadata": {},
   "outputs": [],
   "source": [
    "pd.DataFrame([ppd_address_dict]).transpose()"
   ]
  },
  {
   "cell_type": "code",
   "execution_count": null,
   "metadata": {},
   "outputs": [],
   "source": [
    "final_code_list"
   ]
  },
  {
   "cell_type": "code",
   "execution_count": null,
   "metadata": {},
   "outputs": [],
   "source": [
    "tax_cds"
   ]
  },
  {
   "cell_type": "code",
   "execution_count": null,
   "metadata": {},
   "outputs": [],
   "source": [
    "tax_cds.to_csv('NPI_TAXONOMY_SCRUNCH.csv')"
   ]
  },
  {
   "cell_type": "code",
   "execution_count": null,
   "metadata": {},
   "outputs": [],
   "source": [
    "taxes"
   ]
  },
  {
   "cell_type": "code",
   "execution_count": null,
   "metadata": {},
   "outputs": [],
   "source": [
    "tax_cds_df = tax_cds[['NPI','Other','Prov_Org_Nm__Legal_Bus_Nm_']]"
   ]
  },
  {
   "cell_type": "code",
   "execution_count": null,
   "metadata": {},
   "outputs": [],
   "source": [
    "hospital_code_list = tax_code_list"
   ]
  },
  {
   "cell_type": "code",
   "execution_count": null,
   "metadata": {},
   "outputs": [],
   "source": [
    "hospital_or_not =[]\n",
    "for row in tax_cds_df.itertuples():\n",
    "    hospital = False\n",
    "    for tax_code in row.Other:\n",
    "        if tax_code in hospital_code_list:\n",
    "            hospital=True\n",
    "    hospital_or_not.append(hospital)"
   ]
  },
  {
   "cell_type": "code",
   "execution_count": null,
   "metadata": {},
   "outputs": [],
   "source": [
    "tax_cds_df['Hospital']=hospital_or_not"
   ]
  },
  {
   "cell_type": "code",
   "execution_count": null,
   "metadata": {},
   "outputs": [],
   "source": [
    "all_hospitals = tax_cds_df[tax_cds_df['Hospital']==True]"
   ]
  },
  {
   "cell_type": "code",
   "execution_count": null,
   "metadata": {},
   "outputs": [],
   "source": [
    "len(all_hospitals['Prov_Org_Nm__Legal_Bus_Nm_'].unique())"
   ]
  },
  {
   "cell_type": "code",
   "execution_count": null,
   "metadata": {},
   "outputs": [],
   "source": [
    "hospital_addresses = pd.merge(all_hospitals, addresses,on='NPI')"
   ]
  },
  {
   "cell_type": "code",
   "execution_count": null,
   "metadata": {},
   "outputs": [],
   "source": [
    "len(all_hospitals)"
   ]
  },
  {
   "cell_type": "code",
   "execution_count": null,
   "metadata": {},
   "outputs": [],
   "source": [
    "len(hospital_addresses['Prov_1st_Line_Bus_Mail_Addr'].unique())"
   ]
  },
  {
   "cell_type": "code",
   "execution_count": null,
   "metadata": {},
   "outputs": [],
   "source": [
    "addresses"
   ]
  },
  {
   "cell_type": "code",
   "execution_count": null,
   "metadata": {},
   "outputs": [],
   "source": [
    "len(hospital_addresses[hospital_addresses['Prov_Bus_Prac_Loc_Addr_Ctry_Cd']=='US'])"
   ]
  },
  {
   "cell_type": "code",
   "execution_count": null,
   "metadata": {},
   "outputs": [],
   "source": [
    "hospital_by_address = {}\n",
    "hospital_by_name = {}\n",
    "hospital_address_list = []\n",
    "hospital_name_list = []\n",
    "for row in hospital_addresses.itertuples():\n",
    "    if row.Prov_1st_Line_Bus_Mail_Addr not in hospital_address_list:\n",
    "        hospital_address_list.append(row.Prov_1st_Line_Bus_Mail_Addr)\n",
    "        hospital_by_address[row.Prov_1st_Line_Bus_Mail_Addr]={}\n",
    "        hospital_by_address[row.Prov_1st_Line_Bus_Mail_Addr]['Names']=[row.Prov_Org_Nm__Legal_Bus_Nm__x]\n",
    "        hospital_by_address[row.Prov_1st_Line_Bus_Mail_Addr]['Zipcode']=[row.Prov_Bus_Mail_Addr_Postal_Cd]\n",
    "    if row.Prov_Org_Nm__Legal_Bus_Nm__x not in hospital_name_list:\n",
    "        hospital_name_list.append(row.Prov_Org_Nm__Legal_Bus_Nm__x)\n",
    "        hospital_by_name[row.Prov_Org_Nm__Legal_Bus_Nm__x]=[row.Prov_1st_Line_Bus_Mail_Addr]\n",
    "    if row.Prov_1st_Line_Bus_Mail_Addr in hospital_address_list:\n",
    "        if hospital_by_address[row.Prov_1st_Line_Bus_Mail_Addr]['Zipcode']==[row.Prov_Bus_Mail_Addr_Postal_Cd]:\n",
    "            if row.Prov_Org_Nm__Legal_Bus_Nm__x not in hospital_by_address[row.Prov_1st_Line_Bus_Mail_Addr]['Names']:\n",
    "                hospital_by_address[row.Prov_1st_Line_Bus_Mail_Addr]['Names'].append(row.Prov_Org_Nm__Legal_Bus_Nm__x)\n",
    "    if row.Prov_Org_Nm__Legal_Bus_Nm__x in hospital_name_list:\n",
    "        if row.Prov_1st_Line_Bus_Mail_Addr not in hospital_by_name[row.Prov_Org_Nm__Legal_Bus_Nm__x]:\n",
    "            hospital_by_name[row.Prov_Org_Nm__Legal_Bus_Nm__x].append(row.Prov_1st_Line_Bus_Mail_Addr)"
   ]
  },
  {
   "cell_type": "code",
   "execution_count": null,
   "metadata": {},
   "outputs": [],
   "source": [
    "hospital_addresses"
   ]
  },
  {
   "cell_type": "code",
   "execution_count": null,
   "metadata": {},
   "outputs": [],
   "source": [
    "hospital_addresses"
   ]
  },
  {
   "cell_type": "code",
   "execution_count": null,
   "metadata": {},
   "outputs": [],
   "source": [
    "pd.DataFrame([hospital_by_name]).transpose()"
   ]
  },
  {
   "cell_type": "code",
   "execution_count": null,
   "metadata": {},
   "outputs": [],
   "source": [
    "hospital_by_address_df = pd.DataFrame(hospital_by_address).transpose()"
   ]
  },
  {
   "cell_type": "code",
   "execution_count": null,
   "metadata": {},
   "outputs": [],
   "source": [
    "names_with_one_add =[] \n",
    "for key in hospital_by_name:\n",
    "    if len(hospital_by_name[key])>1:\n",
    "        names_with_one_add.append(key)"
   ]
  },
  {
   "cell_type": "code",
   "execution_count": null,
   "metadata": {},
   "outputs": [],
   "source": [
    "adds_with_one_name =[] \n",
    "for key in hospital_by_address:\n",
    "    if len(hospital_by_address[key]['Names'])>1:\n",
    "        adds_with_mult_names.append(key)"
   ]
  },
  {
   "cell_type": "code",
   "execution_count": null,
   "metadata": {},
   "outputs": [],
   "source": [
    "len(adds_with_mult_names)"
   ]
  },
  {
   "cell_type": "code",
   "execution_count": null,
   "metadata": {},
   "outputs": [],
   "source": [
    "len(names_with_mult_add)"
   ]
  },
  {
   "cell_type": "code",
   "execution_count": null,
   "metadata": {},
   "outputs": [],
   "source": [
    "names_with_mult_add"
   ]
  },
  {
   "cell_type": "code",
   "execution_count": null,
   "metadata": {},
   "outputs": [],
   "source": [
    "mult_bool_list =[]\n",
    "for row in hospital_by_address_df.itertuples():\n",
    "    mult_add = False\n",
    "    for name in row.Names:\n",
    "        if name in names_with_mult_add:\n",
    "            mult_add = True\n",
    "    mult_bool_list.append(mult_add)"
   ]
  },
  {
   "cell_type": "code",
   "execution_count": null,
   "metadata": {},
   "outputs": [],
   "source": [
    "hospital_by_address_df['Multiple_Addresses'] = mult_bool_list"
   ]
  },
  {
   "cell_type": "code",
   "execution_count": null,
   "metadata": {},
   "outputs": [],
   "source": [
    "ohboy = hospital_by_address_df[hospital_by_address_df['Multiple_Addresses']==True]"
   ]
  },
  {
   "cell_type": "code",
   "execution_count": null,
   "metadata": {},
   "outputs": [],
   "source": [
    "many_names_bool = []\n",
    "for row in ohboy.itertuples():\n",
    "    many_names = False\n",
    "    if len(row.Names)>1:\n",
    "        many_names=True\n",
    "    many_names_bool.append(many_names)"
   ]
  },
  {
   "cell_type": "code",
   "execution_count": null,
   "metadata": {},
   "outputs": [],
   "source": [
    "ohboy['Multiple_Names']=many_names_bool"
   ]
  },
  {
   "cell_type": "code",
   "execution_count": null,
   "metadata": {},
   "outputs": [],
   "source": [
    "ohboy[ohboy['Multiple_Names']==True].to_csv('ohboy.csv')"
   ]
  },
  {
   "cell_type": "code",
   "execution_count": null,
   "metadata": {},
   "outputs": [],
   "source": [
    "hospital_by_address_df"
   ]
  },
  {
   "cell_type": "code",
   "execution_count": null,
   "metadata": {},
   "outputs": [],
   "source": [
    "other_addresses_list =[]\n",
    "for row in ohboy.itertuples():\n",
    "    other_addresses =[]\n",
    "    for name in row.Names:\n",
    "        if name in hospital_by_name.keys():\n",
    "            other_addresses+=hospital_by_name[name]\n",
    "    other_addresses = remove_duplicates_in_list(other_addresses)\n",
    "    other_addresses_list.append(other_addresses)"
   ]
  },
  {
   "cell_type": "code",
   "execution_count": null,
   "metadata": {},
   "outputs": [],
   "source": [
    "ohboy['Addresses'] = other_addresses_list"
   ]
  },
  {
   "cell_type": "code",
   "execution_count": null,
   "metadata": {},
   "outputs": [],
   "source": [
    "listi = [1,2,3]\n",
    "listii= [4,5,6]\n",
    "listi+=listii"
   ]
  },
  {
   "cell_type": "code",
   "execution_count": null,
   "metadata": {},
   "outputs": [],
   "source": [
    "listi"
   ]
  },
  {
   "cell_type": "code",
   "execution_count": null,
   "metadata": {},
   "outputs": [],
   "source": [
    "ohboy[ohboy['Multiple_Names']==True].to_csv('wut.csv')"
   ]
  },
  {
   "cell_type": "code",
   "execution_count": null,
   "metadata": {},
   "outputs": [],
   "source": [
    "ohboy"
   ]
  },
  {
   "cell_type": "code",
   "execution_count": null,
   "metadata": {},
   "outputs": [],
   "source": [
    "def remove_duplicates_in_list(x):\n",
    "    return list(dict.fromkeys(x))"
   ]
  },
  {
   "cell_type": "code",
   "execution_count": null,
   "metadata": {},
   "outputs": [],
   "source": [
    "hospital_addresses = hospital_addresses.drop(columns = 'Other_')"
   ]
  },
  {
   "cell_type": "code",
   "execution_count": null,
   "metadata": {},
   "outputs": [],
   "source": [
    "hospital_addresses.groupby('Other_').count()"
   ]
  },
  {
   "cell_type": "code",
   "execution_count": null,
   "metadata": {},
   "outputs": [],
   "source": [
    "hospital_addresses['Other_']=hospital_addresses['Other'].to_string()"
   ]
  },
  {
   "cell_type": "code",
   "execution_count": null,
   "metadata": {},
   "outputs": [],
   "source": [
    "list_1 = ['hi','ho','hi','ho']\n",
    "str(list_1)"
   ]
  },
  {
   "cell_type": "code",
   "execution_count": null,
   "metadata": {},
   "outputs": [],
   "source": [
    "taxonomy_dict = {}\n",
    "for row in hospital_addresses.itertuples():\n",
    "    if str(row.Other) in taxonomy_dict.keys():\n",
    "        taxonomy_dict[str(row.Other)]+=1\n",
    "    else:\n",
    "        taxonomy_dict[str(row.Other)]=1"
   ]
  },
  {
   "cell_type": "code",
   "execution_count": null,
   "metadata": {},
   "outputs": [],
   "source": [
    "pd.DataFrame([taxonomy_dict]).transpose().sort_values(0,ascending=False).head(30)"
   ]
  },
  {
   "cell_type": "code",
   "execution_count": null,
   "metadata": {},
   "outputs": [],
   "source": [
    "list_2=[]\n",
    "for row in hospital_addresses.itertuples():\n",
    "    if row.Other==['282N00000X']:\n",
    "        list_2.append(row.Prov_Org_Nm__Legal_Bus_Nm__x)\n",
    "print(list_2)\n",
    "print(len(list_2))\n",
    "print(len(remove_duplicates_in_list(list_2)))"
   ]
  },
  {
   "cell_type": "code",
   "execution_count": null,
   "metadata": {},
   "outputs": [],
   "source": [
    "hospital_addresses"
   ]
  },
  {
   "cell_type": "code",
   "execution_count": null,
   "metadata": {},
   "outputs": [],
   "source": [
    "for item in remove_duplicates_in_list(list_2):\n",
    "    print(item)"
   ]
  },
  {
   "cell_type": "code",
   "execution_count": null,
   "metadata": {},
   "outputs": [],
   "source": [
    "dict_list = []\n",
    "for row in hospital_addresses.itertuples():\n",
    "    if row.Other==['282N00000X']:\n",
    "        new_dict ={}\n",
    "        name = row.Prov_Org_Nm__Legal_Bus_Nm__x\n",
    "        address = row.Prov_1st_Line_Bus_Mail_Addr\n",
    "        zipcode = row.Prov_Bus_Prac_Loc_Addr_Postal_Cd\n",
    "        city = row.Prov_Bus_Prac_Loc_Addr_City_Nm\n",
    "        state = row.Prov_Bus_Prac_Loc_Addr_State_Nm\n",
    "        new_dict['NPI'] = row.NPI\n",
    "        new_dict['Name']=name\n",
    "        new_dict['Address']=address\n",
    "        new_dict['Zipcode']=zipcode\n",
    "        new_dict['City']=city\n",
    "        new_dict['State']=state\n",
    "        dict_list.append(new_dict)\n",
    "potential = pd.DataFrame(dict_list)"
   ]
  },
  {
   "cell_type": "code",
   "execution_count": null,
   "metadata": {},
   "outputs": [],
   "source": [
    "len(potential['Address'].unique())"
   ]
  },
  {
   "cell_type": "code",
   "execution_count": null,
   "metadata": {},
   "outputs": [],
   "source": [
    "len(dict_list)"
   ]
  },
  {
   "cell_type": "code",
   "execution_count": null,
   "metadata": {},
   "outputs": [],
   "source": [
    "address_test ={}\n",
    "for row in hospital_addresses.itertuples():\n",
    "    if row.Other==['282N00000X']:\n",
    "        new_dict ={}\n",
    "        address = row.Prov_1st_Line_Bus_Mail_Addr\n",
    "        name = row.Prov_Org_Nm__Legal_Bus_Nm__x\n",
    "        if address not in address_test.keys():\n",
    "            address_test[address]=[name]\n",
    "        else:\n",
    "            if name not in address_test[address]:\n",
    "                address_test[address].append(name)\n",
    "len(address_test)"
   ]
  },
  {
   "cell_type": "code",
   "execution_count": null,
   "metadata": {},
   "outputs": [],
   "source": [
    "address_test"
   ]
  },
  {
   "cell_type": "code",
   "execution_count": null,
   "metadata": {},
   "outputs": [],
   "source": [
    "potential.drop_duplicates(['Name','Address']).to_csv('time_for_fun.csv')"
   ]
  },
  {
   "cell_type": "code",
   "execution_count": null,
   "metadata": {},
   "outputs": [],
   "source": [
    "for row in potential.drop_duplicates(['Name','Address']).itertuples():\n",
    "    name = row.Name\n",
    "#     if ' MD' in name:\n",
    "#         print(name)\n",
    "#     if name[0].isnumeric() and name[1].isnumeric():\n",
    "#         print(name)\n",
    "#     if name[-3:]==' PA' and row.State != 'PA':\n",
    "#         print(name)\n",
    "#         print(row.State)\n",
    "#     if 'DDS' in name:\n",
    "#         print(name)\n"
   ]
  },
  {
   "cell_type": "code",
   "execution_count": null,
   "metadata": {},
   "outputs": [],
   "source": [
    "beep = '12for'"
   ]
  },
  {
   "cell_type": "code",
   "execution_count": null,
   "metadata": {},
   "outputs": [],
   "source": [
    "beep[-3:]"
   ]
  },
  {
   "cell_type": "code",
   "execution_count": null,
   "metadata": {},
   "outputs": [],
   "source": [
    "def is_medical(name):\n",
    "    medical=False\n",
    "    medical_words =['HOSPITAL','MEDICAL','HEALTH','ADVOCATE','MEDICINE','MERCY','KAISER','CLINIC','VAMC','CENTER']\n",
    "    for word in medical_words:\n",
    "        if word in name:\n",
    "            medical = True\n",
    "    return(medical)"
   ]
  },
  {
   "cell_type": "code",
   "execution_count": null,
   "metadata": {},
   "outputs": [],
   "source": [
    "COUNT =0\n",
    "for row in potential.drop_duplicates(['Name','Address']).itertuples():\n",
    "    name = row.Name\n",
    "    if is_medical(name)==False:\n",
    "        print(name)\n",
    "        COUNT += 1\n",
    "COUNT"
   ]
  },
  {
   "cell_type": "code",
   "execution_count": null,
   "metadata": {},
   "outputs": [],
   "source": [
    "namess =[]\n",
    "for row in potential.drop_duplicates(['Name','Address']).itertuples():\n",
    "    namess.append(is_medical(row.Name))"
   ]
  },
  {
   "cell_type": "code",
   "execution_count": null,
   "metadata": {},
   "outputs": [],
   "source": [
    "test_case = potential.drop_duplicates(['Name','Address'])"
   ]
  },
  {
   "cell_type": "code",
   "execution_count": null,
   "metadata": {},
   "outputs": [],
   "source": [
    "test_case['Is_Medical']=namess"
   ]
  },
  {
   "cell_type": "code",
   "execution_count": null,
   "metadata": {},
   "outputs": [],
   "source": [
    "test_case.to_csv('test_2.csv')"
   ]
  },
  {
   "cell_type": "code",
   "execution_count": null,
   "metadata": {},
   "outputs": [],
   "source": [
    "test_case = test_case.sort_values('Is_Medical',ascending=False)"
   ]
  },
  {
   "cell_type": "code",
   "execution_count": null,
   "metadata": {},
   "outputs": [],
   "source": [
    "names_ = []\n",
    "names_dict_ = {}\n",
    "for row in test_case.itertuples():\n",
    "    name= row.Name\n",
    "    address = row.Address\n",
    "#     city = row.City\n",
    "#     place= address + ' ' + city\n",
    "    if name not in names_dict_.keys():\n",
    "        if address not in names_dict_.values():\n",
    "            names_dict_[name]=address\n",
    "len(names_dict_)"
   ]
  },
  {
   "cell_type": "code",
   "execution_count": null,
   "metadata": {},
   "outputs": [],
   "source": [
    "dict_test = {'A':1,'B':2,'C':3}"
   ]
  },
  {
   "cell_type": "code",
   "execution_count": null,
   "metadata": {},
   "outputs": [],
   "source": [
    "dict_test.key(1)"
   ]
  },
  {
   "cell_type": "code",
   "execution_count": null,
   "metadata": {},
   "outputs": [],
   "source": [
    "pd.DataFrame([names_dict_]).transpose().to_csv('test_forever.csv')"
   ]
  },
  {
   "cell_type": "code",
   "execution_count": null,
   "metadata": {},
   "outputs": [],
   "source": []
  },
  {
   "cell_type": "code",
   "execution_count": null,
   "metadata": {},
   "outputs": [],
   "source": []
  }
 ],
 "metadata": {
  "kernelspec": {
   "display_name": "Python 3",
   "language": "python",
   "name": "python3"
  },
  "language_info": {
   "codemirror_mode": {
    "name": "ipython",
    "version": 3
   },
   "file_extension": ".py",
   "mimetype": "text/x-python",
   "name": "python",
   "nbconvert_exporter": "python",
   "pygments_lexer": "ipython3",
   "version": "3.7.4"
  }
 },
 "nbformat": 4,
 "nbformat_minor": 2
}
