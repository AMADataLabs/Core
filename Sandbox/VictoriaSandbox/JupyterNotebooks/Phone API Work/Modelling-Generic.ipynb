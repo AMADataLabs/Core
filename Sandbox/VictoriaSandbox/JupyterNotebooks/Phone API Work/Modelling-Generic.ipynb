{
 "cells": [
  {
   "cell_type": "code",
   "execution_count": 1,
   "metadata": {},
   "outputs": [],
   "source": [
    "from numpy.random import seed\n",
    "seed(1)"
   ]
  },
  {
   "cell_type": "code",
   "execution_count": 2,
   "metadata": {},
   "outputs": [],
   "source": [
    "import numpy as np\n",
    "import pandas as pd"
   ]
  },
  {
   "cell_type": "code",
   "execution_count": 3,
   "metadata": {},
   "outputs": [],
   "source": [
    "import tensorflow"
   ]
  },
  {
   "cell_type": "code",
   "execution_count": 21,
   "metadata": {},
   "outputs": [
    {
     "data": {
      "text/html": [
       "<div>\n",
       "<style scoped>\n",
       "    .dataframe tbody tr th:only-of-type {\n",
       "        vertical-align: middle;\n",
       "    }\n",
       "\n",
       "    .dataframe tbody tr th {\n",
       "        vertical-align: top;\n",
       "    }\n",
       "\n",
       "    .dataframe thead th {\n",
       "        text-align: right;\n",
       "    }\n",
       "</style>\n",
       "<table border=\"1\" class=\"dataframe\">\n",
       "  <thead>\n",
       "    <tr style=\"text-align: right;\">\n",
       "      <th></th>\n",
       "      <th>Address Match</th>\n",
       "      <th>Ambulatory Industry</th>\n",
       "      <th>Business Phone</th>\n",
       "      <th>City Match</th>\n",
       "      <th>First Name Match</th>\n",
       "      <th>Fixed VOIP</th>\n",
       "      <th>Hospital Industry</th>\n",
       "      <th>Landline</th>\n",
       "      <th>Last Name Match</th>\n",
       "      <th>Mobile</th>\n",
       "      <th>...</th>\n",
       "      <th>No Industry</th>\n",
       "      <th>No PhoneType</th>\n",
       "      <th>Non Fixed Voip</th>\n",
       "      <th>Nursing Industry</th>\n",
       "      <th>Personal Phone</th>\n",
       "      <th>Relevant Name</th>\n",
       "      <th>State Match</th>\n",
       "      <th>Workplace Match</th>\n",
       "      <th>ZipCode Match</th>\n",
       "      <th>label</th>\n",
       "    </tr>\n",
       "  </thead>\n",
       "  <tbody>\n",
       "    <tr>\n",
       "      <th>0</th>\n",
       "      <td>0</td>\n",
       "      <td>1</td>\n",
       "      <td>1</td>\n",
       "      <td>1</td>\n",
       "      <td>1</td>\n",
       "      <td>0</td>\n",
       "      <td>0</td>\n",
       "      <td>0</td>\n",
       "      <td>1</td>\n",
       "      <td>0</td>\n",
       "      <td>...</td>\n",
       "      <td>0</td>\n",
       "      <td>0</td>\n",
       "      <td>0</td>\n",
       "      <td>0</td>\n",
       "      <td>0</td>\n",
       "      <td>1</td>\n",
       "      <td>1</td>\n",
       "      <td>0</td>\n",
       "      <td>0</td>\n",
       "      <td>connected</td>\n",
       "    </tr>\n",
       "    <tr>\n",
       "      <th>1</th>\n",
       "      <td>1</td>\n",
       "      <td>1</td>\n",
       "      <td>1</td>\n",
       "      <td>1</td>\n",
       "      <td>0</td>\n",
       "      <td>1</td>\n",
       "      <td>0</td>\n",
       "      <td>0</td>\n",
       "      <td>0</td>\n",
       "      <td>0</td>\n",
       "      <td>...</td>\n",
       "      <td>0</td>\n",
       "      <td>0</td>\n",
       "      <td>0</td>\n",
       "      <td>0</td>\n",
       "      <td>0</td>\n",
       "      <td>1</td>\n",
       "      <td>1</td>\n",
       "      <td>0</td>\n",
       "      <td>1</td>\n",
       "      <td>connected</td>\n",
       "    </tr>\n",
       "    <tr>\n",
       "      <th>2</th>\n",
       "      <td>1</td>\n",
       "      <td>1</td>\n",
       "      <td>1</td>\n",
       "      <td>1</td>\n",
       "      <td>0</td>\n",
       "      <td>0</td>\n",
       "      <td>0</td>\n",
       "      <td>0</td>\n",
       "      <td>0</td>\n",
       "      <td>0</td>\n",
       "      <td>...</td>\n",
       "      <td>0</td>\n",
       "      <td>0</td>\n",
       "      <td>0</td>\n",
       "      <td>0</td>\n",
       "      <td>0</td>\n",
       "      <td>1</td>\n",
       "      <td>1</td>\n",
       "      <td>0</td>\n",
       "      <td>1</td>\n",
       "      <td>connected</td>\n",
       "    </tr>\n",
       "    <tr>\n",
       "      <th>3</th>\n",
       "      <td>0</td>\n",
       "      <td>1</td>\n",
       "      <td>1</td>\n",
       "      <td>1</td>\n",
       "      <td>0</td>\n",
       "      <td>0</td>\n",
       "      <td>0</td>\n",
       "      <td>1</td>\n",
       "      <td>0</td>\n",
       "      <td>0</td>\n",
       "      <td>...</td>\n",
       "      <td>0</td>\n",
       "      <td>0</td>\n",
       "      <td>0</td>\n",
       "      <td>0</td>\n",
       "      <td>0</td>\n",
       "      <td>1</td>\n",
       "      <td>1</td>\n",
       "      <td>0</td>\n",
       "      <td>1</td>\n",
       "      <td>connected</td>\n",
       "    </tr>\n",
       "    <tr>\n",
       "      <th>4</th>\n",
       "      <td>1</td>\n",
       "      <td>1</td>\n",
       "      <td>1</td>\n",
       "      <td>1</td>\n",
       "      <td>0</td>\n",
       "      <td>0</td>\n",
       "      <td>0</td>\n",
       "      <td>1</td>\n",
       "      <td>0</td>\n",
       "      <td>0</td>\n",
       "      <td>...</td>\n",
       "      <td>0</td>\n",
       "      <td>0</td>\n",
       "      <td>0</td>\n",
       "      <td>0</td>\n",
       "      <td>0</td>\n",
       "      <td>1</td>\n",
       "      <td>1</td>\n",
       "      <td>0</td>\n",
       "      <td>1</td>\n",
       "      <td>connected</td>\n",
       "    </tr>\n",
       "  </tbody>\n",
       "</table>\n",
       "<p>5 rows × 23 columns</p>\n",
       "</div>"
      ],
      "text/plain": [
       "   Address Match  Ambulatory Industry  Business Phone  City Match  \\\n",
       "0              0                    1               1           1   \n",
       "1              1                    1               1           1   \n",
       "2              1                    1               1           1   \n",
       "3              0                    1               1           1   \n",
       "4              1                    1               1           1   \n",
       "\n",
       "   First Name Match  Fixed VOIP  Hospital Industry  Landline  Last Name Match  \\\n",
       "0                 1           0                  0         0                1   \n",
       "1                 0           1                  0         0                0   \n",
       "2                 0           0                  0         0                0   \n",
       "3                 0           0                  0         1                0   \n",
       "4                 0           0                  0         1                0   \n",
       "\n",
       "   Mobile  ...  No Industry  No PhoneType  Non Fixed Voip  Nursing Industry  \\\n",
       "0       0  ...            0             0               0                 0   \n",
       "1       0  ...            0             0               0                 0   \n",
       "2       0  ...            0             0               0                 0   \n",
       "3       0  ...            0             0               0                 0   \n",
       "4       0  ...            0             0               0                 0   \n",
       "\n",
       "   Personal Phone  Relevant Name  State Match  Workplace Match  ZipCode Match  \\\n",
       "0               0              1            1                0              0   \n",
       "1               0              1            1                0              1   \n",
       "2               0              1            1                0              1   \n",
       "3               0              1            1                0              1   \n",
       "4               0              1            1                0              1   \n",
       "\n",
       "       label  \n",
       "0  connected  \n",
       "1  connected  \n",
       "2  connected  \n",
       "3  connected  \n",
       "4  connected  \n",
       "\n",
       "[5 rows x 23 columns]"
      ]
     },
     "execution_count": 21,
     "metadata": {},
     "output_type": "execute_result"
    }
   ],
   "source": [
    "numbers = pd.read_csv(filename)\n",
    "numbers.head()"
   ]
  },
  {
   "cell_type": "code",
   "execution_count": 22,
   "metadata": {},
   "outputs": [
    {
     "name": "stdout",
     "output_type": "stream",
     "text": [
      "(100, 22) (100,)\n"
     ]
    }
   ],
   "source": [
    "X = numbers.drop(\"label\",axis = 1)\n",
    "y = numbers['label']\n",
    "print(X.shape, y.shape)"
   ]
  },
  {
   "cell_type": "code",
   "execution_count": 23,
   "metadata": {},
   "outputs": [],
   "source": [
    "from sklearn.model_selection import train_test_split\n",
    "from sklearn.preprocessing import LabelEncoder, MinMaxScaler\n",
    "from tensorflow.keras.utils import to_categorical"
   ]
  },
  {
   "cell_type": "code",
   "execution_count": 24,
   "metadata": {},
   "outputs": [],
   "source": [
    "X_train, X_test, y_train, y_test = train_test_split(X, y, random_state = 12, stratify = y)"
   ]
  },
  {
   "cell_type": "code",
   "execution_count": 25,
   "metadata": {},
   "outputs": [
    {
     "name": "stderr",
     "output_type": "stream",
     "text": [
      "C:\\Users\\vigrose\\AppData\\Local\\Programs\\anaconda3\\lib\\site-packages\\sklearn\\preprocessing\\data.py:334: DataConversionWarning: Data with input dtype int64 were all converted to float64 by MinMaxScaler.\n",
      "  return self.partial_fit(X, y)\n"
     ]
    }
   ],
   "source": [
    "X_scaler = MinMaxScaler().fit(X_train)\n",
    "X_train_scaled = X_scaler.transform(X_train)\n",
    "X_test_scaled = X_scaler.transform(X_test)"
   ]
  },
  {
   "cell_type": "code",
   "execution_count": 26,
   "metadata": {},
   "outputs": [],
   "source": [
    "label_encoder = LabelEncoder()\n",
    "label_encoder.fit(y_train)\n",
    "encoded_y_train = label_encoder.transform(y_train)\n",
    "encoded_y_test = label_encoder.transform(y_test)"
   ]
  },
  {
   "cell_type": "code",
   "execution_count": 27,
   "metadata": {},
   "outputs": [],
   "source": [
    "y_train_categorical = to_categorical(encoded_y_train)\n",
    "y_test_categorical = to_categorical(encoded_y_test)"
   ]
  },
  {
   "cell_type": "code",
   "execution_count": 28,
   "metadata": {},
   "outputs": [],
   "source": [
    "from tensorflow.keras.models import Sequential\n",
    "from tensorflow.keras.layers import Dense"
   ]
  },
  {
   "cell_type": "code",
   "execution_count": 29,
   "metadata": {},
   "outputs": [],
   "source": [
    "model = Sequential()\n",
    "model.add(Dense(units=100, activation='relu', input_dim=X.shape[1]))\n",
    "model.add(Dense(units=100, activation='relu'))\n",
    "model.add(Dense(units=2, activation='softmax'))"
   ]
  },
  {
   "cell_type": "code",
   "execution_count": 30,
   "metadata": {},
   "outputs": [],
   "source": [
    "model.compile(optimizer ='adam', loss='categorical_crossentropy', metrics=['accuracy'])"
   ]
  },
  {
   "cell_type": "code",
   "execution_count": 31,
   "metadata": {},
   "outputs": [
    {
     "name": "stdout",
     "output_type": "stream",
     "text": [
      "Model: \"sequential_1\"\n",
      "_________________________________________________________________\n",
      "Layer (type)                 Output Shape              Param #   \n",
      "=================================================================\n",
      "dense_3 (Dense)              (None, 100)               2300      \n",
      "_________________________________________________________________\n",
      "dense_4 (Dense)              (None, 100)               10100     \n",
      "_________________________________________________________________\n",
      "dense_5 (Dense)              (None, 2)                 202       \n",
      "=================================================================\n",
      "Total params: 12,602\n",
      "Trainable params: 12,602\n",
      "Non-trainable params: 0\n",
      "_________________________________________________________________\n"
     ]
    }
   ],
   "source": [
    "model.summary()"
   ]
  },
  {
   "cell_type": "code",
   "execution_count": 32,
   "metadata": {},
   "outputs": [
    {
     "name": "stdout",
     "output_type": "stream",
     "text": [
      "Epoch 1/50\n",
      "75/75 - 0s - loss: 0.6732 - acc: 0.5467\n",
      "Epoch 2/50\n",
      "75/75 - 0s - loss: 0.6360 - acc: 0.6533\n",
      "Epoch 3/50\n",
      "75/75 - 0s - loss: 0.6062 - acc: 0.6933\n",
      "Epoch 4/50\n",
      "75/75 - 0s - loss: 0.5823 - acc: 0.7200\n",
      "Epoch 5/50\n",
      "75/75 - 0s - loss: 0.5595 - acc: 0.7200\n",
      "Epoch 6/50\n",
      "75/75 - 0s - loss: 0.5390 - acc: 0.7200\n",
      "Epoch 7/50\n",
      "75/75 - 0s - loss: 0.5217 - acc: 0.7200\n",
      "Epoch 8/50\n",
      "75/75 - 0s - loss: 0.5047 - acc: 0.7333\n",
      "Epoch 9/50\n",
      "75/75 - 0s - loss: 0.4890 - acc: 0.7600\n",
      "Epoch 10/50\n",
      "75/75 - 0s - loss: 0.4745 - acc: 0.7733\n",
      "Epoch 11/50\n",
      "75/75 - 0s - loss: 0.4607 - acc: 0.7733\n",
      "Epoch 12/50\n",
      "75/75 - 0s - loss: 0.4462 - acc: 0.7733\n",
      "Epoch 13/50\n",
      "75/75 - 0s - loss: 0.4335 - acc: 0.7733\n",
      "Epoch 14/50\n",
      "75/75 - 0s - loss: 0.4224 - acc: 0.7600\n",
      "Epoch 15/50\n",
      "75/75 - 0s - loss: 0.4119 - acc: 0.7867\n",
      "Epoch 16/50\n",
      "75/75 - 0s - loss: 0.3987 - acc: 0.8000\n",
      "Epoch 17/50\n",
      "75/75 - 0s - loss: 0.3890 - acc: 0.8000\n",
      "Epoch 18/50\n",
      "75/75 - 0s - loss: 0.3817 - acc: 0.8000\n",
      "Epoch 19/50\n",
      "75/75 - 0s - loss: 0.3736 - acc: 0.8000\n",
      "Epoch 20/50\n",
      "75/75 - 0s - loss: 0.3628 - acc: 0.8000\n",
      "Epoch 21/50\n",
      "75/75 - 0s - loss: 0.3511 - acc: 0.8133\n",
      "Epoch 22/50\n",
      "75/75 - 0s - loss: 0.3437 - acc: 0.8133\n",
      "Epoch 23/50\n",
      "75/75 - 0s - loss: 0.3342 - acc: 0.8267\n",
      "Epoch 24/50\n",
      "75/75 - 0s - loss: 0.3284 - acc: 0.8133\n",
      "Epoch 25/50\n",
      "75/75 - 0s - loss: 0.3210 - acc: 0.8133\n",
      "Epoch 26/50\n",
      "75/75 - 0s - loss: 0.3111 - acc: 0.8267\n",
      "Epoch 27/50\n",
      "75/75 - 0s - loss: 0.3057 - acc: 0.8800\n",
      "Epoch 28/50\n",
      "75/75 - 0s - loss: 0.3021 - acc: 0.8800\n",
      "Epoch 29/50\n",
      "75/75 - 0s - loss: 0.2911 - acc: 0.8933\n",
      "Epoch 30/50\n",
      "75/75 - 0s - loss: 0.2861 - acc: 0.8933\n",
      "Epoch 31/50\n",
      "75/75 - 0s - loss: 0.2831 - acc: 0.8800\n",
      "Epoch 32/50\n",
      "75/75 - 0s - loss: 0.2762 - acc: 0.8933\n",
      "Epoch 33/50\n",
      "75/75 - 0s - loss: 0.2697 - acc: 0.8933\n",
      "Epoch 34/50\n",
      "75/75 - 0s - loss: 0.2675 - acc: 0.9067\n",
      "Epoch 35/50\n",
      "75/75 - 0s - loss: 0.2602 - acc: 0.9200\n",
      "Epoch 36/50\n",
      "75/75 - 0s - loss: 0.2549 - acc: 0.9067\n",
      "Epoch 37/50\n",
      "75/75 - 0s - loss: 0.2533 - acc: 0.9067\n",
      "Epoch 38/50\n",
      "75/75 - 0s - loss: 0.2458 - acc: 0.9200\n",
      "Epoch 39/50\n",
      "75/75 - 0s - loss: 0.2458 - acc: 0.8933\n",
      "Epoch 40/50\n",
      "75/75 - 0s - loss: 0.2378 - acc: 0.9067\n",
      "Epoch 41/50\n",
      "75/75 - 0s - loss: 0.2301 - acc: 0.9200\n",
      "Epoch 42/50\n",
      "75/75 - 0s - loss: 0.2282 - acc: 0.9200\n",
      "Epoch 43/50\n",
      "75/75 - 0s - loss: 0.2238 - acc: 0.9200\n",
      "Epoch 44/50\n",
      "75/75 - 0s - loss: 0.2194 - acc: 0.9200\n",
      "Epoch 45/50\n",
      "75/75 - 0s - loss: 0.2161 - acc: 0.9200\n",
      "Epoch 46/50\n",
      "75/75 - 0s - loss: 0.2219 - acc: 0.9200\n",
      "Epoch 47/50\n",
      "75/75 - 0s - loss: 0.2138 - acc: 0.9200\n",
      "Epoch 48/50\n",
      "75/75 - 0s - loss: 0.2079 - acc: 0.9200\n",
      "Epoch 49/50\n",
      "75/75 - 0s - loss: 0.2059 - acc: 0.9200\n",
      "Epoch 50/50\n",
      "75/75 - 0s - loss: 0.2025 - acc: 0.9200\n"
     ]
    },
    {
     "data": {
      "text/plain": [
       "<tensorflow.python.keras.callbacks.History at 0x5fa5b70>"
      ]
     },
     "execution_count": 32,
     "metadata": {},
     "output_type": "execute_result"
    }
   ],
   "source": [
    "model.fit(X_train_scaled,\n",
    "         y_train_categorical,\n",
    "         epochs=X.shape[1],\n",
    "         shuffle=True,\n",
    "         verbose=2\n",
    "         )"
   ]
  },
  {
   "cell_type": "code",
   "execution_count": 33,
   "metadata": {},
   "outputs": [
    {
     "name": "stdout",
     "output_type": "stream",
     "text": [
      "25/25 - 0s - loss: 0.5476 - acc: 0.7200\n",
      "Normal Neural Network - Loss: 0.5475826859474182, Accuracy: 0.7200000286102295\n"
     ]
    }
   ],
   "source": [
    "model_loss, model_accuracy = model.evaluate(X_test_scaled, y_test_categorical, verbose=2)\n",
    "print(f'Normal Neural Network - Loss: {model_loss}, Accuracy: {model_accuracy}')"
   ]
  },
  {
   "cell_type": "code",
   "execution_count": 34,
   "metadata": {},
   "outputs": [],
   "source": [
    "predictions = model.predict_classes(X_test_scaled)\n",
    "prediction_labels = label_encoder.inverse_transform(predictions)"
   ]
  },
  {
   "cell_type": "code",
   "execution_count": 35,
   "metadata": {},
   "outputs": [
    {
     "data": {
      "text/html": [
       "<div>\n",
       "<style scoped>\n",
       "    .dataframe tbody tr th:only-of-type {\n",
       "        vertical-align: middle;\n",
       "    }\n",
       "\n",
       "    .dataframe tbody tr th {\n",
       "        vertical-align: top;\n",
       "    }\n",
       "\n",
       "    .dataframe thead th {\n",
       "        text-align: right;\n",
       "    }\n",
       "</style>\n",
       "<table border=\"1\" class=\"dataframe\">\n",
       "  <thead>\n",
       "    <tr style=\"text-align: right;\">\n",
       "      <th></th>\n",
       "      <th>Predicted</th>\n",
       "      <th>Actual</th>\n",
       "    </tr>\n",
       "  </thead>\n",
       "  <tbody>\n",
       "    <tr>\n",
       "      <th>0</th>\n",
       "      <td>connected</td>\n",
       "      <td>connected</td>\n",
       "    </tr>\n",
       "    <tr>\n",
       "      <th>1</th>\n",
       "      <td>disconnected</td>\n",
       "      <td>disconnected</td>\n",
       "    </tr>\n",
       "    <tr>\n",
       "      <th>2</th>\n",
       "      <td>connected</td>\n",
       "      <td>connected</td>\n",
       "    </tr>\n",
       "    <tr>\n",
       "      <th>3</th>\n",
       "      <td>disconnected</td>\n",
       "      <td>disconnected</td>\n",
       "    </tr>\n",
       "    <tr>\n",
       "      <th>4</th>\n",
       "      <td>disconnected</td>\n",
       "      <td>disconnected</td>\n",
       "    </tr>\n",
       "    <tr>\n",
       "      <th>5</th>\n",
       "      <td>disconnected</td>\n",
       "      <td>disconnected</td>\n",
       "    </tr>\n",
       "    <tr>\n",
       "      <th>6</th>\n",
       "      <td>disconnected</td>\n",
       "      <td>disconnected</td>\n",
       "    </tr>\n",
       "    <tr>\n",
       "      <th>7</th>\n",
       "      <td>connected</td>\n",
       "      <td>connected</td>\n",
       "    </tr>\n",
       "    <tr>\n",
       "      <th>8</th>\n",
       "      <td>disconnected</td>\n",
       "      <td>connected</td>\n",
       "    </tr>\n",
       "    <tr>\n",
       "      <th>9</th>\n",
       "      <td>disconnected</td>\n",
       "      <td>connected</td>\n",
       "    </tr>\n",
       "    <tr>\n",
       "      <th>10</th>\n",
       "      <td>connected</td>\n",
       "      <td>connected</td>\n",
       "    </tr>\n",
       "    <tr>\n",
       "      <th>11</th>\n",
       "      <td>disconnected</td>\n",
       "      <td>connected</td>\n",
       "    </tr>\n",
       "    <tr>\n",
       "      <th>12</th>\n",
       "      <td>connected</td>\n",
       "      <td>connected</td>\n",
       "    </tr>\n",
       "    <tr>\n",
       "      <th>13</th>\n",
       "      <td>connected</td>\n",
       "      <td>connected</td>\n",
       "    </tr>\n",
       "    <tr>\n",
       "      <th>14</th>\n",
       "      <td>disconnected</td>\n",
       "      <td>disconnected</td>\n",
       "    </tr>\n",
       "    <tr>\n",
       "      <th>15</th>\n",
       "      <td>disconnected</td>\n",
       "      <td>disconnected</td>\n",
       "    </tr>\n",
       "    <tr>\n",
       "      <th>16</th>\n",
       "      <td>disconnected</td>\n",
       "      <td>connected</td>\n",
       "    </tr>\n",
       "    <tr>\n",
       "      <th>17</th>\n",
       "      <td>disconnected</td>\n",
       "      <td>disconnected</td>\n",
       "    </tr>\n",
       "    <tr>\n",
       "      <th>18</th>\n",
       "      <td>connected</td>\n",
       "      <td>connected</td>\n",
       "    </tr>\n",
       "    <tr>\n",
       "      <th>19</th>\n",
       "      <td>connected</td>\n",
       "      <td>disconnected</td>\n",
       "    </tr>\n",
       "    <tr>\n",
       "      <th>20</th>\n",
       "      <td>disconnected</td>\n",
       "      <td>disconnected</td>\n",
       "    </tr>\n",
       "    <tr>\n",
       "      <th>21</th>\n",
       "      <td>disconnected</td>\n",
       "      <td>disconnected</td>\n",
       "    </tr>\n",
       "    <tr>\n",
       "      <th>22</th>\n",
       "      <td>disconnected</td>\n",
       "      <td>disconnected</td>\n",
       "    </tr>\n",
       "    <tr>\n",
       "      <th>23</th>\n",
       "      <td>connected</td>\n",
       "      <td>disconnected</td>\n",
       "    </tr>\n",
       "    <tr>\n",
       "      <th>24</th>\n",
       "      <td>disconnected</td>\n",
       "      <td>connected</td>\n",
       "    </tr>\n",
       "  </tbody>\n",
       "</table>\n",
       "</div>"
      ],
      "text/plain": [
       "       Predicted        Actual\n",
       "0      connected     connected\n",
       "1   disconnected  disconnected\n",
       "2      connected     connected\n",
       "3   disconnected  disconnected\n",
       "4   disconnected  disconnected\n",
       "5   disconnected  disconnected\n",
       "6   disconnected  disconnected\n",
       "7      connected     connected\n",
       "8   disconnected     connected\n",
       "9   disconnected     connected\n",
       "10     connected     connected\n",
       "11  disconnected     connected\n",
       "12     connected     connected\n",
       "13     connected     connected\n",
       "14  disconnected  disconnected\n",
       "15  disconnected  disconnected\n",
       "16  disconnected     connected\n",
       "17  disconnected  disconnected\n",
       "18     connected     connected\n",
       "19     connected  disconnected\n",
       "20  disconnected  disconnected\n",
       "21  disconnected  disconnected\n",
       "22  disconnected  disconnected\n",
       "23     connected  disconnected\n",
       "24  disconnected     connected"
      ]
     },
     "execution_count": 35,
     "metadata": {},
     "output_type": "execute_result"
    }
   ],
   "source": [
    "data = {'Predicted': prediction_labels, 'Actual':list(y_test)}\n",
    "pd.DataFrame(data)"
   ]
  },
  {
   "cell_type": "code",
   "execution_count": 39,
   "metadata": {},
   "outputs": [],
   "source": [
    "X_test.to_csv(\"test.csv\")"
   ]
  },
  {
   "cell_type": "code",
   "execution_count": 36,
   "metadata": {},
   "outputs": [
    {
     "data": {
      "text/plain": [
       "array([[11,  2],\n",
       "       [ 5,  7]], dtype=int64)"
      ]
     },
     "execution_count": 36,
     "metadata": {},
     "output_type": "execute_result"
    }
   ],
   "source": [
    "from sklearn.metrics import confusion_matrix\n",
    "confusion_matrix(list(y_test), prediction_labels, labels = ['disconnected','connected'])"
   ]
  },
  {
   "cell_type": "code",
   "execution_count": 45,
   "metadata": {},
   "outputs": [],
   "source": [
    "office_numbers = pd.read_csv(filename_with_numbers)"
   ]
  },
  {
   "cell_type": "code",
   "execution_count": 46,
   "metadata": {},
   "outputs": [],
   "source": [
    "x = office_numbers[['OFFICE_TELEPHONE', 'label', 'Index']]"
   ]
  },
  {
   "cell_type": "code",
   "execution_count": 50,
   "metadata": {},
   "outputs": [],
   "source": [
    "test = pd.read_csv('test.csv')"
   ]
  },
  {
   "cell_type": "code",
   "execution_count": 51,
   "metadata": {},
   "outputs": [],
   "source": [
    "test_numbers = pd.merge(test, x, on='Index')\n",
    "test_numbers['Model_Predictions']=prediction_labels"
   ]
  },
  {
   "cell_type": "code",
   "execution_count": 53,
   "metadata": {},
   "outputs": [],
   "source": [
    "test_numbers.to_csv(\"Model_Predictions.csv\")"
   ]
  },
  {
   "cell_type": "code",
   "execution_count": null,
   "metadata": {},
   "outputs": [],
   "source": [
    "#Save model\n",
    "model.save(\"model_trained.h5\")"
   ]
  }
 ],
 "metadata": {
  "kernelspec": {
   "display_name": "Python 3",
   "language": "python",
   "name": "python3"
  },
  "language_info": {
   "codemirror_mode": {
    "name": "ipython",
    "version": 3
   },
   "file_extension": ".py",
   "mimetype": "text/x-python",
   "name": "python",
   "nbconvert_exporter": "python",
   "pygments_lexer": "ipython3",
   "version": "3.7.3"
  }
 },
 "nbformat": 4,
 "nbformat_minor": 2
}
