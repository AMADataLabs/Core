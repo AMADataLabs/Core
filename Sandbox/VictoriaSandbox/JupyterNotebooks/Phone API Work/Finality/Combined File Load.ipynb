{
 "cells": [
  {
   "cell_type": "code",
   "execution_count": 1,
   "metadata": {},
   "outputs": [],
   "source": [
    "import pandas as pd"
   ]
  },
  {
   "cell_type": "code",
   "execution_count": 5,
   "metadata": {},
   "outputs": [],
   "source": [
    "connected = pd.read_csv('connected_base.csv')\n",
    "disconnected = pd.read_csv('disconnected_base.csv')\n",
    "wrong = pd.read_csv('base_wrong.csv')\n",
    "\n",
    "connected_all = pd.read_csv('../connected.csv')\n",
    "disconnected_all = pd.read_csv('../disconnected.csv')\n",
    "wrong_all = pd.read_csv('../wrong_numbers.csv')"
   ]
  },
  {
   "cell_type": "code",
   "execution_count": 6,
   "metadata": {},
   "outputs": [],
   "source": [
    "connected_complete = pd.merge(connected,connected_all, on='OFFICE_TELEPHONE')\n",
    "disconnected_complete = pd.merge(disconnected,disconnected_all, on='OFFICE_TELEPHONE')\n",
    "wrong_complete = pd.merge(wrong,wrong_all, on='OFFICE_TELEPHONE')"
   ]
  },
  {
   "cell_type": "code",
   "execution_count": null,
   "metadata": {},
   "outputs": [],
   "source": [
    "#EKATA\n",
    "connected_ekata = pd.read_csv('connected_base.csv')\n",
    "disconnected_ekata = pd.read_csv('disconnected_base.csv')\n",
    "wrong_ekata = pd.read_csv('base_wrong.csv')"
   ]
  },
  {
   "cell_type": "code",
   "execution_count": null,
   "metadata": {},
   "outputs": [],
   "source": [
    "#EVERYONE\n",
    "connected_everyone = pd.read_csv('connected_base.csv')\n",
    "disconnected_everyone = pd.read_csv('disconnected_base.csv')\n",
    "wrong_everyone = pd.read_csv('base_wrong.csv')"
   ]
  },
  {
   "cell_type": "code",
   "execution_count": null,
   "metadata": {},
   "outputs": [],
   "source": [
    "#OPENCNAM\n",
    "connected_cnam = pd.read_csv('connected_base.csv')\n",
    "disconnected_cnam = pd.read_csv('disconnected_base.csv')\n",
    "wrong_cnam = pd.read_csv('base_wrong.csv')"
   ]
  },
  {
   "cell_type": "code",
   "execution_count": null,
   "metadata": {},
   "outputs": [],
   "source": [
    "#TWILIO\n",
    "connected_twilio = pd.read_csv('connected_base.csv')\n",
    "disconnected_twilio  = pd.read_csv('disconnected_base.csv')\n",
    "wrong_twilio  = pd.read_csv('base_wrong.csv')"
   ]
  },
  {
   "cell_type": "code",
   "execution_count": 9,
   "metadata": {},
   "outputs": [],
   "source": [
    "#GETPHONEINFO\n",
    "connected_get = pd.read_csv('../GetPhoneInfo/connected_final.csv')\n",
    "disconnected_get = pd.read_csv('../GetPhoneInfo/disconnected_final.csv')\n",
    "wrong_get = pd.read_csv('../GetPhoneInfo/getphoneinfoWrong.csv')\n",
    "\n",
    "GET_CONNECTED = pd.merge(connected_get, connected_complete, on='OFFICE_TELEPHONE')\n",
    "GET_DISCONNECTED = pd.merge(disconnected_get, disconnected_complete, on='OFFICE_TELEPHONE')\n",
    "GET_WRONG = pd.merge(wrong_get, wrong_complete, on='OFFICE_TELEPHONE')"
   ]
  },
  {
   "cell_type": "code",
   "execution_count": 10,
   "metadata": {},
   "outputs": [],
   "source": [
    "med_words = med_words = ['cancer', 'cardiology', 'neurology', 'family care', 'pulmonary', 'anesthesia', 'orthope', 'urgent care', 'allergy', 'kidney', 'surgery', 'hosp', 'mri', 'throat', 'dentist', 'med', 'clinic', 'health', 'gastroenter','anesthesiologist','patient','physician','surgeon','doctor','hospital', 'md', 'medical', 'pediatrics', 'm.d.']"
   ]
  },
  {
   "cell_type": "code",
   "execution_count": 42,
   "metadata": {},
   "outputs": [],
   "source": [
    "def analyze_numbers(dataframe, med_words):\n",
    "    \n",
    "    \n",
    "    address_match = 0\n",
    "    city_match = 0\n",
    "    zipcode_match = 0\n",
    "    healthcount = 0\n",
    "    mailcount = 0\n",
    "    connectcount = 0\n",
    "    portcount = 0\n",
    "    novalidcount = 0\n",
    "    unknowncount = 0\n",
    "    disconnectedcount = 0\n",
    "    voipcount = 0\n",
    "    wirelesscount = 0\n",
    "    no_address_count = 0\n",
    "    no_date_count = 0\n",
    "    business_count = 0\n",
    "    residential_count = 0\n",
    "    low_count = 0\n",
    "    high_count = 0\n",
    "    med_count = 0\n",
    "    first_name_match = 0\n",
    "    last_name_match = 0 \n",
    "    workplace_match = 0\n",
    "\n",
    "\n",
    "    for row in dataframe.itertuples():\n",
    "        if row.Address == row.OFFICE_ADDRESS_LINE_2:\n",
    "            address_match += 1\n",
    "        if row.City == row.OFFICE_ADDRESS_CITY:\n",
    "            city_match += 1\n",
    "        if str(row.Zipcode)[:-2] == str(row.OFFICE_ADDRESS_ZIP):\n",
    "            zipcode_match += 1\n",
    "        if str(row.PHYSICIAN_LAST_NAME).lower() in str(row.Name).lower():\n",
    "            last_name_match +=1\n",
    "\n",
    "        if str(row.PHYSICIAN_FIRST_NAME).lower() in str(row.Name).lower():\n",
    "            first_name_match +=1\n",
    "\n",
    "        healthy = False\n",
    "        for word in med_words:\n",
    "            if word in str(row.Name).lower():\n",
    "                healthy = True\n",
    "        if healthy == True:    \n",
    "            healthcount += 1\n",
    "\n",
    "        if 'IsMailable' in str(row.Notes):\n",
    "            mailcount += 1\n",
    "        if 'IsConnected' in str(row.Notes):\n",
    "            connectcount += 1\n",
    "        if 'IsPorted' in str(row.Notes):\n",
    "            portcount += 1\n",
    "        if 'NotValid' in str(row.Notes):\n",
    "            novalidcount += 1\n",
    "        if 'IsUnknownContact' in str(row.Notes):\n",
    "            unknowncount += 1\n",
    "        if 'IsPossibleDisconnected' in str(row.Notes):\n",
    "            disconnectedcount += 1\n",
    "        if 'IsPossiblePortableVOIP' in str(row.Notes):\n",
    "            voipcount += 1\n",
    "        if 'IsWireless' in str(row.Notes):\n",
    "            wirelesscount += 1\n",
    "\n",
    "        if row.Address == 'None':\n",
    "            no_address_count += 1\n",
    "        if row.Date == 'None':\n",
    "            no_date_count += 1\n",
    "        if row.PhoneType == 'BUSINESS':\n",
    "            business_count += 1\n",
    "        if row.PhoneType == 'RESIDENTIAL':\n",
    "            residential_count += 1\n",
    "        if row.QualityScore == 'LOW':\n",
    "            low_count += 1\n",
    "        if row.QualityScore == 'HIGH':\n",
    "            high_count += 1\n",
    "        if row.QualityScore == 'MED':\n",
    "            med_count += 1\n",
    "        if str(row.OFFICE_ADDRESS_LINE_1).lower() in str(row.Name).lower():\n",
    "            workplace_match +=1\n",
    "\n",
    "    new_dict = {\n",
    "        'Address Matches': address_match,\n",
    "        'City Matches': city_match,\n",
    "        'ZipCode Matches': zipcode_match,\n",
    "        'No Address': no_address_count,\n",
    "        'No Date': no_date_count,\n",
    "        'Relevant Name': healthcount,\n",
    "        'Business Phone': business_count,\n",
    "        'Residential Phone': residential_count,\n",
    "        'Low Quality': low_count,\n",
    "        'Medium Quality': med_count,\n",
    "        'High Quality': high_count,\n",
    "        'Mailable': mailcount,\n",
    "        'Connected': connectcount,\n",
    "        'Ported': portcount,\n",
    "        'Not Valid': novalidcount,\n",
    "        'Unknown Contact': unknowncount,\n",
    "        'Possibly Disconnected': disconnectedcount,\n",
    "        'Possibly Portable VOIP': voipcount,\n",
    "        'Wireless': wirelesscount,\n",
    "        'First Name Match':first_name_match,\n",
    "        'Last Name Match':last_name_match,\n",
    "        'Workplace Match': workplace_match\n",
    "        }\n",
    "        \n",
    "    return(new_dict)"
   ]
  },
  {
   "cell_type": "code",
   "execution_count": 43,
   "metadata": {},
   "outputs": [
    {
     "data": {
      "text/plain": [
       "{'Address Matches': 2,\n",
       " 'City Matches': 8,\n",
       " 'ZipCode Matches': 0,\n",
       " 'No Address': 0,\n",
       " 'No Date': 0,\n",
       " 'Relevant Name': 28,\n",
       " 'Business Phone': 46,\n",
       " 'Residential Phone': 4,\n",
       " 'Low Quality': 12,\n",
       " 'Medium Quality': 4,\n",
       " 'High Quality': 36,\n",
       " 'Mailable': 40,\n",
       " 'Connected': 39,\n",
       " 'Ported': 28,\n",
       " 'Not Valid': 0,\n",
       " 'Unknown Contact': 0,\n",
       " 'Possibly Disconnected': 1,\n",
       " 'Possibly Portable VOIP': 6,\n",
       " 'Wireless': 0,\n",
       " 'First Name Match': 3,\n",
       " 'Last Name Match': 2,\n",
       " 'Workplace Match': 0}"
      ]
     },
     "execution_count": 43,
     "metadata": {},
     "output_type": "execute_result"
    }
   ],
   "source": [
    "analyze_numbers(GET_WRONG, med_words)"
   ]
  },
  {
   "cell_type": "code",
   "execution_count": 33,
   "metadata": {},
   "outputs": [
    {
     "data": {
      "text/plain": [
       "0      7601.0\n",
       "1     95382.0\n",
       "2     48075.0\n",
       "3     13210.0\n",
       "4     52245.0\n",
       "5     59828.0\n",
       "6     65616.0\n",
       "7     44124.0\n",
       "8     85283.0\n",
       "9     40241.0\n",
       "10     2360.0\n",
       "11    18707.0\n",
       "12    88101.0\n",
       "13    39401.0\n",
       "14    39437.0\n",
       "15    85256.0\n",
       "16     3801.0\n",
       "17     3246.0\n",
       "18     8240.0\n",
       "19    19610.0\n",
       "20    55423.0\n",
       "21    37076.0\n",
       "22    55092.0\n",
       "23    58501.0\n",
       "24    89074.0\n",
       "25    89074.0\n",
       "26    22030.0\n",
       "27    30720.0\n",
       "28    77074.0\n",
       "29    54401.0\n",
       "30    11235.0\n",
       "31    33782.0\n",
       "32    48162.0\n",
       "33        NaN\n",
       "34    43701.0\n",
       "35    92203.0\n",
       "36    47374.0\n",
       "37     1803.0\n",
       "38     5701.0\n",
       "39    23111.0\n",
       "40    91360.0\n",
       "41    79106.0\n",
       "42    78009.0\n",
       "43    29572.0\n",
       "44    29650.0\n",
       "45    72401.0\n",
       "46    75503.0\n",
       "47    10594.0\n",
       "48    95825.0\n",
       "49    92660.0\n",
       "50     7107.0\n",
       "Name: Zipcode, dtype: float64"
      ]
     },
     "execution_count": 33,
     "metadata": {},
     "output_type": "execute_result"
    }
   ],
   "source": [
    "GET_CONNECTED['Zipcode']"
   ]
  },
  {
   "cell_type": "code",
   "execution_count": 37,
   "metadata": {},
   "outputs": [
    {
     "data": {
      "text/plain": [
       "'victor'"
      ]
     },
     "execution_count": 37,
     "metadata": {},
     "output_type": "execute_result"
    }
   ],
   "source": [
    "x ='victoria'\n",
    "x[:-2]"
   ]
  },
  {
   "cell_type": "code",
   "execution_count": null,
   "metadata": {},
   "outputs": [],
   "source": []
  }
 ],
 "metadata": {
  "kernelspec": {
   "display_name": "Python 3",
   "language": "python",
   "name": "python3"
  },
  "language_info": {
   "codemirror_mode": {
    "name": "ipython",
    "version": 3
   },
   "file_extension": ".py",
   "mimetype": "text/x-python",
   "name": "python",
   "nbconvert_exporter": "python",
   "pygments_lexer": "ipython3",
   "version": "3.7.3"
  }
 },
 "nbformat": 4,
 "nbformat_minor": 2
}
