{
 "cells": [
  {
   "cell_type": "markdown",
   "metadata": {},
   "source": [
    "# RPV Solo Disconnect Model\n",
    "\n",
    "#### Garrett Lappe - September 2019\n",
    "\n",
    "Just a very brief PoC for using machine learning to predict whether or not a phone number is disconnected or not.\n",
    "\n",
    "##### Training data:\n",
    "\n",
    "All archived RPV results as of 2019-09-25, WSLive results for those numbers, Kari's Disconnect Model results for those numbers.\n",
    "\n",
    "##### Input: \n",
    "encoded RPV results (status, carrier, iscell) + pred_probability score from Kari's model + area code + area_prefix\n",
    "\n",
    "##### Target: \n",
    "WSLive COMMENTS = 'NOT IN SERVICE'"
   ]
  },
  {
   "cell_type": "code",
   "execution_count": 22,
   "metadata": {},
   "outputs": [],
   "source": [
    "import pandas as pd\n",
    "import pickle as pk\n",
    "import numpy as np\n",
    "\n",
    "from sklearn import metrics"
   ]
  },
  {
   "cell_type": "markdown",
   "metadata": {},
   "source": [
    "### Getting all tested RPV numbers"
   ]
  },
  {
   "cell_type": "code",
   "execution_count": 5,
   "metadata": {},
   "outputs": [
    {
     "data": {
      "text/plain": [
       "5076"
      ]
     },
     "execution_count": 5,
     "metadata": {},
     "output_type": "execute_result"
    }
   ],
   "source": [
    "archive_path = 'U:\\\\Source Files\\\\Data Analytics\\\\Data-Science\\\\Data\\RPV\\\\output\\\\_archive\\\\RPV_archive.csv'\n",
    "\n",
    "rpv_archive = pd.read_csv(archive_path, dtype=object).drop_duplicates()  # some duplicates exist because I manually pasted in some\n",
    "len(rpv_archive)"
   ]
  },
  {
   "cell_type": "code",
   "execution_count": 6,
   "metadata": {},
   "outputs": [
    {
     "data": {
      "text/html": [
       "<div>\n",
       "<style scoped>\n",
       "    .dataframe tbody tr th:only-of-type {\n",
       "        vertical-align: middle;\n",
       "    }\n",
       "\n",
       "    .dataframe tbody tr th {\n",
       "        vertical-align: top;\n",
       "    }\n",
       "\n",
       "    .dataframe thead th {\n",
       "        text-align: right;\n",
       "    }\n",
       "</style>\n",
       "<table border=\"1\" class=\"dataframe\">\n",
       "  <thead>\n",
       "    <tr style=\"text-align: right;\">\n",
       "      <th></th>\n",
       "      <th>phone</th>\n",
       "      <th>status</th>\n",
       "      <th>error_text</th>\n",
       "      <th>iscell</th>\n",
       "      <th>carrier</th>\n",
       "      <th>date_checked</th>\n",
       "    </tr>\n",
       "  </thead>\n",
       "  <tbody>\n",
       "    <tr>\n",
       "      <th>0</th>\n",
       "      <td>2012000318</td>\n",
       "      <td>connected</td>\n",
       "      <td>NaN</td>\n",
       "      <td>N</td>\n",
       "      <td>Comcast of MD</td>\n",
       "      <td>2019-08-29</td>\n",
       "    </tr>\n",
       "    <tr>\n",
       "      <th>1</th>\n",
       "      <td>2012002626</td>\n",
       "      <td>connected</td>\n",
       "      <td>NaN</td>\n",
       "      <td>N</td>\n",
       "      <td>MCImetro Former MCI</td>\n",
       "      <td>2019-08-29</td>\n",
       "    </tr>\n",
       "    <tr>\n",
       "      <th>2</th>\n",
       "      <td>2012040004</td>\n",
       "      <td>connected</td>\n",
       "      <td>NaN</td>\n",
       "      <td>N</td>\n",
       "      <td>Level 3</td>\n",
       "      <td>2019-08-29</td>\n",
       "    </tr>\n",
       "    <tr>\n",
       "      <th>3</th>\n",
       "      <td>2012071052</td>\n",
       "      <td>connected</td>\n",
       "      <td>NaN</td>\n",
       "      <td>Y</td>\n",
       "      <td>Verizon Wireless</td>\n",
       "      <td>2019-08-29</td>\n",
       "    </tr>\n",
       "    <tr>\n",
       "      <th>4</th>\n",
       "      <td>2012074846</td>\n",
       "      <td>connected</td>\n",
       "      <td>NaN</td>\n",
       "      <td>Y</td>\n",
       "      <td>Verizon Wireless</td>\n",
       "      <td>2019-08-29</td>\n",
       "    </tr>\n",
       "  </tbody>\n",
       "</table>\n",
       "</div>"
      ],
      "text/plain": [
       "        phone     status error_text iscell              carrier date_checked\n",
       "0  2012000318  connected        NaN      N        Comcast of MD   2019-08-29\n",
       "1  2012002626  connected        NaN      N  MCImetro Former MCI   2019-08-29\n",
       "2  2012040004  connected        NaN      N              Level 3   2019-08-29\n",
       "3  2012071052  connected        NaN      Y     Verizon Wireless   2019-08-29\n",
       "4  2012074846  connected        NaN      Y     Verizon Wireless   2019-08-29"
      ]
     },
     "execution_count": 6,
     "metadata": {},
     "output_type": "execute_result"
    }
   ],
   "source": [
    "rpv_archive.head()"
   ]
  },
  {
   "cell_type": "markdown",
   "metadata": {},
   "source": [
    "### Loading WSLive results from 2019\n",
    "\n",
    "I previously saved off this data from Derek's wslive_results SAS table for 2019."
   ]
  },
  {
   "cell_type": "code",
   "execution_count": 7,
   "metadata": {},
   "outputs": [],
   "source": [
    "wslive_2019 = pk.load(open('wslive_2019.pk','rb'))"
   ]
  },
  {
   "cell_type": "markdown",
   "metadata": {},
   "source": [
    "##### Trimming..."
   ]
  },
  {
   "cell_type": "code",
   "execution_count": 8,
   "metadata": {},
   "outputs": [
    {
     "data": {
      "text/plain": [
       "76676"
      ]
     },
     "execution_count": 8,
     "metadata": {},
     "output_type": "execute_result"
    }
   ],
   "source": [
    "wslive = wslive_2019[wslive_2019['WSLIVE_FILE_DT'] >= '2019-07-01']\n",
    "len(wslive)"
   ]
  },
  {
   "cell_type": "code",
   "execution_count": null,
   "metadata": {},
   "outputs": [],
   "source": [
    "keep = [\n",
    "    'PHYSICIAN_ME_NUMBER',\n",
    "    'OFFICE_TELEPHONE',\n",
    "    'PHYSICIAN_FIRST_NAME',\n",
    "    'PHYSICIAN_MIDDLE_NAME',\n",
    "    'PHYSICIAN_LAST_NAME',\n",
    "    'DEGREE',\n",
    "    'OFFICE_ADDRESS_LINE_1',\n",
    "    'OFFICE_ADDRESS_LINE_2',\n",
    "    'OFFICE_ADDRESS_CITY',\n",
    "    'OFFICE_ADDRESS_STATE',\n",
    "    'OFFICE_ADDRESS_ZIP',\n",
    "    'OFFICE_ADDRESS_VERIFIED_UPDATED',\n",
    "    'OFFICE_PHONE_VERIFIED_UPDATED',\n",
    "    'PRESENT_EMPLOYMENT_CODE',\n",
    "    'PRESENT_EMPLOYMENT_UPDATED',\n",
    "    'SPECIALTY',\n",
    "    'SPECIALTY_UPDATED',\n",
    "    'COMMENTS',\n",
    "    'WSLIVE_FILE_DT'\n",
    "]\n",
    "\n",
    "wslive = wslive[keep]"
   ]
  },
  {
   "cell_type": "markdown",
   "metadata": {},
   "source": [
    "### Loading scored numbers from Kari's Disconnect Model.\n",
    "\n",
    "This file is a trimmed version of the output of her model--containing only phone number and the estimated probability"
   ]
  },
  {
   "cell_type": "code",
   "execution_count": 9,
   "metadata": {},
   "outputs": [],
   "source": [
    "scores = pd.read_csv('scores_recall.csv', dtype=object)"
   ]
  },
  {
   "cell_type": "code",
   "execution_count": 10,
   "metadata": {},
   "outputs": [
    {
     "data": {
      "text/plain": [
       "507637"
      ]
     },
     "execution_count": 10,
     "metadata": {},
     "output_type": "execute_result"
    }
   ],
   "source": [
    "len(scores)  # numer of records scored in PPD"
   ]
  },
  {
   "cell_type": "code",
   "execution_count": 11,
   "metadata": {},
   "outputs": [
    {
     "data": {
      "text/plain": [
       "262812"
      ]
     },
     "execution_count": 11,
     "metadata": {},
     "output_type": "execute_result"
    }
   ],
   "source": [
    "scores = scores.sort_values(by='pred_recall').groupby('ppd_telephone_number').first().reset_index()\n",
    "len(scores)  # dropping duplicate numbers, keeping the minimum estimated probability."
   ]
  },
  {
   "cell_type": "markdown",
   "metadata": {},
   "source": [
    "### Merging WSLive and predicted probability"
   ]
  },
  {
   "cell_type": "code",
   "execution_count": 12,
   "metadata": {},
   "outputs": [
    {
     "data": {
      "text/plain": [
       "66401"
      ]
     },
     "execution_count": 12,
     "metadata": {},
     "output_type": "execute_result"
    }
   ],
   "source": [
    "df = pd.merge(left=wslive, right=scores, left_on='OFFICE_TELEPHONE', right_on='ppd_telephone_number', how='inner')\n",
    "len(df)"
   ]
  },
  {
   "cell_type": "code",
   "execution_count": 13,
   "metadata": {},
   "outputs": [
    {
     "data": {
      "text/plain": [
       "57206"
      ]
     },
     "execution_count": 13,
     "metadata": {},
     "output_type": "execute_result"
    }
   ],
   "source": [
    "df = df.sort_values(by='pred_recall').groupby('OFFICE_TELEPHONE').first().reset_index()\n",
    "len(df)"
   ]
  },
  {
   "cell_type": "code",
   "execution_count": 14,
   "metadata": {},
   "outputs": [],
   "source": [
    "df.drop(columns='ppd_telephone_number', axis=1, inplace=True)"
   ]
  },
  {
   "cell_type": "code",
   "execution_count": 15,
   "metadata": {},
   "outputs": [
    {
     "data": {
      "text/html": [
       "<div>\n",
       "<style scoped>\n",
       "    .dataframe tbody tr th:only-of-type {\n",
       "        vertical-align: middle;\n",
       "    }\n",
       "\n",
       "    .dataframe tbody tr th {\n",
       "        vertical-align: top;\n",
       "    }\n",
       "\n",
       "    .dataframe thead th {\n",
       "        text-align: right;\n",
       "    }\n",
       "</style>\n",
       "<table border=\"1\" class=\"dataframe\">\n",
       "  <thead>\n",
       "    <tr style=\"text-align: right;\">\n",
       "      <th></th>\n",
       "      <th>OFFICE_TELEPHONE</th>\n",
       "      <th>PHYSICIAN_ME_NUMBER</th>\n",
       "      <th>PHYSICIAN_FIRST_NAME</th>\n",
       "      <th>PHYSICIAN_MIDDLE_NAME</th>\n",
       "      <th>PHYSICIAN_LAST_NAME</th>\n",
       "      <th>SUFFIX</th>\n",
       "      <th>DEGREE</th>\n",
       "      <th>OFFICE_ADDRESS_LINE_1</th>\n",
       "      <th>OFFICE_ADDRESS_LINE_2</th>\n",
       "      <th>OFFICE_ADDRESS_CITY</th>\n",
       "      <th>...</th>\n",
       "      <th>COMMENTS</th>\n",
       "      <th>Source</th>\n",
       "      <th>WSLIVE_SOURCE</th>\n",
       "      <th>WSLIVE_FILE_DT</th>\n",
       "      <th>MATCH_ADDR</th>\n",
       "      <th>MATCH_PHONE</th>\n",
       "      <th>MATCH_ADDR_LONG</th>\n",
       "      <th>SPECIALTY</th>\n",
       "      <th>SPECIALTY_UPDATED</th>\n",
       "      <th>pred_recall</th>\n",
       "    </tr>\n",
       "  </thead>\n",
       "  <tbody>\n",
       "    <tr>\n",
       "      <th>0</th>\n",
       "      <td>2012100200</td>\n",
       "      <td>12501790026</td>\n",
       "      <td>AMAL</td>\n",
       "      <td>NaN</td>\n",
       "      <td>MEZHOUDI</td>\n",
       "      <td>NaN</td>\n",
       "      <td>NaN</td>\n",
       "      <td>NaN</td>\n",
       "      <td>5301 BROADWAY</td>\n",
       "      <td>WEST NEW YORK</td>\n",
       "      <td>...</td>\n",
       "      <td>MOVED, NO FORWARDING INFO</td>\n",
       "      <td>C</td>\n",
       "      <td>OTHERS</td>\n",
       "      <td>2019-08-02</td>\n",
       "      <td>1250179002530107093</td>\n",
       "      <td>12501790022012100200</td>\n",
       "      <td>NaN</td>\n",
       "      <td>FM</td>\n",
       "      <td>1</td>\n",
       "      <td>0.60514144</td>\n",
       "    </tr>\n",
       "    <tr>\n",
       "      <th>1</th>\n",
       "      <td>2012160844</td>\n",
       "      <td>56108790011</td>\n",
       "      <td>VICTOR</td>\n",
       "      <td>NaN</td>\n",
       "      <td>MARCHIONE</td>\n",
       "      <td>NaN</td>\n",
       "      <td>NaN</td>\n",
       "      <td>NaN</td>\n",
       "      <td>600 PAVONIA AVE STE 5</td>\n",
       "      <td>JERSEY CITY</td>\n",
       "      <td>...</td>\n",
       "      <td>FAIL</td>\n",
       "      <td>C</td>\n",
       "      <td>FAIL</td>\n",
       "      <td>2019-08-30</td>\n",
       "      <td>561087900160007306</td>\n",
       "      <td>56108790012012160844</td>\n",
       "      <td>NaN</td>\n",
       "      <td>NaN</td>\n",
       "      <td>NaN</td>\n",
       "      <td>0.555166029</td>\n",
       "    </tr>\n",
       "    <tr>\n",
       "      <th>2</th>\n",
       "      <td>2012162012</td>\n",
       "      <td>24316830265</td>\n",
       "      <td>XIAOLING</td>\n",
       "      <td>NaN</td>\n",
       "      <td>LI</td>\n",
       "      <td>NaN</td>\n",
       "      <td>NaN</td>\n",
       "      <td>NaN</td>\n",
       "      <td>241 ERIE ST</td>\n",
       "      <td>JERSEY CITY</td>\n",
       "      <td>...</td>\n",
       "      <td>FAIL</td>\n",
       "      <td>C</td>\n",
       "      <td>FAIL</td>\n",
       "      <td>2019-08-30</td>\n",
       "      <td>243168302624107310</td>\n",
       "      <td>24316830262012162012</td>\n",
       "      <td>NaN</td>\n",
       "      <td>NaN</td>\n",
       "      <td>NaN</td>\n",
       "      <td>0.520751854</td>\n",
       "    </tr>\n",
       "    <tr>\n",
       "      <th>3</th>\n",
       "      <td>2012169791</td>\n",
       "      <td>49549820033</td>\n",
       "      <td>RAVI</td>\n",
       "      <td>NaN</td>\n",
       "      <td>RATHI</td>\n",
       "      <td>NaN</td>\n",
       "      <td>NaN</td>\n",
       "      <td>NaN</td>\n",
       "      <td>120 FRANKLIN ST</td>\n",
       "      <td>JERSEY CITY</td>\n",
       "      <td>...</td>\n",
       "      <td>FAIL</td>\n",
       "      <td>C</td>\n",
       "      <td>FAIL</td>\n",
       "      <td>2019-07-31</td>\n",
       "      <td>495498200312007307</td>\n",
       "      <td>49549820032012169791</td>\n",
       "      <td>NaN</td>\n",
       "      <td>NaN</td>\n",
       "      <td>NaN</td>\n",
       "      <td>0.269932338</td>\n",
       "    </tr>\n",
       "    <tr>\n",
       "      <th>4</th>\n",
       "      <td>2012175600</td>\n",
       "      <td>30803930054</td>\n",
       "      <td>ELIZABETH</td>\n",
       "      <td>NaN</td>\n",
       "      <td>RAMIREZ</td>\n",
       "      <td>NaN</td>\n",
       "      <td>NaN</td>\n",
       "      <td>NaN</td>\n",
       "      <td>435 CENTRAL AVE</td>\n",
       "      <td>JERSEY CITY</td>\n",
       "      <td>...</td>\n",
       "      <td>FAIL</td>\n",
       "      <td>C</td>\n",
       "      <td>FAIL</td>\n",
       "      <td>2019-08-30</td>\n",
       "      <td>308039300543507307</td>\n",
       "      <td>30803930052012175600</td>\n",
       "      <td>NaN</td>\n",
       "      <td>NaN</td>\n",
       "      <td>NaN</td>\n",
       "      <td>0.290065693</td>\n",
       "    </tr>\n",
       "  </tbody>\n",
       "</table>\n",
       "<p>5 rows × 30 columns</p>\n",
       "</div>"
      ],
      "text/plain": [
       "  OFFICE_TELEPHONE PHYSICIAN_ME_NUMBER PHYSICIAN_FIRST_NAME  \\\n",
       "0       2012100200         12501790026                 AMAL   \n",
       "1       2012160844         56108790011               VICTOR   \n",
       "2       2012162012         24316830265             XIAOLING   \n",
       "3       2012169791         49549820033                 RAVI   \n",
       "4       2012175600         30803930054            ELIZABETH   \n",
       "\n",
       "  PHYSICIAN_MIDDLE_NAME PHYSICIAN_LAST_NAME SUFFIX  DEGREE  \\\n",
       "0                   NaN            MEZHOUDI    NaN     NaN   \n",
       "1                   NaN           MARCHIONE    NaN     NaN   \n",
       "2                   NaN                  LI    NaN     NaN   \n",
       "3                   NaN               RATHI    NaN     NaN   \n",
       "4                   NaN             RAMIREZ    NaN     NaN   \n",
       "\n",
       "  OFFICE_ADDRESS_LINE_1  OFFICE_ADDRESS_LINE_2 OFFICE_ADDRESS_CITY  \\\n",
       "0                   NaN          5301 BROADWAY       WEST NEW YORK   \n",
       "1                   NaN  600 PAVONIA AVE STE 5         JERSEY CITY   \n",
       "2                   NaN            241 ERIE ST         JERSEY CITY   \n",
       "3                   NaN        120 FRANKLIN ST         JERSEY CITY   \n",
       "4                   NaN        435 CENTRAL AVE         JERSEY CITY   \n",
       "\n",
       "      ...                        COMMENTS Source WSLIVE_SOURCE WSLIVE_FILE_DT  \\\n",
       "0     ...       MOVED, NO FORWARDING INFO      C        OTHERS     2019-08-02   \n",
       "1     ...                            FAIL      C          FAIL     2019-08-30   \n",
       "2     ...                            FAIL      C          FAIL     2019-08-30   \n",
       "3     ...                            FAIL      C          FAIL     2019-07-31   \n",
       "4     ...                            FAIL      C          FAIL     2019-08-30   \n",
       "\n",
       "            MATCH_ADDR           MATCH_PHONE MATCH_ADDR_LONG SPECIALTY  \\\n",
       "0  1250179002530107093  12501790022012100200             NaN        FM   \n",
       "1   561087900160007306  56108790012012160844             NaN       NaN   \n",
       "2   243168302624107310  24316830262012162012             NaN       NaN   \n",
       "3   495498200312007307  49549820032012169791             NaN       NaN   \n",
       "4   308039300543507307  30803930052012175600             NaN       NaN   \n",
       "\n",
       "  SPECIALTY_UPDATED  pred_recall  \n",
       "0                 1   0.60514144  \n",
       "1               NaN  0.555166029  \n",
       "2               NaN  0.520751854  \n",
       "3               NaN  0.269932338  \n",
       "4               NaN  0.290065693  \n",
       "\n",
       "[5 rows x 30 columns]"
      ]
     },
     "execution_count": 15,
     "metadata": {},
     "output_type": "execute_result"
    }
   ],
   "source": [
    "df.head()"
   ]
  },
  {
   "cell_type": "markdown",
   "metadata": {},
   "source": [
    "### Adding RPV results"
   ]
  },
  {
   "cell_type": "code",
   "execution_count": 16,
   "metadata": {},
   "outputs": [
    {
     "data": {
      "text/plain": [
       "3966"
      ]
     },
     "execution_count": 16,
     "metadata": {},
     "output_type": "execute_result"
    }
   ],
   "source": [
    "df = df.merge(rpv_archive, left_on='OFFICE_TELEPHONE', right_on='phone', how='inner')\n",
    "len(df)"
   ]
  },
  {
   "cell_type": "code",
   "execution_count": 17,
   "metadata": {},
   "outputs": [
    {
     "data": {
      "text/html": [
       "<div>\n",
       "<style scoped>\n",
       "    .dataframe tbody tr th:only-of-type {\n",
       "        vertical-align: middle;\n",
       "    }\n",
       "\n",
       "    .dataframe tbody tr th {\n",
       "        vertical-align: top;\n",
       "    }\n",
       "\n",
       "    .dataframe thead th {\n",
       "        text-align: right;\n",
       "    }\n",
       "</style>\n",
       "<table border=\"1\" class=\"dataframe\">\n",
       "  <thead>\n",
       "    <tr style=\"text-align: right;\">\n",
       "      <th></th>\n",
       "      <th>OFFICE_TELEPHONE</th>\n",
       "      <th>PHYSICIAN_ME_NUMBER</th>\n",
       "      <th>PHYSICIAN_FIRST_NAME</th>\n",
       "      <th>PHYSICIAN_MIDDLE_NAME</th>\n",
       "      <th>PHYSICIAN_LAST_NAME</th>\n",
       "      <th>SUFFIX</th>\n",
       "      <th>DEGREE</th>\n",
       "      <th>OFFICE_ADDRESS_LINE_1</th>\n",
       "      <th>OFFICE_ADDRESS_LINE_2</th>\n",
       "      <th>OFFICE_ADDRESS_CITY</th>\n",
       "      <th>...</th>\n",
       "      <th>MATCH_ADDR_LONG</th>\n",
       "      <th>SPECIALTY</th>\n",
       "      <th>SPECIALTY_UPDATED</th>\n",
       "      <th>pred_recall</th>\n",
       "      <th>phone</th>\n",
       "      <th>status</th>\n",
       "      <th>error_text</th>\n",
       "      <th>iscell</th>\n",
       "      <th>carrier</th>\n",
       "      <th>date_checked</th>\n",
       "    </tr>\n",
       "  </thead>\n",
       "  <tbody>\n",
       "    <tr>\n",
       "      <th>0</th>\n",
       "      <td>2013422550</td>\n",
       "      <td>01201041607</td>\n",
       "      <td>HARSHPAL</td>\n",
       "      <td>NaN</td>\n",
       "      <td>SINGH</td>\n",
       "      <td>NaN</td>\n",
       "      <td>NaN</td>\n",
       "      <td>NaN</td>\n",
       "      <td>680 KINDERKAMACK RD STE 300</td>\n",
       "      <td>ORADELL</td>\n",
       "      <td>...</td>\n",
       "      <td>NaN</td>\n",
       "      <td>NS</td>\n",
       "      <td>1</td>\n",
       "      <td>0.440718201</td>\n",
       "      <td>2013422550</td>\n",
       "      <td>connected</td>\n",
       "      <td>NaN</td>\n",
       "      <td>N</td>\n",
       "      <td>Onvoy LLC former Neutral Tandem</td>\n",
       "      <td>2019-09-04</td>\n",
       "    </tr>\n",
       "    <tr>\n",
       "      <th>1</th>\n",
       "      <td>2013586776</td>\n",
       "      <td>13201810111</td>\n",
       "      <td>MIRTA</td>\n",
       "      <td>BEATRIZ</td>\n",
       "      <td>VEBER</td>\n",
       "      <td>NaN</td>\n",
       "      <td>NaN</td>\n",
       "      <td>NaN</td>\n",
       "      <td>773 ROUTE 9W S</td>\n",
       "      <td>NYACK</td>\n",
       "      <td>...</td>\n",
       "      <td>NaN</td>\n",
       "      <td>NPM</td>\n",
       "      <td>1</td>\n",
       "      <td>0.522008626</td>\n",
       "      <td>2013586776</td>\n",
       "      <td>connected</td>\n",
       "      <td>NaN</td>\n",
       "      <td>N</td>\n",
       "      <td>Cablevision Corp</td>\n",
       "      <td>2019-09-04</td>\n",
       "    </tr>\n",
       "    <tr>\n",
       "      <th>2</th>\n",
       "      <td>2013639844</td>\n",
       "      <td>03508041801</td>\n",
       "      <td>DEAN</td>\n",
       "      <td>KIMTON</td>\n",
       "      <td>FONG</td>\n",
       "      <td>NaN</td>\n",
       "      <td>NaN</td>\n",
       "      <td>NaN</td>\n",
       "      <td>185 BRIDGE PLZ N STE 206</td>\n",
       "      <td>FORT LEE</td>\n",
       "      <td>...</td>\n",
       "      <td>NaN</td>\n",
       "      <td>NaN</td>\n",
       "      <td>NaN</td>\n",
       "      <td>0.522008626</td>\n",
       "      <td>2013639844</td>\n",
       "      <td>connected</td>\n",
       "      <td>NaN</td>\n",
       "      <td>V</td>\n",
       "      <td>TimeWarnerCable</td>\n",
       "      <td>2019-09-04</td>\n",
       "    </tr>\n",
       "    <tr>\n",
       "      <th>3</th>\n",
       "      <td>2014181000</td>\n",
       "      <td>49528770044</td>\n",
       "      <td>AFZAL</td>\n",
       "      <td>J</td>\n",
       "      <td>SHEIKH</td>\n",
       "      <td>NaN</td>\n",
       "      <td>NaN</td>\n",
       "      <td>NaN</td>\n",
       "      <td>308 WILLOW AVE</td>\n",
       "      <td>HOBOKEN</td>\n",
       "      <td>...</td>\n",
       "      <td>NaN</td>\n",
       "      <td>AN</td>\n",
       "      <td>1</td>\n",
       "      <td>0.283836401</td>\n",
       "      <td>2014181000</td>\n",
       "      <td>connected</td>\n",
       "      <td>NaN</td>\n",
       "      <td>N</td>\n",
       "      <td>Cablevision Corp</td>\n",
       "      <td>2019-09-25</td>\n",
       "    </tr>\n",
       "    <tr>\n",
       "      <th>4</th>\n",
       "      <td>2014386916</td>\n",
       "      <td>03306050973</td>\n",
       "      <td>ANDREW</td>\n",
       "      <td>HONGSIANG</td>\n",
       "      <td>THE</td>\n",
       "      <td>NaN</td>\n",
       "      <td>NaN</td>\n",
       "      <td>NaN</td>\n",
       "      <td>130 ORIENT WAY STE BB</td>\n",
       "      <td>RUTHERFORD</td>\n",
       "      <td>...</td>\n",
       "      <td>NaN</td>\n",
       "      <td>SME</td>\n",
       "      <td>1</td>\n",
       "      <td>0.555166029</td>\n",
       "      <td>2014386916</td>\n",
       "      <td>connected</td>\n",
       "      <td>NaN</td>\n",
       "      <td>N</td>\n",
       "      <td>Comcast of MD</td>\n",
       "      <td>2019-09-04</td>\n",
       "    </tr>\n",
       "  </tbody>\n",
       "</table>\n",
       "<p>5 rows × 36 columns</p>\n",
       "</div>"
      ],
      "text/plain": [
       "  OFFICE_TELEPHONE PHYSICIAN_ME_NUMBER PHYSICIAN_FIRST_NAME  \\\n",
       "0       2013422550         01201041607             HARSHPAL   \n",
       "1       2013586776         13201810111                MIRTA   \n",
       "2       2013639844         03508041801                 DEAN   \n",
       "3       2014181000         49528770044                AFZAL   \n",
       "4       2014386916         03306050973               ANDREW   \n",
       "\n",
       "  PHYSICIAN_MIDDLE_NAME PHYSICIAN_LAST_NAME SUFFIX  DEGREE  \\\n",
       "0                   NaN               SINGH    NaN     NaN   \n",
       "1               BEATRIZ               VEBER    NaN     NaN   \n",
       "2                KIMTON                FONG    NaN     NaN   \n",
       "3                     J              SHEIKH    NaN     NaN   \n",
       "4             HONGSIANG                 THE    NaN     NaN   \n",
       "\n",
       "  OFFICE_ADDRESS_LINE_1        OFFICE_ADDRESS_LINE_2 OFFICE_ADDRESS_CITY  \\\n",
       "0                   NaN  680 KINDERKAMACK RD STE 300             ORADELL   \n",
       "1                   NaN               773 ROUTE 9W S               NYACK   \n",
       "2                   NaN     185 BRIDGE PLZ N STE 206            FORT LEE   \n",
       "3                   NaN               308 WILLOW AVE             HOBOKEN   \n",
       "4                   NaN        130 ORIENT WAY STE BB          RUTHERFORD   \n",
       "\n",
       "      ...      MATCH_ADDR_LONG SPECIALTY SPECIALTY_UPDATED  pred_recall  \\\n",
       "0     ...                  NaN        NS                 1  0.440718201   \n",
       "1     ...                  NaN       NPM                 1  0.522008626   \n",
       "2     ...                  NaN       NaN               NaN  0.522008626   \n",
       "3     ...                  NaN        AN                 1  0.283836401   \n",
       "4     ...                  NaN       SME                 1  0.555166029   \n",
       "\n",
       "        phone     status error_text iscell                          carrier  \\\n",
       "0  2013422550  connected        NaN      N  Onvoy LLC former Neutral Tandem   \n",
       "1  2013586776  connected        NaN      N                 Cablevision Corp   \n",
       "2  2013639844  connected        NaN      V                  TimeWarnerCable   \n",
       "3  2014181000  connected        NaN      N                 Cablevision Corp   \n",
       "4  2014386916  connected        NaN      N                    Comcast of MD   \n",
       "\n",
       "  date_checked  \n",
       "0   2019-09-04  \n",
       "1   2019-09-04  \n",
       "2   2019-09-04  \n",
       "3   2019-09-25  \n",
       "4   2019-09-04  \n",
       "\n",
       "[5 rows x 36 columns]"
      ]
     },
     "execution_count": 17,
     "metadata": {},
     "output_type": "execute_result"
    }
   ],
   "source": [
    "df.head()"
   ]
  },
  {
   "cell_type": "markdown",
   "metadata": {},
   "source": [
    "### Encoding target"
   ]
  },
  {
   "cell_type": "code",
   "execution_count": 18,
   "metadata": {},
   "outputs": [],
   "source": [
    "df['isDisconnected'] = df['COMMENTS'].apply(lambda x: 1 if x=='NOT IN SERVICE' else 0)"
   ]
  },
  {
   "cell_type": "markdown",
   "metadata": {},
   "source": [
    "### Reducing data to RPV results + scored probability + target"
   ]
  },
  {
   "cell_type": "code",
   "execution_count": 19,
   "metadata": {},
   "outputs": [],
   "source": [
    "Xy = df[['phone','status','iscell','carrier','isDisconnected']]"
   ]
  },
  {
   "cell_type": "markdown",
   "metadata": {},
   "source": [
    "### RPV's precision and recall by itself"
   ]
  },
  {
   "cell_type": "code",
   "execution_count": 20,
   "metadata": {},
   "outputs": [
    {
     "data": {
      "text/html": [
       "<div>\n",
       "<style scoped>\n",
       "    .dataframe tbody tr th:only-of-type {\n",
       "        vertical-align: middle;\n",
       "    }\n",
       "\n",
       "    .dataframe tbody tr th {\n",
       "        vertical-align: top;\n",
       "    }\n",
       "\n",
       "    .dataframe thead th {\n",
       "        text-align: right;\n",
       "    }\n",
       "</style>\n",
       "<table border=\"1\" class=\"dataframe\">\n",
       "  <thead>\n",
       "    <tr style=\"text-align: right;\">\n",
       "      <th></th>\n",
       "      <th>phone</th>\n",
       "      <th>status</th>\n",
       "      <th>iscell</th>\n",
       "      <th>carrier</th>\n",
       "      <th>isDisconnected</th>\n",
       "    </tr>\n",
       "  </thead>\n",
       "  <tbody>\n",
       "    <tr>\n",
       "      <th>0</th>\n",
       "      <td>2013422550</td>\n",
       "      <td>connected</td>\n",
       "      <td>N</td>\n",
       "      <td>Onvoy LLC former Neutral Tandem</td>\n",
       "      <td>0</td>\n",
       "    </tr>\n",
       "    <tr>\n",
       "      <th>1</th>\n",
       "      <td>2013586776</td>\n",
       "      <td>connected</td>\n",
       "      <td>N</td>\n",
       "      <td>Cablevision Corp</td>\n",
       "      <td>1</td>\n",
       "    </tr>\n",
       "    <tr>\n",
       "      <th>2</th>\n",
       "      <td>2013639844</td>\n",
       "      <td>connected</td>\n",
       "      <td>V</td>\n",
       "      <td>TimeWarnerCable</td>\n",
       "      <td>0</td>\n",
       "    </tr>\n",
       "    <tr>\n",
       "      <th>3</th>\n",
       "      <td>2014181000</td>\n",
       "      <td>connected</td>\n",
       "      <td>N</td>\n",
       "      <td>Cablevision Corp</td>\n",
       "      <td>0</td>\n",
       "    </tr>\n",
       "    <tr>\n",
       "      <th>4</th>\n",
       "      <td>2014386916</td>\n",
       "      <td>connected</td>\n",
       "      <td>N</td>\n",
       "      <td>Comcast of MD</td>\n",
       "      <td>0</td>\n",
       "    </tr>\n",
       "  </tbody>\n",
       "</table>\n",
       "</div>"
      ],
      "text/plain": [
       "        phone     status iscell                          carrier  \\\n",
       "0  2013422550  connected      N  Onvoy LLC former Neutral Tandem   \n",
       "1  2013586776  connected      N                 Cablevision Corp   \n",
       "2  2013639844  connected      V                  TimeWarnerCable   \n",
       "3  2014181000  connected      N                 Cablevision Corp   \n",
       "4  2014386916  connected      N                    Comcast of MD   \n",
       "\n",
       "   isDisconnected  \n",
       "0               0  \n",
       "1               1  \n",
       "2               0  \n",
       "3               0  \n",
       "4               0  "
      ]
     },
     "execution_count": 20,
     "metadata": {},
     "output_type": "execute_result"
    }
   ],
   "source": [
    "Xy.head()"
   ]
  },
  {
   "cell_type": "code",
   "execution_count": 23,
   "metadata": {},
   "outputs": [
    {
     "name": "stdout",
     "output_type": "stream",
     "text": [
      "Precision: 0.341\n",
      "Recall: 0.543\n"
     ]
    }
   ],
   "source": [
    "rpv_pred = [1 if s in ['disconnected', 'disconnected-70'] else 0 for s in Xy['status'].values]\n",
    "target = Xy['isDisconnected'].values\n",
    "\n",
    "print('Precision:', round(metrics.precision_score(y_pred=rpv_pred, y_true=target),3))\n",
    "print('Recall:', round(metrics.recall_score(y_pred=rpv_pred, y_true=target),3))\n"
   ]
  },
  {
   "cell_type": "markdown",
   "metadata": {},
   "source": [
    "# Can we improve RPV's results with machine learning using just RPV results?"
   ]
  },
  {
   "cell_type": "markdown",
   "metadata": {},
   "source": [
    "### Encoding RPV status\n",
    "\n",
    "If we think about it, the RPV status is ordinal data.\n",
    "\n",
    "It can be ranked on a spectrum from connected to disconnected."
   ]
  },
  {
   "cell_type": "code",
   "execution_count": 24,
   "metadata": {},
   "outputs": [],
   "source": [
    "statuses = {\n",
    "    'disconnected':4,\n",
    "    'disconnected-70':3,\n",
    "    'connected-75':2,\n",
    "    'connected':1\n",
    "}\n",
    "\n",
    "def get_rank(status):\n",
    "    if status in statuses:\n",
    "        return statuses[status]\n",
    "    return None"
   ]
  },
  {
   "cell_type": "code",
   "execution_count": 25,
   "metadata": {},
   "outputs": [
    {
     "name": "stderr",
     "output_type": "stream",
     "text": [
      "C:\\Users\\glappe\\anaconda3\\lib\\site-packages\\ipykernel_launcher.py:1: SettingWithCopyWarning: \n",
      "A value is trying to be set on a copy of a slice from a DataFrame.\n",
      "Try using .loc[row_indexer,col_indexer] = value instead\n",
      "\n",
      "See the caveats in the documentation: http://pandas.pydata.org/pandas-docs/stable/indexing.html#indexing-view-versus-copy\n",
      "  \"\"\"Entry point for launching an IPython kernel.\n"
     ]
    }
   ],
   "source": [
    "Xy['rpv_dc'] = Xy['status'].apply(lambda x: statuses[x] if x in statuses else 0)"
   ]
  },
  {
   "cell_type": "code",
   "execution_count": 26,
   "metadata": {},
   "outputs": [
    {
     "data": {
      "text/plain": [
       "0      1\n",
       "7      4\n",
       "9      3\n",
       "241    2\n",
       "425    0\n",
       "Name: rpv_dc, dtype: int64"
      ]
     },
     "execution_count": 26,
     "metadata": {},
     "output_type": "execute_result"
    }
   ],
   "source": [
    "Xy['rpv_dc'].drop_duplicates()"
   ]
  },
  {
   "cell_type": "code",
   "execution_count": 27,
   "metadata": {},
   "outputs": [
    {
     "data": {
      "text/plain": [
       "3966"
      ]
     },
     "execution_count": 27,
     "metadata": {},
     "output_type": "execute_result"
    }
   ],
   "source": [
    "len(Xy)"
   ]
  },
  {
   "cell_type": "code",
   "execution_count": 28,
   "metadata": {},
   "outputs": [
    {
     "data": {
      "text/plain": [
       "3966"
      ]
     },
     "execution_count": 28,
     "metadata": {},
     "output_type": "execute_result"
    }
   ],
   "source": [
    "Xy = Xy[np.isfinite(Xy['rpv_dc'])]  # dropping rows where the 'rpv_dc' is null\n",
    "len(Xy)"
   ]
  },
  {
   "cell_type": "code",
   "execution_count": 30,
   "metadata": {},
   "outputs": [
    {
     "data": {
      "text/html": [
       "<div>\n",
       "<style scoped>\n",
       "    .dataframe tbody tr th:only-of-type {\n",
       "        vertical-align: middle;\n",
       "    }\n",
       "\n",
       "    .dataframe tbody tr th {\n",
       "        vertical-align: top;\n",
       "    }\n",
       "\n",
       "    .dataframe thead th {\n",
       "        text-align: right;\n",
       "    }\n",
       "</style>\n",
       "<table border=\"1\" class=\"dataframe\">\n",
       "  <thead>\n",
       "    <tr style=\"text-align: right;\">\n",
       "      <th></th>\n",
       "      <th>phone</th>\n",
       "      <th>status</th>\n",
       "      <th>iscell</th>\n",
       "      <th>carrier</th>\n",
       "      <th>isDisconnected</th>\n",
       "      <th>rpv_dc</th>\n",
       "    </tr>\n",
       "  </thead>\n",
       "  <tbody>\n",
       "    <tr>\n",
       "      <th>0</th>\n",
       "      <td>2013422550</td>\n",
       "      <td>connected</td>\n",
       "      <td>N</td>\n",
       "      <td>Onvoy LLC former Neutral Tandem</td>\n",
       "      <td>0</td>\n",
       "      <td>1</td>\n",
       "    </tr>\n",
       "    <tr>\n",
       "      <th>1</th>\n",
       "      <td>2013586776</td>\n",
       "      <td>connected</td>\n",
       "      <td>N</td>\n",
       "      <td>Cablevision Corp</td>\n",
       "      <td>1</td>\n",
       "      <td>1</td>\n",
       "    </tr>\n",
       "    <tr>\n",
       "      <th>2</th>\n",
       "      <td>2013639844</td>\n",
       "      <td>connected</td>\n",
       "      <td>V</td>\n",
       "      <td>TimeWarnerCable</td>\n",
       "      <td>0</td>\n",
       "      <td>1</td>\n",
       "    </tr>\n",
       "    <tr>\n",
       "      <th>3</th>\n",
       "      <td>2014181000</td>\n",
       "      <td>connected</td>\n",
       "      <td>N</td>\n",
       "      <td>Cablevision Corp</td>\n",
       "      <td>0</td>\n",
       "      <td>1</td>\n",
       "    </tr>\n",
       "    <tr>\n",
       "      <th>4</th>\n",
       "      <td>2014386916</td>\n",
       "      <td>connected</td>\n",
       "      <td>N</td>\n",
       "      <td>Comcast of MD</td>\n",
       "      <td>0</td>\n",
       "      <td>1</td>\n",
       "    </tr>\n",
       "  </tbody>\n",
       "</table>\n",
       "</div>"
      ],
      "text/plain": [
       "        phone     status iscell                          carrier  \\\n",
       "0  2013422550  connected      N  Onvoy LLC former Neutral Tandem   \n",
       "1  2013586776  connected      N                 Cablevision Corp   \n",
       "2  2013639844  connected      V                  TimeWarnerCable   \n",
       "3  2014181000  connected      N                 Cablevision Corp   \n",
       "4  2014386916  connected      N                    Comcast of MD   \n",
       "\n",
       "   isDisconnected  rpv_dc  \n",
       "0               0       1  \n",
       "1               1       1  \n",
       "2               0       1  \n",
       "3               0       1  \n",
       "4               0       1  "
      ]
     },
     "execution_count": 30,
     "metadata": {},
     "output_type": "execute_result"
    }
   ],
   "source": [
    "Xy.head()"
   ]
  },
  {
   "cell_type": "code",
   "execution_count": 31,
   "metadata": {},
   "outputs": [
    {
     "data": {
      "text/plain": [
       "iscell\n",
       "        1\n",
       "N    3721\n",
       "V     228\n",
       "Y      15\n",
       "dtype: int64"
      ]
     },
     "execution_count": 31,
     "metadata": {},
     "output_type": "execute_result"
    }
   ],
   "source": [
    "Xy.groupby('iscell').size()"
   ]
  },
  {
   "cell_type": "code",
   "execution_count": 32,
   "metadata": {},
   "outputs": [],
   "source": [
    "Xy['isCell_Y'] = Xy['iscell'].apply(lambda x: 1 if x=='Y' else 0)\n",
    "Xy['isCell_V'] = Xy['iscell'].apply(lambda x: 1 if x=='V' else 0)\n",
    "Xy.drop(columns='iscell', axis=1, inplace=True)"
   ]
  },
  {
   "cell_type": "code",
   "execution_count": 33,
   "metadata": {},
   "outputs": [
    {
     "data": {
      "text/plain": [
       "phone             object\n",
       "status            object\n",
       "carrier           object\n",
       "isDisconnected     int64\n",
       "rpv_dc             int64\n",
       "isCell_Y           int64\n",
       "isCell_V           int64\n",
       "dtype: object"
      ]
     },
     "execution_count": 33,
     "metadata": {},
     "output_type": "execute_result"
    }
   ],
   "source": [
    "Xy.dtypes"
   ]
  },
  {
   "cell_type": "code",
   "execution_count": 34,
   "metadata": {},
   "outputs": [],
   "source": [
    "Xy['area'] = Xy['phone'].apply(lambda x: x[:3]).astype('category')\n",
    "Xy['area_prefix'] = Xy['phone'].apply(lambda x: x[:6]).astype('category')\n",
    "Xy['carrier'] = Xy['carrier'].astype('category')\n",
    "Xy = Xy.set_index('phone')\n",
    "Xy.drop(columns='status', axis=1, inplace=True)\n"
   ]
  },
  {
   "cell_type": "code",
   "execution_count": 35,
   "metadata": {},
   "outputs": [
    {
     "data": {
      "text/html": [
       "<div>\n",
       "<style scoped>\n",
       "    .dataframe tbody tr th:only-of-type {\n",
       "        vertical-align: middle;\n",
       "    }\n",
       "\n",
       "    .dataframe tbody tr th {\n",
       "        vertical-align: top;\n",
       "    }\n",
       "\n",
       "    .dataframe thead th {\n",
       "        text-align: right;\n",
       "    }\n",
       "</style>\n",
       "<table border=\"1\" class=\"dataframe\">\n",
       "  <thead>\n",
       "    <tr style=\"text-align: right;\">\n",
       "      <th></th>\n",
       "      <th>carrier</th>\n",
       "      <th>isDisconnected</th>\n",
       "      <th>rpv_dc</th>\n",
       "      <th>isCell_Y</th>\n",
       "      <th>isCell_V</th>\n",
       "      <th>area</th>\n",
       "      <th>area_prefix</th>\n",
       "    </tr>\n",
       "    <tr>\n",
       "      <th>phone</th>\n",
       "      <th></th>\n",
       "      <th></th>\n",
       "      <th></th>\n",
       "      <th></th>\n",
       "      <th></th>\n",
       "      <th></th>\n",
       "      <th></th>\n",
       "    </tr>\n",
       "  </thead>\n",
       "  <tbody>\n",
       "    <tr>\n",
       "      <th>2013422550</th>\n",
       "      <td>Onvoy LLC former Neutral Tandem</td>\n",
       "      <td>0</td>\n",
       "      <td>1</td>\n",
       "      <td>0</td>\n",
       "      <td>0</td>\n",
       "      <td>201</td>\n",
       "      <td>201342</td>\n",
       "    </tr>\n",
       "    <tr>\n",
       "      <th>2013586776</th>\n",
       "      <td>Cablevision Corp</td>\n",
       "      <td>1</td>\n",
       "      <td>1</td>\n",
       "      <td>0</td>\n",
       "      <td>0</td>\n",
       "      <td>201</td>\n",
       "      <td>201358</td>\n",
       "    </tr>\n",
       "    <tr>\n",
       "      <th>2013639844</th>\n",
       "      <td>TimeWarnerCable</td>\n",
       "      <td>0</td>\n",
       "      <td>1</td>\n",
       "      <td>0</td>\n",
       "      <td>1</td>\n",
       "      <td>201</td>\n",
       "      <td>201363</td>\n",
       "    </tr>\n",
       "    <tr>\n",
       "      <th>2014181000</th>\n",
       "      <td>Cablevision Corp</td>\n",
       "      <td>0</td>\n",
       "      <td>1</td>\n",
       "      <td>0</td>\n",
       "      <td>0</td>\n",
       "      <td>201</td>\n",
       "      <td>201418</td>\n",
       "    </tr>\n",
       "    <tr>\n",
       "      <th>2014386916</th>\n",
       "      <td>Comcast of MD</td>\n",
       "      <td>0</td>\n",
       "      <td>1</td>\n",
       "      <td>0</td>\n",
       "      <td>0</td>\n",
       "      <td>201</td>\n",
       "      <td>201438</td>\n",
       "    </tr>\n",
       "  </tbody>\n",
       "</table>\n",
       "</div>"
      ],
      "text/plain": [
       "                                    carrier  isDisconnected  rpv_dc  isCell_Y  \\\n",
       "phone                                                                           \n",
       "2013422550  Onvoy LLC former Neutral Tandem               0       1         0   \n",
       "2013586776                 Cablevision Corp               1       1         0   \n",
       "2013639844                  TimeWarnerCable               0       1         0   \n",
       "2014181000                 Cablevision Corp               0       1         0   \n",
       "2014386916                    Comcast of MD               0       1         0   \n",
       "\n",
       "            isCell_V area area_prefix  \n",
       "phone                                  \n",
       "2013422550         0  201      201342  \n",
       "2013586776         0  201      201358  \n",
       "2013639844         1  201      201363  \n",
       "2014181000         0  201      201418  \n",
       "2014386916         0  201      201438  "
      ]
     },
     "execution_count": 35,
     "metadata": {},
     "output_type": "execute_result"
    }
   ],
   "source": [
    "Xy.head()"
   ]
  },
  {
   "cell_type": "code",
   "execution_count": 36,
   "metadata": {},
   "outputs": [
    {
     "data": {
      "text/plain": [
       "True"
      ]
     },
     "execution_count": 36,
     "metadata": {},
     "output_type": "execute_result"
    }
   ],
   "source": [
    "y = Xy['isDisconnected']\n",
    "X = Xy.drop(columns='isDisconnected', axis=1)\n",
    "len(X) == len(y)"
   ]
  },
  {
   "cell_type": "code",
   "execution_count": 37,
   "metadata": {},
   "outputs": [
    {
     "data": {
      "text/plain": [
       "carrier        category\n",
       "rpv_dc            int64\n",
       "isCell_Y          int64\n",
       "isCell_V          int64\n",
       "area           category\n",
       "area_prefix    category\n",
       "dtype: object"
      ]
     },
     "execution_count": 37,
     "metadata": {},
     "output_type": "execute_result"
    }
   ],
   "source": [
    "X.dtypes"
   ]
  },
  {
   "cell_type": "markdown",
   "metadata": {},
   "source": [
    "### Viewing most common phone line carriers"
   ]
  },
  {
   "cell_type": "code",
   "execution_count": 91,
   "metadata": {
    "scrolled": true
   },
   "outputs": [
    {
     "data": {
      "text/html": [
       "<div>\n",
       "<style scoped>\n",
       "    .dataframe tbody tr th:only-of-type {\n",
       "        vertical-align: middle;\n",
       "    }\n",
       "\n",
       "    .dataframe tbody tr th {\n",
       "        vertical-align: top;\n",
       "    }\n",
       "\n",
       "    .dataframe thead th {\n",
       "        text-align: right;\n",
       "    }\n",
       "</style>\n",
       "<table border=\"1\" class=\"dataframe\">\n",
       "  <thead>\n",
       "    <tr style=\"text-align: right;\">\n",
       "      <th></th>\n",
       "      <th>carrier</th>\n",
       "      <th>count</th>\n",
       "    </tr>\n",
       "  </thead>\n",
       "  <tbody>\n",
       "    <tr>\n",
       "      <th>0</th>\n",
       "      <td>TCG</td>\n",
       "      <td>285</td>\n",
       "    </tr>\n",
       "    <tr>\n",
       "      <th>1</th>\n",
       "      <td>Verizon</td>\n",
       "      <td>274</td>\n",
       "    </tr>\n",
       "    <tr>\n",
       "      <th>2</th>\n",
       "      <td>Level 3</td>\n",
       "      <td>252</td>\n",
       "    </tr>\n",
       "    <tr>\n",
       "      <th>3</th>\n",
       "      <td>Pacific Bell - Nevada Bell</td>\n",
       "      <td>182</td>\n",
       "    </tr>\n",
       "    <tr>\n",
       "      <th>4</th>\n",
       "      <td>Qwest Communications</td>\n",
       "      <td>180</td>\n",
       "    </tr>\n",
       "    <tr>\n",
       "      <th>5</th>\n",
       "      <td>Comcast Phone</td>\n",
       "      <td>179</td>\n",
       "    </tr>\n",
       "    <tr>\n",
       "      <th>6</th>\n",
       "      <td>BellSouth</td>\n",
       "      <td>170</td>\n",
       "    </tr>\n",
       "    <tr>\n",
       "      <th>7</th>\n",
       "      <td>BANDWIDTH.COM</td>\n",
       "      <td>157</td>\n",
       "    </tr>\n",
       "    <tr>\n",
       "      <th>8</th>\n",
       "      <td>Ameritech</td>\n",
       "      <td>154</td>\n",
       "    </tr>\n",
       "    <tr>\n",
       "      <th>9</th>\n",
       "      <td>SouthWestern Bell</td>\n",
       "      <td>144</td>\n",
       "    </tr>\n",
       "    <tr>\n",
       "      <th>10</th>\n",
       "      <td>TimeWarnerCable</td>\n",
       "      <td>132</td>\n",
       "    </tr>\n",
       "    <tr>\n",
       "      <th>11</th>\n",
       "      <td>PAETEC</td>\n",
       "      <td>130</td>\n",
       "    </tr>\n",
       "    <tr>\n",
       "      <th>12</th>\n",
       "      <td>Frontier Rochester</td>\n",
       "      <td>116</td>\n",
       "    </tr>\n",
       "    <tr>\n",
       "      <th>13</th>\n",
       "      <td>tw telecom</td>\n",
       "      <td>78</td>\n",
       "    </tr>\n",
       "    <tr>\n",
       "      <th>14</th>\n",
       "      <td>Onvoy LLC former Neutral Tandem</td>\n",
       "      <td>70</td>\n",
       "    </tr>\n",
       "    <tr>\n",
       "      <th>15</th>\n",
       "      <td>CenturyLink</td>\n",
       "      <td>66</td>\n",
       "    </tr>\n",
       "    <tr>\n",
       "      <th>16</th>\n",
       "      <td>MCImetro Former Worldcom</td>\n",
       "      <td>61</td>\n",
       "    </tr>\n",
       "    <tr>\n",
       "      <th>17</th>\n",
       "      <td>Comcast Phone LLC</td>\n",
       "      <td>60</td>\n",
       "    </tr>\n",
       "    <tr>\n",
       "      <th>18</th>\n",
       "      <td>Cox Communications</td>\n",
       "      <td>57</td>\n",
       "    </tr>\n",
       "    <tr>\n",
       "      <th>19</th>\n",
       "      <td>Charter Fiber</td>\n",
       "      <td>44</td>\n",
       "    </tr>\n",
       "  </tbody>\n",
       "</table>\n",
       "</div>"
      ],
      "text/plain": [
       "                            carrier  count\n",
       "0                               TCG    285\n",
       "1                           Verizon    274\n",
       "2                           Level 3    252\n",
       "3        Pacific Bell - Nevada Bell    182\n",
       "4              Qwest Communications    180\n",
       "5                     Comcast Phone    179\n",
       "6                         BellSouth    170\n",
       "7                     BANDWIDTH.COM    157\n",
       "8                         Ameritech    154\n",
       "9                 SouthWestern Bell    144\n",
       "10                  TimeWarnerCable    132\n",
       "11                           PAETEC    130\n",
       "12               Frontier Rochester    116\n",
       "13                       tw telecom     78\n",
       "14  Onvoy LLC former Neutral Tandem     70\n",
       "15                      CenturyLink     66\n",
       "16         MCImetro Former Worldcom     61\n",
       "17                Comcast Phone LLC     60\n",
       "18               Cox Communications     57\n",
       "19                    Charter Fiber     44"
      ]
     },
     "execution_count": 91,
     "metadata": {},
     "output_type": "execute_result"
    }
   ],
   "source": [
    "cc = Xy.groupby('carrier').size().sort_values(ascending=False).reset_index().rename(columns={0: 'count'})\n",
    "cc[:20]"
   ]
  },
  {
   "cell_type": "code",
   "execution_count": 92,
   "metadata": {},
   "outputs": [
    {
     "data": {
      "text/plain": [
       "{'TCG': 285,\n",
       " 'Verizon': 274,\n",
       " 'Level 3': 252,\n",
       " 'Pacific Bell - Nevada Bell': 182,\n",
       " 'Qwest Communications': 180,\n",
       " 'Comcast Phone': 179,\n",
       " 'BellSouth': 170,\n",
       " 'BANDWIDTH.COM': 157,\n",
       " 'Ameritech': 154,\n",
       " 'SouthWestern Bell': 144,\n",
       " 'TimeWarnerCable': 132,\n",
       " 'PAETEC': 130,\n",
       " 'Frontier Rochester': 116,\n",
       " 'tw telecom': 78,\n",
       " 'Onvoy LLC former Neutral Tandem': 70,\n",
       " 'CenturyLink': 66,\n",
       " 'MCImetro Former Worldcom': 61,\n",
       " 'Comcast Phone LLC': 60,\n",
       " 'Cox Communications': 57,\n",
       " 'Charter Fiber': 44,\n",
       " 'BHNIS - Florida, LLC': 41,\n",
       " '(UNKNOWN)': 41,\n",
       " 'Windstream SL': 35,\n",
       " 'Lightpath Cable': 34,\n",
       " 'Comcast Phone FL': 34,\n",
       " 'MCImetro Former MCI': 33,\n",
       " 'TelePacific': 28,\n",
       " 'Vonage': 28,\n",
       " 'Qwest Comms Company, LLC': 27,\n",
       " 'SBC IP': 23,\n",
       " 'Cablevision-OptimumLightpath': 22,\n",
       " 'Cincinnati Bell Tel': 22,\n",
       " 'RingCentral': 21,\n",
       " 'McLeod USA': 21,\n",
       " 'NuVox Communications': 21,\n",
       " 'Comcast Phone NER': 21,\n",
       " 'Frontier Communications': 19,\n",
       " 'Cablevision Corp': 18,\n",
       " 'Comcast of MD': 17,\n",
       " 'Broadview Networks': 16,\n",
       " 'Peerless': 16,\n",
       " 'Verizon FDV': 15,\n",
       " 'CTE Services': 15,\n",
       " 'CTC Communications': 14,\n",
       " 'Comcast Phone GA': 14,\n",
       " 'Puerto Rico Telephone': 14,\n",
       " 'Suddenlink': 14,\n",
       " 'Comcast Telecommunications of Michigan': 13,\n",
       " 'Frontier America': 12,\n",
       " 'FairPoint Communications': 12,\n",
       " 'Airus, Inc.': 11,\n",
       " 'MCImetro Former Brooks': 11,\n",
       " 'DeltaCom, Inc': 11,\n",
       " 'Hawaiian Telcom': 10,\n",
       " 'Liberty Cablevision': 9,\n",
       " 'Cbeyond': 9,\n",
       " 'XO Communications PA': 9,\n",
       " 'CenturyTel Solutions': 9,\n",
       " 'Adelphia Business-Telcove': 9,\n",
       " 'Consolidated Comm. Ent.': 9,\n",
       " 'Cavalier Telephone': 8,\n",
       " 'MCImetro Former Intermedia': 8,\n",
       " 'Hypercube Telecom, LLC': 7,\n",
       " 'Knology': 7,\n",
       " 'Cablevision-OptimumVoice': 7,\n",
       " 'Centennial Ops Corp': 7,\n",
       " 'TDS Telecommunications': 7,\n",
       " 'First Comm': 7,\n",
       " 'Eschelon Telecom': 7,\n",
       " 'Lumos Networks Inc': 7,\n",
       " 'Logix Comm - TX': 7,\n",
       " 'XO Communications-NY': 7,\n",
       " 'Integra  Oregon': 6,\n",
       " 'Northland': 6,\n",
       " 'One Communications': 6,\n",
       " 'SIGECOM': 6,\n",
       " 'IDT America': 5,\n",
       " 'Freedom Ring Communications': 5,\n",
       " 'Allegiance Telecom, Inc.': 5,\n",
       " 'EPB': 5,\n",
       " 'Grande Commun': 5,\n",
       " 'Google Voice': 5,\n",
       " 'Tel West Services': 5,\n",
       " 'Tech Valley Communications': 5,\n",
       " 'Block Line Systems, LLC': 5,\n",
       " 'Cimco Communications': 5,\n",
       " 'Bell Canada Ontario': 5,\n",
       " 'Verizon Wireless': 4,\n",
       " '123.Net': 4,\n",
       " 'Cablevision CT': 4,\n",
       " 'RLEC': 4,\n",
       " 'Mid Continent Comm': 4,\n",
       " 'XO Communications-CA': 4,\n",
       " 'RCN': 4,\n",
       " 'Integra Telecom': 4,\n",
       " 'ATI': 4,\n",
       " 'Atlantic Telephone Membership Corp': 4,\n",
       " 'magicJack,LP': 4,\n",
       " 'AT&T Wireless': 4,\n",
       " 'X5Solutions-ATLC': 4,\n",
       " 'Harbor Communication': 3,\n",
       " 'Grid4 Comm': 3,\n",
       " 'FrontierPA CTCO': 3,\n",
       " 'E. Ritter Communications': 3,\n",
       " 'Flowroute Inc': 3,\n",
       " 'Finger Lakes Tech, Inc': 3,\n",
       " 'Onvoy': 3,\n",
       " 'Consolidated Comm of CA Co.': 3,\n",
       " 'Tim Ron Enterprises, LLC': 3,\n",
       " 'Valor Telecom': 3,\n",
       " 'Windstream MW': 3,\n",
       " 'Access One, Inc': 3,\n",
       " 'Access Integrated Networks': 3,\n",
       " 'XO Communications NJ': 3,\n",
       " 'Oxford Networks': 3,\n",
       " 'XO Communications-GA': 3,\n",
       " 'CONSOLIDATED COMM ENT SVC': 3,\n",
       " 'Telnet Worldwide': 3,\n",
       " 'US Xchange': 3,\n",
       " 'FTC(Diversified Services)': 2,\n",
       " 'Cinergy Metronet': 2,\n",
       " 'FirstDigital Telecom, LLC': 2,\n",
       " 'Alliance Connect': 2,\n",
       " 'Telepak Networks, Inc': 2,\n",
       " 'FairPoint Communication': 2,\n",
       " 'Veracity Communications': 2,\n",
       " 'Exiant Communications LLC': 2,\n",
       " 'VERIZON MARYLAND, INC.': 2,\n",
       " 'Atlantech': 2,\n",
       " 'XO Communications MA': 2,\n",
       " 'DFT Local Service Corporation': 2,\n",
       " 'Cooperative Communications': 2,\n",
       " 'CommuniGroup': 2,\n",
       " 'XO Communications-TN': 2,\n",
       " 'Mid Maine TelPlus': 2,\n",
       " 'Mediacom': 2,\n",
       " 'T-Mobile US': 2,\n",
       " 'BHNIS - Alabana, LLC': 2,\n",
       " 'O1 Communications': 2,\n",
       " 'Sprint PCS': 2,\n",
       " 'HRS INTERNET, LLC DBA LIGHTBOUND - IN': 2,\n",
       " 'Service Electric Telephone': 2,\n",
       " 'Biddeford Internet Corportation': 2,\n",
       " 'Global Telecom Brokers': 2,\n",
       " 'South Carolina Net': 2,\n",
       " 'BERMUDA DIGITAL COMMUNICATIONS LTD.': 1,\n",
       " 'Buckeye Communications': 1,\n",
       " 'CRC Communications of Maine': 1,\n",
       " 'CRC Communications': 1,\n",
       " 'ACS': 1,\n",
       " 'COX VIRGINIA TELCOM, INC. - VA': 1,\n",
       " 'AmaTechtel': 1,\n",
       " 'Consolidated Comm': 1,\n",
       " 'CODETEL': 1,\n",
       " 'CCES fka Idea One': 1,\n",
       " 'Business Telecom, Inc': 1,\n",
       " 'Central Texas Telephone': 1,\n",
       " 'Allstream Corp': 1,\n",
       " 'Aeneas Communications, LLC': 1,\n",
       " 'Bixby Telephone Company': 1,\n",
       " 'BitWise Communications, Inc': 1,\n",
       " 'Clarity Tel DBA Vast BBD': 1,\n",
       " 'Bell Mobility': 1,\n",
       " 'BHNIS - Michigan, LLC': 1,\n",
       " 'Chillicothe Telephone Company': 1,\n",
       " 'Choice One Communications': 1,\n",
       " 'Astound Broadband LLC': 1,\n",
       " 'Hunter Communications-ATLC': 1,\n",
       " 'Consolidated Comm. of Texas': 1,\n",
       " 'TELUS East': 1,\n",
       " 'PlateauTelecom': 1,\n",
       " 'Quantum Telecommunications Inc': 1,\n",
       " 'Reserve Telecom': 1,\n",
       " 'Ringgold Telephone Company': 1,\n",
       " 'Rock Hill Telephone Company': 1,\n",
       " 'Rogers': 1,\n",
       " 'Ronan Telephone Company': 1,\n",
       " 'SHAW Telecom': 1,\n",
       " 'Saddleback Communications': 1,\n",
       " 'Servpac Inc': 1,\n",
       " 'SmartCom Telephone LLC': 1,\n",
       " 'Sonic Telecom, LLC': 1,\n",
       " 'T3 Communications, LLC': 1,\n",
       " 'TDS Metrocom': 1,\n",
       " 'TSC Communications': 1,\n",
       " 'Peninsula Fiber Network': 1,\n",
       " 'Telebroad, LLC': 1,\n",
       " 'Telnyx LLC': 1,\n",
       " 'Tri Tel Inc': 1,\n",
       " 'Utility Telephone': 1,\n",
       " 'Val Ed': 1,\n",
       " 'Warwick Valley Telephone Co': 1,\n",
       " 'Worldnet Telecommunications': 1,\n",
       " 'XO Communications FL': 1,\n",
       " 'XO Communications MD': 1,\n",
       " 'XO Communications-CO': 1,\n",
       " 'XO Communications-IL': 1,\n",
       " 'XO Communications-NV': 1,\n",
       " 'XO Communications-TX': 1,\n",
       " 'XO Communications-WA': 1,\n",
       " 'Planters Rural Tel. Co-op': 1,\n",
       " 'Paul Bunyan Rural Telephone': 1,\n",
       " 'Consolidated Telephone': 1,\n",
       " 'Hawaiian Telecom': 1,\n",
       " 'Dalton Utilities': 1,\n",
       " 'Delta Communications': 1,\n",
       " 'Digital Connections Inc.': 1,\n",
       " 'Distributel Comm': 1,\n",
       " 'DoveTel Communications, LLC': 1,\n",
       " 'East Ascension Telephone': 1,\n",
       " 'ElectroNet-SNET': 1,\n",
       " 'FiberComm': 1,\n",
       " 'Focal': 1,\n",
       " 'GCI COMMUNICATION CORP. DBA GENERAL COMM': 1,\n",
       " 'General Communications': 1,\n",
       " 'HTC Communications': 1,\n",
       " 'Hargray Telephone Company, Inc': 1,\n",
       " 'Hargray of Georgia': 1,\n",
       " 'Hinton Telephone Company': 1,\n",
       " 'Pathwayz Communications': 1,\n",
       " 'Horry Telephone Coop': 1,\n",
       " 'Hunt Brothers of LA': 1,\n",
       " 'ImOn Communications': 1,\n",
       " 'Indigital Tele': 1,\n",
       " 'Integra WA': 1,\n",
       " 'Lancaster Telephone Company-Comporium': 1,\n",
       " 'MARKTWAINRURALTELEPHONECO': 1,\n",
       " 'Matanuska': 1,\n",
       " 'Monmouth Telephone & Telegraph': 1,\n",
       " 'Mpower Communications': 1,\n",
       " 'NETCARRIER': 1,\n",
       " 'NetLec': 1,\n",
       " 'Norcast': 1,\n",
       " 'Optivon Telecom Service': 1,\n",
       " ' ': 1}"
      ]
     },
     "execution_count": 92,
     "metadata": {},
     "output_type": "execute_result"
    }
   ],
   "source": [
    "carrier_counts = {}\n",
    "\n",
    "for i, r in cc.iterrows():\n",
    "    carrier_counts[r['carrier']] = r['count']\n",
    "carrier_counts"
   ]
  },
  {
   "cell_type": "code",
   "execution_count": 93,
   "metadata": {},
   "outputs": [],
   "source": [
    "Xy['carrier'] = Xy['carrier'].apply(lambda x: x if carrier_counts[x] else 'other')\n",
    "Xy['carrier'] = Xy['carrier'].astype('category')\n"
   ]
  },
  {
   "cell_type": "code",
   "execution_count": 94,
   "metadata": {},
   "outputs": [
    {
     "data": {
      "text/plain": [
       "True"
      ]
     },
     "execution_count": 94,
     "metadata": {},
     "output_type": "execute_result"
    }
   ],
   "source": [
    "X = Xy.drop(columns='isDisconnected', axis=1)\n",
    "y = Xy['isDisconnected']\n",
    "len(X) == len(y)"
   ]
  },
  {
   "cell_type": "markdown",
   "metadata": {},
   "source": [
    "### LightGBM"
   ]
  },
  {
   "cell_type": "code",
   "execution_count": 38,
   "metadata": {},
   "outputs": [],
   "source": [
    "import lightgbm as lgb\n",
    "from sklearn.model_selection import train_test_split"
   ]
  },
  {
   "cell_type": "code",
   "execution_count": 64,
   "metadata": {
    "scrolled": true
   },
   "outputs": [
    {
     "name": "stdout",
     "output_type": "stream",
     "text": [
      "POS: -0.9122541603630863\n",
      "[1]\tvalid_0's auc: 0.740126\n",
      "Training until validation scores don't improve for 50 rounds.\n",
      "[2]\tvalid_0's auc: 0.732165\n",
      "[3]\tvalid_0's auc: 0.735361\n",
      "[4]\tvalid_0's auc: 0.735966\n",
      "[5]\tvalid_0's auc: 0.733502\n",
      "[6]\tvalid_0's auc: 0.727027\n",
      "[7]\tvalid_0's auc: 0.727932\n",
      "[8]\tvalid_0's auc: 0.726862\n",
      "[9]\tvalid_0's auc: 0.728496\n",
      "[10]\tvalid_0's auc: 0.728413\n",
      "[11]\tvalid_0's auc: 0.730156\n",
      "[12]\tvalid_0's auc: 0.734026\n",
      "[13]\tvalid_0's auc: 0.731288\n",
      "[14]\tvalid_0's auc: 0.733315\n",
      "[15]\tvalid_0's auc: 0.736077\n",
      "[16]\tvalid_0's auc: 0.735875\n",
      "[17]\tvalid_0's auc: 0.737375\n",
      "[18]\tvalid_0's auc: 0.736793\n",
      "[19]\tvalid_0's auc: 0.737662\n",
      "[20]\tvalid_0's auc: 0.740617\n",
      "[21]\tvalid_0's auc: 0.741915\n",
      "[22]\tvalid_0's auc: 0.74094\n",
      "[23]\tvalid_0's auc: 0.739466\n",
      "[24]\tvalid_0's auc: 0.73882\n",
      "[25]\tvalid_0's auc: 0.736322\n",
      "[26]\tvalid_0's auc: 0.736478\n",
      "[27]\tvalid_0's auc: 0.739112\n",
      "[28]\tvalid_0's auc: 0.738373\n",
      "[29]\tvalid_0's auc: 0.738256\n",
      "[30]\tvalid_0's auc: 0.739348\n",
      "[31]\tvalid_0's auc: 0.737972\n",
      "[32]\tvalid_0's auc: 0.737657\n",
      "[33]\tvalid_0's auc: 0.735309\n",
      "[34]\tvalid_0's auc: 0.734538\n",
      "[35]\tvalid_0's auc: 0.733964\n",
      "[36]\tvalid_0's auc: 0.735743\n",
      "[37]\tvalid_0's auc: 0.737403\n",
      "[38]\tvalid_0's auc: 0.737041\n",
      "[39]\tvalid_0's auc: 0.737108\n",
      "[40]\tvalid_0's auc: 0.735087\n",
      "[41]\tvalid_0's auc: 0.735154\n",
      "[42]\tvalid_0's auc: 0.732863\n",
      "[43]\tvalid_0's auc: 0.732754\n",
      "[44]\tvalid_0's auc: 0.733654\n",
      "[45]\tvalid_0's auc: 0.732822\n",
      "[46]\tvalid_0's auc: 0.731746\n",
      "[47]\tvalid_0's auc: 0.730913\n",
      "[48]\tvalid_0's auc: 0.731027\n",
      "[49]\tvalid_0's auc: 0.730562\n",
      "[50]\tvalid_0's auc: 0.731384\n",
      "[51]\tvalid_0's auc: 0.731462\n",
      "[52]\tvalid_0's auc: 0.731038\n",
      "[53]\tvalid_0's auc: 0.7302\n",
      "[54]\tvalid_0's auc: 0.728597\n",
      "[55]\tvalid_0's auc: 0.727852\n",
      "[56]\tvalid_0's auc: 0.729119\n",
      "[57]\tvalid_0's auc: 0.727438\n",
      "[58]\tvalid_0's auc: 0.727345\n",
      "[59]\tvalid_0's auc: 0.726875\n",
      "[60]\tvalid_0's auc: 0.726926\n",
      "[61]\tvalid_0's auc: 0.726854\n",
      "[62]\tvalid_0's auc: 0.726047\n",
      "[63]\tvalid_0's auc: 0.725411\n",
      "[64]\tvalid_0's auc: 0.724579\n",
      "[65]\tvalid_0's auc: 0.724403\n",
      "[66]\tvalid_0's auc: 0.722898\n",
      "[67]\tvalid_0's auc: 0.723524\n",
      "[68]\tvalid_0's auc: 0.724062\n",
      "[69]\tvalid_0's auc: 0.723358\n",
      "[70]\tvalid_0's auc: 0.723674\n",
      "[71]\tvalid_0's auc: 0.722831\n",
      "Early stopping, best iteration is:\n",
      "[21]\tvalid_0's auc: 0.741915\n",
      "\n",
      "Precision: 0.6818181818181818\n",
      "Recall: 0.22556390977443608\n"
     ]
    }
   ],
   "source": [
    "X_train, X_test, y_train, y_test = train_test_split(X, y, test_size=0.4)\n",
    "\n",
    "train_dataset = lgb.Dataset(X_train, y_train)\n",
    "valid_dataset = lgb.Dataset(X_test, y_test)\n",
    "\n",
    "\n",
    "print('POS:', pos)\n",
    "\n",
    "\n",
    "# experiment with different parameters\n",
    "param = {\n",
    "    'num_leaves': 31, \n",
    "    'objective': 'binary',\n",
    "    'metric': 'auc',\n",
    "    'learning_rate': 0.15\n",
    "}\n",
    "n_iter = 500\n",
    "\n",
    "bst = lgb.train(param, train_dataset, n_iter, valid_sets=valid_dataset, early_stopping_rounds=50)\n",
    "\n",
    "y_pred = bst.predict(X_test)\n",
    "y_pred_c = [1 if p >= 0.5 else 0 for p in y_pred]\n",
    "\n",
    "print()\n",
    "print('Precision:', metrics.precision_score(y_true=y_test, y_pred=y_pred_c))\n",
    "print('Recall:', metrics.recall_score(y_true=y_test, y_pred=y_pred_c))"
   ]
  },
  {
   "cell_type": "markdown",
   "metadata": {},
   "source": [
    "### Testing different threshholds"
   ]
  },
  {
   "cell_type": "code",
   "execution_count": 65,
   "metadata": {},
   "outputs": [
    {
     "name": "stdout",
     "output_type": "stream",
     "text": [
      "\n",
      "Precision: 0.9090909090909091\n",
      "Recall: 0.07518796992481203\n"
     ]
    }
   ],
   "source": [
    "t = 0.7\n",
    "\n",
    "y_pred_c = [1 if p >= t else 0 for p in y_pred]\n",
    "\n",
    "print()\n",
    "print('Precision:', metrics.precision_score(y_true=y_test, y_pred=y_pred_c))\n",
    "print('Recall:', metrics.recall_score(y_true=y_test, y_pred=y_pred_c))"
   ]
  },
  {
   "cell_type": "markdown",
   "metadata": {},
   "source": [
    "### Neural Network"
   ]
  },
  {
   "cell_type": "code",
   "execution_count": 66,
   "metadata": {},
   "outputs": [
    {
     "name": "stderr",
     "output_type": "stream",
     "text": [
      "Using TensorFlow backend.\n"
     ]
    }
   ],
   "source": [
    "from keras import Sequential\n",
    "from keras.utils import to_categorical\n",
    "from keras.layers import Dense"
   ]
  },
  {
   "cell_type": "code",
   "execution_count": 67,
   "metadata": {},
   "outputs": [
    {
     "data": {
      "text/plain": [
       "carrier           category\n",
       "isDisconnected       int64\n",
       "rpv_dc               int64\n",
       "isCell_Y             int64\n",
       "isCell_V             int64\n",
       "area              category\n",
       "area_prefix       category\n",
       "dtype: object"
      ]
     },
     "execution_count": 67,
     "metadata": {},
     "output_type": "execute_result"
    }
   ],
   "source": [
    "Xy.dtypes"
   ]
  },
  {
   "cell_type": "code",
   "execution_count": 68,
   "metadata": {
    "scrolled": true
   },
   "outputs": [
    {
     "data": {
      "text/html": [
       "<div>\n",
       "<style scoped>\n",
       "    .dataframe tbody tr th:only-of-type {\n",
       "        vertical-align: middle;\n",
       "    }\n",
       "\n",
       "    .dataframe tbody tr th {\n",
       "        vertical-align: top;\n",
       "    }\n",
       "\n",
       "    .dataframe thead th {\n",
       "        text-align: right;\n",
       "    }\n",
       "</style>\n",
       "<table border=\"1\" class=\"dataframe\">\n",
       "  <thead>\n",
       "    <tr style=\"text-align: right;\">\n",
       "      <th></th>\n",
       "      <th>rpv_dc</th>\n",
       "      <th>isCell_Y</th>\n",
       "      <th>isCell_V</th>\n",
       "      <th>carrier_</th>\n",
       "      <th>carrier_(UNKNOWN)</th>\n",
       "      <th>carrier_123.Net</th>\n",
       "      <th>carrier_ACS</th>\n",
       "      <th>carrier_AT&amp;T Wireless</th>\n",
       "      <th>carrier_ATI</th>\n",
       "      <th>carrier_Access Integrated Networks</th>\n",
       "      <th>...</th>\n",
       "      <th>area_prefix_985652</th>\n",
       "      <th>area_prefix_985764</th>\n",
       "      <th>area_prefix_985853</th>\n",
       "      <th>area_prefix_985872</th>\n",
       "      <th>area_prefix_985873</th>\n",
       "      <th>area_prefix_985893</th>\n",
       "      <th>area_prefix_989224</th>\n",
       "      <th>area_prefix_989583</th>\n",
       "      <th>area_prefix_989588</th>\n",
       "      <th>area_prefix_989799</th>\n",
       "    </tr>\n",
       "    <tr>\n",
       "      <th>phone</th>\n",
       "      <th></th>\n",
       "      <th></th>\n",
       "      <th></th>\n",
       "      <th></th>\n",
       "      <th></th>\n",
       "      <th></th>\n",
       "      <th></th>\n",
       "      <th></th>\n",
       "      <th></th>\n",
       "      <th></th>\n",
       "      <th></th>\n",
       "      <th></th>\n",
       "      <th></th>\n",
       "      <th></th>\n",
       "      <th></th>\n",
       "      <th></th>\n",
       "      <th></th>\n",
       "      <th></th>\n",
       "      <th></th>\n",
       "      <th></th>\n",
       "      <th></th>\n",
       "    </tr>\n",
       "  </thead>\n",
       "  <tbody>\n",
       "    <tr>\n",
       "      <th>2013422550</th>\n",
       "      <td>1</td>\n",
       "      <td>0</td>\n",
       "      <td>0</td>\n",
       "      <td>0</td>\n",
       "      <td>0</td>\n",
       "      <td>0</td>\n",
       "      <td>0</td>\n",
       "      <td>0</td>\n",
       "      <td>0</td>\n",
       "      <td>0</td>\n",
       "      <td>...</td>\n",
       "      <td>0</td>\n",
       "      <td>0</td>\n",
       "      <td>0</td>\n",
       "      <td>0</td>\n",
       "      <td>0</td>\n",
       "      <td>0</td>\n",
       "      <td>0</td>\n",
       "      <td>0</td>\n",
       "      <td>0</td>\n",
       "      <td>0</td>\n",
       "    </tr>\n",
       "    <tr>\n",
       "      <th>2013586776</th>\n",
       "      <td>1</td>\n",
       "      <td>0</td>\n",
       "      <td>0</td>\n",
       "      <td>0</td>\n",
       "      <td>0</td>\n",
       "      <td>0</td>\n",
       "      <td>0</td>\n",
       "      <td>0</td>\n",
       "      <td>0</td>\n",
       "      <td>0</td>\n",
       "      <td>...</td>\n",
       "      <td>0</td>\n",
       "      <td>0</td>\n",
       "      <td>0</td>\n",
       "      <td>0</td>\n",
       "      <td>0</td>\n",
       "      <td>0</td>\n",
       "      <td>0</td>\n",
       "      <td>0</td>\n",
       "      <td>0</td>\n",
       "      <td>0</td>\n",
       "    </tr>\n",
       "    <tr>\n",
       "      <th>2013639844</th>\n",
       "      <td>1</td>\n",
       "      <td>0</td>\n",
       "      <td>1</td>\n",
       "      <td>0</td>\n",
       "      <td>0</td>\n",
       "      <td>0</td>\n",
       "      <td>0</td>\n",
       "      <td>0</td>\n",
       "      <td>0</td>\n",
       "      <td>0</td>\n",
       "      <td>...</td>\n",
       "      <td>0</td>\n",
       "      <td>0</td>\n",
       "      <td>0</td>\n",
       "      <td>0</td>\n",
       "      <td>0</td>\n",
       "      <td>0</td>\n",
       "      <td>0</td>\n",
       "      <td>0</td>\n",
       "      <td>0</td>\n",
       "      <td>0</td>\n",
       "    </tr>\n",
       "    <tr>\n",
       "      <th>2014181000</th>\n",
       "      <td>1</td>\n",
       "      <td>0</td>\n",
       "      <td>0</td>\n",
       "      <td>0</td>\n",
       "      <td>0</td>\n",
       "      <td>0</td>\n",
       "      <td>0</td>\n",
       "      <td>0</td>\n",
       "      <td>0</td>\n",
       "      <td>0</td>\n",
       "      <td>...</td>\n",
       "      <td>0</td>\n",
       "      <td>0</td>\n",
       "      <td>0</td>\n",
       "      <td>0</td>\n",
       "      <td>0</td>\n",
       "      <td>0</td>\n",
       "      <td>0</td>\n",
       "      <td>0</td>\n",
       "      <td>0</td>\n",
       "      <td>0</td>\n",
       "    </tr>\n",
       "    <tr>\n",
       "      <th>2014386916</th>\n",
       "      <td>1</td>\n",
       "      <td>0</td>\n",
       "      <td>0</td>\n",
       "      <td>0</td>\n",
       "      <td>0</td>\n",
       "      <td>0</td>\n",
       "      <td>0</td>\n",
       "      <td>0</td>\n",
       "      <td>0</td>\n",
       "      <td>0</td>\n",
       "      <td>...</td>\n",
       "      <td>0</td>\n",
       "      <td>0</td>\n",
       "      <td>0</td>\n",
       "      <td>0</td>\n",
       "      <td>0</td>\n",
       "      <td>0</td>\n",
       "      <td>0</td>\n",
       "      <td>0</td>\n",
       "      <td>0</td>\n",
       "      <td>0</td>\n",
       "    </tr>\n",
       "  </tbody>\n",
       "</table>\n",
       "<p>5 rows × 3912 columns</p>\n",
       "</div>"
      ],
      "text/plain": [
       "            rpv_dc  isCell_Y  isCell_V  carrier_   carrier_(UNKNOWN)  \\\n",
       "phone                                                                  \n",
       "2013422550       1         0         0          0                  0   \n",
       "2013586776       1         0         0          0                  0   \n",
       "2013639844       1         0         1          0                  0   \n",
       "2014181000       1         0         0          0                  0   \n",
       "2014386916       1         0         0          0                  0   \n",
       "\n",
       "            carrier_123.Net  carrier_ACS  carrier_AT&T Wireless  carrier_ATI  \\\n",
       "phone                                                                          \n",
       "2013422550                0            0                      0            0   \n",
       "2013586776                0            0                      0            0   \n",
       "2013639844                0            0                      0            0   \n",
       "2014181000                0            0                      0            0   \n",
       "2014386916                0            0                      0            0   \n",
       "\n",
       "            carrier_Access Integrated Networks         ...          \\\n",
       "phone                                                  ...           \n",
       "2013422550                                   0         ...           \n",
       "2013586776                                   0         ...           \n",
       "2013639844                                   0         ...           \n",
       "2014181000                                   0         ...           \n",
       "2014386916                                   0         ...           \n",
       "\n",
       "            area_prefix_985652  area_prefix_985764  area_prefix_985853  \\\n",
       "phone                                                                    \n",
       "2013422550                   0                   0                   0   \n",
       "2013586776                   0                   0                   0   \n",
       "2013639844                   0                   0                   0   \n",
       "2014181000                   0                   0                   0   \n",
       "2014386916                   0                   0                   0   \n",
       "\n",
       "            area_prefix_985872  area_prefix_985873  area_prefix_985893  \\\n",
       "phone                                                                    \n",
       "2013422550                   0                   0                   0   \n",
       "2013586776                   0                   0                   0   \n",
       "2013639844                   0                   0                   0   \n",
       "2014181000                   0                   0                   0   \n",
       "2014386916                   0                   0                   0   \n",
       "\n",
       "            area_prefix_989224  area_prefix_989583  area_prefix_989588  \\\n",
       "phone                                                                    \n",
       "2013422550                   0                   0                   0   \n",
       "2013586776                   0                   0                   0   \n",
       "2013639844                   0                   0                   0   \n",
       "2014181000                   0                   0                   0   \n",
       "2014386916                   0                   0                   0   \n",
       "\n",
       "            area_prefix_989799  \n",
       "phone                           \n",
       "2013422550                   0  \n",
       "2013586776                   0  \n",
       "2013639844                   0  \n",
       "2014181000                   0  \n",
       "2014386916                   0  \n",
       "\n",
       "[5 rows x 3912 columns]"
      ]
     },
     "execution_count": 68,
     "metadata": {},
     "output_type": "execute_result"
    }
   ],
   "source": [
    "categoricals = ['carrier', 'area', 'area_prefix']\n",
    "dummies = pd.get_dummies(Xy[categoricals])\n",
    "X_nocat = Xy.drop(columns=categoricals, axis=1)\n",
    "X_nocat = X_nocat.merge(dummies, left_index=True, right_index=True, how='inner').drop_duplicates()\n",
    "\n",
    "y = X_nocat['isDisconnected']\n",
    "X_nocat.drop(columns='isDisconnected', axis=1, inplace=True)\n",
    "\n",
    "X_nocat.head()"
   ]
  },
  {
   "cell_type": "code",
   "execution_count": null,
   "metadata": {},
   "outputs": [],
   "source": []
  },
  {
   "cell_type": "code",
   "execution_count": 69,
   "metadata": {},
   "outputs": [
    {
     "name": "stdout",
     "output_type": "stream",
     "text": [
      "3966\n",
      "3601\n",
      "3601\n"
     ]
    }
   ],
   "source": [
    "print(len(X))\n",
    "print(len(X_nocat))\n",
    "print(len(y))\n",
    "assert len(X_nocat) == len(y)\n",
    "X_train, X_test, y_train, y_test = train_test_split(X_nocat, y, test_size=0.4)"
   ]
  },
  {
   "cell_type": "code",
   "execution_count": 71,
   "metadata": {},
   "outputs": [
    {
     "data": {
      "text/plain": [
       "(3601, 3912)"
      ]
     },
     "execution_count": 71,
     "metadata": {},
     "output_type": "execute_result"
    }
   ],
   "source": [
    "X_nocat.shape"
   ]
  },
  {
   "cell_type": "code",
   "execution_count": 88,
   "metadata": {},
   "outputs": [],
   "source": [
    "model = Sequential()\n",
    "\n",
    "model.add(Dense(500, activation='relu', input_dim=3))  # change this to 3912 if using categorical data\n",
    "model.add(Dense(units=500, activation='relu'))\n",
    "model.add(Dense(units=1, activation='sigmoid'))\n",
    "\n",
    "#Compile\n",
    "model.compile(optimizer='adam', loss='binary_crossentropy', metrics=['accuracy'])"
   ]
  },
  {
   "cell_type": "code",
   "execution_count": 73,
   "metadata": {},
   "outputs": [
    {
     "name": "stderr",
     "output_type": "stream",
     "text": [
      "C:\\Users\\glappe\\anaconda3\\lib\\site-packages\\ipykernel_launcher.py:6: SettingWithCopyWarning: \n",
      "A value is trying to be set on a copy of a slice from a DataFrame.\n",
      "Try using .loc[row_indexer,col_indexer] = value instead\n",
      "\n",
      "See the caveats in the documentation: http://pandas.pydata.org/pandas-docs/stable/indexing.html#indexing-view-versus-copy\n",
      "  \n"
     ]
    }
   ],
   "source": [
    "Xynocat = Xy.drop(columns=categoricals, axis=1)\n",
    "Xy_target = Xynocat['isDisconnected']\n",
    "Xynocat2 = Xynocat.drop(columns='isDisconnected', axis=1)\n",
    "X_tr, X_t, y_tr, y_t = train_test_split(Xynocat2, Xy_target)\n",
    "\n",
    "X_tr['y'] = y_tr\n",
    "\n",
    "X_tr_dc = X_tr[X_tr['y']==1]\n",
    "X_tr_c = X_tr[X_tr['y']==0].sample(500)\n",
    "\n",
    "\n",
    "\n",
    "X_tr = X_tr_dc.append(X_tr_c, ignore_index=True).sample(frac=1)\n",
    "\n",
    "y_tr = X_tr['y']\n",
    "X_tr.drop(columns='y', axis=1, inplace=True)\n"
   ]
  },
  {
   "cell_type": "code",
   "execution_count": 75,
   "metadata": {
    "scrolled": true
   },
   "outputs": [
    {
     "name": "stdout",
     "output_type": "stream",
     "text": [
      "WARNING:tensorflow:From C:\\Users\\glappe\\anaconda3\\lib\\site-packages\\tensorflow\\python\\ops\\math_ops.py:3066: to_int32 (from tensorflow.python.ops.math_ops) is deprecated and will be removed in a future version.\n",
      "Instructions for updating:\n",
      "Use tf.cast instead.\n",
      "Epoch 1/50\n",
      " - 2s - loss: 0.3218 - acc: 0.9032\n",
      "Epoch 2/50\n",
      " - 1s - loss: 0.1809 - acc: 0.9130\n",
      "Epoch 3/50\n",
      " - 1s - loss: 0.0925 - acc: 0.9639\n",
      "Epoch 4/50\n",
      " - 1s - loss: 0.0345 - acc: 0.9894\n",
      "Epoch 5/50\n",
      " - 1s - loss: 0.0244 - acc: 0.9898\n",
      "Epoch 6/50\n",
      " - 1s - loss: 0.0187 - acc: 0.9926\n",
      "Epoch 7/50\n",
      " - 2s - loss: 0.0161 - acc: 0.9931\n",
      "Epoch 8/50\n",
      " - 2s - loss: 0.0168 - acc: 0.9926\n",
      "Epoch 9/50\n",
      " - 1s - loss: 0.0152 - acc: 0.9917\n",
      "Epoch 10/50\n",
      " - 1s - loss: 0.0173 - acc: 0.9921\n",
      "Epoch 11/50\n",
      " - 1s - loss: 0.0134 - acc: 0.9921\n",
      "Epoch 12/50\n",
      " - 1s - loss: 0.0143 - acc: 0.9921\n",
      "Epoch 13/50\n",
      " - 1s - loss: 0.0111 - acc: 0.9931\n",
      "Epoch 14/50\n",
      " - 1s - loss: 0.0123 - acc: 0.9931\n",
      "Epoch 15/50\n",
      " - 1s - loss: 0.0119 - acc: 0.9921\n",
      "Epoch 16/50\n",
      " - 1s - loss: 0.0109 - acc: 0.9917\n",
      "Epoch 17/50\n",
      " - 1s - loss: 0.0104 - acc: 0.9921\n",
      "Epoch 18/50\n",
      " - 1s - loss: 0.0097 - acc: 0.9917\n",
      "Epoch 19/50\n",
      " - 2s - loss: 0.0092 - acc: 0.9917\n",
      "Epoch 20/50\n",
      " - 2s - loss: 0.0098 - acc: 0.9917\n",
      "Epoch 21/50\n",
      " - 1s - loss: 0.0101 - acc: 0.9912\n",
      "Epoch 22/50\n",
      " - 1s - loss: 0.0092 - acc: 0.9912\n",
      "Epoch 23/50\n",
      " - 1s - loss: 0.0088 - acc: 0.9926\n",
      "Epoch 24/50\n",
      " - 2s - loss: 0.0088 - acc: 0.9917\n",
      "Epoch 25/50\n",
      " - 1s - loss: 0.0090 - acc: 0.9935\n",
      "Epoch 26/50\n",
      " - 1s - loss: 0.0086 - acc: 0.9917\n",
      "Epoch 27/50\n",
      " - 1s - loss: 0.0086 - acc: 0.9926\n",
      "Epoch 28/50\n",
      " - 1s - loss: 0.0086 - acc: 0.9921\n",
      "Epoch 29/50\n",
      " - 1s - loss: 0.0085 - acc: 0.9912\n",
      "Epoch 30/50\n",
      " - 1s - loss: 0.0084 - acc: 0.9926\n",
      "Epoch 31/50\n",
      " - 1s - loss: 0.0084 - acc: 0.9907\n",
      "Epoch 32/50\n",
      " - 1s - loss: 0.0083 - acc: 0.9935\n",
      "Epoch 33/50\n",
      " - 1s - loss: 0.0083 - acc: 0.9935\n",
      "Epoch 34/50\n",
      " - 2s - loss: 0.0081 - acc: 0.9926\n",
      "Epoch 35/50\n",
      " - 2s - loss: 0.0082 - acc: 0.9926\n",
      "Epoch 36/50\n",
      " - 1s - loss: 0.0081 - acc: 0.9921\n",
      "Epoch 37/50\n",
      " - 1s - loss: 0.0082 - acc: 0.9926\n",
      "Epoch 38/50\n",
      " - 2s - loss: 0.0083 - acc: 0.9917\n",
      "Epoch 39/50\n",
      " - 1s - loss: 0.0081 - acc: 0.9912\n",
      "Epoch 40/50\n",
      " - 1s - loss: 0.0082 - acc: 0.9912\n",
      "Epoch 41/50\n",
      " - 2s - loss: 0.0081 - acc: 0.9921\n",
      "Epoch 42/50\n",
      " - 2s - loss: 0.0080 - acc: 0.9912\n",
      "Epoch 43/50\n",
      " - 2s - loss: 0.0080 - acc: 0.9935\n",
      "Epoch 44/50\n",
      " - 1s - loss: 0.0080 - acc: 0.9935\n",
      "Epoch 45/50\n",
      " - 2s - loss: 0.0080 - acc: 0.9926\n",
      "Epoch 46/50\n",
      " - 1s - loss: 0.0080 - acc: 0.9917\n",
      "Epoch 47/50\n",
      " - 1s - loss: 0.0080 - acc: 0.9912\n",
      "Epoch 48/50\n",
      " - 1s - loss: 0.0079 - acc: 0.9935\n",
      "Epoch 49/50\n",
      " - 1s - loss: 0.0079 - acc: 0.9921\n",
      "Epoch 50/50\n",
      " - 2s - loss: 0.0079 - acc: 0.9931\n"
     ]
    }
   ],
   "source": [
    "history = model.fit(X_train, \n",
    "                    y_train,\n",
    "                    epochs=10,\n",
    "                    shuffle=True,\n",
    "                    verbose=2\n",
    "                   )"
   ]
  },
  {
   "cell_type": "code",
   "execution_count": 89,
   "metadata": {
    "scrolled": true
   },
   "outputs": [
    {
     "name": "stdout",
     "output_type": "stream",
     "text": [
      "Epoch 1/50\n",
      " - 0s - loss: 0.6683 - acc: 0.7209\n",
      "Epoch 2/50\n",
      " - 0s - loss: 0.5706 - acc: 0.7685\n",
      "Epoch 3/50\n",
      " - 0s - loss: 0.5388 - acc: 0.7579\n",
      "Epoch 4/50\n",
      " - 0s - loss: 0.5490 - acc: 0.7619\n",
      "Epoch 5/50\n",
      " - 0s - loss: 0.5518 - acc: 0.7447\n",
      "Epoch 6/50\n",
      " - 0s - loss: 0.5391 - acc: 0.7632\n",
      "Epoch 7/50\n",
      " - 0s - loss: 0.5385 - acc: 0.7632\n",
      "Epoch 8/50\n",
      " - 0s - loss: 0.5381 - acc: 0.7579\n",
      "Epoch 9/50\n",
      " - 0s - loss: 0.5469 - acc: 0.7579\n",
      "Epoch 10/50\n",
      " - 0s - loss: 0.5370 - acc: 0.7672\n",
      "Epoch 11/50\n",
      " - 0s - loss: 0.5426 - acc: 0.7646\n",
      "Epoch 12/50\n",
      " - 0s - loss: 0.5375 - acc: 0.7579\n",
      "Epoch 13/50\n",
      " - 0s - loss: 0.5378 - acc: 0.7606\n",
      "Epoch 14/50\n",
      " - 0s - loss: 0.5338 - acc: 0.7685\n",
      "Epoch 15/50\n",
      " - 0s - loss: 0.5434 - acc: 0.7593\n",
      "Epoch 16/50\n",
      " - 0s - loss: 0.5362 - acc: 0.7698\n",
      "Epoch 17/50\n",
      " - 0s - loss: 0.5313 - acc: 0.7712\n",
      "Epoch 18/50\n",
      " - 0s - loss: 0.5335 - acc: 0.7712\n",
      "Epoch 19/50\n",
      " - 0s - loss: 0.5381 - acc: 0.7619\n",
      "Epoch 20/50\n",
      " - 0s - loss: 0.5341 - acc: 0.7712\n",
      "Epoch 21/50\n",
      " - 0s - loss: 0.5345 - acc: 0.7672\n",
      "Epoch 22/50\n",
      " - 0s - loss: 0.5370 - acc: 0.7632\n",
      "Epoch 23/50\n",
      " - 0s - loss: 0.5342 - acc: 0.7698\n",
      "Epoch 24/50\n",
      " - 0s - loss: 0.5378 - acc: 0.7685\n",
      "Epoch 25/50\n",
      " - 0s - loss: 0.5355 - acc: 0.7712\n",
      "Epoch 26/50\n",
      " - 0s - loss: 0.5376 - acc: 0.7712\n",
      "Epoch 27/50\n",
      " - 0s - loss: 0.5368 - acc: 0.7606\n",
      "Epoch 28/50\n",
      " - 0s - loss: 0.5354 - acc: 0.7712\n",
      "Epoch 29/50\n",
      " - 0s - loss: 0.5316 - acc: 0.7712\n",
      "Epoch 30/50\n",
      " - 0s - loss: 0.5354 - acc: 0.7685\n",
      "Epoch 31/50\n",
      " - 0s - loss: 0.5315 - acc: 0.7712\n",
      "Epoch 32/50\n",
      " - 0s - loss: 0.5352 - acc: 0.7712\n",
      "Epoch 33/50\n",
      " - 0s - loss: 0.5316 - acc: 0.7712\n",
      "Epoch 34/50\n",
      " - 0s - loss: 0.5345 - acc: 0.7659\n",
      "Epoch 35/50\n",
      " - 0s - loss: 0.5322 - acc: 0.7712\n",
      "Epoch 36/50\n",
      " - 0s - loss: 0.5339 - acc: 0.7712\n",
      "Epoch 37/50\n",
      " - 0s - loss: 0.5312 - acc: 0.7712\n",
      "Epoch 38/50\n",
      " - 0s - loss: 0.5314 - acc: 0.7712\n",
      "Epoch 39/50\n",
      " - 0s - loss: 0.5325 - acc: 0.7712\n",
      "Epoch 40/50\n",
      " - 0s - loss: 0.5320 - acc: 0.7712\n",
      "Epoch 41/50\n",
      " - 0s - loss: 0.5315 - acc: 0.7712\n",
      "Epoch 42/50\n",
      " - 0s - loss: 0.5351 - acc: 0.7712\n",
      "Epoch 43/50\n",
      " - 0s - loss: 0.5312 - acc: 0.7712\n",
      "Epoch 44/50\n",
      " - 0s - loss: 0.5285 - acc: 0.7712\n",
      "Epoch 45/50\n",
      " - 0s - loss: 0.5369 - acc: 0.7698\n",
      "Epoch 46/50\n",
      " - 0s - loss: 0.5307 - acc: 0.7712\n",
      "Epoch 47/50\n",
      " - 0s - loss: 0.5327 - acc: 0.7712\n",
      "Epoch 48/50\n",
      " - 0s - loss: 0.5320 - acc: 0.7712\n",
      "Epoch 49/50\n",
      " - 0s - loss: 0.5351 - acc: 0.7712\n",
      "Epoch 50/50\n",
      " - 0s - loss: 0.5363 - acc: 0.7712\n"
     ]
    }
   ],
   "source": [
    "# different version without categorical data, recompile model with input_dim = 3\n",
    "history = model.fit(X_tr, \n",
    "                    y_tr,\n",
    "                    epochs=50,\n",
    "                    shuffle=True,\n",
    "                    verbose=2\n",
    "                   )"
   ]
  },
  {
   "cell_type": "markdown",
   "metadata": {},
   "source": [
    "### Validation - No categorical"
   ]
  },
  {
   "cell_type": "code",
   "execution_count": 90,
   "metadata": {},
   "outputs": [
    {
     "name": "stdout",
     "output_type": "stream",
     "text": [
      "Precision: 0.34965034965034963\n",
      "Recall: 0.5434782608695652\n"
     ]
    }
   ],
   "source": [
    "y_pred = model.predict(X_t)\n",
    "\n",
    "y_predc = [1 if p >= 0.5 else 0 for p in y_pred]\n",
    "\n",
    "print('Precision:', metrics.precision_score(y_true=y_t, \n",
    "                                            y_pred=y_predc))\n",
    "print('Recall:', metrics.recall_score(y_true=y_t, \n",
    "                                      y_pred=y_predc))"
   ]
  },
  {
   "cell_type": "markdown",
   "metadata": {},
   "source": [
    "### Validation - with categorical"
   ]
  },
  {
   "cell_type": "code",
   "execution_count": 84,
   "metadata": {},
   "outputs": [
    {
     "name": "stdout",
     "output_type": "stream",
     "text": [
      "Precision: 0.3006134969325153\n",
      "Recall: 0.33793103448275863\n"
     ]
    }
   ],
   "source": [
    "\n",
    "y_pred = model.predict(X_test)\n",
    "\n",
    "y_predc = [1 if p >= 0.5 else 0 for p in y_pred]\n",
    "\n",
    "print('Precision:', metrics.precision_score(y_true=y_test, \n",
    "                                            y_pred=y_predc))\n",
    "print('Recall:', metrics.recall_score(y_true=y_test, \n",
    "                                      y_pred=y_predc))"
   ]
  },
  {
   "cell_type": "markdown",
   "metadata": {},
   "source": [
    "# Conclusion\n",
    "\n",
    "More data needed.\n",
    "\n",
    "Inclusing all categoricals introduces too much variety for the model to handle with limited data.\n",
    "\n",
    "Need more data.\n",
    "\n",
    "Data.\n",
    "\n",
    "Disregard results, acquire data"
   ]
  },
  {
   "cell_type": "code",
   "execution_count": 86,
   "metadata": {},
   "outputs": [],
   "source": [
    "import keras"
   ]
  },
  {
   "cell_type": "code",
   "execution_count": 87,
   "metadata": {},
   "outputs": [],
   "source": [
    "keras.backend.clear_session()  # for clearing model sheeeeeeit"
   ]
  }
 ],
 "metadata": {
  "kernelspec": {
   "display_name": "Python 3",
   "language": "python",
   "name": "python3"
  },
  "language_info": {
   "codemirror_mode": {
    "name": "ipython",
    "version": 3
   },
   "file_extension": ".py",
   "mimetype": "text/x-python",
   "name": "python",
   "nbconvert_exporter": "python",
   "pygments_lexer": "ipython3",
   "version": "3.7.1"
  }
 },
 "nbformat": 4,
 "nbformat_minor": 2
}
