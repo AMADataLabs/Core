{
 "cells": [
  {
   "cell_type": "code",
   "execution_count": 1,
   "metadata": {},
   "outputs": [],
   "source": [
    "import pandas as pd"
   ]
  },
  {
   "cell_type": "code",
   "execution_count": 16,
   "metadata": {},
   "outputs": [],
   "source": [
    "wrong = pd.read_csv('wrong_CNAM.csv')\n",
    "disconnected = pd.read_csv('disconnected_CNAM.csv')\n",
    "connected = pd.read_csv('connected_CNAM.csv')"
   ]
  },
  {
   "cell_type": "code",
   "execution_count": 40,
   "metadata": {},
   "outputs": [],
   "source": [
    "def analyze_CNAM_numbers(df):\n",
    "    \n",
    "    dataframe = df.fillna('None')\n",
    "    \n",
    "    first_name_match = 0\n",
    "    last_name_match = 0\n",
    "    healthy = 0\n",
    "    workplace_match = 0\n",
    "    no_name = 0\n",
    "\n",
    "    for row in dataframe.itertuples():\n",
    "        if str(row.PHYSICIAN_LAST_NAME).lower() in str(row.Name_CNAM).lower():\n",
    "            last_name_match +=1\n",
    "#         if str(row.PHYSICIAN_LAST_NAME).lower() not in str(row.Name_CNAM).lower():\n",
    "#             print(f' {row.PHYSICIAN_LAST_NAME} is not {row.Name_CNAM}')\n",
    "        if str(row.PHYSICIAN_FIRST_NAME).lower() in str(row.Name_CNAM).lower():\n",
    "            first_name_match +=1\n",
    "        if is_healthy(row.Name_CNAM) == True:\n",
    "            healthy += 1\n",
    "#         if is_healthy(row.Name_CNAM) == False:\n",
    "#             print(row.Name_CNAM)\n",
    "        if str(row.Name_CNAM).lower() in str(row.OFFICE_ADDRESS_LINE_1).lower():\n",
    "            workplace_match +=1\n",
    "#         if str(row.Name_CNAM).lower() not in str(row.OFFICE_ADDRESS_LINE_1).lower():\n",
    "#             print(f' {row.OFFICE_ADDRESS_LINE_1} is not {row.Name_CNAM}')\n",
    "        if row.Name_CNAM == 'None':\n",
    "            no_name += 1\n",
    "\n",
    "\n",
    "\n",
    "    new_dict = {\n",
    "        'First Name Matches': first_name_match,\n",
    "        'Last Name Matches': last_name_match,\n",
    "        'Relevant Names': healthy,\n",
    "        'Workplace Name Match': workplace_match,\n",
    "        'No Name': no_name\n",
    "        }\n",
    "        \n",
    "    return(new_dict)"
   ]
  },
  {
   "cell_type": "code",
   "execution_count": 28,
   "metadata": {},
   "outputs": [],
   "source": [
    "def is_healthy(name):\n",
    "    med_words = ['mortuary', 'oncology', 'surgical', 'obgyn', 'family practice', 'diagnost', 'glaucoma', 'anesthesi', 'radiolo', 'dr.',' ortho',' knee ', 'dr ', ' ear ', ' surgi', 'radiology','cancer', 'cardiology', 'neurology', 'family care', 'pulmonary', 'anesthesia', 'orthope', 'urgent care', 'allergy', 'kidney', 'surgery', 'hosp', 'mri', 'throat', 'dentist', 'med', 'clinic', 'health', 'gastroenter','anesthesiologist','patient','physician','surgeon','doctor','hospital', 'md', 'medical', 'pediatrics', 'm.d.']\n",
    "    healthy = False\n",
    "    for word in med_words:\n",
    "        if word in str(name).lower():\n",
    "            healthy = True   \n",
    "    return(healthy)"
   ]
  },
  {
   "cell_type": "code",
   "execution_count": 41,
   "metadata": {},
   "outputs": [
    {
     "data": {
      "text/plain": [
       "{'First Name Matches': 5,\n",
       " 'Last Name Matches': 5,\n",
       " 'Relevant Names': 43,\n",
       " 'Workplace Name Match': 7,\n",
       " 'No Name': 0}"
      ]
     },
     "execution_count": 41,
     "metadata": {},
     "output_type": "execute_result"
    }
   ],
   "source": [
    "analyze_CNAM_numbers(connected)"
   ]
  },
  {
   "cell_type": "code",
   "execution_count": 42,
   "metadata": {},
   "outputs": [
    {
     "data": {
      "text/plain": [
       "{'First Name Matches': 6,\n",
       " 'Last Name Matches': 14,\n",
       " 'Relevant Names': 28,\n",
       " 'Workplace Name Match': 5,\n",
       " 'No Name': 1}"
      ]
     },
     "execution_count": 42,
     "metadata": {},
     "output_type": "execute_result"
    }
   ],
   "source": [
    "analyze_CNAM_numbers(disconnected)"
   ]
  },
  {
   "cell_type": "code",
   "execution_count": 43,
   "metadata": {},
   "outputs": [
    {
     "data": {
      "text/plain": [
       "{'First Name Matches': 3,\n",
       " 'Last Name Matches': 3,\n",
       " 'Relevant Names': 32,\n",
       " 'Workplace Name Match': 0,\n",
       " 'No Name': 0}"
      ]
     },
     "execution_count": 43,
     "metadata": {},
     "output_type": "execute_result"
    }
   ],
   "source": [
    "analyze_CNAM_numbers(wrong)"
   ]
  },
  {
   "cell_type": "code",
   "execution_count": null,
   "metadata": {},
   "outputs": [],
   "source": []
  }
 ],
 "metadata": {
  "kernelspec": {
   "display_name": "Python 3",
   "language": "python",
   "name": "python3"
  },
  "language_info": {
   "codemirror_mode": {
    "name": "ipython",
    "version": 3
   },
   "file_extension": ".py",
   "mimetype": "text/x-python",
   "name": "python",
   "nbconvert_exporter": "python",
   "pygments_lexer": "ipython3",
   "version": "3.7.3"
  }
 },
 "nbformat": 4,
 "nbformat_minor": 2
}
