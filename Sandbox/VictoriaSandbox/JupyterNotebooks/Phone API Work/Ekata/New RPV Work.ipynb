{
 "cells": [
  {
   "cell_type": "code",
   "execution_count": 1,
   "metadata": {},
   "outputs": [],
   "source": [
    "import pandas as pd"
   ]
  },
  {
   "cell_type": "code",
   "execution_count": 4,
   "metadata": {},
   "outputs": [],
   "source": [
    "RPV = pd.read_csv('../RPV_results.csv')"
   ]
  },
  {
   "cell_type": "code",
   "execution_count": 14,
   "metadata": {},
   "outputs": [],
   "source": [
    "disconnected = RPV[RPV['DISCONNECTED']==True]"
   ]
  },
  {
   "cell_type": "code",
   "execution_count": 15,
   "metadata": {},
   "outputs": [],
   "source": [
    "connected = RPV[RPV['DISCONNECTED']==False]"
   ]
  },
  {
   "cell_type": "code",
   "execution_count": 10,
   "metadata": {},
   "outputs": [],
   "source": [
    "wslive = pd.read_csv('../../wslive_with_results_2019-08-02_to_2019-08-23.csv')"
   ]
  },
  {
   "cell_type": "code",
   "execution_count": 20,
   "metadata": {},
   "outputs": [],
   "source": [
    "WSLIVE = wslive[['PHYSICIAN_ME_NUMBER','PHYSICIAN_FIRST_NAME','PHYSICIAN_MIDDLE_NAME','PHYSICIAN_LAST_NAME','OFFICE_ADDRESS_LINE_1',\n",
    "       'OFFICE_ADDRESS_LINE_2','OFFICE_ADDRESS_CITY','OFFICE_ADDRESS_STATE','OFFICE_ADDRESS_ZIP','OFFICE_TELEPHONE']]"
   ]
  },
  {
   "cell_type": "code",
   "execution_count": 23,
   "metadata": {},
   "outputs": [],
   "source": [
    "DISCONNECTED = disconnected[disconnected['Method']=='REST']\n",
    "CONNECTED = connected[connected['Method']=='REST']"
   ]
  },
  {
   "cell_type": "code",
   "execution_count": 34,
   "metadata": {},
   "outputs": [],
   "source": [
    "DISCONNECTED_FULL = pd.merge(DISCONNECTED, WSLIVE, on='OFFICE_TELEPHONE')\n",
    "CONNECTED_FULL = pd.merge(CONNECTED, WSLIVE, on='OFFICE_TELEPHONE')"
   ]
  },
  {
   "cell_type": "code",
   "execution_count": 37,
   "metadata": {},
   "outputs": [],
   "source": [
    "ekata_new_connected_numbers = CONNECTED_FULL.sample(50)"
   ]
  },
  {
   "cell_type": "code",
   "execution_count": 38,
   "metadata": {},
   "outputs": [],
   "source": [
    "ekata_new_disconnected_numbers = DISCONNECTED_FULL.sample(50)"
   ]
  },
  {
   "cell_type": "code",
   "execution_count": 40,
   "metadata": {},
   "outputs": [],
   "source": [
    "ekata_new_connected_numbers.to_csv('ekata_connected_new_august.csv')\n",
    "ekata_new_disconnected_numbers.to_csv('ekata_disconnected_new_august.csv')"
   ]
  },
  {
   "cell_type": "code",
   "execution_count": 2,
   "metadata": {},
   "outputs": [
    {
     "ename": "NameError",
     "evalue": "name 'ekata_new_connected_numbers' is not defined",
     "output_type": "error",
     "traceback": [
      "\u001b[1;31m---------------------------------------------------------------------------\u001b[0m",
      "\u001b[1;31mNameError\u001b[0m                                 Traceback (most recent call last)",
      "\u001b[1;32m<ipython-input-2-215d9f00f686>\u001b[0m in \u001b[0;36m<module>\u001b[1;34m\u001b[0m\n\u001b[1;32m----> 1\u001b[1;33m \u001b[0mekata_new_connected_numbers\u001b[0m\u001b[1;33m\u001b[0m\u001b[1;33m\u001b[0m\u001b[0m\n\u001b[0m",
      "\u001b[1;31mNameError\u001b[0m: name 'ekata_new_connected_numbers' is not defined"
     ]
    }
   ],
   "source": [
    "pd.read_csv('ekata_new_connected_numbers"
   ]
  },
  {
   "cell_type": "code",
   "execution_count": null,
   "metadata": {},
   "outputs": [],
   "source": []
  }
 ],
 "metadata": {
  "kernelspec": {
   "display_name": "Python 3",
   "language": "python",
   "name": "python3"
  },
  "language_info": {
   "codemirror_mode": {
    "name": "ipython",
    "version": 3
   },
   "file_extension": ".py",
   "mimetype": "text/x-python",
   "name": "python",
   "nbconvert_exporter": "python",
   "pygments_lexer": "ipython3",
   "version": "3.7.3"
  }
 },
 "nbformat": 4,
 "nbformat_minor": 2
}
