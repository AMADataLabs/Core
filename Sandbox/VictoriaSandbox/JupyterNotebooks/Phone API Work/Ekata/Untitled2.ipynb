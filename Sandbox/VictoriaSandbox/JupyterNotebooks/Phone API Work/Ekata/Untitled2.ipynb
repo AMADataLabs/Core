{
 "cells": [
  {
   "cell_type": "code",
   "execution_count": 3,
   "metadata": {},
   "outputs": [],
   "source": [
    "import requests"
   ]
  },
  {
   "cell_type": "code",
   "execution_count": 2,
   "metadata": {},
   "outputs": [],
   "source": [
    "key = 'XXXXX'\n",
    "phone='2069735100'"
   ]
  },
  {
   "cell_type": "code",
   "execution_count": 4,
   "metadata": {},
   "outputs": [],
   "source": [
    "def reverse_lookup(phone_number):\n",
    "    info_dict = {}\n",
    "    base_url = 'https://proapi.whitepages.com/3.1/phone?'\n",
    "    parameters = {'phone':phone_number, 'api_key': key}\n",
    "    response =  requests.get(base_url, params=parameters)\n",
    "    results = response.json()\n",
    "    info_dict['OFFICE_TELEPHONE'] = phone_number\n",
    "    try:\n",
    "        info_dict[\"Name\"] = results['belongs_to']['name']\n",
    "    except:\n",
    "        info_dict[\"Name\"] = 'N/A'\n",
    "    try:\n",
    "        info_dict[\"Address\"] = results['current_addresses'][0]['street_line_1']\n",
    "    except:\n",
    "        info_dict[\"Address\"] = 'N/A'\n",
    "    try:\n",
    "        info_dict[\"City\"] = results['current_addresses'][0]['city']\n",
    "    except:\n",
    "        info_dict[\"City\"] = 'N/A'\n",
    "    try:\n",
    "        info_dict[\"State\"] = results['current_addresses'][0]['state_code']\n",
    "    except:\n",
    "        info_dict[\"State\"] = 'N/A'\n",
    "    try:\n",
    "        info_dict[\"PhoneType\"] = results['belongs_to']['type']\n",
    "    except:\n",
    "        info_dict[\"PhoneType\"] = 'N/A'\n",
    "    try:\n",
    "        info_dict[\"Valid\"] = results['is_valid']\n",
    "    except:\n",
    "        info_dict[\"Valid\"] = 'N/A'\n",
    "    try:\n",
    "        info_dict[\"Date\"] = results['current_addresses'][0]['link_to_person_start_date']\n",
    "    except:\n",
    "        info_dict[\"Date\"] = 'N/A'\n",
    "    try:\n",
    "        info_dict[\"LineType\"] = results['line_type']\n",
    "    except:\n",
    "        info_dict[\"LineType\"] = 'N/A'\n",
    "    try:\n",
    "        info_dict[\"Carrier\"] = results['carrier']\n",
    "    except:\n",
    "        info_dict[\"Carrier\"] = 'N/A'\n",
    "    try:\n",
    "        info_dict[\"Commercial\"] = results['is_commercial']\n",
    "    except:\n",
    "        info_dict[\"Commercial\"] ='N/A'\n",
    "    try:\n",
    "        info_dict[\"Industry\"] = results['belongs_to']['industry'][0]\n",
    "    except:\n",
    "        info_dict[\"Industry\"] = 'N/A'\n",
    "    try:\n",
    "        info_dict[\"AlternatePhone\"] = results['alternate_phones'][0]['phone_number']\n",
    "    except:\n",
    "        info_dict[\"AlternatePhone\"] = 'N/A'\n",
    "    try:\n",
    "        info_dict['Error'] = results['error']\n",
    "    except:\n",
    "        info_dict['Error'] = 'None'\n",
    "    return(info_dict, results)"
   ]
  },
  {
   "cell_type": "code",
   "execution_count": 5,
   "metadata": {},
   "outputs": [
    {
     "data": {
      "text/plain": [
       "({'OFFICE_TELEPHONE': '2069735100',\n",
       "  'Name': 'N/A',\n",
       "  'Address': 'N/A',\n",
       "  'City': 'N/A',\n",
       "  'State': 'N/A',\n",
       "  'PhoneType': 'N/A',\n",
       "  'Valid': 'N/A',\n",
       "  'Date': 'N/A',\n",
       "  'LineType': 'N/A',\n",
       "  'Carrier': 'N/A',\n",
       "  'Commercial': 'N/A',\n",
       "  'Industry': 'N/A',\n",
       "  'AlternatePhone': 'N/A',\n",
       "  'Error': {'message': 'Authorization record not found.',\n",
       "   'name': 'AuthError'}},\n",
       " {'error': {'message': 'Authorization record not found.',\n",
       "   'name': 'AuthError'}})"
      ]
     },
     "execution_count": 5,
     "metadata": {},
     "output_type": "execute_result"
    }
   ],
   "source": [
    "reverse_lookup(phone)"
   ]
  },
  {
   "cell_type": "code",
   "execution_count": 18,
   "metadata": {},
   "outputs": [],
   "source": [
    "with open('data.txt', 'w') as outfile:\n",
    "    json.dump(data, outfile)"
   ]
  },
  {
   "cell_type": "code",
   "execution_count": 19,
   "metadata": {},
   "outputs": [],
   "source": [
    "import json\n",
    "import xmltodict"
   ]
  },
  {
   "cell_type": "code",
   "execution_count": 17,
   "metadata": {},
   "outputs": [],
   "source": [
    "data = {\n",
    "  \"id\": \"Phone.3dbb6fef-a2df-4b08-cfe3-bc7128b6f5b4\",\n",
    "  \"phone_number\": \"2069735100\",\n",
    "  \"is_valid\": True,\n",
    "  \"country_calling_code\": \"US\",\n",
    "  \"line_type\": \"NonFixedVOIP\",\n",
    "  \"carrier\": \"Ekata Telco\",\n",
    "  \"is_prepaid\": False,\n",
    "  \"is_commercial\": True,\n",
    "  \"belongs_to\": {\n",
    "    \"id\": \"Business.d455e455-e647-4304-9679-06bd9550c568\",\n",
    "    \"name\": \"string\",\n",
    "    \"firstname\": \"string\",\n",
    "    \"middlename\": \"string\",\n",
    "    \"lastname\": \"string\",\n",
    "    \"alternate_names\": [\n",
    "      \"string\"\n",
    "    ],\n",
    "    \"age_range\": \"string\",\n",
    "    \"gender\": \"string\",\n",
    "    \"type\": \"Business\",\n",
    "    \"link_to_phone_start_date\": \"string\",\n",
    "    \"industry\": [\n",
    "      \"string\"\n",
    "    ]\n",
    "  },\n",
    "  \"current_addresses\": [\n",
    "    {\n",
    "      \"id\": \"Location.d1a40ed5-a70a-46f8-80a9-bb4ac27e3a01\",\n",
    "      \"location_type\": \"Address\",\n",
    "      \"street_line_1\": \"100 Syrws St\",\n",
    "      \"street_line_2\": \"Ste 1\",\n",
    "      \"city\": \"Lynden\",\n",
    "      \"postal_code\": \"98264\",\n",
    "      \"zip4\": \"98264-9999\",\n",
    "      \"state_code\": \"WA\",\n",
    "      \"country_code\": \"US\",\n",
    "      \"lat_long\": {\n",
    "        \"latitude\": 0,\n",
    "        \"longitude\": 0,\n",
    "        \"accuracy\": \"Neighborhood\"\n",
    "      },\n",
    "      \"is_active\": True,\n",
    "      \"delivery_point\": \"POBox\",\n",
    "      \"link_to_person_start_date\": \"string\"\n",
    "    }\n",
    "  ],\n",
    "  \"historical_addresses\": [\n",
    "    {\n",
    "      \"id\": \"Location.d1a40ed5-a70a-46f8-80a9-bb4ac27e3a01\",\n",
    "      \"location_type\": \"Address\",\n",
    "      \"street_line_1\": \"100 Syrws St\",\n",
    "      \"street_line_2\": \"Ste 1\",\n",
    "      \"city\": \"Lynden\",\n",
    "      \"postal_code\": \"98264\",\n",
    "      \"zip4\": \"98264-9999\",\n",
    "      \"state_code\": \"WA\",\n",
    "      \"country_code\": \"US\",\n",
    "      \"lat_long\": {\n",
    "        \"latitude\": 0,\n",
    "        \"longitude\": 0,\n",
    "        \"accuracy\": \"Neighborhood\"\n",
    "      },\n",
    "      \"is_active\": True,\n",
    "      \"delivery_point\": \"POBox\",\n",
    "      \"link_to_person_start_date\": \"string\",\n",
    "      \"link_to_person_end_date\": \"string\"\n",
    "    }\n",
    "  ],\n",
    "  \"associated_people\": [\n",
    "    {\n",
    "      \"id\": \"Person.fffdcf06-0929-4b5a-9921-ee49b101ca84\",\n",
    "      \"name\": \"Waidong L Syrws\",\n",
    "      \"firstname\": \"Waidong\",\n",
    "      \"middlename\": \"L\",\n",
    "      \"lastname\": \"Syrws\",\n",
    "      \"relation\": \"NoLink\"\n",
    "    }\n",
    "  ],\n",
    "  \"alternate_phones\": [\n",
    "    {\n",
    "      \"id\": \"Phone.3dbb6fef-a2df-4b08-cfe3-bc7128b6f5b4\",\n",
    "      \"phone_number\": \"2069735100\",\n",
    "      \"line_type\": \"NonFixedVOIP\"\n",
    "    }\n",
    "  ],\n",
    "  \"error\": {\n",
    "    \"name\": \"PartialError\",\n",
    "    \"message\": \"Could not retrieve entire response\"\n",
    "  },\n",
    "  \"warnings\": [\n",
    "    \"Invalid Input\"\n",
    "  ]\n",
    "}"
   ]
  },
  {
   "cell_type": "code",
   "execution_count": 20,
   "metadata": {},
   "outputs": [],
   "source": [
    "results = '''\n",
    "<?xml version=\"1.0\"?>\n",
    "<PhoneInfoResponse xmlns=\"http://www.serviceobjects.com\" xmlns:i=\"http://www.w3.org/2001/XMLSchema-instance\">\n",
    "  <PhoneInfo>\n",
    "    <Provider>\n",
    "      <Name>T-MOBILE USA, INC.</Name>\n",
    "      <City>SANTA BARBARA</City>\n",
    "      <State>CALIFORNIA</State>\n",
    "      <Latitude>34.43</Latitude>\n",
    "      <Longitude>-119.74</Longitude>\n",
    "      <LineType>WIRELESS</LineType>\n",
    "    </Provider>\n",
    "    <Contacts>\n",
    "      <Contact>\n",
    "        <Name>OLEG SHAROV</Name>\n",
    "        <Address>4685 VIA LOS SANTOS</Address>\n",
    "        <City>SANTA BARBARA</City>\n",
    "        <State>CA</State>\n",
    "        <PostalCode>93111-1346</PostalCode>\n",
    "        <PhoneType>RESIDENTIAL</PhoneType>\n",
    "        <Latitude>34.456227</Latitude>\n",
    "        <Longitude>-119.785284</Longitude>\n",
    "        <SICCode/>\n",
    "        <SICDesc/>\n",
    "        <QualityScore>HIGH</QualityScore>\n",
    "      </Contact>\n",
    "    </Contacts>\n",
    "    <SMSAddress>8052522016@tmomail.net</SMSAddress>\n",
    "    <MMSAddress>8052522016@tmomail.net</MMSAddress>\n",
    "    <DateFirstSeen/>\n",
    "    <DateOfPorting>2018-12-21</DateOfPorting>\n",
    "    <NoteCodes>1,2,3,4</NoteCodes>\n",
    "    <NoteDescriptions>IsMailable,IsConnected,IsPorted,IsWireless</NoteDescriptions>\n",
    "    <TokensUsed>115</TokensUsed>\n",
    "  </PhoneInfo>\n",
    "</PhoneInfoResponse>\n",
    "'''"
   ]
  },
  {
   "cell_type": "code",
   "execution_count": 23,
   "metadata": {},
   "outputs": [
    {
     "ename": "ExpatError",
     "evalue": "XML or text declaration not at start of entity: line 2, column 0",
     "output_type": "error",
     "traceback": [
      "\u001b[1;31m---------------------------------------------------------------------------\u001b[0m",
      "\u001b[1;31mExpatError\u001b[0m                                Traceback (most recent call last)",
      "\u001b[1;32m<ipython-input-23-521a49771e77>\u001b[0m in \u001b[0;36m<module>\u001b[1;34m\u001b[0m\n\u001b[1;32m----> 1\u001b[1;33m \u001b[0mxmltodict\u001b[0m\u001b[1;33m.\u001b[0m\u001b[0mparse\u001b[0m\u001b[1;33m(\u001b[0m\u001b[0mresults\u001b[0m\u001b[1;33m)\u001b[0m\u001b[1;33m\u001b[0m\u001b[1;33m\u001b[0m\u001b[0m\n\u001b[0m",
      "\u001b[1;32m~\\AppData\\Local\\Programs\\anaconda3\\lib\\site-packages\\xmltodict.py\u001b[0m in \u001b[0;36mparse\u001b[1;34m(xml_input, encoding, expat, process_namespaces, namespace_separator, disable_entities, **kwargs)\u001b[0m\n\u001b[0;32m    325\u001b[0m         \u001b[0mparser\u001b[0m\u001b[1;33m.\u001b[0m\u001b[0mParseFile\u001b[0m\u001b[1;33m(\u001b[0m\u001b[0mxml_input\u001b[0m\u001b[1;33m)\u001b[0m\u001b[1;33m\u001b[0m\u001b[1;33m\u001b[0m\u001b[0m\n\u001b[0;32m    326\u001b[0m     \u001b[1;32melse\u001b[0m\u001b[1;33m:\u001b[0m\u001b[1;33m\u001b[0m\u001b[1;33m\u001b[0m\u001b[0m\n\u001b[1;32m--> 327\u001b[1;33m         \u001b[0mparser\u001b[0m\u001b[1;33m.\u001b[0m\u001b[0mParse\u001b[0m\u001b[1;33m(\u001b[0m\u001b[0mxml_input\u001b[0m\u001b[1;33m,\u001b[0m \u001b[1;32mTrue\u001b[0m\u001b[1;33m)\u001b[0m\u001b[1;33m\u001b[0m\u001b[1;33m\u001b[0m\u001b[0m\n\u001b[0m\u001b[0;32m    328\u001b[0m     \u001b[1;32mreturn\u001b[0m \u001b[0mhandler\u001b[0m\u001b[1;33m.\u001b[0m\u001b[0mitem\u001b[0m\u001b[1;33m\u001b[0m\u001b[1;33m\u001b[0m\u001b[0m\n\u001b[0;32m    329\u001b[0m \u001b[1;33m\u001b[0m\u001b[0m\n",
      "\u001b[1;31mExpatError\u001b[0m: XML or text declaration not at start of entity: line 2, column 0"
     ]
    }
   ],
   "source": [
    "xmltodict.parse(results)"
   ]
  },
  {
   "cell_type": "code",
   "execution_count": 26,
   "metadata": {},
   "outputs": [],
   "source": [
    "def reverse_lookup2(phone_number):\n",
    "    info_dict = {}\n",
    "    base_url = \"https://trial.serviceobjects.com/GPPL2/api.svc/GetPhoneInfo\"\n",
    "    parameters = {'PhoneNumber':phone_number, 'LicenseKey': key}\n",
    "    response =  requests.get(base_url, params=parameters)\n",
    "    results = xmltodict.parse(response.content)\n",
    "    try:\n",
    "        phone_results = results[\"PhoneInfoResponse\"][\"PhoneInfo\"]\n",
    "    except:\n",
    "        return(results)\n",
    "    info_dict[\"Number\"] = phone_number\n",
    "    try:\n",
    "        info_dict[\"Name\"] = phone_results[\"Contacts\"]['Contact'][\"Name\"]\n",
    "    except:\n",
    "        info_dict[\"Name\"] = 'N/A'\n",
    "    try:\n",
    "        info_dict[\"Address\"] = phone_results[\"Contacts\"]['Contact'][\"Address\"]\n",
    "    except:\n",
    "        info_dict[\"Address\"] = 'None'\n",
    "    try:\n",
    "        info_dict[\"City\"] = phone_results[\"Contacts\"]['Contact'][\"City\"]\n",
    "    except:\n",
    "        info_dict[\"City\"] = 'N/A'\n",
    "    try:\n",
    "        info_dict[\"State\"] = phone_results[\"Contacts\"]['Contact'][\"State\"]\n",
    "    except:\n",
    "        info_dict[\"State\"] = 'N/A'\n",
    "    try:\n",
    "        info_dict[\"PhoneType\"] = phone_results[\"Contacts\"]['Contact'][\"PhoneType\"]\n",
    "    except:\n",
    "        info_dict[\"PhoneType\"] = 'N/A'\n",
    "    try:\n",
    "        info_dict[\"QualityScore\"] = phone_results[\"Contacts\"]['Contact'][\"QualityScore\"]\n",
    "    except:\n",
    "        info_dict[\"QualityScore\"] = 'N/A'\n",
    "    try:\n",
    "        info_dict[\"Date\"] = phone_results[\"DateOfPorting\"]\n",
    "    except:\n",
    "        info_dict[\"Date\"] = 'none'\n",
    "    try:\n",
    "        info_dict[\"Notes\"] = phone_results[\"NoteDescriptions\"]\n",
    "    except:\n",
    "        info_dict[\"Notes\"] = 'None'\n",
    "    try:\n",
    "        info_dict[\"Provider\"] = phone_results['Provider']['Name']\n",
    "    except:\n",
    "        info_dict[\"Provider\"] = 'N/A'\n",
    "    return(info_dict, results)"
   ]
  },
  {
   "cell_type": "code",
   "execution_count": 28,
   "metadata": {},
   "outputs": [],
   "source": [
    "x = reverse_lookup2('7732395590')"
   ]
  },
  {
   "cell_type": "code",
   "execution_count": 29,
   "metadata": {},
   "outputs": [
    {
     "data": {
      "text/plain": [
       "'{\"PhoneInfoResponse\": {\"@xmlns\": \"http://www.serviceobjects.com\", \"@xmlns:i\": \"http://www.w3.org/2001/XMLSchema-instance\", \"Error\": {\"Type\": \"Authorization\", \"TypeCode\": \"1\", \"Desc\": \"Please provide a valid license key for this web service.\", \"DescCode\": \"1\"}}}'"
      ]
     },
     "execution_count": 29,
     "metadata": {},
     "output_type": "execute_result"
    }
   ],
   "source": [
    "json.dumps(x)"
   ]
  },
  {
   "cell_type": "code",
   "execution_count": 30,
   "metadata": {},
   "outputs": [
    {
     "data": {
      "text/plain": [
       "OrderedDict([('PhoneInfoResponse',\n",
       "              OrderedDict([('@xmlns', 'http://www.serviceobjects.com'),\n",
       "                           ('@xmlns:i',\n",
       "                            'http://www.w3.org/2001/XMLSchema-instance'),\n",
       "                           ('Error',\n",
       "                            OrderedDict([('Type', 'Authorization'),\n",
       "                                         ('TypeCode', '1'),\n",
       "                                         ('Desc',\n",
       "                                          'Please provide a valid license key for this web service.'),\n",
       "                                         ('DescCode', '1')]))]))])"
      ]
     },
     "execution_count": 30,
     "metadata": {},
     "output_type": "execute_result"
    }
   ],
   "source": [
    "x"
   ]
  },
  {
   "cell_type": "code",
   "execution_count": null,
   "metadata": {},
   "outputs": [],
   "source": []
  }
 ],
 "metadata": {
  "kernelspec": {
   "display_name": "Python 3",
   "language": "python",
   "name": "python3"
  },
  "language_info": {
   "codemirror_mode": {
    "name": "ipython",
    "version": 3
   },
   "file_extension": ".py",
   "mimetype": "text/x-python",
   "name": "python",
   "nbconvert_exporter": "python",
   "pygments_lexer": "ipython3",
   "version": "3.7.3"
  }
 },
 "nbformat": 4,
 "nbformat_minor": 2
}
