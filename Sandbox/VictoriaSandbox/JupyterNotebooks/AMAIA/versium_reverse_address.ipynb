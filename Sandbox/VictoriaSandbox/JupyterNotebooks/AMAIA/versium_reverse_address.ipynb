{
 "cells": [
  {
   "cell_type": "code",
   "execution_count": 1,
   "metadata": {},
   "outputs": [],
   "source": [
    "import pandas as pd\n",
    "import requests\n",
    "import xmltodict\n",
    "import json\n",
    "import matplotlib.pyplot as plt"
   ]
  },
  {
   "cell_type": "code",
   "execution_count": 2,
   "metadata": {},
   "outputs": [],
   "source": [
    "KEY = 'bae44c49-56d6-4169-a358-062081098275'"
   ]
  },
  {
   "cell_type": "code",
   "execution_count": 3,
   "metadata": {},
   "outputs": [],
   "source": [
    "address = '10819 S drake'\n",
    "state = 'IL'\n",
    "city = 'Chicago'\n",
    "zipcode = '60655'"
   ]
  },
  {
   "cell_type": "code",
   "execution_count": 5,
   "metadata": {},
   "outputs": [],
   "source": [
    "base_url = \"https://api.versium.com/v1.0/address?\"\n",
    "parameters = {'address':address, \n",
    "              'key': KEY,\n",
    "              'state': state,\n",
    "              'city':city,\n",
    "              'zip':zipcode}\n",
    "response =  requests.get(base_url, params=parameters)\n",
    "results = response.json()"
   ]
  },
  {
   "cell_type": "code",
   "execution_count": 11,
   "metadata": {},
   "outputs": [
    {
     "data": {
      "text/plain": [
       "{'match_score': '83',\n",
       " 'timestamp': '20190701',\n",
       " 'first': 'VICTORIA',\n",
       " 'middle': 'A',\n",
       " 'last': 'GROSE',\n",
       " 'address': '10819 S DRAKE AVE',\n",
       " 'city': 'CHICAGO',\n",
       " 'state': 'IL',\n",
       " 'zip': '60655',\n",
       " 'country': 'US',\n",
       " 'phone': '7732395590',\n",
       " 'line_type': 'LANDLINE'}"
      ]
     },
     "execution_count": 11,
     "metadata": {},
     "output_type": "execute_result"
    }
   ],
   "source": [
    "for row in data.itertuples()\n",
    "    results['versium']['results'][3]"
   ]
  },
  {
   "cell_type": "code",
   "execution_count": null,
   "metadata": {},
   "outputs": [],
   "source": []
  }
 ],
 "metadata": {
  "kernelspec": {
   "display_name": "Python 3",
   "language": "python",
   "name": "python3"
  },
  "language_info": {
   "codemirror_mode": {
    "name": "ipython",
    "version": 3
   },
   "file_extension": ".py",
   "mimetype": "text/x-python",
   "name": "python",
   "nbconvert_exporter": "python",
   "pygments_lexer": "ipython3",
   "version": "3.7.4"
  }
 },
 "nbformat": 4,
 "nbformat_minor": 2
}
