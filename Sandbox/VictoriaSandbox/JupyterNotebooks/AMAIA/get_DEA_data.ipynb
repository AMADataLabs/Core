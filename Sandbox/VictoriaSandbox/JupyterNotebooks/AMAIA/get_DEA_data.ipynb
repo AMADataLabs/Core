{
 "cells": [
  {
   "cell_type": "code",
   "execution_count": 2,
   "metadata": {},
   "outputs": [],
   "source": [
    "import pandas as pd\n",
    "import pyodbc\n",
    "from auth import username, password\n",
    "import pgeocode\n",
    "import numpy as np"
   ]
  },
  {
   "cell_type": "code",
   "execution_count": 3,
   "metadata": {},
   "outputs": [],
   "source": [
    "s = \"DSN=PRDDW; UID={}; PWD={}\".format(username, password)\n",
    "AMAEDW = pyodbc.connect(s)"
   ]
  },
  {
   "cell_type": "code",
   "execution_count": 1,
   "metadata": {},
   "outputs": [],
   "source": [
    "sql_query = \\\n",
    "    \"\"\" \n",
    "    SELECT DISTINCT\n",
    "    D.PARTY_ID, \n",
    "    D.REPORTED_NM AS NAME,\n",
    "    D.FROM_DT,\n",
    "    P.ADDR_1, \n",
    "    P.ADDR_2, \n",
    "    P.ADDR_3, \n",
    "    P.CITY, \n",
    "    S.SRC_STATE_CD AS STATE_CD, \n",
    "    P.POST_CD AS ZIP\n",
    "    FROM \n",
    "    AMAEDW.POST_CD P, AMAEDW.STATE S, AMAEDW.DEA_REG D\n",
    "    WHERE  \n",
    "    D.POST_CD_ID = P.POST_CD_ID \n",
    "    AND\n",
    "    P.STATE_ID = S.STATE_ID\n",
    "    ORDER BY D.FROM_DT DESC;\n",
    "    \"\"\""
   ]
  },
  {
   "cell_type": "code",
   "execution_count": 4,
   "metadata": {},
   "outputs": [
    {
     "name": "stdout",
     "output_type": "stream",
     "text": [
      "(1152021, 9)\n"
     ]
    },
    {
     "data": {
      "text/html": [
       "<div>\n",
       "<style scoped>\n",
       "    .dataframe tbody tr th:only-of-type {\n",
       "        vertical-align: middle;\n",
       "    }\n",
       "\n",
       "    .dataframe tbody tr th {\n",
       "        vertical-align: top;\n",
       "    }\n",
       "\n",
       "    .dataframe thead th {\n",
       "        text-align: right;\n",
       "    }\n",
       "</style>\n",
       "<table border=\"1\" class=\"dataframe\">\n",
       "  <thead>\n",
       "    <tr style=\"text-align: right;\">\n",
       "      <th></th>\n",
       "      <th>PARTY_ID</th>\n",
       "      <th>NAME</th>\n",
       "      <th>FROM_DT</th>\n",
       "      <th>ADDR_1</th>\n",
       "      <th>ADDR_2</th>\n",
       "      <th>ADDR_3</th>\n",
       "      <th>CITY</th>\n",
       "      <th>STATE_CD</th>\n",
       "      <th>ZIP</th>\n",
       "    </tr>\n",
       "  </thead>\n",
       "  <tbody>\n",
       "    <tr>\n",
       "      <th>0</th>\n",
       "      <td>2444841</td>\n",
       "      <td>BARTON, ANDREW J MD</td>\n",
       "      <td>2019-10-28 00:08:33</td>\n",
       "      <td>81 Highland Ave</td>\n",
       "      <td>North Shore Medical Center</td>\n",
       "      <td></td>\n",
       "      <td>Salem</td>\n",
       "      <td>MA</td>\n",
       "      <td>01970</td>\n",
       "    </tr>\n",
       "    <tr>\n",
       "      <th>1</th>\n",
       "      <td>2291044</td>\n",
       "      <td>BLOG, DEBRA MD</td>\n",
       "      <td>2019-10-28 00:08:33</td>\n",
       "      <td>Room 503 Corning Tower</td>\n",
       "      <td>Nys Doh Division Of Epidemiology</td>\n",
       "      <td>Limited To Official Government Duties On</td>\n",
       "      <td>Albany</td>\n",
       "      <td>NY</td>\n",
       "      <td>12237</td>\n",
       "    </tr>\n",
       "    <tr>\n",
       "      <th>2</th>\n",
       "      <td>4577155</td>\n",
       "      <td>SINGLETON, LORI, M, (MD)</td>\n",
       "      <td>2019-10-28 00:08:33</td>\n",
       "      <td>720 Westview Dr SW</td>\n",
       "      <td>Morehouse School Of Medicine</td>\n",
       "      <td></td>\n",
       "      <td>Atlanta</td>\n",
       "      <td>GA</td>\n",
       "      <td>30310</td>\n",
       "    </tr>\n",
       "    <tr>\n",
       "      <th>3</th>\n",
       "      <td>3493733</td>\n",
       "      <td>BEDI, GURDESH S. MD</td>\n",
       "      <td>2019-10-28 00:08:33</td>\n",
       "      <td>235 E State St</td>\n",
       "      <td>St Croix Regional Medical Center</td>\n",
       "      <td></td>\n",
       "      <td>St Croix Fls</td>\n",
       "      <td>WI</td>\n",
       "      <td>54024</td>\n",
       "    </tr>\n",
       "    <tr>\n",
       "      <th>4</th>\n",
       "      <td>3521690</td>\n",
       "      <td>BENGTSON, HANS C. M.D.</td>\n",
       "      <td>2019-10-28 00:08:33</td>\n",
       "      <td>1381 Jefferson Rd</td>\n",
       "      <td></td>\n",
       "      <td></td>\n",
       "      <td>Northfield</td>\n",
       "      <td>MN</td>\n",
       "      <td>55057</td>\n",
       "    </tr>\n",
       "  </tbody>\n",
       "</table>\n",
       "</div>"
      ],
      "text/plain": [
       "   PARTY_ID                      NAME             FROM_DT  \\\n",
       "0   2444841       BARTON, ANDREW J MD 2019-10-28 00:08:33   \n",
       "1   2291044            BLOG, DEBRA MD 2019-10-28 00:08:33   \n",
       "2   4577155  SINGLETON, LORI, M, (MD) 2019-10-28 00:08:33   \n",
       "3   3493733       BEDI, GURDESH S. MD 2019-10-28 00:08:33   \n",
       "4   3521690    BENGTSON, HANS C. M.D. 2019-10-28 00:08:33   \n",
       "\n",
       "                   ADDR_1                            ADDR_2  \\\n",
       "0         81 Highland Ave        North Shore Medical Center   \n",
       "1  Room 503 Corning Tower  Nys Doh Division Of Epidemiology   \n",
       "2      720 Westview Dr SW      Morehouse School Of Medicine   \n",
       "3          235 E State St  St Croix Regional Medical Center   \n",
       "4       1381 Jefferson Rd                                     \n",
       "\n",
       "                                     ADDR_3                          CITY  \\\n",
       "0                                            Salem                          \n",
       "1  Limited To Official Government Duties On                        Albany   \n",
       "2                                            Atlanta                        \n",
       "3                                            St Croix Fls                   \n",
       "4                                            Northfield                     \n",
       "\n",
       "  STATE_CD         ZIP  \n",
       "0       MA  01970       \n",
       "1       NY       12237  \n",
       "2       GA  30310       \n",
       "3       WI  54024       \n",
       "4       MN  55057       "
      ]
     },
     "execution_count": 4,
     "metadata": {},
     "output_type": "execute_result"
    }
   ],
   "source": [
    "dea = pd.read_sql(con=AMAEDW, sql=sql_query)\n",
    "DEA = dea.drop_duplicates(subset = 'PARTY_ID', keep='first')\n",
    "print(dea.shape)\n",
    "dea.head()"
   ]
  },
  {
   "cell_type": "code",
   "execution_count": 5,
   "metadata": {},
   "outputs": [
    {
     "data": {
      "text/plain": [
       "(996471, 9)"
      ]
     },
     "execution_count": 5,
     "metadata": {},
     "output_type": "execute_result"
    }
   ],
   "source": [
    "DEA.shape"
   ]
  },
  {
   "cell_type": "code",
   "execution_count": 8,
   "metadata": {},
   "outputs": [],
   "source": [
    "DEA.to_csv('DEA_dump.csv')"
   ]
  },
  {
   "cell_type": "code",
   "execution_count": 7,
   "metadata": {},
   "outputs": [],
   "source": [
    "DEA = DEA.drop(columns='PARTY_ID')"
   ]
  }
 ],
 "metadata": {
  "kernelspec": {
   "display_name": "Python 3",
   "language": "python",
   "name": "python3"
  },
  "language_info": {
   "codemirror_mode": {
    "name": "ipython",
    "version": 3
   },
   "file_extension": ".py",
   "mimetype": "text/x-python",
   "name": "python",
   "nbconvert_exporter": "python",
   "pygments_lexer": "ipython3",
   "version": "3.7.4"
  }
 },
 "nbformat": 4,
 "nbformat_minor": 2
}
