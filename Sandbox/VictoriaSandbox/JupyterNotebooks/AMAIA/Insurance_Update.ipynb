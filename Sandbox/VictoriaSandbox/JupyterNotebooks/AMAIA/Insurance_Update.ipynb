{
 "cells": [
  {
   "cell_type": "code",
   "execution_count": null,
   "metadata": {},
   "outputs": [],
   "source": [
    "##Import Dependencies"
   ]
  },
  {
   "cell_type": "code",
   "execution_count": 1,
   "metadata": {},
   "outputs": [],
   "source": [
    "import pandas as pd\n",
    "import pyodbc\n",
    "import pgeocode\n",
    "import numpy as np"
   ]
  },
  {
   "cell_type": "code",
   "execution_count": 45,
   "metadata": {},
   "outputs": [
    {
     "name": "stderr",
     "output_type": "stream",
     "text": [
      "C:\\Users\\vigrose\\AppData\\Local\\Continuum\\anaconda3\\lib\\site-packages\\fuzzywuzzy\\fuzz.py:11: UserWarning: Using slow pure-python SequenceMatcher. Install python-Levenshtein to remove this warning\n",
      "  warnings.warn('Using slow pure-python SequenceMatcher. Install python-Levenshtein to remove this warning')\n"
     ]
    }
   ],
   "source": [
    "from fuzzywuzzy import fuzz"
   ]
  },
  {
   "cell_type": "code",
   "execution_count": null,
   "metadata": {},
   "outputs": [],
   "source": [
    "##Connect to the database"
   ]
  },
  {
   "cell_type": "code",
   "execution_count": 2,
   "metadata": {},
   "outputs": [],
   "source": [
    "username = 'vigrose'\n",
    "password = 'slytherin10946'"
   ]
  },
  {
   "cell_type": "code",
   "execution_count": 3,
   "metadata": {},
   "outputs": [],
   "source": [
    "s = \"DSN=PRDDW; UID={}; PWD={}\".format(username, password)\n",
    "AMAEDW = pyodbc.connect(s)"
   ]
  },
  {
   "cell_type": "code",
   "execution_count": null,
   "metadata": {},
   "outputs": [],
   "source": [
    "##Read in all latest insurance addresses"
   ]
  },
  {
   "cell_type": "code",
   "execution_count": 4,
   "metadata": {},
   "outputs": [],
   "source": [
    "sql_query = \\\n",
    "    \"\"\" \n",
    "    SELECT DISTINCT\n",
    "    A.PARTY_ID, \n",
    "    K.KEY_VAL AS ME, \n",
    "    A.POST_CD_ID,\n",
    "    A.FROM_DT,\n",
    "    C.PURPOSE_TYPE_DESC AS ADDR_TYPE, \n",
    "    P.ADDR_1, \n",
    "    P.ADDR_2, \n",
    "    P.ADDR_3, \n",
    "    P.CITY, \n",
    "    S.SRC_STATE_CD AS STATE_CD, \n",
    "    P.POST_CD AS ZIP\n",
    "    FROM \n",
    "    AMAEDW.PARTY_KEY K, AMAEDW.PARTY_ADDR A, AMAEDW.CONT_PURPOSE_TYPE C, AMAEDW.POST_CD P, AMAEDW.STATE S \n",
    "    WHERE  \n",
    "    A.THRU_DT IS NULL\n",
    "    AND\n",
    "    K.PARTY_ID = A.PARTY_ID \n",
    "    AND \n",
    "    K.KEY_TYPE_ID = 18 \n",
    "    AND \n",
    "    K.ACTIVE_IND = 'Y'\n",
    "    AND\n",
    "    C.PURPOSE_TYPE_ID IN (1)\n",
    "    AND\n",
    "    A.POST_CD_ID = P.POST_CD_ID \n",
    "    AND\n",
    "    P.STATE_ID = S.STATE_ID\n",
    "    ORDER BY A.FROM_DT DESC;\n",
    "    \"\"\""
   ]
  },
  {
   "cell_type": "code",
   "execution_count": 5,
   "metadata": {},
   "outputs": [
    {
     "name": "stdout",
     "output_type": "stream",
     "text": [
      "(1599453, 11)\n"
     ]
    },
    {
     "data": {
      "text/html": [
       "<div>\n",
       "<style scoped>\n",
       "    .dataframe tbody tr th:only-of-type {\n",
       "        vertical-align: middle;\n",
       "    }\n",
       "\n",
       "    .dataframe tbody tr th {\n",
       "        vertical-align: top;\n",
       "    }\n",
       "\n",
       "    .dataframe thead th {\n",
       "        text-align: right;\n",
       "    }\n",
       "</style>\n",
       "<table border=\"1\" class=\"dataframe\">\n",
       "  <thead>\n",
       "    <tr style=\"text-align: right;\">\n",
       "      <th></th>\n",
       "      <th>PARTY_ID</th>\n",
       "      <th>ME</th>\n",
       "      <th>POST_CD_ID</th>\n",
       "      <th>FROM_DT</th>\n",
       "      <th>ADDR_TYPE</th>\n",
       "      <th>ADDR_1</th>\n",
       "      <th>ADDR_2</th>\n",
       "      <th>ADDR_3</th>\n",
       "      <th>CITY</th>\n",
       "      <th>STATE_CD</th>\n",
       "      <th>ZIP</th>\n",
       "    </tr>\n",
       "  </thead>\n",
       "  <tbody>\n",
       "    <tr>\n",
       "      <td>0</td>\n",
       "      <td>2450352</td>\n",
       "      <td>05107840674</td>\n",
       "      <td>15160468</td>\n",
       "      <td>2020-03-18 00:09:46</td>\n",
       "      <td>Billing</td>\n",
       "      <td>5 Medical Park Dr Ste 203</td>\n",
       "      <td></td>\n",
       "      <td></td>\n",
       "      <td>Benton</td>\n",
       "      <td>AR</td>\n",
       "      <td>72015</td>\n",
       "    </tr>\n",
       "    <tr>\n",
       "      <td>1</td>\n",
       "      <td>2425956</td>\n",
       "      <td>04501990596</td>\n",
       "      <td>15176853</td>\n",
       "      <td>2020-03-18 00:09:46</td>\n",
       "      <td>Billing</td>\n",
       "      <td>4700 Waters Ave</td>\n",
       "      <td>Memorial Health</td>\n",
       "      <td></td>\n",
       "      <td>Savannah</td>\n",
       "      <td>GA</td>\n",
       "      <td>31404</td>\n",
       "    </tr>\n",
       "    <tr>\n",
       "      <td>2</td>\n",
       "      <td>1885558</td>\n",
       "      <td>01222990536</td>\n",
       "      <td>15759865</td>\n",
       "      <td>2020-03-18 00:09:46</td>\n",
       "      <td>Billing</td>\n",
       "      <td>1208 Ella St</td>\n",
       "      <td></td>\n",
       "      <td></td>\n",
       "      <td>Anderson</td>\n",
       "      <td>SC</td>\n",
       "      <td>29621</td>\n",
       "    </tr>\n",
       "    <tr>\n",
       "      <td>3</td>\n",
       "      <td>1877201</td>\n",
       "      <td>01201000854</td>\n",
       "      <td>19331882</td>\n",
       "      <td>2020-03-18 00:09:46</td>\n",
       "      <td>Billing</td>\n",
       "      <td>2436 Allegheny Ln</td>\n",
       "      <td></td>\n",
       "      <td></td>\n",
       "      <td>Watkinsville</td>\n",
       "      <td>GA</td>\n",
       "      <td>30677</td>\n",
       "    </tr>\n",
       "    <tr>\n",
       "      <td>4</td>\n",
       "      <td>2050792</td>\n",
       "      <td>02101821113</td>\n",
       "      <td>22092866</td>\n",
       "      <td>2020-03-18 00:09:46</td>\n",
       "      <td>Billing</td>\n",
       "      <td>1600 W 40th Ave</td>\n",
       "      <td></td>\n",
       "      <td></td>\n",
       "      <td>Pine Bluff</td>\n",
       "      <td>AR</td>\n",
       "      <td>71603</td>\n",
       "    </tr>\n",
       "  </tbody>\n",
       "</table>\n",
       "</div>"
      ],
      "text/plain": [
       "   PARTY_ID           ME  POST_CD_ID             FROM_DT ADDR_TYPE  \\\n",
       "0   2450352  05107840674    15160468 2020-03-18 00:09:46   Billing   \n",
       "1   2425956  04501990596    15176853 2020-03-18 00:09:46   Billing   \n",
       "2   1885558  01222990536    15759865 2020-03-18 00:09:46   Billing   \n",
       "3   1877201  01201000854    19331882 2020-03-18 00:09:46   Billing   \n",
       "4   2050792  02101821113    22092866 2020-03-18 00:09:46   Billing   \n",
       "\n",
       "                      ADDR_1           ADDR_2 ADDR_3  \\\n",
       "0  5 Medical Park Dr Ste 203                           \n",
       "1            4700 Waters Ave  Memorial Health          \n",
       "2               1208 Ella St                           \n",
       "3          2436 Allegheny Ln                           \n",
       "4            1600 W 40th Ave                           \n",
       "\n",
       "                           CITY STATE_CD         ZIP  \n",
       "0  Benton                             AR  72015       \n",
       "1  Savannah                           GA  31404       \n",
       "2  Anderson                           SC  29621       \n",
       "3  Watkinsville                       GA  30677       \n",
       "4  Pine Bluff                         AR  71603       "
      ]
     },
     "execution_count": 5,
     "metadata": {},
     "output_type": "execute_result"
    }
   ],
   "source": [
    "insurance = pd.read_sql(con=AMAEDW, sql=sql_query)\n",
    "insurance = insurance.drop_duplicates(subset = 'PARTY_ID', keep='first')\n",
    "print(insurance.shape)\n",
    "insurance.head()"
   ]
  },
  {
   "cell_type": "code",
   "execution_count": 14,
   "metadata": {},
   "outputs": [],
   "source": [
    "dhc = pd.read_csv('DHC_March_Delta.csv')"
   ]
  },
  {
   "cell_type": "code",
   "execution_count": 35,
   "metadata": {},
   "outputs": [],
   "source": [
    "nums =[]\n",
    "for num in list(dhc['ME_feb']):\n",
    "    num = num.replace('.0','')\n",
    "    if len(num)==10:\n",
    "        num = '0'+num\n",
    "    elif len(num)==9:\n",
    "        num = '00'+num\n",
    "    elif len(num)==8:\n",
    "        num = '000'+num\n",
    "    nums.append(num)"
   ]
  },
  {
   "cell_type": "code",
   "execution_count": 37,
   "metadata": {},
   "outputs": [],
   "source": [
    "dhc['ME'] = nums"
   ]
  },
  {
   "cell_type": "code",
   "execution_count": 31,
   "metadata": {},
   "outputs": [],
   "source": [
    "dhc_2 = dhc[dhc['ME_feb']!='None']"
   ]
  },
  {
   "cell_type": "code",
   "execution_count": 23,
   "metadata": {},
   "outputs": [
    {
     "data": {
      "text/plain": [
       "0           05107840674\n",
       "1           04501990596\n",
       "2           01222990536\n",
       "3           01201000854\n",
       "4           02101821113\n",
       "               ...     \n",
       "14216157    01606689957\n",
       "14227024    01606769926\n",
       "14237322    02401980221\n",
       "14307953    00512010695\n",
       "14308220    01001001422\n",
       "Name: ME, Length: 1599453, dtype: object"
      ]
     },
     "execution_count": 23,
     "metadata": {},
     "output_type": "execute_result"
    }
   ],
   "source": [
    "insurance['ME']"
   ]
  },
  {
   "cell_type": "code",
   "execution_count": 40,
   "metadata": {},
   "outputs": [],
   "source": [
    "merged = pd.merge(dhc, insurance, on='ME')"
   ]
  },
  {
   "cell_type": "code",
   "execution_count": 43,
   "metadata": {},
   "outputs": [
    {
     "data": {
      "text/html": [
       "<div>\n",
       "<style scoped>\n",
       "    .dataframe tbody tr th:only-of-type {\n",
       "        vertical-align: middle;\n",
       "    }\n",
       "\n",
       "    .dataframe tbody tr th {\n",
       "        vertical-align: top;\n",
       "    }\n",
       "\n",
       "    .dataframe thead th {\n",
       "        text-align: right;\n",
       "    }\n",
       "</style>\n",
       "<table border=\"1\" class=\"dataframe\">\n",
       "  <thead>\n",
       "    <tr style=\"text-align: right;\">\n",
       "      <th></th>\n",
       "      <th>Address_feb</th>\n",
       "      <th>Address_mar</th>\n",
       "      <th>ADDR_1</th>\n",
       "      <th>ADDR_2</th>\n",
       "    </tr>\n",
       "  </thead>\n",
       "  <tbody>\n",
       "    <tr>\n",
       "      <td>0</td>\n",
       "      <td>121 Medical Center Dr</td>\n",
       "      <td>Medical Office Building</td>\n",
       "      <td>850 Baxter Blvd</td>\n",
       "      <td></td>\n",
       "    </tr>\n",
       "    <tr>\n",
       "      <td>1</td>\n",
       "      <td>1101 Veterans Dr</td>\n",
       "      <td>830 S Limestone</td>\n",
       "      <td>900 S. Limestone Street</td>\n",
       "      <td>University Of Kentucky</td>\n",
       "    </tr>\n",
       "    <tr>\n",
       "      <td>2</td>\n",
       "      <td>531 W College St</td>\n",
       "      <td>c/o PAMC Surgery Department</td>\n",
       "      <td>1725 Loma Rd</td>\n",
       "      <td></td>\n",
       "    </tr>\n",
       "    <tr>\n",
       "      <td>3</td>\n",
       "      <td>8080 Parkway Dr</td>\n",
       "      <td>8080 Parkway Dr</td>\n",
       "      <td>15434 Sky High Rd</td>\n",
       "      <td></td>\n",
       "    </tr>\n",
       "    <tr>\n",
       "      <td>4</td>\n",
       "      <td>13652 Cantara St</td>\n",
       "      <td>13652 Cantara St</td>\n",
       "      <td>13652 Cantara St</td>\n",
       "      <td></td>\n",
       "    </tr>\n",
       "    <tr>\n",
       "      <td>...</td>\n",
       "      <td>...</td>\n",
       "      <td>...</td>\n",
       "      <td>...</td>\n",
       "      <td>...</td>\n",
       "    </tr>\n",
       "    <tr>\n",
       "      <td>7943</td>\n",
       "      <td>1200 Pleasant St</td>\n",
       "      <td>1200 Pleasant St</td>\n",
       "      <td>1200 Pleasant St</td>\n",
       "      <td></td>\n",
       "    </tr>\n",
       "    <tr>\n",
       "      <td>7944</td>\n",
       "      <td>2351 Erwin Road</td>\n",
       "      <td>2351 Erwin Rd</td>\n",
       "      <td>15902 Wyandotte St</td>\n",
       "      <td>None</td>\n",
       "    </tr>\n",
       "    <tr>\n",
       "      <td>7945</td>\n",
       "      <td>1116 Lucerne Ter</td>\n",
       "      <td>1116 Lucerne Ter</td>\n",
       "      <td>1116 Lucerne Ter</td>\n",
       "      <td></td>\n",
       "    </tr>\n",
       "    <tr>\n",
       "      <td>7946</td>\n",
       "      <td>1400 N. I-35</td>\n",
       "      <td>1400 N Interstate 35</td>\n",
       "      <td>1400 N Interstate 35</td>\n",
       "      <td>Ut At Austin Dell Em Residency Program, Suite ...</td>\n",
       "    </tr>\n",
       "    <tr>\n",
       "      <td>7947</td>\n",
       "      <td>1800 Orleans St</td>\n",
       "      <td>101 Manning Dr</td>\n",
       "      <td>706 Huntington Ave</td>\n",
       "      <td>Apt 402</td>\n",
       "    </tr>\n",
       "  </tbody>\n",
       "</table>\n",
       "<p>7948 rows × 4 columns</p>\n",
       "</div>"
      ],
      "text/plain": [
       "                Address_feb                  Address_mar  \\\n",
       "0     121 Medical Center Dr      Medical Office Building   \n",
       "1          1101 Veterans Dr              830 S Limestone   \n",
       "2          531 W College St  c/o PAMC Surgery Department   \n",
       "3           8080 Parkway Dr              8080 Parkway Dr   \n",
       "4          13652 Cantara St             13652 Cantara St   \n",
       "...                     ...                          ...   \n",
       "7943       1200 Pleasant St             1200 Pleasant St   \n",
       "7944        2351 Erwin Road                2351 Erwin Rd   \n",
       "7945       1116 Lucerne Ter             1116 Lucerne Ter   \n",
       "7946           1400 N. I-35         1400 N Interstate 35   \n",
       "7947        1800 Orleans St               101 Manning Dr   \n",
       "\n",
       "                       ADDR_1  \\\n",
       "0             850 Baxter Blvd   \n",
       "1     900 S. Limestone Street   \n",
       "2                1725 Loma Rd   \n",
       "3           15434 Sky High Rd   \n",
       "4            13652 Cantara St   \n",
       "...                       ...   \n",
       "7943         1200 Pleasant St   \n",
       "7944       15902 Wyandotte St   \n",
       "7945         1116 Lucerne Ter   \n",
       "7946     1400 N Interstate 35   \n",
       "7947       706 Huntington Ave   \n",
       "\n",
       "                                                 ADDR_2  \n",
       "0                                                        \n",
       "1                                University Of Kentucky  \n",
       "2                                                        \n",
       "3                                                        \n",
       "4                                                        \n",
       "...                                                 ...  \n",
       "7943                                                     \n",
       "7944                                               None  \n",
       "7945                                                     \n",
       "7946  Ut At Austin Dell Em Residency Program, Suite ...  \n",
       "7947                                            Apt 402  \n",
       "\n",
       "[7948 rows x 4 columns]"
      ]
     },
     "execution_count": 43,
     "metadata": {},
     "output_type": "execute_result"
    }
   ],
   "source": [
    "merged[['Address_feb','Address_mar','ADDR_1','ADDR_2']]"
   ]
  },
  {
   "cell_type": "code",
   "execution_count": 100,
   "metadata": {},
   "outputs": [],
   "source": [
    "count = 0\n",
    "match = []\n",
    "for row in DHC_MERGE.itertuples():\n",
    "    if fuzz.ratio(row.Address_mar,row.ADDR_1)>70:\n",
    "        count += 1\n",
    "        match.append(True)\n",
    "    else:\n",
    "        match.append(False)"
   ]
  },
  {
   "cell_type": "code",
   "execution_count": 101,
   "metadata": {},
   "outputs": [],
   "source": [
    "DHC_MERGE['Match']=match"
   ]
  },
  {
   "cell_type": "code",
   "execution_count": 103,
   "metadata": {},
   "outputs": [
    {
     "data": {
      "text/html": [
       "<div>\n",
       "<style scoped>\n",
       "    .dataframe tbody tr th:only-of-type {\n",
       "        vertical-align: middle;\n",
       "    }\n",
       "\n",
       "    .dataframe tbody tr th {\n",
       "        vertical-align: top;\n",
       "    }\n",
       "\n",
       "    .dataframe thead th {\n",
       "        text-align: right;\n",
       "    }\n",
       "</style>\n",
       "<table border=\"1\" class=\"dataframe\">\n",
       "  <thead>\n",
       "    <tr style=\"text-align: right;\">\n",
       "      <th></th>\n",
       "      <th>NPI</th>\n",
       "      <th>ME_feb</th>\n",
       "      <th>Additional Office Locations_feb</th>\n",
       "      <th>Phone_Number_feb</th>\n",
       "      <th>Zip Code_feb</th>\n",
       "      <th>State_feb</th>\n",
       "      <th>City_feb</th>\n",
       "      <th>Address_feb</th>\n",
       "      <th>First Name_feb</th>\n",
       "      <th>Physician Name_feb</th>\n",
       "      <th>...</th>\n",
       "      <th>POST_CD_ID_POLO</th>\n",
       "      <th>ADDR_1_POLO</th>\n",
       "      <th>ADDR_2_POLO</th>\n",
       "      <th>ADDR_3_POLO</th>\n",
       "      <th>CITY_POLO</th>\n",
       "      <th>STATE_CD_POLO</th>\n",
       "      <th>ZIP_POLO</th>\n",
       "      <th>FROM_DT_POLO</th>\n",
       "      <th>POST_KEY</th>\n",
       "      <th>Match</th>\n",
       "    </tr>\n",
       "  </thead>\n",
       "  <tbody>\n",
       "    <tr>\n",
       "      <td>0</td>\n",
       "      <td>1538110820</td>\n",
       "      <td>18743010015.0</td>\n",
       "      <td>Little Rock, AR - Springdale, AR</td>\n",
       "      <td>501.364.1202</td>\n",
       "      <td>72202</td>\n",
       "      <td>AR</td>\n",
       "      <td>Rock</td>\n",
       "      <td>1 Children's Way Little</td>\n",
       "      <td>Felipe</td>\n",
       "      <td>Felipe Medeiros</td>\n",
       "      <td>...</td>\n",
       "      <td>19877248.0</td>\n",
       "      <td>9415 Campus Point Dr</td>\n",
       "      <td></td>\n",
       "      <td></td>\n",
       "      <td>La Jolla</td>\n",
       "      <td>CA</td>\n",
       "      <td>92093</td>\n",
       "      <td>2011-05-10 21:29:01.338102</td>\n",
       "      <td>12125265.0</td>\n",
       "      <td>False</td>\n",
       "    </tr>\n",
       "    <tr>\n",
       "      <td>1</td>\n",
       "      <td>1548449663</td>\n",
       "      <td>87501000467.0</td>\n",
       "      <td>Weatherford, TX - Burleson, TX - Fort Worth, TX</td>\n",
       "      <td>469.698.1000</td>\n",
       "      <td>75032</td>\n",
       "      <td>TX</td>\n",
       "      <td>Rockwall</td>\n",
       "      <td>3150 Horizon Rd</td>\n",
       "      <td>Fysal</td>\n",
       "      <td>Fysal Albaalbaki</td>\n",
       "      <td>...</td>\n",
       "      <td>26223335.0</td>\n",
       "      <td>508 S Adams St</td>\n",
       "      <td>Ste 102</td>\n",
       "      <td></td>\n",
       "      <td>Fort Worth</td>\n",
       "      <td>TX</td>\n",
       "      <td>76104</td>\n",
       "      <td>2016-11-03 21:34:58.038529</td>\n",
       "      <td>20412429.0</td>\n",
       "      <td>False</td>\n",
       "    </tr>\n",
       "    <tr>\n",
       "      <td>2</td>\n",
       "      <td>1467637025</td>\n",
       "      <td>24352950056.0</td>\n",
       "      <td>None</td>\n",
       "      <td>914.493.8793</td>\n",
       "      <td>10595</td>\n",
       "      <td>NY</td>\n",
       "      <td>Valhalla</td>\n",
       "      <td>100 Woods Rd</td>\n",
       "      <td>Minghao</td>\n",
       "      <td>Minghao Zhong</td>\n",
       "      <td>...</td>\n",
       "      <td>21793871.0</td>\n",
       "      <td>100 Woods Rd</td>\n",
       "      <td></td>\n",
       "      <td></td>\n",
       "      <td>Valhalla</td>\n",
       "      <td>NY</td>\n",
       "      <td>10595</td>\n",
       "      <td>2014-02-27 21:28:10.862490</td>\n",
       "      <td>15576720.0</td>\n",
       "      <td>False</td>\n",
       "    </tr>\n",
       "    <tr>\n",
       "      <td>3</td>\n",
       "      <td>1477852713</td>\n",
       "      <td>3545110945.0</td>\n",
       "      <td>None</td>\n",
       "      <td>253.382.8450</td>\n",
       "      <td>98405</td>\n",
       "      <td>WA</td>\n",
       "      <td>Tacoma</td>\n",
       "      <td>1708 Yakima Ave Ste 112</td>\n",
       "      <td>Michael</td>\n",
       "      <td>Michael Lin</td>\n",
       "      <td>...</td>\n",
       "      <td>10682187.0</td>\n",
       "      <td>428 E 72nd St</td>\n",
       "      <td>Ofc 500</td>\n",
       "      <td></td>\n",
       "      <td>New York</td>\n",
       "      <td>NY</td>\n",
       "      <td>10021</td>\n",
       "      <td>2019-12-22 21:07:40.217374</td>\n",
       "      <td>8078813.0</td>\n",
       "      <td>True</td>\n",
       "    </tr>\n",
       "    <tr>\n",
       "      <td>4</td>\n",
       "      <td>1497075626</td>\n",
       "      <td>4802100707.0</td>\n",
       "      <td>Fort Worth, TX - Cleburne, TX - Stephenville, ...</td>\n",
       "      <td>None</td>\n",
       "      <td>75028</td>\n",
       "      <td>TX</td>\n",
       "      <td>Flower Mound</td>\n",
       "      <td>4400 Long Prairie Rd</td>\n",
       "      <td>Justin</td>\n",
       "      <td>Justin Tran</td>\n",
       "      <td>...</td>\n",
       "      <td>25943158.0</td>\n",
       "      <td>5323 Harry Hines Blvd</td>\n",
       "      <td>Radiology Dept</td>\n",
       "      <td>Univ of Texas Southwestern Med Ctr</td>\n",
       "      <td>Dallas</td>\n",
       "      <td>TX</td>\n",
       "      <td>75390</td>\n",
       "      <td>2015-08-08 17:59:26.815387</td>\n",
       "      <td>20150019.0</td>\n",
       "      <td>False</td>\n",
       "    </tr>\n",
       "    <tr>\n",
       "      <td>...</td>\n",
       "      <td>...</td>\n",
       "      <td>...</td>\n",
       "      <td>...</td>\n",
       "      <td>...</td>\n",
       "      <td>...</td>\n",
       "      <td>...</td>\n",
       "      <td>...</td>\n",
       "      <td>...</td>\n",
       "      <td>...</td>\n",
       "      <td>...</td>\n",
       "      <td>...</td>\n",
       "      <td>...</td>\n",
       "      <td>...</td>\n",
       "      <td>...</td>\n",
       "      <td>...</td>\n",
       "      <td>...</td>\n",
       "      <td>...</td>\n",
       "      <td>...</td>\n",
       "      <td>...</td>\n",
       "      <td>...</td>\n",
       "      <td>...</td>\n",
       "    </tr>\n",
       "    <tr>\n",
       "      <td>1095</td>\n",
       "      <td>1164840682</td>\n",
       "      <td>2101141805.0</td>\n",
       "      <td>Kingston, PA</td>\n",
       "      <td>570.288.3601</td>\n",
       "      <td>18704</td>\n",
       "      <td>PA</td>\n",
       "      <td>Kingston</td>\n",
       "      <td>423 3rd Ave Ste B</td>\n",
       "      <td>Daniel</td>\n",
       "      <td>Daniel Rittenberg</td>\n",
       "      <td>...</td>\n",
       "      <td>25942858.0</td>\n",
       "      <td>HSC T-9 Rm 040</td>\n",
       "      <td>Urology Pgm</td>\n",
       "      <td>SUNY Stony Brook Univ</td>\n",
       "      <td>Stony Brook</td>\n",
       "      <td>NY</td>\n",
       "      <td>11794</td>\n",
       "      <td>2015-08-13 21:51:24.481991</td>\n",
       "      <td>20150154.0</td>\n",
       "      <td>True</td>\n",
       "    </tr>\n",
       "    <tr>\n",
       "      <td>1096</td>\n",
       "      <td>1205185345</td>\n",
       "      <td>70425090460.0</td>\n",
       "      <td>None</td>\n",
       "      <td>214.590.8058</td>\n",
       "      <td>75235</td>\n",
       "      <td>TX</td>\n",
       "      <td>Dallas</td>\n",
       "      <td>5201 Harry Hines Blvd</td>\n",
       "      <td>Afaq</td>\n",
       "      <td>Afaq Motiwala</td>\n",
       "      <td>...</td>\n",
       "      <td>20847739.0</td>\n",
       "      <td>3401 N Broad St</td>\n",
       "      <td>Cardiology Ste 945PP</td>\n",
       "      <td>Temple Univ Hosp</td>\n",
       "      <td>Philadelphia</td>\n",
       "      <td>PA</td>\n",
       "      <td>19140</td>\n",
       "      <td>2018-09-21 21:08:51.171414</td>\n",
       "      <td>14290576.0</td>\n",
       "      <td>False</td>\n",
       "    </tr>\n",
       "    <tr>\n",
       "      <td>1097</td>\n",
       "      <td>1760869374</td>\n",
       "      <td>1803150601.0</td>\n",
       "      <td>None</td>\n",
       "      <td>515.241.5926</td>\n",
       "      <td>50309</td>\n",
       "      <td>IA</td>\n",
       "      <td>Des Moines</td>\n",
       "      <td>1200 Pleasant St</td>\n",
       "      <td>Sarah</td>\n",
       "      <td>Sarah Francis</td>\n",
       "      <td>...</td>\n",
       "      <td>22156932.0</td>\n",
       "      <td>1400 S Dobson Rd</td>\n",
       "      <td></td>\n",
       "      <td></td>\n",
       "      <td>Mesa</td>\n",
       "      <td>AZ</td>\n",
       "      <td>85202</td>\n",
       "      <td>2018-06-22 20:49:51.410292</td>\n",
       "      <td>15437563.0</td>\n",
       "      <td>True</td>\n",
       "    </tr>\n",
       "    <tr>\n",
       "      <td>1098</td>\n",
       "      <td>1801271457</td>\n",
       "      <td>515140221.0</td>\n",
       "      <td>None</td>\n",
       "      <td>919.684.8434</td>\n",
       "      <td>27710</td>\n",
       "      <td>NC</td>\n",
       "      <td>Durham</td>\n",
       "      <td>2351 Erwin Road</td>\n",
       "      <td>Asghar</td>\n",
       "      <td>Asghar Haider</td>\n",
       "      <td>...</td>\n",
       "      <td>26708865.0</td>\n",
       "      <td>2020 Gravier St</td>\n",
       "      <td>Eye Ctr Ste B</td>\n",
       "      <td>LSU Health Sciences Ctr New Orleans</td>\n",
       "      <td>New Orleans</td>\n",
       "      <td>LA</td>\n",
       "      <td>70112</td>\n",
       "      <td>2016-08-04 21:30:39.920226</td>\n",
       "      <td>20750201.0</td>\n",
       "      <td>False</td>\n",
       "    </tr>\n",
       "    <tr>\n",
       "      <td>1099</td>\n",
       "      <td>1982946711</td>\n",
       "      <td>2401131089.0</td>\n",
       "      <td>None</td>\n",
       "      <td>410.955.2727</td>\n",
       "      <td>21287</td>\n",
       "      <td>MD</td>\n",
       "      <td>Baltimore</td>\n",
       "      <td>1800 Orleans St</td>\n",
       "      <td>Annika</td>\n",
       "      <td>Annika Barnett</td>\n",
       "      <td>...</td>\n",
       "      <td>24198896.0</td>\n",
       "      <td>1800 Orleans St Rm 8461</td>\n",
       "      <td>The Johns Hopkins Hospital</td>\n",
       "      <td>Charlotte R Bloomerg Children's Center</td>\n",
       "      <td>Baltimore</td>\n",
       "      <td>MD</td>\n",
       "      <td>21287</td>\n",
       "      <td>2014-10-09 21:05:30.842967</td>\n",
       "      <td>19646426.0</td>\n",
       "      <td>False</td>\n",
       "    </tr>\n",
       "  </tbody>\n",
       "</table>\n",
       "<p>1100 rows × 61 columns</p>\n",
       "</div>"
      ],
      "text/plain": [
       "             NPI         ME_feb  \\\n",
       "0     1538110820  18743010015.0   \n",
       "1     1548449663  87501000467.0   \n",
       "2     1467637025  24352950056.0   \n",
       "3     1477852713   3545110945.0   \n",
       "4     1497075626   4802100707.0   \n",
       "...          ...            ...   \n",
       "1095  1164840682   2101141805.0   \n",
       "1096  1205185345  70425090460.0   \n",
       "1097  1760869374   1803150601.0   \n",
       "1098  1801271457    515140221.0   \n",
       "1099  1982946711   2401131089.0   \n",
       "\n",
       "                        Additional Office Locations_feb Phone_Number_feb  \\\n",
       "0                      Little Rock, AR - Springdale, AR     501.364.1202   \n",
       "1       Weatherford, TX - Burleson, TX - Fort Worth, TX     469.698.1000   \n",
       "2                                                  None     914.493.8793   \n",
       "3                                                  None     253.382.8450   \n",
       "4     Fort Worth, TX - Cleburne, TX - Stephenville, ...             None   \n",
       "...                                                 ...              ...   \n",
       "1095                                       Kingston, PA     570.288.3601   \n",
       "1096                                               None     214.590.8058   \n",
       "1097                                               None     515.241.5926   \n",
       "1098                                               None     919.684.8434   \n",
       "1099                                               None     410.955.2727   \n",
       "\n",
       "     Zip Code_feb State_feb      City_feb              Address_feb  \\\n",
       "0           72202        AR          Rock  1 Children's Way Little   \n",
       "1           75032        TX      Rockwall          3150 Horizon Rd   \n",
       "2           10595        NY      Valhalla             100 Woods Rd   \n",
       "3           98405        WA        Tacoma  1708 Yakima Ave Ste 112   \n",
       "4           75028        TX  Flower Mound     4400 Long Prairie Rd   \n",
       "...           ...       ...           ...                      ...   \n",
       "1095        18704        PA      Kingston        423 3rd Ave Ste B   \n",
       "1096        75235        TX        Dallas    5201 Harry Hines Blvd   \n",
       "1097        50309        IA    Des Moines         1200 Pleasant St   \n",
       "1098        27710        NC        Durham          2351 Erwin Road   \n",
       "1099        21287        MD     Baltimore          1800 Orleans St   \n",
       "\n",
       "     First Name_feb Physician Name_feb  ... POST_CD_ID_POLO  \\\n",
       "0            Felipe    Felipe Medeiros  ...      19877248.0   \n",
       "1             Fysal   Fysal Albaalbaki  ...      26223335.0   \n",
       "2           Minghao      Minghao Zhong  ...      21793871.0   \n",
       "3           Michael        Michael Lin  ...      10682187.0   \n",
       "4            Justin        Justin Tran  ...      25943158.0   \n",
       "...             ...                ...  ...             ...   \n",
       "1095         Daniel  Daniel Rittenberg  ...      25942858.0   \n",
       "1096           Afaq      Afaq Motiwala  ...      20847739.0   \n",
       "1097          Sarah      Sarah Francis  ...      22156932.0   \n",
       "1098         Asghar      Asghar Haider  ...      26708865.0   \n",
       "1099         Annika     Annika Barnett  ...      24198896.0   \n",
       "\n",
       "                  ADDR_1_POLO                 ADDR_2_POLO  \\\n",
       "0        9415 Campus Point Dr                               \n",
       "1              508 S Adams St                     Ste 102   \n",
       "2                100 Woods Rd                               \n",
       "3               428 E 72nd St                     Ofc 500   \n",
       "4       5323 Harry Hines Blvd              Radiology Dept   \n",
       "...                       ...                         ...   \n",
       "1095           HSC T-9 Rm 040                 Urology Pgm   \n",
       "1096          3401 N Broad St        Cardiology Ste 945PP   \n",
       "1097         1400 S Dobson Rd                               \n",
       "1098          2020 Gravier St               Eye Ctr Ste B   \n",
       "1099  1800 Orleans St Rm 8461  The Johns Hopkins Hospital   \n",
       "\n",
       "                                 ADDR_3_POLO                     CITY_POLO  \\\n",
       "0                                             La Jolla                       \n",
       "1                                             Fort Worth                     \n",
       "2                                             Valhalla                       \n",
       "3                                             New York                       \n",
       "4         Univ of Texas Southwestern Med Ctr  Dallas                         \n",
       "...                                      ...                           ...   \n",
       "1095                   SUNY Stony Brook Univ  Stony Brook                    \n",
       "1096                        Temple Univ Hosp  Philadelphia                   \n",
       "1097                                          Mesa                           \n",
       "1098     LSU Health Sciences Ctr New Orleans  New Orleans                    \n",
       "1099  Charlotte R Bloomerg Children's Center  Baltimore                      \n",
       "\n",
       "     STATE_CD_POLO    ZIP_POLO               FROM_DT_POLO    POST_KEY  Match  \n",
       "0               CA  92093      2011-05-10 21:29:01.338102  12125265.0  False  \n",
       "1               TX  76104      2016-11-03 21:34:58.038529  20412429.0  False  \n",
       "2               NY  10595      2014-02-27 21:28:10.862490  15576720.0  False  \n",
       "3               NY  10021      2019-12-22 21:07:40.217374   8078813.0   True  \n",
       "4               TX  75390      2015-08-08 17:59:26.815387  20150019.0  False  \n",
       "...            ...         ...                        ...         ...    ...  \n",
       "1095            NY  11794      2015-08-13 21:51:24.481991  20150154.0   True  \n",
       "1096            PA  19140      2018-09-21 21:08:51.171414  14290576.0  False  \n",
       "1097            AZ  85202      2018-06-22 20:49:51.410292  15437563.0   True  \n",
       "1098            LA  70112      2016-08-04 21:30:39.920226  20750201.0  False  \n",
       "1099            MD  21287      2014-10-09 21:05:30.842967  19646426.0  False  \n",
       "\n",
       "[1100 rows x 61 columns]"
      ]
     },
     "execution_count": 103,
     "metadata": {},
     "output_type": "execute_result"
    }
   ],
   "source": [
    "DHC_MERGE"
   ]
  },
  {
   "cell_type": "code",
   "execution_count": 104,
   "metadata": {},
   "outputs": [
    {
     "data": {
      "text/plain": [
       "Index(['NPI', 'ME_feb', 'Additional Office Locations_feb', 'Phone_Number_feb',\n",
       "       'Zip Code_feb', 'State_feb', 'City_feb', 'Address_feb',\n",
       "       'First Name_feb', 'Physician Name_feb', 'Middle Name_feb',\n",
       "       'Primary Specialty_feb', 'Primary Hospital Affiliation_feb',\n",
       "       'Last Name_feb', 'Address1_feb', 'ME_mar',\n",
       "       'Additional Office Locations_mar', 'Phone_Number_mar', 'Zip Code_mar',\n",
       "       'State_mar', 'City_mar', 'Address_mar', 'First Name_mar',\n",
       "       'Physician Name_mar', 'Middle Name_mar', 'Primary Specialty_mar',\n",
       "       'Primary Hospital Affiliation_mar', 'Last Name_mar', 'Address1_mar',\n",
       "       'New', 'Phone_Update', 'Address_Update', 'ME', 'PARTY_ID', 'POST_CD_ID',\n",
       "       'FROM_DT', 'ADDR_TYPE', 'ADDR_1', 'ADDR_2', 'ADDR_3', 'CITY',\n",
       "       'STATE_CD', 'ZIP', 'POST_CD_ID_PPMA', 'ADDR_1_PPMA', 'ADDR_2_PPMA',\n",
       "       'ADDR_3_PPMA', 'CITY_PPMA', 'STATE_CD_PPMA', 'ZIP_PPMA', 'FROM_DT_PPMA',\n",
       "       'POST_CD_ID_POLO', 'ADDR_1_POLO', 'ADDR_2_POLO', 'ADDR_3_POLO',\n",
       "       'CITY_POLO', 'STATE_CD_POLO', 'ZIP_POLO', 'FROM_DT_POLO', 'POST_KEY',\n",
       "       'Match'],\n",
       "      dtype='object')"
      ]
     },
     "execution_count": 104,
     "metadata": {},
     "output_type": "execute_result"
    }
   ],
   "source": [
    "DHC_MERGE.columns"
   ]
  },
  {
   "cell_type": "code",
   "execution_count": 105,
   "metadata": {},
   "outputs": [
    {
     "data": {
      "text/html": [
       "<div>\n",
       "<style scoped>\n",
       "    .dataframe tbody tr th:only-of-type {\n",
       "        vertical-align: middle;\n",
       "    }\n",
       "\n",
       "    .dataframe tbody tr th {\n",
       "        vertical-align: top;\n",
       "    }\n",
       "\n",
       "    .dataframe thead th {\n",
       "        text-align: right;\n",
       "    }\n",
       "</style>\n",
       "<table border=\"1\" class=\"dataframe\">\n",
       "  <thead>\n",
       "    <tr style=\"text-align: right;\">\n",
       "      <th></th>\n",
       "      <th>Address_feb</th>\n",
       "      <th>Address_mar</th>\n",
       "      <th>Phone_Number_mar</th>\n",
       "    </tr>\n",
       "  </thead>\n",
       "  <tbody>\n",
       "    <tr>\n",
       "      <td>3</td>\n",
       "      <td>1708 Yakima Ave Ste 112</td>\n",
       "      <td>3100 Ne 28th St</td>\n",
       "      <td>541.994.8114</td>\n",
       "    </tr>\n",
       "    <tr>\n",
       "      <td>7</td>\n",
       "      <td>10180 Se Sunnyside Rd</td>\n",
       "      <td>10180 Se Sunnyside Rd</td>\n",
       "      <td>360.256.0556</td>\n",
       "    </tr>\n",
       "    <tr>\n",
       "      <td>12</td>\n",
       "      <td>2091 Nostrand Ave</td>\n",
       "      <td>900 W Clairemont Ave</td>\n",
       "      <td>715.717.4121</td>\n",
       "    </tr>\n",
       "    <tr>\n",
       "      <td>17</td>\n",
       "      <td>21601 76th Ave W</td>\n",
       "      <td>3322 Us Highway 22</td>\n",
       "      <td>908.378.7227</td>\n",
       "    </tr>\n",
       "    <tr>\n",
       "      <td>20</td>\n",
       "      <td>701 Enfield Street</td>\n",
       "      <td>701 Enfield St</td>\n",
       "      <td>860.741.6058</td>\n",
       "    </tr>\n",
       "    <tr>\n",
       "      <td>...</td>\n",
       "      <td>...</td>\n",
       "      <td>...</td>\n",
       "      <td>...</td>\n",
       "    </tr>\n",
       "    <tr>\n",
       "      <td>1091</td>\n",
       "      <td>515 Delaware Street Se</td>\n",
       "      <td>515 Delaware St Se</td>\n",
       "      <td>612.626.3111</td>\n",
       "    </tr>\n",
       "    <tr>\n",
       "      <td>1093</td>\n",
       "      <td>20 York St # Cb-2041</td>\n",
       "      <td>20 York St</td>\n",
       "      <td>203.688.4748</td>\n",
       "    </tr>\n",
       "    <tr>\n",
       "      <td>1094</td>\n",
       "      <td>6633 Telephone Rd</td>\n",
       "      <td>1250 16th St</td>\n",
       "      <td>310.319.4698</td>\n",
       "    </tr>\n",
       "    <tr>\n",
       "      <td>1095</td>\n",
       "      <td>423 3rd Ave Ste B</td>\n",
       "      <td>423 3rd Ave</td>\n",
       "      <td>570.288.3601</td>\n",
       "    </tr>\n",
       "    <tr>\n",
       "      <td>1097</td>\n",
       "      <td>1200 Pleasant St</td>\n",
       "      <td>1200 Pleasant St</td>\n",
       "      <td>515.241.5437</td>\n",
       "    </tr>\n",
       "  </tbody>\n",
       "</table>\n",
       "<p>341 rows × 3 columns</p>\n",
       "</div>"
      ],
      "text/plain": [
       "                  Address_feb            Address_mar Phone_Number_mar\n",
       "3     1708 Yakima Ave Ste 112        3100 Ne 28th St     541.994.8114\n",
       "7       10180 Se Sunnyside Rd  10180 Se Sunnyside Rd     360.256.0556\n",
       "12          2091 Nostrand Ave   900 W Clairemont Ave     715.717.4121\n",
       "17           21601 76th Ave W     3322 Us Highway 22     908.378.7227\n",
       "20         701 Enfield Street         701 Enfield St     860.741.6058\n",
       "...                       ...                    ...              ...\n",
       "1091   515 Delaware Street Se     515 Delaware St Se     612.626.3111\n",
       "1093     20 York St # Cb-2041             20 York St     203.688.4748\n",
       "1094        6633 Telephone Rd           1250 16th St     310.319.4698\n",
       "1095        423 3rd Ave Ste B            423 3rd Ave     570.288.3601\n",
       "1097         1200 Pleasant St       1200 Pleasant St     515.241.5437\n",
       "\n",
       "[341 rows x 3 columns]"
      ]
     },
     "execution_count": 105,
     "metadata": {},
     "output_type": "execute_result"
    }
   ],
   "source": [
    "DHC_MERGE[DHC_MERGE.Match == True][['Address_feb','Address_mar','Phone_Number_mar']]"
   ]
  },
  {
   "cell_type": "code",
   "execution_count": 51,
   "metadata": {},
   "outputs": [],
   "source": [
    "ranked = pd.read_csv('Polo_Addr_Rank_Scored_PPD_DPC_Pop.csv')"
   ]
  },
  {
   "cell_type": "code",
   "execution_count": null,
   "metadata": {},
   "outputs": [],
   "source": []
  },
  {
   "cell_type": "code",
   "execution_count": 6,
   "metadata": {},
   "outputs": [],
   "source": [
    "insurance_2 = insurance.drop_duplicates(subset = 'PARTY_ID', keep='first')"
   ]
  },
  {
   "cell_type": "code",
   "execution_count": null,
   "metadata": {},
   "outputs": [],
   "source": [
    "#Read all latest PPMA & POLO addresses"
   ]
  },
  {
   "cell_type": "code",
   "execution_count": 7,
   "metadata": {},
   "outputs": [],
   "source": [
    "sql_query_PPMA = \\\n",
    "    '''\n",
    "    SELECT DISTINCT \n",
    "    A.PARTY_ID, \n",
    "    A.POST_CD_ID,\n",
    "    P.ADDR_1, \n",
    "    P.ADDR_2, \n",
    "    P.ADDR_3, \n",
    "    P.CITY, \n",
    "    S.SRC_STATE_CD AS STATE_CD, \n",
    "    P.POST_CD AS ZIP,\n",
    "    A.FROM_DT\n",
    "    FROM \n",
    "    AMAEDW.POST_CD P, AMAEDW.STATE S , AMAEDW.PARTY_ADDR A, AMAEDW.CONT_PURPOSE_TYPE C\n",
    "    WHERE \n",
    "    A.PURPOSE_TYPE_ID=C.PURPOSE_TYPE_ID\n",
    "    AND\n",
    "    C.PURPOSE_CAT_CD='A'\n",
    "    AND\n",
    "    C.PURPOSE_USG_CD='PP'\n",
    "    AND\n",
    "    A.POST_CD_ID = P.POST_CD_ID \n",
    "    AND\n",
    "    P.STATE_ID = S.STATE_ID\n",
    "    AND \n",
    "    A.THRU_DT IS NULL\n",
    "    ORDER BY A.FROM_DT DESC\n",
    "        '''"
   ]
  },
  {
   "cell_type": "code",
   "execution_count": 8,
   "metadata": {},
   "outputs": [
    {
     "name": "stdout",
     "output_type": "stream",
     "text": [
      "(1602813, 9)\n"
     ]
    },
    {
     "data": {
      "text/html": [
       "<div>\n",
       "<style scoped>\n",
       "    .dataframe tbody tr th:only-of-type {\n",
       "        vertical-align: middle;\n",
       "    }\n",
       "\n",
       "    .dataframe tbody tr th {\n",
       "        vertical-align: top;\n",
       "    }\n",
       "\n",
       "    .dataframe thead th {\n",
       "        text-align: right;\n",
       "    }\n",
       "</style>\n",
       "<table border=\"1\" class=\"dataframe\">\n",
       "  <thead>\n",
       "    <tr style=\"text-align: right;\">\n",
       "      <th></th>\n",
       "      <th>PARTY_ID</th>\n",
       "      <th>POST_CD_ID</th>\n",
       "      <th>ADDR_1</th>\n",
       "      <th>ADDR_2</th>\n",
       "      <th>ADDR_3</th>\n",
       "      <th>CITY</th>\n",
       "      <th>STATE_CD</th>\n",
       "      <th>ZIP</th>\n",
       "      <th>FROM_DT</th>\n",
       "    </tr>\n",
       "  </thead>\n",
       "  <tbody>\n",
       "    <tr>\n",
       "      <td>0</td>\n",
       "      <td>11547914</td>\n",
       "      <td>30710349</td>\n",
       "      <td>330 N Wabash Ave</td>\n",
       "      <td>Fl 40</td>\n",
       "      <td></td>\n",
       "      <td>Chicago</td>\n",
       "      <td>IL</td>\n",
       "      <td>60611</td>\n",
       "      <td>2020-03-17 21:08:32.696113</td>\n",
       "    </tr>\n",
       "    <tr>\n",
       "      <td>1</td>\n",
       "      <td>15016645</td>\n",
       "      <td>30710394</td>\n",
       "      <td>5535 Hartsdale Dr</td>\n",
       "      <td></td>\n",
       "      <td></td>\n",
       "      <td>Jackson</td>\n",
       "      <td>MS</td>\n",
       "      <td>39211</td>\n",
       "      <td>2020-03-17 21:08:32.691398</td>\n",
       "    </tr>\n",
       "    <tr>\n",
       "      <td>2</td>\n",
       "      <td>6162817</td>\n",
       "      <td>30710336</td>\n",
       "      <td>142 Main St</td>\n",
       "      <td>Apt 2B</td>\n",
       "      <td></td>\n",
       "      <td>Mineola</td>\n",
       "      <td>NY</td>\n",
       "      <td>11501</td>\n",
       "      <td>2020-03-17 21:08:32.689417</td>\n",
       "    </tr>\n",
       "    <tr>\n",
       "      <td>3</td>\n",
       "      <td>6166527</td>\n",
       "      <td>30710335</td>\n",
       "      <td>121 S Lake Ave</td>\n",
       "      <td>Apt 3</td>\n",
       "      <td></td>\n",
       "      <td>Albany</td>\n",
       "      <td>NY</td>\n",
       "      <td>12208</td>\n",
       "      <td>2020-03-17 21:08:32.674965</td>\n",
       "    </tr>\n",
       "    <tr>\n",
       "      <td>4</td>\n",
       "      <td>13432309</td>\n",
       "      <td>30710334</td>\n",
       "      <td>506 6th St</td>\n",
       "      <td>East Pavilion, 4th floor</td>\n",
       "      <td>Dept of OBGYN</td>\n",
       "      <td>Brooklyn</td>\n",
       "      <td>NY</td>\n",
       "      <td>11215</td>\n",
       "      <td>2020-03-17 21:08:32.666305</td>\n",
       "    </tr>\n",
       "  </tbody>\n",
       "</table>\n",
       "</div>"
      ],
      "text/plain": [
       "   PARTY_ID  POST_CD_ID             ADDR_1                    ADDR_2  \\\n",
       "0  11547914    30710349   330 N Wabash Ave                     Fl 40   \n",
       "1  15016645    30710394  5535 Hartsdale Dr                             \n",
       "2   6162817    30710336        142 Main St                    Apt 2B   \n",
       "3   6166527    30710335     121 S Lake Ave                     Apt 3   \n",
       "4  13432309    30710334         506 6th St  East Pavilion, 4th floor   \n",
       "\n",
       "          ADDR_3                          CITY STATE_CD         ZIP  \\\n",
       "0                 Chicago                            IL  60611        \n",
       "1                 Jackson                            MS  39211        \n",
       "2                 Mineola                            NY  11501        \n",
       "3                 Albany                             NY  12208        \n",
       "4  Dept of OBGYN  Brooklyn                           NY  11215        \n",
       "\n",
       "                     FROM_DT  \n",
       "0 2020-03-17 21:08:32.696113  \n",
       "1 2020-03-17 21:08:32.691398  \n",
       "2 2020-03-17 21:08:32.689417  \n",
       "3 2020-03-17 21:08:32.674965  \n",
       "4 2020-03-17 21:08:32.666305  "
      ]
     },
     "execution_count": 8,
     "metadata": {},
     "output_type": "execute_result"
    }
   ],
   "source": [
    "PPMA = pd.read_sql(con=AMAEDW, sql=sql_query_PPMA)\n",
    "print(PPMA.shape)\n",
    "PPMA.head()"
   ]
  },
  {
   "cell_type": "code",
   "execution_count": 9,
   "metadata": {},
   "outputs": [],
   "source": [
    "sql_query_POLO = \\\n",
    "    '''\n",
    "    SELECT DISTINCT \n",
    "    A.PARTY_ID, \n",
    "    A.POST_CD_ID,\n",
    "    P.ADDR_1, \n",
    "    P.ADDR_2, \n",
    "    P.ADDR_3, \n",
    "    P.CITY, \n",
    "    S.SRC_STATE_CD AS STATE_CD, \n",
    "    P.POST_CD AS ZIP,\n",
    "    A.FROM_DT,\n",
    "    P.SRC_POST_KEY AS POST_KEY\n",
    "    FROM \n",
    "    AMAEDW.POST_CD P, AMAEDW.STATE S , AMAEDW.PARTY_ADDR A, AMAEDW.CONT_PURPOSE_TYPE C\n",
    "    WHERE \n",
    "    A.PURPOSE_TYPE_ID=C.PURPOSE_TYPE_ID\n",
    "    AND\n",
    "    C.PURPOSE_CAT_CD='A'\n",
    "    AND\n",
    "    C.PURPOSE_USG_CD='PO'\n",
    "    AND\n",
    "    A.POST_CD_ID = P.POST_CD_ID \n",
    "    AND\n",
    "    P.STATE_ID = S.STATE_ID\n",
    "    AND \n",
    "    A.THRU_DT IS NULL\n",
    "    ORDER BY A.FROM_DT DESC\n",
    "    '''"
   ]
  },
  {
   "cell_type": "code",
   "execution_count": 10,
   "metadata": {},
   "outputs": [
    {
     "name": "stdout",
     "output_type": "stream",
     "text": [
      "(1163743, 10)\n"
     ]
    },
    {
     "data": {
      "text/html": [
       "<div>\n",
       "<style scoped>\n",
       "    .dataframe tbody tr th:only-of-type {\n",
       "        vertical-align: middle;\n",
       "    }\n",
       "\n",
       "    .dataframe tbody tr th {\n",
       "        vertical-align: top;\n",
       "    }\n",
       "\n",
       "    .dataframe thead th {\n",
       "        text-align: right;\n",
       "    }\n",
       "</style>\n",
       "<table border=\"1\" class=\"dataframe\">\n",
       "  <thead>\n",
       "    <tr style=\"text-align: right;\">\n",
       "      <th></th>\n",
       "      <th>PARTY_ID</th>\n",
       "      <th>POST_CD_ID</th>\n",
       "      <th>ADDR_1</th>\n",
       "      <th>ADDR_2</th>\n",
       "      <th>ADDR_3</th>\n",
       "      <th>CITY</th>\n",
       "      <th>STATE_CD</th>\n",
       "      <th>ZIP</th>\n",
       "      <th>FROM_DT</th>\n",
       "      <th>POST_KEY</th>\n",
       "    </tr>\n",
       "  </thead>\n",
       "  <tbody>\n",
       "    <tr>\n",
       "      <td>0</td>\n",
       "      <td>2149165</td>\n",
       "      <td>30710407</td>\n",
       "      <td>16715 Aurora Ave N</td>\n",
       "      <td>Ste 102</td>\n",
       "      <td></td>\n",
       "      <td>Shoreline</td>\n",
       "      <td>WA</td>\n",
       "      <td>98133</td>\n",
       "      <td>2020-03-17 21:08:32.411316</td>\n",
       "      <td>24434990</td>\n",
       "    </tr>\n",
       "    <tr>\n",
       "      <td>1</td>\n",
       "      <td>1833025</td>\n",
       "      <td>30710354</td>\n",
       "      <td>316 7th Ave N</td>\n",
       "      <td></td>\n",
       "      <td></td>\n",
       "      <td>Safety Harbor</td>\n",
       "      <td>FL</td>\n",
       "      <td>34695</td>\n",
       "      <td>2020-03-17 21:08:29.499439</td>\n",
       "      <td>24434888</td>\n",
       "    </tr>\n",
       "    <tr>\n",
       "      <td>2</td>\n",
       "      <td>2965319</td>\n",
       "      <td>30710388</td>\n",
       "      <td>98 Cope Creek Rd</td>\n",
       "      <td></td>\n",
       "      <td></td>\n",
       "      <td>Sylva</td>\n",
       "      <td>NC</td>\n",
       "      <td>28779</td>\n",
       "      <td>2020-03-17 21:08:29.396482</td>\n",
       "      <td>24434399</td>\n",
       "    </tr>\n",
       "    <tr>\n",
       "      <td>3</td>\n",
       "      <td>2973188</td>\n",
       "      <td>28904613</td>\n",
       "      <td>596 Jericho Tpke</td>\n",
       "      <td></td>\n",
       "      <td></td>\n",
       "      <td>Syosset</td>\n",
       "      <td>NY</td>\n",
       "      <td>11791</td>\n",
       "      <td>2020-03-17 21:08:29.190080</td>\n",
       "      <td>22478034</td>\n",
       "    </tr>\n",
       "    <tr>\n",
       "      <td>4</td>\n",
       "      <td>1836757</td>\n",
       "      <td>21895156</td>\n",
       "      <td>6181 N Federal Hwy</td>\n",
       "      <td></td>\n",
       "      <td></td>\n",
       "      <td>Ft Lauderdale</td>\n",
       "      <td>FL</td>\n",
       "      <td>33308</td>\n",
       "      <td>2020-03-17 21:08:29.093276</td>\n",
       "      <td>15175531</td>\n",
       "    </tr>\n",
       "  </tbody>\n",
       "</table>\n",
       "</div>"
      ],
      "text/plain": [
       "   PARTY_ID  POST_CD_ID              ADDR_1   ADDR_2 ADDR_3  \\\n",
       "0   2149165    30710407  16715 Aurora Ave N  Ste 102          \n",
       "1   1833025    30710354       316 7th Ave N                   \n",
       "2   2965319    30710388    98 Cope Creek Rd                   \n",
       "3   2973188    28904613    596 Jericho Tpke                   \n",
       "4   1836757    21895156  6181 N Federal Hwy                   \n",
       "\n",
       "                           CITY STATE_CD         ZIP  \\\n",
       "0  Shoreline                          WA  98133        \n",
       "1  Safety Harbor                      FL  34695        \n",
       "2  Sylva                              NC  28779        \n",
       "3  Syosset                            NY  11791        \n",
       "4  Ft Lauderdale                      FL  33308        \n",
       "\n",
       "                     FROM_DT  POST_KEY  \n",
       "0 2020-03-17 21:08:32.411316  24434990  \n",
       "1 2020-03-17 21:08:29.499439  24434888  \n",
       "2 2020-03-17 21:08:29.396482  24434399  \n",
       "3 2020-03-17 21:08:29.190080  22478034  \n",
       "4 2020-03-17 21:08:29.093276  15175531  "
      ]
     },
     "execution_count": 10,
     "metadata": {},
     "output_type": "execute_result"
    }
   ],
   "source": [
    "POLO = pd.read_sql(con=AMAEDW, sql=sql_query_POLO)\n",
    "print(POLO.shape)\n",
    "POLO.head()"
   ]
  },
  {
   "cell_type": "code",
   "execution_count": 53,
   "metadata": {},
   "outputs": [
    {
     "name": "stdout",
     "output_type": "stream",
     "text": [
      "(1163740, 10)\n",
      "(1602779, 9)\n"
     ]
    }
   ],
   "source": [
    "POLO = POLO.drop_duplicates(subset = 'PARTY_ID', keep='first')\n",
    "print(POLO.shape)\n",
    "PPMA= PPMA.drop_duplicates(subset = 'PARTY_ID', keep='first')\n",
    "print(PPMA.shape)"
   ]
  },
  {
   "cell_type": "code",
   "execution_count": 55,
   "metadata": {},
   "outputs": [
    {
     "name": "stderr",
     "output_type": "stream",
     "text": [
      "C:\\Users\\vigrose\\AppData\\Local\\Continuum\\anaconda3\\lib\\site-packages\\IPython\\core\\interactiveshell.py:3058: DtypeWarning: Columns (13,20,42,49,72) have mixed types. Specify dtype option on import or set low_memory=False.\n",
      "  interactivity=interactivity, compiler=compiler, result=result)\n"
     ]
    }
   ],
   "source": [
    "##Read latest PPD\n",
    "ppd = pd.read_csv('ppd_data_20200314.csv')"
   ]
  },
  {
   "cell_type": "code",
   "execution_count": 24,
   "metadata": {},
   "outputs": [],
   "source": [
    "dhc = pd.read_csv('DHC_Data.csv')"
   ]
  },
  {
   "cell_type": "code",
   "execution_count": 39,
   "metadata": {},
   "outputs": [],
   "source": [
    "dhc = dhc.fillna('None')"
   ]
  },
  {
   "cell_type": "code",
   "execution_count": 74,
   "metadata": {},
   "outputs": [],
   "source": [
    "nums =[]\n",
    "for num in MES:\n",
    "    if num!= 'None':\n",
    "        num = str(int(num))\n",
    "    if len(num)==10:\n",
    "        num = '0'+num\n",
    "    elif len(num)==9:\n",
    "        num = '00'+num\n",
    "    elif len(num)==8:\n",
    "        num = '000'+num\n",
    "    nums.append(num)"
   ]
  },
  {
   "cell_type": "code",
   "execution_count": 45,
   "metadata": {},
   "outputs": [],
   "source": [
    "dhc.ME=nums"
   ]
  },
  {
   "cell_type": "code",
   "execution_count": 47,
   "metadata": {},
   "outputs": [],
   "source": [
    "pd.merge(insurance_2, dhc, on='ME').to_csv('dhc_insurance.csv', index=False)"
   ]
  },
  {
   "cell_type": "code",
   "execution_count": null,
   "metadata": {},
   "outputs": [],
   "source": [
    "##Merge PPMA, POLO, PPD, and Insurance by ME and PARTY_ID"
   ]
  },
  {
   "cell_type": "code",
   "execution_count": 69,
   "metadata": {},
   "outputs": [],
   "source": [
    "MES = list(ppd['ME'].astype(str))"
   ]
  },
  {
   "cell_type": "code",
   "execution_count": 78,
   "metadata": {},
   "outputs": [
    {
     "data": {
      "text/plain": [
       "1262355"
      ]
     },
     "execution_count": 78,
     "metadata": {},
     "output_type": "execute_result"
    }
   ],
   "source": [
    "len(ppd)"
   ]
  },
  {
   "cell_type": "code",
   "execution_count": 79,
   "metadata": {},
   "outputs": [],
   "source": [
    "insurance_2 = insurance[insurance.ME.isin(nums)]"
   ]
  },
  {
   "cell_type": "code",
   "execution_count": 80,
   "metadata": {},
   "outputs": [],
   "source": [
    "ppma_polo = pd.merge(PPMA, POLO, on = 'PARTY_ID', how= 'outer', suffixes = ('_PPMA', '_POLO'))"
   ]
  },
  {
   "cell_type": "code",
   "execution_count": 81,
   "metadata": {},
   "outputs": [],
   "source": [
    "ppd_insurance_2 = pd.merge(insurance_2, ppma_polo, on = 'PARTY_ID')"
   ]
  },
  {
   "cell_type": "code",
   "execution_count": 19,
   "metadata": {},
   "outputs": [],
   "source": [
    "INSURANCE_2 = ppd_insurance_2.drop(columns=['PARTY_ID','ME', 'POST_CD_ID'])"
   ]
  },
  {
   "cell_type": "code",
   "execution_count": 20,
   "metadata": {},
   "outputs": [],
   "source": [
    "INSURANCE_2.to_csv('insurance_current.csv')"
   ]
  },
  {
   "cell_type": "code",
   "execution_count": 9,
   "metadata": {},
   "outputs": [],
   "source": [
    "INSURANCE.to_csv('insurance_historical.gz', compression='gzip')"
   ]
  },
  {
   "cell_type": "code",
   "execution_count": null,
   "metadata": {},
   "outputs": [],
   "source": [
    "PPD.shape"
   ]
  },
  {
   "cell_type": "code",
   "execution_count": null,
   "metadata": {},
   "outputs": [],
   "source": [
    "ppd_insurance.shape"
   ]
  },
  {
   "cell_type": "code",
   "execution_count": null,
   "metadata": {},
   "outputs": [],
   "source": [
    "insurance_polo = pd.merge(ppd_insurance, POLO, on = 'PARTY_ID', suffixes = ('_insurance', '_POLO'))"
   ]
  },
  {
   "cell_type": "code",
   "execution_count": null,
   "metadata": {},
   "outputs": [],
   "source": [
    "insurance_ppma = pd.merge(ppd_insurance, PPMA, on = 'PARTY_ID', suffixes = ('_insurance', '_PPMA'))"
   ]
  },
  {
   "cell_type": "code",
   "execution_count": null,
   "metadata": {},
   "outputs": [],
   "source": [
    "insurance_ppma_polo = pd.merge(ppd_insurance, ppma_polo, on = 'PARTY_ID')"
   ]
  },
  {
   "cell_type": "code",
   "execution_count": null,
   "metadata": {},
   "outputs": [],
   "source": [
    "insurance_ppma_polo.shape"
   ]
  },
  {
   "cell_type": "code",
   "execution_count": null,
   "metadata": {},
   "outputs": [],
   "source": [
    "insurance_ppma_polo = insurance_ppma_polo.drop_duplicates(subset = 'PARTY_ID', keep='first')\n",
    "print(insurance_ppma_polo.shape)"
   ]
  },
  {
   "cell_type": "code",
   "execution_count": null,
   "metadata": {},
   "outputs": [],
   "source": [
    "##Summarize the address differences and generate a table of mismat"
   ]
  },
  {
   "cell_type": "code",
   "execution_count": null,
   "metadata": {},
   "outputs": [],
   "source": [
    "#Define summarizing function (PPMA)\n",
    "def sum_it_up_ppma(df):\n",
    "    count =0 \n",
    "    add_count = 0\n",
    "    zip_count = 0\n",
    "    state_count = 0\n",
    "    cd_count  =0 \n",
    "    dict_list = []\n",
    "    date_count = 0\n",
    "    city_count = 0\n",
    "    for row in df.itertuples():\n",
    "        count += 1\n",
    "        if row.FROM_DT_insurance > row.FROM_DT_PPMA:\n",
    "            if row.POST_CD_ID_PPMA != row.POST_CD_ID_insurance:\n",
    "                cd_count +=1\n",
    "            \n",
    "                new_dict = {}\n",
    "                new_dict['ME'] = row.ME\n",
    "                new_dict['ADDR_1_insurance'] = row.ADDR_1_insurance\n",
    "                new_dict['ADDR_1_PPMA'] = row.ADDR_1_PPMA\n",
    "                new_dict['ADDR_2_insurance'] = row.ADDR_2_insurance\n",
    "                new_dict['ADDR_2_PPMA'] = row.ADDR_2_PPMA\n",
    "                new_dict['ADDR_3_insurance'] = row.ADDR_3_insurance\n",
    "                new_dict['ADDR_3_PPMA'] = row.ADDR_3_PPMA\n",
    "                new_dict['ZIP_insurance'] = row.ZIP_insurance\n",
    "                new_dict['ZIP_PPMA'] = row.ZIP_PPMA\n",
    "                new_dict['CITY_insurance'] = row.CITY_insurance\n",
    "                new_dict['CITY_PPMA'] = row.CITY_PPMA\n",
    "                new_dict['DATE_insurance'] = row.FROM_DT_insurance\n",
    "                new_dict['DATE_PPMA'] = row.FROM_DT_PPMA\n",
    "                new_dict['STATE_insurance'] = row.STATE_CD_insurance\n",
    "                new_dict['STATE_PPMA'] = row.STATE_CD_PPMA\n",
    "                dict_list.append(new_dict)\n",
    "\n",
    "    print(f'''\n",
    "    {cd_count/count * 100}% ({cd_count}) POST_CD_IDs do not match \n",
    "    ''')\n",
    "    return(dict_list)"
   ]
  },
  {
   "cell_type": "code",
   "execution_count": null,
   "metadata": {},
   "outputs": [],
   "source": [
    "#Define summarizing function (POLO)\n",
    "def sum_it_up_polo(df):\n",
    "    count =0 \n",
    "    add_count = 0\n",
    "    zip_count = 0\n",
    "    state_count = 0\n",
    "    cd_count  =0 \n",
    "    dict_list = []\n",
    "    date_count = 0\n",
    "    city_count = 0\n",
    "    for row in df.itertuples():\n",
    "        count += 1\n",
    "        if row.FROM_DT_insurance > row.FROM_DT_POLO:\n",
    "            if row.POST_CD_ID_POLO == row.POST_CD_ID_insurance:\n",
    "                cd_count +=1\n",
    "            \n",
    "                new_dict = {}\n",
    "                new_dict['ME'] = row.ME\n",
    "                new_dict['ADDR_1_insurance'] = row.ADDR_1_insurance\n",
    "                new_dict['ADDR_1_POLO'] = row.ADDR_1_POLO\n",
    "                new_dict['ADDR_2_insurance'] = row.ADDR_2_insurance\n",
    "                new_dict['ADDR_2_POLO'] = row.ADDR_2_POLO\n",
    "                new_dict['ADDR_3_insurance'] = row.ADDR_3_insurance\n",
    "                new_dict['ADDR_3_POLO'] = row.ADDR_3_POLO\n",
    "                new_dict['ZIP_insurance'] = row.ZIP_insurance\n",
    "                new_dict['ZIP_POLO'] = row.ZIP_POLO\n",
    "                new_dict['CITY_insurance'] = row.CITY_insurance\n",
    "                new_dict['CITY_POLO'] = row.CITY_POLO\n",
    "                new_dict['DATE_insurance'] = row.FROM_DT_insurance\n",
    "                new_dict['DATE_POLO'] = row.FROM_DT_POLO\n",
    "                new_dict['STATE_insurance'] = row.STATE_CD_insurance\n",
    "                new_dict['STATE_POLO'] = row.STATE_CD_POLO\n",
    "                dict_list.append(new_dict)\n",
    "\n",
    "    print(f'''\n",
    "    {cd_count/count * 100}% ({cd_count}) POST_CD_IDs match \n",
    "    ''')\n",
    "    return(dict_list)"
   ]
  },
  {
   "cell_type": "code",
   "execution_count": null,
   "metadata": {},
   "outputs": [],
   "source": [
    "#Define summarizing function (ALL)\n",
    "def sum_it_up(df):\n",
    "    count =0 \n",
    "    add_count = 0\n",
    "    zip_count = 0\n",
    "    state_count = 0\n",
    "    cd_count  =0 \n",
    "    dict_list = []\n",
    "    date_count = 0\n",
    "    city_count = 0\n",
    "    for row in df.itertuples():\n",
    "        count += 1\n",
    "        if row.FROM_DT > row.FROM_DT_PPMA and row.FROM_DT > row.FROM_DT_POLO:\n",
    "            if row.POST_CD_ID_POLO != row.POST_CD_ID and row.POST_CD_ID != row.POST_CD_ID_PPMA:\n",
    "                cd_count +=1\n",
    "            \n",
    "                new_dict = {}\n",
    "                new_dict['ME'] = row.ME\n",
    "                new_dict['ADDR_1_insurance'] = row.ADDR_1\n",
    "                new_dict['ADDR_1_POLO'] = row.ADDR_1_POLO\n",
    "                new_dict['ADDR_1_PPMA'] = row.ADDR_1_PPMA\n",
    "                new_dict['ADDR_2_insurance'] = row.ADDR_2\n",
    "                new_dict['ADDR_2_POLO'] = row.ADDR_2_POLO\n",
    "                new_dict['ADDR_2_PPMA'] = row.ADDR_2_PPMA\n",
    "                new_dict['ADDR_3_insurance'] = row.ADDR_3\n",
    "                new_dict['ADDR_3_POLO'] = row.ADDR_3_POLO\n",
    "                new_dict['ADDR_3_PPMA'] = row.ADDR_3_PPMA\n",
    "                new_dict['ZIP_insurance'] = row.ZIP\n",
    "                new_dict['ZIP_POLO'] = row.ZIP_POLO\n",
    "                new_dict['ZIP_PPMA'] = row.ZIP_PPMA\n",
    "                new_dict['CITY_insurance'] = row.CITY\n",
    "                new_dict['CITY_POLO'] = row.CITY_POLO\n",
    "                new_dict['CITY_PPMA'] = row.CITY_PPMA\n",
    "                new_dict['DATE_insurance'] = row.FROM_DT\n",
    "                new_dict['DATE_POLO'] = row.FROM_DT_POLO\n",
    "                new_dict['DATE_PPMA'] = row.FROM_DT_PPMA\n",
    "                new_dict['STATE_insurance'] = row.STATE_CD\n",
    "                new_dict['STATE_POLO'] = row.STATE_CD_POLO\n",
    "                new_dict['STATE_PPMA'] = row.STATE_CD_PPMA\n",
    "                dict_list.append(new_dict)\n",
    "\n",
    "                if row.ADDR_1 != row.ADDR_1_PPMA and row.ADDR_1 != row.ADDR_1_POLO:\n",
    "                    add_count +=1\n",
    "                if row.CITY != row.CITY_PPMA and row.CITY != row.CITY_POLO:\n",
    "                    city_count +=1\n",
    "                if row.ZIP != row.ZIP_PPMA and row.ZIP != row.ZIP_POLO:\n",
    "                    zip_count +=1\n",
    "                if row.STATE_CD != row.STATE_CD_PPMA and row.STATE_CD != row.STATE_CD_POLO:\n",
    "                    state_count +=1\n",
    "    print(f'''\n",
    "    {cd_count/count * 100}% ({cd_count}) POST_CD_IDs do not match \n",
    "    {add_count/cd_count*100}% ({add_count}) addresses do not match\n",
    "    {zip_count/cd_count * 100}% ({zip_count})zipcodes do not match\n",
    "    {state_count/cd_count * 100}% ({state_count})states do not match\n",
    "    {city_count/cd_count * 100}% ({city_count})cities do not match\n",
    "    ''')\n",
    "    return(dict_list)"
   ]
  },
  {
   "cell_type": "code",
   "execution_count": null,
   "metadata": {},
   "outputs": [],
   "source": [
    "insurance_mismatch = sum_it_up(insurance_ppma_polo)\n",
    "insurance_mismatch_df = pd.DataFrame(insurance_mismatch)"
   ]
  },
  {
   "cell_type": "code",
   "execution_count": null,
   "metadata": {},
   "outputs": [],
   "source": [
    "polo_match = sum_it_up_polo(insurance_polo)\n",
    "polo_match_df = pd.DataFrame(polo_match)"
   ]
  },
  {
   "cell_type": "code",
   "execution_count": null,
   "metadata": {},
   "outputs": [],
   "source": [
    "ppma_mismatch = sum_it_up_ppma(insurance_ppma)\n",
    "ppma_mismatch_df = pd.DataFrame(ppma_mismatch)"
   ]
  },
  {
   "cell_type": "code",
   "execution_count": null,
   "metadata": {},
   "outputs": [],
   "source": [
    "pd.merge(ppma_match_df, polo_match_df, on = ['ME','ADDR_1_insurance','ADDR_2_insurance','ADDR_3_insurance', 'CITY_insurance', 'DATE_insurance', 'STATE_insurance', 'ZIP_insurance'])"
   ]
  },
  {
   "cell_type": "code",
   "execution_count": null,
   "metadata": {},
   "outputs": [],
   "source": [
    "#Define summarizing function\n",
    "def narrow_it_down(df, address_type):\n",
    "    dict_list = []\n",
    "    for row in df.itertuples():\n",
    "        if address_type == 'PPMA'\n",
    "            if row.STATE_insurance != row.STATE_PPMA:\n",
    "                if row.CITY_insurance != row.CITY_PPMA:\n",
    "                    if row.ADDR_1_insurance != row.ADDR_1_PPMA:\n",
    "                        if row.ZIP_insurance != row.ZIP_PPMA:\n",
    "                            new_dict = {}\n",
    "                            new_dict['ME'] = row.ME\n",
    "                            new_dict['ADDR_1_insurance'] = row.ADDR_1_insurance\n",
    "\n",
    "                            new_dict['ADDR_1_PPMA'] = row.ADDR_1_PPMA\n",
    "                            new_dict['ADDR_2_insurance'] = row.ADDR_2_insurance\n",
    "\n",
    "                            new_dict['ADDR_2_PPMA'] = row.ADDR_2_PPMA\n",
    "                            new_dict['ADDR_3_insurance'] = row.ADDR_3_insurance\n",
    "\n",
    "                            new_dict['ADDR_3_PPMA'] = row.ADDR_3_PPMA\n",
    "                            new_dict['ZIP_insurance'] = row.ZIP_insurance\n",
    "\n",
    "                            new_dict['ZIP_PPMA'] = row.ZIP_PPMA\n",
    "                            new_dict['CITY_insurance'] = row.CITY_insurance\n",
    "\n",
    "                            new_dict['CITY_PPMA'] = row.CITY_PPMA\n",
    "                            new_dict['DATE_insurance'] = row.DATE_insurance\n",
    "\n",
    "                            new_dict['DATE_PPMA'] = row.DATE_PPMA\n",
    "                            new_dict['STATE_insurance'] = row.STATE_insurance\n",
    "\n",
    "                            new_dict['STATE_PPMA'] = row.STATE_PPMA\n",
    "                            dict_list.append(new_dict)\n",
    "                            \n",
    "        if address_type == 'POLO'\n",
    "            if row.STATE_insurance != row.STATE_POLO:\n",
    "                if row.CITY_insurance != row.CITY_POLO:\n",
    "                    if row.ADDR_1_insurance != row.ADDR_1_POLO:\n",
    "                        if row.ZIP_insurance != row.ZIP_POLO:\n",
    "                            new_dict = {}\n",
    "                            new_dict['ME'] = row.ME\n",
    "                            new_dict['ADDR_1_insurance'] = row.ADDR_1_insurance\n",
    "\n",
    "                            new_dict['ADDR_1_POLO'] = row.ADDR_1_POLO\n",
    "                            new_dict['ADDR_2_insurance'] = row.ADDR_2_insurance\n",
    "\n",
    "                            new_dict['ADDR_2_POLO'] = row.ADDR_2_POLO\n",
    "                            new_dict['ADDR_3_insurance'] = row.ADDR_3_insurance\n",
    "\n",
    "                            new_dict['ADDR_3_POLO'] = row.ADDR_3_POLO\n",
    "                            new_dict['ZIP_insurance'] = row.ZIP_insurance\n",
    "\n",
    "                            new_dict['ZIP_POLO'] = row.ZIP_POLO\n",
    "                            new_dict['CITY_insurance'] = row.CITY_insurance\n",
    "\n",
    "                            new_dict['CITY_POLO'] = row.CITY_POLO\n",
    "                            new_dict['DATE_insurance'] = row.DATE_insurance\n",
    "\n",
    "                            new_dict['DATE_POLO'] = row.DATE_POLO\n",
    "                            new_dict['STATE_insurance'] = row.STATE_insurance\n",
    "\n",
    "                            new_dict['STATE_POLO'] = row.STATE_POLO\n",
    "                            dict_list.append(new_dict)          \n",
    "    NEW_DF=pd.DataFrame(dict_list)\n",
    "    return(NEW_DF)"
   ]
  },
  {
   "cell_type": "code",
   "execution_count": 94,
   "metadata": {},
   "outputs": [],
   "source": [
    "#Define summarizing function\n",
    "def narrow_it_down(df):\n",
    "    match_list = []\n",
    "    for row in df.itertuples():\n",
    "        match = True\n",
    "        if row.FROM_DT > row.FROM_DT_POLO and row.FROM_DT > row.FROM_DT_PPMA:\n",
    "            if row.STATE_CD != row.STATE_CD_PPMA and row.STATE_CD != row.STATE_CD_POLO:\n",
    "                if row.CITY != row.CITY_PPMA and row.CITY != row.CITY_POLO:\n",
    "                    if row.ADDR_1 != row.ADDR_1_PPMA and row.ADDR_1!= row.ADDR_1_POLO:\n",
    "                        if row.ZIP != row.ZIP_PPMA and row.ZIP != row.ZIP_POLO:\n",
    "                            match = False\n",
    "        match_list.append(match)\n",
    "    df['Match'] = match_list\n",
    "    return(df)"
   ]
  },
  {
   "cell_type": "code",
   "execution_count": 140,
   "metadata": {},
   "outputs": [],
   "source": [
    "def narrow_it_down_2(df):\n",
    "    match_list = []\n",
    "    for row in df.itertuples():\n",
    "        match = True\n",
    "        if row.FROM_DT > row.FROM_DT_POLO and row.FROM_DT > row.FROM_DT_PPMA:\n",
    "            if row.ADDR_1 != row.ADDR_1_PPMA and row.ADDR_1!= row.ADDR_1_POLO:\n",
    "                if row.ZIP != row.ZIP_PPMA and row.ZIP != row.ZIP_POLO:\n",
    "                    match = False\n",
    "        match_list.append(match)\n",
    "    df['Match_2'] = match_list\n",
    "    return(df)"
   ]
  },
  {
   "cell_type": "code",
   "execution_count": 93,
   "metadata": {},
   "outputs": [
    {
     "data": {
      "text/plain": [
       "PARTY_ID                    int64\n",
       "ME                         object\n",
       "POST_CD_ID                  int64\n",
       "FROM_DT            datetime64[ns]\n",
       "ADDR_TYPE                  object\n",
       "ADDR_1                     object\n",
       "ADDR_2                     object\n",
       "ADDR_3                     object\n",
       "CITY                       object\n",
       "STATE_CD                   object\n",
       "ZIP                        object\n",
       "POST_CD_ID_PPMA           float64\n",
       "ADDR_1_PPMA                object\n",
       "ADDR_2_PPMA                object\n",
       "ADDR_3_PPMA                object\n",
       "CITY_PPMA                  object\n",
       "STATE_CD_PPMA              object\n",
       "ZIP_PPMA                   object\n",
       "FROM_DT_PPMA       datetime64[ns]\n",
       "POST_CD_ID_POLO           float64\n",
       "ADDR_1_POLO                object\n",
       "ADDR_2_POLO                object\n",
       "ADDR_3_POLO                object\n",
       "CITY_POLO                  object\n",
       "STATE_CD_POLO              object\n",
       "ZIP_POLO                   object\n",
       "FROM_DT_POLO       datetime64[ns]\n",
       "POST_KEY                  float64\n",
       "Match                        bool\n",
       "dtype: object"
      ]
     },
     "execution_count": 93,
     "metadata": {},
     "output_type": "execute_result"
    }
   ],
   "source": [
    "ppd_insurance_2.dtypes"
   ]
  },
  {
   "cell_type": "code",
   "execution_count": 152,
   "metadata": {},
   "outputs": [],
   "source": [
    "narrowed_2 = narrow_it_down_2(ppd_insurance_2)"
   ]
  },
  {
   "cell_type": "code",
   "execution_count": 107,
   "metadata": {},
   "outputs": [],
   "source": [
    "narrowed.to_csv('Insurance_Select.csv', index=False)"
   ]
  },
  {
   "cell_type": "code",
   "execution_count": 109,
   "metadata": {},
   "outputs": [],
   "source": [
    "usage = pd.read_csv('Add_Usage.csv')"
   ]
  },
  {
   "cell_type": "code",
   "execution_count": 158,
   "metadata": {},
   "outputs": [],
   "source": [
    "DIFF_2 = narrowed_2[narrowed_2['Match_2']==False]"
   ]
  },
  {
   "cell_type": "code",
   "execution_count": 127,
   "metadata": {},
   "outputs": [
    {
     "data": {
      "text/html": [
       "<div>\n",
       "<style scoped>\n",
       "    .dataframe tbody tr th:only-of-type {\n",
       "        vertical-align: middle;\n",
       "    }\n",
       "\n",
       "    .dataframe tbody tr th {\n",
       "        vertical-align: top;\n",
       "    }\n",
       "\n",
       "    .dataframe thead th {\n",
       "        text-align: right;\n",
       "    }\n",
       "</style>\n",
       "<table border=\"1\" class=\"dataframe\">\n",
       "  <thead>\n",
       "    <tr style=\"text-align: right;\">\n",
       "      <th></th>\n",
       "      <th>PARTY_ID</th>\n",
       "      <th>ME</th>\n",
       "      <th>POST_CD_ID</th>\n",
       "      <th>FROM_DT</th>\n",
       "      <th>ADDR_TYPE</th>\n",
       "      <th>ADDR_1</th>\n",
       "      <th>ADDR_2</th>\n",
       "      <th>ADDR_3</th>\n",
       "      <th>CITY</th>\n",
       "      <th>STATE_CD</th>\n",
       "      <th>...</th>\n",
       "      <th>POST_CD_ID_POLO</th>\n",
       "      <th>ADDR_1_POLO</th>\n",
       "      <th>ADDR_2_POLO</th>\n",
       "      <th>ADDR_3_POLO</th>\n",
       "      <th>CITY_POLO</th>\n",
       "      <th>STATE_CD_POLO</th>\n",
       "      <th>ZIP_POLO</th>\n",
       "      <th>FROM_DT_POLO</th>\n",
       "      <th>POST_KEY</th>\n",
       "      <th>Match</th>\n",
       "    </tr>\n",
       "  </thead>\n",
       "  <tbody>\n",
       "    <tr>\n",
       "      <td>1</td>\n",
       "      <td>2425956</td>\n",
       "      <td>04501990596</td>\n",
       "      <td>15176853</td>\n",
       "      <td>2020-03-18 00:09:46.000000</td>\n",
       "      <td>Billing</td>\n",
       "      <td>4700 Waters Ave</td>\n",
       "      <td>Memorial Health</td>\n",
       "      <td></td>\n",
       "      <td>Savannah</td>\n",
       "      <td>GA</td>\n",
       "      <td>...</td>\n",
       "      <td>16013479.0</td>\n",
       "      <td>171 Ashley Ave</td>\n",
       "      <td></td>\n",
       "      <td></td>\n",
       "      <td>Charleston</td>\n",
       "      <td>SC</td>\n",
       "      <td>29425</td>\n",
       "      <td>2006-10-13 00:01:12.825717</td>\n",
       "      <td>8337958.0</td>\n",
       "      <td>False</td>\n",
       "    </tr>\n",
       "    <tr>\n",
       "      <td>5</td>\n",
       "      <td>2256798</td>\n",
       "      <td>02834911241</td>\n",
       "      <td>22181245</td>\n",
       "      <td>2020-03-18 00:09:46.000000</td>\n",
       "      <td>Billing</td>\n",
       "      <td>6150 W Layton Ave</td>\n",
       "      <td></td>\n",
       "      <td></td>\n",
       "      <td>Greenfield</td>\n",
       "      <td>WI</td>\n",
       "      <td>...</td>\n",
       "      <td>20722272.0</td>\n",
       "      <td>47111 Monroe St</td>\n",
       "      <td>John F Kennedy Memorial Hospital</td>\n",
       "      <td></td>\n",
       "      <td>Indio</td>\n",
       "      <td>CA</td>\n",
       "      <td>92201</td>\n",
       "      <td>2018-06-08 20:57:23.541024</td>\n",
       "      <td>14127502.0</td>\n",
       "      <td>False</td>\n",
       "    </tr>\n",
       "    <tr>\n",
       "      <td>11</td>\n",
       "      <td>3519157</td>\n",
       "      <td>03843071049</td>\n",
       "      <td>26255432</td>\n",
       "      <td>2020-03-18 00:09:46.000000</td>\n",
       "      <td>Billing</td>\n",
       "      <td>8901 Carti Way</td>\n",
       "      <td></td>\n",
       "      <td></td>\n",
       "      <td>Little Rock</td>\n",
       "      <td>AR</td>\n",
       "      <td>...</td>\n",
       "      <td>26578458.0</td>\n",
       "      <td>7400 Fannin St</td>\n",
       "      <td>Ste 1295</td>\n",
       "      <td></td>\n",
       "      <td>Houston</td>\n",
       "      <td>TX</td>\n",
       "      <td>77054</td>\n",
       "      <td>2016-06-08 23:11:57.642529</td>\n",
       "      <td>20649454.0</td>\n",
       "      <td>False</td>\n",
       "    </tr>\n",
       "    <tr>\n",
       "      <td>16</td>\n",
       "      <td>2856691</td>\n",
       "      <td>04707020640</td>\n",
       "      <td>30711330</td>\n",
       "      <td>2020-03-18 00:09:46.000000</td>\n",
       "      <td>Billing</td>\n",
       "      <td>2100 Madison Ave</td>\n",
       "      <td>Gateway Medical Center</td>\n",
       "      <td>None</td>\n",
       "      <td>Granite City</td>\n",
       "      <td>IL</td>\n",
       "      <td>...</td>\n",
       "      <td>28415824.0</td>\n",
       "      <td>300 Carson St</td>\n",
       "      <td>Ste A</td>\n",
       "      <td></td>\n",
       "      <td>Jonesboro</td>\n",
       "      <td>AR</td>\n",
       "      <td>72401</td>\n",
       "      <td>2018-01-19 20:50:44.089924</td>\n",
       "      <td>22139940.0</td>\n",
       "      <td>False</td>\n",
       "    </tr>\n",
       "    <tr>\n",
       "      <td>21</td>\n",
       "      <td>2033304</td>\n",
       "      <td>01720800906</td>\n",
       "      <td>30711353</td>\n",
       "      <td>2020-03-18 00:09:46.000000</td>\n",
       "      <td>Billing</td>\n",
       "      <td>1734 Cedar Creek Rd</td>\n",
       "      <td>Capital City Ortho/Sports Med</td>\n",
       "      <td>None</td>\n",
       "      <td>Glenville</td>\n",
       "      <td>NC</td>\n",
       "      <td>...</td>\n",
       "      <td>14908126.0</td>\n",
       "      <td>5555 Peachtree Dunwoody Rd</td>\n",
       "      <td>Ste 101 Medical Qtrs</td>\n",
       "      <td></td>\n",
       "      <td>Atlanta</td>\n",
       "      <td>GA</td>\n",
       "      <td>30342</td>\n",
       "      <td>2005-12-16 20:36:47.573450</td>\n",
       "      <td>1157154.0</td>\n",
       "      <td>False</td>\n",
       "    </tr>\n",
       "    <tr>\n",
       "      <td>...</td>\n",
       "      <td>...</td>\n",
       "      <td>...</td>\n",
       "      <td>...</td>\n",
       "      <td>...</td>\n",
       "      <td>...</td>\n",
       "      <td>...</td>\n",
       "      <td>...</td>\n",
       "      <td>...</td>\n",
       "      <td>...</td>\n",
       "      <td>...</td>\n",
       "      <td>...</td>\n",
       "      <td>...</td>\n",
       "      <td>...</td>\n",
       "      <td>...</td>\n",
       "      <td>...</td>\n",
       "      <td>...</td>\n",
       "      <td>...</td>\n",
       "      <td>...</td>\n",
       "      <td>...</td>\n",
       "      <td>...</td>\n",
       "      <td>...</td>\n",
       "    </tr>\n",
       "    <tr>\n",
       "      <td>1246098</td>\n",
       "      <td>2729969</td>\n",
       "      <td>64901570653</td>\n",
       "      <td>12690692</td>\n",
       "      <td>2016-10-17 15:35:58.050344</td>\n",
       "      <td>Billing</td>\n",
       "      <td>13535 Detroit Ave</td>\n",
       "      <td></td>\n",
       "      <td></td>\n",
       "      <td>Cleveland</td>\n",
       "      <td>OH</td>\n",
       "      <td>...</td>\n",
       "      <td>9348571.0</td>\n",
       "      <td>3734 Whittier Blvd</td>\n",
       "      <td></td>\n",
       "      <td></td>\n",
       "      <td>Los Angeles</td>\n",
       "      <td>CA</td>\n",
       "      <td>90023</td>\n",
       "      <td>2005-12-16 22:07:02.880271</td>\n",
       "      <td>3157198.0</td>\n",
       "      <td>False</td>\n",
       "    </tr>\n",
       "    <tr>\n",
       "      <td>1250772</td>\n",
       "      <td>2460209</td>\n",
       "      <td>05606771381</td>\n",
       "      <td>13662508</td>\n",
       "      <td>2016-10-17 15:14:44.452244</td>\n",
       "      <td>Billing</td>\n",
       "      <td>72 Cambridge Rd</td>\n",
       "      <td></td>\n",
       "      <td></td>\n",
       "      <td>Montclair</td>\n",
       "      <td>NJ</td>\n",
       "      <td>...</td>\n",
       "      <td>10499403.0</td>\n",
       "      <td>153 W 11th St</td>\n",
       "      <td></td>\n",
       "      <td></td>\n",
       "      <td>New York</td>\n",
       "      <td>NY</td>\n",
       "      <td>10011</td>\n",
       "      <td>2005-12-16 21:50:24.166674</td>\n",
       "      <td>1040539.0</td>\n",
       "      <td>False</td>\n",
       "    </tr>\n",
       "    <tr>\n",
       "      <td>1251027</td>\n",
       "      <td>2447898</td>\n",
       "      <td>05104490273</td>\n",
       "      <td>11445686</td>\n",
       "      <td>2016-10-17 15:10:37.355970</td>\n",
       "      <td>Billing</td>\n",
       "      <td>1594 Pinetree Dr</td>\n",
       "      <td></td>\n",
       "      <td></td>\n",
       "      <td>Pittsburgh</td>\n",
       "      <td>PA</td>\n",
       "      <td>...</td>\n",
       "      <td>14318759.0</td>\n",
       "      <td>6606 W Broad St</td>\n",
       "      <td>4th Fl</td>\n",
       "      <td></td>\n",
       "      <td>Richmond</td>\n",
       "      <td>VA</td>\n",
       "      <td>23230</td>\n",
       "      <td>2015-10-01 22:32:13.640477</td>\n",
       "      <td>2436195.0</td>\n",
       "      <td>False</td>\n",
       "    </tr>\n",
       "    <tr>\n",
       "      <td>1251097</td>\n",
       "      <td>2615219</td>\n",
       "      <td>05101540385</td>\n",
       "      <td>14318759</td>\n",
       "      <td>2016-10-17 15:09:28.458873</td>\n",
       "      <td>Billing</td>\n",
       "      <td>6606 W Broad St</td>\n",
       "      <td>4th Fl</td>\n",
       "      <td></td>\n",
       "      <td>Richmond</td>\n",
       "      <td>VA</td>\n",
       "      <td>...</td>\n",
       "      <td>9172720.0</td>\n",
       "      <td>1540 5th Ave</td>\n",
       "      <td></td>\n",
       "      <td></td>\n",
       "      <td>San Rafael</td>\n",
       "      <td>CA</td>\n",
       "      <td>94901</td>\n",
       "      <td>2005-12-16 21:41:41.102973</td>\n",
       "      <td>2435669.0</td>\n",
       "      <td>False</td>\n",
       "    </tr>\n",
       "    <tr>\n",
       "      <td>1251098</td>\n",
       "      <td>2615211</td>\n",
       "      <td>05101530339</td>\n",
       "      <td>14318759</td>\n",
       "      <td>2016-10-17 15:09:28.454558</td>\n",
       "      <td>Billing</td>\n",
       "      <td>6606 W Broad St</td>\n",
       "      <td>4th Fl</td>\n",
       "      <td></td>\n",
       "      <td>Richmond</td>\n",
       "      <td>VA</td>\n",
       "      <td>...</td>\n",
       "      <td>14648084.0</td>\n",
       "      <td>2001 Randolph Rd</td>\n",
       "      <td>Charlotte Spine Ctr</td>\n",
       "      <td></td>\n",
       "      <td>Charlotte</td>\n",
       "      <td>NC</td>\n",
       "      <td>28207</td>\n",
       "      <td>2005-12-16 21:40:16.256888</td>\n",
       "      <td>2435446.0</td>\n",
       "      <td>False</td>\n",
       "    </tr>\n",
       "  </tbody>\n",
       "</table>\n",
       "<p>107947 rows × 29 columns</p>\n",
       "</div>"
      ],
      "text/plain": [
       "         PARTY_ID           ME  POST_CD_ID                    FROM_DT  \\\n",
       "1         2425956  04501990596    15176853 2020-03-18 00:09:46.000000   \n",
       "5         2256798  02834911241    22181245 2020-03-18 00:09:46.000000   \n",
       "11        3519157  03843071049    26255432 2020-03-18 00:09:46.000000   \n",
       "16        2856691  04707020640    30711330 2020-03-18 00:09:46.000000   \n",
       "21        2033304  01720800906    30711353 2020-03-18 00:09:46.000000   \n",
       "...           ...          ...         ...                        ...   \n",
       "1246098   2729969  64901570653    12690692 2016-10-17 15:35:58.050344   \n",
       "1250772   2460209  05606771381    13662508 2016-10-17 15:14:44.452244   \n",
       "1251027   2447898  05104490273    11445686 2016-10-17 15:10:37.355970   \n",
       "1251097   2615219  05101540385    14318759 2016-10-17 15:09:28.458873   \n",
       "1251098   2615211  05101530339    14318759 2016-10-17 15:09:28.454558   \n",
       "\n",
       "        ADDR_TYPE               ADDR_1                         ADDR_2 ADDR_3  \\\n",
       "1         Billing      4700 Waters Ave                Memorial Health          \n",
       "5         Billing    6150 W Layton Ave                                         \n",
       "11        Billing       8901 Carti Way                                         \n",
       "16        Billing     2100 Madison Ave         Gateway Medical Center   None   \n",
       "21        Billing  1734 Cedar Creek Rd  Capital City Ortho/Sports Med   None   \n",
       "...           ...                  ...                            ...    ...   \n",
       "1246098   Billing    13535 Detroit Ave                                         \n",
       "1250772   Billing      72 Cambridge Rd                                         \n",
       "1251027   Billing     1594 Pinetree Dr                                         \n",
       "1251097   Billing      6606 W Broad St                         4th Fl          \n",
       "1251098   Billing      6606 W Broad St                         4th Fl          \n",
       "\n",
       "                                 CITY STATE_CD  ... POST_CD_ID_POLO  \\\n",
       "1        Savannah                           GA  ...      16013479.0   \n",
       "5        Greenfield                         WI  ...      20722272.0   \n",
       "11       Little Rock                        AR  ...      26578458.0   \n",
       "16                       Granite City       IL  ...      28415824.0   \n",
       "21                          Glenville       NC  ...      14908126.0   \n",
       "...                               ...      ...  ...             ...   \n",
       "1246098  Cleveland                          OH  ...       9348571.0   \n",
       "1250772  Montclair                          NJ  ...      10499403.0   \n",
       "1251027  Pittsburgh                         PA  ...      14318759.0   \n",
       "1251097  Richmond                           VA  ...       9172720.0   \n",
       "1251098  Richmond                           VA  ...      14648084.0   \n",
       "\n",
       "                        ADDR_1_POLO                       ADDR_2_POLO  \\\n",
       "1                    171 Ashley Ave                                     \n",
       "5                   47111 Monroe St  John F Kennedy Memorial Hospital   \n",
       "11                   7400 Fannin St                          Ste 1295   \n",
       "16                    300 Carson St                             Ste A   \n",
       "21       5555 Peachtree Dunwoody Rd              Ste 101 Medical Qtrs   \n",
       "...                             ...                               ...   \n",
       "1246098          3734 Whittier Blvd                                     \n",
       "1250772               153 W 11th St                                     \n",
       "1251027             6606 W Broad St                            4th Fl   \n",
       "1251097                1540 5th Ave                                     \n",
       "1251098            2001 Randolph Rd               Charlotte Spine Ctr   \n",
       "\n",
       "        ADDR_3_POLO                     CITY_POLO STATE_CD_POLO    ZIP_POLO  \\\n",
       "1                    Charleston                              SC  29425        \n",
       "5                    Indio                                   CA  92201        \n",
       "11                   Houston                                 TX  77054        \n",
       "16                   Jonesboro                               AR  72401        \n",
       "21                   Atlanta                                 GA  30342        \n",
       "...             ...                           ...           ...         ...   \n",
       "1246098              Los Angeles                             CA  90023        \n",
       "1250772              New York                                NY  10011        \n",
       "1251027              Richmond                                VA  23230        \n",
       "1251097              San Rafael                              CA  94901        \n",
       "1251098              Charlotte                               NC  28207        \n",
       "\n",
       "                      FROM_DT_POLO    POST_KEY  Match  \n",
       "1       2006-10-13 00:01:12.825717   8337958.0  False  \n",
       "5       2018-06-08 20:57:23.541024  14127502.0  False  \n",
       "11      2016-06-08 23:11:57.642529  20649454.0  False  \n",
       "16      2018-01-19 20:50:44.089924  22139940.0  False  \n",
       "21      2005-12-16 20:36:47.573450   1157154.0  False  \n",
       "...                            ...         ...    ...  \n",
       "1246098 2005-12-16 22:07:02.880271   3157198.0  False  \n",
       "1250772 2005-12-16 21:50:24.166674   1040539.0  False  \n",
       "1251027 2015-10-01 22:32:13.640477   2436195.0  False  \n",
       "1251097 2005-12-16 21:41:41.102973   2435669.0  False  \n",
       "1251098 2005-12-16 21:40:16.256888   2435446.0  False  \n",
       "\n",
       "[107947 rows x 29 columns]"
      ]
     },
     "execution_count": 127,
     "metadata": {},
     "output_type": "execute_result"
    }
   ],
   "source": [
    "len"
   ]
  },
  {
   "cell_type": "code",
   "execution_count": 116,
   "metadata": {},
   "outputs": [],
   "source": [
    "nums =[]\n",
    "for num in list(usage['ME'].astype(str)):\n",
    "    num = num.replace('.0','')\n",
    "    if len(num)==10:\n",
    "        num = '0'+num\n",
    "    elif len(num)==9:\n",
    "        num = '00'+num\n",
    "    elif len(num)==8:\n",
    "        num = '000'+num\n",
    "    nums.append(num)\n",
    "usage['ME']=nums"
   ]
  },
  {
   "cell_type": "code",
   "execution_count": 117,
   "metadata": {},
   "outputs": [],
   "source": [
    "DHC_MERGE = pd.merge(dhc, usage, on='ME')"
   ]
  },
  {
   "cell_type": "code",
   "execution_count": 159,
   "metadata": {},
   "outputs": [],
   "source": [
    "dhc_merge_3 = pd.merge(DIFF_2, dhc, on='ME')"
   ]
  },
  {
   "cell_type": "code",
   "execution_count": 160,
   "metadata": {},
   "outputs": [],
   "source": [
    "dhc_merge_3 = dhc_merge_3.fillna('None')"
   ]
  },
  {
   "cell_type": "code",
   "execution_count": 134,
   "metadata": {},
   "outputs": [
    {
     "data": {
      "text/plain": [
       "Index(['PARTY_ID', 'ME', 'POST_CD_ID', 'FROM_DT', 'ADDR_TYPE', 'ADDR_1',\n",
       "       'ADDR_2', 'ADDR_3', 'CITY', 'STATE_CD', 'ZIP', 'POST_CD_ID_PPMA',\n",
       "       'ADDR_1_PPMA', 'ADDR_2_PPMA', 'ADDR_3_PPMA', 'CITY_PPMA',\n",
       "       'STATE_CD_PPMA', 'ZIP_PPMA', 'FROM_DT_PPMA', 'POST_CD_ID_POLO',\n",
       "       'ADDR_1_POLO', 'ADDR_2_POLO', 'ADDR_3_POLO', 'CITY_POLO',\n",
       "       'STATE_CD_POLO', 'ZIP_POLO', 'FROM_DT_POLO', 'POST_KEY', 'Match', 'NPI',\n",
       "       'ME_feb', 'Additional Office Locations_feb', 'Phone_Number_feb',\n",
       "       'Zip Code_feb', 'State_feb', 'City_feb', 'Address_feb',\n",
       "       'First Name_feb', 'Physician Name_feb', 'Middle Name_feb',\n",
       "       'Primary Specialty_feb', 'Primary Hospital Affiliation_feb',\n",
       "       'Last Name_feb', 'Address1_feb', 'ME_mar',\n",
       "       'Additional Office Locations_mar', 'Phone_Number_mar', 'Zip Code_mar',\n",
       "       'State_mar', 'City_mar', 'Address_mar', 'First Name_mar',\n",
       "       'Physician Name_mar', 'Middle Name_mar', 'Primary Specialty_mar',\n",
       "       'Primary Hospital Affiliation_mar', 'Last Name_mar', 'Address1_mar',\n",
       "       'New', 'Phone_Update', 'Address_Update'],\n",
       "      dtype='object')"
      ]
     },
     "execution_count": 134,
     "metadata": {},
     "output_type": "execute_result"
    }
   ],
   "source": [
    "dhc_merge_2.columns"
   ]
  },
  {
   "cell_type": "code",
   "execution_count": 161,
   "metadata": {},
   "outputs": [],
   "source": [
    "COUNT = 0\n",
    "dhc_match = []\n",
    "for row in dhc_merge_3.itertuples():\n",
    "    if fuzz.ratio(row.ADDR_1, row.Address_mar)>70:\n",
    "        COUNT += 1 \n",
    "        dhc_match.append(True)\n",
    "    else:\n",
    "        dhc_match.append(False)"
   ]
  },
  {
   "cell_type": "code",
   "execution_count": 163,
   "metadata": {},
   "outputs": [],
   "source": [
    "dhc_merge_3['DHC_MATCH']=dhc_match"
   ]
  },
  {
   "cell_type": "code",
   "execution_count": 139,
   "metadata": {},
   "outputs": [],
   "source": [
    "dhc_merge_2.to_csv('SAMPLE_WORK.csv',index=False)"
   ]
  },
  {
   "cell_type": "code",
   "execution_count": null,
   "metadata": {},
   "outputs": [],
   "source": [
    "insurance_no_matches  = narrow_it_down(insurance_mismatch_df)"
   ]
  },
  {
   "cell_type": "code",
   "execution_count": null,
   "metadata": {},
   "outputs": [],
   "source": [
    "no_matches = narrow_it_down(mismatch_df)"
   ]
  },
  {
   "cell_type": "code",
   "execution_count": null,
   "metadata": {},
   "outputs": [],
   "source": [
    "def get_zip_distance(df, DIST=pgeocode.GeoDistance('US')):\n",
    "    distance = DIST.query_postal_code(df[],df[])*0.621371\n",
    "    return(distance)"
   ]
  },
  {
   "cell_type": "code",
   "execution_count": null,
   "metadata": {},
   "outputs": [],
   "source": [
    "#Define function to get distances between zipcodes in dataframe\n",
    "def get_zip_distances(df):    \n",
    "    distances = []\n",
    "    TOTAL = df.shape[0]\n",
    "    print(TOTAL)\n",
    "    count =0\n",
    "    DIST=pgeocode.GeoDistance('US')\n",
    "    dict_list = []\n",
    "    num_list =[]\n",
    "    for row in df.itertuples():\n",
    "        try:\n",
    "            new_dict={}\n",
    "            new_dict[\"ME\"]=row.ME\n",
    "            count += 1\n",
    "            if int(count/TOTAL*100) in list(range(1,100)) and int(count/TOTAL*100) not in num_list:\n",
    "                num_list.append(int(count/TOTAL*100))\n",
    "                print (f'{int(count/TOTAL*100)}% done!')\n",
    "            try:\n",
    "                mf = int(row.ZIP_POLO)\n",
    "    #             print(mf)\n",
    "                ins = int(row.ZIP_insurance)\n",
    "    #             print(ins)\n",
    "            except:\n",
    "                mf='nan'\n",
    "                ins='nan'\n",
    "        #     print(f'{mf} {ins}')\n",
    "            try:\n",
    "                ZIP_distance = get_zip_distance(mf,ins)\n",
    "    #             print(ZIP_distance)\n",
    "                if np.isnan(ZIP_distance)==False:\n",
    "                    distances.append(ZIP_distance)     \n",
    "                else:\n",
    "                    print(f'{count}: {row.ME} \\nMasterfile:{mf} \\nInsurance:{ins}')\n",
    "            except:\n",
    "                ZIP_distance = 'nan'\n",
    "                print(f'{count}: {row.ME} \\nMasterfile:{mf} \\nInsurance:{ins}')\n",
    "            new_dict['ZIP_distance']=ZIP_distance\n",
    "            dict_list.append(new_dict)\n",
    "        # print(distances2)\n",
    "        except KeyboardInterrupt:\n",
    "            print(\"Interrupting...\")\n",
    "            return(dict_list, distances)\n",
    "        try:\n",
    "            avg = sum(distances)/len(distances)\n",
    "        except:\n",
    "            avg=0\n",
    "    print(f'Average distance between insurance and masterfile addressses is {avg} miles.')\n",
    "    return(dict_list, distances)"
   ]
  },
  {
   "cell_type": "code",
   "execution_count": null,
   "metadata": {},
   "outputs": [],
   "source": [
    "zip_dicts_polo, zip_dists_polo = get_zip_distances(no_matches)"
   ]
  },
  {
   "cell_type": "code",
   "execution_count": null,
   "metadata": {},
   "outputs": [],
   "source": [
    "def get_zip_distance(zip1,zip2):\n",
    "    zip1 = clean_zipcode(zip1)\n",
    "    zip2 = clean_zipcode(zip2)\n",
    "    Distance = DIST.query_postal_code(zip1, zip2)*0.621371\n",
    "    return(Distance)"
   ]
  },
  {
   "cell_type": "code",
   "execution_count": null,
   "metadata": {},
   "outputs": [],
   "source": [
    "zippos = zip_dicts+zip_dicts2 + zip_dicts3\n",
    "pd.DataFrame(zippos)"
   ]
  },
  {
   "cell_type": "code",
   "execution_count": null,
   "metadata": {},
   "outputs": [],
   "source": [
    "no_matches.shape[0]"
   ]
  },
  {
   "cell_type": "code",
   "execution_count": null,
   "metadata": {},
   "outputs": [],
   "source": [
    "def clean_zipcode(zipcode):\n",
    "    zipcode=str(zipcode)\n",
    "    zipcode = zipcode.replace(\" \",\"\")\n",
    "    zipcode = zipcode.replace(\".0\",\"\")\n",
    "    if len(zipcode)==3:\n",
    "        zipcode = \"00\"+zipcode\n",
    "    if len(zipcode)==4: \n",
    "        zipcode = \"0\"+zipcode\n",
    "    else:\n",
    "        zipcode = zipcode[0:5]\n",
    "    return(zipcode)"
   ]
  },
  {
   "cell_type": "code",
   "execution_count": null,
   "metadata": {},
   "outputs": [],
   "source": [
    "no_matches.to_csv('no_matches.csv')"
   ]
  },
  {
   "cell_type": "code",
   "execution_count": null,
   "metadata": {},
   "outputs": [],
   "source": [
    "polo_dist = pd.DataFrame(zip_dicts_polo)"
   ]
  },
  {
   "cell_type": "code",
   "execution_count": null,
   "metadata": {},
   "outputs": [],
   "source": [
    "ppma_dist=pd.DataFrame(zippos)"
   ]
  },
  {
   "cell_type": "code",
   "execution_count": null,
   "metadata": {},
   "outputs": [],
   "source": [
    "no_matches = no_matches.drop(columns=['POLO_distance'])\n",
    "with_zips = pd.merge(no_matches, polo_dist, on='ME', how='outer')"
   ]
  },
  {
   "cell_type": "code",
   "execution_count": null,
   "metadata": {},
   "outputs": [],
   "source": [
    "with_zips = pd.merge(with_zips, ppma_dist, on='ME', how='outer', suffixes = ('_polo', '_ppma'))"
   ]
  },
  {
   "cell_type": "code",
   "execution_count": null,
   "metadata": {},
   "outputs": [],
   "source": [
    "with_zips['ZIP_distance_polo'] = with_zips['ZIP_distance_polo'].astype(float)\n",
    "with_zips['ZIP_distance_ppma'] = with_zips['ZIP_distance_ppma'].astype(float)"
   ]
  },
  {
   "cell_type": "code",
   "execution_count": null,
   "metadata": {},
   "outputs": [],
   "source": [
    "far_places = with_zips[(with_zips['ZIP_distance_polo']>300) & (with_zips['ZIP_distance_ppma']>300)]"
   ]
  },
  {
   "cell_type": "code",
   "execution_count": null,
   "metadata": {},
   "outputs": [],
   "source": [
    "far_places[['DATE_POLO', 'DATE_PPMA', 'DATE_insurance']]"
   ]
  },
  {
   "cell_type": "code",
   "execution_count": null,
   "metadata": {},
   "outputs": [],
   "source": [
    "all_addresses[['PARTY_ID','ME']]"
   ]
  },
  {
   "cell_type": "code",
   "execution_count": null,
   "metadata": {},
   "outputs": [],
   "source": [
    "small_table = all_addresses[['PARTY_ID','POST_CD_ID', 'ME']]"
   ]
  },
  {
   "cell_type": "code",
   "execution_count": null,
   "metadata": {},
   "outputs": [],
   "source": [
    "with_ids = pd.merge(small_table, far_places, on='ME')"
   ]
  },
  {
   "cell_type": "code",
   "execution_count": null,
   "metadata": {},
   "outputs": [],
   "source": [
    "pd.merge(with_ids, long_time, on=['PARTY_ID', 'POST_CD_ID'])"
   ]
  },
  {
   "cell_type": "code",
   "execution_count": null,
   "metadata": {},
   "outputs": [],
   "source": [
    "with_ids.to_csv('Insurance_Updates.csv', index=False)"
   ]
  },
  {
   "cell_type": "code",
   "execution_count": null,
   "metadata": {},
   "outputs": [],
   "source": [
    "far_places"
   ]
  },
  {
   "cell_type": "code",
   "execution_count": null,
   "metadata": {},
   "outputs": [],
   "source": [
    "ppma_match_df.to_csv('PPMA_Insurance_Matches.csv',index=False)"
   ]
  },
  {
   "cell_type": "code",
   "execution_count": null,
   "metadata": {},
   "outputs": [],
   "source": [
    "ppma_mismatch_df.to_csv('PPMA_Insurance_POST_CD_ID_Mismatches.csv',index=False)"
   ]
  },
  {
   "cell_type": "code",
   "execution_count": null,
   "metadata": {},
   "outputs": [],
   "source": [
    "ppma_extreme_mismatches = narrow_it_down_ppma(ppma_mismatch_df)\n"
   ]
  },
  {
   "cell_type": "code",
   "execution_count": null,
   "metadata": {},
   "outputs": [],
   "source": [
    "print(f'{ppma_extreme_mismatches.shape} < {ppma_mismatch_df.shape}')"
   ]
  },
  {
   "cell_type": "code",
   "execution_count": null,
   "metadata": {},
   "outputs": [],
   "source": [
    "ppma_extreme_mismatches.to_csv('PPMA_Insurance_Complete_Address_Mismatches.csv',index=False)"
   ]
  },
  {
   "cell_type": "code",
   "execution_count": null,
   "metadata": {},
   "outputs": [],
   "source": [
    "insurance_no_matches.to_csv('PPMA_POLO_Insurance_Complete_Mismatches.csv',index=False)"
   ]
  },
  {
   "cell_type": "code",
   "execution_count": null,
   "metadata": {},
   "outputs": [],
   "source": [
    "insurance_no_matches.dtypes"
   ]
  },
  {
   "cell_type": "code",
   "execution_count": null,
   "metadata": {},
   "outputs": [],
   "source": [
    "ppma_extreme_mismatches['STATUS']='BAD'\n",
    "ppma_match_df['STATUS']='GOOD'\n",
    "all_ppma_insurance = pd.concat([ppma_extreme_mismatches, ppma_match_df])"
   ]
  },
  {
   "cell_type": "code",
   "execution_count": null,
   "metadata": {},
   "outputs": [],
   "source": [
    "all_ppma_insurance.groupby('STATUS').count()"
   ]
  },
  {
   "cell_type": "code",
   "execution_count": null,
   "metadata": {},
   "outputs": [],
   "source": [
    "all_ppma_insurance.to_csv('Insurance_PPMA_2019_10_16.csv')"
   ]
  },
  {
   "cell_type": "code",
   "execution_count": null,
   "metadata": {},
   "outputs": [],
   "source": [
    "[\n",
    "        'ME',\n",
    "        'RECORD_ID',\n",
    "        'UPDATE_TYPE',\n",
    "        'ADDRESS_TYPE',\n",
    "        'MAILING_NAME',\n",
    "        'LAST_NAME',\n",
    "        'FIRST_NAME',\n",
    "        'MIDDLE_NAME',\n",
    "        'SUFFIX',\n",
    "        'MAILING_LINE_1',\n",
    "        'MAILING_LINE_2',\n",
    "        'CITY',\n",
    "        'STATE',\n",
    "        'ZIP',\n",
    "        'SECTOR',\n",
    "        'CARRIER_ROUTE',\n",
    "        'ADDRESS_UNDELIVERABLE_FLAG',\n",
    "        'FIPS_COUNTY',\n",
    "        'FIPS_STATE',\n",
    "        'PRINTER_CONTROL_CODE',\n",
    "        'PC_ZIP',\n",
    "        'PC_SECTOR',\n",
    "        'DELIVERY_POINT_CODE',\n",
    "        'CHECK_DIGIT',\n",
    "        'PRINTER_CONTROL_CODE_2',\n",
    "        'REGION',\n",
    "        'DIVISION',\n",
    "        'GROUP',\n",
    "        'TRACT',\n",
    "        'SUFFIX_CENSUS',\n",
    "        'BLOCK_GROUP',\n",
    "        'MSA_POPULATION_SIZE',\n",
    "        'MICRO_METRO_IND',\n",
    "        'CBSA',\n",
    "        'CBSA_DIV_IND',\n",
    "        'MD_DO_CODE',\n",
    "        'BIRTH_YEAR',\n",
    "        'BIRTH_CITY',\n",
    "        'BIRTH_STATE',\n",
    "        'BIRTH_COUNTRY',\n",
    "        'GENDER',\n",
    "        'TELEPHONE_NUMBER',\n",
    "        'PRESUMED_DEAD_FLAG',\n",
    "        'FAX_NUMBER',\n",
    "        'TOP_CD',\n",
    "        'PE_CD',\n",
    "        'PRIM_SPEC_CD',\n",
    "        'SEC_SPEC_CD',\n",
    "        'MPA_CD',\n",
    "        'PRA_RECIPIENT',\n",
    "        'PRA_EXP_DT',\n",
    "        'GME_CONF_FLG',\n",
    "        'FROM_DT',\n",
    "        'TO_DT',\n",
    "        'YEAR_IN_PROGRAM',\n",
    "        'POST_GRADUATE_YEAR',\n",
    "        'GME_SPEC_1',\n",
    "        'GME_SPEC_2',\n",
    "        'TRAINING_TYPE',\n",
    "        'GME_INST_STATE',\n",
    "        'GME_INST_ID',\n",
    "        'MEDSCHOOL_STATE',\n",
    "        'MEDSCHOOL_ID',\n",
    "        'MEDSCHOOL_GRAD_YEAR',\n",
    "        'NO_CONTACT_IND',\n",
    "        'NO_WEB_FLAG',\n",
    "        'PDRP_FLAG',\n",
    "        'PDRP_START_DT',\n",
    "        'POLO_MAILING_LINE_1',\n",
    "        'POLO_MAILING_LINE_2',\n",
    "        'POLO_CITY',\n",
    "        'POLO_STATE',\n",
    "        'POLO_ZIP',\n",
    "        'POLO_SECTOR',\n",
    "        'POLO_CARRIER_ROUTE',\n",
    "        'MOST_RECENT_FORMER_LAST_NAME',\n",
    "        'MOST_RECENT_FORMER_MIDDLE_NAME',\n",
    "        'MOST_RECENT_FORMER_FIRST_NAME',\n",
    "        'NEXT_MOST_RECENT_FORMER_LAST',\n",
    "        'NEXT_MOST_RECENT_FORMER_MIDDLE',\n",
    "        'NEXT_MOST_RECENT_FORMER_FIRST'\n",
    "    ]\n",
    "PPD_countries = ppd[['ME','MAILING_NAME','BIRTH_YEAR','BIRTH_CITY','BIRTH_STATE','BIRTH_COUNTRY']]"
   ]
  },
  {
   "cell_type": "code",
   "execution_count": null,
   "metadata": {},
   "outputs": [],
   "source": [
    "PPD_countries = PPD_countries.dropna(subset=['BIRTH_CITY'])"
   ]
  },
  {
   "cell_type": "code",
   "execution_count": null,
   "metadata": {},
   "outputs": [],
   "source": [
    "PPD_counts = PPD_countries.groupby('BIRTH_COUNTRY').nunique()"
   ]
  },
  {
   "cell_type": "code",
   "execution_count": null,
   "metadata": {},
   "outputs": [],
   "source": [
    "ppd_no_us = PPD_countries[PPD_countries['BIRTH_COUNTRY']!='US1']"
   ]
  },
  {
   "cell_type": "code",
   "execution_count": null,
   "metadata": {},
   "outputs": [],
   "source": [
    "ppd_no_us"
   ]
  },
  {
   "cell_type": "code",
   "execution_count": null,
   "metadata": {},
   "outputs": [],
   "source": [
    "import geonamescache as geo"
   ]
  },
  {
   "cell_type": "code",
   "execution_count": null,
   "metadata": {},
   "outputs": [],
   "source": [
    "city_list = geo.GeonamesCache().get_cities()"
   ]
  },
  {
   "cell_type": "code",
   "execution_count": null,
   "metadata": {},
   "outputs": [],
   "source": [
    "city_df = pd.DataFrame(city_list).transpose()"
   ]
  },
  {
   "cell_type": "code",
   "execution_count": null,
   "metadata": {},
   "outputs": [],
   "source": [
    "city_df['name'] = city_df['name'].str.upper()"
   ]
  },
  {
   "cell_type": "code",
   "execution_count": null,
   "metadata": {},
   "outputs": [],
   "source": [
    "city_trunc = city_df[['countrycode', 'name']]"
   ]
  },
  {
   "cell_type": "code",
   "execution_count": null,
   "metadata": {},
   "outputs": [],
   "source": [
    "city_info = pd.merge(city_trunc, ppd_no_us, left_on = 'name', right_on = 'BIRTH_CITY', how = 'right')"
   ]
  },
  {
   "cell_type": "code",
   "execution_count": null,
   "metadata": {},
   "outputs": [],
   "source": [
    "city_info = city_info.fillna('None')\n",
    "nones = city_info[city_info['BIRTH_COUNTRY']=='None']"
   ]
  },
  {
   "cell_type": "code",
   "execution_count": null,
   "metadata": {},
   "outputs": [],
   "source": [
    "nones.groupby('countrycode').count()"
   ]
  },
  {
   "cell_type": "code",
   "execution_count": null,
   "metadata": {},
   "outputs": [],
   "source": [
    "# nones = nones.fillna('None')\n",
    "potential = nones[(nones['countrycode']=='None') & (nones['BIRTH_CITY']!='UNKNOWN') & (nones['BIRTH_COUNTRY']=='None')]\n",
    "potential.groupby('BIRTH_CITY').count().sort_values(by=['countrycode'], ascending=False)"
   ]
  },
  {
   "cell_type": "code",
   "execution_count": null,
   "metadata": {},
   "outputs": [],
   "source": [
    "ppd_no_us = ppd_no_us.replace('PUSAN', 'BUSAN')"
   ]
  },
  {
   "cell_type": "code",
   "execution_count": null,
   "metadata": {},
   "outputs": [],
   "source": [
    "ppd_no_us[ppd_no_us['BIRTH_CITY']=='BUSAN']"
   ]
  },
  {
   "cell_type": "code",
   "execution_count": null,
   "metadata": {},
   "outputs": [],
   "source": [
    "city_df.sort_values(by=['name'])"
   ]
  },
  {
   "cell_type": "code",
   "execution_count": null,
   "metadata": {},
   "outputs": [],
   "source": [
    "city_trunc.to_csv('Cities.csv')"
   ]
  },
  {
   "cell_type": "code",
   "execution_count": null,
   "metadata": {},
   "outputs": [],
   "source": [
    "city_info.to_csv('Country_Work.csv')"
   ]
  },
  {
   "cell_type": "code",
   "execution_count": null,
   "metadata": {},
   "outputs": [],
   "source": [
    "full = pd.read_csv('Insurance_PPMA_2019_10_16.csv')"
   ]
  },
  {
   "cell_type": "code",
   "execution_count": null,
   "metadata": {},
   "outputs": [],
   "source": [
    "full['ME'] = full['ME'].astype('str')"
   ]
  },
  {
   "cell_type": "code",
   "execution_count": null,
   "metadata": {},
   "outputs": [],
   "source": [
    "full.dtypes"
   ]
  },
  {
   "cell_type": "code",
   "execution_count": null,
   "metadata": {},
   "outputs": [],
   "source": [
    "PPMA.dtypes"
   ]
  },
  {
   "cell_type": "code",
   "execution_count": null,
   "metadata": {},
   "outputs": [],
   "source": [
    "new_PPMA_2 = pd.merge(full, PPMA, left_on=('ME'), right_on=('ME'))"
   ]
  },
  {
   "cell_type": "code",
   "execution_count": null,
   "metadata": {},
   "outputs": [],
   "source": [
    "PPMA= PPMA.drop_duplicates(subset = 'PARTY_ID', keep='first')\n",
    "print(PPMA.shape)"
   ]
  },
  {
   "cell_type": "code",
   "execution_count": null,
   "metadata": {},
   "outputs": [],
   "source": [
    "PPMA.dtypes"
   ]
  },
  {
   "cell_type": "code",
   "execution_count": null,
   "metadata": {},
   "outputs": [],
   "source": [
    "full.shape"
   ]
  },
  {
   "cell_type": "code",
   "execution_count": null,
   "metadata": {},
   "outputs": [],
   "source": [
    "PPMA.shape"
   ]
  },
  {
   "cell_type": "code",
   "execution_count": null,
   "metadata": {},
   "outputs": [],
   "source": [
    "new_PPMA.drop_duplicates('ME')"
   ]
  },
  {
   "cell_type": "code",
   "execution_count": null,
   "metadata": {},
   "outputs": [],
   "source": [
    "new_PPMA.to_csv('Insurance_PPMA_2019_10_21.csv')"
   ]
  },
  {
   "cell_type": "code",
   "execution_count": null,
   "metadata": {},
   "outputs": [],
   "source": [
    "new_PPMA.groupby('STATUS').count()"
   ]
  },
  {
   "cell_type": "code",
   "execution_count": null,
   "metadata": {},
   "outputs": [],
   "source": [
    "new_PPMA_2.drop_duplicates(subset='ME')"
   ]
  },
  {
   "cell_type": "code",
   "execution_count": null,
   "metadata": {},
   "outputs": [],
   "source": [
    "PPMA['ME'] = PPMA['ME'].apply(lambda x: ('0000' + str(x))[-11:]) "
   ]
  },
  {
   "cell_type": "code",
   "execution_count": null,
   "metadata": {},
   "outputs": [],
   "source": [
    "full['ME'] = full['ME'].apply(lambda x: ('0000' + str(x))[-11:]) "
   ]
  },
  {
   "cell_type": "code",
   "execution_count": null,
   "metadata": {},
   "outputs": [],
   "source": [
    "new_PPMA_2.to_csv('Insurance_PPMA_2019_10_21.csv')"
   ]
  },
  {
   "cell_type": "code",
   "execution_count": 15,
   "metadata": {},
   "outputs": [
    {
     "data": {
      "text/plain": [
       "(1596297, 11)"
      ]
     },
     "execution_count": 15,
     "metadata": {},
     "output_type": "execute_result"
    }
   ],
   "source": [
    "insurance_2.shape"
   ]
  },
  {
   "cell_type": "code",
   "execution_count": 17,
   "metadata": {},
   "outputs": [
    {
     "data": {
      "text/plain": [
       "(12811241, 12)"
      ]
     },
     "execution_count": 17,
     "metadata": {},
     "output_type": "execute_result"
    }
   ],
   "source": [
    "INSURANCE_2.shape"
   ]
  },
  {
   "cell_type": "code",
   "execution_count": 21,
   "metadata": {},
   "outputs": [
    {
     "data": {
      "text/plain": [
       "(1257687, 12)"
      ]
     },
     "execution_count": 21,
     "metadata": {},
     "output_type": "execute_result"
    }
   ],
   "source": [
    "INSURANCE_2.shape"
   ]
  },
  {
   "cell_type": "code",
   "execution_count": 165,
   "metadata": {},
   "outputs": [],
   "source": [
    "dhc_merge_3[dhc_merge_3.DHC_MATCH==True].to_csv('Insurance_Sample_2.csv',index=False)"
   ]
  },
  {
   "cell_type": "code",
   "execution_count": 167,
   "metadata": {},
   "outputs": [],
   "source": [
    "test = dhc_merge_3[dhc_merge_3.DHC_MATCH==True]"
   ]
  },
  {
   "cell_type": "code",
   "execution_count": 168,
   "metadata": {},
   "outputs": [
    {
     "data": {
      "text/plain": [
       "Index(['PARTY_ID', 'ME', 'POST_CD_ID', 'FROM_DT', 'ADDR_TYPE', 'ADDR_1',\n",
       "       'ADDR_2', 'ADDR_3', 'CITY', 'STATE_CD', 'ZIP', 'POST_CD_ID_PPMA',\n",
       "       'ADDR_1_PPMA', 'ADDR_2_PPMA', 'ADDR_3_PPMA', 'CITY_PPMA',\n",
       "       'STATE_CD_PPMA', 'ZIP_PPMA', 'FROM_DT_PPMA', 'POST_CD_ID_POLO',\n",
       "       'ADDR_1_POLO', 'ADDR_2_POLO', 'ADDR_3_POLO', 'CITY_POLO',\n",
       "       'STATE_CD_POLO', 'ZIP_POLO', 'FROM_DT_POLO', 'POST_KEY', 'Match',\n",
       "       'Match_2', 'NPI', 'ME_feb', 'Additional Office Locations_feb',\n",
       "       'Phone_Number_feb', 'Zip Code_feb', 'State_feb', 'City_feb',\n",
       "       'Address_feb', 'First Name_feb', 'Physician Name_feb',\n",
       "       'Middle Name_feb', 'Primary Specialty_feb',\n",
       "       'Primary Hospital Affiliation_feb', 'Last Name_feb', 'Address1_feb',\n",
       "       'ME_mar', 'Additional Office Locations_mar', 'Phone_Number_mar',\n",
       "       'Zip Code_mar', 'State_mar', 'City_mar', 'Address_mar',\n",
       "       'First Name_mar', 'Physician Name_mar', 'Middle Name_mar',\n",
       "       'Primary Specialty_mar', 'Primary Hospital Affiliation_mar',\n",
       "       'Last Name_mar', 'Address1_mar', 'New', 'Phone_Update',\n",
       "       'Address_Update', 'DHC_MATCH'],\n",
       "      dtype='object')"
      ]
     },
     "execution_count": 168,
     "metadata": {},
     "output_type": "execute_result"
    }
   ],
   "source": [
    "test.columns"
   ]
  },
  {
   "cell_type": "code",
   "execution_count": 170,
   "metadata": {},
   "outputs": [],
   "source": [
    "count_1 = 0\n",
    "for row in test.itertuples():\n",
    "    if row.CITY != row.CITY_POLO and row.CITY != row.CITY_PPMA:\n",
    "        count_1 += 1"
   ]
  },
  {
   "cell_type": "code",
   "execution_count": 171,
   "metadata": {},
   "outputs": [
    {
     "data": {
      "text/plain": [
       "1111"
      ]
     },
     "execution_count": 171,
     "metadata": {},
     "output_type": "execute_result"
    }
   ],
   "source": [
    "count_1"
   ]
  },
  {
   "cell_type": "code",
   "execution_count": 172,
   "metadata": {},
   "outputs": [
    {
     "data": {
      "text/html": [
       "<div>\n",
       "<style scoped>\n",
       "    .dataframe tbody tr th:only-of-type {\n",
       "        vertical-align: middle;\n",
       "    }\n",
       "\n",
       "    .dataframe tbody tr th {\n",
       "        vertical-align: top;\n",
       "    }\n",
       "\n",
       "    .dataframe thead th {\n",
       "        text-align: right;\n",
       "    }\n",
       "</style>\n",
       "<table border=\"1\" class=\"dataframe\">\n",
       "  <thead>\n",
       "    <tr style=\"text-align: right;\">\n",
       "      <th></th>\n",
       "      <th>PARTY_ID</th>\n",
       "      <th>ME</th>\n",
       "      <th>POST_CD_ID</th>\n",
       "      <th>FROM_DT</th>\n",
       "      <th>ADDR_TYPE</th>\n",
       "      <th>ADDR_1</th>\n",
       "      <th>ADDR_2</th>\n",
       "      <th>ADDR_3</th>\n",
       "      <th>CITY</th>\n",
       "      <th>STATE_CD</th>\n",
       "      <th>...</th>\n",
       "      <th>Physician Name_mar</th>\n",
       "      <th>Middle Name_mar</th>\n",
       "      <th>Primary Specialty_mar</th>\n",
       "      <th>Primary Hospital Affiliation_mar</th>\n",
       "      <th>Last Name_mar</th>\n",
       "      <th>Address1_mar</th>\n",
       "      <th>New</th>\n",
       "      <th>Phone_Update</th>\n",
       "      <th>Address_Update</th>\n",
       "      <th>DHC_MATCH</th>\n",
       "    </tr>\n",
       "  </thead>\n",
       "  <tbody>\n",
       "    <tr>\n",
       "      <td>0</td>\n",
       "      <td>3591098</td>\n",
       "      <td>05104090984</td>\n",
       "      <td>14996656</td>\n",
       "      <td>2020-03-18 00:04:36.000000</td>\n",
       "      <td>Billing</td>\n",
       "      <td>4301 W Markham St</td>\n",
       "      <td>Slot 503</td>\n",
       "      <td></td>\n",
       "      <td>Little Rock</td>\n",
       "      <td>AR</td>\n",
       "      <td>...</td>\n",
       "      <td>Tina Ipe</td>\n",
       "      <td>S</td>\n",
       "      <td>Pathology</td>\n",
       "      <td>Houston Methodist Hospital (FKA the Methodist ...</td>\n",
       "      <td>Ipe</td>\n",
       "      <td>None</td>\n",
       "      <td>True</td>\n",
       "      <td>True</td>\n",
       "      <td>True</td>\n",
       "      <td>True</td>\n",
       "    </tr>\n",
       "    <tr>\n",
       "      <td>10</td>\n",
       "      <td>2450580</td>\n",
       "      <td>04901960572</td>\n",
       "      <td>20329300</td>\n",
       "      <td>2020-03-14 04:13:13.000000</td>\n",
       "      <td>Billing</td>\n",
       "      <td>51600 Huntington Rd</td>\n",
       "      <td>La Pine Community Health Center</td>\n",
       "      <td></td>\n",
       "      <td>La Pine</td>\n",
       "      <td>OR</td>\n",
       "      <td>...</td>\n",
       "      <td>Martin Smart</td>\n",
       "      <td>L</td>\n",
       "      <td>Family Practice</td>\n",
       "      <td>St Charles Health System - Bend (Bend, OR)</td>\n",
       "      <td>Smart</td>\n",
       "      <td>None</td>\n",
       "      <td>True</td>\n",
       "      <td>True</td>\n",
       "      <td>True</td>\n",
       "      <td>True</td>\n",
       "    </tr>\n",
       "    <tr>\n",
       "      <td>13</td>\n",
       "      <td>2590306</td>\n",
       "      <td>04804910625</td>\n",
       "      <td>21506696</td>\n",
       "      <td>2020-03-14 04:13:13.000000</td>\n",
       "      <td>Billing</td>\n",
       "      <td>3803 S Bascom Ave</td>\n",
       "      <td>Ste 204</td>\n",
       "      <td></td>\n",
       "      <td>Campbell</td>\n",
       "      <td>CA</td>\n",
       "      <td>...</td>\n",
       "      <td>Bradley Hill</td>\n",
       "      <td>B.</td>\n",
       "      <td>Surgery - Vascular Surgery</td>\n",
       "      <td>Good Samaritan Hospital (San Jose, CA)</td>\n",
       "      <td>Hill</td>\n",
       "      <td>None</td>\n",
       "      <td>False</td>\n",
       "      <td>True</td>\n",
       "      <td>True</td>\n",
       "      <td>True</td>\n",
       "    </tr>\n",
       "    <tr>\n",
       "      <td>14</td>\n",
       "      <td>1845538</td>\n",
       "      <td>00102880161</td>\n",
       "      <td>22127673</td>\n",
       "      <td>2020-03-14 04:13:13.000000</td>\n",
       "      <td>Billing</td>\n",
       "      <td>115 E Brooklyn St</td>\n",
       "      <td>P O Box 916</td>\n",
       "      <td></td>\n",
       "      <td>Linden</td>\n",
       "      <td>TN</td>\n",
       "      <td>...</td>\n",
       "      <td>William Bush</td>\n",
       "      <td>Brent</td>\n",
       "      <td>Internal Medicine</td>\n",
       "      <td>Lawton Indian Hospital (Lawton, OK)</td>\n",
       "      <td>Bush</td>\n",
       "      <td>None</td>\n",
       "      <td>True</td>\n",
       "      <td>True</td>\n",
       "      <td>True</td>\n",
       "      <td>True</td>\n",
       "    </tr>\n",
       "    <tr>\n",
       "      <td>17</td>\n",
       "      <td>4627590</td>\n",
       "      <td>74811050087</td>\n",
       "      <td>25898736</td>\n",
       "      <td>2020-03-14 04:13:13.000000</td>\n",
       "      <td>Billing</td>\n",
       "      <td>900 W Clairemont Ave</td>\n",
       "      <td>Hshs Sacred Heart Hospital</td>\n",
       "      <td></td>\n",
       "      <td>Eau Claire</td>\n",
       "      <td>WI</td>\n",
       "      <td>...</td>\n",
       "      <td>Katrina Victoria</td>\n",
       "      <td>V</td>\n",
       "      <td>Internal Medicine</td>\n",
       "      <td>St Barnabas Hospital (Bronx, NY)</td>\n",
       "      <td>Victoria</td>\n",
       "      <td>None</td>\n",
       "      <td>True</td>\n",
       "      <td>True</td>\n",
       "      <td>True</td>\n",
       "      <td>True</td>\n",
       "    </tr>\n",
       "    <tr>\n",
       "      <td>...</td>\n",
       "      <td>...</td>\n",
       "      <td>...</td>\n",
       "      <td>...</td>\n",
       "      <td>...</td>\n",
       "      <td>...</td>\n",
       "      <td>...</td>\n",
       "      <td>...</td>\n",
       "      <td>...</td>\n",
       "      <td>...</td>\n",
       "      <td>...</td>\n",
       "      <td>...</td>\n",
       "      <td>...</td>\n",
       "      <td>...</td>\n",
       "      <td>...</td>\n",
       "      <td>...</td>\n",
       "      <td>...</td>\n",
       "      <td>...</td>\n",
       "      <td>...</td>\n",
       "      <td>...</td>\n",
       "      <td>...</td>\n",
       "      <td>...</td>\n",
       "    </tr>\n",
       "    <tr>\n",
       "      <td>3861</td>\n",
       "      <td>2250527</td>\n",
       "      <td>02834990078</td>\n",
       "      <td>21860862</td>\n",
       "      <td>2016-10-19 16:36:59.636308</td>\n",
       "      <td>Billing</td>\n",
       "      <td>301 S 7th Ave</td>\n",
       "      <td>Ste 135</td>\n",
       "      <td></td>\n",
       "      <td>West Reading</td>\n",
       "      <td>PA</td>\n",
       "      <td>...</td>\n",
       "      <td>Daniel O'shea</td>\n",
       "      <td>J</td>\n",
       "      <td>Radiology - Diagnostic Radiology</td>\n",
       "      <td>Reading Hospital (West Reading, PA)</td>\n",
       "      <td>O'shea</td>\n",
       "      <td>Suite 135</td>\n",
       "      <td>False</td>\n",
       "      <td>True</td>\n",
       "      <td>False</td>\n",
       "      <td>True</td>\n",
       "    </tr>\n",
       "    <tr>\n",
       "      <td>3863</td>\n",
       "      <td>2862034</td>\n",
       "      <td>00518021265</td>\n",
       "      <td>21727893</td>\n",
       "      <td>2016-10-19 16:33:25.242108</td>\n",
       "      <td>Billing</td>\n",
       "      <td>400 Craven Rd</td>\n",
       "      <td>Kaiser San Marcos Medical Office</td>\n",
       "      <td></td>\n",
       "      <td>San Marcos</td>\n",
       "      <td>CA</td>\n",
       "      <td>...</td>\n",
       "      <td>Herbert Yue</td>\n",
       "      <td>None</td>\n",
       "      <td>Internal Medicine</td>\n",
       "      <td>Palomar Medical Center Downtown Escondido (FKA...</td>\n",
       "      <td>Yue</td>\n",
       "      <td>None</td>\n",
       "      <td>False</td>\n",
       "      <td>True</td>\n",
       "      <td>False</td>\n",
       "      <td>True</td>\n",
       "    </tr>\n",
       "    <tr>\n",
       "      <td>3864</td>\n",
       "      <td>1806540</td>\n",
       "      <td>00502981064</td>\n",
       "      <td>21500944</td>\n",
       "      <td>2016-10-19 14:33:42.873766</td>\n",
       "      <td>Billing</td>\n",
       "      <td>732 N Broadway</td>\n",
       "      <td>Pediatrics</td>\n",
       "      <td></td>\n",
       "      <td>Escondido</td>\n",
       "      <td>CA</td>\n",
       "      <td>...</td>\n",
       "      <td>Monte Klaudt</td>\n",
       "      <td>R</td>\n",
       "      <td>Pediatric Medicine</td>\n",
       "      <td>Kaiser Permanente - Zion Medical Center (FKA S...</td>\n",
       "      <td>Klaudt</td>\n",
       "      <td>None</td>\n",
       "      <td>False</td>\n",
       "      <td>True</td>\n",
       "      <td>False</td>\n",
       "      <td>True</td>\n",
       "    </tr>\n",
       "    <tr>\n",
       "      <td>3866</td>\n",
       "      <td>2144908</td>\n",
       "      <td>02105861179</td>\n",
       "      <td>20019128</td>\n",
       "      <td>2016-10-19 09:04:34.739703</td>\n",
       "      <td>Billing</td>\n",
       "      <td>1255 W Arrow Hwy</td>\n",
       "      <td>San Dimas Medical Offices</td>\n",
       "      <td></td>\n",
       "      <td>San Dimas</td>\n",
       "      <td>CA</td>\n",
       "      <td>...</td>\n",
       "      <td>John Paschal</td>\n",
       "      <td>None</td>\n",
       "      <td>Ophthalmology</td>\n",
       "      <td>Kaiser Permanente - Baldwin Park Medical Cente...</td>\n",
       "      <td>Paschal</td>\n",
       "      <td>None</td>\n",
       "      <td>False</td>\n",
       "      <td>True</td>\n",
       "      <td>False</td>\n",
       "      <td>True</td>\n",
       "    </tr>\n",
       "    <tr>\n",
       "      <td>3877</td>\n",
       "      <td>1808168</td>\n",
       "      <td>00506870321</td>\n",
       "      <td>9816683</td>\n",
       "      <td>2016-10-17 19:51:22.614330</td>\n",
       "      <td>Billing</td>\n",
       "      <td>400 Craven Rd</td>\n",
       "      <td></td>\n",
       "      <td></td>\n",
       "      <td>San Marcos</td>\n",
       "      <td>CA</td>\n",
       "      <td>...</td>\n",
       "      <td>Luis Esquenazi</td>\n",
       "      <td>None</td>\n",
       "      <td>Family Practice</td>\n",
       "      <td>Kaiser Permanente - Zion Medical Center (FKA S...</td>\n",
       "      <td>Esquenazi</td>\n",
       "      <td>None</td>\n",
       "      <td>False</td>\n",
       "      <td>True</td>\n",
       "      <td>False</td>\n",
       "      <td>True</td>\n",
       "    </tr>\n",
       "  </tbody>\n",
       "</table>\n",
       "<p>1211 rows × 63 columns</p>\n",
       "</div>"
      ],
      "text/plain": [
       "      PARTY_ID           ME  POST_CD_ID                    FROM_DT ADDR_TYPE  \\\n",
       "0      3591098  05104090984    14996656 2020-03-18 00:04:36.000000   Billing   \n",
       "10     2450580  04901960572    20329300 2020-03-14 04:13:13.000000   Billing   \n",
       "13     2590306  04804910625    21506696 2020-03-14 04:13:13.000000   Billing   \n",
       "14     1845538  00102880161    22127673 2020-03-14 04:13:13.000000   Billing   \n",
       "17     4627590  74811050087    25898736 2020-03-14 04:13:13.000000   Billing   \n",
       "...        ...          ...         ...                        ...       ...   \n",
       "3861   2250527  02834990078    21860862 2016-10-19 16:36:59.636308   Billing   \n",
       "3863   2862034  00518021265    21727893 2016-10-19 16:33:25.242108   Billing   \n",
       "3864   1806540  00502981064    21500944 2016-10-19 14:33:42.873766   Billing   \n",
       "3866   2144908  02105861179    20019128 2016-10-19 09:04:34.739703   Billing   \n",
       "3877   1808168  00506870321     9816683 2016-10-17 19:51:22.614330   Billing   \n",
       "\n",
       "                    ADDR_1                            ADDR_2 ADDR_3  \\\n",
       "0        4301 W Markham St                          Slot 503          \n",
       "10     51600 Huntington Rd   La Pine Community Health Center          \n",
       "13       3803 S Bascom Ave                           Ste 204          \n",
       "14       115 E Brooklyn St                       P O Box 916          \n",
       "17    900 W Clairemont Ave        Hshs Sacred Heart Hospital          \n",
       "...                    ...                               ...    ...   \n",
       "3861         301 S 7th Ave                           Ste 135          \n",
       "3863         400 Craven Rd  Kaiser San Marcos Medical Office          \n",
       "3864        732 N Broadway                        Pediatrics          \n",
       "3866      1255 W Arrow Hwy         San Dimas Medical Offices          \n",
       "3877         400 Craven Rd                                            \n",
       "\n",
       "                              CITY STATE_CD  ... Physician Name_mar  \\\n",
       "0     Little Rock                        AR  ...           Tina Ipe   \n",
       "10    La Pine                            OR  ...       Martin Smart   \n",
       "13    Campbell                           CA  ...       Bradley Hill   \n",
       "14    Linden                             TN  ...       William Bush   \n",
       "17    Eau Claire                         WI  ...   Katrina Victoria   \n",
       "...                            ...      ...  ...                ...   \n",
       "3861  West Reading                       PA  ...      Daniel O'shea   \n",
       "3863  San Marcos                         CA  ...        Herbert Yue   \n",
       "3864  Escondido                          CA  ...       Monte Klaudt   \n",
       "3866  San Dimas                          CA  ...       John Paschal   \n",
       "3877  San Marcos                         CA  ...     Luis Esquenazi   \n",
       "\n",
       "      Middle Name_mar             Primary Specialty_mar  \\\n",
       "0                   S                         Pathology   \n",
       "10                  L                   Family Practice   \n",
       "13                 B.        Surgery - Vascular Surgery   \n",
       "14              Brent                 Internal Medicine   \n",
       "17                  V                 Internal Medicine   \n",
       "...               ...                               ...   \n",
       "3861                J  Radiology - Diagnostic Radiology   \n",
       "3863             None                 Internal Medicine   \n",
       "3864                R                Pediatric Medicine   \n",
       "3866             None                     Ophthalmology   \n",
       "3877             None                   Family Practice   \n",
       "\n",
       "                       Primary Hospital Affiliation_mar Last Name_mar  \\\n",
       "0     Houston Methodist Hospital (FKA the Methodist ...           Ipe   \n",
       "10           St Charles Health System - Bend (Bend, OR)         Smart   \n",
       "13               Good Samaritan Hospital (San Jose, CA)          Hill   \n",
       "14                  Lawton Indian Hospital (Lawton, OK)          Bush   \n",
       "17                     St Barnabas Hospital (Bronx, NY)      Victoria   \n",
       "...                                                 ...           ...   \n",
       "3861                Reading Hospital (West Reading, PA)        O'shea   \n",
       "3863  Palomar Medical Center Downtown Escondido (FKA...           Yue   \n",
       "3864  Kaiser Permanente - Zion Medical Center (FKA S...        Klaudt   \n",
       "3866  Kaiser Permanente - Baldwin Park Medical Cente...       Paschal   \n",
       "3877  Kaiser Permanente - Zion Medical Center (FKA S...     Esquenazi   \n",
       "\n",
       "     Address1_mar    New Phone_Update Address_Update  DHC_MATCH  \n",
       "0            None   True         True           True       True  \n",
       "10           None   True         True           True       True  \n",
       "13           None  False         True           True       True  \n",
       "14           None   True         True           True       True  \n",
       "17           None   True         True           True       True  \n",
       "...           ...    ...          ...            ...        ...  \n",
       "3861    Suite 135  False         True          False       True  \n",
       "3863         None  False         True          False       True  \n",
       "3864         None  False         True          False       True  \n",
       "3866         None  False         True          False       True  \n",
       "3877         None  False         True          False       True  \n",
       "\n",
       "[1211 rows x 63 columns]"
      ]
     },
     "execution_count": 172,
     "metadata": {},
     "output_type": "execute_result"
    }
   ],
   "source": [
    "test[test.Phone_Number_mar != 'None']"
   ]
  },
  {
   "cell_type": "code",
   "execution_count": 173,
   "metadata": {},
   "outputs": [
    {
     "data": {
      "text/plain": [
       "1237"
      ]
     },
     "execution_count": 173,
     "metadata": {},
     "output_type": "execute_result"
    }
   ],
   "source": [
    "len(test)"
   ]
  },
  {
   "cell_type": "code",
   "execution_count": null,
   "metadata": {},
   "outputs": [],
   "source": []
  }
 ],
 "metadata": {
  "kernelspec": {
   "display_name": "Python 3",
   "language": "python",
   "name": "python3"
  },
  "language_info": {
   "codemirror_mode": {
    "name": "ipython",
    "version": 3
   },
   "file_extension": ".py",
   "mimetype": "text/x-python",
   "name": "python",
   "nbconvert_exporter": "python",
   "pygments_lexer": "ipython3",
   "version": "3.7.4"
  }
 },
 "nbformat": 4,
 "nbformat_minor": 2
}
