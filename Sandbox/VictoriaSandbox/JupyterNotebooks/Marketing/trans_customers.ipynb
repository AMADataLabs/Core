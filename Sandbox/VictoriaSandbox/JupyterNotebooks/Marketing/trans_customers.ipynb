{
 "cells": [
  {
   "cell_type": "code",
   "execution_count": 1,
   "metadata": {},
   "outputs": [],
   "source": [
    "import pandas as pd"
   ]
  },
  {
   "cell_type": "code",
   "execution_count": 30,
   "metadata": {},
   "outputs": [],
   "source": [
    "customer_df = pd.read_csv('Data/TransCustomers.csv')\n",
    "campaign_df = pd.read_csv('campaign.csv')"
   ]
  },
  {
   "cell_type": "code",
   "execution_count": 41,
   "metadata": {},
   "outputs": [],
   "source": [
    "customer_df['Company_Name']=customer_df['Company Name'].str.upper()\n",
    "customer_df['Email']=customer_df['EMAIL'].str.lower()\n",
    "campaign_df['Company_Name']=campaign_df['Associated Company'].str.upper()\n",
    "customer_df = customer_df.rename(columns={'Order Date':'Date'})\n",
    "campaign_df = campaign_df.rename(columns={'Create Date':'Date'})\n",
    "customer_df = customer_df.rename(columns={'Total Rev':'Total_Rev'})\n",
    "customer_df = customer_df.rename(columns={'Total Profiles':'Total_Profiles'})"
   ]
  },
  {
   "cell_type": "code",
   "execution_count": 10,
   "metadata": {},
   "outputs": [],
   "source": [
    "email_list = ['karen.blizzard@superiorhealthplan.com',\n",
    " 'mthompson@springhospital.com',\n",
    " 'lgreen@swmedcenter.com',\n",
    " 'missyreis123@gmail.com',\n",
    " 'admin@gastromds.net',\n",
    " 'mdanielson@scdeervalley.com',\n",
    " 'rellab@ahmgt.com',\n",
    " 'sstonge@novagi.com',\n",
    " 'lisa.lemaire@surgicarelakecharles.com',\n",
    " 'sherrie.kappa@ncdps.gov',\n",
    " 'dwallace@uhsurology.com',\n",
    " 'jennifer.behnke@wisurology.com',\n",
    " 'cshoup@familyemergencyroom.com']"
   ]
  },
  {
   "cell_type": "code",
   "execution_count": 11,
   "metadata": {},
   "outputs": [],
   "source": [
    "company_list = ['SUPERIOR HEALTHPLAN',\n",
    " 'SOUTHWEST MEDICAL CENTER',\n",
    " 'GASTROENTEROLOGY ASSOCIATES OF NORTHERN VIRGINIA',\n",
    " 'CENTERS FOR ADVANCED UROLOGY, LLC',\n",
    " 'NORTH CAROLINA DEPARTMENT OF PUBLIC SAFETY HEATH SERVICES',\n",
    " 'SPRING EXCELLENCE SURGICAL HOSPITAL',\n",
    " 'SURGICARE OF LAKE CHARLES',\n",
    " 'SURGCENTER OF DEER VALLEY',\n",
    " 'NORTH CAROLINA DEPARTMENT OF PUBLIC SAFETY HEALTH SERVICES']"
   ]
  },
  {
   "cell_type": "code",
   "execution_count": 43,
   "metadata": {},
   "outputs": [],
   "source": [
    "email_dict ={}\n",
    "for email in email_list:\n",
    "    email_dict[email]={}\n",
    "    email_dict[email]['Date']=list(campaign_df[campaign_df['Email']==email]['Date'])[0]\n",
    "    email_dict[email]['Revenue Before Form']=0\n",
    "    email_dict[email]['Orders Before Form']=0\n",
    "    email_dict[email]['Revenue After Form']=0\n",
    "    email_dict[email]['Orders After Form']=0"
   ]
  },
  {
   "cell_type": "code",
   "execution_count": 56,
   "metadata": {},
   "outputs": [],
   "source": [
    "customer_df_emails = customer_df[customer_df['Email'].isin(email_list)]\n",
    "customer_df_companies = customer_df[customer_df['Company_Name'].isin(company_list)]"
   ]
  },
  {
   "cell_type": "code",
   "execution_count": 48,
   "metadata": {},
   "outputs": [],
   "source": [
    "for row in customer_df_emails.itertuples():\n",
    "    if row.Date < email_dict[row.Email]['Date']:\n",
    "        email_dict[row.Email]['Revenue Before Form']+=row.Total_Rev\n",
    "        email_dict[row.Email]['Orders Before Form']+=1\n",
    "    if row.Date >= email_dict[row.Email]['Date']:\n",
    "        email_dict[row.Email]['Revenue After Form']+=row.Total_Rev\n",
    "        email_dict[row.Email]['Orders After Form']+=1"
   ]
  },
  {
   "cell_type": "code",
   "execution_count": 59,
   "metadata": {},
   "outputs": [],
   "source": [
    "by_email = pd.DataFrame(email_dict).transpose()"
   ]
  },
  {
   "cell_type": "code",
   "execution_count": 55,
   "metadata": {},
   "outputs": [],
   "source": [
    "company_dict = {'SUPERIOR HEALTHPLAN': {'Date': '11/8/2019 15:00',\n",
    "  'Revenue Before Form': 0,\n",
    "  'Orders Before Form': 0,\n",
    "  'Revenue After Form': 0,\n",
    "  'Orders After Form': 0},\n",
    " 'SPRING EXCELLENCE SURGICAL HOSPITAL': {'Date': '10/22/2019 16:20',\n",
    "  'Revenue Before Form': 0,\n",
    "  'Orders Before Form': 0,\n",
    "  'Revenue After Form': 0,\n",
    "  'Orders After Form': 0},\n",
    " 'SOUTHWEST MEDICAL CENTER': {'Date': '6/17/2016 9:37',\n",
    "  'Revenue Before Form': 0,\n",
    "  'Orders Before Form': 0,\n",
    "  'Revenue After Form': 0,\n",
    "  'Orders After Form': 0},\n",
    " 'SURGCENTER OF DEER VALLEY': {'Date': '9/30/2019 10:25',\n",
    "  'Revenue Before Form': 0,\n",
    "  'Orders Before Form': 0,\n",
    "  'Revenue After Form': 0,\n",
    "  'Orders After Form': 0},\n",
    " 'GASTROENTEROLOGY ASSOCIATES OF NORTHERN VIRGINIA': {'Date': '10/1/2019 12:32',\n",
    "  'Revenue Before Form': 0,\n",
    "  'Orders Before Form': 0,\n",
    "  'Revenue After Form': 0,\n",
    "  'Orders After Form': 0},\n",
    " 'SURGICARE OF LAKE CHARLES': {'Date': '9/27/2019 12:43',\n",
    "  'Revenue Before Form': 0,\n",
    "  'Orders Before Form': 0,\n",
    "  'Revenue After Form': 0,\n",
    "  'Orders After Form': 0},\n",
    " 'NORTH CAROLINA DEPARTMENT OF PUBLIC SAFETY HEALTH SERVICES': {'Date': '10/30/2019 21:50',\n",
    "  'Revenue Before Form': 0,\n",
    "  'Orders Before Form': 0,\n",
    "  'Revenue After Form': 0,\n",
    "  'Orders After Form': 0},\n",
    " 'CENTERS FOR ADVANCED UROLOGY, LLC': {'Date': '7/11/2019 11:47',\n",
    "  'Revenue Before Form': 0,\n",
    "  'Orders Before Form': 0,\n",
    "  'Revenue After Form': 0,\n",
    "  'Orders After Form': 0}}"
   ]
  },
  {
   "cell_type": "code",
   "execution_count": 58,
   "metadata": {},
   "outputs": [],
   "source": [
    "for row in customer_df_companies.itertuples():\n",
    "    if row.Date < company_dict[row.Company_Name]['Date']:\n",
    "        company_dict[row.Company_Name]['Revenue Before Form']+=row.Total_Rev\n",
    "        company_dict[row.Company_Name]['Orders Before Form']+=1\n",
    "    if row.Date >= company_dict[row.Company_Name]['Date']:\n",
    "        company_dict[row.Company_Name]['Revenue After Form']+=row.Total_Rev\n",
    "        company_dict[row.Company_Name]['Orders After Form']+=1\n",
    "by_company = pd.DataFrame(company_dict).transpose()"
   ]
  },
  {
   "cell_type": "code",
   "execution_count": 61,
   "metadata": {},
   "outputs": [],
   "source": [
    "with pd.ExcelWriter('GoogleFormAccountsMarketingActivity_2.xlsx') as writer:  # doctest: +SKIP\n",
    "    by_company.to_excel(writer, sheet_name='By Company - Date')\n",
    "    by_email.to_excel(writer, sheet_name='By Email - Date')"
   ]
  },
  {
   "cell_type": "code",
   "execution_count": null,
   "metadata": {},
   "outputs": [],
   "source": []
  }
 ],
 "metadata": {
  "kernelspec": {
   "display_name": "Python 3",
   "language": "python",
   "name": "python3"
  },
  "language_info": {
   "codemirror_mode": {
    "name": "ipython",
    "version": 3
   },
   "file_extension": ".py",
   "mimetype": "text/x-python",
   "name": "python",
   "nbconvert_exporter": "python",
   "pygments_lexer": "ipython3",
   "version": "3.7.4"
  }
 },
 "nbformat": 4,
 "nbformat_minor": 2
}
