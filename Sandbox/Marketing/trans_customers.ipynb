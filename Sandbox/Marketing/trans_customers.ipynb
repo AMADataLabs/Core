{
 "cells": [
  {
   "cell_type": "code",
   "execution_count": 1,
   "metadata": {},
   "outputs": [],
   "source": [
    "import pandas as pd"
   ]
  },
  {
   "cell_type": "code",
   "execution_count": 30,
   "metadata": {},
   "outputs": [],
   "source": [
    "customer_df = pd.read_csv('Data/TransCustomers.csv')\n",
    "campaign_df = pd.read_csv('campaign.csv')"
   ]
  },
  {
   "cell_type": "code",
   "execution_count": 41,
   "metadata": {},
   "outputs": [],
   "source": [
    "customer_df['Company_Name']=customer_df['Company Name'].str.upper()\n",
    "customer_df['Email']=customer_df['EMAIL'].str.lower()\n",
    "campaign_df['Company_Name']=campaign_df['Associated Company'].str.upper()\n",
    "customer_df = customer_df.rename(columns={'Order Date':'Date'})\n",
    "campaign_df = campaign_df.rename(columns={'Create Date':'Date'})\n",
    "customer_df = customer_df.rename(columns={'Total Rev':'Total_Rev'})\n",
    "customer_df = customer_df.rename(columns={'Total Profiles':'Total_Profiles'})"
   ]
  },
  {
   "cell_type": "code",
   "execution_count": 10,
   "metadata": {},
   "outputs": [],
   "source": [
    "email_list = ['karen.blizzard@superiorhealthplan.com',\n",
    " 'mthompson@springhospital.com',\n",
    " 'lgreen@swmedcenter.com',\n",
    " 'missyreis123@gmail.com',\n",
    " 'admin@gastromds.net',\n",
    " 'mdanielson@scdeervalley.com',\n",
    " 'rellab@ahmgt.com',\n",
    " 'sstonge@novagi.com',\n",
    " 'lisa.lemaire@surgicarelakecharles.com',\n",
    " 'sherrie.kappa@ncdps.gov',\n",
    " 'dwallace@uhsurology.com',\n",
    " 'jennifer.behnke@wisurology.com',\n",
    " 'cshoup@familyemergencyroom.com']"
   ]
  },
  {
   "cell_type": "code",
   "execution_count": 11,
   "metadata": {},
   "outputs": [],
   "source": [
    "company_list = ['SUPERIOR HEALTHPLAN',\n",
    " 'SOUTHWEST MEDICAL CENTER',\n",
    " 'GASTROENTEROLOGY ASSOCIATES OF NORTHERN VIRGINIA',\n",
    " 'CENTERS FOR ADVANCED UROLOGY, LLC',\n",
    " 'NORTH CAROLINA DEPARTMENT OF PUBLIC SAFETY HEATH SERVICES',\n",
    " 'SPRING EXCELLENCE SURGICAL HOSPITAL',\n",
    " 'SURGICARE OF LAKE CHARLES',\n",
    " 'SURGCENTER OF DEER VALLEY',\n",
    " 'NORTH CAROLINA DEPARTMENT OF PUBLIC SAFETY HEALTH SERVICES']"
   ]
  },
  {
   "cell_type": "code",
   "execution_count": 43,
   "metadata": {},
   "outputs": [],
   "source": [
    "email_dict ={}\n",
    "for email in email_list:\n",
    "    email_dict[email]={}\n",
    "    email_dict[email]['Date']=list(campaign_df[campaign_df['Email']==email]['Date'])[0]\n",
    "    email_dict[email]['Revenue Before Form']=0\n",
    "    email_dict[email]['Orders Before Form']=0\n",
    "    email_dict[email]['Revenue After Form']=0\n",
    "    email_dict[email]['Orders After Form']=0"
   ]
  },
  {
   "cell_type": "code",
   "execution_count": 56,
   "metadata": {},
   "outputs": [],
   "source": [
    "customer_df_emails = customer_df[customer_df['Email'].isin(email_list)]\n",
    "customer_df_companies = customer_df[customer_df['Company_Name'].isin(company_list)]"
   ]
  },
  {
   "cell_type": "code",
   "execution_count": 48,
   "metadata": {},
   "outputs": [],
   "source": [
    "for row in customer_df_emails.itertuples():\n",
    "    if row.Date < email_dict[row.Email]['Date']:\n",
    "        email_dict[row.Email]['Revenue Before Form']+=row.Total_Rev\n",
    "        email_dict[row.Email]['Orders Before Form']+=1\n",
    "    if row.Date >= email_dict[row.Email]['Date']:\n",
    "        email_dict[row.Email]['Revenue After Form']+=row.Total_Rev\n",
    "        email_dict[row.Email]['Orders After Form']+=1"
   ]
  },
  {
   "cell_type": "code",
   "execution_count": 59,
   "metadata": {},
   "outputs": [],
   "source": [
    "by_email = pd.DataFrame(email_dict).transpose()"
   ]
  },
  {
   "cell_type": "code",
   "execution_count": 55,
   "metadata": {},
   "outputs": [],
   "source": [
    "company_dict = {'SUPERIOR HEALTHPLAN': {'Date': '11/8/2019 15:00',\n",
    "  'Revenue Before Form': 0,\n",
    "  'Orders Before Form': 0,\n",
    "  'Revenue After Form': 0,\n",
    "  'Orders After Form': 0},\n",
    " 'SPRING EXCELLENCE SURGICAL HOSPITAL': {'Date': '10/22/2019 16:20',\n",
    "  'Revenue Before Form': 0,\n",
    "  'Orders Before Form': 0,\n",
    "  'Revenue After Form': 0,\n",
    "  'Orders After Form': 0},\n",
    " 'SOUTHWEST MEDICAL CENTER': {'Date': '6/17/2016 9:37',\n",
    "  'Revenue Before Form': 0,\n",
    "  'Orders Before Form': 0,\n",
    "  'Revenue After Form': 0,\n",
    "  'Orders After Form': 0},\n",
    " 'SURGCENTER OF DEER VALLEY': {'Date': '9/30/2019 10:25',\n",
    "  'Revenue Before Form': 0,\n",
    "  'Orders Before Form': 0,\n",
    "  'Revenue After Form': 0,\n",
    "  'Orders After Form': 0},\n",
    " 'GASTROENTEROLOGY ASSOCIATES OF NORTHERN VIRGINIA': {'Date': '10/1/2019 12:32',\n",
    "  'Revenue Before Form': 0,\n",
    "  'Orders Before Form': 0,\n",
    "  'Revenue After Form': 0,\n",
    "  'Orders After Form': 0},\n",
    " 'SURGICARE OF LAKE CHARLES': {'Date': '9/27/2019 12:43',\n",
    "  'Revenue Before Form': 0,\n",
    "  'Orders Before Form': 0,\n",
    "  'Revenue After Form': 0,\n",
    "  'Orders After Form': 0},\n",
    " 'NORTH CAROLINA DEPARTMENT OF PUBLIC SAFETY HEALTH SERVICES': {'Date': '10/30/2019 21:50',\n",
    "  'Revenue Before Form': 0,\n",
    "  'Orders Before Form': 0,\n",
    "  'Revenue After Form': 0,\n",
    "  'Orders After Form': 0},\n",
    " 'CENTERS FOR ADVANCED UROLOGY, LLC': {'Date': '7/11/2019 11:47',\n",
    "  'Revenue Before Form': 0,\n",
    "  'Orders Before Form': 0,\n",
    "  'Revenue After Form': 0,\n",
    "  'Orders After Form': 0}}"
   ]
  },
  {
   "cell_type": "code",
   "execution_count": 58,
   "metadata": {},
   "outputs": [],
   "source": [
    "for row in customer_df_companies.itertuples():\n",
    "    if row.Date < company_dict[row.Company_Name]['Date']:\n",
    "        company_dict[row.Company_Name]['Revenue Before Form']+=row.Total_Rev\n",
    "        company_dict[row.Company_Name]['Orders Before Form']+=1\n",
    "    if row.Date >= company_dict[row.Company_Name]['Date']:\n",
    "        company_dict[row.Company_Name]['Revenue After Form']+=row.Total_Rev\n",
    "        company_dict[row.Company_Name]['Orders After Form']+=1\n",
    "by_company = pd.DataFrame(company_dict).transpose()"
   ]
  },
  {
   "cell_type": "code",
   "execution_count": 61,
   "metadata": {},
   "outputs": [],
   "source": [
    "with pd.ExcelWriter('GoogleFormAccountsMarketingActivity_2.xlsx') as writer:  # doctest: +SKIP\n",
    "    by_company.to_excel(writer, sheet_name='By Company - Date')\n",
    "    by_email.to_excel(writer, sheet_name='By Email - Date')"
   ]
  },
  {
   "cell_type": "code",
   "execution_count": 64,
   "metadata": {},
   "outputs": [
    {
     "ename": "FileNotFoundError",
     "evalue": "[Errno 2] File b'ick.csv' does not exist: b'ick.csv'",
     "output_type": "error",
     "traceback": [
      "\u001b[1;31m---------------------------------------------------------------------------\u001b[0m",
      "\u001b[1;31mFileNotFoundError\u001b[0m                         Traceback (most recent call last)",
      "\u001b[1;32m<ipython-input-64-c8235fcf29ec>\u001b[0m in \u001b[0;36m<module>\u001b[1;34m\u001b[0m\n\u001b[1;32m----> 1\u001b[1;33m \u001b[0mpd\u001b[0m\u001b[1;33m.\u001b[0m\u001b[0mread_csv\u001b[0m\u001b[1;33m(\u001b[0m\u001b[1;34m'ick.csv'\u001b[0m\u001b[1;33m)\u001b[0m\u001b[1;33m\u001b[0m\u001b[1;33m\u001b[0m\u001b[0m\n\u001b[0m",
      "\u001b[1;32m~\\AppData\\Local\\Continuum\\anaconda3\\lib\\site-packages\\pandas\\io\\parsers.py\u001b[0m in \u001b[0;36mparser_f\u001b[1;34m(filepath_or_buffer, sep, delimiter, header, names, index_col, usecols, squeeze, prefix, mangle_dupe_cols, dtype, engine, converters, true_values, false_values, skipinitialspace, skiprows, skipfooter, nrows, na_values, keep_default_na, na_filter, verbose, skip_blank_lines, parse_dates, infer_datetime_format, keep_date_col, date_parser, dayfirst, cache_dates, iterator, chunksize, compression, thousands, decimal, lineterminator, quotechar, quoting, doublequote, escapechar, comment, encoding, dialect, error_bad_lines, warn_bad_lines, delim_whitespace, low_memory, memory_map, float_precision)\u001b[0m\n\u001b[0;32m    683\u001b[0m         )\n\u001b[0;32m    684\u001b[0m \u001b[1;33m\u001b[0m\u001b[0m\n\u001b[1;32m--> 685\u001b[1;33m         \u001b[1;32mreturn\u001b[0m \u001b[0m_read\u001b[0m\u001b[1;33m(\u001b[0m\u001b[0mfilepath_or_buffer\u001b[0m\u001b[1;33m,\u001b[0m \u001b[0mkwds\u001b[0m\u001b[1;33m)\u001b[0m\u001b[1;33m\u001b[0m\u001b[1;33m\u001b[0m\u001b[0m\n\u001b[0m\u001b[0;32m    686\u001b[0m \u001b[1;33m\u001b[0m\u001b[0m\n\u001b[0;32m    687\u001b[0m     \u001b[0mparser_f\u001b[0m\u001b[1;33m.\u001b[0m\u001b[0m__name__\u001b[0m \u001b[1;33m=\u001b[0m \u001b[0mname\u001b[0m\u001b[1;33m\u001b[0m\u001b[1;33m\u001b[0m\u001b[0m\n",
      "\u001b[1;32m~\\AppData\\Local\\Continuum\\anaconda3\\lib\\site-packages\\pandas\\io\\parsers.py\u001b[0m in \u001b[0;36m_read\u001b[1;34m(filepath_or_buffer, kwds)\u001b[0m\n\u001b[0;32m    455\u001b[0m \u001b[1;33m\u001b[0m\u001b[0m\n\u001b[0;32m    456\u001b[0m     \u001b[1;31m# Create the parser.\u001b[0m\u001b[1;33m\u001b[0m\u001b[1;33m\u001b[0m\u001b[1;33m\u001b[0m\u001b[0m\n\u001b[1;32m--> 457\u001b[1;33m     \u001b[0mparser\u001b[0m \u001b[1;33m=\u001b[0m \u001b[0mTextFileReader\u001b[0m\u001b[1;33m(\u001b[0m\u001b[0mfp_or_buf\u001b[0m\u001b[1;33m,\u001b[0m \u001b[1;33m**\u001b[0m\u001b[0mkwds\u001b[0m\u001b[1;33m)\u001b[0m\u001b[1;33m\u001b[0m\u001b[1;33m\u001b[0m\u001b[0m\n\u001b[0m\u001b[0;32m    458\u001b[0m \u001b[1;33m\u001b[0m\u001b[0m\n\u001b[0;32m    459\u001b[0m     \u001b[1;32mif\u001b[0m \u001b[0mchunksize\u001b[0m \u001b[1;32mor\u001b[0m \u001b[0miterator\u001b[0m\u001b[1;33m:\u001b[0m\u001b[1;33m\u001b[0m\u001b[1;33m\u001b[0m\u001b[0m\n",
      "\u001b[1;32m~\\AppData\\Local\\Continuum\\anaconda3\\lib\\site-packages\\pandas\\io\\parsers.py\u001b[0m in \u001b[0;36m__init__\u001b[1;34m(self, f, engine, **kwds)\u001b[0m\n\u001b[0;32m    893\u001b[0m             \u001b[0mself\u001b[0m\u001b[1;33m.\u001b[0m\u001b[0moptions\u001b[0m\u001b[1;33m[\u001b[0m\u001b[1;34m\"has_index_names\"\u001b[0m\u001b[1;33m]\u001b[0m \u001b[1;33m=\u001b[0m \u001b[0mkwds\u001b[0m\u001b[1;33m[\u001b[0m\u001b[1;34m\"has_index_names\"\u001b[0m\u001b[1;33m]\u001b[0m\u001b[1;33m\u001b[0m\u001b[1;33m\u001b[0m\u001b[0m\n\u001b[0;32m    894\u001b[0m \u001b[1;33m\u001b[0m\u001b[0m\n\u001b[1;32m--> 895\u001b[1;33m         \u001b[0mself\u001b[0m\u001b[1;33m.\u001b[0m\u001b[0m_make_engine\u001b[0m\u001b[1;33m(\u001b[0m\u001b[0mself\u001b[0m\u001b[1;33m.\u001b[0m\u001b[0mengine\u001b[0m\u001b[1;33m)\u001b[0m\u001b[1;33m\u001b[0m\u001b[1;33m\u001b[0m\u001b[0m\n\u001b[0m\u001b[0;32m    896\u001b[0m \u001b[1;33m\u001b[0m\u001b[0m\n\u001b[0;32m    897\u001b[0m     \u001b[1;32mdef\u001b[0m \u001b[0mclose\u001b[0m\u001b[1;33m(\u001b[0m\u001b[0mself\u001b[0m\u001b[1;33m)\u001b[0m\u001b[1;33m:\u001b[0m\u001b[1;33m\u001b[0m\u001b[1;33m\u001b[0m\u001b[0m\n",
      "\u001b[1;32m~\\AppData\\Local\\Continuum\\anaconda3\\lib\\site-packages\\pandas\\io\\parsers.py\u001b[0m in \u001b[0;36m_make_engine\u001b[1;34m(self, engine)\u001b[0m\n\u001b[0;32m   1133\u001b[0m     \u001b[1;32mdef\u001b[0m \u001b[0m_make_engine\u001b[0m\u001b[1;33m(\u001b[0m\u001b[0mself\u001b[0m\u001b[1;33m,\u001b[0m \u001b[0mengine\u001b[0m\u001b[1;33m=\u001b[0m\u001b[1;34m\"c\"\u001b[0m\u001b[1;33m)\u001b[0m\u001b[1;33m:\u001b[0m\u001b[1;33m\u001b[0m\u001b[1;33m\u001b[0m\u001b[0m\n\u001b[0;32m   1134\u001b[0m         \u001b[1;32mif\u001b[0m \u001b[0mengine\u001b[0m \u001b[1;33m==\u001b[0m \u001b[1;34m\"c\"\u001b[0m\u001b[1;33m:\u001b[0m\u001b[1;33m\u001b[0m\u001b[1;33m\u001b[0m\u001b[0m\n\u001b[1;32m-> 1135\u001b[1;33m             \u001b[0mself\u001b[0m\u001b[1;33m.\u001b[0m\u001b[0m_engine\u001b[0m \u001b[1;33m=\u001b[0m \u001b[0mCParserWrapper\u001b[0m\u001b[1;33m(\u001b[0m\u001b[0mself\u001b[0m\u001b[1;33m.\u001b[0m\u001b[0mf\u001b[0m\u001b[1;33m,\u001b[0m \u001b[1;33m**\u001b[0m\u001b[0mself\u001b[0m\u001b[1;33m.\u001b[0m\u001b[0moptions\u001b[0m\u001b[1;33m)\u001b[0m\u001b[1;33m\u001b[0m\u001b[1;33m\u001b[0m\u001b[0m\n\u001b[0m\u001b[0;32m   1136\u001b[0m         \u001b[1;32melse\u001b[0m\u001b[1;33m:\u001b[0m\u001b[1;33m\u001b[0m\u001b[1;33m\u001b[0m\u001b[0m\n\u001b[0;32m   1137\u001b[0m             \u001b[1;32mif\u001b[0m \u001b[0mengine\u001b[0m \u001b[1;33m==\u001b[0m \u001b[1;34m\"python\"\u001b[0m\u001b[1;33m:\u001b[0m\u001b[1;33m\u001b[0m\u001b[1;33m\u001b[0m\u001b[0m\n",
      "\u001b[1;32m~\\AppData\\Local\\Continuum\\anaconda3\\lib\\site-packages\\pandas\\io\\parsers.py\u001b[0m in \u001b[0;36m__init__\u001b[1;34m(self, src, **kwds)\u001b[0m\n\u001b[0;32m   1915\u001b[0m         \u001b[0mkwds\u001b[0m\u001b[1;33m[\u001b[0m\u001b[1;34m\"usecols\"\u001b[0m\u001b[1;33m]\u001b[0m \u001b[1;33m=\u001b[0m \u001b[0mself\u001b[0m\u001b[1;33m.\u001b[0m\u001b[0musecols\u001b[0m\u001b[1;33m\u001b[0m\u001b[1;33m\u001b[0m\u001b[0m\n\u001b[0;32m   1916\u001b[0m \u001b[1;33m\u001b[0m\u001b[0m\n\u001b[1;32m-> 1917\u001b[1;33m         \u001b[0mself\u001b[0m\u001b[1;33m.\u001b[0m\u001b[0m_reader\u001b[0m \u001b[1;33m=\u001b[0m \u001b[0mparsers\u001b[0m\u001b[1;33m.\u001b[0m\u001b[0mTextReader\u001b[0m\u001b[1;33m(\u001b[0m\u001b[0msrc\u001b[0m\u001b[1;33m,\u001b[0m \u001b[1;33m**\u001b[0m\u001b[0mkwds\u001b[0m\u001b[1;33m)\u001b[0m\u001b[1;33m\u001b[0m\u001b[1;33m\u001b[0m\u001b[0m\n\u001b[0m\u001b[0;32m   1918\u001b[0m         \u001b[0mself\u001b[0m\u001b[1;33m.\u001b[0m\u001b[0munnamed_cols\u001b[0m \u001b[1;33m=\u001b[0m \u001b[0mself\u001b[0m\u001b[1;33m.\u001b[0m\u001b[0m_reader\u001b[0m\u001b[1;33m.\u001b[0m\u001b[0munnamed_cols\u001b[0m\u001b[1;33m\u001b[0m\u001b[1;33m\u001b[0m\u001b[0m\n\u001b[0;32m   1919\u001b[0m \u001b[1;33m\u001b[0m\u001b[0m\n",
      "\u001b[1;32mpandas\\_libs\\parsers.pyx\u001b[0m in \u001b[0;36mpandas._libs.parsers.TextReader.__cinit__\u001b[1;34m()\u001b[0m\n",
      "\u001b[1;32mpandas\\_libs\\parsers.pyx\u001b[0m in \u001b[0;36mpandas._libs.parsers.TextReader._setup_parser_source\u001b[1;34m()\u001b[0m\n",
      "\u001b[1;31mFileNotFoundError\u001b[0m: [Errno 2] File b'ick.csv' does not exist: b'ick.csv'"
     ]
    }
   ],
   "source": [
    "pd.read_csv('ick.csv')"
   ]
  },
  {
   "cell_type": "code",
   "execution_count": null,
   "metadata": {},
   "outputs": [],
   "source": []
  }
 ],
 "metadata": {
  "kernelspec": {
   "display_name": "Python 3",
   "language": "python",
   "name": "python3"
  },
  "language_info": {
   "codemirror_mode": {
    "name": "ipython",
    "version": 3
   },
   "file_extension": ".py",
   "mimetype": "text/x-python",
   "name": "python",
   "nbconvert_exporter": "python",
   "pygments_lexer": "ipython3",
   "version": "3.7.4"
  }
 },
 "nbformat": 4,
 "nbformat_minor": 2
}
