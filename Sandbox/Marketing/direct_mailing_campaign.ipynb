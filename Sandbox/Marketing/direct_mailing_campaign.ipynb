{
 "cells": [
  {
   "cell_type": "code",
   "execution_count": 1,
   "metadata": {},
   "outputs": [],
   "source": [
    "import pandas as pd"
   ]
  },
  {
   "cell_type": "code",
   "execution_count": 2,
   "metadata": {},
   "outputs": [],
   "source": [
    "all_data = pd.read_excel('DHC_Analysis.xlsx', sheet_name='Data')\n",
    "customers = pd.read_excel('DHC_Analysis.xlsx', sheet_name='Isolate Customer Population')\n",
    "companies = list(customers['Company_Name'].unique())"
   ]
  },
  {
   "cell_type": "code",
   "execution_count": 3,
   "metadata": {},
   "outputs": [
    {
     "data": {
      "text/plain": [
       "Isell Login              object\n",
       "Advantage Customer #      int64\n",
       "Company Name             object\n",
       "Customer Category        object\n",
       "Full Profiles             int64\n",
       "Full Rev                  int64\n",
       "Reapp Profiles            int64\n",
       " Reapp Rev                int64\n",
       "PA Profiles               int64\n",
       "PA Rev                    int64\n",
       "Total Profiles            int64\n",
       "Total Rev                 int64\n",
       "CM Rev                    int64\n",
       "YEAR                      int64\n",
       "Customer Number           int64\n",
       "MonthName                object\n",
       "x                       float64\n",
       "dtype: object"
      ]
     },
     "execution_count": 3,
     "metadata": {},
     "output_type": "execute_result"
    }
   ],
   "source": [
    "numbers = list(customers['Advantage_Number'].unique())"
   ]
  },
  {
   "cell_type": "code",
   "execution_count": 12,
   "metadata": {},
   "outputs": [
    {
     "data": {
      "text/plain": [
       "Isell_Login              object\n",
       "Advantage Customer #      int64\n",
       "Company_Name             object\n",
       "Customer_Category        object\n",
       "Full_Profiles             int64\n",
       "Full_Rev                  int64\n",
       "Reapp_Profiles            int64\n",
       "Reapp_Rev                 int64\n",
       "PA_Profiles               int64\n",
       "PA_Rev                    int64\n",
       "Total_Profiles            int64\n",
       "Total_Rev                 int64\n",
       "CM_Rev                    int64\n",
       "YEAR                      int64\n",
       "Customer_Number           int64\n",
       "MonthName                object\n",
       "x                       float64\n",
       "dtype: object"
      ]
     },
     "execution_count": 12,
     "metadata": {},
     "output_type": "execute_result"
    }
   ],
   "source": [
    "all_data.dtypes"
   ]
  },
  {
   "cell_type": "code",
   "execution_count": 13,
   "metadata": {},
   "outputs": [],
   "source": [
    "all_data = all_data.rename(columns = {'Isell Login':'Isell_Login',\n",
    "                           'Advantage Customer #': 'Advantage_Customer',\n",
    "                           'Company Name':'Company_Name',\n",
    "                           'Customer Category':'Customer_Category',\n",
    "                           'Full Profiles':'Full_Profiles',\n",
    "                           'Full Rev':'Full_Rev',\n",
    "                           'Reapp Profiles':'Reapp_Profiles',\n",
    "                           ' Reapp Rev':'Reapp_Rev',\n",
    "                           'PA Profiles':'PA_Profiles',\n",
    "                           'PA Rev':'PA_Rev',\n",
    "                           'Total Profiles':'Total_Profiles',\n",
    "                           'Total Rev':'Total_Rev',\n",
    "                           'CM Rev':'CM_Rev',\n",
    "                           'Customer Number':'Customer_Number'\n",
    "                          })"
   ]
  },
  {
   "cell_type": "markdown",
   "metadata": {},
   "source": [
    "### 1.  How many of the contacts began using reappointments and PA profiles?  "
   ]
  },
  {
   "cell_type": "code",
   "execution_count": 37,
   "metadata": {},
   "outputs": [],
   "source": [
    "reapp_pa_dict ={}\n",
    "for num in numbers:\n",
    "    reapp_pa_dict[num]={}\n",
    "    reapp_pa_dict[num]['Reappointments_Before_Campaign']=0\n",
    "    reapp_pa_dict[num]['PA_Profiles_Before_Campaign']=0\n",
    "    reapp_pa_dict[num]['Reappointments_After_Campaign']=0\n",
    "    reapp_pa_dict[num]['PA_Profiles_After_Campaign']=0\n",
    "    reapp_pa_dict[num]['Reappointments_2019']=0\n",
    "    reapp_pa_dict[num]['Reappointments_2018']=0\n",
    "    reapp_pa_dict[num]['PA_Profiles_2019']=0\n",
    "    reapp_pa_dict[num]['PA_Profiles_2018']=0"
   ]
  },
  {
   "cell_type": "code",
   "execution_count": 39,
   "metadata": {},
   "outputs": [],
   "source": [
    "for row in all_data.itertuples():\n",
    "    num = float(row.Advantage_Customer)\n",
    "    if num in reapp_pa_dict.keys():\n",
    "        if row.YEAR < 2019:\n",
    "            reapp_pa_dict[num]['Reappointments_Before_Campaign']+=row.Reapp_Profiles\n",
    "            reapp_pa_dict[num]['PA_Profiles_Before_Campaign']+=row.PA_Profiles\n",
    "        elif row.YEAR == 2019:\n",
    "            if row.MonthName in ['September','October','November','December']:\n",
    "                reapp_pa_dict[num]['Reappointments_After_Campaign']+=row.Reapp_Profiles\n",
    "                reapp_pa_dict[num]['PA_Profiles_After_Campaign']+=row.PA_Profiles\n",
    "            else:\n",
    "                reapp_pa_dict[num]['Reappointments_Before_Campaign']+=row.Reapp_Profiles\n",
    "                reapp_pa_dict[num]['PA_Profiles_Before_Campaign']+=row.PA_Profiles\n",
    "        if row.YEAR == 2019:\n",
    "            reapp_pa_dict[num]['Reappointments_2019']+=row.Reapp_Profiles\n",
    "            reapp_pa_dict[num]['PA_Profiles_2019']+=row.PA_Profiles\n",
    "        elif row.YEAR == 2018:\n",
    "            reapp_pa_dict[num]['Reappointments_2018']+=row.Reapp_Profiles\n",
    "            reapp_pa_dict[num]['PA_Profiles_2018']+=row.PA_Profiles"
   ]
  },
  {
   "cell_type": "code",
   "execution_count": 40,
   "metadata": {},
   "outputs": [],
   "source": [
    "reapp_pa_df = pd.DataFrame(reapp_pa_dict).transpose().sort_values('Reappointments_After_Campaign', ascending=False)"
   ]
  },
  {
   "cell_type": "code",
   "execution_count": 65,
   "metadata": {},
   "outputs": [
    {
     "name": "stdout",
     "output_type": "stream",
     "text": [
      "10 (0.801%) customers began using reappointments\n",
      "11 (0.881%) customers began using PA profiles\n",
      "172 (13.78%) customers purchased more reappointment profiles in 2019 than 2018\n",
      "146 (11.69%) customers purchased more PA profiles in 2019 than 2018\n"
     ]
    }
   ],
   "source": [
    "reapp_start = 0\n",
    "reapp_more = 0\n",
    "pa_start = 0\n",
    "pa_more = 0\n",
    "total_nums = len(reapp_pa_df)\n",
    "for row in reapp_pa_df.itertuples():\n",
    "    if row.Reappointments_2018 < row.Reappointments_2019:\n",
    "        reapp_more +=1\n",
    "    if row.PA_Profiles_2018 < row.PA_Profiles_2019:\n",
    "        pa_more += 1\n",
    "    if row.Reappointments_Before_Campaign == 0:\n",
    "        if row.Reappointments_After_Campaign > 0:\n",
    "            reapp_start += 1\n",
    "    if row.PA_Profiles_Before_Campaign == 0:\n",
    "        if row.PA_Profiles_After_Campaign > 0:\n",
    "            pa_start += 1\n",
    "print(f'{reapp_start} ({str(reapp_start/total_nums *100)[0:5]}%) customers began using reappointments\\n{pa_start} ({str(pa_start/total_nums *100)[0:5]}%) customers began using PA profiles\\n{reapp_more} ({str(reapp_more/total_nums *100)[0:5]}%) customers purchased more reappointment profiles in 2019 than 2018\\n{pa_more} ({str(pa_more/total_nums *100)[0:5]}%) customers purchased more PA profiles in 2019 than 2018')\n",
    "    "
   ]
  },
  {
   "cell_type": "markdown",
   "metadata": {},
   "source": [
    "### 2.  Did we see an increase in activity/usage from this population since we began sending marketing communications (started sending communications in Sept-Dec) ?"
   ]
  },
  {
   "cell_type": "code",
   "execution_count": null,
   "metadata": {},
   "outputs": [],
   "source": []
  },
  {
   "cell_type": "markdown",
   "metadata": {},
   "source": [
    "### 3.  Did we see an increase in initial profiles used/purchased? "
   ]
  },
  {
   "cell_type": "code",
   "execution_count": 82,
   "metadata": {},
   "outputs": [],
   "source": [
    "profiles_dict ={}\n",
    "for num in numbers:\n",
    "    profiles_dict[num]={}\n",
    "    profiles_dict[num]['Initial_Profiles_Before_Campaign']=0\n",
    "    profiles_dict[num]['Initial_Profiles_Jun_to_Aug_2019']=0\n",
    "    profiles_dict[num]['Initial_Profiles_Sep_to_Nov_2018']=0\n",
    "    profiles_dict[num]['Initial_Profiles_After_Campaign']=0\n",
    "    profiles_dict[num]['Initial_Profiles_2019']=0\n",
    "    profiles_dict[num]['Initial_Profiles_2018']=0"
   ]
  },
  {
   "cell_type": "code",
   "execution_count": 89,
   "metadata": {},
   "outputs": [],
   "source": [
    "for row in all_data.itertuples():\n",
    "    num = float(row.Advantage_Customer)\n",
    "    if num in profiles_dict.keys():\n",
    "        if row.YEAR < 2019:\n",
    "            profiles_dict[num]['Initial_Profiles_Before_Campaign']+=row.Full_Profiles\n",
    "        if row.YEAR == 2019:\n",
    "            profiles_dict[num]['Initial_Profiles_2019']+=row.Full_Profiles\n",
    "            if row.MonthName in ['September','October','November','December']:\n",
    "                profiles_dict[num]['Initial_Profiles_After_Campaign']+=row.Full_Profiles\n",
    "            else:\n",
    "                profiles_dict[num]['Initial_Profiles_Before_Campaign']+=row.Full_Profiles\n",
    "            if row.MonthName in ['June','July','August']:\n",
    "                profiles_dict[num]['Initial_Profiles_Jun_to_Aug_2019']+=row.Full_Profiles\n",
    "                \n",
    "        if row.YEAR == 2018:\n",
    "            profiles_dict[num]['Initial_Profiles_2018']+=row.Reapp_Profiles\n",
    "            if row.MonthName in ['September','October','November']:\n",
    "                profiles_dict[num]['Initial_Profiles_Sep_to_Nov_2018']+=row.Full_Profiles"
   ]
  },
  {
   "cell_type": "code",
   "execution_count": 84,
   "metadata": {},
   "outputs": [],
   "source": [
    "profiles_df = pd.DataFrame(profiles_dict).transpose()"
   ]
  },
  {
   "cell_type": "code",
   "execution_count": 88,
   "metadata": {},
   "outputs": [
    {
     "data": {
      "text/plain": [
       "Initial_Profiles_Before_Campaign    164701\n",
       "Initial_Profiles_Jun_to_Aug_2019     12808\n",
       "Initial_Profiles_Sep_to_Nov_2018      9603\n",
       "Initial_Profiles_After_Campaign      10560\n",
       "Initial_Profiles_2019                42713\n",
       "Initial_Profiles_2018                 8462\n",
       "dtype: int64"
      ]
     },
     "execution_count": 88,
     "metadata": {},
     "output_type": "execute_result"
    }
   ],
   "source": [
    "profiles_df.sum()"
   ]
  },
  {
   "cell_type": "code",
   "execution_count": null,
   "metadata": {},
   "outputs": [],
   "source": []
  },
  {
   "cell_type": "markdown",
   "metadata": {},
   "source": [
    "### 4.  From the population that had used less than 3 PA profiles before September 2019, did we see a rise in PA profiles from this population after September 1, 2019? "
   ]
  },
  {
   "cell_type": "code",
   "execution_count": 62,
   "metadata": {},
   "outputs": [
    {
     "name": "stdout",
     "output_type": "stream",
     "text": [
      "Of the population that used less than 3 PA profiles before September 2019, 14  customers or 1.581% had a rise in PA profiles after September 2019\n"
     ]
    }
   ],
   "source": [
    "reapp_increase = 0\n",
    "reapp_3 =0\n",
    "pa_3 = 0\n",
    "pa_increase = 0\n",
    "total_nums = len(reapp_pa_df)\n",
    "for row in reapp_pa_df.itertuples():\n",
    "    if row.Reappointments_Before_Campaign < 3:\n",
    "        reapp_3 += 1\n",
    "        if row.Reappointments_After_Campaign > row.Reappointments_Before_Campaign:\n",
    "            reapp_increase += 1\n",
    "    if row.PA_Profiles_Before_Campaign <3:\n",
    "        pa_3 += 1\n",
    "        if row.PA_Profiles_After_Campaign > row.PA_Profiles_Before_Campaign:\n",
    "            pa_increase += 1\n",
    "print(f'Of the population that used less than 3 PA profiles before September 2019, {pa_increase}  customers or {str(pa_increase/pa_3 *100)[0:5]}% had a rise in PA profiles after September 2019')"
   ]
  },
  {
   "cell_type": "markdown",
   "metadata": {},
   "source": [
    "### 5.  From the population that had used less than 3 Reappointment profiles before September 2019, did we see a rise in Reappointment profile usage after September 1, 2019?"
   ]
  },
  {
   "cell_type": "code",
   "execution_count": 61,
   "metadata": {},
   "outputs": [
    {
     "name": "stdout",
     "output_type": "stream",
     "text": [
      "Of the population that used less than 3 reappointment profiles before September 2019, 12 customers or 1.311% had a rise in reappointment profiles after September 2019\n"
     ]
    }
   ],
   "source": [
    "print(f'Of the population that used less than 3 reappointment profiles before September 2019, {reapp_increase} customers or {str(reapp_increase/reapp_3 *100)[0:5]}% had a rise in reappointment profiles after September 2019')"
   ]
  },
  {
   "cell_type": "code",
   "execution_count": null,
   "metadata": {},
   "outputs": [],
   "source": [
    "def create_dict(value_list, variable_names):\n",
    "    output_dict ={}\n",
    "    for value in value_list:\n",
    "        output_dict[value]={}\n",
    "        for variable in variaable_names:\n",
    "            output_dict[value][variable]=0\n",
    "    return(output_dict)\n",
    "    \n",
    "def create_df(output_dict, data, key_row, list_of_rows)\n",
    "    for row in data.itertuples():\n",
    "        num = key_row\n",
    "        if num in output_dict.keys():\n",
    "            if row.YEAR < 2019:\n",
    "                output_dict[num]['Initial_Profiles_Before_Campaign']+=row.Full_Profiles\n",
    "            if row.YEAR == 2019:\n",
    "                profiles_dict[num]['Initial_Profiles_2019']+=row.Full_Profiles\n",
    "                if row.MonthName in ['September','October','November','December']:\n",
    "                    profiles_dict[num]['Initial_Profiles_After_Campaign']+=row.Full_Profiles\n",
    "                else:\n",
    "                    profiles_dict[num]['Initial_Profiles_Before_Campaign']+=row.Full_Profiles\n",
    "                if row.MonthName in ['June','July','August']:\n",
    "                    profiles_dict[num]['Initial_Profiles_Jun_to_Aug_2019']+=row.Full_Profiles\n",
    "\n",
    "            if row.YEAR == 2018:\n",
    "                profiles_dict[num]['Initial_Profiles_2018']+=row.Reapp_Profiles\n",
    "                if row.MonthName in ['September','October','November']:\n",
    "                    profiles_dict[num]['Initial_Profiles_Sep_to_Nov_2018']+=row.Full_Profiles"
   ]
  }
 ],
 "metadata": {
  "kernelspec": {
   "display_name": "Python 3",
   "language": "python",
   "name": "python3"
  },
  "language_info": {
   "codemirror_mode": {
    "name": "ipython",
    "version": 3
   },
   "file_extension": ".py",
   "mimetype": "text/x-python",
   "name": "python",
   "nbconvert_exporter": "python",
   "pygments_lexer": "ipython3",
   "version": "3.7.4"
  }
 },
 "nbformat": 4,
 "nbformat_minor": 2
}
