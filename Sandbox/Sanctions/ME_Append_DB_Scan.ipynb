{
 "cells": [
  {
   "cell_type": "markdown",
   "metadata": {},
   "source": [
    "# Notebook for developing and simple testing of metadata update"
   ]
  },
  {
   "cell_type": "code",
   "execution_count": 1,
   "metadata": {},
   "outputs": [],
   "source": [
    "import pyodbc\n",
    "from ME_Append import get_me_nbr\n",
    "from MarkLogicConnection import MarkLogicConnection"
   ]
  },
  {
   "cell_type": "code",
   "execution_count": 2,
   "metadata": {},
   "outputs": [],
   "source": [
    "import os"
   ]
  },
  {
   "cell_type": "markdown",
   "metadata": {},
   "source": [
    "# Connections"
   ]
  },
  {
   "cell_type": "markdown",
   "metadata": {},
   "source": [
    "### AIMS"
   ]
  },
  {
   "cell_type": "code",
   "execution_count": 3,
   "metadata": {},
   "outputs": [
    {
     "data": {
      "text/plain": [
       "<pyodbc.Cursor at 0x17a026075b0>"
      ]
     },
     "execution_count": 3,
     "metadata": {},
     "output_type": "execute_result"
    }
   ],
   "source": [
    "auth_aims = os.environ.get('auth_aims')\n",
    "aims_user, aims_pass = (auth_aims.split())\n",
    "AIMS_conn = pyodbc.connect('DSN=aims_prod; UID={}; PWD={}'.format(aims_user, aims_pass))\n",
    "AIMS_conn.execute('SET ISOLATION TO DIRTY READ;')"
   ]
  },
  {
   "cell_type": "markdown",
   "metadata": {},
   "source": [
    "### MarkLogic"
   ]
  },
  {
   "cell_type": "code",
   "execution_count": 5,
   "metadata": {},
   "outputs": [],
   "source": [
    "auth_marklogic = os.environ.get('auth_marklogic_dev')\n",
    "ml_user, ml_pass = (auth_marklogic.split())"
   ]
  },
  {
   "cell_type": "code",
   "execution_count": 6,
   "metadata": {},
   "outputs": [],
   "source": [
    "#url = 'http://appd1454:8000/LATEST'\n",
    "\n",
    "MarkLogicCon = MarkLogicConnection(username=ml_user, password=ml_pass, server='dev')"
   ]
  },
  {
   "cell_type": "markdown",
   "metadata": {},
   "source": [
    "# Scan Metadata"
   ]
  },
  {
   "cell_type": "code",
   "execution_count": 7,
   "metadata": {
    "scrolled": true
   },
   "outputs": [
    {
     "name": "stdout",
     "output_type": "stream",
     "text": [
      "results len: 100\n",
      "results len: 100\n",
      "results len: 100\n",
      "results len: 100\n",
      "results len: 100\n",
      "results len: 100\n",
      "results len: 100\n",
      "results len: 100\n",
      "results len: 100\n",
      "results len: 100\n",
      "results len: 100\n",
      "results len: 100\n",
      "results len: 100\n",
      "results len: 100\n",
      "results len: 100\n",
      "results len: 100\n",
      "results len: 100\n",
      "results len: 100\n",
      "results len: 100\n",
      "results len: 100\n",
      "results len: 100\n",
      "results len: 100\n",
      "results len: 100\n",
      "results len: 100\n",
      "results len: 100\n",
      "results len: 100\n",
      "results len: 100\n",
      "results len: 100\n",
      "results len: 100\n",
      "results len: 100\n",
      "results len: 100\n",
      "results len: 100\n",
      "results len: 100\n",
      "results len: 100\n",
      "results len: 100\n",
      "results len: 100\n",
      "results len: 100\n",
      "results len: 100\n",
      "results len: 100\n",
      "results len: 100\n",
      "results len: 100\n",
      "results len: 100\n",
      "results len: 100\n",
      "results len: 100\n",
      "results len: 100\n",
      "results len: 100\n",
      "results len: 100\n",
      "results len: 100\n",
      "results len: 100\n",
      "results len: 100\n",
      "results len: 100\n",
      "results len: 100\n",
      "results len: 100\n",
      "results len: 100\n",
      "results len: 100\n",
      "results len: 100\n",
      "results len: 100\n",
      "results len: 100\n",
      "results len: 100\n",
      "results len: 100\n",
      "results len: 100\n",
      "results len: 100\n",
      "results len: 100\n",
      "results len: 100\n",
      "results len: 100\n",
      "results len: 100\n",
      "results len: 100\n",
      "results len: 100\n",
      "results len: 100\n",
      "results len: 100\n",
      "results len: 100\n",
      "results len: 100\n",
      "results len: 100\n",
      "results len: 100\n",
      "results len: 100\n",
      "results len: 100\n",
      "results len: 100\n",
      "results len: 100\n",
      "results len: 100\n",
      "results len: 100\n",
      "results len: 100\n",
      "results len: 100\n",
      "results len: 100\n",
      "results len: 100\n",
      "results len: 71\n",
      "results len: 0\n"
     ]
    }
   ],
   "source": [
    "metadata_uris = MarkLogicCon.get_file_uris()  # default params: database='PhysicianSanctions', collection='json_data'"
   ]
  },
  {
   "cell_type": "markdown",
   "metadata": {},
   "source": [
    "### Filtering out SummaryList files"
   ]
  },
  {
   "cell_type": "code",
   "execution_count": 8,
   "metadata": {},
   "outputs": [
    {
     "data": {
      "text/plain": [
       "7265"
      ]
     },
     "execution_count": 8,
     "metadata": {},
     "output_type": "execute_result"
    }
   ],
   "source": [
    "temp = [f for f in metadata_uris if 'summarylist' not in f]\n",
    "len(temp)"
   ]
  },
  {
   "cell_type": "code",
   "execution_count": 9,
   "metadata": {},
   "outputs": [
    {
     "data": {
      "text/plain": [
       "8471"
      ]
     },
     "execution_count": 9,
     "metadata": {},
     "output_type": "execute_result"
    }
   ],
   "source": [
    "len(metadata_uris)"
   ]
  },
  {
   "cell_type": "code",
   "execution_count": 10,
   "metadata": {},
   "outputs": [],
   "source": [
    "metadata_uris = temp"
   ]
  },
  {
   "cell_type": "code",
   "execution_count": 11,
   "metadata": {},
   "outputs": [],
   "source": [
    "from pprint import pprint\n",
    "import json"
   ]
  },
  {
   "cell_type": "code",
   "execution_count": 12,
   "metadata": {},
   "outputs": [],
   "source": [
    "def get_state(uri):\n",
    "    '/json/2019.10.30_OH_NA_SL/schwartz_2172.json'\n",
    "    \n",
    "    _sl_index = uri.index('_SL/')\n",
    "    \n",
    "    return uri[_sl_index-5:_sl_index-3]"
   ]
  },
  {
   "cell_type": "code",
   "execution_count": 14,
   "metadata": {},
   "outputs": [
    {
     "name": "stdout",
     "output_type": "stream",
     "text": [
      "/json/2019.10.30_OH_NA_SL/schwartz_2172.json\n",
      "################################################################################\n",
      "/json/2019.02.19_IN_NA_SL/wills_2730.json\n",
      "################################################################################\n",
      "/json/2020.02.05_IN_NA_SL/shoemaker_3600.json\n",
      "ME NUMBER NOT FILLED.\n",
      "{'app': {'assignment': {'me': None, 'pas': None},\n",
      "         'meta': {'alert': None, 'note': None},\n",
      "         'status': {'me_complete': None,\n",
      "                    'pas_complete': None,\n",
      "                    'state': 'incomplete'}},\n",
      " 'class': 'sanction',\n",
      " 'sanction': {'batch': '2020.02.05_IN_NA_SL',\n",
      "              'date_board_order': None,\n",
      "              'date_effective': None,\n",
      "              'decision': None,\n",
      "              'id': '2020.02.05_IN_NA_SL/shoemaker_3600',\n",
      "              'method': 'web',\n",
      "              'orig': 'results/results_02_05_2020_09_00PM/IN_SummaryList_09_14PM_February_05_2020/IN-Michael_Shoemaker-02_05_2020_BO.pdf',\n",
      "              'pas_code': None,\n",
      "              'physician': {'license': None,\n",
      "                            'me': None,\n",
      "                            'name_first': 'Michael',\n",
      "                            'name_last': 'Shoemaker',\n",
      "                            'name_middle': None},\n",
      "              'reasoning': None}}\n",
      "LICENSE NUMBER NOT FILLED.\n",
      "################################################################################\n",
      "/json/2020.04.08_KY_NA_SL/klein_4598.json\n",
      "ME NUMBER NOT FILLED.\n",
      "{'app': {'assignment': {'me': None, 'pas': None},\n",
      "         'meta': {'alert': None, 'note': None},\n",
      "         'status': {'me_complete': None, 'pas_complete': None, 'state': None}},\n",
      " 'class': 'sanction',\n",
      " 'sanction': {'batch': '2020.04.08_KY_NA_SL',\n",
      "              'date_board_order': '2020-04-09T00:00:00',\n",
      "              'date_effective': None,\n",
      "              'decision': None,\n",
      "              'id': '2020.04.08_KY_NA_SL/klein_4598',\n",
      "              'method': 'web',\n",
      "              'orig': 'results/results_04_08_2020_09_00PM/KY_SummaryList_09_28PM_April_08_2020/KY-A_Klein-04_08_2020_BO.pdf',\n",
      "              'pas_code': None,\n",
      "              'physician': {'license': None,\n",
      "                            'me': None,\n",
      "                            'name_first': 'A',\n",
      "                            'name_last': 'Klein',\n",
      "                            'name_middle': None},\n",
      "              'reasoning': None}}\n",
      "LICENSE NUMBER NOT FILLED.\n",
      "################################################################################\n",
      "/json/2019.09.24_CA_MD_SL/taylor_1850.json\n",
      "ME NUMBER NOT FILLED.\n",
      "{'app': {'assignment': {'me': None, 'pas': None},\n",
      "         'meta': {'alert': None, 'note': None},\n",
      "         'status': {'me_complete': None, 'pas_complete': None, 'state': None}},\n",
      " 'class': 'sanction',\n",
      " 'sanction': {'batch': '2019.09.24_CA_MD_SL',\n",
      "              'date_board_order': '2019-09-25T00:00:00',\n",
      "              'date_effective': None,\n",
      "              'decision': None,\n",
      "              'id': '2019.09.24_CA_MD_SL/taylor_1850',\n",
      "              'method': 'web',\n",
      "              'orig': 'results/results_09_24_2019_02_52PM/CA_MD_SummaryList_02_52PM_September_24_2019/CA_MD-Brynn_Taylor-09_24_2019_BO.pdf',\n",
      "              'pas_code': None,\n",
      "              'physician': {'license': None,\n",
      "                            'me': None,\n",
      "                            'name_first': 'Brynn',\n",
      "                            'name_last': 'Taylor',\n",
      "                            'name_middle': None},\n",
      "              'reasoning': None}}\n",
      "LICENSE NUMBER NOT FILLED.\n",
      "################################################################################\n"
     ]
    }
   ],
   "source": [
    "for uri in metadata_uris[:5]:\n",
    "    print(uri)\n",
    "    \n",
    "    json_data = json.loads(MarkLogicCon.get_file(uri=uri))\n",
    "    \n",
    "    me_nbr = json_data['sanction']['physician']['me']\n",
    "    \n",
    "    # if ME is filled, we don't need to do anything\n",
    "    if me_nbr in ['None', None, 'Null', 'none', 'null', '']:\n",
    "        print('ME NUMBER NOT FILLED.')\n",
    "        pprint(json_data)\n",
    "        # if license is filled, we can perform a search for ME number\n",
    "        lic_nbr = json_data['sanction']['physician']['license']\n",
    "        if lic_nbr in ['None', None, 'Null', 'none', 'null', '']:\n",
    "            print('LICENSE NUMBER NOT FILLED.')\n",
    "        else:\n",
    "            print('SEARCHING FOR ME_NBR')\n",
    "            \n",
    "            first = json_data['sanction']['physician']['name_first']\n",
    "            last = json_data['sanction']['physician']['name_last']\n",
    "            state = get_state(uri)\n",
    "            me_nbr = get_me_nbr(first=first, last=last, state=state, lic_nbr=lic_nbr, con=AIMS_conn)\n",
    "            \n",
    "            print('ME_NBR:', me_nbr)\n",
    "            \n",
    "            if me_nbr is not None:\n",
    "                print('UPDATING FILE')\n",
    "                \n",
    "                MarkLogicCon.update_metadata_me_nbr(uri=uri, me_nbr=me_nbr)\n",
    "    \n",
    "    print('#'*80)"
   ]
  },
  {
   "cell_type": "code",
   "execution_count": 55,
   "metadata": {},
   "outputs": [],
   "source": [
    "ex = '/pdf/2019.10.30_OH_NA_SL/schwartz_2172.pdf'\n",
    "f = MarkLogicCon.get_file(ex)"
   ]
  },
  {
   "cell_type": "code",
   "execution_count": 56,
   "metadata": {},
   "outputs": [],
   "source": [
    "with open('ex_pdf.pdf', 'wb') as file:\n",
    "    file.write(f)"
   ]
  },
  {
   "cell_type": "code",
   "execution_count": 25,
   "metadata": {},
   "outputs": [],
   "source": [
    "import os"
   ]
  },
  {
   "cell_type": "code",
   "execution_count": null,
   "metadata": {},
   "outputs": [],
   "source": [
    "# 35050898"
   ]
  },
  {
   "cell_type": "code",
   "execution_count": 30,
   "metadata": {},
   "outputs": [],
   "source": [
    "import pandas as pd"
   ]
  },
  {
   "cell_type": "code",
   "execution_count": 57,
   "metadata": {},
   "outputs": [],
   "source": [
    "sql_template = \\\n",
    "\"\"\"\n",
    "SELECT \n",
    "    ek.key_type_val,\n",
    "    nm.first_nm,\n",
    "    nm.last_nm,\n",
    "    lic.lic_nbr,\n",
    "    lic.state_cd\n",
    "\n",
    "FROM\n",
    "    person_name_et nm\n",
    "\n",
    "    INNER JOIN\n",
    "    entity_key_et ek\n",
    "    ON nm.entity_id = ek.entity_id\n",
    "\n",
    "    INNER JOIN\n",
    "    license_lt lic\n",
    "    ON lic.entity_id = ek.entity_id\n",
    "\n",
    "WHERE\n",
    "    ek.key_type          = \"ME\"    AND\n",
    "    UPPER(nm.first_nm)   = \"{}\"    AND\n",
    "    UPPER(nm.last_nm)    = \"{}\"\n",
    ";\n",
    "\"\"\"\n",
    "first = 'Paul'\n",
    "last = 'Schwartz'\n",
    "\n",
    "sql = sql_template.format(first.upper(), last.upper())\n",
    "\n",
    "data = pd.read_sql(con=AIMS_conn, sql=sql)"
   ]
  },
  {
   "cell_type": "code",
   "execution_count": 58,
   "metadata": {
    "scrolled": true
   },
   "outputs": [
    {
     "data": {
      "text/html": [
       "<div>\n",
       "<style scoped>\n",
       "    .dataframe tbody tr th:only-of-type {\n",
       "        vertical-align: middle;\n",
       "    }\n",
       "\n",
       "    .dataframe tbody tr th {\n",
       "        vertical-align: top;\n",
       "    }\n",
       "\n",
       "    .dataframe thead th {\n",
       "        text-align: right;\n",
       "    }\n",
       "</style>\n",
       "<table border=\"1\" class=\"dataframe\">\n",
       "  <thead>\n",
       "    <tr style=\"text-align: right;\">\n",
       "      <th></th>\n",
       "      <th>key_type_val</th>\n",
       "      <th>first_nm</th>\n",
       "      <th>last_nm</th>\n",
       "      <th>lic_nbr</th>\n",
       "      <th>state_cd</th>\n",
       "    </tr>\n",
       "  </thead>\n",
       "  <tbody>\n",
       "    <tr>\n",
       "      <th>0</th>\n",
       "      <td>03508601084</td>\n",
       "      <td>Paul</td>\n",
       "      <td>Schwartz</td>\n",
       "      <td>014390</td>\n",
       "      <td>CT</td>\n",
       "    </tr>\n",
       "    <tr>\n",
       "      <th>1</th>\n",
       "      <td>03508661273</td>\n",
       "      <td>Paul</td>\n",
       "      <td>Schwartz</td>\n",
       "      <td>G00017813</td>\n",
       "      <td>CA</td>\n",
       "    </tr>\n",
       "    <tr>\n",
       "      <th>2</th>\n",
       "      <td>03508661273</td>\n",
       "      <td>Paul</td>\n",
       "      <td>Schwartz</td>\n",
       "      <td>60099056</td>\n",
       "      <td>NY</td>\n",
       "    </tr>\n",
       "    <tr>\n",
       "      <th>3</th>\n",
       "      <td>02608820364</td>\n",
       "      <td>Paul</td>\n",
       "      <td>Schwartz</td>\n",
       "      <td>G00060459</td>\n",
       "      <td>CA</td>\n",
       "    </tr>\n",
       "    <tr>\n",
       "      <th>4</th>\n",
       "      <td>02608820364</td>\n",
       "      <td>Paul</td>\n",
       "      <td>Schwartz</td>\n",
       "      <td></td>\n",
       "      <td>KY</td>\n",
       "    </tr>\n",
       "    <tr>\n",
       "      <th>5</th>\n",
       "      <td>01102871177</td>\n",
       "      <td>Paul</td>\n",
       "      <td>Schwartz</td>\n",
       "      <td>ME0064947</td>\n",
       "      <td>FL</td>\n",
       "    </tr>\n",
       "    <tr>\n",
       "      <th>6</th>\n",
       "      <td>01102871177</td>\n",
       "      <td>Paul</td>\n",
       "      <td>Schwartz</td>\n",
       "      <td>60177537</td>\n",
       "      <td>NY</td>\n",
       "    </tr>\n",
       "    <tr>\n",
       "      <th>7</th>\n",
       "      <td>02301741033</td>\n",
       "      <td>Paul</td>\n",
       "      <td>Schwartz</td>\n",
       "      <td>D17118</td>\n",
       "      <td>MD</td>\n",
       "    </tr>\n",
       "    <tr>\n",
       "      <th>8</th>\n",
       "      <td>03503020229</td>\n",
       "      <td>Paul</td>\n",
       "      <td>Schwartz</td>\n",
       "      <td>046684</td>\n",
       "      <td>CT</td>\n",
       "    </tr>\n",
       "    <tr>\n",
       "      <th>9</th>\n",
       "      <td>03503020229</td>\n",
       "      <td>Paul</td>\n",
       "      <td>Schwartz</td>\n",
       "      <td>25MA07887700</td>\n",
       "      <td>NJ</td>\n",
       "    </tr>\n",
       "    <tr>\n",
       "      <th>10</th>\n",
       "      <td>03503020229</td>\n",
       "      <td>Paul</td>\n",
       "      <td>Schwartz</td>\n",
       "      <td>60235792</td>\n",
       "      <td>NY</td>\n",
       "    </tr>\n",
       "    <tr>\n",
       "      <th>11</th>\n",
       "      <td>02301330637</td>\n",
       "      <td>Paul</td>\n",
       "      <td>Schwartz</td>\n",
       "      <td></td>\n",
       "      <td>MD</td>\n",
       "    </tr>\n",
       "    <tr>\n",
       "      <th>12</th>\n",
       "      <td>03841831585</td>\n",
       "      <td>Paul</td>\n",
       "      <td>Schwartz</td>\n",
       "      <td>G00087010</td>\n",
       "      <td>CA</td>\n",
       "    </tr>\n",
       "    <tr>\n",
       "      <th>13</th>\n",
       "      <td>03841831585</td>\n",
       "      <td>Paul</td>\n",
       "      <td>Schwartz</td>\n",
       "      <td></td>\n",
       "      <td>CT</td>\n",
       "    </tr>\n",
       "    <tr>\n",
       "      <th>14</th>\n",
       "      <td>03841831585</td>\n",
       "      <td>Paul</td>\n",
       "      <td>Schwartz</td>\n",
       "      <td>046684</td>\n",
       "      <td>CT</td>\n",
       "    </tr>\n",
       "    <tr>\n",
       "      <th>15</th>\n",
       "      <td>03841831585</td>\n",
       "      <td>Paul</td>\n",
       "      <td>Schwartz</td>\n",
       "      <td>D40612</td>\n",
       "      <td>MD</td>\n",
       "    </tr>\n",
       "    <tr>\n",
       "      <th>16</th>\n",
       "      <td>03841831585</td>\n",
       "      <td>Paul</td>\n",
       "      <td>Schwartz</td>\n",
       "      <td>35050898</td>\n",
       "      <td>OH</td>\n",
       "    </tr>\n",
       "    <tr>\n",
       "      <th>17</th>\n",
       "      <td>02301330637</td>\n",
       "      <td>Paul</td>\n",
       "      <td>Schwartz</td>\n",
       "      <td></td>\n",
       "      <td>MD</td>\n",
       "    </tr>\n",
       "    <tr>\n",
       "      <th>18</th>\n",
       "      <td>01201801369</td>\n",
       "      <td>Paul</td>\n",
       "      <td>Schwartz</td>\n",
       "      <td>1104023328</td>\n",
       "      <td>GA</td>\n",
       "    </tr>\n",
       "    <tr>\n",
       "      <th>19</th>\n",
       "      <td>01201801369</td>\n",
       "      <td>Paul</td>\n",
       "      <td>Schwartz</td>\n",
       "      <td>G0636</td>\n",
       "      <td>TX</td>\n",
       "    </tr>\n",
       "    <tr>\n",
       "      <th>20</th>\n",
       "      <td>02802640661</td>\n",
       "      <td>Paul</td>\n",
       "      <td>Schwartz</td>\n",
       "      <td>28782</td>\n",
       "      <td>MA</td>\n",
       "    </tr>\n",
       "    <tr>\n",
       "      <th>21</th>\n",
       "      <td>04802801501</td>\n",
       "      <td>Paul</td>\n",
       "      <td>Schwartz</td>\n",
       "      <td>0000012882</td>\n",
       "      <td>TN</td>\n",
       "    </tr>\n",
       "  </tbody>\n",
       "</table>\n",
       "</div>"
      ],
      "text/plain": [
       "       key_type_val              first_nm                         last_nm  \\\n",
       "0   03508601084      Paul                  Schwartz                         \n",
       "1   03508661273      Paul                  Schwartz                         \n",
       "2   03508661273      Paul                  Schwartz                         \n",
       "3   02608820364      Paul                  Schwartz                         \n",
       "4   02608820364      Paul                  Schwartz                         \n",
       "5   01102871177      Paul                  Schwartz                         \n",
       "6   01102871177      Paul                  Schwartz                         \n",
       "7   02301741033      Paul                  Schwartz                         \n",
       "8   03503020229      Paul                  Schwartz                         \n",
       "9   03503020229      Paul                  Schwartz                         \n",
       "10  03503020229      Paul                  Schwartz                         \n",
       "11  02301330637      Paul                  Schwartz                         \n",
       "12  03841831585      Paul                  Schwartz                         \n",
       "13  03841831585      Paul                  Schwartz                         \n",
       "14  03841831585      Paul                  Schwartz                         \n",
       "15  03841831585      Paul                  Schwartz                         \n",
       "16  03841831585      Paul                  Schwartz                         \n",
       "17  02301330637      Paul                  Schwartz                         \n",
       "18  01201801369      Paul                  Schwartz                         \n",
       "19  01201801369      Paul                  Schwartz                         \n",
       "20  02802640661      Paul                  Schwartz                         \n",
       "21  04802801501      Paul                  Schwartz                         \n",
       "\n",
       "            lic_nbr state_cd  \n",
       "0   014390                CT  \n",
       "1   G00017813             CA  \n",
       "2   60099056              NY  \n",
       "3   G00060459             CA  \n",
       "4                         KY  \n",
       "5   ME0064947             FL  \n",
       "6   60177537              NY  \n",
       "7   D17118                MD  \n",
       "8   046684                CT  \n",
       "9   25MA07887700          NJ  \n",
       "10  60235792              NY  \n",
       "11                        MD  \n",
       "12  G00087010             CA  \n",
       "13                        CT  \n",
       "14  046684                CT  \n",
       "15  D40612                MD  \n",
       "16  35050898              OH  \n",
       "17                        MD  \n",
       "18  1104023328            GA  \n",
       "19  G0636                 TX  \n",
       "20  28782                 MA  \n",
       "21  0000012882            TN  "
      ]
     },
     "execution_count": 58,
     "metadata": {},
     "output_type": "execute_result"
    }
   ],
   "source": [
    "data"
   ]
  },
  {
   "cell_type": "code",
   "execution_count": 59,
   "metadata": {},
   "outputs": [
    {
     "data": {
      "text/html": [
       "<div>\n",
       "<style scoped>\n",
       "    .dataframe tbody tr th:only-of-type {\n",
       "        vertical-align: middle;\n",
       "    }\n",
       "\n",
       "    .dataframe tbody tr th {\n",
       "        vertical-align: top;\n",
       "    }\n",
       "\n",
       "    .dataframe thead th {\n",
       "        text-align: right;\n",
       "    }\n",
       "</style>\n",
       "<table border=\"1\" class=\"dataframe\">\n",
       "  <thead>\n",
       "    <tr style=\"text-align: right;\">\n",
       "      <th></th>\n",
       "      <th>key_type_val</th>\n",
       "      <th>first_nm</th>\n",
       "      <th>last_nm</th>\n",
       "      <th>lic_nbr</th>\n",
       "      <th>state_cd</th>\n",
       "    </tr>\n",
       "  </thead>\n",
       "  <tbody>\n",
       "    <tr>\n",
       "      <th>16</th>\n",
       "      <td>03841831585</td>\n",
       "      <td>Paul</td>\n",
       "      <td>Schwartz</td>\n",
       "      <td>35050898</td>\n",
       "      <td>OH</td>\n",
       "    </tr>\n",
       "  </tbody>\n",
       "</table>\n",
       "</div>"
      ],
      "text/plain": [
       "       key_type_val              first_nm                         last_nm  \\\n",
       "16  03841831585      Paul                  Schwartz                         \n",
       "\n",
       "            lic_nbr state_cd  \n",
       "16  35050898              OH  "
      ]
     },
     "execution_count": 59,
     "metadata": {},
     "output_type": "execute_result"
    }
   ],
   "source": [
    "data[data['state_cd']=='OH']"
   ]
  },
  {
   "cell_type": "code",
   "execution_count": 11,
   "metadata": {},
   "outputs": [
    {
     "name": "stdout",
     "output_type": "stream",
     "text": [
      "204\n",
      "204\n"
     ]
    }
   ],
   "source": [
    "uri = '/json/2019.10.30_OH_NA_SL/schwartz_2172.json'\n",
    "lic_nbr = '35050898'\n",
    "MarkLogicCon.set_me_nbr(uri=uri, me_nbr=None)\n",
    "MarkLogicCon.set_lic_nbr(uri=uri, lic_nbr=lic_nbr)"
   ]
  },
  {
   "cell_type": "code",
   "execution_count": null,
   "metadata": {},
   "outputs": [],
   "source": []
  }
 ],
 "metadata": {
  "kernelspec": {
   "display_name": "Python 3",
   "language": "python",
   "name": "python3"
  },
  "language_info": {
   "codemirror_mode": {
    "name": "ipython",
    "version": 3
   },
   "file_extension": ".py",
   "mimetype": "text/x-python",
   "name": "python",
   "nbconvert_exporter": "python",
   "pygments_lexer": "ipython3",
   "version": "3.7.4"
  }
 },
 "nbformat": 4,
 "nbformat_minor": 2
}
