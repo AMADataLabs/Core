{
 "cells": [
  {
   "cell_type": "markdown",
   "metadata": {},
   "source": [
    "# Sanctions ME Append Demo"
   ]
  },
  {
   "cell_type": "code",
   "execution_count": 1,
   "metadata": {},
   "outputs": [],
   "source": [
    "import os\n",
    "import pyodbc\n",
    "\n",
    "from ME_Append import get_me_nbr\n",
    "from MarkLogicConnection import MarkLogicConnection"
   ]
  },
  {
   "cell_type": "markdown",
   "metadata": {},
   "source": [
    "# Connections"
   ]
  },
  {
   "cell_type": "markdown",
   "metadata": {},
   "source": [
    "### AIMS"
   ]
  },
  {
   "cell_type": "code",
   "execution_count": 2,
   "metadata": {},
   "outputs": [
    {
     "data": {
      "text/plain": [
       "<pyodbc.Cursor at 0x26903987530>"
      ]
     },
     "execution_count": 2,
     "metadata": {},
     "output_type": "execute_result"
    }
   ],
   "source": [
    "auth_aims = os.environ.get('auth_aims')\n",
    "aims_user, aims_pass = (auth_aims.split())\n",
    "AIMS_conn = pyodbc.connect('DSN=aims_prod; UID={}; PWD={}'.format(aims_user, aims_pass))\n",
    "AIMS_conn.execute('SET ISOLATION TO DIRTY READ;')"
   ]
  },
  {
   "cell_type": "markdown",
   "metadata": {},
   "source": [
    "### MarkLogic"
   ]
  },
  {
   "cell_type": "code",
   "execution_count": 12,
   "metadata": {},
   "outputs": [],
   "source": [
    "auth_marklogic = os.environ.get('auth_marklogic_test')\n",
    "ml_user, ml_pass = (auth_marklogic.split())\n",
    "\n",
    "url = 'http://appt1456:8000/LATEST'\n",
    "\n",
    "MarkLogicCon = MarkLogicConnection(url=url, username=ml_user, password=ml_pass)"
   ]
  },
  {
   "cell_type": "markdown",
   "metadata": {},
   "source": [
    "### Example URI"
   ]
  },
  {
   "cell_type": "code",
   "execution_count": 4,
   "metadata": {},
   "outputs": [],
   "source": [
    "uri = '/json/2019.10.30_OH_NA_SL/schwartz_2172.json'"
   ]
  },
  {
   "cell_type": "markdown",
   "metadata": {},
   "source": [
    "### Helper function - get State info from URI"
   ]
  },
  {
   "cell_type": "code",
   "execution_count": 5,
   "metadata": {},
   "outputs": [],
   "source": [
    "def get_state(uri):   \n",
    "    _sl_index = uri.index('_SL/')\n",
    "    \n",
    "    return uri[_sl_index-5:_sl_index-3]"
   ]
  },
  {
   "cell_type": "code",
   "execution_count": 6,
   "metadata": {},
   "outputs": [
    {
     "data": {
      "text/plain": [
       "'OH'"
      ]
     },
     "execution_count": 6,
     "metadata": {},
     "output_type": "execute_result"
    }
   ],
   "source": [
    "get_state(uri)  # shown example"
   ]
  },
  {
   "cell_type": "markdown",
   "metadata": {},
   "source": [
    "# View PDF to see License Number"
   ]
  },
  {
   "cell_type": "code",
   "execution_count": 7,
   "metadata": {},
   "outputs": [],
   "source": [
    "#\n",
    "#\n",
    "#\n",
    "#\n",
    "#\n",
    "#\n",
    "\n",
    "lic_nbr = '35050898'"
   ]
  },
  {
   "cell_type": "markdown",
   "metadata": {},
   "source": [
    "# Meta data"
   ]
  },
  {
   "cell_type": "code",
   "execution_count": 8,
   "metadata": {},
   "outputs": [],
   "source": [
    "import json"
   ]
  },
  {
   "cell_type": "code",
   "execution_count": 9,
   "metadata": {},
   "outputs": [
    {
     "name": "stdout",
     "output_type": "stream",
     "text": [
      "204\n",
      "204\n"
     ]
    }
   ],
   "source": [
    "# clear fields for demo\n",
    "MarkLogicCon.set_lic_nbr(uri=uri, lic_nbr=None)\n",
    "MarkLogicCon.set_me_nbr(uri=uri, me_nbr=None)"
   ]
  },
  {
   "cell_type": "markdown",
   "metadata": {},
   "source": [
    "### Pre-license-filling"
   ]
  },
  {
   "cell_type": "code",
   "execution_count": 14,
   "metadata": {},
   "outputs": [
    {
     "data": {
      "text/plain": [
       "{'class': 'sanction',\n",
       " 'sanction': {'batch': '2019.10.30_OH_NA_SL',\n",
       "  'id': '2019.10.30_OH_NA_SL/schwartz_2172',\n",
       "  'date_board_order': '2019-10-31T00:00:00',\n",
       "  'date_effective': None,\n",
       "  'decision': None,\n",
       "  'reasoning': None,\n",
       "  'pas_code': None,\n",
       "  'method': 'web',\n",
       "  'orig': 'results/results_10_30_2019_09_00PM/OH_SummaryList_09_30PM_October_30_2019/OH-Paul_Schwartz-10_30_2019_BO.pdf',\n",
       "  'physician': {'name_first': 'Paul',\n",
       "   'name_middle': None,\n",
       "   'name_last': 'Schwartz',\n",
       "   'license': '35050898',\n",
       "   'me': None}},\n",
       " 'app': {'assignment': {'me': None, 'pas': None},\n",
       "  'status': {'state': 'incomplete', 'me_complete': None, 'pas_complete': None},\n",
       "  'meta': {'alert': None, 'note': None}}}"
      ]
     },
     "execution_count": 14,
     "metadata": {},
     "output_type": "execute_result"
    }
   ],
   "source": [
    "json.loads(MarkLogicCon.get_file(uri))"
   ]
  },
  {
   "cell_type": "code",
   "execution_count": null,
   "metadata": {},
   "outputs": [],
   "source": [
    "json.loads(MarkLogicCon.get_file(uri))"
   ]
  },
  {
   "cell_type": "code",
   "execution_count": null,
   "metadata": {},
   "outputs": [],
   "source": []
  },
  {
   "cell_type": "code",
   "execution_count": null,
   "metadata": {},
   "outputs": [],
   "source": []
  },
  {
   "cell_type": "markdown",
   "metadata": {},
   "source": [
    "### Post-license-filling"
   ]
  },
  {
   "cell_type": "code",
   "execution_count": 11,
   "metadata": {},
   "outputs": [
    {
     "name": "stdout",
     "output_type": "stream",
     "text": [
      "204\n"
     ]
    },
    {
     "data": {
      "text/plain": [
       "{'class': 'sanction',\n",
       " 'sanction': {'batch': '2019.10.30_OH_NA_SL',\n",
       "  'id': '2019.10.30_OH_NA_SL/schwartz_2172',\n",
       "  'date_board_order': '2019-10-31T00:00:00',\n",
       "  'date_effective': None,\n",
       "  'decision': None,\n",
       "  'reasoning': None,\n",
       "  'pas_code': None,\n",
       "  'method': 'web',\n",
       "  'orig': 'results/results_10_30_2019_09_00PM/OH_SummaryList_09_30PM_October_30_2019/OH-Paul_Schwartz-10_30_2019_BO.pdf',\n",
       "  'physician': {'name_first': 'Paul',\n",
       "   'name_middle': None,\n",
       "   'name_last': 'Schwartz',\n",
       "   'license': '35050898',\n",
       "   'me': None}},\n",
       " 'app': {'assignment': {'me': None, 'pas': None},\n",
       "  'status': {'state': None, 'me_complete': None, 'pas_complete': None},\n",
       "  'meta': {'alert': None, 'note': None}}}"
      ]
     },
     "execution_count": 11,
     "metadata": {},
     "output_type": "execute_result"
    }
   ],
   "source": [
    "MarkLogicCon.set_lic_nbr(uri=uri, lic_nbr=lic_nbr)  # simulate lic_nbr update from web-app\n",
    "json.loads(MarkLogicCon.get_file(uri))  # show file"
   ]
  },
  {
   "cell_type": "markdown",
   "metadata": {},
   "source": [
    "### ME Lookup"
   ]
  },
  {
   "cell_type": "code",
   "execution_count": 15,
   "metadata": {},
   "outputs": [
    {
     "name": "stdout",
     "output_type": "stream",
     "text": [
      "First: Paul, Last: Schwartz, State: OH, License: 35050898\n"
     ]
    }
   ],
   "source": [
    "# get metadata\n",
    "json_data = json.loads(MarkLogicCon.get_file(uri))\n",
    "\n",
    "# extract from json_data\n",
    "first = json_data['sanction']['physician']['name_first']\n",
    "last = json_data['sanction']['physician']['name_last']\n",
    "state = get_state(uri)\n",
    "\n",
    "print('First: {}, Last: {}, State: {}, License: {}'.format(first, last, state, lic_nbr))"
   ]
  },
  {
   "cell_type": "code",
   "execution_count": 16,
   "metadata": {},
   "outputs": [
    {
     "data": {
      "text/plain": [
       "'03841831585'"
      ]
     },
     "execution_count": 16,
     "metadata": {},
     "output_type": "execute_result"
    }
   ],
   "source": [
    "# perform ME lookup\n",
    "me_nbr = get_me_nbr(first=first, last=last, state=state, lic_nbr=lic_nbr, con=AIMS_conn)\n",
    "\n",
    "me_nbr"
   ]
  },
  {
   "cell_type": "markdown",
   "metadata": {},
   "source": [
    "### Fill in ME number in the meta data"
   ]
  },
  {
   "cell_type": "code",
   "execution_count": 17,
   "metadata": {},
   "outputs": [
    {
     "name": "stdout",
     "output_type": "stream",
     "text": [
      "204\n"
     ]
    }
   ],
   "source": [
    "MarkLogicCon.set_me_nbr(uri=uri, me_nbr=me_nbr)"
   ]
  },
  {
   "cell_type": "markdown",
   "metadata": {},
   "source": [
    "### Verify / show results"
   ]
  },
  {
   "cell_type": "code",
   "execution_count": 15,
   "metadata": {},
   "outputs": [
    {
     "data": {
      "text/plain": [
       "{'class': 'sanction',\n",
       " 'sanction': {'batch': '2019.10.30_OH_NA_SL',\n",
       "  'id': '2019.10.30_OH_NA_SL/schwartz_2172',\n",
       "  'date_board_order': '2019-10-31T00:00:00',\n",
       "  'date_effective': None,\n",
       "  'decision': None,\n",
       "  'reasoning': None,\n",
       "  'pas_code': None,\n",
       "  'method': 'web',\n",
       "  'orig': 'results/results_10_30_2019_09_00PM/OH_SummaryList_09_30PM_October_30_2019/OH-Paul_Schwartz-10_30_2019_BO.pdf',\n",
       "  'physician': {'name_first': 'Paul',\n",
       "   'name_middle': None,\n",
       "   'name_last': 'Schwartz',\n",
       "   'license': '35050898',\n",
       "   'me': '03841831585'}},\n",
       " 'app': {'assignment': {'me': '03841831585', 'pas': None},\n",
       "  'status': {'state': None, 'me_complete': None, 'pas_complete': None},\n",
       "  'meta': {'alert': None, 'note': None}}}"
      ]
     },
     "execution_count": 15,
     "metadata": {},
     "output_type": "execute_result"
    }
   ],
   "source": [
    "json.loads(MarkLogicCon.get_file(uri))"
   ]
  },
  {
   "cell_type": "code",
   "execution_count": null,
   "metadata": {},
   "outputs": [],
   "source": []
  }
 ],
 "metadata": {
  "kernelspec": {
   "display_name": "Python 3",
   "language": "python",
   "name": "python3"
  },
  "language_info": {
   "codemirror_mode": {
    "name": "ipython",
    "version": 3
   },
   "file_extension": ".py",
   "mimetype": "text/x-python",
   "name": "python",
   "nbconvert_exporter": "python",
   "pygments_lexer": "ipython3",
   "version": "3.7.4"
  }
 },
 "nbformat": 4,
 "nbformat_minor": 2
}
