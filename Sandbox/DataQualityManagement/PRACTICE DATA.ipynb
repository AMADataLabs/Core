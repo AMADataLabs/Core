{
 "cells": [
  {
   "cell_type": "code",
   "execution_count": null,
   "metadata": {},
   "outputs": [],
   "source": [
    "import pandas as pd\n",
    "import psycopg2\n",
    "import pyodbc\n",
    "from datetime import datetime, date\n",
    "import warnings\n",
    "from tqdm.notebook import tqdm"
   ]
  },
  {
   "cell_type": "code",
   "execution_count": null,
   "metadata": {},
   "outputs": [],
   "source": [
    "warnings.filterwarnings('ignore')"
   ]
  },
  {
   "cell_type": "code",
   "execution_count": null,
   "metadata": {},
   "outputs": [],
   "source": [
    "#Passwords\n",
    "ONEVIEW_PASSWORD = ''\n",
    "EDW_USERNAME = '\n",
    "EDW_PASSWORD = ''\n",
    "AIMS_USERNAME = ''\n",
    "AIMS_PASSWORD = ''"
   ]
  },
  {
   "cell_type": "code",
   "execution_count": null,
   "metadata": {},
   "outputs": [],
   "source": [
    "#OneView connection\n",
    "conn = psycopg2.connect(\n",
    "    host='oneview-prd-content-aurora-cluster.cluster-cxgp9osuwqi3.us-east-1.rds.amazonaws.com',\n",
    "    database='oneview_content',\n",
    "    user='oneviewadmin',\n",
    "    password=ONEVIEW_PASSWORD)"
   ]
  },
  {
   "cell_type": "code",
   "execution_count": null,
   "metadata": {},
   "outputs": [],
   "source": [
    "#EDW connection\n",
    "w = \"DSN=prddw; UID={}; PWD={}\".format(EDW_USERNAME, EDW_PASSWORD)\n",
    "AMAEDW = pyodbc.connect(w)"
   ]
  },
  {
   "cell_type": "code",
   "execution_count": null,
   "metadata": {},
   "outputs": [],
   "source": [
    "#Define universe\n",
    "ov_me_sql = '''\n",
    "    SELECT medical_education_number,type FROM ONEVIEW.physician\n",
    "    '''\n",
    "ov_me = pd.read_sql_query(ov_me_sql, conn)"
   ]
  },
  {
   "cell_type": "code",
   "execution_count": null,
   "metadata": {},
   "outputs": [],
   "source": [
    "#Get party IDs and MEs\n",
    "ME_QUERY = \\\n",
    "    f\"\"\"\n",
    "    SELECT\n",
    "    P.PARTY_ID,\n",
    "    P.KEY_VAL AS ME\n",
    "    FROM\n",
    "    AMAEDW.PARTY_KEY P\n",
    "    WHERE\n",
    "    P.KEY_TYPE_ID = 18\n",
    "    AND\n",
    "    P.ACTIVE_IND='Y'\n",
    "    \"\"\"\n",
    "party_ids = pd.read_sql(con=AMAEDW, sql=ME_QUERY)"
   ]
  },
  {
   "cell_type": "code",
   "execution_count": null,
   "metadata": {},
   "outputs": [],
   "source": [
    "#Get present employment\n",
    "MED_QUERY = \\\n",
    "    \"\"\"\n",
    "    SELECT\n",
    "    TOP_ID,\n",
    "    EMPLOYER_ID,\n",
    "    PARTY_ID\n",
    "    FROM\n",
    "    AMAEDW.MED_PROF\n",
    "    WHERE\n",
    "    THRU_DT IS NULL\n",
    "    \"\"\"\n",
    "MED_PROF = pd.read_sql(con=AMAEDW, sql=MED_QUERY)"
   ]
  },
  {
   "cell_type": "code",
   "execution_count": null,
   "metadata": {},
   "outputs": [],
   "source": [
    "#Get mpa\n",
    "MPA_QUERY = \\\n",
    "    \"\"\"\n",
    "    SELECT\n",
    "    MPA_CD,\n",
    "    TOP_ID,\n",
    "    EMPLOYER_ID,\n",
    "    DESC\n",
    "    FROM\n",
    "    AMAEDW.MPA\n",
    "    WHERE\n",
    "    ACTIVE_IND='Y'\n",
    "    \"\"\"\n",
    "MPA = pd.read_sql(con=AMAEDW, sql=MPA_QUERY)"
   ]
  },
  {
   "cell_type": "code",
   "execution_count": null,
   "metadata": {},
   "outputs": [],
   "source": [
    "#Get specialty\n",
    "SPEC_QUERY = \\\n",
    "    \"\"\"\n",
    "    SELECT\n",
    "    M.PARTY_ID,\n",
    "    M.SPEC_ID,\n",
    "    M.PREFE_LVL\n",
    "    FROM\n",
    "    AMAEDW.MED_SPEC M\n",
    "    \"\"\"\n",
    "SPEC = pd.read_sql(con=AMAEDW, sql=SPEC_QUERY)"
   ]
  },
  {
   "cell_type": "code",
   "execution_count": null,
   "metadata": {},
   "outputs": [],
   "source": [
    "#Get awards\n",
    "AWARD_QUERY = \\\n",
    "    \"\"\"\n",
    "    SELECT\n",
    "    PARTY_ID,\n",
    "    EXPIRATION_DT\n",
    "    FROM\n",
    "    AMAEDW.PRA_CERTIFICATE\n",
    "    WHERE\n",
    "    PRA_STATUS_DESC='Approved'\n",
    "    \"\"\"\n",
    "AWARD = pd.read_sql(con=AMAEDW, sql=AWARD_QUERY)"
   ]
  },
  {
   "cell_type": "code",
   "execution_count": null,
   "metadata": {},
   "outputs": [],
   "source": [
    "#Merge with pandas\n",
    "AWARD.EXPIRATION_DT = pd.to_datetime(AWARD.EXPIRATION_DT)\n",
    "wards = AWARD[AWARD.EXPIRATION_DT>datetime.today()].sort_values('EXPIRATION_DT').drop_duplicates('PARTY_ID', keep='last')\n",
    "ov_universe = pd.merge(party_ids, ov_me, left_on='ME', right_on='medical_education_number')\n",
    "ALL = pd.merge(ov_universe, MED_PROF, on='PARTY_ID', how='left')\n",
    "ALL = pd.merge(ALL, SPEC[SPEC.PREFE_LVL==1], on='PARTY_ID', how='left')\n",
    "ALL = pd.merge(ALL, SPEC[SPEC.PREFE_LVL==2], on='PARTY_ID', suffixes = ['_PRIM','_SEC'], how='left')\n",
    "ALL = pd.merge(ALL, MPA, on=['TOP_ID','EMPLOYER_ID'], how='left')\n",
    "ALL = pd.merge(ALL, wards, on='PARTY_ID', how='left')"
   ]
  }
 ],
 "metadata": {
  "kernelspec": {
   "display_name": "Python 3 (ipykernel)",
   "language": "python",
   "name": "python3"
  },
  "language_info": {
   "codemirror_mode": {
    "name": "ipython",
    "version": 3
   },
   "file_extension": ".py",
   "mimetype": "text/x-python",
   "name": "python",
   "nbconvert_exporter": "python",
   "pygments_lexer": "ipython3",
   "version": "3.10.7"
  }
 },
 "nbformat": 4,
 "nbformat_minor": 2
}
