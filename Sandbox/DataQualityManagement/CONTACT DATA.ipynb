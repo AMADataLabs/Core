{
 "cells": [
  {
   "cell_type": "code",
   "execution_count": null,
   "metadata": {},
   "outputs": [],
   "source": [
    "import pandas as pd\n",
    "import psycopg2\n",
    "import pyodbc\n",
    "import datetime\n",
    "import warnings"
   ]
  },
  {
   "cell_type": "code",
   "execution_count": null,
   "metadata": {},
   "outputs": [],
   "source": [
    "warnings.filterwarnings('ignore')"
   ]
  },
  {
   "cell_type": "code",
   "execution_count": null,
   "metadata": {},
   "outputs": [],
   "source": [
    "#Passwords\n",
    "ONEVIEW_PASSWORD = ''\n",
    "EDW_USERNAME = ''\n",
    "EDW_PASSWORD = ''\n",
    "AIMS_USERNAME = ''\n",
    "AIMS_PASSWORD = ''"
   ]
  },
  {
   "cell_type": "code",
   "execution_count": null,
   "metadata": {},
   "outputs": [],
   "source": [
    "#OneView connection\n",
    "conn = psycopg2.connect(\n",
    "    host='oneview-prd-content-aurora-cluster.cluster-cxgp9osuwqi3.us-east-1.rds.amazonaws.com',\n",
    "    database='oneview_content',\n",
    "    user='oneviewadmin',\n",
    "    password= ONEVIEW_PASSWORD)"
   ]
  },
  {
   "cell_type": "code",
   "execution_count": null,
   "metadata": {},
   "outputs": [],
   "source": [
    "#EDW connection\n",
    "w = \"DSN=prddw; UID={}; PWD={}\".format(EDW_USERNAME, EDW_PASSWORD)\n",
    "AMAEDW = pyodbc.connect(w)"
   ]
  },
  {
   "cell_type": "code",
   "execution_count": null,
   "metadata": {},
   "outputs": [],
   "source": [
    "#AIMS connection\n",
    "s = \"DSN=aims_prod; UID={}; PWD={}\".format(AIMS_USERNAME, AIMS_PASSWORD)\n",
    "informix = pyodbc.connect(s)"
   ]
  },
  {
   "cell_type": "code",
   "execution_count": null,
   "metadata": {},
   "outputs": [],
   "source": [
    "#Define universe\n",
    "ov_me_sql = '''\n",
    "    SELECT medical_education_number FROM ONEVIEW.physician\n",
    "    '''\n",
    "ov_me = pd.read_sql_query(ov_me_sql, conn)"
   ]
  },
  {
   "cell_type": "code",
   "execution_count": null,
   "metadata": {},
   "outputs": [],
   "source": [
    "#get statistical area data\n",
    "MSA_QUERY = \\\n",
    "    f\"\"\"\n",
    "    SELECT \n",
    "    Z.ZIP,\n",
    "    M.MSA_CD,\n",
    "    M.POPULATION,\n",
    "    M.MSA_TYPE,\n",
    "    Z.CBSA,\n",
    "    C.LEVEL_MSA,\n",
    "    C.STATUS_1_OR_2\n",
    "    FROM\n",
    "    AMAEDW.CBSA_ZR C, AMAEDW.ZIP_CBSA_ZR Z, AMAEDW.MSA_ZR M\n",
    "    WHERE\n",
    "    C.ZIP_CBSA_DIVISION = Z.CBSA\n",
    "    AND\n",
    "    Z.ACTIVE_IND = 'Y'\n",
    "    AND\n",
    "    C.ACTIVE_IND = 'Y'\n",
    "    AND\n",
    "    C.CBSA_OR_DIV = 'CBSA'\n",
    "    AND\n",
    "    M.ACTIVE_IND = 'Y'\n",
    "    \"\"\"\n",
    "statistic_area = pd.read_sql(con=AMAEDW, sql=MSA_QUERY)"
   ]
  },
  {
   "cell_type": "code",
   "execution_count": null,
   "metadata": {},
   "outputs": [],
   "source": [
    "#get other census data\n",
    "GEODATA_QUERY = \\\n",
    "    f\"\"\"\n",
    "    SELECT \n",
    "    C.POPULATION AS CENSUS_GROUP,\n",
    "    G.CENSUS_TRACT,\n",
    "    G.BLOCK,\n",
    "    G.FIPS_CD,\n",
    "    G.ZIP_CD,\n",
    "    G.ZIP_PLUS_4\n",
    "    FROM\n",
    "    AMAEDW.COUNTY_ZR C, AMAEDW.GEODATA_ZR G\n",
    "    WHERE\n",
    "    C.ACTIVE_IND = 'Y'\n",
    "    AND\n",
    "    G.FIPS_CD = C.FIPS_CD\n",
    "    \"\"\"\n",
    "census = pd.read_sql(con=AMAEDW, sql=GEODATA_QUERY)"
   ]
  },
  {
   "cell_type": "code",
   "execution_count": null,
   "metadata": {},
   "outputs": [],
   "source": [
    "#get fax data\n",
    "FAX_QUERY = \\\n",
    "    \"\"\"\n",
    "    SELECT \n",
    "    P.PHONE_ID,\n",
    "    P.PARTY_ID,\n",
    "    N.AREA_CD,\n",
    "    N.EXCHANGE,\n",
    "    N.PHONE_NBR,\n",
    "    P.FROM_DT,\n",
    "    P.THRU_DT,\n",
    "    P.CAT_CD_ID\n",
    "    FROM\n",
    "    AMAEDW.CONT_PURPOSE_TYPE C, AMAEDW.PARTY_PHONE P, AMAEDW.PHONE_NBR N\n",
    "    WHERE\n",
    "    C.PURPOSE_TYPE_ID = P.PURPOSE_TYPE_ID\n",
    "    AND\n",
    "    C.PURPOSE_CAT_CD = 'F'\n",
    "    AND\n",
    "    P.PHONE_ID = N.PHONE_ID\n",
    "    AND\n",
    "    P.THRU_DT is null\n",
    "    \"\"\"\n",
    "fax = pd.read_sql(con=AMAEDW, sql=FAX_QUERY)"
   ]
  },
  {
   "cell_type": "code",
   "execution_count": null,
   "metadata": {},
   "outputs": [],
   "source": [
    "#get phone data\n",
    "PHONE_QUERY = \\\n",
    "    \"\"\"\n",
    "    SELECT \n",
    "    P.PHONE_ID,\n",
    "    P.PARTY_ID,\n",
    "    N.AREA_CD,\n",
    "    N.EXCHANGE,\n",
    "    N.PHONE_NBR,\n",
    "    P.FROM_DT,\n",
    "    P.THRU_DT,\n",
    "    P.CAT_CD_ID,\n",
    "    C.PURPOSE_USG_CD\n",
    "    FROM\n",
    "    AMAEDW.CONT_PURPOSE_TYPE C, AMAEDW.PARTY_PHONE P, AMAEDW.PHONE_NBR N\n",
    "    WHERE\n",
    "    C.PURPOSE_TYPE_ID = P.PURPOSE_TYPE_ID\n",
    "    AND\n",
    "    C.PURPOSE_CAT_CD = 'P'\n",
    "    AND\n",
    "    P.PHONE_ID = N.PHONE_ID\n",
    "    AND\n",
    "    P.THRU_DT is null\n",
    "    \"\"\"\n",
    "phone = pd.read_sql(con=AMAEDW, sql=PHONE_QUERY)"
   ]
  },
  {
   "cell_type": "code",
   "execution_count": null,
   "metadata": {},
   "outputs": [],
   "source": [
    "#get email data\n",
    "EMAIL_QUERY = \\\n",
    "    \"\"\"\n",
    "    SELECT \n",
    "    P.EMAIL_ID,\n",
    "    P.PARTY_ID,\n",
    "    E.EMAIL_ADDR,\n",
    "    E.EMAIL_STATUS,\n",
    "    P.FROM_DT,\n",
    "    P.THRU_DT,\n",
    "    P.CAT_CD_ID,\n",
    "    C.PURPOSE_USG_CD\n",
    "    FROM\n",
    "    AMAEDW.CONT_PURPOSE_TYPE C, AMAEDW.PARTY_EMAIL P, AMAEDW.EMAIL_ADDR E\n",
    "    WHERE\n",
    "    C.PURPOSE_TYPE_ID = P.PURPOSE_TYPE_ID\n",
    "    AND\n",
    "    P.EMAIL_ID = E.EMAIL_ID\n",
    "    AND\n",
    "    P.THRU_DT is null\n",
    "    \"\"\"\n",
    "email = pd.read_sql(con=AMAEDW, sql=EMAIL_QUERY)"
   ]
  },
  {
   "cell_type": "code",
   "execution_count": null,
   "metadata": {},
   "outputs": [],
   "source": [
    "#get party ids\n",
    "ME_QUERY = \\\n",
    "    \"\"\"\n",
    "    SELECT\n",
    "    P.PARTY_ID,\n",
    "    P.KEY_VAL AS ME\n",
    "    FROM\n",
    "    AMAEDW.PARTY_KEY P\n",
    "    WHERE\n",
    "    P.KEY_TYPE_ID = 18\n",
    "    AND\n",
    "    P.ACTIVE_IND = 'Y'\n",
    "    \"\"\"\n",
    "party_ids = pd.read_sql(con=AMAEDW, sql=ME_QUERY)"
   ]
  },
  {
   "cell_type": "code",
   "execution_count": null,
   "metadata": {},
   "outputs": [],
   "source": [
    "#get address data\n",
    "POSTCD_QUERY = \\\n",
    "    f\"\"\"\n",
    "    SELECT\n",
    "    P.POST_CD_ID, \n",
    "    P.ADDR_1,\n",
    "    P.ADDR_2,\n",
    "    P.ADDR_3,\n",
    "    P.CITY,\n",
    "    P.STATE_ID,\n",
    "    P.POST_CD,\n",
    "    P.POST_CD_PLUS_4,\n",
    "    P.LATITUDE,\n",
    "    P.LONGITUDE,\n",
    "    P.SRC_POST_KEY AS COMM_ID,\n",
    "    FROM\n",
    "    AMAEDW.POST_CD P\n",
    "    \"\"\"\n",
    "post_cd = pd.read_sql(con=AMAEDW, sql=POSTCD_QUERY)"
   ]
  },
  {
   "cell_type": "code",
   "execution_count": null,
   "metadata": {},
   "outputs": [],
   "source": [
    "#get party address relationship data\n",
    "PARTY_ADDR_QUERY = \\\n",
    "    \"\"\"\n",
    "    SELECT \n",
    "    A.POST_CD_ID,\n",
    "    A.PARTY_ID,\n",
    "    A.FROM_DT,\n",
    "    A.THRU_DT,\n",
    "    A.CAT_CD_ID,\n",
    "    C.PURPOSE_USG_CD,\n",
    "    A.PARTY_ADDR_ID,\n",
    "    C.PURPOSE_TYPE_CD,\n",
    "    C.PURPOSE_USG_DESC\n",
    "    FROM\n",
    "    AMAEDW.CONT_PURPOSE_TYPE C, AMAEDW.PARTY_ADDR A\n",
    "    WHERE\n",
    "    C.PURPOSE_TYPE_ID = A.PURPOSE_TYPE_ID\n",
    "    AND\n",
    "    C.PURPOSE_CAT_CD = 'A'\n",
    "    AND\n",
    "    A.THRU_DT is null\n",
    "    AND\n",
    "    C.SRC_SYS = 'MASTERFILE'\n",
    "    \"\"\"\n",
    "party_addr = pd.read_sql(con=AMAEDW, sql=PARTY_ADDR_QUERY)"
   ]
  },
  {
   "cell_type": "code",
   "execution_count": null,
   "metadata": {},
   "outputs": [],
   "source": [
    "#address undeliverable\n",
    "UNDELIVERABLE_QUERY = \\\n",
    "    f'''\n",
    "    SELECT\n",
    "    ENTITY_ID,\n",
    "    COMM_ID,\n",
    "    COMM_EXC_CAT_CODE\n",
    "    FROM\n",
    "    informix.ENTITY_COMM_EXC_CT\n",
    "    WHERE\n",
    "    END_DT IS NULL\n",
    "    ;\n",
    "    '''\n",
    "undeliverable = pd.read_sql(con=informix, sql=UNDELIVERABLE_QUERY)"
   ]
  },
  {
   "cell_type": "code",
   "execution_count": null,
   "metadata": {},
   "outputs": [],
   "source": [
    "#get party level contact data\n",
    "ids = pd.merge(party_ids, ov_me, left_on='ME', right_on='medical_education_number')\n",
    "polos = party_addr[party_addr.PURPOSE_USG_CD=='PO  '][['PARTY_ID', 'POST_CD_ID']].drop_duplicates('PARTY_ID').rename(columns ={'POST_CD_ID':'POLO_ADDRESS'})\n",
    "ppmas = party_addr[party_addr.PURPOSE_USG_CD=='PP  '][['PARTY_ID', 'POST_CD_ID']].drop_duplicates('PARTY_ID').rename(columns ={'POST_CD_ID':'PPMA_ADDRESS'})\n",
    "addresses = party_addr[['PARTY_ID', 'POST_CD_ID']].drop_duplicates('PARTY_ID').rename(columns ={'POST_CD_ID':'ADDRESS'})\n",
    "preferred_phones = phone[phone.PURPOSE_USG_CD=='PV  '][['PARTY_ID', 'PHONE_ID']].drop_duplicates('PARTY_ID').rename(columns ={'PHONE_ID':'PREFERRED_PHONE'})\n",
    "phones = phone[['PARTY_ID', 'PHONE_ID']].drop_duplicates('PARTY_ID')\n",
    "faxes = fax[['PARTY_ID', 'PHONE_ID']].drop_duplicates('PARTY_ID').rename(columns ={'PHONE_ID':'FAX_ID'})\n",
    "preferred_emails = email[email.PURPOSE_USG_CD=='PE  '][['PARTY_ID', 'EMAIL_ID']].drop_duplicates('PARTY_ID').rename(columns ={'EMAIL_ID':'PREFERRED_EMAIL'})\n",
    "emails = email[['PARTY_ID', 'EMAIL_ID']].drop_duplicates('PARTY_ID')"
   ]
  },
  {
   "cell_type": "code",
   "execution_count": null,
   "metadata": {},
   "outputs": [],
   "source": [
    "#create party level table\n",
    "PARTY_LEVEL = pd.merge(ids, addresses, on='PARTY_ID', how='left')\n",
    "PARTY_LEVEL = pd.merge(PARTY_LEVEL, ppmas, on='PARTY_ID', how='left')\n",
    "PARTY_LEVEL = pd.merge(PARTY_LEVEL, polos, on='PARTY_ID', how='left')\n",
    "PARTY_LEVEL = pd.merge(PARTY_LEVEL, phones, on='PARTY_ID', how='left')\n",
    "PARTY_LEVEL = pd.merge(PARTY_LEVEL, preferred_phones, on='PARTY_ID', how='left')\n",
    "PARTY_LEVEL = pd.merge(PARTY_LEVEL, emails, on='PARTY_ID', how='left')\n",
    "PARTY_LEVEL = pd.merge(PARTY_LEVEL, preferred_emails, on='PARTY_ID', how='left')\n",
    "PARTY_LEVEL = pd.merge(PARTY_LEVEL, faxes, on='PARTY_ID', how='left')"
   ]
  },
  {
   "cell_type": "code",
   "execution_count": null,
   "metadata": {},
   "outputs": [],
   "source": [
    "#create comm level tables\n",
    "PHONE = pd.merge(ids, phone, on='PARTY_ID')\n",
    "FAX = pd.merge(ids, fax, on='PARTY_ID')\n",
    "EMAIL = pd.merge(ids, email, on='PARTY_ID')\n",
    "ADDRESS = pd.merge(ids, party_addr, on='PARTY_ID')\n",
    "ADDRESS = pd.merge(ADDRESS, statistic_area, left_on='POST_CD', right_on ='ZIP_CD', how='left')\n",
    "ADDRESS = pd.merge(ADDRESS, census, left_on=['POST_CD','POST_CD_PLUS_4'], right_on = ['ZIP_CD','ZIP_PLUS_4'], how='left')\n",
    "ADDRESS = pd.merge(ADDRESS, undeliverable, on='COMM_ID', how='left')"
   ]
  }
 ],
 "metadata": {
  "kernelspec": {
   "display_name": "Python 3 (ipykernel)",
   "language": "python",
   "name": "python3"
  },
  "language_info": {
   "codemirror_mode": {
    "name": "ipython",
    "version": 3
   },
   "file_extension": ".py",
   "mimetype": "text/x-python",
   "name": "python",
   "nbconvert_exporter": "python",
   "pygments_lexer": "ipython3",
   "version": "3.10.7"
  }
 },
 "nbformat": 4,
 "nbformat_minor": 2
}
