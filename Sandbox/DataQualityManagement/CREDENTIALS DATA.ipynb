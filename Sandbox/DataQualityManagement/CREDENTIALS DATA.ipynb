{
 "cells": [
  {
   "cell_type": "code",
   "execution_count": null,
   "metadata": {},
   "outputs": [],
   "source": [
    "import pandas as pd\n",
    "import psycopg2\n",
    "import pyodbc\n",
    "import datetime"
   ]
  },
  {
   "cell_type": "code",
   "execution_count": null,
   "metadata": {},
   "outputs": [],
   "source": [
    "warnings.filterwarnings('ignore')"
   ]
  },
  {
   "cell_type": "code",
   "execution_count": null,
   "metadata": {},
   "outputs": [],
   "source": [
    "#Passwords\n",
    "ONEVIEW_PASSWORD = ''\n",
    "EDW_USERNAME = ''\n",
    "EDW_PASSWORD = ''\n",
    "AIMS_USERNAME = ''\n",
    "AIMS_PASSWORD = ''"
   ]
  },
  {
   "cell_type": "code",
   "execution_count": null,
   "metadata": {},
   "outputs": [],
   "source": [
    "#OneView connection\n",
    "conn = psycopg2.connect(\n",
    "    host='oneview-prd-content-aurora-cluster.cluster-cxgp9osuwqi3.us-east-1.rds.amazonaws.com',\n",
    "    database='oneview_content',\n",
    "    user='oneviewadmin',\n",
    "    password= ONEVIEW_PASSWORD)"
   ]
  },
  {
   "cell_type": "code",
   "execution_count": null,
   "metadata": {},
   "outputs": [],
   "source": [
    "#EDW connection\n",
    "w = \"DSN=prddw; UID={}; PWD={}\".format(EDW_USERNAME, EDW_PASSWORD)\n",
    "AMAEDW = pyodbc.connect(w)"
   ]
  },
  {
   "cell_type": "code",
   "execution_count": null,
   "metadata": {},
   "outputs": [],
   "source": [
    "#Define universe\n",
    "ov_me_sql = '''\n",
    "    SELECT medical_education_number FROM ONEVIEW.physician\n",
    "    '''\n",
    "ov_me = pd.read_sql_query(ov_me_sql, conn)"
   ]
  },
  {
   "cell_type": "code",
   "execution_count": null,
   "metadata": {},
   "outputs": [],
   "source": [
    "#get party ids\n",
    "ME_QUERY = \\\n",
    "    \"\"\"\n",
    "    SELECT\n",
    "    P.PARTY_ID,\n",
    "    P.KEY_VAL AS ME\n",
    "    FROM\n",
    "    AMAEDW.PARTY_KEY P\n",
    "    WHERE\n",
    "    P.KEY_TYPE_ID = 18\n",
    "    AND\n",
    "    P.ACTIVE_IND = 'Y'\n",
    "    \"\"\"\n",
    "party_ids = pd.read_sql(con=AMAEDW, sql=ME_QUERY)"
   ]
  },
  {
   "cell_type": "code",
   "execution_count": null,
   "metadata": {},
   "outputs": [],
   "source": [
    "#get abms\n",
    "BOARD_QUERY = \\\n",
    "    f\"\"\"\n",
    "    SELECT\n",
    "    PARTY_ID_FROM,\n",
    "    PARTY_ID_TO,\n",
    "    BRD_ID,\n",
    "    CERTIF_TYPE_CD,\n",
    "    CERTIF_ID,\n",
    "    REC_TYPE,\n",
    "    ISS_DT,\n",
    "    EXP_DT,\n",
    "    REVERIFICATION_DT,\n",
    "    OCCUR_TYPE_CD,\n",
    "    OCCUR_TYPE_DESC,\n",
    "    MOC_MET_RQT,\n",
    "    MOC_PATHWAY_ID,\n",
    "    ABMS_ID,\n",
    "    CERT_ID\n",
    "    FROM\n",
    "    AMAEDW.BRD_CERTIF\n",
    "    WHERE\n",
    "    THRU_DT is null\n",
    "    \"\"\"\n",
    "abms = pd.read_sql(con=AMAEDW, sql=BOARD_QUERY)"
   ]
  },
  {
   "cell_type": "code",
   "execution_count": null,
   "metadata": {},
   "outputs": [],
   "source": [
    "#get license\n",
    "LIC_QUERY = \\\n",
    "    f\"\"\"\n",
    "    SELECT\n",
    "    PARTY_ID,\n",
    "    STATE_ID,\n",
    "    STS_TYPE_ID,\n",
    "    LIC_TYPE_ID,\n",
    "    ISS_DT,\n",
    "    EXP_DT,\n",
    "    RNW_DT,\n",
    "    DEGREE_CD,\n",
    "    LIC_NBR,\n",
    "    DELETE_IND\n",
    "    FROM\n",
    "    AMAEDW.LIC\n",
    "    WHERE\n",
    "    THRU_DT is null\n",
    "    AND\n",
    "    DELETE_IND = 'N'\n",
    "    \"\"\"\n",
    "license = pd.read_sql(con=AMAEDW, sql=LIC_QUERY)"
   ]
  },
  {
   "cell_type": "code",
   "execution_count": null,
   "metadata": {},
   "outputs": [],
   "source": [
    "#get dea\n",
    "DEA_QUERY = \\\n",
    "    f\"\"\"\n",
    "    SELECT\n",
    "    PARTY_ID,\n",
    "    DEA_ACTIVITY_CD,\n",
    "    DEA_SUB_ACTIVITY_CODE,\n",
    "    SCHED_CD,\n",
    "    EXP_DT,\n",
    "    DEA_STATUS_ID,\n",
    "    DEA_NBR\n",
    "    FROM\n",
    "    AMAEDW.DEA_REG\n",
    "    WHERE\n",
    "    THRU_DT is null\n",
    "    AND\n",
    "    DELETE_IND = 'N'\n",
    "    \"\"\"\n",
    "dea = pd.read_sql(con=AMAEDW, sql=DEA_QUERY)"
   ]
  },
  {
   "cell_type": "code",
   "execution_count": null,
   "metadata": {},
   "outputs": [],
   "source": [
    "#get npi\n",
    "NPI_QUERY = \\\n",
    "    f\"\"\"\n",
    "    SELECT\n",
    "    PARTY_ID,\n",
    "    NPI_CD,\n",
    "    ENUMERATION_DT,\n",
    "    DEACTIVATE_DT,\n",
    "    REACTIVATE_DT\n",
    "    FROM\n",
    "    AMAEDW.NPI_REG\n",
    "    WHERE\n",
    "    THRU_DT is null\n",
    "    \"\"\"\n",
    "npi = pd.read_sql(con=AMAEDW, sql=NPI_QUERY)"
   ]
  },
  {
   "cell_type": "code",
   "execution_count": null,
   "metadata": {},
   "outputs": [],
   "source": [
    "#merge with pandas\n",
    "IDS = pd.merge(party_ids, ov_me, left_on='ME', right_on='medical_education_number')\n",
    "ALL_ABMS = pd.merge(IDS, abms, left_on='PARTY_ID', right_on='PARTY_ID_FROM').drop_duplicates('CERTIF_ID')\n",
    "ALL_LICENSE = pd.merge(IDS, license, on='PARTY_ID').drop_duplicates()\n",
    "ALL_LICENSE = ALL_LICENSE.drop_duplicates(['LIC_NBR','DEGREE_CD','STATE_ID','PARTY_ID'])\n",
    "ALL_DEA = pd.merge(IDS, dea, on='PARTY_ID').drop_duplicates()\n",
    "ALL_NPI = pd.merge(IDS, npi, on='PARTY_ID').drop_duplicates()"
   ]
  }
 ],
 "metadata": {
  "kernelspec": {
   "display_name": "Python 3 (ipykernel)",
   "language": "python",
   "name": "python3"
  },
  "language_info": {
   "codemirror_mode": {
    "name": "ipython",
    "version": 3
   },
   "file_extension": ".py",
   "mimetype": "text/x-python",
   "name": "python",
   "nbconvert_exporter": "python",
   "pygments_lexer": "ipython3",
   "version": "3.10.7"
  }
 },
 "nbformat": 4,
 "nbformat_minor": 2
}
