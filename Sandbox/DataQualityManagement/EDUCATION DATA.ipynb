{
 "cells": [
  {
   "cell_type": "code",
   "execution_count": null,
   "metadata": {},
   "outputs": [],
   "source": [
    "import pandas as pd\n",
    "import psycopg2\n",
    "import pyodbc\n",
    "import datetime\n",
    "import warnings"
   ]
  },
  {
   "cell_type": "code",
   "execution_count": null,
   "metadata": {},
   "outputs": [],
   "source": [
    "warnings.filterwarnings('ignore')"
   ]
  },
  {
   "cell_type": "code",
   "execution_count": null,
   "metadata": {},
   "outputs": [],
   "source": [
    "#Passwords\n",
    "ONEVIEW_PASSWORD = ''\n",
    "EDW_USERNAME = ''\n",
    "EDW_PASSWORD = ''\n",
    "AIMS_USERNAME = ''\n",
    "AIMS_PASSWORD = ''"
   ]
  },
  {
   "cell_type": "code",
   "execution_count": null,
   "metadata": {},
   "outputs": [],
   "source": [
    "#OneView connection\n",
    "conn = psycopg2.connect(\n",
    "    host='oneview-prd-content-aurora-cluster.cluster-cxgp9osuwqi3.us-east-1.rds.amazonaws.com',\n",
    "    database='oneview_content',\n",
    "    user='oneviewadmin',\n",
    "    password= ONEVIEW_PASSWORD)"
   ]
  },
  {
   "cell_type": "code",
   "execution_count": null,
   "metadata": {},
   "outputs": [],
   "source": [
    "#EDW connection\n",
    "w = \"DSN=prddw; UID={}; PWD={}\".format(EDW_USERNAME, EDW_PASSWORD)\n",
    "AMAEDW = pyodbc.connect(w)"
   ]
  },
  {
   "cell_type": "code",
   "execution_count": null,
   "metadata": {},
   "outputs": [],
   "source": [
    "#Define universe\n",
    "ov_me_sql = '''\n",
    "    SELECT medical_education_number FROM ONEVIEW.physician\n",
    "    '''\n",
    "ov_me = pd.read_sql_query(ov_me_sql, conn)"
   ]
  },
  {
   "cell_type": "code",
   "execution_count": null,
   "metadata": {},
   "outputs": [],
   "source": [
    "#Get party ids\n",
    "ME_QUERY = \\\n",
    "    \"\"\"\n",
    "    SELECT\n",
    "    P.PARTY_ID,\n",
    "    P.KEY_VAL AS ME\n",
    "    FROM\n",
    "    AMAEDW.PARTY_KEY P\n",
    "    WHERE\n",
    "    P.KEY_TYPE_ID = 18\n",
    "    AND\n",
    "    P.ACTIVE_IND = 'Y'\n",
    "    \"\"\"\n",
    "party_ids = pd.read_sql(con=AMAEDW, sql=ME_QUERY)"
   ]
  },
  {
   "cell_type": "code",
   "execution_count": null,
   "metadata": {},
   "outputs": [],
   "source": [
    "#get school party ids\n",
    "MORE_SCHOOL_QUERY = \\\n",
    "    \"\"\"\n",
    "    SELECT\n",
    "    PARTY_ID AS PARTY_ID_SCHOOL,\n",
    "    KEY_VAL AS SCHOOL_ID\n",
    "    FROM\n",
    "    AMAEDW.PARTY_KEY\n",
    "    WHERE\n",
    "    KEY_TYPE_ID = 23\n",
    "    \"\"\"\n",
    "more_school_ids = pd.read_sql(con=AMAEDW, sql=MORE_SCHOOL_QUERY)"
   ]
  },
  {
   "cell_type": "code",
   "execution_count": null,
   "metadata": {},
   "outputs": [],
   "source": [
    "#get school information\n",
    "SCHOOL_QUERY = \\\n",
    "    \"\"\"\n",
    "    SELECT\n",
    "    P.PARTY_ID AS PARTY_ID_SCHOOL,\n",
    "    P.KEY_VAL AS SCHOOL_ID,\n",
    "    C.STATE_ID,\n",
    "    C.COUNTRY_ID\n",
    "    FROM\n",
    "    AMAEDW.PARTY_KEY P, AMAEDW.POST_CD C, AMAEDW.PARTY_ADDR A\n",
    "    WHERE\n",
    "    P.KEY_TYPE_ID = 23\n",
    "    AND\n",
    "    P.PARTY_ID = A.PARTY_ID\n",
    "    AND \n",
    "    A.POST_CD_ID = C.POST_CD_ID\n",
    "    \"\"\"\n",
    "school_ids = pd.read_sql(con=AMAEDW, sql=SCHOOL_QUERY)"
   ]
  },
  {
   "cell_type": "code",
   "execution_count": null,
   "metadata": {},
   "outputs": [],
   "source": [
    "#get med school graduation info\n",
    "MED_SCHOOL_QUERY = \\\n",
    "    \"\"\"\n",
    "    SELECT\n",
    "    SCH_PARTY_ID,\n",
    "    STU_PARTY_ID AS PARTY_ID,\n",
    "    GRAD_DT,\n",
    "    STS_TYPE_ID,\n",
    "    DEGREE_CD,\n",
    "    GRAD_CONF_IND\n",
    "    FROM\n",
    "    AMAEDW.SCHOOL_ATT\n",
    "    WHERE\n",
    "    THRU_DT is null\n",
    "    \"\"\"\n",
    "med_school = pd.read_sql(con=AMAEDW, sql=MED_SCHOOL_QUERY)"
   ]
  },
  {
   "cell_type": "code",
   "execution_count": null,
   "metadata": {},
   "outputs": [],
   "source": [
    "#get GME info\n",
    "GME_QUERY = \\\n",
    "    \"\"\"\n",
    "    SELECT\n",
    "    G.PARTY_HOSPITAL_ID,\n",
    "    G.PERSON_PARTY_ID AS PARTY_ID,\n",
    "    G.BEGIN_DT,\n",
    "    G.END_DT,\n",
    "    G.PRIM_SPEC_ID,\n",
    "    G.SEC_SPEC_ID,\n",
    "    G.TRAIN_TYPE,\n",
    "    G.CONF_STS_ID,\n",
    "    G.GME_STS_TYPE_CD,\n",
    "    C.STATE_ID,\n",
    "    C.COUNTRY_ID\n",
    "    FROM\n",
    "    AMAEDW.EDW_GME G, AMAEDW.POST_CD C, AMAEDW.PARTY_ADDR A\n",
    "    WHERE\n",
    "    G.THRU_DT is null\n",
    "    AND\n",
    "    G.PARTY_HOSPITAL_ID = A.PARTY_ID\n",
    "    AND \n",
    "    A.POST_CD_ID = C.POST_CD_ID\n",
    "    \"\"\"\n",
    "gme = pd.read_sql(con=AMAEDW, sql=GME_QUERY)"
   ]
  },
  {
   "cell_type": "code",
   "execution_count": null,
   "metadata": {},
   "outputs": [],
   "source": [
    "#get gme years\n",
    "YEAR_QUERY = \\\n",
    "    \"\"\"\n",
    "    SELECT\n",
    "    PARTY_ID, \n",
    "    PROG_YEAR,\n",
    "    PROG_GRAD_YR\n",
    "    FROM\n",
    "    AMAEDW.MED_PROF\n",
    "    WHERE\n",
    "    THRU_DT is null\n",
    "    \"\"\"\n",
    "gme_year = pd.read_sql(con=AMAEDW, sql=YEAR_QUERY)"
   ]
  },
  {
   "cell_type": "code",
   "execution_count": null,
   "metadata": {},
   "outputs": [],
   "source": [
    "#get hospital names\n",
    "ORG_QUERY = \\\n",
    "    \"\"\"\n",
    "    SELECT\n",
    "    PARTY_ID AS PARTY_HOSPITAL_ID,\n",
    "    ORG_NM, \n",
    "    THRU_DT\n",
    "    FROM\n",
    "    AMAEDW.ORG_NM\n",
    "    \"\"\"\n",
    "org_names = pd.read_sql(con=AMAEDW, sql=ORG_QUERY)"
   ]
  },
  {
   "cell_type": "code",
   "execution_count": null,
   "metadata": {},
   "outputs": [],
   "source": [
    "#get latest organization names\n",
    "org_names.THRU_DT = pd.to_datetime(org_names.THRU_DT)\n",
    "org_names = org_names.sort_values('THRU_DT').drop_duplicates('PARTY_HOSPITAL_ID', keep='last')"
   ]
  },
  {
   "cell_type": "code",
   "execution_count": null,
   "metadata": {},
   "outputs": [],
   "source": [
    "#remove duplicate school ids\n",
    "school_ids = school_ids.drop_duplicates()"
   ]
  },
  {
   "cell_type": "code",
   "execution_count": null,
   "metadata": {},
   "outputs": [],
   "source": [
    "#find people with only one gme \n",
    "gme_singular = gme.drop_duplicates('PARTY_ID')"
   ]
  },
  {
   "cell_type": "code",
   "execution_count": null,
   "metadata": {},
   "outputs": [],
   "source": [
    "#concat all schools\n",
    "extra = more_school_ids[~more_school_ids.SCHOOL_ID.isin(school_ids.SCHOOL_ID)]\n",
    "school_ids = pd.concat([school_ids, extra])"
   ]
  },
  {
   "cell_type": "code",
   "execution_count": null,
   "metadata": {},
   "outputs": [],
   "source": [
    "#add information to medical school and gme tables\n",
    "test = pd.merge(party_ids, ov_me[['medical_education_number', 'type']], left_on='ME', right_on='medical_education_number')\n",
    "school_info = pd.merge(school_ids, org_names, left_on='PARTY_ID_SCHOOL', right_on='PARTY_HOSPITAL_ID', how='left').drop_duplicates()\n",
    "med_with_info = pd.merge(med_school, school_info, left_on='SCH_PARTY_ID', right_on='PARTY_ID_SCHOOL', how='left').drop_duplicates()\n",
    "gme_with_info = pd.merge(gme_singular, org_names, on='PARTY_HOSPITAL_ID', how='left').drop_duplicates()"
   ]
  },
  {
   "cell_type": "code",
   "execution_count": null,
   "metadata": {},
   "outputs": [],
   "source": [
    "#change grad date to datetime\n",
    "date_list = []\n",
    "for row in med_with_info.itertuples():\n",
    "    try:\n",
    "        new_date = datetime.datetime.strptime(str(row.GRAD_DT), '%Y-%m-%d')\n",
    "    except:\n",
    "        new_date = None\n",
    "    date_list.append(new_date)\n",
    "med_with_info['GRAD_DATE'] = date_list\n",
    "med_with_info = med_with_info.sort_values('GRAD_DATE')"
   ]
  },
  {
   "cell_type": "code",
   "execution_count": null,
   "metadata": {},
   "outputs": [],
   "source": [
    "#add country and status codes\n",
    "countries = []\n",
    "statuses = []\n",
    "for row in med_with_info.itertuples():\n",
    "    country = 0\n",
    "    status = 0\n",
    "    if row.COUNTRY_ID == 6705:\n",
    "        country = 1\n",
    "    if row.STS_TYPE_ID == 9:\n",
    "        status = 2\n",
    "    if row.STS_TYPE_ID == 54:\n",
    "        status = 1\n",
    "    countries.append(country)\n",
    "    statuses.append(status)\n",
    "med_with_info['COUNTRY'] = countries\n",
    "med_with_info['STATUS'] = statuses\n",
    "med_with_info = med_with_info.sort_values(['STATUS','COUNTRY','GRAD_DATE'])"
   ]
  },
  {
   "cell_type": "code",
   "execution_count": null,
   "metadata": {},
   "outputs": [],
   "source": [
    "#when people have multiple medical school entries, grab the most recent\n",
    "singular_medical_schools = med_with_info.drop_duplicates('PARTY_ID', keep=False)\n",
    "multiple_medical_schools = med_with_info[med_with_info.duplicated('PARTY_ID', keep=False)]\n",
    "latest_medical_school = multiple_medical_schools.drop_duplicates('PARTY_ID', keep='last')\n",
    "med_with_info_2 = pd.concat([singular_medical_schools, latest_medical_school])"
   ]
  },
  {
   "cell_type": "code",
   "execution_count": null,
   "metadata": {},
   "outputs": [],
   "source": [
    "#merge with pandas\n",
    "ALL = pd.merge(test, gme_year, on='PARTY_ID', how='left')\n",
    "ALL = pd.merge(ALL, med_with_info_2, on='PARTY_ID',how='left')\n",
    "ALL = pd.merge(ALL, gme_with_info, on='PARTY_ID', how='left', suffixes = ['_SCH', '_GME'])"
   ]
  }
 ],
 "metadata": {
  "kernelspec": {
   "display_name": "Python 3 (ipykernel)",
   "language": "python",
   "name": "python3"
  },
  "language_info": {
   "codemirror_mode": {
    "name": "ipython",
    "version": 3
   },
   "file_extension": ".py",
   "mimetype": "text/x-python",
   "name": "python",
   "nbconvert_exporter": "python",
   "pygments_lexer": "ipython3",
   "version": "3.10.7"
  }
 },
 "nbformat": 4,
 "nbformat_minor": 2
}
