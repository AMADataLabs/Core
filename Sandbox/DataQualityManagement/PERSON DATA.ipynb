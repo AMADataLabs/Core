{
 "cells": [
  {
   "cell_type": "code",
   "execution_count": 2,
   "metadata": {},
   "outputs": [],
   "source": [
    "import pandas as pd\n",
    "import psycopg2\n",
    "import pyodbc\n",
    "import datetime\n",
    "import warnings"
   ]
  },
  {
   "cell_type": "code",
   "execution_count": null,
   "metadata": {},
   "outputs": [],
   "source": [
    "warnings.filterwarnings('ignore')"
   ]
  },
  {
   "cell_type": "code",
   "execution_count": 1,
   "metadata": {},
   "outputs": [],
   "source": [
    "#Passwords\n",
    "ONEVIEW_PASSWORD = ''\n",
    "EDW_USERNAME = ''\n",
    "EDW_PASSWORD = 'Slytherin10946!'\n",
    "AIMS_USERNAME = 'vigrose'\n",
    "AIMS_PASSWORD = 'DQA8K@T7pXEqEt'"
   ]
  },
  {
   "cell_type": "code",
   "execution_count": 3,
   "metadata": {},
   "outputs": [],
   "source": [
    "#Standardize ME format function\n",
    "def fix_me(me_list):\n",
    "    nums = []\n",
    "    for num in me_list:\n",
    "        num = str(num)\n",
    "        num = num.replace('.0','')\n",
    "        num = '{:0>11}'.format(num)\n",
    "        nums.append(num)\n",
    "    return(nums)"
   ]
  },
  {
   "cell_type": "code",
   "execution_count": 4,
   "metadata": {},
   "outputs": [],
   "source": [
    "#OneView connection\n",
    "conn = psycopg2.connect(\n",
    "    host='oneview-prd-content-aurora-cluster.cluster-cxgp9osuwqi3.us-east-1.rds.amazonaws.com',\n",
    "    database='oneview_content',\n",
    "    user='oneviewadmin',\n",
    "    password= ONEVIEW_PASSWORD)"
   ]
  },
  {
   "cell_type": "code",
   "execution_count": 5,
   "metadata": {},
   "outputs": [],
   "source": [
    "#EDW connection\n",
    "w = \"DSN=PRDDW; UID={}; PWD={}\".format(EDW_USERNAME, EDW_PASSWORD)\n",
    "AMAEDW = pyodbc.connect(w)"
   ]
  },
  {
   "cell_type": "code",
   "execution_count": 6,
   "metadata": {},
   "outputs": [],
   "source": [
    "#AIMS connection\n",
    "s = \"DSN=aims_prod; UID={}; PWD={}\".format(AIMS_USERNAME, AIMS_PASSWORD)\n",
    "informix = pyodbc.connect(s)"
   ]
  },
  {
   "cell_type": "code",
   "execution_count": 7,
   "metadata": {},
   "outputs": [
    {
     "name": "stderr",
     "output_type": "stream",
     "text": [
      "C:\\Users\\vigrose\\AppData\\Local\\Programs\\Python\\Python310\\lib\\site-packages\\pandas\\io\\sql.py:761: UserWarning: pandas only support SQLAlchemy connectable(engine/connection) ordatabase string URI or sqlite3 DBAPI2 connectionother DBAPI2 objects are not tested, please consider using SQLAlchemy\n",
      "  warnings.warn(\n"
     ]
    }
   ],
   "source": [
    "#Define universe\n",
    "ov_me_sql = '''\n",
    "    SELECT medical_education_number FROM ONEVIEW.physician\n",
    "    '''\n",
    "ov_me = pd.read_sql_query(ov_me_sql, conn)"
   ]
  },
  {
   "cell_type": "code",
   "execution_count": 8,
   "metadata": {},
   "outputs": [],
   "source": [
    "#Get race/ethnicity file from UDrive (AIMS table is limited access)\n",
    "race = pd.read_csv('U:/Source Files/Data Analytics/Data-Science/Data/Masterfile_OneVIew/PhysicianRaceEthnicity_2_2022-05-02.csv')\n",
    "race.medical_education_number = fix_me(race.medical_education_number)"
   ]
  },
  {
   "cell_type": "code",
   "execution_count": 9,
   "metadata": {},
   "outputs": [
    {
     "name": "stderr",
     "output_type": "stream",
     "text": [
      "C:\\Users\\vigrose\\AppData\\Local\\Programs\\Python\\Python310\\lib\\site-packages\\pandas\\io\\sql.py:761: UserWarning: pandas only support SQLAlchemy connectable(engine/connection) ordatabase string URI or sqlite3 DBAPI2 connectionother DBAPI2 objects are not tested, please consider using SQLAlchemy\n",
      "  warnings.warn(\n"
     ]
    }
   ],
   "source": [
    "#Get person type from AIMS\n",
    "#FYI, querying from AIMS can often take a minute over the VPN \n",
    "type_query = \\\n",
    "    \"\"\"\n",
    "    SELECT\n",
    "    ENTITY_ID,\n",
    "    PERSON_TYPE\n",
    "    FROM\n",
    "    informix.PERSON_ROLE_ET\n",
    "    WHERE\n",
    "    ACTIVE_IND = 'Y'\n",
    "    ;\n",
    "    \"\"\"\n",
    "TYPE = pd.read_sql(con=informix, sql=type_query)\n",
    "TYPE.columns = [x.upper() for x in TYPE.columns.values]\n",
    "TYPE.ENTITY_ID = TYPE.ENTITY_ID.astype(str)"
   ]
  },
  {
   "cell_type": "code",
   "execution_count": 11,
   "metadata": {},
   "outputs": [
    {
     "name": "stderr",
     "output_type": "stream",
     "text": [
      "C:\\Users\\vigrose\\AppData\\Local\\Programs\\Python\\Python310\\lib\\site-packages\\pandas\\io\\sql.py:761: UserWarning: pandas only support SQLAlchemy connectable(engine/connection) ordatabase string URI or sqlite3 DBAPI2 connectionother DBAPI2 objects are not tested, please consider using SQLAlchemy\n",
      "  warnings.warn(\n"
     ]
    }
   ],
   "source": [
    "#Get party IDs and MEs\n",
    "PARTY_QUERY = \\\n",
    "    \"\"\"\n",
    "    SELECT\n",
    "    P.PARTY_ID,\n",
    "    P.KEY_VAL AS ME,\n",
    "    P.UPDATE_TMSTP,\n",
    "    P.ACTIVE_IND\n",
    "    FROM\n",
    "    AMAEDW.PARTY_KEY P\n",
    "    WHERE\n",
    "    P.KEY_TYPE_ID = 18\n",
    "    \"\"\"\n",
    "PARTY_IDS = pd.read_sql(con=AMAEDW, sql=PARTY_QUERY)"
   ]
  },
  {
   "cell_type": "code",
   "execution_count": 12,
   "metadata": {},
   "outputs": [
    {
     "name": "stderr",
     "output_type": "stream",
     "text": [
      "C:\\Users\\vigrose\\AppData\\Local\\Programs\\Python\\Python310\\lib\\site-packages\\pandas\\io\\sql.py:761: UserWarning: pandas only support SQLAlchemy connectable(engine/connection) ordatabase string URI or sqlite3 DBAPI2 connectionother DBAPI2 objects are not tested, please consider using SQLAlchemy\n",
      "  warnings.warn(\n"
     ]
    }
   ],
   "source": [
    "#Get entity ids\n",
    "ENTITY_QUERY = \\\n",
    "    \"\"\"\n",
    "    SELECT\n",
    "    P.PARTY_ID,\n",
    "    P.KEY_VAL AS ENTITY_ID\n",
    "    FROM\n",
    "    AMAEDW.PARTY_KEY P\n",
    "    WHERE\n",
    "    P.KEY_TYPE_ID = 9\n",
    "    \"\"\"\n",
    "ENTITY_IDS = pd.read_sql(con=AMAEDW, sql=ENTITY_QUERY)"
   ]
  },
  {
   "cell_type": "code",
   "execution_count": null,
   "metadata": {},
   "outputs": [],
   "source": [
    "#Get person name information\n",
    "NAME_QUERY = \\\n",
    "    \"\"\"\n",
    "    SELECT\n",
    "    FIRST_NM, MIDDLE_NM, LAST_NM, SUFFIX, LABEL_NM, NM_TYPE, PARTY_ID\n",
    "    FROM\n",
    "    AMAEDW.PERSON_NM\n",
    "    WHERE\n",
    "    THRU_DT IS NULL\n",
    "    AND\n",
    "    NM_TYPE='LN'\n",
    "    \"\"\"\n",
    "NAMES = pd.read_sql(con=AMAEDW, sql=NAME_QUERY)"
   ]
  },
  {
   "cell_type": "code",
   "execution_count": null,
   "metadata": {},
   "outputs": [],
   "source": [
    "#get other person info\n",
    "PERSON_QUERY = \\\n",
    "    \"\"\"\n",
    "    SELECT\n",
    "    BIRTH_DT, BIRTH_CITY_NM, BIRTH_STATE_ID, BIRTH_COUNTRY_ID, GENDER_CD, MORTALITY_STS_CD, DEATH_DT, MED_EDU_NBR, PARTY_ID\n",
    "    FROM\n",
    "    AMAEDW.PERSON\n",
    "    WHERE\n",
    "    ACTIVE_IND = 'Y'\n",
    "    \"\"\"\n",
    "PERSONS = pd.read_sql(con=AMAEDW, sql=PERSON_QUERY)"
   ]
  },
  {
   "cell_type": "code",
   "execution_count": 26,
   "metadata": {},
   "outputs": [],
   "source": [
    "#Merge with pandas\n",
    "ids = pd.merge(ENTITY_IDS, PARTY_IDS, on='PARTY_ID')\n",
    "person_data = pd.merge(ids, ov_me, left_on='ME', right_on='medical_education_number', how='right')\n",
    "person_data = pd.merge(person_data, TYPE, on='ENTITY_ID',how='left').drop_duplicates()\n",
    "person_data = pd.merge(person_data, NAMES, on='PARTY_ID',how='left').drop_duplicates()\n",
    "person_data = pd.merge(person_data, RACE, on='medical_education_number', how='left')\n",
    "person_data = pd.merge(person_data, PERSONS, on='PARTY_ID',how='left').drop_duplicates()"
   ]
  },
  {
   "cell_type": "code",
   "execution_count": null,
   "metadata": {},
   "outputs": [],
   "source": []
  }
 ],
 "metadata": {
  "kernelspec": {
   "display_name": "Python 3 (ipykernel)",
   "language": "python",
   "name": "python3"
  },
  "language_info": {
   "codemirror_mode": {
    "name": "ipython",
    "version": 3
   },
   "file_extension": ".py",
   "mimetype": "text/x-python",
   "name": "python",
   "nbconvert_exporter": "python",
   "pygments_lexer": "ipython3",
   "version": "3.10.7"
  }
 },
 "nbformat": 4,
 "nbformat_minor": 2
}
