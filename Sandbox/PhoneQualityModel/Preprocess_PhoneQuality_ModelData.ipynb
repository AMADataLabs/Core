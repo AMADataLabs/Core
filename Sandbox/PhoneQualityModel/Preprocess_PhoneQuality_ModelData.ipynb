{
 "cells": [
  {
   "cell_type": "markdown",
   "metadata": {},
   "source": [
    "Import packages required"
   ]
  },
  {
   "cell_type": "code",
   "execution_count": 1,
   "metadata": {},
   "outputs": [],
   "source": [
    "%load_ext autoreload\n",
    "%autoreload 2"
   ]
  },
  {
   "cell_type": "code",
   "execution_count": 2,
   "metadata": {},
   "outputs": [],
   "source": [
    "import numpy as np\n",
    "import pandas as pd\n",
    "import math\n",
    "import matplotlib.pyplot as plt\n",
    "import pylab as pl\n",
    "import datetime\n",
    "from sklearn.model_selection import train_test_split\n",
    "from shutil import copyfile\n"
   ]
  },
  {
   "cell_type": "code",
   "execution_count": 3,
   "metadata": {},
   "outputs": [],
   "source": [
    "import datetime\n",
    "import os\n",
    "import sys\n",
    "import tkinter as tk\n",
    "from tkinter import filedialog\n",
    "import warnings\n",
    "\n",
    "import settings"
   ]
  },
  {
   "cell_type": "code",
   "execution_count": 4,
   "metadata": {},
   "outputs": [],
   "source": [
    "from process_model_data import convert_data_types, create_new_phone_vars, clean_model_data \n",
    "from process_model_data import create_explore_plots\n",
    "from create_phone_model_input_data import create_model_initial_data\n",
    "from get_entity_ppd_info import clean_ent_comm_data, clean_phn_data, clean_ent_usg_data\n",
    "from get_entity_ppd_info import clean_fone_zr_data, create_ent_me_data\n",
    "\n"
   ]
  },
  {
   "cell_type": "code",
   "execution_count": 6,
   "metadata": {},
   "outputs": [],
   "source": [
    "from get_input_date_range import get_input_date_range\n",
    "import datalabs.curate.dataframe as df\n",
    "from remove_col_name_float_pt import remove_col_name_float_pt\n",
    "from get_wslive_res_init_ppd_info import get_latest_uniq_wslive\n"
   ]
  },
  {
   "cell_type": "markdown",
   "metadata": {},
   "source": [
    "Suppress warnings that do not affect execution"
   ]
  },
  {
   "cell_type": "code",
   "execution_count": 7,
   "metadata": {},
   "outputs": [],
   "source": [
    "import sklearn.exceptions\n",
    "warnings.filterwarnings(\"ignore\")\n",
    "\n",
    "pd.options.mode.chained_assignment = None\n"
   ]
  },
  {
   "cell_type": "markdown",
   "metadata": {},
   "source": [
    "# ------------------------------ Define Common Functions ---------------------------------------"
   ]
  },
  {
   "cell_type": "code",
   "execution_count": 8,
   "metadata": {},
   "outputs": [],
   "source": [
    "def get_target_dist(data_df, target_var_name):\n",
    "    num_target_0 = sum(data_df[target_var_name] == 0)\n",
    "    num_target_1 = sum(data_df[target_var_name] == 1)\n",
    "    perc_target_0 = num_target_0/(num_target_0 + num_target_1)\n",
    "    perc_target_1 = num_target_1/(num_target_0 + num_target_1)\n",
    "\n",
    "    print('Number of {} 0: {}'.format(target_var_name, num_target_0))\n",
    "    print('Number of {} 1: {}'.format(target_var_name, num_target_1))\n",
    "    print('Percent of {} with value 0: {}'.format(target_var_name, perc_target_0))\n",
    "    print('Percent of {} with value 1: {}'.format(target_var_name, perc_target_1))"
   ]
  },
  {
   "cell_type": "markdown",
   "metadata": {},
   "source": [
    "# ------------------------------ Assign Common Variables ----------------------------------------"
   ]
  },
  {
   "cell_type": "markdown",
   "metadata": {},
   "source": [
    "Get paths required"
   ]
  },
  {
   "cell_type": "code",
   "execution_count": 9,
   "metadata": {},
   "outputs": [],
   "source": [
    "# Get files needed\n",
    "#ddb_info_file = filedialog.askopenfilename(initialdir = \"C:\\\\\",\n",
    "#                                       title = \"Choose txt file with database login information...\")\n",
    "\n",
    "init_wslive_dir = 'U:\\\\Source Files\\\\Data Analytics\\\\Data-Science\\\\Data\\\\WSLive\\\\'\n",
    "wslive_results_file = filedialog.askopenfilename(initialdir = init_wslive_dir,\n",
    "                                         title = \"Choose wslive file with results encoded...\")\n",
    "\n",
    "init_ppd_dir = 'U:\\\\Source Files\\\\Data Analytics\\\\Data-Science\\\\Data\\\\PPD\\\\'\n",
    "ppd_file_lst = filedialog.askopenfilenames(initialdir = init_ppd_dir,\n",
    "                                        title = \\\n",
    "                                        \"Choose the PPD files used to generate the WSLive samples...\")\n",
    "\n",
    "init_save_path = 'U:\\\\Source Files\\\\Data Analytics\\\\Data-Science\\\\Data\\\\Phone_Quality_Model\\\\'\n",
    "base_save_path = filedialog.askdirectory(initialdir = init_save_path,\n",
    "                                         title = \"Choose base save directory...\")\n",
    "base_save_path = base_save_path.replace(\"/\", \"\\\\\")\n",
    "base_save_path += \"\\\\\"\n",
    "\n",
    "init_ent_comm_dir = 'C:\\\\'\n",
    "ent_comm_file = filedialog.askopenfilename(initialdir = init_ent_comm_dir,\n",
    "                                         title = \\\n",
    "                                         \"Choose the entity_comm_at data csv file...\")\n",
    "\n",
    "ent_comm_usg_file = filedialog.askopenfilename(title = \\\n",
    "                                         \"Choose the entity_comm_usg_at data csv file...\")\n",
    "\n",
    "phone_file = filedialog.askopenfilename(title = \\\n",
    "                                            \"Choose the phone_at data csv file...\")\n",
    "\n",
    "license_file = filedialog.askopenfilename(title = \\\n",
    "                                            \"Choose the license_lt data csv file...\")\n",
    "\n",
    "ent_key_file = filedialog.askopenfilename(title = \\\n",
    "                                            \"Choose the entity_key_et data csv file...\")\n",
    "\n",
    "fone_zr_file = filedialog.askopenfilename(title = \\\n",
    "                                            \"Choose the fone_zr data csv file...\")\n"
   ]
  },
  {
   "cell_type": "markdown",
   "metadata": {},
   "source": [
    "Define variables needed throughout code"
   ]
  },
  {
   "cell_type": "code",
   "execution_count": 10,
   "metadata": {},
   "outputs": [],
   "source": [
    "model_vars = ['correct', 'lic_state_match', 'dpc', 'res', 'pcp', 'yop', \n",
    "                       'doctor_age_yrs', 'polo_ind', 'ppd_address_type', 'ppd_region', 'ppd_division', \n",
    "                       'ppd_group', 'ppd_msa_population_size', 'ppd_md_do_code', 'ppd_micro_metro_ind', \n",
    "                       'ppd_gender', 'phone_age_yrs', 'yop_yrs', 'ppd_top_cd', 'ppd_pe_cd', \n",
    "                       'ppd_prim_spec_cd', 'ppd_polo_state', 'ent_comm_src_cat_code', 'ent_comm_comm_type',\n",
    "                       'hist_ent_id_phn_count', 'hist_ent_all_phn_count', 'curr_ent_id_phn_count', \n",
    "                       'curr_ent_all_phn_count', 'curr_usg_all_phn_count', 'area_state_match']\n",
    "\n",
    "info_vars = ['ppd_me', 'ppd_first_name', 'ppd_middle_name', 'ppd_last_name', 'ppd_suffix', \n",
    "             'ppd_polo_mailing_line_1', 'ppd_polo_mailing_line_2', 'ppd_polo_city', \n",
    "             'ppd_polo_state', 'ppd_polo_zip',\n",
    "             'ppd_telephone_number', 'ppd_prim_spec_cd', 'ppd_pe_cd', 'ppd_fax_number', \n",
    "             'INIT_POLO_MAILING_LINE_1', 'INIT_POLO_MAILING_LINE_2', 'INIT_POLO_CITY', \n",
    "             'INIT_POLO_STATE', 'INIT_POLO_ZIP', 'INIT_TELEPHONE_NUMBER', 'INIT_FAX_NUMBER',\n",
    "             'INIT_SAMPLE_MAX_PERFORM_MONTH', 'INIT_SAMPLE_SENT_MONTH', 'INIT_SAMPLE_DATE', \n",
    "             'OFFICE_ADDRESS_LINE_2', 'OFFICE_ADDRESS_LINE_1', 'OFFICE_ADDRESS_CITY', \n",
    "             'OFFICE_ADDRESS_STATE', 'OFFICE_ADDRESS_ZIP', 'OFFICE_TELEPHONE', \n",
    "             'OFFICE_FAX', 'WS_MONTH', 'COMMENTS', 'WSLIVE_FILE_DT', 'SOURCE', 'PPD_DATE',\n",
    "             'PHONE_STATUS', 'aims_phone', 'ent_comm_comm_type', 'ent_comm_begin_dt', \n",
    "             'ent_comm_end_dt', 'ent_comm_comm_id', 'ent_comm_entity_id']\n",
    "\n",
    "target_name = 'correct'\n",
    "file_base_name = 'PhoneQualityModel'\n",
    "\n",
    "\n",
    "rand_state = 45\n",
    "testing_size = 0.2\n"
   ]
  },
  {
   "cell_type": "markdown",
   "metadata": {},
   "source": [
    "Get current time and create string"
   ]
  },
  {
   "cell_type": "code",
   "execution_count": 11,
   "metadata": {},
   "outputs": [],
   "source": [
    "current_time = datetime.datetime.now()\n",
    "start_time_str = current_time.strftime(\"%Y-%m-%d\")"
   ]
  },
  {
   "cell_type": "markdown",
   "metadata": {},
   "source": [
    "Create model output directory based on date"
   ]
  },
  {
   "cell_type": "code",
   "execution_count": 12,
   "metadata": {},
   "outputs": [],
   "source": [
    "data_path = base_save_path + 'Data\\\\'\n",
    "\n",
    "if not os.path.exists(data_path):\n",
    "    os.mkdir(data_path)\n",
    "    \n",
    "data_save_path = data_path + start_time_str + '_Model_Data\\\\'\n",
    "\n",
    "if not os.path.exists(data_save_path):\n",
    "    os.mkdir(data_save_path)\n"
   ]
  },
  {
   "cell_type": "markdown",
   "metadata": {},
   "source": [
    "Create exploratory output directory based on date"
   ]
  },
  {
   "cell_type": "code",
   "execution_count": 13,
   "metadata": {},
   "outputs": [],
   "source": [
    "explore_path = data_save_path + 'Exploratory\\\\'\n",
    "\n",
    "if not os.path.exists(explore_path):\n",
    "    os.mkdir(explore_path)\n"
   ]
  },
  {
   "cell_type": "markdown",
   "metadata": {},
   "source": [
    "# ------------------------------- Import Data ------------------------------------------"
   ]
  },
  {
   "cell_type": "markdown",
   "metadata": {},
   "source": [
    "Get time frame of WSLive data to use"
   ]
  },
  {
   "cell_type": "code",
   "execution_count": 14,
   "metadata": {},
   "outputs": [
    {
     "name": "stdout",
     "output_type": "stream",
     "text": [
      "Enter starting year (4 digit format): 2019\n",
      "Enter starting month (numeric value, Jan = 1): 3\n",
      "Enter starting day (default = 1): \n",
      "Enter ending year (4 digit format): 2019\n",
      "Enter ending month (numeric value, Jan = 1): 8\n",
      "Enter ending day (default = last day of month): \n"
     ]
    }
   ],
   "source": [
    "start_date, end_date, date_range_str = get_input_date_range()"
   ]
  },
  {
   "cell_type": "markdown",
   "metadata": {},
   "source": [
    "Get samples sent to Humach for dates chosen"
   ]
  },
  {
   "cell_type": "code",
   "execution_count": 15,
   "metadata": {},
   "outputs": [],
   "source": [
    "init_sample_dir = \\\n",
    "    'U:\\\\Source Files\\\\Data Analytics\\\\Data-Science\\\\Data\\\\WSLive\\\\Model_Init_Samples\\\\'\n",
    "init_sample_file_lst = filedialog.askopenfilenames(initialdir = init_sample_dir,\n",
    "                       title = \\\n",
    "                       \"Choose the WSLive standard samples sent to Humach for dates chosen...\")\n"
   ]
  },
  {
   "cell_type": "markdown",
   "metadata": {},
   "source": [
    "Get WSLive data for time frame indicated"
   ]
  },
  {
   "cell_type": "code",
   "execution_count": 16,
   "metadata": {},
   "outputs": [],
   "source": [
    "# Read in wslive data\n",
    "wslive_results_df = pd.read_csv(wslive_results_file, delimiter = \",\", index_col = None,\n",
    "                                header = 0, dtype = str)\n",
    "wslive_results_df = df.rename_in_upper_case(wslive_results_df)\n"
   ]
  },
  {
   "cell_type": "code",
   "execution_count": 17,
   "metadata": {},
   "outputs": [],
   "source": [
    "# Get data for date range specified\n",
    "wslive_results_df['WSLIVE_FILE_DT'] = pd.to_datetime(wslive_results_df['WSLIVE_FILE_DT'])\n",
    "wslive_date_df = wslive_results_df[(wslive_results_df['WSLIVE_FILE_DT'] >= start_date) & \\\n",
    "                                  (wslive_results_df['WSLIVE_FILE_DT'] <= end_date)]\n"
   ]
  },
  {
   "cell_type": "code",
   "execution_count": 18,
   "metadata": {},
   "outputs": [],
   "source": [
    "# Use only Confirmed data\n",
    "wslive_date_df = df.rename_in_upper_case(wslive_date_df)\n",
    "wslive_res_df = wslive_date_df[(wslive_date_df['PHONE_STATUS'] == 'Confirmed') | \\\n",
    "                               (wslive_date_df['PHONE_STATUS'] == 'Updated') | \\\n",
    "                               (wslive_date_df['PHONE_STATUS'] == 'Known Bad')] \n"
   ]
  },
  {
   "cell_type": "code",
   "execution_count": 19,
   "metadata": {},
   "outputs": [],
   "source": [
    "wslive_uniq_me_df = get_latest_uniq_wslive(wslive_res_df)\n"
   ]
  },
  {
   "cell_type": "code",
   "execution_count": 20,
   "metadata": {},
   "outputs": [
    {
     "data": {
      "text/plain": [
       "(74294, 37)"
      ]
     },
     "execution_count": 20,
     "metadata": {},
     "output_type": "execute_result"
    }
   ],
   "source": [
    "wslive_uniq_me_df.shape"
   ]
  },
  {
   "cell_type": "markdown",
   "metadata": {},
   "source": [
    "Read in entity data"
   ]
  },
  {
   "cell_type": "code",
   "execution_count": 21,
   "metadata": {},
   "outputs": [],
   "source": [
    "ent_comm_df = pd.read_csv(ent_comm_file, delimiter = \",\", index_col = None, header = 0, dtype = str)\n",
    "ent_comm_df = ent_comm_df[ent_comm_df['comm_cat'] == 'P']\n",
    "\n",
    "ent_comm_usg_df = pd.read_csv(ent_comm_usg_file, delimiter = \",\", index_col = None, header = 0, dtype = str)\n",
    "ent_comm_usg_df = ent_comm_usg_df[ent_comm_usg_df['comm_cat'] == 'P']\n",
    "\n",
    "phone_df = pd.read_csv(phone_file, delimiter = \",\", index_col = None, header = 0, dtype = str)\n",
    "\n",
    "license_df = pd.read_csv(license_file, delimiter = \",\", index_col = None, header = 0, dtype = str)\n",
    "\n",
    "ent_key_df = pd.read_csv(ent_key_file, delimiter = \",\", index_col = None, header = 0, dtype = str)\n",
    "\n",
    "fone_zr_df = pd.read_csv(fone_zr_file, delimiter = \",\", index_col = None, header = 0, dtype = str)\n"
   ]
  },
  {
   "cell_type": "code",
   "execution_count": 22,
   "metadata": {},
   "outputs": [],
   "source": [
    "ent_comm_df = clean_ent_comm_data(ent_comm_df)    \n",
    "phone_df = clean_phn_data(phone_df)\n",
    "ent_comm_usg_df = clean_ent_usg_data(ent_comm_usg_df)\n",
    "ent_key_df = create_ent_me_data(ent_key_df)\n",
    "fone_zr_df = clean_fone_zr_data(fone_zr_df)\n"
   ]
  },
  {
   "cell_type": "markdown",
   "metadata": {},
   "source": [
    "Call function to compile data from WSLive, entity tables, and PPD"
   ]
  },
  {
   "cell_type": "code",
   "execution_count": 23,
   "metadata": {
    "scrolled": false
   },
   "outputs": [],
   "source": [
    "orig_db_data = create_model_initial_data(wslive_uniq_me_df, init_sample_file_lst, \n",
    "                                         ppd_file_lst, ent_comm_df, ent_comm_usg_df, \n",
    "                                         phone_df, license_df, ent_key_df, fone_zr_df)\n"
   ]
  },
  {
   "cell_type": "markdown",
   "metadata": {},
   "source": [
    "Display size of original dataset"
   ]
  },
  {
   "cell_type": "code",
   "execution_count": 24,
   "metadata": {},
   "outputs": [
    {
     "data": {
      "text/plain": [
       "(56290, 152)"
      ]
     },
     "execution_count": 24,
     "metadata": {},
     "output_type": "execute_result"
    }
   ],
   "source": [
    "orig_db_data.shape"
   ]
  },
  {
   "cell_type": "code",
   "execution_count": 25,
   "metadata": {},
   "outputs": [
    {
     "data": {
      "text/html": [
       "<div>\n",
       "<style scoped>\n",
       "    .dataframe tbody tr th:only-of-type {\n",
       "        vertical-align: middle;\n",
       "    }\n",
       "\n",
       "    .dataframe tbody tr th {\n",
       "        vertical-align: top;\n",
       "    }\n",
       "\n",
       "    .dataframe thead th {\n",
       "        text-align: right;\n",
       "    }\n",
       "</style>\n",
       "<table border=\"1\" class=\"dataframe\">\n",
       "  <thead>\n",
       "    <tr style=\"text-align: right;\">\n",
       "      <th></th>\n",
       "      <th>0</th>\n",
       "    </tr>\n",
       "  </thead>\n",
       "  <tbody>\n",
       "    <tr>\n",
       "      <th>ppd_address_type</th>\n",
       "      <td>1</td>\n",
       "    </tr>\n",
       "    <tr>\n",
       "      <th>ADDRESS_UNDELIVERABLE_FLAG</th>\n",
       "      <td>NaN</td>\n",
       "    </tr>\n",
       "    <tr>\n",
       "      <th>ADDR_STATUS</th>\n",
       "      <td>Updated</td>\n",
       "    </tr>\n",
       "    <tr>\n",
       "      <th>BIRTH_CITY</th>\n",
       "      <td>MONROEVILLE</td>\n",
       "    </tr>\n",
       "    <tr>\n",
       "      <th>BIRTH_COUNTRY</th>\n",
       "      <td>US1</td>\n",
       "    </tr>\n",
       "    <tr>\n",
       "      <th>BIRTH_STATE</th>\n",
       "      <td>AL</td>\n",
       "    </tr>\n",
       "    <tr>\n",
       "      <th>ppd_birth_year</th>\n",
       "      <td>1975</td>\n",
       "    </tr>\n",
       "    <tr>\n",
       "      <th>BLOCK_GROUP</th>\n",
       "      <td>1</td>\n",
       "    </tr>\n",
       "    <tr>\n",
       "      <th>CARRIER_ROUTE</th>\n",
       "      <td>C044</td>\n",
       "    </tr>\n",
       "    <tr>\n",
       "      <th>CBSA</th>\n",
       "      <td>33660</td>\n",
       "    </tr>\n",
       "    <tr>\n",
       "      <th>CBSA_DIV_IND</th>\n",
       "      <td>1</td>\n",
       "    </tr>\n",
       "    <tr>\n",
       "      <th>CHECK_DIGIT</th>\n",
       "      <td>4</td>\n",
       "    </tr>\n",
       "    <tr>\n",
       "      <th>CITY</th>\n",
       "      <td>MOBILE</td>\n",
       "    </tr>\n",
       "    <tr>\n",
       "      <th>COMMENTS</th>\n",
       "      <td>COMPLETE</td>\n",
       "    </tr>\n",
       "    <tr>\n",
       "      <th>DELIVERY_POINT_CODE</th>\n",
       "      <td>10</td>\n",
       "    </tr>\n",
       "    <tr>\n",
       "      <th>ppd_division</th>\n",
       "      <td>6</td>\n",
       "    </tr>\n",
       "    <tr>\n",
       "      <th>ppd_fax_number</th>\n",
       "      <td>2516391380</td>\n",
       "    </tr>\n",
       "    <tr>\n",
       "      <th>FAX_STATUS</th>\n",
       "      <td>Confirmed</td>\n",
       "    </tr>\n",
       "    <tr>\n",
       "      <th>FIPS_COUNTY</th>\n",
       "      <td>097</td>\n",
       "    </tr>\n",
       "    <tr>\n",
       "      <th>FIPS_STATE</th>\n",
       "      <td>01</td>\n",
       "    </tr>\n",
       "    <tr>\n",
       "      <th>ppd_first_name</th>\n",
       "      <td>ELIZABETH</td>\n",
       "    </tr>\n",
       "    <tr>\n",
       "      <th>FROM_DT</th>\n",
       "      <td>NaN</td>\n",
       "    </tr>\n",
       "    <tr>\n",
       "      <th>ppd_gender</th>\n",
       "      <td>2</td>\n",
       "    </tr>\n",
       "    <tr>\n",
       "      <th>GME_CONF_FLG</th>\n",
       "      <td>Y</td>\n",
       "    </tr>\n",
       "    <tr>\n",
       "      <th>GME_INST_ID</th>\n",
       "      <td>0507</td>\n",
       "    </tr>\n",
       "    <tr>\n",
       "      <th>GME_INST_STATE</th>\n",
       "      <td>20</td>\n",
       "    </tr>\n",
       "    <tr>\n",
       "      <th>GME_SPEC_1</th>\n",
       "      <td>NaN</td>\n",
       "    </tr>\n",
       "    <tr>\n",
       "      <th>GME_SPEC_2</th>\n",
       "      <td>NaN</td>\n",
       "    </tr>\n",
       "    <tr>\n",
       "      <th>ppd_group</th>\n",
       "      <td>6</td>\n",
       "    </tr>\n",
       "    <tr>\n",
       "      <th>INIT_FAX_NUMBER</th>\n",
       "      <td>2516391380</td>\n",
       "    </tr>\n",
       "    <tr>\n",
       "      <th>...</th>\n",
       "      <td>...</td>\n",
       "    </tr>\n",
       "    <tr>\n",
       "      <th>phn_phone_nbr</th>\n",
       "      <td>1300</td>\n",
       "    </tr>\n",
       "    <tr>\n",
       "      <th>aims_phone</th>\n",
       "      <td>2516391300</td>\n",
       "    </tr>\n",
       "    <tr>\n",
       "      <th>ent_me</th>\n",
       "      <td>00102010523</td>\n",
       "    </tr>\n",
       "    <tr>\n",
       "      <th>key_type</th>\n",
       "      <td>ME</td>\n",
       "    </tr>\n",
       "    <tr>\n",
       "      <th>entity_id</th>\n",
       "      <td>1237388</td>\n",
       "    </tr>\n",
       "    <tr>\n",
       "      <th>approval_id</th>\n",
       "      <td>NaN</td>\n",
       "    </tr>\n",
       "    <tr>\n",
       "      <th>active_ind</th>\n",
       "      <td>Y</td>\n",
       "    </tr>\n",
       "    <tr>\n",
       "      <th>insert_user_id</th>\n",
       "      <td>powermrt</td>\n",
       "    </tr>\n",
       "    <tr>\n",
       "      <th>insert_dtm</th>\n",
       "      <td>13JUN1998:13:44:35.080</td>\n",
       "    </tr>\n",
       "    <tr>\n",
       "      <th>update_user_id</th>\n",
       "      <td>aimsbtch</td>\n",
       "    </tr>\n",
       "    <tr>\n",
       "      <th>update_dtm</th>\n",
       "      <td>20JUL1998:20:53:22.076</td>\n",
       "    </tr>\n",
       "    <tr>\n",
       "      <th>opt_lock</th>\n",
       "      <td>0</td>\n",
       "    </tr>\n",
       "    <tr>\n",
       "      <th>hist_ent_id_phn_count</th>\n",
       "      <td>1</td>\n",
       "    </tr>\n",
       "    <tr>\n",
       "      <th>hist_ent_all_phn_count</th>\n",
       "      <td>12</td>\n",
       "    </tr>\n",
       "    <tr>\n",
       "      <th>curr_ent_id_phn_count</th>\n",
       "      <td>1</td>\n",
       "    </tr>\n",
       "    <tr>\n",
       "      <th>curr_ent_all_phn_count</th>\n",
       "      <td>1</td>\n",
       "    </tr>\n",
       "    <tr>\n",
       "      <th>hist_usg_id_phn_count</th>\n",
       "      <td>2</td>\n",
       "    </tr>\n",
       "    <tr>\n",
       "      <th>hist_usg_all_phn_count</th>\n",
       "      <td>24</td>\n",
       "    </tr>\n",
       "    <tr>\n",
       "      <th>curr_usg_id_phn_count</th>\n",
       "      <td>2</td>\n",
       "    </tr>\n",
       "    <tr>\n",
       "      <th>curr_usg_all_phn_count</th>\n",
       "      <td>2</td>\n",
       "    </tr>\n",
       "    <tr>\n",
       "      <th>ent_phn_lic_key</th>\n",
       "      <td>1237388-AL</td>\n",
       "    </tr>\n",
       "    <tr>\n",
       "      <th>lic_match</th>\n",
       "      <td>Y</td>\n",
       "    </tr>\n",
       "    <tr>\n",
       "      <th>FNZR_AREA_CD</th>\n",
       "      <td>251</td>\n",
       "    </tr>\n",
       "    <tr>\n",
       "      <th>FNZR_STATE_CD</th>\n",
       "      <td>AL</td>\n",
       "    </tr>\n",
       "    <tr>\n",
       "      <th>FNZR_FIPS_CD</th>\n",
       "      <td>01097</td>\n",
       "    </tr>\n",
       "    <tr>\n",
       "      <th>FNZR_ZIP_CODE1</th>\n",
       "      <td>36528</td>\n",
       "    </tr>\n",
       "    <tr>\n",
       "      <th>FNZR_ZIP_CODE2</th>\n",
       "      <td>36523</td>\n",
       "    </tr>\n",
       "    <tr>\n",
       "      <th>FNZR_ZIP_CODE3</th>\n",
       "      <td>NaN</td>\n",
       "    </tr>\n",
       "    <tr>\n",
       "      <th>ent_fone_key</th>\n",
       "      <td>1237388-AL</td>\n",
       "    </tr>\n",
       "    <tr>\n",
       "      <th>area_match</th>\n",
       "      <td>Y</td>\n",
       "    </tr>\n",
       "  </tbody>\n",
       "</table>\n",
       "<p>152 rows × 1 columns</p>\n",
       "</div>"
      ],
      "text/plain": [
       "                                                 0\n",
       "ppd_address_type                                 1\n",
       "ADDRESS_UNDELIVERABLE_FLAG                     NaN\n",
       "ADDR_STATUS                                Updated\n",
       "BIRTH_CITY                             MONROEVILLE\n",
       "BIRTH_COUNTRY                                  US1\n",
       "BIRTH_STATE                                     AL\n",
       "ppd_birth_year                                1975\n",
       "BLOCK_GROUP                                      1\n",
       "CARRIER_ROUTE                                 C044\n",
       "CBSA                                         33660\n",
       "CBSA_DIV_IND                                     1\n",
       "CHECK_DIGIT                                      4\n",
       "CITY                                        MOBILE\n",
       "COMMENTS                                  COMPLETE\n",
       "DELIVERY_POINT_CODE                             10\n",
       "ppd_division                                     6\n",
       "ppd_fax_number                          2516391380\n",
       "FAX_STATUS                               Confirmed\n",
       "FIPS_COUNTY                                    097\n",
       "FIPS_STATE                                      01\n",
       "ppd_first_name                           ELIZABETH\n",
       "FROM_DT                                        NaN\n",
       "ppd_gender                                       2\n",
       "GME_CONF_FLG                                     Y\n",
       "GME_INST_ID                                   0507\n",
       "GME_INST_STATE                                  20\n",
       "GME_SPEC_1                                     NaN\n",
       "GME_SPEC_2                                     NaN\n",
       "ppd_group                                        6\n",
       "INIT_FAX_NUMBER                         2516391380\n",
       "...                                            ...\n",
       "phn_phone_nbr                                 1300\n",
       "aims_phone                              2516391300\n",
       "ent_me                                 00102010523\n",
       "key_type                                        ME\n",
       "entity_id                                  1237388\n",
       "approval_id                                    NaN\n",
       "active_ind                                       Y\n",
       "insert_user_id                            powermrt\n",
       "insert_dtm                  13JUN1998:13:44:35.080\n",
       "update_user_id                            aimsbtch\n",
       "update_dtm                  20JUL1998:20:53:22.076\n",
       "opt_lock                                         0\n",
       "hist_ent_id_phn_count                            1\n",
       "hist_ent_all_phn_count                          12\n",
       "curr_ent_id_phn_count                            1\n",
       "curr_ent_all_phn_count                           1\n",
       "hist_usg_id_phn_count                            2\n",
       "hist_usg_all_phn_count                          24\n",
       "curr_usg_id_phn_count                            2\n",
       "curr_usg_all_phn_count                           2\n",
       "ent_phn_lic_key                         1237388-AL\n",
       "lic_match                                        Y\n",
       "FNZR_AREA_CD                                   251\n",
       "FNZR_STATE_CD                                   AL\n",
       "FNZR_FIPS_CD                                 01097\n",
       "FNZR_ZIP_CODE1                               36528\n",
       "FNZR_ZIP_CODE2                               36523\n",
       "FNZR_ZIP_CODE3                                 NaN\n",
       "ent_fone_key                            1237388-AL\n",
       "area_match                                       Y\n",
       "\n",
       "[152 rows x 1 columns]"
      ]
     },
     "execution_count": 25,
     "metadata": {},
     "output_type": "execute_result"
    }
   ],
   "source": [
    "orig_db_data.head(1).T"
   ]
  },
  {
   "cell_type": "markdown",
   "metadata": {},
   "source": [
    "Create new target variable with 1 if phone number was confirmed and 0 if it was updated or known bad"
   ]
  },
  {
   "cell_type": "code",
   "execution_count": 26,
   "metadata": {},
   "outputs": [],
   "source": [
    "orig_db_data[target_name] = 0\n",
    "target_one_ndx = (orig_db_data['PHONE_STATUS'] == 'Confirmed') | ((orig_db_data['PHONE_STATUS'] == 'Updated') & \\\n",
    "    (orig_db_data['INIT_TELEPHONE_NUMBER'] == orig_db_data['OFFICE_TELEPHONE']))\n",
    "orig_db_data.loc[target_one_ndx, target_name] = 1\n"
   ]
  },
  {
   "cell_type": "code",
   "execution_count": 27,
   "metadata": {},
   "outputs": [
    {
     "name": "stdout",
     "output_type": "stream",
     "text": [
      "Number of correct 0: 23008\n",
      "Number of correct 1: 33282\n",
      "Percent of correct with value 0: 0.40874045123467756\n",
      "Percent of correct with value 1: 0.5912595487653224\n"
     ]
    }
   ],
   "source": [
    "get_target_dist(orig_db_data, target_name)"
   ]
  },
  {
   "cell_type": "code",
   "execution_count": 28,
   "metadata": {},
   "outputs": [],
   "source": [
    "orig_db_data_name = data_save_path + start_time_str + '_' + file_base_name + '_OrigDbData.csv'\n",
    "orig_db_data.to_csv(orig_db_data_name, sep = ',', header = True, index = True)\n"
   ]
  },
  {
   "cell_type": "markdown",
   "metadata": {},
   "source": [
    "Set Jupyter so that all output is displayed (not abbreviated with ...)"
   ]
  },
  {
   "cell_type": "code",
   "execution_count": 29,
   "metadata": {},
   "outputs": [],
   "source": [
    "num_rows = orig_db_data.shape[0] + 1\n",
    "num_cols = orig_db_data.shape[1] + 1\n",
    "pd.set_option('max_rows', num_rows)\n",
    "pd.set_option('max_columns', num_cols)\n",
    "np.set_printoptions(threshold=np.inf)"
   ]
  },
  {
   "cell_type": "markdown",
   "metadata": {},
   "source": [
    "# ------------------------------- Convert Data ------------------------------------------"
   ]
  },
  {
   "cell_type": "markdown",
   "metadata": {},
   "source": [
    "Convert dataframe data types to correct ones"
   ]
  },
  {
   "cell_type": "code",
   "execution_count": 30,
   "metadata": {},
   "outputs": [],
   "source": [
    "orig_data = convert_data_types(orig_db_data)"
   ]
  },
  {
   "cell_type": "markdown",
   "metadata": {},
   "source": [
    "# ----------------------------- Create New Model Variables ---------------------------------------"
   ]
  },
  {
   "cell_type": "markdown",
   "metadata": {},
   "source": [
    "Create new training variables"
   ]
  },
  {
   "cell_type": "code",
   "execution_count": 31,
   "metadata": {},
   "outputs": [],
   "source": [
    "orig_data = create_new_phone_vars(orig_data)"
   ]
  },
  {
   "cell_type": "code",
   "execution_count": 32,
   "metadata": {},
   "outputs": [
    {
     "name": "stdout",
     "output_type": "stream",
     "text": [
      "Number of correct 0: 23008\n",
      "Number of correct 1: 33282\n",
      "Percent of correct with value 0: 0.40874045123467756\n",
      "Percent of correct with value 1: 0.5912595487653224\n"
     ]
    }
   ],
   "source": [
    "get_target_dist(orig_data, target_name)"
   ]
  },
  {
   "cell_type": "code",
   "execution_count": 33,
   "metadata": {},
   "outputs": [],
   "source": [
    "orig_data_name = data_save_path + start_time_str + '_' + file_base_name + '_OrigDataB4Clean.csv'\n",
    "orig_data.to_csv(orig_data_name, sep = ',', header = True, index = True)\n"
   ]
  },
  {
   "cell_type": "markdown",
   "metadata": {},
   "source": [
    "# ---------------------------- Create and Clean Model Data --------------------------------------"
   ]
  },
  {
   "cell_type": "code",
   "execution_count": 34,
   "metadata": {},
   "outputs": [],
   "source": [
    "model_data = orig_data.loc[:, model_vars]"
   ]
  },
  {
   "cell_type": "code",
   "execution_count": 35,
   "metadata": {},
   "outputs": [
    {
     "data": {
      "text/plain": [
       "(56290, 30)"
      ]
     },
     "execution_count": 35,
     "metadata": {},
     "output_type": "execute_result"
    }
   ],
   "source": [
    "model_data.shape"
   ]
  },
  {
   "cell_type": "markdown",
   "metadata": {},
   "source": [
    "Clean model data to remove NaN values"
   ]
  },
  {
   "cell_type": "code",
   "execution_count": 41,
   "metadata": {},
   "outputs": [],
   "source": [
    "model_data, orig_data = clean_model_data(model_data, orig_data)"
   ]
  },
  {
   "cell_type": "code",
   "execution_count": 42,
   "metadata": {},
   "outputs": [
    {
     "data": {
      "text/plain": [
       "(50634, 30)"
      ]
     },
     "execution_count": 42,
     "metadata": {},
     "output_type": "execute_result"
    }
   ],
   "source": [
    "model_data.shape"
   ]
  },
  {
   "cell_type": "markdown",
   "metadata": {},
   "source": [
    "Verify NaN values were removed (should be none in the dataset)"
   ]
  },
  {
   "cell_type": "code",
   "execution_count": 43,
   "metadata": {},
   "outputs": [
    {
     "name": "stdout",
     "output_type": "stream",
     "text": [
      "Series([], dtype: int64)\n",
      "[]\n"
     ]
    }
   ],
   "source": [
    "na_cnt = model_data.isna().sum()\n",
    "na_ndx = na_cnt > 0\n",
    "na_cnt_df = na_cnt[na_ndx]\n",
    "print(na_cnt_df)\n",
    "print(na_cnt_df.index.values)"
   ]
  },
  {
   "cell_type": "markdown",
   "metadata": {},
   "source": [
    "Display descriptive statistics for model dataset"
   ]
  },
  {
   "cell_type": "code",
   "execution_count": 44,
   "metadata": {},
   "outputs": [
    {
     "data": {
      "text/html": [
       "<div>\n",
       "<style scoped>\n",
       "    .dataframe tbody tr th:only-of-type {\n",
       "        vertical-align: middle;\n",
       "    }\n",
       "\n",
       "    .dataframe tbody tr th {\n",
       "        vertical-align: top;\n",
       "    }\n",
       "\n",
       "    .dataframe thead th {\n",
       "        text-align: right;\n",
       "    }\n",
       "</style>\n",
       "<table border=\"1\" class=\"dataframe\">\n",
       "  <thead>\n",
       "    <tr style=\"text-align: right;\">\n",
       "      <th></th>\n",
       "      <th>count</th>\n",
       "      <th>unique</th>\n",
       "      <th>top</th>\n",
       "      <th>freq</th>\n",
       "      <th>mean</th>\n",
       "      <th>std</th>\n",
       "      <th>min</th>\n",
       "      <th>25%</th>\n",
       "      <th>50%</th>\n",
       "      <th>75%</th>\n",
       "      <th>max</th>\n",
       "    </tr>\n",
       "  </thead>\n",
       "  <tbody>\n",
       "    <tr>\n",
       "      <th>correct</th>\n",
       "      <td>50634</td>\n",
       "      <td>NaN</td>\n",
       "      <td>NaN</td>\n",
       "      <td>NaN</td>\n",
       "      <td>0.590473</td>\n",
       "      <td>0.491751</td>\n",
       "      <td>0</td>\n",
       "      <td>0</td>\n",
       "      <td>1</td>\n",
       "      <td>1</td>\n",
       "      <td>1</td>\n",
       "    </tr>\n",
       "    <tr>\n",
       "      <th>lic_state_match</th>\n",
       "      <td>50634</td>\n",
       "      <td>2</td>\n",
       "      <td>1</td>\n",
       "      <td>46254</td>\n",
       "      <td>NaN</td>\n",
       "      <td>NaN</td>\n",
       "      <td>NaN</td>\n",
       "      <td>NaN</td>\n",
       "      <td>NaN</td>\n",
       "      <td>NaN</td>\n",
       "      <td>NaN</td>\n",
       "    </tr>\n",
       "    <tr>\n",
       "      <th>dpc</th>\n",
       "      <td>50634</td>\n",
       "      <td>2</td>\n",
       "      <td>1</td>\n",
       "      <td>50631</td>\n",
       "      <td>NaN</td>\n",
       "      <td>NaN</td>\n",
       "      <td>NaN</td>\n",
       "      <td>NaN</td>\n",
       "      <td>NaN</td>\n",
       "      <td>NaN</td>\n",
       "      <td>NaN</td>\n",
       "    </tr>\n",
       "    <tr>\n",
       "      <th>res</th>\n",
       "      <td>50634</td>\n",
       "      <td>1</td>\n",
       "      <td>0</td>\n",
       "      <td>50634</td>\n",
       "      <td>NaN</td>\n",
       "      <td>NaN</td>\n",
       "      <td>NaN</td>\n",
       "      <td>NaN</td>\n",
       "      <td>NaN</td>\n",
       "      <td>NaN</td>\n",
       "      <td>NaN</td>\n",
       "    </tr>\n",
       "    <tr>\n",
       "      <th>pcp</th>\n",
       "      <td>50634</td>\n",
       "      <td>2</td>\n",
       "      <td>0</td>\n",
       "      <td>28901</td>\n",
       "      <td>NaN</td>\n",
       "      <td>NaN</td>\n",
       "      <td>NaN</td>\n",
       "      <td>NaN</td>\n",
       "      <td>NaN</td>\n",
       "      <td>NaN</td>\n",
       "      <td>NaN</td>\n",
       "    </tr>\n",
       "    <tr>\n",
       "      <th>yop</th>\n",
       "      <td>50634</td>\n",
       "      <td>4</td>\n",
       "      <td>4</td>\n",
       "      <td>42967</td>\n",
       "      <td>NaN</td>\n",
       "      <td>NaN</td>\n",
       "      <td>NaN</td>\n",
       "      <td>NaN</td>\n",
       "      <td>NaN</td>\n",
       "      <td>NaN</td>\n",
       "      <td>NaN</td>\n",
       "    </tr>\n",
       "    <tr>\n",
       "      <th>doctor_age_yrs</th>\n",
       "      <td>50634</td>\n",
       "      <td>NaN</td>\n",
       "      <td>NaN</td>\n",
       "      <td>NaN</td>\n",
       "      <td>54.9957</td>\n",
       "      <td>10.9459</td>\n",
       "      <td>28.8438</td>\n",
       "      <td>45.8548</td>\n",
       "      <td>54.8603</td>\n",
       "      <td>62.8658</td>\n",
       "      <td>119.904</td>\n",
       "    </tr>\n",
       "    <tr>\n",
       "      <th>polo_ind</th>\n",
       "      <td>50634</td>\n",
       "      <td>2</td>\n",
       "      <td>1</td>\n",
       "      <td>50360</td>\n",
       "      <td>NaN</td>\n",
       "      <td>NaN</td>\n",
       "      <td>NaN</td>\n",
       "      <td>NaN</td>\n",
       "      <td>NaN</td>\n",
       "      <td>NaN</td>\n",
       "      <td>NaN</td>\n",
       "    </tr>\n",
       "    <tr>\n",
       "      <th>ppd_address_type</th>\n",
       "      <td>50634</td>\n",
       "      <td>3</td>\n",
       "      <td>2</td>\n",
       "      <td>25975</td>\n",
       "      <td>NaN</td>\n",
       "      <td>NaN</td>\n",
       "      <td>NaN</td>\n",
       "      <td>NaN</td>\n",
       "      <td>NaN</td>\n",
       "      <td>NaN</td>\n",
       "      <td>NaN</td>\n",
       "    </tr>\n",
       "    <tr>\n",
       "      <th>ppd_region</th>\n",
       "      <td>50634</td>\n",
       "      <td>5</td>\n",
       "      <td>3</td>\n",
       "      <td>18288</td>\n",
       "      <td>NaN</td>\n",
       "      <td>NaN</td>\n",
       "      <td>NaN</td>\n",
       "      <td>NaN</td>\n",
       "      <td>NaN</td>\n",
       "      <td>NaN</td>\n",
       "      <td>NaN</td>\n",
       "    </tr>\n",
       "    <tr>\n",
       "      <th>ppd_division</th>\n",
       "      <td>50634</td>\n",
       "      <td>10</td>\n",
       "      <td>5</td>\n",
       "      <td>10039</td>\n",
       "      <td>NaN</td>\n",
       "      <td>NaN</td>\n",
       "      <td>NaN</td>\n",
       "      <td>NaN</td>\n",
       "      <td>NaN</td>\n",
       "      <td>NaN</td>\n",
       "      <td>NaN</td>\n",
       "    </tr>\n",
       "    <tr>\n",
       "      <th>ppd_group</th>\n",
       "      <td>50634</td>\n",
       "      <td>6</td>\n",
       "      <td>6</td>\n",
       "      <td>39147</td>\n",
       "      <td>NaN</td>\n",
       "      <td>NaN</td>\n",
       "      <td>NaN</td>\n",
       "      <td>NaN</td>\n",
       "      <td>NaN</td>\n",
       "      <td>NaN</td>\n",
       "      <td>NaN</td>\n",
       "    </tr>\n",
       "    <tr>\n",
       "      <th>ppd_msa_population_size</th>\n",
       "      <td>50634</td>\n",
       "      <td>4</td>\n",
       "      <td>A</td>\n",
       "      <td>36877</td>\n",
       "      <td>NaN</td>\n",
       "      <td>NaN</td>\n",
       "      <td>NaN</td>\n",
       "      <td>NaN</td>\n",
       "      <td>NaN</td>\n",
       "      <td>NaN</td>\n",
       "      <td>NaN</td>\n",
       "    </tr>\n",
       "    <tr>\n",
       "      <th>ppd_md_do_code</th>\n",
       "      <td>50634</td>\n",
       "      <td>2</td>\n",
       "      <td>1</td>\n",
       "      <td>46593</td>\n",
       "      <td>NaN</td>\n",
       "      <td>NaN</td>\n",
       "      <td>NaN</td>\n",
       "      <td>NaN</td>\n",
       "      <td>NaN</td>\n",
       "      <td>NaN</td>\n",
       "      <td>NaN</td>\n",
       "    </tr>\n",
       "    <tr>\n",
       "      <th>ppd_micro_metro_ind</th>\n",
       "      <td>50634</td>\n",
       "      <td>2</td>\n",
       "      <td>1</td>\n",
       "      <td>50381</td>\n",
       "      <td>NaN</td>\n",
       "      <td>NaN</td>\n",
       "      <td>NaN</td>\n",
       "      <td>NaN</td>\n",
       "      <td>NaN</td>\n",
       "      <td>NaN</td>\n",
       "      <td>NaN</td>\n",
       "    </tr>\n",
       "    <tr>\n",
       "      <th>ppd_gender</th>\n",
       "      <td>50634</td>\n",
       "      <td>2</td>\n",
       "      <td>1</td>\n",
       "      <td>32577</td>\n",
       "      <td>NaN</td>\n",
       "      <td>NaN</td>\n",
       "      <td>NaN</td>\n",
       "      <td>NaN</td>\n",
       "      <td>NaN</td>\n",
       "      <td>NaN</td>\n",
       "      <td>NaN</td>\n",
       "    </tr>\n",
       "    <tr>\n",
       "      <th>phone_age_yrs</th>\n",
       "      <td>50634</td>\n",
       "      <td>NaN</td>\n",
       "      <td>NaN</td>\n",
       "      <td>NaN</td>\n",
       "      <td>6.57122</td>\n",
       "      <td>6.82302</td>\n",
       "      <td>0.265753</td>\n",
       "      <td>1.16438</td>\n",
       "      <td>2.30137</td>\n",
       "      <td>10.9808</td>\n",
       "      <td>119.904</td>\n",
       "    </tr>\n",
       "    <tr>\n",
       "      <th>yop_yrs</th>\n",
       "      <td>50634</td>\n",
       "      <td>NaN</td>\n",
       "      <td>NaN</td>\n",
       "      <td>NaN</td>\n",
       "      <td>27.5388</td>\n",
       "      <td>11.1163</td>\n",
       "      <td>4.8274</td>\n",
       "      <td>18.8356</td>\n",
       "      <td>26.8411</td>\n",
       "      <td>35.8493</td>\n",
       "      <td>73.874</td>\n",
       "    </tr>\n",
       "    <tr>\n",
       "      <th>ppd_top_cd</th>\n",
       "      <td>50634</td>\n",
       "      <td>3</td>\n",
       "      <td>20</td>\n",
       "      <td>50631</td>\n",
       "      <td>NaN</td>\n",
       "      <td>NaN</td>\n",
       "      <td>NaN</td>\n",
       "      <td>NaN</td>\n",
       "      <td>NaN</td>\n",
       "      <td>NaN</td>\n",
       "      <td>NaN</td>\n",
       "    </tr>\n",
       "    <tr>\n",
       "      <th>ppd_pe_cd</th>\n",
       "      <td>50634</td>\n",
       "      <td>17</td>\n",
       "      <td>30</td>\n",
       "      <td>21925</td>\n",
       "      <td>NaN</td>\n",
       "      <td>NaN</td>\n",
       "      <td>NaN</td>\n",
       "      <td>NaN</td>\n",
       "      <td>NaN</td>\n",
       "      <td>NaN</td>\n",
       "      <td>NaN</td>\n",
       "    </tr>\n",
       "    <tr>\n",
       "      <th>ppd_prim_spec_cd</th>\n",
       "      <td>50634</td>\n",
       "      <td>221</td>\n",
       "      <td>IM</td>\n",
       "      <td>7279</td>\n",
       "      <td>NaN</td>\n",
       "      <td>NaN</td>\n",
       "      <td>NaN</td>\n",
       "      <td>NaN</td>\n",
       "      <td>NaN</td>\n",
       "      <td>NaN</td>\n",
       "      <td>NaN</td>\n",
       "    </tr>\n",
       "    <tr>\n",
       "      <th>ppd_polo_state</th>\n",
       "      <td>50634</td>\n",
       "      <td>55</td>\n",
       "      <td>CA</td>\n",
       "      <td>6564</td>\n",
       "      <td>NaN</td>\n",
       "      <td>NaN</td>\n",
       "      <td>NaN</td>\n",
       "      <td>NaN</td>\n",
       "      <td>NaN</td>\n",
       "      <td>NaN</td>\n",
       "      <td>NaN</td>\n",
       "    </tr>\n",
       "    <tr>\n",
       "      <th>ent_comm_src_cat_code</th>\n",
       "      <td>50634</td>\n",
       "      <td>36</td>\n",
       "      <td>WEBVRTR</td>\n",
       "      <td>15101</td>\n",
       "      <td>NaN</td>\n",
       "      <td>NaN</td>\n",
       "      <td>NaN</td>\n",
       "      <td>NaN</td>\n",
       "      <td>NaN</td>\n",
       "      <td>NaN</td>\n",
       "      <td>NaN</td>\n",
       "    </tr>\n",
       "    <tr>\n",
       "      <th>ent_comm_comm_type</th>\n",
       "      <td>50634</td>\n",
       "      <td>7</td>\n",
       "      <td>OF</td>\n",
       "      <td>47241</td>\n",
       "      <td>NaN</td>\n",
       "      <td>NaN</td>\n",
       "      <td>NaN</td>\n",
       "      <td>NaN</td>\n",
       "      <td>NaN</td>\n",
       "      <td>NaN</td>\n",
       "      <td>NaN</td>\n",
       "    </tr>\n",
       "    <tr>\n",
       "      <th>hist_ent_id_phn_count</th>\n",
       "      <td>50634</td>\n",
       "      <td>NaN</td>\n",
       "      <td>NaN</td>\n",
       "      <td>NaN</td>\n",
       "      <td>1.05455</td>\n",
       "      <td>0.255423</td>\n",
       "      <td>1</td>\n",
       "      <td>1</td>\n",
       "      <td>1</td>\n",
       "      <td>1</td>\n",
       "      <td>5</td>\n",
       "    </tr>\n",
       "    <tr>\n",
       "      <th>hist_ent_all_phn_count</th>\n",
       "      <td>50634</td>\n",
       "      <td>NaN</td>\n",
       "      <td>NaN</td>\n",
       "      <td>NaN</td>\n",
       "      <td>24.426</td>\n",
       "      <td>321.262</td>\n",
       "      <td>1</td>\n",
       "      <td>1</td>\n",
       "      <td>2</td>\n",
       "      <td>7</td>\n",
       "      <td>8267</td>\n",
       "    </tr>\n",
       "    <tr>\n",
       "      <th>curr_ent_id_phn_count</th>\n",
       "      <td>50634</td>\n",
       "      <td>NaN</td>\n",
       "      <td>NaN</td>\n",
       "      <td>NaN</td>\n",
       "      <td>1.00525</td>\n",
       "      <td>0.0898326</td>\n",
       "      <td>1</td>\n",
       "      <td>1</td>\n",
       "      <td>1</td>\n",
       "      <td>1</td>\n",
       "      <td>4</td>\n",
       "    </tr>\n",
       "    <tr>\n",
       "      <th>curr_ent_all_phn_count</th>\n",
       "      <td>50634</td>\n",
       "      <td>NaN</td>\n",
       "      <td>NaN</td>\n",
       "      <td>NaN</td>\n",
       "      <td>1.43998</td>\n",
       "      <td>4.35718</td>\n",
       "      <td>1</td>\n",
       "      <td>1</td>\n",
       "      <td>1</td>\n",
       "      <td>1</td>\n",
       "      <td>93</td>\n",
       "    </tr>\n",
       "    <tr>\n",
       "      <th>curr_usg_all_phn_count</th>\n",
       "      <td>50634</td>\n",
       "      <td>NaN</td>\n",
       "      <td>NaN</td>\n",
       "      <td>NaN</td>\n",
       "      <td>1.98592</td>\n",
       "      <td>4.05981</td>\n",
       "      <td>0</td>\n",
       "      <td>1</td>\n",
       "      <td>2</td>\n",
       "      <td>2</td>\n",
       "      <td>72</td>\n",
       "    </tr>\n",
       "    <tr>\n",
       "      <th>area_state_match</th>\n",
       "      <td>50634</td>\n",
       "      <td>NaN</td>\n",
       "      <td>NaN</td>\n",
       "      <td>NaN</td>\n",
       "      <td>0.841194</td>\n",
       "      <td>0.365499</td>\n",
       "      <td>0</td>\n",
       "      <td>1</td>\n",
       "      <td>1</td>\n",
       "      <td>1</td>\n",
       "      <td>1</td>\n",
       "    </tr>\n",
       "  </tbody>\n",
       "</table>\n",
       "</div>"
      ],
      "text/plain": [
       "                         count unique      top   freq      mean        std  \\\n",
       "correct                  50634    NaN      NaN    NaN  0.590473   0.491751   \n",
       "lic_state_match          50634      2        1  46254       NaN        NaN   \n",
       "dpc                      50634      2        1  50631       NaN        NaN   \n",
       "res                      50634      1        0  50634       NaN        NaN   \n",
       "pcp                      50634      2        0  28901       NaN        NaN   \n",
       "yop                      50634      4        4  42967       NaN        NaN   \n",
       "doctor_age_yrs           50634    NaN      NaN    NaN   54.9957    10.9459   \n",
       "polo_ind                 50634      2        1  50360       NaN        NaN   \n",
       "ppd_address_type         50634      3        2  25975       NaN        NaN   \n",
       "ppd_region               50634      5        3  18288       NaN        NaN   \n",
       "ppd_division             50634     10        5  10039       NaN        NaN   \n",
       "ppd_group                50634      6        6  39147       NaN        NaN   \n",
       "ppd_msa_population_size  50634      4        A  36877       NaN        NaN   \n",
       "ppd_md_do_code           50634      2        1  46593       NaN        NaN   \n",
       "ppd_micro_metro_ind      50634      2        1  50381       NaN        NaN   \n",
       "ppd_gender               50634      2        1  32577       NaN        NaN   \n",
       "phone_age_yrs            50634    NaN      NaN    NaN   6.57122    6.82302   \n",
       "yop_yrs                  50634    NaN      NaN    NaN   27.5388    11.1163   \n",
       "ppd_top_cd               50634      3       20  50631       NaN        NaN   \n",
       "ppd_pe_cd                50634     17       30  21925       NaN        NaN   \n",
       "ppd_prim_spec_cd         50634    221       IM   7279       NaN        NaN   \n",
       "ppd_polo_state           50634     55       CA   6564       NaN        NaN   \n",
       "ent_comm_src_cat_code    50634     36  WEBVRTR  15101       NaN        NaN   \n",
       "ent_comm_comm_type       50634      7       OF  47241       NaN        NaN   \n",
       "hist_ent_id_phn_count    50634    NaN      NaN    NaN   1.05455   0.255423   \n",
       "hist_ent_all_phn_count   50634    NaN      NaN    NaN    24.426    321.262   \n",
       "curr_ent_id_phn_count    50634    NaN      NaN    NaN   1.00525  0.0898326   \n",
       "curr_ent_all_phn_count   50634    NaN      NaN    NaN   1.43998    4.35718   \n",
       "curr_usg_all_phn_count   50634    NaN      NaN    NaN   1.98592    4.05981   \n",
       "area_state_match         50634    NaN      NaN    NaN  0.841194   0.365499   \n",
       "\n",
       "                              min      25%      50%      75%      max  \n",
       "correct                         0        0        1        1        1  \n",
       "lic_state_match               NaN      NaN      NaN      NaN      NaN  \n",
       "dpc                           NaN      NaN      NaN      NaN      NaN  \n",
       "res                           NaN      NaN      NaN      NaN      NaN  \n",
       "pcp                           NaN      NaN      NaN      NaN      NaN  \n",
       "yop                           NaN      NaN      NaN      NaN      NaN  \n",
       "doctor_age_yrs            28.8438  45.8548  54.8603  62.8658  119.904  \n",
       "polo_ind                      NaN      NaN      NaN      NaN      NaN  \n",
       "ppd_address_type              NaN      NaN      NaN      NaN      NaN  \n",
       "ppd_region                    NaN      NaN      NaN      NaN      NaN  \n",
       "ppd_division                  NaN      NaN      NaN      NaN      NaN  \n",
       "ppd_group                     NaN      NaN      NaN      NaN      NaN  \n",
       "ppd_msa_population_size       NaN      NaN      NaN      NaN      NaN  \n",
       "ppd_md_do_code                NaN      NaN      NaN      NaN      NaN  \n",
       "ppd_micro_metro_ind           NaN      NaN      NaN      NaN      NaN  \n",
       "ppd_gender                    NaN      NaN      NaN      NaN      NaN  \n",
       "phone_age_yrs            0.265753  1.16438  2.30137  10.9808  119.904  \n",
       "yop_yrs                    4.8274  18.8356  26.8411  35.8493   73.874  \n",
       "ppd_top_cd                    NaN      NaN      NaN      NaN      NaN  \n",
       "ppd_pe_cd                     NaN      NaN      NaN      NaN      NaN  \n",
       "ppd_prim_spec_cd              NaN      NaN      NaN      NaN      NaN  \n",
       "ppd_polo_state                NaN      NaN      NaN      NaN      NaN  \n",
       "ent_comm_src_cat_code         NaN      NaN      NaN      NaN      NaN  \n",
       "ent_comm_comm_type            NaN      NaN      NaN      NaN      NaN  \n",
       "hist_ent_id_phn_count           1        1        1        1        5  \n",
       "hist_ent_all_phn_count          1        1        2        7     8267  \n",
       "curr_ent_id_phn_count           1        1        1        1        4  \n",
       "curr_ent_all_phn_count          1        1        1        1       93  \n",
       "curr_usg_all_phn_count          0        1        2        2       72  \n",
       "area_state_match                0        1        1        1        1  "
      ]
     },
     "execution_count": 44,
     "metadata": {},
     "output_type": "execute_result"
    }
   ],
   "source": [
    "model_data.describe(include = \"all\").T"
   ]
  },
  {
   "cell_type": "markdown",
   "metadata": {},
   "source": [
    "Print number of 0 and 1 valus of target variable"
   ]
  },
  {
   "cell_type": "code",
   "execution_count": 45,
   "metadata": {},
   "outputs": [
    {
     "name": "stdout",
     "output_type": "stream",
     "text": [
      "Number of correct 0: 20736\n",
      "Number of correct 1: 29898\n",
      "Percent of correct with value 0: 0.40952719516530395\n",
      "Percent of correct with value 1: 0.5904728048346961\n"
     ]
    }
   ],
   "source": [
    "get_target_dist(model_data, target_name)\n"
   ]
  },
  {
   "cell_type": "markdown",
   "metadata": {},
   "source": [
    "# ---------------------------- Perform Exploratory Analysis --------------------------------------"
   ]
  },
  {
   "cell_type": "markdown",
   "metadata": {},
   "source": [
    "Generate figures of the distributions of each variable and save off for further analysis"
   ]
  },
  {
   "cell_type": "code",
   "execution_count": 46,
   "metadata": {},
   "outputs": [],
   "source": [
    "create_explore_plots(model_data, explore_path)\n"
   ]
  },
  {
   "cell_type": "markdown",
   "metadata": {},
   "source": [
    "Generate plots of independent variables and the target correctness (crosstab and scatter plots)"
   ]
  },
  {
   "cell_type": "code",
   "execution_count": 47,
   "metadata": {},
   "outputs": [],
   "source": [
    "model_columns = model_data.columns.values\n",
    "\n",
    "for i in range(len(model_columns)):\n",
    "    if str(model_data[model_columns[i]].dtypes) == 'category' or str(model_data[model_columns[i]].dtypes) == 'object':\n",
    "        obs_race_cross = pd.crosstab(model_data[model_columns[i]], model_data[target_name])\n",
    "        obs_race_cross.plot(kind=\"bar\")\n",
    "        x_lab = model_columns[i] + ' by ' + target_name\n",
    "        plt.xlabel(x_lab)\n",
    "        plt.ylabel('Count')\n",
    "        title = 'Crosstab of ' + model_columns[i] + ' by ' + target_name\n",
    "        plt.title(title)\n",
    "        plt.legend(bbox_to_anchor=(1.05, 1), loc=2, borderaxespad=0.)\n",
    "    else:\n",
    "        temp_ndx = model_data[model_columns[i]].isnull()\n",
    "        temp_var = model_data[model_columns[i]][~temp_ndx]\n",
    "        temp_correct = model_data[target_name][~temp_ndx]\n",
    "        \n",
    "        plt.scatter(x=temp_correct, y=temp_var)\n",
    "        x_title = target_name + ' value'\n",
    "        plt.xlabel(x_title)\n",
    "        plt.ylabel(model_columns[i])\n",
    "        title = model_columns[i] + ' by ' + target_name\n",
    "        plt.title(title)    \n",
    "\n",
    "    fig_path = explore_path + model_columns[i] + '_by_' + target_name + '.png'\n",
    "    plt.savefig(fig_path)\n",
    "    plt.close()"
   ]
  },
  {
   "cell_type": "markdown",
   "metadata": {},
   "source": [
    "# ---------------------------- Create Dummy Variables --------------------------------------"
   ]
  },
  {
   "cell_type": "markdown",
   "metadata": {},
   "source": [
    "Save off data before dummy variable creation"
   ]
  },
  {
   "cell_type": "code",
   "execution_count": 48,
   "metadata": {},
   "outputs": [],
   "source": [
    "model_info_df = model_data[:]\n",
    "model_info_df[info_vars] = orig_data[info_vars]\n"
   ]
  },
  {
   "cell_type": "code",
   "execution_count": 49,
   "metadata": {},
   "outputs": [],
   "source": [
    "model_info_name = data_save_path + start_time_str + '_' + file_base_name + '_BeforeDummy.csv'\n",
    "model_info_df.to_csv(model_info_name, sep = ',', header = True, index = True)\n"
   ]
  },
  {
   "cell_type": "code",
   "execution_count": 50,
   "metadata": {},
   "outputs": [],
   "source": [
    "orig_data_name = data_save_path + start_time_str + '_' + file_base_name + '_CleanedOrigData.csv'\n",
    "orig_data.to_csv(orig_data_name, sep = ',', header = True, index = True)\n"
   ]
  },
  {
   "cell_type": "markdown",
   "metadata": {},
   "source": [
    "Create dummy variables for all categorical/object columns"
   ]
  },
  {
   "cell_type": "code",
   "execution_count": 51,
   "metadata": {},
   "outputs": [
    {
     "data": {
      "text/plain": [
       "(50634, 397)"
      ]
     },
     "execution_count": 51,
     "metadata": {},
     "output_type": "execute_result"
    }
   ],
   "source": [
    "model_data_all = pd.get_dummies(model_data)\n",
    "model_data_all.shape"
   ]
  },
  {
   "cell_type": "code",
   "execution_count": 52,
   "metadata": {},
   "outputs": [],
   "source": [
    "model_data_all = remove_col_name_float_pt(model_data_all)"
   ]
  },
  {
   "cell_type": "markdown",
   "metadata": {},
   "source": [
    "Create and save pearson correlation matrix of all variables"
   ]
  },
  {
   "cell_type": "code",
   "execution_count": 53,
   "metadata": {
    "scrolled": true
   },
   "outputs": [],
   "source": [
    "all_var_corr = model_data_all.corr(method = \"pearson\")\n",
    "\n",
    "corr_file = explore_path + 'All_Variable_Correlation.csv'\n",
    "all_var_corr.to_csv(corr_file, sep=\",\")\n"
   ]
  },
  {
   "cell_type": "markdown",
   "metadata": {},
   "source": [
    "# ------------------------------ Create Test and Train Data ----------------------------------------"
   ]
  },
  {
   "cell_type": "markdown",
   "metadata": {},
   "source": [
    "Create target dataset"
   ]
  },
  {
   "cell_type": "code",
   "execution_count": 54,
   "metadata": {},
   "outputs": [
    {
     "data": {
      "text/plain": [
       "(50634,)"
      ]
     },
     "execution_count": 54,
     "metadata": {},
     "output_type": "execute_result"
    }
   ],
   "source": [
    "target_df = model_data_all[target_name]\n",
    "target_df.shape"
   ]
  },
  {
   "cell_type": "markdown",
   "metadata": {},
   "source": [
    "Create training dataset"
   ]
  },
  {
   "cell_type": "code",
   "execution_count": 55,
   "metadata": {},
   "outputs": [
    {
     "data": {
      "text/plain": [
       "(50634, 396)"
      ]
     },
     "execution_count": 55,
     "metadata": {},
     "output_type": "execute_result"
    }
   ],
   "source": [
    "train_df = model_data_all[:]\n",
    "train_df = train_df.drop(target_name, axis = 1) \n",
    "train_df.shape"
   ]
  },
  {
   "cell_type": "markdown",
   "metadata": {},
   "source": [
    "Add informational columns back into data so they will be split accordingly"
   ]
  },
  {
   "cell_type": "code",
   "execution_count": 56,
   "metadata": {},
   "outputs": [
    {
     "data": {
      "text/plain": [
       "(50634, 439)"
      ]
     },
     "execution_count": 56,
     "metadata": {},
     "output_type": "execute_result"
    }
   ],
   "source": [
    "train_df_all = train_df[:]\n",
    "train_df_all[info_vars] = orig_data[info_vars]\n",
    "train_df_all.shape"
   ]
  },
  {
   "cell_type": "markdown",
   "metadata": {},
   "source": [
    "Create random test/train split with testing set size given by variable at the top"
   ]
  },
  {
   "cell_type": "code",
   "execution_count": 57,
   "metadata": {},
   "outputs": [],
   "source": [
    "# If testing_size is > 0, split data into testing/training sets\n",
    "train_columns = list(train_df_all.columns.values)\n",
    "\n",
    "if testing_size > 0:\n",
    "    data_train, data_test, target_train, target_test = \\\n",
    "    train_test_split(train_df_all, target_df, test_size = testing_size, \n",
    "                     random_state = rand_state, stratify = target_df)\n",
    "# Else use entire dataset for both testing and training\n",
    "else:\n",
    "    data_train = train_df\n",
    "    data_test = train_df\n",
    "    target_train = target_df\n",
    "    target_test = target_df\n",
    "    "
   ]
  },
  {
   "cell_type": "markdown",
   "metadata": {},
   "source": [
    "Convert numpy outputs back into dataframes for saving"
   ]
  },
  {
   "cell_type": "code",
   "execution_count": 58,
   "metadata": {},
   "outputs": [],
   "source": [
    "data_train_df = pd.DataFrame(data_train, columns = train_columns)\n",
    "train_indices = data_train_df.index.values\n",
    "target_train_df = pd.DataFrame(target_train, index = train_indices, columns = [target_name])\n",
    "\n",
    "data_test_df = pd.DataFrame(data_test, columns = train_columns)\n",
    "test_indices = data_test_df.index.values\n",
    "target_test_df = pd.DataFrame(target_test, index = test_indices, columns = [target_name])\n"
   ]
  },
  {
   "cell_type": "code",
   "execution_count": 59,
   "metadata": {},
   "outputs": [
    {
     "data": {
      "text/plain": [
       "(40507, 439)"
      ]
     },
     "execution_count": 59,
     "metadata": {},
     "output_type": "execute_result"
    }
   ],
   "source": [
    "data_train_df.shape"
   ]
  },
  {
   "cell_type": "code",
   "execution_count": 60,
   "metadata": {},
   "outputs": [
    {
     "data": {
      "text/plain": [
       "(10127, 439)"
      ]
     },
     "execution_count": 60,
     "metadata": {},
     "output_type": "execute_result"
    }
   ],
   "source": [
    "data_test_df.shape"
   ]
  },
  {
   "cell_type": "markdown",
   "metadata": {},
   "source": [
    "Extract informational columns from training and testing datasets"
   ]
  },
  {
   "cell_type": "code",
   "execution_count": 61,
   "metadata": {},
   "outputs": [],
   "source": [
    "data_train_info_df = data_train_df.loc[:, info_vars]\n",
    "data_train_df = data_train_df.drop(info_vars, axis = 1)\n",
    "\n",
    "data_test_info_df = data_test_df.loc[:, info_vars]\n",
    "data_test_df = data_test_df.drop(info_vars, axis = 1)\n"
   ]
  },
  {
   "cell_type": "code",
   "execution_count": 62,
   "metadata": {},
   "outputs": [
    {
     "data": {
      "text/plain": [
       "(40507, 396)"
      ]
     },
     "execution_count": 62,
     "metadata": {},
     "output_type": "execute_result"
    }
   ],
   "source": [
    "data_train_df.shape"
   ]
  },
  {
   "cell_type": "code",
   "execution_count": 63,
   "metadata": {},
   "outputs": [
    {
     "data": {
      "text/plain": [
       "(10127, 396)"
      ]
     },
     "execution_count": 63,
     "metadata": {},
     "output_type": "execute_result"
    }
   ],
   "source": [
    "data_test_df.shape"
   ]
  },
  {
   "cell_type": "markdown",
   "metadata": {},
   "source": [
    "Print number of 0s and 1s in training dataset target variable"
   ]
  },
  {
   "cell_type": "code",
   "execution_count": 64,
   "metadata": {},
   "outputs": [
    {
     "name": "stdout",
     "output_type": "stream",
     "text": [
      "Number of correct 0: 16589\n",
      "Number of correct 1: 23918\n",
      "Percent of correct with value 0: 0.4095341545905646\n",
      "Percent of correct with value 1: 0.5904658454094354\n"
     ]
    }
   ],
   "source": [
    "get_target_dist(target_train_df, target_name)\n"
   ]
  },
  {
   "cell_type": "markdown",
   "metadata": {},
   "source": [
    "Print number of 0s and 1s in testing dataset target variable"
   ]
  },
  {
   "cell_type": "code",
   "execution_count": 65,
   "metadata": {},
   "outputs": [
    {
     "name": "stdout",
     "output_type": "stream",
     "text": [
      "Number of correct 0: 4147\n",
      "Number of correct 1: 5980\n",
      "Percent of correct with value 0: 0.40949935815147626\n",
      "Percent of correct with value 1: 0.5905006418485238\n"
     ]
    }
   ],
   "source": [
    "get_target_dist(target_test_df, target_name)\n"
   ]
  },
  {
   "cell_type": "markdown",
   "metadata": {},
   "source": [
    "# -------------------------- Save Testing and Training Data -------------------------------------"
   ]
  },
  {
   "cell_type": "markdown",
   "metadata": {},
   "source": [
    "Save training data and target to csv files"
   ]
  },
  {
   "cell_type": "code",
   "execution_count": 66,
   "metadata": {},
   "outputs": [],
   "source": [
    "train_data_name = data_save_path + start_time_str + '_' + file_base_name + '_TrainData.csv'\n",
    "data_train_df.to_csv(train_data_name, sep = ',', header = True, index = True)\n",
    "train_target_name = data_save_path + start_time_str + '_' + file_base_name + '_TrainTarget.csv'\n",
    "target_train_df.to_csv(train_target_name, sep = ',', header = True, index = True)\n"
   ]
  },
  {
   "cell_type": "markdown",
   "metadata": {},
   "source": [
    "Save testing data and target to csv files"
   ]
  },
  {
   "cell_type": "code",
   "execution_count": 67,
   "metadata": {},
   "outputs": [],
   "source": [
    "\n",
    "test_data_name = data_save_path + start_time_str + '_' + file_base_name + '_TestData.csv'\n",
    "data_test_df.to_csv(test_data_name, sep = ',', header = True, index = True)\n",
    "test_target_name = data_save_path + start_time_str + '_' + file_base_name + '_TestTarget.csv'\n",
    "target_test_df.to_csv(test_target_name, sep = ',', header = True, index = True)\n"
   ]
  },
  {
   "cell_type": "markdown",
   "metadata": {},
   "source": [
    "Save information dataframes"
   ]
  },
  {
   "cell_type": "code",
   "execution_count": 68,
   "metadata": {},
   "outputs": [],
   "source": [
    "train_data_info_name = data_save_path + start_time_str + '_' + file_base_name + '_TrainData_Info.csv'\n",
    "data_train_info_df.to_csv(train_data_info_name, sep = ',', header = True, index = True)\n",
    "\n",
    "test_data_info_name = data_save_path + start_time_str + '_' + file_base_name + '_TestData_Info.csv'\n",
    "data_test_info_df.to_csv(test_data_info_name, sep = ',', header = True, index = True)\n"
   ]
  },
  {
   "cell_type": "markdown",
   "metadata": {},
   "source": [
    "Save unsplit data to csv files (to use to duplicate previous modeling)"
   ]
  },
  {
   "cell_type": "code",
   "execution_count": 69,
   "metadata": {},
   "outputs": [],
   "source": [
    "unsplit_test_data_name = data_save_path + start_time_str + '_' + file_base_name + '_UnsplitData.csv'\n",
    "train_df.to_csv(unsplit_test_data_name, sep = ',', header = True, index = True)\n",
    "unsplit_test_target_name = data_save_path + start_time_str + '_' + file_base_name + \\\n",
    "    '_UnsplitTarget.csv'\n",
    "target_df.to_csv(unsplit_test_target_name, sep = ',', header = True, index = True)\n"
   ]
  },
  {
   "cell_type": "markdown",
   "metadata": {},
   "source": [
    "Save unsplit data information dataframes"
   ]
  },
  {
   "cell_type": "code",
   "execution_count": 70,
   "metadata": {},
   "outputs": [],
   "source": [
    "unsplit_test_data_info_name = data_save_path + start_time_str + '_' + file_base_name + \\\n",
    "    '_UnsplitData_Info.csv'\n",
    "orig_data[info_vars].to_csv(unsplit_test_data_info_name, sep = ',', header = True, index = True)"
   ]
  },
  {
   "cell_type": "markdown",
   "metadata": {},
   "source": [
    "Save results"
   ]
  },
  {
   "cell_type": "code",
   "execution_count": 71,
   "metadata": {},
   "outputs": [
    {
     "name": "stdout",
     "output_type": "stream",
     "text": [
      "Elapsed time (sec): 0:01:50.893240\n",
      "Elapsed time (min): 0:00:01.848221\n",
      "Elapsed time (hrs): 0:00:00.030804\n"
     ]
    }
   ],
   "source": [
    "end_time = datetime.datetime.now()\n",
    "elapsed_time = end_time - current_time\n",
    "print('Elapsed time (sec): {}'.format(elapsed_time))\n",
    "print('Elapsed time (min): {}'.format((elapsed_time / 60)))\n",
    "print('Elapsed time (hrs): {}'.format(((elapsed_time / 60) / 60)))"
   ]
  }
 ],
 "metadata": {
  "kernelspec": {
   "display_name": "Python 3",
   "language": "python",
   "name": "python3"
  },
  "language_info": {
   "codemirror_mode": {
    "name": "ipython",
    "version": 3
   },
   "file_extension": ".py",
   "mimetype": "text/x-python",
   "name": "python",
   "nbconvert_exporter": "python",
   "pygments_lexer": "ipython3",
   "version": "3.7.6"
  }
 },
 "nbformat": 4,
 "nbformat_minor": 2
}
