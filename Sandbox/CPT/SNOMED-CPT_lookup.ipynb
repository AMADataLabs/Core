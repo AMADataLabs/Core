{
 "cells": [
  {
   "cell_type": "markdown",
   "id": "2933aa9e",
   "metadata": {},
   "source": [
    "# AWSClient"
   ]
  },
  {
   "cell_type": "code",
   "execution_count": null,
   "id": "8aa0ae98",
   "metadata": {},
   "outputs": [],
   "source": [
    "from   datalabs.access.aws import AWSClient"
   ]
  },
  {
   "cell_type": "markdown",
   "id": "6bc5f5a9",
   "metadata": {},
   "source": [
    "## /snomed/map/cpt/{concept}"
   ]
  },
  {
   "cell_type": "code",
   "execution_count": null,
   "id": "6a67a3a9",
   "metadata": {},
   "outputs": [],
   "source": [
    "def generate_map(items):\n",
    "    mappings = []\n",
    "\n",
    "    for item in items:\n",
    "        mapping = {key:value['S'] for key, value in item.items()}\n",
    "\n",
    "        mapping.pop(\"pk\")\n",
    "        mapping[\"cpt_code\"] = mapping.pop(\"sk\").replace(\"CPT:\", \"\")\n",
    "\n",
    "        mappings.append(mapping)\n",
    "\n",
    "    return mappings"
   ]
  },
  {
   "cell_type": "code",
   "execution_count": null,
   "id": "2b277f70",
   "metadata": {},
   "outputs": [],
   "source": [
    "concept = \"306683007\"\n",
    "\n",
    "with AWSClient(\"dynamodb\") as db:\n",
    "    results = db.execute_statement(\n",
    "        Statement=f\"SELECT * FROM \\\"CPT-API-snomed-sbx\\\" WHERE pk = 'CONCEPT:{concept}' AND begins_with(\\\"sk\\\", 'CPT:')\"\n",
    "    )\n",
    "\n",
    "print(generate_map(results[\"Items\"]))\n"
   ]
  },
  {
   "cell_type": "code",
   "execution_count": null,
   "id": "b1701ccc",
   "metadata": {},
   "outputs": [],
   "source": [
    "with AWSClient(\"dynamodb\") as db:\n",
    "    results = db.execute_statement(\n",
    "        Statement=f\"SELECT * FROM \\\"CPT-API-snomed-sbx\\\" WHERE begins_with(\\\"sk\\\", 'MD5:')\"\n",
    "    )\n"
   ]
  },
  {
   "cell_type": "code",
   "execution_count": null,
   "id": "243bdb35",
   "metadata": {},
   "outputs": [],
   "source": [
    "results"
   ]
  },
  {
   "cell_type": "code",
   "execution_count": null,
   "id": "199c9ae0",
   "metadata": {},
   "outputs": [],
   "source": [
    "with AWSClient(\"dynamodb\") as db:\n",
    "    results = db.execute_statement(\n",
    "        Statement=f\"SELECT * FROM \\\"CPT-API-snomed-sbx\\\" WHERE begins_with(\\\"sk\\\", 'MD5:')\",\n",
    "        NextToken=\"6r5H7B9tE15b8QuyrZfbU6qfsaSuqcJhMQfdtvdO5goJJZj2cSUCvf3ocj3kEycVPY8XGNyqKrB5vFYh5ji6E+6U3/fIo5AkeuL/e3jn8Mm6qVDMpD+VYioHwvf+y0PnkRA29+BE84tnp9EcXCjizT0uYPujyL+TkcSP8o9DRuAHh66EGCMGDCpWCZM2NDxIge9HKw7GHOB+4rIMHVxXosCpO0KzUgfnjgqxw8BBSp0Fq3ZsUb7yU8bOrgNUGCEF2y9AJC2VaEk0XOA1Td7rnvvpGzrPk2g5+J8fu4xs9EJtQYWqeWmxpVDyi7p8KUslzPL9klqY45Z+NIdaHj+vtco5zRDnY18uW6y8Kk9ZadIqMF9kQOw2wUcEwOG8VuKG0uzUt1SC/x5XSO1Ijn7p\"\n",
    "    )\n"
   ]
  },
  {
   "cell_type": "code",
   "execution_count": null,
   "id": "47a57556",
   "metadata": {},
   "outputs": [],
   "source": [
    "len(results[\"Items\"])"
   ]
  },
  {
   "cell_type": "code",
   "execution_count": null,
   "id": "c6c551dc",
   "metadata": {},
   "outputs": [],
   "source": [
    "with AWSClient(\"dynamodb\") as db:\n",
    "    results = db.execute_statement(\n",
    "        Statement=f\"SELECT * FROM \\\"CPT-API-snomed-sbx\\\".\\\"SearchIndex\\\" WHERE begins_with(\\\"sk\\\", 'MD5:')\",\n",
    "        NextToken='6rwEphK9wigAzCpn8skKni228Y9DKJUcrWBq/Ppi//nDhljtWEWgaDS0yqgnV+ZBm5cpOHbbhif0coXyD7rhuiDs1WCe7QEVNSgjDG5VcXIo+bsASgUwhsXHX/J/2xkgfybHKO6strAoeNAKoumCvbHjrK4x41Fy+1p0Q5hPccPHUTxXvcgPfD4zysYTVnJPznZwz4nEvAC8o0HFRLcyy8bPdWZX2/zkNKs3nSfECAvZZMSAybNAEqAEAffXWwSF49yoBEd9zBMMTm8ynsmRSwJBVM58UHMkzRNXNyqj8xl5uyf+9CnAiHwc0I1MfMPgJgIUl7J4vHPnB3f67URRKwpK3eOsHrNOl6+dSKZwv3vHoGQDIIxTP7sW4jN4RfYlAjDq/gju7yPB'\n",
    "    )\n"
   ]
  },
  {
   "cell_type": "code",
   "execution_count": null,
   "id": "ed5359a1",
   "metadata": {},
   "outputs": [],
   "source": [
    "results"
   ]
  },
  {
   "cell_type": "code",
   "execution_count": null,
   "id": "8abb6847",
   "metadata": {},
   "outputs": [],
   "source": []
  }
 ],
 "metadata": {
  "kernelspec": {
   "display_name": "Python 3 (ipykernel)",
   "language": "python",
   "name": "python3"
  },
  "language_info": {
   "codemirror_mode": {
    "name": "ipython",
    "version": 3
   },
   "file_extension": ".py",
   "mimetype": "text/x-python",
   "name": "python",
   "nbconvert_exporter": "python",
   "pygments_lexer": "ipython3",
   "version": "3.9.17"
  }
 },
 "nbformat": 4,
 "nbformat_minor": 5
}
