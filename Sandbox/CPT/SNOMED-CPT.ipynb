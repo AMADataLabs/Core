{
 "cells": [
  {
   "cell_type": "markdown",
   "id": "8de32b3d",
   "metadata": {},
   "source": [
    "# AWSClient"
   ]
  },
  {
   "cell_type": "code",
   "execution_count": null,
   "id": "d99266e2",
   "metadata": {},
   "outputs": [],
   "source": [
    "from   collections import defaultdict\n",
    "import hashlib\n",
    "import json\n",
    "import re\n",
    "import time\n",
    "\n",
    "import pandas\n",
    "\n",
    "from   datalabs.access.aws import AWSClient"
   ]
  },
  {
   "cell_type": "markdown",
   "id": "4ca671c0",
   "metadata": {},
   "source": [
    "## Extractor"
   ]
  },
  {
   "cell_type": "code",
   "execution_count": null,
   "id": "b6075583",
   "metadata": {},
   "outputs": [],
   "source": [
    "sheet = pandas.read_excel(\"snomed_cpt_map_fsn_descr_20230131.xlsx\")"
   ]
  },
  {
   "cell_type": "code",
   "execution_count": null,
   "id": "cf6265aa",
   "metadata": {},
   "outputs": [],
   "source": [
    "sheet.columns.values"
   ]
  },
  {
   "cell_type": "markdown",
   "id": "cceec280",
   "metadata": {},
   "source": [
    "## Transformer"
   ]
  },
  {
   "cell_type": "code",
   "execution_count": null,
   "id": "b3314fb0",
   "metadata": {
    "scrolled": false
   },
   "outputs": [],
   "source": [
    "snomed = sheet.loc[:, [\"Concept Id\", \"FSN\", \"Map Category\", \"CPT Code\", \"CPT Descriptor\", \"Map Id\"]]\n",
    "\n",
    "snomed.loc[:, \"Concept Id\"] = snomed[\"Concept Id\"].fillna(method='ffill').astype('int').astype('str')\n",
    "snomed.loc[:, \"FSN\"] = snomed[\"FSN\"].fillna(method='ffill')\n",
    "snomed.loc[:, \"FSN\"] = snomed[\"FSN\"].astype('str')\n",
    "snomed.loc[snomed[\"FSN\"] == \"nan\", \"FSN\"] = \"\"\n",
    "\n",
    "snomed.loc[:, \"CPT Descriptor\"] = snomed[\"CPT Descriptor\"].astype('str')\n",
    "snomed.loc[snomed[\"CPT Descriptor\"] == \"nan\", \"CPT Descriptor\"] = \"\"\n",
    "\n",
    "snomed"
   ]
  },
  {
   "cell_type": "code",
   "execution_count": null,
   "id": "f2bcb641",
   "metadata": {},
   "outputs": [],
   "source": [
    "snomed.loc[:, \"pk\"] = \"CONCEPT:\" + snomed[\"Concept Id\"]\n",
    "\n",
    "snomed.loc[snomed[\"Map Category\"] == \"Unmappable\", \"sk\"] = \"UNMAPPABLE:\" + snomed.loc[snomed[\"Map Category\"] == \"Unmappable\", \"Map Id\"].astype('str')\n",
    "snomed.loc[~(snomed[\"Map Category\"] == \"Unmappable\"), \"sk\"] = \"CPT:\" + snomed.loc[~(snomed[\"Map Category\"] == \"CPT\"), \"CPT Code\"].astype(str)\n",
    "snomed = snomed.drop_duplicates(subset=(\"pk\", \"sk\"))\n",
    "\n",
    "mappings = snomed.loc[:, [\"sk\", \"pk\", \"FSN\", \"Map Category\", \"CPT Descriptor\"]].rename(\n",
    "    columns={\n",
    "        \"FSN\": \"snomed_descriptor\",\n",
    "        \"Map Category\": \"map_category\",\n",
    "        \"CPT Descriptor\": \"cpt_descriptor\",\n",
    "    }\n",
    ")\n",
    "\n",
    "mappings"
   ]
  },
  {
   "cell_type": "code",
   "execution_count": null,
   "id": "53144a24",
   "metadata": {},
   "outputs": [],
   "source": [
    "mappings[\"keyword\"] = mappings.snomed_descriptor.apply(lambda x: re.sub(r'[^\\w ]+', '', x)).str.lower().str.split()\n",
    "keyword_map = mappings.loc[:, [\"pk\", \"sk\", \"keyword\"]].explode(\"keyword\").reset_index(drop=True).drop_duplicates()\n",
    "keyword_map = keyword_map.groupby([\"keyword\", \"pk\"]).sk.agg(lambda items: [x for x in items if x.startswith(\"CPT:\")])\n",
    "\n",
    "mappings = mappings.drop(columns=\"keyword\")\n",
    "\n",
    "# for (keyword, pk), mapping in keyword_groups:\n",
    "#     print(pk)\n",
    "#     print(keys.head(5), end=\"\\n\\n\")\n",
    "keyword_map"
   ]
  },
  {
   "cell_type": "code",
   "execution_count": null,
   "id": "45ca0225",
   "metadata": {},
   "outputs": [],
   "source": [
    "keyword_map[(\"zygomatic\", \"CONCEPT:257904000\")]"
   ]
  },
  {
   "cell_type": "code",
   "execution_count": null,
   "id": "552aa25a",
   "metadata": {
    "scrolled": true
   },
   "outputs": [],
   "source": [
    "# keyword_map[keyword_map.pk == \"CONCEPT:609038002\"]"
   ]
  },
  {
   "cell_type": "code",
   "execution_count": null,
   "id": "26109e07",
   "metadata": {},
   "outputs": [],
   "source": [
    "items = []\n",
    "\n",
    "for index in range(len(mappings)):\n",
    "    row = mappings.iloc[index]\n",
    "\n",
    "    items.append(row.to_dict())\n",
    "\n",
    "# items += [dict(pk=f\"{row.pk}:{row.sk}\", sk=f\"KEYWORD:{row.keyword}\") for index, row in keyword_map.iterrows() if row.sk.startswith(\"CPT:\")]\n",
    "\n",
    "# items\n",
    "\n",
    "for keys, codes in keyword_map.items():\n",
    "    items.append(dict(pk=keys[1], sk=f\"KEYWORD:{keys[0]}\", codes=codes))\n",
    "\n",
    "items"
   ]
  },
  {
   "cell_type": "code",
   "execution_count": null,
   "id": "9dfcdd6c",
   "metadata": {},
   "outputs": [],
   "source": [
    "print(len(items))\n",
    "items[-10:]"
   ]
  },
  {
   "cell_type": "code",
   "execution_count": null,
   "id": "66075517",
   "metadata": {},
   "outputs": [],
   "source": [
    "# mappings.loc[(mappings.pk == \"CONCEPT:609038002\")]\n",
    "descriptors = mappings.loc[(mappings.pk == \"CONCEPT:609038002\") & (mappings.sk == \"CPT:88160\"), (\"cpt_descriptor\")]\n",
    "list(descriptors)"
   ]
  },
  {
   "cell_type": "markdown",
   "id": "3681391c",
   "metadata": {},
   "source": [
    "## Loader"
   ]
  },
  {
   "cell_type": "code",
   "execution_count": null,
   "id": "54b6364e",
   "metadata": {},
   "outputs": [],
   "source": [
    "with open(\"snomed_cpt_mappings.json\", \"w\") as file:\n",
    "    file.write(json.dumps(items))"
   ]
  },
  {
   "cell_type": "code",
   "execution_count": null,
   "id": "c56a2065",
   "metadata": {},
   "outputs": [],
   "source": [
    "with open(\"snomed_cpt_mappings.json\", \"r\") as file:\n",
    "    items = json.loads(file.read())"
   ]
  },
  {
   "cell_type": "code",
   "execution_count": null,
   "id": "96845e15",
   "metadata": {},
   "outputs": [],
   "source": [
    "# snomed_table = snomed\n",
    "# snomed_table[\"md5\"] = snomed[[\"pk\", \"sk\", \"snomed_descriptor\", \"map_category\", \"cpt_descriptor\"]].apply(lambda row: hashlib.md5(str(row.values).encode('utf-8')).hexdigest(), axis=1)\n",
    "# snomed_table\n",
    "\n",
    "# for item in items:\n",
    "#     item.pop(\"md5\")\n",
    "items"
   ]
  },
  {
   "cell_type": "code",
   "execution_count": null,
   "id": "1334b728",
   "metadata": {},
   "outputs": [],
   "source": [
    "hashed_items = items\n",
    "\n",
    "for item in items:\n",
    "    if item[\"sk\"].startswith(\"UNMAPPABLE:\") or item[\"sk\"].startswith(\"CPT:\"):\n",
    "        md5 = hashlib.md5(json.dumps(item, sort_keys=True).encode('utf-8')).hexdigest()\n",
    "        hashed_items.append(dict(pk=f'{item[\"pk\"]}:{item[\"sk\"]}', sk=f\"MD5:{md5}\"))\n",
    "\n",
    "hashed_items"
   ]
  },
  {
   "cell_type": "code",
   "execution_count": null,
   "id": "a776bb6d",
   "metadata": {},
   "outputs": [],
   "source": [
    "print(len(hashed_items))\n",
    "hashed_items[-120000:]"
   ]
  },
  {
   "cell_type": "code",
   "execution_count": null,
   "id": "068d3677",
   "metadata": {},
   "outputs": [],
   "source": [
    "# Swap after reload\n",
    "# with AWSClient(\"s3\") as db:\n",
    "#     table = db.resource.Table('CPT-API-snomed-sbx')\n",
    "#     dir(table)\n",
    "import boto3\n",
    "table = boto3.resource(\"dynamodb\").Table('CPT-API-snomed-sbx')\n",
    "\n",
    "from bisect import bisect_left"
   ]
  },
  {
   "cell_type": "code",
   "execution_count": null,
   "id": "65d19809",
   "metadata": {},
   "outputs": [],
   "source": [
    "json_items = sorted([json.dumps(item, sort_keys=True) for item in hashed_items])\n",
    "unique_items = set(json.dumps(item, sort_keys=True) for item in hashed_items)\n",
    "\n",
    "duplicate_json_items = []\n",
    "\n",
    "for item in unique_items:\n",
    "    index = bisect_left(json_items, item)\n",
    "    if index < (len(json_items)-1) and json_items[index+1] == item:\n",
    "        duplicate_json_items.append(item)\n",
    "\n",
    "duplicate_json_items"
   ]
  },
  {
   "cell_type": "markdown",
   "id": "fd261a70",
   "metadata": {},
   "source": [
    "## Load Sandbox"
   ]
  },
  {
   "cell_type": "code",
   "execution_count": null,
   "id": "971dbdfd",
   "metadata": {},
   "outputs": [],
   "source": [
    "start_time = time.perf_counter()\n",
    "\n",
    "with boto3.resource(\"dynamodb\").Table('CPT-API-snomed-sbx').batch_writer():\n",
    "    for item in hashed_items:\n",
    "        batch.put_item(Item=item)\n",
    "\n",
    "time.perf_counter() - start_time"
   ]
  },
  {
   "cell_type": "markdown",
   "id": "7c48478e",
   "metadata": {},
   "source": [
    "## Load Dev"
   ]
  },
  {
   "cell_type": "code",
   "execution_count": null,
   "id": "6fa62c90",
   "metadata": {},
   "outputs": [],
   "source": [
    "start_time = time.perf_counter()\n",
    "\n",
    "with AWSClient(\"dynamodb\").resource as dynamodb:\n",
    "    table = dynamodb.Table('CPT-API-snomed-dev')\n",
    "\n",
    "    with table.batch_writer() as batch:\n",
    "        for item in hashed_items:\n",
    "            batch.put_item(Item=item)\n",
    "\n",
    "time.perf_counter() - start_time"
   ]
  },
  {
   "cell_type": "code",
   "execution_count": null,
   "id": "3783da20",
   "metadata": {},
   "outputs": [],
   "source": [
    "start_time = time.perf_counter()\n",
    "\n",
    "with AWSClient(\"dynamodb\") as dynamodb:\n",
    "    results = paginate(dynamodb, \"SELECT * FROM \\\"CPT-API-snomed-sbx\\\".\\\"SearchIndex\\\" WHERE begins_with(\\\"sk\\\", 'MD5:')\")\n",
    "\n",
    "    results = list(results)\n",
    "\n",
    "print(time.perf_counter() - start_time)\n",
    "results"
   ]
  },
  {
   "cell_type": "code",
   "execution_count": null,
   "id": "2e21ff9f",
   "metadata": {},
   "outputs": [],
   "source": [
    "current_hashes_columns = defaultdict(list)\n",
    "\n",
    "for result in results:\n",
    "    for key, value in result.items():\n",
    "        current_hashes_columns[key].append(value[\"S\"])\n",
    "\n",
    "current_hashes = pandas.DataFrame(current_hashes_columns)\n",
    "current_hashes"
   ]
  },
  {
   "cell_type": "code",
   "execution_count": null,
   "id": "3db9bcfc",
   "metadata": {},
   "outputs": [],
   "source": [
    "incoming_hashes = current_hashes.copy()\n",
    "\n",
    "incoming_hashes = pandas.concat((\n",
    "    incoming_hashes,\n",
    "    pandas.DataFrame(\n",
    "        dict(\n",
    "            sk=[\"MD5:1234567890abcdefghijklmnopqrstuv\", \"MD5:abcdefghijklmnopqurstvwxyz123456\", \"MD5:d4de199db48813dc0e4133a480aaf6b8\", \"MD5:388936416f61c9255b4e4842764faf66\"],\n",
    "            pk=['CONCEPT:123456789:CPT:12345', 'CONCEPT:987654321:CPT:54321', incoming_hashes.pk[incoming_hashes.sk == \"MD5:133a480aaf6b8d4de199db48813dc0e4\"].iloc[0], incoming_hashes.pk[incoming_hashes.sk == \"MD5:4e4842764faf66388936416f61c9255b\"].iloc[0]]\n",
    "        )\n",
    "    )\n",
    "))\n",
    "\n",
    "incoming_hashes = incoming_hashes[~incoming_hashes.sk.isin((\"MD5:133a480aaf6b8d4de199db48813dc0e4\", \"MD5:4e4842764faf66388936416f61c9255b\", \"MD5:adfec4b4db82f70b2fc7d4c6f261cc7b\", \"MD5:d176d88ac597ec61d825ff50bd02e02f\"))]\n",
    "\n",
    "incoming_hashes"
   ]
  },
  {
   "cell_type": "code",
   "execution_count": null,
   "id": "cc3567c5",
   "metadata": {},
   "outputs": [],
   "source": [
    "start_time = time.perf_counter()\n",
    "\n",
    "deleted_hashes = current_hashes[~current_hashes.pk.isin(incoming_hashes_df.pk)]\n",
    "\n",
    "new_or_updated_hashes = incoming_hashes[~incoming_hashes.sk.isin(current_hashes.sk)]\n",
    "\n",
    "new_hashes = new_or_updated_hashes[~new_or_updated_hashes.pk.isin(current_hashes.pk)]\n",
    "\n",
    "updated_hashes = new_or_updated_hashes[new_or_updated_hashes.pk.isin(current_hashes.pk)]\n",
    "\n",
    "print(time.perf_counter() - start_time)"
   ]
  },
  {
   "cell_type": "code",
   "execution_count": null,
   "id": "005dc51b",
   "metadata": {},
   "outputs": [],
   "source": [
    "deleted_hashes"
   ]
  },
  {
   "cell_type": "code",
   "execution_count": null,
   "id": "3a7bed00",
   "metadata": {},
   "outputs": [],
   "source": [
    "new_hashes"
   ]
  },
  {
   "cell_type": "code",
   "execution_count": null,
   "id": "ac6f65f0",
   "metadata": {},
   "outputs": [],
   "source": [
    "updated_hashes"
   ]
  },
  {
   "cell_type": "markdown",
   "id": "a2e33537",
   "metadata": {},
   "source": [
    "## Get Deleted Keywords for Hashes"
   ]
  },
  {
   "cell_type": "code",
   "execution_count": null,
   "id": "ca0dc54a",
   "metadata": {},
   "outputs": [],
   "source": [
    "start_time = time.perf_counter()\n",
    "deleted_keywords = []\n",
    "\n",
    "with AWSClient(\"dynamodb\") as dynamodb:\n",
    "    for pk in deleted_hashes.pk:\n",
    "        results = paginate(dynamodb, f\"SELECT * FROM \\\"CPT-API-snomed-sbx\\\" WHERE pk = '{pk}' AND begins_with(\\\"sk\\\", 'KEYWORD:')\")\n",
    "\n",
    "    deleted_keywords.append(list(results))\n",
    "\n",
    "print(time.perf_counter() - start_time)\n",
    "deleted_keywords"
   ]
  },
  {
   "cell_type": "markdown",
   "id": "cb7d736a",
   "metadata": {},
   "source": [
    "## /snomed/map/cpt/{concept}"
   ]
  },
  {
   "cell_type": "code",
   "execution_count": null,
   "id": "ecbdaab0",
   "metadata": {},
   "outputs": [],
   "source": [
    "def generate_map(items):\n",
    "    mappings = []\n",
    "\n",
    "    for item in items:\n",
    "        mapping = {key:value['S'] for key, value in item.items()}\n",
    "\n",
    "        mapping.pop(\"pk\")\n",
    "        mapping[\"cpt_code\"] = mapping.pop(\"sk\").replace(\"CPT:\", \"\")\n",
    "\n",
    "        mappings.append(mapping)\n",
    "\n",
    "    return mappings"
   ]
  },
  {
   "cell_type": "code",
   "execution_count": null,
   "id": "cb7ebb6f",
   "metadata": {},
   "outputs": [],
   "source": [
    "concept = \"306683007\"\n",
    "\n",
    "with AWSClient(\"dynamodb\") as db:\n",
    "    results = db.execute_statement(\n",
    "        Statement=f\"SELECT * FROM \\\"CPT-API-snomed-sbx\\\" WHERE pk = 'CONCEPT:{concept}' AND begins_with(\\\"sk\\\", 'CPT:')\"\n",
    "    )\n",
    "\n",
    "print(generate_map(results[\"Items\"]))\n"
   ]
  },
  {
   "cell_type": "markdown",
   "id": "a3da3e29",
   "metadata": {},
   "source": [
    "## /snomed/maps/cpt"
   ]
  },
  {
   "cell_type": "code",
   "execution_count": null,
   "id": "5b2fcd82",
   "metadata": {},
   "outputs": [],
   "source": [
    "def get_mapping_references_for_keyword(keyword, db):\n",
    "    maps = None\n",
    "\n",
    "    search_results = db.execute_statement(\n",
    "        Statement=f\"SELECT * FROM \\\"CPT-API-snomed-sbx\\\".\\\"SearchIndex\\\" WHERE sk = 'KEYWORD:{keyword}'\"\n",
    "    )\n",
    "\n",
    "    return search_results[\"Items\"]"
   ]
  },
  {
   "cell_type": "code",
   "execution_count": null,
   "id": "9cd3bee9",
   "metadata": {},
   "outputs": [],
   "source": [
    "def get_mappings_from_references(keyword_items, db):\n",
    "    mappings = defaultdict(list)\n",
    "\n",
    "    for search_item in keyword_items:\n",
    "        mapping = get_mapping_from_reference(search_item['pk']['S'], db)\n",
    "\n",
    "        mappings[mapping[\"pk\"][\"S\"]].append(mapping)\n",
    "\n",
    "    return mappings"
   ]
  },
  {
   "cell_type": "code",
   "execution_count": null,
   "id": "63c5fd77",
   "metadata": {},
   "outputs": [],
   "source": [
    "# TODO: handle DynamoDB pagination\n",
    "\n",
    "def get_all_mappings(db):\n",
    "    mappings = defaultdict(list)\n",
    "\n",
    "    results = db.execute_statement(\n",
    "        Statement=f\"SELECT * FROM \\\"CPT-API-snomed-sbx\\\" WHERE begins_with(\\\"sk\\\", 'CPT:')\"\n",
    "    )\n",
    "    \n",
    "    for item in results[\"Items\"]:\n",
    "        mappings[item[\"pk\"][\"S\"]].append(item)\n",
    "\n",
    "    return mappings"
   ]
  },
  {
   "cell_type": "code",
   "execution_count": null,
   "id": "2ed522c0",
   "metadata": {},
   "outputs": [],
   "source": [
    "def generate_map(mapping_items):\n",
    "    mappings = []\n",
    "    concept = None\n",
    "\n",
    "    for item in mapping_items:\n",
    "        mapping = {key:value['S'] for key, value in item.items()}\n",
    "\n",
    "        if not concept:\n",
    "            concept = mapping[\"pk\"]\n",
    "            snomed_descriptor = mapping[\"snomed_descriptor\"]\n",
    "\n",
    "        mappings.append(\n",
    "            dict(\n",
    "                code=mapping[\"sk\"].replace(\"CPT:\", \"\"),\n",
    "                descriptor=mapping[\"cpt_descriptor\"],\n",
    "                category=mapping[\"map_category\"]\n",
    "            )\n",
    "        )\n",
    "\n",
    "    return dict(\n",
    "        concept=concept,\n",
    "        descriptor=snomed_descriptor,\n",
    "        mappings=mappings\n",
    "    )"
   ]
  },
  {
   "cell_type": "code",
   "execution_count": null,
   "id": "e6ea50f7",
   "metadata": {},
   "outputs": [],
   "source": [
    "def get_mapping_from_reference(pksk, db):\n",
    "    pk = pksk.rsplit(':', 2)[0]   # CONCEPT:...\n",
    "    sk = pksk.split(':', 2)[2]    # CPT:...\n",
    "\n",
    "    concept = pk.replace(\"CONCEPT:\", \"\")\n",
    "\n",
    "    results = db.execute_statement(\n",
    "        Statement=f\"SELECT * FROM \\\"CPT-API-snomed-sbx\\\" WHERE pk = '{pk}' AND sk = '{sk}'\"\n",
    "    )\n",
    "    \n",
    "    return results[\"Items\"][0]"
   ]
  },
  {
   "cell_type": "markdown",
   "id": "d32dec2b",
   "metadata": {},
   "source": [
    "## Use Case 1: Get Mappings by Keyword"
   ]
  },
  {
   "cell_type": "code",
   "execution_count": null,
   "id": "2fcee27f",
   "metadata": {},
   "outputs": [],
   "source": [
    "# TODO: handle response pagination\n",
    "\n",
    "keyword = \"discharge\"\n",
    "\n",
    "with AWSClient(\"dynamodb\") as db:\n",
    "    mapping_references = get_mapping_references_for_keyword(keyword, db)\n",
    "    \n",
    "    mapping_set = get_mappings_from_references(mapping_references, db)\n",
    "\n",
    "maps = [generate_map(mappings) for mappings in mapping_set.values()]\n",
    "maps"
   ]
  },
  {
   "cell_type": "code",
   "execution_count": null,
   "id": "0bec40e6",
   "metadata": {},
   "outputs": [],
   "source": [
    "with AWSClient(\"dynamodb\") as db:\n",
    "    results = get_mapping_references_for_keyword(\"discharge\", db)\n",
    "\n",
    "results"
   ]
  },
  {
   "cell_type": "markdown",
   "id": "6c4b7448",
   "metadata": {},
   "source": [
    "## Use Case 2: Get All Mappings (Default)"
   ]
  },
  {
   "cell_type": "code",
   "execution_count": null,
   "id": "5b6bb6cd",
   "metadata": {},
   "outputs": [],
   "source": [
    "# TODO: handle response pagination\n",
    "\n",
    "with AWSClient(\"dynamodb\") as db:\n",
    "    mapping_set = get_all_mappings(db)\n",
    "\n",
    "maps = [generate_map(mappings) for mappings in mapping_set.values()]\n",
    "maps"
   ]
  },
  {
   "cell_type": "markdown",
   "id": "8f2b9ca8",
   "metadata": {},
   "source": [
    "## Pagination"
   ]
  },
  {
   "cell_type": "code",
   "execution_count": null,
   "id": "cba3ea22",
   "metadata": {},
   "outputs": [],
   "source": [
    "def paginate(db, statement):\n",
    "    results = db.execute_statement(Statement=statement, Limit=600000)\n",
    "\n",
    "    for item in results[\"Items\"]:\n",
    "        yield item\n",
    "    \n",
    "    while \"NextToken\" in results:\n",
    "        results = db.execute_statement(Statement=statement, Limit=600000, NextToken=results[\"NextToken\"])\n",
    "        \n",
    "        for item in results[\"Items\"]:\n",
    "            yield item"
   ]
  },
  {
   "cell_type": "code",
   "execution_count": null,
   "id": "9f0ae7a0",
   "metadata": {},
   "outputs": [],
   "source": []
  }
 ],
 "metadata": {
  "kernelspec": {
   "display_name": "Python 3 (ipykernel)",
   "language": "python",
   "name": "python3"
  },
  "language_info": {
   "codemirror_mode": {
    "name": "ipython",
    "version": 3
   },
   "file_extension": ".py",
   "mimetype": "text/x-python",
   "name": "python",
   "nbconvert_exporter": "python",
   "pygments_lexer": "ipython3",
   "version": "3.9.17"
  }
 },
 "nbformat": 4,
 "nbformat_minor": 5
}
