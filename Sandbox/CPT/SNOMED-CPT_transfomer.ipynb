{
 "cells": [
  {
   "cell_type": "code",
   "execution_count": null,
   "id": "d99266e2",
   "metadata": {},
   "outputs": [],
   "source": [
    "from   collections import defaultdict\n",
    "import hashlib\n",
    "import re\n",
    "\n",
    "from   datalabs.access.aws import AWSClient\n",
    "import pandas"
   ]
  },
  {
   "cell_type": "code",
   "execution_count": null,
   "id": "b6075583",
   "metadata": {},
   "outputs": [],
   "source": [
    "sheet = pandas.read_excel(\"snomed_cpt_map_fsn_descr_20230131.xlsx\")"
   ]
  },
  {
   "cell_type": "markdown",
   "id": "cceec280",
   "metadata": {},
   "source": [
    "## Transformer"
   ]
  },
  {
   "cell_type": "markdown",
   "id": "baf07aff",
   "metadata": {},
   "source": [
    "## Clean Up Values"
   ]
  },
  {
   "cell_type": "code",
   "execution_count": null,
   "id": "53144a24",
   "metadata": {},
   "outputs": [],
   "source": [
    "snomed = sheet.loc[:, [\"Concept Id\", \"FSN\", \"Map Category\", \"CPT Code\", \"CPT Descriptor\", \"Map Id\"]]\n",
    "\n",
    "snomed.loc[:, \"Concept Id\"] = snomed[\"Concept Id\"].fillna(method='ffill').astype('int').astype('str')\n",
    "snomed.loc[:, \"FSN\"] = snomed[\"FSN\"].fillna(method='ffill')\n",
    "snomed.loc[:, \"FSN\"] = snomed[\"FSN\"].astype('str')\n",
    "snomed.loc[snomed[\"FSN\"] == \"nan\", \"FSN\"] = \"\"\n",
    "\n",
    "snomed.loc[:, \"CPT Descriptor\"] = snomed[\"CPT Descriptor\"].astype('str')\n",
    "snomed.loc[snomed[\"CPT Descriptor\"] == \"nan\", \"CPT Descriptor\"] = \"\"\n",
    "\n",
    "snomed"
   ]
  },
  {
   "cell_type": "markdown",
   "id": "24801d06",
   "metadata": {},
   "source": [
    "## Generate Mappings"
   ]
  },
  {
   "cell_type": "code",
   "execution_count": null,
   "id": "1bf5a926",
   "metadata": {},
   "outputs": [],
   "source": [
    "snomed.loc[:, \"pk\"] = \"CONCEPT:\" + snomed[\"Concept Id\"]\n",
    "\n",
    "snomed.loc[snomed[\"Map Category\"] == \"Unmappable\", \"sk\"] = \"UNMAPPABLE:\" + snomed.loc[snomed[\"Map Category\"] == \"Unmappable\", \"Map Id\"].astype('str')\n",
    "snomed.loc[~(snomed[\"Map Category\"] == \"Unmappable\"), \"sk\"] = \"CPT:\" + snomed.loc[~(snomed[\"Map Category\"] == \"CPT\"), \"CPT Code\"].astype(str)\n",
    "snomed = snomed.drop_duplicates(subset=(\"pk\", \"sk\"))\n",
    "\n",
    "mappings = snomed.loc[:, [\"sk\", \"pk\", \"FSN\", \"Map Category\", \"CPT Descriptor\"]].rename(\n",
    "    columns={\n",
    "        \"FSN\": \"snomed_descriptor\",\n",
    "        \"Map Category\": \"map_category\",\n",
    "        \"CPT Descriptor\": \"cpt_descriptor\",\n",
    "    }\n",
    ")\n",
    "\n",
    "mappings"
   ]
  },
  {
   "cell_type": "markdown",
   "id": "460c41b6",
   "metadata": {},
   "source": [
    "## Generate Keyword Map"
   ]
  },
  {
   "cell_type": "code",
   "execution_count": null,
   "id": "c7fdff9e",
   "metadata": {},
   "outputs": [],
   "source": [
    "mappings[\"keyword\"] = mappings.snomed_descriptor.apply(lambda x: re.sub(r'[^\\w ]+', '', x)).str.lower().str.split()\n",
    "keyword_map = mappings.loc[:, [\"pk\", \"sk\", \"keyword\"]].explode(\"keyword\").reset_index(drop=True).drop_duplicates()\n",
    "\n",
    "mappings = mappings.drop(columns=\"keyword\")\n",
    "\n",
    "keyword_map"
   ]
  },
  {
   "cell_type": "code",
   "execution_count": null,
   "id": "953f9618",
   "metadata": {},
   "outputs": [],
   "source": [
    "keyword_map[keyword_map.pk == \"CONCEPT:609038002\"]"
   ]
  },
  {
   "cell_type": "markdown",
   "id": "7fa0bec2",
   "metadata": {},
   "source": [
    "## Generate Mapping and Keyword Table Items"
   ]
  },
  {
   "cell_type": "code",
   "execution_count": null,
   "id": "26109e07",
   "metadata": {},
   "outputs": [],
   "source": [
    "items = []\n",
    "\n",
    "for index in range(len(mappings)):\n",
    "    row = mappings.iloc[index]\n",
    "\n",
    "    items.append(row.to_dict())\n",
    "\n",
    "items += [dict(pk=f\"{row.pk}:{row.sk}\", sk=f\"KEYWORD:{row.keyword}\") for index, row in keyword_map.iterrows() if row.sk.startswith(\"CPT:\")]\n",
    "\n",
    "items"
   ]
  },
  {
   "cell_type": "code",
   "execution_count": null,
   "id": "6044e2f1",
   "metadata": {},
   "outputs": [],
   "source": [
    "print(len(items))\n",
    "items[-10:]"
   ]
  },
  {
   "cell_type": "code",
   "execution_count": null,
   "id": "96acf0cd",
   "metadata": {},
   "outputs": [],
   "source": []
  }
 ],
 "metadata": {
  "kernelspec": {
   "display_name": "Python 3 (ipykernel)",
   "language": "python",
   "name": "python3"
  },
  "language_info": {
   "codemirror_mode": {
    "name": "ipython",
    "version": 3
   },
   "file_extension": ".py",
   "mimetype": "text/x-python",
   "name": "python",
   "nbconvert_exporter": "python",
   "pygments_lexer": "ipython3",
   "version": "3.9.17"
  }
 },
 "nbformat": 4,
 "nbformat_minor": 5
}
