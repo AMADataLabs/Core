{
 "cells": [
  {
   "cell_type": "markdown",
   "id": "f712a2ad",
   "metadata": {},
   "source": [
    "# SQLAlchemy + PyDynamoDB backend (Failed)"
   ]
  },
  {
   "cell_type": "code",
   "execution_count": null,
   "id": "28a773bf",
   "metadata": {},
   "outputs": [],
   "source": [
    "from   datalabs.access.dynamodb import Database\n",
    "from   datalabs.model.cpt import snomed"
   ]
  },
  {
   "cell_type": "code",
   "execution_count": null,
   "id": "8e34aa0c",
   "metadata": {},
   "outputs": [],
   "source": [
    "with Database({}) as db:\n",
    "    results = db._connection.execute('SELECT * FROM \"CPT-API-snomed-sbx\" WHERE pk = \\'CONCEPT:306681009\\')\n",
    "#     results = db._connection.execute(\"SELECT * FROM 'CPT-API-snomed-sbx' WHERE pk = 'CONCEPT:306676000' AND sk like 'CPT:%'\")\n",
    "\n",
    "results.all()"
   ]
  },
  {
   "cell_type": "code",
   "execution_count": null,
   "id": "725320d5",
   "metadata": {},
   "outputs": [],
   "source": [
    "with Database({}) as db:\n",
    "    pks = db._connection.execute(\"SELECT pk FROM 'CPT-API-snomed-sbx' WHERE sk = 'KEYWORD:discharge'\").all()\n",
    "\n",
    "pks"
   ]
  },
  {
   "cell_type": "code",
   "execution_count": null,
   "id": "4a71612d",
   "metadata": {},
   "outputs": [],
   "source": [
    "with Database({}) as db:\n",
    "    results = db._connection.execute(\"SELECT * FROM 'CPT-API-snomed-sbx' WHERE pk = 'CONCEPT:306676000' AND sk like 'CPT:%'\").all()\n",
    "    results = db._connection.execute(\"SELECT * FROM 'CPT-API-snomed-sbx' WHERE pk = 'CONCEPT:306681009' AND sk like 'CPT:%'\")\n",
    "\n",
    "results"
   ]
  },
  {
   "cell_type": "code",
   "execution_count": null,
   "id": "cc773510",
   "metadata": {},
   "outputs": [],
   "source": [
    "for pk, in pks:\n",
    "    print(f\"SELECT * FROM 'CPT-API-snomed-sbx' WHERE pk = '{pk}' AND sk like 'CPT:%'\")"
   ]
  },
  {
   "cell_type": "code",
   "execution_count": null,
   "id": "a37925d3",
   "metadata": {
    "scrolled": true
   },
   "outputs": [],
   "source": [
    "maps = {}\n",
    "\n",
    "with Database({}) as db:\n",
    "    for pk, in pks:\n",
    "        print(f\"SELECT * FROM 'CPT-API-snomed-sbx' WHERE pk = '{pk}' AND sk like 'CPT:%'\")\n",
    "        results = db._connection.execute(f\"SELECT * FROM 'CPT-API-snomed-sbx' WHERE pk = '{pk}' AND sk like 'CPT:%'\")\n",
    "        print(results.all())\n",
    "\n",
    "# results.all()\n",
    "#     for pk, in pks:\n",
    "#         concept = pk.replace(\"CONCEPT:\", \"\")\n",
    "#         maps[concept] = db._connection.execute(f\"SELECT * from 'CPT-API-snomed-sbx' WHERE pk = '{pk}' AND sk like 'CPT:%'\").all()\n",
    "\n",
    "# maps        "
   ]
  },
  {
   "cell_type": "code",
   "execution_count": null,
   "id": "91547c44",
   "metadata": {},
   "outputs": [],
   "source": [
    "pksk = 'CONCEPT:308283009:CPT:99239'\n",
    "pk = pksk.rsplit(':', 2)[0]\n",
    "sk = pksk.split(':', 2)[2]\n",
    "print((pk, sk))"
   ]
  },
  {
   "cell_type": "code",
   "execution_count": null,
   "id": "4077e4d7",
   "metadata": {},
   "outputs": [],
   "source": []
  }
 ],
 "metadata": {
  "kernelspec": {
   "display_name": "Python 3 (ipykernel)",
   "language": "python",
   "name": "python3"
  },
  "language_info": {
   "codemirror_mode": {
    "name": "ipython",
    "version": 3
   },
   "file_extension": ".py",
   "mimetype": "text/x-python",
   "name": "python",
   "nbconvert_exporter": "python",
   "pygments_lexer": "ipython3",
   "version": "3.9.17"
  }
 },
 "nbformat": 4,
 "nbformat_minor": 5
}
