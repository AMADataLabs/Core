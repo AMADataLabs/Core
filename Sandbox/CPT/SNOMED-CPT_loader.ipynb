{
 "cells": [
  {
   "cell_type": "code",
   "execution_count": null,
   "id": "d99266e2",
   "metadata": {},
   "outputs": [],
   "source": [
    "from   collections import defaultdict\n",
    "import hashlib\n",
    "import re\n",
    "import time\n",
    "\n",
    "from   datalabs.access.aws import AWSClient\n",
    "import pandas"
   ]
  },
  {
   "cell_type": "code",
   "execution_count": null,
   "id": "54b6364e",
   "metadata": {},
   "outputs": [],
   "source": [
    "import json\n",
    "with open(\"snomed_cpt_mappings.json\") as file:\n",
    "    items = json.loads(file.read())"
   ]
  },
  {
   "cell_type": "markdown",
   "id": "dcfa683e",
   "metadata": {},
   "source": [
    "# Loader"
   ]
  },
  {
   "cell_type": "markdown",
   "id": "ca6fe337",
   "metadata": {},
   "source": [
    "## Create Hash Items"
   ]
  },
  {
   "cell_type": "code",
   "execution_count": null,
   "id": "1334b728",
   "metadata": {},
   "outputs": [],
   "source": [
    "hashed_items = items\n",
    "\n",
    "for item in items:\n",
    "    if item[\"sk\"].startswith(\"UNMAPPABLE:\") or item[\"sk\"].startswith(\"CPT:\"):\n",
    "        md5 = hashlib.md5(json.dumps(item, sort_keys=True).encode('utf-8')).hexdigest()\n",
    "        hashed_items.append(dict(pk=f'{item[\"pk\"]}:{item[\"sk\"]}', sk=f\"MD5:{md5}\"))\n",
    "\n",
    "hashed_items"
   ]
  },
  {
   "cell_type": "markdown",
   "id": "bab68018",
   "metadata": {},
   "source": [
    "## Verify No Duplicates"
   ]
  },
  {
   "cell_type": "code",
   "execution_count": null,
   "id": "068d3677",
   "metadata": {},
   "outputs": [],
   "source": [
    "from bisect import bisect_left"
   ]
  },
  {
   "cell_type": "code",
   "execution_count": null,
   "id": "65d19809",
   "metadata": {},
   "outputs": [],
   "source": [
    "json_items = sorted([json.dumps(item, sort_keys=True) for item in hashed_items])\n",
    "unique_items = set(json.dumps(item, sort_keys=True) for item in hashed_items)\n",
    "\n",
    "duplicate_json_items = []\n",
    "\n",
    "for item in unique_items:\n",
    "    index = bisect_left(json_items, item)\n",
    "    if index < (len(json_items)-1) and json_items[index+1] == item:\n",
    "        duplicate_json_items.append(item)\n",
    "\n",
    "duplicate_json_items"
   ]
  },
  {
   "cell_type": "markdown",
   "id": "e900f308",
   "metadata": {},
   "source": [
    "## Initial Load"
   ]
  },
  {
   "cell_type": "code",
   "execution_count": null,
   "id": "f6773b2d",
   "metadata": {},
   "outputs": [],
   "source": [
    "def write_items(items: list, table):\n",
    "    with table.batch_writer() as batch:\n",
    "        for item in hashed_items:\n",
    "            batch.put_item(Item=item)\n"
   ]
  },
  {
   "cell_type": "code",
   "execution_count": null,
   "id": "ac4c9650",
   "metadata": {},
   "outputs": [],
   "source": [
    "start_time = time.perf_counter()\n",
    "\n",
    "with AWSClient(\"dynamodb\").resource as db:\n",
    "    table = db.Table(\"CPT-API-snomed-dev\")\n",
    "\n",
    "    write_items(items, table)\n",
    "\n",
    "time.perf_counter() - start_time"
   ]
  },
  {
   "cell_type": "markdown",
   "id": "2ee51994",
   "metadata": {},
   "source": [
    "## Fetch Hashes"
   ]
  },
  {
   "cell_type": "code",
   "execution_count": null,
   "id": "de7ff3a7",
   "metadata": {},
   "outputs": [],
   "source": [
    "def paginate(db, statement):\n",
    "    results = db.execute_statement(Statement=statement, Limit=600000)\n",
    "\n",
    "    for item in results[\"Items\"]:\n",
    "        yield item\n",
    "    \n",
    "    while \"NextToken\" in results:\n",
    "        results = db.execute_statement(Statement=statement, Limit=600000, NextToken=results[\"NextToken\"])\n",
    "        \n",
    "        for item in results[\"Items\"]:\n",
    "            yield item"
   ]
  },
  {
   "cell_type": "code",
   "execution_count": null,
   "id": "62ad7b9e",
   "metadata": {},
   "outputs": [],
   "source": [
    "start_time = time.perf_counter()\n",
    "\n",
    "with AWSClient(\"dynamodb\") as dynamodb:\n",
    "    results = paginate(dynamodb, \"SELECT * FROM \\\"CPT-API-snomed-sbx\\\".\\\"SearchIndex\\\" WHERE begins_with(\\\"sk\\\", 'MD5:')\")\n",
    "\n",
    "    results = list(results)\n",
    "\n",
    "print(time.perf_counter() - start_time)\n",
    "results"
   ]
  },
  {
   "cell_type": "code",
   "execution_count": null,
   "id": "69937f08",
   "metadata": {},
   "outputs": [],
   "source": [
    "current_hashes_columns = defaultdict(list)\n",
    "\n",
    "for result in results:\n",
    "    for key, value in result.items():\n",
    "        current_hashes_columns[key].append(value[\"S\"])\n",
    "\n",
    "current_hashes = pandas.DataFrame(current_hashes_columns)\n",
    "current_hashes"
   ]
  },
  {
   "cell_type": "markdown",
   "id": "7dfd277c",
   "metadata": {},
   "source": [
    "## Mock Incoming Hashes"
   ]
  },
  {
   "cell_type": "code",
   "execution_count": null,
   "id": "bdf50713",
   "metadata": {},
   "outputs": [],
   "source": [
    "incoming_hashes = current_hashes.copy()\n",
    "\n",
    "incoming_hashes = pandas.concat((\n",
    "    incoming_hashes,\n",
    "    pandas.DataFrame(\n",
    "        dict(\n",
    "            sk=[\"MD5:1234567890abcdefghijklmnopqrstuv\", \"MD5:abcdefghijklmnopqurstvwxyz123456\", \"MD5:d4de199db48813dc0e4133a480aaf6b8\", \"MD5:388936416f61c9255b4e4842764faf66\"],\n",
    "            pk=['CONCEPT:123456789:CPT:12345', 'CONCEPT:987654321:CPT:54321', incoming_hashes.pk[incoming_hashes.sk == \"MD5:133a480aaf6b8d4de199db48813dc0e4\"].iloc[0], incoming_hashes.pk[incoming_hashes.sk == \"MD5:4e4842764faf66388936416f61c9255b\"].iloc[0]]\n",
    "        )\n",
    "    )\n",
    "))\n",
    "\n",
    "incoming_hashes = incoming_hashes[~incoming_hashes.sk.isin((\"MD5:133a480aaf6b8d4de199db48813dc0e4\", \"MD5:4e4842764faf66388936416f61c9255b\", \"MD5:adfec4b4db82f70b2fc7d4c6f261cc7b\", \"MD5:d176d88ac597ec61d825ff50bd02e02f\"))]\n",
    "\n",
    "incoming_hashes"
   ]
  },
  {
   "cell_type": "markdown",
   "id": "8d294090",
   "metadata": {},
   "source": [
    "## Sift Hash Records"
   ]
  },
  {
   "cell_type": "code",
   "execution_count": null,
   "id": "d517f2f8",
   "metadata": {},
   "outputs": [],
   "source": [
    "start_time = time.perf_counter()\n",
    "\n",
    "deleted_hashes = current_hashes[~current_hashes.pk.isin(incoming_hashes_df.pk)]\n",
    "\n",
    "new_or_updated_hashes = incoming_hashes[~incoming_hashes.sk.isin(current_hashes.sk)]\n",
    "\n",
    "new_hashes = new_or_updated_hashes[~new_or_updated_hashes.pk.isin(current_hashes.pk)]\n",
    "\n",
    "updated_hashes = new_or_updated_hashes[new_or_updated_hashes.pk.isin(current_hashes.pk)]\n",
    "\n",
    "print(time.perf_counter() - start_time)"
   ]
  },
  {
   "cell_type": "code",
   "execution_count": null,
   "id": "44b1af3b",
   "metadata": {},
   "outputs": [],
   "source": [
    "deleted_hashes"
   ]
  },
  {
   "cell_type": "code",
   "execution_count": null,
   "id": "668bdcdb",
   "metadata": {},
   "outputs": [],
   "source": [
    "new_hashes"
   ]
  },
  {
   "cell_type": "code",
   "execution_count": null,
   "id": "2ca0800b",
   "metadata": {},
   "outputs": [],
   "source": [
    "updated_hashes"
   ]
  },
  {
   "cell_type": "markdown",
   "id": "6683c6dd",
   "metadata": {},
   "source": [
    "## Get Deleted Keywords for Hashes"
   ]
  },
  {
   "cell_type": "code",
   "execution_count": null,
   "id": "3d2a1262",
   "metadata": {},
   "outputs": [],
   "source": [
    "start_time = time.perf_counter()\n",
    "deleted_keywords = []\n",
    "\n",
    "with AWSClient(\"dynamodb\") as dynamodb:\n",
    "    for pk in deleted_hashes.pk:\n",
    "        results = paginate(dynamodb, f\"SELECT * FROM \\\"CPT-API-snomed-sbx\\\" WHERE pk = '{pk}' AND begins_with(\\\"sk\\\", 'KEYWORD:')\")\n",
    "\n",
    "    deleted_keywords.append(list(results))\n",
    "\n",
    "print(time.perf_counter() - start_time)\n",
    "deleted_keywords"
   ]
  },
  {
   "cell_type": "code",
   "execution_count": null,
   "id": "8d2763c0",
   "metadata": {},
   "outputs": [],
   "source": []
  }
 ],
 "metadata": {
  "kernelspec": {
   "display_name": "Python 3 (ipykernel)",
   "language": "python",
   "name": "python3"
  },
  "language_info": {
   "codemirror_mode": {
    "name": "ipython",
    "version": 3
   },
   "file_extension": ".py",
   "mimetype": "text/x-python",
   "name": "python",
   "nbconvert_exporter": "python",
   "pygments_lexer": "ipython3",
   "version": "3.9.17"
  }
 },
 "nbformat": 4,
 "nbformat_minor": 5
}
