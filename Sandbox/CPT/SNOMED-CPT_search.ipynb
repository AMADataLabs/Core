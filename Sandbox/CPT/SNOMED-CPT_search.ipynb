{
 "cells": [
  {
   "cell_type": "markdown",
   "id": "2933aa9e",
   "metadata": {},
   "source": [
    "# AWSClient"
   ]
  },
  {
   "cell_type": "code",
   "execution_count": null,
   "id": "8aa0ae98",
   "metadata": {},
   "outputs": [],
   "source": [
    "from collections import defaultdict\n",
    "\n",
    "import pandas\n",
    "\n",
    "from   datalabs.access.aws import AWSClient"
   ]
  },
  {
   "cell_type": "markdown",
   "id": "10d6b6ef",
   "metadata": {},
   "source": [
    "## /snomed/maps/cpt"
   ]
  },
  {
   "cell_type": "code",
   "execution_count": null,
   "id": "84840a3e",
   "metadata": {},
   "outputs": [],
   "source": [
    "def get_mapping_references_for_keyword(keyword, db):\n",
    "    maps = None\n",
    "\n",
    "    search_results = db.execute_statement(\n",
    "        Statement=f\"SELECT * FROM \\\"CPT-API-snomed-sbx\\\".\\\"SearchIndex\\\" WHERE sk = 'KEYWORD:{keyword}'\",\n",
    "        Limit=1000000\n",
    "    )\n",
    "\n",
    "    return search_results[\"Items\"]"
   ]
  },
  {
   "cell_type": "code",
   "execution_count": null,
   "id": "46979176",
   "metadata": {},
   "outputs": [],
   "source": [
    "def get_mappings_from_references(keyword_items, db):\n",
    "    mappings = defaultdict(list)\n",
    "\n",
    "    for search_item in keyword_items:\n",
    "        mapping = get_mapping_from_reference(search_item['pk']['S'], db)\n",
    "\n",
    "        mappings[mapping[\"pk\"][\"S\"]].append(mapping)\n",
    "\n",
    "    return mappings"
   ]
  },
  {
   "cell_type": "code",
   "execution_count": null,
   "id": "2c22b6d1",
   "metadata": {},
   "outputs": [],
   "source": [
    "# TODO: handle DynamoDB pagination\n",
    "\n",
    "def get_all_mappings(db):\n",
    "    mappings = defaultdict(list)\n",
    "\n",
    "    results = db.execute_statement(\n",
    "        Statement=f\"SELECT * FROM \\\"CPT-API-snomed-sbx\\\" WHERE begins_with(\\\"sk\\\", 'CPT:')\"\n",
    "    )\n",
    "    \n",
    "    for item in results[\"Items\"]:\n",
    "        mappings[item[\"pk\"][\"S\"]].append(item)\n",
    "\n",
    "    return mappings"
   ]
  },
  {
   "cell_type": "code",
   "execution_count": null,
   "id": "0b27b90e",
   "metadata": {},
   "outputs": [],
   "source": [
    "def generate_map(mapping_items):\n",
    "    mappings = []\n",
    "    concept = None\n",
    "\n",
    "    for item in mapping_items:\n",
    "        mapping = {key:value['S'] for key, value in item.items()}\n",
    "\n",
    "        if not concept:\n",
    "            concept = mapping[\"pk\"]\n",
    "            snomed_descriptor = mapping[\"snomed_descriptor\"]\n",
    "\n",
    "        mappings.append(\n",
    "            dict(\n",
    "                code=mapping[\"sk\"].replace(\"CPT:\", \"\"),\n",
    "                descriptor=mapping[\"cpt_descriptor\"],\n",
    "                category=mapping[\"map_category\"]\n",
    "            )\n",
    "        )\n",
    "\n",
    "    return dict(\n",
    "        concept=concept,\n",
    "        descriptor=snomed_descriptor,\n",
    "        mappings=mappings\n",
    "    )"
   ]
  },
  {
   "cell_type": "code",
   "execution_count": null,
   "id": "3d530b47",
   "metadata": {},
   "outputs": [],
   "source": [
    "def get_mapping_from_reference(pksk, db):\n",
    "    pk = pksk.rsplit(':', 2)[0]   # CONCEPT:...\n",
    "    sk = pksk.split(':', 2)[2]    # CPT:...\n",
    "\n",
    "    concept = pk.replace(\"CONCEPT:\", \"\")\n",
    "\n",
    "    results = db.execute_statement(\n",
    "        Statement=f\"SELECT * FROM \\\"CPT-API-snomed-sbx\\\" WHERE pk = '{pk}' AND sk = '{sk}'\"\n",
    "    )\n",
    "\n",
    "    return results[\"Items\"][0]"
   ]
  },
  {
   "cell_type": "markdown",
   "id": "d8b39187",
   "metadata": {},
   "source": [
    "## Use Case 1: Get Mappings by Keyword"
   ]
  },
  {
   "cell_type": "code",
   "execution_count": null,
   "id": "533210ac",
   "metadata": {},
   "outputs": [],
   "source": [
    "# TODO: handle response pagination\n",
    "mapping_sets = {}\n",
    "\n",
    "keyword = \"discharge\"\n",
    "for keyword in keywords:\n",
    "    with AWSClient(\"dynamodb\") as db:\n",
    "        mapping_references = get_mapping_references_for_keyword(keyword, db)\n",
    "\n",
    "        mapping_set = get_mappings_from_references(mapping_references, db)\n",
    "    \n",
    "    mapping_sets.update(mapping_set)\n",
    "\n",
    "maps = [generate_map(mappings) for mappings in mapping_set.values()]\n",
    "maps"
   ]
  },
  {
   "cell_type": "markdown",
   "id": "0d0e9070",
   "metadata": {},
   "source": [
    "## Use Case 2: Get All Mappings (Default)"
   ]
  },
  {
   "cell_type": "code",
   "execution_count": null,
   "id": "7b1aa656",
   "metadata": {},
   "outputs": [],
   "source": [
    "# TODO: handle response pagination\n",
    "\n",
    "with AWSClient(\"dynamodb\") as db:\n",
    "    mapping_set = get_all_mappings(db)\n",
    "\n",
    "maps = [generate_map(mappings) for mappings in mapping_set.values()]\n",
    "maps"
   ]
  },
  {
   "cell_type": "code",
   "execution_count": null,
   "id": "653a0eb3",
   "metadata": {},
   "outputs": [],
   "source": []
  }
 ],
 "metadata": {
  "kernelspec": {
   "display_name": "Python 3 (ipykernel)",
   "language": "python",
   "name": "python3"
  },
  "language_info": {
   "codemirror_mode": {
    "name": "ipython",
    "version": 3
   },
   "file_extension": ".py",
   "mimetype": "text/x-python",
   "name": "python",
   "nbconvert_exporter": "python",
   "pygments_lexer": "ipython3",
   "version": "3.9.17"
  }
 },
 "nbformat": 4,
 "nbformat_minor": 5
}
