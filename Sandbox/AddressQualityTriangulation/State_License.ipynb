{
 "cells": [
  {
   "cell_type": "code",
   "execution_count": null,
   "metadata": {},
   "outputs": [],
   "source": [
    "import pyodbc\n",
    "import pandas as pd"
   ]
  },
  {
   "cell_type": "code",
   "execution_count": null,
   "metadata": {},
   "outputs": [],
   "source": [
    "username = 'vigrose'\n",
    "password = 'slytherin10946'"
   ]
  },
  {
   "cell_type": "code",
   "execution_count": null,
   "metadata": {},
   "outputs": [],
   "source": [
    "s = \"DSN=PRDDW; UID={}; PWD={}\".format(username, password)\n",
    "AMAEDW = pyodbc.connect(s)"
   ]
  },
  {
   "cell_type": "code",
   "execution_count": null,
   "metadata": {},
   "outputs": [],
   "source": [
    "sql_query = \\\n",
    "    \"\"\" \n",
    "    SELECT DISTINCT\n",
    "    L.PARTY_ID, \n",
    "    S.SRC_STATE_CD AS STATE_CD, \n",
    "    L.LIC_NBR,\n",
    "    L.FROM_DT,\n",
    "    L.ISS_DT,\n",
    "    L.AS_OF_DT\n",
    "    FROM \n",
    "    AMAEDW.LIC L, AMAEDW.STATE S \n",
    "    WHERE  \n",
    "    L.THRU_DT IS NULL\n",
    "    AND\n",
    "    L.STATE_ID = S.STATE_ID;\n",
    "    \"\"\""
   ]
  },
  {
   "cell_type": "code",
   "execution_count": null,
   "metadata": {},
   "outputs": [],
   "source": [
    "LIC = pd.read_sql(con=AMAEDW, sql=sql_query)"
   ]
  },
  {
   "cell_type": "code",
   "execution_count": null,
   "metadata": {},
   "outputs": [],
   "source": [
    "LIC.head()"
   ]
  },
  {
   "cell_type": "code",
   "execution_count": null,
   "metadata": {},
   "outputs": [],
   "source": [
    "ins = pd.read_csv('Insurance_Select.csv')"
   ]
  },
  {
   "cell_type": "code",
   "execution_count": null,
   "metadata": {},
   "outputs": [],
   "source": [
    "MERGED = pd.merge(ins, LIC, on='PARTY_ID', suffixes = ['','_LIC'])"
   ]
  },
  {
   "cell_type": "raw",
   "metadata": {},
   "source": [
    "ins.head()"
   ]
  },
  {
   "cell_type": "code",
   "execution_count": null,
   "metadata": {},
   "outputs": [],
   "source": [
    "MERGED[['FROM_DT','STATE_CD','STATE_CD_LIC','FROM_DT_LIC','ISS_DT']]"
   ]
  },
  {
   "cell_type": "code",
   "execution_count": null,
   "metadata": {},
   "outputs": [],
   "source": [
    "# state_count = 0\n",
    "# mes = []\n",
    "for row in MERGED[593036:].itertuples():\n",
    "    if row.ME != mes[-1]:\n",
    "        if row.STATE_CD == row.STATE_CD_LIC:\n",
    "            state_count += 1\n",
    "            mes.append(row.ME)\n",
    "            print(row.ME)"
   ]
  },
  {
   "cell_type": "code",
   "execution_count": null,
   "metadata": {},
   "outputs": [],
   "source": [
    "state_count/1194828"
   ]
  },
  {
   "cell_type": "code",
   "execution_count": null,
   "metadata": {},
   "outputs": [],
   "source": [
    "len(MERGED.groupby('ME').count())"
   ]
  },
  {
   "cell_type": "code",
   "execution_count": null,
   "metadata": {},
   "outputs": [],
   "source": [
    "listy = [1,2,3]\n",
    "listy[-1]"
   ]
  },
  {
   "cell_type": "code",
   "execution_count": null,
   "metadata": {},
   "outputs": [],
   "source": [
    "MERGED.sort_values(by='ME')"
   ]
  },
  {
   "cell_type": "code",
   "execution_count": null,
   "metadata": {},
   "outputs": [],
   "source": [
    "state_count_2 = 0\n",
    "mes_2 = [1]\n",
    "for row in MERGED.itertuples():\n",
    "    if row.ME != mes_2[-1]:\n",
    "        if row.STATE_CD_POLO == row.STATE_CD_LIC or row.STATE_CD_PPMA == row.STATE_CD_LIC:\n",
    "            state_count_2 += 1\n",
    "            mes_2.append(row.ME)"
   ]
  },
  {
   "cell_type": "code",
   "execution_count": null,
   "metadata": {},
   "outputs": [],
   "source": [
    "state_count_2/1194828"
   ]
  },
  {
   "cell_type": "code",
   "execution_count": null,
   "metadata": {},
   "outputs": [],
   "source": [
    "LIC = LIC.sort_values('FROM_DT')"
   ]
  },
  {
   "cell_type": "code",
   "execution_count": null,
   "metadata": {},
   "outputs": [],
   "source": [
    "LIC"
   ]
  },
  {
   "cell_type": "code",
   "execution_count": null,
   "metadata": {},
   "outputs": [],
   "source": [
    "DUPE = LIC.drop_duplicates('PARTY_ID', keep = 'last')"
   ]
  },
  {
   "cell_type": "code",
   "execution_count": null,
   "metadata": {},
   "outputs": [],
   "source": [
    "test = pd.merge(ins, DUPE, on='PARTY_ID', suffixes = ('','_LIC'))"
   ]
  },
  {
   "cell_type": "code",
   "execution_count": null,
   "metadata": {},
   "outputs": [],
   "source": [
    "lic_match = []\n",
    "for row in test.itertuples():\n",
    "    if row.STATE_CD == row.STATE_CD_LIC:\n",
    "        lic_match.append(True)\n",
    "    else:\n",
    "        lic_match.append(False)"
   ]
  },
  {
   "cell_type": "code",
   "execution_count": null,
   "metadata": {},
   "outputs": [],
   "source": [
    "test['LIC_MATCH']=lic_match"
   ]
  },
  {
   "cell_type": "code",
   "execution_count": null,
   "metadata": {},
   "outputs": [],
   "source": [
    "test[(test.Match==False) &(test.LIC_MATCH==True)].to_csv('license_match.csv',index=False)"
   ]
  },
  {
   "cell_type": "code",
   "execution_count": null,
   "metadata": {},
   "outputs": [],
   "source": [
    "pd.read_csv('wslive_with_results_2019-01-04_to_2020-01-24.csv')"
   ]
  },
  {
   "cell_type": "code",
   "execution_count": null,
   "metadata": {},
   "outputs": [],
   "source": []
  }
 ],
 "metadata": {
  "kernelspec": {
   "display_name": "Python 3",
   "language": "python",
   "name": "python3"
  },
  "language_info": {
   "codemirror_mode": {
    "name": "ipython",
    "version": 3
   },
   "file_extension": ".py",
   "mimetype": "text/x-python",
   "name": "python",
   "nbconvert_exporter": "python",
   "pygments_lexer": "ipython3",
   "version": "3.7.4"
  }
 },
 "nbformat": 4,
 "nbformat_minor": 2
}
