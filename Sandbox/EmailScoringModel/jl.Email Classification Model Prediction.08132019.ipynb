{
 "cells": [
  {
   "cell_type": "markdown",
   "metadata": {},
   "source": [
    "Goal: Preprocess the new data and apply the model to it. Save and export the predictions."
   ]
  },
  {
   "cell_type": "markdown",
   "metadata": {},
   "source": [
    "files needed\n",
    "1. new email batch\n",
    "2. nickname dictionary\n",
    "3. repository of functions called to this script"
   ]
  },
  {
   "cell_type": "code",
   "execution_count": 1,
   "metadata": {},
   "outputs": [],
   "source": [
    "# libraries needed\n",
    "import pandas as pd\n",
    "import numpy as np\n",
    "import time\n",
    "import pickle"
   ]
  },
  {
   "cell_type": "code",
   "execution_count": 2,
   "metadata": {},
   "outputs": [],
   "source": [
    "exec(open(\"C:/Users/jalee/Desktop/Email_Model/Function_Repository.py\").read())"
   ]
  },
  {
   "cell_type": "markdown",
   "metadata": {
    "collapsed": true
   },
   "source": [
    "Alternate ways of calling the repository\n",
    "1.!python C:/Users/jalee/Desktop/Email_Model/Function_Repository.py\n",
    "2.%load_ext autoreload\n",
    "%autoreload 1\n",
    "%aimport C:/Users/jalee/Desktop/Email_Model/Function_Repository\n",
    "3.import the user-defined functions\n",
    "import sys\n",
    "sys.path.insert(0, 'C:/Users/jalee/Desktop/Email_Model/' )\n",
    "import Function_Repository"
   ]
  },
  {
   "cell_type": "markdown",
   "metadata": {},
   "source": [
    "Upload the new data to be predicted: \n",
    "Before preprocessing, this data needs PPD's type of practice and telephone records"
   ]
  },
  {
   "cell_type": "code",
   "execution_count": 3,
   "metadata": {},
   "outputs": [],
   "source": [
    "ppd = PPD_load()"
   ]
  },
  {
   "cell_type": "code",
   "execution_count": 16,
   "metadata": {
    "collapsed": true
   },
   "outputs": [
    {
     "name": "stdout",
     "output_type": "stream",
     "text": [
      "dimension of dataframe is: (1262552, 81)\n",
      "column names of dataframe are: ['ME' 'RECORD_ID' 'UPDATE_TYPE' 'ADDRESS_TYPE' 'MAILING_NAME' 'LAST_NAME'\n",
      " 'FIRST_NAME' 'MIDDLE_NAME' 'SUFFIX' 'MAILING_LINE_1' 'MAILING_LINE_2'\n",
      " 'CITY' 'STATE' 'ZIP' 'SECTOR' 'CARRIER_ROUTE'\n",
      " 'ADDRESS_UNDELIVERABLE_FLAG' 'FIPS_COUNTY' 'FIPS_STATE'\n",
      " 'PRINTER_CONTROL_CODE' 'PC_ZIP' 'PC_SECTOR' 'DELIVERY_POINT_CODE'\n",
      " 'CHECK_DIGIT' 'PRINTER_CONTROL_CODE_2' 'REGION' 'DIVISION' 'GROUP'\n",
      " 'TRACT' 'SUFFIX_CENSUS' 'BLOCK_GROUP' 'MSA_POPULATION_SIZE'\n",
      " 'MICRO_METRO_IND' 'CBSA' 'CBSA_DIV_IND' 'MD_DO_CODE' 'BIRTH_YEAR'\n",
      " 'BIRTH_CITY' 'BIRTH_STATE' 'BIRTH_COUNTRY' 'GENDER' 'TELEPHONE_NUMBER'\n",
      " 'PRESUMED_DEAD_FLAG' 'FAX_NUMBER' 'TOP_CD' 'PE_CD' 'PRIM_SPEC_CD'\n",
      " 'SEC_SPEC_CD' 'MPA_CD' 'PRA_RECIPIENT' 'PRA_EXP_DT' 'GME_CONF_FLG'\n",
      " 'FROM_DT' 'TO_DT' 'YEAR_IN_PROGRAM' 'POST_GRADUATE_YEAR' 'GME_SPEC_1'\n",
      " 'GME_SPEC_2' 'TRAINING_TYPE' 'GME_INST_STATE' 'GME_INST_ID'\n",
      " 'MEDSCHOOL_STATE' 'MEDSCHOOL_ID' 'MEDSCHOOL_GRAD_YEAR' 'NO_CONTACT_IND'\n",
      " 'NO_WEB_FLAG' 'PDRP_FLAG' 'PDRP_START_DT' 'POLO_MAILING_LINE_1'\n",
      " 'POLO_MAILING_LINE_2' 'POLO_CITY' 'POLO_STATE' 'POLO_ZIP' 'POLO_SECTOR'\n",
      " 'POLO_CARRIER_ROUTE' 'MOST_RECENT_FORMER_LAST_NAME'\n",
      " 'MOST_RECENT_FORMER_MIDDLE_NAME' 'MOST_RECENT_FORMER_FIRST_NAME'\n",
      " 'NEXT_MOST_RECENT_FORMER_LAST' 'NEXT_MOST_RECENT_FORMER_MIDDLE'\n",
      " 'NEXT_MOST_RECENT_FORMER_FIRST']\n",
      "data types of columns are: ME                                object\n",
      "RECORD_ID                         object\n",
      "UPDATE_TYPE                       object\n",
      "ADDRESS_TYPE                      object\n",
      "MAILING_NAME                      object\n",
      "LAST_NAME                         object\n",
      "FIRST_NAME                        object\n",
      "MIDDLE_NAME                       object\n",
      "SUFFIX                            object\n",
      "MAILING_LINE_1                    object\n",
      "MAILING_LINE_2                    object\n",
      "CITY                              object\n",
      "STATE                             object\n",
      "ZIP                               object\n",
      "SECTOR                            object\n",
      "CARRIER_ROUTE                     object\n",
      "ADDRESS_UNDELIVERABLE_FLAG        object\n",
      "FIPS_COUNTY                       object\n",
      "FIPS_STATE                        object\n",
      "PRINTER_CONTROL_CODE              object\n",
      "PC_ZIP                            object\n",
      "PC_SECTOR                         object\n",
      "DELIVERY_POINT_CODE               object\n",
      "CHECK_DIGIT                       object\n",
      "PRINTER_CONTROL_CODE_2            object\n",
      "REGION                            object\n",
      "DIVISION                          object\n",
      "GROUP                             object\n",
      "TRACT                             object\n",
      "SUFFIX_CENSUS                     object\n",
      "                                   ...  \n",
      "GME_CONF_FLG                      object\n",
      "FROM_DT                           object\n",
      "TO_DT                             object\n",
      "YEAR_IN_PROGRAM                   object\n",
      "POST_GRADUATE_YEAR                object\n",
      "GME_SPEC_1                        object\n",
      "GME_SPEC_2                        object\n",
      "TRAINING_TYPE                     object\n",
      "GME_INST_STATE                    object\n",
      "GME_INST_ID                       object\n",
      "MEDSCHOOL_STATE                   object\n",
      "MEDSCHOOL_ID                      object\n",
      "MEDSCHOOL_GRAD_YEAR               object\n",
      "NO_CONTACT_IND                    object\n",
      "NO_WEB_FLAG                       object\n",
      "PDRP_FLAG                         object\n",
      "PDRP_START_DT                     object\n",
      "POLO_MAILING_LINE_1               object\n",
      "POLO_MAILING_LINE_2               object\n",
      "POLO_CITY                         object\n",
      "POLO_STATE                        object\n",
      "POLO_ZIP                          object\n",
      "POLO_SECTOR                       object\n",
      "POLO_CARRIER_ROUTE                object\n",
      "MOST_RECENT_FORMER_LAST_NAME      object\n",
      "MOST_RECENT_FORMER_MIDDLE_NAME    object\n",
      "MOST_RECENT_FORMER_FIRST_NAME     object\n",
      "NEXT_MOST_RECENT_FORMER_LAST      object\n",
      "NEXT_MOST_RECENT_FORMER_MIDDLE    object\n",
      "NEXT_MOST_RECENT_FORMER_FIRST     object\n",
      "Length: 81, dtype: object\n",
      "below is the first 5 results: \n"
     ]
    }
   ],
   "source": [
    "data_describe(ppd)"
   ]
  },
  {
   "cell_type": "code",
   "execution_count": 4,
   "metadata": {},
   "outputs": [],
   "source": [
    "# import the new email batch\n",
    "data = pd.read_csv('jl.VerticalTrailData.08132019.csv', converters={'ME': lambda x: str(x)})"
   ]
  },
  {
   "cell_type": "code",
   "execution_count": 5,
   "metadata": {
    "scrolled": true
   },
   "outputs": [
    {
     "name": "stdout",
     "output_type": "stream",
     "text": [
      "dimension of dataframe is: (5404, 4)\n",
      "column names of dataframe are: ['ME' 'email' 'first_name' 'last_name']\n",
      "data types of columns are: ME            object\n",
      "email         object\n",
      "first_name    object\n",
      "last_name     object\n",
      "dtype: object\n",
      "below is the first 5 results: \n",
      "          ME                         email first_name last_name\n",
      "0  102021177          askdrkel@hotmail.com     KELLEY    TAYLOR\n",
      "1  102021461              corveyr@apsu.edu      KEITH    GIPSON\n",
      "2  102040597             telacyjr@tamu.edu      LACEY    THOMAS\n",
      "3  102040929       nalvmacouncil@gmail.com     KELLIE  MATTHEWS\n",
      "4  102041178  willsvalleymedical@yahoo.com    FRANCES       KOE\n"
     ]
    }
   ],
   "source": [
    "# make sure this email batch contains ME numbers\n",
    "data_describe(data)"
   ]
  },
  {
   "cell_type": "code",
   "execution_count": 6,
   "metadata": {},
   "outputs": [],
   "source": [
    "# join the two tables\n",
    "df = pd.merge(data,ppd[['ME','TELEPHONE_NUMBER','TOP_CD']],on='ME', how='inner') \n",
    "# if you need first names and last names too, then ppd[['ME','FIRST_NAME','LAST_NAME','TELEPHONE_NUMBER','TOP_CD']]"
   ]
  },
  {
   "cell_type": "code",
   "execution_count": 7,
   "metadata": {},
   "outputs": [
    {
     "name": "stdout",
     "output_type": "stream",
     "text": [
      "dimension of dataframe is: (1133, 6)\n",
      "column names of dataframe are: ['ME' 'email' 'first_name' 'last_name' 'TELEPHONE_NUMBER' 'TOP_CD']\n",
      "data types of columns are: ME                  object\n",
      "email               object\n",
      "first_name          object\n",
      "last_name           object\n",
      "TELEPHONE_NUMBER    object\n",
      "TOP_CD              object\n",
      "dtype: object\n",
      "below is the first 5 results: \n",
      "            ME                      email first_name last_name  \\\n",
      "0  10401020026         smayfield@ucsd.edu     STEVEN  MAYFIELD   \n",
      "1  10401080282  DrB@TheBartlettClinic.com    HEATHER  BARTLETT   \n",
      "2  10401080673        jalbert@citadel.edu   JENNIFER    ALBERT   \n",
      "3  10401081238    sigmabetadelta@umsl.edu      ATHOR   MIKHAIL   \n",
      "4  10401090113                 jwu@ku.edu       JUDY        WU   \n",
      "\n",
      "  TELEPHONE_NUMBER TOP_CD  \n",
      "0              NaN    020  \n",
      "1       6082636420    020  \n",
      "2       6038830005    020  \n",
      "3              NaN    020  \n",
      "4       6238821682    020  \n"
     ]
    }
   ],
   "source": [
    "# sanity check\n",
    "data_describe(df)"
   ]
  },
  {
   "cell_type": "code",
   "execution_count": 8,
   "metadata": {},
   "outputs": [
    {
     "data": {
      "text/plain": [
       "array(['ME', 'email', 'first_name', 'last_name', 'telephone', 'top'],\n",
       "      dtype=object)"
      ]
     },
     "execution_count": 8,
     "metadata": {},
     "output_type": "execute_result"
    }
   ],
   "source": [
    "# change column names\n",
    "df.columns = ['ME','email','first_name','last_name','telephone','top']\n",
    "df.columns.values"
   ]
  },
  {
   "cell_type": "markdown",
   "metadata": {},
   "source": [
    "After joining the tables, preprocess the data "
   ]
  },
  {
   "cell_type": "code",
   "execution_count": 9,
   "metadata": {},
   "outputs": [],
   "source": [
    "# Change Type of Practice (top) codes into actual values\n",
    "df['top'] = df['top'].apply(TOP_CD)"
   ]
  },
  {
   "cell_type": "code",
   "execution_count": 10,
   "metadata": {},
   "outputs": [],
   "source": [
    "# factorize top\n",
    "df['top'] = df['top'].astype('category')"
   ]
  },
  {
   "cell_type": "code",
   "execution_count": 11,
   "metadata": {},
   "outputs": [],
   "source": [
    "# create a new variable: does telephone exist? (boolean)\n",
    "df['telephone']= pd.isnull(df['telephone'])"
   ]
  },
  {
   "cell_type": "code",
   "execution_count": 12,
   "metadata": {},
   "outputs": [],
   "source": [
    "# create a new temporary variable: email domain (factor)\n",
    "df['domain'] = df['email'].apply(domain) # we still want to keep what comes after period . because of edu"
   ]
  },
  {
   "cell_type": "code",
   "execution_count": 13,
   "metadata": {},
   "outputs": [
    {
     "data": {
      "text/plain": [
       "gmail.com         0.128861\n",
       "yahoo.com         0.037070\n",
       "aol.com           0.013239\n",
       "hotmail.com       0.013239\n",
       "mountsinai.org    0.007944\n",
       "GMAIL.COM         0.007061\n",
       "bcm.edu           0.007061\n",
       "Name: domain, dtype: float64"
      ]
     },
     "execution_count": 13,
     "metadata": {},
     "output_type": "execute_result"
    }
   ],
   "source": [
    "# look at the distribution of email domain\n",
    "df['domain'].value_counts(1).head(7)"
   ]
  },
  {
   "cell_type": "code",
   "execution_count": 14,
   "metadata": {},
   "outputs": [],
   "source": [
    "df['email_domain'] = np.vectorize(domain_conditions)(df['domain'], df['last_name'], df['first_name'])"
   ]
  },
  {
   "cell_type": "code",
   "execution_count": 16,
   "metadata": {},
   "outputs": [
    {
     "data": {
      "text/plain": [
       "0         smayfield\n",
       "1               DrB\n",
       "2           jalbert\n",
       "3    sigmabetadelta\n",
       "4               jwu\n",
       "Name: name, dtype: object"
      ]
     },
     "execution_count": 16,
     "metadata": {},
     "output_type": "execute_result"
    }
   ],
   "source": [
    "# create an email name column\n",
    "df['name'] = df['email'].apply(email_name)\n",
    "df['name'].head(5)"
   ]
  },
  {
   "cell_type": "code",
   "execution_count": 17,
   "metadata": {},
   "outputs": [],
   "source": [
    "df['email_name'] = np.vectorize(email_name_conditions)(df['name'], df['first_name'], df['last_name'])"
   ]
  },
  {
   "cell_type": "code",
   "execution_count": 18,
   "metadata": {},
   "outputs": [],
   "source": [
    "df['email_name']=df['email_name'].fillna('no_name')"
   ]
  },
  {
   "cell_type": "code",
   "execution_count": 19,
   "metadata": {},
   "outputs": [],
   "source": [
    "# creates a boolean variable for whether email name contains a number\n",
    "df['NumberedEmail'] = df['name'].apply(hasNum)"
   ]
  },
  {
   "cell_type": "code",
   "execution_count": 20,
   "metadata": {},
   "outputs": [],
   "source": [
    "# remove numbers and see if the last two characters are md\n",
    "# creates a boolean variable for whether email name contains 'md'\n",
    "df['MD'] = df['name'].apply(hasMD)"
   ]
  },
  {
   "cell_type": "code",
   "execution_count": 21,
   "metadata": {},
   "outputs": [],
   "source": [
    "# the first two characters are dr\n",
    "# creates a boolean variable for whether email name contains 'dr'\n",
    "df['DR'] = df['name'].apply(hasDR)"
   ]
  },
  {
   "cell_type": "code",
   "execution_count": 22,
   "metadata": {},
   "outputs": [
    {
     "data": {
      "text/html": [
       "<div>\n",
       "<style scoped>\n",
       "    .dataframe tbody tr th:only-of-type {\n",
       "        vertical-align: middle;\n",
       "    }\n",
       "\n",
       "    .dataframe tbody tr th {\n",
       "        vertical-align: top;\n",
       "    }\n",
       "\n",
       "    .dataframe thead th {\n",
       "        text-align: right;\n",
       "    }\n",
       "</style>\n",
       "<table border=\"1\" class=\"dataframe\">\n",
       "  <thead>\n",
       "    <tr style=\"text-align: right;\">\n",
       "      <th></th>\n",
       "      <th>ME</th>\n",
       "      <th>email</th>\n",
       "      <th>first_name</th>\n",
       "      <th>last_name</th>\n",
       "      <th>telephone</th>\n",
       "      <th>top</th>\n",
       "      <th>domain</th>\n",
       "      <th>email_domain</th>\n",
       "      <th>name</th>\n",
       "      <th>email_name</th>\n",
       "      <th>NumberedEmail</th>\n",
       "      <th>MD</th>\n",
       "      <th>DR</th>\n",
       "      <th>DOC</th>\n",
       "    </tr>\n",
       "  </thead>\n",
       "  <tbody>\n",
       "    <tr>\n",
       "      <th>0</th>\n",
       "      <td>10401020026</td>\n",
       "      <td>smayfield@ucsd.edu</td>\n",
       "      <td>STEVEN</td>\n",
       "      <td>MAYFIELD</td>\n",
       "      <td>True</td>\n",
       "      <td>unclassified</td>\n",
       "      <td>ucsd.edu</td>\n",
       "      <td>edu</td>\n",
       "      <td>smayfield</td>\n",
       "      <td>If_Fl</td>\n",
       "      <td>False</td>\n",
       "      <td>False</td>\n",
       "      <td>False</td>\n",
       "      <td>False</td>\n",
       "    </tr>\n",
       "    <tr>\n",
       "      <th>1</th>\n",
       "      <td>10401080282</td>\n",
       "      <td>DrB@TheBartlettClinic.com</td>\n",
       "      <td>HEATHER</td>\n",
       "      <td>BARTLETT</td>\n",
       "      <td>False</td>\n",
       "      <td>unclassified</td>\n",
       "      <td>TheBartlettClinic.com</td>\n",
       "      <td>etc</td>\n",
       "      <td>DrB</td>\n",
       "      <td>None</td>\n",
       "      <td>False</td>\n",
       "      <td>False</td>\n",
       "      <td>True</td>\n",
       "      <td>False</td>\n",
       "    </tr>\n",
       "    <tr>\n",
       "      <th>2</th>\n",
       "      <td>10401080673</td>\n",
       "      <td>jalbert@citadel.edu</td>\n",
       "      <td>JENNIFER</td>\n",
       "      <td>ALBERT</td>\n",
       "      <td>False</td>\n",
       "      <td>unclassified</td>\n",
       "      <td>citadel.edu</td>\n",
       "      <td>edu</td>\n",
       "      <td>jalbert</td>\n",
       "      <td>If_Fl</td>\n",
       "      <td>False</td>\n",
       "      <td>False</td>\n",
       "      <td>False</td>\n",
       "      <td>False</td>\n",
       "    </tr>\n",
       "    <tr>\n",
       "      <th>3</th>\n",
       "      <td>10401081238</td>\n",
       "      <td>sigmabetadelta@umsl.edu</td>\n",
       "      <td>ATHOR</td>\n",
       "      <td>MIKHAIL</td>\n",
       "      <td>True</td>\n",
       "      <td>unclassified</td>\n",
       "      <td>umsl.edu</td>\n",
       "      <td>edu</td>\n",
       "      <td>sigmabetadelta</td>\n",
       "      <td>no_name</td>\n",
       "      <td>False</td>\n",
       "      <td>False</td>\n",
       "      <td>False</td>\n",
       "      <td>False</td>\n",
       "    </tr>\n",
       "    <tr>\n",
       "      <th>4</th>\n",
       "      <td>10401090113</td>\n",
       "      <td>jwu@ku.edu</td>\n",
       "      <td>JUDY</td>\n",
       "      <td>WU</td>\n",
       "      <td>False</td>\n",
       "      <td>unclassified</td>\n",
       "      <td>ku.edu</td>\n",
       "      <td>edu</td>\n",
       "      <td>jwu</td>\n",
       "      <td>If_Fl</td>\n",
       "      <td>False</td>\n",
       "      <td>False</td>\n",
       "      <td>False</td>\n",
       "      <td>False</td>\n",
       "    </tr>\n",
       "  </tbody>\n",
       "</table>\n",
       "</div>"
      ],
      "text/plain": [
       "            ME                      email first_name last_name  telephone  \\\n",
       "0  10401020026         smayfield@ucsd.edu     STEVEN  MAYFIELD       True   \n",
       "1  10401080282  DrB@TheBartlettClinic.com    HEATHER  BARTLETT      False   \n",
       "2  10401080673        jalbert@citadel.edu   JENNIFER    ALBERT      False   \n",
       "3  10401081238    sigmabetadelta@umsl.edu      ATHOR   MIKHAIL       True   \n",
       "4  10401090113                 jwu@ku.edu       JUDY        WU      False   \n",
       "\n",
       "            top                 domain email_domain            name  \\\n",
       "0  unclassified               ucsd.edu          edu       smayfield   \n",
       "1  unclassified  TheBartlettClinic.com          etc             DrB   \n",
       "2  unclassified            citadel.edu          edu         jalbert   \n",
       "3  unclassified               umsl.edu          edu  sigmabetadelta   \n",
       "4  unclassified                 ku.edu          edu             jwu   \n",
       "\n",
       "  email_name  NumberedEmail     MD     DR    DOC  \n",
       "0      If_Fl          False  False  False  False  \n",
       "1       None          False  False   True  False  \n",
       "2      If_Fl          False  False  False  False  \n",
       "3    no_name          False  False  False  False  \n",
       "4      If_Fl          False  False  False  False  "
      ]
     },
     "execution_count": 22,
     "metadata": {},
     "output_type": "execute_result"
    }
   ],
   "source": [
    "# creates a boolean variable for whether email name contains 'doc'\n",
    "df['DOC'] = df['name'].apply(hasDOC)\n",
    "df.head(5)"
   ]
  },
  {
   "cell_type": "code",
   "execution_count": 23,
   "metadata": {},
   "outputs": [
    {
     "data": {
      "text/html": [
       "<div>\n",
       "<style scoped>\n",
       "    .dataframe tbody tr th:only-of-type {\n",
       "        vertical-align: middle;\n",
       "    }\n",
       "\n",
       "    .dataframe tbody tr th {\n",
       "        vertical-align: top;\n",
       "    }\n",
       "\n",
       "    .dataframe thead th {\n",
       "        text-align: right;\n",
       "    }\n",
       "</style>\n",
       "<table border=\"1\" class=\"dataframe\">\n",
       "  <thead>\n",
       "    <tr style=\"text-align: right;\">\n",
       "      <th></th>\n",
       "      <th>telephone</th>\n",
       "      <th>top</th>\n",
       "      <th>email_domain</th>\n",
       "      <th>email_name</th>\n",
       "      <th>NumberedEmail</th>\n",
       "      <th>MD</th>\n",
       "      <th>DR</th>\n",
       "      <th>DOC</th>\n",
       "    </tr>\n",
       "  </thead>\n",
       "  <tbody>\n",
       "    <tr>\n",
       "      <th>0</th>\n",
       "      <td>True</td>\n",
       "      <td>unclassified</td>\n",
       "      <td>edu</td>\n",
       "      <td>If_Fl</td>\n",
       "      <td>False</td>\n",
       "      <td>False</td>\n",
       "      <td>False</td>\n",
       "      <td>False</td>\n",
       "    </tr>\n",
       "    <tr>\n",
       "      <th>1</th>\n",
       "      <td>False</td>\n",
       "      <td>unclassified</td>\n",
       "      <td>etc</td>\n",
       "      <td>None</td>\n",
       "      <td>False</td>\n",
       "      <td>False</td>\n",
       "      <td>True</td>\n",
       "      <td>False</td>\n",
       "    </tr>\n",
       "    <tr>\n",
       "      <th>2</th>\n",
       "      <td>False</td>\n",
       "      <td>unclassified</td>\n",
       "      <td>edu</td>\n",
       "      <td>If_Fl</td>\n",
       "      <td>False</td>\n",
       "      <td>False</td>\n",
       "      <td>False</td>\n",
       "      <td>False</td>\n",
       "    </tr>\n",
       "    <tr>\n",
       "      <th>3</th>\n",
       "      <td>True</td>\n",
       "      <td>unclassified</td>\n",
       "      <td>edu</td>\n",
       "      <td>no_name</td>\n",
       "      <td>False</td>\n",
       "      <td>False</td>\n",
       "      <td>False</td>\n",
       "      <td>False</td>\n",
       "    </tr>\n",
       "    <tr>\n",
       "      <th>4</th>\n",
       "      <td>False</td>\n",
       "      <td>unclassified</td>\n",
       "      <td>edu</td>\n",
       "      <td>If_Fl</td>\n",
       "      <td>False</td>\n",
       "      <td>False</td>\n",
       "      <td>False</td>\n",
       "      <td>False</td>\n",
       "    </tr>\n",
       "  </tbody>\n",
       "</table>\n",
       "</div>"
      ],
      "text/plain": [
       "   telephone           top email_domain email_name  NumberedEmail     MD  \\\n",
       "0       True  unclassified          edu      If_Fl          False  False   \n",
       "1      False  unclassified          etc       None          False  False   \n",
       "2      False  unclassified          edu      If_Fl          False  False   \n",
       "3       True  unclassified          edu    no_name          False  False   \n",
       "4      False  unclassified          edu      If_Fl          False  False   \n",
       "\n",
       "      DR    DOC  \n",
       "0  False  False  \n",
       "1   True  False  \n",
       "2  False  False  \n",
       "3  False  False  \n",
       "4  False  False  "
      ]
     },
     "execution_count": 23,
     "metadata": {},
     "output_type": "execute_result"
    }
   ],
   "source": [
    "# subset only the columns needed\n",
    "df2=df.iloc[:, [4,5,7,9,10,11,12,13]] # df.loc is buggy\n",
    "df2.head()"
   ]
  },
  {
   "cell_type": "code",
   "execution_count": 24,
   "metadata": {},
   "outputs": [
    {
     "name": "stderr",
     "output_type": "stream",
     "text": [
      "C:\\Users\\jalee\\AppData\\Local\\Continuum\\anaconda3\\lib\\site-packages\\pandas\\core\\indexing.py:543: SettingWithCopyWarning: \n",
      "A value is trying to be set on a copy of a slice from a DataFrame.\n",
      "Try using .loc[row_indexer,col_indexer] = value instead\n",
      "\n",
      "See the caveats in the documentation: http://pandas.pydata.org/pandas-docs/stable/indexing.html#indexing-view-versus-copy\n",
      "  self.obj[item] = s\n"
     ]
    },
    {
     "data": {
      "text/html": [
       "<div>\n",
       "<style scoped>\n",
       "    .dataframe tbody tr th:only-of-type {\n",
       "        vertical-align: middle;\n",
       "    }\n",
       "\n",
       "    .dataframe tbody tr th {\n",
       "        vertical-align: top;\n",
       "    }\n",
       "\n",
       "    .dataframe thead th {\n",
       "        text-align: right;\n",
       "    }\n",
       "</style>\n",
       "<table border=\"1\" class=\"dataframe\">\n",
       "  <thead>\n",
       "    <tr style=\"text-align: right;\">\n",
       "      <th></th>\n",
       "      <th>telephone</th>\n",
       "      <th>top</th>\n",
       "      <th>email_domain</th>\n",
       "      <th>email_name</th>\n",
       "      <th>NumberedEmail</th>\n",
       "      <th>MD</th>\n",
       "      <th>DR</th>\n",
       "      <th>DOC</th>\n",
       "    </tr>\n",
       "  </thead>\n",
       "  <tbody>\n",
       "    <tr>\n",
       "      <th>0</th>\n",
       "      <td>1</td>\n",
       "      <td>0</td>\n",
       "      <td>3</td>\n",
       "      <td>3</td>\n",
       "      <td>0</td>\n",
       "      <td>0</td>\n",
       "      <td>0</td>\n",
       "      <td>0</td>\n",
       "    </tr>\n",
       "    <tr>\n",
       "      <th>1</th>\n",
       "      <td>0</td>\n",
       "      <td>0</td>\n",
       "      <td>4</td>\n",
       "      <td>5</td>\n",
       "      <td>0</td>\n",
       "      <td>0</td>\n",
       "      <td>1</td>\n",
       "      <td>0</td>\n",
       "    </tr>\n",
       "    <tr>\n",
       "      <th>2</th>\n",
       "      <td>0</td>\n",
       "      <td>0</td>\n",
       "      <td>3</td>\n",
       "      <td>3</td>\n",
       "      <td>0</td>\n",
       "      <td>0</td>\n",
       "      <td>0</td>\n",
       "      <td>0</td>\n",
       "    </tr>\n",
       "    <tr>\n",
       "      <th>3</th>\n",
       "      <td>1</td>\n",
       "      <td>0</td>\n",
       "      <td>3</td>\n",
       "      <td>8</td>\n",
       "      <td>0</td>\n",
       "      <td>0</td>\n",
       "      <td>0</td>\n",
       "      <td>0</td>\n",
       "    </tr>\n",
       "    <tr>\n",
       "      <th>4</th>\n",
       "      <td>0</td>\n",
       "      <td>0</td>\n",
       "      <td>3</td>\n",
       "      <td>3</td>\n",
       "      <td>0</td>\n",
       "      <td>0</td>\n",
       "      <td>0</td>\n",
       "      <td>0</td>\n",
       "    </tr>\n",
       "  </tbody>\n",
       "</table>\n",
       "</div>"
      ],
      "text/plain": [
       "   telephone  top  email_domain  email_name  NumberedEmail  MD  DR  DOC\n",
       "0          1    0             3           3              0   0   0    0\n",
       "1          0    0             4           5              0   0   1    0\n",
       "2          0    0             3           3              0   0   0    0\n",
       "3          1    0             3           8              0   0   0    0\n",
       "4          0    0             3           3              0   0   0    0"
      ]
     },
     "execution_count": 24,
     "metadata": {},
     "output_type": "execute_result"
    }
   ],
   "source": [
    "# Change the data types so they are amenable to model\n",
    "from sklearn import preprocessing\n",
    "le = preprocessing.LabelEncoder()\n",
    "for i in range(8): # 9 = the number of columns in df\n",
    "    df2.iloc[:,i] = le.fit_transform(df2.iloc[:,i])\n",
    "df2.head() # look at what changed to the df"
   ]
  },
  {
   "cell_type": "code",
   "execution_count": 35,
   "metadata": {},
   "outputs": [],
   "source": [
    "# save the prediction data\n",
    "timestr = time.strftime(\"%m%d%Y\")\n",
    "user_initial = 'jl'\n",
    "file_name = 'VT_Prediction_preprocessed_data'\n",
    "df.to_csv('C:/Users/jalee/Desktop/' + user_initial + '.'+ file_name + '.' + timestr + '.csv', index=True)"
   ]
  },
  {
   "cell_type": "code",
   "execution_count": 37,
   "metadata": {},
   "outputs": [],
   "source": [
    "# Load the LDA model\n",
    "pkl_filename = \"lda.pkl\"\n",
    "with open(pkl_filename, 'rb') as file:\n",
    "    lda = pickle.load(file)"
   ]
  },
  {
   "cell_type": "code",
   "execution_count": 38,
   "metadata": {},
   "outputs": [],
   "source": [
    "# predict the data\n",
    "new_data_pred = lda.predict(df2)"
   ]
  },
  {
   "cell_type": "code",
   "execution_count": 39,
   "metadata": {},
   "outputs": [],
   "source": [
    "# add the predictions to the original data\n",
    "df['predictions'] = new_data_pred \n",
    "df.loc[df['predictions'] == 0, 'predictions'] = 'Bad'\n",
    "df.loc[df['predictions'] == 1, 'predictions'] = 'Good'\n",
    "df.head()"
   ]
  },
  {
   "cell_type": "code",
   "execution_count": 40,
   "metadata": {},
   "outputs": [],
   "source": [
    "# export this dataframe\n",
    "# make sure to adjust the user initial and file_name\n",
    "timestr = time.strftime(\"%m%d%Y\")\n",
    "user_initial = 'jl'\n",
    "file_name = 'VT_Predictions'\n",
    "df.to_csv('C:/Users/jalee/Desktop/' + user_initial + '.'+ file_name + '.' + timestr + '.csv', index=True)"
   ]
  }
 ],
 "metadata": {
  "kernelspec": {
   "display_name": "Python 3",
   "language": "python",
   "name": "python3"
  },
  "language_info": {
   "codemirror_mode": {
    "name": "ipython",
    "version": 3
   },
   "file_extension": ".py",
   "mimetype": "text/x-python",
   "name": "python",
   "nbconvert_exporter": "python",
   "pygments_lexer": "ipython3",
   "version": "3.7.3"
  }
 },
 "nbformat": 4,
 "nbformat_minor": 2
}
