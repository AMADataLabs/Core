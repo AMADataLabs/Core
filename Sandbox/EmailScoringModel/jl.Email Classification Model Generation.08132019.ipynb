{
 "cells": [
  {
   "cell_type": "code",
   "execution_count": null,
   "metadata": {},
   "outputs": [],
   "source": [
    "# Goal\n",
    "# Train the model from the training data and save the model in the local drive (do this once only)."
   ]
  },
  {
   "cell_type": "code",
   "execution_count": null,
   "metadata": {},
   "outputs": [],
   "source": [
    "# file needed: (all in csv format)\n",
    "# training data set"
   ]
  },
  {
   "cell_type": "code",
   "execution_count": 113,
   "metadata": {},
   "outputs": [],
   "source": [
    "# Pandas is the python's best library for handling dataframe objects\n",
    "import pandas as pd"
   ]
  },
  {
   "cell_type": "code",
   "execution_count": 114,
   "metadata": {},
   "outputs": [],
   "source": [
    "# Import the training data\n",
    "df = pd.read_csv('jl.email_training_data.08132019.csv')"
   ]
  },
  {
   "cell_type": "code",
   "execution_count": 120,
   "metadata": {},
   "outputs": [
    {
     "name": "stdout",
     "output_type": "stream",
     "text": [
      "(2401, 9)\n",
      "['quality2' 'top' 'teleph' 'email.domain' 'email.name' 'NumberedEmail'\n",
      " 'MD' 'DR' 'DOC']\n",
      "quality2         object\n",
      "top              object\n",
      "teleph             bool\n",
      "email.domain     object\n",
      "email.name       object\n",
      "NumberedEmail      bool\n",
      "MD                 bool\n",
      "DR                 bool\n",
      "DOC                bool\n",
      "dtype: object\n"
     ]
    },
    {
     "data": {
      "text/html": [
       "<div>\n",
       "<style scoped>\n",
       "    .dataframe tbody tr th:only-of-type {\n",
       "        vertical-align: middle;\n",
       "    }\n",
       "\n",
       "    .dataframe tbody tr th {\n",
       "        vertical-align: top;\n",
       "    }\n",
       "\n",
       "    .dataframe thead th {\n",
       "        text-align: right;\n",
       "    }\n",
       "</style>\n",
       "<table border=\"1\" class=\"dataframe\">\n",
       "  <thead>\n",
       "    <tr style=\"text-align: right;\">\n",
       "      <th></th>\n",
       "      <th>quality2</th>\n",
       "      <th>top</th>\n",
       "      <th>teleph</th>\n",
       "      <th>email.domain</th>\n",
       "      <th>email.name</th>\n",
       "      <th>NumberedEmail</th>\n",
       "      <th>MD</th>\n",
       "      <th>DR</th>\n",
       "      <th>DOC</th>\n",
       "    </tr>\n",
       "  </thead>\n",
       "  <tbody>\n",
       "    <tr>\n",
       "      <th>0</th>\n",
       "      <td>Good</td>\n",
       "      <td>resident</td>\n",
       "      <td>True</td>\n",
       "      <td>edu</td>\n",
       "      <td>If.Fl</td>\n",
       "      <td>False</td>\n",
       "      <td>False</td>\n",
       "      <td>False</td>\n",
       "      <td>False</td>\n",
       "    </tr>\n",
       "    <tr>\n",
       "      <th>1</th>\n",
       "      <td>Good</td>\n",
       "      <td>resident</td>\n",
       "      <td>True</td>\n",
       "      <td>edu</td>\n",
       "      <td>no.name</td>\n",
       "      <td>False</td>\n",
       "      <td>False</td>\n",
       "      <td>False</td>\n",
       "      <td>False</td>\n",
       "    </tr>\n",
       "    <tr>\n",
       "      <th>2</th>\n",
       "      <td>Good</td>\n",
       "      <td>resident</td>\n",
       "      <td>True</td>\n",
       "      <td>etc</td>\n",
       "      <td>no.name</td>\n",
       "      <td>False</td>\n",
       "      <td>False</td>\n",
       "      <td>False</td>\n",
       "      <td>False</td>\n",
       "    </tr>\n",
       "    <tr>\n",
       "      <th>3</th>\n",
       "      <td>Good</td>\n",
       "      <td>resident</td>\n",
       "      <td>True</td>\n",
       "      <td>edu</td>\n",
       "      <td>If.Fl</td>\n",
       "      <td>False</td>\n",
       "      <td>False</td>\n",
       "      <td>False</td>\n",
       "      <td>False</td>\n",
       "    </tr>\n",
       "    <tr>\n",
       "      <th>4</th>\n",
       "      <td>Good</td>\n",
       "      <td>resident</td>\n",
       "      <td>True</td>\n",
       "      <td>gmail</td>\n",
       "      <td>no.name</td>\n",
       "      <td>True</td>\n",
       "      <td>False</td>\n",
       "      <td>False</td>\n",
       "      <td>False</td>\n",
       "    </tr>\n",
       "  </tbody>\n",
       "</table>\n",
       "</div>"
      ],
      "text/plain": [
       "  quality2       top  teleph email.domain email.name  NumberedEmail     MD  \\\n",
       "0     Good  resident    True          edu      If.Fl          False  False   \n",
       "1     Good  resident    True          edu    no.name          False  False   \n",
       "2     Good  resident    True          etc    no.name          False  False   \n",
       "3     Good  resident    True          edu      If.Fl          False  False   \n",
       "4     Good  resident    True        gmail    no.name           True  False   \n",
       "\n",
       "      DR    DOC  \n",
       "0  False  False  \n",
       "1  False  False  \n",
       "2  False  False  \n",
       "3  False  False  \n",
       "4  False  False  "
      ]
     },
     "execution_count": 120,
     "metadata": {},
     "output_type": "execute_result"
    }
   ],
   "source": [
    "print(df.shape) # dimensions\n",
    "print(df.columns.values) # column namess\n",
    "print(df.dtypes) # dtypes\n",
    "df.head(5) "
   ]
  },
  {
   "cell_type": "code",
   "execution_count": 121,
   "metadata": {},
   "outputs": [
    {
     "data": {
      "text/html": [
       "<div>\n",
       "<style scoped>\n",
       "    .dataframe tbody tr th:only-of-type {\n",
       "        vertical-align: middle;\n",
       "    }\n",
       "\n",
       "    .dataframe tbody tr th {\n",
       "        vertical-align: top;\n",
       "    }\n",
       "\n",
       "    .dataframe thead th {\n",
       "        text-align: right;\n",
       "    }\n",
       "</style>\n",
       "<table border=\"1\" class=\"dataframe\">\n",
       "  <thead>\n",
       "    <tr style=\"text-align: right;\">\n",
       "      <th></th>\n",
       "      <th>quality2</th>\n",
       "      <th>top</th>\n",
       "      <th>teleph</th>\n",
       "      <th>email.domain</th>\n",
       "      <th>email.name</th>\n",
       "      <th>NumberedEmail</th>\n",
       "      <th>MD</th>\n",
       "      <th>DR</th>\n",
       "      <th>DOC</th>\n",
       "    </tr>\n",
       "  </thead>\n",
       "  <tbody>\n",
       "    <tr>\n",
       "      <th>0</th>\n",
       "      <td>1</td>\n",
       "      <td>5</td>\n",
       "      <td>1</td>\n",
       "      <td>4</td>\n",
       "      <td>3</td>\n",
       "      <td>0</td>\n",
       "      <td>0</td>\n",
       "      <td>0</td>\n",
       "      <td>0</td>\n",
       "    </tr>\n",
       "    <tr>\n",
       "      <th>1</th>\n",
       "      <td>1</td>\n",
       "      <td>5</td>\n",
       "      <td>1</td>\n",
       "      <td>4</td>\n",
       "      <td>7</td>\n",
       "      <td>0</td>\n",
       "      <td>0</td>\n",
       "      <td>0</td>\n",
       "      <td>0</td>\n",
       "    </tr>\n",
       "    <tr>\n",
       "      <th>2</th>\n",
       "      <td>1</td>\n",
       "      <td>5</td>\n",
       "      <td>1</td>\n",
       "      <td>5</td>\n",
       "      <td>7</td>\n",
       "      <td>0</td>\n",
       "      <td>0</td>\n",
       "      <td>0</td>\n",
       "      <td>0</td>\n",
       "    </tr>\n",
       "    <tr>\n",
       "      <th>3</th>\n",
       "      <td>1</td>\n",
       "      <td>5</td>\n",
       "      <td>1</td>\n",
       "      <td>4</td>\n",
       "      <td>3</td>\n",
       "      <td>0</td>\n",
       "      <td>0</td>\n",
       "      <td>0</td>\n",
       "      <td>0</td>\n",
       "    </tr>\n",
       "    <tr>\n",
       "      <th>4</th>\n",
       "      <td>1</td>\n",
       "      <td>5</td>\n",
       "      <td>1</td>\n",
       "      <td>6</td>\n",
       "      <td>7</td>\n",
       "      <td>1</td>\n",
       "      <td>0</td>\n",
       "      <td>0</td>\n",
       "      <td>0</td>\n",
       "    </tr>\n",
       "  </tbody>\n",
       "</table>\n",
       "</div>"
      ],
      "text/plain": [
       "   quality2  top  teleph  email.domain  email.name  NumberedEmail  MD  DR  DOC\n",
       "0         1    5       1             4           3              0   0   0    0\n",
       "1         1    5       1             4           7              0   0   0    0\n",
       "2         1    5       1             5           7              0   0   0    0\n",
       "3         1    5       1             4           3              0   0   0    0\n",
       "4         1    5       1             6           7              1   0   0    0"
      ]
     },
     "execution_count": 121,
     "metadata": {},
     "output_type": "execute_result"
    }
   ],
   "source": [
    "# Change the data types so they are amenable to model\n",
    "from sklearn import preprocessing\n",
    "le = preprocessing.LabelEncoder()\n",
    "for i in range(9): # 9 = the number of columns in df\n",
    "    df.iloc[:,i] = le.fit_transform(df.iloc[:,i])\n",
    "df.head() # look at what changed to the df"
   ]
  },
  {
   "cell_type": "code",
   "execution_count": 122,
   "metadata": {},
   "outputs": [],
   "source": [
    "# Split data into predictors and response\n",
    "y=df.iloc[:,0]\n",
    "x=df.iloc[:,1:]"
   ]
  },
  {
   "cell_type": "code",
   "execution_count": 123,
   "metadata": {
    "scrolled": true
   },
   "outputs": [
    {
     "data": {
      "text/plain": [
       "LinearDiscriminantAnalysis(n_components=None, priors=None, shrinkage=None,\n",
       "              solver='svd', store_covariance=False, tol=0.0001)"
      ]
     },
     "execution_count": 123,
     "metadata": {},
     "output_type": "execute_result"
    }
   ],
   "source": [
    "# The most popular machine learning library for Python is sci-kit learn (sklearn)\n",
    "# Train the Linear Discriminant Analysis (unfortunately, Flexible Discriminant Analysis not available in Python's sklearn)\n",
    "# Linear Discriminant Analysis was also very competitive in terms of F-1 and balanced accuracy so I choose LDA here\n",
    "from sklearn.discriminant_analysis import LinearDiscriminantAnalysis\n",
    "lda=LinearDiscriminantAnalysis()\n",
    "lda.fit(x,y)"
   ]
  },
  {
   "cell_type": "code",
   "execution_count": 124,
   "metadata": {},
   "outputs": [
    {
     "data": {
      "text/plain": [
       "array([[ 153,  296],\n",
       "       [ 151, 1801]], dtype=int64)"
      ]
     },
     "execution_count": 124,
     "metadata": {},
     "output_type": "execute_result"
    }
   ],
   "source": [
    "# The model selection was based on the train set (70% of data) in R out of thirteen classification models which were evaluated on the test set.\n",
    "# Since I chose to go with LDA anyways, I utilize the entire data set to ingest as much information out of data as possible.\n",
    "from sklearn.metrics import confusion_matrix\n",
    "y_train_pred = lda.predict(x)\n",
    "confusion_matrix(y,y_train_pred)"
   ]
  },
  {
   "cell_type": "code",
   "execution_count": 125,
   "metadata": {},
   "outputs": [
    {
     "name": "stdout",
     "output_type": "stream",
     "text": [
      "precision: 0.8588459704339533\n",
      "recall: 0.9226434426229508\n",
      "f1: 0.8896023709557915\n"
     ]
    }
   ],
   "source": [
    "# Precision, recall, and F-1 score\n",
    "from sklearn.metrics import precision_score, recall_score, f1_score\n",
    "print('precision: ' + str(precision_score(y,y_train_pred)))\n",
    "print('recall: ' + str(recall_score(y,y_train_pred)))\n",
    "print('f1: ' + str(f1_score(y,y_train_pred)))"
   ]
  },
  {
   "cell_type": "code",
   "execution_count": 126,
   "metadata": {},
   "outputs": [
    {
     "name": "stdout",
     "output_type": "stream",
     "text": [
      "              precision    recall  f1-score   support\n",
      "\n",
      "         Bad       0.50      0.34      0.41       449\n",
      "        Good       0.86      0.92      0.89      1952\n",
      "\n",
      "   micro avg       0.81      0.81      0.81      2401\n",
      "   macro avg       0.68      0.63      0.65      2401\n",
      "weighted avg       0.79      0.81      0.80      2401\n",
      "\n"
     ]
    }
   ],
   "source": [
    "# second report\n",
    "from sklearn.metrics import classification_report\n",
    "target_names = ['Bad', 'Good']\n",
    "print(classification_report(y, y_train_pred,target_names=target_names))"
   ]
  },
  {
   "cell_type": "code",
   "execution_count": 127,
   "metadata": {},
   "outputs": [],
   "source": [
    "# Import the library for outputting plots\n",
    "%matplotlib inline\n",
    "import matplotlib\n",
    "import matplotlib.pyplot as plt"
   ]
  },
  {
   "cell_type": "code",
   "execution_count": 128,
   "metadata": {},
   "outputs": [
    {
     "data": {
      "image/png": "[encoded data removed]",
      "text/plain": [
       "<Figure size 432x288 with 1 Axes>"
      ]
     },
     "metadata": {
      "needs_background": "light"
     },
     "output_type": "display_data"
    },
    {
     "name": "stdout",
     "output_type": "stream",
     "text": [
      "AUC: 0.8048041640804703\n"
     ]
    }
   ],
   "source": [
    "# ROC curve and AUC\n",
    "y_scores = cross_val_predict(lda, x, y, cv=5, method='decision_function')\n",
    "from sklearn.metrics import roc_curve\n",
    "fpr, tpr, thresholds = roc_curve(y,y_scores)\n",
    "def plot_roc_curve(fpr, tpr, label=None):\n",
    "    plt.plot(fpr,tpr,linewidth=2, label=label)\n",
    "    plt.plot([0,1],[0,1], 'k--')\n",
    "    plt.axis([0,1,0,1])\n",
    "    plt.xlabel('False Positive Rate')\n",
    "    plt.ylabel('True Positive Rate')\n",
    "\n",
    "plot_roc_curve(fpr,tpr)\n",
    "plt.show()\n",
    "from sklearn.metrics import roc_auc_score\n",
    "print('AUC: ' + str(roc_auc_score(y,y_scores)))"
   ]
  },
  {
   "cell_type": "code",
   "execution_count": 129,
   "metadata": {},
   "outputs": [],
   "source": [
    "# Save this model in the local drive so we don't have to train the model everytime we need to use\n",
    "import pickle\n",
    "pkl_filename = \"lda.pkl\"\n",
    "with open(pkl_filename, 'wb') as file:\n",
    "    pickle.dump(lda, file)"
   ]
  }
 ],
 "metadata": {
  "kernelspec": {
   "display_name": "Python 3",
   "language": "python",
   "name": "python3"
  },
  "language_info": {
   "codemirror_mode": {
    "name": "ipython",
    "version": 3
   },
   "file_extension": ".py",
   "mimetype": "text/x-python",
   "name": "python",
   "nbconvert_exporter": "python",
   "pygments_lexer": "ipython3",
   "version": "3.7.3"
  }
 },
 "nbformat": 4,
 "nbformat_minor": 2
}
