{
 "cells": [
  {
   "cell_type": "code",
   "execution_count": 73,
   "metadata": {},
   "outputs": [],
   "source": [
    "import pandas as pd\n",
    "import json\n",
    "from selenium import webdriver\n",
    "import pandas as pd\n",
    "import time"
   ]
  },
  {
   "cell_type": "code",
   "execution_count": 158,
   "metadata": {},
   "outputs": [],
   "source": [
    "driver.close()"
   ]
  },
  {
   "cell_type": "code",
   "execution_count": 159,
   "metadata": {},
   "outputs": [],
   "source": [
    "driver = webdriver.Chrome()"
   ]
  },
  {
   "cell_type": "code",
   "execution_count": 160,
   "metadata": {},
   "outputs": [],
   "source": [
    "driver.get('https://reportcards.ncqa.org/#/health-plans/list')"
   ]
  },
  {
   "cell_type": "code",
   "execution_count": 161,
   "metadata": {},
   "outputs": [],
   "source": [
    "element = driver.find_element_by_class_name('modal__button')\n",
    "element.click()"
   ]
  },
  {
   "cell_type": "code",
   "execution_count": 164,
   "metadata": {},
   "outputs": [],
   "source": [
    "things = driver.find_elements_by_class_name('ng-scope')"
   ]
  },
  {
   "cell_type": "code",
   "execution_count": 166,
   "metadata": {},
   "outputs": [],
   "source": [
    "plan_list = []\n",
    "accr_list = []\n",
    "state_list = []\n",
    "insure_list = []\n",
    "product_list = []"
   ]
  },
  {
   "cell_type": "code",
   "execution_count": 154,
   "metadata": {},
   "outputs": [],
   "source": [
    "def get_next_page(browser):\n",
    "    browser.find_element_by_xpath('//*[@title=\"Next Page\"]').click()"
   ]
  },
  {
   "cell_type": "code",
   "execution_count": 167,
   "metadata": {},
   "outputs": [
    {
     "name": "stdout",
     "output_type": "stream",
     "text": [
      "10 health plans counted\n",
      "20 health plans counted\n",
      "30 health plans counted\n",
      "40 health plans counted\n",
      "50 health plans counted\n",
      "60 health plans counted\n",
      "70 health plans counted\n",
      "80 health plans counted\n",
      "90 health plans counted\n",
      "100 health plans counted\n",
      "110 health plans counted\n",
      "120 health plans counted\n",
      "130 health plans counted\n",
      "140 health plans counted\n",
      "150 health plans counted\n",
      "160 health plans counted\n",
      "170 health plans counted\n",
      "180 health plans counted\n",
      "190 health plans counted\n",
      "200 health plans counted\n",
      "210 health plans counted\n",
      "220 health plans counted\n",
      "230 health plans counted\n",
      "240 health plans counted\n",
      "250 health plans counted\n",
      "260 health plans counted\n",
      "270 health plans counted\n",
      "280 health plans counted\n",
      "290 health plans counted\n",
      "300 health plans counted\n",
      "310 health plans counted\n",
      "320 health plans counted\n",
      "330 health plans counted\n",
      "340 health plans counted\n",
      "350 health plans counted\n",
      "360 health plans counted\n",
      "370 health plans counted\n",
      "380 health plans counted\n",
      "390 health plans counted\n",
      "400 health plans counted\n",
      "410 health plans counted\n",
      "420 health plans counted\n",
      "430 health plans counted\n",
      "440 health plans counted\n",
      "450 health plans counted\n",
      "460 health plans counted\n",
      "470 health plans counted\n",
      "480 health plans counted\n",
      "490 health plans counted\n",
      "500 health plans counted\n",
      "510 health plans counted\n",
      "520 health plans counted\n",
      "530 health plans counted\n",
      "540 health plans counted\n",
      "550 health plans counted\n",
      "560 health plans counted\n",
      "570 health plans counted\n",
      "580 health plans counted\n",
      "590 health plans counted\n",
      "600 health plans counted\n",
      "610 health plans counted\n",
      "620 health plans counted\n",
      "630 health plans counted\n",
      "640 health plans counted\n",
      "650 health plans counted\n",
      "660 health plans counted\n",
      "670 health plans counted\n",
      "680 health plans counted\n",
      "690 health plans counted\n",
      "700 health plans counted\n",
      "710 health plans counted\n",
      "720 health plans counted\n",
      "730 health plans counted\n",
      "740 health plans counted\n",
      "750 health plans counted\n",
      "760 health plans counted\n",
      "770 health plans counted\n",
      "780 health plans counted\n",
      "790 health plans counted\n",
      "800 health plans counted\n",
      "810 health plans counted\n",
      "820 health plans counted\n",
      "830 health plans counted\n",
      "840 health plans counted\n",
      "850 health plans counted\n",
      "860 health plans counted\n",
      "870 health plans counted\n",
      "880 health plans counted\n",
      "890 health plans counted\n",
      "900 health plans counted\n",
      "910 health plans counted\n",
      "920 health plans counted\n",
      "930 health plans counted\n",
      "940 health plans counted\n",
      "950 health plans counted\n",
      "960 health plans counted\n",
      "970 health plans counted\n",
      "980 health plans counted\n",
      "990 health plans counted\n",
      "1000 health plans counted\n",
      "1010 health plans counted\n",
      "1020 health plans counted\n",
      "1030 health plans counted\n",
      "1040 health plans counted\n",
      "1050 health plans counted\n",
      "1060 health plans counted\n",
      "1070 health plans counted\n",
      "1080 health plans counted\n",
      "1090 health plans counted\n",
      "1100 health plans counted\n",
      "1110 health plans counted\n",
      "1120 health plans counted\n",
      "1130 health plans counted\n",
      "1140 health plans counted\n",
      "1150 health plans counted\n",
      "1160 health plans counted\n",
      "1170 health plans counted\n",
      "1180 health plans counted\n",
      "1189 health plans counted\n",
      "1198 health plans counted\n",
      "1207 health plans counted\n"
     ]
    }
   ],
   "source": [
    "for num in list(range(0,121)):\n",
    "    time.sleep(5)\n",
    "    names = driver.find_elements_by_class_name('name')\n",
    "    accrs = driver.find_elements_by_class_name('accr')\n",
    "    states = driver.find_elements_by_class_name('state')\n",
    "    insures = driver.find_elements_by_class_name('insurance-type')\n",
    "    products = driver.find_elements_by_class_name('product-type')\n",
    "    for plan in names[1:11]:\n",
    "        plan_list.append(plan.text)\n",
    "    for accr in accrs[1:11]:\n",
    "        accr_list.append(accr.text.replace('Y ',''))\n",
    "    for insure in insures[1:11]:\n",
    "        insure_list.append(insure.text)\n",
    "    for state in states[1:11]:\n",
    "        state_list.append(state.text)\n",
    "    for product in products[1:11]:\n",
    "        product_list.append(product.text)\n",
    "    get_next_page(driver)\n",
    "    print(f'{len(plan_list)} health plans counted')"
   ]
  },
  {
   "cell_type": "code",
   "execution_count": 174,
   "metadata": {},
   "outputs": [],
   "source": [
    "pd.DataFrame({'Health_Plan_Name':plan_list,\n",
    "             'Accredidation': accr_list,\n",
    "             'States_Served':state_list[0:1207],\n",
    "             'Insurance_Type': insure_list,\n",
    "             'Product_Type':product_list\n",
    "             }).to_csv('../../../Data/HealthPlans/NCQA_list_2020-04-15.csv')"
   ]
  },
  {
   "cell_type": "code",
   "execution_count": 172,
   "metadata": {},
   "outputs": [
    {
     "data": {
      "text/plain": [
       "1207"
      ]
     },
     "execution_count": 172,
     "metadata": {},
     "output_type": "execute_result"
    }
   ],
   "source": [
    "len(insure_list)"
   ]
  },
  {
   "cell_type": "code",
   "execution_count": 179,
   "metadata": {},
   "outputs": [],
   "source": [
    "names = driver.find_elements_by_class_name('name')\n",
    "names[1].click()"
   ]
  },
  {
   "cell_type": "code",
   "execution_count": 177,
   "metadata": {},
   "outputs": [],
   "source": [
    "driver.back()"
   ]
  },
  {
   "cell_type": "code",
   "execution_count": 185,
   "metadata": {},
   "outputs": [
    {
     "data": {
      "text/plain": [
       "'31022'"
      ]
     },
     "execution_count": 185,
     "metadata": {},
     "output_type": "execute_result"
    }
   ],
   "source": [
    "driver.find_elements_by_class_name('content')[2].text\n",
    "driver.find_elements_by_class_name('content')[4].text"
   ]
  },
  {
   "cell_type": "code",
   "execution_count": null,
   "metadata": {},
   "outputs": [],
   "source": []
  }
 ],
 "metadata": {
  "kernelspec": {
   "display_name": "Python 3",
   "language": "python",
   "name": "python3"
  },
  "language_info": {
   "codemirror_mode": {
    "name": "ipython",
    "version": 3
   },
   "file_extension": ".py",
   "mimetype": "text/x-python",
   "name": "python",
   "nbconvert_exporter": "python",
   "pygments_lexer": "ipython3",
   "version": "3.7.4"
  }
 },
 "nbformat": 4,
 "nbformat_minor": 2
}
