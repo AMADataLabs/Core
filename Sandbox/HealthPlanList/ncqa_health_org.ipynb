{
 "cells": [
  {
   "cell_type": "code",
   "execution_count": 2,
   "metadata": {},
   "outputs": [],
   "source": [
    "import pandas as pd\n",
    "import json\n",
    "from selenium import webdriver\n",
    "import pandas as pd\n",
    "import time\n",
    "\n",
    "from selenium.webdriver.common.by import By\n",
    "from selenium.webdriver.common.keys import Keys\n",
    "from selenium.webdriver.support.ui import WebDriverWait\n",
    "from selenium.webdriver.support.expected_conditions import presence_of_all_elements_located\n",
    "from selenium.webdriver.support.expected_conditions import presence_of_element_located"
   ]
  },
  {
   "cell_type": "code",
   "execution_count": 1,
   "metadata": {},
   "outputs": [],
   "source": [
    "url = 'https://reportcards.ncqa.org/#/other-health-care-organizations/list?program=Credentialing&program=Credentials%20Verification%20Organization'"
   ]
  },
  {
   "cell_type": "code",
   "execution_count": 12,
   "metadata": {},
   "outputs": [],
   "source": [
    "driver.close()"
   ]
  },
  {
   "cell_type": "code",
   "execution_count": 8,
   "metadata": {},
   "outputs": [],
   "source": [
    "driver = webdriver.Chrome()"
   ]
  },
  {
   "cell_type": "code",
   "execution_count": 9,
   "metadata": {},
   "outputs": [],
   "source": [
    "driver.get(url)"
   ]
  },
  {
   "cell_type": "code",
   "execution_count": 10,
   "metadata": {},
   "outputs": [],
   "source": [
    "elements = driver.find_elements_by_class_name('modal__button')\n",
    "# element.click()"
   ]
  },
  {
   "cell_type": "code",
   "execution_count": 11,
   "metadata": {},
   "outputs": [
    {
     "data": {
      "text/plain": [
       "[<selenium.webdriver.remote.webelement.WebElement (session=\"0972e1af472da2224faf8325908dd53f\", element=\"0.5890205007591378-1\")>]"
      ]
     },
     "execution_count": 11,
     "metadata": {},
     "output_type": "execute_result"
    }
   ],
   "source": [
    "elements"
   ]
  },
  {
   "cell_type": "code",
   "execution_count": 36,
   "metadata": {},
   "outputs": [],
   "source": [
    "def get_next_page(browser):\n",
    "    WebDriverWait(browser, 20).until(presence_of_element_located((By.XPATH,('//*[@title=\"Next Page\"]')))).click()"
   ]
  },
  {
   "cell_type": "code",
   "execution_count": 46,
   "metadata": {},
   "outputs": [],
   "source": [
    "name_list = []\n",
    "program_list = []\n",
    "status_list = []\n",
    "website_list = []\n",
    "address_list = []"
   ]
  },
  {
   "cell_type": "code",
   "execution_count": 51,
   "metadata": {},
   "outputs": [
    {
     "name": "stdout",
     "output_type": "stream",
     "text": [
      "http://www.3won.com / 535 E Diehl Suite 111, Naperville, Illinois, 60563\n",
      "http://www.amitahealth.org / 2601 Navistar Drive Building 3, 3rd Floor, Lisle, Illinois, 60532\n",
      "http://www.amnhealthcare.com / 12400 High Bluff Drive , San Diego, California, 92130\n",
      "http://www.ableto.com / 320 West 37th Street 11th Floor, New York, New York, 10018\n",
      "http://www.adena.org / 272 Hospital Road Suite 6, Medical Staff Services , Chillicothe, Ohio, 45601\n",
      "None / 4131 Loomis Road Suite 300, Greenfield, Wisconsin, 53221\n",
      "https://www.adventisthealthsystem.com/ / 1051 Winderley Place, 400 , Maitland, Florida, 32750\n",
      "http://www.advocatehealth.com / 3075 Highland Parkway Suite 600, Downers Grove, Illinois, 60515\n",
      "http://Aetna.com / 151 Farmington Avenue , Hartford, Connecticut, 06156\n",
      "http://www.agilerta.com / 342 Calle San Luis Suite 203, San Juan, Puerto Rico, 00920\n",
      "10 health organizations counted\n",
      "http://www.amc.edu / 43 New Scotland Ave MC 156, Albany, New York, 12208\n",
      "http://www.alliedphys.com / 136 Sinclair Rd , Eatonton, Georgia, 31024\n",
      "None / 2925 Chicago Ave S. Mail Route 10000, Minneapolis, Minnesota, 55407\n",
      "http://www.kmhp.com / 200 Stevens Dr 3rd Floor, Philadelphia, Pennsylvania, 19113\n",
      "http://www.ashcompanies.com / 10221 Wateridge Circle , San Diego, California, 92121\n",
      "http://www.ashcompanies.com / 10221 Wateridge Circle , San Diego, California, 92121\n",
      "http://www.aperturecvo.com / 10350 Ormsby Park Place Suite 104, Louisville, Kentucky, 40223\n",
      "http://www.apogeehealthpartners.com / 2850 S. Wabash Ave. Suite 202, Chicago, Illinois, 60616\n",
      "http://www.azprioritycare.com / 585 N. Juniper Drive Suite 200, Chandler, Arizona, 85226\n",
      "http://www.arccvs.org / 1401 West Capitol Suite 340, Little Rock, Arkansas, 72201\n",
      "20 health organizations counted\n",
      "http://www.baptisthealth.net / 1500 Monza Ave 2nd Floor, Coral Gables, Florida, 33146\n",
      "http://www.baycare.org / 2985 Drew Street Suite 100, Clearwater, Florida, 33759\n",
      "http://www.baycaremedicalgroup.com / 3503 E Frontage Road , Tampa, Florida, 33607\n",
      "http://www.bcm.tmc.edu/baylormedcare/ / Two Greenway Plaza Suite 910, Houston, Texas, 77046\n",
      "http://www.bexarcv.com / 4334 N Loop 1604 West, Ste 200 , San Antonio, Texas, 78249\n",
      "http://www.oumedicine.com / 1122 NE 13th Street ORI 274, Oklahoma City, Oklahoma, 73117\n",
      "http://www.chghealthcare.com / 7259 S. Bingham Junction Boulevard , Midvale, Utah, 84047\n",
      "http://www.cirrusmd.com / 3513 Brighton Blvd. Suite 230, Denver, Colorado, 80216\n",
      "http://www.montefiore.org/cmo-the-care-management-... / 100 Corporate Drive Suite 111, Yonkers, New York, 10701\n",
      "http://www.credent.com / 5201 Congress Ave. #100B , Boca Raton, Florida, 33487\n",
      "30 health organizations counted\n",
      "http://www.caidanmgmt.com / 8735 Henderson Road , Tampa, Florida, 33634\n",
      "http://www.limamemorial.org/cardinal-health-partne... / 920 West Market St. Suite 201, Lima, Ohio, 45805\n",
      "http://caremountmedical.com / 110 S Bedford Rd. , Mount Kisco, New York, 10549\n",
      "http://www.centene.com / 7700 Forsyth Boulevard , St. Louis , Missouri, 63105\n",
      "http://www.centercare.com / 360 East 8th Avenue Suite 411, Bowling Green, Kentucky, 42101\n",
      "http://mycghn.com / 111 Perimeter Parkway , Macon, Georgia, 31210\n",
      "http://www.ccvsinc.com / 2821 Emerywood Parkway Suite 200, Richmond, Virginia, 23294\n",
      "http://www.centurahealth.org / 9100 E. Mineral Circle Fourth Floor, Attention: Office of Medical Affairs, Centennial, Colorado, 80112\n",
      "http://www.childrens.com / 1935 Medical District Drive ST4.11, Dallas, Texas, 75235\n",
      "http://www.PartnersForKids.org / 700 Children's Dr 525 Building, Columbus, Ohio, 43205\n",
      "40 health organizations counted\n",
      "http://www.luriechildrens.org / 737 N. Michigan Ave Suite 2040, Chicago, Illinois, 60611\n",
      "http://www.novanthealth.org / 2085 Frontis Plaza Blvd Second Floor, Winston-Salem, North Carolina, 27103\n",
      "https://www.ccqualityalliance.org / 6801 Brecksville Rd. , Independence, Ohio, 44131\n",
      "http://www.cognizant.com / 500 Frank W. Burr Blvd. , Teaneak, New Jersey, 07666\n",
      "http://www.matrixforme.com / 9201 East Mountain View Road Suite 220, Scottsdale, Arizona, 85258\n",
      "http://www.ccnva.com / 3831 Westerre Parkway, Suite 1 , Henrico, Virginia, 23233\n",
      "http://www.communitymedgroup.org / 265 Church Street 14th Floor, New Haven, Connecticut, 06511\n",
      "http://www.coniferhealth.com / 15821 Ventura Blvd. Suite 600, Encino, California, 91436\n",
      "http://www.caqh.org / 2020 K St NW Suite 900, Washington, District Of Columbia, 20006\n",
      "http://www.credentialamerica.com / 1506 Hull Street , Richmond, Virginia, 23224\n",
      "50 health organizations counted\n",
      "http://www.ccacredentialing.com / 20800 Center Ridge Road Suite 312, Rocky River, Ohio, 44116\n",
      "http://www.chs.net/ / 4000 Meridian Blvd , Franklin, Tennessee, 37067\n",
      "http://www.davisvision.com / 175 East Houston Street 5th Floor, San Antoniio, Texas, 78205\n",
      "http://www.childrensdayton.org / 1 Children's Plaza , Dayton, Ohio, 45404\n",
      "http://www.deltadentalins.com / 1130 Sanctuary Parkway , Alpharetta, Georgia, 30009\n",
      "http://www.dentaquest.com / 11100 West Liberty Drive , Milwaukee, Wisconsin, 53224\n",
      "http://www.dentistat.com / 1688 Dell Avenue Suite 210, Campbell, California, 95008\n",
      "http://www.doctorondemand.com / 3033 Campus Drive Suite W225, Plymouth, Minnesota, 55441\n",
      "http://www.advancehealth.com/ / 14121 Parke Long Court Ste 201, Chantilly, Virginia, 20151\n",
      "http://epicmanagementlp.com / 1615 Orange Tree Lane , Redlands, California, 92374\n",
      "60 health organizations counted\n",
      "https://www.envolvehealth.com/our-solutions/supple... / 112 Zebulon Court , Rocky Mount, North Carolina, 27804\n",
      "https://www.fairview.org/for-medical-professionals... / 2344 Energy Park Drive Ste 127, St Paul, Minnesota, 55108\n",
      "http://www.fsmb.org / 400 FULLER WISER ROAD , Euless, Texas, 76039\n",
      "http://www.fchn.com / 600 University Street Suite 1400 , Seattle, Washington, 98101\n",
      "http://www.TGH.org / PO Box 1289 ATTN: Managed Care, Tampa, Florida, 33606\n",
      "http://www.fmolhs.org / c/o Medical Staff Services 5000 Hennessy Blvd., Baton Rouge, Louisiana, 70808\n",
      "https://www.fulcrumhealthinc.org/ / 3300 Fernbrook Lane, Ste 150 , Plymouth, Minnesota, 55447\n",
      "http://www.fusionhcs.com / 10150 Centennial Parkway , Sandy, Utah, 84070\n",
      "http://www.genesisdocs.org / 5501 LBJ Freeway Suite 950, Dallas, Texas, 75240\n",
      "http://www.servicesbygemini.com / 10055 Slater Avenue Suite 214, Fountain Valley, California, 92708\n",
      "70 health organizations counted\n",
      "https://www.genesishcs.org/ / 2951 Maple Avenue , Zanesville, Ohio, 43701\n",
      "http://www.genesyspho.com / 3495 S. Center Road , Burton, Michigan, 48519\n",
      "http://www.gripa.org / 100 Kings Highway South Suite 2500, Rochester, New York, 14617\n",
      "http://guthrie.org / One Guthrie Square , Sayre, Pennsylvania, 18840\n",
      "http://www.healthsystemone.com / 2001 S. Andrews Avenue , Fort Lauderdale, Florida, 33316\n",
      "https://www.hshsmedicalgroup.org/ / PO Box 4057 , Carol Stream, Illinois, 60197\n",
      "http://www.healthnetworksolutions.net / 20476 Chartwell Center Drive Suite A, Cornelius, North Carolina, 28031\n",
      "http://www.hcpnv.com / 700 E. Warm Springs Rd Suite 302, Las Vegas, Nevada, 89119\n",
      "http://www.healthplex.com / 333 Earle Ovington Boulevard Suite 300, Uniondale, New York, 11553-3608\n",
      "http://www.heritageprovidernetwork.com / 600 City Parkway West Suite 400, Orange, California, 92868\n",
      "80 health organizations counted\n",
      "http://www.holzer.org / 90 Jackson Pike , Gallipolis, Ohio, 45631\n",
      "http://www.nmhsc.com / 7471 Pan American Freeway NE , Albuquerque, New Mexico, 87109\n",
      "http://www.ipnmd.com / 408 E Parkcenter Blvd Suite 100, Boise, Idaho, 83706\n",
      "http://www.ilshealth.com / 5200 Blue Lagoon Drive Suite # 500, Miami, Florida, 33126\n",
      "http://www.integratedhealthpartners.net / 77 E. Michigan Avenue Ste. 200, Battle Creek, Michigan, 49017\n",
      "http://www.ishnonline.com / 509 Med Tech Parkway Suite 100, Johnson City, Tennessee, 37604\n",
      "http://www.intellisoftgroup.com / 61 Spit Brook Road Suite 204, Nashua, New Hampshire, 03606\n",
      "http://www.intellicentrics.com / 1420 Lakeside Parkway Suite 110, Flower Mound, Texas, 75028\n",
      "http://KPCA.net / 651 Comanche Trail , Frankfort, Kentucky, 40601\n",
      "http://ketteringphysicianpartners.org / 10050 Innovation Drive Suite 240, Miamisburg, Ohio, 45342\n",
      "90 health organizations counted\n",
      "http://www.locumtenens.com / 2655 Northwinds Parkway , Alpharetta, Georgia, 30009\n",
      "http://www.logisticshealth.com / 328 Front Street South , La Crosse, Wisconsin, 54601\n"
     ]
    },
    {
     "name": "stdout",
     "output_type": "stream",
     "text": [
      "http://www.lumeris.com / 13900 Riverport Drive , Maryland Heights, Missouri, 63043\n",
      "https://www.maximus.com/ / 3130 Fairview Park Drive, Suite 800 , Falls Church, Virginia, 22042\n",
      "http://www.mdlive.com / 330 SW 148th Avenue , Miramar, Florida, 33027\n",
      "http://www.magellanhealth.com / 4800 Scottsdale Road Suite 4400, Scottsdale, Arizona, 85251\n",
      "http://www.mcna.net / 200 West Cypress Creek Rd Suite 500, Ft. Lauderdale, Florida, 33309\n",
      "http://www.atriumhealth.org / 4435 Golf Acres Drive Bldg P, Suite 150, Charlotte, North Carolina, 28208\n",
      "https://www.changehealthcare.com / 275 Grove Street Suite 1-310, Newton, Massachusetts, 02466\n",
      "http://www.McLarenPP.org / 2701 Cambridge Court Suite 200, Auburn Hills, Michigan, 48326\n",
      "100 health organizations counted\n",
      "https://www.memd.me / 7332 East Butherus Drive, Suite 104 , Scottsdale, Arizona, 85260\n",
      "http://www.med-advantage.com / 12001 Science Dr. Suite 115, Orlando, Florida, 32826\n",
      "https://www.medstarhealth.org / 10980 Grantchester Way , Columbia, Maryland, 21044\n",
      "http://www.mednax.com / 1301 Concord Terrace , Sunrise, Florida, 33323\n",
      "http://www.medversant.com / 330 N Brand Blvd., Suite 370 , Glendale, California, 91203\n",
      "http://www.mercy.com / 2200 Jefferson Avenue , Toledo, Ohio, 43604\n",
      "http://www.monument.health / 353 Fairmont Blvd , Rapid City, South Dakota, 57701\n",
      "http://www.mountcarmelhealthpartners.com / 6150 E Broad St 2nd Fl, Columbus, Ohio, 43213\n",
      "http://www.scp-health.com / 200 Corporate Blvd , Lafayette, Louisiana, 70508\n",
      "https://treatingpain.com / 3060 Williams Drive Suite 510, Fairfax, Virginia, 22031\n",
      "110 health organizations counted\n",
      "http://nationshearing.com / 8050 SW 10th St Suite 4200, Plantation, Florida, 33324\n",
      "http://www.healthpartnersnetwork.com / 465 EE Butler Parkway , Gainesville, Georgia, 30501\n",
      "https://www.northwell.edu/ / 600 Community Drive Suite 304, Manhasset, New York, 11030\n",
      "http://www.nortonhealthcare.com / 1930 Bishop Lane Suite 1017, 10th Floor, Louisville, Kentucky, 40218\n",
      "http://www.novanthealth.org / 1901 East 5th Street Presbyterian Medical Center Conference Center, Charlotte, North Carolina, 28204\n",
      "http://www.ohiohealthgroup.com / 155 East Broad Street Suite 1700, Columbus, Ohio, 43215\n",
      "https://providers.americanwell.com/online-care-gro... / 75 State Street 26th Floor, Boston, Massachusetts, 02109\n",
      "http://www.optum.com / 11000 Optum Circle , Eden Prairie, Minnesota, 55344\n",
      "http://www.wellplace.com / 1333 Brewery Park Blvd. Suite 140, Detroit, Michigan, 48207\n",
      "http://www.osfdirectaccessnetwork.com / 7707 N. Knoxville Ave. Ste. 200 , Peoria, Illinois, 61614\n",
      "120 health organizations counted\n",
      "http://www.ppmsi.com / 1051 E. Hillsdale Blvd. #750, Foster City, California, 94404\n",
      "http://www.ParamountHealthOptions.com / 722 5th Ave SE , Cedar Rapids, Iowa, 52401\n",
      "http://www.parkviewmc.com / 400 West 16th Street , Pueblo, Colorado, 81003\n",
      "http://WWW.PIHN.ORG / 405 Capitol Street Suite 1009, Charleston, West Virginia, 25301\n",
      "http://www.peacehealth.org / 1115 SE 164th Ave Suite 372, Vancouver, Washington, 98683\n",
      "http://phealthcenter.org/ / 1179 N. McDowell Blvd , Petaluma, California, 94954-6559\n",
      "http://www.phdelivery.com / 2301 River Road Suite 302, Louisville, Kentucky, 40206\n",
      "http://www.premiereyecare.net / 6501 Park of Commerce Blvd. First Floor, Boca Raton, Florida, 33487\n",
      "http://www.premierhealth.com/cvo/ / 1 Wyoming Street M#1504 , Dayton, Ohio, 45409\n",
      "http://www.multiplan.com / 16 Crosby Drive , Bedford, Massachusetts, 01730\n",
      "130 health organizations counted\n",
      "https://www.promedica.org / One Seagate # 800 550 N Summit Street, Toledo, Ohio, 43604\n",
      "http://www.pcvs.net / 1305 Abbot Road , East Lansing, Michigan, 48823\n",
      "http://www.providertrust.com / 406 11th Ave N. #250 , Nashville, Tennessee, 37203\n",
      "http://www.ReidHealth.org / 1100 Reid Parkway ATTN: Medical Staff Services, Richmond, Indiana, 47374\n",
      "http://www.rwhc.com / 880 Independence Lane , Sauk City, Wisconsin, 53583\n",
      "http://www.Rush-Health.com / 1645 West Jackson Boulevard Suite 501, Chicago, Illinois, 60612-3276\n",
      "https://scmassociates.org / 2700 Dawson Avenue , Signal Hill, California, 90755\n",
      "http://www.siumed.edu / 201 E. Madison St. Ste. 300, Springfield, Illinois, 62702\n",
      "https://skygenusa.com/home.htm / 10201 N Port Washington Rd , Mequon, Wisconsin, 53092\n",
      "http://OrgDoesNotHaveWebsite@nowebsite.org / PO BOX 72 , Salisbury, Maryland, 21803\n",
      "140 health organizations counted\n",
      "http://www.sanjuanipa.com / 110 E. Apache St. , Farmington, New Mexico, 87401\n",
      "https://www.bswhealth.com/ / 2401 S 31st Street , Temple, Texas, 76508\n",
      "http://www.selectmedicalcorp.com / 500 Riverhills Business Park, Ste 500 , Birmingham, Alabama, 35242\n",
      "http://www.sharp.com / 5651 Copley Dr, Ste. A Atten: Blake Leatherman, San Diego, California, 92111-7903\n",
      "https://www.envisionphysicianservices.com/ / 7700 West Sunrise Blvd , Plantation, Florida, 33322\n",
      "http://signifyhealth.com / 4055 Valley View Ln, Ste 400 , Dallas, Texas, 75244\n",
      "http://www.credsimple.com / 50 West 23rd Street - Suite 702 , New York, New York, 10010\n",
      "http://www.sourceonestl.com / 2440 Executive Drive Suite 208, St. Charles, Missouri, 63303\n",
      "http://www.state.sc.us/dmh/ / 2414 Bull Street Room 302, Columbia, South Carolina, 29201\n",
      "http://stelizabethphysicians.com / 1360 Dolwick Dr , Erlanger, Kentucky, 41018-3127\n",
      "150 health organizations counted\n",
      "http://www.slhduluth.com / 915 E 1st Street , Duluth, Minnesota, 55805\n",
      "http://stlukeshealthpartners.org/ / 190 E Bannock St , Boise, Idaho, 83712\n",
      "https://www.steward.org/ / 77 Warren Street, Room 408 Credentialing Verification Office, Brighton, Massachusetts, 02135\n",
      "https://www.summahealth.org/shmg / 1077 Gorge Blvd. , Akron, Ohio, 44310\n",
      "http://www.teladoc.com / 1945 Lakepointe Drive , Lewisville, Texas, 75057\n",
      "http://www.tenethealth.com / 1445 Ross Ave Suite 1400 , Dallas, Texas, 75032\n",
      "http://www.tpqvo.com / 1092 Chamberlain Avenue Suite B, Chattanooga, Tennessee, 37404\n",
      "http://www.texaschildrens.com / 2450 Holcombe Blvd., Ste 34-L , Houston, Texas, 77021\n",
      "http://www.clevelandclinic.org / 9500 Euclid Avenue HS1-04, Cleveland, Ohio, 44195\n",
      "http://www.metrohealth.org / 2500 MetroHealth Drive A-109, Cleveland, Ohio, 44109\n",
      "160 health organizations counted\n",
      "https://wexnermedical.osu.edu/ / 700 Ackerman Road Suite 1122, Columbus, Ohio, 43202\n",
      "https://www.uvmhealth.org/Pages/Doctors/For-Medica... / 356 MountainView Drive Suite 305, Colchester, Vermont, 05446\n",
      "http://www.theverificationgroup.com / P.O. Box 14023 , Jackson, Mississippi, 39236\n",
      "https://www.toledoclinic.com/ / 4235 Secor Rd , Toledo, Ohio, 43623\n",
      "http://www.towerhealth.org / PO Box 14744 , Reading, Pennsylvania, 19612\n",
      "https://www.tractmanager.com/ / 15 Grumman Road West Suite 1400 , Bethpage, New York, 11714\n",
      "http://www.trinity-health.org/ / 20555 Victor Parkway W3B , Livonia, Michigan, 48152\n",
      "http://www.truhearing.com / 12936 S. Frontrunner Blvd. #100 , Draper, Utah, 84020\n",
      "http://typhoondata.com/ / 511 S. Orem Blvd , Orem, Utah, 84058\n",
      "http://www.uclahealth.org / 5767 W. Century Blvd. Suite 400, Los Angeles, California, 90045\n",
      "170 health organizations counted\n",
      "http://www.umassmemorialhealthcare.org / 281 Lincoln Street Suite HM2-212, Worcester, Massachusetts, 01605\n",
      "http://www.upmc.com / 200 Lothrop Street Forbes Tower, Suite 9055, Pittsburgh, Pennsylvania, 15213\n",
      "https://www.utphysicians.com/ / 6410 Fannin Street Ste. 810, Houston, Texas, 77030\n",
      "http://www.uhc.com / 9900 Bren Road East , Minnetonka, Minnesota, 55343\n",
      "http://www.updoctors.com / 30600 Telegraph Road Suite 4000, Bingham Farms, Michigan, 48025\n",
      "http://universityhealthsystem.com / 4502 Medical Drive , San Antonio, Texas, 78229\n",
      "http://www.uhhospitals.org / 10524 Euclid Avenue Suite 3121/WLK 6025, Cleveland, Ohio, 44106-6025\n",
      "http://www.universitypediatricians.com / 3901 Beaubien Suite 1k40, Detroit, Michigan, 48201\n",
      "https://medicalaffairs.ucsf.edu/office-medical-aff... / 3333 California Street #S1-10 , San Francisco, California, 94118\n",
      "http://www.uihealthcare.org/cso/ / 200 Hawkins Drive C 123 GH, Iowa City, Iowa, 52242-1009\n",
      "180 health organizations counted\n",
      "http://www.uoflphysicians.com/ / P.O. Box 909 , Louisville, Kentucky, 40201\n",
      "http://www.uofmhealth.org / 2500 Green Road Suite 700, Ann Arbor, Michigan, 48105\n",
      "http://www.pennhealth.com / 3600 Civic Center Boulevard Suite 300 East, Philadelphia, Pennsylvania, 19104\n"
     ]
    },
    {
     "name": "stdout",
     "output_type": "stream",
     "text": [
      "http://www.rochester.edu/ / 601 Elmwood Avenue Box 278911, Rochester, New York, 14642\n",
      "http://doctors.usf.edu / 12901 Bruce B. Downs Blvd. MDC 62, Tampa, Florida, 33612\n",
      "http://uthealth.utoledo.edu/ / 3355 Glendale Ave 3rd Floor, Mail Stop 1165 , Toledo, Ohio, 43614\n",
      "http://www.uphealthgroup.com / 853 W. Washington St. , Marquette, Michigan, 49855\n",
      "http://www.vital4.net / 3901 Mary Eliza Trace NW Suite 203, Marietta, Georgia, 30064\n",
      "http://www.vsp.com / 3333 Quality Drive , Rancho Cordova, California, 95670\n",
      "http://www.vumc.org / 60 Athletes Way Suite 2000, Mount Juliet, Tennessee, 37122\n",
      "190 health organizations counted\n",
      "http://www.vantagepointconsult.com / 9 Washington Avenue , Hamden, Connecticut, 06518\n",
      "http://www.vergehealth.com / 11 eWall Street , Mt. Pleasant, South Carolina, 29465\n",
      "http://www.verifpoint.com / 25381 Commercentre Drive Suite 200, Lake Forest, California, 92630\n",
      "http://www.verisys.com / 10653 S River Front Parkway Suite 300, South Jordan, Utah, 84095\n",
      "https://www.verityhealthstream.com/our-solutions/c... / 9605 Scranton Road, Suite 200 , San Diego, California, 92121\n",
      "http://www.vidanthealth.com / 2100 Stantonsburg Rd , Greenville, North Carolina, 27834\n",
      "http://www.westmedgroup.com / 2700 Westchester Avenue , Purchase, New York, 10577\n",
      "http://www.watsonclinic.com / 1600 Lakeland Hills Blvd. , Lakeland, Florida, 33805\n",
      "http://www.wsupg.org / 400 Mack Blvd. Suite 2 West, Detroit, Michigan, 48201\n",
      "http://www.anthem.com / 6081 E. 82nd Street, Suite 300 , Indianapolis, Indiana, 46250\n",
      "200 health organizations counted\n",
      "http://www.hpnwv.org / 1370 Johnson Avenue Suite 102, Bridgeport, West Virginia, 26330\n",
      "http://www.hudsondoctorsipa.com / 22 Saw Mill River Road, Third Floor PO Box 488, Hawthorne, New York, 10532\n",
      "http://www.westernproviders.com / 677 Cathedral Suite 302, Rapid Cidy, South Dakota, 57701\n",
      "http://www.tivityhealth.com/ / 1445 S. Spectrum Blvd. , Chandler, Arizona, 85286\n",
      "http://www.beaumont.org / 3601 W. 13 Mile Road , Royal Oak, Michigan, 48073\n",
      "http://www.winonahealth.org / 855 Mankato Avenue , Winona, Minnesota, 55987\n",
      "http://www.workplaceoptions.com / 3020 Highwoods Blvd. , Raleigh, North Carolina, 27604\n",
      "https://www.yalemedicine.org/ / 300 George Street 6th Floor , New Haven, Connecticut, 06519\n",
      "http://www.ynhhs.org / 20 York Street Hunter 4, New Haven, Connecticut, 06510\n",
      "http://www.emds.com / 10901 Stonelake Blvd. , Austin, Texas, 78759\n",
      "210 health organizations counted\n",
      "http://www.palladianhealth.com / 2732 Transit Road , West Seneca, New York, 14224\n"
     ]
    },
    {
     "ename": "IndexError",
     "evalue": "list index out of range",
     "output_type": "error",
     "traceback": [
      "\u001b[1;31m---------------------------------------------------------------------------\u001b[0m",
      "\u001b[1;31mIndexError\u001b[0m                                Traceback (most recent call last)",
      "\u001b[1;32m<ipython-input-51-1bf026b0f225>\u001b[0m in \u001b[0;36m<module>\u001b[1;34m\u001b[0m\n\u001b[0;32m     15\u001b[0m     \u001b[1;32mfor\u001b[0m \u001b[0mindex\u001b[0m \u001b[1;32min\u001b[0m \u001b[0mlist\u001b[0m\u001b[1;33m(\u001b[0m\u001b[0mrange\u001b[0m\u001b[1;33m(\u001b[0m\u001b[1;36m0\u001b[0m\u001b[1;33m,\u001b[0m\u001b[1;36m10\u001b[0m\u001b[1;33m)\u001b[0m\u001b[1;33m)\u001b[0m\u001b[1;33m:\u001b[0m\u001b[1;33m\u001b[0m\u001b[1;33m\u001b[0m\u001b[0m\n\u001b[0;32m     16\u001b[0m         \u001b[0mall_links\u001b[0m \u001b[1;33m=\u001b[0m \u001b[0mWebDriverWait\u001b[0m\u001b[1;33m(\u001b[0m\u001b[0mdriver\u001b[0m\u001b[1;33m,\u001b[0m \u001b[1;36m20\u001b[0m\u001b[1;33m)\u001b[0m\u001b[1;33m.\u001b[0m\u001b[0muntil\u001b[0m\u001b[1;33m(\u001b[0m\u001b[0mpresence_of_all_elements_located\u001b[0m\u001b[1;33m(\u001b[0m\u001b[1;33m(\u001b[0m\u001b[0mBy\u001b[0m\u001b[1;33m.\u001b[0m\u001b[0mXPATH\u001b[0m\u001b[1;33m,\u001b[0m\u001b[1;34m'//*[@ui-sref=\"otherHealthCare({org: item.id})\"]'\u001b[0m\u001b[1;33m)\u001b[0m\u001b[1;33m)\u001b[0m\u001b[1;33m)\u001b[0m\u001b[1;33m\u001b[0m\u001b[1;33m\u001b[0m\u001b[0m\n\u001b[1;32m---> 17\u001b[1;33m         \u001b[0mall_links\u001b[0m\u001b[1;33m[\u001b[0m\u001b[0mindex\u001b[0m\u001b[1;33m]\u001b[0m\u001b[1;33m.\u001b[0m\u001b[0mclick\u001b[0m\u001b[1;33m(\u001b[0m\u001b[1;33m)\u001b[0m\u001b[1;33m\u001b[0m\u001b[1;33m\u001b[0m\u001b[0m\n\u001b[0m\u001b[0;32m     18\u001b[0m         \u001b[0mtime\u001b[0m\u001b[1;33m.\u001b[0m\u001b[0msleep\u001b[0m\u001b[1;33m(\u001b[0m\u001b[1;36m1\u001b[0m\u001b[1;33m)\u001b[0m\u001b[1;33m\u001b[0m\u001b[1;33m\u001b[0m\u001b[0m\n\u001b[0;32m     19\u001b[0m         \u001b[0mall_content\u001b[0m \u001b[1;33m=\u001b[0m \u001b[0mWebDriverWait\u001b[0m\u001b[1;33m(\u001b[0m\u001b[0mdriver\u001b[0m\u001b[1;33m,\u001b[0m \u001b[1;36m20\u001b[0m\u001b[1;33m)\u001b[0m\u001b[1;33m.\u001b[0m\u001b[0muntil\u001b[0m\u001b[1;33m(\u001b[0m\u001b[0mpresence_of_all_elements_located\u001b[0m\u001b[1;33m(\u001b[0m\u001b[1;33m(\u001b[0m\u001b[0mBy\u001b[0m\u001b[1;33m.\u001b[0m\u001b[0mCLASS_NAME\u001b[0m\u001b[1;33m,\u001b[0m\u001b[1;34m'content'\u001b[0m\u001b[1;33m)\u001b[0m\u001b[1;33m)\u001b[0m\u001b[1;33m)\u001b[0m\u001b[1;33m\u001b[0m\u001b[1;33m\u001b[0m\u001b[0m\n",
      "\u001b[1;31mIndexError\u001b[0m: list index out of range"
     ]
    }
   ],
   "source": [
    "for num in list(range(0,22)):\n",
    "    time.sleep(2)\n",
    "    \n",
    "    names = WebDriverWait(driver, 20).until(presence_of_all_elements_located((By.CLASS_NAME,'name')))\n",
    "    programs = WebDriverWait(driver, 20).until(presence_of_all_elements_located((By.CLASS_NAME,'program')))\n",
    "    statuses = WebDriverWait(driver, 20).until(presence_of_all_elements_located((By.CLASS_NAME,'status')))\n",
    "\n",
    "    for name in names[1:11]:\n",
    "        name_list.append(name.text)\n",
    "    for program in programs[1:11]:\n",
    "        program_list.append(program.text)\n",
    "    for status in statuses[1:11]:\n",
    "        status_list.append(status.text)\n",
    "        \n",
    "    for index in list(range(0,10)):\n",
    "        all_links = WebDriverWait(driver, 20).until(presence_of_all_elements_located((By.XPATH,'//*[@ui-sref=\"otherHealthCare({org: item.id})\"]')))\n",
    "        all_links[index].click()\n",
    "        time.sleep(1)\n",
    "        all_content = WebDriverWait(driver, 20).until(presence_of_all_elements_located((By.CLASS_NAME,'content')))\n",
    "        if len(all_content)>2:\n",
    "            website = all_content[0].text\n",
    "            address = all_content[1].text\n",
    "        else:\n",
    "            website = 'None'\n",
    "            address = all_content[0].text\n",
    "        website_list.append(website)\n",
    "        address_list.append(address)\n",
    "        print(f'{website} / {address}')\n",
    "        driver.back()\n",
    "        time.sleep(1)\n",
    "    get_next_page(driver)\n",
    "    print(f'{len(name_list)} health organizations counted')"
   ]
  },
  {
   "cell_type": "code",
   "execution_count": 47,
   "metadata": {},
   "outputs": [],
   "source": [
    "driver.close()"
   ]
  },
  {
   "cell_type": "code",
   "execution_count": 29,
   "metadata": {},
   "outputs": [
    {
     "data": {
      "text/plain": [
       "50"
      ]
     },
     "execution_count": 29,
     "metadata": {},
     "output_type": "execute_result"
    }
   ],
   "source": [
    "len(status_list)"
   ]
  },
  {
   "cell_type": "code",
   "execution_count": 54,
   "metadata": {},
   "outputs": [],
   "source": [
    "pd.DataFrame({'Organization_Name':name_list,\n",
    "             'Accreditations':program_list,\n",
    "             'Status': status_list,\n",
    "             'Website':website_list,\n",
    "             'Address':address_list}).to_csv('../../../Data/HealthPlans/NCQA_Health_Organizations_2020-04-15.csv', index=False)"
   ]
  },
  {
   "cell_type": "code",
   "execution_count": 53,
   "metadata": {},
   "outputs": [
    {
     "data": {
      "text/plain": [
       "211"
      ]
     },
     "execution_count": 53,
     "metadata": {},
     "output_type": "execute_result"
    }
   ],
   "source": [
    "len(name_list)"
   ]
  },
  {
   "cell_type": "code",
   "execution_count": null,
   "metadata": {},
   "outputs": [],
   "source": []
  }
 ],
 "metadata": {
  "kernelspec": {
   "display_name": "Python 3",
   "language": "python",
   "name": "python3"
  },
  "language_info": {
   "codemirror_mode": {
    "name": "ipython",
    "version": 3
   },
   "file_extension": ".py",
   "mimetype": "text/x-python",
   "name": "python",
   "nbconvert_exporter": "python",
   "pygments_lexer": "ipython3",
   "version": "3.7.4"
  }
 },
 "nbformat": 4,
 "nbformat_minor": 2
}
