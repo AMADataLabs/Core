{
 "cells": [
  {
   "cell_type": "code",
   "execution_count": 2,
   "metadata": {},
   "outputs": [],
   "source": [
    "import pandas as pd\n",
    "import pyodbc\n",
    "from fuzzywuzzy import fuzz\n",
    "from fuzzywuzzy import process"
   ]
  },
  {
   "cell_type": "code",
   "execution_count": 3,
   "metadata": {},
   "outputs": [],
   "source": [
    "s = \"DSN=PRDDW; UID={}; PWD={}\".format('vigrose', 'slytherin10946')\n",
    "AMAEDW = pyodbc.connect(s)"
   ]
  },
  {
   "cell_type": "code",
   "execution_count": 4,
   "metadata": {},
   "outputs": [],
   "source": [
    "sql_query_1 = \\\n",
    "    \"\"\" \n",
    "    SELECT DISTINCT\n",
    "    P.PARTY_ID, \n",
    "    P.KEY_VAL AS ME\n",
    "    FROM \n",
    "    AMAEDW.PARTY_KEY P\n",
    "    WHERE  \n",
    "    P.KEY_TYPE_ID = 18 \n",
    "    AND \n",
    "    P.ACTIVE_IND = 'Y'\n",
    "    \"\"\"\n",
    "ME = pd.read_sql(con=AMAEDW, sql=sql_query_1)"
   ]
  },
  {
   "cell_type": "code",
   "execution_count": 5,
   "metadata": {},
   "outputs": [],
   "source": [
    "sql_query_2 = \\\n",
    "    \"\"\" \n",
    "    SELECT DISTINCT\n",
    "    P.PARTY_ID, \n",
    "    P.KEY_VAL AS NPI\n",
    "    FROM \n",
    "    AMAEDW.PARTY_KEY P\n",
    "    WHERE  \n",
    "    P.KEY_TYPE_ID = 38 \n",
    "    AND \n",
    "    P.ACTIVE_IND = 'Y'\n",
    "    \"\"\"\n",
    "NPI = pd.read_sql(con=AMAEDW, sql=sql_query_2)"
   ]
  },
  {
   "cell_type": "code",
   "execution_count": 6,
   "metadata": {},
   "outputs": [],
   "source": [
    "npi_to_me = pd.merge(NPI, ME, on='PARTY_ID')"
   ]
  },
  {
   "cell_type": "code",
   "execution_count": 7,
   "metadata": {},
   "outputs": [
    {
     "name": "stderr",
     "output_type": "stream",
     "text": [
      "C:\\Users\\vigrose\\AppData\\Local\\Continuum\\anaconda3\\lib\\site-packages\\IPython\\core\\interactiveshell.py:3058: DtypeWarning: Columns (2) have mixed types. Specify dtype option on import or set low_memory=False.\n",
      "  interactivity=interactivity, compiler=compiler, result=result)\n"
     ]
    }
   ],
   "source": [
    "DF_1 = pd.read_csv('DHC_data/ContactInfo_AK.csv')\n",
    "DF_2 = pd.read_csv('DHC_data/ContactInfo_AZALAR.csv')\n",
    "DF_3 = pd.read_csv('DHC_data/ContactInfo_CACOCTDE.csv')\n",
    "DF_4 = pd.read_csv('DHC_data/ContactInfo_FL-KY.csv')\n",
    "DF_5 = pd.read_csv('DHC_data/ContactInfo_LA-NH.csv')\n",
    "DF_6 = pd.read_csv('DHC_data/ContactInfo_NJ-OR.csv')\n",
    "DF_7 = pd.read_csv('DHC_data/ContactInfo-PA-TX.csv')\n",
    "DF_8 = pd.read_csv('DHC_data/ContactInfo_UT-WY.csv')"
   ]
  },
  {
   "cell_type": "code",
   "execution_count": 8,
   "metadata": {},
   "outputs": [],
   "source": [
    "all_dhc = pd.concat([DF_1,DF_2,DF_3,DF_4,DF_5,DF_6,DF_7,DF_8])"
   ]
  },
  {
   "cell_type": "code",
   "execution_count": 11,
   "metadata": {},
   "outputs": [],
   "source": [
    "npi_to_me = npi_to_me[['NPI','ME']]\n",
    "dhc_ = pd.merge(npi_to_me, all_dhc, on='NPI', how = 'right')"
   ]
  },
  {
   "cell_type": "code",
   "execution_count": 10,
   "metadata": {},
   "outputs": [],
   "source": [
    "all_dhc['NPI'] = all_dhc['NPI'].astype(str)"
   ]
  },
  {
   "cell_type": "code",
   "execution_count": 15,
   "metadata": {},
   "outputs": [],
   "source": [
    "dhc_.to_csv('DHC_data/DHC_data.csv',index=False)"
   ]
  },
  {
   "cell_type": "code",
   "execution_count": 31,
   "metadata": {},
   "outputs": [],
   "source": [
    "results = pd.read_csv('Add_Google_Results.csv')"
   ]
  },
  {
   "cell_type": "code",
   "execution_count": 45,
   "metadata": {},
   "outputs": [],
   "source": [
    "results.PHYSICIAN_ME_NUMBER = results.PHYSICIAN_ME_NUMBER.astype('int64').astype(str)"
   ]
  },
  {
   "cell_type": "code",
   "execution_count": 64,
   "metadata": {},
   "outputs": [],
   "source": [
    "all_data = pd.merge(results, dhc_, on='ME', suffixes =['_MF','_DHC'])"
   ]
  },
  {
   "cell_type": "code",
   "execution_count": 57,
   "metadata": {},
   "outputs": [],
   "source": [
    "nums =[]\n",
    "for num in list(results['PHYSICIAN_ME_NUMBER']):\n",
    "    if len(num)==10:\n",
    "        num = '0'+num\n",
    "    elif len(num)==9:\n",
    "        num = '00'+num\n",
    "    elif len(num)==8:\n",
    "        num = '000'+num\n",
    "    nums.append(num)"
   ]
  },
  {
   "cell_type": "code",
   "execution_count": 58,
   "metadata": {},
   "outputs": [],
   "source": [
    "results['ME']=nums"
   ]
  },
  {
   "cell_type": "code",
   "execution_count": 97,
   "metadata": {},
   "outputs": [],
   "source": [
    "all_data = all_data.rename(columns ={'Additional Office Locations':'Add_Offices', 'Phone Number':'Phone_Number', 'Zip Code':'Zipcode_DHC', 'First Name':'First', 'Physician Name':'Name_DHC',\n",
    "       'Middle Name':'Middle', 'Primary Specialty':'Spec', 'Primary Hospital Affiliation':'Affiliation',\n",
    "       'Last Name':'Last'})"
   ]
  },
  {
   "cell_type": "code",
   "execution_count": 73,
   "metadata": {},
   "outputs": [],
   "source": [
    "all_data = all_data.fillna('None')"
   ]
  },
  {
   "cell_type": "code",
   "execution_count": 96,
   "metadata": {},
   "outputs": [
    {
     "name": "stdout",
     "output_type": "stream",
     "text": [
      "172\n",
      "244\n",
      "297\n"
     ]
    }
   ],
   "source": [
    "match_count = 0\n",
    "add_match_count = 0 \n",
    "city_count = 0\n",
    "for row in all_data.itertuples():\n",
    "    add_match =False\n",
    "    if str(row.Phone_Number.replace('.','')) == str(row.OFFICE_TELEPHONE):\n",
    "        match_count += 1\n",
    "    add_dhc = row.Address_DHC.upper()\n",
    "    add_mf = row.OFFICE_ADDRESS_LINE_2\n",
    "    if add_dhc in add_mf or add_mf in add_dhc:\n",
    "        add_match = True\n",
    "    elif fuzz.ratio(add_dhc,add_mf)>70:\n",
    "        add_match =True\n",
    "    if add_match == True:\n",
    "        add_match_count += 1\n",
    "    if row.OFFICE_ADDRESS_CITY == row.City_DHC.upper():\n",
    "        city_count += 1\n",
    "#     else:\n",
    "#         print(f'{add_dhc} does not match to {add_mf}')\n",
    "print(match_count)\n",
    "print(add_match_count)\n",
    "print(city_count)"
   ]
  },
  {
   "cell_type": "code",
   "execution_count": 77,
   "metadata": {},
   "outputs": [
    {
     "data": {
      "text/html": [
       "<div>\n",
       "<style scoped>\n",
       "    .dataframe tbody tr th:only-of-type {\n",
       "        vertical-align: middle;\n",
       "    }\n",
       "\n",
       "    .dataframe tbody tr th {\n",
       "        vertical-align: top;\n",
       "    }\n",
       "\n",
       "    .dataframe thead th {\n",
       "        text-align: right;\n",
       "    }\n",
       "</style>\n",
       "<table border=\"1\" class=\"dataframe\">\n",
       "  <thead>\n",
       "    <tr style=\"text-align: right;\">\n",
       "      <th></th>\n",
       "      <th>OFFICE_ADDRESS_LINE_2</th>\n",
       "      <th>Address_DHC</th>\n",
       "    </tr>\n",
       "  </thead>\n",
       "  <tbody>\n",
       "    <tr>\n",
       "      <td>0</td>\n",
       "      <td>1215 21ST AVE S</td>\n",
       "      <td>1310 24th Ave N</td>\n",
       "    </tr>\n",
       "    <tr>\n",
       "      <td>1</td>\n",
       "      <td>1807 W SLAUGHTER LN STE 490</td>\n",
       "      <td>1807 W Slaughter Ln</td>\n",
       "    </tr>\n",
       "    <tr>\n",
       "      <td>2</td>\n",
       "      <td>15905 UNION TPKE</td>\n",
       "      <td>2639 Atlantic Ave</td>\n",
       "    </tr>\n",
       "    <tr>\n",
       "      <td>3</td>\n",
       "      <td>3734 7TH ST STE 22</td>\n",
       "      <td>600 W Lake Cook Rd</td>\n",
       "    </tr>\n",
       "    <tr>\n",
       "      <td>4</td>\n",
       "      <td>201 MONROE ST STE 1382</td>\n",
       "      <td>201 Monroe St</td>\n",
       "    </tr>\n",
       "    <tr>\n",
       "      <td>...</td>\n",
       "      <td>...</td>\n",
       "      <td>...</td>\n",
       "    </tr>\n",
       "    <tr>\n",
       "      <td>452</td>\n",
       "      <td>6511 SPRING BROOK AVE</td>\n",
       "      <td>6511 Spring Brook Ave</td>\n",
       "    </tr>\n",
       "    <tr>\n",
       "      <td>453</td>\n",
       "      <td>3615 19TH ST</td>\n",
       "      <td>3615 19th St</td>\n",
       "    </tr>\n",
       "    <tr>\n",
       "      <td>454</td>\n",
       "      <td>313 CALLE MANUEL DOMENECH STE 101</td>\n",
       "      <td>313 Avenue Domenech</td>\n",
       "    </tr>\n",
       "    <tr>\n",
       "      <td>455</td>\n",
       "      <td>912 S WOOD ST</td>\n",
       "      <td>525 E Congress Pkwy</td>\n",
       "    </tr>\n",
       "    <tr>\n",
       "      <td>456</td>\n",
       "      <td>315 W 49TH ST</td>\n",
       "      <td>315A W 49th St</td>\n",
       "    </tr>\n",
       "  </tbody>\n",
       "</table>\n",
       "<p>457 rows × 2 columns</p>\n",
       "</div>"
      ],
      "text/plain": [
       "                 OFFICE_ADDRESS_LINE_2            Address_DHC\n",
       "0                      1215 21ST AVE S        1310 24th Ave N\n",
       "1          1807 W SLAUGHTER LN STE 490    1807 W Slaughter Ln\n",
       "2                     15905 UNION TPKE      2639 Atlantic Ave\n",
       "3                   3734 7TH ST STE 22     600 W Lake Cook Rd\n",
       "4               201 MONROE ST STE 1382          201 Monroe St\n",
       "..                                 ...                    ...\n",
       "452              6511 SPRING BROOK AVE  6511 Spring Brook Ave\n",
       "453                       3615 19TH ST           3615 19th St\n",
       "454  313 CALLE MANUEL DOMENECH STE 101    313 Avenue Domenech\n",
       "455                      912 S WOOD ST    525 E Congress Pkwy\n",
       "456                      315 W 49TH ST         315A W 49th St\n",
       "\n",
       "[457 rows x 2 columns]"
      ]
     },
     "execution_count": 77,
     "metadata": {},
     "output_type": "execute_result"
    }
   ],
   "source": [
    "all_data[['OFFICE_ADDRESS_LINE_2','Address_DHC']]"
   ]
  },
  {
   "cell_type": "code",
   "execution_count": 92,
   "metadata": {},
   "outputs": [
    {
     "data": {
      "text/plain": [
       "78"
      ]
     },
     "execution_count": 92,
     "metadata": {},
     "output_type": "execute_result"
    }
   ],
   "source": [
    "fuzz.ratio('39TH AND CHESTNUT ST','3819 CHESTNUT ST')"
   ]
  },
  {
   "cell_type": "code",
   "execution_count": 82,
   "metadata": {},
   "outputs": [
    {
     "data": {
      "text/plain": [
       "96"
      ]
     },
     "execution_count": 82,
     "metadata": {},
     "output_type": "execute_result"
    }
   ],
   "source": [
    "fuzz.ratio('315 W 49TH ST','315A W 49TH ST')"
   ]
  },
  {
   "cell_type": "code",
   "execution_count": 106,
   "metadata": {},
   "outputs": [
    {
     "data": {
      "text/plain": [
       "Index(['Unnamed: 0', 'PHYSICIAN_ME_NUMBER', 'PHYSICIAN_FIRST_NAME',\n",
       "       'PHYSICIAN_MIDDLE_NAME', 'PHYSICIAN_LAST_NAME', 'SUFFIX', 'DEGREE',\n",
       "       'OFFICE_ADDRESS_LINE_1', 'OFFICE_ADDRESS_LINE_2', 'OFFICE_ADDRESS_CITY',\n",
       "       'OFFICE_ADDRESS_STATE', 'OFFICE_ADDRESS_ZIP', 'OFFICE_TELEPHONE',\n",
       "       'Number', 'Name', 'Address_MF', 'Zipcode', 'City_MF', 'State_MF',\n",
       "       'PhoneType', 'QualityScore', 'Date', 'Notes', 'Provider', 'SICCode',\n",
       "       'SICDesc', 'Label', 'Google_Name', 'Google_Address', 'Google_Types',\n",
       "       'Google_Names', 'Google_Addresses', 'ME', 'NPI', 'Add_Offices',\n",
       "       'Phone_Number', 'Zipcode_DHC', 'State_DHC', 'City_DHC', 'Address_DHC',\n",
       "       'First', 'Name_DHC', 'Middle', 'Spec', 'Affiliation', 'Last',\n",
       "       'Address1'],\n",
       "      dtype='object')"
      ]
     },
     "execution_count": 106,
     "metadata": {},
     "output_type": "execute_result"
    }
   ],
   "source": [
    "all_data.columns"
   ]
  },
  {
   "cell_type": "code",
   "execution_count": 126,
   "metadata": {},
   "outputs": [
    {
     "name": "stdout",
     "output_type": "stream",
     "text": [
      "2900 12TH AVE N matches to 2900 12TH AVE N # 205W\n",
      "----\n",
      "915 OLD FERN HILL RD matches to 915 OLD FERN HILL RD\n",
      "----\n",
      "25 HACKETT BLVD matches to 62 HACKETT BLVD\n",
      "----\n",
      "795 EL CAMINO REAL matches to 795 EL CAMINO REAL\n",
      "----\n",
      "2630 HOLME AVE matches to 2630 HOLME AVE SUITE 200\n",
      "----\n",
      "1519 E 6TH ST matches to 1519 E 6TH ST\n",
      "----\n",
      "4315 DIPLOMACY DR matches to 4320 DIPLOMACY DR\n",
      "----\n",
      "282 THE GRN matches to 282 THE GREEN\n",
      "----\n",
      "80 SHUNPIKE RD matches to 80 SHUNPIKE RD #301\n",
      "----\n",
      "72 5TH ST SE matches to 72 5TH ST SE SUITE A\n",
      "----\n",
      "1250 E MARSHALL ST matches to 1250 E MARSHALL ST\n",
      "----\n",
      "4940 EASTERN AVE matches to 4940 EASTERN AVE\n",
      "----\n",
      "1600 ROCKLAND RD matches to 1600 ROCKLAND RD\n",
      "----\n",
      "428 BILTMORE AVE matches to 428 BILTMORE AVE\n",
      "----\n",
      "735 HASKINS RD matches to 735 HASKINS RD # G\n",
      "----\n",
      "11123 PARKVIEW PLAZA DR matches to 11123 PARKVIEW PLAZA DR #101\n",
      "----\n",
      "1000 N OAK AVE matches to 1000 N OAK AVE\n",
      "----\n",
      "5841 S MARYLAND AVE matches to 5841 S MARYLAND AVE\n",
      "----\n",
      "1 CHILDREN'S WAY LITTLE matches to 1 CHILDREN'S WAY\n",
      "----\n",
      "990 SOUTH AVE PROFESSIONAL BLDG, SUITE 206 matches to 990 SOUTH AVE\n",
      "----\n",
      "130 2ND ST matches to 130 2ND ST\n",
      "----\n",
      "1101 NOTT ST matches to 1101 NOTT ST\n",
      "----\n",
      "1850 N CENTRAL AVE matches to 1850 N CENTRAL AVE #1600\n",
      "----\n",
      "161 FORT WASHINGTON AVE matches to 161 FORT WASHINGTON AVE\n",
      "----\n",
      "401 E MAIN ST matches to 401 E MAIN ST\n",
      "----\n",
      "2301 ERWIN RD matches to 2301 ERWIN RD\n",
      "----\n",
      "525 E 68TH ST matches to 525 E 68TH ST M324\n",
      "----\n",
      "4550 INVESTMENT DR matches to 4550 INVESTMENT DR # 100\n",
      "----\n",
      "410 W 10TH AVE matches to 410 W 10TH AVE\n",
      "----\n",
      "55 FOGG RD matches to 55 FOGG RD\n",
      "----\n",
      "121 N NYES RD matches to 121 NYES RD\n",
      "----\n",
      "650 S ZEDIKER AVE matches to 650 S ZEDIKER AVE\n",
      "----\n",
      "1500 E MEDICAL CENTER DR matches to 1500 E MEDICAL CENTER DR\n",
      "----\n",
      "185 GENESEE ST matches to 185 GENESEE ST # 600\n",
      "----\n",
      "8000 E MAPLEWOOD AVE STE 200 matches to 8000 E MAPLEWOOD AVE BLDG 5 STE 200\n",
      "----\n",
      "2315 STOCKTON BLVD matches to 2521 STOCKTON BLVD\n",
      "----\n",
      "284 PULASKI RD matches to 284 PULASKI RD\n",
      "----\n",
      "601 SW CORPORATE VW matches to 601 SW CORPORATE VIEW\n",
      "----\n",
      "1024 S LEMAY AVE matches to 1024 S LEMAY AVE\n",
      "----\n",
      "5767 49TH ST N matches to 5771 49TH ST N\n",
      "----\n",
      "1500 E MEDICAL CENTER DR SPC 5277 matches to 1500 E MEDICAL CENTER DR\n",
      "----\n",
      "200 HENRY CLAY AVE matches to 200 HENRY CLAY AVE\n",
      "----\n",
      "1635 AURORA CT matches to AURORA\n",
      "----\n",
      "700 CHILDRENS DR # E4A matches to 700 CHILDREN'S DR E4A\n",
      "----\n",
      "12221 MERIT DR matches to 12221 MERIT DR # 1610\n",
      "----\n",
      "90 BERGEN ST matches to 90 BERGEN ST # 300\n",
      "----\n",
      "41 MALL RD matches to 41 MALL ROAD\n",
      "----\n",
      "4921 PARKVIEW PL matches to 4921 PARKVIEW PL FLOOR: 5\n",
      "----\n",
      "123 SUMMER ST matches to 123 SUMMER ST\n",
      "----\n",
      "8 SADDLE RD matches to 8 SADDLE RD # 101\n",
      "----\n",
      "7700 UNIVERSITY DR matches to 7777 UNIVERSITY DR\n",
      "----\n",
      "8300 W 38TH AVE matches to 8300 W 38TH AVE\n",
      "----\n",
      "721 ARBOR WAY matches to 721 ARBOR WAY #105\n",
      "----\n",
      "501 S 54TH ST matches to 501 S 54TH ST SUITE 28\n",
      "----\n",
      "185\n",
      "54\n",
      "0.2918918918918919\n"
     ]
    }
   ],
   "source": [
    "match_count = 0\n",
    "add_match_count = 0 \n",
    "city_count = 0\n",
    "for row in all_data.itertuples():\n",
    "    add_match =False\n",
    "    if str(row.Phone_Number.replace('.','')) != str(row.OFFICE_TELEPHONE):\n",
    "        add_dhc = row.Address_DHC.upper()\n",
    "        add_gfi = row.Google_Address.split(', ')[0].upper()\n",
    "        if add_gfi != 'NONE':\n",
    "            match_count += 1\n",
    "            adds = row.Google_Addresses.replace('\"',\"'\").replace(\"['\",\"\").replace(\"']\",\"\")\n",
    "            all_adds = adds.split(\"', '\")\n",
    "            for add in all_adds:\n",
    "                add_gfi = add.split(', ')[0].upper()\n",
    "                if add_dhc in add_gfi or add_gfi in add_dhc:\n",
    "                    add_match = True\n",
    "                    print(f'{add_dhc} matches to {add_gfi}')\n",
    "                    print('----')\n",
    "                    break\n",
    "                elif fuzz.ratio(add_dhc,add_gfi)>87:\n",
    "                    add_match =True\n",
    "                    print(f'{add_dhc} matches to {add_gfi}')\n",
    "                    print('----')\n",
    "                    break\n",
    "            if add_match == True:\n",
    "                \n",
    "                add_match_count += 1\n",
    "#             if add_match == False:\n",
    "#                 print(f'{add_dhc} does not match to {add_gfi}')\n",
    "#                 print('----')\n",
    "#     if row.OFFICE_ADDRESS_CITY == row.City_DHC.upper():\n",
    "#         city_count += 1\n",
    "#     else:\n",
    "#         print(f'{add_dhc} does not match to {add_mf}')\n",
    "print(match_count)\n",
    "print(add_match_count)\n",
    "print(add_match_count/match_count)"
   ]
  },
  {
   "cell_type": "code",
   "execution_count": 112,
   "metadata": {},
   "outputs": [
    {
     "data": {
      "text/plain": [
       "0                                                     []\n",
       "1                                                     []\n",
       "2                                                     []\n",
       "3      ['600 W Lake Cook Rd, Buffalo Grove, IL 60089,...\n",
       "4                                                     []\n",
       "                             ...                        \n",
       "452    ['6511 Spring Brook Ave, Rhinebeck, NY 12572, ...\n",
       "453             ['3615 19th St, Lubbock, TX 79410, USA']\n",
       "454                                                   []\n",
       "455    ['22285 N Pepper Rd #401, Barrington, IL 60010...\n",
       "456    ['315 W 49th St A, Hialeah, FL 33012, USA', '3...\n",
       "Name: Google_Addresses, Length: 457, dtype: object"
      ]
     },
     "execution_count": 112,
     "metadata": {},
     "output_type": "execute_result"
    }
   ],
   "source": [
    "all_data['Google_Addresses']"
   ]
  },
  {
   "cell_type": "code",
   "execution_count": 125,
   "metadata": {},
   "outputs": [
    {
     "data": {
      "text/plain": [
       "87"
      ]
     },
     "execution_count": 125,
     "metadata": {},
     "output_type": "execute_result"
    }
   ],
   "source": [
    "fuzz.ratio('2900 12TH AVE N','2800 10TH AVE N')"
   ]
  },
  {
   "cell_type": "code",
   "execution_count": 127,
   "metadata": {},
   "outputs": [],
   "source": [
    "all_data.to_csv('add_dhc.csv',index=False)"
   ]
  },
  {
   "cell_type": "code",
   "execution_count": 133,
   "metadata": {},
   "outputs": [],
   "source": [
    "false_neg =0\n",
    "false_pos =0\n",
    "true_pos =0\n",
    "true_neg = 0\n",
    "\n",
    "for row in all_data.itertuples():\n",
    "    add_match =False\n",
    "    phone_match = False\n",
    "    if str(row.Phone_Number.replace('.','')) == str(row.OFFICE_TELEPHONE):\n",
    "        phone_match = True\n",
    "    add_dhc = row.Address_DHC.upper()\n",
    "    add_mf = row.OFFICE_ADDRESS_LINE_2\n",
    "    if add_dhc in add_mf or add_mf in add_dhc:\n",
    "        add_match = True\n",
    "    elif fuzz.ratio(add_dhc,add_mf)>70:\n",
    "        add_match =True\n",
    "    if row.Label == 1:\n",
    "        if add_match == True:\n",
    "            false_neg += 1\n",
    "        else:\n",
    "            true_neg += 1       \n",
    "    if row.Label == 0:\n",
    "        if add_match == True:\n",
    "            true_pos += 1\n",
    "        else:\n",
    "            false_pos += 1  "
   ]
  },
  {
   "cell_type": "code",
   "execution_count": 134,
   "metadata": {},
   "outputs": [
    {
     "data": {
      "text/plain": [
       "132"
      ]
     },
     "execution_count": 134,
     "metadata": {},
     "output_type": "execute_result"
    }
   ],
   "source": [
    "true_pos"
   ]
  },
  {
   "cell_type": "code",
   "execution_count": 135,
   "metadata": {},
   "outputs": [
    {
     "data": {
      "text/plain": [
       "124"
      ]
     },
     "execution_count": 135,
     "metadata": {},
     "output_type": "execute_result"
    }
   ],
   "source": [
    "true_neg"
   ]
  },
  {
   "cell_type": "code",
   "execution_count": 136,
   "metadata": {},
   "outputs": [
    {
     "data": {
      "text/plain": [
       "89"
      ]
     },
     "execution_count": 136,
     "metadata": {},
     "output_type": "execute_result"
    }
   ],
   "source": [
    "false_pos"
   ]
  },
  {
   "cell_type": "code",
   "execution_count": 138,
   "metadata": {},
   "outputs": [
    {
     "data": {
      "text/plain": [
       "Index(['Unnamed: 0', 'PHYSICIAN_ME_NUMBER', 'PHYSICIAN_FIRST_NAME',\n",
       "       'PHYSICIAN_MIDDLE_NAME', 'PHYSICIAN_LAST_NAME', 'SUFFIX', 'DEGREE',\n",
       "       'OFFICE_ADDRESS_LINE_1', 'OFFICE_ADDRESS_LINE_2', 'OFFICE_ADDRESS_CITY',\n",
       "       'OFFICE_ADDRESS_STATE', 'OFFICE_ADDRESS_ZIP', 'OFFICE_TELEPHONE',\n",
       "       'Number', 'Name', 'Address_MF', 'Zipcode', 'City_MF', 'State_MF',\n",
       "       'PhoneType', 'QualityScore', 'Date', 'Notes', 'Provider', 'SICCode',\n",
       "       'SICDesc', 'Label', 'Google_Name', 'Google_Address', 'Google_Types',\n",
       "       'Google_Names', 'Google_Addresses', 'ME', 'NPI', 'Add_Offices',\n",
       "       'Phone_Number', 'Zipcode_DHC', 'State_DHC', 'City_DHC', 'Address_DHC',\n",
       "       'First', 'Name_DHC', 'Middle', 'Spec', 'Affiliation', 'Last',\n",
       "       'Address1'],\n",
       "      dtype='object')"
      ]
     },
     "execution_count": 138,
     "metadata": {},
     "output_type": "execute_result"
    }
   ],
   "source": [
    "all_data.columns"
   ]
  },
  {
   "cell_type": "code",
   "execution_count": null,
   "metadata": {},
   "outputs": [],
   "source": [
    "#first test GetPhoneInfo\n",
    "\n",
    "for row in all_data.itertuples():\n",
    "    if row.Address_MF.upper()"
   ]
  },
  {
   "cell_type": "code",
   "execution_count": 143,
   "metadata": {},
   "outputs": [
    {
     "data": {
      "text/html": [
       "<div>\n",
       "<style scoped>\n",
       "    .dataframe tbody tr th:only-of-type {\n",
       "        vertical-align: middle;\n",
       "    }\n",
       "\n",
       "    .dataframe tbody tr th {\n",
       "        vertical-align: top;\n",
       "    }\n",
       "\n",
       "    .dataframe thead th {\n",
       "        text-align: right;\n",
       "    }\n",
       "</style>\n",
       "<table border=\"1\" class=\"dataframe\">\n",
       "  <thead>\n",
       "    <tr style=\"text-align: right;\">\n",
       "      <th></th>\n",
       "      <th>NPI</th>\n",
       "      <th>ME</th>\n",
       "      <th>Additional Office Locations</th>\n",
       "      <th>Phone Number</th>\n",
       "      <th>Zip Code</th>\n",
       "      <th>State</th>\n",
       "      <th>City</th>\n",
       "      <th>Address</th>\n",
       "      <th>First Name</th>\n",
       "      <th>Physician Name</th>\n",
       "      <th>Middle Name</th>\n",
       "      <th>Primary Specialty</th>\n",
       "      <th>Primary Hospital Affiliation</th>\n",
       "      <th>Last Name</th>\n",
       "      <th>Address1</th>\n",
       "    </tr>\n",
       "  </thead>\n",
       "  <tbody>\n",
       "    <tr>\n",
       "      <td>934625</td>\n",
       "      <td>1780063727</td>\n",
       "      <td>NaN</td>\n",
       "      <td>NaN</td>\n",
       "      <td>907.580.3205</td>\n",
       "      <td>99506</td>\n",
       "      <td>AK</td>\n",
       "      <td>Jber</td>\n",
       "      <td>5955 Zeamer Ave</td>\n",
       "      <td>Caleb</td>\n",
       "      <td>Caleb Baxter</td>\n",
       "      <td>Spencer</td>\n",
       "      <td>Anesthesiology - Anesthesiologist</td>\n",
       "      <td>NaN</td>\n",
       "      <td>Baxter</td>\n",
       "      <td>NaN</td>\n",
       "    </tr>\n",
       "    <tr>\n",
       "      <td>934626</td>\n",
       "      <td>1467611699</td>\n",
       "      <td>NaN</td>\n",
       "      <td>NaN</td>\n",
       "      <td>907.486.9870</td>\n",
       "      <td>99615</td>\n",
       "      <td>AK</td>\n",
       "      <td>Kodiak</td>\n",
       "      <td>3449 E Rezanof Dr</td>\n",
       "      <td>Georgia</td>\n",
       "      <td>Georgia Blain</td>\n",
       "      <td>J</td>\n",
       "      <td>General Practice</td>\n",
       "      <td>NaN</td>\n",
       "      <td>Blain</td>\n",
       "      <td>NaN</td>\n",
       "    </tr>\n",
       "    <tr>\n",
       "      <td>934627</td>\n",
       "      <td>1811359896</td>\n",
       "      <td>NaN</td>\n",
       "      <td>NaN</td>\n",
       "      <td>907.729.5011</td>\n",
       "      <td>99654</td>\n",
       "      <td>AK</td>\n",
       "      <td>Wasilla</td>\n",
       "      <td>1001 S Knik Goose Bay Rd</td>\n",
       "      <td>Alexandria</td>\n",
       "      <td>Alexandria Boley</td>\n",
       "      <td>Paige</td>\n",
       "      <td>Pediatric Medicine</td>\n",
       "      <td>NaN</td>\n",
       "      <td>Boley</td>\n",
       "      <td>NaN</td>\n",
       "    </tr>\n",
       "    <tr>\n",
       "      <td>934628</td>\n",
       "      <td>1669660056</td>\n",
       "      <td>NaN</td>\n",
       "      <td>NaN</td>\n",
       "      <td>907.714.4444</td>\n",
       "      <td>99669</td>\n",
       "      <td>AK</td>\n",
       "      <td>Soldotna</td>\n",
       "      <td>250 Hospital Pl</td>\n",
       "      <td>Kyland</td>\n",
       "      <td>Kyland Burden</td>\n",
       "      <td>I</td>\n",
       "      <td>Emergency Medicine</td>\n",
       "      <td>Coon Memorial Hospital (Dalhart, TX)</td>\n",
       "      <td>Burden</td>\n",
       "      <td>NaN</td>\n",
       "    </tr>\n",
       "    <tr>\n",
       "      <td>934629</td>\n",
       "      <td>1639306947</td>\n",
       "      <td>NaN</td>\n",
       "      <td>NaN</td>\n",
       "      <td>907.580.3205</td>\n",
       "      <td>99506</td>\n",
       "      <td>AK</td>\n",
       "      <td>Jber</td>\n",
       "      <td>5955 Zeamer Ave</td>\n",
       "      <td>Rebecca</td>\n",
       "      <td>Rebecca Burns</td>\n",
       "      <td>K</td>\n",
       "      <td>Obstetrics/Gynecology</td>\n",
       "      <td>NaN</td>\n",
       "      <td>Burns</td>\n",
       "      <td>NaN</td>\n",
       "    </tr>\n",
       "    <tr>\n",
       "      <td>...</td>\n",
       "      <td>...</td>\n",
       "      <td>...</td>\n",
       "      <td>...</td>\n",
       "      <td>...</td>\n",
       "      <td>...</td>\n",
       "      <td>...</td>\n",
       "      <td>...</td>\n",
       "      <td>...</td>\n",
       "      <td>...</td>\n",
       "      <td>...</td>\n",
       "      <td>...</td>\n",
       "      <td>...</td>\n",
       "      <td>...</td>\n",
       "      <td>...</td>\n",
       "      <td>...</td>\n",
       "    </tr>\n",
       "    <tr>\n",
       "      <td>969967</td>\n",
       "      <td>1407142615</td>\n",
       "      <td>NaN</td>\n",
       "      <td>NaN</td>\n",
       "      <td>206.288.6956</td>\n",
       "      <td>98109</td>\n",
       "      <td>WA</td>\n",
       "      <td>Seattle</td>\n",
       "      <td>825 Eastlake Ave E</td>\n",
       "      <td>Maria</td>\n",
       "      <td>Maria Zudaire</td>\n",
       "      <td>Teresa</td>\n",
       "      <td>Oncology - Hematology/Oncology</td>\n",
       "      <td>NaN</td>\n",
       "      <td>Zudaire</td>\n",
       "      <td>NaN</td>\n",
       "    </tr>\n",
       "    <tr>\n",
       "      <td>969968</td>\n",
       "      <td>1912464595</td>\n",
       "      <td>NaN</td>\n",
       "      <td>NaN</td>\n",
       "      <td>703.766.2220</td>\n",
       "      <td>20190</td>\n",
       "      <td>VA</td>\n",
       "      <td>Reston</td>\n",
       "      <td>1830 Town Center Dr Ste 410</td>\n",
       "      <td>Arnela</td>\n",
       "      <td>Arnela Zukanovic</td>\n",
       "      <td>NaN</td>\n",
       "      <td>Dermatology</td>\n",
       "      <td>NaN</td>\n",
       "      <td>Zukanovic</td>\n",
       "      <td>NaN</td>\n",
       "    </tr>\n",
       "    <tr>\n",
       "      <td>969969</td>\n",
       "      <td>1356737209</td>\n",
       "      <td>NaN</td>\n",
       "      <td>NaN</td>\n",
       "      <td>920.969.7900</td>\n",
       "      <td>54956</td>\n",
       "      <td>WI</td>\n",
       "      <td>Neenah</td>\n",
       "      <td>130 2nd St</td>\n",
       "      <td>Casandra</td>\n",
       "      <td>Casandra Zummallen</td>\n",
       "      <td>Lynn</td>\n",
       "      <td>Pediatric Medicine</td>\n",
       "      <td>ThedaCare Regional Medical Center - Appleton (...</td>\n",
       "      <td>Zummallen</td>\n",
       "      <td>NaN</td>\n",
       "    </tr>\n",
       "    <tr>\n",
       "      <td>969970</td>\n",
       "      <td>1699161901</td>\n",
       "      <td>NaN</td>\n",
       "      <td>NaN</td>\n",
       "      <td>608.263.5660</td>\n",
       "      <td>53792</td>\n",
       "      <td>WI</td>\n",
       "      <td>Madison</td>\n",
       "      <td>Uw Hospital And Clinics</td>\n",
       "      <td>Luke</td>\n",
       "      <td>Luke Zurbriggen</td>\n",
       "      <td>NaN</td>\n",
       "      <td>Internal Medicine</td>\n",
       "      <td>University Hospital (Madison, WI)</td>\n",
       "      <td>Zurbriggen</td>\n",
       "      <td>NaN</td>\n",
       "    </tr>\n",
       "    <tr>\n",
       "      <td>969971</td>\n",
       "      <td>1699172841</td>\n",
       "      <td>NaN</td>\n",
       "      <td>NaN</td>\n",
       "      <td>425.502.3000</td>\n",
       "      <td>98004</td>\n",
       "      <td>WA</td>\n",
       "      <td>Bellevue</td>\n",
       "      <td>11511 Ne 10th St</td>\n",
       "      <td>Vladislava</td>\n",
       "      <td>Vladislava Zvigilsky</td>\n",
       "      <td>S</td>\n",
       "      <td>Family Practice</td>\n",
       "      <td>Kaiser Permanente - South Bay Medical Center (...</td>\n",
       "      <td>Zvigilsky</td>\n",
       "      <td>NaN</td>\n",
       "    </tr>\n",
       "  </tbody>\n",
       "</table>\n",
       "<p>35347 rows × 15 columns</p>\n",
       "</div>"
      ],
      "text/plain": [
       "               NPI   ME Additional Office Locations  Phone Number Zip Code  \\\n",
       "934625  1780063727  NaN                         NaN  907.580.3205    99506   \n",
       "934626  1467611699  NaN                         NaN  907.486.9870    99615   \n",
       "934627  1811359896  NaN                         NaN  907.729.5011    99654   \n",
       "934628  1669660056  NaN                         NaN  907.714.4444    99669   \n",
       "934629  1639306947  NaN                         NaN  907.580.3205    99506   \n",
       "...            ...  ...                         ...           ...      ...   \n",
       "969967  1407142615  NaN                         NaN  206.288.6956    98109   \n",
       "969968  1912464595  NaN                         NaN  703.766.2220    20190   \n",
       "969969  1356737209  NaN                         NaN  920.969.7900    54956   \n",
       "969970  1699161901  NaN                         NaN  608.263.5660    53792   \n",
       "969971  1699172841  NaN                         NaN  425.502.3000    98004   \n",
       "\n",
       "       State      City                      Address  First Name  \\\n",
       "934625    AK      Jber              5955 Zeamer Ave       Caleb   \n",
       "934626    AK    Kodiak            3449 E Rezanof Dr     Georgia   \n",
       "934627    AK   Wasilla     1001 S Knik Goose Bay Rd  Alexandria   \n",
       "934628    AK  Soldotna              250 Hospital Pl      Kyland   \n",
       "934629    AK      Jber              5955 Zeamer Ave     Rebecca   \n",
       "...      ...       ...                          ...         ...   \n",
       "969967    WA   Seattle           825 Eastlake Ave E       Maria   \n",
       "969968    VA    Reston  1830 Town Center Dr Ste 410      Arnela   \n",
       "969969    WI    Neenah                   130 2nd St    Casandra   \n",
       "969970    WI   Madison      Uw Hospital And Clinics        Luke   \n",
       "969971    WA  Bellevue             11511 Ne 10th St  Vladislava   \n",
       "\n",
       "              Physician Name Middle Name                  Primary Specialty  \\\n",
       "934625          Caleb Baxter     Spencer  Anesthesiology - Anesthesiologist   \n",
       "934626         Georgia Blain           J                   General Practice   \n",
       "934627      Alexandria Boley       Paige                 Pediatric Medicine   \n",
       "934628         Kyland Burden           I                 Emergency Medicine   \n",
       "934629         Rebecca Burns           K              Obstetrics/Gynecology   \n",
       "...                      ...         ...                                ...   \n",
       "969967         Maria Zudaire      Teresa     Oncology - Hematology/Oncology   \n",
       "969968      Arnela Zukanovic         NaN                        Dermatology   \n",
       "969969    Casandra Zummallen        Lynn                 Pediatric Medicine   \n",
       "969970       Luke Zurbriggen         NaN                  Internal Medicine   \n",
       "969971  Vladislava Zvigilsky           S                    Family Practice   \n",
       "\n",
       "                             Primary Hospital Affiliation   Last Name Address1  \n",
       "934625                                                NaN      Baxter      NaN  \n",
       "934626                                                NaN       Blain      NaN  \n",
       "934627                                                NaN       Boley      NaN  \n",
       "934628               Coon Memorial Hospital (Dalhart, TX)      Burden      NaN  \n",
       "934629                                                NaN       Burns      NaN  \n",
       "...                                                   ...         ...      ...  \n",
       "969967                                                NaN     Zudaire      NaN  \n",
       "969968                                                NaN   Zukanovic      NaN  \n",
       "969969  ThedaCare Regional Medical Center - Appleton (...   Zummallen      NaN  \n",
       "969970                  University Hospital (Madison, WI)  Zurbriggen      NaN  \n",
       "969971  Kaiser Permanente - South Bay Medical Center (...   Zvigilsky      NaN  \n",
       "\n",
       "[35347 rows x 15 columns]"
      ]
     },
     "execution_count": 143,
     "metadata": {},
     "output_type": "execute_result"
    }
   ],
   "source": [
    "dhc_[dhc_.ME.isna()]"
   ]
  },
  {
   "cell_type": "code",
   "execution_count": 146,
   "metadata": {},
   "outputs": [],
   "source": [
    "dhc_ = dhc_.rename(columns ={'Additional Office Locations':'Additional_Offices', 'Phone Number':'Phone_Number', 'Zip Code':'Zipcode', 'First Name':'First', 'Physician Name':'Name',\n",
    "       'Middle Name':'Middle', 'Primary Specialty':'Specialty', 'Primary Hospital Affiliation':'Affiliation',\n",
    "       'Last Name':'Last'})"
   ]
  },
  {
   "cell_type": "code",
   "execution_count": null,
   "metadata": {},
   "outputs": [],
   "source": [
    "dhc_=dhc_.fillna('None')"
   ]
  },
  {
   "cell_type": "code",
   "execution_count": 160,
   "metadata": {},
   "outputs": [],
   "source": [
    "phones =[]\n",
    "zipcodes =[]\n",
    "middles =[]\n",
    "firsts=[]\n",
    "lasts=[]\n",
    "for row in dhc_.itertuples():\n",
    "    phones.append(row.Phone_Number.replace('.',''))\n",
    "    zipcodes.append(str(row.Zipcode).replace('=','').replace('\"',''))\n",
    "    if row.Middle == 'NONE':\n",
    "        middles.append('None')\n",
    "    else:    \n",
    "        middles.append(row.Middle.upper())\n",
    "    firsts.append(row.First.upper())\n",
    "    lasts.append(row.Last.upper())"
   ]
  },
  {
   "cell_type": "code",
   "execution_count": 161,
   "metadata": {},
   "outputs": [],
   "source": [
    "dhc_['Zipcode']=zipcodes\n",
    "dhc_['Middle']=middles\n",
    "dhc_['Phone_Number']=phones\n",
    "dhc_['First']=firsts\n",
    "dhc_['Last']=lasts"
   ]
  },
  {
   "cell_type": "code",
   "execution_count": 168,
   "metadata": {},
   "outputs": [
    {
     "data": {
      "text/plain": [
       "Index(['Unnamed: 0', 'PHYSICIAN_ME_NUMBER', 'PHYSICIAN_FIRST_NAME',\n",
       "       'PHYSICIAN_MIDDLE_NAME', 'PHYSICIAN_LAST_NAME', 'SUFFIX', 'DEGREE',\n",
       "       'OFFICE_ADDRESS_LINE_1', 'OFFICE_ADDRESS_LINE_2', 'OFFICE_ADDRESS_CITY',\n",
       "       'OFFICE_ADDRESS_STATE', 'OFFICE_ADDRESS_ZIP', 'OFFICE_TELEPHONE',\n",
       "       'Number', 'Name', 'Address_MF', 'Zipcode', 'City_MF', 'State_MF',\n",
       "       'PhoneType', 'QualityScore', 'Date', 'Notes', 'Provider', 'SICCode',\n",
       "       'SICDesc', 'Label', 'Google_Name', 'Google_Address', 'Google_Types',\n",
       "       'Google_Names', 'Google_Addresses', 'ME', 'NPI', 'Add_Offices',\n",
       "       'Phone_Number', 'Zipcode_DHC', 'State_DHC', 'City_DHC', 'Address_DHC',\n",
       "       'First', 'Name_DHC', 'Middle', 'Spec', 'Affiliation', 'Last',\n",
       "       'Address1'],\n",
       "      dtype='object')"
      ]
     },
     "execution_count": 168,
     "metadata": {},
     "output_type": "execute_result"
    }
   ],
   "source": [
    "all_data.columns"
   ]
  },
  {
   "cell_type": "code",
   "execution_count": 182,
   "metadata": {},
   "outputs": [],
   "source": [
    "good_phones = 0\n",
    "good_adds = 0\n",
    "bad_phones = 0\n",
    "bad_adds = 0\n",
    "false_pos =0\n",
    "false_neg =0\n",
    "\n",
    "for row in all_data.itertuples():\n",
    "    dhc_add_match =False\n",
    "    phone_match = False\n",
    "    gfi_add_match = False\n",
    "    if str(row.Phone_Number.replace('.','')) == str(row.OFFICE_TELEPHONE):\n",
    "        phone_match = True\n",
    "    add_dhc = row.Address_DHC.upper()\n",
    "    add_mf = row.OFFICE_ADDRESS_LINE_2\n",
    "    add_gfi = row.Address_MF\n",
    "    if add_dhc in add_mf or add_mf in add_dhc:\n",
    "        dhc_add_match = True\n",
    "    elif fuzz.ratio(add_dhc,add_mf)>70:\n",
    "        dhc_add_match =True\n",
    "    if add_gfi in add_mf or add_mf in add_gfi:\n",
    "        gfi_add_match = True\n",
    "    elif fuzz.ratio(add_gfi,add_mf)>70:\n",
    "        gfi_add_match =True\n",
    "        \n",
    "#     if gfi_add_match == True & phone_match ==True:\n",
    "#         good_phones += 1\n",
    "#     if gfi_add_match == False & phone_match ==False:\n",
    "#         bad_phones += 1\n",
    "        \n",
    "    if gfi_add_match == True & dhc_add_match ==False:\n",
    "        false_pos += 1\n",
    "    if gfi_add_match == False & dhc_add_match ==True:\n",
    "        false_neg += 1\n",
    "        \n",
    "    if gfi_add_match == False & dhc_add_match ==False:\n",
    "        bad_adds += 1\n",
    "    if gfi_add_match == True & dhc_add_match ==True:\n",
    "        good_adds += 1"
   ]
  },
  {
   "cell_type": "code",
   "execution_count": 186,
   "metadata": {},
   "outputs": [
    {
     "data": {
      "text/plain": [
       "0"
      ]
     },
     "execution_count": 186,
     "metadata": {},
     "output_type": "execute_result"
    }
   ],
   "source": [
    "false_neg"
   ]
  },
  {
   "cell_type": "code",
   "execution_count": 181,
   "metadata": {},
   "outputs": [
    {
     "data": {
      "text/plain": [
       "210"
      ]
     },
     "execution_count": 181,
     "metadata": {},
     "output_type": "execute_result"
    }
   ],
   "source": [
    "false_pos"
   ]
  },
  {
   "cell_type": "code",
   "execution_count": 198,
   "metadata": {},
   "outputs": [],
   "source": [
    "good_phones = 0\n",
    "good_adds = 0\n",
    "bad_phones = 0\n",
    "bad_adds = 0\n",
    "false_pos =0\n",
    "false_neg =0\n",
    "\n",
    "for row in g_data.itertuples():\n",
    "    dhc_add_match =False\n",
    "    phone_match = False\n",
    "    gfi_add_match = False\n",
    "    if str(row.Phone_Number.replace('.','')) == str(row.OFFICE_TELEPHONE):\n",
    "        phone_match = True\n",
    "    add_dhc = row.Address_DHC.upper()\n",
    "    add_mf = row.OFFICE_ADDRESS_LINE_2\n",
    "    \n",
    "    if phone_match == True:\n",
    "    if add_dhc in add_mf or add_mf in add_dhc:\n",
    "        dhc_add_match = True\n",
    "    elif fuzz.ratio(add_dhc,add_mf)>70:\n",
    "        dhc_add_match =True\n",
    "\n",
    "    adds = row.Google_Addresses.replace('\"',\"'\").replace(\"['\",\"\").replace(\"']\",\"\")\n",
    "    all_adds = adds.split(\"', '\")\n",
    "    for add in all_adds:\n",
    "        add_gfi = add.split(', ')[0].upper()\n",
    "        if add_mf in add_gfi or add_gfi in add_mf:\n",
    "            gfi_add_match = True\n",
    "            break\n",
    "        elif fuzz.ratio(add_mf,add_gfi)>87:\n",
    "            gfi_add_match =True\n",
    "            break\n",
    "        \n",
    "    if gfi_add_match == True & phone_match ==True:\n",
    "        good_phones += 1\n",
    "    if gfi_add_match == False & phone_match ==False:\n",
    "        bad_phones += 1\n",
    "        \n",
    "    if gfi_add_match == True & phone_match ==False:\n",
    "        false_pos += 1\n",
    "    if gfi_add_match == False & phone_match ==True:\n",
    "        false_neg += 1\n",
    "        \n",
    "#     if gfi_add_match == False & dhc_add_match ==False:\n",
    "#         bad_adds += 1\n",
    "#     if gfi_add_match == True & dhc_add_match ==True:\n",
    "#         good_adds += 1"
   ]
  },
  {
   "cell_type": "code",
   "execution_count": 190,
   "metadata": {},
   "outputs": [],
   "source": [
    "g_data = all_data[all_data.Google_Address!='None']"
   ]
  },
  {
   "cell_type": "code",
   "execution_count": 202,
   "metadata": {},
   "outputs": [
    {
     "data": {
      "text/plain": [
       "0"
      ]
     },
     "execution_count": 202,
     "metadata": {},
     "output_type": "execute_result"
    }
   ],
   "source": [
    "false_neg"
   ]
  },
  {
   "cell_type": "code",
   "execution_count": 205,
   "metadata": {},
   "outputs": [],
   "source": [
    "phone_labels = []\n",
    "address_labels = []\n",
    "phone_true = []\n",
    "add_true = []\n",
    "\n",
    "for row in all_data.itertuples():\n",
    "    dhc_add_match =False\n",
    "    phone_match = False\n",
    "    gfi_add_match = False\n",
    "    goog_add_match = 'inconclusive'\n",
    "    if str(row.Phone_Number.replace('.','')) == str(row.OFFICE_TELEPHONE):\n",
    "        phone_match = True\n",
    "    add_dhc = row.Address_DHC.upper()\n",
    "    add_mf = row.OFFICE_ADDRESS_LINE_2\n",
    "    add_gfi = row.Address_MF\n",
    "    \n",
    "    if add_dhc in add_mf or add_mf in add_dhc:\n",
    "        dhc_add_match = True\n",
    "    elif fuzz.ratio(add_dhc,add_mf)>70:\n",
    "        dhc_add_match =True\n",
    "        \n",
    "    if add_gfi in add_mf or add_mf in add_gfi:\n",
    "        gfi_add_match = True\n",
    "    elif fuzz.ratio(add_gfi,add_mf)>70:\n",
    "        gfi_add_match =True\n",
    "        \n",
    "    if row.Google_Address != 'None':\n",
    "        goog_add_match = False\n",
    "        adds = row.Google_Addresses.replace('\"',\"'\").replace(\"['\",\"\").replace(\"']\",\"\")\n",
    "        all_adds = adds.split(\"', '\")\n",
    "        for add in all_adds:\n",
    "            add_goog = add.split(', ')[0].upper()\n",
    "            if add_mf in add_goog or add_goog in add_mf:\n",
    "                goog_add_match = True\n",
    "                break\n",
    "            elif fuzz.ratio(add_mf,add_goog)>87:\n",
    "                goog_add_match =True\n",
    "                break\n",
    "    if gfi_add_match == True:\n",
    "        phone = True\n",
    "        address = True\n",
    "    elif goog_add_match == False:\n",
    "        phone = False\n",
    "        address = False\n",
    "    elif goog_add_match == True:\n",
    "        phone = True\n",
    "        address = True\n",
    "    elif gfi_add_match == False:\n",
    "        phone = False\n",
    "        address = False\n",
    "    phone_labels.append(phone)\n",
    "    address_labels.append(address)\n",
    "    phone_true.append(phone_match)\n",
    "    add_true.append(dhc_add_match)"
   ]
  },
  {
   "cell_type": "code",
   "execution_count": null,
   "metadata": {},
   "outputs": [],
   "source": []
  },
  {
   "cell_type": "code",
   "execution_count": 211,
   "metadata": {},
   "outputs": [],
   "source": [
    "preds = pd.DataFrame({'Phone_Label': phone_labels, 'Phone_Truth': phone_true, 'Address_Label': address_labels, 'Address_Truth':add_true})"
   ]
  },
  {
   "cell_type": "code",
   "execution_count": 213,
   "metadata": {},
   "outputs": [
    {
     "name": "stdout",
     "output_type": "stream",
     "text": [
      "305\n"
     ]
    }
   ],
   "source": [
    "count =0\n",
    "for row in preds.itertuples():\n",
    "    if row.Address_Label == row.Address_Truth:\n",
    "        count += 1\n",
    "print(count)"
   ]
  },
  {
   "cell_type": "code",
   "execution_count": null,
   "metadata": {},
   "outputs": [],
   "source": []
  }
 ],
 "metadata": {
  "kernelspec": {
   "display_name": "Python 3",
   "language": "python",
   "name": "python3"
  },
  "language_info": {
   "codemirror_mode": {
    "name": "ipython",
    "version": 3
   },
   "file_extension": ".py",
   "mimetype": "text/x-python",
   "name": "python",
   "nbconvert_exporter": "python",
   "pygments_lexer": "ipython3",
   "version": "3.7.4"
  }
 },
 "nbformat": 4,
 "nbformat_minor": 2
}
