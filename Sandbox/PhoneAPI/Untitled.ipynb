{
 "cells": [
  {
   "cell_type": "code",
   "execution_count": 5,
   "metadata": {},
   "outputs": [],
   "source": [
    "import pandas as pd\n",
    "import requests\n",
    "key = 'WS77-XIQ4-KGS1'\n",
    "import xmltodict"
   ]
  },
  {
   "cell_type": "code",
   "execution_count": 4,
   "metadata": {},
   "outputs": [],
   "source": [
    "wrong = pd.read_csv(\"../new_wrong_numbers_all.csv\")"
   ]
  },
  {
   "cell_type": "code",
   "execution_count": 8,
   "metadata": {},
   "outputs": [],
   "source": [
    "def reverse_lookup(phone_number):\n",
    "    info_dict = {}\n",
    "    base_url = \"https://trial.serviceobjects.com/GPPL2/api.svc/GetPhoneInfo\"\n",
    "    parameters = {'PhoneNumber':phone_number, 'LicenseKey': key}\n",
    "    response =  requests.get(base_url, params=parameters)\n",
    "    results = xmltodict.parse(response.content)\n",
    "    try:\n",
    "        phone_results = results[\"PhoneInfoResponse\"][\"PhoneInfo\"]\n",
    "    except:\n",
    "        pass\n",
    "    info_dict['OFFICE_TELEPHONE'] = phone_number\n",
    "    try:\n",
    "        info_dict[\"Name\"] = phone_results[\"Contacts\"]['Contact'][\"Name\"]\n",
    "    except:\n",
    "        info_dict[\"Name\"] = 'N/A'\n",
    "    try:\n",
    "        info_dict[\"Address\"] = phone_results[\"Contacts\"]['Contact'][\"Address\"]\n",
    "    except:\n",
    "        info_dict[\"Address\"] = 'None'\n",
    "    try:\n",
    "        info_dict[\"City\"] = phone_results[\"Contacts\"]['Contact'][\"City\"]\n",
    "    except:\n",
    "        info_dict[\"City\"] = 'N/A'\n",
    "    try:\n",
    "        info_dict[\"Zipcode\"] = phone_results[\"Contacts\"]['Contact'][\"PostalCode\"][0:5]\n",
    "    except:\n",
    "        info_dict[\"Zipcode\"] = 'N/A'\n",
    "    try:\n",
    "        info_dict[\"State\"] = phone_results[\"Contacts\"]['Contact'][\"State\"]\n",
    "    except:\n",
    "        info_dict[\"State\"] = 'N/A'\n",
    "    try:\n",
    "        info_dict[\"PhoneType\"] = phone_results[\"Contacts\"]['Contact'][\"PhoneType\"]\n",
    "    except:\n",
    "        info_dict[\"PhoneType\"] = 'N/A'\n",
    "    try:\n",
    "        info_dict[\"QualityScore\"] = phone_results[\"Contacts\"]['Contact'][\"QualityScore\"]\n",
    "    except:\n",
    "        info_dict[\"QualityScore\"] = 'N/A'\n",
    "    try:\n",
    "        info_dict[\"Date\"] = phone_results[\"DateOfPorting\"]\n",
    "    except:\n",
    "        info_dict[\"Date\"] = 'none'\n",
    "    try:\n",
    "        info_dict[\"Notes\"] = phone_results[\"NoteDescriptions\"]\n",
    "    except:\n",
    "        info_dict[\"Notes\"] = 'None'\n",
    "    try:\n",
    "        info_dict[\"Provider\"] = phone_results['Provider']['Name']\n",
    "    except:\n",
    "        info_dict[\"Provider\"] = 'N/A'\n",
    "    return(info_dict, results)"
   ]
  },
  {
   "cell_type": "code",
   "execution_count": 9,
   "metadata": {},
   "outputs": [
    {
     "ename": "NameError",
     "evalue": "name 'dataframe' is not defined",
     "output_type": "error",
     "traceback": [
      "\u001b[1;31m---------------------------------------------------------------------------\u001b[0m",
      "\u001b[1;31mNameError\u001b[0m                                 Traceback (most recent call last)",
      "\u001b[1;32m<ipython-input-9-501c74f84f38>\u001b[0m in \u001b[0;36m<module>\u001b[1;34m\u001b[0m\n\u001b[0;32m     16\u001b[0m \u001b[1;31m#Save lists of dictionaries as dataframes:\u001b[0m\u001b[1;33m\u001b[0m\u001b[1;33m\u001b[0m\u001b[1;33m\u001b[0m\u001b[0m\n\u001b[0;32m     17\u001b[0m \u001b[0mnew_df\u001b[0m \u001b[1;33m=\u001b[0m \u001b[0mpd\u001b[0m\u001b[1;33m.\u001b[0m\u001b[0mDataFrame\u001b[0m\u001b[1;33m(\u001b[0m\u001b[0mresults_dict_list\u001b[0m\u001b[1;33m)\u001b[0m\u001b[1;33m\u001b[0m\u001b[1;33m\u001b[0m\u001b[0m\n\u001b[1;32m---> 18\u001b[1;33m \u001b[0mfinal_df\u001b[0m \u001b[1;33m=\u001b[0m \u001b[0mpd\u001b[0m\u001b[1;33m.\u001b[0m\u001b[0mmerge\u001b[0m\u001b[1;33m(\u001b[0m\u001b[0mnew_df\u001b[0m\u001b[1;33m,\u001b[0m \u001b[0mdataframe\u001b[0m\u001b[1;33m,\u001b[0m \u001b[0mon\u001b[0m \u001b[1;33m=\u001b[0m \u001b[1;34m'OFFICE_TELEPHONE'\u001b[0m\u001b[1;33m)\u001b[0m\u001b[1;33m\u001b[0m\u001b[1;33m\u001b[0m\u001b[0m\n\u001b[0m",
      "\u001b[1;31mNameError\u001b[0m: name 'dataframe' is not defined"
     ]
    }
   ],
   "source": [
    "#Create two empty lists:\n",
    "results_dict_list = []\n",
    "fun_massive_list = []\n",
    "\n",
    "#Iterate through dataframe and call reverse_lookup on each number:\n",
    "for row in wrong.itertuples():\n",
    "    new_dict = {}\n",
    "    phone = row.OFFICE_TELEPHONE\n",
    "    try:\n",
    "        new_dict, phone_results = reverse_lookup(phone)\n",
    "        results_dict_list.append(new_dict)\n",
    "        fun_massive_list.append(phone_results)\n",
    "    except:\n",
    "        pass\n",
    "\n",
    "#Save lists of dictionaries as dataframes:\n",
    "new_df = pd.DataFrame(results_dict_list)\n",
    "final_df = pd.merge(new_df, dataframe, on = 'OFFICE_TELEPHONE')"
   ]
  },
  {
   "cell_type": "code",
   "execution_count": 11,
   "metadata": {},
   "outputs": [],
   "source": [
    "new_df.to_csv(\"getphoneinfoWrong.csv\")"
   ]
  },
  {
   "cell_type": "code",
   "execution_count": null,
   "metadata": {},
   "outputs": [],
   "source": []
  }
 ],
 "metadata": {
  "kernelspec": {
   "display_name": "Python 3",
   "language": "python",
   "name": "python3"
  },
  "language_info": {
   "codemirror_mode": {
    "name": "ipython",
    "version": 3
   },
   "file_extension": ".py",
   "mimetype": "text/x-python",
   "name": "python",
   "nbconvert_exporter": "python",
   "pygments_lexer": "ipython3",
   "version": "3.7.3"
  }
 },
 "nbformat": 4,
 "nbformat_minor": 2
}
