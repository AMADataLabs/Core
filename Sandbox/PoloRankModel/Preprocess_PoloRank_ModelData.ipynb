{
 "cells": [
  {
   "cell_type": "markdown",
   "metadata": {},
   "source": [
    "Import packages required"
   ]
  },
  {
   "cell_type": "code",
   "execution_count": 1,
   "metadata": {},
   "outputs": [],
   "source": [
    "%load_ext autoreload\n",
    "%autoreload 2"
   ]
  },
  {
   "cell_type": "code",
   "execution_count": 2,
   "metadata": {},
   "outputs": [],
   "source": [
    "import numpy as np\n",
    "import pandas as pd\n",
    "import math\n",
    "import matplotlib.pyplot as plt\n",
    "import pylab as pl\n",
    "import datetime\n",
    "from sklearn.model_selection import train_test_split\n",
    "from shutil import copyfile\n"
   ]
  },
  {
   "cell_type": "code",
   "execution_count": 3,
   "metadata": {},
   "outputs": [],
   "source": [
    "import datetime\n",
    "import os\n",
    "import sys\n",
    "import tkinter as tk\n",
    "from tkinter import filedialog\n",
    "import warnings\n",
    "\n",
    "import settings"
   ]
  },
  {
   "cell_type": "code",
   "execution_count": 4,
   "metadata": {},
   "outputs": [],
   "source": [
    "from process_model_data import convert_data_types, create_new_addr_vars, clean_model_data \n",
    "from process_model_data import create_explore_plots\n",
    "from create_addr_model_input_data import create_model_initial_data\n",
    "from get_wslive_ppd_entity_info import get_latest_uniq_wslive\n"
   ]
  },
  {
   "cell_type": "code",
   "execution_count": 6,
   "metadata": {},
   "outputs": [],
   "source": [
    "from get_input_date_range import get_input_date_range\n",
    "import datalabs.curate.dataframe as df\n",
    "from remove_col_name_float_pt import remove_col_name_float_pt\n"
   ]
  },
  {
   "cell_type": "markdown",
   "metadata": {},
   "source": [
    "Suppress warnings that do not affect execution"
   ]
  },
  {
   "cell_type": "code",
   "execution_count": 7,
   "metadata": {},
   "outputs": [],
   "source": [
    "import sklearn.exceptions\n",
    "warnings.filterwarnings(\"ignore\")\n",
    "\n",
    "pd.options.mode.chained_assignment = None\n"
   ]
  },
  {
   "cell_type": "markdown",
   "metadata": {},
   "source": [
    "# ------------------------------ Define Common Functions ---------------------------------------"
   ]
  },
  {
   "cell_type": "code",
   "execution_count": 8,
   "metadata": {},
   "outputs": [],
   "source": [
    "def get_target_dist(data_df, target_var_name):\n",
    "    num_target_0 = sum(data_df[target_var_name] == 0)\n",
    "    num_target_1 = sum(data_df[target_var_name] == 1)\n",
    "    perc_target_0 = num_target_0/(num_target_0 + num_target_1)\n",
    "    perc_target_1 = num_target_1/(num_target_0 + num_target_1)\n",
    "\n",
    "    print('Number of {} 0: {}'.format(target_var_name, num_target_0))\n",
    "    print('Number of {} 1: {}'.format(target_var_name, num_target_1))\n",
    "    print('Percent of {} with value 0: {}'.format(target_var_name, perc_target_0))\n",
    "    print('Percent of {} with value 1: {}'.format(target_var_name, perc_target_1))"
   ]
  },
  {
   "cell_type": "markdown",
   "metadata": {},
   "source": [
    "# ------------------------------ Assign Common Variables ----------------------------------------"
   ]
  },
  {
   "cell_type": "markdown",
   "metadata": {},
   "source": [
    "Get paths required"
   ]
  },
  {
   "cell_type": "code",
   "execution_count": 9,
   "metadata": {},
   "outputs": [],
   "source": [
    "# Get files needed\n",
    "#ddb_info_file = filedialog.askopenfilename(initialdir = \"C:\\\\\",\n",
    "#                                       title = \"Choose txt file with database login information...\")\n",
    "\n",
    "init_wslive_dir = 'U:\\\\Source Files\\\\Data Analytics\\\\Data-Science\\\\Data\\\\WSLive\\\\'\n",
    "wslive_results_file = filedialog.askopenfilename(initialdir = init_wslive_dir,\n",
    "                                         title = \"Choose wslive file with results encoded...\")\n",
    "\n",
    "init_ppd_dir = 'U:\\\\Source Files\\\\Data Analytics\\\\Data-Science\\\\Data\\\\PPD\\\\'\n",
    "ppd_file_lst = filedialog.askopenfilenames(initialdir = init_ppd_dir,\n",
    "                                        title = \\\n",
    "                                        \"Choose the PPD files used to generate the WSLive samples...\")\n",
    "\n",
    "init_save_path = 'U:\\\\Source Files\\\\Data Analytics\\\\Data-Science\\\\Data\\\\Polo_Rank_Model\\\\'\n",
    "base_save_path = filedialog.askdirectory(initialdir = init_save_path,\n",
    "                                         title = \"Choose base save directory...\")\n",
    "base_save_path = base_save_path.replace(\"/\", \"\\\\\")\n",
    "base_save_path += \"\\\\\"\n",
    "\n",
    "init_ent_comm_dir = 'C:\\\\'\n",
    "ent_comm_file = filedialog.askopenfilename(initialdir = init_ent_comm_dir,\n",
    "                                         title = \\\n",
    "                                         \"Choose the entity_comm_at data csv file...\")\n",
    "\n",
    "ent_comm_usg_file = filedialog.askopenfilename(title = \\\n",
    "                                         \"Choose the entity_comm_usg_at data csv file...\")\n",
    "\n",
    "post_addr_file = filedialog.askopenfilename(title = \\\n",
    "                                            \"Choose the post_addr_at data csv file...\")\n",
    "\n",
    "license_file = filedialog.askopenfilename(title = \\\n",
    "                                            \"Choose the license_lt data csv file...\")\n",
    "\n",
    "ent_key_file = filedialog.askopenfilename(title = \\\n",
    "                                            \"Choose the entity_key_et data csv file...\")\n"
   ]
  },
  {
   "cell_type": "markdown",
   "metadata": {},
   "source": [
    "Define variables needed throughout code"
   ]
  },
  {
   "cell_type": "code",
   "execution_count": 10,
   "metadata": {},
   "outputs": [],
   "source": [
    "model_vars = ['correct', 'lic_state_match', 'pcp', 'ent_comm_src_cat_code', 'ent_comm_comm_type',\n",
    "              'addr_age_yrs', 'yop_yrs', 'doctor_age_yrs','ppd_address_type', 'ppd_region', \n",
    "              'ppd_division', 'ppd_group', 'ppd_msa_population_size', 'ppd_md_do_code', \n",
    "              'ppd_micro_metro_ind', 'ppd_gender', 'ppd_top_cd', 'ppd_pe_cd', 'ppd_prim_spec_cd', \n",
    "              'ppd_polo_state', \n",
    "              'hist_ent_id_addr_count', 'hist_ent_all_addr_count', 'curr_ent_id_addr_count', \n",
    "              'curr_ent_all_addr_count', 'curr_usg_all_addr_count']\n",
    "\n",
    "info_vars = ['ppd_me', 'ppd_first_name', 'ppd_middle_name', 'ppd_last_name', 'ppd_suffix', \n",
    "             'ppd_polo_mailing_line_1', 'ppd_polo_mailing_line_2', 'ppd_polo_city', \n",
    "             'ppd_polo_state', 'ppd_polo_zip',\n",
    "             'ppd_telephone_number', 'ppd_prim_spec_cd', 'ppd_pe_cd', 'ppd_fax_number', \n",
    "             'post_addr_line1', 'post_addr_line2', 'post_city_cd', 'post_state_cd',\n",
    "             'post_zip',\n",
    "             'INIT_POLO_MAILING_LINE_1', 'INIT_POLO_MAILING_LINE_2', 'INIT_POLO_CITY',\n",
    "             'INIT_POLO_STATE', 'INIT_POLO_ZIP', 'ADDR_STATUS', 'COMMENTS',\n",
    "             'ent_comm_comm_type', 'ent_comm_begin_dt', 'ent_comm_end_dt']\n",
    "\n",
    "target_name = 'correct'\n",
    "file_base_name = 'PoloRankModel'\n",
    "\n",
    "\n",
    "rand_state = 45\n",
    "testing_size = 0.2\n"
   ]
  },
  {
   "cell_type": "markdown",
   "metadata": {},
   "source": [
    "Get current time and create string"
   ]
  },
  {
   "cell_type": "code",
   "execution_count": 11,
   "metadata": {},
   "outputs": [],
   "source": [
    "current_time = datetime.datetime.now()\n",
    "start_time_str = current_time.strftime(\"%Y-%m-%d\")"
   ]
  },
  {
   "cell_type": "markdown",
   "metadata": {},
   "source": [
    "Create model output directory based on date"
   ]
  },
  {
   "cell_type": "code",
   "execution_count": 12,
   "metadata": {},
   "outputs": [],
   "source": [
    "data_path = base_save_path + 'Data\\\\'\n",
    "\n",
    "if not os.path.exists(data_path):\n",
    "    os.mkdir(data_path)\n",
    "    \n",
    "data_save_path = data_path + start_time_str + '_Model_Data\\\\'\n",
    "\n",
    "if not os.path.exists(data_save_path):\n",
    "    os.mkdir(data_save_path)\n"
   ]
  },
  {
   "cell_type": "markdown",
   "metadata": {},
   "source": [
    "Create exploratory output directory based on date"
   ]
  },
  {
   "cell_type": "code",
   "execution_count": 13,
   "metadata": {},
   "outputs": [],
   "source": [
    "explore_path = data_save_path + 'Exploratory\\\\'\n",
    "\n",
    "if not os.path.exists(explore_path):\n",
    "    os.mkdir(explore_path)\n"
   ]
  },
  {
   "cell_type": "markdown",
   "metadata": {},
   "source": [
    "# ------------------------------- Import Data ------------------------------------------"
   ]
  },
  {
   "cell_type": "markdown",
   "metadata": {},
   "source": [
    "Get time frame of WSLive data to use"
   ]
  },
  {
   "cell_type": "code",
   "execution_count": 14,
   "metadata": {},
   "outputs": [
    {
     "name": "stdout",
     "output_type": "stream",
     "text": [
      "Enter starting year (4 digit format): 2019\n",
      "Enter starting month (numeric value, Jan = 1): 3\n",
      "Enter starting day (default = 1): \n",
      "Enter ending year (4 digit format): 2019\n",
      "Enter ending month (numeric value, Jan = 1): 8\n",
      "Enter ending day (default = last day of month): \n"
     ]
    }
   ],
   "source": [
    "start_date, end_date, date_range_str = get_input_date_range()"
   ]
  },
  {
   "cell_type": "markdown",
   "metadata": {},
   "source": [
    "Get samples sent to Humach for dates chosen"
   ]
  },
  {
   "cell_type": "code",
   "execution_count": 15,
   "metadata": {},
   "outputs": [],
   "source": [
    "init_sample_dir = \\\n",
    "    'U:\\\\Source Files\\\\Data Analytics\\\\Data-Science\\\\Data\\\\WSLive\\\\Model_Init_Samples\\\\'\n",
    "init_sample_file_lst = filedialog.askopenfilenames(initialdir = init_sample_dir,\n",
    "                       title = \\\n",
    "                       \"Choose the WSLive standard samples sent to Humach for dates chosen...\")\n"
   ]
  },
  {
   "cell_type": "markdown",
   "metadata": {},
   "source": [
    "Get WSLive data for time frame indicated"
   ]
  },
  {
   "cell_type": "code",
   "execution_count": 16,
   "metadata": {},
   "outputs": [],
   "source": [
    "# Read in wslive data\n",
    "wslive_results_df = pd.read_csv(wslive_results_file, delimiter = \",\", index_col = None,\n",
    "                                header = 0, dtype = str)\n",
    "wslive_results_df = df.rename_in_upper_case(wslive_results_df)\n"
   ]
  },
  {
   "cell_type": "code",
   "execution_count": 17,
   "metadata": {},
   "outputs": [],
   "source": [
    "# Get data for date range specified\n",
    "wslive_results_df['WSLIVE_FILE_DT'] = pd.to_datetime(wslive_results_df['WSLIVE_FILE_DT'])\n",
    "wslive_date_df = wslive_results_df[(wslive_results_df['WSLIVE_FILE_DT'] >= start_date) & \\\n",
    "                                  (wslive_results_df['WSLIVE_FILE_DT'] <= end_date)]\n"
   ]
  },
  {
   "cell_type": "code",
   "execution_count": 18,
   "metadata": {},
   "outputs": [],
   "source": [
    "# Use only Confirmed data\n",
    "wslive_date_df = df.rename_in_upper_case(wslive_date_df)\n",
    "wslive_res_df = wslive_date_df[(wslive_date_df['ADDR_STATUS'] == 'Confirmed') | \\\n",
    "                               (wslive_date_df['ADDR_STATUS'] == 'Updated')] \n"
   ]
  },
  {
   "cell_type": "code",
   "execution_count": 19,
   "metadata": {},
   "outputs": [],
   "source": [
    "wslive_uniq_me_df = get_latest_uniq_wslive(wslive_res_df)\n"
   ]
  },
  {
   "cell_type": "code",
   "execution_count": 20,
   "metadata": {},
   "outputs": [
    {
     "data": {
      "text/plain": [
       "(47661, 37)"
      ]
     },
     "execution_count": 20,
     "metadata": {},
     "output_type": "execute_result"
    }
   ],
   "source": [
    "wslive_uniq_me_df.shape"
   ]
  },
  {
   "cell_type": "markdown",
   "metadata": {},
   "source": [
    "Read in entity data"
   ]
  },
  {
   "cell_type": "code",
   "execution_count": 21,
   "metadata": {},
   "outputs": [],
   "source": [
    "ent_comm_df = pd.read_csv(ent_comm_file, delimiter = \",\", index_col = None, header = 0, dtype = str)\n",
    "ent_comm_df = ent_comm_df[ent_comm_df['comm_cat'] == 'A']\n",
    "\n",
    "ent_comm_usg_df = pd.read_csv(ent_comm_usg_file, delimiter = \",\", index_col = None, header = 0, dtype = str)\n",
    "ent_comm_usg_df = ent_comm_usg_df[ent_comm_usg_df['comm_cat'] == 'A']\n",
    "\n",
    "post_addr_df = pd.read_csv(post_addr_file, delimiter = \",\", index_col = None, header = 0, dtype = str)\n",
    "\n",
    "license_df = pd.read_csv(license_file, delimiter = \",\", index_col = None, header = 0, dtype = str)\n",
    "\n",
    "ent_key_df = pd.read_csv(ent_key_file, delimiter = \",\", index_col = None, header = 0, dtype = str)\n"
   ]
  },
  {
   "cell_type": "code",
   "execution_count": 23,
   "metadata": {},
   "outputs": [
    {
     "data": {
      "text/plain": [
       "('C:/Data-Science/Data/PPD/ppd_data_20190216.csv',\n",
       " 'C:/Data-Science/Data/PPD/ppd_data_20190322.csv',\n",
       " 'C:/Data-Science/Data/PPD/ppd_data_20190430.csv',\n",
       " 'C:/Data-Science/Data/PPD/ppd_data_20190531.csv',\n",
       " 'C:/Data-Science/Data/PPD/ppd_data_20190629.csv',\n",
       " 'C:/Data-Science/Data/PPD/ppd_data_20190713.csv')"
      ]
     },
     "execution_count": 23,
     "metadata": {},
     "output_type": "execute_result"
    }
   ],
   "source": [
    "ppd_file_lst\n"
   ]
  },
  {
   "cell_type": "markdown",
   "metadata": {},
   "source": [
    "Call function to compile data from WSLive, entity tables, and PPD"
   ]
  },
  {
   "cell_type": "code",
   "execution_count": 24,
   "metadata": {
    "scrolled": false
   },
   "outputs": [],
   "source": [
    "orig_db_data = create_model_initial_data(wslive_uniq_me_df, init_sample_file_lst, \n",
    "                                         ppd_file_lst, ent_comm_df, ent_comm_usg_df, \n",
    "                                         post_addr_df, license_df, ent_key_df)\n"
   ]
  },
  {
   "cell_type": "markdown",
   "metadata": {},
   "source": [
    "Display size of original dataset"
   ]
  },
  {
   "cell_type": "code",
   "execution_count": 25,
   "metadata": {},
   "outputs": [
    {
     "data": {
      "text/plain": [
       "(30328, 152)"
      ]
     },
     "execution_count": 25,
     "metadata": {},
     "output_type": "execute_result"
    }
   ],
   "source": [
    "orig_db_data.shape"
   ]
  },
  {
   "cell_type": "code",
   "execution_count": 26,
   "metadata": {},
   "outputs": [
    {
     "data": {
      "text/html": [
       "<div>\n",
       "<style scoped>\n",
       "    .dataframe tbody tr th:only-of-type {\n",
       "        vertical-align: middle;\n",
       "    }\n",
       "\n",
       "    .dataframe tbody tr th {\n",
       "        vertical-align: top;\n",
       "    }\n",
       "\n",
       "    .dataframe thead th {\n",
       "        text-align: right;\n",
       "    }\n",
       "</style>\n",
       "<table border=\"1\" class=\"dataframe\">\n",
       "  <thead>\n",
       "    <tr style=\"text-align: right;\">\n",
       "      <th></th>\n",
       "      <th>0</th>\n",
       "    </tr>\n",
       "  </thead>\n",
       "  <tbody>\n",
       "    <tr>\n",
       "      <th>ppd_address_type</th>\n",
       "      <td>2</td>\n",
       "    </tr>\n",
       "    <tr>\n",
       "      <th>ADDRESS_UNDELIVERABLE_FLAG</th>\n",
       "      <td>NaN</td>\n",
       "    </tr>\n",
       "    <tr>\n",
       "      <th>ADDR_STATUS</th>\n",
       "      <td>Updated</td>\n",
       "    </tr>\n",
       "    <tr>\n",
       "      <th>BIRTH_CITY</th>\n",
       "      <td>STARKVILLE</td>\n",
       "    </tr>\n",
       "    <tr>\n",
       "      <th>BIRTH_COUNTRY</th>\n",
       "      <td>US1</td>\n",
       "    </tr>\n",
       "    <tr>\n",
       "      <th>BIRTH_STATE</th>\n",
       "      <td>MS</td>\n",
       "    </tr>\n",
       "    <tr>\n",
       "      <th>ppd_birth_year</th>\n",
       "      <td>1970</td>\n",
       "    </tr>\n",
       "    <tr>\n",
       "      <th>BLOCK_GROUP</th>\n",
       "      <td>3</td>\n",
       "    </tr>\n",
       "    <tr>\n",
       "      <th>CARRIER_ROUTE</th>\n",
       "      <td>R007</td>\n",
       "    </tr>\n",
       "    <tr>\n",
       "      <th>CBSA</th>\n",
       "      <td>32820</td>\n",
       "    </tr>\n",
       "    <tr>\n",
       "      <th>CBSA_DIV_IND</th>\n",
       "      <td>1</td>\n",
       "    </tr>\n",
       "    <tr>\n",
       "      <th>CHECK_DIGIT</th>\n",
       "      <td>7</td>\n",
       "    </tr>\n",
       "    <tr>\n",
       "      <th>CITY</th>\n",
       "      <td>HERNANDO</td>\n",
       "    </tr>\n",
       "    <tr>\n",
       "      <th>COMMENTS</th>\n",
       "      <td>COMPLETE</td>\n",
       "    </tr>\n",
       "    <tr>\n",
       "      <th>DELIVERY_POINT_CODE</th>\n",
       "      <td>31</td>\n",
       "    </tr>\n",
       "    <tr>\n",
       "      <th>ppd_division</th>\n",
       "      <td>6</td>\n",
       "    </tr>\n",
       "    <tr>\n",
       "      <th>ppd_fax_number</th>\n",
       "      <td>NaN</td>\n",
       "    </tr>\n",
       "    <tr>\n",
       "      <th>FAX_STATUS</th>\n",
       "      <td>Updated</td>\n",
       "    </tr>\n",
       "    <tr>\n",
       "      <th>FIPS_COUNTY</th>\n",
       "      <td>033</td>\n",
       "    </tr>\n",
       "    <tr>\n",
       "      <th>FIPS_STATE</th>\n",
       "      <td>28</td>\n",
       "    </tr>\n",
       "    <tr>\n",
       "      <th>ppd_first_name</th>\n",
       "      <td>KENNETH</td>\n",
       "    </tr>\n",
       "    <tr>\n",
       "      <th>FROM_DT</th>\n",
       "      <td>NaN</td>\n",
       "    </tr>\n",
       "    <tr>\n",
       "      <th>ppd_gender</th>\n",
       "      <td>1</td>\n",
       "    </tr>\n",
       "    <tr>\n",
       "      <th>GME_CONF_FLG</th>\n",
       "      <td>Y</td>\n",
       "    </tr>\n",
       "    <tr>\n",
       "      <th>GME_INST_ID</th>\n",
       "      <td>0498</td>\n",
       "    </tr>\n",
       "    <tr>\n",
       "      <th>GME_INST_STATE</th>\n",
       "      <td>01</td>\n",
       "    </tr>\n",
       "    <tr>\n",
       "      <th>GME_SPEC_1</th>\n",
       "      <td>NaN</td>\n",
       "    </tr>\n",
       "    <tr>\n",
       "      <th>GME_SPEC_2</th>\n",
       "      <td>NaN</td>\n",
       "    </tr>\n",
       "    <tr>\n",
       "      <th>ppd_group</th>\n",
       "      <td>5</td>\n",
       "    </tr>\n",
       "    <tr>\n",
       "      <th>INIT_FAX_NUMBER</th>\n",
       "      <td>NaN</td>\n",
       "    </tr>\n",
       "    <tr>\n",
       "      <th>...</th>\n",
       "      <td>...</td>\n",
       "    </tr>\n",
       "    <tr>\n",
       "      <th>post_comm_id</th>\n",
       "      <td>13818751</td>\n",
       "    </tr>\n",
       "    <tr>\n",
       "      <th>post_addr_line2</th>\n",
       "      <td>7900 AIRWAYS BLVD</td>\n",
       "    </tr>\n",
       "    <tr>\n",
       "      <th>post_addr_line1</th>\n",
       "      <td>STE 2</td>\n",
       "    </tr>\n",
       "    <tr>\n",
       "      <th>post_addr_line0</th>\n",
       "      <td>NaN</td>\n",
       "    </tr>\n",
       "    <tr>\n",
       "      <th>post_city_cd</th>\n",
       "      <td>SOUTHAVEN</td>\n",
       "    </tr>\n",
       "    <tr>\n",
       "      <th>post_state_cd</th>\n",
       "      <td>MS</td>\n",
       "    </tr>\n",
       "    <tr>\n",
       "      <th>post_zip</th>\n",
       "      <td>38671</td>\n",
       "    </tr>\n",
       "    <tr>\n",
       "      <th>post_plus4</th>\n",
       "      <td>4113</td>\n",
       "    </tr>\n",
       "    <tr>\n",
       "      <th>ent_st_num</th>\n",
       "      <td>7900</td>\n",
       "    </tr>\n",
       "    <tr>\n",
       "      <th>ent_addr_key</th>\n",
       "      <td>7900-38671</td>\n",
       "    </tr>\n",
       "    <tr>\n",
       "      <th>ent_me</th>\n",
       "      <td>00102020936</td>\n",
       "    </tr>\n",
       "    <tr>\n",
       "      <th>key_type</th>\n",
       "      <td>ME</td>\n",
       "    </tr>\n",
       "    <tr>\n",
       "      <th>entity_id</th>\n",
       "      <td>15002451</td>\n",
       "    </tr>\n",
       "    <tr>\n",
       "      <th>approval_id</th>\n",
       "      <td>NaN</td>\n",
       "    </tr>\n",
       "    <tr>\n",
       "      <th>active_ind</th>\n",
       "      <td>Y</td>\n",
       "    </tr>\n",
       "    <tr>\n",
       "      <th>insert_user_id</th>\n",
       "      <td>aimsbtch</td>\n",
       "    </tr>\n",
       "    <tr>\n",
       "      <th>insert_dtm</th>\n",
       "      <td>03NOV1998:20:13:23.737</td>\n",
       "    </tr>\n",
       "    <tr>\n",
       "      <th>update_user_id</th>\n",
       "      <td>aimsbtch</td>\n",
       "    </tr>\n",
       "    <tr>\n",
       "      <th>update_dtm</th>\n",
       "      <td>20NOV1998:20:34:22.823</td>\n",
       "    </tr>\n",
       "    <tr>\n",
       "      <th>opt_lock</th>\n",
       "      <td>0</td>\n",
       "    </tr>\n",
       "    <tr>\n",
       "      <th>hist_ent_id_addr_count</th>\n",
       "      <td>2</td>\n",
       "    </tr>\n",
       "    <tr>\n",
       "      <th>hist_ent_all_addr_count</th>\n",
       "      <td>40</td>\n",
       "    </tr>\n",
       "    <tr>\n",
       "      <th>curr_ent_id_addr_count</th>\n",
       "      <td>1</td>\n",
       "    </tr>\n",
       "    <tr>\n",
       "      <th>curr_ent_all_addr_count</th>\n",
       "      <td>2</td>\n",
       "    </tr>\n",
       "    <tr>\n",
       "      <th>hist_usg_id_addr_count</th>\n",
       "      <td>2</td>\n",
       "    </tr>\n",
       "    <tr>\n",
       "      <th>hist_usg_all_addr_count</th>\n",
       "      <td>133</td>\n",
       "    </tr>\n",
       "    <tr>\n",
       "      <th>curr_usg_id_addr_count</th>\n",
       "      <td>0</td>\n",
       "    </tr>\n",
       "    <tr>\n",
       "      <th>curr_usg_all_addr_count</th>\n",
       "      <td>2</td>\n",
       "    </tr>\n",
       "    <tr>\n",
       "      <th>wslive_post_lic_key</th>\n",
       "      <td>15002451-MS</td>\n",
       "    </tr>\n",
       "    <tr>\n",
       "      <th>lic_match</th>\n",
       "      <td>Y</td>\n",
       "    </tr>\n",
       "  </tbody>\n",
       "</table>\n",
       "<p>152 rows × 1 columns</p>\n",
       "</div>"
      ],
      "text/plain": [
       "                                                 0\n",
       "ppd_address_type                                 2\n",
       "ADDRESS_UNDELIVERABLE_FLAG                     NaN\n",
       "ADDR_STATUS                                Updated\n",
       "BIRTH_CITY                              STARKVILLE\n",
       "BIRTH_COUNTRY                                  US1\n",
       "BIRTH_STATE                                     MS\n",
       "ppd_birth_year                                1970\n",
       "BLOCK_GROUP                                      3\n",
       "CARRIER_ROUTE                                 R007\n",
       "CBSA                                         32820\n",
       "CBSA_DIV_IND                                     1\n",
       "CHECK_DIGIT                                      7\n",
       "CITY                                      HERNANDO\n",
       "COMMENTS                                  COMPLETE\n",
       "DELIVERY_POINT_CODE                             31\n",
       "ppd_division                                     6\n",
       "ppd_fax_number                                 NaN\n",
       "FAX_STATUS                                 Updated\n",
       "FIPS_COUNTY                                    033\n",
       "FIPS_STATE                                      28\n",
       "ppd_first_name                             KENNETH\n",
       "FROM_DT                                        NaN\n",
       "ppd_gender                                       1\n",
       "GME_CONF_FLG                                     Y\n",
       "GME_INST_ID                                   0498\n",
       "GME_INST_STATE                                  01\n",
       "GME_SPEC_1                                     NaN\n",
       "GME_SPEC_2                                     NaN\n",
       "ppd_group                                        5\n",
       "INIT_FAX_NUMBER                                NaN\n",
       "...                                            ...\n",
       "post_comm_id                              13818751\n",
       "post_addr_line2                  7900 AIRWAYS BLVD\n",
       "post_addr_line1                              STE 2\n",
       "post_addr_line0                                NaN\n",
       "post_city_cd                             SOUTHAVEN\n",
       "post_state_cd                                   MS\n",
       "post_zip                                     38671\n",
       "post_plus4                                    4113\n",
       "ent_st_num                                    7900\n",
       "ent_addr_key                            7900-38671\n",
       "ent_me                                 00102020936\n",
       "key_type                                        ME\n",
       "entity_id                                 15002451\n",
       "approval_id                                    NaN\n",
       "active_ind                                       Y\n",
       "insert_user_id                            aimsbtch\n",
       "insert_dtm                  03NOV1998:20:13:23.737\n",
       "update_user_id                            aimsbtch\n",
       "update_dtm                  20NOV1998:20:34:22.823\n",
       "opt_lock                                         0\n",
       "hist_ent_id_addr_count                           2\n",
       "hist_ent_all_addr_count                         40\n",
       "curr_ent_id_addr_count                           1\n",
       "curr_ent_all_addr_count                          2\n",
       "hist_usg_id_addr_count                           2\n",
       "hist_usg_all_addr_count                        133\n",
       "curr_usg_id_addr_count                           0\n",
       "curr_usg_all_addr_count                          2\n",
       "wslive_post_lic_key                    15002451-MS\n",
       "lic_match                                        Y\n",
       "\n",
       "[152 rows x 1 columns]"
      ]
     },
     "execution_count": 26,
     "metadata": {},
     "output_type": "execute_result"
    }
   ],
   "source": [
    "orig_db_data.head(1).T"
   ]
  },
  {
   "cell_type": "markdown",
   "metadata": {},
   "source": [
    "Create new target variable with 1 if phone number was confirmed and 0 if it was updated or known bad"
   ]
  },
  {
   "cell_type": "code",
   "execution_count": 27,
   "metadata": {},
   "outputs": [],
   "source": [
    "orig_db_data[target_name] = 0\n",
    "target_one_ndx = (orig_db_data['ent_addr_key'] == orig_db_data['WSLIVE_ADDR_KEY']) & \\\n",
    "    ((orig_db_data['ADDR_STATUS'] == 'Confirmed') | ((orig_db_data['ADDR_STATUS'] == 'Updated') & \\\n",
    "    (orig_db_data['INIT_SMPL_ADDR_KEY'] == orig_db_data['WSLIVE_ADDR_KEY'])))\n",
    "orig_db_data.loc[target_one_ndx, target_name] = 1\n"
   ]
  },
  {
   "cell_type": "code",
   "execution_count": 28,
   "metadata": {},
   "outputs": [
    {
     "name": "stdout",
     "output_type": "stream",
     "text": [
      "Number of correct 0: 8940\n",
      "Number of correct 1: 21388\n",
      "Percent of correct with value 0: 0.2947771036665787\n",
      "Percent of correct with value 1: 0.7052228963334213\n"
     ]
    }
   ],
   "source": [
    "get_target_dist(orig_db_data, target_name)"
   ]
  },
  {
   "cell_type": "code",
   "execution_count": 29,
   "metadata": {},
   "outputs": [],
   "source": [
    "orig_db_data_name = data_save_path + start_time_str + '_' + file_base_name + '_OrigDbData.csv'\n",
    "orig_db_data.to_csv(orig_db_data_name, sep = ',', header = True, index = True)\n"
   ]
  },
  {
   "cell_type": "markdown",
   "metadata": {},
   "source": [
    "Set Jupyter so that all output is displayed (not abbreviated with ...)"
   ]
  },
  {
   "cell_type": "code",
   "execution_count": 30,
   "metadata": {},
   "outputs": [],
   "source": [
    "num_rows = orig_db_data.shape[0] + 1\n",
    "num_cols = orig_db_data.shape[1] + 1\n",
    "pd.set_option('max_rows', num_rows)\n",
    "pd.set_option('max_columns', num_cols)\n",
    "np.set_printoptions(threshold=np.inf)"
   ]
  },
  {
   "cell_type": "markdown",
   "metadata": {},
   "source": [
    "# ------------------------------- Convert Data ------------------------------------------"
   ]
  },
  {
   "cell_type": "markdown",
   "metadata": {},
   "source": [
    "Convert dataframe data types to correct ones"
   ]
  },
  {
   "cell_type": "code",
   "execution_count": 31,
   "metadata": {},
   "outputs": [],
   "source": [
    "orig_data = convert_data_types(orig_db_data)"
   ]
  },
  {
   "cell_type": "markdown",
   "metadata": {},
   "source": [
    "# ----------------------------- Create New Model Variables ---------------------------------------"
   ]
  },
  {
   "cell_type": "markdown",
   "metadata": {},
   "source": [
    "Create new training variables"
   ]
  },
  {
   "cell_type": "code",
   "execution_count": 32,
   "metadata": {},
   "outputs": [],
   "source": [
    "orig_data = create_new_addr_vars(orig_data)"
   ]
  },
  {
   "cell_type": "code",
   "execution_count": 33,
   "metadata": {},
   "outputs": [
    {
     "name": "stdout",
     "output_type": "stream",
     "text": [
      "Number of correct 0: 8940\n",
      "Number of correct 1: 21388\n",
      "Percent of correct with value 0: 0.2947771036665787\n",
      "Percent of correct with value 1: 0.7052228963334213\n"
     ]
    }
   ],
   "source": [
    "get_target_dist(orig_data, target_name)"
   ]
  },
  {
   "cell_type": "code",
   "execution_count": 34,
   "metadata": {},
   "outputs": [],
   "source": [
    "orig_data_name = data_save_path + start_time_str + '_' + file_base_name + '_OrigDataB4Clean.csv'\n",
    "orig_data.to_csv(orig_data_name, sep = ',', header = True, index = True)\n"
   ]
  },
  {
   "cell_type": "markdown",
   "metadata": {},
   "source": [
    "# ---------------------------- Create and Clean Model Data --------------------------------------"
   ]
  },
  {
   "cell_type": "code",
   "execution_count": 35,
   "metadata": {},
   "outputs": [],
   "source": [
    "model_data = orig_data.loc[:, model_vars]"
   ]
  },
  {
   "cell_type": "code",
   "execution_count": 36,
   "metadata": {},
   "outputs": [
    {
     "data": {
      "text/plain": [
       "(30328, 25)"
      ]
     },
     "execution_count": 36,
     "metadata": {},
     "output_type": "execute_result"
    }
   ],
   "source": [
    "model_data.shape"
   ]
  },
  {
   "cell_type": "markdown",
   "metadata": {},
   "source": [
    "Clean model data to remove NaN values"
   ]
  },
  {
   "cell_type": "code",
   "execution_count": 37,
   "metadata": {},
   "outputs": [],
   "source": [
    "model_data, orig_data = clean_model_data(model_data, orig_data)"
   ]
  },
  {
   "cell_type": "code",
   "execution_count": 38,
   "metadata": {},
   "outputs": [
    {
     "data": {
      "text/plain": [
       "(27404, 25)"
      ]
     },
     "execution_count": 38,
     "metadata": {},
     "output_type": "execute_result"
    }
   ],
   "source": [
    "model_data.shape"
   ]
  },
  {
   "cell_type": "markdown",
   "metadata": {},
   "source": [
    "Verify NaN values were removed (should be none in the dataset)"
   ]
  },
  {
   "cell_type": "code",
   "execution_count": 39,
   "metadata": {},
   "outputs": [
    {
     "name": "stdout",
     "output_type": "stream",
     "text": [
      "Series([], dtype: int64)\n",
      "[]\n"
     ]
    }
   ],
   "source": [
    "na_cnt = model_data.isna().sum()\n",
    "na_ndx = na_cnt > 0\n",
    "na_cnt_df = na_cnt[na_ndx]\n",
    "print(na_cnt_df)\n",
    "print(na_cnt_df.index.values)"
   ]
  },
  {
   "cell_type": "markdown",
   "metadata": {},
   "source": [
    "Display descriptive statistics for model dataset"
   ]
  },
  {
   "cell_type": "code",
   "execution_count": 40,
   "metadata": {},
   "outputs": [
    {
     "data": {
      "text/html": [
       "<div>\n",
       "<style scoped>\n",
       "    .dataframe tbody tr th:only-of-type {\n",
       "        vertical-align: middle;\n",
       "    }\n",
       "\n",
       "    .dataframe tbody tr th {\n",
       "        vertical-align: top;\n",
       "    }\n",
       "\n",
       "    .dataframe thead th {\n",
       "        text-align: right;\n",
       "    }\n",
       "</style>\n",
       "<table border=\"1\" class=\"dataframe\">\n",
       "  <thead>\n",
       "    <tr style=\"text-align: right;\">\n",
       "      <th></th>\n",
       "      <th>count</th>\n",
       "      <th>unique</th>\n",
       "      <th>top</th>\n",
       "      <th>freq</th>\n",
       "      <th>mean</th>\n",
       "      <th>std</th>\n",
       "      <th>min</th>\n",
       "      <th>25%</th>\n",
       "      <th>50%</th>\n",
       "      <th>75%</th>\n",
       "      <th>max</th>\n",
       "    </tr>\n",
       "  </thead>\n",
       "  <tbody>\n",
       "    <tr>\n",
       "      <th>correct</th>\n",
       "      <td>27404</td>\n",
       "      <td>NaN</td>\n",
       "      <td>NaN</td>\n",
       "      <td>NaN</td>\n",
       "      <td>0.705773</td>\n",
       "      <td>0.455703</td>\n",
       "      <td>0</td>\n",
       "      <td>0</td>\n",
       "      <td>1</td>\n",
       "      <td>1</td>\n",
       "      <td>1</td>\n",
       "    </tr>\n",
       "    <tr>\n",
       "      <th>lic_state_match</th>\n",
       "      <td>27404</td>\n",
       "      <td>2</td>\n",
       "      <td>1</td>\n",
       "      <td>26080</td>\n",
       "      <td>NaN</td>\n",
       "      <td>NaN</td>\n",
       "      <td>NaN</td>\n",
       "      <td>NaN</td>\n",
       "      <td>NaN</td>\n",
       "      <td>NaN</td>\n",
       "      <td>NaN</td>\n",
       "    </tr>\n",
       "    <tr>\n",
       "      <th>pcp</th>\n",
       "      <td>27404</td>\n",
       "      <td>2</td>\n",
       "      <td>0</td>\n",
       "      <td>16717</td>\n",
       "      <td>NaN</td>\n",
       "      <td>NaN</td>\n",
       "      <td>NaN</td>\n",
       "      <td>NaN</td>\n",
       "      <td>NaN</td>\n",
       "      <td>NaN</td>\n",
       "      <td>NaN</td>\n",
       "    </tr>\n",
       "    <tr>\n",
       "      <th>ent_comm_src_cat_code</th>\n",
       "      <td>27404</td>\n",
       "      <td>44</td>\n",
       "      <td>GROUP</td>\n",
       "      <td>9135</td>\n",
       "      <td>NaN</td>\n",
       "      <td>NaN</td>\n",
       "      <td>NaN</td>\n",
       "      <td>NaN</td>\n",
       "      <td>NaN</td>\n",
       "      <td>NaN</td>\n",
       "      <td>NaN</td>\n",
       "    </tr>\n",
       "    <tr>\n",
       "      <th>ent_comm_comm_type</th>\n",
       "      <td>27404</td>\n",
       "      <td>3</td>\n",
       "      <td>OF</td>\n",
       "      <td>19410</td>\n",
       "      <td>NaN</td>\n",
       "      <td>NaN</td>\n",
       "      <td>NaN</td>\n",
       "      <td>NaN</td>\n",
       "      <td>NaN</td>\n",
       "      <td>NaN</td>\n",
       "      <td>NaN</td>\n",
       "    </tr>\n",
       "    <tr>\n",
       "      <th>addr_age_yrs</th>\n",
       "      <td>27404</td>\n",
       "      <td>NaN</td>\n",
       "      <td>NaN</td>\n",
       "      <td>NaN</td>\n",
       "      <td>9.20008</td>\n",
       "      <td>12.3851</td>\n",
       "      <td>0.205479</td>\n",
       "      <td>2.68493</td>\n",
       "      <td>7.69041</td>\n",
       "      <td>10.4082</td>\n",
       "      <td>119.83</td>\n",
       "    </tr>\n",
       "    <tr>\n",
       "      <th>yop_yrs</th>\n",
       "      <td>27404</td>\n",
       "      <td>NaN</td>\n",
       "      <td>NaN</td>\n",
       "      <td>NaN</td>\n",
       "      <td>29.0397</td>\n",
       "      <td>11.1862</td>\n",
       "      <td>4.75342</td>\n",
       "      <td>20.7644</td>\n",
       "      <td>28.7699</td>\n",
       "      <td>36.7753</td>\n",
       "      <td>68.7973</td>\n",
       "    </tr>\n",
       "    <tr>\n",
       "      <th>doctor_age_yrs</th>\n",
       "      <td>27404</td>\n",
       "      <td>NaN</td>\n",
       "      <td>NaN</td>\n",
       "      <td>NaN</td>\n",
       "      <td>56.2682</td>\n",
       "      <td>10.8809</td>\n",
       "      <td>28.7699</td>\n",
       "      <td>47.7836</td>\n",
       "      <td>56.789</td>\n",
       "      <td>64.7945</td>\n",
       "      <td>100.819</td>\n",
       "    </tr>\n",
       "    <tr>\n",
       "      <th>ppd_address_type</th>\n",
       "      <td>27404</td>\n",
       "      <td>3</td>\n",
       "      <td>1</td>\n",
       "      <td>16423</td>\n",
       "      <td>NaN</td>\n",
       "      <td>NaN</td>\n",
       "      <td>NaN</td>\n",
       "      <td>NaN</td>\n",
       "      <td>NaN</td>\n",
       "      <td>NaN</td>\n",
       "      <td>NaN</td>\n",
       "    </tr>\n",
       "    <tr>\n",
       "      <th>ppd_region</th>\n",
       "      <td>27404</td>\n",
       "      <td>5</td>\n",
       "      <td>3</td>\n",
       "      <td>9815</td>\n",
       "      <td>NaN</td>\n",
       "      <td>NaN</td>\n",
       "      <td>NaN</td>\n",
       "      <td>NaN</td>\n",
       "      <td>NaN</td>\n",
       "      <td>NaN</td>\n",
       "      <td>NaN</td>\n",
       "    </tr>\n",
       "    <tr>\n",
       "      <th>ppd_division</th>\n",
       "      <td>27404</td>\n",
       "      <td>10</td>\n",
       "      <td>5</td>\n",
       "      <td>5174</td>\n",
       "      <td>NaN</td>\n",
       "      <td>NaN</td>\n",
       "      <td>NaN</td>\n",
       "      <td>NaN</td>\n",
       "      <td>NaN</td>\n",
       "      <td>NaN</td>\n",
       "      <td>NaN</td>\n",
       "    </tr>\n",
       "    <tr>\n",
       "      <th>ppd_group</th>\n",
       "      <td>27404</td>\n",
       "      <td>6</td>\n",
       "      <td>6</td>\n",
       "      <td>20737</td>\n",
       "      <td>NaN</td>\n",
       "      <td>NaN</td>\n",
       "      <td>NaN</td>\n",
       "      <td>NaN</td>\n",
       "      <td>NaN</td>\n",
       "      <td>NaN</td>\n",
       "      <td>NaN</td>\n",
       "    </tr>\n",
       "    <tr>\n",
       "      <th>ppd_msa_population_size</th>\n",
       "      <td>27404</td>\n",
       "      <td>4</td>\n",
       "      <td>A</td>\n",
       "      <td>19071</td>\n",
       "      <td>NaN</td>\n",
       "      <td>NaN</td>\n",
       "      <td>NaN</td>\n",
       "      <td>NaN</td>\n",
       "      <td>NaN</td>\n",
       "      <td>NaN</td>\n",
       "      <td>NaN</td>\n",
       "    </tr>\n",
       "    <tr>\n",
       "      <th>ppd_md_do_code</th>\n",
       "      <td>27404</td>\n",
       "      <td>2</td>\n",
       "      <td>1</td>\n",
       "      <td>25407</td>\n",
       "      <td>NaN</td>\n",
       "      <td>NaN</td>\n",
       "      <td>NaN</td>\n",
       "      <td>NaN</td>\n",
       "      <td>NaN</td>\n",
       "      <td>NaN</td>\n",
       "      <td>NaN</td>\n",
       "    </tr>\n",
       "    <tr>\n",
       "      <th>ppd_micro_metro_ind</th>\n",
       "      <td>27404</td>\n",
       "      <td>2</td>\n",
       "      <td>1</td>\n",
       "      <td>27274</td>\n",
       "      <td>NaN</td>\n",
       "      <td>NaN</td>\n",
       "      <td>NaN</td>\n",
       "      <td>NaN</td>\n",
       "      <td>NaN</td>\n",
       "      <td>NaN</td>\n",
       "      <td>NaN</td>\n",
       "    </tr>\n",
       "    <tr>\n",
       "      <th>ppd_gender</th>\n",
       "      <td>27404</td>\n",
       "      <td>2</td>\n",
       "      <td>1</td>\n",
       "      <td>19333</td>\n",
       "      <td>NaN</td>\n",
       "      <td>NaN</td>\n",
       "      <td>NaN</td>\n",
       "      <td>NaN</td>\n",
       "      <td>NaN</td>\n",
       "      <td>NaN</td>\n",
       "      <td>NaN</td>\n",
       "    </tr>\n",
       "    <tr>\n",
       "      <th>ppd_top_cd</th>\n",
       "      <td>27404</td>\n",
       "      <td>1</td>\n",
       "      <td>20</td>\n",
       "      <td>27404</td>\n",
       "      <td>NaN</td>\n",
       "      <td>NaN</td>\n",
       "      <td>NaN</td>\n",
       "      <td>NaN</td>\n",
       "      <td>NaN</td>\n",
       "      <td>NaN</td>\n",
       "      <td>NaN</td>\n",
       "    </tr>\n",
       "    <tr>\n",
       "      <th>ppd_pe_cd</th>\n",
       "      <td>27404</td>\n",
       "      <td>17</td>\n",
       "      <td>30</td>\n",
       "      <td>15641</td>\n",
       "      <td>NaN</td>\n",
       "      <td>NaN</td>\n",
       "      <td>NaN</td>\n",
       "      <td>NaN</td>\n",
       "      <td>NaN</td>\n",
       "      <td>NaN</td>\n",
       "      <td>NaN</td>\n",
       "    </tr>\n",
       "    <tr>\n",
       "      <th>ppd_prim_spec_cd</th>\n",
       "      <td>27404</td>\n",
       "      <td>195</td>\n",
       "      <td>FM</td>\n",
       "      <td>3427</td>\n",
       "      <td>NaN</td>\n",
       "      <td>NaN</td>\n",
       "      <td>NaN</td>\n",
       "      <td>NaN</td>\n",
       "      <td>NaN</td>\n",
       "      <td>NaN</td>\n",
       "      <td>NaN</td>\n",
       "    </tr>\n",
       "    <tr>\n",
       "      <th>ppd_polo_state</th>\n",
       "      <td>27404</td>\n",
       "      <td>53</td>\n",
       "      <td>CA</td>\n",
       "      <td>2992</td>\n",
       "      <td>NaN</td>\n",
       "      <td>NaN</td>\n",
       "      <td>NaN</td>\n",
       "      <td>NaN</td>\n",
       "      <td>NaN</td>\n",
       "      <td>NaN</td>\n",
       "      <td>NaN</td>\n",
       "    </tr>\n",
       "    <tr>\n",
       "      <th>hist_ent_id_addr_count</th>\n",
       "      <td>27404</td>\n",
       "      <td>NaN</td>\n",
       "      <td>NaN</td>\n",
       "      <td>NaN</td>\n",
       "      <td>1.88133</td>\n",
       "      <td>1.09055</td>\n",
       "      <td>1</td>\n",
       "      <td>1</td>\n",
       "      <td>2</td>\n",
       "      <td>2</td>\n",
       "      <td>15</td>\n",
       "    </tr>\n",
       "    <tr>\n",
       "      <th>hist_ent_all_addr_count</th>\n",
       "      <td>27404</td>\n",
       "      <td>NaN</td>\n",
       "      <td>NaN</td>\n",
       "      <td>NaN</td>\n",
       "      <td>333.576</td>\n",
       "      <td>1072.31</td>\n",
       "      <td>1</td>\n",
       "      <td>10</td>\n",
       "      <td>44</td>\n",
       "      <td>167</td>\n",
       "      <td>9792</td>\n",
       "    </tr>\n",
       "    <tr>\n",
       "      <th>curr_ent_id_addr_count</th>\n",
       "      <td>27404</td>\n",
       "      <td>NaN</td>\n",
       "      <td>NaN</td>\n",
       "      <td>NaN</td>\n",
       "      <td>1.27952</td>\n",
       "      <td>0.505665</td>\n",
       "      <td>1</td>\n",
       "      <td>1</td>\n",
       "      <td>1</td>\n",
       "      <td>2</td>\n",
       "      <td>4</td>\n",
       "    </tr>\n",
       "    <tr>\n",
       "      <th>curr_ent_all_addr_count</th>\n",
       "      <td>27404</td>\n",
       "      <td>NaN</td>\n",
       "      <td>NaN</td>\n",
       "      <td>NaN</td>\n",
       "      <td>4.65432</td>\n",
       "      <td>15.6694</td>\n",
       "      <td>1</td>\n",
       "      <td>1</td>\n",
       "      <td>2</td>\n",
       "      <td>4</td>\n",
       "      <td>182</td>\n",
       "    </tr>\n",
       "    <tr>\n",
       "      <th>curr_usg_all_addr_count</th>\n",
       "      <td>27404</td>\n",
       "      <td>NaN</td>\n",
       "      <td>NaN</td>\n",
       "      <td>NaN</td>\n",
       "      <td>8.32886</td>\n",
       "      <td>25.9058</td>\n",
       "      <td>0</td>\n",
       "      <td>2</td>\n",
       "      <td>3</td>\n",
       "      <td>6</td>\n",
       "      <td>267</td>\n",
       "    </tr>\n",
       "  </tbody>\n",
       "</table>\n",
       "</div>"
      ],
      "text/plain": [
       "                         count unique    top   freq      mean       std  \\\n",
       "correct                  27404    NaN    NaN    NaN  0.705773  0.455703   \n",
       "lic_state_match          27404      2      1  26080       NaN       NaN   \n",
       "pcp                      27404      2      0  16717       NaN       NaN   \n",
       "ent_comm_src_cat_code    27404     44  GROUP   9135       NaN       NaN   \n",
       "ent_comm_comm_type       27404      3     OF  19410       NaN       NaN   \n",
       "addr_age_yrs             27404    NaN    NaN    NaN   9.20008   12.3851   \n",
       "yop_yrs                  27404    NaN    NaN    NaN   29.0397   11.1862   \n",
       "doctor_age_yrs           27404    NaN    NaN    NaN   56.2682   10.8809   \n",
       "ppd_address_type         27404      3      1  16423       NaN       NaN   \n",
       "ppd_region               27404      5      3   9815       NaN       NaN   \n",
       "ppd_division             27404     10      5   5174       NaN       NaN   \n",
       "ppd_group                27404      6      6  20737       NaN       NaN   \n",
       "ppd_msa_population_size  27404      4      A  19071       NaN       NaN   \n",
       "ppd_md_do_code           27404      2      1  25407       NaN       NaN   \n",
       "ppd_micro_metro_ind      27404      2      1  27274       NaN       NaN   \n",
       "ppd_gender               27404      2      1  19333       NaN       NaN   \n",
       "ppd_top_cd               27404      1     20  27404       NaN       NaN   \n",
       "ppd_pe_cd                27404     17     30  15641       NaN       NaN   \n",
       "ppd_prim_spec_cd         27404    195     FM   3427       NaN       NaN   \n",
       "ppd_polo_state           27404     53     CA   2992       NaN       NaN   \n",
       "hist_ent_id_addr_count   27404    NaN    NaN    NaN   1.88133   1.09055   \n",
       "hist_ent_all_addr_count  27404    NaN    NaN    NaN   333.576   1072.31   \n",
       "curr_ent_id_addr_count   27404    NaN    NaN    NaN   1.27952  0.505665   \n",
       "curr_ent_all_addr_count  27404    NaN    NaN    NaN   4.65432   15.6694   \n",
       "curr_usg_all_addr_count  27404    NaN    NaN    NaN   8.32886   25.9058   \n",
       "\n",
       "                              min      25%      50%      75%      max  \n",
       "correct                         0        0        1        1        1  \n",
       "lic_state_match               NaN      NaN      NaN      NaN      NaN  \n",
       "pcp                           NaN      NaN      NaN      NaN      NaN  \n",
       "ent_comm_src_cat_code         NaN      NaN      NaN      NaN      NaN  \n",
       "ent_comm_comm_type            NaN      NaN      NaN      NaN      NaN  \n",
       "addr_age_yrs             0.205479  2.68493  7.69041  10.4082   119.83  \n",
       "yop_yrs                   4.75342  20.7644  28.7699  36.7753  68.7973  \n",
       "doctor_age_yrs            28.7699  47.7836   56.789  64.7945  100.819  \n",
       "ppd_address_type              NaN      NaN      NaN      NaN      NaN  \n",
       "ppd_region                    NaN      NaN      NaN      NaN      NaN  \n",
       "ppd_division                  NaN      NaN      NaN      NaN      NaN  \n",
       "ppd_group                     NaN      NaN      NaN      NaN      NaN  \n",
       "ppd_msa_population_size       NaN      NaN      NaN      NaN      NaN  \n",
       "ppd_md_do_code                NaN      NaN      NaN      NaN      NaN  \n",
       "ppd_micro_metro_ind           NaN      NaN      NaN      NaN      NaN  \n",
       "ppd_gender                    NaN      NaN      NaN      NaN      NaN  \n",
       "ppd_top_cd                    NaN      NaN      NaN      NaN      NaN  \n",
       "ppd_pe_cd                     NaN      NaN      NaN      NaN      NaN  \n",
       "ppd_prim_spec_cd              NaN      NaN      NaN      NaN      NaN  \n",
       "ppd_polo_state                NaN      NaN      NaN      NaN      NaN  \n",
       "hist_ent_id_addr_count          1        1        2        2       15  \n",
       "hist_ent_all_addr_count         1       10       44      167     9792  \n",
       "curr_ent_id_addr_count          1        1        1        2        4  \n",
       "curr_ent_all_addr_count         1        1        2        4      182  \n",
       "curr_usg_all_addr_count         0        2        3        6      267  "
      ]
     },
     "execution_count": 40,
     "metadata": {},
     "output_type": "execute_result"
    }
   ],
   "source": [
    "model_data.describe(include = \"all\").T"
   ]
  },
  {
   "cell_type": "markdown",
   "metadata": {},
   "source": [
    "Print number of 0 and 1 valus of target variable"
   ]
  },
  {
   "cell_type": "code",
   "execution_count": 41,
   "metadata": {},
   "outputs": [
    {
     "name": "stdout",
     "output_type": "stream",
     "text": [
      "Number of correct 0: 8063\n",
      "Number of correct 1: 19341\n",
      "Percent of correct with value 0: 0.2942271201284484\n",
      "Percent of correct with value 1: 0.7057728798715516\n"
     ]
    }
   ],
   "source": [
    "get_target_dist(model_data, target_name)\n"
   ]
  },
  {
   "cell_type": "markdown",
   "metadata": {},
   "source": [
    "# ---------------------------- Perform Exploratory Analysis --------------------------------------"
   ]
  },
  {
   "cell_type": "markdown",
   "metadata": {},
   "source": [
    "Generate figures of the distributions of each variable and save off for further analysis"
   ]
  },
  {
   "cell_type": "code",
   "execution_count": 42,
   "metadata": {},
   "outputs": [],
   "source": [
    "create_explore_plots(model_data, explore_path)\n"
   ]
  },
  {
   "cell_type": "markdown",
   "metadata": {},
   "source": [
    "Generate plots of independent variables and the target correctness (crosstab and scatter plots)"
   ]
  },
  {
   "cell_type": "code",
   "execution_count": 43,
   "metadata": {},
   "outputs": [],
   "source": [
    "model_columns = model_data.columns.values\n",
    "\n",
    "for i in range(len(model_columns)):\n",
    "    if str(model_data[model_columns[i]].dtypes) == 'category' or str(model_data[model_columns[i]].dtypes) == 'object':\n",
    "        obs_race_cross = pd.crosstab(model_data[model_columns[i]], model_data[target_name])\n",
    "        obs_race_cross.plot(kind=\"bar\")\n",
    "        x_lab = model_columns[i] + ' by ' + target_name\n",
    "        plt.xlabel(x_lab)\n",
    "        plt.ylabel('Count')\n",
    "        title = 'Crosstab of ' + model_columns[i] + ' by ' + target_name\n",
    "        plt.title(title)\n",
    "        plt.legend(bbox_to_anchor=(1.05, 1), loc=2, borderaxespad=0.)\n",
    "    else:\n",
    "        temp_ndx = model_data[model_columns[i]].isnull()\n",
    "        temp_var = model_data[model_columns[i]][~temp_ndx]\n",
    "        temp_correct = model_data[target_name][~temp_ndx]\n",
    "        \n",
    "        plt.scatter(x=temp_correct, y=temp_var)\n",
    "        x_title = target_name + ' value'\n",
    "        plt.xlabel(x_title)\n",
    "        plt.ylabel(model_columns[i])\n",
    "        title = model_columns[i] + ' by ' + target_name\n",
    "        plt.title(title)    \n",
    "\n",
    "    fig_path = explore_path + model_columns[i] + '_by_' + target_name + '.png'\n",
    "    plt.savefig(fig_path)\n",
    "    plt.close()"
   ]
  },
  {
   "cell_type": "markdown",
   "metadata": {},
   "source": [
    "# ---------------------------- Create Dummy Variables --------------------------------------"
   ]
  },
  {
   "cell_type": "markdown",
   "metadata": {},
   "source": [
    "Save off data before dummy variable creation"
   ]
  },
  {
   "cell_type": "code",
   "execution_count": 44,
   "metadata": {},
   "outputs": [],
   "source": [
    "model_info_df = model_data[:]\n",
    "model_info_df[info_vars] = orig_data[info_vars]\n"
   ]
  },
  {
   "cell_type": "code",
   "execution_count": 45,
   "metadata": {},
   "outputs": [],
   "source": [
    "model_info_name = data_save_path + start_time_str + '_' + file_base_name + '_BeforeDummy.csv'\n",
    "model_info_df.to_csv(model_info_name, sep = ',', header = True, index = True)\n"
   ]
  },
  {
   "cell_type": "code",
   "execution_count": 46,
   "metadata": {},
   "outputs": [],
   "source": [
    "orig_data_name = data_save_path + start_time_str + '_' + file_base_name + '_CleanedOrigData.csv'\n",
    "orig_data.to_csv(orig_data_name, sep = ',', header = True, index = True)\n"
   ]
  },
  {
   "cell_type": "markdown",
   "metadata": {},
   "source": [
    "Create dummy variables for all categorical/object columns"
   ]
  },
  {
   "cell_type": "code",
   "execution_count": 47,
   "metadata": {},
   "outputs": [
    {
     "data": {
      "text/plain": [
       "(27404, 361)"
      ]
     },
     "execution_count": 47,
     "metadata": {},
     "output_type": "execute_result"
    }
   ],
   "source": [
    "model_data_all = pd.get_dummies(model_data)\n",
    "model_data_all.shape"
   ]
  },
  {
   "cell_type": "code",
   "execution_count": 48,
   "metadata": {},
   "outputs": [],
   "source": [
    "model_data_all = remove_col_name_float_pt(model_data_all)"
   ]
  },
  {
   "cell_type": "markdown",
   "metadata": {},
   "source": [
    "Create and save pearson correlation matrix of all variables"
   ]
  },
  {
   "cell_type": "code",
   "execution_count": 49,
   "metadata": {
    "scrolled": true
   },
   "outputs": [],
   "source": [
    "all_var_corr = model_data_all.corr(method = \"pearson\")\n",
    "\n",
    "corr_file = explore_path + 'All_Variable_Correlation.csv'\n",
    "all_var_corr.to_csv(corr_file, sep=\",\")\n"
   ]
  },
  {
   "cell_type": "markdown",
   "metadata": {},
   "source": [
    "# ------------------------------ Create Test and Train Data ----------------------------------------"
   ]
  },
  {
   "cell_type": "markdown",
   "metadata": {},
   "source": [
    "Create target dataset"
   ]
  },
  {
   "cell_type": "code",
   "execution_count": 50,
   "metadata": {},
   "outputs": [
    {
     "data": {
      "text/plain": [
       "(27404,)"
      ]
     },
     "execution_count": 50,
     "metadata": {},
     "output_type": "execute_result"
    }
   ],
   "source": [
    "target_df = model_data_all[target_name]\n",
    "target_df.shape"
   ]
  },
  {
   "cell_type": "markdown",
   "metadata": {},
   "source": [
    "Create training dataset"
   ]
  },
  {
   "cell_type": "code",
   "execution_count": 51,
   "metadata": {},
   "outputs": [
    {
     "data": {
      "text/plain": [
       "(27404, 360)"
      ]
     },
     "execution_count": 51,
     "metadata": {},
     "output_type": "execute_result"
    }
   ],
   "source": [
    "train_df = model_data_all[:]\n",
    "train_df = train_df.drop(target_name, axis = 1) \n",
    "train_df.shape"
   ]
  },
  {
   "cell_type": "markdown",
   "metadata": {},
   "source": [
    "Add informational columns back into data so they will be split accordingly"
   ]
  },
  {
   "cell_type": "code",
   "execution_count": 52,
   "metadata": {},
   "outputs": [
    {
     "data": {
      "text/plain": [
       "(27404, 389)"
      ]
     },
     "execution_count": 52,
     "metadata": {},
     "output_type": "execute_result"
    }
   ],
   "source": [
    "train_df_all = train_df[:]\n",
    "train_df_all[info_vars] = orig_data[info_vars]\n",
    "train_df_all.shape"
   ]
  },
  {
   "cell_type": "markdown",
   "metadata": {},
   "source": [
    "Create random test/train split with testing set size given by variable at the top"
   ]
  },
  {
   "cell_type": "code",
   "execution_count": 53,
   "metadata": {},
   "outputs": [],
   "source": [
    "# If testing_size is > 0, split data into testing/training sets\n",
    "train_columns = list(train_df_all.columns.values)\n",
    "\n",
    "if testing_size > 0:\n",
    "    data_train, data_test, target_train, target_test = \\\n",
    "    train_test_split(train_df_all, target_df, test_size = testing_size, \n",
    "                     random_state = rand_state, stratify = target_df)\n",
    "# Else use entire dataset for both testing and training\n",
    "else:\n",
    "    data_train = train_df\n",
    "    data_test = train_df\n",
    "    target_train = target_df\n",
    "    target_test = target_df\n",
    "    "
   ]
  },
  {
   "cell_type": "markdown",
   "metadata": {},
   "source": [
    "Convert numpy outputs back into dataframes for saving"
   ]
  },
  {
   "cell_type": "code",
   "execution_count": 54,
   "metadata": {},
   "outputs": [],
   "source": [
    "data_train_df = pd.DataFrame(data_train, columns = train_columns)\n",
    "train_indices = data_train_df.index.values\n",
    "target_train_df = pd.DataFrame(target_train, index = train_indices, columns = [target_name])\n",
    "\n",
    "data_test_df = pd.DataFrame(data_test, columns = train_columns)\n",
    "test_indices = data_test_df.index.values\n",
    "target_test_df = pd.DataFrame(target_test, index = test_indices, columns = [target_name])\n"
   ]
  },
  {
   "cell_type": "code",
   "execution_count": 55,
   "metadata": {},
   "outputs": [
    {
     "data": {
      "text/plain": [
       "(21923, 389)"
      ]
     },
     "execution_count": 55,
     "metadata": {},
     "output_type": "execute_result"
    }
   ],
   "source": [
    "data_train_df.shape"
   ]
  },
  {
   "cell_type": "code",
   "execution_count": 56,
   "metadata": {},
   "outputs": [
    {
     "data": {
      "text/plain": [
       "(5481, 389)"
      ]
     },
     "execution_count": 56,
     "metadata": {},
     "output_type": "execute_result"
    }
   ],
   "source": [
    "data_test_df.shape"
   ]
  },
  {
   "cell_type": "markdown",
   "metadata": {},
   "source": [
    "Extract informational columns from training and testing datasets"
   ]
  },
  {
   "cell_type": "code",
   "execution_count": 57,
   "metadata": {},
   "outputs": [],
   "source": [
    "data_train_info_df = data_train_df.loc[:, info_vars]\n",
    "data_train_df = data_train_df.drop(info_vars, axis = 1)\n",
    "\n",
    "data_test_info_df = data_test_df.loc[:, info_vars]\n",
    "data_test_df = data_test_df.drop(info_vars, axis = 1)\n"
   ]
  },
  {
   "cell_type": "code",
   "execution_count": 58,
   "metadata": {},
   "outputs": [
    {
     "data": {
      "text/plain": [
       "(21923, 360)"
      ]
     },
     "execution_count": 58,
     "metadata": {},
     "output_type": "execute_result"
    }
   ],
   "source": [
    "data_train_df.shape"
   ]
  },
  {
   "cell_type": "code",
   "execution_count": 59,
   "metadata": {},
   "outputs": [
    {
     "data": {
      "text/plain": [
       "(5481, 360)"
      ]
     },
     "execution_count": 59,
     "metadata": {},
     "output_type": "execute_result"
    }
   ],
   "source": [
    "data_test_df.shape"
   ]
  },
  {
   "cell_type": "markdown",
   "metadata": {},
   "source": [
    "Print number of 0s and 1s in training dataset target variable"
   ]
  },
  {
   "cell_type": "code",
   "execution_count": 60,
   "metadata": {},
   "outputs": [
    {
     "name": "stdout",
     "output_type": "stream",
     "text": [
      "Number of correct 0: 6450\n",
      "Number of correct 1: 15473\n",
      "Percent of correct with value 0: 0.29421155863704784\n",
      "Percent of correct with value 1: 0.7057884413629522\n"
     ]
    }
   ],
   "source": [
    "get_target_dist(target_train_df, target_name)\n"
   ]
  },
  {
   "cell_type": "markdown",
   "metadata": {},
   "source": [
    "Print number of 0s and 1s in testing dataset target variable"
   ]
  },
  {
   "cell_type": "code",
   "execution_count": 61,
   "metadata": {},
   "outputs": [
    {
     "name": "stdout",
     "output_type": "stream",
     "text": [
      "Number of correct 0: 1613\n",
      "Number of correct 1: 3868\n",
      "Percent of correct with value 0: 0.2942893632548805\n",
      "Percent of correct with value 1: 0.7057106367451195\n"
     ]
    }
   ],
   "source": [
    "get_target_dist(target_test_df, target_name)\n"
   ]
  },
  {
   "cell_type": "markdown",
   "metadata": {},
   "source": [
    "# -------------------------- Save Testing and Training Data -------------------------------------"
   ]
  },
  {
   "cell_type": "markdown",
   "metadata": {},
   "source": [
    "Save training data and target to csv files"
   ]
  },
  {
   "cell_type": "code",
   "execution_count": 62,
   "metadata": {},
   "outputs": [],
   "source": [
    "train_data_name = data_save_path + start_time_str + '_' + file_base_name + '_TrainData.csv'\n",
    "data_train_df.to_csv(train_data_name, sep = ',', header = True, index = True)\n",
    "train_target_name = data_save_path + start_time_str + '_' + file_base_name + '_TrainTarget.csv'\n",
    "target_train_df.to_csv(train_target_name, sep = ',', header = True, index = True)\n"
   ]
  },
  {
   "cell_type": "markdown",
   "metadata": {},
   "source": [
    "Save testing data and target to csv files"
   ]
  },
  {
   "cell_type": "code",
   "execution_count": 63,
   "metadata": {},
   "outputs": [],
   "source": [
    "\n",
    "test_data_name = data_save_path + start_time_str + '_' + file_base_name + '_TestData.csv'\n",
    "data_test_df.to_csv(test_data_name, sep = ',', header = True, index = True)\n",
    "test_target_name = data_save_path + start_time_str + '_' + file_base_name + '_TestTarget.csv'\n",
    "target_test_df.to_csv(test_target_name, sep = ',', header = True, index = True)\n"
   ]
  },
  {
   "cell_type": "markdown",
   "metadata": {},
   "source": [
    "Save information dataframes"
   ]
  },
  {
   "cell_type": "code",
   "execution_count": 64,
   "metadata": {},
   "outputs": [],
   "source": [
    "train_data_info_name = data_save_path + start_time_str + '_' + file_base_name + '_TrainData_Info.csv'\n",
    "data_train_info_df.to_csv(train_data_info_name, sep = ',', header = True, index = True)\n",
    "\n",
    "test_data_info_name = data_save_path + start_time_str + '_' + file_base_name + '_TestData_Info.csv'\n",
    "data_test_info_df.to_csv(test_data_info_name, sep = ',', header = True, index = True)\n"
   ]
  },
  {
   "cell_type": "markdown",
   "metadata": {},
   "source": [
    "Save unsplit data to csv files (to use to duplicate previous modeling)"
   ]
  },
  {
   "cell_type": "code",
   "execution_count": 65,
   "metadata": {},
   "outputs": [],
   "source": [
    "unsplit_test_data_name = data_save_path + start_time_str + '_' + file_base_name + '_UnsplitData.csv'\n",
    "train_df.to_csv(unsplit_test_data_name, sep = ',', header = True, index = True)\n",
    "unsplit_test_target_name = data_save_path + start_time_str + '_' + file_base_name + \\\n",
    "    '_UnsplitTarget.csv'\n",
    "target_df.to_csv(unsplit_test_target_name, sep = ',', header = True, index = True)\n"
   ]
  },
  {
   "cell_type": "markdown",
   "metadata": {},
   "source": [
    "Save unsplit data information dataframes"
   ]
  },
  {
   "cell_type": "code",
   "execution_count": 66,
   "metadata": {},
   "outputs": [],
   "source": [
    "unsplit_test_data_info_name = data_save_path + start_time_str + '_' + file_base_name + \\\n",
    "    '_UnsplitData_Info.csv'\n",
    "orig_data[info_vars].to_csv(unsplit_test_data_info_name, sep = ',', header = True, index = True)"
   ]
  },
  {
   "cell_type": "markdown",
   "metadata": {},
   "source": [
    "Save results"
   ]
  },
  {
   "cell_type": "code",
   "execution_count": 67,
   "metadata": {},
   "outputs": [
    {
     "name": "stdout",
     "output_type": "stream",
     "text": [
      "Elapsed time (sec): 0:34:57.442066\n",
      "Elapsed time (min): 0:00:34.957368\n",
      "Elapsed time (hrs): 0:00:00.582623\n"
     ]
    }
   ],
   "source": [
    "end_time = datetime.datetime.now()\n",
    "elapsed_time = end_time - current_time\n",
    "print('Elapsed time (sec): {}'.format(elapsed_time))\n",
    "print('Elapsed time (min): {}'.format((elapsed_time / 60)))\n",
    "print('Elapsed time (hrs): {}'.format(((elapsed_time / 60) / 60)))"
   ]
  }
 ],
 "metadata": {
  "kernelspec": {
   "display_name": "Python 3",
   "language": "python",
   "name": "python3"
  },
  "language_info": {
   "codemirror_mode": {
    "name": "ipython",
    "version": 3
   },
   "file_extension": ".py",
   "mimetype": "text/x-python",
   "name": "python",
   "nbconvert_exporter": "python",
   "pygments_lexer": "ipython3",
   "version": "3.7.6"
  }
 },
 "nbformat": 4,
 "nbformat_minor": 2
}
