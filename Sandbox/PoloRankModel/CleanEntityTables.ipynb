{
 "cells": [
  {
   "cell_type": "code",
   "execution_count": 1,
   "metadata": {},
   "outputs": [],
   "source": [
    "import pandas as pd"
   ]
  },
  {
   "cell_type": "code",
   "execution_count": 2,
   "metadata": {},
   "outputs": [],
   "source": [
    "import gc"
   ]
  },
  {
   "cell_type": "code",
   "execution_count": 3,
   "metadata": {},
   "outputs": [
    {
     "data": {
      "text/plain": [
       "40"
      ]
     },
     "execution_count": 3,
     "metadata": {},
     "output_type": "execute_result"
    }
   ],
   "source": [
    "gc.collect()"
   ]
  },
  {
   "cell_type": "code",
   "execution_count": 4,
   "metadata": {
    "collapsed": true
   },
   "outputs": [
    {
     "name": "stdout",
     "output_type": "stream",
     "text": [
      "Reading\n",
      "Trimming\n",
      "Stripping\n",
      "Saving\n"
     ]
    },
    {
     "ename": "NameError",
     "evalue": "name 'entity_comma_at' is not defined",
     "output_type": "error",
     "traceback": [
      "\u001b[1;31m---------------------------------------------------------------------------\u001b[0m",
      "\u001b[1;31mNameError\u001b[0m                                 Traceback (most recent call last)",
      "\u001b[1;32m<ipython-input-4-dbfa9de6b014>\u001b[0m in \u001b[0;36m<module>\u001b[1;34m\u001b[0m\n\u001b[0;32m     14\u001b[0m \u001b[0mprint\u001b[0m\u001b[1;33m(\u001b[0m\u001b[1;34m'Saving'\u001b[0m\u001b[1;33m)\u001b[0m\u001b[1;33m\u001b[0m\u001b[1;33m\u001b[0m\u001b[0m\n\u001b[0;32m     15\u001b[0m \u001b[0mentity_comm_at\u001b[0m\u001b[1;33m.\u001b[0m\u001b[0mto_csv\u001b[0m\u001b[1;33m(\u001b[0m\u001b[1;34m'str_entity_comm_at.csv'\u001b[0m\u001b[1;33m,\u001b[0m \u001b[0mindex\u001b[0m\u001b[1;33m=\u001b[0m\u001b[1;32mFalse\u001b[0m\u001b[1;33m)\u001b[0m\u001b[1;33m\u001b[0m\u001b[1;33m\u001b[0m\u001b[0m\n\u001b[1;32m---> 16\u001b[1;33m \u001b[1;32mdel\u001b[0m \u001b[0mentity_comma_at\u001b[0m\u001b[1;33m\u001b[0m\u001b[1;33m\u001b[0m\u001b[0m\n\u001b[0m\u001b[0;32m     17\u001b[0m \u001b[0mgc\u001b[0m\u001b[1;33m.\u001b[0m\u001b[0mcollect\u001b[0m\u001b[1;33m(\u001b[0m\u001b[1;33m)\u001b[0m\u001b[1;33m\u001b[0m\u001b[1;33m\u001b[0m\u001b[0m\n",
      "\u001b[1;31mNameError\u001b[0m: name 'entity_comma_at' is not defined"
     ]
    }
   ],
   "source": [
    "print('Reading')\n",
    "entity_comm_at = pd.read_csv('entity_comm_at.csv', dtype=str)\n",
    "\n",
    "print('Trimming')\n",
    "# trim to only get addr\n",
    "entity_comm_at['comm_cat'] = entity_comm_at['comm_cat'].apply(str.strip)\n",
    "entity_comm_at = entity_comm_at[entity_comm_at['comm_cat']=='A']\n",
    "\n",
    "print('Stripping')\n",
    "# strip all cols\n",
    "for col in entity_comm_at.columns.values:\n",
    "    entity_comm_at[col] = entity_comm_at[col].apply(str.strip)\n",
    "\n",
    "print('Saving')\n",
    "entity_comm_at.to_csv('str_entity_comm_at.csv', index=False)\n",
    "del entity_comm_at\n",
    "gc.collect()"
   ]
  },
  {
   "cell_type": "code",
   "execution_count": 5,
   "metadata": {},
   "outputs": [
    {
     "data": {
      "text/plain": [
       "20"
      ]
     },
     "execution_count": 5,
     "metadata": {},
     "output_type": "execute_result"
    }
   ],
   "source": [
    "del entity_comm_at\n",
    "gc.collect()"
   ]
  },
  {
   "cell_type": "code",
   "execution_count": 6,
   "metadata": {},
   "outputs": [
    {
     "name": "stdout",
     "output_type": "stream",
     "text": [
      "Reading\n",
      "Trimming\n",
      "Stripping\n",
      "Saving\n",
      "Releasing\n"
     ]
    },
    {
     "data": {
      "text/plain": [
       "0"
      ]
     },
     "execution_count": 6,
     "metadata": {},
     "output_type": "execute_result"
    }
   ],
   "source": [
    "print('Reading')\n",
    "entity_comm_usg_at = pd.read_csv('entity_comm_usg_at.csv', dtype=str)\n",
    "\n",
    "print('Trimming')\n",
    "entity_comm_usg_at['comm_cat'] = entity_comm_usg_at['comm_cat'].apply(str.strip)\n",
    "entity_comm_usg_at = entity_comm_usg_at[entity_comm_usg_at['comm_cat'] == 'A']\n",
    "\n",
    "print('Stripping')\n",
    "for col in entity_comm_usg_at.columns.values:\n",
    "    entity_comm_usg_at[col] = entity_comm_usg_at[col].apply(str.strip)\n",
    "    \n",
    "print('Saving')\n",
    "entity_comm_usg_at.to_csv('str_entity_comm_usg_at.csv', index=False)\n",
    "\n",
    "print('Releasing')\n",
    "del entity_comm_usg_at\n",
    "gc.collect()"
   ]
  },
  {
   "cell_type": "code",
   "execution_count": 7,
   "metadata": {},
   "outputs": [
    {
     "name": "stdout",
     "output_type": "stream",
     "text": [
      "Reading\n",
      "Stripping\n",
      "Saving\n",
      "Releasing\n"
     ]
    },
    {
     "data": {
      "text/plain": [
       "0"
      ]
     },
     "execution_count": 7,
     "metadata": {},
     "output_type": "execute_result"
    }
   ],
   "source": [
    "print('Reading')\n",
    "entity_key_et = pd.read_csv('entity_key_et.csv', dtype=str)\n",
    "\n",
    "print('Stripping')\n",
    "for col in entity_key_et.columns.values:\n",
    "    entity_key_et[col] = entity_key_et[col].apply(str.strip)\n",
    "\n",
    "print('Saving')\n",
    "entity_key_et.to_csv('str_entity_key_et.csv', index=False)\n",
    "\n",
    "print('Releasing')\n",
    "del entity_key_et\n",
    "gc.collect()"
   ]
  },
  {
   "cell_type": "code",
   "execution_count": 8,
   "metadata": {},
   "outputs": [
    {
     "name": "stdout",
     "output_type": "stream",
     "text": [
      "Reading\n",
      "Stripping\n",
      "Saving\n",
      "Releasing\n"
     ]
    },
    {
     "data": {
      "text/plain": [
       "0"
      ]
     },
     "execution_count": 8,
     "metadata": {},
     "output_type": "execute_result"
    }
   ],
   "source": [
    "print('Reading')\n",
    "license_lt = pd.read_csv('license_lt.csv', dtype=str)\n",
    "\n",
    "print('Stripping')\n",
    "for col in license_lt.columns.values:\n",
    "    license_lt[col] = license_lt[col].apply(str.strip)\n",
    "    \n",
    "print('Saving')\n",
    "license_lt.to_csv('str_license_lt.csv', index=False)\n",
    "\n",
    "print('Releasing')\n",
    "del license_lt\n",
    "gc.collect()"
   ]
  },
  {
   "cell_type": "code",
   "execution_count": 9,
   "metadata": {},
   "outputs": [
    {
     "name": "stdout",
     "output_type": "stream",
     "text": [
      "Reading\n",
      "Stripping\n",
      "Saving\n",
      "Releasing\n"
     ]
    },
    {
     "data": {
      "text/plain": [
       "0"
      ]
     },
     "execution_count": 9,
     "metadata": {},
     "output_type": "execute_result"
    }
   ],
   "source": [
    "print('Reading')\n",
    "post_addr_at = pd.read_csv('post_addr_at.csv', dtype=str)\n",
    "\n",
    "print('Stripping')\n",
    "for col in post_addr_at.columns.values:\n",
    "    post_addr_at[col] = post_addr_at[col].apply(str.strip)\n",
    "    \n",
    "print('Saving')\n",
    "post_addr_at.to_csv('str_post_addr_at.csv', index=False)\n",
    "\n",
    "print('Releasing')\n",
    "del post_addr_at\n",
    "gc.collect()"
   ]
  },
  {
   "cell_type": "code",
   "execution_count": null,
   "metadata": {},
   "outputs": [],
   "source": []
  }
 ],
 "metadata": {
  "kernelspec": {
   "display_name": "Python 3",
   "language": "python",
   "name": "python3"
  },
  "language_info": {
   "codemirror_mode": {
    "name": "ipython",
    "version": 3
   },
   "file_extension": ".py",
   "mimetype": "text/x-python",
   "name": "python",
   "nbconvert_exporter": "python",
   "pygments_lexer": "ipython3",
   "version": "3.7.4"
  }
 },
 "nbformat": 4,
 "nbformat_minor": 2
}
