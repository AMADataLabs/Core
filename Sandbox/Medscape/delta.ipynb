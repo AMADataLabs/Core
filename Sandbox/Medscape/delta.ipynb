{
 "cells": [
  {
   "cell_type": "code",
   "execution_count": 1,
   "metadata": {},
   "outputs": [],
   "source": [
    "import pandas as pd\n",
    "import datacompy"
   ]
  },
  {
   "cell_type": "code",
   "execution_count": 14,
   "metadata": {},
   "outputs": [],
   "source": [
    "april_7 = pd.read_csv('../../../Data/Medscape/Memorium_2020-04-07_161344.csv')\n",
    "april_8 = pd.read_csv('../../../Data/Medscape/Memorium_2020-04-08_090440.csv')"
   ]
  },
  {
   "cell_type": "code",
   "execution_count": 5,
   "metadata": {},
   "outputs": [
    {
     "name": "stdout",
     "output_type": "stream",
     "text": [
      "DataComPy Comparison\n",
      "--------------------\n",
      "\n",
      "DataFrame Summary\n",
      "-----------------\n",
      "\n",
      "  DataFrame  Columns  Rows\n",
      "0   April 7        7   277\n",
      "1   April 8        8   313\n",
      "\n",
      "Column Summary\n",
      "--------------\n",
      "\n",
      "Number of columns in common: 7\n",
      "Number of columns in April 7 but not in April 8: 0\n",
      "Number of columns in April 8 but not in April 7: 1\n",
      "\n",
      "Row Summary\n",
      "-----------\n",
      "\n",
      "Matched on: name\n",
      "Any duplicates on match values: No\n",
      "Absolute Tolerance: 0\n",
      "Relative Tolerance: 0\n",
      "Number of rows in common: 277\n",
      "Number of rows in April 7 but not in April 8: 0\n",
      "Number of rows in April 8 but not in April 7: 36\n",
      "\n",
      "Number of rows with some compared columns unequal: 4\n",
      "Number of rows with all compared columns equal: 273\n",
      "\n",
      "Column Comparison\n",
      "-----------------\n",
      "\n",
      "Number of columns compared with some values unequal: 5\n",
      "Number of columns compared with all values equal: 2\n",
      "Total number of values which compare unequal: 10\n",
      "\n",
      "Columns with Unequal Values or Types\n",
      "------------------------------------\n",
      "\n",
      "      Column April 7 dtype April 8 dtype  # Unequal  Max Diff  # Null Diff\n",
      "4        age        object        object          1         0            0\n",
      "1       city        object        object          1         0            0\n",
      "2    country        object        object          2         0            0\n",
      "3   location        object        object          3         0            0\n",
      "0  specialty        object        object          3         0            0\n",
      "\n",
      "Sample Rows with Unequal Values\n",
      "-------------------------------\n",
      "\n",
      "                      name           specialty (April 7)                                specialty (April 8)\n",
      "9              John Alagos  Nursing Assistant (presumed)                        Nursing Assistant(presumed)\n",
      "204  Hermes Roberto Radtke           PhysicianRadiology,  Physician Radiology,Omnimagem RioMarClínica Tr...\n",
      "57         Lynsay Coventry                Midwife,Harlow      Midwife,Princess Alexandra Hospital NHS Trust\n",
      "\n",
      "                      name city (April 7) city (April 8)\n",
      "204  Hermes Roberto Radtke      Fortaleza          Ceará\n",
      "\n",
      "               name country (April 7) country (April 8)\n",
      "9       John Alagos                UK           England\n",
      "57  Lynsay Coventry                UK           England\n",
      "\n",
      "                      name location (April 7)        location (April 8)\n",
      "9              John Alagos               None  Watford General Hospital\n",
      "204  Hermes Roberto Radtke               None                 Fortaleza\n",
      "57         Lynsay Coventry               None                    Harlow\n",
      "\n",
      "                    name age (April 7) age (April 8)\n",
      "218  Arastu Rostamnezhad   age unknown            69\n",
      "\n",
      "Sample Rows Only in April 8 (First 10 Columns)\n",
      "----------------------------------------------\n",
      "\n",
      "                            name          age                                          specialty                    city     state              country                                           location                                               link\n",
      "307           Efrizal Syamsuddin           53                    Medical Doctor Director of RSUD          South Sumatera      None            Indonesia                                         Prabumulih  https://www.liputan6.com/news/read/4216461/idi...\n",
      "280                 Carlo Amodio  age unknown                                        Radiologist  Former Radiology Chief      None                Italy                                               None  https://portale.fnomceo.it/elenco-dei-medici-c...\n",
      "302    Jorge Manuel Reyes Villón  age unknown  General Practitioner Director of Health Center...               Guayaquil      None              Ecuador                                Cristo del Consuelo  http://www.pichinchacomunicaciones.com.ec/en-g...\n",
      "277       Divinia \"Debbie\" Accad           72      Registered NurseJohnD.DingellVAMedicalCenter,                 Detroit  Michigan                  USA                                               None  https://www.freep.com/story/news/local/2020/04...\n",
      "299                   Luis Pérez           61                                   Emergency Doctor                  Madrid      None                Spain                                               None  https://elpais.com/espana/madrid/2020-04-05/mu...\n",
      "282     Luiz Eduardo Ayres Ramos           49                                 Nursing Technician               São Paulo      None               Brazil                      Santos Central Emergency Unit  https://g1.globo.com/sp/santos-regiao/noticia/...\n",
      "287             Iwan Dwiprahasto           58                                     Medical Doctor              Yogyakarta      None            Indonesia  Professor of Pharmacology and Pharmacoepidemio...  https://coconuts.co/jakarta/news/dont-be-stubb...\n",
      "296                  Ghvont Mrad  age unknown                                     Thermal Doctor                    None      None                Italy                                               None  https://portale.fnomceo.it/elenco-dei-medici-c...\n",
      "309  Giovanni Battista Tommasino  age unknown                               General Practitioner                    None      None                Italy                                               None  https://portale.fnomceo.it/elenco-dei-medici-c...\n",
      "285              Ludmila Caraion           65                                      Family Doctor                  Soroca      None  Republic of Moldova                                               None  https://moldova.europalibera.org/a/la-soroca-a...\n",
      "\n",
      "\n"
     ]
    }
   ],
   "source": [
    "compare = datacompy.Compare(\n",
    "    april_7,\n",
    "    april_8,\n",
    "    join_columns='NAME',\n",
    "    df1_name='April 7',\n",
    "    df2_name='April 8'\n",
    ")\n",
    "print(compare.report())"
   ]
  },
  {
   "cell_type": "code",
   "execution_count": 8,
   "metadata": {},
   "outputs": [
    {
     "data": {
      "text/plain": [
       "{'age', 'city', 'country', 'location', 'name', 'specialty', 'state'}"
      ]
     },
     "execution_count": 8,
     "metadata": {},
     "output_type": "execute_result"
    }
   ],
   "source": [
    "compare.intersect_columns()"
   ]
  },
  {
   "cell_type": "code",
   "execution_count": 15,
   "metadata": {},
   "outputs": [
    {
     "data": {
      "text/html": [
       "<div>\n",
       "<style scoped>\n",
       "    .dataframe tbody tr th:only-of-type {\n",
       "        vertical-align: middle;\n",
       "    }\n",
       "\n",
       "    .dataframe tbody tr th {\n",
       "        vertical-align: top;\n",
       "    }\n",
       "\n",
       "    .dataframe thead th {\n",
       "        text-align: right;\n",
       "    }\n",
       "</style>\n",
       "<table border=\"1\" class=\"dataframe\">\n",
       "  <thead>\n",
       "    <tr style=\"text-align: right;\">\n",
       "      <th></th>\n",
       "      <th>NAME</th>\n",
       "      <th>AGE</th>\n",
       "      <th>SPECIALTY</th>\n",
       "      <th>CITY</th>\n",
       "      <th>STATE</th>\n",
       "      <th>COUNTRY</th>\n",
       "      <th>LOCATION</th>\n",
       "    </tr>\n",
       "  </thead>\n",
       "  <tbody>\n",
       "    <tr>\n",
       "      <td>0</td>\n",
       "      <td>Isaac Abadi</td>\n",
       "      <td>90</td>\n",
       "      <td>Founder Professor of Internal Medicine and Rhe...</td>\n",
       "      <td>Miami</td>\n",
       "      <td>Florida</td>\n",
       "      <td>USA</td>\n",
       "      <td>Hospital Universitario de Caracas</td>\n",
       "    </tr>\n",
       "    <tr>\n",
       "      <td>1</td>\n",
       "      <td>Musa Fath Abadi</td>\n",
       "      <td>age unknown</td>\n",
       "      <td>Emergency Medicine Specialist</td>\n",
       "      <td>Tehran</td>\n",
       "      <td>None</td>\n",
       "      <td>Iran</td>\n",
       "      <td>None</td>\n",
       "    </tr>\n",
       "    <tr>\n",
       "      <td>2</td>\n",
       "      <td>Abdullah Abbasi</td>\n",
       "      <td>age unknown</td>\n",
       "      <td>Infectious Disease Specialist</td>\n",
       "      <td>Gorgan</td>\n",
       "      <td>None</td>\n",
       "      <td>Iran</td>\n",
       "      <td>None</td>\n",
       "    </tr>\n",
       "    <tr>\n",
       "      <td>3</td>\n",
       "      <td>Ashraf Abdo</td>\n",
       "      <td>60</td>\n",
       "      <td>General Practitioner</td>\n",
       "      <td>New York City</td>\n",
       "      <td>New York</td>\n",
       "      <td>USA</td>\n",
       "      <td>None</td>\n",
       "    </tr>\n",
       "    <tr>\n",
       "      <td>4</td>\n",
       "      <td>Luigi Ablondi</td>\n",
       "      <td>66</td>\n",
       "      <td>Epidemiologist</td>\n",
       "      <td>Cremona</td>\n",
       "      <td>None</td>\n",
       "      <td>Italy</td>\n",
       "      <td>Former General Manager of the Crema Hospital</td>\n",
       "    </tr>\n",
       "  </tbody>\n",
       "</table>\n",
       "</div>"
      ],
      "text/plain": [
       "              NAME          AGE  \\\n",
       "0      Isaac Abadi           90   \n",
       "1  Musa Fath Abadi  age unknown   \n",
       "2  Abdullah Abbasi  age unknown   \n",
       "3      Ashraf Abdo           60   \n",
       "4    Luigi Ablondi           66   \n",
       "\n",
       "                                           SPECIALTY           CITY     STATE  \\\n",
       "0  Founder Professor of Internal Medicine and Rhe...          Miami   Florida   \n",
       "1                      Emergency Medicine Specialist         Tehran      None   \n",
       "2                      Infectious Disease Specialist         Gorgan      None   \n",
       "3                               General Practitioner  New York City  New York   \n",
       "4                                     Epidemiologist        Cremona      None   \n",
       "\n",
       "  COUNTRY                                      LOCATION  \n",
       "0     USA             Hospital Universitario de Caracas  \n",
       "1    Iran                                          None  \n",
       "2    Iran                                          None  \n",
       "3     USA                                          None  \n",
       "4   Italy  Former General Manager of the Crema Hospital  "
      ]
     },
     "execution_count": 15,
     "metadata": {},
     "output_type": "execute_result"
    }
   ],
   "source": [
    "april_7.head()"
   ]
  },
  {
   "cell_type": "code",
   "execution_count": 19,
   "metadata": {},
   "outputs": [],
   "source": [
    "same_names = list(pd.merge(april_7, april_8, on=['NAME','AGE','SPECIALTY','LOCATION','CITY','STATE','COUNTRY'])['NAME'])"
   ]
  },
  {
   "cell_type": "code",
   "execution_count": 23,
   "metadata": {},
   "outputs": [
    {
     "ename": "AttributeError",
     "evalue": "'Series' object has no attribute 'isnotin'",
     "output_type": "error",
     "traceback": [
      "\u001b[1;31m---------------------------------------------------------------------------\u001b[0m",
      "\u001b[1;31mAttributeError\u001b[0m                            Traceback (most recent call last)",
      "\u001b[1;32m<ipython-input-23-50be0c80f720>\u001b[0m in \u001b[0;36m<module>\u001b[1;34m\u001b[0m\n\u001b[1;32m----> 1\u001b[1;33m \u001b[0mapril_8\u001b[0m\u001b[1;33m[\u001b[0m\u001b[0mapril_8\u001b[0m\u001b[1;33m.\u001b[0m\u001b[0mNAME\u001b[0m\u001b[1;33m.\u001b[0m\u001b[0misnotin\u001b[0m\u001b[1;33m(\u001b[0m\u001b[0msame_names\u001b[0m\u001b[1;33m)\u001b[0m\u001b[1;33m]\u001b[0m\u001b[1;33m\u001b[0m\u001b[1;33m\u001b[0m\u001b[0m\n\u001b[0m",
      "\u001b[1;32m~\\AppData\\Local\\Continuum\\anaconda3\\lib\\site-packages\\pandas\\core\\generic.py\u001b[0m in \u001b[0;36m__getattr__\u001b[1;34m(self, name)\u001b[0m\n\u001b[0;32m   5177\u001b[0m             \u001b[1;32mif\u001b[0m \u001b[0mself\u001b[0m\u001b[1;33m.\u001b[0m\u001b[0m_info_axis\u001b[0m\u001b[1;33m.\u001b[0m\u001b[0m_can_hold_identifiers_and_holds_name\u001b[0m\u001b[1;33m(\u001b[0m\u001b[0mname\u001b[0m\u001b[1;33m)\u001b[0m\u001b[1;33m:\u001b[0m\u001b[1;33m\u001b[0m\u001b[1;33m\u001b[0m\u001b[0m\n\u001b[0;32m   5178\u001b[0m                 \u001b[1;32mreturn\u001b[0m \u001b[0mself\u001b[0m\u001b[1;33m[\u001b[0m\u001b[0mname\u001b[0m\u001b[1;33m]\u001b[0m\u001b[1;33m\u001b[0m\u001b[1;33m\u001b[0m\u001b[0m\n\u001b[1;32m-> 5179\u001b[1;33m             \u001b[1;32mreturn\u001b[0m \u001b[0mobject\u001b[0m\u001b[1;33m.\u001b[0m\u001b[0m__getattribute__\u001b[0m\u001b[1;33m(\u001b[0m\u001b[0mself\u001b[0m\u001b[1;33m,\u001b[0m \u001b[0mname\u001b[0m\u001b[1;33m)\u001b[0m\u001b[1;33m\u001b[0m\u001b[1;33m\u001b[0m\u001b[0m\n\u001b[0m\u001b[0;32m   5180\u001b[0m \u001b[1;33m\u001b[0m\u001b[0m\n\u001b[0;32m   5181\u001b[0m     \u001b[1;32mdef\u001b[0m \u001b[0m__setattr__\u001b[0m\u001b[1;33m(\u001b[0m\u001b[0mself\u001b[0m\u001b[1;33m,\u001b[0m \u001b[0mname\u001b[0m\u001b[1;33m,\u001b[0m \u001b[0mvalue\u001b[0m\u001b[1;33m)\u001b[0m\u001b[1;33m:\u001b[0m\u001b[1;33m\u001b[0m\u001b[1;33m\u001b[0m\u001b[0m\n",
      "\u001b[1;31mAttributeError\u001b[0m: 'Series' object has no attribute 'isnotin'"
     ]
    }
   ],
   "source": [
    "april_8[april_8.NAME.isnotin(same_names)]"
   ]
  },
  {
   "cell_type": "code",
   "execution_count": null,
   "metadata": {},
   "outputs": [],
   "source": []
  }
 ],
 "metadata": {
  "kernelspec": {
   "display_name": "Python 3",
   "language": "python",
   "name": "python3"
  },
  "language_info": {
   "codemirror_mode": {
    "name": "ipython",
    "version": 3
   },
   "file_extension": ".py",
   "mimetype": "text/x-python",
   "name": "python",
   "nbconvert_exporter": "python",
   "pygments_lexer": "ipython3",
   "version": "3.7.4"
  }
 },
 "nbformat": 4,
 "nbformat_minor": 2
}
