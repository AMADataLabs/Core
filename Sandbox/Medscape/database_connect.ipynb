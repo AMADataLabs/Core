{
 "cells": [
  {
   "cell_type": "code",
   "execution_count": 1,
   "metadata": {},
   "outputs": [],
   "source": [
    "import pandas as pd\n",
    "import pyodbc"
   ]
  },
  {
   "cell_type": "code",
   "execution_count": 2,
   "metadata": {},
   "outputs": [],
   "source": [
    "password = 'slytherin10946'\n",
    "username = 'vigrose'"
   ]
  },
  {
   "cell_type": "code",
   "execution_count": 3,
   "metadata": {},
   "outputs": [],
   "source": [
    "s = \"DSN=PRDDW; UID={}; PWD={}\".format(username, password)\n",
    "AMAEDW = pyodbc.connect(s)"
   ]
  },
  {
   "cell_type": "code",
   "execution_count": 6,
   "metadata": {},
   "outputs": [],
   "source": [
    "sql_query = \\\n",
    "    \"\"\" \n",
    "    SELECT DISTINCT\n",
    "    M.MED_EDU_NBR\n",
    "    FROM \n",
    "    AMAEDW.PERSON M\n",
    "    WHERE  \n",
    "    M.MORTALITY_STS_CD ='C'\n",
    "    OR\n",
    "    M.MORTALITY_STS_CD ='P';\n",
    "    \"\"\""
   ]
  },
  {
   "cell_type": "code",
   "execution_count": 7,
   "metadata": {},
   "outputs": [],
   "source": [
    "FILTER = pd.read_sql(con=AMAEDW, sql=sql_query)"
   ]
  },
  {
   "cell_type": "code",
   "execution_count": 20,
   "metadata": {},
   "outputs": [],
   "source": [
    "df = pd.read_excel('../../../Data/Medscape/Memorium_USA_Physicians_2020-04-13.xlsx', dtype={'ME': str})"
   ]
  },
  {
   "cell_type": "code",
   "execution_count": 13,
   "metadata": {},
   "outputs": [],
   "source": [
    "PROCESSED_MES = list(FILTER.MED_EDU_NBR)"
   ]
  },
  {
   "cell_type": "code",
   "execution_count": 22,
   "metadata": {},
   "outputs": [
    {
     "data": {
      "text/html": [
       "<div>\n",
       "<style scoped>\n",
       "    .dataframe tbody tr th:only-of-type {\n",
       "        vertical-align: middle;\n",
       "    }\n",
       "\n",
       "    .dataframe tbody tr th {\n",
       "        vertical-align: top;\n",
       "    }\n",
       "\n",
       "    .dataframe thead th {\n",
       "        text-align: right;\n",
       "    }\n",
       "</style>\n",
       "<table border=\"1\" class=\"dataframe\">\n",
       "  <thead>\n",
       "    <tr style=\"text-align: right;\">\n",
       "      <th></th>\n",
       "      <th>NAME</th>\n",
       "      <th>FIRST_NAME</th>\n",
       "      <th>LAST_NAME</th>\n",
       "      <th>MIDDLE_NAME</th>\n",
       "      <th>SUFFIX</th>\n",
       "      <th>NICKNAME</th>\n",
       "      <th>TITLE</th>\n",
       "      <th>AGE</th>\n",
       "      <th>SPECIALTY</th>\n",
       "      <th>CITY</th>\n",
       "      <th>STATE</th>\n",
       "      <th>COUNTRY</th>\n",
       "      <th>LOCATION</th>\n",
       "      <th>LINK</th>\n",
       "      <th>ME</th>\n",
       "    </tr>\n",
       "  </thead>\n",
       "  <tbody>\n",
       "    <tr>\n",
       "      <td>5</td>\n",
       "      <td>James T. Goodrich</td>\n",
       "      <td>JAMES</td>\n",
       "      <td>GOODRICH</td>\n",
       "      <td>T.</td>\n",
       "      <td>NaN</td>\n",
       "      <td>NaN</td>\n",
       "      <td>NaN</td>\n",
       "      <td>73</td>\n",
       "      <td>Neurosurgeon Director of the Division of Pedia...</td>\n",
       "      <td>New York City</td>\n",
       "      <td>New York</td>\n",
       "      <td>USA</td>\n",
       "      <td>Pediatrics</td>\n",
       "      <td>https://www.nytimes.com/2020/04/01/obituaries/...</td>\n",
       "      <td>03501801606</td>\n",
       "    </tr>\n",
       "    <tr>\n",
       "      <td>10</td>\n",
       "      <td>Victor C. Rivera</td>\n",
       "      <td>VICTOR</td>\n",
       "      <td>RIVERA</td>\n",
       "      <td>C.</td>\n",
       "      <td>NaN</td>\n",
       "      <td>NaN</td>\n",
       "      <td>NaN</td>\n",
       "      <td>77</td>\n",
       "      <td>Pediatrician,</td>\n",
       "      <td>Langhorne</td>\n",
       "      <td>Pennsylvania</td>\n",
       "      <td>USA</td>\n",
       "      <td>None</td>\n",
       "      <td>https://www.buckscountycouriertimes.com/news/2...</td>\n",
       "      <td>74802660425</td>\n",
       "    </tr>\n",
       "    <tr>\n",
       "      <td>12</td>\n",
       "      <td>Elliott Samet</td>\n",
       "      <td>ELLIOTT</td>\n",
       "      <td>SAMET</td>\n",
       "      <td>NaN</td>\n",
       "      <td>NaN</td>\n",
       "      <td>NaN</td>\n",
       "      <td>NaN</td>\n",
       "      <td>69</td>\n",
       "      <td>Pediatrician,</td>\n",
       "      <td>Passaic</td>\n",
       "      <td>New Jersey</td>\n",
       "      <td>USA</td>\n",
       "      <td>None</td>\n",
       "      <td>https://www.northjersey.com/story/news/coronav...</td>\n",
       "      <td>39631810024</td>\n",
       "    </tr>\n",
       "    <tr>\n",
       "      <td>13</td>\n",
       "      <td>Stephen Schwartz</td>\n",
       "      <td>STEPHEN</td>\n",
       "      <td>SCHWARTZ</td>\n",
       "      <td>NaN</td>\n",
       "      <td>NaN</td>\n",
       "      <td>NaN</td>\n",
       "      <td>NaN</td>\n",
       "      <td>78</td>\n",
       "      <td>Pathologist</td>\n",
       "      <td>Seattle</td>\n",
       "      <td>Washington</td>\n",
       "      <td>USA</td>\n",
       "      <td>None</td>\n",
       "      <td>https://q13fox.com/2020/03/18/longtime-uw-prof...</td>\n",
       "      <td>02405670502</td>\n",
       "    </tr>\n",
       "    <tr>\n",
       "      <td>14</td>\n",
       "      <td>David Wolin</td>\n",
       "      <td>DAVID</td>\n",
       "      <td>WOLIN</td>\n",
       "      <td>NaN</td>\n",
       "      <td>NaN</td>\n",
       "      <td>NaN</td>\n",
       "      <td>NaN</td>\n",
       "      <td>74</td>\n",
       "      <td>Radiologist Mammography and Breast Imaging</td>\n",
       "      <td>Piermont</td>\n",
       "      <td>New York</td>\n",
       "      <td>USA</td>\n",
       "      <td>Brooklyn Hospital Center</td>\n",
       "      <td>https://www.legacy.com/obituaries/nytimes/obit...</td>\n",
       "      <td>03005731398</td>\n",
       "    </tr>\n",
       "  </tbody>\n",
       "</table>\n",
       "</div>"
      ],
      "text/plain": [
       "                 NAME FIRST_NAME LAST_NAME MIDDLE_NAME  SUFFIX  NICKNAME  \\\n",
       "5   James T. Goodrich      JAMES  GOODRICH          T.     NaN       NaN   \n",
       "10   Victor C. Rivera     VICTOR    RIVERA          C.     NaN       NaN   \n",
       "12      Elliott Samet    ELLIOTT     SAMET         NaN     NaN       NaN   \n",
       "13   Stephen Schwartz    STEPHEN  SCHWARTZ         NaN     NaN       NaN   \n",
       "14        David Wolin      DAVID     WOLIN         NaN     NaN       NaN   \n",
       "\n",
       "    TITLE  AGE                                          SPECIALTY  \\\n",
       "5     NaN   73  Neurosurgeon Director of the Division of Pedia...   \n",
       "10    NaN   77                                      Pediatrician,   \n",
       "12    NaN   69                                      Pediatrician,   \n",
       "13    NaN   78                                        Pathologist   \n",
       "14    NaN   74         Radiologist Mammography and Breast Imaging   \n",
       "\n",
       "             CITY         STATE COUNTRY                  LOCATION  \\\n",
       "5   New York City      New York     USA                Pediatrics   \n",
       "10      Langhorne  Pennsylvania     USA                      None   \n",
       "12        Passaic    New Jersey     USA                      None   \n",
       "13        Seattle    Washington     USA                      None   \n",
       "14       Piermont      New York     USA  Brooklyn Hospital Center   \n",
       "\n",
       "                                                 LINK           ME  \n",
       "5   https://www.nytimes.com/2020/04/01/obituaries/...  03501801606  \n",
       "10  https://www.buckscountycouriertimes.com/news/2...  74802660425  \n",
       "12  https://www.northjersey.com/story/news/coronav...  39631810024  \n",
       "13  https://q13fox.com/2020/03/18/longtime-uw-prof...  02405670502  \n",
       "14  https://www.legacy.com/obituaries/nytimes/obit...  03005731398  "
      ]
     },
     "execution_count": 22,
     "metadata": {},
     "output_type": "execute_result"
    }
   ],
   "source": [
    "df[df.ME.isin(PROCESSED_MES)==False]"
   ]
  },
  {
   "cell_type": "code",
   "execution_count": 17,
   "metadata": {},
   "outputs": [
    {
     "data": {
      "text/plain": [
       "254080"
      ]
     },
     "execution_count": 17,
     "metadata": {},
     "output_type": "execute_result"
    }
   ],
   "source": [
    "len(PROCESSED_MES)"
   ]
  },
  {
   "cell_type": "code",
   "execution_count": 19,
   "metadata": {},
   "outputs": [
    {
     "data": {
      "text/plain": [
       "NAME            object\n",
       "FIRST_NAME      object\n",
       "LAST_NAME       object\n",
       "MIDDLE_NAME     object\n",
       "SUFFIX         float64\n",
       "NICKNAME       float64\n",
       "TITLE          float64\n",
       "AGE              int64\n",
       "SPECIALTY       object\n",
       "CITY            object\n",
       "STATE           object\n",
       "COUNTRY         object\n",
       "LOCATION        object\n",
       "LINK            object\n",
       "ME               int64\n",
       "dtype: object"
      ]
     },
     "execution_count": 19,
     "metadata": {},
     "output_type": "execute_result"
    }
   ],
   "source": [
    "df.dtypes"
   ]
  },
  {
   "cell_type": "code",
   "execution_count": null,
   "metadata": {},
   "outputs": [],
   "source": []
  }
 ],
 "metadata": {
  "kernelspec": {
   "display_name": "Python 3",
   "language": "python",
   "name": "python3"
  },
  "language_info": {
   "codemirror_mode": {
    "name": "ipython",
    "version": 3
   },
   "file_extension": ".py",
   "mimetype": "text/x-python",
   "name": "python",
   "nbconvert_exporter": "python",
   "pygments_lexer": "ipython3",
   "version": "3.7.4"
  }
 },
 "nbformat": 4,
 "nbformat_minor": 2
}
