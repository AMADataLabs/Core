{
 "cells": [
  {
   "cell_type": "code",
   "execution_count": null,
   "metadata": {},
   "outputs": [],
   "source": [
    "from bs4 import BeautifulSoup\n",
    "import requests\n",
    "import pandas as pd"
   ]
  },
  {
   "cell_type": "code",
   "execution_count": null,
   "metadata": {},
   "outputs": [],
   "source": [
    "base_url = 'https://www.mayoclinic.org/appointments/find-a-doctor/search-results?'\n",
    "response = requests.get(base_url)\n",
    "soup = BeautifulSoup(response.content, 'html.parser')"
   ]
  },
  {
   "cell_type": "code",
   "execution_count": null,
   "metadata": {},
   "outputs": [],
   "source": [
    "# numbers = (list(range(7,313)))\n",
    "numbers = (list(range(7,12)))\n",
    "specialities =[]\n",
    "names =[]\n",
    "locations = [] \n",
    "soups = []\n",
    "for number in numbers:\n",
    "    url = base_url + 'Page=' +  str(number)\n",
    "    response = requests.get(url)\n",
    "    if response.status_code == 200:\n",
    "        print(f'Getting data from page {number}...')\n",
    "        soup = BeautifulSoup(response.content, 'html.parser')\n",
    "        soups.append(soup)\n",
    "        lists = soup.find_all('li')\n",
    "        for list_ in lists:\n",
    "            if list_.find('h4'):\n",
    "                names.append(list_.find('h4').text)\n",
    "                if list_.find(class_='speciality'):\n",
    "                    speciality = list_.find(class_='speciality').text.split('\\n')\n",
    "                    speciality.remove(speciality[0])\n",
    "                    speciality.remove(speciality[-1])\n",
    "                    specialities.append(speciality)\n",
    "                else:\n",
    "                    specialities.append('None')\n",
    "                if list_.find(class_='location'):   \n",
    "                    locations.append(list_.find(class_='location').text.replace('\\n',''))\n",
    "                else:\n",
    "                    locations.append('None')\n",
    "                print(list_.find('h4').text)\n",
    "        print('')\n",
    "    else:\n",
    "        print('help')\n",
    "# print(names)\n",
    "# print(locations)\n",
    "# print(specialities)\n",
    "mayo_roster = pd.DataFrame({'Name':names, 'Specialty':specialities, 'Location':locations})\n",
    "print(mayo_roster)"
   ]
  },
  {
   "cell_type": "code",
   "execution_count": null,
   "metadata": {},
   "outputs": [],
   "source": [
    "mayo_roster = pd.DataFrame({'Name':names, 'Specialty':specialities, 'Location':locations})"
   ]
  },
  {
   "cell_type": "code",
   "execution_count": null,
   "metadata": {},
   "outputs": [],
   "source": [
    "import json"
   ]
  },
  {
   "cell_type": "code",
   "execution_count": null,
   "metadata": {},
   "outputs": [],
   "source": [
    "url = base_url + 'Page=' +  '13' + '#edd114075cc94f35b9bccc081668c123'\n",
    "response = requests.get(url)\n",
    "response.status_code"
   ]
  },
  {
   "cell_type": "code",
   "execution_count": null,
   "metadata": {},
   "outputs": [],
   "source": [
    "with open('mayo_output.html', 'w') as file:\n",
    "    file.write(str(soups[0].prettify('utf-8')))"
   ]
  },
  {
   "cell_type": "code",
   "execution_count": null,
   "metadata": {},
   "outputs": [],
   "source": [
    "pprint(soups)"
   ]
  },
  {
   "cell_type": "code",
   "execution_count": null,
   "metadata": {},
   "outputs": [],
   "source": [
    "soups"
   ]
  },
  {
   "cell_type": "code",
   "execution_count": null,
   "metadata": {},
   "outputs": [],
   "source": [
    "mayo_roster.to_csv('Mayo_Roster.csv', index=False)"
   ]
  },
  {
   "cell_type": "code",
   "execution_count": null,
   "metadata": {},
   "outputs": [],
   "source": [
    "with open('mayo_html_dump.txt', 'w') as f:\n",
    "    for line in soups[0].prettify('utf-8', 'minimal'):\n",
    "      f.write(str(line))"
   ]
  },
  {
   "cell_type": "code",
   "execution_count": null,
   "metadata": {},
   "outputs": [],
   "source": [
    "soups[0].prettify"
   ]
  },
  {
   "cell_type": "code",
   "execution_count": null,
   "metadata": {},
   "outputs": [],
   "source": [
    "with open('yourfile.txt', 'w') as f:\n",
    "    f.write(soups[0].prettify('utf-8'))"
   ]
  },
  {
   "cell_type": "code",
   "execution_count": null,
   "metadata": {},
   "outputs": [],
   "source": [
    "soups[0].prettify('utf-8')"
   ]
  },
  {
   "cell_type": "code",
   "execution_count": null,
   "metadata": {},
   "outputs": [],
   "source": [
    "with open( r\"test.txt\" ,\"w\") as oFile:\n",
    "    oFile.write(str(soups[0].html))"
   ]
  },
  {
   "cell_type": "code",
   "execution_count": null,
   "metadata": {},
   "outputs": [],
   "source": [
    "f= open(r\"test.txt\",\"w+\")\n",
    "for s in soups:\n",
    "     f.write(str(s.html))"
   ]
  },
  {
   "cell_type": "code",
   "execution_count": null,
   "metadata": {},
   "outputs": [],
   "source": [
    "f.close()"
   ]
  },
  {
   "cell_type": "code",
   "execution_count": null,
   "metadata": {},
   "outputs": [],
   "source": []
  }
 ],
 "metadata": {
  "kernelspec": {
   "display_name": "Python 3",
   "language": "python",
   "name": "python3"
  },
  "language_info": {
   "codemirror_mode": {
    "name": "ipython",
    "version": 3
   },
   "file_extension": ".py",
   "mimetype": "text/x-python",
   "name": "python",
   "nbconvert_exporter": "python",
   "pygments_lexer": "ipython3",
   "version": "3.7.4"
  }
 },
 "nbformat": 4,
 "nbformat_minor": 2
}
