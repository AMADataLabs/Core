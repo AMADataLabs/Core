{
 "cells": [
  {
   "cell_type": "code",
   "execution_count": 5,
   "metadata": {},
   "outputs": [],
   "source": [
    "import pandas as pd\n",
    "import requests\n",
    "import json"
   ]
  },
  {
   "cell_type": "code",
   "execution_count": 4,
   "metadata": {},
   "outputs": [],
   "source": [
    "sample = pd.read_csv('../../../Data/Humach/confirmed_phone_sample.csv')\n",
    "first_sample = sample.head(20)"
   ]
  },
  {
   "cell_type": "code",
   "execution_count": 53,
   "metadata": {},
   "outputs": [],
   "source": [
    "second_sample = sample[20:40]"
   ]
  },
  {
   "cell_type": "code",
   "execution_count": 54,
   "metadata": {},
   "outputs": [],
   "source": [
    "json_body = {'AP':[]}\n",
    "for row in second_sample.itertuples():\n",
    "    new_dict= {\n",
    "        'firstname': row.PHYSICIAN_FIRST_NAME,\n",
    "        'lastname': row.PHYSICIAN_LAST_NAME,\n",
    "        'address': row.OFFICE_ADDRESS_LINE_2, \n",
    "        'city': row.OFFICE_ADDRESS_CITY,\n",
    "        'state': row.OFFICE_ADDRESS_STATE,\n",
    "        'zip': row.OFFICE_ADDRESS_ZIP\n",
    "    }\n",
    "    json_body['AP'].append(new_dict)"
   ]
  },
  {
   "cell_type": "code",
   "execution_count": 55,
   "metadata": {},
   "outputs": [],
   "source": [
    "test = json.dumps(json_body)"
   ]
  },
  {
   "cell_type": "code",
   "execution_count": 12,
   "metadata": {},
   "outputs": [],
   "source": [
    "key='294895e66af395f285'"
   ]
  },
  {
   "cell_type": "code",
   "execution_count": 13,
   "metadata": {},
   "outputs": [],
   "source": [
    "url = f'https://api.data247.com/v3.0?key={key}&api=AP'\n",
    "headers = {'content-type': 'application/json'}\n",
    "body = {}"
   ]
  },
  {
   "cell_type": "code",
   "execution_count": 56,
   "metadata": {},
   "outputs": [],
   "source": [
    "# first = 'larry'\n",
    "# last= 'grose'\n",
    "# address= '10819 s drake'\n",
    "# city= 'chicago'\n",
    "# state= 'il'\n",
    "# zipcode= '60655'\n",
    "# parameters = {'firstname':first, 'lastname': last,'address':address, 'city':city,'state':state,'zzip':zipcode,'out':json}\n",
    "response_2 =  requests.post(url, test, headers=headers)\n",
    "results_2 = response_2.json()"
   ]
  },
  {
   "cell_type": "code",
   "execution_count": 45,
   "metadata": {},
   "outputs": [],
   "source": [
    "dict_list = []\n",
    "for thing in results_2['response']['results']:\n",
    "    if thing['status']=='OK':\n",
    "        dicto = {\n",
    "         'phone': thing['phone'],\n",
    "         'type': thing['type'],\n",
    "         'firstname': thing['firstname'],\n",
    "         'lastname': thing['lastname'],\n",
    "         'address': thing['address'],\n",
    "         'city': thing['city'],\n",
    "         'state': thing['state'],\n",
    "         'zip': thing['zip'],\n",
    "         'addtl': thing['addtl']}\n",
    "        dict_list.append(dicto)\n",
    "    "
   ]
  },
  {
   "cell_type": "code",
   "execution_count": 58,
   "metadata": {},
   "outputs": [],
   "source": [
    "test_df = pd.DataFrame(dict_list)"
   ]
  },
  {
   "cell_type": "code",
   "execution_count": 48,
   "metadata": {},
   "outputs": [
    {
     "data": {
      "text/html": [
       "<div>\n",
       "<style scoped>\n",
       "    .dataframe tbody tr th:only-of-type {\n",
       "        vertical-align: middle;\n",
       "    }\n",
       "\n",
       "    .dataframe tbody tr th {\n",
       "        vertical-align: top;\n",
       "    }\n",
       "\n",
       "    .dataframe thead th {\n",
       "        text-align: right;\n",
       "    }\n",
       "</style>\n",
       "<table border=\"1\" class=\"dataframe\">\n",
       "  <thead>\n",
       "    <tr style=\"text-align: right;\">\n",
       "      <th></th>\n",
       "      <th>PHYSICIAN_LAST_NAME</th>\n",
       "      <th>OFFICE_TELEPHONE</th>\n",
       "      <th>OFFICE_ADDRESS_LINE_2</th>\n",
       "    </tr>\n",
       "  </thead>\n",
       "  <tbody>\n",
       "    <tr>\n",
       "      <td>0</td>\n",
       "      <td>VADER</td>\n",
       "      <td>9702492421</td>\n",
       "      <td>947 S 5TH ST</td>\n",
       "    </tr>\n",
       "    <tr>\n",
       "      <td>1</td>\n",
       "      <td>HORD</td>\n",
       "      <td>8066370344</td>\n",
       "      <td>706 E FELT ST</td>\n",
       "    </tr>\n",
       "    <tr>\n",
       "      <td>2</td>\n",
       "      <td>LUBBERS</td>\n",
       "      <td>3092773500</td>\n",
       "      <td>608 35TH AVE</td>\n",
       "    </tr>\n",
       "    <tr>\n",
       "      <td>3</td>\n",
       "      <td>QUINN</td>\n",
       "      <td>5742710700</td>\n",
       "      <td>52500 FIR RD</td>\n",
       "    </tr>\n",
       "    <tr>\n",
       "      <td>4</td>\n",
       "      <td>NEGRETE</td>\n",
       "      <td>7603527216</td>\n",
       "      <td>702 WAKE AVE</td>\n",
       "    </tr>\n",
       "    <tr>\n",
       "      <td>5</td>\n",
       "      <td>AGYEI-GYAMFI</td>\n",
       "      <td>9107395197</td>\n",
       "      <td>4348 FAYETTEVILLE RD</td>\n",
       "    </tr>\n",
       "    <tr>\n",
       "      <td>6</td>\n",
       "      <td>GREIG</td>\n",
       "      <td>8643313230</td>\n",
       "      <td>373 HALTON RD</td>\n",
       "    </tr>\n",
       "    <tr>\n",
       "      <td>7</td>\n",
       "      <td>LEE</td>\n",
       "      <td>5155746080</td>\n",
       "      <td>800 KENYON RD</td>\n",
       "    </tr>\n",
       "    <tr>\n",
       "      <td>8</td>\n",
       "      <td>THUR</td>\n",
       "      <td>9203038700</td>\n",
       "      <td>855 N WESTHAVEN DR</td>\n",
       "    </tr>\n",
       "    <tr>\n",
       "      <td>9</td>\n",
       "      <td>SAUER</td>\n",
       "      <td>5858696600</td>\n",
       "      <td>7796 VICTOR MENDON RD</td>\n",
       "    </tr>\n",
       "    <tr>\n",
       "      <td>10</td>\n",
       "      <td>CARNEY</td>\n",
       "      <td>3372897689</td>\n",
       "      <td>1214 COOLIDGE BLVD</td>\n",
       "    </tr>\n",
       "    <tr>\n",
       "      <td>11</td>\n",
       "      <td>O'BRIEN</td>\n",
       "      <td>6147223435</td>\n",
       "      <td>700 CHILDRENS DR</td>\n",
       "    </tr>\n",
       "    <tr>\n",
       "      <td>12</td>\n",
       "      <td>PATEL</td>\n",
       "      <td>5206940111</td>\n",
       "      <td>2380 N FERGUSON AVE STE 104</td>\n",
       "    </tr>\n",
       "    <tr>\n",
       "      <td>13</td>\n",
       "      <td>ROWE</td>\n",
       "      <td>4342440162</td>\n",
       "      <td>2331 SEMINOLE LN STE 102</td>\n",
       "    </tr>\n",
       "    <tr>\n",
       "      <td>14</td>\n",
       "      <td>ALLEGRA</td>\n",
       "      <td>3522737766</td>\n",
       "      <td>1600 SW ARCHER RD</td>\n",
       "    </tr>\n",
       "    <tr>\n",
       "      <td>15</td>\n",
       "      <td>GOTTLIEB</td>\n",
       "      <td>7183511212</td>\n",
       "      <td>2905 HYLAN BLVD</td>\n",
       "    </tr>\n",
       "    <tr>\n",
       "      <td>16</td>\n",
       "      <td>DEVILBISS</td>\n",
       "      <td>8087919400</td>\n",
       "      <td>2239 N SCHOOL ST</td>\n",
       "    </tr>\n",
       "    <tr>\n",
       "      <td>17</td>\n",
       "      <td>KNOLL</td>\n",
       "      <td>8569886250</td>\n",
       "      <td>100 BOWMAN DR</td>\n",
       "    </tr>\n",
       "    <tr>\n",
       "      <td>18</td>\n",
       "      <td>ROMBERGER</td>\n",
       "      <td>7175444934</td>\n",
       "      <td>555 N DUKE ST</td>\n",
       "    </tr>\n",
       "    <tr>\n",
       "      <td>19</td>\n",
       "      <td>THYES</td>\n",
       "      <td>9204574461</td>\n",
       "      <td>2414 KOHLER MEMORIAL DR</td>\n",
       "    </tr>\n",
       "  </tbody>\n",
       "</table>\n",
       "</div>"
      ],
      "text/plain": [
       "   PHYSICIAN_LAST_NAME OFFICE_TELEPHONE        OFFICE_ADDRESS_LINE_2\n",
       "0                VADER       9702492421                 947 S 5TH ST\n",
       "1                 HORD       8066370344                706 E FELT ST\n",
       "2              LUBBERS       3092773500                 608 35TH AVE\n",
       "3                QUINN       5742710700                 52500 FIR RD\n",
       "4              NEGRETE       7603527216                 702 WAKE AVE\n",
       "5         AGYEI-GYAMFI       9107395197         4348 FAYETTEVILLE RD\n",
       "6                GREIG       8643313230                373 HALTON RD\n",
       "7                  LEE       5155746080                800 KENYON RD\n",
       "8                 THUR       9203038700           855 N WESTHAVEN DR\n",
       "9                SAUER       5858696600        7796 VICTOR MENDON RD\n",
       "10              CARNEY       3372897689           1214 COOLIDGE BLVD\n",
       "11             O'BRIEN       6147223435             700 CHILDRENS DR\n",
       "12               PATEL       5206940111  2380 N FERGUSON AVE STE 104\n",
       "13                ROWE       4342440162     2331 SEMINOLE LN STE 102\n",
       "14             ALLEGRA       3522737766            1600 SW ARCHER RD\n",
       "15            GOTTLIEB       7183511212              2905 HYLAN BLVD\n",
       "16           DEVILBISS       8087919400             2239 N SCHOOL ST\n",
       "17               KNOLL       8569886250                100 BOWMAN DR\n",
       "18           ROMBERGER       7175444934                555 N DUKE ST\n",
       "19               THYES       9204574461      2414 KOHLER MEMORIAL DR"
      ]
     },
     "execution_count": 48,
     "metadata": {},
     "output_type": "execute_result"
    }
   ],
   "source": [
    "first_sample[[\"PHYSICIAN_LAST_NAME\",'OFFICE_TELEPHONE','OFFICE_ADDRESS_LINE_2']]"
   ]
  },
  {
   "cell_type": "code",
   "execution_count": 42,
   "metadata": {},
   "outputs": [
    {
     "name": "stderr",
     "output_type": "stream",
     "text": [
      "C:\\Users\\vigrose\\AppData\\Local\\Continuum\\anaconda3\\lib\\site-packages\\ipykernel_launcher.py:1: SettingWithCopyWarning: \n",
      "A value is trying to be set on a copy of a slice from a DataFrame.\n",
      "Try using .loc[row_indexer,col_indexer] = value instead\n",
      "\n",
      "See the caveats in the documentation: http://pandas.pydata.org/pandas-docs/stable/user_guide/indexing.html#returning-a-view-versus-a-copy\n",
      "  \"\"\"Entry point for launching an IPython kernel.\n"
     ]
    }
   ],
   "source": [
    "first_sample['OFFICE_TELEPHONE'] = first_sample['OFFICE_TELEPHONE'].astype('int64').astype(str)"
   ]
  },
  {
   "cell_type": "code",
   "execution_count": 44,
   "metadata": {},
   "outputs": [
    {
     "data": {
      "text/plain": [
       "{'response': {'status': 'OK',\n",
       "  'results': [{'status': 'OK',\n",
       "    'phone': '9705904243',\n",
       "    'type': 'Mobile',\n",
       "    'firstname': 'MARY',\n",
       "    'lastname': 'VADER',\n",
       "    'address': '947 S 5TH ST',\n",
       "    'city': 'MONTROSE',\n",
       "    'state': 'CO',\n",
       "    'zip': 81401,\n",
       "    'addtl': []},\n",
       "   {'status': 'D247_NO_DATA_FOUND',\n",
       "    'message': 'Data247 data service is unable to find relevant data for requested search, Please make sure you provide correct parameters.'},\n",
       "   {'status': 'OK',\n",
       "    'phone': '3092773500',\n",
       "    'type': 'Landline',\n",
       "    'firstname': 'ROGER',\n",
       "    'lastname': 'LUBBERS',\n",
       "    'address': '608 35TH AVE',\n",
       "    'city': 'MOLINE',\n",
       "    'state': 'IL',\n",
       "    'zip': '61265',\n",
       "    'addtl': []},\n",
       "   {'status': 'D247_NO_DATA_FOUND',\n",
       "    'message': 'Data247 data service is unable to find relevant data for requested search, Please make sure you provide correct parameters.'},\n",
       "   {'status': 'D247_NO_DATA_FOUND',\n",
       "    'message': 'Data247 data service is unable to find relevant data for requested search, Please make sure you provide correct parameters.'},\n",
       "   {'status': 'D247_NO_DATA_FOUND',\n",
       "    'message': 'Data247 data service is unable to find relevant data for requested search, Please make sure you provide correct parameters.'},\n",
       "   {'status': 'D247_NO_DATA_FOUND',\n",
       "    'message': 'Data247 data service is unable to find relevant data for requested search, Please make sure you provide correct parameters.'},\n",
       "   {'status': 'OK',\n",
       "    'phone': '5155746820',\n",
       "    'type': 'Landline',\n",
       "    'firstname': 'MICHAEL',\n",
       "    'lastname': 'LEE',\n",
       "    'address': '800 KENYON RD',\n",
       "    'city': 'FORT DODGE',\n",
       "    'state': 'IA',\n",
       "    'zip': '50501',\n",
       "    'addtl': []},\n",
       "   {'status': 'D247_NO_DATA_FOUND',\n",
       "    'message': 'Data247 data service is unable to find relevant data for requested search, Please make sure you provide correct parameters.'},\n",
       "   {'status': 'OK',\n",
       "    'phone': '5858696600',\n",
       "    'type': 'Landline',\n",
       "    'firstname': 'JUDE',\n",
       "    'lastname': 'SAUER',\n",
       "    'address': '7796 VICTOR MENDON RD',\n",
       "    'city': 'VICTOR',\n",
       "    'state': 'NY',\n",
       "    'zip': '14564',\n",
       "    'addtl': []},\n",
       "   {'status': 'D247_NO_DATA_FOUND',\n",
       "    'message': 'Data247 data service is unable to find relevant data for requested search, Please make sure you provide correct parameters.'},\n",
       "   {'status': 'D247_NO_DATA_FOUND',\n",
       "    'message': 'Data247 data service is unable to find relevant data for requested search, Please make sure you provide correct parameters.'},\n",
       "   {'status': 'D247_NO_DATA_FOUND',\n",
       "    'message': 'Data247 data service is unable to find relevant data for requested search, Please make sure you provide correct parameters.'},\n",
       "   {'status': 'D247_NO_DATA_FOUND',\n",
       "    'message': 'Data247 data service is unable to find relevant data for requested search, Please make sure you provide correct parameters.'},\n",
       "   {'status': 'D247_NO_DATA_FOUND',\n",
       "    'message': 'Data247 data service is unable to find relevant data for requested search, Please make sure you provide correct parameters.'},\n",
       "   {'status': 'D247_NO_DATA_FOUND',\n",
       "    'message': 'Data247 data service is unable to find relevant data for requested search, Please make sure you provide correct parameters.'},\n",
       "   {'status': 'D247_NO_DATA_FOUND',\n",
       "    'message': 'Data247 data service is unable to find relevant data for requested search, Please make sure you provide correct parameters.'},\n",
       "   {'status': 'D247_NO_DATA_FOUND',\n",
       "    'message': 'Data247 data service is unable to find relevant data for requested search, Please make sure you provide correct parameters.'},\n",
       "   {'status': 'D247_NO_DATA_FOUND',\n",
       "    'message': 'Data247 data service is unable to find relevant data for requested search, Please make sure you provide correct parameters.'},\n",
       "   {'status': 'OK',\n",
       "    'phone': '9205762052',\n",
       "    'type': 'Mobile',\n",
       "    'firstname': 'RICK',\n",
       "    'lastname': 'THYES',\n",
       "    'address': '2414 KOHLER MEMORIAL DR',\n",
       "    'city': 'SHEBOYGAN',\n",
       "    'state': 'WI',\n",
       "    'zip': 53081,\n",
       "    'addtl': []}]}}"
      ]
     },
     "execution_count": 44,
     "metadata": {},
     "output_type": "execute_result"
    }
   ],
   "source": [
    "results"
   ]
  },
  {
   "cell_type": "code",
   "execution_count": 57,
   "metadata": {},
   "outputs": [
    {
     "data": {
      "text/plain": [
       "{'response': {'status': 'D247_ACCOUNT_INACTIVE',\n",
       "  'message': 'The account is not active'}}"
      ]
     },
     "execution_count": 57,
     "metadata": {},
     "output_type": "execute_result"
    }
   ],
   "source": [
    "results_2"
   ]
  },
  {
   "cell_type": "code",
   "execution_count": 62,
   "metadata": {},
   "outputs": [],
   "source": [
    "pd.merge(test_df, first_sample, left_on=['firstname','lastname'], right_on=['PHYSICIAN_FIRST_NAME','PHYSICIAN_LAST_NAME'], how='right').to_csv('../../../Data/Results/data_247_results.csv')"
   ]
  },
  {
   "cell_type": "code",
   "execution_count": null,
   "metadata": {},
   "outputs": [],
   "source": []
  }
 ],
 "metadata": {
  "kernelspec": {
   "display_name": "Python 3",
   "language": "python",
   "name": "python3"
  },
  "language_info": {
   "codemirror_mode": {
    "name": "ipython",
    "version": 3
   },
   "file_extension": ".py",
   "mimetype": "text/x-python",
   "name": "python",
   "nbconvert_exporter": "python",
   "pygments_lexer": "ipython3",
   "version": "3.7.4"
  }
 },
 "nbformat": 4,
 "nbformat_minor": 2
}
