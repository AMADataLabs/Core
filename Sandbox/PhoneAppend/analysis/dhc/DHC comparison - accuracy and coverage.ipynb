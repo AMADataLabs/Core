{
 "cells": [
  {
   "cell_type": "code",
   "execution_count": 2,
   "metadata": {},
   "outputs": [],
   "source": [
    "import pandas as pd"
   ]
  },
  {
   "cell_type": "markdown",
   "metadata": {},
   "source": [
    "### Get source data"
   ]
  },
  {
   "cell_type": "code",
   "execution_count": 3,
   "metadata": {},
   "outputs": [],
   "source": [
    "dhc_folder = 'U:/Source Files/Data Analytics/Data-Science/Data/DHC'\n",
    "file = f'{dhc_folder}/DHC_2021-02.csv'"
   ]
  },
  {
   "cell_type": "code",
   "execution_count": 4,
   "metadata": {},
   "outputs": [],
   "source": [
    "dhc = pd.read_csv(file, dtype=str)"
   ]
  },
  {
   "cell_type": "code",
   "execution_count": 9,
   "metadata": {},
   "outputs": [],
   "source": [
    "dhc['Phone Number'] = dhc['Phone Number'].apply(lambda x: str(x).replace('.','').strip())"
   ]
  },
  {
   "cell_type": "code",
   "execution_count": 10,
   "metadata": {},
   "outputs": [
    {
     "data": {
      "text/html": [
       "<div>\n",
       "<style scoped>\n",
       "    .dataframe tbody tr th:only-of-type {\n",
       "        vertical-align: middle;\n",
       "    }\n",
       "\n",
       "    .dataframe tbody tr th {\n",
       "        vertical-align: top;\n",
       "    }\n",
       "\n",
       "    .dataframe thead th {\n",
       "        text-align: right;\n",
       "    }\n",
       "</style>\n",
       "<table border=\"1\" class=\"dataframe\">\n",
       "  <thead>\n",
       "    <tr style=\"text-align: right;\">\n",
       "      <th></th>\n",
       "      <th>NPI</th>\n",
       "      <th>ME</th>\n",
       "      <th>Additional Office Locations</th>\n",
       "      <th>Phone Number</th>\n",
       "      <th>Zip Code</th>\n",
       "      <th>State</th>\n",
       "      <th>City</th>\n",
       "      <th>Address</th>\n",
       "      <th>First Name</th>\n",
       "      <th>Physician Name</th>\n",
       "      <th>Middle Name</th>\n",
       "      <th>Primary Specialty</th>\n",
       "      <th>Primary Hospital Affiliation</th>\n",
       "      <th>Last Name</th>\n",
       "      <th>Address1</th>\n",
       "    </tr>\n",
       "  </thead>\n",
       "  <tbody>\n",
       "    <tr>\n",
       "      <th>0</th>\n",
       "      <td>1528265030</td>\n",
       "      <td>04201040791</td>\n",
       "      <td>NaN</td>\n",
       "      <td>7877580640</td>\n",
       "      <td>=\"00929\"</td>\n",
       "      <td>PR</td>\n",
       "      <td>San Juan</td>\n",
       "      <td>Anestesiologia Rcm</td>\n",
       "      <td>Elfren</td>\n",
       "      <td>Elfren Colon</td>\n",
       "      <td>A.</td>\n",
       "      <td>Anesthesiology - Anesthesiologist</td>\n",
       "      <td>NaN</td>\n",
       "      <td>Colon</td>\n",
       "      <td>Apartado 29134</td>\n",
       "    </tr>\n",
       "    <tr>\n",
       "      <th>1</th>\n",
       "      <td>1447466313</td>\n",
       "      <td>49575000010</td>\n",
       "      <td>NaN</td>\n",
       "      <td>5613701363</td>\n",
       "      <td>33428</td>\n",
       "      <td>FL</td>\n",
       "      <td>Boca Raton</td>\n",
       "      <td>23123 FL-7</td>\n",
       "      <td>Rashmi</td>\n",
       "      <td>Rashmi Kar</td>\n",
       "      <td>NaN</td>\n",
       "      <td>Obstetrics/Gynecology</td>\n",
       "      <td>Sylvester Comprehensive Cancer Center (Miami, FL)</td>\n",
       "      <td>Kar</td>\n",
       "      <td>NaN</td>\n",
       "    </tr>\n",
       "    <tr>\n",
       "      <th>2</th>\n",
       "      <td>1447468301</td>\n",
       "      <td>02106050565</td>\n",
       "      <td>Baton Rouge, LA</td>\n",
       "      <td>9853450050</td>\n",
       "      <td>70403</td>\n",
       "      <td>LA</td>\n",
       "      <td>Hammond</td>\n",
       "      <td>1615 SW Railroad Ave</td>\n",
       "      <td>Annette</td>\n",
       "      <td>Annette Rhodes</td>\n",
       "      <td>M</td>\n",
       "      <td>Ophthalmology</td>\n",
       "      <td>Cypress Pointe Hospital (Hammond, LA)</td>\n",
       "      <td>Rhodes</td>\n",
       "      <td>1615 SW Railroad Ave</td>\n",
       "    </tr>\n",
       "    <tr>\n",
       "      <th>3</th>\n",
       "      <td>1447468970</td>\n",
       "      <td>04113040195</td>\n",
       "      <td>NaN</td>\n",
       "      <td>4122624911</td>\n",
       "      <td>15108</td>\n",
       "      <td>PA</td>\n",
       "      <td>Coraopolis</td>\n",
       "      <td>980 Beaver Grade Rd</td>\n",
       "      <td>Susannah</td>\n",
       "      <td>Susannah Berke</td>\n",
       "      <td>NaN</td>\n",
       "      <td>Dermatology</td>\n",
       "      <td>Heritage Valley Beaver (Beaver, PA)</td>\n",
       "      <td>Berke</td>\n",
       "      <td>NaN</td>\n",
       "    </tr>\n",
       "    <tr>\n",
       "      <th>4</th>\n",
       "      <td>1447472956</td>\n",
       "      <td>03840060038</td>\n",
       "      <td>Murray, UT-Ogden, UT-Salt Lake Cty, UT</td>\n",
       "      <td>8015012600</td>\n",
       "      <td>84094</td>\n",
       "      <td>UT</td>\n",
       "      <td>Sandy</td>\n",
       "      <td>9660 1300 E</td>\n",
       "      <td>Spencer</td>\n",
       "      <td>Spencer Proctor</td>\n",
       "      <td>J</td>\n",
       "      <td>Emergency Medicine</td>\n",
       "      <td>Riverton Hospital (Riverton, UT)</td>\n",
       "      <td>Proctor</td>\n",
       "      <td>NaN</td>\n",
       "    </tr>\n",
       "  </tbody>\n",
       "</table>\n",
       "</div>"
      ],
      "text/plain": [
       "          NPI           ME             Additional Office Locations  \\\n",
       "0  1528265030  04201040791                                     NaN   \n",
       "1  1447466313  49575000010                                     NaN   \n",
       "2  1447468301  02106050565                         Baton Rouge, LA   \n",
       "3  1447468970  04113040195                                     NaN   \n",
       "4  1447472956  03840060038  Murray, UT-Ogden, UT-Salt Lake Cty, UT   \n",
       "\n",
       "  Phone Number  Zip Code State        City               Address First Name  \\\n",
       "0   7877580640  =\"00929\"    PR    San Juan    Anestesiologia Rcm     Elfren   \n",
       "1   5613701363     33428    FL  Boca Raton            23123 FL-7     Rashmi   \n",
       "2   9853450050     70403    LA     Hammond  1615 SW Railroad Ave    Annette   \n",
       "3   4122624911     15108    PA  Coraopolis   980 Beaver Grade Rd   Susannah   \n",
       "4   8015012600     84094    UT       Sandy           9660 1300 E    Spencer   \n",
       "\n",
       "    Physician Name Middle Name                  Primary Specialty  \\\n",
       "0     Elfren Colon          A.  Anesthesiology - Anesthesiologist   \n",
       "1       Rashmi Kar         NaN              Obstetrics/Gynecology   \n",
       "2   Annette Rhodes           M                      Ophthalmology   \n",
       "3   Susannah Berke         NaN                        Dermatology   \n",
       "4  Spencer Proctor           J                 Emergency Medicine   \n",
       "\n",
       "                        Primary Hospital Affiliation Last Name  \\\n",
       "0                                                NaN     Colon   \n",
       "1  Sylvester Comprehensive Cancer Center (Miami, FL)       Kar   \n",
       "2              Cypress Pointe Hospital (Hammond, LA)    Rhodes   \n",
       "3                Heritage Valley Beaver (Beaver, PA)     Berke   \n",
       "4                   Riverton Hospital (Riverton, UT)   Proctor   \n",
       "\n",
       "               Address1  \n",
       "0        Apartado 29134  \n",
       "1                   NaN  \n",
       "2  1615 SW Railroad Ave  \n",
       "3                   NaN  \n",
       "4                   NaN  "
      ]
     },
     "execution_count": 10,
     "metadata": {},
     "output_type": "execute_result"
    }
   ],
   "source": [
    "dhc.head()"
   ]
  },
  {
   "cell_type": "markdown",
   "metadata": {},
   "source": [
    "### Load comparison population"
   ]
  },
  {
   "cell_type": "code",
   "execution_count": 6,
   "metadata": {},
   "outputs": [],
   "source": [
    "data = pd.read_excel('C:/Users/glappe/Documents/validated_phones_and_polos_2021-03-23.xlsx')"
   ]
  },
  {
   "cell_type": "code",
   "execution_count": 7,
   "metadata": {},
   "outputs": [
    {
     "data": {
      "text/html": [
       "<div>\n",
       "<style scoped>\n",
       "    .dataframe tbody tr th:only-of-type {\n",
       "        vertical-align: middle;\n",
       "    }\n",
       "\n",
       "    .dataframe tbody tr th {\n",
       "        vertical-align: top;\n",
       "    }\n",
       "\n",
       "    .dataframe thead th {\n",
       "        text-align: right;\n",
       "    }\n",
       "</style>\n",
       "<table border=\"1\" class=\"dataframe\">\n",
       "  <thead>\n",
       "    <tr style=\"text-align: right;\">\n",
       "      <th></th>\n",
       "      <th>ME_NO</th>\n",
       "      <th>FNAME</th>\n",
       "      <th>MNAME</th>\n",
       "      <th>LNAME</th>\n",
       "      <th>OFFICE_PHONE</th>\n",
       "      <th>ADDR1</th>\n",
       "      <th>ADDR2</th>\n",
       "      <th>ADDR_CITY</th>\n",
       "      <th>ADDR_STATE</th>\n",
       "      <th>ADDR_ZIP</th>\n",
       "    </tr>\n",
       "  </thead>\n",
       "  <tbody>\n",
       "    <tr>\n",
       "      <th>0</th>\n",
       "      <td>4204880064</td>\n",
       "      <td>CARMEN</td>\n",
       "      <td>J</td>\n",
       "      <td>SIERRA LUCIANO</td>\n",
       "      <td>7872818522</td>\n",
       "      <td>NaN</td>\n",
       "      <td>400 CALLE MANUEL DOMENECH STE 311</td>\n",
       "      <td>SAN JUAN</td>\n",
       "      <td>PR</td>\n",
       "      <td>918</td>\n",
       "    </tr>\n",
       "    <tr>\n",
       "      <th>1</th>\n",
       "      <td>3545120088</td>\n",
       "      <td>ERIN</td>\n",
       "      <td>ELIZABETH</td>\n",
       "      <td>CASEY</td>\n",
       "      <td>6364417280</td>\n",
       "      <td>NaN</td>\n",
       "      <td>11 GARVEY PKWY</td>\n",
       "      <td>SAINT CHARLES</td>\n",
       "      <td>MO</td>\n",
       "      <td>63303</td>\n",
       "    </tr>\n",
       "    <tr>\n",
       "      <th>2</th>\n",
       "      <td>69007840063</td>\n",
       "      <td>OBIOHA</td>\n",
       "      <td>LOUIS</td>\n",
       "      <td>OKORO</td>\n",
       "      <td>4787466662</td>\n",
       "      <td>NaN</td>\n",
       "      <td>844 2ND ST</td>\n",
       "      <td>MACON</td>\n",
       "      <td>GA</td>\n",
       "      <td>31201</td>\n",
       "    </tr>\n",
       "    <tr>\n",
       "      <th>3</th>\n",
       "      <td>65501960025</td>\n",
       "      <td>MOUNIR</td>\n",
       "      <td>NaN</td>\n",
       "      <td>BELCADI</td>\n",
       "      <td>8056526729</td>\n",
       "      <td>NaN</td>\n",
       "      <td>200 HILLMONT AVE</td>\n",
       "      <td>VENTURA</td>\n",
       "      <td>CA</td>\n",
       "      <td>93003</td>\n",
       "    </tr>\n",
       "    <tr>\n",
       "      <th>4</th>\n",
       "      <td>802951248</td>\n",
       "      <td>GORDON</td>\n",
       "      <td>SCOTT</td>\n",
       "      <td>ABRAMS</td>\n",
       "      <td>4126411635</td>\n",
       "      <td>MAGEE-WOMENS HOSPITAL</td>\n",
       "      <td>300 HALKET ST</td>\n",
       "      <td>PITTSBURGH</td>\n",
       "      <td>PA</td>\n",
       "      <td>15213</td>\n",
       "    </tr>\n",
       "  </tbody>\n",
       "</table>\n",
       "</div>"
      ],
      "text/plain": [
       "         ME_NO   FNAME      MNAME           LNAME  OFFICE_PHONE  \\\n",
       "0   4204880064  CARMEN          J  SIERRA LUCIANO    7872818522   \n",
       "1   3545120088    ERIN  ELIZABETH           CASEY    6364417280   \n",
       "2  69007840063  OBIOHA      LOUIS           OKORO    4787466662   \n",
       "3  65501960025  MOUNIR        NaN         BELCADI    8056526729   \n",
       "4    802951248  GORDON      SCOTT          ABRAMS    4126411635   \n",
       "\n",
       "                   ADDR1                              ADDR2      ADDR_CITY  \\\n",
       "0                    NaN  400 CALLE MANUEL DOMENECH STE 311       SAN JUAN   \n",
       "1                    NaN                     11 GARVEY PKWY  SAINT CHARLES   \n",
       "2                    NaN                         844 2ND ST          MACON   \n",
       "3                    NaN                   200 HILLMONT AVE        VENTURA   \n",
       "4  MAGEE-WOMENS HOSPITAL                      300 HALKET ST     PITTSBURGH   \n",
       "\n",
       "  ADDR_STATE  ADDR_ZIP  \n",
       "0         PR       918  \n",
       "1         MO     63303  \n",
       "2         GA     31201  \n",
       "3         CA     93003  \n",
       "4         PA     15213  "
      ]
     },
     "execution_count": 7,
     "metadata": {},
     "output_type": "execute_result"
    }
   ],
   "source": [
    "data.head()"
   ]
  },
  {
   "cell_type": "code",
   "execution_count": 12,
   "metadata": {},
   "outputs": [],
   "source": [
    "data['ME_NO'] = data['ME_NO'].apply(lambda x: ('00000'+str(x))[-11:])"
   ]
  },
  {
   "cell_type": "code",
   "execution_count": 18,
   "metadata": {},
   "outputs": [],
   "source": [
    "data['OFFICE_PHONE'] = data['OFFICE_PHONE'].apply(lambda x: str(x).strip())"
   ]
  },
  {
   "cell_type": "code",
   "execution_count": 19,
   "metadata": {},
   "outputs": [
    {
     "data": {
      "text/html": [
       "<div>\n",
       "<style scoped>\n",
       "    .dataframe tbody tr th:only-of-type {\n",
       "        vertical-align: middle;\n",
       "    }\n",
       "\n",
       "    .dataframe tbody tr th {\n",
       "        vertical-align: top;\n",
       "    }\n",
       "\n",
       "    .dataframe thead th {\n",
       "        text-align: right;\n",
       "    }\n",
       "</style>\n",
       "<table border=\"1\" class=\"dataframe\">\n",
       "  <thead>\n",
       "    <tr style=\"text-align: right;\">\n",
       "      <th></th>\n",
       "      <th>ME_NO</th>\n",
       "      <th>OFFICE_PHONE</th>\n",
       "      <th>ME</th>\n",
       "      <th>Phone Number</th>\n",
       "    </tr>\n",
       "  </thead>\n",
       "  <tbody>\n",
       "    <tr>\n",
       "      <th>0</th>\n",
       "      <td>04204880064</td>\n",
       "      <td>7872818522</td>\n",
       "      <td>04204880064</td>\n",
       "      <td>7872818522</td>\n",
       "    </tr>\n",
       "    <tr>\n",
       "      <th>1</th>\n",
       "      <td>03545120088</td>\n",
       "      <td>6364417280</td>\n",
       "      <td>03545120088</td>\n",
       "      <td>6364417280</td>\n",
       "    </tr>\n",
       "    <tr>\n",
       "      <th>2</th>\n",
       "      <td>69007840063</td>\n",
       "      <td>4787466662</td>\n",
       "      <td>69007840063</td>\n",
       "      <td>4787466662</td>\n",
       "    </tr>\n",
       "    <tr>\n",
       "      <th>3</th>\n",
       "      <td>65501960025</td>\n",
       "      <td>8056526729</td>\n",
       "      <td>65501960025</td>\n",
       "      <td>nan</td>\n",
       "    </tr>\n",
       "    <tr>\n",
       "      <th>4</th>\n",
       "      <td>00802951248</td>\n",
       "      <td>4126411635</td>\n",
       "      <td>00802951248</td>\n",
       "      <td>4126411635</td>\n",
       "    </tr>\n",
       "    <tr>\n",
       "      <th>...</th>\n",
       "      <td>...</td>\n",
       "      <td>...</td>\n",
       "      <td>...</td>\n",
       "      <td>...</td>\n",
       "    </tr>\n",
       "    <tr>\n",
       "      <th>495</th>\n",
       "      <td>49529760051</td>\n",
       "      <td>5594551500</td>\n",
       "      <td>49529760051</td>\n",
       "      <td>nan</td>\n",
       "    </tr>\n",
       "    <tr>\n",
       "      <th>496</th>\n",
       "      <td>04177901658</td>\n",
       "      <td>7325367144</td>\n",
       "      <td>04177901658</td>\n",
       "      <td>7325367144</td>\n",
       "    </tr>\n",
       "    <tr>\n",
       "      <th>497</th>\n",
       "      <td>00801930336</td>\n",
       "      <td>3179639300</td>\n",
       "      <td>00801930336</td>\n",
       "      <td>3179630156</td>\n",
       "    </tr>\n",
       "    <tr>\n",
       "      <th>498</th>\n",
       "      <td>01803940262</td>\n",
       "      <td>5158759192</td>\n",
       "      <td>01803940262</td>\n",
       "      <td>5158759192</td>\n",
       "    </tr>\n",
       "    <tr>\n",
       "      <th>499</th>\n",
       "      <td>04203920119</td>\n",
       "      <td>9372810900</td>\n",
       "      <td>NaN</td>\n",
       "      <td>NaN</td>\n",
       "    </tr>\n",
       "  </tbody>\n",
       "</table>\n",
       "<p>500 rows × 4 columns</p>\n",
       "</div>"
      ],
      "text/plain": [
       "           ME_NO OFFICE_PHONE           ME Phone Number\n",
       "0    04204880064   7872818522  04204880064   7872818522\n",
       "1    03545120088   6364417280  03545120088   6364417280\n",
       "2    69007840063   4787466662  69007840063   4787466662\n",
       "3    65501960025   8056526729  65501960025          nan\n",
       "4    00802951248   4126411635  00802951248   4126411635\n",
       "..           ...          ...          ...          ...\n",
       "495  49529760051   5594551500  49529760051          nan\n",
       "496  04177901658   7325367144  04177901658   7325367144\n",
       "497  00801930336   3179639300  00801930336   3179630156\n",
       "498  01803940262   5158759192  01803940262   5158759192\n",
       "499  04203920119   9372810900          NaN          NaN\n",
       "\n",
       "[500 rows x 4 columns]"
      ]
     },
     "execution_count": 19,
     "metadata": {},
     "output_type": "execute_result"
    }
   ],
   "source": [
    "merge = data[['ME_NO', 'OFFICE_PHONE']].merge(dhc[['ME', 'Phone Number']], left_on='ME_NO', right_on='ME', how='left')\n",
    "merge"
   ]
  },
  {
   "cell_type": "code",
   "execution_count": 20,
   "metadata": {},
   "outputs": [
    {
     "data": {
      "text/plain": [
       "277"
      ]
     },
     "execution_count": 20,
     "metadata": {},
     "output_type": "execute_result"
    }
   ],
   "source": [
    "merge['match'] = merge['OFFICE_PHONE'] == merge['Phone Number']\n",
    "merge['match'].sum()"
   ]
  },
  {
   "cell_type": "markdown",
   "metadata": {},
   "source": [
    "### Coverage"
   ]
  },
  {
   "cell_type": "code",
   "execution_count": 24,
   "metadata": {},
   "outputs": [
    {
     "data": {
      "text/plain": [
       "0.948"
      ]
     },
     "execution_count": 24,
     "metadata": {},
     "output_type": "execute_result"
    }
   ],
   "source": [
    "1 - (merge['ME'].isna().sum() / len(merge))"
   ]
  },
  {
   "cell_type": "markdown",
   "metadata": {},
   "source": [
    "### Match Rate"
   ]
  },
  {
   "cell_type": "code",
   "execution_count": 26,
   "metadata": {},
   "outputs": [
    {
     "data": {
      "text/plain": [
       "474"
      ]
     },
     "execution_count": 26,
     "metadata": {},
     "output_type": "execute_result"
    }
   ],
   "source": [
    "has_phone = merge[~merge['ME'].isna()]\n",
    "len(has_phone)"
   ]
  },
  {
   "cell_type": "code",
   "execution_count": 27,
   "metadata": {},
   "outputs": [
    {
     "data": {
      "text/plain": [
       "0.5843881856540084"
      ]
     },
     "execution_count": 27,
     "metadata": {},
     "output_type": "execute_result"
    }
   ],
   "source": [
    "has_phone['match'].sum() / len(has_phone)"
   ]
  },
  {
   "cell_type": "code",
   "execution_count": 31,
   "metadata": {},
   "outputs": [],
   "source": [
    "merge[['ME', 'OFFICE_PHONE', 'Phone Number']].rename(\n",
    "    columns={'Phone Number': 'DHC_PHONE'}\n",
    ").to_csv('dhc_comparison.csv', index=False)"
   ]
  },
  {
   "cell_type": "code",
   "execution_count": null,
   "metadata": {},
   "outputs": [],
   "source": []
  }
 ],
 "metadata": {
  "kernelspec": {
   "display_name": "Python 3",
   "language": "python",
   "name": "python3"
  },
  "language_info": {
   "codemirror_mode": {
    "name": "ipython",
    "version": 3
   },
   "file_extension": ".py",
   "mimetype": "text/x-python",
   "name": "python",
   "nbconvert_exporter": "python",
   "pygments_lexer": "ipython3",
   "version": "3.7.6"
  }
 },
 "nbformat": 4,
 "nbformat_minor": 4
}
