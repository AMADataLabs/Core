{
 "cells": [
  {
   "cell_type": "code",
   "execution_count": 1,
   "metadata": {},
   "outputs": [],
   "source": [
    "import pandas as pd"
   ]
  },
  {
   "cell_type": "code",
   "execution_count": 2,
   "metadata": {},
   "outputs": [],
   "source": [
    "data = pd.read_excel(\n",
    "    'C:/Users/glappe/Documents/validated_phones_and_polos_2021-03-23.xlsx'\n",
    ")"
   ]
  },
  {
   "cell_type": "code",
   "execution_count": 3,
   "metadata": {},
   "outputs": [
    {
     "data": {
      "text/html": [
       "<div>\n",
       "<style scoped>\n",
       "    .dataframe tbody tr th:only-of-type {\n",
       "        vertical-align: middle;\n",
       "    }\n",
       "\n",
       "    .dataframe tbody tr th {\n",
       "        vertical-align: top;\n",
       "    }\n",
       "\n",
       "    .dataframe thead th {\n",
       "        text-align: right;\n",
       "    }\n",
       "</style>\n",
       "<table border=\"1\" class=\"dataframe\">\n",
       "  <thead>\n",
       "    <tr style=\"text-align: right;\">\n",
       "      <th></th>\n",
       "      <th>ME_NO</th>\n",
       "      <th>FNAME</th>\n",
       "      <th>MNAME</th>\n",
       "      <th>LNAME</th>\n",
       "      <th>OFFICE_PHONE</th>\n",
       "      <th>ADDR1</th>\n",
       "      <th>ADDR2</th>\n",
       "      <th>ADDR_CITY</th>\n",
       "      <th>ADDR_STATE</th>\n",
       "      <th>ADDR_ZIP</th>\n",
       "    </tr>\n",
       "  </thead>\n",
       "  <tbody>\n",
       "    <tr>\n",
       "      <th>0</th>\n",
       "      <td>4204880064</td>\n",
       "      <td>CARMEN</td>\n",
       "      <td>J</td>\n",
       "      <td>SIERRA LUCIANO</td>\n",
       "      <td>7872818522</td>\n",
       "      <td>NaN</td>\n",
       "      <td>400 CALLE MANUEL DOMENECH STE 311</td>\n",
       "      <td>SAN JUAN</td>\n",
       "      <td>PR</td>\n",
       "      <td>918</td>\n",
       "    </tr>\n",
       "    <tr>\n",
       "      <th>1</th>\n",
       "      <td>3545120088</td>\n",
       "      <td>ERIN</td>\n",
       "      <td>ELIZABETH</td>\n",
       "      <td>CASEY</td>\n",
       "      <td>6364417280</td>\n",
       "      <td>NaN</td>\n",
       "      <td>11 GARVEY PKWY</td>\n",
       "      <td>SAINT CHARLES</td>\n",
       "      <td>MO</td>\n",
       "      <td>63303</td>\n",
       "    </tr>\n",
       "    <tr>\n",
       "      <th>2</th>\n",
       "      <td>69007840063</td>\n",
       "      <td>OBIOHA</td>\n",
       "      <td>LOUIS</td>\n",
       "      <td>OKORO</td>\n",
       "      <td>4787466662</td>\n",
       "      <td>NaN</td>\n",
       "      <td>844 2ND ST</td>\n",
       "      <td>MACON</td>\n",
       "      <td>GA</td>\n",
       "      <td>31201</td>\n",
       "    </tr>\n",
       "    <tr>\n",
       "      <th>3</th>\n",
       "      <td>65501960025</td>\n",
       "      <td>MOUNIR</td>\n",
       "      <td>NaN</td>\n",
       "      <td>BELCADI</td>\n",
       "      <td>8056526729</td>\n",
       "      <td>NaN</td>\n",
       "      <td>200 HILLMONT AVE</td>\n",
       "      <td>VENTURA</td>\n",
       "      <td>CA</td>\n",
       "      <td>93003</td>\n",
       "    </tr>\n",
       "    <tr>\n",
       "      <th>4</th>\n",
       "      <td>802951248</td>\n",
       "      <td>GORDON</td>\n",
       "      <td>SCOTT</td>\n",
       "      <td>ABRAMS</td>\n",
       "      <td>4126411635</td>\n",
       "      <td>MAGEE-WOMENS HOSPITAL</td>\n",
       "      <td>300 HALKET ST</td>\n",
       "      <td>PITTSBURGH</td>\n",
       "      <td>PA</td>\n",
       "      <td>15213</td>\n",
       "    </tr>\n",
       "  </tbody>\n",
       "</table>\n",
       "</div>"
      ],
      "text/plain": [
       "         ME_NO   FNAME      MNAME           LNAME  OFFICE_PHONE  \\\n",
       "0   4204880064  CARMEN          J  SIERRA LUCIANO    7872818522   \n",
       "1   3545120088    ERIN  ELIZABETH           CASEY    6364417280   \n",
       "2  69007840063  OBIOHA      LOUIS           OKORO    4787466662   \n",
       "3  65501960025  MOUNIR        NaN         BELCADI    8056526729   \n",
       "4    802951248  GORDON      SCOTT          ABRAMS    4126411635   \n",
       "\n",
       "                   ADDR1                              ADDR2      ADDR_CITY  \\\n",
       "0                    NaN  400 CALLE MANUEL DOMENECH STE 311       SAN JUAN   \n",
       "1                    NaN                     11 GARVEY PKWY  SAINT CHARLES   \n",
       "2                    NaN                         844 2ND ST          MACON   \n",
       "3                    NaN                   200 HILLMONT AVE        VENTURA   \n",
       "4  MAGEE-WOMENS HOSPITAL                      300 HALKET ST     PITTSBURGH   \n",
       "\n",
       "  ADDR_STATE  ADDR_ZIP  \n",
       "0         PR       918  \n",
       "1         MO     63303  \n",
       "2         GA     31201  \n",
       "3         CA     93003  \n",
       "4         PA     15213  "
      ]
     },
     "execution_count": 3,
     "metadata": {},
     "output_type": "execute_result"
    }
   ],
   "source": [
    "data.head()"
   ]
  },
  {
   "cell_type": "markdown",
   "metadata": {},
   "source": [
    "### Get Symphony data"
   ]
  },
  {
   "cell_type": "code",
   "execution_count": 5,
   "metadata": {},
   "outputs": [],
   "source": [
    "symphony_file = 'U:/Source Files/Data Analytics/Data-Science/Data/Symphony/2021-03-26_Symphony_Data.csv'\n",
    "symphony = pd.read_csv(symphony_file, dtype=str)\n"
   ]
  },
  {
   "cell_type": "code",
   "execution_count": 6,
   "metadata": {},
   "outputs": [
    {
     "data": {
      "text/html": [
       "<div>\n",
       "<style scoped>\n",
       "    .dataframe tbody tr th:only-of-type {\n",
       "        vertical-align: middle;\n",
       "    }\n",
       "\n",
       "    .dataframe tbody tr th {\n",
       "        vertical-align: top;\n",
       "    }\n",
       "\n",
       "    .dataframe thead th {\n",
       "        text-align: right;\n",
       "    }\n",
       "</style>\n",
       "<table border=\"1\" class=\"dataframe\">\n",
       "  <thead>\n",
       "    <tr style=\"text-align: right;\">\n",
       "      <th></th>\n",
       "      <th>SYM_POLO_MAILING_LINE_1</th>\n",
       "      <th>SYM_POLO_MAILING_LINE_2</th>\n",
       "      <th>SYM_POLO_CITY</th>\n",
       "      <th>SYM_POLO_STATE</th>\n",
       "      <th>SYM_POLO_ZIP</th>\n",
       "      <th>SYM_TELEPHONE_ORIG</th>\n",
       "      <th>SYM_FAX_ORIG</th>\n",
       "      <th>SYM_ME</th>\n",
       "      <th>SYM_TELEPHONE_NUMBER</th>\n",
       "      <th>SYM_FAX_NUMBER</th>\n",
       "    </tr>\n",
       "  </thead>\n",
       "  <tbody>\n",
       "    <tr>\n",
       "      <th>0</th>\n",
       "      <td>UNIT 2</td>\n",
       "      <td>10035 HALEDON AVE</td>\n",
       "      <td>DOWNEY</td>\n",
       "      <td>CA</td>\n",
       "      <td>90240</td>\n",
       "      <td>NaN</td>\n",
       "      <td>NaN</td>\n",
       "      <td>0051762743</td>\n",
       "      <td>NaN</td>\n",
       "      <td>NaN</td>\n",
       "    </tr>\n",
       "    <tr>\n",
       "      <th>1</th>\n",
       "      <td>STE 300</td>\n",
       "      <td>3401 NORTH BLVD</td>\n",
       "      <td>BATON ROUGE</td>\n",
       "      <td>LA</td>\n",
       "      <td>70806</td>\n",
       "      <td>(225) 767-5520</td>\n",
       "      <td>(225) 767-4934</td>\n",
       "      <td>0051488011</td>\n",
       "      <td>2257675520</td>\n",
       "      <td>2257674934</td>\n",
       "    </tr>\n",
       "    <tr>\n",
       "      <th>2</th>\n",
       "      <td>NaN</td>\n",
       "      <td>1783 TROUP HWY</td>\n",
       "      <td>TYLER</td>\n",
       "      <td>TX</td>\n",
       "      <td>75701</td>\n",
       "      <td>(903) 595-2283</td>\n",
       "      <td>(903) 597-7018</td>\n",
       "      <td>0051488014</td>\n",
       "      <td>9035952283</td>\n",
       "      <td>9035977018</td>\n",
       "    </tr>\n",
       "    <tr>\n",
       "      <th>3</th>\n",
       "      <td>NaN</td>\n",
       "      <td>2121 SANTA MONICA BLVD</td>\n",
       "      <td>SANTA MONICA</td>\n",
       "      <td>CA</td>\n",
       "      <td>90404</td>\n",
       "      <td>(310) 829-8913</td>\n",
       "      <td>(310) 315-6168</td>\n",
       "      <td>0051488016</td>\n",
       "      <td>3108298913</td>\n",
       "      <td>3103156168</td>\n",
       "    </tr>\n",
       "    <tr>\n",
       "      <th>4</th>\n",
       "      <td>NaN</td>\n",
       "      <td>1500 EXPO PKWY</td>\n",
       "      <td>SACRAMENTO</td>\n",
       "      <td>CA</td>\n",
       "      <td>95815</td>\n",
       "      <td>(916) 646-8300</td>\n",
       "      <td>(916) 920-4434</td>\n",
       "      <td>0051488017</td>\n",
       "      <td>9166468300</td>\n",
       "      <td>9169204434</td>\n",
       "    </tr>\n",
       "  </tbody>\n",
       "</table>\n",
       "</div>"
      ],
      "text/plain": [
       "  SYM_POLO_MAILING_LINE_1 SYM_POLO_MAILING_LINE_2 SYM_POLO_CITY  \\\n",
       "0                  UNIT 2       10035 HALEDON AVE        DOWNEY   \n",
       "1                 STE 300         3401 NORTH BLVD   BATON ROUGE   \n",
       "2                     NaN          1783 TROUP HWY         TYLER   \n",
       "3                     NaN  2121 SANTA MONICA BLVD  SANTA MONICA   \n",
       "4                     NaN          1500 EXPO PKWY    SACRAMENTO   \n",
       "\n",
       "  SYM_POLO_STATE SYM_POLO_ZIP SYM_TELEPHONE_ORIG    SYM_FAX_ORIG      SYM_ME  \\\n",
       "0             CA        90240                NaN             NaN  0051762743   \n",
       "1             LA        70806     (225) 767-5520  (225) 767-4934  0051488011   \n",
       "2             TX        75701     (903) 595-2283  (903) 597-7018  0051488014   \n",
       "3             CA        90404     (310) 829-8913  (310) 315-6168  0051488016   \n",
       "4             CA        95815     (916) 646-8300  (916) 920-4434  0051488017   \n",
       "\n",
       "  SYM_TELEPHONE_NUMBER SYM_FAX_NUMBER  \n",
       "0                  NaN            NaN  \n",
       "1           2257675520     2257674934  \n",
       "2           9035952283     9035977018  \n",
       "3           3108298913     3103156168  \n",
       "4           9166468300     9169204434  "
      ]
     },
     "execution_count": 6,
     "metadata": {},
     "output_type": "execute_result"
    }
   ],
   "source": [
    "symphony.head()"
   ]
  },
  {
   "cell_type": "code",
   "execution_count": 9,
   "metadata": {},
   "outputs": [
    {
     "data": {
      "text/plain": [
       "array(['0051762743', '0051488011', '0051488014', ..., '5611758011',\n",
       "       '5611758013', '5611758014'], dtype=object)"
      ]
     },
     "execution_count": 9,
     "metadata": {},
     "output_type": "execute_result"
    }
   ],
   "source": [
    "symphony['SYM_ME'].values"
   ]
  },
  {
   "cell_type": "code",
   "execution_count": 7,
   "metadata": {},
   "outputs": [],
   "source": [
    "data['ME_NO'] = data['ME_NO'].apply(lambda x: ('00000'+str(x))[-11:])\n",
    "data['OFFICE_PHONE'] = data['OFFICE_PHONE'].apply(lambda x: str(x).strip())"
   ]
  },
  {
   "cell_type": "code",
   "execution_count": 10,
   "metadata": {},
   "outputs": [],
   "source": [
    "data['ME10'] = data['ME_NO'].apply(lambda x: x[:10])"
   ]
  },
  {
   "cell_type": "code",
   "execution_count": 12,
   "metadata": {},
   "outputs": [
    {
     "data": {
      "text/html": [
       "<div>\n",
       "<style scoped>\n",
       "    .dataframe tbody tr th:only-of-type {\n",
       "        vertical-align: middle;\n",
       "    }\n",
       "\n",
       "    .dataframe tbody tr th {\n",
       "        vertical-align: top;\n",
       "    }\n",
       "\n",
       "    .dataframe thead th {\n",
       "        text-align: right;\n",
       "    }\n",
       "</style>\n",
       "<table border=\"1\" class=\"dataframe\">\n",
       "  <thead>\n",
       "    <tr style=\"text-align: right;\">\n",
       "      <th></th>\n",
       "      <th>ME_NO</th>\n",
       "      <th>ME10</th>\n",
       "      <th>OFFICE_PHONE</th>\n",
       "      <th>SYM_ME</th>\n",
       "      <th>SYM_TELEPHONE_NUMBER</th>\n",
       "    </tr>\n",
       "  </thead>\n",
       "  <tbody>\n",
       "    <tr>\n",
       "      <th>0</th>\n",
       "      <td>04204880064</td>\n",
       "      <td>0420488006</td>\n",
       "      <td>7872818522</td>\n",
       "      <td>0420488006</td>\n",
       "      <td>7872818522</td>\n",
       "    </tr>\n",
       "    <tr>\n",
       "      <th>1</th>\n",
       "      <td>03545120088</td>\n",
       "      <td>0354512008</td>\n",
       "      <td>6364417280</td>\n",
       "      <td>0354512008</td>\n",
       "      <td>6364417280</td>\n",
       "    </tr>\n",
       "    <tr>\n",
       "      <th>2</th>\n",
       "      <td>69007840063</td>\n",
       "      <td>6900784006</td>\n",
       "      <td>4787466662</td>\n",
       "      <td>6900784006</td>\n",
       "      <td>4787466662</td>\n",
       "    </tr>\n",
       "    <tr>\n",
       "      <th>3</th>\n",
       "      <td>65501960025</td>\n",
       "      <td>6550196002</td>\n",
       "      <td>8056526729</td>\n",
       "      <td>6550196002</td>\n",
       "      <td>8056525755</td>\n",
       "    </tr>\n",
       "    <tr>\n",
       "      <th>4</th>\n",
       "      <td>00802951248</td>\n",
       "      <td>0080295124</td>\n",
       "      <td>4126411635</td>\n",
       "      <td>0080295124</td>\n",
       "      <td>4129498100</td>\n",
       "    </tr>\n",
       "    <tr>\n",
       "      <th>...</th>\n",
       "      <td>...</td>\n",
       "      <td>...</td>\n",
       "      <td>...</td>\n",
       "      <td>...</td>\n",
       "      <td>...</td>\n",
       "    </tr>\n",
       "    <tr>\n",
       "      <th>495</th>\n",
       "      <td>49529760051</td>\n",
       "      <td>4952976005</td>\n",
       "      <td>5594551500</td>\n",
       "      <td>4952976005</td>\n",
       "      <td>5594855000</td>\n",
       "    </tr>\n",
       "    <tr>\n",
       "      <th>496</th>\n",
       "      <td>04177901658</td>\n",
       "      <td>0417790165</td>\n",
       "      <td>7325367144</td>\n",
       "      <td>0417790165</td>\n",
       "      <td>7325367144</td>\n",
       "    </tr>\n",
       "    <tr>\n",
       "      <th>497</th>\n",
       "      <td>00801930336</td>\n",
       "      <td>0080193033</td>\n",
       "      <td>3179639300</td>\n",
       "      <td>0080193033</td>\n",
       "      <td>3177156402</td>\n",
       "    </tr>\n",
       "    <tr>\n",
       "      <th>498</th>\n",
       "      <td>01803940262</td>\n",
       "      <td>0180394026</td>\n",
       "      <td>5158759192</td>\n",
       "      <td>0180394026</td>\n",
       "      <td>5158759192</td>\n",
       "    </tr>\n",
       "    <tr>\n",
       "      <th>499</th>\n",
       "      <td>04203920119</td>\n",
       "      <td>0420392011</td>\n",
       "      <td>9372810900</td>\n",
       "      <td>0420392011</td>\n",
       "      <td>9377233312</td>\n",
       "    </tr>\n",
       "  </tbody>\n",
       "</table>\n",
       "<p>500 rows × 5 columns</p>\n",
       "</div>"
      ],
      "text/plain": [
       "           ME_NO        ME10 OFFICE_PHONE      SYM_ME SYM_TELEPHONE_NUMBER\n",
       "0    04204880064  0420488006   7872818522  0420488006           7872818522\n",
       "1    03545120088  0354512008   6364417280  0354512008           6364417280\n",
       "2    69007840063  6900784006   4787466662  6900784006           4787466662\n",
       "3    65501960025  6550196002   8056526729  6550196002           8056525755\n",
       "4    00802951248  0080295124   4126411635  0080295124           4129498100\n",
       "..           ...         ...          ...         ...                  ...\n",
       "495  49529760051  4952976005   5594551500  4952976005           5594855000\n",
       "496  04177901658  0417790165   7325367144  0417790165           7325367144\n",
       "497  00801930336  0080193033   3179639300  0080193033           3177156402\n",
       "498  01803940262  0180394026   5158759192  0180394026           5158759192\n",
       "499  04203920119  0420392011   9372810900  0420392011           9377233312\n",
       "\n",
       "[500 rows x 5 columns]"
      ]
     },
     "execution_count": 12,
     "metadata": {},
     "output_type": "execute_result"
    }
   ],
   "source": [
    "merge = data[['ME_NO', 'ME10', 'OFFICE_PHONE']].merge(\n",
    "    symphony[['SYM_ME', 'SYM_TELEPHONE_NUMBER']],\n",
    "    left_on='ME10',\n",
    "    right_on='SYM_ME',\n",
    "    how='left'\n",
    ")\n",
    "merge"
   ]
  },
  {
   "cell_type": "markdown",
   "metadata": {},
   "source": [
    "### Coverage"
   ]
  },
  {
   "cell_type": "code",
   "execution_count": 15,
   "metadata": {},
   "outputs": [
    {
     "data": {
      "text/plain": [
       "0.994"
      ]
     },
     "execution_count": 15,
     "metadata": {},
     "output_type": "execute_result"
    }
   ],
   "source": [
    "(len(data) - merge['SYM_ME'].isna().sum()) / len(data)"
   ]
  },
  {
   "cell_type": "markdown",
   "metadata": {},
   "source": [
    "### Match Rate\n",
    "\n",
    "Of the phones which this data source has, what proportion of them match what we recently validated?"
   ]
  },
  {
   "cell_type": "code",
   "execution_count": 16,
   "metadata": {},
   "outputs": [],
   "source": [
    "merge['match'] = merge['OFFICE_PHONE'] == merge['SYM_TELEPHONE_NUMBER']"
   ]
  },
  {
   "cell_type": "code",
   "execution_count": 19,
   "metadata": {},
   "outputs": [
    {
     "data": {
      "text/plain": [
       "0.644"
      ]
     },
     "execution_count": 19,
     "metadata": {},
     "output_type": "execute_result"
    }
   ],
   "source": [
    "merge['match'].sum() / len(merge)"
   ]
  },
  {
   "cell_type": "code",
   "execution_count": 20,
   "metadata": {},
   "outputs": [],
   "source": [
    "merge[\n",
    "    ['ME_NO', 'OFFICE_PHONE', 'SYM_TELEPHONE_NUMBER']\n",
    "].rename(\n",
    "    columns={'SYM_TELEPHONE_NUMBER': 'SYMPHONY_PHONE'}\n",
    ").to_csv('symphony_comparison.csv', index=False)"
   ]
  },
  {
   "cell_type": "code",
   "execution_count": null,
   "metadata": {},
   "outputs": [],
   "source": []
  }
 ],
 "metadata": {
  "kernelspec": {
   "display_name": "Python 3",
   "language": "python",
   "name": "python3"
  },
  "language_info": {
   "codemirror_mode": {
    "name": "ipython",
    "version": 3
   },
   "file_extension": ".py",
   "mimetype": "text/x-python",
   "name": "python",
   "nbconvert_exporter": "python",
   "pygments_lexer": "ipython3",
   "version": "3.7.6"
  }
 },
 "nbformat": 4,
 "nbformat_minor": 4
}
