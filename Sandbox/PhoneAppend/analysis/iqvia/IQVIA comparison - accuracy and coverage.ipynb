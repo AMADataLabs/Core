{
 "cells": [
  {
   "cell_type": "code",
   "execution_count": 1,
   "metadata": {},
   "outputs": [],
   "source": [
    "import pandas as pd"
   ]
  },
  {
   "cell_type": "markdown",
   "metadata": {},
   "source": [
    "### Load comparison data"
   ]
  },
  {
   "cell_type": "code",
   "execution_count": 2,
   "metadata": {},
   "outputs": [],
   "source": [
    "data = pd.read_excel('C:/Users/glappe/Documents/validated_phones_and_polos_2021-03-23.xlsx')"
   ]
  },
  {
   "cell_type": "code",
   "execution_count": 3,
   "metadata": {},
   "outputs": [
    {
     "data": {
      "text/html": [
       "<div>\n",
       "<style scoped>\n",
       "    .dataframe tbody tr th:only-of-type {\n",
       "        vertical-align: middle;\n",
       "    }\n",
       "\n",
       "    .dataframe tbody tr th {\n",
       "        vertical-align: top;\n",
       "    }\n",
       "\n",
       "    .dataframe thead th {\n",
       "        text-align: right;\n",
       "    }\n",
       "</style>\n",
       "<table border=\"1\" class=\"dataframe\">\n",
       "  <thead>\n",
       "    <tr style=\"text-align: right;\">\n",
       "      <th></th>\n",
       "      <th>ME_NO</th>\n",
       "      <th>FNAME</th>\n",
       "      <th>MNAME</th>\n",
       "      <th>LNAME</th>\n",
       "      <th>OFFICE_PHONE</th>\n",
       "      <th>ADDR1</th>\n",
       "      <th>ADDR2</th>\n",
       "      <th>ADDR_CITY</th>\n",
       "      <th>ADDR_STATE</th>\n",
       "      <th>ADDR_ZIP</th>\n",
       "    </tr>\n",
       "  </thead>\n",
       "  <tbody>\n",
       "    <tr>\n",
       "      <th>0</th>\n",
       "      <td>4204880064</td>\n",
       "      <td>CARMEN</td>\n",
       "      <td>J</td>\n",
       "      <td>SIERRA LUCIANO</td>\n",
       "      <td>7872818522</td>\n",
       "      <td>NaN</td>\n",
       "      <td>400 CALLE MANUEL DOMENECH STE 311</td>\n",
       "      <td>SAN JUAN</td>\n",
       "      <td>PR</td>\n",
       "      <td>918</td>\n",
       "    </tr>\n",
       "    <tr>\n",
       "      <th>1</th>\n",
       "      <td>3545120088</td>\n",
       "      <td>ERIN</td>\n",
       "      <td>ELIZABETH</td>\n",
       "      <td>CASEY</td>\n",
       "      <td>6364417280</td>\n",
       "      <td>NaN</td>\n",
       "      <td>11 GARVEY PKWY</td>\n",
       "      <td>SAINT CHARLES</td>\n",
       "      <td>MO</td>\n",
       "      <td>63303</td>\n",
       "    </tr>\n",
       "    <tr>\n",
       "      <th>2</th>\n",
       "      <td>69007840063</td>\n",
       "      <td>OBIOHA</td>\n",
       "      <td>LOUIS</td>\n",
       "      <td>OKORO</td>\n",
       "      <td>4787466662</td>\n",
       "      <td>NaN</td>\n",
       "      <td>844 2ND ST</td>\n",
       "      <td>MACON</td>\n",
       "      <td>GA</td>\n",
       "      <td>31201</td>\n",
       "    </tr>\n",
       "    <tr>\n",
       "      <th>3</th>\n",
       "      <td>65501960025</td>\n",
       "      <td>MOUNIR</td>\n",
       "      <td>NaN</td>\n",
       "      <td>BELCADI</td>\n",
       "      <td>8056526729</td>\n",
       "      <td>NaN</td>\n",
       "      <td>200 HILLMONT AVE</td>\n",
       "      <td>VENTURA</td>\n",
       "      <td>CA</td>\n",
       "      <td>93003</td>\n",
       "    </tr>\n",
       "    <tr>\n",
       "      <th>4</th>\n",
       "      <td>802951248</td>\n",
       "      <td>GORDON</td>\n",
       "      <td>SCOTT</td>\n",
       "      <td>ABRAMS</td>\n",
       "      <td>4126411635</td>\n",
       "      <td>MAGEE-WOMENS HOSPITAL</td>\n",
       "      <td>300 HALKET ST</td>\n",
       "      <td>PITTSBURGH</td>\n",
       "      <td>PA</td>\n",
       "      <td>15213</td>\n",
       "    </tr>\n",
       "  </tbody>\n",
       "</table>\n",
       "</div>"
      ],
      "text/plain": [
       "         ME_NO   FNAME      MNAME           LNAME  OFFICE_PHONE  \\\n",
       "0   4204880064  CARMEN          J  SIERRA LUCIANO    7872818522   \n",
       "1   3545120088    ERIN  ELIZABETH           CASEY    6364417280   \n",
       "2  69007840063  OBIOHA      LOUIS           OKORO    4787466662   \n",
       "3  65501960025  MOUNIR        NaN         BELCADI    8056526729   \n",
       "4    802951248  GORDON      SCOTT          ABRAMS    4126411635   \n",
       "\n",
       "                   ADDR1                              ADDR2      ADDR_CITY  \\\n",
       "0                    NaN  400 CALLE MANUEL DOMENECH STE 311       SAN JUAN   \n",
       "1                    NaN                     11 GARVEY PKWY  SAINT CHARLES   \n",
       "2                    NaN                         844 2ND ST          MACON   \n",
       "3                    NaN                   200 HILLMONT AVE        VENTURA   \n",
       "4  MAGEE-WOMENS HOSPITAL                      300 HALKET ST     PITTSBURGH   \n",
       "\n",
       "  ADDR_STATE  ADDR_ZIP  \n",
       "0         PR       918  \n",
       "1         MO     63303  \n",
       "2         GA     31201  \n",
       "3         CA     93003  \n",
       "4         PA     15213  "
      ]
     },
     "execution_count": 3,
     "metadata": {},
     "output_type": "execute_result"
    }
   ],
   "source": [
    "data.head()"
   ]
  },
  {
   "cell_type": "markdown",
   "metadata": {},
   "source": [
    "### Get IQVIA data"
   ]
  },
  {
   "cell_type": "code",
   "execution_count": 5,
   "metadata": {},
   "outputs": [],
   "source": [
    "iqvia_file = 'C:/Users/glappe/Documents/iqvia_org_info.csv'\n",
    "iqvia = pd.read_csv(iqvia_file, dtype=str)"
   ]
  },
  {
   "cell_type": "code",
   "execution_count": 6,
   "metadata": {},
   "outputs": [
    {
     "data": {
      "text/html": [
       "<div>\n",
       "<style scoped>\n",
       "    .dataframe tbody tr th:only-of-type {\n",
       "        vertical-align: middle;\n",
       "    }\n",
       "\n",
       "    .dataframe tbody tr th {\n",
       "        vertical-align: top;\n",
       "    }\n",
       "\n",
       "    .dataframe thead th {\n",
       "        text-align: right;\n",
       "    }\n",
       "</style>\n",
       "<table border=\"1\" class=\"dataframe\">\n",
       "  <thead>\n",
       "    <tr style=\"text-align: right;\">\n",
       "      <th></th>\n",
       "      <th>IMS_ORG_ID</th>\n",
       "      <th>BUSINESS_NAME</th>\n",
       "      <th>PHYSICAL_ADDR_1</th>\n",
       "      <th>PHYSICAL_ADDR_2</th>\n",
       "      <th>PHYSICAL_CITY</th>\n",
       "      <th>PHYSICAL_STATE</th>\n",
       "      <th>PHYSICAL_ZIP</th>\n",
       "      <th>PHONE</th>\n",
       "      <th>PROFESSIONAL_ID</th>\n",
       "      <th>LAST_NAME</th>\n",
       "      <th>ME</th>\n",
       "    </tr>\n",
       "  </thead>\n",
       "  <tbody>\n",
       "    <tr>\n",
       "      <th>0</th>\n",
       "      <td>INS00646252</td>\n",
       "      <td>WATCHI, RALPH, OFFICE</td>\n",
       "      <td>1300 N VERMONT AVE</td>\n",
       "      <td>STE 901</td>\n",
       "      <td>LOS ANGELES</td>\n",
       "      <td>CA</td>\n",
       "      <td>90027-6094</td>\n",
       "      <td>3239129221</td>\n",
       "      <td>830451</td>\n",
       "      <td>WATCHI</td>\n",
       "      <td>1650183012</td>\n",
       "    </tr>\n",
       "    <tr>\n",
       "      <th>1</th>\n",
       "      <td>INS00636943</td>\n",
       "      <td>KHASAK DERMATOLOGY</td>\n",
       "      <td>4915 BROADWAY</td>\n",
       "      <td>FRNT 1</td>\n",
       "      <td>NEW YORK</td>\n",
       "      <td>NY</td>\n",
       "      <td>10034-3119</td>\n",
       "      <td>2125678184</td>\n",
       "      <td>923401</td>\n",
       "      <td>KHASAK</td>\n",
       "      <td>0351992056</td>\n",
       "    </tr>\n",
       "    <tr>\n",
       "      <th>2</th>\n",
       "      <td>INS00636951</td>\n",
       "      <td>WINSTON SALEM DERMATOLOGY</td>\n",
       "      <td>1400 WESTGATE CENTER DR</td>\n",
       "      <td>STE 200</td>\n",
       "      <td>WINSTON SALEM</td>\n",
       "      <td>NC</td>\n",
       "      <td>27103-3104</td>\n",
       "      <td>3367748636</td>\n",
       "      <td>259973</td>\n",
       "      <td>YUENGEL</td>\n",
       "      <td>0330684108</td>\n",
       "    </tr>\n",
       "    <tr>\n",
       "      <th>3</th>\n",
       "      <td>INS00636994</td>\n",
       "      <td>CATHERINE BOMBERGER, MD, LLC</td>\n",
       "      <td>310 HOSPITAL DR</td>\n",
       "      <td>BLDG B</td>\n",
       "      <td>MACON</td>\n",
       "      <td>GA</td>\n",
       "      <td>31217-3895</td>\n",
       "      <td>4784645000</td>\n",
       "      <td>4629926</td>\n",
       "      <td>DE GUZMAN</td>\n",
       "      <td>7482103001</td>\n",
       "    </tr>\n",
       "    <tr>\n",
       "      <th>4</th>\n",
       "      <td>INS00636994</td>\n",
       "      <td>CATHERINE BOMBERGER, MD, LLC</td>\n",
       "      <td>310 HOSPITAL DR</td>\n",
       "      <td>BLDG B</td>\n",
       "      <td>MACON</td>\n",
       "      <td>GA</td>\n",
       "      <td>31217-3895</td>\n",
       "      <td>4784645000</td>\n",
       "      <td>425893</td>\n",
       "      <td>BOMBERGER</td>\n",
       "      <td>0010693011</td>\n",
       "    </tr>\n",
       "    <tr>\n",
       "      <th>...</th>\n",
       "      <td>...</td>\n",
       "      <td>...</td>\n",
       "      <td>...</td>\n",
       "      <td>...</td>\n",
       "      <td>...</td>\n",
       "      <td>...</td>\n",
       "      <td>...</td>\n",
       "      <td>...</td>\n",
       "      <td>...</td>\n",
       "      <td>...</td>\n",
       "      <td>...</td>\n",
       "    </tr>\n",
       "    <tr>\n",
       "      <th>2756044</th>\n",
       "      <td>INS00593716</td>\n",
       "      <td>HORIZON EYE CARE PINEVILLE</td>\n",
       "      <td>10520 PARK RD</td>\n",
       "      <td>NAN</td>\n",
       "      <td>CHARLOTTE</td>\n",
       "      <td>NC</td>\n",
       "      <td>28210-8487</td>\n",
       "      <td>7045416127</td>\n",
       "      <td>5393128</td>\n",
       "      <td>RYDER</td>\n",
       "      <td>0411511143</td>\n",
       "    </tr>\n",
       "    <tr>\n",
       "      <th>2756045</th>\n",
       "      <td>INS00594183</td>\n",
       "      <td>SERRANO OBGYN</td>\n",
       "      <td>20726 STONE OAK PKWY</td>\n",
       "      <td>UNIT 101</td>\n",
       "      <td>SAN ANTONIO</td>\n",
       "      <td>TX</td>\n",
       "      <td>78258-7552</td>\n",
       "      <td>2105457700</td>\n",
       "      <td>335209</td>\n",
       "      <td>SERRANO</td>\n",
       "      <td>0481390159</td>\n",
       "    </tr>\n",
       "    <tr>\n",
       "      <th>2756046</th>\n",
       "      <td>INS00594265</td>\n",
       "      <td>DAVITA MEDICAL GROUP NORTHEAST</td>\n",
       "      <td>8950 DR MARTIN LUTHER KING JR ST N</td>\n",
       "      <td>STE 180</td>\n",
       "      <td>SAINT PETERSBURG</td>\n",
       "      <td>FL</td>\n",
       "      <td>33702-3001</td>\n",
       "      <td>7275768900</td>\n",
       "      <td>3940767</td>\n",
       "      <td>BRENNAN-PRESCOD</td>\n",
       "      <td>4220106364</td>\n",
       "    </tr>\n",
       "    <tr>\n",
       "      <th>2756047</th>\n",
       "      <td>INS00594265</td>\n",
       "      <td>DAVITA MEDICAL GROUP NORTHEAST</td>\n",
       "      <td>8950 DR MARTIN LUTHER KING JR ST N</td>\n",
       "      <td>STE 180</td>\n",
       "      <td>SAINT PETERSBURG</td>\n",
       "      <td>FL</td>\n",
       "      <td>33702-3001</td>\n",
       "      <td>7275768900</td>\n",
       "      <td>6828438</td>\n",
       "      <td>OO</td>\n",
       "      <td>2090198026</td>\n",
       "    </tr>\n",
       "    <tr>\n",
       "      <th>2756048</th>\n",
       "      <td>INS00594320</td>\n",
       "      <td>FRY ROAD PEDIATRICS, PA</td>\n",
       "      <td>21372 PROVINCIAL BLVD</td>\n",
       "      <td>NAN</td>\n",
       "      <td>KATY</td>\n",
       "      <td>TX</td>\n",
       "      <td>77450-7580</td>\n",
       "      <td>2815789766</td>\n",
       "      <td>825296</td>\n",
       "      <td>UNNISSA</td>\n",
       "      <td>4952181025</td>\n",
       "    </tr>\n",
       "  </tbody>\n",
       "</table>\n",
       "<p>2756049 rows × 11 columns</p>\n",
       "</div>"
      ],
      "text/plain": [
       "          IMS_ORG_ID                   BUSINESS_NAME  \\\n",
       "0        INS00646252           WATCHI, RALPH, OFFICE   \n",
       "1        INS00636943              KHASAK DERMATOLOGY   \n",
       "2        INS00636951       WINSTON SALEM DERMATOLOGY   \n",
       "3        INS00636994    CATHERINE BOMBERGER, MD, LLC   \n",
       "4        INS00636994    CATHERINE BOMBERGER, MD, LLC   \n",
       "...              ...                             ...   \n",
       "2756044  INS00593716      HORIZON EYE CARE PINEVILLE   \n",
       "2756045  INS00594183                   SERRANO OBGYN   \n",
       "2756046  INS00594265  DAVITA MEDICAL GROUP NORTHEAST   \n",
       "2756047  INS00594265  DAVITA MEDICAL GROUP NORTHEAST   \n",
       "2756048  INS00594320         FRY ROAD PEDIATRICS, PA   \n",
       "\n",
       "                            PHYSICAL_ADDR_1 PHYSICAL_ADDR_2     PHYSICAL_CITY  \\\n",
       "0                        1300 N VERMONT AVE         STE 901       LOS ANGELES   \n",
       "1                             4915 BROADWAY          FRNT 1          NEW YORK   \n",
       "2                   1400 WESTGATE CENTER DR         STE 200     WINSTON SALEM   \n",
       "3                           310 HOSPITAL DR          BLDG B             MACON   \n",
       "4                           310 HOSPITAL DR          BLDG B             MACON   \n",
       "...                                     ...             ...               ...   \n",
       "2756044                       10520 PARK RD             NAN         CHARLOTTE   \n",
       "2756045                20726 STONE OAK PKWY        UNIT 101       SAN ANTONIO   \n",
       "2756046  8950 DR MARTIN LUTHER KING JR ST N         STE 180  SAINT PETERSBURG   \n",
       "2756047  8950 DR MARTIN LUTHER KING JR ST N         STE 180  SAINT PETERSBURG   \n",
       "2756048               21372 PROVINCIAL BLVD             NAN              KATY   \n",
       "\n",
       "        PHYSICAL_STATE PHYSICAL_ZIP       PHONE PROFESSIONAL_ID  \\\n",
       "0                   CA   90027-6094  3239129221          830451   \n",
       "1                   NY   10034-3119  2125678184          923401   \n",
       "2                   NC   27103-3104  3367748636          259973   \n",
       "3                   GA   31217-3895  4784645000         4629926   \n",
       "4                   GA   31217-3895  4784645000          425893   \n",
       "...                ...          ...         ...             ...   \n",
       "2756044             NC   28210-8487  7045416127         5393128   \n",
       "2756045             TX   78258-7552  2105457700          335209   \n",
       "2756046             FL   33702-3001  7275768900         3940767   \n",
       "2756047             FL   33702-3001  7275768900         6828438   \n",
       "2756048             TX   77450-7580  2815789766          825296   \n",
       "\n",
       "               LAST_NAME          ME  \n",
       "0                 WATCHI  1650183012  \n",
       "1                 KHASAK  0351992056  \n",
       "2                YUENGEL  0330684108  \n",
       "3              DE GUZMAN  7482103001  \n",
       "4              BOMBERGER  0010693011  \n",
       "...                  ...         ...  \n",
       "2756044            RYDER  0411511143  \n",
       "2756045          SERRANO  0481390159  \n",
       "2756046  BRENNAN-PRESCOD  4220106364  \n",
       "2756047               OO  2090198026  \n",
       "2756048          UNNISSA  4952181025  \n",
       "\n",
       "[2756049 rows x 11 columns]"
      ]
     },
     "execution_count": 6,
     "metadata": {},
     "output_type": "execute_result"
    }
   ],
   "source": [
    "for c in iqvia.columns:\n",
    "    iqvia[c] = iqvia[c].astype(str).apply(lambda x: x.upper().strip())\n",
    "iqvia"
   ]
  },
  {
   "cell_type": "code",
   "execution_count": 35,
   "metadata": {},
   "outputs": [
    {
     "data": {
      "text/plain": [
       "array(['WATCHI', 'KHASAK', 'YUENGEL', ..., 'BRENNAN-PRESCOD', 'OO',\n",
       "       'UNNISSA'], dtype=object)"
      ]
     },
     "execution_count": 35,
     "metadata": {},
     "output_type": "execute_result"
    }
   ],
   "source": [
    "iqvia['LAST_NAME'].values"
   ]
  },
  {
   "cell_type": "code",
   "execution_count": 7,
   "metadata": {},
   "outputs": [],
   "source": [
    "iqvia['ME10'] = iqvia['ME']\n",
    "del iqvia['ME']"
   ]
  },
  {
   "cell_type": "code",
   "execution_count": 9,
   "metadata": {},
   "outputs": [],
   "source": [
    "data['ME_NO'] = data['ME_NO'].apply(lambda x: ('000'+str(x))[-11:])"
   ]
  },
  {
   "cell_type": "code",
   "execution_count": 10,
   "metadata": {},
   "outputs": [],
   "source": [
    "data['ME10'] = data['ME_NO'].apply(lambda x: x[:10])"
   ]
  },
  {
   "cell_type": "code",
   "execution_count": 29,
   "metadata": {},
   "outputs": [],
   "source": [
    "data['OFFICE_PHONE'] = data['OFFICE_PHONE'].astype(str)"
   ]
  },
  {
   "cell_type": "code",
   "execution_count": 38,
   "metadata": {},
   "outputs": [
    {
     "data": {
      "text/html": [
       "<div>\n",
       "<style scoped>\n",
       "    .dataframe tbody tr th:only-of-type {\n",
       "        vertical-align: middle;\n",
       "    }\n",
       "\n",
       "    .dataframe tbody tr th {\n",
       "        vertical-align: top;\n",
       "    }\n",
       "\n",
       "    .dataframe thead th {\n",
       "        text-align: right;\n",
       "    }\n",
       "</style>\n",
       "<table border=\"1\" class=\"dataframe\">\n",
       "  <thead>\n",
       "    <tr style=\"text-align: right;\">\n",
       "      <th></th>\n",
       "      <th>ME_NO</th>\n",
       "      <th>OFFICE_PHONE</th>\n",
       "      <th>PHONE</th>\n",
       "    </tr>\n",
       "  </thead>\n",
       "  <tbody>\n",
       "    <tr>\n",
       "      <th>0</th>\n",
       "      <td>04204880064</td>\n",
       "      <td>7872818522</td>\n",
       "      <td>7877588383</td>\n",
       "    </tr>\n",
       "    <tr>\n",
       "      <th>1</th>\n",
       "      <td>03545120088</td>\n",
       "      <td>6364417280</td>\n",
       "      <td>6369475000</td>\n",
       "    </tr>\n",
       "    <tr>\n",
       "      <th>2</th>\n",
       "      <td>03545120088</td>\n",
       "      <td>6364417280</td>\n",
       "      <td>6364417280</td>\n",
       "    </tr>\n",
       "    <tr>\n",
       "      <th>3</th>\n",
       "      <td>03545120088</td>\n",
       "      <td>6364417280</td>\n",
       "      <td>3148370405</td>\n",
       "    </tr>\n",
       "    <tr>\n",
       "      <th>4</th>\n",
       "      <td>69007840063</td>\n",
       "      <td>4787466662</td>\n",
       "      <td>4786331000</td>\n",
       "    </tr>\n",
       "    <tr>\n",
       "      <th>...</th>\n",
       "      <td>...</td>\n",
       "      <td>...</td>\n",
       "      <td>...</td>\n",
       "    </tr>\n",
       "    <tr>\n",
       "      <th>1530</th>\n",
       "      <td>00801930336</td>\n",
       "      <td>3179639300</td>\n",
       "      <td>3176882000</td>\n",
       "    </tr>\n",
       "    <tr>\n",
       "      <th>1531</th>\n",
       "      <td>01803940262</td>\n",
       "      <td>5158759192</td>\n",
       "      <td>NaN</td>\n",
       "    </tr>\n",
       "    <tr>\n",
       "      <th>1532</th>\n",
       "      <td>04203920119</td>\n",
       "      <td>9372810900</td>\n",
       "      <td>9375344600</td>\n",
       "    </tr>\n",
       "    <tr>\n",
       "      <th>1533</th>\n",
       "      <td>04203920119</td>\n",
       "      <td>9372810900</td>\n",
       "      <td>9372263200</td>\n",
       "    </tr>\n",
       "    <tr>\n",
       "      <th>1534</th>\n",
       "      <td>04203920119</td>\n",
       "      <td>9372810900</td>\n",
       "      <td>9374982311</td>\n",
       "    </tr>\n",
       "  </tbody>\n",
       "</table>\n",
       "<p>1535 rows × 3 columns</p>\n",
       "</div>"
      ],
      "text/plain": [
       "            ME_NO OFFICE_PHONE       PHONE\n",
       "0     04204880064   7872818522  7877588383\n",
       "1     03545120088   6364417280  6369475000\n",
       "2     03545120088   6364417280  6364417280\n",
       "3     03545120088   6364417280  3148370405\n",
       "4     69007840063   4787466662  4786331000\n",
       "...           ...          ...         ...\n",
       "1530  00801930336   3179639300  3176882000\n",
       "1531  01803940262   5158759192         NaN\n",
       "1532  04203920119   9372810900  9375344600\n",
       "1533  04203920119   9372810900  9372263200\n",
       "1534  04203920119   9372810900  9374982311\n",
       "\n",
       "[1535 rows x 3 columns]"
      ]
     },
     "execution_count": 38,
     "metadata": {},
     "output_type": "execute_result"
    }
   ],
   "source": [
    "merge = data[\n",
    "    ['ME_NO', 'ME10', 'LNAME', 'OFFICE_PHONE']\n",
    "].merge(\n",
    "    iqvia[\n",
    "        ['ME10', 'LAST_NAME', 'PHONE']], \n",
    "    left_on=['ME10', 'LNAME'],\n",
    "    right_on=['ME10', 'LAST_NAME'],\n",
    "    how='left'\n",
    ")[['ME_NO', 'OFFICE_PHONE', 'PHONE']]\n",
    "merge"
   ]
  },
  {
   "cell_type": "markdown",
   "metadata": {},
   "source": [
    "### Coverage"
   ]
  },
  {
   "cell_type": "code",
   "execution_count": 39,
   "metadata": {},
   "outputs": [
    {
     "data": {
      "text/plain": [
       "1000832"
      ]
     },
     "execution_count": 39,
     "metadata": {},
     "output_type": "execute_result"
    }
   ],
   "source": [
    "iqvia_has_phone = iqvia[\n",
    "    ~iqvia['PHONE'].isna()\n",
    "]['ME10'].drop_duplicates()\n",
    "len(iqvia_has_phone)"
   ]
  },
  {
   "cell_type": "code",
   "execution_count": 41,
   "metadata": {},
   "outputs": [
    {
     "data": {
      "text/plain": [
       "483"
      ]
     },
     "execution_count": 41,
     "metadata": {},
     "output_type": "execute_result"
    }
   ],
   "source": [
    "coverage = data['ME10'].isin(iqvia_has_phone).sum()\n",
    "coverage"
   ]
  },
  {
   "cell_type": "code",
   "execution_count": 42,
   "metadata": {},
   "outputs": [
    {
     "data": {
      "text/plain": [
       "0.966"
      ]
     },
     "execution_count": 42,
     "metadata": {},
     "output_type": "execute_result"
    }
   ],
   "source": [
    "coverage / len(data)"
   ]
  },
  {
   "cell_type": "markdown",
   "metadata": {},
   "source": [
    "### Match Rate"
   ]
  },
  {
   "cell_type": "code",
   "execution_count": 43,
   "metadata": {},
   "outputs": [],
   "source": [
    "me_phones_mf = data[['ME_NO', 'OFFICE_PHONE']].drop_duplicates()\n",
    "me_phones_iqvia = merge[['ME_NO', 'PHONE']].drop_duplicates()"
   ]
  },
  {
   "cell_type": "code",
   "execution_count": 45,
   "metadata": {},
   "outputs": [
    {
     "data": {
      "text/plain": [
       "297"
      ]
     },
     "execution_count": 45,
     "metadata": {},
     "output_type": "execute_result"
    }
   ],
   "source": [
    "matches = me_phones_mf.set_index(['ME_NO', 'OFFICE_PHONE']).index.isin(\n",
    "    me_phones_iqvia.set_index(['ME_NO', 'PHONE']).index\n",
    ").sum()\n",
    "\n",
    "matches"
   ]
  },
  {
   "cell_type": "code",
   "execution_count": 46,
   "metadata": {
    "scrolled": false
   },
   "outputs": [
    {
     "data": {
      "text/plain": [
       "0.594"
      ]
     },
     "execution_count": 46,
     "metadata": {},
     "output_type": "execute_result"
    }
   ],
   "source": [
    "matches / len(data)"
   ]
  },
  {
   "cell_type": "code",
   "execution_count": 48,
   "metadata": {},
   "outputs": [],
   "source": [
    "merge.rename(columns={'PHONE': 'IQVIA_PHONE'}).to_csv('iqvia_comparison.csv', index=False)"
   ]
  },
  {
   "cell_type": "code",
   "execution_count": null,
   "metadata": {},
   "outputs": [],
   "source": []
  }
 ],
 "metadata": {
  "kernelspec": {
   "display_name": "Python 3",
   "language": "python",
   "name": "python3"
  },
  "language_info": {
   "codemirror_mode": {
    "name": "ipython",
    "version": 3
   },
   "file_extension": ".py",
   "mimetype": "text/x-python",
   "name": "python",
   "nbconvert_exporter": "python",
   "pygments_lexer": "ipython3",
   "version": "3.7.6"
  }
 },
 "nbformat": 4,
 "nbformat_minor": 4
}
