{
 "cells": [
  {
   "cell_type": "code",
   "execution_count": 1,
   "metadata": {},
   "outputs": [],
   "source": [
    "#Import Dependencies\n",
    "import pandas as pd\n",
    "from datetime import date"
   ]
  },
  {
   "cell_type": "code",
   "execution_count": 2,
   "metadata": {},
   "outputs": [],
   "source": [
    "#Set today\n",
    "today = str(date.today())"
   ]
  },
  {
   "cell_type": "code",
   "execution_count": 3,
   "metadata": {},
   "outputs": [],
   "source": [
    "#Set file locations\n",
    "npi_data_location = '../../../Data/NPI'\n",
    "npi_file = 'npidata_pfile_20050523-20200209.csv'"
   ]
  },
  {
   "cell_type": "code",
   "execution_count": 4,
   "metadata": {},
   "outputs": [],
   "source": [
    "#Create empty dataframe\n",
    "group_df = pd.DataFrame([{}])"
   ]
  },
  {
   "cell_type": "code",
   "execution_count": null,
   "metadata": {},
   "outputs": [],
   "source": [
    "#Chunk csv and filter by entity type code\n",
    "count =0\n",
    "for gm_chunk in pd.read_csv(npi_file_location + npi_file, engine='python',encoding='utf-8', error_bad_lines=False,chunksize=10000):\n",
    "    tbl=gm_chunk[gm_chunk['Entity Type Code']==2]\n",
    "    group_df = pd.concat([group_df,tbl])\n",
    "    count += 1\n",
    "    print(f'{count} chunks down')\n",
    "    print(f'{len(check)} total rows')"
   ]
  },
  {
   "cell_type": "code",
   "execution_count": null,
   "metadata": {},
   "outputs": [],
   "source": [
    "#Rename columns\n",
    "group_df.columns = [c.upper() for c in group_df.columns.values]\n",
    "group_df.columns = [c.replace(' ','_') for c in group_df.columns.values]\n",
    "group_df = check.rename(columns = {'PROVIDER_ORGANIZATION_NAME_LEGAL_BUSINESS_NAME':'PROVIDER_ORGANIZATION_NAME__LEGAL_BUSINESS_NAME'})"
   ]
  },
  {
   "cell_type": "code",
   "execution_count": null,
   "metadata": {},
   "outputs": [],
   "source": [
    "#Save to csv\n",
    "group_df[0:1000000].to_csv(f'../../../Data/NPI/Group_Entities_{today}.csv', index=False)\n",
    "group_df[1000000:].to_csv(f'../../../Data/NPI/Group_Entities{today}.csv', index=False)"
   ]
  }
 ],
 "metadata": {
  "kernelspec": {
   "display_name": "Python 3",
   "language": "python",
   "name": "python3"
  },
  "language_info": {
   "codemirror_mode": {
    "name": "ipython",
    "version": 3
   },
   "file_extension": ".py",
   "mimetype": "text/x-python",
   "name": "python",
   "nbconvert_exporter": "python",
   "pygments_lexer": "ipython3",
   "version": "3.7.4"
  }
 },
 "nbformat": 4,
 "nbformat_minor": 2
}
